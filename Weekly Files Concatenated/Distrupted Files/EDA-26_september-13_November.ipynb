{
 "cells": [
  {
   "cell_type": "code",
   "execution_count": 1,
   "id": "81ac062a-82c7-49ee-b287-c219641155b6",
   "metadata": {},
   "outputs": [],
   "source": [
    "import pandas as pd\n",
    "import numpy as np\n",
    "import os\n",
    "from datetime import datetime"
   ]
  },
  {
   "cell_type": "code",
   "execution_count": 2,
   "id": "966fb6a3-3166-444a-8246-b2111900c95a",
   "metadata": {},
   "outputs": [],
   "source": [
    "path='Files used in current analysis/Linkedin_Job_Details_26-Sep-2023-to-13-Nov-2023_12848-jobs_558-pages.csv'"
   ]
  },
  {
   "cell_type": "code",
   "execution_count": 3,
   "id": "ea083d0e-c886-4620-a6b3-778654b7f58b",
   "metadata": {},
   "outputs": [],
   "source": [
    "df=pd.read_csv(path)"
   ]
  },
  {
   "cell_type": "code",
   "execution_count": 4,
   "id": "1869871d-7c0a-40b8-abb9-8748537036a1",
   "metadata": {},
   "outputs": [
    {
     "data": {
      "text/html": [
       "<div>\n",
       "<style scoped>\n",
       "    .dataframe tbody tr th:only-of-type {\n",
       "        vertical-align: middle;\n",
       "    }\n",
       "\n",
       "    .dataframe tbody tr th {\n",
       "        vertical-align: top;\n",
       "    }\n",
       "\n",
       "    .dataframe thead th {\n",
       "        text-align: right;\n",
       "    }\n",
       "</style>\n",
       "<table border=\"1\" class=\"dataframe\">\n",
       "  <thead>\n",
       "    <tr style=\"text-align: right;\">\n",
       "      <th></th>\n",
       "      <th>Job Title</th>\n",
       "      <th>Job Info</th>\n",
       "      <th>Job Type</th>\n",
       "      <th>Job Link</th>\n",
       "      <th>employees</th>\n",
       "      <th>Job ID</th>\n",
       "      <th>Job Desception</th>\n",
       "      <th>Company Info</th>\n",
       "    </tr>\n",
       "  </thead>\n",
       "  <tbody>\n",
       "    <tr>\n",
       "      <th>0</th>\n",
       "      <td>LinkedIn Data Extractor</td>\n",
       "      <td>EcomFleet · Pakistan (Remote)  \\n1 week ago</td>\n",
       "      <td>Full-time</td>\n",
       "      <td>https://www.linkedin.com/jobs/view/3727054368</td>\n",
       "      <td>11-50 employees</td>\n",
       "      <td>NaN</td>\n",
       "      <td>NaN</td>\n",
       "      <td>NaN</td>\n",
       "    </tr>\n",
       "    <tr>\n",
       "      <th>1</th>\n",
       "      <td>It Management Intern</td>\n",
       "      <td>Digicon Valley · Lahore, Punjab, Pakistan (On-...</td>\n",
       "      <td>Full-time</td>\n",
       "      <td>https://www.linkedin.com/jobs/view/3723395858</td>\n",
       "      <td>11-50 employees</td>\n",
       "      <td>NaN</td>\n",
       "      <td>NaN</td>\n",
       "      <td>NaN</td>\n",
       "    </tr>\n",
       "    <tr>\n",
       "      <th>2</th>\n",
       "      <td>SQL Database Developer</td>\n",
       "      <td>Murkez Technologies · Lahore, Punjab, Pakistan...</td>\n",
       "      <td>Full-time</td>\n",
       "      <td>https://www.linkedin.com/jobs/view/3727034665</td>\n",
       "      <td>51-200 employees</td>\n",
       "      <td>NaN</td>\n",
       "      <td>NaN</td>\n",
       "      <td>NaN</td>\n",
       "    </tr>\n",
       "    <tr>\n",
       "      <th>3</th>\n",
       "      <td>Business Intelligence Developer</td>\n",
       "      <td>DevNatives · Islamabad, Islāmābād, Pakistan (H...</td>\n",
       "      <td>Full-time</td>\n",
       "      <td>https://www.linkedin.com/jobs/view/3727029273</td>\n",
       "      <td>11-50 employees</td>\n",
       "      <td>NaN</td>\n",
       "      <td>NaN</td>\n",
       "      <td>NaN</td>\n",
       "    </tr>\n",
       "    <tr>\n",
       "      <th>4</th>\n",
       "      <td>Web Developer - Internship</td>\n",
       "      <td>ItCreaters · Lahore, Punjab, Pakistan (On-site...</td>\n",
       "      <td>Full-time</td>\n",
       "      <td>https://www.linkedin.com/jobs/view/3727034696</td>\n",
       "      <td>Mobeen Naqvi is hiring for this job</td>\n",
       "      <td>NaN</td>\n",
       "      <td>NaN</td>\n",
       "      <td>NaN</td>\n",
       "    </tr>\n",
       "    <tr>\n",
       "      <th>...</th>\n",
       "      <td>...</td>\n",
       "      <td>...</td>\n",
       "      <td>...</td>\n",
       "      <td>...</td>\n",
       "      <td>...</td>\n",
       "      <td>...</td>\n",
       "      <td>...</td>\n",
       "      <td>...</td>\n",
       "    </tr>\n",
       "    <tr>\n",
       "      <th>12843</th>\n",
       "      <td>Sr. Software Engineer - UI</td>\n",
       "      <td>SOFTOO · Islamabad, Islāmābād, Pakistan  \\n3 w...</td>\n",
       "      <td>Hybrid\\n\\n \\nFull-time</td>\n",
       "      <td>https://www.linkedin.com/jobs/view/3758268626</td>\n",
       "      <td>201-500 employees</td>\n",
       "      <td>NaN</td>\n",
       "      <td>NaN</td>\n",
       "      <td>NaN</td>\n",
       "    </tr>\n",
       "    <tr>\n",
       "      <th>12844</th>\n",
       "      <td>Customer Sales Representative</td>\n",
       "      <td>V Packaging · Lahore, Punjab, Pakistan  \\n3 we...</td>\n",
       "      <td>On-site\\n\\n \\nFull-time</td>\n",
       "      <td>https://www.linkedin.com/jobs/view/3753070889</td>\n",
       "      <td>See how you compare to 10 applicants. Reactiva...</td>\n",
       "      <td>NaN</td>\n",
       "      <td>NaN</td>\n",
       "      <td>NaN</td>\n",
       "    </tr>\n",
       "    <tr>\n",
       "      <th>12845</th>\n",
       "      <td>Telesales Agent or CSR</td>\n",
       "      <td>Jobly Staffing Ltd · Lahore, Punjab, Pakistan ...</td>\n",
       "      <td>On-site\\n\\n \\nFull-time</td>\n",
       "      <td>https://www.linkedin.com/jobs/view/3757800035</td>\n",
       "      <td>11-50 employees</td>\n",
       "      <td>NaN</td>\n",
       "      <td>NaN</td>\n",
       "      <td>NaN</td>\n",
       "    </tr>\n",
       "    <tr>\n",
       "      <th>12846</th>\n",
       "      <td>Sales Executive</td>\n",
       "      <td>Dost · Lahore, Punjab, Pakistan  \\n3 weeks ago</td>\n",
       "      <td>On-site\\n\\n \\nFull-time</td>\n",
       "      <td>https://www.linkedin.com/jobs/view/3757283989</td>\n",
       "      <td>11-50 employees</td>\n",
       "      <td>NaN</td>\n",
       "      <td>NaN</td>\n",
       "      <td>NaN</td>\n",
       "    </tr>\n",
       "    <tr>\n",
       "      <th>12847</th>\n",
       "      <td>Angular Developer</td>\n",
       "      <td>EWDTech - Web Design and Development Services ...</td>\n",
       "      <td>On-site\\n\\n \\nFull-time</td>\n",
       "      <td>https://www.linkedin.com/jobs/view/3751461639</td>\n",
       "      <td>51-200 employees</td>\n",
       "      <td>NaN</td>\n",
       "      <td>NaN</td>\n",
       "      <td>NaN</td>\n",
       "    </tr>\n",
       "  </tbody>\n",
       "</table>\n",
       "<p>12848 rows × 8 columns</p>\n",
       "</div>"
      ],
      "text/plain": [
       "                             Job Title  \\\n",
       "0              LinkedIn Data Extractor   \n",
       "1                 It Management Intern   \n",
       "2               SQL Database Developer   \n",
       "3      Business Intelligence Developer   \n",
       "4           Web Developer - Internship   \n",
       "...                                ...   \n",
       "12843       Sr. Software Engineer - UI   \n",
       "12844    Customer Sales Representative   \n",
       "12845           Telesales Agent or CSR   \n",
       "12846                  Sales Executive   \n",
       "12847                Angular Developer   \n",
       "\n",
       "                                                Job Info  \\\n",
       "0            EcomFleet · Pakistan (Remote)  \\n1 week ago   \n",
       "1      Digicon Valley · Lahore, Punjab, Pakistan (On-...   \n",
       "2      Murkez Technologies · Lahore, Punjab, Pakistan...   \n",
       "3      DevNatives · Islamabad, Islāmābād, Pakistan (H...   \n",
       "4      ItCreaters · Lahore, Punjab, Pakistan (On-site...   \n",
       "...                                                  ...   \n",
       "12843  SOFTOO · Islamabad, Islāmābād, Pakistan  \\n3 w...   \n",
       "12844  V Packaging · Lahore, Punjab, Pakistan  \\n3 we...   \n",
       "12845  Jobly Staffing Ltd · Lahore, Punjab, Pakistan ...   \n",
       "12846     Dost · Lahore, Punjab, Pakistan  \\n3 weeks ago   \n",
       "12847  EWDTech - Web Design and Development Services ...   \n",
       "\n",
       "                      Job Type                                       Job Link  \\\n",
       "0                    Full-time  https://www.linkedin.com/jobs/view/3727054368   \n",
       "1                    Full-time  https://www.linkedin.com/jobs/view/3723395858   \n",
       "2                    Full-time  https://www.linkedin.com/jobs/view/3727034665   \n",
       "3                    Full-time  https://www.linkedin.com/jobs/view/3727029273   \n",
       "4                    Full-time  https://www.linkedin.com/jobs/view/3727034696   \n",
       "...                        ...                                            ...   \n",
       "12843   Hybrid\\n\\n \\nFull-time  https://www.linkedin.com/jobs/view/3758268626   \n",
       "12844  On-site\\n\\n \\nFull-time  https://www.linkedin.com/jobs/view/3753070889   \n",
       "12845  On-site\\n\\n \\nFull-time  https://www.linkedin.com/jobs/view/3757800035   \n",
       "12846  On-site\\n\\n \\nFull-time  https://www.linkedin.com/jobs/view/3757283989   \n",
       "12847  On-site\\n\\n \\nFull-time  https://www.linkedin.com/jobs/view/3751461639   \n",
       "\n",
       "                                               employees  Job ID  \\\n",
       "0                                        11-50 employees     NaN   \n",
       "1                                        11-50 employees     NaN   \n",
       "2                                       51-200 employees     NaN   \n",
       "3                                        11-50 employees     NaN   \n",
       "4                    Mobeen Naqvi is hiring for this job     NaN   \n",
       "...                                                  ...     ...   \n",
       "12843                                  201-500 employees     NaN   \n",
       "12844  See how you compare to 10 applicants. Reactiva...     NaN   \n",
       "12845                                    11-50 employees     NaN   \n",
       "12846                                    11-50 employees     NaN   \n",
       "12847                                   51-200 employees     NaN   \n",
       "\n",
       "      Job Desception Company Info  \n",
       "0                NaN          NaN  \n",
       "1                NaN          NaN  \n",
       "2                NaN          NaN  \n",
       "3                NaN          NaN  \n",
       "4                NaN          NaN  \n",
       "...              ...          ...  \n",
       "12843            NaN          NaN  \n",
       "12844            NaN          NaN  \n",
       "12845            NaN          NaN  \n",
       "12846            NaN          NaN  \n",
       "12847            NaN          NaN  \n",
       "\n",
       "[12848 rows x 8 columns]"
      ]
     },
     "execution_count": 4,
     "metadata": {},
     "output_type": "execute_result"
    }
   ],
   "source": [
    "df"
   ]
  },
  {
   "cell_type": "markdown",
   "id": "26bc4b6a-f3ee-46fd-af0f-e0b4022e3e4d",
   "metadata": {},
   "source": [
    "#### investagating where description is mixed with data"
   ]
  },
  {
   "cell_type": "code",
   "execution_count": 5,
   "id": "af85580b-bc36-462d-ba2e-256aef7bf9e1",
   "metadata": {},
   "outputs": [
    {
     "data": {
      "text/html": [
       "<div>\n",
       "<style scoped>\n",
       "    .dataframe tbody tr th:only-of-type {\n",
       "        vertical-align: middle;\n",
       "    }\n",
       "\n",
       "    .dataframe tbody tr th {\n",
       "        vertical-align: top;\n",
       "    }\n",
       "\n",
       "    .dataframe thead th {\n",
       "        text-align: right;\n",
       "    }\n",
       "</style>\n",
       "<table border=\"1\" class=\"dataframe\">\n",
       "  <thead>\n",
       "    <tr style=\"text-align: right;\">\n",
       "      <th></th>\n",
       "      <th>Job Title</th>\n",
       "      <th>Job Info</th>\n",
       "      <th>Job Type</th>\n",
       "      <th>Job Link</th>\n",
       "      <th>employees</th>\n",
       "      <th>Job ID</th>\n",
       "      <th>Job Desception</th>\n",
       "      <th>Company Info</th>\n",
       "    </tr>\n",
       "  </thead>\n",
       "  <tbody>\n",
       "    <tr>\n",
       "      <th>9780</th>\n",
       "      <td>NaN</td>\n",
       "      <td>NaN</td>\n",
       "      <td>NaN</td>\n",
       "      <td>https://www.linkedin.com/jobs/view/3749008255</td>\n",
       "      <td>NaN</td>\n",
       "      <td>NaN</td>\n",
       "      <td>About the job\\n            \\n\\n \\nWe are looki...</td>\n",
       "      <td>Financial Services\\n            \\n            ...</td>\n",
       "    </tr>\n",
       "    <tr>\n",
       "      <th>9781</th>\n",
       "      <td>NaN</td>\n",
       "      <td>NaN</td>\n",
       "      <td>NaN</td>\n",
       "      <td>https://www.linkedin.com/jobs/view/3747976526</td>\n",
       "      <td>NaN</td>\n",
       "      <td>NaN</td>\n",
       "      <td>About the job\\n            \\n\\n \\nCompany Desc...</td>\n",
       "      <td>NaN</td>\n",
       "    </tr>\n",
       "    <tr>\n",
       "      <th>9782</th>\n",
       "      <td>NaN</td>\n",
       "      <td>NaN</td>\n",
       "      <td>NaN</td>\n",
       "      <td>https://www.linkedin.com/jobs/view/3748472577</td>\n",
       "      <td>NaN</td>\n",
       "      <td>NaN</td>\n",
       "      <td>About the job</td>\n",
       "      <td>NaN</td>\n",
       "    </tr>\n",
       "    <tr>\n",
       "      <th>9783</th>\n",
       "      <td>NaN</td>\n",
       "      <td>NaN</td>\n",
       "      <td>NaN</td>\n",
       "      <td>https://www.linkedin.com/jobs/view/3747979213</td>\n",
       "      <td>NaN</td>\n",
       "      <td>NaN</td>\n",
       "      <td>About the job\\n            \\n\\n \\nRequirements...</td>\n",
       "      <td>IT Services and IT Consulting\\n            \\n ...</td>\n",
       "    </tr>\n",
       "    <tr>\n",
       "      <th>9784</th>\n",
       "      <td>NaN</td>\n",
       "      <td>NaN</td>\n",
       "      <td>NaN</td>\n",
       "      <td>https://www.linkedin.com/jobs/view/3747956013</td>\n",
       "      <td>NaN</td>\n",
       "      <td>NaN</td>\n",
       "      <td>About the job\\n            \\n\\n \\nWe are in se...</td>\n",
       "      <td>Renewable Energy Semiconductor Manufacturing\\n...</td>\n",
       "    </tr>\n",
       "    <tr>\n",
       "      <th>...</th>\n",
       "      <td>...</td>\n",
       "      <td>...</td>\n",
       "      <td>...</td>\n",
       "      <td>...</td>\n",
       "      <td>...</td>\n",
       "      <td>...</td>\n",
       "      <td>...</td>\n",
       "      <td>...</td>\n",
       "    </tr>\n",
       "    <tr>\n",
       "      <th>10093</th>\n",
       "      <td>NaN</td>\n",
       "      <td>NaN</td>\n",
       "      <td>NaN</td>\n",
       "      <td>https://www.linkedin.com/jobs/view/3748498405</td>\n",
       "      <td>NaN</td>\n",
       "      <td>NaN</td>\n",
       "      <td>About the job</td>\n",
       "      <td>NaN</td>\n",
       "    </tr>\n",
       "    <tr>\n",
       "      <th>10094</th>\n",
       "      <td>NaN</td>\n",
       "      <td>NaN</td>\n",
       "      <td>NaN</td>\n",
       "      <td>https://www.linkedin.com/jobs/view/3725085649</td>\n",
       "      <td>NaN</td>\n",
       "      <td>NaN</td>\n",
       "      <td>About the job\\n            \\n\\n \\nAny one can ...</td>\n",
       "      <td>NaN</td>\n",
       "    </tr>\n",
       "    <tr>\n",
       "      <th>10095</th>\n",
       "      <td>NaN</td>\n",
       "      <td>NaN</td>\n",
       "      <td>NaN</td>\n",
       "      <td>https://www.linkedin.com/jobs/view/3748421657</td>\n",
       "      <td>NaN</td>\n",
       "      <td>NaN</td>\n",
       "      <td>About the job\\n            \\n\\n \\nPosition: In...</td>\n",
       "      <td>Human Resources\\n            \\n              5...</td>\n",
       "    </tr>\n",
       "    <tr>\n",
       "      <th>10096</th>\n",
       "      <td>NaN</td>\n",
       "      <td>NaN</td>\n",
       "      <td>NaN</td>\n",
       "      <td>https://www.linkedin.com/jobs/view/3744340384</td>\n",
       "      <td>NaN</td>\n",
       "      <td>NaN</td>\n",
       "      <td>About the job</td>\n",
       "      <td>NaN</td>\n",
       "    </tr>\n",
       "    <tr>\n",
       "      <th>10097</th>\n",
       "      <td>NaN</td>\n",
       "      <td>NaN</td>\n",
       "      <td>NaN</td>\n",
       "      <td>https://www.linkedin.com/jobs/view/3644339587</td>\n",
       "      <td>NaN</td>\n",
       "      <td>NaN</td>\n",
       "      <td>About the job\\n            \\n\\n \\nNeed a socia...</td>\n",
       "      <td>NaN</td>\n",
       "    </tr>\n",
       "  </tbody>\n",
       "</table>\n",
       "<p>318 rows × 8 columns</p>\n",
       "</div>"
      ],
      "text/plain": [
       "      Job Title Job Info Job Type  \\\n",
       "9780        NaN      NaN      NaN   \n",
       "9781        NaN      NaN      NaN   \n",
       "9782        NaN      NaN      NaN   \n",
       "9783        NaN      NaN      NaN   \n",
       "9784        NaN      NaN      NaN   \n",
       "...         ...      ...      ...   \n",
       "10093       NaN      NaN      NaN   \n",
       "10094       NaN      NaN      NaN   \n",
       "10095       NaN      NaN      NaN   \n",
       "10096       NaN      NaN      NaN   \n",
       "10097       NaN      NaN      NaN   \n",
       "\n",
       "                                            Job Link employees  Job ID  \\\n",
       "9780   https://www.linkedin.com/jobs/view/3749008255       NaN     NaN   \n",
       "9781   https://www.linkedin.com/jobs/view/3747976526       NaN     NaN   \n",
       "9782   https://www.linkedin.com/jobs/view/3748472577       NaN     NaN   \n",
       "9783   https://www.linkedin.com/jobs/view/3747979213       NaN     NaN   \n",
       "9784   https://www.linkedin.com/jobs/view/3747956013       NaN     NaN   \n",
       "...                                              ...       ...     ...   \n",
       "10093  https://www.linkedin.com/jobs/view/3748498405       NaN     NaN   \n",
       "10094  https://www.linkedin.com/jobs/view/3725085649       NaN     NaN   \n",
       "10095  https://www.linkedin.com/jobs/view/3748421657       NaN     NaN   \n",
       "10096  https://www.linkedin.com/jobs/view/3744340384       NaN     NaN   \n",
       "10097  https://www.linkedin.com/jobs/view/3644339587       NaN     NaN   \n",
       "\n",
       "                                          Job Desception  \\\n",
       "9780   About the job\\n            \\n\\n \\nWe are looki...   \n",
       "9781   About the job\\n            \\n\\n \\nCompany Desc...   \n",
       "9782                                       About the job   \n",
       "9783   About the job\\n            \\n\\n \\nRequirements...   \n",
       "9784   About the job\\n            \\n\\n \\nWe are in se...   \n",
       "...                                                  ...   \n",
       "10093                                      About the job   \n",
       "10094  About the job\\n            \\n\\n \\nAny one can ...   \n",
       "10095  About the job\\n            \\n\\n \\nPosition: In...   \n",
       "10096                                      About the job   \n",
       "10097  About the job\\n            \\n\\n \\nNeed a socia...   \n",
       "\n",
       "                                            Company Info  \n",
       "9780   Financial Services\\n            \\n            ...  \n",
       "9781                                                 NaN  \n",
       "9782                                                 NaN  \n",
       "9783   IT Services and IT Consulting\\n            \\n ...  \n",
       "9784   Renewable Energy Semiconductor Manufacturing\\n...  \n",
       "...                                                  ...  \n",
       "10093                                                NaN  \n",
       "10094                                                NaN  \n",
       "10095  Human Resources\\n            \\n              5...  \n",
       "10096                                                NaN  \n",
       "10097                                                NaN  \n",
       "\n",
       "[318 rows x 8 columns]"
      ]
     },
     "execution_count": 5,
     "metadata": {},
     "output_type": "execute_result"
    }
   ],
   "source": [
    "df[df['Job Desception'].isnull()==False]"
   ]
  },
  {
   "cell_type": "markdown",
   "id": "8a08a9e5-5e7e-40b3-8091-489791af6448",
   "metadata": {},
   "source": [
    "##### 318 rows of jobs description is mixed"
   ]
  },
  {
   "cell_type": "code",
   "execution_count": 6,
   "id": "e9a83b37-9e30-4c8a-9526-da23ec6c816f",
   "metadata": {},
   "outputs": [
    {
     "data": {
      "text/plain": [
       "Job Title           506\n",
       "Job Info            771\n",
       "Job Type            773\n",
       "Job Link              0\n",
       "employees           774\n",
       "Job ID            12578\n",
       "Job Desception    12530\n",
       "Company Info      12632\n",
       "dtype: int64"
      ]
     },
     "execution_count": 6,
     "metadata": {},
     "output_type": "execute_result"
    }
   ],
   "source": [
    "df.isnull().sum()"
   ]
  },
  {
   "cell_type": "code",
   "execution_count": 7,
   "id": "5ea3b0bb-b4bf-4466-b0e7-d56cff9f4ec5",
   "metadata": {},
   "outputs": [
    {
     "data": {
      "text/html": [
       "<div>\n",
       "<style scoped>\n",
       "    .dataframe tbody tr th:only-of-type {\n",
       "        vertical-align: middle;\n",
       "    }\n",
       "\n",
       "    .dataframe tbody tr th {\n",
       "        vertical-align: top;\n",
       "    }\n",
       "\n",
       "    .dataframe thead th {\n",
       "        text-align: right;\n",
       "    }\n",
       "</style>\n",
       "<table border=\"1\" class=\"dataframe\">\n",
       "  <thead>\n",
       "    <tr style=\"text-align: right;\">\n",
       "      <th></th>\n",
       "      <th>Job Title</th>\n",
       "      <th>Job Info</th>\n",
       "      <th>Job Type</th>\n",
       "      <th>Job Link</th>\n",
       "      <th>employees</th>\n",
       "      <th>Job ID</th>\n",
       "      <th>Job Desception</th>\n",
       "      <th>Company Info</th>\n",
       "    </tr>\n",
       "  </thead>\n",
       "  <tbody>\n",
       "    <tr>\n",
       "      <th>110</th>\n",
       "      <td>NaN</td>\n",
       "      <td>NaN</td>\n",
       "      <td>NaN</td>\n",
       "      <td>https://www.linkedin.com/jobs/view/3716079439</td>\n",
       "      <td>NaN</td>\n",
       "      <td>NaN</td>\n",
       "      <td>NaN</td>\n",
       "      <td>NaN</td>\n",
       "    </tr>\n",
       "    <tr>\n",
       "      <th>125</th>\n",
       "      <td>NaN</td>\n",
       "      <td>NaN</td>\n",
       "      <td>NaN</td>\n",
       "      <td>https://www.linkedin.com/jobs/view/3728144603</td>\n",
       "      <td>NaN</td>\n",
       "      <td>NaN</td>\n",
       "      <td>NaN</td>\n",
       "      <td>NaN</td>\n",
       "    </tr>\n",
       "    <tr>\n",
       "      <th>417</th>\n",
       "      <td>NaN</td>\n",
       "      <td>NaN</td>\n",
       "      <td>NaN</td>\n",
       "      <td>https://www.linkedin.com/jobs/view/3728021212/...</td>\n",
       "      <td>NaN</td>\n",
       "      <td>NaN</td>\n",
       "      <td>NaN</td>\n",
       "      <td>NaN</td>\n",
       "    </tr>\n",
       "    <tr>\n",
       "      <th>420</th>\n",
       "      <td>NaN</td>\n",
       "      <td>NaN</td>\n",
       "      <td>NaN</td>\n",
       "      <td>https://www.linkedin.com/jobs/view/3727051751/...</td>\n",
       "      <td>NaN</td>\n",
       "      <td>NaN</td>\n",
       "      <td>NaN</td>\n",
       "      <td>NaN</td>\n",
       "    </tr>\n",
       "    <tr>\n",
       "      <th>456</th>\n",
       "      <td>NaN</td>\n",
       "      <td>NaN</td>\n",
       "      <td>NaN</td>\n",
       "      <td>https://www.linkedin.com/jobs/view/3726689376/...</td>\n",
       "      <td>NaN</td>\n",
       "      <td>NaN</td>\n",
       "      <td>NaN</td>\n",
       "      <td>NaN</td>\n",
       "    </tr>\n",
       "    <tr>\n",
       "      <th>...</th>\n",
       "      <td>...</td>\n",
       "      <td>...</td>\n",
       "      <td>...</td>\n",
       "      <td>...</td>\n",
       "      <td>...</td>\n",
       "      <td>...</td>\n",
       "      <td>...</td>\n",
       "      <td>...</td>\n",
       "    </tr>\n",
       "    <tr>\n",
       "      <th>12692</th>\n",
       "      <td>NaN</td>\n",
       "      <td>NaN</td>\n",
       "      <td>NaN</td>\n",
       "      <td>https://www.linkedin.com/jobs/view/3759168611</td>\n",
       "      <td>NaN</td>\n",
       "      <td>NaN</td>\n",
       "      <td>NaN</td>\n",
       "      <td>NaN</td>\n",
       "    </tr>\n",
       "    <tr>\n",
       "      <th>12715</th>\n",
       "      <td>NaN</td>\n",
       "      <td>NaN</td>\n",
       "      <td>NaN</td>\n",
       "      <td>https://www.linkedin.com/jobs/view/3759815536</td>\n",
       "      <td>NaN</td>\n",
       "      <td>NaN</td>\n",
       "      <td>NaN</td>\n",
       "      <td>NaN</td>\n",
       "    </tr>\n",
       "    <tr>\n",
       "      <th>12767</th>\n",
       "      <td>NaN</td>\n",
       "      <td>NaN</td>\n",
       "      <td>NaN</td>\n",
       "      <td>https://www.linkedin.com/jobs/view/3759166574</td>\n",
       "      <td>NaN</td>\n",
       "      <td>NaN</td>\n",
       "      <td>NaN</td>\n",
       "      <td>NaN</td>\n",
       "    </tr>\n",
       "    <tr>\n",
       "      <th>12787</th>\n",
       "      <td>NaN</td>\n",
       "      <td>NaN</td>\n",
       "      <td>NaN</td>\n",
       "      <td>https://www.linkedin.com/jobs/view/3753021984</td>\n",
       "      <td>NaN</td>\n",
       "      <td>NaN</td>\n",
       "      <td>NaN</td>\n",
       "      <td>NaN</td>\n",
       "    </tr>\n",
       "    <tr>\n",
       "      <th>12831</th>\n",
       "      <td>NaN</td>\n",
       "      <td>NaN</td>\n",
       "      <td>NaN</td>\n",
       "      <td>https://www.linkedin.com/jobs/view/3759846389</td>\n",
       "      <td>NaN</td>\n",
       "      <td>NaN</td>\n",
       "      <td>NaN</td>\n",
       "      <td>NaN</td>\n",
       "    </tr>\n",
       "  </tbody>\n",
       "</table>\n",
       "<p>506 rows × 8 columns</p>\n",
       "</div>"
      ],
      "text/plain": [
       "      Job Title Job Info Job Type  \\\n",
       "110         NaN      NaN      NaN   \n",
       "125         NaN      NaN      NaN   \n",
       "417         NaN      NaN      NaN   \n",
       "420         NaN      NaN      NaN   \n",
       "456         NaN      NaN      NaN   \n",
       "...         ...      ...      ...   \n",
       "12692       NaN      NaN      NaN   \n",
       "12715       NaN      NaN      NaN   \n",
       "12767       NaN      NaN      NaN   \n",
       "12787       NaN      NaN      NaN   \n",
       "12831       NaN      NaN      NaN   \n",
       "\n",
       "                                                Job Link employees  Job ID  \\\n",
       "110        https://www.linkedin.com/jobs/view/3716079439       NaN     NaN   \n",
       "125        https://www.linkedin.com/jobs/view/3728144603       NaN     NaN   \n",
       "417    https://www.linkedin.com/jobs/view/3728021212/...       NaN     NaN   \n",
       "420    https://www.linkedin.com/jobs/view/3727051751/...       NaN     NaN   \n",
       "456    https://www.linkedin.com/jobs/view/3726689376/...       NaN     NaN   \n",
       "...                                                  ...       ...     ...   \n",
       "12692      https://www.linkedin.com/jobs/view/3759168611       NaN     NaN   \n",
       "12715      https://www.linkedin.com/jobs/view/3759815536       NaN     NaN   \n",
       "12767      https://www.linkedin.com/jobs/view/3759166574       NaN     NaN   \n",
       "12787      https://www.linkedin.com/jobs/view/3753021984       NaN     NaN   \n",
       "12831      https://www.linkedin.com/jobs/view/3759846389       NaN     NaN   \n",
       "\n",
       "      Job Desception Company Info  \n",
       "110              NaN          NaN  \n",
       "125              NaN          NaN  \n",
       "417              NaN          NaN  \n",
       "420              NaN          NaN  \n",
       "456              NaN          NaN  \n",
       "...              ...          ...  \n",
       "12692            NaN          NaN  \n",
       "12715            NaN          NaN  \n",
       "12767            NaN          NaN  \n",
       "12787            NaN          NaN  \n",
       "12831            NaN          NaN  \n",
       "\n",
       "[506 rows x 8 columns]"
      ]
     },
     "execution_count": 7,
     "metadata": {},
     "output_type": "execute_result"
    }
   ],
   "source": [
    "df[df['Job Title'].isnull()]"
   ]
  },
  {
   "cell_type": "code",
   "execution_count": 8,
   "id": "cf3777b1-741b-4394-883c-c06f88b26386",
   "metadata": {},
   "outputs": [
    {
     "data": {
      "text/plain": [
       "'https://www.linkedin.com/jobs/view/3727051751/?eBP=JOB_SEARCH_ORGANIC&refId=n1BxF49FoRzpjWVR5WqmKw%3D%3D&trackingId=hKWx7Lut7Q2%2FUF%2B%2BmKHgGw%3D%3D&trk=flagship3_search_srp_jobs'"
      ]
     },
     "execution_count": 8,
     "metadata": {},
     "output_type": "execute_result"
    }
   ],
   "source": [
    "df.iloc[420]['Job Link']"
   ]
  },
  {
   "cell_type": "code",
   "execution_count": 9,
   "id": "b303bb16-41da-4455-a17e-1f50b1161ea7",
   "metadata": {},
   "outputs": [
    {
     "data": {
      "text/plain": [
       "110          https://www.linkedin.com/jobs/view/3716079439\n",
       "125          https://www.linkedin.com/jobs/view/3728144603\n",
       "417      https://www.linkedin.com/jobs/view/3728021212/...\n",
       "420      https://www.linkedin.com/jobs/view/3727051751/...\n",
       "456      https://www.linkedin.com/jobs/view/3726689376/...\n",
       "                               ...                        \n",
       "12692        https://www.linkedin.com/jobs/view/3759168611\n",
       "12715        https://www.linkedin.com/jobs/view/3759815536\n",
       "12767        https://www.linkedin.com/jobs/view/3759166574\n",
       "12787        https://www.linkedin.com/jobs/view/3753021984\n",
       "12831        https://www.linkedin.com/jobs/view/3759846389\n",
       "Name: Job Link, Length: 506, dtype: object"
      ]
     },
     "execution_count": 9,
     "metadata": {},
     "output_type": "execute_result"
    }
   ],
   "source": [
    "df[df['Job Title'].isnull()]['Job Link']"
   ]
  },
  {
   "cell_type": "markdown",
   "id": "734d344d-ad4e-4f8d-965c-3b9eb36c5e56",
   "metadata": {},
   "source": [
    "### checking duplicates"
   ]
  },
  {
   "cell_type": "code",
   "execution_count": 10,
   "id": "ef2bd986-a157-46a1-83b8-4bef0c56e5d2",
   "metadata": {},
   "outputs": [
    {
     "data": {
      "text/plain": [
       "12848"
      ]
     },
     "execution_count": 10,
     "metadata": {},
     "output_type": "execute_result"
    }
   ],
   "source": [
    "len(df)"
   ]
  },
  {
   "cell_type": "code",
   "execution_count": 11,
   "id": "5c700a51-47f9-4064-8f27-57495dca99b7",
   "metadata": {},
   "outputs": [],
   "source": [
    "df['Job ID']=df['Job Link'].apply(lambda x:int(x.split('/')[5]))"
   ]
  },
  {
   "cell_type": "code",
   "execution_count": 12,
   "id": "f46f8835-2357-40fe-a25f-9ef307238a00",
   "metadata": {},
   "outputs": [
    {
     "data": {
      "text/plain": [
       "9885"
      ]
     },
     "execution_count": 12,
     "metadata": {},
     "output_type": "execute_result"
    }
   ],
   "source": [
    "len(df['Job ID'].unique())"
   ]
  },
  {
   "cell_type": "code",
   "execution_count": 13,
   "id": "16f03f39-ef42-4319-a853-b6aff4dcfc74",
   "metadata": {},
   "outputs": [
    {
     "data": {
      "text/plain": [
       "2963"
      ]
     },
     "execution_count": 13,
     "metadata": {},
     "output_type": "execute_result"
    }
   ],
   "source": [
    "len(df)-len(df['Job ID'].unique())"
   ]
  },
  {
   "cell_type": "code",
   "execution_count": 14,
   "id": "4d8f3b78-ccbd-4c80-b351-f31500d65605",
   "metadata": {},
   "outputs": [
    {
     "data": {
      "text/plain": [
       "Job ID\n",
       "3720211981    13\n",
       "3733022066    11\n",
       "3733019363    11\n",
       "3707088816    10\n",
       "3723015510     9\n",
       "              ..\n",
       "3734529346     1\n",
       "3734528250     1\n",
       "3734704933     1\n",
       "3734502997     1\n",
       "3751461639     1\n",
       "Name: count, Length: 9885, dtype: int64"
      ]
     },
     "execution_count": 14,
     "metadata": {},
     "output_type": "execute_result"
    }
   ],
   "source": [
    "df['Job ID'].value_counts()"
   ]
  },
  {
   "cell_type": "code",
   "execution_count": 15,
   "id": "daac1f95-161c-4c80-8771-ee3e2905fc36",
   "metadata": {},
   "outputs": [
    {
     "data": {
      "text/plain": [
       "array([13, 11, 10,  9,  8,  7,  6,  5,  4,  3,  2,  1], dtype=int64)"
      ]
     },
     "execution_count": 15,
     "metadata": {},
     "output_type": "execute_result"
    }
   ],
   "source": [
    "df['Job ID'].value_counts().unique()"
   ]
  },
  {
   "cell_type": "code",
   "execution_count": 16,
   "id": "12346237-4553-4608-a1a0-090c7402ba68",
   "metadata": {},
   "outputs": [
    {
     "data": {
      "text/plain": [
       "2963"
      ]
     },
     "execution_count": 16,
     "metadata": {},
     "output_type": "execute_result"
    }
   ],
   "source": [
    "duplicates_count=df.duplicated(subset=['Job ID']).sum()\n",
    "duplicates_count"
   ]
  },
  {
   "cell_type": "code",
   "execution_count": 17,
   "id": "88210200-bf59-441b-b4d7-d244ae038dee",
   "metadata": {},
   "outputs": [
    {
     "data": {
      "text/html": [
       "<div>\n",
       "<style scoped>\n",
       "    .dataframe tbody tr th:only-of-type {\n",
       "        vertical-align: middle;\n",
       "    }\n",
       "\n",
       "    .dataframe tbody tr th {\n",
       "        vertical-align: top;\n",
       "    }\n",
       "\n",
       "    .dataframe thead th {\n",
       "        text-align: right;\n",
       "    }\n",
       "</style>\n",
       "<table border=\"1\" class=\"dataframe\">\n",
       "  <thead>\n",
       "    <tr style=\"text-align: right;\">\n",
       "      <th></th>\n",
       "      <th>Job Title</th>\n",
       "      <th>Job Info</th>\n",
       "      <th>Job Type</th>\n",
       "      <th>Job Link</th>\n",
       "      <th>employees</th>\n",
       "      <th>Job ID</th>\n",
       "      <th>Job Desception</th>\n",
       "      <th>Company Info</th>\n",
       "    </tr>\n",
       "  </thead>\n",
       "  <tbody>\n",
       "    <tr>\n",
       "      <th>603</th>\n",
       "      <td>Odoo Developer</td>\n",
       "      <td>AKSiQ · Karachi Division, Sindh, Pakistan (On-...</td>\n",
       "      <td>Full-time</td>\n",
       "      <td>https://www.linkedin.com/jobs/view/3727054738</td>\n",
       "      <td>11-50 employees</td>\n",
       "      <td>3727054738</td>\n",
       "      <td>NaN</td>\n",
       "      <td>NaN</td>\n",
       "    </tr>\n",
       "    <tr>\n",
       "      <th>781</th>\n",
       "      <td>Assistant Manager Sales/Sales Executive</td>\n",
       "      <td>Eastern Housing Pakistan · Multan, Punjab, Pak...</td>\n",
       "      <td>Full-time</td>\n",
       "      <td>https://www.linkedin.com/jobs/view/3727057147</td>\n",
       "      <td>201-500 employees</td>\n",
       "      <td>3727057147</td>\n",
       "      <td>NaN</td>\n",
       "      <td>NaN</td>\n",
       "    </tr>\n",
       "    <tr>\n",
       "      <th>834</th>\n",
       "      <td>Back-End Network Engineer</td>\n",
       "      <td>Turing · Pakistan (Remote) Reposted  \\n2 weeks...</td>\n",
       "      <td>Full-time · Entry level</td>\n",
       "      <td>https://www.linkedin.com/jobs/view/3726337380</td>\n",
       "      <td>1,001-5,000 employees · IT Services and IT Con...</td>\n",
       "      <td>3726337380</td>\n",
       "      <td>NaN</td>\n",
       "      <td>NaN</td>\n",
       "    </tr>\n",
       "    <tr>\n",
       "      <th>840</th>\n",
       "      <td>Release Management Engineer</td>\n",
       "      <td>AIIT Solutions · Rawalpindi, Punjab, Pakistan ...</td>\n",
       "      <td>Full-time</td>\n",
       "      <td>https://www.linkedin.com/jobs/view/3727054443</td>\n",
       "      <td>11-50 employees</td>\n",
       "      <td>3727054443</td>\n",
       "      <td>NaN</td>\n",
       "      <td>NaN</td>\n",
       "    </tr>\n",
       "    <tr>\n",
       "      <th>842</th>\n",
       "      <td>NaN</td>\n",
       "      <td>NaN</td>\n",
       "      <td>NaN</td>\n",
       "      <td>https://www.linkedin.com/jobs/view/3727051751</td>\n",
       "      <td>NaN</td>\n",
       "      <td>3727051751</td>\n",
       "      <td>NaN</td>\n",
       "      <td>NaN</td>\n",
       "    </tr>\n",
       "    <tr>\n",
       "      <th>...</th>\n",
       "      <td>...</td>\n",
       "      <td>...</td>\n",
       "      <td>...</td>\n",
       "      <td>...</td>\n",
       "      <td>...</td>\n",
       "      <td>...</td>\n",
       "      <td>...</td>\n",
       "      <td>...</td>\n",
       "    </tr>\n",
       "    <tr>\n",
       "      <th>12791</th>\n",
       "      <td>Software Engineering Manager</td>\n",
       "      <td>Careem · Lahore, Punjab, Pakistan Reposted  \\n...</td>\n",
       "      <td>Full-time\\n\\n \\nMid-Senior level</td>\n",
       "      <td>https://www.linkedin.com/jobs/view/3737888915</td>\n",
       "      <td>1,001-5,000 employees · IT Services and IT Con...</td>\n",
       "      <td>3737888915</td>\n",
       "      <td>NaN</td>\n",
       "      <td>NaN</td>\n",
       "    </tr>\n",
       "    <tr>\n",
       "      <th>12795</th>\n",
       "      <td>Media Generalist</td>\n",
       "      <td>10Pearls · Karāchi, Sindh, Pakistan  \\n3 weeks...</td>\n",
       "      <td>On-site\\n\\n \\nFull-time\\n\\n \\nMid-Senior level</td>\n",
       "      <td>https://www.linkedin.com/jobs/view/3755745473</td>\n",
       "      <td>1,001-5,000 employees · IT Services and IT Con...</td>\n",
       "      <td>3755745473</td>\n",
       "      <td>NaN</td>\n",
       "      <td>NaN</td>\n",
       "    </tr>\n",
       "    <tr>\n",
       "      <th>12815</th>\n",
       "      <td>Talent Acquisition Manager</td>\n",
       "      <td>Careem · Karāchi, Sindh, Pakistan Reposted  \\n...</td>\n",
       "      <td>Full-time\\n\\n \\nMid-Senior level</td>\n",
       "      <td>https://www.linkedin.com/jobs/view/3742000837</td>\n",
       "      <td>1,001-5,000 employees · IT Services and IT Con...</td>\n",
       "      <td>3742000837</td>\n",
       "      <td>NaN</td>\n",
       "      <td>NaN</td>\n",
       "    </tr>\n",
       "    <tr>\n",
       "      <th>12819</th>\n",
       "      <td>Security Guard</td>\n",
       "      <td>International Medical Corps · Islamabad, Islām...</td>\n",
       "      <td>Full-time\\n\\n \\nEntry level</td>\n",
       "      <td>https://www.linkedin.com/jobs/view/3755630853</td>\n",
       "      <td>5,001-10,000 employees · Non-profit Organizations</td>\n",
       "      <td>3755630853</td>\n",
       "      <td>NaN</td>\n",
       "      <td>NaN</td>\n",
       "    </tr>\n",
       "    <tr>\n",
       "      <th>12835</th>\n",
       "      <td>Sales Account Executive</td>\n",
       "      <td>KeepLoading · Islāmābād, Pakistan  \\n3 weeks ago</td>\n",
       "      <td>On-site\\n\\n \\nFull-time</td>\n",
       "      <td>https://www.linkedin.com/jobs/view/3756313333</td>\n",
       "      <td>11-50 employees</td>\n",
       "      <td>3756313333</td>\n",
       "      <td>NaN</td>\n",
       "      <td>NaN</td>\n",
       "    </tr>\n",
       "  </tbody>\n",
       "</table>\n",
       "<p>2963 rows × 8 columns</p>\n",
       "</div>"
      ],
      "text/plain": [
       "                                     Job Title  \\\n",
       "603                             Odoo Developer   \n",
       "781    Assistant Manager Sales/Sales Executive   \n",
       "834                  Back-End Network Engineer   \n",
       "840                Release Management Engineer   \n",
       "842                                        NaN   \n",
       "...                                        ...   \n",
       "12791             Software Engineering Manager   \n",
       "12795                         Media Generalist   \n",
       "12815               Talent Acquisition Manager   \n",
       "12819                           Security Guard   \n",
       "12835                  Sales Account Executive   \n",
       "\n",
       "                                                Job Info  \\\n",
       "603    AKSiQ · Karachi Division, Sindh, Pakistan (On-...   \n",
       "781    Eastern Housing Pakistan · Multan, Punjab, Pak...   \n",
       "834    Turing · Pakistan (Remote) Reposted  \\n2 weeks...   \n",
       "840    AIIT Solutions · Rawalpindi, Punjab, Pakistan ...   \n",
       "842                                                  NaN   \n",
       "...                                                  ...   \n",
       "12791  Careem · Lahore, Punjab, Pakistan Reposted  \\n...   \n",
       "12795  10Pearls · Karāchi, Sindh, Pakistan  \\n3 weeks...   \n",
       "12815  Careem · Karāchi, Sindh, Pakistan Reposted  \\n...   \n",
       "12819  International Medical Corps · Islamabad, Islām...   \n",
       "12835   KeepLoading · Islāmābād, Pakistan  \\n3 weeks ago   \n",
       "\n",
       "                                             Job Type  \\\n",
       "603                                         Full-time   \n",
       "781                                         Full-time   \n",
       "834                           Full-time · Entry level   \n",
       "840                                         Full-time   \n",
       "842                                               NaN   \n",
       "...                                               ...   \n",
       "12791                Full-time\\n\\n \\nMid-Senior level   \n",
       "12795  On-site\\n\\n \\nFull-time\\n\\n \\nMid-Senior level   \n",
       "12815                Full-time\\n\\n \\nMid-Senior level   \n",
       "12819                     Full-time\\n\\n \\nEntry level   \n",
       "12835                         On-site\\n\\n \\nFull-time   \n",
       "\n",
       "                                            Job Link  \\\n",
       "603    https://www.linkedin.com/jobs/view/3727054738   \n",
       "781    https://www.linkedin.com/jobs/view/3727057147   \n",
       "834    https://www.linkedin.com/jobs/view/3726337380   \n",
       "840    https://www.linkedin.com/jobs/view/3727054443   \n",
       "842    https://www.linkedin.com/jobs/view/3727051751   \n",
       "...                                              ...   \n",
       "12791  https://www.linkedin.com/jobs/view/3737888915   \n",
       "12795  https://www.linkedin.com/jobs/view/3755745473   \n",
       "12815  https://www.linkedin.com/jobs/view/3742000837   \n",
       "12819  https://www.linkedin.com/jobs/view/3755630853   \n",
       "12835  https://www.linkedin.com/jobs/view/3756313333   \n",
       "\n",
       "                                               employees      Job ID  \\\n",
       "603                                      11-50 employees  3727054738   \n",
       "781                                    201-500 employees  3727057147   \n",
       "834    1,001-5,000 employees · IT Services and IT Con...  3726337380   \n",
       "840                                      11-50 employees  3727054443   \n",
       "842                                                  NaN  3727051751   \n",
       "...                                                  ...         ...   \n",
       "12791  1,001-5,000 employees · IT Services and IT Con...  3737888915   \n",
       "12795  1,001-5,000 employees · IT Services and IT Con...  3755745473   \n",
       "12815  1,001-5,000 employees · IT Services and IT Con...  3742000837   \n",
       "12819  5,001-10,000 employees · Non-profit Organizations  3755630853   \n",
       "12835                                    11-50 employees  3756313333   \n",
       "\n",
       "      Job Desception Company Info  \n",
       "603              NaN          NaN  \n",
       "781              NaN          NaN  \n",
       "834              NaN          NaN  \n",
       "840              NaN          NaN  \n",
       "842              NaN          NaN  \n",
       "...              ...          ...  \n",
       "12791            NaN          NaN  \n",
       "12795            NaN          NaN  \n",
       "12815            NaN          NaN  \n",
       "12819            NaN          NaN  \n",
       "12835            NaN          NaN  \n",
       "\n",
       "[2963 rows x 8 columns]"
      ]
     },
     "execution_count": 17,
     "metadata": {},
     "output_type": "execute_result"
    }
   ],
   "source": [
    "duplicates = df['Job ID'].duplicated()\n",
    "df[duplicates]"
   ]
  },
  {
   "cell_type": "code",
   "execution_count": 18,
   "id": "8db6fd7e-b7bb-43a2-9144-ce858ad78073",
   "metadata": {},
   "outputs": [],
   "source": [
    "df = df.drop_duplicates(subset=['Job ID'])"
   ]
  },
  {
   "cell_type": "code",
   "execution_count": 19,
   "id": "85c02eac-5c3e-4261-955c-edd77875865d",
   "metadata": {},
   "outputs": [
    {
     "data": {
      "text/plain": [
       "(9885, 8)"
      ]
     },
     "execution_count": 19,
     "metadata": {},
     "output_type": "execute_result"
    }
   ],
   "source": [
    "df.shape"
   ]
  },
  {
   "cell_type": "code",
   "execution_count": 20,
   "id": "1d168907-2fab-4a3d-903e-6d4ac9154570",
   "metadata": {},
   "outputs": [
    {
     "data": {
      "text/plain": [
       "3623"
      ]
     },
     "execution_count": 20,
     "metadata": {},
     "output_type": "execute_result"
    }
   ],
   "source": [
    "4214-591"
   ]
  },
  {
   "cell_type": "markdown",
   "id": "74effc07-abf1-4d03-940b-f65391d76883",
   "metadata": {},
   "source": [
    "### checking null values"
   ]
  },
  {
   "cell_type": "code",
   "execution_count": 21,
   "id": "e30630bb-adc4-4f24-9d5e-b989dfc1c765",
   "metadata": {},
   "outputs": [
    {
     "data": {
      "text/plain": [
       "Job Title          376\n",
       "Job Info           606\n",
       "Job Type           608\n",
       "Job Link             0\n",
       "employees          609\n",
       "Job ID               0\n",
       "Job Desception    9674\n",
       "Company Info      9746\n",
       "dtype: int64"
      ]
     },
     "execution_count": 21,
     "metadata": {},
     "output_type": "execute_result"
    }
   ],
   "source": [
    "df.isnull().sum()"
   ]
  },
  {
   "cell_type": "code",
   "execution_count": 22,
   "id": "bb661eca-89c7-4f5f-8a8d-8569de19d3c3",
   "metadata": {},
   "outputs": [
    {
     "data": {
      "text/plain": [
       "array(['LinkedIn Data Extractor', 'It Management Intern',\n",
       "       'SQL Database Developer', ..., 'Senior iOS Engineer',\n",
       "       'Sr. Software Engineer - UI', 'Telesales Agent or CSR'],\n",
       "      dtype=object)"
      ]
     },
     "execution_count": 22,
     "metadata": {},
     "output_type": "execute_result"
    }
   ],
   "source": [
    "df['Job Title'].unique()\t"
   ]
  },
  {
   "cell_type": "code",
   "execution_count": 23,
   "id": "547c53ea-8c93-40b1-bdc7-02565ac0c928",
   "metadata": {},
   "outputs": [
    {
     "data": {
      "text/plain": [
       "5337"
      ]
     },
     "execution_count": 23,
     "metadata": {},
     "output_type": "execute_result"
    }
   ],
   "source": [
    "len(df['Job Title'].unique())"
   ]
  },
  {
   "cell_type": "code",
   "execution_count": 24,
   "id": "41ccb0b9-8489-4aa3-b205-9ebc9809c84f",
   "metadata": {},
   "outputs": [
    {
     "data": {
      "text/plain": [
       "array(['Full-time', 'Full-time · Mid-Senior level',\n",
       "       'Internship · Internship', 'Full-time · Associate', 'Internship',\n",
       "       'Full-time · Entry level', 'Part-time', 'Full-time · Internship',\n",
       "       nan, 'Contract · Mid-Senior level', 'Contract',\n",
       "       'Contract · Associate', '$150/month - $300/month · Full-time',\n",
       "       'Full-time · Director', 'Part-time · Associate',\n",
       "       'Mr Ahsan is hiring for this job', 'Part-time · Executive',\n",
       "       'Contract · Executive', 'Part-time · Mid-Senior level',\n",
       "       'Contract · Entry level', 'Temporary · Mid-Senior level',\n",
       "       'Executive', 'Full-time · Executive',\n",
       "       'Sean Sato is hiring for this job', 'Part-time · Internship',\n",
       "       'Internship · Mid-Senior level',\n",
       "       '$12,000/yr - $15,000/yr · Full-time · Mid-Senior level',\n",
       "       '$200,000/yr · Full-time', 'Part-time · Entry level',\n",
       "       'dr.ry. L. is hiring for this job',\n",
       "       '10,001+ employees · Tobacco Manufacturing', 'Volunteer',\n",
       "       'On-site\\n\\n \\nFull-time\\n\\n \\nMid-Senior level',\n",
       "       'Hybrid\\n\\n \\nFull-time\\n\\n \\nMid-Senior level',\n",
       "       'Remote\\n\\n \\nFull-time\\n\\n \\nMid-Senior level',\n",
       "       'On-site\\n\\n \\nFull-time\\n\\n \\nAssociate',\n",
       "       'On-site\\n\\n \\nFull-time',\n",
       "       'Hybrid\\n\\n \\nFull-time\\n\\n \\nEntry level',\n",
       "       'Hybrid\\n\\n \\nFull-time\\n\\n \\nDirector', 'Remote\\n\\n \\nFull-time',\n",
       "       'On-site\\n\\n \\nFull-time\\n\\n \\nEntry level',\n",
       "       'Hybrid\\n\\n \\nFull-time\\n\\n \\nAssociate',\n",
       "       'Full-time\\n\\n \\nMid-Senior level', 'On-site\\n\\n \\nPart-time',\n",
       "       'Hybrid\\n\\n \\nFull-time',\n",
       "       'Remote\\n\\n \\nContract\\n\\n \\nMid-Senior level',\n",
       "       'On-site\\n\\n \\nFull-time\\n\\n \\nDirector',\n",
       "       'On-site\\n\\n \\nFull-time\\n\\n \\nExecutive',\n",
       "       'Remote\\n\\n \\nFull-time\\n\\n \\nEntry level',\n",
       "       'Remote\\n\\n \\nInternship', 'On-site\\n\\n \\nInternship',\n",
       "       'On-site\\n\\n \\nContract\\n\\n \\nMid-Senior level',\n",
       "       'Remote\\n\\n \\nContract', 'Remote\\n\\n \\nFull-time\\n\\n \\nAssociate',\n",
       "       'On-site\\n\\n \\nContract\\n\\n \\nEntry level',\n",
       "       'On-site\\n\\n \\nFull-time\\n\\n \\nInternship',\n",
       "       'Remote\\n\\n \\nPart-time\\n\\n \\nAssociate', 'Remote\\n\\n \\nPart-time',\n",
       "       'Remote\\n\\n \\nContract\\n\\n \\nEntry level',\n",
       "       'On-site\\n\\n \\nContract\\n\\n \\nAssociate',\n",
       "       'Full-time\\n\\n \\nEntry level', 'Hybrid\\n\\n \\nContract',\n",
       "       'Remote\\n\\n \\nFull-time\\n\\n \\nDirector', 'Hybrid\\n\\n \\nPart-time',\n",
       "       'On-site\\n\\n \\nContract',\n",
       "       'PKR600,000/yr - PKR660,000/yr\\n\\n \\nOn-site\\n\\n \\nFull-time\\n\\n \\nEntry level',\n",
       "       'Remote', 'Contract\\n\\n \\nMid-Senior level',\n",
       "       'On-site\\n\\n \\nContract\\n\\n \\nInternship',\n",
       "       'Full-time\\n\\n \\nExecutive',\n",
       "       'Remote\\n\\n \\nInternship\\n\\n \\nMid-Senior level',\n",
       "       'Hybrid\\n\\n \\nContract\\n\\n \\nMid-Senior level',\n",
       "       'Remote\\n\\n \\nPart-time\\n\\n \\nEntry level',\n",
       "       'Hybrid\\n\\n \\nTemporary', 'Remote\\n\\n \\nPart-time\\n\\n \\nExecutive',\n",
       "       'On-site\\n\\n \\nInternship\\n\\n \\nEntry level',\n",
       "       'On-site\\n\\n \\nVolunteer',\n",
       "       'Remote\\n\\n \\nFull-time\\n\\n \\nExecutive',\n",
       "       'On-site\\n\\n \\nInternship\\n\\n \\nInternship',\n",
       "       'Remote\\n\\n \\nVolunteer',\n",
       "       'On-site\\n\\n \\nPart-time\\n\\n \\nEntry level', 'On-site',\n",
       "       'Hybrid\\n\\n \\nInternship',\n",
       "       'Hybrid\\n\\n \\nContract\\n\\n \\nEntry level',\n",
       "       'Full-time\\n\\n \\nInternship',\n",
       "       '$180/month - $250/month\\n\\n \\nRemote\\n\\n \\nFull-time', 'Hybrid',\n",
       "       'Remote\\n\\n \\nContract\\n\\n \\nAssociate',\n",
       "       'Remote\\n\\n \\nTemporary\\n\\n \\nEntry level',\n",
       "       'On-site\\n\\n \\nTemporary', 'Remote\\n\\n \\nTemporary',\n",
       "       'Full-time\\n\\n \\nAssociate',\n",
       "       'PKR1,200,000/yr - PKR1,800,000/yr\\n\\n \\nOn-site\\n\\n \\nFull-time\\n\\n \\nEntry level',\n",
       "       '5,001-10,000 employees · IT Services and IT Consulting',\n",
       "       'PKR1,200,000/yr - PKR2,400,000/yr\\n\\n \\nOn-site\\n\\n \\nFull-time\\n\\n \\nEntry level',\n",
       "       'On-site\\n\\n \\nContract\\n\\n \\nExecutive',\n",
       "       'PKR1,800,000/yr - PKR3,600,000/yr\\n\\n \\nOn-site\\n\\n \\nFull-time\\n\\n \\nMid-Senior level',\n",
       "       'MYR57,000/yr - MYR108,000/yr\\n\\n \\nRemote\\n\\n \\nFull-time\\n\\n \\nEntry level',\n",
       "       '$1,500/month - $1,800/month\\n\\n \\nRemote\\n\\n \\nFull-time',\n",
       "       '11-50 employees',\n",
       "       '10,001+ employees · Food and Beverage Manufacturing',\n",
       "       'PHP360,000/yr - PHP720,000/yr\\n\\n \\nRemote\\n\\n \\nPart-time\\n\\n \\nMid-Senior level',\n",
       "       'Hybrid\\n\\n \\nVolunteer', 'Remote\\n\\n \\nMid-Senior level',\n",
       "       '$500/month - $1,000/month\\n\\n \\nHybrid\\n\\n \\nContract',\n",
       "       'Remote\\n\\n \\nPart-time\\n\\n \\nMid-Senior level',\n",
       "       'PKR960,000/yr - PKR1,200,000/yr\\n\\n \\nOn-site\\n\\n \\nFull-time\\n\\n \\nEntry level',\n",
       "       '$20,000/yr - $25,000/yr\\n\\n \\nRemote\\n\\n \\nContract\\n\\n \\nEntry level',\n",
       "       '$30,000/month - $60,000/month\\n\\n \\nHybrid\\n\\n \\nFull-time',\n",
       "       'Remote\\n\\n \\nPart-time\\n\\n \\nDirector',\n",
       "       'PKR960,000/yr - PKR1,200,000/yr\\n\\n \\nOn-site\\n\\n \\nFull-time\\n\\n \\nMid-Senior level'],\n",
       "      dtype=object)"
      ]
     },
     "execution_count": 24,
     "metadata": {},
     "output_type": "execute_result"
    }
   ],
   "source": [
    "df['Job Type'].unique()"
   ]
  },
  {
   "cell_type": "code",
   "execution_count": 25,
   "id": "4354848b-d29f-438f-9fe9-2a8206c7b70c",
   "metadata": {},
   "outputs": [
    {
     "data": {
      "text/plain": [
       "111"
      ]
     },
     "execution_count": 25,
     "metadata": {},
     "output_type": "execute_result"
    }
   ],
   "source": [
    "len(df['Job Type'].unique())"
   ]
  },
  {
   "cell_type": "code",
   "execution_count": 26,
   "id": "aedf3e3e-42d4-4d1c-a8c8-0204153e95d0",
   "metadata": {},
   "outputs": [
    {
     "data": {
      "text/plain": [
       "array(['EcomFleet · Pakistan (Remote)  \\n1 week ago',\n",
       "       'Digicon Valley · Lahore, Punjab, Pakistan (On-site)  \\n2 weeks ago',\n",
       "       'Murkez Technologies · Lahore, Punjab, Pakistan (On-site)  \\n1 week ago',\n",
       "       ...,\n",
       "       'Jobly Staffing Ltd · Lahore, Punjab, Pakistan  \\n3 weeks ago',\n",
       "       'Dost · Lahore, Punjab, Pakistan  \\n3 weeks ago',\n",
       "       'EWDTech - Web Design and Development Services · Faisalabad, Punjab, Pakistan  \\n3 weeks ago\\n\\n · 18 applicants'],\n",
       "      dtype=object)"
      ]
     },
     "execution_count": 26,
     "metadata": {},
     "output_type": "execute_result"
    }
   ],
   "source": [
    "df['Job Info'].unique()"
   ]
  },
  {
   "cell_type": "code",
   "execution_count": 27,
   "id": "fe8930a3-aea0-4364-b951-ebfcf006c004",
   "metadata": {},
   "outputs": [
    {
     "data": {
      "text/plain": [
       "8380"
      ]
     },
     "execution_count": 27,
     "metadata": {},
     "output_type": "execute_result"
    }
   ],
   "source": [
    "len(df['Job Info'].unique())"
   ]
  },
  {
   "cell_type": "code",
   "execution_count": 28,
   "id": "c88ba348-0da9-402f-adec-9673477ded1e",
   "metadata": {},
   "outputs": [
    {
     "data": {
      "text/plain": [
       "array(['11-50 employees', '51-200 employees',\n",
       "       'Mobeen Naqvi is hiring for this job',\n",
       "       '1,001-5,000 employees · Software Development',\n",
       "       '501-1,000 employees · IT Services and IT Consulting',\n",
       "       '501-1,000 employees · Telecommunications',\n",
       "       '1,001-5,000 employees · Banking', '201-500 employees',\n",
       "       '10,001+ employees', '51-200 employees · Human Resources Services',\n",
       "       '501-1,000 employees',\n",
       "       '1,001-5,000 employees · Technology, Information and Internet',\n",
       "       '1,001-5,000 employees',\n",
       "       '1-10 employees · Retail Apparel and Fashion',\n",
       "       'Muhammad akram is hiring for this job',\n",
       "       '10,001+ employees · International Affairs',\n",
       "       '501-1,000 employees · Higher Education', '1-10 employees',\n",
       "       '10,001+ employees · Software Development',\n",
       "       '1,001-5,000 employees · Information Technology & Services',\n",
       "       '5,001-10,000 employees', 'TARIQ KHAN is hiring for this job',\n",
       "       '201-500 employees · Financial Services',\n",
       "       '10,001+ employees · Telecommunications',\n",
       "       '5,001-10,000 employees · Packaging and Containers Manufacturing',\n",
       "       '1,001-5,000 employees · IT Services and IT Consulting',\n",
       "       '1,001-5,000 employees · Executive Offices',\n",
       "       '1,001-5,000 employees · Telecommunications',\n",
       "       '1,001-5,000 employees · Food and Beverage Manufacturing',\n",
       "       '10,001+ employees · Food and Beverage Services', nan,\n",
       "       '10,001+ employees · Tobacco Manufacturing',\n",
       "       '51-200 employees · Software Development',\n",
       "       '5,001-10,000 employees · IT Services and IT Consulting',\n",
       "       'Sufian Mian Akhtar is hiring for this job',\n",
       "       'Danish Khan is hiring for this job',\n",
       "       '51-200 employees · Business Consulting and Services',\n",
       "       '51-200 employees · Entertainment Providers',\n",
       "       '11-50 employees · Human Resources Services',\n",
       "       'Wajahat Ahmed is hiring for this job',\n",
       "       '11-50 employees · IT Services and IT Consulting',\n",
       "       '1,001-5,000 employees · Wholesale Building Materials',\n",
       "       '51-200 employees · IT Services and IT Consulting',\n",
       "       '1,001-5,000 employees · Outsourcing and Offshoring Consulting',\n",
       "       '10,001+ employees · Pharmaceutical Manufacturing',\n",
       "       'See how you compare to 272 applicants. Reactivate Premium',\n",
       "       '501-1,000 employees · Motor Vehicle Manufacturing',\n",
       "       'See how you compare to 118 applicants. Reactivate Premium',\n",
       "       '10,001+ employees · Non-profit Organizations',\n",
       "       'Adnan Dogar is hiring for this job',\n",
       "       'Zuhad khan is hiring for this job',\n",
       "       'Ali Raza is hiring for this job',\n",
       "       '51-200 employees · Research Services',\n",
       "       '51-200 employees · Higher Education',\n",
       "       '5,001-10,000 employees · Advertising Services',\n",
       "       'See how you compare to 36 applicants. Reactivate Premium',\n",
       "       'See how you compare to 9 applicants. Reactivate Premium',\n",
       "       'online earning is hiring for this job',\n",
       "       'Ishook Ram is hiring for this job',\n",
       "       '10,001+ employees · Beverage Manufacturing',\n",
       "       'See how you compare to 19 applicants. Reactivate Premium',\n",
       "       'Immad Langah is hiring for this job',\n",
       "       '11-50 employees · Outsourcing and Offshoring Consulting',\n",
       "       'Rehan Sheikh is hiring for this job',\n",
       "       'See recent hiring trends for Tubitech Srl. Reactivate Premium',\n",
       "       'ASG SYSTEMS PAKISTAN is hiring for this job',\n",
       "       '10,001+ employees · Outsourcing/Offshoring',\n",
       "       '11-50 employees · Financial Services',\n",
       "       'ayesha shz is hiring for this job',\n",
       "       '10,001+ employees · Hospitals and Health Care',\n",
       "       '10,001+ employees · Farming',\n",
       "       'Afraz Begum Sial is hiring for this job',\n",
       "       'See how you compare to 53 applicants. Reactivate Premium',\n",
       "       'See how you compare to 10 applicants. Reactivate Premium',\n",
       "       'Sanaullah Aman is hiring for this job',\n",
       "       'See how you compare to 15 applicants. Reactivate Premium',\n",
       "       'See how you compare to 7 applicants. Reactivate Premium',\n",
       "       '1,001-5,000 employees · Oil and Gas',\n",
       "       '51-200 employees · Information Technology & Services',\n",
       "       'Nam C. is hiring for this job',\n",
       "       '5,001-10,000 employees · Real Estate',\n",
       "       '10,001+ employees · Professional Services',\n",
       "       'Tahir Islam is hiring for this job',\n",
       "       '51-200 employees · Technology, Information and Internet',\n",
       "       'See how you compare to 23 applicants. Reactivate Premium',\n",
       "       'Zulqarnain Khan is hiring for this job',\n",
       "       'AWAIS AHMAD is hiring for this job',\n",
       "       'Hassan Raza Khalid is hiring for this job',\n",
       "       'See how you compare to 51 applicants. Reactivate Premium',\n",
       "       '501-1,000 employees · Software Development',\n",
       "       'SHAKIR NAWAB is hiring for this job',\n",
       "       '51-200 employees · Automation Machinery Manufacturing',\n",
       "       'See how you compare to 34 applicants. Reactivate Premium',\n",
       "       'Jawad Arshad is hiring for this job',\n",
       "       '5,001-10,000 employees · Book and Periodical Publishing',\n",
       "       'Salman Tariq is hiring for this job',\n",
       "       '201-500 employees · Computer and Network Security',\n",
       "       'Umar Siddiqui is hiring for this job',\n",
       "       'See how you compare to 20 applicants. Reactivate Premium',\n",
       "       '10,001+ employees · Information Services',\n",
       "       'See how you compare to 21 applicants. Reactivate Premium',\n",
       "       '1,001-5,000 employees · International Affairs',\n",
       "       'Muhammad Haris is hiring for this job',\n",
       "       'Adnan Qureshi is hiring for this job',\n",
       "       'muhammad sharjeel is hiring for this job',\n",
       "       'Shahid Aziz is hiring for this job',\n",
       "       'Yasir Khubaib is hiring for this job',\n",
       "       '11-50 employees · Technology, Information and Internet',\n",
       "       'Anas Abdul Aziz Fayyaz Ehsan is hiring for this job',\n",
       "       '11-50 employees · Education', 'Manas Khan is hiring for this job',\n",
       "       'muhammad imran is hiring for this job',\n",
       "       '51-200 employees · International Trade and Development',\n",
       "       'Ali Malik, CCXP is hiring for this job',\n",
       "       '51-200 employees · Staffing and Recruiting',\n",
       "       '11-50 employees · Higher Education',\n",
       "       '11-50 employees · Transportation, Logistics, Supply Chain and Storage',\n",
       "       '1-10 employees · Human Resources Services',\n",
       "       '1,001-5,000 employees · Higher Education',\n",
       "       '51-200 employees · Human Resources',\n",
       "       '201-500 employees · Software Development',\n",
       "       '201-500 employees · Medical Practices',\n",
       "       'Huma Khan is hiring for this job',\n",
       "       '1,001-5,000 employees · Manufacturing',\n",
       "       '51-200 employees · Paper and Forest Product Manufacturing',\n",
       "       'Muhammad Asif is hiring for this job',\n",
       "       '10,001+ employees · Technology, Information and Internet',\n",
       "       '5,001-10,000 employees · Non-profit Organization Management',\n",
       "       'Talha Shah is hiring for this job',\n",
       "       'Mirza Sajid Mahmood is hiring for this job',\n",
       "       '5,001-10,000 employees · International Affairs',\n",
       "       '201-500 employees · Internet Marketplace Platforms',\n",
       "       '201-500 employees · IT Services and IT Consulting',\n",
       "       '10,001+ employees · Financial Services',\n",
       "       '10,001+ employees · Automation Machinery Manufacturing',\n",
       "       '5,001-10,000 employees · Internet Marketplace Platforms',\n",
       "       '10,001+ employees · IT Services and IT Consulting',\n",
       "       '10,001+ employees · Personal Care Product Manufacturing',\n",
       "       '10,001+ employees · Banking',\n",
       "       'See how you compare to 256 applicants. Reactivate Premium',\n",
       "       '1,001-5,000 employees · Advertising Services',\n",
       "       '201-500 employees · Technology, Information and Internet',\n",
       "       '10,001+ employees · Food and Beverage Manufacturing',\n",
       "       '10,001+ employees · Retail', 'Awais Javed is hiring for this job',\n",
       "       'Dn Ch Moiz Gujjar is hiring for this job',\n",
       "       '10,001+ employees · International Trade and Development',\n",
       "       '10,001+ employees · Biotechnology Research',\n",
       "       'Mian Khuram Ali is hiring for this job',\n",
       "       'Irtaza B. Raja is hiring for this job',\n",
       "       'See how you compare to 32 applicants. Reactivate Premium',\n",
       "       '51-200 employees · Information Services',\n",
       "       'Abdul Rauf is hiring for this job',\n",
       "       'See how you compare to 6 applicants. Reactivate Premium',\n",
       "       'Dr Farrukh Aslam khan is hiring for this job',\n",
       "       'See how you compare to 62 applicants. Reactivate Premium',\n",
       "       'See how you compare to 13 applicants. Reactivate Premium',\n",
       "       '1-10 employees · Outsourcing and Offshoring Consulting',\n",
       "       'The Motor Crew is hiring for this job',\n",
       "       'See how you compare to 17 applicants. Reactivate Premium',\n",
       "       'See how you compare to 69 applicants. Reactivate Premium',\n",
       "       '501-1,000 employees · Hospitals and Health Care',\n",
       "       '10,001+ employees · Consumer Services',\n",
       "       '5,001-10,000 employees · Consumer Goods',\n",
       "       'fahad khan is hiring for this job',\n",
       "       '10,001+ employees · Manufacturing',\n",
       "       '11-50 employees · Staffing and Recruiting',\n",
       "       'Sharjeel Arif is hiring for this job',\n",
       "       'Shafeeque Ahmed is hiring for this job',\n",
       "       'Uzair Khan is hiring for this job',\n",
       "       'See how you compare to 18 applicants. Reactivate Premium',\n",
       "       'See how you compare to 73 applicants. Reactivate Premium',\n",
       "       '5,001-10,000 employees · Non-profit Organizations',\n",
       "       'Usman Majeed is hiring for this job',\n",
       "       'See how you compare to 86 applicants. Reactivate Premium',\n",
       "       'See how you compare to 12 applicants. Reactivate Premium',\n",
       "       'See how you compare to 11 applicants. Reactivate Premium',\n",
       "       '51-200 employees · Media Production',\n",
       "       'Choudhry Azizuddin is hiring for this job',\n",
       "       'See how you compare to 58 applicants. Reactivate Premium',\n",
       "       '501-1,000 employees · Food and Beverage Services',\n",
       "       '51-200 employees · Accounting',\n",
       "       '11-50 employees · Software Development',\n",
       "       'Faisal Raza is hiring for this job',\n",
       "       'See how you compare to 283 applicants. Reactivate Premium',\n",
       "       '1,001-5,000 employees · Human Resources Services',\n",
       "       'yasir khalid is hiring for this job',\n",
       "       '11-50 employees · Outsourcing/Offshoring',\n",
       "       'Hira Benish, Ph.D. is hiring for this job',\n",
       "       '5,001-10,000 employees · Translation and Localization',\n",
       "       'Raja Mahmood Subhani is hiring for this job',\n",
       "       'See how you compare to 92 applicants. Reactivate Premium',\n",
       "       'Muhammad Ukasha Noman is hiring for this job',\n",
       "       'Job poster joined LinkedIn in 2021',\n",
       "       'See how you compare to 14 applicants. Reactivate Premium',\n",
       "       '1-10 employees · Human Resources',\n",
       "       'Ali Ather is hiring for this job',\n",
       "       'Nauman Khan is hiring for this job',\n",
       "       'Irfan Chughtai is hiring for this job',\n",
       "       '10,001+ employees · Oil and Gas',\n",
       "       '201-500 employees · Real Estate',\n",
       "       'See how you compare to 52 applicants. Reactivate Premium',\n",
       "       '10,001+ employees · Transportation, Logistics, Supply Chain and Storage',\n",
       "       '1,001-5,000 employees · Events Services',\n",
       "       'See how you compare to 119 applicants. Reactivate Premium',\n",
       "       '11-50 employees · Information Technology & Services',\n",
       "       'Haris Arain is hiring for this job',\n",
       "       'Sami ur rehman rehman is hiring for this job',\n",
       "       '51-200 employees · Retail Luxury Goods and Jewelry',\n",
       "       'Muhammad Attique is hiring for this job',\n",
       "       'Awais Ashraf is hiring for this job',\n",
       "       'innocent Angel is hiring for this job',\n",
       "       'iqra batool is hiring for this job',\n",
       "       'Laraib Hussain is hiring for this job',\n",
       "       'Mona Farooq is hiring for this job',\n",
       "       '51-200 employees · Apparel & Fashion',\n",
       "       'jai kumar is hiring for this job',\n",
       "       'Javed Ramzan Ali is hiring for this job',\n",
       "       'Aneel Kumar is hiring for this job',\n",
       "       '10,001+ employees · Packaging and Containers Manufacturing',\n",
       "       'Sherjeel Ali Chaudary is hiring for this job',\n",
       "       'Syed Saboor Pasha is hiring for this job',\n",
       "       '1,001-5,000 employees · Automotive',\n",
       "       'Love Suther is hiring for this job',\n",
       "       '501-1,000 employees · Real Estate',\n",
       "       'Amjad Mehmood is hiring for this job',\n",
       "       '10,001+ employees · Chemical Manufacturing',\n",
       "       '51-200 employees · Think Tanks', '501-1,000 employees · Retail',\n",
       "       '1-10 employees · Staffing and Recruiting',\n",
       "       'Salman Ahmed Hashmi is hiring for this job',\n",
       "       'See how you compare to 37 applicants. Reactivate Premium',\n",
       "       'Zeeshan Yaqoob is hiring for this job',\n",
       "       '11-50 employees · Public Safety',\n",
       "       'Usama Tariq is hiring for this job',\n",
       "       'See how you compare to 153 applicants. Reactivate Premium',\n",
       "       '201-500 employees · Information Technology & Services',\n",
       "       'HAIDER SAEED MUGHAL is hiring for this job',\n",
       "       '5,001-10,000 employees · Human Resources Services',\n",
       "       'Abubaker Kareem is hiring for this job',\n",
       "       'See how you compare to 85 applicants. Reactivate Premium',\n",
       "       'mohammad ashraf memon is hiring for this job',\n",
       "       'Malik Mirza FCA, FCCA (UK), MBA is hiring for this job',\n",
       "       '10,001+ employees · Higher Education',\n",
       "       'See how you compare to 22 applicants. Reactivate Premium',\n",
       "       'Muhammad Shahzaib is hiring for this job',\n",
       "       'See how you compare to 4 applicants. Reactivate Premium',\n",
       "       'Qasim Awan is hiring for this job',\n",
       "       'See how you compare to 3 applicants. Reactivate Premium',\n",
       "       '5,001-10,000 employees · Software Development',\n",
       "       '51-200 employees · International Affairs',\n",
       "       '201-500 employees · IT System Custom Software Development',\n",
       "       '1,001-5,000 employees · Food Production',\n",
       "       '51-200 employees · Advertising Services',\n",
       "       '1,001-5,000 employees · Real Estate',\n",
       "       '51-200 employees · Strategic Management Services',\n",
       "       '1,001-5,000 employees · Financial Services',\n",
       "       'Ume Rubab is hiring for this job',\n",
       "       'See how you compare to 308 applicants. Reactivate Premium',\n",
       "       'Anas Nadeem is hiring for this job',\n",
       "       'PROTRIP CONSULTANCY is hiring for this job',\n",
       "       '51-200 employees · Financial Services',\n",
       "       '201-500 employees · Transportation, Logistics, Supply Chain and Storage',\n",
       "       'Ghulam Asghar is hiring for this job',\n",
       "       'See how you compare to 64 applicants. Reactivate Premium',\n",
       "       'Raaheen Alikhan is hiring for this job',\n",
       "       'Kashif Awan is hiring for this job',\n",
       "       '10,001+ employees · Information Technology & Services',\n",
       "       'See how you compare to 47 applicants. Reactivate Premium',\n",
       "       'See how you compare to 27 applicants. Reactivate Premium',\n",
       "       'Muhammad Asim is hiring for this job',\n",
       "       '201-500 employees · Telecommunications',\n",
       "       '11-50 employees · Advertising Services',\n",
       "       'Akhtar Abid Hussain is hiring for this job',\n",
       "       'Ahmad Saleem is hiring for this job',\n",
       "       'See how you compare to 5 applicants. Reactivate Premium',\n",
       "       'Gamers Hype is hiring for this job',\n",
       "       'Shafaqat Ali is hiring for this job',\n",
       "       '5,001-10,000 employees · Biotechnology Research',\n",
       "       '501-1,000 employees · Outsourcing and Offshoring Consulting',\n",
       "       '10,001+ employees · Airlines and Aviation',\n",
       "       '1,001-5,000 employees · Retail',\n",
       "       '51-200 employees · Telecommunications',\n",
       "       '1-10 employees · IT Services and IT Consulting',\n",
       "       'See recent hiring trends for AA Joyland. Reactivate Premium',\n",
       "       '11-50 employees · Holding Companies',\n",
       "       'See how you compare to 125 applicants. Reactivate Premium',\n",
       "       '10,001+ employees · Facilities Services',\n",
       "       'See how you compare to 24 applicants. Reactivate Premium',\n",
       "       'Ambrose Emmanuel is hiring for this job',\n",
       "       'Saad Malik is hiring for this job',\n",
       "       '201-500 employees · Leisure, Travel & Tourism',\n",
       "       'Hotel Deluxe Lahore is hiring for this job',\n",
       "       'Hamza Raza is hiring for this job',\n",
       "       '51-200 employees · Design Services',\n",
       "       'syed Khalid is hiring for this job',\n",
       "       'Zain Bukhari is hiring for this job',\n",
       "       '5,001-10,000 employees · Education Administration Programs',\n",
       "       '201-500 employees · Automation Machinery Manufacturing',\n",
       "       'Muhammad Usman is hiring for this job',\n",
       "       'Zaheer Ahmad is hiring for this job',\n",
       "       'Muhammad Hamdan is hiring for this job',\n",
       "       'See how you compare to 145 applicants. Reactivate Premium',\n",
       "       'See how you compare to 33 applicants. Reactivate Premium',\n",
       "       'mohammed ishtiaq is hiring for this job',\n",
       "       '6 company alumni work here · 4 school alumni work here',\n",
       "       '1-10 employees · Blockchain Services',\n",
       "       'Saqib Idrees is hiring for this job',\n",
       "       '501-1,000 employees · Technology, Information and Internet',\n",
       "       '7 school alumni work here',\n",
       "       '201-500 employees · Food and Beverage Manufacturing',\n",
       "       '10,001+ employees · Renewable Energy Semiconductor Manufacturing',\n",
       "       '10,001+ employees · Outsourcing and Offshoring Consulting',\n",
       "       'Ahmad awan is hiring for this job',\n",
       "       'Zulfiqar Rana is hiring for this job',\n",
       "       '11-50 employees · Marketing Services',\n",
       "       '501-1,000 employees · Electric Power Generation',\n",
       "       'Bilal S. is hiring for this job',\n",
       "       '1-10 employees · Software Development',\n",
       "       '201-500 employees · Pharmaceutical Manufacturing',\n",
       "       '10,001+ employees · Aviation and Aerospace Component Manufacturing',\n",
       "       '1,001-5,000 employees · Airlines and Aviation',\n",
       "       'Arhum Ahmad is hiring for this job',\n",
       "       'Muhammad Anas Farooqi is hiring for this job',\n",
       "       '5,001-10,000 employees · Manufacturing',\n",
       "       'See how you compare to 83 applicants. Reactivate Premium',\n",
       "       'See how you compare to 16 applicants. Reactivate Premium',\n",
       "       'Iqra Amjad is hiring for this job',\n",
       "       '11-50 employees · Real Estate',\n",
       "       'Safia Naz is hiring for this job',\n",
       "       'Zaman Ashraf is hiring for this job',\n",
       "       'Faizan Kamran is hiring for this job',\n",
       "       'Hassan mehdi is hiring for this job',\n",
       "       'Syed Zulfiqar Ali is hiring for this job',\n",
       "       'Iqbal Shehzada is hiring for this job',\n",
       "       '10,001+ employees · Advertising Services',\n",
       "       'See how you compare to 167 applicants. Reactivate Premium',\n",
       "       'See how you compare to 200 applicants. Reactivate Premium',\n",
       "       'Rafay Z. is hiring for this job',\n",
       "       'See how you compare to 231 applicants. Reactivate Premium',\n",
       "       'See how you compare to 305 applicants. Reactivate Premium',\n",
       "       'See how you compare to 99 applicants. Reactivate Premium',\n",
       "       'See how you compare to 68 applicants. Reactivate Premium',\n",
       "       'See how you compare to 255 applicants. Reactivate Premium',\n",
       "       'See how you compare to 90 applicants. Reactivate Premium',\n",
       "       'S Hidayat Waris, SI (M) is hiring for this job',\n",
       "       '1,001-5,000 employees · Renewable Energy Equipment Manufacturing',\n",
       "       'See how you compare to 163 applicants. Reactivate Premium',\n",
       "       'See how you compare to 435 applicants. Reactivate Premium',\n",
       "       'See how you compare to 276 applicants. Reactivate Premium',\n",
       "       'ZENITH INTERNATIONAL is hiring for this job',\n",
       "       'Umair Shahzad-SAP is hiring for this job',\n",
       "       'See how you compare to 76 applicants. Reactivate Premium',\n",
       "       'See how you compare to 107 applicants. Reactivate Premium',\n",
       "       'Sufian Nazir is hiring for this job',\n",
       "       'See how you compare to 350 applicants. Reactivate Premium',\n",
       "       'AKHMAD KHUSHAL is hiring for this job',\n",
       "       'Waqar Ur Rehman is hiring for this job',\n",
       "       'See how you compare to 54 applicants. Reactivate Premium',\n",
       "       'See how you compare to 41 applicants. Reactivate Premium',\n",
       "       '1 school alum works here',\n",
       "       'Muhammad Yasir Gujjar is hiring for this job',\n",
       "       'See how you compare to 266 applicants. Reactivate Premium',\n",
       "       'See how you compare to 229 applicants. Reactivate Premium',\n",
       "       'amir mughal is hiring for this job',\n",
       "       '51-200 employees · Education Management',\n",
       "       '51-200 employees · Real Estate',\n",
       "       'Razia Faiz is hiring for this job',\n",
       "       'Mahnoor Waseem is hiring for this job',\n",
       "       '1,001-5,000 employees · Wholesale',\n",
       "       '5,001-10,000 employees · Higher Education',\n",
       "       '5,001-10,000 employees · Utilities',\n",
       "       'See how you compare to 70 applicants. Reactivate Premium',\n",
       "       '51-200 employees · Transportation, Logistics, Supply Chain and Storage',\n",
       "       '1,001-5,000 employees · International Trade and Development',\n",
       "       '1,001-5,000 employees · Chemical Manufacturing',\n",
       "       '1,001-5,000 employees · Accounting',\n",
       "       'Faizi Khokhar is hiring for this job',\n",
       "       '10,001+ employees · Retail Apparel and Fashion',\n",
       "       'Ghulam Mustafa is hiring for this job',\n",
       "       'Arooba Aslam is hiring for this job',\n",
       "       'Muhammad Abu Bakar is hiring for this job',\n",
       "       '501-1,000 employees · Staffing and Recruiting',\n",
       "       '1,001-5,000 employees · Biotechnology Research',\n",
       "       '51-200 employees · Wholesale', 'Adnan Ali is hiring for this job',\n",
       "       'Wajid Khan is hiring for this job',\n",
       "       'Mohammad Amjad is hiring for this job',\n",
       "       'Azeem Haider is hiring for this job',\n",
       "       'Rohana Weerarathne is hiring for this job',\n",
       "       'Viqar Hussain is hiring for this job',\n",
       "       'See how you compare to 102 applicants. Reactivate Premium',\n",
       "       '5,001-10,000 employees · Pharmaceutical Manufacturing',\n",
       "       '10,001+ employees · Real Estate',\n",
       "       'Saad Rehman is hiring for this job',\n",
       "       'Ghani Khan is hiring for this job',\n",
       "       '10,001+ employees · Industrial Machinery Manufacturing',\n",
       "       'See how you compare to 26 applicants. Reactivate Premium',\n",
       "       'Muhammad Saeed is hiring for this job',\n",
       "       'Ihsan ul Haq is hiring for this job',\n",
       "       '201-500 employees · Furniture',\n",
       "       'Usama Malick is hiring for this job',\n",
       "       'Muhammad Irfan Rind is hiring for this job',\n",
       "       'MUSADDIQ JABBAR is hiring for this job',\n",
       "       'Syed Yawar Abbas is hiring for this job',\n",
       "       '11-50 employees · Hospitals and Health Care',\n",
       "       'Syed Muhammad Jahanzaib Mushtaq is hiring for this job',\n",
       "       '501-1,000 employees · Engineering Services',\n",
       "       'Omer Jawed Ghani is hiring for this job',\n",
       "       '10,001+ employees · Medical Equipment Manufacturing',\n",
       "       '1,001-5,000 employees · Semiconductor Manufacturing',\n",
       "       '1,001-5,000 employees · Translation and Localization',\n",
       "       'See how you compare to 30 applicants. Reactivate Premium',\n",
       "       'See how you compare to 35 applicants. Reactivate Premium',\n",
       "       'ALR Electronics is hiring for this job',\n",
       "       'Zaiba Mahsud is hiring for this job',\n",
       "       'Ash Riz is hiring for this job',\n",
       "       'Atif Tansir is hiring for this job',\n",
       "       '51-200 employees · Technology, Information and Media',\n",
       "       '11-50 employees · Media Production',\n",
       "       'Namra Akhtar is hiring for this job',\n",
       "       'abrar khan is hiring for this job',\n",
       "       '501-1,000 employees · Information Services',\n",
       "       '10,001+ employees · Packaging & Containers',\n",
       "       '1,001-5,000 employees · Non-profit Organizations',\n",
       "       '5,001-10,000 employees · Outsourcing and Offshoring Consulting',\n",
       "       'See how you compare to 40 applicants. Reactivate Premium',\n",
       "       '11-50 employees · Internet Marketplace Platforms',\n",
       "       '11-50 employees · Education Administration Programs',\n",
       "       'Rizwan Chaudhary is hiring for this job',\n",
       "       'Syed Hassan Abbas is hiring for this job',\n",
       "       'Ahsan Irfan is hiring for this job',\n",
       "       '11-50 employees · Information Services',\n",
       "       'Sheikh Muhammad Taha is hiring for this job',\n",
       "       'Waqar Younis is hiring for this job', '6 school alumni work here',\n",
       "       'Muhammad Aksam Ali is hiring for this job',\n",
       "       'Majid Saif is hiring for this job',\n",
       "       'See how you compare to 235 applicants. Reactivate Premium',\n",
       "       'danyal malik is hiring for this job',\n",
       "       'See how you compare to 159 applicants. Reactivate Premium',\n",
       "       '11-50 employees · Online Audio and Video Media',\n",
       "       'See how you compare to 122 applicants. Reactivate Premium',\n",
       "       'Abdul Rehman Shahid is hiring for this job',\n",
       "       'See how you compare to 50 applicants. Reactivate Premium',\n",
       "       'Shayan Tauqeer is hiring for this job',\n",
       "       'Irfan Awan is hiring for this job',\n",
       "       'MANA SHANA is hiring for this job',\n",
       "       'See recent hiring trends for Ayesha Manzil. Reactivate Premium',\n",
       "       'noor zulfiqar is hiring for this job',\n",
       "       'Shamraiza Khan is hiring for this job',\n",
       "       'Abdullah Imran is hiring for this job',\n",
       "       '51-200 employees · Retail Apparel and Fashion',\n",
       "       'See how you compare to 80 applicants. Reactivate Premium',\n",
       "       'Aamir Shahzad is hiring for this job',\n",
       "       'See how you compare to 430 applicants. Reactivate Premium',\n",
       "       'khurram imtiaz is hiring for this job',\n",
       "       'Umar Ashraf is hiring for this job',\n",
       "       'Syed Jawad Ur Rehman ⭐️ Shopify Dropshipping Expert is hiring for this job',\n",
       "       'Dr Hana Mahmood is hiring for this job',\n",
       "       'See how you compare to 111 applicants. Reactivate Premium',\n",
       "       'Mahmood Ali Shah Bukhari is hiring for this job',\n",
       "       'Zeenat Sabir is hiring for this job',\n",
       "       'Job poster joined LinkedIn in 2018',\n",
       "       'Farhan Ali is hiring for this job',\n",
       "       'Aqsa Bashir is hiring for this job',\n",
       "       'MANSOOR HAIDER is hiring for this job',\n",
       "       'Umar Farooq is hiring for this job',\n",
       "       'ASNAN AZAM is hiring for this job',\n",
       "       '1-10 employees · Technology, Information and Internet',\n",
       "       '1,001-5,000 employees · Staffing and Recruiting',\n",
       "       'ammar hassan is hiring for this job',\n",
       "       'Humair Ishtiaq is hiring for this job',\n",
       "       'zaid shahid is hiring for this job',\n",
       "       'Zahida Tayyeb banuri is hiring for this job',\n",
       "       'Syed Muhammad Rauf B. is hiring for this job',\n",
       "       'Adnan Dawood Khan is hiring for this job',\n",
       "       'Shahid Amin is hiring for this job',\n",
       "       'Sumera Waseem is hiring for this job',\n",
       "       'Dr. Nuzhat Rahmat is hiring for this job',\n",
       "       'Ahmad Sardar is hiring for this job',\n",
       "       'See how you compare to 48 applicants. Reactivate Premium',\n",
       "       'Syed Rafay is hiring for this job',\n",
       "       '1,001-5,000 employees · Renewable Energy Semiconductor Manufacturing',\n",
       "       'Engr Muhammad Usman Mughal is hiring for this job',\n",
       "       'Tayyab Sultan is hiring for this job',\n",
       "       'Saleem Raza is hiring for this job',\n",
       "       'Qudsia Mumtaz is hiring for this job',\n",
       "       'Raheel Muhammad is hiring for this job',\n",
       "       'Muhammad Ameer Hamza is hiring for this job',\n",
       "       'Riphah International College, Attock Campus. is hiring for this job',\n",
       "       'Asif Hasnain is hiring for this job',\n",
       "       'Maryam Rani is hiring for this job',\n",
       "       'Genesis Global is hiring for this job',\n",
       "       'afzal Javed is hiring for this job',\n",
       "       'Abu talib Rizvi is hiring for this job',\n",
       "       'Dr.Fahim Rao is hiring for this job',\n",
       "       'Amna Khan is hiring for this job',\n",
       "       'Mirza Abdul Basit is hiring for this job',\n",
       "       'CAPS College is hiring for this job',\n",
       "       'Saad Abbasi is hiring for this job',\n",
       "       'Sami Yazdani is hiring for this job',\n",
       "       'mudasar nazir is hiring for this job',\n",
       "       'khaqan Ahmed Khan is hiring for this job',\n",
       "       'Sangonomiya Kokomi is hiring for this job',\n",
       "       '51-200 employees · Architecture and Planning',\n",
       "       'Asad Ullah is hiring for this job',\n",
       "       'See how you compare to 516 applicants. Reactivate Premium',\n",
       "       'See how you compare to 222 applicants. Reactivate Premium',\n",
       "       'See how you compare to 236 applicants. Reactivate Premium',\n",
       "       'mohsin mughal is hiring for this job',\n",
       "       'Saboor Khan is hiring for this job',\n",
       "       '501-1,000 employees · Internet Marketplace Platforms',\n",
       "       'Yashfeen Akram is hiring for this job',\n",
       "       'Rizwan Feda is hiring for this job',\n",
       "       'See recent hiring trends for LUDS. Reactivate Premium',\n",
       "       'Adeel Anjum is hiring for this job',\n",
       "       'Sajid Mohsin is hiring for this job',\n",
       "       'hassan saleem khan is hiring for this job',\n",
       "       'Ayesha Sajid is hiring for this job',\n",
       "       'syed Uzair Shah is hiring for this job',\n",
       "       'Noam Fatima is hiring for this job',\n",
       "       '201-500 employees · Civic and Social Organizations',\n",
       "       'Faisal Bashir is hiring for this job',\n",
       "       'Mohsin Raza Bukhari is hiring for this job',\n",
       "       'AMS Global is hiring for this job',\n",
       "       'See how you compare to 84 applicants. Reactivate Premium',\n",
       "       'Amir Masood is hiring for this job',\n",
       "       'Omar Naeem, CFA is hiring for this job',\n",
       "       '1-10 employees · Telecommunications',\n",
       "       'See how you compare to 253 applicants. Reactivate Premium',\n",
       "       '201-500 employees · Staffing and Recruiting',\n",
       "       '201-500 employees · Advertising Services',\n",
       "       '201-500 employees · E-Learning Providers',\n",
       "       'Mian Raza is hiring for this job',\n",
       "       '1-10 employees · Personal Care Product Manufacturing',\n",
       "       'Muhammad Ahsan is hiring for this job',\n",
       "       'Shehroz Hussain is hiring for this job',\n",
       "       'AMIR JAVAID is hiring for this job',\n",
       "       'Anabia Khan is hiring for this job',\n",
       "       'Rooman ijaz is hiring for this job',\n",
       "       'madiha ashraf is hiring for this job',\n",
       "       'Sara Asad is hiring for this job',\n",
       "       'Sumaira W. is hiring for this job',\n",
       "       '10,001+ employees · Engineering Services',\n",
       "       'Hazel Haque is hiring for this job',\n",
       "       'Mohammad Waqar Rana is hiring for this job',\n",
       "       'Abdullah zubair is hiring for this job',\n",
       "       'Masood Raza is hiring for this job',\n",
       "       'Hassan Abbas is hiring for this job',\n",
       "       'zahid mahmood is hiring for this job',\n",
       "       'Syed Hassan Askari is hiring for this job',\n",
       "       'Saim khan is hiring for this job',\n",
       "       'Laiq Ahmed is hiring for this job',\n",
       "       'Javed Hayat is hiring for this job',\n",
       "       'Nabeel Hassan Gilani is hiring for this job',\n",
       "       'Dilshad Khan is hiring for this job',\n",
       "       '51-200 employees · Blockchain Services',\n",
       "       '51-200 employees · Oil and Gas',\n",
       "       '5,001-10,000 employees · Banking',\n",
       "       '501-1,000 employees · International Trade and Development',\n",
       "       'Sahib Zada is hiring for this job',\n",
       "       'Sheraz Bucha is hiring for this job',\n",
       "       'Shahzad Ashraf is hiring for this job',\n",
       "       'Salman J Memon is hiring for this job',\n",
       "       'Mr. Usman is hiring for this job',\n",
       "       'Sharoon Jacob is hiring for this job',\n",
       "       'Muhammad Waqas Ansari is hiring for this job',\n",
       "       '201-500 employees · Research',\n",
       "       'See how you compare to 45 applicants. Reactivate Premium',\n",
       "       'moiz haider is hiring for this job',\n",
       "       'Muhammad Arif Pahore is hiring for this job',\n",
       "       'Tahir Ayoub is hiring for this job',\n",
       "       'usman shafi is hiring for this job',\n",
       "       'Rafaqat Ali is hiring for this job',\n",
       "       'Rizwan Maniya is hiring for this job',\n",
       "       'Zulquida Shykh is hiring for this job',\n",
       "       'See recent hiring trends for Ozark bpo. Reactivate Premium',\n",
       "       'Abdul Hannan is hiring for this job',\n",
       "       'Imran Masih is hiring for this job',\n",
       "       'Abdullah Malik is hiring for this job',\n",
       "       'Shafiq Ur Rehman is hiring for this job',\n",
       "       'Join Mind Wires is hiring for this job',\n",
       "       'Affaq Syed is hiring for this job',\n",
       "       'Ahad Qurexhi is hiring for this job',\n",
       "       '1-10 employees · Professional Training and Coaching',\n",
       "       'Sima Saif is hiring for this job',\n",
       "       'Obaid Afzal is hiring for this job',\n",
       "       'Muhammad Baseer is hiring for this job',\n",
       "       'Hasnain Talib is hiring for this job',\n",
       "       'Hamza Farooq is hiring for this job',\n",
       "       'Nida Rehan is hiring for this job',\n",
       "       'Anas Ahmed khan is hiring for this job',\n",
       "       'Sadaf Qazi 😎 is hiring for this job',\n",
       "       'Mujtaba Faisal is hiring for this job',\n",
       "       'Asim Khan is hiring for this job',\n",
       "       'Arsalan Jamal Khan is hiring for this job',\n",
       "       'Rehan Mughal is hiring for this job',\n",
       "       'shams khan is hiring for this job',\n",
       "       'M Usman Kaleem is hiring for this job',\n",
       "       'Waleed Mahmood is hiring for this job',\n",
       "       'eAviations Islamabad is hiring for this job',\n",
       "       'See recent hiring trends for Virtual technology. Reactivate Premium',\n",
       "       'Ali Tahir is hiring for this job',\n",
       "       'Bilal khan is hiring for this job',\n",
       "       'Muhammad Muteeb is hiring for this job',\n",
       "       'Muhammad Aslam is hiring for this job',\n",
       "       'Khawaja Hamid Hassan is hiring for this job',\n",
       "       'Zain Shah is hiring for this job',\n",
       "       'Mian Usman Mahmood is hiring for this job',\n",
       "       'Bilal Ahmad is hiring for this job',\n",
       "       'Dua Abdullah is hiring for this job',\n",
       "       'Toqeer Abbas is hiring for this job',\n",
       "       'Usman Sajjad is hiring for this job',\n",
       "       'Mashal Eman is hiring for this job',\n",
       "       'Summaiya Asad is hiring for this job',\n",
       "       'Usman Rana is hiring for this job',\n",
       "       'See how you compare to 8 applicants. Reactivate Premium',\n",
       "       'See how you compare to 28 applicants. Reactivate Premium',\n",
       "       'Amir Nazir is hiring for this job',\n",
       "       'Huzaifa Sarfraz is hiring for this job',\n",
       "       'Ghulam Meeran is hiring for this job',\n",
       "       'Naufil R. is hiring for this job',\n",
       "       'Marvelous Uzong is hiring for this job',\n",
       "       'Usama Kamdar is hiring for this job',\n",
       "       'Atiya Arif is hiring for this job',\n",
       "       'Saqib Mughal is hiring for this job',\n",
       "       'ShAiKh mOiZ is hiring for this job',\n",
       "       'Kingsmen Telco is hiring for this job',\n",
       "       'Asif Saeed is hiring for this job',\n",
       "       'See how you compare to 61 applicants. Reactivate Premium',\n",
       "       '1-10 employees · Writing and Editing',\n",
       "       '11-50 employees · Investment Advice',\n",
       "       'Iqra Naqvi is hiring for this job',\n",
       "       '201-500 employees · Food and Beverage Services',\n",
       "       'Muhammad Moeen is hiring for this job',\n",
       "       'Haider Zaman Yousafzai is hiring for this job',\n",
       "       'Muhammad Tasleem Qadri is hiring for this job',\n",
       "       'Ameer Hamza is hiring for this job',\n",
       "       'AIJAZ MEMON is hiring for this job',\n",
       "       '5,001-10,000 employees · Chemical Manufacturing',\n",
       "       'Basit Fayyaz is hiring for this job',\n",
       "       'Mirza Waiz Imtiaz is hiring for this job',\n",
       "       'Mudassar Javed Gondal is hiring for this job',\n",
       "       'Talal Shah is hiring for this job',\n",
       "       'Zillah Alam is hiring for this job',\n",
       "       'Naveed Toshee is hiring for this job',\n",
       "       'Haseeb Tutor is hiring for this job',\n",
       "       'Haroon hayat is hiring for this job',\n",
       "       'Waseem Raza is hiring for this job',\n",
       "       '10,001+ employees · Appliances, Electrical, and Electronics Manufacturing',\n",
       "       'Zafar Iqbal is hiring for this job',\n",
       "       'Hyundai Airport Motors is hiring for this job',\n",
       "       'Saeed ulhaq Qureshi is hiring for this job',\n",
       "       'Babar Ahmed is hiring for this job',\n",
       "       'Hussain Pirani is hiring for this job',\n",
       "       'Zeeshan Javed is hiring for this job',\n",
       "       'Rania Haris is hiring for this job',\n",
       "       'Akash Khan is hiring for this job',\n",
       "       'Rafi Malik is hiring for this job',\n",
       "       'Usama Ali is hiring for this job',\n",
       "       '51-200 employees · Consumer Services',\n",
       "       'Qurat Ul Ain Jawed is hiring for this job',\n",
       "       'See how you compare to 93 applicants. Reactivate Premium',\n",
       "       'Shaikh Abdullah is hiring for this job',\n",
       "       'Sadia Rasool is hiring for this job',\n",
       "       'Hira Matloob is hiring for this job',\n",
       "       'See recent hiring trends for Crossover . Reactivate Premium',\n",
       "       '201-500 employees · Marketing Services',\n",
       "       'Kainat Abid John is hiring for this job',\n",
       "       'IRFAN HASSAN is hiring for this job',\n",
       "       'Afzaal SEO Expert is hiring for this job',\n",
       "       'Saveondeals Limited is hiring for this job',\n",
       "       'Muhammad Umar Saeed Akbar is hiring for this job',\n",
       "       'Kashifa Muneer is hiring for this job',\n",
       "       'Talha Touseef is hiring for this job',\n",
       "       'Sher Afghan is hiring for this job',\n",
       "       'Chaudhary Hussain is hiring for this job',\n",
       "       'Engineer Ahmad is hiring for this job',\n",
       "       'Haroon Khan is hiring for this job',\n",
       "       'Fayyaz Rana is hiring for this job',\n",
       "       'Usman A. is hiring for this job',\n",
       "       'Ch Aqdas Hussain is hiring for this job',\n",
       "       'Ashair Z. is hiring for this job',\n",
       "       'Aashir Majeed is hiring for this job',\n",
       "       'Rehan Ali is hiring for this job',\n",
       "       '201-500 employees · Human Resources Services',\n",
       "       'MUHAMMAD HAMMAD is hiring for this job',\n",
       "       'Shehroze Zafar is hiring for this job',\n",
       "       'Malik Asim Yaqub is hiring for this job',\n",
       "       'Muhammad Zawar Basharat is hiring for this job',\n",
       "       'Basit Gillani is hiring for this job',\n",
       "       'Hamza Shehzad is hiring for this job',\n",
       "       'Haji Mastan is hiring for this job',\n",
       "       'BiBi Hawwa is hiring for this job',\n",
       "       'Arslan Maqsood is hiring for this job',\n",
       "       'Muhammad Umar Mughal is hiring for this job',\n",
       "       'Usama Masood is hiring for this job',\n",
       "       'Sajid Khan is hiring for this job',\n",
       "       'Rayan Fazal is hiring for this job',\n",
       "       'Ahmed Faheem is hiring for this job',\n",
       "       'Sameer Ch is hiring for this job',\n",
       "       'See recent hiring trends for EU Tech Chamber. Reactivate Premium',\n",
       "       'Rubina Kashif is hiring for this job',\n",
       "       'zara mushtaq is hiring for this job',\n",
       "       'Hussain Sadri is hiring for this job',\n",
       "       'Syed Saqlain Raza Gilani is hiring for this job',\n",
       "       'Muhammad Waqas Arshad is hiring for this job',\n",
       "       '1 company alum works here',\n",
       "       'Muhammad Anees Ali is hiring for this job',\n",
       "       'Ayesha Ikram is hiring for this job',\n",
       "       'tanveer abbas is hiring for this job',\n",
       "       'Kamran Malik is hiring for this job',\n",
       "       'Mohammed Saifullah Malik is hiring for this job',\n",
       "       'Saad jamil is hiring for this job',\n",
       "       'M Fassih ud din Abbasi is hiring for this job',\n",
       "       'Syed Noman H. is hiring for this job',\n",
       "       'Rehan Amir is hiring for this job',\n",
       "       'Shakil Amin is hiring for this job',\n",
       "       'Faiq Saleem is hiring for this job',\n",
       "       'Rabia khan (RNK) is hiring for this job',\n",
       "       'M. Noman Haider is hiring for this job',\n",
       "       'Hasham Zahid is hiring for this job',\n",
       "       '1-10 employees · Renewable Energy Semiconductor Manufacturing',\n",
       "       'Barrister M Sajid Major (R) . is hiring for this job',\n",
       "       'Syed Saif ul Haq is hiring for this job',\n",
       "       'WAHAB ASGHAR is hiring for this job',\n",
       "       'Iqra Gul is hiring for this job',\n",
       "       'Asim Israr is hiring for this job',\n",
       "       'Waseem Ahmed is hiring for this job',\n",
       "       'Murtaza Adeeb is hiring for this job',\n",
       "       'Nasir Ismail is hiring for this job',\n",
       "       'Hamza Farooqui is hiring for this job',\n",
       "       'Mohammad Abbas Bin Khalid is hiring for this job',\n",
       "       'Zia Mohyudin is hiring for this job',\n",
       "       'Burhan Ali is hiring for this job',\n",
       "       'Muhammad Suhaib is hiring for this job',\n",
       "       'Rizwan Ali is hiring for this job',\n",
       "       'Hira Arshad is hiring for this job',\n",
       "       'Malik Abubakkar is hiring for this job',\n",
       "       'Rabiya Siddiqui is hiring for this job',\n",
       "       'Malik Nadeem is hiring for this job',\n",
       "       'TALHA MURTAZA is hiring for this job',\n",
       "       'Danish Jatt is hiring for this job',\n",
       "       'Huzaifa Ahmed is hiring for this job',\n",
       "       'Nouman Khan is hiring for this job',\n",
       "       'Muhammad Sardar Tnoli is hiring for this job',\n",
       "       'Shazia Siddique is hiring for this job',\n",
       "       'Mir Zain Talpur is hiring for this job',\n",
       "       'Zara Graphyyy is hiring for this job',\n",
       "       'Ateeq Hassan is hiring for this job',\n",
       "       'Jawad Ali is hiring for this job',\n",
       "       'Azan Ayan is hiring for this job',\n",
       "       'Faisal Qainth is hiring for this job',\n",
       "       'Rehan Samoo is hiring for this job',\n",
       "       'AZHAR ABBAS is hiring for this job',\n",
       "       'Ali Waqar is hiring for this job',\n",
       "       'Salman Haider is hiring for this job',\n",
       "       'Syed Muhammad Kasraan is hiring for this job',\n",
       "       'Muhammad Yasir is hiring for this job',\n",
       "       'Zain Safdar is hiring for this job',\n",
       "       'Sameer Syed is hiring for this job',\n",
       "       'Muhammad Zeeshan is hiring for this job',\n",
       "       'Shujaat Ali Khan Jadoon is hiring for this job',\n",
       "       'Awais Khokhar is hiring for this job',\n",
       "       'Kamran Razzaq is hiring for this job',\n",
       "       'Shahrukh Nasir is hiring for this job',\n",
       "       'Abdul Aziz is hiring for this job',\n",
       "       'Muhammad Junaid is hiring for this job',\n",
       "       'MUHAMMAD UMER is hiring for this job',\n",
       "       'See how you compare to over 200 other applicants. Reactivate Premium',\n",
       "       'heaven studio is hiring for this job',\n",
       "       'Shahid Mustafa is hiring for this job',\n",
       "       'faizan khawar is hiring for this job',\n",
       "       'Sahera Bajwa is hiring for this job',\n",
       "       'Sidra Basharat is hiring for this job',\n",
       "       'Dr. Samia is hiring for this job',\n",
       "       'See how you compare to 25 applicants. Reactivate Premium',\n",
       "       'PAK MUSTAKBIL is hiring for this job',\n",
       "       'Muhammad Tanveer is hiring for this job',\n",
       "       'Ahmad Bilal is hiring for this job',\n",
       "       'sumnan iqbal is hiring for this job',\n",
       "       'Muhammad Waqas is hiring for this job',\n",
       "       'Shahid Faridi is hiring for this job',\n",
       "       'muhammad ahmed is hiring for this job',\n",
       "       'luminous leather goods is hiring for this job',\n",
       "       'rizwan ali is hiring for this job',\n",
       "       'Anas Qaiser is hiring for this job',\n",
       "       'Bilal Khan is hiring for this job',\n",
       "       'Mohid Alam is hiring for this job',\n",
       "       'Pakiza Mehar is hiring for this job',\n",
       "       'Kazi Shahbaz is hiring for this job',\n",
       "       '5,001-10,000 employees · Transportation, Logistics, Supply Chain and Storage',\n",
       "       'Usama Suffian is hiring for this job',\n",
       "       'See how you compare to 29 applicants. Reactivate Premium',\n",
       "       '10,001+ employees · Civil Engineering',\n",
       "       '10,001+ employees · Investment Management',\n",
       "       'Awais Ahmad is hiring for this job',\n",
       "       'Muhammad Anas is hiring for this job',\n",
       "       'Ahmed Mahmood is hiring for this job',\n",
       "       'See recent hiring trends for Devtechpro. Reactivate Premium',\n",
       "       'Noreen Khan is hiring for this job',\n",
       "       'Hunain Javed is hiring for this job',\n",
       "       'Aamir chaudharay is hiring for this job',\n",
       "       'Zia Khan is hiring for this job',\n",
       "       'Rahul Sharma is hiring for this job',\n",
       "       'Afira Zahir is hiring for this job',\n",
       "       '201-500 employees · Primary and Secondary Education',\n",
       "       'malik Malik is hiring for this job',\n",
       "       'Sakandar Zahid is hiring for this job',\n",
       "       'Asher Asif is hiring for this job',\n",
       "       'Sajid Ali Tunio is hiring for this job',\n",
       "       'David Wu is hiring for this job',\n",
       "       '201-500 employees · Manufacturing',\n",
       "       '10,001+ employees · Education',\n",
       "       'hafiz usman is hiring for this job',\n",
       "       'See how you compare to 49 applicants. Reactivate Premium',\n",
       "       '501-1,000 employees · Non-profit Organizations',\n",
       "       'Usama Jawad is hiring for this job',\n",
       "       'See how you compare to 186 applicants. Reactivate Premium',\n",
       "       '10,001+ employees · Mining',\n",
       "       '51-200 employees · Non-profit Organizations',\n",
       "       '11-50 employees · Wellness and Fitness Services',\n",
       "       'Sheikh Zia Ul Haq is hiring for this job',\n",
       "       '1-10 employees · Retail Office Equipment',\n",
       "       'Mishal Haris is hiring for this job',\n",
       "       'Muhammad Junaid Farid is hiring for this job',\n",
       "       'Umair Zafar is hiring for this job',\n",
       "       'Muhammad Hassan is hiring for this job',\n",
       "       'Tania Malik is hiring for this job',\n",
       "       'Jahanzaib Ibrahim is hiring for this job',\n",
       "       'Imran Latif is hiring for this job',\n",
       "       'Raheel Asim is hiring for this job',\n",
       "       'See how you compare to 43 applicants. Reactivate Premium',\n",
       "       'Asif Balouch is hiring for this job',\n",
       "       'Ch Babar Rashid is hiring for this job',\n",
       "       '11-50 employees · Construction',\n",
       "       'Umair Sharif is hiring for this job',\n",
       "       'Rukhsar Chaudhary is hiring for this job',\n",
       "       'Muhammad Waqar is hiring for this job',\n",
       "       'See how you compare to 39 applicants. Reactivate Premium',\n",
       "       'Asim hussain Shah is hiring for this job',\n",
       "       '51-200 employees · E-Learning Providers',\n",
       "       'Mumtaz Ali is hiring for this job',\n",
       "       'Umair Malik is hiring for this job',\n",
       "       'Muhammad Ammad is hiring for this job',\n",
       "       'See recent hiring trends for Detral Pvt LTD. Reactivate Premium',\n",
       "       'muhammad zeeshan is hiring for this job',\n",
       "       'Asad Rehman is hiring for this job',\n",
       "       'See how you compare to 42 applicants. Reactivate Premium',\n",
       "       'Haroon Arshad is hiring for this job',\n",
       "       'Mr Allama Iqbal is hiring for this job',\n",
       "       '5,001-10,000 employees · Financial Services',\n",
       "       '51-200 employees · Outsourcing and Offshoring Consulting',\n",
       "       'Gohar Khan is hiring for this job',\n",
       "       'See how you compare to 72 applicants. Reactivate Premium',\n",
       "       'Muhammad Bashir is hiring for this job',\n",
       "       '11-50 employees · Internet Publishing',\n",
       "       'Farhan Khalid is hiring for this job',\n",
       "       'Wareesha Fatima is hiring for this job',\n",
       "       'Huzaifa Asif is hiring for this job',\n",
       "       'Inshrah Tariq is hiring for this job',\n",
       "       'Noman Hassan is hiring for this job',\n",
       "       'Shama Khanum is hiring for this job',\n",
       "       'Numan Khan is hiring for this job',\n",
       "       'Ateeb Iqbal is hiring for this job',\n",
       "       'Saqib Nasir Chaudhry Bakhsh is hiring for this job',\n",
       "       'Technegik S. is hiring for this job',\n",
       "       'See how you compare to 132 applicants. Reactivate Premium',\n",
       "       'Osmann ▪A is hiring for this job',\n",
       "       'seller collection is hiring for this job',\n",
       "       'RB Direct Marketing is hiring for this job',\n",
       "       'Techno Talk is hiring for this job',\n",
       "       'Saif Ullah is hiring for this job',\n",
       "       'Mariyam Ali is hiring for this job',\n",
       "       'Neik Mohammad is hiring for this job',\n",
       "       'M Roshan Ali is hiring for this job',\n",
       "       '11-50 employees · International Affairs',\n",
       "       'Israr hassan is hiring for this job',\n",
       "       'Hamza Mufti is hiring for this job',\n",
       "       'Maqbool Ur Rehman Bhatti is hiring for this job',\n",
       "       'Saif U is hiring for this job'], dtype=object)"
      ]
     },
     "execution_count": 28,
     "metadata": {},
     "output_type": "execute_result"
    }
   ],
   "source": [
    "df['employees'].unique()"
   ]
  },
  {
   "cell_type": "code",
   "execution_count": 29,
   "id": "3df68a94-0eed-40ba-ab4c-4734ce7222ad",
   "metadata": {},
   "outputs": [
    {
     "data": {
      "text/plain": [
       "882"
      ]
     },
     "execution_count": 29,
     "metadata": {},
     "output_type": "execute_result"
    }
   ],
   "source": [
    "len(df['employees'].unique())"
   ]
  },
  {
   "cell_type": "code",
   "execution_count": null,
   "id": "b19eed1a-085b-4bae-88ab-e180a474e51e",
   "metadata": {},
   "outputs": [],
   "source": []
  },
  {
   "cell_type": "code",
   "execution_count": null,
   "id": "e75f5117-630b-46c4-90a9-4d5223f3c069",
   "metadata": {},
   "outputs": [],
   "source": []
  },
  {
   "cell_type": "code",
   "execution_count": null,
   "id": "bf977ea1-a3fb-4d56-8438-6f4a477a61c8",
   "metadata": {},
   "outputs": [],
   "source": []
  },
  {
   "cell_type": "code",
   "execution_count": null,
   "id": "5a1178e8-b5bc-4e7d-ab87-419faf99770f",
   "metadata": {},
   "outputs": [],
   "source": []
  },
  {
   "cell_type": "code",
   "execution_count": null,
   "id": "0e483f7b-fda6-4096-8c48-a07266c3017b",
   "metadata": {},
   "outputs": [],
   "source": []
  },
  {
   "cell_type": "markdown",
   "id": "33e53122-05dc-4430-bc14-438e2bd69112",
   "metadata": {},
   "source": [
    "# 18 oct 2023"
   ]
  },
  {
   "cell_type": "code",
   "execution_count": 30,
   "id": "5ca0a7b9-6529-4dbf-8783-5be005e82bf3",
   "metadata": {},
   "outputs": [
    {
     "data": {
      "text/plain": [
       "Index(['Job Title', 'Job Info', 'Job Type', 'Job Link', 'employees', 'Job ID',\n",
       "       'Job Desception', 'Company Info'],\n",
       "      dtype='object')"
      ]
     },
     "execution_count": 30,
     "metadata": {},
     "output_type": "execute_result"
    }
   ],
   "source": [
    "df.columns"
   ]
  },
  {
   "cell_type": "code",
   "execution_count": null,
   "id": "8b5a4769-cc54-4950-b0f1-cdaf99774b27",
   "metadata": {},
   "outputs": [],
   "source": []
  },
  {
   "cell_type": "code",
   "execution_count": 31,
   "id": "58b0c562-c103-4890-a58a-83bd0b62f7bd",
   "metadata": {},
   "outputs": [
    {
     "data": {
      "text/plain": [
       "Job Title\n",
       "Sales Executive                                                   132\n",
       "Business Development Executive                                    124\n",
       "Business Development Manager                                       64\n",
       "Sales Specialist                                                   63\n",
       "Business Development Specialist                                    57\n",
       "Customer Service Representative                                    53\n",
       "Graphic Designer                                                   52\n",
       "Salesperson                                                        47\n",
       "Full Stack Engineer                                                41\n",
       "Software Engineer                                                  41\n",
       "Senior Software Engineer                                           40\n",
       "Sales And Marketing Specialist                                     39\n",
       "Call Center Representative                                         34\n",
       "Wordpress Developer                                                34\n",
       "PHP Developer                                                      32\n",
       "Dotnet Developer                                                   31\n",
       "Educational Counselor                                              31\n",
       "Business Development Officer                                       30\n",
       "Customer Sales Representative                                      29\n",
       "Upwork Bidder                                                      28\n",
       "Digital Marketing Specialist                                       28\n",
       "Sales Development Representative                                   28\n",
       "International Sales Executive                                      27\n",
       "Video Editor                                                       27\n",
       "DevOps Engineer                                                    24\n",
       "Search Engine Optimization Specialist                              24\n",
       "Social Media Manager                                               24\n",
       "Back End Developer                                                 23\n",
       "Senior Software Engineer, Trilogy (Remote) - $100,000/year USD     23\n",
       "Shopify Developer                                                  23\n",
       "Name: count, dtype: int64"
      ]
     },
     "execution_count": 31,
     "metadata": {},
     "output_type": "execute_result"
    }
   ],
   "source": [
    "df['Job Title'].value_counts()[:30]"
   ]
  },
  {
   "cell_type": "code",
   "execution_count": 32,
   "id": "eed4df24-92ae-4a1f-959b-9545f62e374d",
   "metadata": {},
   "outputs": [
    {
     "data": {
      "text/plain": [
       "'Digicon Valley '"
      ]
     },
     "execution_count": 32,
     "metadata": {},
     "output_type": "execute_result"
    }
   ],
   "source": [
    "df['Job Info'].iloc[1].split('·')[0]"
   ]
  },
  {
   "cell_type": "code",
   "execution_count": 33,
   "id": "63226f65-7add-45eb-a931-28168d241ea0",
   "metadata": {},
   "outputs": [
    {
     "data": {
      "text/plain": [
       "0              EcomFleet · Pakistan (Remote)  \\n1 week ago\n",
       "1        Digicon Valley · Lahore, Punjab, Pakistan (On-...\n",
       "2        Murkez Technologies · Lahore, Punjab, Pakistan...\n",
       "3        DevNatives · Islamabad, Islāmābād, Pakistan (H...\n",
       "4        ItCreaters · Lahore, Punjab, Pakistan (On-site...\n",
       "                               ...                        \n",
       "12843    SOFTOO · Islamabad, Islāmābād, Pakistan  \\n3 w...\n",
       "12844    V Packaging · Lahore, Punjab, Pakistan  \\n3 we...\n",
       "12845    Jobly Staffing Ltd · Lahore, Punjab, Pakistan ...\n",
       "12846       Dost · Lahore, Punjab, Pakistan  \\n3 weeks ago\n",
       "12847    EWDTech - Web Design and Development Services ...\n",
       "Name: Job Info, Length: 9885, dtype: object"
      ]
     },
     "execution_count": 33,
     "metadata": {},
     "output_type": "execute_result"
    }
   ],
   "source": [
    "df['Job Info']"
   ]
  },
  {
   "cell_type": "code",
   "execution_count": 34,
   "id": "fe3f05d0-2d10-4a04-bc54-826bd256340d",
   "metadata": {},
   "outputs": [],
   "source": [
    "# df['company']=df['Job Info'].apply(lambda x:x.split('·')[0])\n",
    "# # AttributeError: 'float' object has no attribute 'split'"
   ]
  },
  {
   "cell_type": "code",
   "execution_count": 35,
   "id": "4d1dd8d4-0d0e-46d8-a543-3d45714ca375",
   "metadata": {},
   "outputs": [],
   "source": [
    "# i=0\n",
    "# for info in df['Job Info']:\n",
    "#     print(info.split('·')[0])\n",
    "#     i=i+1\n",
    "#     # print(info)\n",
    "# # AttributeError: 'float' object has no attribute 'split'"
   ]
  },
  {
   "cell_type": "code",
   "execution_count": 36,
   "id": "466a765f-8d1f-468b-823f-0a6a8fafdce7",
   "metadata": {},
   "outputs": [],
   "source": [
    "# i"
   ]
  },
  {
   "cell_type": "code",
   "execution_count": 37,
   "id": "6b286ad1-edfb-46df-825a-d2cf76f95e67",
   "metadata": {},
   "outputs": [
    {
     "data": {
      "text/plain": [
       "nan"
      ]
     },
     "execution_count": 37,
     "metadata": {},
     "output_type": "execute_result"
    }
   ],
   "source": [
    "df['Job Info'].iloc[110]"
   ]
  },
  {
   "cell_type": "code",
   "execution_count": 38,
   "id": "6020ea35-04fd-4257-ab4d-483b50c21aac",
   "metadata": {},
   "outputs": [
    {
     "data": {
      "text/plain": [
       "'DevNatives · Islamabad, Islāmābād, Pakistan (Hybrid)  \\n1 week ago\\n\\n · 51 applicants'"
      ]
     },
     "execution_count": 38,
     "metadata": {},
     "output_type": "execute_result"
    }
   ],
   "source": [
    "df['Job Info'].iloc[3]"
   ]
  },
  {
   "cell_type": "code",
   "execution_count": 39,
   "id": "c5a6c722-0d82-4135-877b-37f404a8e372",
   "metadata": {},
   "outputs": [
    {
     "data": {
      "text/plain": [
       "['DevNatives ',\n",
       " ' Islamabad, Islāmābād, Pakistan (Hybrid)  \\n1 week ago\\n\\n ',\n",
       " ' 51 applicants']"
      ]
     },
     "execution_count": 39,
     "metadata": {},
     "output_type": "execute_result"
    }
   ],
   "source": [
    "df['Job Info'].iloc[3].split('·')"
   ]
  },
  {
   "cell_type": "code",
   "execution_count": 40,
   "id": "90315da8-08e7-41b3-a5cd-71d88916d33e",
   "metadata": {},
   "outputs": [
    {
     "data": {
      "text/plain": [
       "Job Title          376\n",
       "Job Info           606\n",
       "Job Type           608\n",
       "Job Link             0\n",
       "employees          609\n",
       "Job ID               0\n",
       "Job Desception    9674\n",
       "Company Info      9746\n",
       "dtype: int64"
      ]
     },
     "execution_count": 40,
     "metadata": {},
     "output_type": "execute_result"
    }
   ],
   "source": [
    "df.isnull().sum()"
   ]
  },
  {
   "cell_type": "code",
   "execution_count": 41,
   "id": "3ea8928d-e84d-49c4-bdb6-cc789a858f47",
   "metadata": {},
   "outputs": [
    {
     "data": {
      "text/html": [
       "<div>\n",
       "<style scoped>\n",
       "    .dataframe tbody tr th:only-of-type {\n",
       "        vertical-align: middle;\n",
       "    }\n",
       "\n",
       "    .dataframe tbody tr th {\n",
       "        vertical-align: top;\n",
       "    }\n",
       "\n",
       "    .dataframe thead th {\n",
       "        text-align: right;\n",
       "    }\n",
       "</style>\n",
       "<table border=\"1\" class=\"dataframe\">\n",
       "  <thead>\n",
       "    <tr style=\"text-align: right;\">\n",
       "      <th></th>\n",
       "      <th>Job Title</th>\n",
       "      <th>Job Info</th>\n",
       "      <th>Job Type</th>\n",
       "      <th>Job Link</th>\n",
       "      <th>employees</th>\n",
       "      <th>Job ID</th>\n",
       "      <th>Job Desception</th>\n",
       "      <th>Company Info</th>\n",
       "    </tr>\n",
       "  </thead>\n",
       "  <tbody>\n",
       "  </tbody>\n",
       "</table>\n",
       "</div>"
      ],
      "text/plain": [
       "Empty DataFrame\n",
       "Columns: [Job Title, Job Info, Job Type, Job Link, employees, Job ID, Job Desception, Company Info]\n",
       "Index: []"
      ]
     },
     "execution_count": 41,
     "metadata": {},
     "output_type": "execute_result"
    }
   ],
   "source": [
    "df.dropna()"
   ]
  },
  {
   "cell_type": "code",
   "execution_count": 42,
   "id": "f0373cf5-0f10-41c1-bf3f-b4b42f92b116",
   "metadata": {},
   "outputs": [
    {
     "data": {
      "text/plain": [
       "9833"
      ]
     },
     "execution_count": 42,
     "metadata": {},
     "output_type": "execute_result"
    }
   ],
   "source": [
    "len(df)-52"
   ]
  },
  {
   "cell_type": "code",
   "execution_count": 43,
   "id": "b1d0f086-330a-419f-8c31-bafc2c4a8685",
   "metadata": {},
   "outputs": [
    {
     "name": "stderr",
     "output_type": "stream",
     "text": [
      "C:\\Users\\BILAL.COM\\AppData\\Local\\Temp\\ipykernel_11556\\3641532845.py:3: SettingWithCopyWarning: \n",
      "A value is trying to be set on a copy of a slice from a DataFrame\n",
      "\n",
      "See the caveats in the documentation: https://pandas.pydata.org/pandas-docs/stable/user_guide/indexing.html#returning-a-view-versus-a-copy\n",
      "  df.dropna(inplace=True)\n"
     ]
    }
   ],
   "source": [
    "# df.dropna(subset = ['Job Title'], inplace=True)\n",
    "#or\n",
    "df.dropna(inplace=True)"
   ]
  },
  {
   "cell_type": "code",
   "execution_count": 44,
   "id": "cfdb3888-83ef-4836-87bd-8d16fc81cc7a",
   "metadata": {},
   "outputs": [
    {
     "data": {
      "text/html": [
       "<div>\n",
       "<style scoped>\n",
       "    .dataframe tbody tr th:only-of-type {\n",
       "        vertical-align: middle;\n",
       "    }\n",
       "\n",
       "    .dataframe tbody tr th {\n",
       "        vertical-align: top;\n",
       "    }\n",
       "\n",
       "    .dataframe thead th {\n",
       "        text-align: right;\n",
       "    }\n",
       "</style>\n",
       "<table border=\"1\" class=\"dataframe\">\n",
       "  <thead>\n",
       "    <tr style=\"text-align: right;\">\n",
       "      <th></th>\n",
       "      <th>Job Title</th>\n",
       "      <th>Job Info</th>\n",
       "      <th>Job Type</th>\n",
       "      <th>Job Link</th>\n",
       "      <th>employees</th>\n",
       "      <th>Job ID</th>\n",
       "      <th>Job Desception</th>\n",
       "      <th>Company Info</th>\n",
       "    </tr>\n",
       "  </thead>\n",
       "  <tbody>\n",
       "  </tbody>\n",
       "</table>\n",
       "</div>"
      ],
      "text/plain": [
       "Empty DataFrame\n",
       "Columns: [Job Title, Job Info, Job Type, Job Link, employees, Job ID, Job Desception, Company Info]\n",
       "Index: []"
      ]
     },
     "execution_count": 44,
     "metadata": {},
     "output_type": "execute_result"
    }
   ],
   "source": [
    "df"
   ]
  },
  {
   "cell_type": "code",
   "execution_count": 45,
   "id": "408a18d1-9de3-444d-97ea-9b522d1b86c6",
   "metadata": {},
   "outputs": [
    {
     "data": {
      "text/plain": [
       "3571"
      ]
     },
     "execution_count": 45,
     "metadata": {},
     "output_type": "execute_result"
    }
   ],
   "source": [
    "3623-52"
   ]
  },
  {
   "cell_type": "code",
   "execution_count": 46,
   "id": "cf196490-b9e0-494b-9e2b-44f37ae873f9",
   "metadata": {},
   "outputs": [
    {
     "data": {
      "text/plain": [
       "Job Title         0\n",
       "Job Info          0\n",
       "Job Type          0\n",
       "Job Link          0\n",
       "employees         0\n",
       "Job ID            0\n",
       "Job Desception    0\n",
       "Company Info      0\n",
       "dtype: int64"
      ]
     },
     "execution_count": 46,
     "metadata": {},
     "output_type": "execute_result"
    }
   ],
   "source": [
    "df.isnull().sum()"
   ]
  },
  {
   "cell_type": "code",
   "execution_count": 47,
   "id": "89dfbf3f-980b-4ce8-8b16-f516226ec577",
   "metadata": {},
   "outputs": [],
   "source": [
    "df['company']=df['Job Info'].apply(lambda x:x.split('·')[0])"
   ]
  },
  {
   "cell_type": "code",
   "execution_count": 48,
   "id": "10ae8ac0-a479-43dd-9471-9a571c357929",
   "metadata": {},
   "outputs": [
    {
     "data": {
      "text/plain": [
       "array([], dtype=object)"
      ]
     },
     "execution_count": 48,
     "metadata": {},
     "output_type": "execute_result"
    }
   ],
   "source": [
    "df['company'].unique()"
   ]
  },
  {
   "cell_type": "code",
   "execution_count": 49,
   "id": "8f5a511e-f87a-43fc-b4ef-54a39e2e1420",
   "metadata": {},
   "outputs": [
    {
     "data": {
      "text/plain": [
       "0"
      ]
     },
     "execution_count": 49,
     "metadata": {},
     "output_type": "execute_result"
    }
   ],
   "source": [
    "len(df['company'].unique())"
   ]
  },
  {
   "cell_type": "code",
   "execution_count": 50,
   "id": "3fabbfff-80fe-4cc0-937a-e8bead185857",
   "metadata": {},
   "outputs": [
    {
     "data": {
      "text/plain": [
       "Series([], Name: count, dtype: int64)"
      ]
     },
     "execution_count": 50,
     "metadata": {},
     "output_type": "execute_result"
    }
   ],
   "source": [
    "df['company'].value_counts()"
   ]
  },
  {
   "cell_type": "code",
   "execution_count": 51,
   "id": "70ebe4bb-6551-4a1b-97da-83ed25279887",
   "metadata": {},
   "outputs": [
    {
     "data": {
      "text/plain": [
       "Series([], Name: Job Info, dtype: object)"
      ]
     },
     "execution_count": 51,
     "metadata": {},
     "output_type": "execute_result"
    }
   ],
   "source": [
    "df['Job Info']"
   ]
  },
  {
   "cell_type": "code",
   "execution_count": 52,
   "id": "38f3d426-3c2d-409d-bcdf-bc5bc2f68558",
   "metadata": {},
   "outputs": [
    {
     "ename": "IndexError",
     "evalue": "single positional indexer is out-of-bounds",
     "output_type": "error",
     "traceback": [
      "\u001b[1;31m---------------------------------------------------------------------------\u001b[0m",
      "\u001b[1;31mIndexError\u001b[0m                                Traceback (most recent call last)",
      "Cell \u001b[1;32mIn[52], line 1\u001b[0m\n\u001b[1;32m----> 1\u001b[0m \u001b[43mdf\u001b[49m\u001b[43m[\u001b[49m\u001b[38;5;124;43m'\u001b[39;49m\u001b[38;5;124;43mJob Info\u001b[39;49m\u001b[38;5;124;43m'\u001b[39;49m\u001b[43m]\u001b[49m\u001b[38;5;241;43m.\u001b[39;49m\u001b[43miloc\u001b[49m\u001b[43m[\u001b[49m\u001b[38;5;241;43m3\u001b[39;49m\u001b[43m]\u001b[49m\u001b[38;5;241m.\u001b[39msplit(\u001b[38;5;124m'\u001b[39m\u001b[38;5;124m·\u001b[39m\u001b[38;5;124m'\u001b[39m)[\u001b[38;5;241m1\u001b[39m]\n",
      "File \u001b[1;32m~\\AppData\\Local\\Programs\\Python\\Python311\\Lib\\site-packages\\pandas\\core\\indexing.py:1153\u001b[0m, in \u001b[0;36m_LocationIndexer.__getitem__\u001b[1;34m(self, key)\u001b[0m\n\u001b[0;32m   1150\u001b[0m axis \u001b[38;5;241m=\u001b[39m \u001b[38;5;28mself\u001b[39m\u001b[38;5;241m.\u001b[39maxis \u001b[38;5;129;01mor\u001b[39;00m \u001b[38;5;241m0\u001b[39m\n\u001b[0;32m   1152\u001b[0m maybe_callable \u001b[38;5;241m=\u001b[39m com\u001b[38;5;241m.\u001b[39mapply_if_callable(key, \u001b[38;5;28mself\u001b[39m\u001b[38;5;241m.\u001b[39mobj)\n\u001b[1;32m-> 1153\u001b[0m \u001b[38;5;28;01mreturn\u001b[39;00m \u001b[38;5;28;43mself\u001b[39;49m\u001b[38;5;241;43m.\u001b[39;49m\u001b[43m_getitem_axis\u001b[49m\u001b[43m(\u001b[49m\u001b[43mmaybe_callable\u001b[49m\u001b[43m,\u001b[49m\u001b[43m \u001b[49m\u001b[43maxis\u001b[49m\u001b[38;5;241;43m=\u001b[39;49m\u001b[43maxis\u001b[49m\u001b[43m)\u001b[49m\n",
      "File \u001b[1;32m~\\AppData\\Local\\Programs\\Python\\Python311\\Lib\\site-packages\\pandas\\core\\indexing.py:1714\u001b[0m, in \u001b[0;36m_iLocIndexer._getitem_axis\u001b[1;34m(self, key, axis)\u001b[0m\n\u001b[0;32m   1711\u001b[0m     \u001b[38;5;28;01mraise\u001b[39;00m \u001b[38;5;167;01mTypeError\u001b[39;00m(\u001b[38;5;124m\"\u001b[39m\u001b[38;5;124mCannot index by location index with a non-integer key\u001b[39m\u001b[38;5;124m\"\u001b[39m)\n\u001b[0;32m   1713\u001b[0m \u001b[38;5;66;03m# validate the location\u001b[39;00m\n\u001b[1;32m-> 1714\u001b[0m \u001b[38;5;28;43mself\u001b[39;49m\u001b[38;5;241;43m.\u001b[39;49m\u001b[43m_validate_integer\u001b[49m\u001b[43m(\u001b[49m\u001b[43mkey\u001b[49m\u001b[43m,\u001b[49m\u001b[43m \u001b[49m\u001b[43maxis\u001b[49m\u001b[43m)\u001b[49m\n\u001b[0;32m   1716\u001b[0m \u001b[38;5;28;01mreturn\u001b[39;00m \u001b[38;5;28mself\u001b[39m\u001b[38;5;241m.\u001b[39mobj\u001b[38;5;241m.\u001b[39m_ixs(key, axis\u001b[38;5;241m=\u001b[39maxis)\n",
      "File \u001b[1;32m~\\AppData\\Local\\Programs\\Python\\Python311\\Lib\\site-packages\\pandas\\core\\indexing.py:1647\u001b[0m, in \u001b[0;36m_iLocIndexer._validate_integer\u001b[1;34m(self, key, axis)\u001b[0m\n\u001b[0;32m   1645\u001b[0m len_axis \u001b[38;5;241m=\u001b[39m \u001b[38;5;28mlen\u001b[39m(\u001b[38;5;28mself\u001b[39m\u001b[38;5;241m.\u001b[39mobj\u001b[38;5;241m.\u001b[39m_get_axis(axis))\n\u001b[0;32m   1646\u001b[0m \u001b[38;5;28;01mif\u001b[39;00m key \u001b[38;5;241m>\u001b[39m\u001b[38;5;241m=\u001b[39m len_axis \u001b[38;5;129;01mor\u001b[39;00m key \u001b[38;5;241m<\u001b[39m \u001b[38;5;241m-\u001b[39mlen_axis:\n\u001b[1;32m-> 1647\u001b[0m     \u001b[38;5;28;01mraise\u001b[39;00m \u001b[38;5;167;01mIndexError\u001b[39;00m(\u001b[38;5;124m\"\u001b[39m\u001b[38;5;124msingle positional indexer is out-of-bounds\u001b[39m\u001b[38;5;124m\"\u001b[39m)\n",
      "\u001b[1;31mIndexError\u001b[0m: single positional indexer is out-of-bounds"
     ]
    }
   ],
   "source": [
    "df['Job Info'].iloc[3].split('·')[1]"
   ]
  },
  {
   "cell_type": "code",
   "execution_count": null,
   "id": "5f333076-061c-404e-9476-4b50be2be44f",
   "metadata": {},
   "outputs": [],
   "source": [
    "df['Job Info'].iloc[3].split('·')[1].split()[0]"
   ]
  },
  {
   "cell_type": "code",
   "execution_count": null,
   "id": "98438ffc-f9d7-4732-82a0-cec4e0d22815",
   "metadata": {},
   "outputs": [],
   "source": [
    "df['Job Info'].iloc[3].split('·')[1].split()[0].strip(',')"
   ]
  },
  {
   "cell_type": "code",
   "execution_count": null,
   "id": "b5177d93-3401-4ae1-a571-dc6fc752896a",
   "metadata": {},
   "outputs": [],
   "source": [
    "df['location']=df['Job Info'].apply(lambda x:x.split('·')[1].split()[0].strip(','))"
   ]
  },
  {
   "cell_type": "code",
   "execution_count": null,
   "id": "4f31fe70-a6fc-487e-a4b4-5f26745e27f1",
   "metadata": {},
   "outputs": [],
   "source": [
    "df['location']"
   ]
  },
  {
   "cell_type": "code",
   "execution_count": null,
   "id": "01220687-a39a-4b54-bb4c-371838c33919",
   "metadata": {},
   "outputs": [],
   "source": [
    "df['location'].unique()"
   ]
  },
  {
   "cell_type": "code",
   "execution_count": null,
   "id": "4fc04b32-1737-4f10-b831-82ac969d7a7b",
   "metadata": {},
   "outputs": [],
   "source": [
    "len(df['location'].unique())"
   ]
  },
  {
   "cell_type": "code",
   "execution_count": null,
   "id": "a156504c-cd2f-4fd4-9863-485e57370a11",
   "metadata": {},
   "outputs": [],
   "source": [
    "df[df['location']=='Mānsehra']"
   ]
  },
  {
   "cell_type": "code",
   "execution_count": null,
   "id": "e9213936-bc16-4e1e-977c-ec94b1baa769",
   "metadata": {},
   "outputs": [],
   "source": [
    "df['location'].value_counts()"
   ]
  },
  {
   "cell_type": "code",
   "execution_count": null,
   "id": "66160082-adaf-4ef6-b635-9708d5be50e1",
   "metadata": {},
   "outputs": [],
   "source": [
    "df['location'].value_counts()[:30]"
   ]
  },
  {
   "cell_type": "code",
   "execution_count": null,
   "id": "28f95a4f-ca20-40f0-a42b-71d4d881c833",
   "metadata": {},
   "outputs": [],
   "source": [
    "df[df['location']=='New']"
   ]
  },
  {
   "cell_type": "code",
   "execution_count": null,
   "id": "f7572b53-87c1-4c1b-b2e6-e7c8f8f4abf3",
   "metadata": {},
   "outputs": [],
   "source": [
    "df['Job Info']"
   ]
  },
  {
   "cell_type": "code",
   "execution_count": null,
   "id": "3f38b2f1-0028-4ece-a6f6-0ee462950a89",
   "metadata": {},
   "outputs": [],
   "source": [
    "df['Job Info'].iloc[3]"
   ]
  },
  {
   "cell_type": "code",
   "execution_count": null,
   "id": "50ad8ca8-8893-4880-9dd1-7aa01e2b57e8",
   "metadata": {},
   "outputs": [],
   "source": [
    "df['Job Info'].iloc[3].split('·')"
   ]
  },
  {
   "cell_type": "code",
   "execution_count": null,
   "id": "c4220526-ec89-408a-bd1b-235d05b9d2bf",
   "metadata": {},
   "outputs": [],
   "source": [
    "df['Job Info'].iloc[3].split('·')[1].split('(')"
   ]
  },
  {
   "cell_type": "code",
   "execution_count": null,
   "id": "05a85566-bc71-4e80-a53b-1155e646e410",
   "metadata": {},
   "outputs": [],
   "source": [
    "df['Job Info'].iloc[3].split('·')[1].split('(')[0]"
   ]
  },
  {
   "cell_type": "code",
   "execution_count": null,
   "id": "5d44fa50-3798-4787-adf5-98c203ab5ade",
   "metadata": {},
   "outputs": [],
   "source": [
    "df['location']=df['Job Info'].apply(lambda x:x.split('·')[1].split('(')[0])"
   ]
  },
  {
   "cell_type": "code",
   "execution_count": null,
   "id": "ca38cb6d-b99d-4db8-91b8-7af4185bb910",
   "metadata": {},
   "outputs": [],
   "source": [
    "df['location']"
   ]
  },
  {
   "cell_type": "code",
   "execution_count": null,
   "id": "d6d1178d-d9f9-4114-b62e-517094bfcfdd",
   "metadata": {},
   "outputs": [],
   "source": [
    "df['location'].unique()"
   ]
  },
  {
   "cell_type": "code",
   "execution_count": null,
   "id": "fa77a1d0-3b26-414f-9718-ba8066def887",
   "metadata": {},
   "outputs": [],
   "source": [
    "len(df['location'].unique())"
   ]
  },
  {
   "cell_type": "code",
   "execution_count": null,
   "id": "14c9cf34-8836-489d-93bf-4b98a15d8845",
   "metadata": {},
   "outputs": [],
   "source": [
    "df['location'].value_counts()"
   ]
  },
  {
   "cell_type": "code",
   "execution_count": null,
   "id": "961000a9-b723-4459-8860-480fbea49e30",
   "metadata": {},
   "outputs": [],
   "source": [
    "df['location'].value_counts()[:30]"
   ]
  },
  {
   "cell_type": "code",
   "execution_count": null,
   "id": "bf4eff97-cc71-41ac-b882-3541e81b78ae",
   "metadata": {},
   "outputs": [],
   "source": [
    "# df_concat['Lahore, Punjab, Pakistan  \\n1 week ago\\n\\n' in df_concat['Job Info']]"
   ]
  },
  {
   "cell_type": "code",
   "execution_count": null,
   "id": "b46a3be5-c34e-4bf8-ab2e-f6d6a939c269",
   "metadata": {},
   "outputs": [],
   "source": [
    "df[df['location']==' Lahore District, Punjab, Pakistan  \\n1 week ago']"
   ]
  },
  {
   "cell_type": "code",
   "execution_count": null,
   "id": "fb62667b-c060-4068-b2bd-2126f8d172d3",
   "metadata": {},
   "outputs": [],
   "source": [
    "print(df[df['location']==' Lahore District, Punjab, Pakistan  \\n1 week ago']['Job Info'])"
   ]
  },
  {
   "cell_type": "code",
   "execution_count": null,
   "id": "e5499341-d067-42df-92a5-87e917b59782",
   "metadata": {},
   "outputs": [],
   "source": [
    "df.iloc[94]['Job Info']"
   ]
  },
  {
   "cell_type": "code",
   "execution_count": null,
   "id": "78c52985-df44-4e50-a054-0ccdd95d4d05",
   "metadata": {},
   "outputs": [],
   "source": [
    "df.iloc[94]['Job Info'].strip('\\n')"
   ]
  },
  {
   "cell_type": "code",
   "execution_count": null,
   "id": "0045482f-682b-43bc-b5a2-c6d2b2ee39d3",
   "metadata": {},
   "outputs": [],
   "source": [
    "'siyaahat.pk · Lahore District, Punjab, Pakistan  \\n1 week ago'.strip('\\n')"
   ]
  },
  {
   "cell_type": "code",
   "execution_count": null,
   "id": "380b448f-45b2-4b44-a885-f3fd66f7ad9d",
   "metadata": {},
   "outputs": [],
   "source": [
    "'siyaahat.pk · Lahore District, Punjab, Pakistan  \\n1 week ago'.strip('\\n1 week ago')"
   ]
  },
  {
   "cell_type": "code",
   "execution_count": null,
   "id": "053574ec-2d17-410e-ba24-fd9367ee1a21",
   "metadata": {},
   "outputs": [],
   "source": [
    "'siyaahat.pk · Lahore District, Punjab, Pakistan  \\n1 week ago'.strip('\\n2 week ago\\n1 week ago')"
   ]
  },
  {
   "cell_type": "code",
   "execution_count": null,
   "id": "ea340c73-913d-41c2-807a-df4e7e156d7e",
   "metadata": {},
   "outputs": [],
   "source": [
    "'siyaahat.pk · Lahore District, Punjab, Pakistan  \\n1 week ago'.strip('\\n2 week ago')"
   ]
  },
  {
   "cell_type": "code",
   "execution_count": null,
   "id": "473d134e-d987-439c-ad36-229bc1d75081",
   "metadata": {},
   "outputs": [],
   "source": [
    "df.iloc[94]['Job Type']"
   ]
  },
  {
   "cell_type": "code",
   "execution_count": null,
   "id": "fe700849-4332-45b5-9552-1e08df04d792",
   "metadata": {},
   "outputs": [],
   "source": [
    "df['location']=df['Job Info'].apply(lambda x:x.split('·')[1].split('(')[0].strip('\\n2 week ago\\n1 week ago'))\n",
    "#not correctly remove \\n2 weeks"
   ]
  },
  {
   "cell_type": "code",
   "execution_count": null,
   "id": "1fe5a2de-6c80-4995-8ed9-737c58ffe96e",
   "metadata": {},
   "outputs": [],
   "source": [
    "df['location']"
   ]
  },
  {
   "cell_type": "code",
   "execution_count": null,
   "id": "7d832cb6-3d6c-4c3e-a73b-2ae58be977af",
   "metadata": {},
   "outputs": [],
   "source": [
    "df['location'].unique()"
   ]
  },
  {
   "cell_type": "code",
   "execution_count": null,
   "id": "e89e7579-b8c0-4466-9e27-f86501eebc44",
   "metadata": {},
   "outputs": [],
   "source": [
    "len(df['location'].unique())"
   ]
  },
  {
   "cell_type": "markdown",
   "id": "3f409b54-733f-42e3-8db9-cd5326d48f9c",
   "metadata": {},
   "source": [
    "# 19 oct 2023"
   ]
  },
  {
   "cell_type": "code",
   "execution_count": null,
   "id": "c3338e24-6033-4956-ab17-75f559a6f0f4",
   "metadata": {},
   "outputs": [],
   "source": [
    "df['Job Info'].iloc[3]"
   ]
  },
  {
   "cell_type": "code",
   "execution_count": null,
   "id": "ebee6eb2-5d46-446c-a896-7f0849b72fd6",
   "metadata": {},
   "outputs": [],
   "source": [
    "df['Job Info'].iloc[3].split('(')"
   ]
  },
  {
   "cell_type": "code",
   "execution_count": null,
   "id": "d6fce5c0-112b-4003-8640-cab48abb5836",
   "metadata": {},
   "outputs": [],
   "source": [
    "df['Job Info'].iloc[3].split('(')[1].split(')')"
   ]
  },
  {
   "cell_type": "code",
   "execution_count": null,
   "id": "914f39e3-bd24-43e7-b081-fa59c0594bde",
   "metadata": {},
   "outputs": [],
   "source": [
    "df['Job Info'].iloc[3].split('(')[1].split(')')[0]"
   ]
  },
  {
   "cell_type": "code",
   "execution_count": null,
   "id": "390b0507-4cd8-4335-8d92-862b3c93dd7c",
   "metadata": {},
   "outputs": [],
   "source": [
    "# df['Remote/Onsite']=df['Job Info'].apply(lambda x:x.split('(')[1].split(')')[0])\n",
    "# # IndexError: list index out of range"
   ]
  },
  {
   "cell_type": "code",
   "execution_count": null,
   "id": "c24b0a3b-9a3a-4e05-a3c6-82952e38ac60",
   "metadata": {},
   "outputs": [],
   "source": [
    "# i=0\n",
    "# for info in df['Job Info']:\n",
    "#     print(info.split('(')[1].split(')')[0])\n",
    "#     i=i+1\n",
    "#     print(info)\n",
    "# # IndexError: list index out of range"
   ]
  },
  {
   "cell_type": "code",
   "execution_count": null,
   "id": "25809767-5f9b-487d-9986-87b761038cb0",
   "metadata": {},
   "outputs": [],
   "source": [
    "# i"
   ]
  },
  {
   "cell_type": "code",
   "execution_count": null,
   "id": "56a7e2ac-4998-4977-97b9-778cac46a033",
   "metadata": {},
   "outputs": [],
   "source": [
    "df.iloc[87]['Job Info']"
   ]
  },
  {
   "cell_type": "code",
   "execution_count": null,
   "id": "3223e6ef-c4d4-4c0f-b9e8-de8fbd9f4349",
   "metadata": {},
   "outputs": [],
   "source": [
    "# i=0\n",
    "# for info in df['Job Info']:\n",
    "#     try:\n",
    "#         print(info.split('(')[1].split(')')[0])\n",
    "#     except IndexError:\n",
    "#         print('Not specified')\n",
    "#     i=i+1\n",
    "#     print(i)\n",
    "        \n",
    "    "
   ]
  },
  {
   "cell_type": "code",
   "execution_count": null,
   "id": "14c1bff0-549b-4b8c-85db-9e59a3d22546",
   "metadata": {},
   "outputs": [],
   "source": [
    "# pvt value observed"
   ]
  },
  {
   "cell_type": "code",
   "execution_count": null,
   "id": "5c85353a-4206-46fe-9bbf-a85b27d76c99",
   "metadata": {},
   "outputs": [],
   "source": [
    "# for couting how many pvt values\n",
    "# i=0\n",
    "# for info in df['Job Info']:\n",
    "#     try:\n",
    "#         a=info.split('(')[1].split(')')[0])\n",
    "#     except IndexError:\n",
    "#         a='Not specified'\n",
    "#     i=i+1\n",
    "#     if a=='Pvt':\n",
    "#         print(i)\n",
    "# # SyntaxError: unmatched ')'"
   ]
  },
  {
   "cell_type": "code",
   "execution_count": null,
   "id": "65ad3e16-88b7-4e0b-a2d8-e830f62cc782",
   "metadata": {},
   "outputs": [],
   "source": [
    "df.iloc[11]['Job Info']"
   ]
  },
  {
   "cell_type": "code",
   "execution_count": null,
   "id": "17e0bde7-4fdd-405b-87bb-8c997b043630",
   "metadata": {},
   "outputs": [],
   "source": [
    "df.iloc[11]['Job Info'].split('·')[1].split('(')[1].split(')')[0]"
   ]
  },
  {
   "cell_type": "code",
   "execution_count": null,
   "id": "2fd0094d-8d72-4503-b45a-54f2a885171e",
   "metadata": {},
   "outputs": [],
   "source": [
    "remote_onsite_list=[]\n",
    "for info in df['Job Info']:\n",
    "    try:\n",
    "        remote_onsite_list.append(info.split('·')[1].split('(')[1].split(')')[0])\n",
    "    except IndexError:\n",
    "        remote_onsite_list.append('Not specified')\n",
    "    "
   ]
  },
  {
   "cell_type": "code",
   "execution_count": null,
   "id": "af38dcab-b021-4959-9558-29cf9b3a32d9",
   "metadata": {},
   "outputs": [],
   "source": [
    "# remote_onsite_list"
   ]
  },
  {
   "cell_type": "code",
   "execution_count": null,
   "id": "829a75f1-c5a5-41a0-abe5-85d014fbcfca",
   "metadata": {},
   "outputs": [],
   "source": [
    "len(remote_onsite_list)"
   ]
  },
  {
   "cell_type": "code",
   "execution_count": null,
   "id": "cf851038-e11a-4fcd-8bdb-76b1e4e2d97b",
   "metadata": {},
   "outputs": [],
   "source": [
    "df['Remote/Onsite']=remote_onsite_list\n",
    "# df['Remote/Onsite']=pd.Series(remote_onsite_list)"
   ]
  },
  {
   "cell_type": "code",
   "execution_count": null,
   "id": "74e385ba-cea5-4e28-98d3-c1b9b5f75d64",
   "metadata": {},
   "outputs": [],
   "source": [
    "df['Remote/Onsite']"
   ]
  },
  {
   "cell_type": "code",
   "execution_count": null,
   "id": "26fecae8-fa72-4053-a2b2-c90ad84d55b9",
   "metadata": {},
   "outputs": [],
   "source": [
    "df['Remote/Onsite'].unique()"
   ]
  },
  {
   "cell_type": "code",
   "execution_count": null,
   "id": "940654ad-0fbe-44d0-90fe-7bdd8c7ef7af",
   "metadata": {},
   "outputs": [],
   "source": [
    "df['Remote/Onsite'].value_counts()"
   ]
  },
  {
   "cell_type": "code",
   "execution_count": null,
   "id": "bf247c17-375b-4712-bfc3-e43503f1b114",
   "metadata": {},
   "outputs": [],
   "source": [
    "df['Job Info'].iloc[3]"
   ]
  },
  {
   "cell_type": "code",
   "execution_count": null,
   "id": "1ee22487-8c23-4d43-ae6f-4f4823947a6e",
   "metadata": {},
   "outputs": [],
   "source": [
    "df['Job Info'].iloc[3].split('·')[2]"
   ]
  },
  {
   "cell_type": "code",
   "execution_count": null,
   "id": "dbb3a6b0-d5da-49be-a5a2-157efc6014e3",
   "metadata": {},
   "outputs": [],
   "source": [
    "# df['n-applicants']=df['Job Info'].apply(lambda x:x.split('·')[2])\n",
    "# # IndexError: list index out of range"
   ]
  },
  {
   "cell_type": "code",
   "execution_count": null,
   "id": "c4bbc315-03eb-41af-88d4-f76d614f0f16",
   "metadata": {},
   "outputs": [],
   "source": [
    "# i=0\n",
    "# for info in df['Job Info']:\n",
    "#     print(info.split('·')[2])\n",
    "#     i=i+1\n",
    "#     print(info)\n",
    "# # IndexError: list index out of range"
   ]
  },
  {
   "cell_type": "code",
   "execution_count": null,
   "id": "94acd182-8d26-45d2-9d5b-782be7fa29c9",
   "metadata": {},
   "outputs": [],
   "source": [
    "# i"
   ]
  },
  {
   "cell_type": "code",
   "execution_count": null,
   "id": "1f3e0dff-0e30-423a-9ed7-04776427f604",
   "metadata": {},
   "outputs": [],
   "source": [
    "df.iloc[0]['Job Info']"
   ]
  },
  {
   "cell_type": "markdown",
   "id": "d36c4796-d2df-4644-8430-fac572b27d98",
   "metadata": {},
   "source": [
    "#application not given"
   ]
  },
  {
   "cell_type": "code",
   "execution_count": null,
   "id": "e83df205-6cc2-45ea-a2a3-0b1a7db77554",
   "metadata": {},
   "outputs": [],
   "source": [
    "df['Job Info'].iloc[3].split('·')[2].strip(' applicants')"
   ]
  },
  {
   "cell_type": "markdown",
   "id": "b5afed26-be85-4767-b8cd-db2c6081a121",
   "metadata": {},
   "source": [
    "# 20 oct 2023"
   ]
  },
  {
   "cell_type": "code",
   "execution_count": null,
   "id": "0f70356b-1c41-448b-ba9f-430618f96f4d",
   "metadata": {},
   "outputs": [],
   "source": [
    "# n_applicant_list=[]\n",
    "# for info in df['Job Info']:\n",
    "#     try:\n",
    "#         n_applicant_list.append(int(info.split('·')[2].strip(' applicants')))\n",
    "#     except IndexError:\n",
    "#         n_applicant_list.append(np.nan)\n",
    "# # ValueError: invalid literal for int() with base 10: '2,048'"
   ]
  },
  {
   "cell_type": "code",
   "execution_count": null,
   "id": "af7349a5-6293-46de-ae9b-94b1ed491874",
   "metadata": {},
   "outputs": [],
   "source": [
    "n_applicant_list=[]\n",
    "for info in df['Job Info']:\n",
    "    try:\n",
    "        n_applicant_list.append(info.split('·')[2].strip(' applicants'))\n",
    "    except IndexError:\n",
    "        n_applicant_list.append(np.nan)"
   ]
  },
  {
   "cell_type": "code",
   "execution_count": null,
   "id": "f61b6536-fecc-481d-a6b8-f5eb7f6454fb",
   "metadata": {},
   "outputs": [],
   "source": [
    "n_applicant_list[:10]"
   ]
  },
  {
   "cell_type": "code",
   "execution_count": null,
   "id": "0efbcf4e-1851-4f46-8d95-a81911895be4",
   "metadata": {},
   "outputs": [],
   "source": [
    "df['n_applicant']=n_applicant_list"
   ]
  },
  {
   "cell_type": "code",
   "execution_count": null,
   "id": "4ed9458d-f851-4058-b025-1f7b6ad0ef4f",
   "metadata": {},
   "outputs": [],
   "source": [
    "df['n_applicant'].dtype"
   ]
  },
  {
   "cell_type": "code",
   "execution_count": null,
   "id": "83a0d6ae-7520-40f1-be0e-79fa66920428",
   "metadata": {},
   "outputs": [],
   "source": [
    "# df['n_applicant'] = df['n_applicant'].astype(int)\n",
    "# # ValueError: cannot convert float NaN to integer"
   ]
  },
  {
   "cell_type": "code",
   "execution_count": null,
   "id": "e91621a3-d256-425c-8b50-813661a2c33a",
   "metadata": {},
   "outputs": [],
   "source": [
    "df['n_applicant'].unique()"
   ]
  },
  {
   "cell_type": "code",
   "execution_count": null,
   "id": "e9223934-84d3-40c8-a821-c086d39243b5",
   "metadata": {},
   "outputs": [],
   "source": [
    "len(df['n_applicant'].unique())"
   ]
  },
  {
   "cell_type": "code",
   "execution_count": null,
   "id": "6a95bcc6-6473-439b-a9f5-770e3476e32f",
   "metadata": {},
   "outputs": [],
   "source": [
    "df['n_applicant'].value_counts()[:30]"
   ]
  },
  {
   "cell_type": "markdown",
   "id": "3cb8263f-d90e-442e-86dd-5d76bb09efb5",
   "metadata": {},
   "source": [
    "# 21 oct 2023"
   ]
  },
  {
   "cell_type": "code",
   "execution_count": null,
   "id": "9634ee73-504c-48eb-b312-950aff457536",
   "metadata": {},
   "outputs": [],
   "source": [
    "df['Job Info'].iloc[3]"
   ]
  },
  {
   "cell_type": "code",
   "execution_count": null,
   "id": "61270372-0c7a-4b8b-9a30-3432b8988d7e",
   "metadata": {},
   "outputs": [],
   "source": [
    "df['Job Info'].iloc[3].split('\\n')[1]"
   ]
  },
  {
   "cell_type": "code",
   "execution_count": null,
   "id": "664594de-9c52-4eb6-ba28-7988a2342900",
   "metadata": {},
   "outputs": [],
   "source": [
    "df['job posting time']=df['Job Info'].apply(lambda x:x.split('\\n')[1])\n",
    "df['job posting time']"
   ]
  },
  {
   "cell_type": "code",
   "execution_count": null,
   "id": "f9561053-722a-4468-9c99-8687fe773b0e",
   "metadata": {},
   "outputs": [],
   "source": [
    "df['job posting time'].unique()"
   ]
  },
  {
   "cell_type": "code",
   "execution_count": null,
   "id": "cfaf744d-e2e4-4b64-b019-e94fd00c76ff",
   "metadata": {},
   "outputs": [],
   "source": [
    "df['job posting time'].value_counts()"
   ]
  },
  {
   "cell_type": "code",
   "execution_count": null,
   "id": "87f6adf4-3bc5-40b3-9104-d0d02c22bd3f",
   "metadata": {},
   "outputs": [],
   "source": [
    "df['Job Type'].unique()"
   ]
  },
  {
   "cell_type": "code",
   "execution_count": null,
   "id": "9549eda3-83bd-4cbc-af94-f825577823e1",
   "metadata": {},
   "outputs": [],
   "source": [
    "len(df['Job Type'].unique())"
   ]
  },
  {
   "cell_type": "code",
   "execution_count": null,
   "id": "caba2c97-8d68-4485-8f3d-151579e1a4fe",
   "metadata": {},
   "outputs": [],
   "source": [
    "df[df['Job Type']=='Full-time']"
   ]
  },
  {
   "cell_type": "code",
   "execution_count": null,
   "id": "59cac8ce-24fc-4362-98ce-96057e884332",
   "metadata": {},
   "outputs": [],
   "source": [
    "len(df[df['Job Type']=='Full-time'])"
   ]
  },
  {
   "cell_type": "code",
   "execution_count": null,
   "id": "055d672a-1b4c-418d-a681-e6f68928209f",
   "metadata": {},
   "outputs": [],
   "source": [
    "df[df['Job Type']=='Internship · Internship']"
   ]
  },
  {
   "cell_type": "code",
   "execution_count": null,
   "id": "137eec04-3dd8-4bd4-a268-e15670897d2d",
   "metadata": {},
   "outputs": [],
   "source": [
    "len(df[df['Job Type']=='Internship · Internship'])"
   ]
  },
  {
   "cell_type": "code",
   "execution_count": null,
   "id": "65939e6a-7659-49ec-bf96-7e606b4ebefc",
   "metadata": {},
   "outputs": [],
   "source": [
    "df[df['Job Type']=='Contract']"
   ]
  },
  {
   "cell_type": "code",
   "execution_count": null,
   "id": "c9ba4ef2-34c7-49b4-8b8e-9ef3e97fd4bc",
   "metadata": {},
   "outputs": [],
   "source": [
    "len(df[df['Job Type']=='Contract'])"
   ]
  },
  {
   "cell_type": "code",
   "execution_count": null,
   "id": "eabc6711-e110-49a5-b392-f170962cebb6",
   "metadata": {},
   "outputs": [],
   "source": [
    "df[df['Job Type']=='On-site\\n\\n \\nFull-time\\n\\n \\nMid-Senior level']"
   ]
  },
  {
   "cell_type": "code",
   "execution_count": null,
   "id": "d47151bf-eeae-4365-ab24-5d2acd5fde59",
   "metadata": {},
   "outputs": [],
   "source": [
    "len(df[df['Job Type']=='On-site\\n\\n \\nFull-time\\n\\n \\nMid-Senior level'])"
   ]
  },
  {
   "cell_type": "code",
   "execution_count": null,
   "id": "ca23461b-6e98-47eb-b9d6-2e5fe264e30c",
   "metadata": {},
   "outputs": [],
   "source": [
    "df[df['Job Type']=='Mr Ahsan is hiring for this job']"
   ]
  },
  {
   "cell_type": "code",
   "execution_count": null,
   "id": "7893e554-98aa-4e2c-93a1-7fb452712019",
   "metadata": {},
   "outputs": [],
   "source": [
    "df[df['Job Type']=='$12,000/yr - $15,000/yr · Full-time · Mid-Senior level']"
   ]
  },
  {
   "cell_type": "code",
   "execution_count": null,
   "id": "80f5a0a8-e75e-49b7-a5a2-843722c2a4a4",
   "metadata": {},
   "outputs": [],
   "source": []
  },
  {
   "cell_type": "markdown",
   "id": "82558d4e-3c8b-441f-b848-6ec61610491f",
   "metadata": {},
   "source": [
    "### counting number of elements in job type column"
   ]
  },
  {
   "cell_type": "code",
   "execution_count": null,
   "id": "da9da0f1-e79b-4bf5-84e3-d19eb3e51c1c",
   "metadata": {},
   "outputs": [],
   "source": [
    "'Full-time · Entry level'.split()"
   ]
  },
  {
   "cell_type": "code",
   "execution_count": null,
   "id": "e94dcf4a-bacd-4ea2-a132-1f86624196f1",
   "metadata": {},
   "outputs": [],
   "source": [
    "a='Full-time · Entry level'.split()\n",
    "a.remove('·')\n",
    "a"
   ]
  },
  {
   "cell_type": "code",
   "execution_count": null,
   "id": "47bc0300-a05f-4b9a-872e-ccc38b6da2c1",
   "metadata": {},
   "outputs": [],
   "source": [
    "# a='Full-time · Entry level'.split('·')\n",
    "# len(a)\n",
    "len('Full-time · Entry level'.split('·'))"
   ]
  },
  {
   "cell_type": "code",
   "execution_count": null,
   "id": "bbc19f57-6cb9-40a8-a9f5-9270be616728",
   "metadata": {},
   "outputs": [],
   "source": [
    "'On-site\\n\\n \\nFull-time\\n\\n \\nAssociate'.split()"
   ]
  },
  {
   "cell_type": "code",
   "execution_count": null,
   "id": "7c60e741-d695-4f98-a5b0-8ecb12f017fc",
   "metadata": {},
   "outputs": [],
   "source": [
    "'On-site\\n\\n \\nFull-time\\n\\n \\nAssociate'.split('\\n\\n \\n')"
   ]
  },
  {
   "cell_type": "code",
   "execution_count": null,
   "id": "3117ea77-72e3-409e-b190-d6bafe5eae6e",
   "metadata": {},
   "outputs": [],
   "source": [
    "'Part-time · Mid-Senior level'.split()"
   ]
  },
  {
   "cell_type": "code",
   "execution_count": null,
   "id": "ab0ca92e-dce0-4072-a7ff-982435f2bca2",
   "metadata": {},
   "outputs": [],
   "source": [
    "'·' in 'Part-time · Mid-Senior level'"
   ]
  },
  {
   "cell_type": "code",
   "execution_count": null,
   "id": "e937419f-4191-4ac3-a5b4-b87717355400",
   "metadata": {},
   "outputs": [],
   "source": [
    "'\\n\\n \\n' in 'On-site\\n\\n \\nFull-time\\n\\n \\nAssociate'"
   ]
  },
  {
   "cell_type": "code",
   "execution_count": null,
   "id": "d9a89c74-48f8-40d9-9e0a-8042fc8a8eee",
   "metadata": {},
   "outputs": [],
   "source": [
    "Job_Type_nElements=[]\n",
    "for cell in df['Job Type']:\n",
    "    if '·' in cell:\n",
    "        nElements=len(cell.split('·'))\n",
    "        Job_Type_nElements.append(nElements)\n",
    "    elif '\\n\\n \\n' in cell:\n",
    "        nElements=len(cell.split('\\n\\n \\n'))\n",
    "        Job_Type_nElements.append(nElements)\n",
    "    else:\n",
    "        nElements=len(cell.split())\n",
    "        Job_Type_nElements.append(nElements)        "
   ]
  },
  {
   "cell_type": "code",
   "execution_count": null,
   "id": "2b6705d5-e031-47b3-911b-05f209755f4a",
   "metadata": {},
   "outputs": [],
   "source": [
    "Job_Type_nElements[:10]"
   ]
  },
  {
   "cell_type": "code",
   "execution_count": null,
   "id": "89b9ccdc-4cdb-4ec2-b8c2-d14c44101f5d",
   "metadata": {},
   "outputs": [],
   "source": [
    "len(df['Job Type'])"
   ]
  },
  {
   "cell_type": "code",
   "execution_count": null,
   "id": "dd0d17b2-cdb4-44e9-b9ec-b4ac7fb4ac9e",
   "metadata": {},
   "outputs": [],
   "source": [
    "len(Job_Type_nElements)"
   ]
  },
  {
   "cell_type": "code",
   "execution_count": null,
   "id": "3bb8f675-ab01-451a-bca0-e8d68885f8b8",
   "metadata": {},
   "outputs": [],
   "source": [
    "set(Job_Type_nElements) "
   ]
  },
  {
   "cell_type": "code",
   "execution_count": null,
   "id": "96523f6b-19bd-41e7-9d41-cd372d31d7b3",
   "metadata": {},
   "outputs": [],
   "source": [
    "Job_Type_nElements.count(1)"
   ]
  },
  {
   "cell_type": "code",
   "execution_count": null,
   "id": "d32c98fc-886c-4403-84f3-92592753134e",
   "metadata": {},
   "outputs": [],
   "source": [
    "Job_Type_nElements.count(2)"
   ]
  },
  {
   "cell_type": "code",
   "execution_count": null,
   "id": "8298a4d2-0ac2-466f-acf3-e0901dec608f",
   "metadata": {},
   "outputs": [],
   "source": [
    "Job_Type_nElements.count(3)"
   ]
  },
  {
   "cell_type": "code",
   "execution_count": null,
   "id": "2b55b7b3-0ce8-4ff2-813d-349867a83c39",
   "metadata": {},
   "outputs": [],
   "source": [
    "Job_Type_nElements.count(7)"
   ]
  },
  {
   "cell_type": "code",
   "execution_count": null,
   "id": "fd73b617-3cc4-4f73-b5b2-6a5f2961e0cf",
   "metadata": {},
   "outputs": [],
   "source": [
    "df['Job Type nElements']=Job_Type_nElements"
   ]
  },
  {
   "cell_type": "code",
   "execution_count": null,
   "id": "7761af7f-adf4-43f4-938c-186374e655dd",
   "metadata": {},
   "outputs": [],
   "source": [
    "df['Job Type nElements'].value_counts()"
   ]
  },
  {
   "cell_type": "code",
   "execution_count": null,
   "id": "eed0c372-f5a9-4aeb-9969-3a16e482f1e4",
   "metadata": {},
   "outputs": [],
   "source": [
    "df[df['Job Type nElements']==7]"
   ]
  },
  {
   "cell_type": "code",
   "execution_count": null,
   "id": "e62ace52-a0cd-4c70-b0af-d887e2eeb83d",
   "metadata": {},
   "outputs": [],
   "source": [
    "df['Job Type'].unique()"
   ]
  },
  {
   "cell_type": "code",
   "execution_count": null,
   "id": "671f2902-f20a-4c30-9d15-53b11d4385a1",
   "metadata": {},
   "outputs": [],
   "source": [
    "'Full-time · Mid-Senior level'.split('·')[0]"
   ]
  },
  {
   "cell_type": "code",
   "execution_count": null,
   "id": "065607b2-27d5-41dc-bab0-8e77a145d9bc",
   "metadata": {},
   "outputs": [],
   "source": [
    "df['Job-Type']=df['Job Type'].apply(lambda x:x.split('·')[0])\n",
    "df['Job-Type']"
   ]
  },
  {
   "cell_type": "code",
   "execution_count": null,
   "id": "5cedfc09-2e74-4818-8dc2-50b6c802f465",
   "metadata": {},
   "outputs": [],
   "source": [
    "df['Job-Type'].unique()"
   ]
  },
  {
   "cell_type": "code",
   "execution_count": null,
   "id": "88f840c5-036c-4415-964f-2f8c9ecaffbc",
   "metadata": {},
   "outputs": [],
   "source": [
    "len(df['Job-Type'].unique())"
   ]
  },
  {
   "cell_type": "markdown",
   "id": "8b27af67-8542-45ea-80d5-282fa2971549",
   "metadata": {},
   "source": [
    "##### len(df['Job-Type'].unique()) should be 7 instead of 35"
   ]
  },
  {
   "cell_type": "code",
   "execution_count": null,
   "id": "189332b7-09ed-4518-975e-b1f514a528d4",
   "metadata": {},
   "outputs": [],
   "source": [
    "len(df['Job Type'].unique())"
   ]
  },
  {
   "cell_type": "code",
   "execution_count": null,
   "id": "035c00fc-a0df-4eb2-adfc-d77b35f84d84",
   "metadata": {},
   "outputs": [],
   "source": [
    "print(f\"There is difference of:{len(df['Job Type'].unique())-len(df['Job-Type'].unique())}\")"
   ]
  },
  {
   "cell_type": "code",
   "execution_count": null,
   "id": "25e1a5cc-b141-4207-8659-5ef3f0094598",
   "metadata": {},
   "outputs": [],
   "source": []
  },
  {
   "cell_type": "code",
   "execution_count": null,
   "id": "a747e8ed-4e00-44f2-b20f-e0307f9bbdea",
   "metadata": {},
   "outputs": [],
   "source": []
  },
  {
   "cell_type": "code",
   "execution_count": null,
   "id": "fc5dbbef-13f8-4d92-a4ba-db632a0d8016",
   "metadata": {},
   "outputs": [],
   "source": [
    "df[df['Job Type nElements']==1]"
   ]
  },
  {
   "cell_type": "code",
   "execution_count": null,
   "id": "422bfe8d-592f-4876-801b-5aadb43d599e",
   "metadata": {},
   "outputs": [],
   "source": [
    "df[df['Job Type nElements']==1]['Job Type'].unique()"
   ]
  },
  {
   "cell_type": "code",
   "execution_count": null,
   "id": "00dac48b-ed6d-4a62-a061-b0b9c01b76b7",
   "metadata": {},
   "outputs": [],
   "source": [
    "# Job_type_options"
   ]
  },
  {
   "cell_type": "code",
   "execution_count": null,
   "id": "b7ca25cd-e6e0-426a-a1a4-5d072ff05af9",
   "metadata": {},
   "outputs": [],
   "source": [
    "inconsistant_Job_Type_Elements_1=['Executive']\n",
    "inconsistant_Job_Type_Elements_1"
   ]
  },
  {
   "cell_type": "code",
   "execution_count": null,
   "id": "ebf2ae39-6b21-41e1-bfb8-7808ed9a08a6",
   "metadata": {},
   "outputs": [],
   "source": [
    "len(df[df['Job Type nElements']==1]['Job Type'].unique())"
   ]
  },
  {
   "cell_type": "code",
   "execution_count": null,
   "id": "b9c75796-94d7-449d-b2e5-831318f7afab",
   "metadata": {},
   "outputs": [],
   "source": [
    "df[df['Job Type']=='Executive']"
   ]
  },
  {
   "cell_type": "code",
   "execution_count": null,
   "id": "e02bb1b9-64cd-4f67-a5d9-37a8e5bdf482",
   "metadata": {},
   "outputs": [],
   "source": [
    "df[df['Job Type nElements']==2]['Job Type'].unique()"
   ]
  },
  {
   "cell_type": "code",
   "execution_count": null,
   "id": "b9b85562-303c-43b0-ae21-ea74b8b609a3",
   "metadata": {},
   "outputs": [],
   "source": [
    "inconsistant_Job_Type_Elements_2=['$150/month - $300/month · Full-time','$200,000/yr · Full-time','10,001+ employees · Tobacco Manufacturing','Full-time\\n\\n \\nMid-Senior level']\n",
    "inconsistant_Job_Type_Elements_2"
   ]
  },
  {
   "cell_type": "code",
   "execution_count": null,
   "id": "a66a5044-bd20-431a-ae1a-c1a77ffd662e",
   "metadata": {},
   "outputs": [],
   "source": [
    "len(df[df['Job Type nElements']==2]['Job Type'].unique())"
   ]
  },
  {
   "cell_type": "code",
   "execution_count": null,
   "id": "f1b71e5b-8e9b-445f-8f7d-ea341633f4cd",
   "metadata": {},
   "outputs": [],
   "source": [
    "df[df['Job Type']=='Full-time\\n\\n \\nMid-Senior level']"
   ]
  },
  {
   "cell_type": "code",
   "execution_count": null,
   "id": "3f78db3e-9934-41be-8823-5349be5fbe60",
   "metadata": {},
   "outputs": [],
   "source": [
    "df[df['Job Type']=='10,001+ employees · Tobacco Manufacturing']"
   ]
  },
  {
   "cell_type": "code",
   "execution_count": null,
   "id": "1eaa3a24-5c56-47a0-9610-f05e73b890e9",
   "metadata": {},
   "outputs": [],
   "source": [
    "df[df['Job Type'].isin(inconsistant_Job_Type_Elements_2)]"
   ]
  },
  {
   "cell_type": "code",
   "execution_count": null,
   "id": "aca6f12b-c74a-44fa-937c-60696ba79e7e",
   "metadata": {},
   "outputs": [],
   "source": [
    "len(df[df['Job Type'].isin(inconsistant_Job_Type_Elements_2)])"
   ]
  },
  {
   "cell_type": "code",
   "execution_count": null,
   "id": "e0102f57-e225-47f5-9ed0-318cb65bb840",
   "metadata": {},
   "outputs": [],
   "source": [
    "df[df['Job Type nElements']==3]['Job Type'].unique()"
   ]
  },
  {
   "cell_type": "code",
   "execution_count": null,
   "id": "96a5463b-175c-4090-bb1f-e131a9120998",
   "metadata": {},
   "outputs": [],
   "source": [
    "len(df[df['Job Type nElements']==3]['Job Type'].unique())"
   ]
  },
  {
   "cell_type": "code",
   "execution_count": null,
   "id": "ff81ed81-bb97-403d-b7d5-b57ab58b3922",
   "metadata": {},
   "outputs": [],
   "source": [
    "inconsistant_Job_Type_Elements_3=['$12,000/yr - $15,000/yr · Full-time · Mid-Senior level']\n",
    "inconsistant_Job_Type_Elements_3"
   ]
  },
  {
   "cell_type": "code",
   "execution_count": null,
   "id": "fe016a3f-53bf-408f-a8e1-721d543a6f9b",
   "metadata": {},
   "outputs": [],
   "source": [
    "df[df['Job Type'].isin(inconsistant_Job_Type_Elements_3)]"
   ]
  },
  {
   "cell_type": "code",
   "execution_count": null,
   "id": "79b9cd8d-9673-4b1d-ae30-db87324347b0",
   "metadata": {},
   "outputs": [],
   "source": [
    "len(df[df['Job Type'].isin(inconsistant_Job_Type_Elements_3)])"
   ]
  },
  {
   "cell_type": "code",
   "execution_count": null,
   "id": "f61346b0-f4ab-4040-b492-8749ffe27909",
   "metadata": {},
   "outputs": [],
   "source": [
    "df[df['Job Type nElements']==7]['Job Type'].unique()"
   ]
  },
  {
   "cell_type": "code",
   "execution_count": null,
   "id": "86199597-ac03-4227-99c0-c00f8ea776ec",
   "metadata": {},
   "outputs": [],
   "source": [
    "len(df[df['Job Type nElements']==7]['Job Type'].unique())"
   ]
  },
  {
   "cell_type": "code",
   "execution_count": null,
   "id": "fdee3812-8687-46f5-8ff0-05450b0e21e9",
   "metadata": {},
   "outputs": [],
   "source": [
    "'Executive' not in inconsistant_Job_Type_Elements_1"
   ]
  },
  {
   "cell_type": "code",
   "execution_count": null,
   "id": "0d4623d2-c39c-4b02-9b58-a7f5732cb257",
   "metadata": {},
   "outputs": [],
   "source": [
    "'·' in 'Full-time · Mid-Senior level'"
   ]
  },
  {
   "cell_type": "code",
   "execution_count": null,
   "id": "e1309257-94e0-4119-9779-56b98995b163",
   "metadata": {},
   "outputs": [],
   "source": [
    "'Full-time · Mid-Senior level'.split('·')[0]"
   ]
  },
  {
   "cell_type": "code",
   "execution_count": null,
   "id": "1c03af5e-fade-4f7a-98e0-6f60a4a617ce",
   "metadata": {},
   "outputs": [],
   "source": [
    "\"On-site\\n\\n \\nFull-time\".split('\\n\\n \\n')[1]"
   ]
  },
  {
   "cell_type": "code",
   "execution_count": null,
   "id": "d5dc20e0-34fb-4599-a64e-cea55fd26130",
   "metadata": {},
   "outputs": [],
   "source": [
    "i=0\n",
    "for inconsistant_Job in inconsistant_Job_Type_Elements_2:\n",
    "    if 'Full-time' in inconsistant_Job:\n",
    "        i=i+1\n",
    "i"
   ]
  },
  {
   "cell_type": "code",
   "execution_count": null,
   "id": "33c63c51-9174-4bb6-b437-279e240c6095",
   "metadata": {},
   "outputs": [],
   "source": [
    "'On-site\\n\\n \\nFull-time\\n\\n \\nMid-Senior level'.split('\\n\\n \\n')[1]"
   ]
  },
  {
   "cell_type": "code",
   "execution_count": null,
   "id": "ff0b5da8-26df-4ae3-8c1d-d5fda95a39df",
   "metadata": {},
   "outputs": [],
   "source": [
    "i=0\n",
    "for inconsistant_Job in inconsistant_Job_Type_Elements_3:\n",
    "    if 'Full-time' in inconsistant_Job:\n",
    "        i=i+1\n",
    "i"
   ]
  },
  {
   "cell_type": "code",
   "execution_count": null,
   "id": "a672cdd4-13f0-493b-af9e-00943c7f67a4",
   "metadata": {},
   "outputs": [],
   "source": [
    "'On-site\\n\\n \\nFull-time\\n\\n \\nMid-Senior level'.split('\\n\\n \\n')"
   ]
  },
  {
   "cell_type": "code",
   "execution_count": null,
   "id": "80f5feea-b07d-44ff-b5a5-804342013ce8",
   "metadata": {},
   "outputs": [],
   "source": [
    "# Job_Type_list=[]\n",
    "# for elmnt in df['Job Type']:\n",
    "#     if len(elmnt.split())==1:\n",
    "#         if elmnt not in inconsistant_Job_Type_Elements_1:\n",
    "#             Job_Type_list.append(elmnt)\n",
    "#         else:\n",
    "#             Job_Type_list.append('Not specified')\n",
    "#     if len(elmnt.split())==2:\n",
    "#         if elmnt not in inconsistant_Job_Type_Elements_2:\n",
    "#             if '·' in elmnt:\n",
    "#                 Job_Type_list.append(elmnt.split('·')[0])\n",
    "#             elif '\\n\\n \\n' in elmnt:\n",
    "#                 Job_Type_list.append(elmnt.split('\\n\\n \\n')[1])\n",
    "#             else:\n",
    "#                 Job_Type_list.append('Not specified')\n",
    "#         else:\n",
    "#             for inconsistant_Job in inconsistant_Job_Type_Elements_2:\n",
    "#                 if 'Full-time' in inconsistant_Job:\n",
    "#                     Job_Type_list.append('Full-time')\n",
    "#                 else:\n",
    "#                     Job_Type_list.append('Not specified')\n",
    "#     if len(elmnt.split())==3:\n",
    "#         if elmnt not in inconsistant_Job_Type_Elements_3:\n",
    "#             Job_Type_list.append(elmnt.split('\\n\\n \\n')[1])\n",
    "#         else:\n",
    "#             for inconsistant_Job in inconsistant_Job_Type_Elements_3:\n",
    "#                 if 'Full-time' in inconsistant_Job:\n",
    "#                     Job_Type_list.append('Full-time')\n",
    "#                 else:\n",
    "#                     Job_Type_list.append('Not specified')\n",
    "#     if len(elmnt.split())==7:\n",
    "#         Job_Type_list.append('Not specified')\n",
    "# # IndexError: list index out of range"
   ]
  },
  {
   "cell_type": "code",
   "execution_count": null,
   "id": "ec3be2e5-0cf7-4611-adc5-08c351e0c018",
   "metadata": {},
   "outputs": [],
   "source": [
    "# Job_Type_list=[]\n",
    "# i=0\n",
    "# for elmnt in df['Job Type']:\n",
    "#     if len(elmnt.split())==3:\n",
    "#         if elmnt not in inconsistant_Job_Type_Elements_3:\n",
    "#             # print(elmnt.split('\\n\\n \\n')[1])\n",
    "#             print(elmnt)\n",
    "#     print(i)        \n",
    "#     i=i+1\n",
    "# i"
   ]
  },
  {
   "cell_type": "code",
   "execution_count": null,
   "id": "a3421e78-3cb0-49c8-9e1a-fa92f8a8e5ee",
   "metadata": {},
   "outputs": [],
   "source": [
    "# Job_Type_list=[]\n",
    "# i=0\n",
    "# for elmnt in df['Job Type']:\n",
    "#     if len(elmnt.split())==2:\n",
    "#         if elmnt not in inconsistant_Job_Type_Elements_2:\n",
    "#             # print(elmnt.split('\\n\\n \\n')[1])\n",
    "#             print(elmnt)\n",
    "#     i=i+1\n",
    "# i"
   ]
  },
  {
   "cell_type": "code",
   "execution_count": null,
   "id": "f6d32eb0-d487-4148-8a0a-4a6f7270d249",
   "metadata": {},
   "outputs": [],
   "source": [
    "'Full-time · Mid-Senior level'.split()"
   ]
  },
  {
   "cell_type": "code",
   "execution_count": null,
   "id": "8b24e7a7-9a0f-427f-ae43-451b17814b52",
   "metadata": {},
   "outputs": [],
   "source": [
    "len('Full-time · Mid-Senior level'.split())"
   ]
  },
  {
   "cell_type": "code",
   "execution_count": null,
   "id": "64eb4d71-a83c-439b-ac5c-5e6775ffa311",
   "metadata": {},
   "outputs": [],
   "source": [
    "Job_Type_list=[]\n",
    "for elmnt in df['Job Type']:\n",
    "    if len(elmnt.split())==1:\n",
    "        if elmnt not in inconsistant_Job_Type_Elements_1:\n",
    "            Job_Type_list.append(elmnt)\n",
    "        else:\n",
    "            Job_Type_list.append('Not specified')\n",
    "    if len(elmnt.split('·'))==2 or len(elmnt.split('\\n\\n \\n'))==2:\n",
    "        if elmnt not in inconsistant_Job_Type_Elements_2:\n",
    "            if '·' in elmnt:\n",
    "                Job_Type_list.append(elmnt.split('·')[0])\n",
    "            elif '\\n\\n \\n' in elmnt:\n",
    "                Job_Type_list.append(elmnt.split('\\n\\n \\n')[1])\n",
    "            else:\n",
    "                Job_Type_list.append('Not specified')\n",
    "        else:\n",
    "            for inconsistant_Job in inconsistant_Job_Type_Elements_2:\n",
    "                if 'Full-time' in inconsistant_Job:\n",
    "                    Job_Type_list.append('Full-time')\n",
    "                else:\n",
    "                    Job_Type_list.append('Not specified')\n",
    "    if len(elmnt.split('·'))==3 or len(elmnt.split('\\n\\n \\n'))==3:\n",
    "        if elmnt not in inconsistant_Job_Type_Elements_3:\n",
    "            Job_Type_list.append(elmnt.split('\\n\\n \\n')[1])\n",
    "        else:\n",
    "            for inconsistant_Job in inconsistant_Job_Type_Elements_3:\n",
    "                if 'Full-time' in inconsistant_Job:\n",
    "                    Job_Type_list.append('Full-time')\n",
    "                else:\n",
    "                    Job_Type_list.append('Not specified')\n",
    "    if len(elmnt.split())==7:\n",
    "        Job_Type_list.append('Not specified')"
   ]
  },
  {
   "cell_type": "markdown",
   "id": "f6d70806-d205-43e4-9931-f4b08a64ebb5",
   "metadata": {},
   "source": [
    "include all Job_type_options instaed 'Full-time'"
   ]
  },
  {
   "cell_type": "code",
   "execution_count": null,
   "id": "8551ea9a-3af2-46d6-a965-9e2dd8ec207c",
   "metadata": {},
   "outputs": [],
   "source": [
    "Job_Type_list[:10]"
   ]
  },
  {
   "cell_type": "code",
   "execution_count": null,
   "id": "e2870392-3ac5-4e92-b4ff-e74688de892a",
   "metadata": {},
   "outputs": [],
   "source": [
    "len(Job_Type_list)"
   ]
  },
  {
   "cell_type": "code",
   "execution_count": null,
   "id": "177aaa1e-e63d-45ae-92fd-ded7df428e02",
   "metadata": {},
   "outputs": [],
   "source": [
    "len(df)"
   ]
  },
  {
   "cell_type": "code",
   "execution_count": null,
   "id": "f7cc3cf6-fa72-44bc-a943-a5a7bba7b8ac",
   "metadata": {},
   "outputs": [],
   "source": [
    "len(Job_Type_list)-len(df)"
   ]
  },
  {
   "cell_type": "code",
   "execution_count": null,
   "id": "8e1f53a1-4b18-4436-b33b-00d77da16f96",
   "metadata": {},
   "outputs": [],
   "source": [
    "Job_Type_list=[]\n",
    "for elmnt in df['Job Type']:\n",
    "    if len(elmnt.split())==1:\n",
    "        if elmnt not in inconsistant_Job_Type_Elements_1:\n",
    "            Job_Type_list.append(elmnt)\n",
    "        else:\n",
    "            Job_Type_list.append('Not specified')"
   ]
  },
  {
   "cell_type": "code",
   "execution_count": null,
   "id": "5ce88d42-4fa4-482c-883e-dec92884f9eb",
   "metadata": {},
   "outputs": [],
   "source": [
    "len(Job_Type_list)"
   ]
  },
  {
   "cell_type": "code",
   "execution_count": null,
   "id": "3f605bb8-642e-492c-ac3b-a5c19384d54d",
   "metadata": {},
   "outputs": [],
   "source": [
    "len(df[df['Job Type nElements']==1])"
   ]
  },
  {
   "cell_type": "code",
   "execution_count": null,
   "id": "c5fa293e-9569-4717-81f9-1dbecfb5d015",
   "metadata": {},
   "outputs": [],
   "source": [
    "Job_Type_list=[]\n",
    "i=0\n",
    "i_list=[]\n",
    "for elmnt in df['Job Type']:\n",
    "    if len(elmnt.split('·'))==2 or len(elmnt.split('\\n\\n \\n'))==2:\n",
    "        if elmnt not in inconsistant_Job_Type_Elements_2:\n",
    "            if '·' in elmnt:\n",
    "                Job_Type_list.append(elmnt.split('·')[0])\n",
    "                i_list.append(i)\n",
    "            elif '\\n\\n \\n' in elmnt:\n",
    "                Job_Type_list.append(elmnt.split('\\n\\n \\n')[1])\n",
    "                i_list.append(i)\n",
    "            else:\n",
    "                Job_Type_list.append('Not specified')\n",
    "                i_list.append(i)\n",
    "        else:\n",
    "            for inconsistant_Job in inconsistant_Job_Type_Elements_2:\n",
    "                if 'Full-time' in inconsistant_Job:\n",
    "                    Job_Type_list.append('Full-time')\n",
    "                    i_list.append(i)\n",
    "                else:\n",
    "                    Job_Type_list.append('Not specified')\n",
    "                    i_list.append(i)\n",
    "    i=i+1\n",
    "i    "
   ]
  },
  {
   "cell_type": "code",
   "execution_count": null,
   "id": "724ef39a-1ff8-42d0-a106-11715a6571e1",
   "metadata": {},
   "outputs": [],
   "source": [
    "len(i_list)"
   ]
  },
  {
   "cell_type": "code",
   "execution_count": null,
   "id": "23b1bcd3-1702-4a54-85e2-6d98955857dd",
   "metadata": {},
   "outputs": [],
   "source": [
    "i_list=pd.Series(i_list)"
   ]
  },
  {
   "cell_type": "code",
   "execution_count": null,
   "id": "1b24110c-f69c-46f1-b1b2-3d3f4d40685c",
   "metadata": {},
   "outputs": [],
   "source": [
    "i_list.value_counts()[:10]"
   ]
  },
  {
   "cell_type": "code",
   "execution_count": null,
   "id": "4f6ee05d-f9d5-4122-8c07-de8d1c8ed94e",
   "metadata": {},
   "outputs": [],
   "source": [
    "df['Job Type'].iloc[3470]"
   ]
  },
  {
   "cell_type": "code",
   "execution_count": null,
   "id": "b6b75fea-8c30-4ce7-9b08-558ce3f8f4f7",
   "metadata": {},
   "outputs": [],
   "source": [
    "df['Job Type'].iloc[3470].split('\\n\\n \\n')"
   ]
  },
  {
   "cell_type": "code",
   "execution_count": null,
   "id": "e4f06b20-c739-47c2-b47f-8370e419672d",
   "metadata": {},
   "outputs": [],
   "source": [
    "df['Job Type'].iloc[1725]"
   ]
  },
  {
   "cell_type": "code",
   "execution_count": null,
   "id": "d0ab2c06-1e6e-4da5-bb47-da5a7720c66c",
   "metadata": {},
   "outputs": [],
   "source": [
    "df['Job Type'].iloc[2810]"
   ]
  },
  {
   "cell_type": "code",
   "execution_count": null,
   "id": "406955ab-dc1c-4135-b335-9aaba3f0acd4",
   "metadata": {},
   "outputs": [],
   "source": [
    "inconsistant_Job_Type_Elements_2"
   ]
  },
  {
   "cell_type": "code",
   "execution_count": null,
   "id": "68f1c2fd-8d2f-4849-828e-f5d3c327dd62",
   "metadata": {},
   "outputs": [],
   "source": [
    "df[df['Job Type nElements']==2]['Job Type'].unique()"
   ]
  },
  {
   "cell_type": "code",
   "execution_count": null,
   "id": "a7a15abf-4fb7-4ad7-bde1-c0f224c9f1e0",
   "metadata": {},
   "outputs": [],
   "source": [
    "len(Job_Type_list)"
   ]
  },
  {
   "cell_type": "code",
   "execution_count": null,
   "id": "6100d4ed-f1b6-475a-a697-0e4947960a14",
   "metadata": {},
   "outputs": [],
   "source": [
    "len(df[df['Job Type nElements']==2])"
   ]
  },
  {
   "cell_type": "code",
   "execution_count": null,
   "id": "98349165-0264-48c2-80da-4fb4e17923ab",
   "metadata": {},
   "outputs": [],
   "source": [
    "Job_Type_list=[]\n",
    "for elmnt in df['Job Type']:\n",
    "    if len(elmnt.split('·'))==3 or len(elmnt.split('\\n\\n \\n'))==3:\n",
    "        if elmnt not in inconsistant_Job_Type_Elements_3:\n",
    "            Job_Type_list.append(elmnt.split('\\n\\n \\n')[1])\n",
    "        else:\n",
    "            for inconsistant_Job in inconsistant_Job_Type_Elements_3:\n",
    "                if 'Full-time' in inconsistant_Job:\n",
    "                    Job_Type_list.append('Full-time')\n",
    "                else:\n",
    "                    Job_Type_list.append('Not specified')"
   ]
  },
  {
   "cell_type": "code",
   "execution_count": null,
   "id": "ad7282da-0b54-44a3-a65a-a0ff05d01cd8",
   "metadata": {},
   "outputs": [],
   "source": [
    "len(Job_Type_list)"
   ]
  },
  {
   "cell_type": "code",
   "execution_count": null,
   "id": "57095fd8-7f63-4074-85ed-172f2cef910f",
   "metadata": {},
   "outputs": [],
   "source": [
    "len(df[df['Job Type nElements']==3])"
   ]
  },
  {
   "cell_type": "code",
   "execution_count": null,
   "id": "57472bb7-eca0-4e74-8ebf-1e6208e1a2cd",
   "metadata": {},
   "outputs": [],
   "source": [
    "Job_Type_list=[]\n",
    "for elmnt in df['Job Type']:\n",
    "    if len(elmnt.split())==7:\n",
    "        Job_Type_list.append('Not specified')"
   ]
  },
  {
   "cell_type": "code",
   "execution_count": null,
   "id": "2be93f33-283b-4ab3-a52c-c0683ea90a04",
   "metadata": {},
   "outputs": [],
   "source": [
    "len(Job_Type_list)"
   ]
  },
  {
   "cell_type": "code",
   "execution_count": null,
   "id": "2dce0a48-110a-4b52-926e-559cf6f1d374",
   "metadata": {},
   "outputs": [],
   "source": [
    "len(df[df['Job Type nElements']==7])"
   ]
  },
  {
   "cell_type": "code",
   "execution_count": null,
   "id": "5b4aa936-1165-4445-bf5e-18403058a72e",
   "metadata": {},
   "outputs": [],
   "source": [
    "df['Job Type nElements'].value_counts()"
   ]
  },
  {
   "cell_type": "code",
   "execution_count": null,
   "id": "c8aa0a36-4515-4f5b-a598-5cb715bec681",
   "metadata": {},
   "outputs": [],
   "source": [
    "Job_Type_list=[]\n",
    "for elmnt in df['Job Type']:\n",
    "    if len(elmnt.split())==1:\n",
    "        if elmnt not in inconsistant_Job_Type_Elements_1:\n",
    "            Job_Type_list.append(elmnt)\n",
    "        else:\n",
    "            Job_Type_list.append('Not specified')\n",
    "    elif len(elmnt.split('·'))==2 or len(elmnt.split('\\n\\n \\n'))==2:\n",
    "        if elmnt not in inconsistant_Job_Type_Elements_2:\n",
    "            if '\\n\\n \\n' in elmnt:\n",
    "                Job_Type_list.append(elmnt.split('\\n\\n \\n')[1])\n",
    "            elif '·' in elmnt:\n",
    "                Job_Type_list.append(elmnt.split('·')[0])\n",
    "            else:\n",
    "                Job_Type_list.append('Not specified')\n",
    "        else:\n",
    "            for inconsistant_Job in inconsistant_Job_Type_Elements_2:\n",
    "                if 'Full-time' in inconsistant_Job:\n",
    "                    Job_Type_list.append('Full-time')\n",
    "                else:\n",
    "                    Job_Type_list.append('Not specified')\n",
    "    elif len(elmnt.split('·'))==3 or len(elmnt.split('\\n\\n \\n'))==3:\n",
    "        if elmnt not in inconsistant_Job_Type_Elements_3:\n",
    "            Job_Type_list.append(elmnt.split('\\n\\n \\n')[1])\n",
    "        else:\n",
    "            for inconsistant_Job in inconsistant_Job_Type_Elements_3:\n",
    "                if 'Full-time' in inconsistant_Job:\n",
    "                    Job_Type_list.append('Full-time')\n",
    "                else:\n",
    "                    Job_Type_list.append('Not specified')\n",
    "    elif len(elmnt.split())==7:\n",
    "        Job_Type_list.append('Not specified')"
   ]
  },
  {
   "cell_type": "code",
   "execution_count": null,
   "id": "44267aeb-526e-40e7-950a-c2426844fc60",
   "metadata": {},
   "outputs": [],
   "source": [
    "len(Job_Type_list)"
   ]
  },
  {
   "cell_type": "code",
   "execution_count": null,
   "id": "a7afd463-a6de-4d09-a32d-6762ed64db8e",
   "metadata": {},
   "outputs": [],
   "source": [
    "Job_Type_list=[]\n",
    "for elmnt in df['Job Type']:\n",
    "    if len(elmnt.split())==1:\n",
    "        if elmnt not in inconsistant_Job_Type_Elements_1:\n",
    "            Job_Type_list.append(elmnt)\n",
    "        else:\n",
    "            Job_Type_list.append('Not specified')\n",
    "    if len(elmnt.split('·'))==2 or len(elmnt.split('\\n\\n \\n'))==2:\n",
    "        if elmnt not in inconsistant_Job_Type_Elements_2:\n",
    "            if '·' in elmnt:\n",
    "                Job_Type_list.append(elmnt.split('·')[0])\n",
    "            elif '\\n\\n \\n' in elmnt:\n",
    "                Job_Type_list.append(elmnt.split('\\n\\n \\n')[1])\n",
    "            else:\n",
    "                Job_Type_list.append('Not specified')\n",
    "        else:\n",
    "            if 'Full-time' in elmnt:\n",
    "                Job_Type_list.append('Full-time')\n",
    "            else:\n",
    "                Job_Type_list.append('Not specified')\n",
    "    if len(elmnt.split('·'))==3 or len(elmnt.split('\\n\\n \\n'))==3:\n",
    "        if elmnt not in inconsistant_Job_Type_Elements_3:\n",
    "            Job_Type_list.append(elmnt.split('\\n\\n \\n')[1])\n",
    "        else:\n",
    "            if 'Full-time' in inconsistant_Job:\n",
    "                Job_Type_list.append('Full-time')\n",
    "            else:\n",
    "                Job_Type_list.append('Not specified')\n",
    "    if len(elmnt.split())==7:\n",
    "        Job_Type_list.append('Not specified')"
   ]
  },
  {
   "cell_type": "code",
   "execution_count": null,
   "id": "6d2ad1f1-75d0-4b94-aae5-89d909524c8c",
   "metadata": {},
   "outputs": [],
   "source": [
    "len(Job_Type_list)"
   ]
  },
  {
   "cell_type": "code",
   "execution_count": null,
   "id": "0eb33aff-b5aa-49c6-8dc5-aa577efbe0a4",
   "metadata": {},
   "outputs": [],
   "source": [
    "set(Job_Type_list)"
   ]
  },
  {
   "cell_type": "code",
   "execution_count": null,
   "id": "0edbdc79-48bf-4c70-b9b3-9a79623e6401",
   "metadata": {},
   "outputs": [],
   "source": [
    "df['Job-Type']=Job_Type_list"
   ]
  },
  {
   "cell_type": "code",
   "execution_count": null,
   "id": "59c6b1b3-7b7d-4ceb-96ac-625728fc3d79",
   "metadata": {},
   "outputs": [],
   "source": [
    "df['Job-Type'].unique()"
   ]
  },
  {
   "cell_type": "code",
   "execution_count": null,
   "id": "36e72917-302f-4977-9b75-65f8e8384c04",
   "metadata": {},
   "outputs": [],
   "source": [
    "# df[df['Job-Type']=='Full-time ']"
   ]
  },
  {
   "cell_type": "code",
   "execution_count": null,
   "id": "1ec40ab8-fda1-4b43-8705-ede8b2326a53",
   "metadata": {},
   "outputs": [],
   "source": [
    "df['Job-Type'].value_counts()"
   ]
  },
  {
   "cell_type": "code",
   "execution_count": null,
   "id": "0710e68e-69ae-43a0-94a3-4233863e6537",
   "metadata": {},
   "outputs": [],
   "source": [
    "df['Job-Type'].value_counts()['Full-time']+df['Job-Type'].value_counts()['Full-time ']"
   ]
  },
  {
   "cell_type": "code",
   "execution_count": null,
   "id": "bef15ace-19d3-476d-a564-7cc35726c33b",
   "metadata": {},
   "outputs": [],
   "source": [
    "df['Job-Type'].value_counts()['Internship']+df['Job-Type'].value_counts()['Internship ']"
   ]
  },
  {
   "cell_type": "code",
   "execution_count": null,
   "id": "8a7bb5e1-c881-4443-af77-03baf70dc398",
   "metadata": {},
   "outputs": [],
   "source": [
    "df['Job-Type'].value_counts()['Part-time ']+df['Job-Type'].value_counts()['Part-time']"
   ]
  },
  {
   "cell_type": "code",
   "execution_count": null,
   "id": "7551d6e9-95f2-4fbb-9d18-7c6c85a556d3",
   "metadata": {},
   "outputs": [],
   "source": [
    "df['Job-Type'].value_counts()['Contract ']+df['Job-Type'].value_counts()['Contract']"
   ]
  },
  {
   "cell_type": "code",
   "execution_count": null,
   "id": "9289e0ff-cfb3-465a-809a-fea197b76675",
   "metadata": {},
   "outputs": [],
   "source": [
    "df['Job-Type'] = df['Job-Type'].replace(['Full-time ','Internship ','Part-time ','Contract '],['Full-time','Internship','Part-time','Contract'])"
   ]
  },
  {
   "cell_type": "code",
   "execution_count": null,
   "id": "a5bb3a69-7e35-4a99-9448-a27ee396899e",
   "metadata": {},
   "outputs": [],
   "source": [
    "df['Job-Type'].unique()"
   ]
  },
  {
   "cell_type": "code",
   "execution_count": null,
   "id": "08b6c347-b012-4184-8e70-38ad12ecce9b",
   "metadata": {},
   "outputs": [],
   "source": [
    "df['Job-Type'].value_counts()"
   ]
  },
  {
   "cell_type": "code",
   "execution_count": null,
   "id": "4858d48c-a7fd-4fcc-bd74-7e0dc7fb6bf0",
   "metadata": {},
   "outputs": [],
   "source": [
    "df['Job Type'].unique()"
   ]
  },
  {
   "cell_type": "markdown",
   "id": "17453290-5827-40c2-b97b-32d0b01a1366",
   "metadata": {},
   "source": [
    "### These are job Job type options on linkedin:\n",
    "Full-time,\n",
    "Part-time,\n",
    "Contract,\n",
    "Temporary,\n",
    "Volunteer,\n",
    "Internship,\n",
    "Other\n",
    "### These are Experience level options on linkedin:\n",
    "Internship,\n",
    "Entry level,\n",
    "Associate,\n",
    "Mid-Senior level,\n",
    "Director,\n",
    "Executive\n",
    "### These are On-site/remote options on linkedin:\n",
    "On-site,\n",
    "Remote,\n",
    "Hybrid"
   ]
  },
  {
   "cell_type": "code",
   "execution_count": null,
   "id": "e217905f-b620-44d9-a205-e90dd86dfb73",
   "metadata": {},
   "outputs": [],
   "source": [
    "Job_type_options=['Full-time','Part-time','Contract','Temporary','Volunteer','Internship','Other']\n",
    "Job_type_options"
   ]
  },
  {
   "cell_type": "code",
   "execution_count": null,
   "id": "df4af0d8-5167-4d0d-9d28-829453b7557c",
   "metadata": {},
   "outputs": [],
   "source": [
    "Experience_level_options=['Internship','Entry level','Associate','Mid-Senior level','Director','Executive']\n",
    "Experience_level_options"
   ]
  },
  {
   "cell_type": "code",
   "execution_count": null,
   "id": "7ac0919b-72ad-44c9-a547-02248a010102",
   "metadata": {},
   "outputs": [],
   "source": [
    "On_site_remote_options=['On-site','Remote','Hybrid']\n",
    "On_site_remote_options"
   ]
  },
  {
   "cell_type": "code",
   "execution_count": null,
   "id": "90ede6c9-cf31-4e4c-aad8-c5021326d579",
   "metadata": {},
   "outputs": [],
   "source": [
    "len(Job_type_options)"
   ]
  },
  {
   "cell_type": "code",
   "execution_count": null,
   "id": "1ad6129c-9617-48c9-8971-ac4caca45d95",
   "metadata": {},
   "outputs": [],
   "source": [
    "len(Experience_level_options)"
   ]
  },
  {
   "cell_type": "code",
   "execution_count": null,
   "id": "d0c79dd7-2344-4d59-ac09-23653f9d654a",
   "metadata": {},
   "outputs": [],
   "source": [
    "df.columns"
   ]
  },
  {
   "cell_type": "code",
   "execution_count": null,
   "id": "b037624a-1ce9-49f2-a9f2-13d65bd17784",
   "metadata": {},
   "outputs": [],
   "source": []
  },
  {
   "cell_type": "code",
   "execution_count": null,
   "id": "62dda0b2-6c00-41bd-a574-7309ff14ea7e",
   "metadata": {},
   "outputs": [],
   "source": []
  }
 ],
 "metadata": {
  "kernelspec": {
   "display_name": "Python 3 (ipykernel)",
   "language": "python",
   "name": "python3"
  },
  "language_info": {
   "codemirror_mode": {
    "name": "ipython",
    "version": 3
   },
   "file_extension": ".py",
   "mimetype": "text/x-python",
   "name": "python",
   "nbconvert_exporter": "python",
   "pygments_lexer": "ipython3",
   "version": "3.11.4"
  }
 },
 "nbformat": 4,
 "nbformat_minor": 5
}
