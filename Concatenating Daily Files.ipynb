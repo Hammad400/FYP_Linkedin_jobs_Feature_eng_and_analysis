{
 "cells": [
  {
   "cell_type": "code",
   "execution_count": 1,
   "id": "f9c44706-1bdb-4d5b-b70d-78e27bb9b552",
   "metadata": {},
   "outputs": [],
   "source": [
    "import os\n",
    "import pandas as pd\n",
    "from datetime import datetime"
   ]
  },
  {
   "cell_type": "code",
   "execution_count": 2,
   "id": "868caaa8-4508-42b0-a5d8-98f4675ec616",
   "metadata": {},
   "outputs": [],
   "source": [
    "path=\"Linkedin Job Details Daily Files/5th week 24 Oct -30 0ct\""
   ]
  },
  {
   "cell_type": "code",
   "execution_count": 3,
   "id": "edd2f6b4-005a-41b8-abbe-8ba4f399692a",
   "metadata": {},
   "outputs": [
    {
     "data": {
      "text/plain": [
       "['Linkedin_Job_Details_24-Oct-2023_338-jobs_14-pages.csv',\n",
       " 'Linkedin_Job_Details_25-Oct-2023_384-jobs_16-pages.csv',\n",
       " 'Linkedin_Job_Details_26-Oct-2023_304-jobs_13-pages.csv',\n",
       " 'Linkedin_Job_Details_27-Oct-2023_306-jobs_14-pages.csv',\n",
       " 'Linkedin_Job_Details_28-Oct-2023_369-jobs_16-pages.csv',\n",
       " 'Linkedin_Job_Details_29-Oct-2023_144-jobs_6-pages.csv',\n",
       " 'Linkedin_Job_Details_30-Oct-2023_100-jobs_4-pages.csv']"
      ]
     },
     "execution_count": 3,
     "metadata": {},
     "output_type": "execute_result"
    }
   ],
   "source": [
    "dir_list = os.listdir(path)\n",
    "dir_list"
   ]
  },
  {
   "cell_type": "code",
   "execution_count": 4,
   "id": "13f77b33-95be-425d-93a9-3e8e8f5331f7",
   "metadata": {},
   "outputs": [
    {
     "data": {
      "text/plain": [
       "7"
      ]
     },
     "execution_count": 4,
     "metadata": {},
     "output_type": "execute_result"
    }
   ],
   "source": [
    "len(dir_list)"
   ]
  },
  {
   "cell_type": "code",
   "execution_count": 5,
   "id": "64eea290-0602-4eb1-abc0-50baa18c3608",
   "metadata": {},
   "outputs": [
    {
     "data": {
      "text/plain": [
       "['Linkedin_Job_Details_24-Oct-2023_338-jobs_14-pages.csv',\n",
       " 'Linkedin_Job_Details_25-Oct-2023_384-jobs_16-pages.csv',\n",
       " 'Linkedin_Job_Details_26-Oct-2023_304-jobs_13-pages.csv',\n",
       " 'Linkedin_Job_Details_27-Oct-2023_306-jobs_14-pages.csv',\n",
       " 'Linkedin_Job_Details_28-Oct-2023_369-jobs_16-pages.csv',\n",
       " 'Linkedin_Job_Details_29-Oct-2023_144-jobs_6-pages.csv',\n",
       " 'Linkedin_Job_Details_30-Oct-2023_100-jobs_4-pages.csv']"
      ]
     },
     "execution_count": 5,
     "metadata": {},
     "output_type": "execute_result"
    }
   ],
   "source": [
    "dates=[file.split('_')[3] for file in dir_list]\n",
    "dates.sort(key=lambda date: datetime.strptime(date, \"%d-%b-%Y\"))\n",
    "file_names=[]\n",
    "for date in dates:\n",
    "    for file in dir_list:\n",
    "        if file.split('_')[3]==date:\n",
    "            file_names.append(file)\n",
    "file_names    "
   ]
  },
  {
   "cell_type": "code",
   "execution_count": 6,
   "id": "68769be6-78cd-4e62-a70b-a4b70a8bc5c5",
   "metadata": {},
   "outputs": [],
   "source": [
    "df_concat=None\n",
    "for file in file_names:\n",
    "    df=pd.read_csv(path+'/'+file)\n",
    "    df_concat=pd.concat([df_concat,df],ignore_index=True)    "
   ]
  },
  {
   "cell_type": "code",
   "execution_count": 7,
   "id": "68e7c70d-4b04-4985-ac76-7c1b370a2972",
   "metadata": {},
   "outputs": [
    {
     "data": {
      "text/html": [
       "<div>\n",
       "<style scoped>\n",
       "    .dataframe tbody tr th:only-of-type {\n",
       "        vertical-align: middle;\n",
       "    }\n",
       "\n",
       "    .dataframe tbody tr th {\n",
       "        vertical-align: top;\n",
       "    }\n",
       "\n",
       "    .dataframe thead th {\n",
       "        text-align: right;\n",
       "    }\n",
       "</style>\n",
       "<table border=\"1\" class=\"dataframe\">\n",
       "  <thead>\n",
       "    <tr style=\"text-align: right;\">\n",
       "      <th></th>\n",
       "      <th>Job Title</th>\n",
       "      <th>Job Info</th>\n",
       "      <th>Job Type</th>\n",
       "      <th>Job Link</th>\n",
       "      <th>employees</th>\n",
       "    </tr>\n",
       "  </thead>\n",
       "  <tbody>\n",
       "    <tr>\n",
       "      <th>0</th>\n",
       "      <td>iOS Developer</td>\n",
       "      <td>Koraspond | 360° Digital Media Marketing Agenc...</td>\n",
       "      <td>Remote\\n\\n \\nFull-time</td>\n",
       "      <td>https://www.linkedin.com/jobs/view/3732220350</td>\n",
       "      <td>11-50 employees</td>\n",
       "    </tr>\n",
       "    <tr>\n",
       "      <th>1</th>\n",
       "      <td>Sales Manager</td>\n",
       "      <td>Orbhex · Karāchi, Sindh, Pakistan Reposted  \\n...</td>\n",
       "      <td>On-site\\n\\n \\nFull-time</td>\n",
       "      <td>https://www.linkedin.com/jobs/view/3740815964</td>\n",
       "      <td>51-200 employees</td>\n",
       "    </tr>\n",
       "    <tr>\n",
       "      <th>2</th>\n",
       "      <td>Senior iOS Developer</td>\n",
       "      <td>DXB APPS - D X Technologies LLC · Pakistan  \\n...</td>\n",
       "      <td>Remote\\n\\n \\nFull-time</td>\n",
       "      <td>https://www.linkedin.com/jobs/view/3744844962</td>\n",
       "      <td>51-200 employees</td>\n",
       "    </tr>\n",
       "    <tr>\n",
       "      <th>3</th>\n",
       "      <td>Business Development Executive</td>\n",
       "      <td>AutoAdvisers.com · Islāmābād, Pakistan  \\n22 h...</td>\n",
       "      <td>On-site\\n\\n \\nFull-time</td>\n",
       "      <td>https://www.linkedin.com/jobs/view/3746500436</td>\n",
       "      <td>11-50 employees</td>\n",
       "    </tr>\n",
       "    <tr>\n",
       "      <th>4</th>\n",
       "      <td>Business Intelligence Analyst</td>\n",
       "      <td>Ascend Analytics · Lahore, Punjab, Pakistan  \\...</td>\n",
       "      <td>On-site\\n\\n \\nFull-time</td>\n",
       "      <td>https://www.linkedin.com/jobs/view/2849781534</td>\n",
       "      <td>11-50 employees</td>\n",
       "    </tr>\n",
       "    <tr>\n",
       "      <th>...</th>\n",
       "      <td>...</td>\n",
       "      <td>...</td>\n",
       "      <td>...</td>\n",
       "      <td>...</td>\n",
       "      <td>...</td>\n",
       "    </tr>\n",
       "    <tr>\n",
       "      <th>1940</th>\n",
       "      <td>Barrister or Equivalent; Partnership in Law Firm.</td>\n",
       "      <td>Dr. Shahab Imam · Karāchi, Sindh, Pakistan  \\n...</td>\n",
       "      <td>On-site\\n\\n \\nFull-time</td>\n",
       "      <td>https://www.linkedin.com/jobs/view/3749839237</td>\n",
       "      <td>1-10 employees</td>\n",
       "    </tr>\n",
       "    <tr>\n",
       "      <th>1941</th>\n",
       "      <td>Child And Family Therapist</td>\n",
       "      <td>kazishahbaz.com · Pakistan  \\n4 days ago\\n\\n ·...</td>\n",
       "      <td>Remote\\n\\n \\nPart-time</td>\n",
       "      <td>https://www.linkedin.com/jobs/view/3749844587</td>\n",
       "      <td>Kazi Shahbaz is hiring for this job</td>\n",
       "    </tr>\n",
       "    <tr>\n",
       "      <th>1942</th>\n",
       "      <td>Postdoctoral Researcher</td>\n",
       "      <td>Wenzhou University 温州大学 · APAC  \\n4 days ago</td>\n",
       "      <td>Remote\\n\\n \\nPart-time\\n\\n \\nAssociate</td>\n",
       "      <td>https://www.linkedin.com/jobs/view/3745289858</td>\n",
       "      <td>1,001-5,000 employees · Higher Education</td>\n",
       "    </tr>\n",
       "    <tr>\n",
       "      <th>1943</th>\n",
       "      <td>Postdoctoral Researcher</td>\n",
       "      <td>Wenzhou University 温州大学 · APJ  \\n4 days ago</td>\n",
       "      <td>Remote\\n\\n \\nPart-time\\n\\n \\nAssociate</td>\n",
       "      <td>https://www.linkedin.com/jobs/view/3745296019</td>\n",
       "      <td>1,001-5,000 employees · Higher Education</td>\n",
       "    </tr>\n",
       "    <tr>\n",
       "      <th>1944</th>\n",
       "      <td>Technical Lead (.Net core)</td>\n",
       "      <td>HR Ways - Hiring Tech Talent · Karāchi, Sindh,...</td>\n",
       "      <td>Hybrid\\n\\n \\nFull-time</td>\n",
       "      <td>https://www.linkedin.com/jobs/view/3749834679</td>\n",
       "      <td>11-50 employees</td>\n",
       "    </tr>\n",
       "  </tbody>\n",
       "</table>\n",
       "<p>1945 rows × 5 columns</p>\n",
       "</div>"
      ],
      "text/plain": [
       "                                              Job Title  \\\n",
       "0                                         iOS Developer   \n",
       "1                                         Sales Manager   \n",
       "2                                  Senior iOS Developer   \n",
       "3                        Business Development Executive   \n",
       "4                         Business Intelligence Analyst   \n",
       "...                                                 ...   \n",
       "1940  Barrister or Equivalent; Partnership in Law Firm.   \n",
       "1941                         Child And Family Therapist   \n",
       "1942                            Postdoctoral Researcher   \n",
       "1943                            Postdoctoral Researcher   \n",
       "1944                         Technical Lead (.Net core)   \n",
       "\n",
       "                                               Job Info  \\\n",
       "0     Koraspond | 360° Digital Media Marketing Agenc...   \n",
       "1     Orbhex · Karāchi, Sindh, Pakistan Reposted  \\n...   \n",
       "2     DXB APPS - D X Technologies LLC · Pakistan  \\n...   \n",
       "3     AutoAdvisers.com · Islāmābād, Pakistan  \\n22 h...   \n",
       "4     Ascend Analytics · Lahore, Punjab, Pakistan  \\...   \n",
       "...                                                 ...   \n",
       "1940  Dr. Shahab Imam · Karāchi, Sindh, Pakistan  \\n...   \n",
       "1941  kazishahbaz.com · Pakistan  \\n4 days ago\\n\\n ·...   \n",
       "1942       Wenzhou University 温州大学 · APAC  \\n4 days ago   \n",
       "1943        Wenzhou University 温州大学 · APJ  \\n4 days ago   \n",
       "1944  HR Ways - Hiring Tech Talent · Karāchi, Sindh,...   \n",
       "\n",
       "                                    Job Type  \\\n",
       "0                     Remote\\n\\n \\nFull-time   \n",
       "1                    On-site\\n\\n \\nFull-time   \n",
       "2                     Remote\\n\\n \\nFull-time   \n",
       "3                    On-site\\n\\n \\nFull-time   \n",
       "4                    On-site\\n\\n \\nFull-time   \n",
       "...                                      ...   \n",
       "1940                 On-site\\n\\n \\nFull-time   \n",
       "1941                  Remote\\n\\n \\nPart-time   \n",
       "1942  Remote\\n\\n \\nPart-time\\n\\n \\nAssociate   \n",
       "1943  Remote\\n\\n \\nPart-time\\n\\n \\nAssociate   \n",
       "1944                  Hybrid\\n\\n \\nFull-time   \n",
       "\n",
       "                                           Job Link  \\\n",
       "0     https://www.linkedin.com/jobs/view/3732220350   \n",
       "1     https://www.linkedin.com/jobs/view/3740815964   \n",
       "2     https://www.linkedin.com/jobs/view/3744844962   \n",
       "3     https://www.linkedin.com/jobs/view/3746500436   \n",
       "4     https://www.linkedin.com/jobs/view/2849781534   \n",
       "...                                             ...   \n",
       "1940  https://www.linkedin.com/jobs/view/3749839237   \n",
       "1941  https://www.linkedin.com/jobs/view/3749844587   \n",
       "1942  https://www.linkedin.com/jobs/view/3745289858   \n",
       "1943  https://www.linkedin.com/jobs/view/3745296019   \n",
       "1944  https://www.linkedin.com/jobs/view/3749834679   \n",
       "\n",
       "                                     employees  \n",
       "0                              11-50 employees  \n",
       "1                             51-200 employees  \n",
       "2                             51-200 employees  \n",
       "3                              11-50 employees  \n",
       "4                              11-50 employees  \n",
       "...                                        ...  \n",
       "1940                            1-10 employees  \n",
       "1941       Kazi Shahbaz is hiring for this job  \n",
       "1942  1,001-5,000 employees · Higher Education  \n",
       "1943  1,001-5,000 employees · Higher Education  \n",
       "1944                           11-50 employees  \n",
       "\n",
       "[1945 rows x 5 columns]"
      ]
     },
     "execution_count": 7,
     "metadata": {},
     "output_type": "execute_result"
    }
   ],
   "source": [
    "df_concat"
   ]
  },
  {
   "cell_type": "code",
   "execution_count": 8,
   "id": "c440ff55-8320-491d-94a2-1da1ebcb9cef",
   "metadata": {},
   "outputs": [
    {
     "data": {
      "text/plain": [
       "83"
      ]
     },
     "execution_count": 8,
     "metadata": {},
     "output_type": "execute_result"
    }
   ],
   "source": [
    "total_pages=0\n",
    "for file in file_names:\n",
    "    total_pages=total_pages+int(file.split('_')[5].strip('-pages.csv'))\n",
    "total_pages"
   ]
  },
  {
   "cell_type": "code",
   "execution_count": 9,
   "id": "9abed29f-641a-4e06-955a-653d66bf797d",
   "metadata": {},
   "outputs": [
    {
     "data": {
      "text/plain": [
       "1945"
      ]
     },
     "execution_count": 9,
     "metadata": {},
     "output_type": "execute_result"
    }
   ],
   "source": [
    "total_records=0\n",
    "for file in file_names:\n",
    "    total_records=total_records+int(file.split('_')[4].strip('-jobs'))\n",
    "total_records"
   ]
  },
  {
   "cell_type": "code",
   "execution_count": 10,
   "id": "981d25ae-2bae-46d7-8f83-437835bb35c4",
   "metadata": {},
   "outputs": [
    {
     "data": {
      "text/plain": [
       "1945"
      ]
     },
     "execution_count": 10,
     "metadata": {},
     "output_type": "execute_result"
    }
   ],
   "source": [
    "len(df_concat)"
   ]
  },
  {
   "cell_type": "code",
   "execution_count": 11,
   "id": "4dfdc697-f2b0-4df9-ac6a-42cbcae86993",
   "metadata": {},
   "outputs": [
    {
     "data": {
      "text/plain": [
       "'Linkedin Job Details Weekly Files/'"
      ]
     },
     "execution_count": 11,
     "metadata": {},
     "output_type": "execute_result"
    }
   ],
   "source": [
    "folder_path='Linkedin Job Details Weekly Files/'\n",
    "folder_path"
   ]
  },
  {
   "cell_type": "code",
   "execution_count": 12,
   "id": "b7d22b83-a0b3-404b-af48-a5b3c9608803",
   "metadata": {},
   "outputs": [
    {
     "data": {
      "text/plain": [
       "'24-Oct-2023-to-30-0ct-2023'"
      ]
     },
     "execution_count": 12,
     "metadata": {},
     "output_type": "execute_result"
    }
   ],
   "source": [
    "week=path.split('/')[-1].split()[2]+'-'+path.split('/')[-1].split()[3]+'-2023-to'+path.split('/')[-1].split()[4]+'-'+path.split('/')[-1].split()[5]+'-2023'\n",
    "week"
   ]
  },
  {
   "cell_type": "code",
   "execution_count": 13,
   "id": "fc2f7c34-f6f2-477b-8a09-f2f77e32759b",
   "metadata": {},
   "outputs": [],
   "source": [
    "df_concat.to_csv(folder_path+f'Linkedin_Job_Details_{week}_{len(df_concat)}-jobs_{total_pages}-pages.csv',index=False)"
   ]
  },
  {
   "cell_type": "code",
   "execution_count": null,
   "id": "0112242c-5907-4e26-8915-40d9b1014303",
   "metadata": {},
   "outputs": [],
   "source": []
  }
 ],
 "metadata": {
  "kernelspec": {
   "display_name": "Python 3 (ipykernel)",
   "language": "python",
   "name": "python3"
  },
  "language_info": {
   "codemirror_mode": {
    "name": "ipython",
    "version": 3
   },
   "file_extension": ".py",
   "mimetype": "text/x-python",
   "name": "python",
   "nbconvert_exporter": "python",
   "pygments_lexer": "ipython3",
   "version": "3.11.4"
  }
 },
 "nbformat": 4,
 "nbformat_minor": 5
}
