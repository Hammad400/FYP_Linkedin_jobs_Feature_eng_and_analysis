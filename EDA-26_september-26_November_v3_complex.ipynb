{
 "cells": [
  {
   "cell_type": "code",
   "execution_count": 1,
   "id": "81ac062a-82c7-49ee-b287-c219641155b6",
   "metadata": {},
   "outputs": [],
   "source": [
    "import pandas as pd\n",
    "import numpy as np\n",
    "import os\n",
    "from datetime import datetime"
   ]
  },
  {
   "cell_type": "code",
   "execution_count": 2,
   "id": "966fb6a3-3166-444a-8246-b2111900c95a",
   "metadata": {},
   "outputs": [],
   "source": [
    "path='Files used in current analysis/Linkedin_Job_Details_26-Sep-2023-to-26-Nov-2023_15875-jobs_685-pages.csv'"
   ]
  },
  {
   "cell_type": "code",
   "execution_count": 3,
   "id": "ea083d0e-c886-4620-a6b3-778654b7f58b",
   "metadata": {},
   "outputs": [],
   "source": [
    "df=pd.read_csv(path)"
   ]
  },
  {
   "cell_type": "code",
   "execution_count": 4,
   "id": "1869871d-7c0a-40b8-abb9-8748537036a1",
   "metadata": {},
   "outputs": [
    {
     "data": {
      "text/html": [
       "<div>\n",
       "<style scoped>\n",
       "    .dataframe tbody tr th:only-of-type {\n",
       "        vertical-align: middle;\n",
       "    }\n",
       "\n",
       "    .dataframe tbody tr th {\n",
       "        vertical-align: top;\n",
       "    }\n",
       "\n",
       "    .dataframe thead th {\n",
       "        text-align: right;\n",
       "    }\n",
       "</style>\n",
       "<table border=\"1\" class=\"dataframe\">\n",
       "  <thead>\n",
       "    <tr style=\"text-align: right;\">\n",
       "      <th></th>\n",
       "      <th>Job Title</th>\n",
       "      <th>Job Info</th>\n",
       "      <th>Job Type</th>\n",
       "      <th>Job Link</th>\n",
       "      <th>employees</th>\n",
       "    </tr>\n",
       "  </thead>\n",
       "  <tbody>\n",
       "    <tr>\n",
       "      <th>0</th>\n",
       "      <td>LinkedIn Data Extractor</td>\n",
       "      <td>EcomFleet · Pakistan (Remote)  \\n1 week ago</td>\n",
       "      <td>Full-time</td>\n",
       "      <td>https://www.linkedin.com/jobs/view/3727054368</td>\n",
       "      <td>11-50 employees</td>\n",
       "    </tr>\n",
       "    <tr>\n",
       "      <th>1</th>\n",
       "      <td>It Management Intern</td>\n",
       "      <td>Digicon Valley · Lahore, Punjab, Pakistan (On-...</td>\n",
       "      <td>Full-time</td>\n",
       "      <td>https://www.linkedin.com/jobs/view/3723395858</td>\n",
       "      <td>11-50 employees</td>\n",
       "    </tr>\n",
       "    <tr>\n",
       "      <th>2</th>\n",
       "      <td>SQL Database Developer</td>\n",
       "      <td>Murkez Technologies · Lahore, Punjab, Pakistan...</td>\n",
       "      <td>Full-time</td>\n",
       "      <td>https://www.linkedin.com/jobs/view/3727034665</td>\n",
       "      <td>51-200 employees</td>\n",
       "    </tr>\n",
       "    <tr>\n",
       "      <th>3</th>\n",
       "      <td>Business Intelligence Developer</td>\n",
       "      <td>DevNatives · Islamabad, Islāmābād, Pakistan (H...</td>\n",
       "      <td>Full-time</td>\n",
       "      <td>https://www.linkedin.com/jobs/view/3727029273</td>\n",
       "      <td>11-50 employees</td>\n",
       "    </tr>\n",
       "    <tr>\n",
       "      <th>4</th>\n",
       "      <td>Web Developer - Internship</td>\n",
       "      <td>ItCreaters · Lahore, Punjab, Pakistan (On-site...</td>\n",
       "      <td>Full-time</td>\n",
       "      <td>https://www.linkedin.com/jobs/view/3727034696</td>\n",
       "      <td>Mobeen Naqvi is hiring for this job</td>\n",
       "    </tr>\n",
       "    <tr>\n",
       "      <th>...</th>\n",
       "      <td>...</td>\n",
       "      <td>...</td>\n",
       "      <td>...</td>\n",
       "      <td>...</td>\n",
       "      <td>...</td>\n",
       "    </tr>\n",
       "    <tr>\n",
       "      <th>15870</th>\n",
       "      <td>Manager – Growth Chat &amp; SMS (Digital Marketing)</td>\n",
       "      <td>Bank Alfalah Limited · Karāchi, Sindh, Pakista...</td>\n",
       "      <td>On-site\\n\\n \\nFull-time\\n\\n \\nMid-Senior level</td>\n",
       "      <td>https://www.linkedin.com/jobs/view/3767355025</td>\n",
       "      <td>5,001-10,000 employees · Banking</td>\n",
       "    </tr>\n",
       "    <tr>\n",
       "      <th>15871</th>\n",
       "      <td>Release Support Engineer</td>\n",
       "      <td>Turing · Pakistan Reposted  \\n1 week ago</td>\n",
       "      <td>Remote\\n\\n \\nFull-time\\n\\n \\nEntry level</td>\n",
       "      <td>https://www.linkedin.com/jobs/view/3766809535</td>\n",
       "      <td>1,001-5,000 employees · IT Services and IT Con...</td>\n",
       "    </tr>\n",
       "    <tr>\n",
       "      <th>15872</th>\n",
       "      <td>Information Security Specialist</td>\n",
       "      <td>DPL · Islamabad, Islāmābād, Pakistan  \\n1 week...</td>\n",
       "      <td>On-site\\n\\n \\nFull-time\\n\\n \\nEntry level</td>\n",
       "      <td>https://www.linkedin.com/jobs/view/3772530977</td>\n",
       "      <td>51-200 employees · IT Services and IT Consulting</td>\n",
       "    </tr>\n",
       "    <tr>\n",
       "      <th>15873</th>\n",
       "      <td>FUNCTIONAL CONSULTANT ORACLE FUSION - HCM</td>\n",
       "      <td>Level 3 BOS · Karachi Division, Sindh, Pakista...</td>\n",
       "      <td>On-site\\n\\n \\nFull-time\\n\\n \\nMid-Senior level</td>\n",
       "      <td>https://www.linkedin.com/jobs/view/3771943212</td>\n",
       "      <td>201-500 employees · Outsourcing and Offshoring...</td>\n",
       "    </tr>\n",
       "    <tr>\n",
       "      <th>15874</th>\n",
       "      <td>Community Associate</td>\n",
       "      <td>The Hive · Karachi Division, Sindh, Pakistan  ...</td>\n",
       "      <td>On-site\\n\\n \\nFull-time</td>\n",
       "      <td>https://www.linkedin.com/jobs/view/3767944844</td>\n",
       "      <td>11-50 employees</td>\n",
       "    </tr>\n",
       "  </tbody>\n",
       "</table>\n",
       "<p>15875 rows × 5 columns</p>\n",
       "</div>"
      ],
      "text/plain": [
       "                                             Job Title  \\\n",
       "0                              LinkedIn Data Extractor   \n",
       "1                                 It Management Intern   \n",
       "2                               SQL Database Developer   \n",
       "3                      Business Intelligence Developer   \n",
       "4                           Web Developer - Internship   \n",
       "...                                                ...   \n",
       "15870  Manager – Growth Chat & SMS (Digital Marketing)   \n",
       "15871                         Release Support Engineer   \n",
       "15872                  Information Security Specialist   \n",
       "15873        FUNCTIONAL CONSULTANT ORACLE FUSION - HCM   \n",
       "15874                              Community Associate   \n",
       "\n",
       "                                                Job Info  \\\n",
       "0            EcomFleet · Pakistan (Remote)  \\n1 week ago   \n",
       "1      Digicon Valley · Lahore, Punjab, Pakistan (On-...   \n",
       "2      Murkez Technologies · Lahore, Punjab, Pakistan...   \n",
       "3      DevNatives · Islamabad, Islāmābād, Pakistan (H...   \n",
       "4      ItCreaters · Lahore, Punjab, Pakistan (On-site...   \n",
       "...                                                  ...   \n",
       "15870  Bank Alfalah Limited · Karāchi, Sindh, Pakista...   \n",
       "15871           Turing · Pakistan Reposted  \\n1 week ago   \n",
       "15872  DPL · Islamabad, Islāmābād, Pakistan  \\n1 week...   \n",
       "15873  Level 3 BOS · Karachi Division, Sindh, Pakista...   \n",
       "15874  The Hive · Karachi Division, Sindh, Pakistan  ...   \n",
       "\n",
       "                                             Job Type  \\\n",
       "0                                           Full-time   \n",
       "1                                           Full-time   \n",
       "2                                           Full-time   \n",
       "3                                           Full-time   \n",
       "4                                           Full-time   \n",
       "...                                               ...   \n",
       "15870  On-site\\n\\n \\nFull-time\\n\\n \\nMid-Senior level   \n",
       "15871        Remote\\n\\n \\nFull-time\\n\\n \\nEntry level   \n",
       "15872       On-site\\n\\n \\nFull-time\\n\\n \\nEntry level   \n",
       "15873  On-site\\n\\n \\nFull-time\\n\\n \\nMid-Senior level   \n",
       "15874                         On-site\\n\\n \\nFull-time   \n",
       "\n",
       "                                            Job Link  \\\n",
       "0      https://www.linkedin.com/jobs/view/3727054368   \n",
       "1      https://www.linkedin.com/jobs/view/3723395858   \n",
       "2      https://www.linkedin.com/jobs/view/3727034665   \n",
       "3      https://www.linkedin.com/jobs/view/3727029273   \n",
       "4      https://www.linkedin.com/jobs/view/3727034696   \n",
       "...                                              ...   \n",
       "15870  https://www.linkedin.com/jobs/view/3767355025   \n",
       "15871  https://www.linkedin.com/jobs/view/3766809535   \n",
       "15872  https://www.linkedin.com/jobs/view/3772530977   \n",
       "15873  https://www.linkedin.com/jobs/view/3771943212   \n",
       "15874  https://www.linkedin.com/jobs/view/3767944844   \n",
       "\n",
       "                                               employees  \n",
       "0                                        11-50 employees  \n",
       "1                                        11-50 employees  \n",
       "2                                       51-200 employees  \n",
       "3                                        11-50 employees  \n",
       "4                    Mobeen Naqvi is hiring for this job  \n",
       "...                                                  ...  \n",
       "15870                   5,001-10,000 employees · Banking  \n",
       "15871  1,001-5,000 employees · IT Services and IT Con...  \n",
       "15872   51-200 employees · IT Services and IT Consulting  \n",
       "15873  201-500 employees · Outsourcing and Offshoring...  \n",
       "15874                                    11-50 employees  \n",
       "\n",
       "[15875 rows x 5 columns]"
      ]
     },
     "execution_count": 4,
     "metadata": {},
     "output_type": "execute_result"
    }
   ],
   "source": [
    "df"
   ]
  },
  {
   "cell_type": "markdown",
   "id": "734d344d-ad4e-4f8d-965c-3b9eb36c5e56",
   "metadata": {},
   "source": [
    "### checking duplicates"
   ]
  },
  {
   "cell_type": "code",
   "execution_count": 5,
   "id": "ef2bd986-a157-46a1-83b8-4bef0c56e5d2",
   "metadata": {},
   "outputs": [
    {
     "data": {
      "text/plain": [
       "15875"
      ]
     },
     "execution_count": 5,
     "metadata": {},
     "output_type": "execute_result"
    }
   ],
   "source": [
    "len(df)"
   ]
  },
  {
   "cell_type": "code",
   "execution_count": 6,
   "id": "5c700a51-47f9-4064-8f27-57495dca99b7",
   "metadata": {},
   "outputs": [],
   "source": [
    "df['Job ID']=df['Job Link'].apply(lambda x:int(x.split('/')[5]))"
   ]
  },
  {
   "cell_type": "code",
   "execution_count": 7,
   "id": "f46f8835-2357-40fe-a25f-9ef307238a00",
   "metadata": {},
   "outputs": [
    {
     "data": {
      "text/plain": [
       "12010"
      ]
     },
     "execution_count": 7,
     "metadata": {},
     "output_type": "execute_result"
    }
   ],
   "source": [
    "len(df['Job ID'].unique())"
   ]
  },
  {
   "cell_type": "code",
   "execution_count": 8,
   "id": "16f03f39-ef42-4319-a853-b6aff4dcfc74",
   "metadata": {},
   "outputs": [
    {
     "data": {
      "text/plain": [
       "3865"
      ]
     },
     "execution_count": 8,
     "metadata": {},
     "output_type": "execute_result"
    }
   ],
   "source": [
    "len(df)-len(df['Job ID'].unique())"
   ]
  },
  {
   "cell_type": "code",
   "execution_count": 1823,
   "id": "4d8f3b78-ccbd-4c80-b351-f31500d65605",
   "metadata": {},
   "outputs": [
    {
     "data": {
      "text/plain": [
       "Job ID\n",
       "3720211981    13\n",
       "3707088816    11\n",
       "3733022066    11\n",
       "3733019363    11\n",
       "3605634351    10\n",
       "              ..\n",
       "3736603529     1\n",
       "3736386954     1\n",
       "3736348678     1\n",
       "3735669396     1\n",
       "3767944844     1\n",
       "Name: count, Length: 12010, dtype: int64"
      ]
     },
     "execution_count": 1823,
     "metadata": {},
     "output_type": "execute_result"
    }
   ],
   "source": [
    "df['Job ID'].value_counts()"
   ]
  },
  {
   "cell_type": "code",
   "execution_count": 1824,
   "id": "daac1f95-161c-4c80-8771-ee3e2905fc36",
   "metadata": {},
   "outputs": [
    {
     "data": {
      "text/plain": [
       "array([13, 11, 10,  9,  8,  7,  6,  5,  4,  3,  2,  1], dtype=int64)"
      ]
     },
     "execution_count": 1824,
     "metadata": {},
     "output_type": "execute_result"
    }
   ],
   "source": [
    "df['Job ID'].value_counts().unique()"
   ]
  },
  {
   "cell_type": "code",
   "execution_count": 1825,
   "id": "12346237-4553-4608-a1a0-090c7402ba68",
   "metadata": {},
   "outputs": [
    {
     "data": {
      "text/plain": [
       "3865"
      ]
     },
     "execution_count": 1825,
     "metadata": {},
     "output_type": "execute_result"
    }
   ],
   "source": [
    "duplicates_count=df.duplicated(subset=['Job ID']).sum()\n",
    "duplicates_count"
   ]
  },
  {
   "cell_type": "code",
   "execution_count": 1826,
   "id": "88210200-bf59-441b-b4d7-d244ae038dee",
   "metadata": {},
   "outputs": [
    {
     "data": {
      "text/html": [
       "<div>\n",
       "<style scoped>\n",
       "    .dataframe tbody tr th:only-of-type {\n",
       "        vertical-align: middle;\n",
       "    }\n",
       "\n",
       "    .dataframe tbody tr th {\n",
       "        vertical-align: top;\n",
       "    }\n",
       "\n",
       "    .dataframe thead th {\n",
       "        text-align: right;\n",
       "    }\n",
       "</style>\n",
       "<table border=\"1\" class=\"dataframe\">\n",
       "  <thead>\n",
       "    <tr style=\"text-align: right;\">\n",
       "      <th></th>\n",
       "      <th>Job Title</th>\n",
       "      <th>Job Info</th>\n",
       "      <th>Job Type</th>\n",
       "      <th>Job Link</th>\n",
       "      <th>employees</th>\n",
       "      <th>Job ID</th>\n",
       "    </tr>\n",
       "  </thead>\n",
       "  <tbody>\n",
       "    <tr>\n",
       "      <th>603</th>\n",
       "      <td>Odoo Developer</td>\n",
       "      <td>AKSiQ · Karachi Division, Sindh, Pakistan (On-...</td>\n",
       "      <td>Full-time</td>\n",
       "      <td>https://www.linkedin.com/jobs/view/3727054738</td>\n",
       "      <td>11-50 employees</td>\n",
       "      <td>3727054738</td>\n",
       "    </tr>\n",
       "    <tr>\n",
       "      <th>781</th>\n",
       "      <td>Assistant Manager Sales/Sales Executive</td>\n",
       "      <td>Eastern Housing Pakistan · Multan, Punjab, Pak...</td>\n",
       "      <td>Full-time</td>\n",
       "      <td>https://www.linkedin.com/jobs/view/3727057147</td>\n",
       "      <td>201-500 employees</td>\n",
       "      <td>3727057147</td>\n",
       "    </tr>\n",
       "    <tr>\n",
       "      <th>834</th>\n",
       "      <td>Back-End Network Engineer</td>\n",
       "      <td>Turing · Pakistan (Remote) Reposted  \\n2 weeks...</td>\n",
       "      <td>Full-time · Entry level</td>\n",
       "      <td>https://www.linkedin.com/jobs/view/3726337380</td>\n",
       "      <td>1,001-5,000 employees · IT Services and IT Con...</td>\n",
       "      <td>3726337380</td>\n",
       "    </tr>\n",
       "    <tr>\n",
       "      <th>840</th>\n",
       "      <td>Release Management Engineer</td>\n",
       "      <td>AIIT Solutions · Rawalpindi, Punjab, Pakistan ...</td>\n",
       "      <td>Full-time</td>\n",
       "      <td>https://www.linkedin.com/jobs/view/3727054443</td>\n",
       "      <td>11-50 employees</td>\n",
       "      <td>3727054443</td>\n",
       "    </tr>\n",
       "    <tr>\n",
       "      <th>842</th>\n",
       "      <td>NaN</td>\n",
       "      <td>NaN</td>\n",
       "      <td>NaN</td>\n",
       "      <td>https://www.linkedin.com/jobs/view/3727051751</td>\n",
       "      <td>NaN</td>\n",
       "      <td>3727051751</td>\n",
       "    </tr>\n",
       "    <tr>\n",
       "      <th>...</th>\n",
       "      <td>...</td>\n",
       "      <td>...</td>\n",
       "      <td>...</td>\n",
       "      <td>...</td>\n",
       "      <td>...</td>\n",
       "      <td>...</td>\n",
       "    </tr>\n",
       "    <tr>\n",
       "      <th>15856</th>\n",
       "      <td>Assistant Manager Talent Acquisition</td>\n",
       "      <td>Zameen.com · Lahore, Punjab, Pakistan  \\n2 wee...</td>\n",
       "      <td>On-site\\n\\n \\nFull-time\\n\\n \\nMid-Senior level</td>\n",
       "      <td>https://www.linkedin.com/jobs/view/3765449305</td>\n",
       "      <td>5,001-10,000 employees · Real Estate</td>\n",
       "      <td>3765449305</td>\n",
       "    </tr>\n",
       "    <tr>\n",
       "      <th>15857</th>\n",
       "      <td>Software Engineer</td>\n",
       "      <td>Arrivy · Lahore, Punjab, Pakistan  \\n1 week ago</td>\n",
       "      <td>On-site\\n\\n \\nFull-time</td>\n",
       "      <td>https://www.linkedin.com/jobs/view/3765793064</td>\n",
       "      <td>51-200 employees</td>\n",
       "      <td>3765793064</td>\n",
       "    </tr>\n",
       "    <tr>\n",
       "      <th>15858</th>\n",
       "      <td>Web Backend Developer</td>\n",
       "      <td>Turing · Pakistan  \\n2 weeks ago\\n\\n · 11 appl...</td>\n",
       "      <td>Remote\\n\\n \\nFull-time\\n\\n \\nEntry level</td>\n",
       "      <td>https://www.linkedin.com/jobs/view/3765780780</td>\n",
       "      <td>1,001-5,000 employees · IT Services and IT Con...</td>\n",
       "      <td>3765780780</td>\n",
       "    </tr>\n",
       "    <tr>\n",
       "      <th>15860</th>\n",
       "      <td>Investment Advisor</td>\n",
       "      <td>Opal smart · Islamabad, Islāmābād, Pakistan  \\...</td>\n",
       "      <td>On-site\\n\\n \\nFull-time</td>\n",
       "      <td>https://www.linkedin.com/jobs/view/3766397564</td>\n",
       "      <td>Areesha Rashid Qureshi is hiring for this job</td>\n",
       "      <td>3766397564</td>\n",
       "    </tr>\n",
       "    <tr>\n",
       "      <th>15871</th>\n",
       "      <td>Release Support Engineer</td>\n",
       "      <td>Turing · Pakistan Reposted  \\n1 week ago</td>\n",
       "      <td>Remote\\n\\n \\nFull-time\\n\\n \\nEntry level</td>\n",
       "      <td>https://www.linkedin.com/jobs/view/3766809535</td>\n",
       "      <td>1,001-5,000 employees · IT Services and IT Con...</td>\n",
       "      <td>3766809535</td>\n",
       "    </tr>\n",
       "  </tbody>\n",
       "</table>\n",
       "<p>3865 rows × 6 columns</p>\n",
       "</div>"
      ],
      "text/plain": [
       "                                     Job Title  \\\n",
       "603                             Odoo Developer   \n",
       "781    Assistant Manager Sales/Sales Executive   \n",
       "834                  Back-End Network Engineer   \n",
       "840                Release Management Engineer   \n",
       "842                                        NaN   \n",
       "...                                        ...   \n",
       "15856     Assistant Manager Talent Acquisition   \n",
       "15857                        Software Engineer   \n",
       "15858                    Web Backend Developer   \n",
       "15860                       Investment Advisor   \n",
       "15871                 Release Support Engineer   \n",
       "\n",
       "                                                Job Info  \\\n",
       "603    AKSiQ · Karachi Division, Sindh, Pakistan (On-...   \n",
       "781    Eastern Housing Pakistan · Multan, Punjab, Pak...   \n",
       "834    Turing · Pakistan (Remote) Reposted  \\n2 weeks...   \n",
       "840    AIIT Solutions · Rawalpindi, Punjab, Pakistan ...   \n",
       "842                                                  NaN   \n",
       "...                                                  ...   \n",
       "15856  Zameen.com · Lahore, Punjab, Pakistan  \\n2 wee...   \n",
       "15857    Arrivy · Lahore, Punjab, Pakistan  \\n1 week ago   \n",
       "15858  Turing · Pakistan  \\n2 weeks ago\\n\\n · 11 appl...   \n",
       "15860  Opal smart · Islamabad, Islāmābād, Pakistan  \\...   \n",
       "15871           Turing · Pakistan Reposted  \\n1 week ago   \n",
       "\n",
       "                                             Job Type  \\\n",
       "603                                         Full-time   \n",
       "781                                         Full-time   \n",
       "834                           Full-time · Entry level   \n",
       "840                                         Full-time   \n",
       "842                                               NaN   \n",
       "...                                               ...   \n",
       "15856  On-site\\n\\n \\nFull-time\\n\\n \\nMid-Senior level   \n",
       "15857                         On-site\\n\\n \\nFull-time   \n",
       "15858        Remote\\n\\n \\nFull-time\\n\\n \\nEntry level   \n",
       "15860                         On-site\\n\\n \\nFull-time   \n",
       "15871        Remote\\n\\n \\nFull-time\\n\\n \\nEntry level   \n",
       "\n",
       "                                            Job Link  \\\n",
       "603    https://www.linkedin.com/jobs/view/3727054738   \n",
       "781    https://www.linkedin.com/jobs/view/3727057147   \n",
       "834    https://www.linkedin.com/jobs/view/3726337380   \n",
       "840    https://www.linkedin.com/jobs/view/3727054443   \n",
       "842    https://www.linkedin.com/jobs/view/3727051751   \n",
       "...                                              ...   \n",
       "15856  https://www.linkedin.com/jobs/view/3765449305   \n",
       "15857  https://www.linkedin.com/jobs/view/3765793064   \n",
       "15858  https://www.linkedin.com/jobs/view/3765780780   \n",
       "15860  https://www.linkedin.com/jobs/view/3766397564   \n",
       "15871  https://www.linkedin.com/jobs/view/3766809535   \n",
       "\n",
       "                                               employees      Job ID  \n",
       "603                                      11-50 employees  3727054738  \n",
       "781                                    201-500 employees  3727057147  \n",
       "834    1,001-5,000 employees · IT Services and IT Con...  3726337380  \n",
       "840                                      11-50 employees  3727054443  \n",
       "842                                                  NaN  3727051751  \n",
       "...                                                  ...         ...  \n",
       "15856               5,001-10,000 employees · Real Estate  3765449305  \n",
       "15857                                   51-200 employees  3765793064  \n",
       "15858  1,001-5,000 employees · IT Services and IT Con...  3765780780  \n",
       "15860      Areesha Rashid Qureshi is hiring for this job  3766397564  \n",
       "15871  1,001-5,000 employees · IT Services and IT Con...  3766809535  \n",
       "\n",
       "[3865 rows x 6 columns]"
      ]
     },
     "execution_count": 1826,
     "metadata": {},
     "output_type": "execute_result"
    }
   ],
   "source": [
    "duplicates = df['Job ID'].duplicated()\n",
    "df[duplicates]"
   ]
  },
  {
   "cell_type": "markdown",
   "id": "841cad11-ad4f-43df-ab95-ee403a84900d",
   "metadata": {},
   "source": [
    "### drop duplicates"
   ]
  },
  {
   "cell_type": "code",
   "execution_count": 1827,
   "id": "8db6fd7e-b7bb-43a2-9144-ce858ad78073",
   "metadata": {},
   "outputs": [],
   "source": [
    "df = df.drop_duplicates(subset=['Job ID'])"
   ]
  },
  {
   "cell_type": "code",
   "execution_count": 1828,
   "id": "85c02eac-5c3e-4261-955c-edd77875865d",
   "metadata": {},
   "outputs": [
    {
     "data": {
      "text/plain": [
       "(12010, 6)"
      ]
     },
     "execution_count": 1828,
     "metadata": {},
     "output_type": "execute_result"
    }
   ],
   "source": [
    "df.shape"
   ]
  },
  {
   "cell_type": "markdown",
   "id": "74effc07-abf1-4d03-940b-f65391d76883",
   "metadata": {},
   "source": [
    "### checking null values"
   ]
  },
  {
   "cell_type": "code",
   "execution_count": 9,
   "id": "e30630bb-adc4-4f24-9d5e-b989dfc1c765",
   "metadata": {},
   "outputs": [
    {
     "data": {
      "text/plain": [
       "Job Title    288\n",
       "Job Info     288\n",
       "Job Type     302\n",
       "Job Link       0\n",
       "employees    303\n",
       "Job ID         0\n",
       "dtype: int64"
      ]
     },
     "execution_count": 9,
     "metadata": {},
     "output_type": "execute_result"
    }
   ],
   "source": [
    "df.isnull().sum()"
   ]
  },
  {
   "cell_type": "code",
   "execution_count": 10,
   "id": "172930a7-904c-4efe-ab8d-b8049360381c",
   "metadata": {},
   "outputs": [
    {
     "data": {
      "text/html": [
       "<div>\n",
       "<style scoped>\n",
       "    .dataframe tbody tr th:only-of-type {\n",
       "        vertical-align: middle;\n",
       "    }\n",
       "\n",
       "    .dataframe tbody tr th {\n",
       "        vertical-align: top;\n",
       "    }\n",
       "\n",
       "    .dataframe thead th {\n",
       "        text-align: right;\n",
       "    }\n",
       "</style>\n",
       "<table border=\"1\" class=\"dataframe\">\n",
       "  <thead>\n",
       "    <tr style=\"text-align: right;\">\n",
       "      <th></th>\n",
       "      <th>Job Title</th>\n",
       "      <th>Job Info</th>\n",
       "      <th>Job Type</th>\n",
       "      <th>Job Link</th>\n",
       "      <th>employees</th>\n",
       "      <th>Job ID</th>\n",
       "    </tr>\n",
       "  </thead>\n",
       "  <tbody>\n",
       "    <tr>\n",
       "      <th>110</th>\n",
       "      <td>NaN</td>\n",
       "      <td>NaN</td>\n",
       "      <td>NaN</td>\n",
       "      <td>https://www.linkedin.com/jobs/view/3716079439</td>\n",
       "      <td>NaN</td>\n",
       "      <td>3716079439</td>\n",
       "    </tr>\n",
       "    <tr>\n",
       "      <th>125</th>\n",
       "      <td>NaN</td>\n",
       "      <td>NaN</td>\n",
       "      <td>NaN</td>\n",
       "      <td>https://www.linkedin.com/jobs/view/3728144603</td>\n",
       "      <td>NaN</td>\n",
       "      <td>3728144603</td>\n",
       "    </tr>\n",
       "    <tr>\n",
       "      <th>417</th>\n",
       "      <td>NaN</td>\n",
       "      <td>NaN</td>\n",
       "      <td>NaN</td>\n",
       "      <td>https://www.linkedin.com/jobs/view/3728021212/...</td>\n",
       "      <td>NaN</td>\n",
       "      <td>3728021212</td>\n",
       "    </tr>\n",
       "    <tr>\n",
       "      <th>420</th>\n",
       "      <td>NaN</td>\n",
       "      <td>NaN</td>\n",
       "      <td>NaN</td>\n",
       "      <td>https://www.linkedin.com/jobs/view/3727051751/...</td>\n",
       "      <td>NaN</td>\n",
       "      <td>3727051751</td>\n",
       "    </tr>\n",
       "    <tr>\n",
       "      <th>456</th>\n",
       "      <td>NaN</td>\n",
       "      <td>NaN</td>\n",
       "      <td>NaN</td>\n",
       "      <td>https://www.linkedin.com/jobs/view/3726689376/...</td>\n",
       "      <td>NaN</td>\n",
       "      <td>3726689376</td>\n",
       "    </tr>\n",
       "    <tr>\n",
       "      <th>...</th>\n",
       "      <td>...</td>\n",
       "      <td>...</td>\n",
       "      <td>...</td>\n",
       "      <td>...</td>\n",
       "      <td>...</td>\n",
       "      <td>...</td>\n",
       "    </tr>\n",
       "    <tr>\n",
       "      <th>15787</th>\n",
       "      <td>NaN</td>\n",
       "      <td>NaN</td>\n",
       "      <td>NaN</td>\n",
       "      <td>https://www.linkedin.com/jobs/view/3772859487</td>\n",
       "      <td>NaN</td>\n",
       "      <td>3772859487</td>\n",
       "    </tr>\n",
       "    <tr>\n",
       "      <th>15789</th>\n",
       "      <td>NaN</td>\n",
       "      <td>NaN</td>\n",
       "      <td>NaN</td>\n",
       "      <td>https://www.linkedin.com/jobs/view/3766809507</td>\n",
       "      <td>NaN</td>\n",
       "      <td>3766809507</td>\n",
       "    </tr>\n",
       "    <tr>\n",
       "      <th>15793</th>\n",
       "      <td>NaN</td>\n",
       "      <td>NaN</td>\n",
       "      <td>NaN</td>\n",
       "      <td>https://www.linkedin.com/jobs/view/3766806694</td>\n",
       "      <td>NaN</td>\n",
       "      <td>3766806694</td>\n",
       "    </tr>\n",
       "    <tr>\n",
       "      <th>15797</th>\n",
       "      <td>NaN</td>\n",
       "      <td>NaN</td>\n",
       "      <td>NaN</td>\n",
       "      <td>https://www.linkedin.com/jobs/view/3770354315</td>\n",
       "      <td>NaN</td>\n",
       "      <td>3770354315</td>\n",
       "    </tr>\n",
       "    <tr>\n",
       "      <th>15842</th>\n",
       "      <td>NaN</td>\n",
       "      <td>NaN</td>\n",
       "      <td>NaN</td>\n",
       "      <td>https://www.linkedin.com/jobs/view/3767390372</td>\n",
       "      <td>NaN</td>\n",
       "      <td>3767390372</td>\n",
       "    </tr>\n",
       "  </tbody>\n",
       "</table>\n",
       "<p>303 rows × 6 columns</p>\n",
       "</div>"
      ],
      "text/plain": [
       "      Job Title Job Info Job Type  \\\n",
       "110         NaN      NaN      NaN   \n",
       "125         NaN      NaN      NaN   \n",
       "417         NaN      NaN      NaN   \n",
       "420         NaN      NaN      NaN   \n",
       "456         NaN      NaN      NaN   \n",
       "...         ...      ...      ...   \n",
       "15787       NaN      NaN      NaN   \n",
       "15789       NaN      NaN      NaN   \n",
       "15793       NaN      NaN      NaN   \n",
       "15797       NaN      NaN      NaN   \n",
       "15842       NaN      NaN      NaN   \n",
       "\n",
       "                                                Job Link employees      Job ID  \n",
       "110        https://www.linkedin.com/jobs/view/3716079439       NaN  3716079439  \n",
       "125        https://www.linkedin.com/jobs/view/3728144603       NaN  3728144603  \n",
       "417    https://www.linkedin.com/jobs/view/3728021212/...       NaN  3728021212  \n",
       "420    https://www.linkedin.com/jobs/view/3727051751/...       NaN  3727051751  \n",
       "456    https://www.linkedin.com/jobs/view/3726689376/...       NaN  3726689376  \n",
       "...                                                  ...       ...         ...  \n",
       "15787      https://www.linkedin.com/jobs/view/3772859487       NaN  3772859487  \n",
       "15789      https://www.linkedin.com/jobs/view/3766809507       NaN  3766809507  \n",
       "15793      https://www.linkedin.com/jobs/view/3766806694       NaN  3766806694  \n",
       "15797      https://www.linkedin.com/jobs/view/3770354315       NaN  3770354315  \n",
       "15842      https://www.linkedin.com/jobs/view/3767390372       NaN  3767390372  \n",
       "\n",
       "[303 rows x 6 columns]"
      ]
     },
     "execution_count": 10,
     "metadata": {},
     "output_type": "execute_result"
    }
   ],
   "source": [
    "null_rows = df[df.isnull().any(axis=1)]\n",
    "null_rows"
   ]
  },
  {
   "cell_type": "code",
   "execution_count": 11,
   "id": "945f57a7-cd44-40e5-a17a-f261db28a10b",
   "metadata": {},
   "outputs": [
    {
     "data": {
      "text/plain": [
       "303"
      ]
     },
     "execution_count": 11,
     "metadata": {},
     "output_type": "execute_result"
    }
   ],
   "source": [
    "len(null_rows)"
   ]
  },
  {
   "cell_type": "markdown",
   "id": "9e16b38b-9637-4367-b517-81277fef758b",
   "metadata": {},
   "source": [
    "### dealing Null values"
   ]
  },
  {
   "cell_type": "code",
   "execution_count": 12,
   "id": "5f19616d-7644-4cfc-95b6-ddf8e79e1904",
   "metadata": {},
   "outputs": [
    {
     "data": {
      "text/html": [
       "<div>\n",
       "<style scoped>\n",
       "    .dataframe tbody tr th:only-of-type {\n",
       "        vertical-align: middle;\n",
       "    }\n",
       "\n",
       "    .dataframe tbody tr th {\n",
       "        vertical-align: top;\n",
       "    }\n",
       "\n",
       "    .dataframe thead th {\n",
       "        text-align: right;\n",
       "    }\n",
       "</style>\n",
       "<table border=\"1\" class=\"dataframe\">\n",
       "  <thead>\n",
       "    <tr style=\"text-align: right;\">\n",
       "      <th></th>\n",
       "      <th>Job Title</th>\n",
       "      <th>Job Info</th>\n",
       "      <th>Job Type</th>\n",
       "      <th>Job Link</th>\n",
       "      <th>employees</th>\n",
       "      <th>Job ID</th>\n",
       "    </tr>\n",
       "  </thead>\n",
       "  <tbody>\n",
       "    <tr>\n",
       "      <th>0</th>\n",
       "      <td>LinkedIn Data Extractor</td>\n",
       "      <td>EcomFleet · Pakistan (Remote)  \\n1 week ago</td>\n",
       "      <td>Full-time</td>\n",
       "      <td>https://www.linkedin.com/jobs/view/3727054368</td>\n",
       "      <td>11-50 employees</td>\n",
       "      <td>3727054368</td>\n",
       "    </tr>\n",
       "    <tr>\n",
       "      <th>1</th>\n",
       "      <td>It Management Intern</td>\n",
       "      <td>Digicon Valley · Lahore, Punjab, Pakistan (On-...</td>\n",
       "      <td>Full-time</td>\n",
       "      <td>https://www.linkedin.com/jobs/view/3723395858</td>\n",
       "      <td>11-50 employees</td>\n",
       "      <td>3723395858</td>\n",
       "    </tr>\n",
       "    <tr>\n",
       "      <th>2</th>\n",
       "      <td>SQL Database Developer</td>\n",
       "      <td>Murkez Technologies · Lahore, Punjab, Pakistan...</td>\n",
       "      <td>Full-time</td>\n",
       "      <td>https://www.linkedin.com/jobs/view/3727034665</td>\n",
       "      <td>51-200 employees</td>\n",
       "      <td>3727034665</td>\n",
       "    </tr>\n",
       "    <tr>\n",
       "      <th>3</th>\n",
       "      <td>Business Intelligence Developer</td>\n",
       "      <td>DevNatives · Islamabad, Islāmābād, Pakistan (H...</td>\n",
       "      <td>Full-time</td>\n",
       "      <td>https://www.linkedin.com/jobs/view/3727029273</td>\n",
       "      <td>11-50 employees</td>\n",
       "      <td>3727029273</td>\n",
       "    </tr>\n",
       "    <tr>\n",
       "      <th>4</th>\n",
       "      <td>Web Developer - Internship</td>\n",
       "      <td>ItCreaters · Lahore, Punjab, Pakistan (On-site...</td>\n",
       "      <td>Full-time</td>\n",
       "      <td>https://www.linkedin.com/jobs/view/3727034696</td>\n",
       "      <td>Mobeen Naqvi is hiring for this job</td>\n",
       "      <td>3727034696</td>\n",
       "    </tr>\n",
       "    <tr>\n",
       "      <th>...</th>\n",
       "      <td>...</td>\n",
       "      <td>...</td>\n",
       "      <td>...</td>\n",
       "      <td>...</td>\n",
       "      <td>...</td>\n",
       "      <td>...</td>\n",
       "    </tr>\n",
       "    <tr>\n",
       "      <th>15870</th>\n",
       "      <td>Manager – Growth Chat &amp; SMS (Digital Marketing)</td>\n",
       "      <td>Bank Alfalah Limited · Karāchi, Sindh, Pakista...</td>\n",
       "      <td>On-site\\n\\n \\nFull-time\\n\\n \\nMid-Senior level</td>\n",
       "      <td>https://www.linkedin.com/jobs/view/3767355025</td>\n",
       "      <td>5,001-10,000 employees · Banking</td>\n",
       "      <td>3767355025</td>\n",
       "    </tr>\n",
       "    <tr>\n",
       "      <th>15871</th>\n",
       "      <td>Release Support Engineer</td>\n",
       "      <td>Turing · Pakistan Reposted  \\n1 week ago</td>\n",
       "      <td>Remote\\n\\n \\nFull-time\\n\\n \\nEntry level</td>\n",
       "      <td>https://www.linkedin.com/jobs/view/3766809535</td>\n",
       "      <td>1,001-5,000 employees · IT Services and IT Con...</td>\n",
       "      <td>3766809535</td>\n",
       "    </tr>\n",
       "    <tr>\n",
       "      <th>15872</th>\n",
       "      <td>Information Security Specialist</td>\n",
       "      <td>DPL · Islamabad, Islāmābād, Pakistan  \\n1 week...</td>\n",
       "      <td>On-site\\n\\n \\nFull-time\\n\\n \\nEntry level</td>\n",
       "      <td>https://www.linkedin.com/jobs/view/3772530977</td>\n",
       "      <td>51-200 employees · IT Services and IT Consulting</td>\n",
       "      <td>3772530977</td>\n",
       "    </tr>\n",
       "    <tr>\n",
       "      <th>15873</th>\n",
       "      <td>FUNCTIONAL CONSULTANT ORACLE FUSION - HCM</td>\n",
       "      <td>Level 3 BOS · Karachi Division, Sindh, Pakista...</td>\n",
       "      <td>On-site\\n\\n \\nFull-time\\n\\n \\nMid-Senior level</td>\n",
       "      <td>https://www.linkedin.com/jobs/view/3771943212</td>\n",
       "      <td>201-500 employees · Outsourcing and Offshoring...</td>\n",
       "      <td>3771943212</td>\n",
       "    </tr>\n",
       "    <tr>\n",
       "      <th>15874</th>\n",
       "      <td>Community Associate</td>\n",
       "      <td>The Hive · Karachi Division, Sindh, Pakistan  ...</td>\n",
       "      <td>On-site\\n\\n \\nFull-time</td>\n",
       "      <td>https://www.linkedin.com/jobs/view/3767944844</td>\n",
       "      <td>11-50 employees</td>\n",
       "      <td>3767944844</td>\n",
       "    </tr>\n",
       "  </tbody>\n",
       "</table>\n",
       "<p>15572 rows × 6 columns</p>\n",
       "</div>"
      ],
      "text/plain": [
       "                                             Job Title  \\\n",
       "0                              LinkedIn Data Extractor   \n",
       "1                                 It Management Intern   \n",
       "2                               SQL Database Developer   \n",
       "3                      Business Intelligence Developer   \n",
       "4                           Web Developer - Internship   \n",
       "...                                                ...   \n",
       "15870  Manager – Growth Chat & SMS (Digital Marketing)   \n",
       "15871                         Release Support Engineer   \n",
       "15872                  Information Security Specialist   \n",
       "15873        FUNCTIONAL CONSULTANT ORACLE FUSION - HCM   \n",
       "15874                              Community Associate   \n",
       "\n",
       "                                                Job Info  \\\n",
       "0            EcomFleet · Pakistan (Remote)  \\n1 week ago   \n",
       "1      Digicon Valley · Lahore, Punjab, Pakistan (On-...   \n",
       "2      Murkez Technologies · Lahore, Punjab, Pakistan...   \n",
       "3      DevNatives · Islamabad, Islāmābād, Pakistan (H...   \n",
       "4      ItCreaters · Lahore, Punjab, Pakistan (On-site...   \n",
       "...                                                  ...   \n",
       "15870  Bank Alfalah Limited · Karāchi, Sindh, Pakista...   \n",
       "15871           Turing · Pakistan Reposted  \\n1 week ago   \n",
       "15872  DPL · Islamabad, Islāmābād, Pakistan  \\n1 week...   \n",
       "15873  Level 3 BOS · Karachi Division, Sindh, Pakista...   \n",
       "15874  The Hive · Karachi Division, Sindh, Pakistan  ...   \n",
       "\n",
       "                                             Job Type  \\\n",
       "0                                           Full-time   \n",
       "1                                           Full-time   \n",
       "2                                           Full-time   \n",
       "3                                           Full-time   \n",
       "4                                           Full-time   \n",
       "...                                               ...   \n",
       "15870  On-site\\n\\n \\nFull-time\\n\\n \\nMid-Senior level   \n",
       "15871        Remote\\n\\n \\nFull-time\\n\\n \\nEntry level   \n",
       "15872       On-site\\n\\n \\nFull-time\\n\\n \\nEntry level   \n",
       "15873  On-site\\n\\n \\nFull-time\\n\\n \\nMid-Senior level   \n",
       "15874                         On-site\\n\\n \\nFull-time   \n",
       "\n",
       "                                            Job Link  \\\n",
       "0      https://www.linkedin.com/jobs/view/3727054368   \n",
       "1      https://www.linkedin.com/jobs/view/3723395858   \n",
       "2      https://www.linkedin.com/jobs/view/3727034665   \n",
       "3      https://www.linkedin.com/jobs/view/3727029273   \n",
       "4      https://www.linkedin.com/jobs/view/3727034696   \n",
       "...                                              ...   \n",
       "15870  https://www.linkedin.com/jobs/view/3767355025   \n",
       "15871  https://www.linkedin.com/jobs/view/3766809535   \n",
       "15872  https://www.linkedin.com/jobs/view/3772530977   \n",
       "15873  https://www.linkedin.com/jobs/view/3771943212   \n",
       "15874  https://www.linkedin.com/jobs/view/3767944844   \n",
       "\n",
       "                                               employees      Job ID  \n",
       "0                                        11-50 employees  3727054368  \n",
       "1                                        11-50 employees  3723395858  \n",
       "2                                       51-200 employees  3727034665  \n",
       "3                                        11-50 employees  3727029273  \n",
       "4                    Mobeen Naqvi is hiring for this job  3727034696  \n",
       "...                                                  ...         ...  \n",
       "15870                   5,001-10,000 employees · Banking  3767355025  \n",
       "15871  1,001-5,000 employees · IT Services and IT Con...  3766809535  \n",
       "15872   51-200 employees · IT Services and IT Consulting  3772530977  \n",
       "15873  201-500 employees · Outsourcing and Offshoring...  3771943212  \n",
       "15874                                    11-50 employees  3767944844  \n",
       "\n",
       "[15572 rows x 6 columns]"
      ]
     },
     "execution_count": 12,
     "metadata": {},
     "output_type": "execute_result"
    }
   ],
   "source": [
    "df= df.dropna()\n",
    "df"
   ]
  },
  {
   "cell_type": "markdown",
   "id": "c82093f0-c6f1-49b8-87c3-6815119db7d8",
   "metadata": {},
   "source": [
    "### drop duplicates"
   ]
  },
  {
   "cell_type": "code",
   "execution_count": 13,
   "id": "66e43492-7d3a-4006-88a2-ecc52c7da312",
   "metadata": {},
   "outputs": [],
   "source": [
    "# df = df.drop_duplicates(subset=['Job ID'])"
   ]
  },
  {
   "cell_type": "code",
   "execution_count": 14,
   "id": "e8c6c024-88c6-4d9b-81c5-61934d11733b",
   "metadata": {},
   "outputs": [
    {
     "data": {
      "text/plain": [
       "(11744, 6)"
      ]
     },
     "execution_count": 14,
     "metadata": {},
     "output_type": "execute_result"
    }
   ],
   "source": [
    "# df.shape"
   ]
  },
  {
   "cell_type": "markdown",
   "id": "369e4b2b-53ec-40ba-8509-3febfad6adab",
   "metadata": {},
   "source": [
    "## to be noted that\n",
    "***drop null and then drop duplicates:11744 rows***\n",
    "\n",
    "***drop duplicates and then drop null :11737 rows***"
   ]
  },
  {
   "cell_type": "markdown",
   "id": "979c2c82-9715-434d-9675-d85dea728773",
   "metadata": {},
   "source": [
    "### exploring values in features"
   ]
  },
  {
   "cell_type": "code",
   "execution_count": 1834,
   "id": "bb661eca-89c7-4f5f-8a8d-8569de19d3c3",
   "metadata": {},
   "outputs": [
    {
     "data": {
      "text/plain": [
       "array(['LinkedIn Data Extractor', 'It Management Intern',\n",
       "       'SQL Database Developer', ...,\n",
       "       'Manager – Growth Chat & SMS (Digital Marketing)',\n",
       "       'Information Security Specialist',\n",
       "       'FUNCTIONAL CONSULTANT ORACLE FUSION - HCM'], dtype=object)"
      ]
     },
     "execution_count": 1834,
     "metadata": {},
     "output_type": "execute_result"
    }
   ],
   "source": [
    "df['Job Title'].unique()\t"
   ]
  },
  {
   "cell_type": "code",
   "execution_count": 1835,
   "id": "547c53ea-8c93-40b1-bdc7-02565ac0c928",
   "metadata": {},
   "outputs": [
    {
     "data": {
      "text/plain": [
       "6442"
      ]
     },
     "execution_count": 1835,
     "metadata": {},
     "output_type": "execute_result"
    }
   ],
   "source": [
    "len(df['Job Title'].unique())"
   ]
  },
  {
   "cell_type": "code",
   "execution_count": 1836,
   "id": "c4b03fcb-6626-483c-9f5b-82814b41c880",
   "metadata": {},
   "outputs": [
    {
     "data": {
      "text/plain": [
       "Job Title\n",
       "Sales Executive                          142\n",
       "Business Development Executive           135\n",
       "Sales Specialist                          76\n",
       "Business Development Manager              71\n",
       "Business Development Specialist           63\n",
       "Graphic Designer                          58\n",
       "Web Back-End Developer                    57\n",
       "Software Engineer                         56\n",
       "Customer Service Representative           55\n",
       "Salesperson                               50\n",
       "Full Stack Engineer                       47\n",
       "Senior Software Engineer                  45\n",
       "Sales And Marketing Specialist            40\n",
       "Wordpress Developer                       38\n",
       "Call Center Representative                37\n",
       "PHP Developer                             36\n",
       "Customer Sales Representative             35\n",
       "Sales Development Representative          35\n",
       "Search Engine Optimization Specialist     33\n",
       "Dotnet Developer                          33\n",
       "Digital Marketing Specialist              32\n",
       "Business Development Officer              32\n",
       "Educational Counselor                     32\n",
       "Video Editor                              31\n",
       "International Sales Executive             30\n",
       "Upwork Bidder                             28\n",
       "Sales Manager                             28\n",
       "Back End Developer                        27\n",
       "Shopify Developer                         27\n",
       "Social Media Manager                      27\n",
       "Name: count, dtype: int64"
      ]
     },
     "execution_count": 1836,
     "metadata": {},
     "output_type": "execute_result"
    }
   ],
   "source": [
    "df['Job Title'].value_counts()[:30]"
   ]
  },
  {
   "cell_type": "code",
   "execution_count": 1837,
   "id": "aedf3e3e-42d4-4d1c-a8c8-0204153e95d0",
   "metadata": {},
   "outputs": [
    {
     "data": {
      "text/plain": [
       "array(['EcomFleet · Pakistan (Remote)  \\n1 week ago',\n",
       "       'Digicon Valley · Lahore, Punjab, Pakistan (On-site)  \\n2 weeks ago',\n",
       "       'Murkez Technologies · Lahore, Punjab, Pakistan (On-site)  \\n1 week ago',\n",
       "       ...,\n",
       "       'DPL · Islamabad, Islāmābād, Pakistan  \\n1 week ago\\n\\n · 83 applicants',\n",
       "       'Level 3 BOS · Karachi Division, Sindh, Pakistan  \\n1 week ago\\n\\n · 19 applicants',\n",
       "       'The Hive · Karachi Division, Sindh, Pakistan  \\n1 week ago'],\n",
       "      dtype=object)"
      ]
     },
     "execution_count": 1837,
     "metadata": {},
     "output_type": "execute_result"
    }
   ],
   "source": [
    "df['Job Info'].unique()"
   ]
  },
  {
   "cell_type": "code",
   "execution_count": 1838,
   "id": "fe8930a3-aea0-4364-b951-ebfcf006c004",
   "metadata": {},
   "outputs": [
    {
     "data": {
      "text/plain": [
       "10209"
      ]
     },
     "execution_count": 1838,
     "metadata": {},
     "output_type": "execute_result"
    }
   ],
   "source": [
    "len(df['Job Info'].unique())"
   ]
  },
  {
   "cell_type": "code",
   "execution_count": 1839,
   "id": "41ccb0b9-8489-4aa3-b205-9ebc9809c84f",
   "metadata": {},
   "outputs": [
    {
     "data": {
      "text/plain": [
       "array(['Full-time', 'Full-time · Mid-Senior level',\n",
       "       'Internship · Internship', 'Full-time · Associate', 'Internship',\n",
       "       'Full-time · Entry level', 'Part-time', 'Full-time · Internship',\n",
       "       'Contract · Mid-Senior level', 'Contract', 'Contract · Associate',\n",
       "       '$150/month - $300/month · Full-time', 'Full-time · Director',\n",
       "       'Part-time · Associate', 'Mr Ahsan is hiring for this job',\n",
       "       'Part-time · Executive', 'Contract · Executive',\n",
       "       'Part-time · Mid-Senior level', 'Contract · Entry level',\n",
       "       'Temporary · Mid-Senior level', 'Executive',\n",
       "       'Full-time · Executive', 'Sean Sato is hiring for this job',\n",
       "       'Part-time · Internship', 'Internship · Mid-Senior level',\n",
       "       '$12,000/yr - $15,000/yr · Full-time · Mid-Senior level',\n",
       "       '$200,000/yr · Full-time', 'Part-time · Entry level',\n",
       "       'dr.ry. L. is hiring for this job',\n",
       "       '10,001+ employees · Tobacco Manufacturing', 'Volunteer',\n",
       "       'On-site\\n\\n \\nFull-time\\n\\n \\nMid-Senior level',\n",
       "       'Hybrid\\n\\n \\nFull-time\\n\\n \\nMid-Senior level',\n",
       "       'Remote\\n\\n \\nFull-time\\n\\n \\nMid-Senior level',\n",
       "       'On-site\\n\\n \\nFull-time\\n\\n \\nAssociate',\n",
       "       'On-site\\n\\n \\nFull-time',\n",
       "       'Hybrid\\n\\n \\nFull-time\\n\\n \\nEntry level',\n",
       "       'Hybrid\\n\\n \\nFull-time\\n\\n \\nDirector', 'Remote\\n\\n \\nFull-time',\n",
       "       'On-site\\n\\n \\nFull-time\\n\\n \\nEntry level',\n",
       "       'Hybrid\\n\\n \\nFull-time\\n\\n \\nAssociate',\n",
       "       'Full-time\\n\\n \\nMid-Senior level', 'On-site\\n\\n \\nPart-time',\n",
       "       'Hybrid\\n\\n \\nFull-time',\n",
       "       'Remote\\n\\n \\nContract\\n\\n \\nMid-Senior level',\n",
       "       'On-site\\n\\n \\nFull-time\\n\\n \\nDirector',\n",
       "       'On-site\\n\\n \\nFull-time\\n\\n \\nExecutive',\n",
       "       'Remote\\n\\n \\nFull-time\\n\\n \\nEntry level',\n",
       "       'Remote\\n\\n \\nInternship', 'On-site\\n\\n \\nInternship',\n",
       "       'On-site\\n\\n \\nContract\\n\\n \\nMid-Senior level',\n",
       "       'Remote\\n\\n \\nContract', 'Remote\\n\\n \\nFull-time\\n\\n \\nAssociate',\n",
       "       'On-site\\n\\n \\nContract\\n\\n \\nEntry level',\n",
       "       'On-site\\n\\n \\nFull-time\\n\\n \\nInternship',\n",
       "       'Remote\\n\\n \\nPart-time\\n\\n \\nAssociate', 'Remote\\n\\n \\nPart-time',\n",
       "       'Remote\\n\\n \\nContract\\n\\n \\nEntry level',\n",
       "       'On-site\\n\\n \\nContract\\n\\n \\nAssociate',\n",
       "       'Full-time\\n\\n \\nEntry level', 'Hybrid\\n\\n \\nContract',\n",
       "       'Remote\\n\\n \\nFull-time\\n\\n \\nDirector', 'Hybrid\\n\\n \\nPart-time',\n",
       "       'On-site\\n\\n \\nContract',\n",
       "       'PKR600,000/yr - PKR660,000/yr\\n\\n \\nOn-site\\n\\n \\nFull-time\\n\\n \\nEntry level',\n",
       "       'Remote', 'Contract\\n\\n \\nMid-Senior level',\n",
       "       'On-site\\n\\n \\nContract\\n\\n \\nInternship',\n",
       "       'Full-time\\n\\n \\nExecutive',\n",
       "       'Remote\\n\\n \\nInternship\\n\\n \\nMid-Senior level',\n",
       "       'Hybrid\\n\\n \\nContract\\n\\n \\nMid-Senior level',\n",
       "       'Remote\\n\\n \\nPart-time\\n\\n \\nEntry level',\n",
       "       'Hybrid\\n\\n \\nTemporary', 'Remote\\n\\n \\nPart-time\\n\\n \\nExecutive',\n",
       "       'On-site\\n\\n \\nInternship\\n\\n \\nEntry level',\n",
       "       'On-site\\n\\n \\nVolunteer',\n",
       "       'Remote\\n\\n \\nFull-time\\n\\n \\nExecutive',\n",
       "       'On-site\\n\\n \\nInternship\\n\\n \\nInternship',\n",
       "       'Remote\\n\\n \\nVolunteer',\n",
       "       'On-site\\n\\n \\nPart-time\\n\\n \\nEntry level', 'On-site',\n",
       "       'Hybrid\\n\\n \\nInternship',\n",
       "       'Hybrid\\n\\n \\nContract\\n\\n \\nEntry level',\n",
       "       'Full-time\\n\\n \\nInternship',\n",
       "       '$180/month - $250/month\\n\\n \\nRemote\\n\\n \\nFull-time', 'Hybrid',\n",
       "       'Remote\\n\\n \\nContract\\n\\n \\nAssociate',\n",
       "       'Remote\\n\\n \\nTemporary\\n\\n \\nEntry level',\n",
       "       'On-site\\n\\n \\nTemporary', 'Remote\\n\\n \\nTemporary',\n",
       "       'Full-time\\n\\n \\nAssociate',\n",
       "       'PKR1,200,000/yr - PKR1,800,000/yr\\n\\n \\nOn-site\\n\\n \\nFull-time\\n\\n \\nEntry level',\n",
       "       '5,001-10,000 employees · IT Services and IT Consulting',\n",
       "       'PKR1,200,000/yr - PKR2,400,000/yr\\n\\n \\nOn-site\\n\\n \\nFull-time\\n\\n \\nEntry level',\n",
       "       'On-site\\n\\n \\nContract\\n\\n \\nExecutive',\n",
       "       'PKR1,800,000/yr - PKR3,600,000/yr\\n\\n \\nOn-site\\n\\n \\nFull-time\\n\\n \\nMid-Senior level',\n",
       "       'MYR57,000/yr - MYR108,000/yr\\n\\n \\nRemote\\n\\n \\nFull-time\\n\\n \\nEntry level',\n",
       "       '$1,500/month - $1,800/month\\n\\n \\nRemote\\n\\n \\nFull-time',\n",
       "       '11-50 employees',\n",
       "       '10,001+ employees · Food and Beverage Manufacturing',\n",
       "       'PHP360,000/yr - PHP720,000/yr\\n\\n \\nRemote\\n\\n \\nPart-time\\n\\n \\nMid-Senior level',\n",
       "       'Hybrid\\n\\n \\nVolunteer', 'Remote\\n\\n \\nMid-Senior level',\n",
       "       '$500/month - $1,000/month\\n\\n \\nHybrid\\n\\n \\nContract',\n",
       "       'Remote\\n\\n \\nPart-time\\n\\n \\nMid-Senior level',\n",
       "       'PKR960,000/yr - PKR1,200,000/yr\\n\\n \\nOn-site\\n\\n \\nFull-time\\n\\n \\nEntry level',\n",
       "       '$20,000/yr - $25,000/yr\\n\\n \\nRemote\\n\\n \\nContract\\n\\n \\nEntry level',\n",
       "       '$30,000/month - $60,000/month\\n\\n \\nHybrid\\n\\n \\nFull-time',\n",
       "       'Remote\\n\\n \\nPart-time\\n\\n \\nDirector',\n",
       "       'PKR960,000/yr - PKR1,200,000/yr\\n\\n \\nOn-site\\n\\n \\nFull-time\\n\\n \\nMid-Senior level',\n",
       "       'Hybrid\\n\\n \\nContract\\n\\n \\nInternship',\n",
       "       'On-site\\n\\n \\nPart-time\\n\\n \\nMid-Senior level',\n",
       "       'On-site\\n\\n \\nTemporary\\n\\n \\nEntry level',\n",
       "       'Full-time\\n\\n \\nDirector',\n",
       "       'Hybrid\\n\\n \\nInternship\\n\\n \\nInternship',\n",
       "       'Remote\\n\\n \\nInternship\\n\\n \\nInternship',\n",
       "       'On-site\\n\\n \\nExecutive',\n",
       "       '$1,000/month - $2,500/month\\n\\n \\nOn-site\\n\\n \\nFull-time',\n",
       "       '$36,000/yr - $60,000/yr\\n\\n \\nRemote\\n\\n \\nFull-time\\n\\n \\nEntry level',\n",
       "       '$50,000/month - $70,000/month + Commission\\n\\n \\nOn-site\\n\\n \\nFull-time',\n",
       "       'On-site\\n\\n \\nInternship\\n\\n \\nDirector',\n",
       "       'Hybrid\\n\\n \\nFull-time\\n\\n \\nExecutive',\n",
       "       '₹180,000/yr - ₹360,000/yr\\n\\n \\nRemote\\n\\n \\nFull-time\\n\\n \\nEntry level',\n",
       "       'On-site\\n\\n \\nTemporary\\n\\n \\nInternship',\n",
       "       '$12,000/yr - $18,000/yr\\n\\n \\nRemote\\n\\n \\nFull-time\\n\\n \\nMid-Senior level',\n",
       "       'Contract\\n\\n \\nEntry level',\n",
       "       'Hybrid\\n\\n \\nFull-time\\n\\n \\nInternship',\n",
       "       'On-site\\n\\n \\nTemporary\\n\\n \\nMid-Senior level',\n",
       "       'Hybrid\\n\\n \\nInternship\\n\\n \\nMid-Senior level'], dtype=object)"
      ]
     },
     "execution_count": 1839,
     "metadata": {},
     "output_type": "execute_result"
    }
   ],
   "source": [
    "df['Job Type'].unique()"
   ]
  },
  {
   "cell_type": "code",
   "execution_count": 1840,
   "id": "4354848b-d29f-438f-9fe9-2a8206c7b70c",
   "metadata": {},
   "outputs": [
    {
     "data": {
      "text/plain": [
       "129"
      ]
     },
     "execution_count": 1840,
     "metadata": {},
     "output_type": "execute_result"
    }
   ],
   "source": [
    "len(df['Job Type'].unique())"
   ]
  },
  {
   "cell_type": "code",
   "execution_count": 1841,
   "id": "e515a1fd-449e-4b09-ae1a-e5d12e5af743",
   "metadata": {},
   "outputs": [
    {
     "data": {
      "text/plain": [
       "0                                          11-50 employees\n",
       "1                                          11-50 employees\n",
       "2                                         51-200 employees\n",
       "3                                          11-50 employees\n",
       "4                      Mobeen Naqvi is hiring for this job\n",
       "                               ...                        \n",
       "15869                                       1-10 employees\n",
       "15870                     5,001-10,000 employees · Banking\n",
       "15872     51-200 employees · IT Services and IT Consulting\n",
       "15873    201-500 employees · Outsourcing and Offshoring...\n",
       "15874                                      11-50 employees\n",
       "Name: employees, Length: 11737, dtype: object"
      ]
     },
     "execution_count": 1841,
     "metadata": {},
     "output_type": "execute_result"
    }
   ],
   "source": [
    "df['employees']"
   ]
  },
  {
   "cell_type": "code",
   "execution_count": 1842,
   "id": "c88ba348-0da9-402f-adec-9673477ded1e",
   "metadata": {},
   "outputs": [
    {
     "data": {
      "text/plain": [
       "array(['11-50 employees', '51-200 employees',\n",
       "       'Mobeen Naqvi is hiring for this job',\n",
       "       '1,001-5,000 employees · Software Development',\n",
       "       '501-1,000 employees · IT Services and IT Consulting',\n",
       "       '501-1,000 employees · Telecommunications',\n",
       "       '1,001-5,000 employees · Banking', '201-500 employees',\n",
       "       '10,001+ employees', '51-200 employees · Human Resources Services'],\n",
       "      dtype=object)"
      ]
     },
     "execution_count": 1842,
     "metadata": {},
     "output_type": "execute_result"
    }
   ],
   "source": [
    "df['employees'].unique()[:10]"
   ]
  },
  {
   "cell_type": "code",
   "execution_count": 1843,
   "id": "3df68a94-0eed-40ba-ab4c-4734ce7222ad",
   "metadata": {},
   "outputs": [
    {
     "data": {
      "text/plain": [
       "975"
      ]
     },
     "execution_count": 1843,
     "metadata": {},
     "output_type": "execute_result"
    }
   ],
   "source": [
    "len(df['employees'].unique())"
   ]
  },
  {
   "cell_type": "markdown",
   "id": "f5e49f3c-8b43-4c01-9065-f9ec88a02dcb",
   "metadata": {},
   "source": [
    "### extracting company feature"
   ]
  },
  {
   "cell_type": "code",
   "execution_count": 1844,
   "id": "89dfbf3f-980b-4ce8-8b16-f516226ec577",
   "metadata": {},
   "outputs": [],
   "source": [
    "df.loc[:,'company']=df['Job Info'].apply(lambda x:x.split('·')[0])"
   ]
  },
  {
   "cell_type": "code",
   "execution_count": 1845,
   "id": "10ae8ac0-a479-43dd-9471-9a571c357929",
   "metadata": {},
   "outputs": [
    {
     "data": {
      "text/plain": [
       "array(['EcomFleet ', 'Digicon Valley ', 'Murkez Technologies ', ...,\n",
       "       'EComia Global ', 'BUZZMAX.CA ', 'Codiea.io '], dtype=object)"
      ]
     },
     "execution_count": 1845,
     "metadata": {},
     "output_type": "execute_result"
    }
   ],
   "source": [
    "df['company'].unique()"
   ]
  },
  {
   "cell_type": "code",
   "execution_count": 1846,
   "id": "8f5a511e-f87a-43fc-b4ef-54a39e2e1420",
   "metadata": {},
   "outputs": [
    {
     "data": {
      "text/plain": [
       "4435"
      ]
     },
     "execution_count": 1846,
     "metadata": {},
     "output_type": "execute_result"
    }
   ],
   "source": [
    "len(df['company'].unique())"
   ]
  },
  {
   "cell_type": "code",
   "execution_count": 1847,
   "id": "3fabbfff-80fe-4cc0-937a-e8bead185857",
   "metadata": {},
   "outputs": [
    {
     "data": {
      "text/plain": [
       "company\n",
       "Crossover                                   848\n",
       "Zameen.com                                  252\n",
       "Turing                                      223\n",
       "People (Professional Employers Pvt Ltd)     143\n",
       "Zones IT Solutions                          116\n",
       "                                           ... \n",
       "Smart IT Solutions                            1\n",
       "Al Falah Chemicals                            1\n",
       "Office Automation Group                       1\n",
       "Jana.Pk - Travel & Tour Services              1\n",
       "Codiea.io                                     1\n",
       "Name: count, Length: 4435, dtype: int64"
      ]
     },
     "execution_count": 1847,
     "metadata": {},
     "output_type": "execute_result"
    }
   ],
   "source": [
    "df['company'].value_counts()"
   ]
  },
  {
   "cell_type": "code",
   "execution_count": 1848,
   "id": "70ebe4bb-6551-4a1b-97da-83ed25279887",
   "metadata": {},
   "outputs": [
    {
     "data": {
      "text/plain": [
       "company\n",
       "Crossover                                         848\n",
       "Zameen.com                                        252\n",
       "Turing                                            223\n",
       "People (Professional Employers Pvt Ltd)           143\n",
       "Zones IT Solutions                                116\n",
       "Afiniti                                           104\n",
       "Jazz                                              101\n",
       "Times Consultant (Pvt.) Ltd.                       88\n",
       "Daraz                                              79\n",
       "Telenor                                            70\n",
       "HR Ways - Hiring Tech Talent                       67\n",
       "The Indus Hospital                                 66\n",
       "CureMD                                             66\n",
       "Motive                                             65\n",
       "PTCL.Official                                      59\n",
       "Kamayi                                             57\n",
       "BAT                                                56\n",
       "K-Electric                                         49\n",
       "Dubizzle Labs                                      47\n",
       "EY                                                 46\n",
       "GSK                                                44\n",
       "S&P Global                                         43\n",
       "TCP Software                                       42\n",
       "Careem                                             42\n",
       "Contour Software                                   40\n",
       "Talent Pal                                         39\n",
       "Sui Southern Gas Company Limited                   38\n",
       "Teradata                                           37\n",
       "Mashreq                                            37\n",
       "Human Resource Solutions International - HRSI      35\n",
       "Name: count, dtype: int64"
      ]
     },
     "execution_count": 1848,
     "metadata": {},
     "output_type": "execute_result"
    }
   ],
   "source": [
    "df['company'].value_counts()[:30]"
   ]
  },
  {
   "cell_type": "markdown",
   "id": "19908cd7-521f-46cb-8d8f-ac0231ed9d8f",
   "metadata": {},
   "source": [
    "### extracting location"
   ]
  },
  {
   "cell_type": "code",
   "execution_count": 1849,
   "id": "b5177d93-3401-4ae1-a571-dc6fc752896a",
   "metadata": {},
   "outputs": [],
   "source": [
    "df.loc[:,'location']=df['Job Info'].apply(lambda x:x.split('·')[1].split()[0].strip(','))"
   ]
  },
  {
   "cell_type": "code",
   "execution_count": 1850,
   "id": "4f31fe70-a6fc-487e-a4b4-5f26745e27f1",
   "metadata": {},
   "outputs": [
    {
     "data": {
      "text/plain": [
       "0          Pakistan\n",
       "1            Lahore\n",
       "2            Lahore\n",
       "3         Islamabad\n",
       "4            Lahore\n",
       "            ...    \n",
       "15869    Bahawalpur\n",
       "15870       Karāchi\n",
       "15872     Islamabad\n",
       "15873       Karachi\n",
       "15874       Karachi\n",
       "Name: location, Length: 11737, dtype: object"
      ]
     },
     "execution_count": 1850,
     "metadata": {},
     "output_type": "execute_result"
    }
   ],
   "source": [
    "df['location']"
   ]
  },
  {
   "cell_type": "code",
   "execution_count": 1851,
   "id": "01220687-a39a-4b54-bb4c-371838c33919",
   "metadata": {},
   "outputs": [
    {
     "data": {
      "text/plain": [
       "array(['Pakistan', 'Lahore', 'Islamabad', 'Karāchi', 'Peshawar',\n",
       "       'Islāmābād', 'Rawalpindi', 'Multan', 'Karachi', 'Hyderabad',\n",
       "       'Mirpur', 'Kharian', 'Sindh', 'Faisalabad', 'Jhelum', 'Gujrāt',\n",
       "       'Korangi', 'Bahawalpur', 'Gulshan', 'Gujranwala', 'Sukkur',\n",
       "       'Punjab', 'Shekhūpura', 'Sargodha', 'Wazirabad', 'Mānsehra',\n",
       "       'Sialkot', 'Chakwāl', 'Muzaffargarh', 'Nawabshah', 'Mardān',\n",
       "       'Gujrat', 'Dera', 'Sāhīwāl', 'Jhang', 'Sahiwal', 'Quetta',\n",
       "       'Vienna', 'Rahimyar', 'Milan', 'Lodhran', 'South', 'Zhob',\n",
       "       'Jamshoro', 'Khyber', 'New', 'Rakhni', 'Taxila', 'APAC', 'Azad',\n",
       "       'Toba', 'Thatta', 'Jarānwāla', 'Mīrpur', 'Larkana', 'Pasrur',\n",
       "       'Sarai', 'Panjgur', 'Baloch', 'Attock', 'Rahim', 'Ratodero', 'APJ',\n",
       "       'Chakwal', 'İzmir', 'Miān', 'Battagram', 'Harīpur', 'Naushahro',\n",
       "       'Khuzdar', 'Kasur', 'Abbottabad', 'Malir', 'Vehari', 'Kahuta',\n",
       "       'Badin', 'Thal', 'Landhi', 'Shikarpur', 'Bhakkar', 'Bahrain',\n",
       "       'Metro', 'Kohāt', 'Okāra', 'Bahawalnagar', 'Shergarh', 'Chaman',\n",
       "       'Bin', 'Sibi', 'Bagar', 'Kabirwala', 'Kasūr', 'Mehmood', 'Bahadar',\n",
       "       'Fazilpur', 'Qasba', 'Mall', 'Kot', 'Haripur', 'Parkersburg',\n",
       "       'Narowal', 'India', 'Ahmadpur', 'Naya', 'Muzaffarabad', 'Mandi',\n",
       "       'Clifton', 'Okara', 'More', 'Dajal', 'Torwarsak', 'Jacobabad',\n",
       "       'Haroonabad', 'Johar', 'Renala', 'Kampala', 'Mardan', 'Pakpattan',\n",
       "       'Khānewāl', 'Pattoki', 'Khushāb', 'Mianwali', 'Hāsilpur',\n",
       "       'Mingāora', 'Latifabad', 'MENA', 'Swabi', 'Gilgit-Baltistan',\n",
       "       'Turkey', 'Dubai', 'Akora', 'Abbottābād', 'Hangu', 'Umarkot',\n",
       "       'Khudian', 'Pak', 'Gurugram', 'Burewala', 'Banda', 'Skardu',\n",
       "       'Kandhkot', 'Rajanpur', 'Tribal', 'Daharki', 'Talagang', 'Pindi',\n",
       "       'Layyah', 'Sakrand', 'Sheikhupura'], dtype=object)"
      ]
     },
     "execution_count": 1851,
     "metadata": {},
     "output_type": "execute_result"
    }
   ],
   "source": [
    "df['location'].unique()"
   ]
  },
  {
   "cell_type": "code",
   "execution_count": 1852,
   "id": "4fc04b32-1737-4f10-b831-82ac969d7a7b",
   "metadata": {},
   "outputs": [
    {
     "data": {
      "text/plain": [
       "149"
      ]
     },
     "execution_count": 1852,
     "metadata": {},
     "output_type": "execute_result"
    }
   ],
   "source": [
    "len(df['location'].unique())"
   ]
  },
  {
   "cell_type": "code",
   "execution_count": 1853,
   "id": "e9213936-bc16-4e1e-977c-ec94b1baa769",
   "metadata": {},
   "outputs": [
    {
     "data": {
      "text/plain": [
       "location\n",
       "Lahore          3842\n",
       "Karāchi         2274\n",
       "Islamabad       1725\n",
       "Pakistan         900\n",
       "Karachi          790\n",
       "                ... \n",
       "Sibi               1\n",
       "Bin                1\n",
       "Shergarh           1\n",
       "Bahawalnagar       1\n",
       "Sheikhupura        1\n",
       "Name: count, Length: 149, dtype: int64"
      ]
     },
     "execution_count": 1853,
     "metadata": {},
     "output_type": "execute_result"
    }
   ],
   "source": [
    "df['location'].value_counts()"
   ]
  },
  {
   "cell_type": "code",
   "execution_count": 1854,
   "id": "66160082-adaf-4ef6-b635-9708d5be50e1",
   "metadata": {},
   "outputs": [
    {
     "data": {
      "text/plain": [
       "location\n",
       "Lahore          3842\n",
       "Karāchi         2274\n",
       "Islamabad       1725\n",
       "Pakistan         900\n",
       "Karachi          790\n",
       "Rawalpindi       551\n",
       "Islāmābād        309\n",
       "Faisalabad       202\n",
       "Multan           124\n",
       "Peshawar         105\n",
       "Punjab            84\n",
       "Hyderabad         69\n",
       "Sialkot           60\n",
       "APAC              51\n",
       "Gujranwala        49\n",
       "APJ               38\n",
       "Quetta            37\n",
       "New               34\n",
       "Sindh             32\n",
       "South             30\n",
       "Bahawalpur        29\n",
       "Muzaffargarh      28\n",
       "Jhelum            22\n",
       "Gujrāt            21\n",
       "Sargodha          15\n",
       "Sukkur            14\n",
       "Rahim             13\n",
       "Jamshoro          12\n",
       "Umarkot           11\n",
       "Sahiwal           11\n",
       "Name: count, dtype: int64"
      ]
     },
     "execution_count": 1854,
     "metadata": {},
     "output_type": "execute_result"
    }
   ],
   "source": [
    "df['location'].value_counts()[:30]"
   ]
  },
  {
   "cell_type": "code",
   "execution_count": 1855,
   "id": "5d44fa50-3798-4787-adf5-98c203ab5ade",
   "metadata": {},
   "outputs": [],
   "source": [
    "df.loc[:,'location']=df['Job Info'].apply(lambda x:x.split('·')[1].split('(')[0])"
   ]
  },
  {
   "cell_type": "code",
   "execution_count": 1856,
   "id": "ca38cb6d-b99d-4db8-91b8-7af4185bb910",
   "metadata": {},
   "outputs": [
    {
     "data": {
      "text/plain": [
       "0                                                Pakistan \n",
       "1                                Lahore, Punjab, Pakistan \n",
       "2                                Lahore, Punjab, Pakistan \n",
       "3                          Islamabad, Islāmābād, Pakistan \n",
       "4                                Lahore, Punjab, Pakistan \n",
       "                               ...                        \n",
       "15869           Bahawalpur, Punjab, Pakistan  \\n1 week ago\n",
       "15870               Karāchi, Sindh, Pakistan  \\n1 week ago\n",
       "15872     Islamabad, Islāmābād, Pakistan  \\n1 week ago\\...\n",
       "15873     Karachi Division, Sindh, Pakistan  \\n1 week a...\n",
       "15874      Karachi Division, Sindh, Pakistan  \\n1 week ago\n",
       "Name: location, Length: 11737, dtype: object"
      ]
     },
     "execution_count": 1856,
     "metadata": {},
     "output_type": "execute_result"
    }
   ],
   "source": [
    "df['location']"
   ]
  },
  {
   "cell_type": "code",
   "execution_count": 1857,
   "id": "d6d1178d-d9f9-4114-b62e-517094bfcfdd",
   "metadata": {},
   "outputs": [
    {
     "data": {
      "text/plain": [
       "array([' Pakistan ', ' Lahore, Punjab, Pakistan ',\n",
       "       ' Islamabad, Islāmābād, Pakistan ', ...,\n",
       "       ' Sakrand, Sindh, Pakistan  \\n1 week ago\\n\\n ',\n",
       "       ' Sheikhupura District, Punjab, Pakistan  \\n1 week ago\\n\\n ',\n",
       "       ' Islamabad, Punjab, Pakistan  \\n2 weeks ago\\n\\n '], dtype=object)"
      ]
     },
     "execution_count": 1857,
     "metadata": {},
     "output_type": "execute_result"
    }
   ],
   "source": [
    "df['location'].unique()"
   ]
  },
  {
   "cell_type": "code",
   "execution_count": 1858,
   "id": "fa77a1d0-3b26-414f-9718-ba8066def887",
   "metadata": {},
   "outputs": [
    {
     "data": {
      "text/plain": [
       "1163"
      ]
     },
     "execution_count": 1858,
     "metadata": {},
     "output_type": "execute_result"
    }
   ],
   "source": [
    "len(df['location'].unique())"
   ]
  },
  {
   "cell_type": "code",
   "execution_count": 1859,
   "id": "14c9cf34-8836-489d-93bf-4b98a15d8845",
   "metadata": {},
   "outputs": [
    {
     "data": {
      "text/plain": [
       "location\n",
       " Lahore, Punjab, Pakistan                                  1052\n",
       " Karāchi, Sindh, Pakistan                                   624\n",
       " Islamabad, Islāmābād, Pakistan                             518\n",
       " Lahore, Punjab, Pakistan  \\n2 weeks ago                    326\n",
       " Karachi Division, Sindh, Pakistan                          242\n",
       "                                                           ... \n",
       " Gulshan Town, Sindh, Pakistan  \\n7 hours ago\\n\\n             1\n",
       " Korangi District, Sindh, Pakistan  \\n10 hours ago\\n\\n        1\n",
       " Jhelum, Punjab, Pakistan  \\n23 hours ago\\n\\n                 1\n",
       " Sāhīwāl, Punjab, Pakistan  \\n9 hours ago\\n\\n                 1\n",
       " Islamabad, Punjab, Pakistan  \\n2 weeks ago\\n\\n               1\n",
       "Name: count, Length: 1163, dtype: int64"
      ]
     },
     "execution_count": 1859,
     "metadata": {},
     "output_type": "execute_result"
    }
   ],
   "source": [
    "df['location'].value_counts()"
   ]
  },
  {
   "cell_type": "code",
   "execution_count": 1860,
   "id": "961000a9-b723-4459-8860-480fbea49e30",
   "metadata": {},
   "outputs": [
    {
     "data": {
      "text/plain": [
       "location\n",
       " Lahore, Punjab, Pakistan                              1052\n",
       " Karāchi, Sindh, Pakistan                               624\n",
       " Islamabad, Islāmābād, Pakistan                         518\n",
       " Lahore, Punjab, Pakistan  \\n2 weeks ago                326\n",
       " Karachi Division, Sindh, Pakistan                      242\n",
       " Pakistan                                               236\n",
       " Lahore, Punjab, Pakistan  \\n2 weeks ago\\n\\n            199\n",
       " Lahore, Punjab, Pakistan  \\n1 week ago                 194\n",
       " Lahore, Punjab, Pakistan  \\n1 week ago\\n\\n             177\n",
       " Karāchi, Sindh, Pakistan  \\n1 week ago\\n\\n             145\n",
       " Lahore, Punjab, Pakistan  \\n1 month ago                138\n",
       " Karāchi, Sindh, Pakistan  \\n2 weeks ago                138\n",
       " Rawalpindi, Punjab, Pakistan                           127\n",
       " Karāchi, Sindh, Pakistan  \\n2 weeks ago\\n\\n            127\n",
       " Islamabad, Islāmābād, Pakistan  \\n2 weeks ago\\n\\n      126\n",
       " Pakistan  \\n2 weeks ago\\n\\n                            124\n",
       " Islamabad, Islāmābād, Pakistan  \\n2 weeks ago          113\n",
       " Karāchi, Sindh, Pakistan  \\n1 week ago                 112\n",
       " Lahore, Punjab, Pakistan  \\n3 days ago\\n\\n              98\n",
       " Karāchi, Sindh, Pakistan  \\n3 days ago\\n\\n              94\n",
       " Islāmābād, Pakistan                                     90\n",
       " Lahore, Punjab, Pakistan Reposted  \\n1 week ago         90\n",
       " Islamabad, Islāmābād, Pakistan  \\n1 week ago\\n\\n        90\n",
       " Lahore, Punjab, Pakistan  \\n2 days ago\\n\\n              89\n",
       " Lahore, Punjab, Pakistan  \\n5 days ago\\n\\n              85\n",
       " Lahore District, Punjab, Pakistan                       83\n",
       " Karāchi, Sindh, Pakistan  \\n1 month ago                 81\n",
       " Lahore, Punjab, Pakistan  \\n1 day ago\\n\\n               79\n",
       " Islamabad, Islāmābād, Pakistan  \\n1 week ago            76\n",
       " Lahore, Punjab, Pakistan  \\n3 days ago                  73\n",
       "Name: count, dtype: int64"
      ]
     },
     "execution_count": 1860,
     "metadata": {},
     "output_type": "execute_result"
    }
   ],
   "source": [
    "df['location'].value_counts()[:30]"
   ]
  },
  {
   "cell_type": "markdown",
   "id": "7d125520-8a33-494a-97d2-8a7af9aabd7e",
   "metadata": {},
   "source": [
    "### extracting remote/onsite"
   ]
  },
  {
   "cell_type": "code",
   "execution_count": 1861,
   "id": "2fd0094d-8d72-4503-b45a-54f2a885171e",
   "metadata": {},
   "outputs": [],
   "source": [
    "remote_onsite_list=[]\n",
    "for info in df['Job Info']:\n",
    "    try:\n",
    "        remote_onsite_list.append(info.split('·')[1].split('(')[1].split(')')[0])\n",
    "    except IndexError:\n",
    "        remote_onsite_list.append('Not specified')\n",
    "    "
   ]
  },
  {
   "cell_type": "code",
   "execution_count": 1862,
   "id": "829a75f1-c5a5-41a0-abe5-85d014fbcfca",
   "metadata": {},
   "outputs": [
    {
     "data": {
      "text/plain": [
       "11737"
      ]
     },
     "execution_count": 1862,
     "metadata": {},
     "output_type": "execute_result"
    }
   ],
   "source": [
    "len(remote_onsite_list)"
   ]
  },
  {
   "cell_type": "code",
   "execution_count": 1863,
   "id": "cf851038-e11a-4fcd-8bdb-76b1e4e2d97b",
   "metadata": {},
   "outputs": [],
   "source": [
    "df.loc[:,'Remote/Onsite']=remote_onsite_list"
   ]
  },
  {
   "cell_type": "code",
   "execution_count": 1864,
   "id": "74e385ba-cea5-4e28-98d3-c1b9b5f75d64",
   "metadata": {},
   "outputs": [
    {
     "data": {
      "text/plain": [
       "0               Remote\n",
       "1              On-site\n",
       "2              On-site\n",
       "3               Hybrid\n",
       "4              On-site\n",
       "             ...      \n",
       "15869    Not specified\n",
       "15870    Not specified\n",
       "15872    Not specified\n",
       "15873    Not specified\n",
       "15874    Not specified\n",
       "Name: Remote/Onsite, Length: 11737, dtype: object"
      ]
     },
     "execution_count": 1864,
     "metadata": {},
     "output_type": "execute_result"
    }
   ],
   "source": [
    "df['Remote/Onsite']"
   ]
  },
  {
   "cell_type": "code",
   "execution_count": 1865,
   "id": "26fecae8-fa72-4053-a2b2-c90ad84d55b9",
   "metadata": {},
   "outputs": [
    {
     "data": {
      "text/plain": [
       "array(['Remote', 'On-site', 'Hybrid', 'Not specified'], dtype=object)"
      ]
     },
     "execution_count": 1865,
     "metadata": {},
     "output_type": "execute_result"
    }
   ],
   "source": [
    "df['Remote/Onsite'].unique()"
   ]
  },
  {
   "cell_type": "code",
   "execution_count": 1866,
   "id": "940654ad-0fbe-44d0-90fe-7bdd8c7ef7af",
   "metadata": {},
   "outputs": [
    {
     "data": {
      "text/plain": [
       "Remote/Onsite\n",
       "Not specified    8396\n",
       "On-site          2616\n",
       "Remote            525\n",
       "Hybrid            200\n",
       "Name: count, dtype: int64"
      ]
     },
     "execution_count": 1866,
     "metadata": {},
     "output_type": "execute_result"
    }
   ],
   "source": [
    "df['Remote/Onsite'].value_counts()"
   ]
  },
  {
   "cell_type": "markdown",
   "id": "e17796e3-390b-469e-81f4-8273fe3f3771",
   "metadata": {},
   "source": [
    "### extarctig number of applicants feature"
   ]
  },
  {
   "cell_type": "code",
   "execution_count": 1867,
   "id": "af7349a5-6293-46de-ae9b-94b1ed491874",
   "metadata": {},
   "outputs": [],
   "source": [
    "n_applicant_list=[]\n",
    "for info in df['Job Info']:\n",
    "    try:\n",
    "        n_applicant_list.append(info.split('·')[2].strip(' applicants'))\n",
    "    except IndexError:\n",
    "        n_applicant_list.append(np.nan)"
   ]
  },
  {
   "cell_type": "code",
   "execution_count": 1868,
   "id": "f61b6536-fecc-481d-a6b8-f5eb7f6454fb",
   "metadata": {},
   "outputs": [
    {
     "data": {
      "text/plain": [
       "[nan, nan, nan, '51', '51', nan, nan, nan, '312', '2,048']"
      ]
     },
     "execution_count": 1868,
     "metadata": {},
     "output_type": "execute_result"
    }
   ],
   "source": [
    "n_applicant_list[:10]"
   ]
  },
  {
   "cell_type": "code",
   "execution_count": 1869,
   "id": "0efbcf4e-1851-4f46-8d95-a81911895be4",
   "metadata": {},
   "outputs": [],
   "source": [
    "df.loc[:,'n_applicant']=n_applicant_list"
   ]
  },
  {
   "cell_type": "code",
   "execution_count": 1870,
   "id": "e91621a3-d256-425c-8b50-813661a2c33a",
   "metadata": {},
   "outputs": [
    {
     "data": {
      "text/plain": [
       "array([nan, '51', '312', '2,048', '30', '3,159', '41', '3,008', '120',\n",
       "       '685', '50', '28', '24', '734', '9', '112', '42', '10', '89', '48',\n",
       "       '19', '732', '338', '18', '154', '472', '110', '32', '16', '448',\n",
       "       '239', '933', '255', '15', '177', '33', '323', '207', '22', '21',\n",
       "       '49', '591', '45', '29', '231', '337', '249', '123', '40', '192',\n",
       "       '157', '1,386', '36', '1,186', '17', '76', '61', '38', '20', '12',\n",
       "       '115', '73', '46', '315', '90', '67', '27', '23', '13', '172',\n",
       "       '778', '96', '58', '216', '43', '204', '247', '380', '39', '1,768',\n",
       "       '11', '310', '34', '108', '162', '853', '986', '215', '14', '94',\n",
       "       '92', '168', '911', '53', '420', '31', '72', '44', '59', '132',\n",
       "       '289', '35', '52', '1,379', '158', '260', '54', '250', '332',\n",
       "       '649', '1,385', '153', '37', '83', '370', '287', '57', '339', '47',\n",
       "       '208', '121', '56', '98', '68', '254', '259', '138', '305', '186',\n",
       "       '197', '84', '795', '63', '79', '757', '166', '662', '100', '109',\n",
       "       '285', '60', '127', '364', '74', '199', '198', '212', '328', '122',\n",
       "       '252', '264', '502', '237', '376', '903', '146', '298', '505',\n",
       "       '985', '342', '516', '1,213', '362', '1,344', '256', '189', '143',\n",
       "       '88', '131', '531', '25', '149', '26', '316', '141', '99', '184',\n",
       "       '113', '97', '170', '6', '480', '133', '309', '77', '429', '62',\n",
       "       '4', '55', '202', '521', '925', '135', '304', '164', '1,391',\n",
       "       '862', '229', '628', '200', '151', '176', '468', '71', '66',\n",
       "       '1,650', '394', '1,015', '458', '181', '611', '749', '335', '904',\n",
       "       '377', '3,400', '604', '372', '180', '693', '1,577', '144', '171',\n",
       "       '926', '1,968', '834', '104', '69', '148', '479', '293', '95',\n",
       "       '1,159', '190', '1,034', '75', '86', '898', '130', '270', '852',\n",
       "       '136', '432', '441', '402', '2,420', '346', '827', '438', '134',\n",
       "       '1,319', '495', '396', '560', '114', '81', '283', '804', '185',\n",
       "       '253', '117', '344', '295', '1,296', '557', '175', '242', '811',\n",
       "       '868', '880', '822', '526', '214', '532', '681', '2,142', '87',\n",
       "       '535', '744', '371', '413', '928', '573', '187', '201', '322',\n",
       "       '244', '78', '409', '307', '227', '424', '213', '930', '225',\n",
       "       '2,943', '399', '245', '830', '267', '1,708', '779', '165', '291',\n",
       "       '65', '2,701', '496', '105', '358', '793', '137', '106', '246',\n",
       "       '467', '243', '1,415', '248', '7', '389', '541', '351', '345',\n",
       "       '507', '107', '347', '336', '369', '561', '475', '326', '640',\n",
       "       '174', '536', '860', '139', '821', '682', '545', '85', '465',\n",
       "       '803', '203', '455', '268', '265', '217', '8', '1,574', '542',\n",
       "       '1,704', '513', '1,177', '452', '1,750', '577', '147', '428',\n",
       "       '1,649', '152', '469', '427', '837', '592', '522', '191', '464',\n",
       "       '80', '159', '233', '430', '103', '142', '5,401', '664', '1,167',\n",
       "       '182', '3', '400', '70', '773', '284', '124', '205', '64', '262',\n",
       "       '263', '555', '1,857', '266', '321', '597', '318', '221', '195',\n",
       "       '288', '1,674', '93', '223', '481', '408', '1,132', '363', '477',\n",
       "       '854', '419', '240', '129', '552', '921', '723', '5,203', '145',\n",
       "       '666', '116', '194', '711', '589', '118', '546', '258', '188',\n",
       "       '679', '303', '387', '125', '218', '102', '651', '82', '1,064',\n",
       "       '431', '406', '425', '234', '1,632', '381', '294', '721', '155',\n",
       "       '638', '220', '391', '126', '156', '1,657', '998', '1,195', '478',\n",
       "       '319', '257', '403', '224', '357', '119', '942', '5', '167', '379',\n",
       "       '111', '740', '330', '2,895', '210', '463', '281', '1,023', '301',\n",
       "       '1,381', '1,148', '661', '617', '1,556', '286', '603', '850',\n",
       "       '1,080', '1,356', '196', '992', '1,457', '1,917', '361', '1,514',\n",
       "       '667', '206', '529', '558', '91', '101', '163', '588', '1,450',\n",
       "       '1,588', '140', '609', '500', '1', '193', '1,042', '275', '768',\n",
       "       '128', '395', '1,013', '340', '474', '423', '551', '484', '490',\n",
       "       '367', '272', '290', '278', '366', '671', '791', '375', '2', '235',\n",
       "       '1,882', '1,579', '581', '1,225', '1,066', '895', '669', '1,239',\n",
       "       '219', '678', '674', '1,824', '160', '1,840', '1,516', '179',\n",
       "       '543', '990', '462', '299', '639', '619', '355', '567', '161',\n",
       "       '701', '1,848', '445', '398', '276', '3,098', '282', '308', '426',\n",
       "       '251', '586', '211', '269', '585', '553', '799', '228', '470',\n",
       "       '331', '230', '238', '489', '292', '365', '1,767', '620', '1,179',\n",
       "       '327', '302', '482', '1,897', '405', '422', '183', '962', '514',\n",
       "       '236', '3,052', '353', '418', '493', '1,405', '629', '648',\n",
       "       '2,264', '434', '2,163', '306', '280', '719', '226', '277', '487',\n",
       "       '241', '1,438', '762', '716', '169', '820', '1,269', '388', '646',\n",
       "       '1,108', '359', '354', '150', '1,456', '1,267', '1,566', '410',\n",
       "       '491', '414', '550', '333', '325', '1,138', '350', '554', '348',\n",
       "       '356', '580', '222', '440', '390', '0', '945', '314', '2,046',\n",
       "       '1,365', '360', '705', '2,920', '392', '2,177', '751', '279',\n",
       "       '261', '809', '777', '417', '442', '343', '300', '232', '499',\n",
       "       '892', '802', '407', '623', '595', '178', '845', '1,502', '2,368',\n",
       "       '525', '632', '999', '508', '859', '273', '660', '1,286', '433',\n",
       "       '1,087', '1,820', '1,284', '548', '393', '961', '1,120', '1,075',\n",
       "       '540', 'Over 200', '313', '1,079', '411', '512', '831', '401',\n",
       "       '559', '1,441', '657', '311', '439', '817', '727', '447', '497',\n",
       "       '790', '659', '1,311', '404', '1,477', '584', '568', '334', '569',\n",
       "       '534', '621', '1,497', '590', '645', '635', '320', '801', '1,016',\n",
       "       '520', '368', '556', '786', '2,052', '863', '750', '527', '647',\n",
       "       '605', '706', '1,252', '951', '697', '720', '449', '374', '1,224',\n",
       "       '993', '173', '473', '435', '733', '1,215', '699', '1,426', '454',\n",
       "       '1,050', '753', '690', '713', '1,037', '888', '443', '607',\n",
       "       '1,059', '451', '373', '415', '562', '1,039', '1,886', '450',\n",
       "       '918', '504'], dtype=object)"
      ]
     },
     "execution_count": 1870,
     "metadata": {},
     "output_type": "execute_result"
    }
   ],
   "source": [
    "df['n_applicant'].unique()"
   ]
  },
  {
   "cell_type": "code",
   "execution_count": 1871,
   "id": "e9223934-84d3-40c8-a821-c086d39243b5",
   "metadata": {},
   "outputs": [
    {
     "data": {
      "text/plain": [
       "756"
      ]
     },
     "execution_count": 1871,
     "metadata": {},
     "output_type": "execute_result"
    }
   ],
   "source": [
    "len(df['n_applicant'].unique())"
   ]
  },
  {
   "cell_type": "code",
   "execution_count": 1872,
   "id": "6a95bcc6-6473-439b-a9f5-770e3476e32f",
   "metadata": {},
   "outputs": [
    {
     "data": {
      "text/plain": [
       "n_applicant\n",
       "51          287\n",
       "Over 200    271\n",
       "11          194\n",
       "13          140\n",
       "10          135\n",
       "12          132\n",
       "0           129\n",
       "15          122\n",
       "14          121\n",
       "18          108\n",
       "17          107\n",
       "19          103\n",
       "1           101\n",
       "16           98\n",
       "9            94\n",
       "3            93\n",
       "21           90\n",
       "7            89\n",
       "8            89\n",
       "2            85\n",
       "4            83\n",
       "6            82\n",
       "20           79\n",
       "5            78\n",
       "23           68\n",
       "24           67\n",
       "25           67\n",
       "32           66\n",
       "26           61\n",
       "22           59\n",
       "Name: count, dtype: int64"
      ]
     },
     "execution_count": 1872,
     "metadata": {},
     "output_type": "execute_result"
    }
   ],
   "source": [
    "df['n_applicant'].value_counts()[:30]"
   ]
  },
  {
   "cell_type": "markdown",
   "id": "56c892e1-b3fa-46ee-baf6-1ed0372b4bf9",
   "metadata": {},
   "source": [
    "### Extracting job posting time feature"
   ]
  },
  {
   "cell_type": "code",
   "execution_count": 1873,
   "id": "664594de-9c52-4eb6-ba28-7988a2342900",
   "metadata": {},
   "outputs": [
    {
     "data": {
      "text/plain": [
       "0         1 week ago\n",
       "1        2 weeks ago\n",
       "2         1 week ago\n",
       "3         1 week ago\n",
       "4         1 week ago\n",
       "            ...     \n",
       "15869     1 week ago\n",
       "15870     1 week ago\n",
       "15872     1 week ago\n",
       "15873     1 week ago\n",
       "15874     1 week ago\n",
       "Name: job posting time, Length: 11737, dtype: object"
      ]
     },
     "execution_count": 1873,
     "metadata": {},
     "output_type": "execute_result"
    }
   ],
   "source": [
    "df.loc[:,'job posting time']=df['Job Info'].apply(lambda x:x.split('\\n')[1])\n",
    "df['job posting time']"
   ]
  },
  {
   "cell_type": "code",
   "execution_count": 1874,
   "id": "f9561053-722a-4468-9c99-8687fe773b0e",
   "metadata": {},
   "outputs": [
    {
     "data": {
      "text/plain": [
       "array(['1 week ago', '2 weeks ago', '1 day ago', '6 days ago',\n",
       "       '5 days ago', '11 hours ago', '3 days ago', '3 hours ago',\n",
       "       '4 days ago', '13 minutes ago', '14 minutes ago', '5 hours ago',\n",
       "       '10 hours ago', '9 hours ago', '2 days ago', '13 hours ago',\n",
       "       '18 hours ago', '7 hours ago', '4 hours ago', '3 weeks ago',\n",
       "       '2 hours ago', '12 hours ago', '6 hours ago', '14 hours ago',\n",
       "       '1 hour ago', '22 hours ago', '8 hours ago', '23 hours ago',\n",
       "       '15 hours ago', '20 hours ago', '19 hours ago', '16 hours ago',\n",
       "       '17 hours ago', '21 hours ago', '17 minutes ago', '48 minutes ago',\n",
       "       '23 minutes ago', '49 minutes ago', '37 minutes ago',\n",
       "       '42 minutes ago', '36 minutes ago', '44 minutes ago',\n",
       "       '55 minutes ago', '32 minutes ago', '58 minutes ago',\n",
       "       '3 minutes ago', '1 month ago', '4 weeks ago',\n",
       "       'https://anitechnologies.net/ · Islamabad, Islāmābād, Pakistan Reposted  '],\n",
       "      dtype=object)"
      ]
     },
     "execution_count": 1874,
     "metadata": {},
     "output_type": "execute_result"
    }
   ],
   "source": [
    "df['job posting time'].unique()"
   ]
  },
  {
   "cell_type": "code",
   "execution_count": 1875,
   "id": "cfaf744d-e2e4-4b64-b019-e94fd00c76ff",
   "metadata": {},
   "outputs": [
    {
     "data": {
      "text/plain": [
       "job posting time\n",
       "1 week ago     3578\n",
       "2 weeks ago    2243\n",
       "5 days ago      854\n",
       "6 days ago      743\n",
       "3 days ago      664\n",
       "1 day ago       528\n",
       "1 month ago     495\n",
       "4 days ago      491\n",
       "2 days ago      474\n",
       "3 weeks ago     319\n",
       "Name: count, dtype: int64"
      ]
     },
     "execution_count": 1875,
     "metadata": {},
     "output_type": "execute_result"
    }
   ],
   "source": [
    "df['job posting time'].value_counts()[:10]"
   ]
  },
  {
   "cell_type": "markdown",
   "id": "403e8607-1554-4fcd-9f1e-2f1f44ca0f38",
   "metadata": {},
   "source": [
    "### Feature Eng on Job Type feature"
   ]
  },
  {
   "cell_type": "code",
   "execution_count": 1876,
   "id": "87f6adf4-3bc5-40b3-9104-d0d02c22bd3f",
   "metadata": {},
   "outputs": [
    {
     "data": {
      "text/plain": [
       "array(['Full-time', 'Full-time · Mid-Senior level',\n",
       "       'Internship · Internship', 'Full-time · Associate', 'Internship',\n",
       "       'Full-time · Entry level', 'Part-time', 'Full-time · Internship',\n",
       "       'Contract · Mid-Senior level', 'Contract', 'Contract · Associate',\n",
       "       '$150/month - $300/month · Full-time', 'Full-time · Director',\n",
       "       'Part-time · Associate', 'Mr Ahsan is hiring for this job',\n",
       "       'Part-time · Executive', 'Contract · Executive',\n",
       "       'Part-time · Mid-Senior level', 'Contract · Entry level',\n",
       "       'Temporary · Mid-Senior level', 'Executive',\n",
       "       'Full-time · Executive', 'Sean Sato is hiring for this job',\n",
       "       'Part-time · Internship', 'Internship · Mid-Senior level',\n",
       "       '$12,000/yr - $15,000/yr · Full-time · Mid-Senior level',\n",
       "       '$200,000/yr · Full-time', 'Part-time · Entry level',\n",
       "       'dr.ry. L. is hiring for this job',\n",
       "       '10,001+ employees · Tobacco Manufacturing', 'Volunteer',\n",
       "       'On-site\\n\\n \\nFull-time\\n\\n \\nMid-Senior level',\n",
       "       'Hybrid\\n\\n \\nFull-time\\n\\n \\nMid-Senior level',\n",
       "       'Remote\\n\\n \\nFull-time\\n\\n \\nMid-Senior level',\n",
       "       'On-site\\n\\n \\nFull-time\\n\\n \\nAssociate',\n",
       "       'On-site\\n\\n \\nFull-time',\n",
       "       'Hybrid\\n\\n \\nFull-time\\n\\n \\nEntry level',\n",
       "       'Hybrid\\n\\n \\nFull-time\\n\\n \\nDirector', 'Remote\\n\\n \\nFull-time',\n",
       "       'On-site\\n\\n \\nFull-time\\n\\n \\nEntry level',\n",
       "       'Hybrid\\n\\n \\nFull-time\\n\\n \\nAssociate',\n",
       "       'Full-time\\n\\n \\nMid-Senior level', 'On-site\\n\\n \\nPart-time',\n",
       "       'Hybrid\\n\\n \\nFull-time',\n",
       "       'Remote\\n\\n \\nContract\\n\\n \\nMid-Senior level',\n",
       "       'On-site\\n\\n \\nFull-time\\n\\n \\nDirector',\n",
       "       'On-site\\n\\n \\nFull-time\\n\\n \\nExecutive',\n",
       "       'Remote\\n\\n \\nFull-time\\n\\n \\nEntry level',\n",
       "       'Remote\\n\\n \\nInternship', 'On-site\\n\\n \\nInternship',\n",
       "       'On-site\\n\\n \\nContract\\n\\n \\nMid-Senior level',\n",
       "       'Remote\\n\\n \\nContract', 'Remote\\n\\n \\nFull-time\\n\\n \\nAssociate',\n",
       "       'On-site\\n\\n \\nContract\\n\\n \\nEntry level',\n",
       "       'On-site\\n\\n \\nFull-time\\n\\n \\nInternship',\n",
       "       'Remote\\n\\n \\nPart-time\\n\\n \\nAssociate', 'Remote\\n\\n \\nPart-time',\n",
       "       'Remote\\n\\n \\nContract\\n\\n \\nEntry level',\n",
       "       'On-site\\n\\n \\nContract\\n\\n \\nAssociate',\n",
       "       'Full-time\\n\\n \\nEntry level', 'Hybrid\\n\\n \\nContract',\n",
       "       'Remote\\n\\n \\nFull-time\\n\\n \\nDirector', 'Hybrid\\n\\n \\nPart-time',\n",
       "       'On-site\\n\\n \\nContract',\n",
       "       'PKR600,000/yr - PKR660,000/yr\\n\\n \\nOn-site\\n\\n \\nFull-time\\n\\n \\nEntry level',\n",
       "       'Remote', 'Contract\\n\\n \\nMid-Senior level',\n",
       "       'On-site\\n\\n \\nContract\\n\\n \\nInternship',\n",
       "       'Full-time\\n\\n \\nExecutive',\n",
       "       'Remote\\n\\n \\nInternship\\n\\n \\nMid-Senior level',\n",
       "       'Hybrid\\n\\n \\nContract\\n\\n \\nMid-Senior level',\n",
       "       'Remote\\n\\n \\nPart-time\\n\\n \\nEntry level',\n",
       "       'Hybrid\\n\\n \\nTemporary', 'Remote\\n\\n \\nPart-time\\n\\n \\nExecutive',\n",
       "       'On-site\\n\\n \\nInternship\\n\\n \\nEntry level',\n",
       "       'On-site\\n\\n \\nVolunteer',\n",
       "       'Remote\\n\\n \\nFull-time\\n\\n \\nExecutive',\n",
       "       'On-site\\n\\n \\nInternship\\n\\n \\nInternship',\n",
       "       'Remote\\n\\n \\nVolunteer',\n",
       "       'On-site\\n\\n \\nPart-time\\n\\n \\nEntry level', 'On-site',\n",
       "       'Hybrid\\n\\n \\nInternship',\n",
       "       'Hybrid\\n\\n \\nContract\\n\\n \\nEntry level',\n",
       "       'Full-time\\n\\n \\nInternship',\n",
       "       '$180/month - $250/month\\n\\n \\nRemote\\n\\n \\nFull-time', 'Hybrid',\n",
       "       'Remote\\n\\n \\nContract\\n\\n \\nAssociate',\n",
       "       'Remote\\n\\n \\nTemporary\\n\\n \\nEntry level',\n",
       "       'On-site\\n\\n \\nTemporary', 'Remote\\n\\n \\nTemporary',\n",
       "       'Full-time\\n\\n \\nAssociate',\n",
       "       'PKR1,200,000/yr - PKR1,800,000/yr\\n\\n \\nOn-site\\n\\n \\nFull-time\\n\\n \\nEntry level',\n",
       "       '5,001-10,000 employees · IT Services and IT Consulting',\n",
       "       'PKR1,200,000/yr - PKR2,400,000/yr\\n\\n \\nOn-site\\n\\n \\nFull-time\\n\\n \\nEntry level',\n",
       "       'On-site\\n\\n \\nContract\\n\\n \\nExecutive',\n",
       "       'PKR1,800,000/yr - PKR3,600,000/yr\\n\\n \\nOn-site\\n\\n \\nFull-time\\n\\n \\nMid-Senior level',\n",
       "       'MYR57,000/yr - MYR108,000/yr\\n\\n \\nRemote\\n\\n \\nFull-time\\n\\n \\nEntry level',\n",
       "       '$1,500/month - $1,800/month\\n\\n \\nRemote\\n\\n \\nFull-time',\n",
       "       '11-50 employees',\n",
       "       '10,001+ employees · Food and Beverage Manufacturing',\n",
       "       'PHP360,000/yr - PHP720,000/yr\\n\\n \\nRemote\\n\\n \\nPart-time\\n\\n \\nMid-Senior level',\n",
       "       'Hybrid\\n\\n \\nVolunteer', 'Remote\\n\\n \\nMid-Senior level',\n",
       "       '$500/month - $1,000/month\\n\\n \\nHybrid\\n\\n \\nContract',\n",
       "       'Remote\\n\\n \\nPart-time\\n\\n \\nMid-Senior level',\n",
       "       'PKR960,000/yr - PKR1,200,000/yr\\n\\n \\nOn-site\\n\\n \\nFull-time\\n\\n \\nEntry level',\n",
       "       '$20,000/yr - $25,000/yr\\n\\n \\nRemote\\n\\n \\nContract\\n\\n \\nEntry level',\n",
       "       '$30,000/month - $60,000/month\\n\\n \\nHybrid\\n\\n \\nFull-time',\n",
       "       'Remote\\n\\n \\nPart-time\\n\\n \\nDirector',\n",
       "       'PKR960,000/yr - PKR1,200,000/yr\\n\\n \\nOn-site\\n\\n \\nFull-time\\n\\n \\nMid-Senior level',\n",
       "       'Hybrid\\n\\n \\nContract\\n\\n \\nInternship',\n",
       "       'On-site\\n\\n \\nPart-time\\n\\n \\nMid-Senior level',\n",
       "       'On-site\\n\\n \\nTemporary\\n\\n \\nEntry level',\n",
       "       'Full-time\\n\\n \\nDirector',\n",
       "       'Hybrid\\n\\n \\nInternship\\n\\n \\nInternship',\n",
       "       'Remote\\n\\n \\nInternship\\n\\n \\nInternship',\n",
       "       'On-site\\n\\n \\nExecutive',\n",
       "       '$1,000/month - $2,500/month\\n\\n \\nOn-site\\n\\n \\nFull-time',\n",
       "       '$36,000/yr - $60,000/yr\\n\\n \\nRemote\\n\\n \\nFull-time\\n\\n \\nEntry level',\n",
       "       '$50,000/month - $70,000/month + Commission\\n\\n \\nOn-site\\n\\n \\nFull-time',\n",
       "       'On-site\\n\\n \\nInternship\\n\\n \\nDirector',\n",
       "       'Hybrid\\n\\n \\nFull-time\\n\\n \\nExecutive',\n",
       "       '₹180,000/yr - ₹360,000/yr\\n\\n \\nRemote\\n\\n \\nFull-time\\n\\n \\nEntry level',\n",
       "       'On-site\\n\\n \\nTemporary\\n\\n \\nInternship',\n",
       "       '$12,000/yr - $18,000/yr\\n\\n \\nRemote\\n\\n \\nFull-time\\n\\n \\nMid-Senior level',\n",
       "       'Contract\\n\\n \\nEntry level',\n",
       "       'Hybrid\\n\\n \\nFull-time\\n\\n \\nInternship',\n",
       "       'On-site\\n\\n \\nTemporary\\n\\n \\nMid-Senior level',\n",
       "       'Hybrid\\n\\n \\nInternship\\n\\n \\nMid-Senior level'], dtype=object)"
      ]
     },
     "execution_count": 1876,
     "metadata": {},
     "output_type": "execute_result"
    }
   ],
   "source": [
    "df['Job Type'].unique()"
   ]
  },
  {
   "cell_type": "code",
   "execution_count": 1877,
   "id": "9549eda3-83bd-4cbc-af94-f825577823e1",
   "metadata": {},
   "outputs": [
    {
     "data": {
      "text/plain": [
       "129"
      ]
     },
     "execution_count": 1877,
     "metadata": {},
     "output_type": "execute_result"
    }
   ],
   "source": [
    "len(df['Job Type'].unique())"
   ]
  },
  {
   "cell_type": "markdown",
   "id": "492a3bb0-178b-4036-adcb-5d442f4a2d3c",
   "metadata": {},
   "source": [
    "## understanding options according to linkedin\n",
    "****"
   ]
  },
  {
   "cell_type": "markdown",
   "id": "add7abbf-f31c-4630-a770-fbc0f0e66278",
   "metadata": {},
   "source": [
    "### These are job Job type options on linkedin:\n",
    "Full-time,\n",
    "Part-time,\n",
    "Contract,\n",
    "Temporary,\n",
    "Volunteer,\n",
    "Internship,\n",
    "Other\n",
    "### These are Experience level options on linkedin:\n",
    "Internship,\n",
    "Entry level,\n",
    "Associate,\n",
    "Mid-Senior level,\n",
    "Director,\n",
    "Executive\n",
    "### These are On-site/remote options on linkedin:\n",
    "On-site,\n",
    "Remote,\n",
    "Hybrid"
   ]
  },
  {
   "cell_type": "markdown",
   "id": "ea4e5f28-e1e9-4c82-9737-a4cd0160abc2",
   "metadata": {},
   "source": [
    "***"
   ]
  },
  {
   "cell_type": "markdown",
   "id": "82558d4e-3c8b-441f-b848-6ec61610491f",
   "metadata": {},
   "source": [
    "### counting number of elements in job type column"
   ]
  },
  {
   "cell_type": "code",
   "execution_count": 1878,
   "id": "d9a89c74-48f8-40d9-9e0a-8042fc8a8eee",
   "metadata": {},
   "outputs": [],
   "source": [
    "Job_Type_nElements=[]\n",
    "for cell in df['Job Type']:\n",
    "    if '·' in cell:\n",
    "        nElements=len(cell.split('·'))\n",
    "        Job_Type_nElements.append(nElements)\n",
    "    elif '\\n\\n \\n' in cell:\n",
    "        nElements=len(cell.split('\\n\\n \\n'))\n",
    "        Job_Type_nElements.append(nElements)\n",
    "    else:\n",
    "        nElements=len(cell.split())\n",
    "        Job_Type_nElements.append(nElements)        "
   ]
  },
  {
   "cell_type": "code",
   "execution_count": 1879,
   "id": "3bb8f675-ab01-451a-bca0-e8d68885f8b8",
   "metadata": {},
   "outputs": [
    {
     "data": {
      "text/plain": [
       "{1, 2, 3, 4, 7}"
      ]
     },
     "execution_count": 1879,
     "metadata": {},
     "output_type": "execute_result"
    }
   ],
   "source": [
    "set(Job_Type_nElements) "
   ]
  },
  {
   "cell_type": "code",
   "execution_count": 1880,
   "id": "fd73b617-3cc4-4f73-b5b2-6a5f2961e0cf",
   "metadata": {},
   "outputs": [],
   "source": [
    "df.loc[:,'Job Type nElements']=Job_Type_nElements"
   ]
  },
  {
   "cell_type": "code",
   "execution_count": 1881,
   "id": "7761af7f-adf4-43f4-938c-186374e655dd",
   "metadata": {},
   "outputs": [
    {
     "data": {
      "text/plain": [
       "Job Type nElements\n",
       "2    5693\n",
       "3    3633\n",
       "1    2395\n",
       "4      13\n",
       "7       3\n",
       "Name: count, dtype: int64"
      ]
     },
     "execution_count": 1881,
     "metadata": {},
     "output_type": "execute_result"
    }
   ],
   "source": [
    "df['Job Type nElements'].value_counts()"
   ]
  },
  {
   "cell_type": "code",
   "execution_count": 1882,
   "id": "a8866d6d-6e2e-49f5-be44-8953dc34b55e",
   "metadata": {},
   "outputs": [
    {
     "data": {
      "text/plain": [
       "4980     PKR600,000/yr - PKR660,000/yr\\n\\n \\nOn-site\\n\\...\n",
       "8942     PKR1,200,000/yr - PKR1,800,000/yr\\n\\n \\nOn-sit...\n",
       "8961     PKR1,200,000/yr - PKR2,400,000/yr\\n\\n \\nOn-sit...\n",
       "9066     PKR1,800,000/yr - PKR3,600,000/yr\\n\\n \\nOn-sit...\n",
       "9119     MYR57,000/yr - MYR108,000/yr\\n\\n \\nRemote\\n\\n ...\n",
       "10276    PHP360,000/yr - PHP720,000/yr\\n\\n \\nRemote\\n\\n...\n",
       "11404    PKR960,000/yr - PKR1,200,000/yr\\n\\n \\nOn-site\\...\n",
       "11506    $20,000/yr - $25,000/yr\\n\\n \\nRemote\\n\\n \\nCon...\n",
       "12575    PKR960,000/yr - PKR1,200,000/yr\\n\\n \\nOn-site\\...\n",
       "14039    $36,000/yr - $60,000/yr\\n\\n \\nRemote\\n\\n \\nFul...\n",
       "14391    ₹180,000/yr - ₹360,000/yr\\n\\n \\nRemote\\n\\n \\nF...\n",
       "14491    PHP360,000/yr - PHP720,000/yr\\n\\n \\nRemote\\n\\n...\n",
       "15090    $12,000/yr - $18,000/yr\\n\\n \\nRemote\\n\\n \\nFul...\n",
       "Name: Job Type, dtype: object"
      ]
     },
     "execution_count": 1882,
     "metadata": {},
     "output_type": "execute_result"
    }
   ],
   "source": [
    "df[df['Job Type nElements']==4]\n",
    "df[df['Job Type nElements']==4]['Job Type']"
   ]
  },
  {
   "cell_type": "code",
   "execution_count": 1883,
   "id": "16efcb3b-51c6-4a9b-956a-1f259cf33ba5",
   "metadata": {},
   "outputs": [
    {
     "data": {
      "text/plain": [
       "7"
      ]
     },
     "execution_count": 1883,
     "metadata": {},
     "output_type": "execute_result"
    }
   ],
   "source": [
    "df[df['Job Type nElements']==4]['Job Type'].iloc[0]\n",
    "df[df['Job Type nElements']==4]['Job Type'].iloc[0].split()\n",
    "len(df[df['Job Type nElements']==4]['Job Type'].iloc[0].split())\n",
    "# df[df['Job Type nElements']==4]['Job Type'].iloc[0].split('\\n\\n \\n')"
   ]
  },
  {
   "cell_type": "markdown",
   "id": "8984eeb5-428a-4d7d-9884-75ad998b86c8",
   "metadata": {},
   "source": [
    "### extarcting Job type"
   ]
  },
  {
   "cell_type": "code",
   "execution_count": 1884,
   "id": "e3b86e0a-93d2-4646-b78b-036fa8478c54",
   "metadata": {},
   "outputs": [
    {
     "data": {
      "text/plain": [
       "['Executive']"
      ]
     },
     "execution_count": 1884,
     "metadata": {},
     "output_type": "execute_result"
    }
   ],
   "source": [
    "inconsistant_Job_Type_Elements_1=['Executive']\n",
    "inconsistant_Job_Type_Elements_1"
   ]
  },
  {
   "cell_type": "code",
   "execution_count": 1885,
   "id": "b9b85562-303c-43b0-ae21-ea74b8b609a3",
   "metadata": {},
   "outputs": [
    {
     "data": {
      "text/plain": [
       "['$150/month - $300/month · Full-time',\n",
       " '$200,000/yr · Full-time',\n",
       " '10,001+ employees · Tobacco Manufacturing',\n",
       " 'Full-time\\n\\n \\nMid-Senior level']"
      ]
     },
     "execution_count": 1885,
     "metadata": {},
     "output_type": "execute_result"
    }
   ],
   "source": [
    "inconsistant_Job_Type_Elements_2=['$150/month - $300/month · Full-time','$200,000/yr · Full-time','10,001+ employees · Tobacco Manufacturing','Full-time\\n\\n \\nMid-Senior level']\n",
    "inconsistant_Job_Type_Elements_2"
   ]
  },
  {
   "cell_type": "code",
   "execution_count": 1886,
   "id": "c11b769e-4a34-4de3-9365-e02bfb749461",
   "metadata": {},
   "outputs": [
    {
     "data": {
      "text/plain": [
       "['$12,000/yr - $15,000/yr · Full-time · Mid-Senior level']"
      ]
     },
     "execution_count": 1886,
     "metadata": {},
     "output_type": "execute_result"
    }
   ],
   "source": [
    "inconsistant_Job_Type_Elements_3=['$12,000/yr - $15,000/yr · Full-time · Mid-Senior level']\n",
    "inconsistant_Job_Type_Elements_3"
   ]
  },
  {
   "cell_type": "code",
   "execution_count": 1887,
   "id": "be3ef437-08b7-498d-9d55-06817b4759a0",
   "metadata": {},
   "outputs": [
    {
     "data": {
      "text/plain": [
       "2395"
      ]
     },
     "execution_count": 1887,
     "metadata": {},
     "output_type": "execute_result"
    }
   ],
   "source": [
    "Job_Type_list=[]\n",
    "for elmnt in df['Job Type']:\n",
    "    if len(elmnt.split())==1:\n",
    "        if elmnt not in inconsistant_Job_Type_Elements_1:\n",
    "            Job_Type_list.append(elmnt)\n",
    "        else:\n",
    "            Job_Type_list.append('Not specified')\n",
    "len(Job_Type_list)"
   ]
  },
  {
   "cell_type": "code",
   "execution_count": 1888,
   "id": "ed7fdedc-b57f-4b4f-967b-c50b031dd3e6",
   "metadata": {},
   "outputs": [
    {
     "data": {
      "text/plain": [
       "5692"
      ]
     },
     "execution_count": 1888,
     "metadata": {},
     "output_type": "execute_result"
    }
   ],
   "source": [
    "Job_Type_list=[]\n",
    "for elmnt in df['Job Type']:\n",
    "    if len(elmnt.split('·'))==2 or len(elmnt.split('\\n\\n \\n'))==2:\n",
    "        if elmnt not in inconsistant_Job_Type_Elements_2:\n",
    "            if '·' in elmnt:\n",
    "                Job_Type_list.append(elmnt.split('·')[0])\n",
    "            elif '\\n\\n \\n' in elmnt:\n",
    "                Job_Type_list.append(elmnt.split('\\n\\n \\n')[1])\n",
    "            else:\n",
    "                Job_Type_list.append('Not specified')\n",
    "        else:\n",
    "            if 'Full-time' in elmnt:\n",
    "                Job_Type_list.append('Full-time')\n",
    "            else:\n",
    "                Job_Type_list.append('Not specified')\n",
    "\n",
    "len(Job_Type_list) # problem it should be:5693"
   ]
  },
  {
   "cell_type": "code",
   "execution_count": 1889,
   "id": "3fc4c163-df32-4a20-a4cc-e23baa6f5c14",
   "metadata": {},
   "outputs": [
    {
     "data": {
      "text/plain": [
       "['$150/month - $300/month · Full-time',\n",
       " '$200,000/yr · Full-time',\n",
       " '10,001+ employees · Tobacco Manufacturing',\n",
       " 'Full-time\\n\\n \\nMid-Senior level']"
      ]
     },
     "execution_count": 1889,
     "metadata": {},
     "output_type": "execute_result"
    }
   ],
   "source": [
    "inconsistant_Job_Type_Elements_2"
   ]
  },
  {
   "cell_type": "raw",
   "id": "0a28266e-3580-4035-a56d-5c7bd498a151",
   "metadata": {},
   "source": [
    "'5,001-10,000 employees · IT Services and IT Consulting'\n",
    "'10,001+ employees · Food and Beverage Manufacturing'\n",
    "'Full-time\\n\\n \\nEntry level'\n",
    "'Full-time\\n\\n \\nExecutive'\n",
    "'Contract\\n\\n \\nMid-Senior level'\n",
    "'Full-time\\n\\n \\nAssociate'"
   ]
  },
  {
   "cell_type": "code",
   "execution_count": 1890,
   "id": "88d20856-c196-4948-b130-b93ec9b62c75",
   "metadata": {},
   "outputs": [
    {
     "data": {
      "text/plain": [
       "array(['Full-time · Mid-Senior level', 'Internship · Internship',\n",
       "       'Full-time · Associate', 'Full-time · Entry level',\n",
       "       'Full-time · Internship', 'Contract · Mid-Senior level',\n",
       "       'Contract · Associate', '$150/month - $300/month · Full-time',\n",
       "       'Full-time · Director', 'Part-time · Associate',\n",
       "       'Part-time · Executive', 'Contract · Executive',\n",
       "       'Part-time · Mid-Senior level', 'Contract · Entry level',\n",
       "       'Temporary · Mid-Senior level', 'Full-time · Executive',\n",
       "       'Part-time · Internship', 'Internship · Mid-Senior level',\n",
       "       '$200,000/yr · Full-time', 'Part-time · Entry level',\n",
       "       '10,001+ employees · Tobacco Manufacturing',\n",
       "       'On-site\\n\\n \\nFull-time', 'Remote\\n\\n \\nFull-time',\n",
       "       'Full-time\\n\\n \\nMid-Senior level', 'On-site\\n\\n \\nPart-time',\n",
       "       'Hybrid\\n\\n \\nFull-time', 'Remote\\n\\n \\nInternship',\n",
       "       'On-site\\n\\n \\nInternship', 'Remote\\n\\n \\nContract',\n",
       "       'Remote\\n\\n \\nPart-time', 'Full-time\\n\\n \\nEntry level',\n",
       "       'Hybrid\\n\\n \\nContract', 'Hybrid\\n\\n \\nPart-time',\n",
       "       'On-site\\n\\n \\nContract', 'Contract\\n\\n \\nMid-Senior level',\n",
       "       'Full-time\\n\\n \\nExecutive', 'Hybrid\\n\\n \\nTemporary',\n",
       "       'On-site\\n\\n \\nVolunteer', 'Remote\\n\\n \\nVolunteer',\n",
       "       'Hybrid\\n\\n \\nInternship', 'Full-time\\n\\n \\nInternship',\n",
       "       'On-site\\n\\n \\nTemporary', 'Remote\\n\\n \\nTemporary',\n",
       "       'Full-time\\n\\n \\nAssociate',\n",
       "       '5,001-10,000 employees · IT Services and IT Consulting',\n",
       "       '11-50 employees',\n",
       "       '10,001+ employees · Food and Beverage Manufacturing',\n",
       "       'Hybrid\\n\\n \\nVolunteer', 'Remote\\n\\n \\nMid-Senior level',\n",
       "       'Full-time\\n\\n \\nDirector', 'On-site\\n\\n \\nExecutive',\n",
       "       'Contract\\n\\n \\nEntry level'], dtype=object)"
      ]
     },
     "execution_count": 1890,
     "metadata": {},
     "output_type": "execute_result"
    }
   ],
   "source": [
    "df[df['Job Type nElements']==2]['Job Type'].unique()"
   ]
  },
  {
   "cell_type": "code",
   "execution_count": 1891,
   "id": "14139a06-e6fe-45e7-b850-4d8f85a57d59",
   "metadata": {},
   "outputs": [
    {
     "data": {
      "text/plain": [
       "3633"
      ]
     },
     "execution_count": 1891,
     "metadata": {},
     "output_type": "execute_result"
    }
   ],
   "source": [
    "Job_Type_list=[]\n",
    "for elmnt in df['Job Type']:\n",
    "    if len(elmnt.split('·'))==3 or len(elmnt.split('\\n\\n \\n'))==3:\n",
    "        if elmnt not in inconsistant_Job_Type_Elements_3:\n",
    "            Job_Type_list.append(elmnt.split('\\n\\n \\n')[1])\n",
    "        else:\n",
    "            if 'Full-time' in elmnt:\n",
    "                Job_Type_list.append('Full-time')\n",
    "            else:\n",
    "                Job_Type_list.append('Not specified')\n",
    "len(Job_Type_list)"
   ]
  },
  {
   "cell_type": "code",
   "execution_count": 1892,
   "id": "fe679824-6056-4185-850b-cc19e10b9046",
   "metadata": {},
   "outputs": [
    {
     "data": {
      "text/plain": [
       "18"
      ]
     },
     "execution_count": 1892,
     "metadata": {},
     "output_type": "execute_result"
    }
   ],
   "source": [
    "Job_Type_list=[]\n",
    "for elmnt in df['Job Type']:\n",
    "    if len(elmnt.split())==7:\n",
    "        Job_Type_list.append('Not specified')\n",
    "len(Job_Type_list) # problem it should be 3"
   ]
  },
  {
   "cell_type": "code",
   "execution_count": 1893,
   "id": "7d220a0f-fa82-487a-969d-9994ff5caa61",
   "metadata": {},
   "outputs": [
    {
     "data": {
      "text/plain": [
       "16"
      ]
     },
     "execution_count": 1893,
     "metadata": {},
     "output_type": "execute_result"
    }
   ],
   "source": [
    "13+3 # it hase two extra values"
   ]
  },
  {
   "cell_type": "code",
   "execution_count": 1894,
   "id": "d2e3e81a-3a3c-43d9-991a-fe0a81384a9c",
   "metadata": {},
   "outputs": [
    {
     "data": {
      "text/plain": [
       "Job Type nElements\n",
       "2    5693\n",
       "3    3633\n",
       "1    2395\n",
       "4      13\n",
       "7       3\n",
       "Name: count, dtype: int64"
      ]
     },
     "execution_count": 1894,
     "metadata": {},
     "output_type": "execute_result"
    }
   ],
   "source": [
    "df['Job Type nElements'].value_counts()"
   ]
  },
  {
   "cell_type": "code",
   "execution_count": null,
   "id": "568fba38-f202-4d34-93de-d64c149ebe12",
   "metadata": {},
   "outputs": [],
   "source": []
  },
  {
   "cell_type": "code",
   "execution_count": 1895,
   "id": "a7afd463-a6de-4d09-a32d-6762ed64db8e",
   "metadata": {},
   "outputs": [],
   "source": [
    "Job_Type_list=[]\n",
    "for elmnt in df['Job Type']:\n",
    "    if len(elmnt.split())==1:\n",
    "        if elmnt not in inconsistant_Job_Type_Elements_1:\n",
    "            Job_Type_list.append(elmnt)\n",
    "        else:\n",
    "            Job_Type_list.append('Not specified')\n",
    "    if len(elmnt.split('·'))==2 or len(elmnt.split('\\n\\n \\n'))==2:\n",
    "        if elmnt not in inconsistant_Job_Type_Elements_2:\n",
    "            if '·' in elmnt:\n",
    "                Job_Type_list.append(elmnt.split('·')[0])\n",
    "            elif '\\n\\n \\n' in elmnt:\n",
    "                Job_Type_list.append(elmnt.split('\\n\\n \\n')[1])\n",
    "            else:\n",
    "                Job_Type_list.append('Not specified')\n",
    "        else:\n",
    "            if 'Full-time' in elmnt:\n",
    "                Job_Type_list.append('Full-time')\n",
    "            else:\n",
    "                Job_Type_list.append('Not specified')\n",
    "    if len(elmnt.split('·'))==3 or len(elmnt.split('\\n\\n \\n'))==3:\n",
    "        if elmnt not in inconsistant_Job_Type_Elements_3:\n",
    "            Job_Type_list.append(elmnt.split('\\n\\n \\n')[1])\n",
    "        else:\n",
    "            if 'Full-time' in elmnt:\n",
    "                Job_Type_list.append('Full-time')\n",
    "            else:\n",
    "                Job_Type_list.append('Not specified')\n",
    "    if len(elmnt.split())==7:\n",
    "        Job_Type_list.append('Not specified')"
   ]
  },
  {
   "cell_type": "code",
   "execution_count": 1896,
   "id": "6d2ad1f1-75d0-4b94-aae5-89d909524c8c",
   "metadata": {},
   "outputs": [
    {
     "data": {
      "text/plain": [
       "11738"
      ]
     },
     "execution_count": 1896,
     "metadata": {},
     "output_type": "execute_result"
    }
   ],
   "source": [
    "len(Job_Type_list)"
   ]
  },
  {
   "cell_type": "raw",
   "id": "595c5a45-b824-4bac-ab03-bf85ddfaac04",
   "metadata": {},
   "source": [
    "df.loc[:,'Job-Type']=Job_Type_list\n",
    "# ValueError: Length of values (11738) does not match length of index (11737)"
   ]
  },
  {
   "cell_type": "raw",
   "id": "e04c315a-51ab-4547-a028-74f7e306fd64",
   "metadata": {},
   "source": [
    "df['Job-Type'].unique()"
   ]
  },
  {
   "cell_type": "raw",
   "id": "0a3603a3-73f2-4221-b0bd-7e777cbfe257",
   "metadata": {},
   "source": [
    "df.loc[:,'Job-Type'] = df['Job-Type'].replace(['Full-time ','Internship ','Part-time ','Contract '],['Full-time','Internship','Part-time','Contract'])"
   ]
  },
  {
   "cell_type": "raw",
   "id": "67e5fa2b-ca3a-4c21-a1ca-761b2aa964d2",
   "metadata": {},
   "source": [
    "df['Job-Type'].unique()\n",
    "# len(df['Job-Type'].unique())"
   ]
  },
  {
   "cell_type": "code",
   "execution_count": 1897,
   "id": "d68368da-6561-49e4-9bf1-63c74b071555",
   "metadata": {},
   "outputs": [
    {
     "data": {
      "text/plain": [
       "['Internship',\n",
       " 'Full-time',\n",
       " 'Part-time',\n",
       " 'Contract',\n",
       " 'Temporary',\n",
       " 'Volunteer',\n",
       " 'Other']"
      ]
     },
     "execution_count": 1897,
     "metadata": {},
     "output_type": "execute_result"
    }
   ],
   "source": [
    "Job_type_options=['Internship','Full-time','Part-time','Contract','Temporary','Volunteer','Other']\n",
    "Job_type_options\n",
    "# len(Job_type_options)\n",
    "# 'Internship' placed at first due to avoid collision in experience level"
   ]
  },
  {
   "cell_type": "raw",
   "id": "96e065bf-a40f-4ac9-a148-4e13b10f1a3d",
   "metadata": {},
   "source": [
    "df['Job-Type'].value_counts()"
   ]
  },
  {
   "cell_type": "markdown",
   "id": "d38ec7fd-b1b7-45b9-a248-93b2d53c4c73",
   "metadata": {},
   "source": [
    "### new way to extract Job-Type"
   ]
  },
  {
   "cell_type": "code",
   "execution_count": 1898,
   "id": "041cb3d6-48ba-41f8-bf3a-fb05f312ac26",
   "metadata": {},
   "outputs": [
    {
     "data": {
      "text/plain": [
       "11712"
      ]
     },
     "execution_count": 1898,
     "metadata": {},
     "output_type": "execute_result"
    }
   ],
   "source": [
    "filtered_df = df[df['Job Type'].apply(lambda job_type: any(keyword in job_type for keyword in Job_type_options))]\n",
    "filtered_df\n",
    "len(filtered_df)"
   ]
  },
  {
   "cell_type": "code",
   "execution_count": 1899,
   "id": "5565b5cb-467f-4718-b98e-57b3df96a274",
   "metadata": {},
   "outputs": [
    {
     "data": {
      "text/plain": [
       "25"
      ]
     },
     "execution_count": 1899,
     "metadata": {},
     "output_type": "execute_result"
    }
   ],
   "source": [
    "len(df)-len(filtered_df)"
   ]
  },
  {
   "cell_type": "code",
   "execution_count": 1900,
   "id": "54cfeb5e-1ff4-411b-a33e-dce62ce1385e",
   "metadata": {},
   "outputs": [
    {
     "data": {
      "text/plain": [
       "True"
      ]
     },
     "execution_count": 1900,
     "metadata": {},
     "output_type": "execute_result"
    }
   ],
   "source": [
    "x=lambda job_type: any(keyword in job_type for keyword in Job_type_options)\n",
    "x('Full-time · Mid-Senior level')                       "
   ]
  },
  {
   "cell_type": "code",
   "execution_count": 1901,
   "id": "9222ab5d-3f10-47ba-9c50-370275b84006",
   "metadata": {},
   "outputs": [
    {
     "data": {
      "text/plain": [
       "['Full-time']"
      ]
     },
     "execution_count": 1901,
     "metadata": {},
     "output_type": "execute_result"
    }
   ],
   "source": [
    "#we can write the above lambda function by this way\n",
    "# def check_keywords(job_type, keyword_options):\n",
    "#     for keyword in keyword_options:\n",
    "#         if keyword in job_type:\n",
    "#             return True\n",
    "#     return False\n",
    "\n",
    "# # Example usage:\n",
    "# Job_type_options = [\"keyword1\", \"keyword2\", \"keyword3\"]\n",
    "# job_type = \"Some job title with keyword2\"\n",
    "\n",
    "# result = check_keywords(job_type, Job_type_options)\n",
    "# print(result)\n",
    "job_info = \"Full-time · Mid-Senior level\"\n",
    "job_type_list=[]\n",
    "job_type=None\n",
    "flag=0\n",
    "for keyword in Job_type_options:\n",
    "    if keyword in job_info:\n",
    "        job_type=keyword\n",
    "        flag=1\n",
    "        # break\n",
    "    else:\n",
    "        pass\n",
    "        # flag=0\n",
    "if flag==1:\n",
    "    job_type_list.append(job_type)\n",
    "else:\n",
    "    job_type_list.append('Not specified')\n",
    "            \n",
    "\n",
    "job_type_list"
   ]
  },
  {
   "cell_type": "code",
   "execution_count": 1902,
   "id": "115e8ec5-283e-432e-a2f4-6b21012427dc",
   "metadata": {},
   "outputs": [
    {
     "data": {
      "text/plain": [
       "11737"
      ]
     },
     "execution_count": 1902,
     "metadata": {},
     "output_type": "execute_result"
    }
   ],
   "source": [
    "Job_Type_list=[]\n",
    "for i in range(len(df['Job Type'].iloc[:])):\n",
    "    job_type=None\n",
    "    flag=0\n",
    "    for keyword in Job_type_options:\n",
    "        if keyword in df['Job Type'].iloc[i]:\n",
    "            job_type=keyword\n",
    "            flag=1\n",
    "            # break\n",
    "        else:\n",
    "            pass\n",
    "            # flag=0\n",
    "    if flag==1:\n",
    "        Job_Type_list.append(job_type)\n",
    "    else:\n",
    "        Job_Type_list.append('Not specified')\n",
    "\n",
    "Job_Type_list\n",
    "len(Job_Type_list)"
   ]
  },
  {
   "cell_type": "code",
   "execution_count": 1903,
   "id": "c0457ed1-e4b5-4639-95f3-b4ab36108a5d",
   "metadata": {},
   "outputs": [
    {
     "data": {
      "text/plain": [
       "{'Contract',\n",
       " 'Full-time',\n",
       " 'Internship',\n",
       " 'Not specified',\n",
       " 'Part-time',\n",
       " 'Temporary',\n",
       " 'Volunteer'}"
      ]
     },
     "execution_count": 1903,
     "metadata": {},
     "output_type": "execute_result"
    }
   ],
   "source": [
    "set(Job_Type_list)"
   ]
  },
  {
   "cell_type": "markdown",
   "id": "55111878-1a45-4894-9aee-db31373084fb",
   "metadata": {},
   "source": [
    "#### for verification"
   ]
  },
  {
   "cell_type": "code",
   "execution_count": 1904,
   "id": "76e12461-1701-4e23-946e-e3b44bb820c5",
   "metadata": {},
   "outputs": [
    {
     "data": {
      "text/plain": [
       "25"
      ]
     },
     "execution_count": 1904,
     "metadata": {},
     "output_type": "execute_result"
    }
   ],
   "source": [
    "Job_Type_list.count('Not specified')"
   ]
  },
  {
   "cell_type": "code",
   "execution_count": 1905,
   "id": "a4724c6f-dce1-43b1-8e27-b60654ac0f10",
   "metadata": {},
   "outputs": [
    {
     "data": {
      "text/plain": [
       "True"
      ]
     },
     "execution_count": 1905,
     "metadata": {},
     "output_type": "execute_result"
    }
   ],
   "source": [
    "len(df)-Job_Type_list.count('Not specified')==len(df)-Job_Type_list.count('Not specified')"
   ]
  },
  {
   "cell_type": "code",
   "execution_count": 1906,
   "id": "d711c930-0eb6-460e-9a50-e4def9cd5dca",
   "metadata": {},
   "outputs": [
    {
     "data": {
      "text/plain": [
       "11712"
      ]
     },
     "execution_count": 1906,
     "metadata": {},
     "output_type": "execute_result"
    }
   ],
   "source": [
    "11737-25"
   ]
  },
  {
   "cell_type": "code",
   "execution_count": 1907,
   "id": "2f8aab0f-ed14-4fd3-9cdc-56e24f9dd942",
   "metadata": {},
   "outputs": [
    {
     "data": {
      "text/plain": [
       "Job Title                                             My Pay Lead MENAP\n",
       "Job Info              Mondelēz International · Karāchi, Sindh, Pakis...\n",
       "Job Type              10,001+ employees · Food and Beverage Manufact...\n",
       "Job Link                  https://www.linkedin.com/jobs/view/3746235031\n",
       "employees                                     1 company alum works here\n",
       "Job ID                                                       3746235031\n",
       "company                                         Mondelēz International \n",
       "location                 Karāchi, Sindh, Pakistan  \\n3 minutes ago\\n\\n \n",
       "Remote/Onsite                                             Not specified\n",
       "n_applicant                                                           8\n",
       "job posting time                                          3 minutes ago\n",
       "Job Type nElements                                                    2\n",
       "Name: 9389, dtype: object"
      ]
     },
     "execution_count": 1907,
     "metadata": {},
     "output_type": "execute_result"
    }
   ],
   "source": [
    "df[df['Job Type']=='10,001+ employees · Food and Beverage Manufacturing'].iloc[0] #'Part-time · Mid-Senior level'"
   ]
  },
  {
   "cell_type": "markdown",
   "id": "720bc0b4-ef06-4c68-a0d3-fc78e08e0457",
   "metadata": {},
   "source": [
    "***working good***"
   ]
  },
  {
   "cell_type": "code",
   "execution_count": 1908,
   "id": "9ef952f5-ab6b-49e3-b415-aaaa2f835523",
   "metadata": {},
   "outputs": [],
   "source": [
    "df.loc[:,'Job-Type']=Job_Type_list"
   ]
  },
  {
   "cell_type": "code",
   "execution_count": 1909,
   "id": "a42eb971-3919-4e03-b3d2-816cfdc65dba",
   "metadata": {},
   "outputs": [
    {
     "data": {
      "text/plain": [
       "array(['Full-time', 'Internship', 'Part-time', 'Contract',\n",
       "       'Not specified', 'Temporary', 'Volunteer'], dtype=object)"
      ]
     },
     "execution_count": 1909,
     "metadata": {},
     "output_type": "execute_result"
    }
   ],
   "source": [
    "df['Job-Type'].unique()\n"
   ]
  },
  {
   "cell_type": "code",
   "execution_count": 1910,
   "id": "8fd5a547-25f7-4d65-96f5-72901274f0c1",
   "metadata": {},
   "outputs": [
    {
     "data": {
      "text/plain": [
       "7"
      ]
     },
     "execution_count": 1910,
     "metadata": {},
     "output_type": "execute_result"
    }
   ],
   "source": [
    "len(df['Job-Type'].unique())"
   ]
  },
  {
   "cell_type": "code",
   "execution_count": 1911,
   "id": "5afb53cd-e171-4859-8595-8aed789cd396",
   "metadata": {},
   "outputs": [
    {
     "data": {
      "text/plain": [
       "Job-Type\n",
       "Full-time        11073\n",
       "Contract           277\n",
       "Part-time          211\n",
       "Internship         128\n",
       "Not specified       25\n",
       "Temporary           18\n",
       "Volunteer            5\n",
       "Name: count, dtype: int64"
      ]
     },
     "execution_count": 1911,
     "metadata": {},
     "output_type": "execute_result"
    }
   ],
   "source": [
    "df['Job-Type'].value_counts()"
   ]
  },
  {
   "cell_type": "markdown",
   "id": "5905af77-12ad-4b8d-bdae-351eb387682e",
   "metadata": {},
   "source": [
    "### extarcting Experience level from df['Job Type']"
   ]
  },
  {
   "cell_type": "code",
   "execution_count": 1912,
   "id": "0cd1d792-4f73-4a73-8424-04809d590684",
   "metadata": {},
   "outputs": [],
   "source": [
    "Job_Type_list=[]\n",
    "for elmnt in df['Job Type']:\n",
    "    if len(elmnt.split())==1:\n",
    "        if elmnt in inconsistant_Job_Type_Elements_1:\n",
    "            if elmnt=='Executive':\n",
    "                Job_Type_list.append(elmnt)\n",
    "        else:\n",
    "            Job_Type_list.append('Not specified')\n",
    "    if len(elmnt.split('·'))==2 or len(elmnt.split('\\n\\n \\n'))==2:\n",
    "        if elmnt not in inconsistant_Job_Type_Elements_2:\n",
    "            if '·' in elmnt:\n",
    "                Job_Type_list.append(elmnt.split('·')[1])\n",
    "            # elif '\\n\\n \\n' in elmnt:\n",
    "            #     Job_Type_list.append(elmnt.split('\\n\\n \\n')[2])\n",
    "            else:\n",
    "                Job_Type_list.append('Not specified')\n",
    "        else:\n",
    "            if 'Mid-Senior level' in elmnt:\n",
    "                Job_Type_list.append('Mid-Senior level')\n",
    "            else:\n",
    "                Job_Type_list.append('Not specified')\n",
    "                \n",
    "    if len(elmnt.split('·'))==3 or len(elmnt.split('\\n\\n \\n'))==3:\n",
    "        if elmnt not in inconsistant_Job_Type_Elements_3:\n",
    "            Job_Type_list.append(elmnt.split('\\n\\n \\n')[2])\n",
    "        else:\n",
    "            # if 'Mid-Senior level' in inconsistant_Job: due to this problem not sepecified is in list \n",
    "            if 'Mid-Senior level' in elmnt:  \n",
    "                Job_Type_list.append('Mid-Senior level')\n",
    "            else:\n",
    "                Job_Type_list.append('Not specified')\n",
    "    if len(elmnt.split())==7:\n",
    "        Job_Type_list.append('Not specified')"
   ]
  },
  {
   "cell_type": "code",
   "execution_count": 1913,
   "id": "ac3cca35-107a-4645-901b-35ed8fedd3cc",
   "metadata": {},
   "outputs": [
    {
     "data": {
      "text/plain": [
       "11738"
      ]
     },
     "execution_count": 1913,
     "metadata": {},
     "output_type": "execute_result"
    }
   ],
   "source": [
    "len(Job_Type_list)"
   ]
  },
  {
   "cell_type": "code",
   "execution_count": 1914,
   "id": "f6666727-e38b-429c-aba2-f16a5913ee73",
   "metadata": {},
   "outputs": [
    {
     "data": {
      "text/plain": [
       "{' Associate',\n",
       " ' Director',\n",
       " ' Entry level',\n",
       " ' Executive',\n",
       " ' Food and Beverage Manufacturing',\n",
       " ' IT Services and IT Consulting',\n",
       " ' Internship',\n",
       " ' Mid-Senior level',\n",
       " 'Associate',\n",
       " 'Contract',\n",
       " 'Director',\n",
       " 'Entry level',\n",
       " 'Executive',\n",
       " 'Full-time',\n",
       " 'Internship',\n",
       " 'Mid-Senior level',\n",
       " 'Not specified'}"
      ]
     },
     "execution_count": 1914,
     "metadata": {},
     "output_type": "execute_result"
    }
   ],
   "source": [
    "set(Job_Type_list)"
   ]
  },
  {
   "cell_type": "raw",
   "id": "b9d93526-17b2-48d2-8319-f54d48460403",
   "metadata": {},
   "source": [
    "df.loc[:,'Experience Level']=Job_Type_list\n",
    "ValueError: Length of values (11738) does not match length of index (11737)"
   ]
  },
  {
   "cell_type": "raw",
   "id": "6fa4f3dd-4b10-4ba2-8dd0-5839ad0e8e14",
   "metadata": {},
   "source": [
    "df.loc[:,'Experience Level'] = df['Experience Level'].replace([' Mid-Senior level',' Associate',' Entry level',' Director',' Executive',' Internship'],['Mid-Senior level','Associate','Entry level','Director','Executive','Internship'])"
   ]
  },
  {
   "cell_type": "raw",
   "id": "e09afb5f-4391-4c07-b971-81e72ef7936f",
   "metadata": {},
   "source": [
    "df['Experience Level'].unique()\n",
    "# len(df['Experience Level'].unique())"
   ]
  },
  {
   "cell_type": "code",
   "execution_count": 1915,
   "id": "7acd2d7b-1c5b-45e2-a64b-3ee8962381d1",
   "metadata": {},
   "outputs": [
    {
     "data": {
      "text/plain": [
       "['Internship',\n",
       " 'Entry level',\n",
       " 'Associate',\n",
       " 'Mid-Senior level',\n",
       " 'Director',\n",
       " 'Executive']"
      ]
     },
     "execution_count": 1915,
     "metadata": {},
     "output_type": "execute_result"
    }
   ],
   "source": [
    "Experience_level_options=['Internship','Entry level','Associate','Mid-Senior level','Director','Executive']\n",
    "Experience_level_options\n",
    "# len(Experience_level_options)"
   ]
  },
  {
   "cell_type": "raw",
   "id": "51194112-dcf7-42cc-b96a-3676612ff383",
   "metadata": {},
   "source": [
    "df['Experience Level'].value_counts()"
   ]
  },
  {
   "cell_type": "markdown",
   "id": "750052e8-c4c0-446d-b661-9e28a0b8c228",
   "metadata": {},
   "source": [
    "### new way to extract Experience Level"
   ]
  },
  {
   "cell_type": "code",
   "execution_count": 1916,
   "id": "b34e61a2-8a3f-4ee3-8f22-773ce1995c91",
   "metadata": {},
   "outputs": [
    {
     "data": {
      "text/plain": [
       "array(['$12,000/yr - $15,000/yr · Full-time · Mid-Senior level',\n",
       "       'On-site\\n\\n \\nFull-time\\n\\n \\nMid-Senior level',\n",
       "       'Hybrid\\n\\n \\nFull-time\\n\\n \\nMid-Senior level',\n",
       "       'Remote\\n\\n \\nFull-time\\n\\n \\nMid-Senior level',\n",
       "       'On-site\\n\\n \\nFull-time\\n\\n \\nAssociate',\n",
       "       'Hybrid\\n\\n \\nFull-time\\n\\n \\nEntry level',\n",
       "       'Hybrid\\n\\n \\nFull-time\\n\\n \\nDirector',\n",
       "       'On-site\\n\\n \\nFull-time\\n\\n \\nEntry level',\n",
       "       'Hybrid\\n\\n \\nFull-time\\n\\n \\nAssociate',\n",
       "       'Remote\\n\\n \\nContract\\n\\n \\nMid-Senior level',\n",
       "       'On-site\\n\\n \\nFull-time\\n\\n \\nDirector',\n",
       "       'On-site\\n\\n \\nFull-time\\n\\n \\nExecutive',\n",
       "       'Remote\\n\\n \\nFull-time\\n\\n \\nEntry level',\n",
       "       'On-site\\n\\n \\nContract\\n\\n \\nMid-Senior level',\n",
       "       'Remote\\n\\n \\nFull-time\\n\\n \\nAssociate',\n",
       "       'On-site\\n\\n \\nContract\\n\\n \\nEntry level',\n",
       "       'On-site\\n\\n \\nFull-time\\n\\n \\nInternship',\n",
       "       'Remote\\n\\n \\nPart-time\\n\\n \\nAssociate',\n",
       "       'Remote\\n\\n \\nContract\\n\\n \\nEntry level',\n",
       "       'On-site\\n\\n \\nContract\\n\\n \\nAssociate',\n",
       "       'Remote\\n\\n \\nFull-time\\n\\n \\nDirector',\n",
       "       'On-site\\n\\n \\nContract\\n\\n \\nInternship',\n",
       "       'Remote\\n\\n \\nInternship\\n\\n \\nMid-Senior level',\n",
       "       'Hybrid\\n\\n \\nContract\\n\\n \\nMid-Senior level',\n",
       "       'Remote\\n\\n \\nPart-time\\n\\n \\nEntry level',\n",
       "       'Remote\\n\\n \\nPart-time\\n\\n \\nExecutive',\n",
       "       'On-site\\n\\n \\nInternship\\n\\n \\nEntry level',\n",
       "       'Remote\\n\\n \\nFull-time\\n\\n \\nExecutive',\n",
       "       'On-site\\n\\n \\nInternship\\n\\n \\nInternship',\n",
       "       'On-site\\n\\n \\nPart-time\\n\\n \\nEntry level',\n",
       "       'Hybrid\\n\\n \\nContract\\n\\n \\nEntry level',\n",
       "       '$180/month - $250/month\\n\\n \\nRemote\\n\\n \\nFull-time',\n",
       "       'Remote\\n\\n \\nContract\\n\\n \\nAssociate',\n",
       "       'Remote\\n\\n \\nTemporary\\n\\n \\nEntry level',\n",
       "       'On-site\\n\\n \\nContract\\n\\n \\nExecutive',\n",
       "       '$1,500/month - $1,800/month\\n\\n \\nRemote\\n\\n \\nFull-time',\n",
       "       '$500/month - $1,000/month\\n\\n \\nHybrid\\n\\n \\nContract',\n",
       "       'Remote\\n\\n \\nPart-time\\n\\n \\nMid-Senior level',\n",
       "       '$30,000/month - $60,000/month\\n\\n \\nHybrid\\n\\n \\nFull-time',\n",
       "       'Remote\\n\\n \\nPart-time\\n\\n \\nDirector',\n",
       "       'Hybrid\\n\\n \\nContract\\n\\n \\nInternship',\n",
       "       'On-site\\n\\n \\nPart-time\\n\\n \\nMid-Senior level',\n",
       "       'On-site\\n\\n \\nTemporary\\n\\n \\nEntry level',\n",
       "       'Hybrid\\n\\n \\nInternship\\n\\n \\nInternship',\n",
       "       'Remote\\n\\n \\nInternship\\n\\n \\nInternship',\n",
       "       '$1,000/month - $2,500/month\\n\\n \\nOn-site\\n\\n \\nFull-time',\n",
       "       '$50,000/month - $70,000/month + Commission\\n\\n \\nOn-site\\n\\n \\nFull-time',\n",
       "       'On-site\\n\\n \\nInternship\\n\\n \\nDirector',\n",
       "       'Hybrid\\n\\n \\nFull-time\\n\\n \\nExecutive',\n",
       "       'On-site\\n\\n \\nTemporary\\n\\n \\nInternship',\n",
       "       'Hybrid\\n\\n \\nFull-time\\n\\n \\nInternship',\n",
       "       'On-site\\n\\n \\nTemporary\\n\\n \\nMid-Senior level',\n",
       "       'Hybrid\\n\\n \\nInternship\\n\\n \\nMid-Senior level'], dtype=object)"
      ]
     },
     "execution_count": 1916,
     "metadata": {},
     "output_type": "execute_result"
    }
   ],
   "source": [
    "df[df['Job Type nElements']==3]['Job Type']\n",
    "df[df['Job Type nElements']==3]['Job Type'].unique()"
   ]
  },
  {
   "cell_type": "code",
   "execution_count": 1917,
   "id": "812b045a-c0fb-4ca7-b161-be0de7c7cac6",
   "metadata": {},
   "outputs": [
    {
     "data": {
      "text/plain": [
       "5055"
      ]
     },
     "execution_count": 1917,
     "metadata": {},
     "output_type": "execute_result"
    }
   ],
   "source": [
    "filtered_df = df[df['Job Type'].apply(lambda job_type: any(keyword in job_type for keyword in Experience_level_options))]\n",
    "filtered_df\n",
    "len(filtered_df)"
   ]
  },
  {
   "cell_type": "code",
   "execution_count": 1918,
   "id": "0f1d99af-b089-4333-94d1-19a3fd6ef926",
   "metadata": {},
   "outputs": [
    {
     "data": {
      "text/plain": [
       "6682"
      ]
     },
     "execution_count": 1918,
     "metadata": {},
     "output_type": "execute_result"
    }
   ],
   "source": [
    "len(df)-len(filtered_df)"
   ]
  },
  {
   "cell_type": "code",
   "execution_count": 1919,
   "id": "65a1373b-3210-4490-9d2a-1f1d755aad73",
   "metadata": {},
   "outputs": [
    {
     "data": {
      "text/plain": [
       "11737"
      ]
     },
     "execution_count": 1919,
     "metadata": {},
     "output_type": "execute_result"
    }
   ],
   "source": [
    "Job_Type_list=[]\n",
    "for i in range(len(df['Job Type'].iloc[:])):\n",
    "    job_type=None\n",
    "    flag=0\n",
    "    for keyword in Experience_level_options:\n",
    "        if keyword in df['Job Type'].iloc[i]:\n",
    "            job_type=keyword\n",
    "            flag=1\n",
    "            # break\n",
    "        else:\n",
    "            pass\n",
    "            # flag=0\n",
    "    if flag==1:\n",
    "        Job_Type_list.append(job_type)\n",
    "    else:\n",
    "        Job_Type_list.append('Not specified')\n",
    "\n",
    "Job_Type_list\n",
    "len(Job_Type_list)"
   ]
  },
  {
   "cell_type": "code",
   "execution_count": 1920,
   "id": "d10ea451-4ced-4f2d-ad29-cd9947b08497",
   "metadata": {},
   "outputs": [
    {
     "data": {
      "text/plain": [
       "{'Associate',\n",
       " 'Director',\n",
       " 'Entry level',\n",
       " 'Executive',\n",
       " 'Internship',\n",
       " 'Mid-Senior level',\n",
       " 'Not specified'}"
      ]
     },
     "execution_count": 1920,
     "metadata": {},
     "output_type": "execute_result"
    }
   ],
   "source": [
    "set(Job_Type_list)"
   ]
  },
  {
   "cell_type": "markdown",
   "id": "9c8fa981-7c66-450e-be3c-c15aca48961f",
   "metadata": {},
   "source": [
    "### for verification"
   ]
  },
  {
   "cell_type": "code",
   "execution_count": 1921,
   "id": "2f0dd473-e7f8-441e-a7ef-feadf16aa461",
   "metadata": {},
   "outputs": [
    {
     "data": {
      "text/plain": [
       "6682"
      ]
     },
     "execution_count": 1921,
     "metadata": {},
     "output_type": "execute_result"
    }
   ],
   "source": [
    "Job_Type_list.count('Not specified')"
   ]
  },
  {
   "cell_type": "code",
   "execution_count": 1922,
   "id": "7e910f79-3239-4d40-a995-b39e5f7587cb",
   "metadata": {},
   "outputs": [
    {
     "data": {
      "text/plain": [
       "True"
      ]
     },
     "execution_count": 1922,
     "metadata": {},
     "output_type": "execute_result"
    }
   ],
   "source": [
    "len(df)-Job_Type_list.count('Not specified') \n",
    "len(df)-Job_Type_list.count('Not specified')==len(df)-Job_Type_list.count('Not specified')"
   ]
  },
  {
   "cell_type": "code",
   "execution_count": 1923,
   "id": "c59c6ea9-8773-47fb-bcaa-fb83c409f29c",
   "metadata": {},
   "outputs": [
    {
     "data": {
      "text/plain": [
       "Job Title             Senior Consultant- Business Consulting- Intern...\n",
       "Job Info              EY in Pakistan  · Karachi Division, Sindh, Pak...\n",
       "Job Type                 Hybrid\\n\\n \\nInternship\\n\\n \\nMid-Senior level\n",
       "Job Link                  https://www.linkedin.com/jobs/view/3767944882\n",
       "employees                            1,001-5,000 employees · Accounting\n",
       "Job ID                                                       3767944882\n",
       "company                                                EY in Pakistan  \n",
       "location               Karachi Division, Sindh, Pakistan  \\n1 week a...\n",
       "Remote/Onsite                                             Not specified\n",
       "n_applicant                                                           6\n",
       "job posting time                                             1 week ago\n",
       "Job Type nElements                                                    3\n",
       "Job-Type                                                     Internship\n",
       "Name: 15868, dtype: object"
      ]
     },
     "execution_count": 1923,
     "metadata": {},
     "output_type": "execute_result"
    }
   ],
   "source": [
    "df[df['Job Type']=='Hybrid\\n\\n \\nInternship\\n\\n \\nMid-Senior level'].iloc[0] #'$12,000/yr - $15,000/yr · Full-time · Mid-Senior level'"
   ]
  },
  {
   "cell_type": "markdown",
   "id": "da0cf739-ed0b-4f95-8063-f89b92eece99",
   "metadata": {},
   "source": [
    "***working good***"
   ]
  },
  {
   "cell_type": "code",
   "execution_count": 1924,
   "id": "1f787b95-54a1-4613-b1e1-3dd39fa24585",
   "metadata": {},
   "outputs": [],
   "source": [
    "df.loc[:,'Experience Level']=Job_Type_list"
   ]
  },
  {
   "cell_type": "code",
   "execution_count": 1925,
   "id": "e7b6915d-2d29-4a65-be65-39c079260983",
   "metadata": {},
   "outputs": [
    {
     "data": {
      "text/plain": [
       "array(['Not specified', 'Mid-Senior level', 'Internship', 'Associate',\n",
       "       'Entry level', 'Director', 'Executive'], dtype=object)"
      ]
     },
     "execution_count": 1925,
     "metadata": {},
     "output_type": "execute_result"
    }
   ],
   "source": [
    "df['Experience Level'].unique()"
   ]
  },
  {
   "cell_type": "code",
   "execution_count": 1926,
   "id": "f2f437ae-9804-4424-bd35-5db5804d5a9a",
   "metadata": {},
   "outputs": [
    {
     "data": {
      "text/plain": [
       "7"
      ]
     },
     "execution_count": 1926,
     "metadata": {},
     "output_type": "execute_result"
    }
   ],
   "source": [
    "len(df['Experience Level'].unique())"
   ]
  },
  {
   "cell_type": "code",
   "execution_count": 1927,
   "id": "648e4aac-8fb1-4ef3-8712-f166fc7b3327",
   "metadata": {},
   "outputs": [
    {
     "data": {
      "text/plain": [
       "Experience Level\n",
       "Not specified       6682\n",
       "Mid-Senior level    2740\n",
       "Entry level         1153\n",
       "Associate            696\n",
       "Director             212\n",
       "Internship           152\n",
       "Executive            102\n",
       "Name: count, dtype: int64"
      ]
     },
     "execution_count": 1927,
     "metadata": {},
     "output_type": "execute_result"
    }
   ],
   "source": [
    "df['Experience Level'].value_counts()"
   ]
  },
  {
   "cell_type": "markdown",
   "id": "e4d086e5-0642-46fc-ad6e-a6ae7a0e139b",
   "metadata": {},
   "source": [
    "### extracting On-site/remote from Job Type feature"
   ]
  },
  {
   "cell_type": "code",
   "execution_count": 1928,
   "id": "c1445793-7f23-4f9f-8ed0-4c27ab1b86ad",
   "metadata": {},
   "outputs": [],
   "source": [
    "Job_Type_list=[]\n",
    "for elmnt in df['Job Type']:\n",
    "    if len(elmnt.split())==1:\n",
    "        if elmnt not in inconsistant_Job_Type_Elements_1:\n",
    "            Job_Type_list.append('Not specified')\n",
    "        else:\n",
    "            Job_Type_list.append('Not specified')\n",
    "    if len(elmnt.split('·'))==2 or len(elmnt.split('\\n\\n \\n'))==2:\n",
    "        if elmnt not in inconsistant_Job_Type_Elements_2:\n",
    "            if '·' in elmnt:\n",
    "                Job_Type_list.append('Not specified')\n",
    "            elif '\\n\\n \\n' in elmnt:\n",
    "                Job_Type_list.append(elmnt.split('\\n\\n \\n')[0])\n",
    "            else:\n",
    "                Job_Type_list.append('Not specified')\n",
    "        else:\n",
    "            Job_Type_list.append('Not specified')\n",
    "    if len(elmnt.split('·'))==3 or len(elmnt.split('\\n\\n \\n'))==3:\n",
    "        if elmnt not in inconsistant_Job_Type_Elements_3:\n",
    "            Job_Type_list.append(elmnt.split('\\n\\n \\n')[0])\n",
    "        else:\n",
    "            Job_Type_list.append('Not specified')\n",
    "    if len(elmnt.split())==7:\n",
    "        Job_Type_list.append('Not specified')"
   ]
  },
  {
   "cell_type": "markdown",
   "id": "772a78bd-c6fb-4b2c-a654-523621c4a4ee",
   "metadata": {},
   "source": [
    "### new way to extract Remote/Onsite-2"
   ]
  },
  {
   "cell_type": "code",
   "execution_count": 1929,
   "id": "b560d3be-b14b-4876-927d-5f73f71753df",
   "metadata": {},
   "outputs": [
    {
     "data": {
      "text/plain": [
       "array(['Full-time · Mid-Senior level', 'Internship · Internship',\n",
       "       'Full-time · Associate', 'Full-time · Entry level',\n",
       "       'Full-time · Internship', 'Contract · Mid-Senior level',\n",
       "       'Contract · Associate', '$150/month - $300/month · Full-time',\n",
       "       'Full-time · Director', 'Part-time · Associate',\n",
       "       'Part-time · Executive', 'Contract · Executive',\n",
       "       'Part-time · Mid-Senior level', 'Contract · Entry level',\n",
       "       'Temporary · Mid-Senior level', 'Full-time · Executive',\n",
       "       'Part-time · Internship', 'Internship · Mid-Senior level',\n",
       "       '$200,000/yr · Full-time', 'Part-time · Entry level',\n",
       "       '10,001+ employees · Tobacco Manufacturing',\n",
       "       'On-site\\n\\n \\nFull-time', 'Remote\\n\\n \\nFull-time',\n",
       "       'Full-time\\n\\n \\nMid-Senior level', 'On-site\\n\\n \\nPart-time',\n",
       "       'Hybrid\\n\\n \\nFull-time', 'Remote\\n\\n \\nInternship',\n",
       "       'On-site\\n\\n \\nInternship', 'Remote\\n\\n \\nContract',\n",
       "       'Remote\\n\\n \\nPart-time', 'Full-time\\n\\n \\nEntry level',\n",
       "       'Hybrid\\n\\n \\nContract', 'Hybrid\\n\\n \\nPart-time',\n",
       "       'On-site\\n\\n \\nContract', 'Contract\\n\\n \\nMid-Senior level',\n",
       "       'Full-time\\n\\n \\nExecutive', 'Hybrid\\n\\n \\nTemporary',\n",
       "       'On-site\\n\\n \\nVolunteer', 'Remote\\n\\n \\nVolunteer',\n",
       "       'Hybrid\\n\\n \\nInternship', 'Full-time\\n\\n \\nInternship',\n",
       "       'On-site\\n\\n \\nTemporary', 'Remote\\n\\n \\nTemporary',\n",
       "       'Full-time\\n\\n \\nAssociate',\n",
       "       '5,001-10,000 employees · IT Services and IT Consulting',\n",
       "       '11-50 employees',\n",
       "       '10,001+ employees · Food and Beverage Manufacturing',\n",
       "       'Hybrid\\n\\n \\nVolunteer', 'Remote\\n\\n \\nMid-Senior level',\n",
       "       'Full-time\\n\\n \\nDirector', 'On-site\\n\\n \\nExecutive',\n",
       "       'Contract\\n\\n \\nEntry level'], dtype=object)"
      ]
     },
     "execution_count": 1929,
     "metadata": {},
     "output_type": "execute_result"
    }
   ],
   "source": [
    "df[df['Job Type nElements']==2]['Job Type']\n",
    "df[df['Job Type nElements']==2]['Job Type'].unique()"
   ]
  },
  {
   "cell_type": "code",
   "execution_count": 1930,
   "id": "3ef586e2-a8f5-4d47-96c7-2a51f9147b89",
   "metadata": {},
   "outputs": [
    {
     "data": {
      "text/plain": [
       "['On-site', 'Remote', 'Hybrid']"
      ]
     },
     "execution_count": 1930,
     "metadata": {},
     "output_type": "execute_result"
    }
   ],
   "source": [
    "On_site_remote_options=['On-site','Remote','Hybrid']\n",
    "On_site_remote_options\n",
    "# len(On_site_remote_options)"
   ]
  },
  {
   "cell_type": "code",
   "execution_count": 1931,
   "id": "930f1cf9-041a-45be-8dfb-3c94d68c46ce",
   "metadata": {},
   "outputs": [
    {
     "data": {
      "text/plain": [
       "7996"
      ]
     },
     "execution_count": 1931,
     "metadata": {},
     "output_type": "execute_result"
    }
   ],
   "source": [
    "filtered_df = df[df['Job Type'].apply(lambda job_type: any(keyword in job_type for keyword in On_site_remote_options))]\n",
    "filtered_df\n",
    "len(filtered_df)"
   ]
  },
  {
   "cell_type": "code",
   "execution_count": 1932,
   "id": "04579a56-e13b-4351-960b-2acabd616d42",
   "metadata": {},
   "outputs": [
    {
     "data": {
      "text/plain": [
       "3741"
      ]
     },
     "execution_count": 1932,
     "metadata": {},
     "output_type": "execute_result"
    }
   ],
   "source": [
    "len(df)-len(filtered_df)"
   ]
  },
  {
   "cell_type": "code",
   "execution_count": 1933,
   "id": "2a2fa87c-df8b-4ef3-a238-3fe475c895a8",
   "metadata": {},
   "outputs": [
    {
     "data": {
      "text/plain": [
       "11737"
      ]
     },
     "execution_count": 1933,
     "metadata": {},
     "output_type": "execute_result"
    }
   ],
   "source": [
    "Job_Type_list=[]\n",
    "for i in range(len(df['Job Type'].iloc[:])):\n",
    "    job_type=None\n",
    "    flag=0\n",
    "    for keyword in On_site_remote_options:\n",
    "        if keyword in df['Job Type'].iloc[i]:\n",
    "            job_type=keyword\n",
    "            flag=1\n",
    "            # break\n",
    "        else:\n",
    "            pass\n",
    "            # flag=0\n",
    "    if flag==1:\n",
    "        Job_Type_list.append(job_type)\n",
    "    else:\n",
    "        Job_Type_list.append('Not specified')\n",
    "\n",
    "Job_Type_list\n",
    "len(Job_Type_list)"
   ]
  },
  {
   "cell_type": "code",
   "execution_count": 1934,
   "id": "9c55f459-a696-439f-83de-4445958f294c",
   "metadata": {},
   "outputs": [
    {
     "data": {
      "text/plain": [
       "11737"
      ]
     },
     "execution_count": 1934,
     "metadata": {},
     "output_type": "execute_result"
    }
   ],
   "source": [
    "len(Job_Type_list)"
   ]
  },
  {
   "cell_type": "code",
   "execution_count": 1935,
   "id": "b19b63aa-be7f-44ed-98b1-c659bffcdb39",
   "metadata": {},
   "outputs": [
    {
     "data": {
      "text/plain": [
       "{'Hybrid', 'Not specified', 'On-site', 'Remote'}"
      ]
     },
     "execution_count": 1935,
     "metadata": {},
     "output_type": "execute_result"
    }
   ],
   "source": [
    "set(Job_Type_list)"
   ]
  },
  {
   "cell_type": "markdown",
   "id": "66f8bfae-a99f-44eb-891e-6d5313847c3b",
   "metadata": {},
   "source": [
    "### for verification"
   ]
  },
  {
   "cell_type": "code",
   "execution_count": 1936,
   "id": "73cdb64b-98d1-4cf0-94d0-c4a7bedf2f35",
   "metadata": {},
   "outputs": [
    {
     "data": {
      "text/plain": [
       "3741"
      ]
     },
     "execution_count": 1936,
     "metadata": {},
     "output_type": "execute_result"
    }
   ],
   "source": [
    "Job_Type_list.count('Not specified')"
   ]
  },
  {
   "cell_type": "code",
   "execution_count": 1937,
   "id": "807e1de5-186e-489d-b759-8470e08d2f79",
   "metadata": {},
   "outputs": [
    {
     "data": {
      "text/plain": [
       "True"
      ]
     },
     "execution_count": 1937,
     "metadata": {},
     "output_type": "execute_result"
    }
   ],
   "source": [
    "len(df)-Job_Type_list.count('Not specified') \n",
    "len(df)-Job_Type_list.count('Not specified')==len(df)-Job_Type_list.count('Not specified')"
   ]
  },
  {
   "cell_type": "code",
   "execution_count": 1938,
   "id": "82554955-c9ed-4f7a-846c-01974742a233",
   "metadata": {},
   "outputs": [
    {
     "data": {
      "text/plain": [
       "Job Title                              Manager Digital Lending Business\n",
       "Job Info              Allied Bank Limited · Lahore, Punjab, Pakistan...\n",
       "Job Type                                        On-site\\n\\n \\nFull-time\n",
       "Job Link                  https://www.linkedin.com/jobs/view/3734514085\n",
       "employees                                             10,001+ employees\n",
       "Job ID                                                       3734514085\n",
       "company                                            Allied Bank Limited \n",
       "location                    Lahore, Punjab, Pakistan  \\n4 days ago\\n\\n \n",
       "Remote/Onsite                                             Not specified\n",
       "n_applicant                                                         249\n",
       "job posting time                                             4 days ago\n",
       "Job Type nElements                                                    2\n",
       "Job-Type                                                      Full-time\n",
       "Experience Level                                          Not specified\n",
       "Name: 4005, dtype: object"
      ]
     },
     "execution_count": 1938,
     "metadata": {},
     "output_type": "execute_result"
    }
   ],
   "source": [
    "df[df['Job Type']=='On-site\\n\\n \\nFull-time'].iloc[0] #'Hybrid\\n\\n \\nInternship\\n\\n \\nMid-Senior level' '$12,000/yr - $15,000/yr · Full-time · Mid-Senior level'"
   ]
  },
  {
   "cell_type": "code",
   "execution_count": 1939,
   "id": "49211fdb-d9cb-4169-8267-43cfd6f0f834",
   "metadata": {},
   "outputs": [],
   "source": [
    "df.loc[:,'Remote/Onsite-2']=Job_Type_list"
   ]
  },
  {
   "cell_type": "code",
   "execution_count": 1940,
   "id": "639b070f-8bac-4fbb-923d-9d3ba0b163a0",
   "metadata": {},
   "outputs": [
    {
     "data": {
      "text/plain": [
       "array(['Not specified', 'On-site', 'Hybrid', 'Remote'], dtype=object)"
      ]
     },
     "execution_count": 1940,
     "metadata": {},
     "output_type": "execute_result"
    }
   ],
   "source": [
    "df['Remote/Onsite-2'].unique()"
   ]
  },
  {
   "cell_type": "code",
   "execution_count": 1941,
   "id": "708bdd12-09f9-46fe-a88a-f5cf42582684",
   "metadata": {},
   "outputs": [
    {
     "data": {
      "text/plain": [
       "Remote/Onsite-2\n",
       "On-site          5720\n",
       "Not specified    3741\n",
       "Remote           1725\n",
       "Hybrid            551\n",
       "Name: count, dtype: int64"
      ]
     },
     "execution_count": 1941,
     "metadata": {},
     "output_type": "execute_result"
    }
   ],
   "source": [
    "df['Remote/Onsite-2'].value_counts()"
   ]
  },
  {
   "cell_type": "markdown",
   "id": "1f7d7d5b-9561-4e9a-9fb1-72238fc1322b",
   "metadata": {},
   "source": [
    "#### how many are specified in Remote/Onsite-2"
   ]
  },
  {
   "cell_type": "code",
   "execution_count": 1942,
   "id": "aa7d715f-6f1d-4147-8f10-65bd20b1f2ea",
   "metadata": {},
   "outputs": [
    {
     "data": {
      "text/plain": [
       "7996"
      ]
     },
     "execution_count": 1942,
     "metadata": {},
     "output_type": "execute_result"
    }
   ],
   "source": [
    "df['Remote/Onsite-2'].value_counts()['Not specified']\n",
    "len(df)-df['Remote/Onsite-2'].value_counts()['Not specified']"
   ]
  },
  {
   "cell_type": "markdown",
   "id": "78408dc9-b809-4a85-be6e-5591855b85b2",
   "metadata": {},
   "source": [
    "#### how many are specified in Remote/Onsite"
   ]
  },
  {
   "cell_type": "code",
   "execution_count": 1943,
   "id": "2932cad7-915d-4622-8b2d-933aa5cc1a56",
   "metadata": {},
   "outputs": [
    {
     "data": {
      "text/plain": [
       "Remote/Onsite\n",
       "Not specified    8396\n",
       "On-site          2616\n",
       "Remote            525\n",
       "Hybrid            200\n",
       "Name: count, dtype: int64"
      ]
     },
     "execution_count": 1943,
     "metadata": {},
     "output_type": "execute_result"
    }
   ],
   "source": [
    "df['Remote/Onsite'].value_counts()"
   ]
  },
  {
   "cell_type": "code",
   "execution_count": 1944,
   "id": "daaea0f5-b88f-4201-aee2-7ce81e5e6f41",
   "metadata": {},
   "outputs": [
    {
     "data": {
      "text/plain": [
       "3341"
      ]
     },
     "execution_count": 1944,
     "metadata": {},
     "output_type": "execute_result"
    }
   ],
   "source": [
    "len(df)-df['Remote/Onsite'].value_counts()['Not specified']"
   ]
  },
  {
   "cell_type": "markdown",
   "id": "e37058ed-2b40-4cad-b955-5f41994e7d90",
   "metadata": {},
   "source": [
    "#### total Remote/Onsite-2 specified jobs"
   ]
  },
  {
   "cell_type": "code",
   "execution_count": 1945,
   "id": "e22dbc14-796b-4f1f-be72-44bdc033e08b",
   "metadata": {},
   "outputs": [
    {
     "data": {
      "text/plain": [
       "11337"
      ]
     },
     "execution_count": 1945,
     "metadata": {},
     "output_type": "execute_result"
    }
   ],
   "source": [
    "len(df)-df['Remote/Onsite-2'].value_counts()['Not specified']+len(df)-df['Remote/Onsite'].value_counts()['Not specified']\n",
    "# 7996+3341"
   ]
  },
  {
   "cell_type": "code",
   "execution_count": 1946,
   "id": "f943e2cb-3b55-4bae-8482-c8d7e2484a01",
   "metadata": {},
   "outputs": [
    {
     "data": {
      "text/plain": [
       "400"
      ]
     },
     "execution_count": 1946,
     "metadata": {},
     "output_type": "execute_result"
    }
   ],
   "source": [
    "len(df)-11337"
   ]
  },
  {
   "cell_type": "markdown",
   "id": "d6cc86ba-abae-4262-91bb-dc47e98a84bf",
   "metadata": {},
   "source": [
    "***So there are 400 jobs having missing or Not specified Remote/Onsite values***\n",
    "***"
   ]
  },
  {
   "cell_type": "markdown",
   "id": "61d7b4aa-019b-4dae-a636-0badc6a4756e",
   "metadata": {},
   "source": [
    "### merging Remote/Onsite and Remote/Onsite-2"
   ]
  },
  {
   "cell_type": "markdown",
   "id": "7acaa241-70a8-45f9-beaf-8d3f9c27565b",
   "metadata": {},
   "source": [
    "***let us investigate pattern***"
   ]
  },
  {
   "cell_type": "code",
   "execution_count": 1947,
   "id": "35e49efd-398c-4f29-bafc-c729293c483e",
   "metadata": {},
   "outputs": [
    {
     "data": {
      "text/html": [
       "<div>\n",
       "<style scoped>\n",
       "    .dataframe tbody tr th:only-of-type {\n",
       "        vertical-align: middle;\n",
       "    }\n",
       "\n",
       "    .dataframe tbody tr th {\n",
       "        vertical-align: top;\n",
       "    }\n",
       "\n",
       "    .dataframe thead th {\n",
       "        text-align: right;\n",
       "    }\n",
       "</style>\n",
       "<table border=\"1\" class=\"dataframe\">\n",
       "  <thead>\n",
       "    <tr style=\"text-align: right;\">\n",
       "      <th></th>\n",
       "      <th>Job Title</th>\n",
       "      <th>Job Info</th>\n",
       "      <th>Job Type</th>\n",
       "      <th>Job Link</th>\n",
       "      <th>employees</th>\n",
       "      <th>Job ID</th>\n",
       "      <th>company</th>\n",
       "      <th>location</th>\n",
       "      <th>Remote/Onsite</th>\n",
       "      <th>n_applicant</th>\n",
       "      <th>job posting time</th>\n",
       "      <th>Job Type nElements</th>\n",
       "      <th>Job-Type</th>\n",
       "      <th>Experience Level</th>\n",
       "      <th>Remote/Onsite-2</th>\n",
       "    </tr>\n",
       "  </thead>\n",
       "  <tbody>\n",
       "    <tr>\n",
       "      <th>87</th>\n",
       "      <td>Customer Support Specialist</td>\n",
       "      <td>Contour Software · Lahore, Punjab, Pakistan  \\...</td>\n",
       "      <td>Full-time · Entry level</td>\n",
       "      <td>https://www.linkedin.com/jobs/view/3723386608</td>\n",
       "      <td>1,001-5,000 employees · IT Services and IT Con...</td>\n",
       "      <td>3723386608</td>\n",
       "      <td>Contour Software</td>\n",
       "      <td>Lahore, Punjab, Pakistan  \\n2 weeks ago\\n\\n</td>\n",
       "      <td>Not specified</td>\n",
       "      <td>154</td>\n",
       "      <td>2 weeks ago</td>\n",
       "      <td>2</td>\n",
       "      <td>Full-time</td>\n",
       "      <td>Entry level</td>\n",
       "      <td>Not specified</td>\n",
       "    </tr>\n",
       "    <tr>\n",
       "      <th>94</th>\n",
       "      <td>Social Media Manager</td>\n",
       "      <td>siyaahat.pk · Lahore District, Punjab, Pakista...</td>\n",
       "      <td>Full-time</td>\n",
       "      <td>https://www.linkedin.com/jobs/view/525119752</td>\n",
       "      <td>1-10 employees</td>\n",
       "      <td>525119752</td>\n",
       "      <td>siyaahat.pk</td>\n",
       "      <td>Lahore District, Punjab, Pakistan  \\n1 week ago</td>\n",
       "      <td>Not specified</td>\n",
       "      <td>NaN</td>\n",
       "      <td>1 week ago</td>\n",
       "      <td>1</td>\n",
       "      <td>Full-time</td>\n",
       "      <td>Not specified</td>\n",
       "      <td>Not specified</td>\n",
       "    </tr>\n",
       "    <tr>\n",
       "      <th>96</th>\n",
       "      <td>Senior Software Engineer</td>\n",
       "      <td>Afiniti · Islamabad, Islāmābād, Pakistan Repos...</td>\n",
       "      <td>Full-time · Mid-Senior level</td>\n",
       "      <td>https://www.linkedin.com/jobs/view/3691553817</td>\n",
       "      <td>1,001-5,000 employees · Software Development</td>\n",
       "      <td>3691553817</td>\n",
       "      <td>Afiniti</td>\n",
       "      <td>Islamabad, Islāmābād, Pakistan Reposted  \\n1 ...</td>\n",
       "      <td>Not specified</td>\n",
       "      <td>NaN</td>\n",
       "      <td>1 week ago</td>\n",
       "      <td>2</td>\n",
       "      <td>Full-time</td>\n",
       "      <td>Mid-Senior level</td>\n",
       "      <td>Not specified</td>\n",
       "    </tr>\n",
       "    <tr>\n",
       "      <th>111</th>\n",
       "      <td>Process Lead</td>\n",
       "      <td>BAT · Jhelum, Punjab, Pakistan  \\n2 weeks ago\\...</td>\n",
       "      <td>Full-time · Mid-Senior level</td>\n",
       "      <td>https://www.linkedin.com/jobs/view/3728073727</td>\n",
       "      <td>10,001+ employees · Tobacco Manufacturing</td>\n",
       "      <td>3728073727</td>\n",
       "      <td>BAT</td>\n",
       "      <td>Jhelum, Punjab, Pakistan  \\n2 weeks ago\\n\\n</td>\n",
       "      <td>Not specified</td>\n",
       "      <td>239</td>\n",
       "      <td>2 weeks ago</td>\n",
       "      <td>2</td>\n",
       "      <td>Full-time</td>\n",
       "      <td>Mid-Senior level</td>\n",
       "      <td>Not specified</td>\n",
       "    </tr>\n",
       "    <tr>\n",
       "      <th>185</th>\n",
       "      <td>Junior Officer Agri Purchases</td>\n",
       "      <td>Ingredion Incorporated · Faisalabad, Punjab, P...</td>\n",
       "      <td>Full-time · Entry level</td>\n",
       "      <td>https://www.linkedin.com/jobs/view/3728188227</td>\n",
       "      <td>10,001+ employees · Food and Beverage Services</td>\n",
       "      <td>3728188227</td>\n",
       "      <td>Ingredion Incorporated</td>\n",
       "      <td>Faisalabad, Punjab, Pakistan  \\n1 week ago\\n\\n</td>\n",
       "      <td>Not specified</td>\n",
       "      <td>249</td>\n",
       "      <td>1 week ago</td>\n",
       "      <td>2</td>\n",
       "      <td>Full-time</td>\n",
       "      <td>Entry level</td>\n",
       "      <td>Not specified</td>\n",
       "    </tr>\n",
       "    <tr>\n",
       "      <th>...</th>\n",
       "      <td>...</td>\n",
       "      <td>...</td>\n",
       "      <td>...</td>\n",
       "      <td>...</td>\n",
       "      <td>...</td>\n",
       "      <td>...</td>\n",
       "      <td>...</td>\n",
       "      <td>...</td>\n",
       "      <td>...</td>\n",
       "      <td>...</td>\n",
       "      <td>...</td>\n",
       "      <td>...</td>\n",
       "      <td>...</td>\n",
       "      <td>...</td>\n",
       "      <td>...</td>\n",
       "    </tr>\n",
       "    <tr>\n",
       "      <th>15869</th>\n",
       "      <td>Unity Developer</td>\n",
       "      <td>Codiea.io · Bahawalpur, Punjab, Pakistan  \\n1 ...</td>\n",
       "      <td>On-site\\n\\n \\nFull-time</td>\n",
       "      <td>https://www.linkedin.com/jobs/view/3767951886</td>\n",
       "      <td>1-10 employees</td>\n",
       "      <td>3767951886</td>\n",
       "      <td>Codiea.io</td>\n",
       "      <td>Bahawalpur, Punjab, Pakistan  \\n1 week ago</td>\n",
       "      <td>Not specified</td>\n",
       "      <td>NaN</td>\n",
       "      <td>1 week ago</td>\n",
       "      <td>2</td>\n",
       "      <td>Full-time</td>\n",
       "      <td>Not specified</td>\n",
       "      <td>On-site</td>\n",
       "    </tr>\n",
       "    <tr>\n",
       "      <th>15870</th>\n",
       "      <td>Manager – Growth Chat &amp; SMS (Digital Marketing)</td>\n",
       "      <td>Bank Alfalah Limited · Karāchi, Sindh, Pakista...</td>\n",
       "      <td>On-site\\n\\n \\nFull-time\\n\\n \\nMid-Senior level</td>\n",
       "      <td>https://www.linkedin.com/jobs/view/3767355025</td>\n",
       "      <td>5,001-10,000 employees · Banking</td>\n",
       "      <td>3767355025</td>\n",
       "      <td>Bank Alfalah Limited</td>\n",
       "      <td>Karāchi, Sindh, Pakistan  \\n1 week ago</td>\n",
       "      <td>Not specified</td>\n",
       "      <td>NaN</td>\n",
       "      <td>1 week ago</td>\n",
       "      <td>3</td>\n",
       "      <td>Full-time</td>\n",
       "      <td>Mid-Senior level</td>\n",
       "      <td>On-site</td>\n",
       "    </tr>\n",
       "    <tr>\n",
       "      <th>15872</th>\n",
       "      <td>Information Security Specialist</td>\n",
       "      <td>DPL · Islamabad, Islāmābād, Pakistan  \\n1 week...</td>\n",
       "      <td>On-site\\n\\n \\nFull-time\\n\\n \\nEntry level</td>\n",
       "      <td>https://www.linkedin.com/jobs/view/3772530977</td>\n",
       "      <td>51-200 employees · IT Services and IT Consulting</td>\n",
       "      <td>3772530977</td>\n",
       "      <td>DPL</td>\n",
       "      <td>Islamabad, Islāmābād, Pakistan  \\n1 week ago\\...</td>\n",
       "      <td>Not specified</td>\n",
       "      <td>83</td>\n",
       "      <td>1 week ago</td>\n",
       "      <td>3</td>\n",
       "      <td>Full-time</td>\n",
       "      <td>Entry level</td>\n",
       "      <td>On-site</td>\n",
       "    </tr>\n",
       "    <tr>\n",
       "      <th>15873</th>\n",
       "      <td>FUNCTIONAL CONSULTANT ORACLE FUSION - HCM</td>\n",
       "      <td>Level 3 BOS · Karachi Division, Sindh, Pakista...</td>\n",
       "      <td>On-site\\n\\n \\nFull-time\\n\\n \\nMid-Senior level</td>\n",
       "      <td>https://www.linkedin.com/jobs/view/3771943212</td>\n",
       "      <td>201-500 employees · Outsourcing and Offshoring...</td>\n",
       "      <td>3771943212</td>\n",
       "      <td>Level 3 BOS</td>\n",
       "      <td>Karachi Division, Sindh, Pakistan  \\n1 week a...</td>\n",
       "      <td>Not specified</td>\n",
       "      <td>19</td>\n",
       "      <td>1 week ago</td>\n",
       "      <td>3</td>\n",
       "      <td>Full-time</td>\n",
       "      <td>Mid-Senior level</td>\n",
       "      <td>On-site</td>\n",
       "    </tr>\n",
       "    <tr>\n",
       "      <th>15874</th>\n",
       "      <td>Community Associate</td>\n",
       "      <td>The Hive · Karachi Division, Sindh, Pakistan  ...</td>\n",
       "      <td>On-site\\n\\n \\nFull-time</td>\n",
       "      <td>https://www.linkedin.com/jobs/view/3767944844</td>\n",
       "      <td>11-50 employees</td>\n",
       "      <td>3767944844</td>\n",
       "      <td>The Hive</td>\n",
       "      <td>Karachi Division, Sindh, Pakistan  \\n1 week ago</td>\n",
       "      <td>Not specified</td>\n",
       "      <td>NaN</td>\n",
       "      <td>1 week ago</td>\n",
       "      <td>2</td>\n",
       "      <td>Full-time</td>\n",
       "      <td>Not specified</td>\n",
       "      <td>On-site</td>\n",
       "    </tr>\n",
       "  </tbody>\n",
       "</table>\n",
       "<p>8396 rows × 15 columns</p>\n",
       "</div>"
      ],
      "text/plain": [
       "                                             Job Title  \\\n",
       "87                         Customer Support Specialist   \n",
       "94                                Social Media Manager   \n",
       "96                            Senior Software Engineer   \n",
       "111                                       Process Lead   \n",
       "185                      Junior Officer Agri Purchases   \n",
       "...                                                ...   \n",
       "15869                                  Unity Developer   \n",
       "15870  Manager – Growth Chat & SMS (Digital Marketing)   \n",
       "15872                  Information Security Specialist   \n",
       "15873        FUNCTIONAL CONSULTANT ORACLE FUSION - HCM   \n",
       "15874                              Community Associate   \n",
       "\n",
       "                                                Job Info  \\\n",
       "87     Contour Software · Lahore, Punjab, Pakistan  \\...   \n",
       "94     siyaahat.pk · Lahore District, Punjab, Pakista...   \n",
       "96     Afiniti · Islamabad, Islāmābād, Pakistan Repos...   \n",
       "111    BAT · Jhelum, Punjab, Pakistan  \\n2 weeks ago\\...   \n",
       "185    Ingredion Incorporated · Faisalabad, Punjab, P...   \n",
       "...                                                  ...   \n",
       "15869  Codiea.io · Bahawalpur, Punjab, Pakistan  \\n1 ...   \n",
       "15870  Bank Alfalah Limited · Karāchi, Sindh, Pakista...   \n",
       "15872  DPL · Islamabad, Islāmābād, Pakistan  \\n1 week...   \n",
       "15873  Level 3 BOS · Karachi Division, Sindh, Pakista...   \n",
       "15874  The Hive · Karachi Division, Sindh, Pakistan  ...   \n",
       "\n",
       "                                             Job Type  \\\n",
       "87                            Full-time · Entry level   \n",
       "94                                          Full-time   \n",
       "96                       Full-time · Mid-Senior level   \n",
       "111                      Full-time · Mid-Senior level   \n",
       "185                           Full-time · Entry level   \n",
       "...                                               ...   \n",
       "15869                         On-site\\n\\n \\nFull-time   \n",
       "15870  On-site\\n\\n \\nFull-time\\n\\n \\nMid-Senior level   \n",
       "15872       On-site\\n\\n \\nFull-time\\n\\n \\nEntry level   \n",
       "15873  On-site\\n\\n \\nFull-time\\n\\n \\nMid-Senior level   \n",
       "15874                         On-site\\n\\n \\nFull-time   \n",
       "\n",
       "                                            Job Link  \\\n",
       "87     https://www.linkedin.com/jobs/view/3723386608   \n",
       "94      https://www.linkedin.com/jobs/view/525119752   \n",
       "96     https://www.linkedin.com/jobs/view/3691553817   \n",
       "111    https://www.linkedin.com/jobs/view/3728073727   \n",
       "185    https://www.linkedin.com/jobs/view/3728188227   \n",
       "...                                              ...   \n",
       "15869  https://www.linkedin.com/jobs/view/3767951886   \n",
       "15870  https://www.linkedin.com/jobs/view/3767355025   \n",
       "15872  https://www.linkedin.com/jobs/view/3772530977   \n",
       "15873  https://www.linkedin.com/jobs/view/3771943212   \n",
       "15874  https://www.linkedin.com/jobs/view/3767944844   \n",
       "\n",
       "                                               employees      Job ID  \\\n",
       "87     1,001-5,000 employees · IT Services and IT Con...  3723386608   \n",
       "94                                        1-10 employees   525119752   \n",
       "96          1,001-5,000 employees · Software Development  3691553817   \n",
       "111            10,001+ employees · Tobacco Manufacturing  3728073727   \n",
       "185       10,001+ employees · Food and Beverage Services  3728188227   \n",
       "...                                                  ...         ...   \n",
       "15869                                     1-10 employees  3767951886   \n",
       "15870                   5,001-10,000 employees · Banking  3767355025   \n",
       "15872   51-200 employees · IT Services and IT Consulting  3772530977   \n",
       "15873  201-500 employees · Outsourcing and Offshoring...  3771943212   \n",
       "15874                                    11-50 employees  3767944844   \n",
       "\n",
       "                       company  \\\n",
       "87           Contour Software    \n",
       "94                siyaahat.pk    \n",
       "96                    Afiniti    \n",
       "111                       BAT    \n",
       "185    Ingredion Incorporated    \n",
       "...                        ...   \n",
       "15869               Codiea.io    \n",
       "15870    Bank Alfalah Limited    \n",
       "15872                     DPL    \n",
       "15873             Level 3 BOS    \n",
       "15874                The Hive    \n",
       "\n",
       "                                                location  Remote/Onsite  \\\n",
       "87          Lahore, Punjab, Pakistan  \\n2 weeks ago\\n\\n   Not specified   \n",
       "94       Lahore District, Punjab, Pakistan  \\n1 week ago  Not specified   \n",
       "96      Islamabad, Islāmābād, Pakistan Reposted  \\n1 ...  Not specified   \n",
       "111         Jhelum, Punjab, Pakistan  \\n2 weeks ago\\n\\n   Not specified   \n",
       "185      Faisalabad, Punjab, Pakistan  \\n1 week ago\\n\\n   Not specified   \n",
       "...                                                  ...            ...   \n",
       "15869         Bahawalpur, Punjab, Pakistan  \\n1 week ago  Not specified   \n",
       "15870             Karāchi, Sindh, Pakistan  \\n1 week ago  Not specified   \n",
       "15872   Islamabad, Islāmābād, Pakistan  \\n1 week ago\\...  Not specified   \n",
       "15873   Karachi Division, Sindh, Pakistan  \\n1 week a...  Not specified   \n",
       "15874    Karachi Division, Sindh, Pakistan  \\n1 week ago  Not specified   \n",
       "\n",
       "      n_applicant job posting time  Job Type nElements   Job-Type  \\\n",
       "87            154      2 weeks ago                   2  Full-time   \n",
       "94            NaN       1 week ago                   1  Full-time   \n",
       "96            NaN       1 week ago                   2  Full-time   \n",
       "111           239      2 weeks ago                   2  Full-time   \n",
       "185           249       1 week ago                   2  Full-time   \n",
       "...           ...              ...                 ...        ...   \n",
       "15869         NaN       1 week ago                   2  Full-time   \n",
       "15870         NaN       1 week ago                   3  Full-time   \n",
       "15872          83       1 week ago                   3  Full-time   \n",
       "15873          19       1 week ago                   3  Full-time   \n",
       "15874         NaN       1 week ago                   2  Full-time   \n",
       "\n",
       "       Experience Level Remote/Onsite-2  \n",
       "87          Entry level   Not specified  \n",
       "94        Not specified   Not specified  \n",
       "96     Mid-Senior level   Not specified  \n",
       "111    Mid-Senior level   Not specified  \n",
       "185         Entry level   Not specified  \n",
       "...                 ...             ...  \n",
       "15869     Not specified         On-site  \n",
       "15870  Mid-Senior level         On-site  \n",
       "15872       Entry level         On-site  \n",
       "15873  Mid-Senior level         On-site  \n",
       "15874     Not specified         On-site  \n",
       "\n",
       "[8396 rows x 15 columns]"
      ]
     },
     "execution_count": 1947,
     "metadata": {},
     "output_type": "execute_result"
    }
   ],
   "source": [
    "df[df['Remote/Onsite']=='Not specified']"
   ]
  },
  {
   "cell_type": "code",
   "execution_count": 1948,
   "id": "f7e87612-95e0-4fda-ac30-5fc6121ab71f",
   "metadata": {},
   "outputs": [
    {
     "name": "stderr",
     "output_type": "stream",
     "text": [
      "C:\\Users\\BILAL.COM\\AppData\\Local\\Programs\\Python\\Python311\\Lib\\site-packages\\IPython\\core\\displayhook.py:281: UserWarning: Output cache limit (currently 1000 entries) hit.\n",
      "Flushing oldest 200 entries.\n",
      "  warn('Output cache limit (currently {sz} entries) hit.\\n'\n"
     ]
    },
    {
     "data": {
      "text/html": [
       "<div>\n",
       "<style scoped>\n",
       "    .dataframe tbody tr th:only-of-type {\n",
       "        vertical-align: middle;\n",
       "    }\n",
       "\n",
       "    .dataframe tbody tr th {\n",
       "        vertical-align: top;\n",
       "    }\n",
       "\n",
       "    .dataframe thead th {\n",
       "        text-align: right;\n",
       "    }\n",
       "</style>\n",
       "<table border=\"1\" class=\"dataframe\">\n",
       "  <thead>\n",
       "    <tr style=\"text-align: right;\">\n",
       "      <th></th>\n",
       "      <th>Job Title</th>\n",
       "      <th>Job Info</th>\n",
       "      <th>Job Type</th>\n",
       "      <th>Job Link</th>\n",
       "      <th>employees</th>\n",
       "      <th>Job ID</th>\n",
       "      <th>company</th>\n",
       "      <th>location</th>\n",
       "      <th>Remote/Onsite</th>\n",
       "      <th>n_applicant</th>\n",
       "      <th>job posting time</th>\n",
       "      <th>Job Type nElements</th>\n",
       "      <th>Job-Type</th>\n",
       "      <th>Experience Level</th>\n",
       "      <th>Remote/Onsite-2</th>\n",
       "    </tr>\n",
       "  </thead>\n",
       "  <tbody>\n",
       "    <tr>\n",
       "      <th>3997</th>\n",
       "      <td>Team Lead Performance Management</td>\n",
       "      <td>Telenor Microfinance Bank Limited · Islamabad,...</td>\n",
       "      <td>On-site\\n\\n \\nFull-time\\n\\n \\nMid-Senior level</td>\n",
       "      <td>https://www.linkedin.com/jobs/view/3734530164</td>\n",
       "      <td>1,001-5,000 employees · Banking</td>\n",
       "      <td>3734530164</td>\n",
       "      <td>Telenor Microfinance Bank Limited</td>\n",
       "      <td>Islamabad, Islāmābād, Pakistan  \\n4 days ago\\...</td>\n",
       "      <td>Not specified</td>\n",
       "      <td>490</td>\n",
       "      <td>4 days ago</td>\n",
       "      <td>3</td>\n",
       "      <td>Full-time</td>\n",
       "      <td>Mid-Senior level</td>\n",
       "      <td>On-site</td>\n",
       "    </tr>\n",
       "    <tr>\n",
       "      <th>3998</th>\n",
       "      <td>Solutions Architect</td>\n",
       "      <td>SwipBox · Islāmābād, Pakistan  \\n4 days ago\\n\\...</td>\n",
       "      <td>On-site\\n\\n \\nFull-time\\n\\n \\nMid-Senior level</td>\n",
       "      <td>https://www.linkedin.com/jobs/view/3735939988</td>\n",
       "      <td>51-200 employees · Transportation, Logistics, ...</td>\n",
       "      <td>3735939988</td>\n",
       "      <td>SwipBox</td>\n",
       "      <td>Islāmābād, Pakistan  \\n4 days ago\\n\\n</td>\n",
       "      <td>Not specified</td>\n",
       "      <td>37</td>\n",
       "      <td>4 days ago</td>\n",
       "      <td>3</td>\n",
       "      <td>Full-time</td>\n",
       "      <td>Mid-Senior level</td>\n",
       "      <td>On-site</td>\n",
       "    </tr>\n",
       "    <tr>\n",
       "      <th>3999</th>\n",
       "      <td>Customer Support Executive UAE</td>\n",
       "      <td>Abacus Outsourcing · Lahore, Punjab, Pakistan ...</td>\n",
       "      <td>On-site\\n\\n \\nFull-time\\n\\n \\nMid-Senior level</td>\n",
       "      <td>https://www.linkedin.com/jobs/view/3734589987</td>\n",
       "      <td>1,001-5,000 employees · Outsourcing and Offsho...</td>\n",
       "      <td>3734589987</td>\n",
       "      <td>Abacus Outsourcing</td>\n",
       "      <td>Lahore, Punjab, Pakistan Reposted  \\n1 day ag...</td>\n",
       "      <td>Not specified</td>\n",
       "      <td>367</td>\n",
       "      <td>1 day ago</td>\n",
       "      <td>3</td>\n",
       "      <td>Full-time</td>\n",
       "      <td>Mid-Senior level</td>\n",
       "      <td>On-site</td>\n",
       "    </tr>\n",
       "    <tr>\n",
       "      <th>4000</th>\n",
       "      <td>Cash Management Product Manager (Mashreq Globa...</td>\n",
       "      <td>Mashreq · Karachi Division, Sindh, Pakistan  \\...</td>\n",
       "      <td>On-site\\n\\n \\nFull-time\\n\\n \\nMid-Senior level</td>\n",
       "      <td>https://www.linkedin.com/jobs/view/3734539790</td>\n",
       "      <td>1,001-5,000 employees · Banking</td>\n",
       "      <td>3734539790</td>\n",
       "      <td>Mashreq</td>\n",
       "      <td>Karachi Division, Sindh, Pakistan  \\n4 days a...</td>\n",
       "      <td>Not specified</td>\n",
       "      <td>237</td>\n",
       "      <td>4 days ago</td>\n",
       "      <td>3</td>\n",
       "      <td>Full-time</td>\n",
       "      <td>Mid-Senior level</td>\n",
       "      <td>On-site</td>\n",
       "    </tr>\n",
       "    <tr>\n",
       "      <th>4001</th>\n",
       "      <td>Senior Territory Manager</td>\n",
       "      <td>foodpanda · Islamabad, Islāmābād, Pakistan  \\n...</td>\n",
       "      <td>On-site\\n\\n \\nFull-time\\n\\n \\nMid-Senior level</td>\n",
       "      <td>https://www.linkedin.com/jobs/view/3734537706</td>\n",
       "      <td>5,001-10,000 employees · Internet Marketplace ...</td>\n",
       "      <td>3734537706</td>\n",
       "      <td>foodpanda</td>\n",
       "      <td>Islamabad, Islāmābād, Pakistan  \\n4 days ago\\...</td>\n",
       "      <td>Not specified</td>\n",
       "      <td>272</td>\n",
       "      <td>4 days ago</td>\n",
       "      <td>3</td>\n",
       "      <td>Full-time</td>\n",
       "      <td>Mid-Senior level</td>\n",
       "      <td>On-site</td>\n",
       "    </tr>\n",
       "    <tr>\n",
       "      <th>...</th>\n",
       "      <td>...</td>\n",
       "      <td>...</td>\n",
       "      <td>...</td>\n",
       "      <td>...</td>\n",
       "      <td>...</td>\n",
       "      <td>...</td>\n",
       "      <td>...</td>\n",
       "      <td>...</td>\n",
       "      <td>...</td>\n",
       "      <td>...</td>\n",
       "      <td>...</td>\n",
       "      <td>...</td>\n",
       "      <td>...</td>\n",
       "      <td>...</td>\n",
       "      <td>...</td>\n",
       "    </tr>\n",
       "    <tr>\n",
       "      <th>15869</th>\n",
       "      <td>Unity Developer</td>\n",
       "      <td>Codiea.io · Bahawalpur, Punjab, Pakistan  \\n1 ...</td>\n",
       "      <td>On-site\\n\\n \\nFull-time</td>\n",
       "      <td>https://www.linkedin.com/jobs/view/3767951886</td>\n",
       "      <td>1-10 employees</td>\n",
       "      <td>3767951886</td>\n",
       "      <td>Codiea.io</td>\n",
       "      <td>Bahawalpur, Punjab, Pakistan  \\n1 week ago</td>\n",
       "      <td>Not specified</td>\n",
       "      <td>NaN</td>\n",
       "      <td>1 week ago</td>\n",
       "      <td>2</td>\n",
       "      <td>Full-time</td>\n",
       "      <td>Not specified</td>\n",
       "      <td>On-site</td>\n",
       "    </tr>\n",
       "    <tr>\n",
       "      <th>15870</th>\n",
       "      <td>Manager – Growth Chat &amp; SMS (Digital Marketing)</td>\n",
       "      <td>Bank Alfalah Limited · Karāchi, Sindh, Pakista...</td>\n",
       "      <td>On-site\\n\\n \\nFull-time\\n\\n \\nMid-Senior level</td>\n",
       "      <td>https://www.linkedin.com/jobs/view/3767355025</td>\n",
       "      <td>5,001-10,000 employees · Banking</td>\n",
       "      <td>3767355025</td>\n",
       "      <td>Bank Alfalah Limited</td>\n",
       "      <td>Karāchi, Sindh, Pakistan  \\n1 week ago</td>\n",
       "      <td>Not specified</td>\n",
       "      <td>NaN</td>\n",
       "      <td>1 week ago</td>\n",
       "      <td>3</td>\n",
       "      <td>Full-time</td>\n",
       "      <td>Mid-Senior level</td>\n",
       "      <td>On-site</td>\n",
       "    </tr>\n",
       "    <tr>\n",
       "      <th>15872</th>\n",
       "      <td>Information Security Specialist</td>\n",
       "      <td>DPL · Islamabad, Islāmābād, Pakistan  \\n1 week...</td>\n",
       "      <td>On-site\\n\\n \\nFull-time\\n\\n \\nEntry level</td>\n",
       "      <td>https://www.linkedin.com/jobs/view/3772530977</td>\n",
       "      <td>51-200 employees · IT Services and IT Consulting</td>\n",
       "      <td>3772530977</td>\n",
       "      <td>DPL</td>\n",
       "      <td>Islamabad, Islāmābād, Pakistan  \\n1 week ago\\...</td>\n",
       "      <td>Not specified</td>\n",
       "      <td>83</td>\n",
       "      <td>1 week ago</td>\n",
       "      <td>3</td>\n",
       "      <td>Full-time</td>\n",
       "      <td>Entry level</td>\n",
       "      <td>On-site</td>\n",
       "    </tr>\n",
       "    <tr>\n",
       "      <th>15873</th>\n",
       "      <td>FUNCTIONAL CONSULTANT ORACLE FUSION - HCM</td>\n",
       "      <td>Level 3 BOS · Karachi Division, Sindh, Pakista...</td>\n",
       "      <td>On-site\\n\\n \\nFull-time\\n\\n \\nMid-Senior level</td>\n",
       "      <td>https://www.linkedin.com/jobs/view/3771943212</td>\n",
       "      <td>201-500 employees · Outsourcing and Offshoring...</td>\n",
       "      <td>3771943212</td>\n",
       "      <td>Level 3 BOS</td>\n",
       "      <td>Karachi Division, Sindh, Pakistan  \\n1 week a...</td>\n",
       "      <td>Not specified</td>\n",
       "      <td>19</td>\n",
       "      <td>1 week ago</td>\n",
       "      <td>3</td>\n",
       "      <td>Full-time</td>\n",
       "      <td>Mid-Senior level</td>\n",
       "      <td>On-site</td>\n",
       "    </tr>\n",
       "    <tr>\n",
       "      <th>15874</th>\n",
       "      <td>Community Associate</td>\n",
       "      <td>The Hive · Karachi Division, Sindh, Pakistan  ...</td>\n",
       "      <td>On-site\\n\\n \\nFull-time</td>\n",
       "      <td>https://www.linkedin.com/jobs/view/3767944844</td>\n",
       "      <td>11-50 employees</td>\n",
       "      <td>3767944844</td>\n",
       "      <td>The Hive</td>\n",
       "      <td>Karachi Division, Sindh, Pakistan  \\n1 week ago</td>\n",
       "      <td>Not specified</td>\n",
       "      <td>NaN</td>\n",
       "      <td>1 week ago</td>\n",
       "      <td>2</td>\n",
       "      <td>Full-time</td>\n",
       "      <td>Not specified</td>\n",
       "      <td>On-site</td>\n",
       "    </tr>\n",
       "  </tbody>\n",
       "</table>\n",
       "<p>7996 rows × 15 columns</p>\n",
       "</div>"
      ],
      "text/plain": [
       "                                               Job Title  \\\n",
       "3997                    Team Lead Performance Management   \n",
       "3998                                 Solutions Architect   \n",
       "3999                      Customer Support Executive UAE   \n",
       "4000   Cash Management Product Manager (Mashreq Globa...   \n",
       "4001                            Senior Territory Manager   \n",
       "...                                                  ...   \n",
       "15869                                    Unity Developer   \n",
       "15870    Manager – Growth Chat & SMS (Digital Marketing)   \n",
       "15872                    Information Security Specialist   \n",
       "15873          FUNCTIONAL CONSULTANT ORACLE FUSION - HCM   \n",
       "15874                                Community Associate   \n",
       "\n",
       "                                                Job Info  \\\n",
       "3997   Telenor Microfinance Bank Limited · Islamabad,...   \n",
       "3998   SwipBox · Islāmābād, Pakistan  \\n4 days ago\\n\\...   \n",
       "3999   Abacus Outsourcing · Lahore, Punjab, Pakistan ...   \n",
       "4000   Mashreq · Karachi Division, Sindh, Pakistan  \\...   \n",
       "4001   foodpanda · Islamabad, Islāmābād, Pakistan  \\n...   \n",
       "...                                                  ...   \n",
       "15869  Codiea.io · Bahawalpur, Punjab, Pakistan  \\n1 ...   \n",
       "15870  Bank Alfalah Limited · Karāchi, Sindh, Pakista...   \n",
       "15872  DPL · Islamabad, Islāmābād, Pakistan  \\n1 week...   \n",
       "15873  Level 3 BOS · Karachi Division, Sindh, Pakista...   \n",
       "15874  The Hive · Karachi Division, Sindh, Pakistan  ...   \n",
       "\n",
       "                                             Job Type  \\\n",
       "3997   On-site\\n\\n \\nFull-time\\n\\n \\nMid-Senior level   \n",
       "3998   On-site\\n\\n \\nFull-time\\n\\n \\nMid-Senior level   \n",
       "3999   On-site\\n\\n \\nFull-time\\n\\n \\nMid-Senior level   \n",
       "4000   On-site\\n\\n \\nFull-time\\n\\n \\nMid-Senior level   \n",
       "4001   On-site\\n\\n \\nFull-time\\n\\n \\nMid-Senior level   \n",
       "...                                               ...   \n",
       "15869                         On-site\\n\\n \\nFull-time   \n",
       "15870  On-site\\n\\n \\nFull-time\\n\\n \\nMid-Senior level   \n",
       "15872       On-site\\n\\n \\nFull-time\\n\\n \\nEntry level   \n",
       "15873  On-site\\n\\n \\nFull-time\\n\\n \\nMid-Senior level   \n",
       "15874                         On-site\\n\\n \\nFull-time   \n",
       "\n",
       "                                            Job Link  \\\n",
       "3997   https://www.linkedin.com/jobs/view/3734530164   \n",
       "3998   https://www.linkedin.com/jobs/view/3735939988   \n",
       "3999   https://www.linkedin.com/jobs/view/3734589987   \n",
       "4000   https://www.linkedin.com/jobs/view/3734539790   \n",
       "4001   https://www.linkedin.com/jobs/view/3734537706   \n",
       "...                                              ...   \n",
       "15869  https://www.linkedin.com/jobs/view/3767951886   \n",
       "15870  https://www.linkedin.com/jobs/view/3767355025   \n",
       "15872  https://www.linkedin.com/jobs/view/3772530977   \n",
       "15873  https://www.linkedin.com/jobs/view/3771943212   \n",
       "15874  https://www.linkedin.com/jobs/view/3767944844   \n",
       "\n",
       "                                               employees      Job ID  \\\n",
       "3997                     1,001-5,000 employees · Banking  3734530164   \n",
       "3998   51-200 employees · Transportation, Logistics, ...  3735939988   \n",
       "3999   1,001-5,000 employees · Outsourcing and Offsho...  3734589987   \n",
       "4000                     1,001-5,000 employees · Banking  3734539790   \n",
       "4001   5,001-10,000 employees · Internet Marketplace ...  3734537706   \n",
       "...                                                  ...         ...   \n",
       "15869                                     1-10 employees  3767951886   \n",
       "15870                   5,001-10,000 employees · Banking  3767355025   \n",
       "15872   51-200 employees · IT Services and IT Consulting  3772530977   \n",
       "15873  201-500 employees · Outsourcing and Offshoring...  3771943212   \n",
       "15874                                    11-50 employees  3767944844   \n",
       "\n",
       "                                  company  \\\n",
       "3997   Telenor Microfinance Bank Limited    \n",
       "3998                             SwipBox    \n",
       "3999                  Abacus Outsourcing    \n",
       "4000                             Mashreq    \n",
       "4001                           foodpanda    \n",
       "...                                   ...   \n",
       "15869                          Codiea.io    \n",
       "15870               Bank Alfalah Limited    \n",
       "15872                                DPL    \n",
       "15873                        Level 3 BOS    \n",
       "15874                           The Hive    \n",
       "\n",
       "                                                location  Remote/Onsite  \\\n",
       "3997    Islamabad, Islāmābād, Pakistan  \\n4 days ago\\...  Not specified   \n",
       "3998              Islāmābād, Pakistan  \\n4 days ago\\n\\n   Not specified   \n",
       "3999    Lahore, Punjab, Pakistan Reposted  \\n1 day ag...  Not specified   \n",
       "4000    Karachi Division, Sindh, Pakistan  \\n4 days a...  Not specified   \n",
       "4001    Islamabad, Islāmābād, Pakistan  \\n4 days ago\\...  Not specified   \n",
       "...                                                  ...            ...   \n",
       "15869         Bahawalpur, Punjab, Pakistan  \\n1 week ago  Not specified   \n",
       "15870             Karāchi, Sindh, Pakistan  \\n1 week ago  Not specified   \n",
       "15872   Islamabad, Islāmābād, Pakistan  \\n1 week ago\\...  Not specified   \n",
       "15873   Karachi Division, Sindh, Pakistan  \\n1 week a...  Not specified   \n",
       "15874    Karachi Division, Sindh, Pakistan  \\n1 week ago  Not specified   \n",
       "\n",
       "      n_applicant job posting time  Job Type nElements   Job-Type  \\\n",
       "3997          490       4 days ago                   3  Full-time   \n",
       "3998           37       4 days ago                   3  Full-time   \n",
       "3999          367        1 day ago                   3  Full-time   \n",
       "4000          237       4 days ago                   3  Full-time   \n",
       "4001          272       4 days ago                   3  Full-time   \n",
       "...           ...              ...                 ...        ...   \n",
       "15869         NaN       1 week ago                   2  Full-time   \n",
       "15870         NaN       1 week ago                   3  Full-time   \n",
       "15872          83       1 week ago                   3  Full-time   \n",
       "15873          19       1 week ago                   3  Full-time   \n",
       "15874         NaN       1 week ago                   2  Full-time   \n",
       "\n",
       "       Experience Level Remote/Onsite-2  \n",
       "3997   Mid-Senior level         On-site  \n",
       "3998   Mid-Senior level         On-site  \n",
       "3999   Mid-Senior level         On-site  \n",
       "4000   Mid-Senior level         On-site  \n",
       "4001   Mid-Senior level         On-site  \n",
       "...                 ...             ...  \n",
       "15869     Not specified         On-site  \n",
       "15870  Mid-Senior level         On-site  \n",
       "15872       Entry level         On-site  \n",
       "15873  Mid-Senior level         On-site  \n",
       "15874     Not specified         On-site  \n",
       "\n",
       "[7996 rows x 15 columns]"
      ]
     },
     "execution_count": 1948,
     "metadata": {},
     "output_type": "execute_result"
    }
   ],
   "source": [
    "df[df['Remote/Onsite-2'].isin(On_site_remote_options)]"
   ]
  },
  {
   "cell_type": "code",
   "execution_count": 1949,
   "id": "68a31c13-a034-49d9-ab0c-541b7237a4c3",
   "metadata": {},
   "outputs": [
    {
     "name": "stderr",
     "output_type": "stream",
     "text": [
      "C:\\Users\\BILAL.COM\\AppData\\Local\\Temp\\ipykernel_10124\\476168604.py:1: UserWarning: Boolean Series key will be reindexed to match DataFrame index.\n",
      "  df[df['Remote/Onsite']=='Not specified'][df['Remote/Onsite-2'].isin(On_site_remote_options)]\n"
     ]
    },
    {
     "data": {
      "text/html": [
       "<div>\n",
       "<style scoped>\n",
       "    .dataframe tbody tr th:only-of-type {\n",
       "        vertical-align: middle;\n",
       "    }\n",
       "\n",
       "    .dataframe tbody tr th {\n",
       "        vertical-align: top;\n",
       "    }\n",
       "\n",
       "    .dataframe thead th {\n",
       "        text-align: right;\n",
       "    }\n",
       "</style>\n",
       "<table border=\"1\" class=\"dataframe\">\n",
       "  <thead>\n",
       "    <tr style=\"text-align: right;\">\n",
       "      <th></th>\n",
       "      <th>Job Title</th>\n",
       "      <th>Job Info</th>\n",
       "      <th>Job Type</th>\n",
       "      <th>Job Link</th>\n",
       "      <th>employees</th>\n",
       "      <th>Job ID</th>\n",
       "      <th>company</th>\n",
       "      <th>location</th>\n",
       "      <th>Remote/Onsite</th>\n",
       "      <th>n_applicant</th>\n",
       "      <th>job posting time</th>\n",
       "      <th>Job Type nElements</th>\n",
       "      <th>Job-Type</th>\n",
       "      <th>Experience Level</th>\n",
       "      <th>Remote/Onsite-2</th>\n",
       "    </tr>\n",
       "  </thead>\n",
       "  <tbody>\n",
       "    <tr>\n",
       "      <th>3997</th>\n",
       "      <td>Team Lead Performance Management</td>\n",
       "      <td>Telenor Microfinance Bank Limited · Islamabad,...</td>\n",
       "      <td>On-site\\n\\n \\nFull-time\\n\\n \\nMid-Senior level</td>\n",
       "      <td>https://www.linkedin.com/jobs/view/3734530164</td>\n",
       "      <td>1,001-5,000 employees · Banking</td>\n",
       "      <td>3734530164</td>\n",
       "      <td>Telenor Microfinance Bank Limited</td>\n",
       "      <td>Islamabad, Islāmābād, Pakistan  \\n4 days ago\\...</td>\n",
       "      <td>Not specified</td>\n",
       "      <td>490</td>\n",
       "      <td>4 days ago</td>\n",
       "      <td>3</td>\n",
       "      <td>Full-time</td>\n",
       "      <td>Mid-Senior level</td>\n",
       "      <td>On-site</td>\n",
       "    </tr>\n",
       "    <tr>\n",
       "      <th>3998</th>\n",
       "      <td>Solutions Architect</td>\n",
       "      <td>SwipBox · Islāmābād, Pakistan  \\n4 days ago\\n\\...</td>\n",
       "      <td>On-site\\n\\n \\nFull-time\\n\\n \\nMid-Senior level</td>\n",
       "      <td>https://www.linkedin.com/jobs/view/3735939988</td>\n",
       "      <td>51-200 employees · Transportation, Logistics, ...</td>\n",
       "      <td>3735939988</td>\n",
       "      <td>SwipBox</td>\n",
       "      <td>Islāmābād, Pakistan  \\n4 days ago\\n\\n</td>\n",
       "      <td>Not specified</td>\n",
       "      <td>37</td>\n",
       "      <td>4 days ago</td>\n",
       "      <td>3</td>\n",
       "      <td>Full-time</td>\n",
       "      <td>Mid-Senior level</td>\n",
       "      <td>On-site</td>\n",
       "    </tr>\n",
       "    <tr>\n",
       "      <th>3999</th>\n",
       "      <td>Customer Support Executive UAE</td>\n",
       "      <td>Abacus Outsourcing · Lahore, Punjab, Pakistan ...</td>\n",
       "      <td>On-site\\n\\n \\nFull-time\\n\\n \\nMid-Senior level</td>\n",
       "      <td>https://www.linkedin.com/jobs/view/3734589987</td>\n",
       "      <td>1,001-5,000 employees · Outsourcing and Offsho...</td>\n",
       "      <td>3734589987</td>\n",
       "      <td>Abacus Outsourcing</td>\n",
       "      <td>Lahore, Punjab, Pakistan Reposted  \\n1 day ag...</td>\n",
       "      <td>Not specified</td>\n",
       "      <td>367</td>\n",
       "      <td>1 day ago</td>\n",
       "      <td>3</td>\n",
       "      <td>Full-time</td>\n",
       "      <td>Mid-Senior level</td>\n",
       "      <td>On-site</td>\n",
       "    </tr>\n",
       "    <tr>\n",
       "      <th>4000</th>\n",
       "      <td>Cash Management Product Manager (Mashreq Globa...</td>\n",
       "      <td>Mashreq · Karachi Division, Sindh, Pakistan  \\...</td>\n",
       "      <td>On-site\\n\\n \\nFull-time\\n\\n \\nMid-Senior level</td>\n",
       "      <td>https://www.linkedin.com/jobs/view/3734539790</td>\n",
       "      <td>1,001-5,000 employees · Banking</td>\n",
       "      <td>3734539790</td>\n",
       "      <td>Mashreq</td>\n",
       "      <td>Karachi Division, Sindh, Pakistan  \\n4 days a...</td>\n",
       "      <td>Not specified</td>\n",
       "      <td>237</td>\n",
       "      <td>4 days ago</td>\n",
       "      <td>3</td>\n",
       "      <td>Full-time</td>\n",
       "      <td>Mid-Senior level</td>\n",
       "      <td>On-site</td>\n",
       "    </tr>\n",
       "    <tr>\n",
       "      <th>4001</th>\n",
       "      <td>Senior Territory Manager</td>\n",
       "      <td>foodpanda · Islamabad, Islāmābād, Pakistan  \\n...</td>\n",
       "      <td>On-site\\n\\n \\nFull-time\\n\\n \\nMid-Senior level</td>\n",
       "      <td>https://www.linkedin.com/jobs/view/3734537706</td>\n",
       "      <td>5,001-10,000 employees · Internet Marketplace ...</td>\n",
       "      <td>3734537706</td>\n",
       "      <td>foodpanda</td>\n",
       "      <td>Islamabad, Islāmābād, Pakistan  \\n4 days ago\\...</td>\n",
       "      <td>Not specified</td>\n",
       "      <td>272</td>\n",
       "      <td>4 days ago</td>\n",
       "      <td>3</td>\n",
       "      <td>Full-time</td>\n",
       "      <td>Mid-Senior level</td>\n",
       "      <td>On-site</td>\n",
       "    </tr>\n",
       "    <tr>\n",
       "      <th>...</th>\n",
       "      <td>...</td>\n",
       "      <td>...</td>\n",
       "      <td>...</td>\n",
       "      <td>...</td>\n",
       "      <td>...</td>\n",
       "      <td>...</td>\n",
       "      <td>...</td>\n",
       "      <td>...</td>\n",
       "      <td>...</td>\n",
       "      <td>...</td>\n",
       "      <td>...</td>\n",
       "      <td>...</td>\n",
       "      <td>...</td>\n",
       "      <td>...</td>\n",
       "      <td>...</td>\n",
       "    </tr>\n",
       "    <tr>\n",
       "      <th>15869</th>\n",
       "      <td>Unity Developer</td>\n",
       "      <td>Codiea.io · Bahawalpur, Punjab, Pakistan  \\n1 ...</td>\n",
       "      <td>On-site\\n\\n \\nFull-time</td>\n",
       "      <td>https://www.linkedin.com/jobs/view/3767951886</td>\n",
       "      <td>1-10 employees</td>\n",
       "      <td>3767951886</td>\n",
       "      <td>Codiea.io</td>\n",
       "      <td>Bahawalpur, Punjab, Pakistan  \\n1 week ago</td>\n",
       "      <td>Not specified</td>\n",
       "      <td>NaN</td>\n",
       "      <td>1 week ago</td>\n",
       "      <td>2</td>\n",
       "      <td>Full-time</td>\n",
       "      <td>Not specified</td>\n",
       "      <td>On-site</td>\n",
       "    </tr>\n",
       "    <tr>\n",
       "      <th>15870</th>\n",
       "      <td>Manager – Growth Chat &amp; SMS (Digital Marketing)</td>\n",
       "      <td>Bank Alfalah Limited · Karāchi, Sindh, Pakista...</td>\n",
       "      <td>On-site\\n\\n \\nFull-time\\n\\n \\nMid-Senior level</td>\n",
       "      <td>https://www.linkedin.com/jobs/view/3767355025</td>\n",
       "      <td>5,001-10,000 employees · Banking</td>\n",
       "      <td>3767355025</td>\n",
       "      <td>Bank Alfalah Limited</td>\n",
       "      <td>Karāchi, Sindh, Pakistan  \\n1 week ago</td>\n",
       "      <td>Not specified</td>\n",
       "      <td>NaN</td>\n",
       "      <td>1 week ago</td>\n",
       "      <td>3</td>\n",
       "      <td>Full-time</td>\n",
       "      <td>Mid-Senior level</td>\n",
       "      <td>On-site</td>\n",
       "    </tr>\n",
       "    <tr>\n",
       "      <th>15872</th>\n",
       "      <td>Information Security Specialist</td>\n",
       "      <td>DPL · Islamabad, Islāmābād, Pakistan  \\n1 week...</td>\n",
       "      <td>On-site\\n\\n \\nFull-time\\n\\n \\nEntry level</td>\n",
       "      <td>https://www.linkedin.com/jobs/view/3772530977</td>\n",
       "      <td>51-200 employees · IT Services and IT Consulting</td>\n",
       "      <td>3772530977</td>\n",
       "      <td>DPL</td>\n",
       "      <td>Islamabad, Islāmābād, Pakistan  \\n1 week ago\\...</td>\n",
       "      <td>Not specified</td>\n",
       "      <td>83</td>\n",
       "      <td>1 week ago</td>\n",
       "      <td>3</td>\n",
       "      <td>Full-time</td>\n",
       "      <td>Entry level</td>\n",
       "      <td>On-site</td>\n",
       "    </tr>\n",
       "    <tr>\n",
       "      <th>15873</th>\n",
       "      <td>FUNCTIONAL CONSULTANT ORACLE FUSION - HCM</td>\n",
       "      <td>Level 3 BOS · Karachi Division, Sindh, Pakista...</td>\n",
       "      <td>On-site\\n\\n \\nFull-time\\n\\n \\nMid-Senior level</td>\n",
       "      <td>https://www.linkedin.com/jobs/view/3771943212</td>\n",
       "      <td>201-500 employees · Outsourcing and Offshoring...</td>\n",
       "      <td>3771943212</td>\n",
       "      <td>Level 3 BOS</td>\n",
       "      <td>Karachi Division, Sindh, Pakistan  \\n1 week a...</td>\n",
       "      <td>Not specified</td>\n",
       "      <td>19</td>\n",
       "      <td>1 week ago</td>\n",
       "      <td>3</td>\n",
       "      <td>Full-time</td>\n",
       "      <td>Mid-Senior level</td>\n",
       "      <td>On-site</td>\n",
       "    </tr>\n",
       "    <tr>\n",
       "      <th>15874</th>\n",
       "      <td>Community Associate</td>\n",
       "      <td>The Hive · Karachi Division, Sindh, Pakistan  ...</td>\n",
       "      <td>On-site\\n\\n \\nFull-time</td>\n",
       "      <td>https://www.linkedin.com/jobs/view/3767944844</td>\n",
       "      <td>11-50 employees</td>\n",
       "      <td>3767944844</td>\n",
       "      <td>The Hive</td>\n",
       "      <td>Karachi Division, Sindh, Pakistan  \\n1 week ago</td>\n",
       "      <td>Not specified</td>\n",
       "      <td>NaN</td>\n",
       "      <td>1 week ago</td>\n",
       "      <td>2</td>\n",
       "      <td>Full-time</td>\n",
       "      <td>Not specified</td>\n",
       "      <td>On-site</td>\n",
       "    </tr>\n",
       "  </tbody>\n",
       "</table>\n",
       "<p>7996 rows × 15 columns</p>\n",
       "</div>"
      ],
      "text/plain": [
       "                                               Job Title  \\\n",
       "3997                    Team Lead Performance Management   \n",
       "3998                                 Solutions Architect   \n",
       "3999                      Customer Support Executive UAE   \n",
       "4000   Cash Management Product Manager (Mashreq Globa...   \n",
       "4001                            Senior Territory Manager   \n",
       "...                                                  ...   \n",
       "15869                                    Unity Developer   \n",
       "15870    Manager – Growth Chat & SMS (Digital Marketing)   \n",
       "15872                    Information Security Specialist   \n",
       "15873          FUNCTIONAL CONSULTANT ORACLE FUSION - HCM   \n",
       "15874                                Community Associate   \n",
       "\n",
       "                                                Job Info  \\\n",
       "3997   Telenor Microfinance Bank Limited · Islamabad,...   \n",
       "3998   SwipBox · Islāmābād, Pakistan  \\n4 days ago\\n\\...   \n",
       "3999   Abacus Outsourcing · Lahore, Punjab, Pakistan ...   \n",
       "4000   Mashreq · Karachi Division, Sindh, Pakistan  \\...   \n",
       "4001   foodpanda · Islamabad, Islāmābād, Pakistan  \\n...   \n",
       "...                                                  ...   \n",
       "15869  Codiea.io · Bahawalpur, Punjab, Pakistan  \\n1 ...   \n",
       "15870  Bank Alfalah Limited · Karāchi, Sindh, Pakista...   \n",
       "15872  DPL · Islamabad, Islāmābād, Pakistan  \\n1 week...   \n",
       "15873  Level 3 BOS · Karachi Division, Sindh, Pakista...   \n",
       "15874  The Hive · Karachi Division, Sindh, Pakistan  ...   \n",
       "\n",
       "                                             Job Type  \\\n",
       "3997   On-site\\n\\n \\nFull-time\\n\\n \\nMid-Senior level   \n",
       "3998   On-site\\n\\n \\nFull-time\\n\\n \\nMid-Senior level   \n",
       "3999   On-site\\n\\n \\nFull-time\\n\\n \\nMid-Senior level   \n",
       "4000   On-site\\n\\n \\nFull-time\\n\\n \\nMid-Senior level   \n",
       "4001   On-site\\n\\n \\nFull-time\\n\\n \\nMid-Senior level   \n",
       "...                                               ...   \n",
       "15869                         On-site\\n\\n \\nFull-time   \n",
       "15870  On-site\\n\\n \\nFull-time\\n\\n \\nMid-Senior level   \n",
       "15872       On-site\\n\\n \\nFull-time\\n\\n \\nEntry level   \n",
       "15873  On-site\\n\\n \\nFull-time\\n\\n \\nMid-Senior level   \n",
       "15874                         On-site\\n\\n \\nFull-time   \n",
       "\n",
       "                                            Job Link  \\\n",
       "3997   https://www.linkedin.com/jobs/view/3734530164   \n",
       "3998   https://www.linkedin.com/jobs/view/3735939988   \n",
       "3999   https://www.linkedin.com/jobs/view/3734589987   \n",
       "4000   https://www.linkedin.com/jobs/view/3734539790   \n",
       "4001   https://www.linkedin.com/jobs/view/3734537706   \n",
       "...                                              ...   \n",
       "15869  https://www.linkedin.com/jobs/view/3767951886   \n",
       "15870  https://www.linkedin.com/jobs/view/3767355025   \n",
       "15872  https://www.linkedin.com/jobs/view/3772530977   \n",
       "15873  https://www.linkedin.com/jobs/view/3771943212   \n",
       "15874  https://www.linkedin.com/jobs/view/3767944844   \n",
       "\n",
       "                                               employees      Job ID  \\\n",
       "3997                     1,001-5,000 employees · Banking  3734530164   \n",
       "3998   51-200 employees · Transportation, Logistics, ...  3735939988   \n",
       "3999   1,001-5,000 employees · Outsourcing and Offsho...  3734589987   \n",
       "4000                     1,001-5,000 employees · Banking  3734539790   \n",
       "4001   5,001-10,000 employees · Internet Marketplace ...  3734537706   \n",
       "...                                                  ...         ...   \n",
       "15869                                     1-10 employees  3767951886   \n",
       "15870                   5,001-10,000 employees · Banking  3767355025   \n",
       "15872   51-200 employees · IT Services and IT Consulting  3772530977   \n",
       "15873  201-500 employees · Outsourcing and Offshoring...  3771943212   \n",
       "15874                                    11-50 employees  3767944844   \n",
       "\n",
       "                                  company  \\\n",
       "3997   Telenor Microfinance Bank Limited    \n",
       "3998                             SwipBox    \n",
       "3999                  Abacus Outsourcing    \n",
       "4000                             Mashreq    \n",
       "4001                           foodpanda    \n",
       "...                                   ...   \n",
       "15869                          Codiea.io    \n",
       "15870               Bank Alfalah Limited    \n",
       "15872                                DPL    \n",
       "15873                        Level 3 BOS    \n",
       "15874                           The Hive    \n",
       "\n",
       "                                                location  Remote/Onsite  \\\n",
       "3997    Islamabad, Islāmābād, Pakistan  \\n4 days ago\\...  Not specified   \n",
       "3998              Islāmābād, Pakistan  \\n4 days ago\\n\\n   Not specified   \n",
       "3999    Lahore, Punjab, Pakistan Reposted  \\n1 day ag...  Not specified   \n",
       "4000    Karachi Division, Sindh, Pakistan  \\n4 days a...  Not specified   \n",
       "4001    Islamabad, Islāmābād, Pakistan  \\n4 days ago\\...  Not specified   \n",
       "...                                                  ...            ...   \n",
       "15869         Bahawalpur, Punjab, Pakistan  \\n1 week ago  Not specified   \n",
       "15870             Karāchi, Sindh, Pakistan  \\n1 week ago  Not specified   \n",
       "15872   Islamabad, Islāmābād, Pakistan  \\n1 week ago\\...  Not specified   \n",
       "15873   Karachi Division, Sindh, Pakistan  \\n1 week a...  Not specified   \n",
       "15874    Karachi Division, Sindh, Pakistan  \\n1 week ago  Not specified   \n",
       "\n",
       "      n_applicant job posting time  Job Type nElements   Job-Type  \\\n",
       "3997          490       4 days ago                   3  Full-time   \n",
       "3998           37       4 days ago                   3  Full-time   \n",
       "3999          367        1 day ago                   3  Full-time   \n",
       "4000          237       4 days ago                   3  Full-time   \n",
       "4001          272       4 days ago                   3  Full-time   \n",
       "...           ...              ...                 ...        ...   \n",
       "15869         NaN       1 week ago                   2  Full-time   \n",
       "15870         NaN       1 week ago                   3  Full-time   \n",
       "15872          83       1 week ago                   3  Full-time   \n",
       "15873          19       1 week ago                   3  Full-time   \n",
       "15874         NaN       1 week ago                   2  Full-time   \n",
       "\n",
       "       Experience Level Remote/Onsite-2  \n",
       "3997   Mid-Senior level         On-site  \n",
       "3998   Mid-Senior level         On-site  \n",
       "3999   Mid-Senior level         On-site  \n",
       "4000   Mid-Senior level         On-site  \n",
       "4001   Mid-Senior level         On-site  \n",
       "...                 ...             ...  \n",
       "15869     Not specified         On-site  \n",
       "15870  Mid-Senior level         On-site  \n",
       "15872       Entry level         On-site  \n",
       "15873  Mid-Senior level         On-site  \n",
       "15874     Not specified         On-site  \n",
       "\n",
       "[7996 rows x 15 columns]"
      ]
     },
     "execution_count": 1949,
     "metadata": {},
     "output_type": "execute_result"
    }
   ],
   "source": [
    "df[df['Remote/Onsite']=='Not specified'][df['Remote/Onsite-2'].isin(On_site_remote_options)]"
   ]
  },
  {
   "cell_type": "code",
   "execution_count": 1950,
   "id": "ce51f7db-f3f4-449e-9f67-2ad4144cdee2",
   "metadata": {},
   "outputs": [
    {
     "name": "stderr",
     "output_type": "stream",
     "text": [
      "C:\\Users\\BILAL.COM\\AppData\\Local\\Temp\\ipykernel_10124\\1327332202.py:1: UserWarning: Boolean Series key will be reindexed to match DataFrame index.\n",
      "  df[df['Remote/Onsite']=='Not specified'][df['Remote/Onsite-2'].isin(On_site_remote_options)]['Remote/Onsite']\n"
     ]
    },
    {
     "data": {
      "text/plain": [
       "3997     Not specified\n",
       "3998     Not specified\n",
       "3999     Not specified\n",
       "4000     Not specified\n",
       "4001     Not specified\n",
       "             ...      \n",
       "15869    Not specified\n",
       "15870    Not specified\n",
       "15872    Not specified\n",
       "15873    Not specified\n",
       "15874    Not specified\n",
       "Name: Remote/Onsite, Length: 7996, dtype: object"
      ]
     },
     "execution_count": 1950,
     "metadata": {},
     "output_type": "execute_result"
    }
   ],
   "source": [
    "df[df['Remote/Onsite']=='Not specified'][df['Remote/Onsite-2'].isin(On_site_remote_options)]['Remote/Onsite']"
   ]
  },
  {
   "cell_type": "code",
   "execution_count": 1951,
   "id": "40103e59-fda3-4068-8602-e1a7e7a13739",
   "metadata": {},
   "outputs": [
    {
     "name": "stderr",
     "output_type": "stream",
     "text": [
      "C:\\Users\\BILAL.COM\\AppData\\Local\\Temp\\ipykernel_10124\\3732851105.py:1: UserWarning: Boolean Series key will be reindexed to match DataFrame index.\n",
      "  df[df['Remote/Onsite']=='Not specified'][df['Remote/Onsite-2'].isin(On_site_remote_options)]['Remote/Onsite']=df[df['Remote/Onsite-2'].isin(On_site_remote_options)]['Remote/Onsite-2']\n"
     ]
    }
   ],
   "source": [
    "df[df['Remote/Onsite']=='Not specified'][df['Remote/Onsite-2'].isin(On_site_remote_options)]['Remote/Onsite']=df[df['Remote/Onsite-2'].isin(On_site_remote_options)]['Remote/Onsite-2']"
   ]
  },
  {
   "cell_type": "code",
   "execution_count": 1952,
   "id": "6f5864b6-25b8-424b-8a22-e59ddf9cfa3c",
   "metadata": {},
   "outputs": [
    {
     "data": {
      "text/plain": [
       "Remote/Onsite\n",
       "Not specified    8396\n",
       "On-site          2616\n",
       "Remote            525\n",
       "Hybrid            200\n",
       "Name: count, dtype: int64"
      ]
     },
     "execution_count": 1952,
     "metadata": {},
     "output_type": "execute_result"
    }
   ],
   "source": [
    "df['Remote/Onsite'].value_counts()"
   ]
  },
  {
   "cell_type": "markdown",
   "id": "b28ed11e-09be-4656-8eb3-7dc08c79ffb6",
   "metadata": {},
   "source": [
    "***not changed***"
   ]
  },
  {
   "cell_type": "code",
   "execution_count": 1953,
   "id": "addbfafe-3fd6-40c8-8b17-3eda65b6dc0b",
   "metadata": {},
   "outputs": [
    {
     "name": "stderr",
     "output_type": "stream",
     "text": [
      "C:\\Users\\BILAL.COM\\AppData\\Local\\Temp\\ipykernel_10124\\1029757084.py:1: SettingWithCopyWarning: \n",
      "A value is trying to be set on a copy of a slice from a DataFrame\n",
      "\n",
      "See the caveats in the documentation: https://pandas.pydata.org/pandas-docs/stable/user_guide/indexing.html#returning-a-view-versus-a-copy\n",
      "  df['Remote/Onsite'].iloc[0]='remote'\n"
     ]
    }
   ],
   "source": [
    "df['Remote/Onsite'].iloc[0]='remote'\n",
    "df.loc[0, 'Remote/Onsite'] = 'Remote'"
   ]
  },
  {
   "cell_type": "code",
   "execution_count": 1954,
   "id": "09633022-03cf-4f82-ac7f-19a529f816c0",
   "metadata": {},
   "outputs": [
    {
     "data": {
      "text/plain": [
       "'Remote'"
      ]
     },
     "execution_count": 1954,
     "metadata": {},
     "output_type": "execute_result"
    }
   ],
   "source": [
    "df['Remote/Onsite'].iloc[0]"
   ]
  },
  {
   "cell_type": "markdown",
   "id": "3145fa69-e20d-4701-80f4-166c36f1d044",
   "metadata": {},
   "source": [
    "#### replace method\n",
    "not working"
   ]
  },
  {
   "cell_type": "raw",
   "id": "978d8ad1-634f-4afd-baaf-42e57aeaf0d0",
   "metadata": {},
   "source": [
    "condition = (df['Remote/Onsite'] == 'Not specified') & (df['Remote/Onsite-2'].isin(On_site_remote_options))\n",
    "df['Remote/Onsite'].replace({'Not specified': df['Remote/Onsite-2']}, inplace=True, regex=True, subset=condition)\n",
    "# TypeError: NDFrame.replace() got an unexpected keyword argument 'subset'"
   ]
  },
  {
   "cell_type": "markdown",
   "id": "badcede2-1396-4cda-b6cd-0897291cf7fa",
   "metadata": {},
   "source": [
    "#### Using numpy.where:\n",
    "working"
   ]
  },
  {
   "cell_type": "code",
   "execution_count": 1955,
   "id": "10c701ac-63be-4e10-983e-389f3070efcf",
   "metadata": {},
   "outputs": [],
   "source": [
    "# import numpy as np\n",
    "\n",
    "# condition = (df['Remote/Onsite'] == 'Not specified') & (df['Remote/Onsite-2'].isin(On_site_remote_options))\n",
    "# df['Remote/Onsite'] = np.where(condition, df['Remote/Onsite-2'], df['Remote/Onsite'])\n",
    "# ### working"
   ]
  },
  {
   "cell_type": "markdown",
   "id": "7a4545f3-822e-498c-a047-5a935c5a2e52",
   "metadata": {},
   "source": [
    "#### Using mask method:\n",
    "working"
   ]
  },
  {
   "cell_type": "code",
   "execution_count": 1956,
   "id": "52729163-8b38-46c1-9acb-7433161e86a9",
   "metadata": {},
   "outputs": [],
   "source": [
    "# condition = (df['Remote/Onsite'] == 'Not specified') & (df['Remote/Onsite-2'].isin(On_site_remote_options))\n",
    "# df['Remote/Onsite'] = df['Remote/Onsite'].mask(condition, df['Remote/Onsite-2'])\n"
   ]
  },
  {
   "cell_type": "markdown",
   "id": "7e7e3519-f30a-4b18-9305-c4d36470037b",
   "metadata": {},
   "source": [
    "#### Using apply method:\n",
    "working"
   ]
  },
  {
   "cell_type": "code",
   "execution_count": 1957,
   "id": "d1d46f26-97f2-496d-90b7-80672a68c584",
   "metadata": {},
   "outputs": [],
   "source": [
    "# def replace_remote(row):\n",
    "#     if row['Remote/Onsite'] == 'Not specified' and row['Remote/Onsite-2'] in On_site_remote_options:\n",
    "#         return row['Remote/Onsite-2']\n",
    "#     else:\n",
    "#         return row['Remote/Onsite']\n",
    "\n",
    "# df['Remote/Onsite'] = df.apply(replace_remote, axis=1)\n"
   ]
  },
  {
   "cell_type": "markdown",
   "id": "a8489ead-1211-4296-aa6f-7624e60da19b",
   "metadata": {},
   "source": [
    "#### boolean indexing\n",
    "working"
   ]
  },
  {
   "cell_type": "code",
   "execution_count": 1958,
   "id": "16b7b11d-69e1-4217-ad1e-a7996e839714",
   "metadata": {},
   "outputs": [],
   "source": [
    "# condition = (df['Remote/Onsite'] == 'Not specified') & (df['Remote/Onsite-2'].isin(On_site_remote_options))\n",
    "# df.loc[condition, 'Remote/Onsite'] = df.loc[condition, 'Remote/Onsite-2']\n"
   ]
  },
  {
   "cell_type": "markdown",
   "id": "93e685a7-152e-4155-9971-4aa9c5050615",
   "metadata": {},
   "source": [
    "#### as 3997th index to onward pattern changed :slicing"
   ]
  },
  {
   "cell_type": "code",
   "execution_count": 1959,
   "id": "eb934b76-f869-49b4-921f-e8f8481252d7",
   "metadata": {},
   "outputs": [],
   "source": [
    "# df['Remote/Onsite'].iloc[3438:]\n",
    "# df['Remote/Onsite'].iloc[3438:]=df['Remote/Onsite-2'].iloc[3438:]\n",
    "# df.loc[3438:, 'Remote/Onsite'] = df['Remote/Onsite-2'].iloc[3438:]  #loc point index so index is 3997\n",
    "# 3997-3438 more rows\n",
    "df.loc[3997:, 'Remote/Onsite'] = df['Remote/Onsite-2'].iloc[3438:]"
   ]
  },
  {
   "cell_type": "code",
   "execution_count": 1961,
   "id": "c965b829-57b9-46a2-8595-c0e5b03687e0",
   "metadata": {},
   "outputs": [
    {
     "data": {
      "text/plain": [
       "Remote/Onsite\n",
       "On-site          8336\n",
       "Remote           2250\n",
       "Hybrid            751\n",
       "Not specified     400\n",
       "Name: count, dtype: int64"
      ]
     },
     "execution_count": 1961,
     "metadata": {},
     "output_type": "execute_result"
    }
   ],
   "source": [
    "df['Remote/Onsite'].value_counts()"
   ]
  },
  {
   "cell_type": "code",
   "execution_count": 1962,
   "id": "c22de264-6656-4137-a6a0-048d2ca8e0e6",
   "metadata": {},
   "outputs": [],
   "source": [
    "df.drop(columns=['Remote/Onsite-2'], inplace=True)"
   ]
  },
  {
   "cell_type": "markdown",
   "id": "dc3c0ad3-e76e-46f3-be48-dd3b8f24596f",
   "metadata": {},
   "source": [
    "#### working on employees feature , Extracting no of employees and industry feature from employees feature"
   ]
  },
  {
   "cell_type": "code",
   "execution_count": 109,
   "id": "1b90ffe3-3fc0-4be0-a4bd-9202043821c2",
   "metadata": {},
   "outputs": [
    {
     "data": {
      "text/plain": [
       "array(['11-50 employees', '51-200 employees',\n",
       "       'Mobeen Naqvi is hiring for this job',\n",
       "       '1,001-5,000 employees · Software Development',\n",
       "       '501-1,000 employees · IT Services and IT Consulting',\n",
       "       '501-1,000 employees · Telecommunications',\n",
       "       '1,001-5,000 employees · Banking', '201-500 employees',\n",
       "       '10,001+ employees', '51-200 employees · Human Resources Services'],\n",
       "      dtype=object)"
      ]
     },
     "execution_count": 109,
     "metadata": {},
     "output_type": "execute_result"
    }
   ],
   "source": [
    "df['employees'].unique()[:10]"
   ]
  },
  {
   "cell_type": "code",
   "execution_count": 110,
   "id": "32d3b526-b511-46fe-bd31-0d8f6e92a449",
   "metadata": {},
   "outputs": [],
   "source": [
    "inconsistent_values_in_employees_feature = ['is hiring for this job', \n",
    "                                            'See how you compare', \n",
    "                                            'Job poster joined LinkedIn',\n",
    "                                           'school alum works here',\n",
    "                                            'alumni work here',\n",
    "                                            'See recent hiring trends'\n",
    "                                           ]"
   ]
  },
  {
   "cell_type": "code",
   "execution_count": 111,
   "id": "36f3699e-ee2b-4e34-bb01-fcf42b9d4f20",
   "metadata": {},
   "outputs": [],
   "source": [
    "L1=[] #for employees \n",
    "L2=[] #for industry\n",
    "for feature_element in df['employees'].iloc[:]:\n",
    "    flag=0\n",
    "    for value in inconsistent_values_in_employees_feature:\n",
    "        if value in feature_element:\n",
    "            flag=1\n",
    "            \n",
    "    if flag==1:\n",
    "        L1.append('Not specified')\n",
    "        L2.append('Not specified')\n",
    "    else:\n",
    "        if len(feature_element.split('·'))==1:\n",
    "            L1.append(feature_element)\n",
    "            L2.append('Not specified')\n",
    "        elif len(feature_element.split('·'))==2:\n",
    "            L1.append(feature_element.split('·')[0])\n",
    "            L2.append(feature_element.split('·')[1])\n",
    "        else:\n",
    "            L1.append('Other')\n",
    "            L2.append('Other')"
   ]
  },
  {
   "cell_type": "code",
   "execution_count": 115,
   "id": "152306f9-1ed9-4c99-ad31-9f8bccebbd16",
   "metadata": {},
   "outputs": [
    {
     "data": {
      "text/plain": [
       "11737"
      ]
     },
     "execution_count": 115,
     "metadata": {},
     "output_type": "execute_result"
    }
   ],
   "source": [
    "len(L1)"
   ]
  },
  {
   "cell_type": "code",
   "execution_count": 116,
   "id": "9a594274-4f82-4096-94fa-1aa0e79b0d6b",
   "metadata": {},
   "outputs": [
    {
     "data": {
      "text/plain": [
       "11737"
      ]
     },
     "execution_count": 116,
     "metadata": {},
     "output_type": "execute_result"
    }
   ],
   "source": [
    "len(L2)"
   ]
  },
  {
   "cell_type": "code",
   "execution_count": 117,
   "id": "1b6ae4aa-d237-4ac9-96a8-a615c71ca3b8",
   "metadata": {},
   "outputs": [],
   "source": [
    "df.loc[:,'Comp_N_Employees']=L1"
   ]
  },
  {
   "cell_type": "code",
   "execution_count": 118,
   "id": "68499b51-3006-44b5-9801-2f9487c65d87",
   "metadata": {},
   "outputs": [],
   "source": [
    "df.loc[:,'Comp_Industry']=L2"
   ]
  },
  {
   "cell_type": "code",
   "execution_count": 119,
   "id": "4eb3cbab-b065-4771-bc86-8f1c7b2f25e1",
   "metadata": {},
   "outputs": [
    {
     "data": {
      "text/plain": [
       "array(['11-50 employees', '51-200 employees', 'Not specified',\n",
       "       '1,001-5,000 employees ', '501-1,000 employees ',\n",
       "       '201-500 employees', '10,001+ employees', '51-200 employees ',\n",
       "       '501-1,000 employees', '1,001-5,000 employees', '1-10 employees ',\n",
       "       '10,001+ employees ', '1-10 employees', '5,001-10,000 employees',\n",
       "       '201-500 employees ', '5,001-10,000 employees ',\n",
       "       '11-50 employees ', '1 company alum works here',\n",
       "       'Industrial Automation'], dtype=object)"
      ]
     },
     "execution_count": 119,
     "metadata": {},
     "output_type": "execute_result"
    }
   ],
   "source": [
    "df['Comp_N_Employees'].unique()"
   ]
  },
  {
   "cell_type": "code",
   "execution_count": 120,
   "id": "a325ba8a-0c0e-402b-ab0c-50c3ebd216f9",
   "metadata": {},
   "outputs": [
    {
     "data": {
      "text/plain": [
       "19"
      ]
     },
     "execution_count": 120,
     "metadata": {},
     "output_type": "execute_result"
    }
   ],
   "source": [
    "len(df['Comp_N_Employees'].unique())"
   ]
  },
  {
   "cell_type": "code",
   "execution_count": 121,
   "id": "cd91f95d-0843-4468-b5fa-060085444193",
   "metadata": {},
   "outputs": [
    {
     "data": {
      "text/plain": [
       "Comp_N_Employees\n",
       "11-50 employees              2258\n",
       "5,001-10,000 employees       1481\n",
       "51-200 employees             1407\n",
       "1,001-5,000 employees        1228\n",
       "10,001+ employees            1133\n",
       "Not specified                 946\n",
       "1-10 employees                674\n",
       "201-500 employees             596\n",
       "51-200 employees              464\n",
       "201-500 employees             346\n",
       "501-1,000 employees           340\n",
       "11-50 employees               273\n",
       "501-1,000 employees           189\n",
       "1,001-5,000 employees         165\n",
       "1-10 employees                126\n",
       "5,001-10,000 employees         60\n",
       "10,001+ employees              49\n",
       "1 company alum works here       1\n",
       "Industrial Automation           1\n",
       "Name: count, dtype: int64"
      ]
     },
     "execution_count": 121,
     "metadata": {},
     "output_type": "execute_result"
    }
   ],
   "source": [
    "df['Comp_N_Employees'].value_counts()"
   ]
  },
  {
   "cell_type": "code",
   "execution_count": 122,
   "id": "a4366811-e5bc-4e0e-a3b1-438c60e74b01",
   "metadata": {},
   "outputs": [
    {
     "data": {
      "text/plain": [
       "array(['Not specified', ' Software Development',\n",
       "       ' IT Services and IT Consulting', ' Telecommunications',\n",
       "       ' Banking', ' Human Resources Services',\n",
       "       ' Technology, Information and Internet',\n",
       "       ' Retail Apparel and Fashion', ' International Affairs',\n",
       "       ' Higher Education', ' Information Technology & Services',\n",
       "       ' Financial Services', ' Packaging and Containers Manufacturing',\n",
       "       ' Executive Offices', ' Food and Beverage Manufacturing',\n",
       "       ' Food and Beverage Services', ' Tobacco Manufacturing',\n",
       "       ' Business Consulting and Services', ' Entertainment Providers',\n",
       "       ' Wholesale Building Materials',\n",
       "       ' Outsourcing and Offshoring Consulting',\n",
       "       ' Pharmaceutical Manufacturing', ' Motor Vehicle Manufacturing',\n",
       "       ' Non-profit Organizations', ' Research Services',\n",
       "       ' Advertising Services', ' Beverage Manufacturing',\n",
       "       ' Outsourcing/Offshoring', ' Hospitals and Health Care',\n",
       "       ' Farming', ' Oil and Gas', ' Real Estate',\n",
       "       ' Professional Services', ' Automation Machinery Manufacturing',\n",
       "       ' Book and Periodical Publishing',\n",
       "       ' Computer and Network Security', ' Information Services',\n",
       "       ' Education', ' International Trade and Development',\n",
       "       ' Staffing and Recruiting',\n",
       "       ' Transportation, Logistics, Supply Chain and Storage',\n",
       "       ' Human Resources', ' Medical Practices', ' Manufacturing',\n",
       "       ' Paper and Forest Product Manufacturing',\n",
       "       ' Non-profit Organization Management',\n",
       "       ' Internet Marketplace Platforms',\n",
       "       ' Personal Care Product Manufacturing', ' Retail',\n",
       "       ' Biotechnology Research', ' Consumer Services', ' Consumer Goods',\n",
       "       ' Media Production', ' Accounting',\n",
       "       ' Translation and Localization', ' Events Services',\n",
       "       ' Retail Luxury Goods and Jewelry', ' Apparel & Fashion',\n",
       "       ' Automotive', ' Chemical Manufacturing', ' Think Tanks',\n",
       "       ' Public Safety', ' IT System Custom Software Development',\n",
       "       ' Food Production', ' Strategic Management Services',\n",
       "       ' Airlines and Aviation', ' Holding Companies',\n",
       "       ' Facilities Services', ' Leisure, Travel & Tourism',\n",
       "       ' Design Services', ' Education Administration Programs',\n",
       "       ' Blockchain Services',\n",
       "       ' Renewable Energy Semiconductor Manufacturing',\n",
       "       ' Marketing Services', ' Electric Power Generation',\n",
       "       ' Aviation and Aerospace Component Manufacturing',\n",
       "       ' Renewable Energy Equipment Manufacturing',\n",
       "       ' Education Management', ' Wholesale', ' Utilities',\n",
       "       ' Industrial Machinery Manufacturing', ' Furniture',\n",
       "       ' Engineering Services', ' Medical Equipment Manufacturing',\n",
       "       ' Semiconductor Manufacturing',\n",
       "       ' Technology, Information and Media', ' Packaging & Containers',\n",
       "       ' Online Audio and Video Media', ' Architecture and Planning',\n",
       "       ' Civic and Social Organizations', ' E-Learning Providers',\n",
       "       ' Research', ' Professional Training and Coaching',\n",
       "       ' Writing and Editing', ' Investment Advice',\n",
       "       ' Appliances, Electrical, and Electronics Manufacturing',\n",
       "       ' Internet Publishing', ' Primary and Secondary Education',\n",
       "       ' Civil Engineering', ' Investment Management', ' Mining',\n",
       "       ' Wellness and Fitness Services', ' Retail Office Equipment',\n",
       "       ' Construction', ' Music',\n",
       "       ' Electric Power Transmission, Control, and Distribution',\n",
       "       ' Textile Manufacturing', ' Wholesale Import and Export',\n",
       "       ' Environmental Services', ' Maritime Transportation',\n",
       "       ' Retail Furniture and Home Furnishings', ' Computer Games'],\n",
       "      dtype=object)"
      ]
     },
     "execution_count": 122,
     "metadata": {},
     "output_type": "execute_result"
    }
   ],
   "source": [
    "df['Comp_Industry'].unique()"
   ]
  },
  {
   "cell_type": "code",
   "execution_count": 123,
   "id": "9cb0e76a-4c5b-4e0d-a0ea-ed8b9785b06d",
   "metadata": {},
   "outputs": [
    {
     "data": {
      "text/plain": [
       "112"
      ]
     },
     "execution_count": 123,
     "metadata": {},
     "output_type": "execute_result"
    }
   ],
   "source": [
    "len(df['Comp_Industry'].unique())"
   ]
  },
  {
   "cell_type": "code",
   "execution_count": 124,
   "id": "9d00ddcf-5263-4953-916c-b9599dbae795",
   "metadata": {},
   "outputs": [
    {
     "data": {
      "text/plain": [
       "Comp_Industry\n",
       "Not specified                                6346\n",
       " IT Services and IT Consulting               1758\n",
       " Software Development                         612\n",
       " Telecommunications                           310\n",
       " Real Estate                                  290\n",
       "                                             ... \n",
       " Renewable Energy Equipment Manufacturing       1\n",
       " Writing and Editing                            1\n",
       " Furniture                                      1\n",
       " Research                                       1\n",
       " Retail Luxury Goods and Jewelry                1\n",
       "Name: count, Length: 112, dtype: int64"
      ]
     },
     "execution_count": 124,
     "metadata": {},
     "output_type": "execute_result"
    }
   ],
   "source": [
    "df['Comp_Industry'].value_counts()"
   ]
  },
  {
   "cell_type": "code",
   "execution_count": null,
   "id": "b246f237-8c43-4c8d-9c57-d7b1956a0a22",
   "metadata": {},
   "outputs": [],
   "source": []
  },
  {
   "cell_type": "code",
   "execution_count": null,
   "id": "b9786b4b-6567-4321-83f0-78b2eaeb2be0",
   "metadata": {},
   "outputs": [],
   "source": []
  },
  {
   "cell_type": "code",
   "execution_count": 1963,
   "id": "d0c79dd7-2344-4d59-ac09-23653f9d654a",
   "metadata": {},
   "outputs": [
    {
     "data": {
      "text/plain": [
       "Index(['Job Title', 'Job Info', 'Job Type', 'Job Link', 'employees', 'Job ID',\n",
       "       'company', 'location', 'Remote/Onsite', 'n_applicant',\n",
       "       'job posting time', 'Job Type nElements', 'Job-Type',\n",
       "       'Experience Level'],\n",
       "      dtype='object')"
      ]
     },
     "execution_count": 1963,
     "metadata": {},
     "output_type": "execute_result"
    }
   ],
   "source": [
    "df.columns"
   ]
  },
  {
   "cell_type": "code",
   "execution_count": 127,
   "id": "b037624a-1ce9-49f2-a9f2-13d65bd17784",
   "metadata": {},
   "outputs": [
    {
     "data": {
      "text/plain": [
       "14"
      ]
     },
     "execution_count": 127,
     "metadata": {},
     "output_type": "execute_result"
    }
   ],
   "source": [
    "len(df.columns)"
   ]
  },
  {
   "cell_type": "markdown",
   "id": "17bbc916-da24-4b71-9dbf-655b2fc55246",
   "metadata": {},
   "source": [
    "## End Note"
   ]
  },
  {
   "cell_type": "markdown",
   "id": "97853cea-0221-43bb-959a-072ae6550380",
   "metadata": {},
   "source": [
    "***We have to work on location feature to make it meaningfull***\n",
    "\n",
    "***n_applicant_have_4686_null_values,investigate it***\n",
    "\n",
    "***make a new ratio feature of posting time and n_applicant feature***"
   ]
  },
  {
   "cell_type": "markdown",
   "id": "589a7353-002a-43da-bcee-575623233ffb",
   "metadata": {},
   "source": [
    "****"
   ]
  },
  {
   "cell_type": "markdown",
   "id": "c5ee325e-6539-4fbb-97fc-7dcb815c2eef",
   "metadata": {},
   "source": [
    "# To be noted that:\n",
    "***remove dulicates first and then remove null values to avoid warning***"
   ]
  },
  {
   "cell_type": "markdown",
   "id": "97c9af5f-2472-4ecf-937e-0aaaaa45d588",
   "metadata": {},
   "source": [
    "***first remove duplicates and then remove null values because this way we can avoid warning***\n"
   ]
  },
  {
   "cell_type": "code",
   "execution_count": null,
   "id": "4271b9db-156e-4b5c-bdf3-d649f6725e96",
   "metadata": {},
   "outputs": [],
   "source": []
  }
 ],
 "metadata": {
  "kernelspec": {
   "display_name": "Python 3 (ipykernel)",
   "language": "python",
   "name": "python3"
  },
  "language_info": {
   "codemirror_mode": {
    "name": "ipython",
    "version": 3
   },
   "file_extension": ".py",
   "mimetype": "text/x-python",
   "name": "python",
   "nbconvert_exporter": "python",
   "pygments_lexer": "ipython3",
   "version": "3.11.4"
  }
 },
 "nbformat": 4,
 "nbformat_minor": 5
}
