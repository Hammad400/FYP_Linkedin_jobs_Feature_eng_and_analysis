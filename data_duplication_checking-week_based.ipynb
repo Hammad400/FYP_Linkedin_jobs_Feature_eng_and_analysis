{
 "cells": [
  {
   "cell_type": "code",
   "execution_count": 1,
   "id": "81ac062a-82c7-49ee-b287-c219641155b6",
   "metadata": {},
   "outputs": [],
   "source": [
    "import pandas as pd\n",
    "import numpy as np\n",
    "import os\n",
    "from datetime import datetime"
   ]
  },
  {
   "cell_type": "code",
   "execution_count": 2,
   "id": "33d8abb1-a617-4557-b98f-5951966001a2",
   "metadata": {},
   "outputs": [],
   "source": [
    "path='Weekly Files Concatenated/Linkedin_Job_Details_26-Sep-2023-to-09-Oct-2023_4214-jobs_181-pages.csv'"
   ]
  },
  {
   "cell_type": "code",
   "execution_count": 3,
   "id": "ea083d0e-c886-4620-a6b3-778654b7f58b",
   "metadata": {},
   "outputs": [],
   "source": [
    "df=pd.read_csv(path)"
   ]
  },
  {
   "cell_type": "markdown",
   "id": "734d344d-ad4e-4f8d-965c-3b9eb36c5e56",
   "metadata": {},
   "source": [
    "### checking duplicates"
   ]
  },
  {
   "cell_type": "code",
   "execution_count": 4,
   "id": "ef2bd986-a157-46a1-83b8-4bef0c56e5d2",
   "metadata": {},
   "outputs": [
    {
     "data": {
      "text/plain": [
       "4214"
      ]
     },
     "execution_count": 4,
     "metadata": {},
     "output_type": "execute_result"
    }
   ],
   "source": [
    "len(df)"
   ]
  },
  {
   "cell_type": "code",
   "execution_count": 7,
   "id": "5c700a51-47f9-4064-8f27-57495dca99b7",
   "metadata": {},
   "outputs": [],
   "source": [
    "df['Job ID']=df['Job Link'].apply(lambda x:int(x.split('/')[5]))"
   ]
  },
  {
   "cell_type": "code",
   "execution_count": 10,
   "id": "f46f8835-2357-40fe-a25f-9ef307238a00",
   "metadata": {},
   "outputs": [
    {
     "data": {
      "text/plain": [
       "3623"
      ]
     },
     "execution_count": 10,
     "metadata": {},
     "output_type": "execute_result"
    }
   ],
   "source": [
    "len(df['Job ID'].unique())"
   ]
  },
  {
   "cell_type": "code",
   "execution_count": 12,
   "id": "16f03f39-ef42-4319-a853-b6aff4dcfc74",
   "metadata": {},
   "outputs": [
    {
     "data": {
      "text/plain": [
       "591"
      ]
     },
     "execution_count": 12,
     "metadata": {},
     "output_type": "execute_result"
    }
   ],
   "source": [
    "len(df)-len(df['Job ID'].unique())"
   ]
  },
  {
   "cell_type": "code",
   "execution_count": 13,
   "id": "4d8f3b78-ccbd-4c80-b351-f31500d65605",
   "metadata": {},
   "outputs": [
    {
     "data": {
      "text/plain": [
       "Job ID\n",
       "3720211981    9\n",
       "3723015510    7\n",
       "3723013969    6\n",
       "3723015541    6\n",
       "3723016496    6\n",
       "             ..\n",
       "3727586074    1\n",
       "3725569364    1\n",
       "3727905143    1\n",
       "3708061712    1\n",
       "3731006178    1\n",
       "Name: count, Length: 3623, dtype: int64"
      ]
     },
     "execution_count": 13,
     "metadata": {},
     "output_type": "execute_result"
    }
   ],
   "source": [
    "df['Job ID'].value_counts()"
   ]
  },
  {
   "cell_type": "code",
   "execution_count": 14,
   "id": "daac1f95-161c-4c80-8771-ee3e2905fc36",
   "metadata": {},
   "outputs": [
    {
     "data": {
      "text/plain": [
       "array([9, 7, 6, 5, 4, 3, 2, 1], dtype=int64)"
      ]
     },
     "execution_count": 14,
     "metadata": {},
     "output_type": "execute_result"
    }
   ],
   "source": [
    "df['Job ID'].value_counts().unique()"
   ]
  },
  {
   "cell_type": "code",
   "execution_count": 15,
   "id": "12346237-4553-4608-a1a0-090c7402ba68",
   "metadata": {},
   "outputs": [
    {
     "data": {
      "text/plain": [
       "591"
      ]
     },
     "execution_count": 15,
     "metadata": {},
     "output_type": "execute_result"
    }
   ],
   "source": [
    "duplicates_count=df.duplicated(subset=['Job ID']).sum()\n",
    "duplicates_count"
   ]
  },
  {
   "cell_type": "code",
   "execution_count": 16,
   "id": "88210200-bf59-441b-b4d7-d244ae038dee",
   "metadata": {},
   "outputs": [
    {
     "data": {
      "text/html": [
       "<div>\n",
       "<style scoped>\n",
       "    .dataframe tbody tr th:only-of-type {\n",
       "        vertical-align: middle;\n",
       "    }\n",
       "\n",
       "    .dataframe tbody tr th {\n",
       "        vertical-align: top;\n",
       "    }\n",
       "\n",
       "    .dataframe thead th {\n",
       "        text-align: right;\n",
       "    }\n",
       "</style>\n",
       "<table border=\"1\" class=\"dataframe\">\n",
       "  <thead>\n",
       "    <tr style=\"text-align: right;\">\n",
       "      <th></th>\n",
       "      <th>Job Title</th>\n",
       "      <th>Job Info</th>\n",
       "      <th>Job Type</th>\n",
       "      <th>Job Link</th>\n",
       "      <th>employees</th>\n",
       "      <th>Job ID</th>\n",
       "    </tr>\n",
       "  </thead>\n",
       "  <tbody>\n",
       "    <tr>\n",
       "      <th>603</th>\n",
       "      <td>Odoo Developer</td>\n",
       "      <td>AKSiQ · Karachi Division, Sindh, Pakistan (On-...</td>\n",
       "      <td>Full-time</td>\n",
       "      <td>https://www.linkedin.com/jobs/view/3727054738</td>\n",
       "      <td>11-50 employees</td>\n",
       "      <td>3727054738</td>\n",
       "    </tr>\n",
       "    <tr>\n",
       "      <th>781</th>\n",
       "      <td>Assistant Manager Sales/Sales Executive</td>\n",
       "      <td>Eastern Housing Pakistan · Multan, Punjab, Pak...</td>\n",
       "      <td>Full-time</td>\n",
       "      <td>https://www.linkedin.com/jobs/view/3727057147</td>\n",
       "      <td>201-500 employees</td>\n",
       "      <td>3727057147</td>\n",
       "    </tr>\n",
       "    <tr>\n",
       "      <th>834</th>\n",
       "      <td>Back-End Network Engineer</td>\n",
       "      <td>Turing · Pakistan (Remote) Reposted  \\n2 weeks...</td>\n",
       "      <td>Full-time · Entry level</td>\n",
       "      <td>https://www.linkedin.com/jobs/view/3726337380</td>\n",
       "      <td>1,001-5,000 employees · IT Services and IT Con...</td>\n",
       "      <td>3726337380</td>\n",
       "    </tr>\n",
       "    <tr>\n",
       "      <th>840</th>\n",
       "      <td>Release Management Engineer</td>\n",
       "      <td>AIIT Solutions · Rawalpindi, Punjab, Pakistan ...</td>\n",
       "      <td>Full-time</td>\n",
       "      <td>https://www.linkedin.com/jobs/view/3727054443</td>\n",
       "      <td>11-50 employees</td>\n",
       "      <td>3727054443</td>\n",
       "    </tr>\n",
       "    <tr>\n",
       "      <th>842</th>\n",
       "      <td>NaN</td>\n",
       "      <td>NaN</td>\n",
       "      <td>NaN</td>\n",
       "      <td>https://www.linkedin.com/jobs/view/3727051751</td>\n",
       "      <td>NaN</td>\n",
       "      <td>3727051751</td>\n",
       "    </tr>\n",
       "    <tr>\n",
       "      <th>...</th>\n",
       "      <td>...</td>\n",
       "      <td>...</td>\n",
       "      <td>...</td>\n",
       "      <td>...</td>\n",
       "      <td>...</td>\n",
       "      <td>...</td>\n",
       "    </tr>\n",
       "    <tr>\n",
       "      <th>4170</th>\n",
       "      <td>Software Engineer with AI Tooling Expertise, S...</td>\n",
       "      <td>Crossover  · Islamabad, Islāmābād, Pakistan Re...</td>\n",
       "      <td>Remote\\n\\n \\nFull-time\\n\\n \\nDirector</td>\n",
       "      <td>https://www.linkedin.com/jobs/view/3727370490</td>\n",
       "      <td>5,001-10,000 employees · IT Services and IT Co...</td>\n",
       "      <td>3727370490</td>\n",
       "    </tr>\n",
       "    <tr>\n",
       "      <th>4180</th>\n",
       "      <td>Software Engineer with AI Tooling Expertise, S...</td>\n",
       "      <td>Crossover  · Karāchi, Sindh, Pakistan Reposted...</td>\n",
       "      <td>Remote\\n\\n \\nFull-time\\n\\n \\nDirector</td>\n",
       "      <td>https://www.linkedin.com/jobs/view/3727370416</td>\n",
       "      <td>5,001-10,000 employees · IT Services and IT Co...</td>\n",
       "      <td>3727370416</td>\n",
       "    </tr>\n",
       "    <tr>\n",
       "      <th>4181</th>\n",
       "      <td>Technical Team Lead, Trilogy (Remote) - $100,0...</td>\n",
       "      <td>Crossover  · Rawalpindi, Punjab, Pakistan Repo...</td>\n",
       "      <td>Remote\\n\\n \\nFull-time\\n\\n \\nMid-Senior level</td>\n",
       "      <td>https://www.linkedin.com/jobs/view/3727367888</td>\n",
       "      <td>5,001-10,000 employees · IT Services and IT Co...</td>\n",
       "      <td>3727367888</td>\n",
       "    </tr>\n",
       "    <tr>\n",
       "      <th>4204</th>\n",
       "      <td>Principal Software Engineer, GFI Software (Rem...</td>\n",
       "      <td>Crossover  · Rawalpindi, Punjab, Pakistan Repo...</td>\n",
       "      <td>Remote\\n\\n \\nFull-time\\n\\n \\nMid-Senior level</td>\n",
       "      <td>https://www.linkedin.com/jobs/view/3723017385</td>\n",
       "      <td>5,001-10,000 employees · IT Services and IT Co...</td>\n",
       "      <td>3723017385</td>\n",
       "    </tr>\n",
       "    <tr>\n",
       "      <th>4205</th>\n",
       "      <td>Senior Software Architect, Trilogy (Remote) - ...</td>\n",
       "      <td>Crossover  · Rakhni, Baluchistan, Pakistan Rep...</td>\n",
       "      <td>Remote\\n\\n \\nFull-time\\n\\n \\nMid-Senior level</td>\n",
       "      <td>https://www.linkedin.com/jobs/view/3723021010</td>\n",
       "      <td>5,001-10,000 employees · IT Services and IT Co...</td>\n",
       "      <td>3723021010</td>\n",
       "    </tr>\n",
       "  </tbody>\n",
       "</table>\n",
       "<p>591 rows × 6 columns</p>\n",
       "</div>"
      ],
      "text/plain": [
       "                                              Job Title  \\\n",
       "603                                      Odoo Developer   \n",
       "781             Assistant Manager Sales/Sales Executive   \n",
       "834                           Back-End Network Engineer   \n",
       "840                         Release Management Engineer   \n",
       "842                                                 NaN   \n",
       "...                                                 ...   \n",
       "4170  Software Engineer with AI Tooling Expertise, S...   \n",
       "4180  Software Engineer with AI Tooling Expertise, S...   \n",
       "4181  Technical Team Lead, Trilogy (Remote) - $100,0...   \n",
       "4204  Principal Software Engineer, GFI Software (Rem...   \n",
       "4205  Senior Software Architect, Trilogy (Remote) - ...   \n",
       "\n",
       "                                               Job Info  \\\n",
       "603   AKSiQ · Karachi Division, Sindh, Pakistan (On-...   \n",
       "781   Eastern Housing Pakistan · Multan, Punjab, Pak...   \n",
       "834   Turing · Pakistan (Remote) Reposted  \\n2 weeks...   \n",
       "840   AIIT Solutions · Rawalpindi, Punjab, Pakistan ...   \n",
       "842                                                 NaN   \n",
       "...                                                 ...   \n",
       "4170  Crossover  · Islamabad, Islāmābād, Pakistan Re...   \n",
       "4180  Crossover  · Karāchi, Sindh, Pakistan Reposted...   \n",
       "4181  Crossover  · Rawalpindi, Punjab, Pakistan Repo...   \n",
       "4204  Crossover  · Rawalpindi, Punjab, Pakistan Repo...   \n",
       "4205  Crossover  · Rakhni, Baluchistan, Pakistan Rep...   \n",
       "\n",
       "                                           Job Type  \\\n",
       "603                                       Full-time   \n",
       "781                                       Full-time   \n",
       "834                         Full-time · Entry level   \n",
       "840                                       Full-time   \n",
       "842                                             NaN   \n",
       "...                                             ...   \n",
       "4170          Remote\\n\\n \\nFull-time\\n\\n \\nDirector   \n",
       "4180          Remote\\n\\n \\nFull-time\\n\\n \\nDirector   \n",
       "4181  Remote\\n\\n \\nFull-time\\n\\n \\nMid-Senior level   \n",
       "4204  Remote\\n\\n \\nFull-time\\n\\n \\nMid-Senior level   \n",
       "4205  Remote\\n\\n \\nFull-time\\n\\n \\nMid-Senior level   \n",
       "\n",
       "                                           Job Link  \\\n",
       "603   https://www.linkedin.com/jobs/view/3727054738   \n",
       "781   https://www.linkedin.com/jobs/view/3727057147   \n",
       "834   https://www.linkedin.com/jobs/view/3726337380   \n",
       "840   https://www.linkedin.com/jobs/view/3727054443   \n",
       "842   https://www.linkedin.com/jobs/view/3727051751   \n",
       "...                                             ...   \n",
       "4170  https://www.linkedin.com/jobs/view/3727370490   \n",
       "4180  https://www.linkedin.com/jobs/view/3727370416   \n",
       "4181  https://www.linkedin.com/jobs/view/3727367888   \n",
       "4204  https://www.linkedin.com/jobs/view/3723017385   \n",
       "4205  https://www.linkedin.com/jobs/view/3723021010   \n",
       "\n",
       "                                              employees      Job ID  \n",
       "603                                     11-50 employees  3727054738  \n",
       "781                                   201-500 employees  3727057147  \n",
       "834   1,001-5,000 employees · IT Services and IT Con...  3726337380  \n",
       "840                                     11-50 employees  3727054443  \n",
       "842                                                 NaN  3727051751  \n",
       "...                                                 ...         ...  \n",
       "4170  5,001-10,000 employees · IT Services and IT Co...  3727370490  \n",
       "4180  5,001-10,000 employees · IT Services and IT Co...  3727370416  \n",
       "4181  5,001-10,000 employees · IT Services and IT Co...  3727367888  \n",
       "4204  5,001-10,000 employees · IT Services and IT Co...  3723017385  \n",
       "4205  5,001-10,000 employees · IT Services and IT Co...  3723021010  \n",
       "\n",
       "[591 rows x 6 columns]"
      ]
     },
     "execution_count": 16,
     "metadata": {},
     "output_type": "execute_result"
    }
   ],
   "source": [
    "duplicates = df['Job ID'].duplicated()\n",
    "df[duplicates]"
   ]
  },
  {
   "cell_type": "markdown",
   "id": "481a52b9-4157-4a2f-9a0e-2c4263d42097",
   "metadata": {},
   "source": [
    "### droping duplicates"
   ]
  },
  {
   "cell_type": "code",
   "execution_count": 17,
   "id": "d51f920b-1726-42e4-a918-a094f454fd8a",
   "metadata": {},
   "outputs": [],
   "source": [
    "df_no_duplicates = df.drop_duplicates(subset=['Job ID'])"
   ]
  },
  {
   "cell_type": "code",
   "execution_count": 18,
   "id": "e4b17306-c996-4580-8d4d-062fac72500a",
   "metadata": {},
   "outputs": [
    {
     "data": {
      "text/html": [
       "<div>\n",
       "<style scoped>\n",
       "    .dataframe tbody tr th:only-of-type {\n",
       "        vertical-align: middle;\n",
       "    }\n",
       "\n",
       "    .dataframe tbody tr th {\n",
       "        vertical-align: top;\n",
       "    }\n",
       "\n",
       "    .dataframe thead th {\n",
       "        text-align: right;\n",
       "    }\n",
       "</style>\n",
       "<table border=\"1\" class=\"dataframe\">\n",
       "  <thead>\n",
       "    <tr style=\"text-align: right;\">\n",
       "      <th></th>\n",
       "      <th>Job Title</th>\n",
       "      <th>Job Info</th>\n",
       "      <th>Job Type</th>\n",
       "      <th>Job Link</th>\n",
       "      <th>employees</th>\n",
       "      <th>Job ID</th>\n",
       "    </tr>\n",
       "  </thead>\n",
       "  <tbody>\n",
       "    <tr>\n",
       "      <th>0</th>\n",
       "      <td>LinkedIn Data Extractor</td>\n",
       "      <td>EcomFleet · Pakistan (Remote)  \\n1 week ago</td>\n",
       "      <td>Full-time</td>\n",
       "      <td>https://www.linkedin.com/jobs/view/3727054368</td>\n",
       "      <td>11-50 employees</td>\n",
       "      <td>3727054368</td>\n",
       "    </tr>\n",
       "    <tr>\n",
       "      <th>1</th>\n",
       "      <td>It Management Intern</td>\n",
       "      <td>Digicon Valley · Lahore, Punjab, Pakistan (On-...</td>\n",
       "      <td>Full-time</td>\n",
       "      <td>https://www.linkedin.com/jobs/view/3723395858</td>\n",
       "      <td>11-50 employees</td>\n",
       "      <td>3723395858</td>\n",
       "    </tr>\n",
       "    <tr>\n",
       "      <th>2</th>\n",
       "      <td>SQL Database Developer</td>\n",
       "      <td>Murkez Technologies · Lahore, Punjab, Pakistan...</td>\n",
       "      <td>Full-time</td>\n",
       "      <td>https://www.linkedin.com/jobs/view/3727034665</td>\n",
       "      <td>51-200 employees</td>\n",
       "      <td>3727034665</td>\n",
       "    </tr>\n",
       "    <tr>\n",
       "      <th>3</th>\n",
       "      <td>Business Intelligence Developer</td>\n",
       "      <td>DevNatives · Islamabad, Islāmābād, Pakistan (H...</td>\n",
       "      <td>Full-time</td>\n",
       "      <td>https://www.linkedin.com/jobs/view/3727029273</td>\n",
       "      <td>11-50 employees</td>\n",
       "      <td>3727029273</td>\n",
       "    </tr>\n",
       "    <tr>\n",
       "      <th>4</th>\n",
       "      <td>Web Developer - Internship</td>\n",
       "      <td>ItCreaters · Lahore, Punjab, Pakistan (On-site...</td>\n",
       "      <td>Full-time</td>\n",
       "      <td>https://www.linkedin.com/jobs/view/3727034696</td>\n",
       "      <td>Mobeen Naqvi is hiring for this job</td>\n",
       "      <td>3727034696</td>\n",
       "    </tr>\n",
       "    <tr>\n",
       "      <th>...</th>\n",
       "      <td>...</td>\n",
       "      <td>...</td>\n",
       "      <td>...</td>\n",
       "      <td>...</td>\n",
       "      <td>...</td>\n",
       "      <td>...</td>\n",
       "    </tr>\n",
       "    <tr>\n",
       "      <th>4209</th>\n",
       "      <td>Oracle Apps DBA - R12 (Full Customization)</td>\n",
       "      <td>Rozee.pk · Lahore, Punjab, Pakistan  \\n4 days ago</td>\n",
       "      <td>On-site\\n\\n \\nFull-time</td>\n",
       "      <td>https://www.linkedin.com/jobs/view/3734517227</td>\n",
       "      <td>501-1,000 employees</td>\n",
       "      <td>3734517227</td>\n",
       "    </tr>\n",
       "    <tr>\n",
       "      <th>4210</th>\n",
       "      <td>Engineer, Service-to-Service Fabric</td>\n",
       "      <td>Atlassian · APAC Reposted  \\n3 days ago\\n\\n · ...</td>\n",
       "      <td>Remote\\n\\n \\nFull-time\\n\\n \\nMid-Senior level</td>\n",
       "      <td>https://www.linkedin.com/jobs/view/3730554639</td>\n",
       "      <td>5,001-10,000 employees · Software Development</td>\n",
       "      <td>3730554639</td>\n",
       "    </tr>\n",
       "    <tr>\n",
       "      <th>4211</th>\n",
       "      <td>Technical Product Manager (OTE $80,000/year US...</td>\n",
       "      <td>Sparkrock · South Asia  \\n4 days ago\\n\\n · 144...</td>\n",
       "      <td>Remote\\n\\n \\nFull-time\\n\\n \\nEntry level</td>\n",
       "      <td>https://www.linkedin.com/jobs/view/3731001750</td>\n",
       "      <td>51-200 employees · IT Services and IT Consulting</td>\n",
       "      <td>3731001750</td>\n",
       "    </tr>\n",
       "    <tr>\n",
       "      <th>4212</th>\n",
       "      <td>Senior IOS Developer</td>\n",
       "      <td>ekar · Pakistan  \\n4 days ago\\n\\n · 223 applic...</td>\n",
       "      <td>Remote\\n\\n \\nFull-time\\n\\n \\nMid-Senior level</td>\n",
       "      <td>https://www.linkedin.com/jobs/view/3736179533</td>\n",
       "      <td>51-200 employees · Transportation, Logistics, ...</td>\n",
       "      <td>3736179533</td>\n",
       "    </tr>\n",
       "    <tr>\n",
       "      <th>4213</th>\n",
       "      <td>Technical Product Manager (OTE $80,000/year US...</td>\n",
       "      <td>Sparkrock · South Asia  \\n4 days ago\\n\\n · 137...</td>\n",
       "      <td>Remote\\n\\n \\nFull-time\\n\\n \\nEntry level</td>\n",
       "      <td>https://www.linkedin.com/jobs/view/3731006178</td>\n",
       "      <td>51-200 employees · IT Services and IT Consulting</td>\n",
       "      <td>3731006178</td>\n",
       "    </tr>\n",
       "  </tbody>\n",
       "</table>\n",
       "<p>3623 rows × 6 columns</p>\n",
       "</div>"
      ],
      "text/plain": [
       "                                              Job Title  \\\n",
       "0                               LinkedIn Data Extractor   \n",
       "1                                  It Management Intern   \n",
       "2                                SQL Database Developer   \n",
       "3                       Business Intelligence Developer   \n",
       "4                            Web Developer - Internship   \n",
       "...                                                 ...   \n",
       "4209         Oracle Apps DBA - R12 (Full Customization)   \n",
       "4210                Engineer, Service-to-Service Fabric   \n",
       "4211  Technical Product Manager (OTE $80,000/year US...   \n",
       "4212                               Senior IOS Developer   \n",
       "4213  Technical Product Manager (OTE $80,000/year US...   \n",
       "\n",
       "                                               Job Info  \\\n",
       "0           EcomFleet · Pakistan (Remote)  \\n1 week ago   \n",
       "1     Digicon Valley · Lahore, Punjab, Pakistan (On-...   \n",
       "2     Murkez Technologies · Lahore, Punjab, Pakistan...   \n",
       "3     DevNatives · Islamabad, Islāmābād, Pakistan (H...   \n",
       "4     ItCreaters · Lahore, Punjab, Pakistan (On-site...   \n",
       "...                                                 ...   \n",
       "4209  Rozee.pk · Lahore, Punjab, Pakistan  \\n4 days ago   \n",
       "4210  Atlassian · APAC Reposted  \\n3 days ago\\n\\n · ...   \n",
       "4211  Sparkrock · South Asia  \\n4 days ago\\n\\n · 144...   \n",
       "4212  ekar · Pakistan  \\n4 days ago\\n\\n · 223 applic...   \n",
       "4213  Sparkrock · South Asia  \\n4 days ago\\n\\n · 137...   \n",
       "\n",
       "                                           Job Type  \\\n",
       "0                                         Full-time   \n",
       "1                                         Full-time   \n",
       "2                                         Full-time   \n",
       "3                                         Full-time   \n",
       "4                                         Full-time   \n",
       "...                                             ...   \n",
       "4209                        On-site\\n\\n \\nFull-time   \n",
       "4210  Remote\\n\\n \\nFull-time\\n\\n \\nMid-Senior level   \n",
       "4211       Remote\\n\\n \\nFull-time\\n\\n \\nEntry level   \n",
       "4212  Remote\\n\\n \\nFull-time\\n\\n \\nMid-Senior level   \n",
       "4213       Remote\\n\\n \\nFull-time\\n\\n \\nEntry level   \n",
       "\n",
       "                                           Job Link  \\\n",
       "0     https://www.linkedin.com/jobs/view/3727054368   \n",
       "1     https://www.linkedin.com/jobs/view/3723395858   \n",
       "2     https://www.linkedin.com/jobs/view/3727034665   \n",
       "3     https://www.linkedin.com/jobs/view/3727029273   \n",
       "4     https://www.linkedin.com/jobs/view/3727034696   \n",
       "...                                             ...   \n",
       "4209  https://www.linkedin.com/jobs/view/3734517227   \n",
       "4210  https://www.linkedin.com/jobs/view/3730554639   \n",
       "4211  https://www.linkedin.com/jobs/view/3731001750   \n",
       "4212  https://www.linkedin.com/jobs/view/3736179533   \n",
       "4213  https://www.linkedin.com/jobs/view/3731006178   \n",
       "\n",
       "                                              employees      Job ID  \n",
       "0                                       11-50 employees  3727054368  \n",
       "1                                       11-50 employees  3723395858  \n",
       "2                                      51-200 employees  3727034665  \n",
       "3                                       11-50 employees  3727029273  \n",
       "4                   Mobeen Naqvi is hiring for this job  3727034696  \n",
       "...                                                 ...         ...  \n",
       "4209                                501-1,000 employees  3734517227  \n",
       "4210      5,001-10,000 employees · Software Development  3730554639  \n",
       "4211   51-200 employees · IT Services and IT Consulting  3731001750  \n",
       "4212  51-200 employees · Transportation, Logistics, ...  3736179533  \n",
       "4213   51-200 employees · IT Services and IT Consulting  3731006178  \n",
       "\n",
       "[3623 rows x 6 columns]"
      ]
     },
     "execution_count": 18,
     "metadata": {},
     "output_type": "execute_result"
    }
   ],
   "source": [
    "df_no_duplicates"
   ]
  },
  {
   "cell_type": "code",
   "execution_count": 19,
   "id": "27ee92a6-fbee-40fc-88c9-bcc58836b62b",
   "metadata": {},
   "outputs": [
    {
     "data": {
      "text/plain": [
       "3623"
      ]
     },
     "execution_count": 19,
     "metadata": {},
     "output_type": "execute_result"
    }
   ],
   "source": [
    "len(df_no_duplicates)"
   ]
  },
  {
   "cell_type": "code",
   "execution_count": 20,
   "id": "f0f684e7-089a-41c8-80bc-03eac7314c89",
   "metadata": {},
   "outputs": [
    {
     "data": {
      "text/plain": [
       "3623"
      ]
     },
     "execution_count": 20,
     "metadata": {},
     "output_type": "execute_result"
    }
   ],
   "source": [
    "len(df)-duplicates_count"
   ]
  },
  {
   "cell_type": "markdown",
   "id": "eaf6cc95-fa64-4a00-946a-27e1e44f6eef",
   "metadata": {},
   "source": [
    "### Building modified path"
   ]
  },
  {
   "cell_type": "code",
   "execution_count": 15,
   "id": "070eb2f0-360d-4cdb-91c0-2e6e3ddbb5ad",
   "metadata": {},
   "outputs": [
    {
     "data": {
      "text/plain": [
       "'Weekly Files Not Duplicateed/Linkedin_Job_Links_10-Oct-2023-to-16-Oct-2023_1928-jobs_93-pages.csv'"
      ]
     },
     "execution_count": 15,
     "metadata": {},
     "output_type": "execute_result"
    }
   ],
   "source": [
    "pre_link=path.split('/')[-1].split(path.split('/')[-1].split('_')[4].strip('-jobs'))[0]\n",
    "post_link=path.split('/')[-1].split(path.split('/')[-1].split('_')[4].strip('-jobs'))[1]\n",
    "Not_duplicated_folder_path='Weekly Files Not Duplicateed/'+pre_link+str(len(df_no_duplicates))+post_link\n",
    "Not_duplicated_folder_path"
   ]
  },
  {
   "cell_type": "markdown",
   "id": "a63e807c-0e67-483b-bf15-6470d1205464",
   "metadata": {},
   "source": [
    "### saving file"
   ]
  },
  {
   "cell_type": "code",
   "execution_count": 16,
   "id": "03ff8ebf-0460-402c-851a-ce1bb2d293c4",
   "metadata": {},
   "outputs": [],
   "source": [
    "if df.duplicated(subset=['Job ID']).sum()>0:\n",
    "    df_no_duplicates.to_csv(Not_duplicated_folder_path,index=False)\n",
    "else:\n",
    "    df.to_csv(Not_duplicated_folder_path,index=False)    "
   ]
  },
  {
   "cell_type": "code",
   "execution_count": null,
   "id": "e30630bb-adc4-4f24-9d5e-b989dfc1c765",
   "metadata": {},
   "outputs": [],
   "source": []
  }
 ],
 "metadata": {
  "kernelspec": {
   "display_name": "Python 3 (ipykernel)",
   "language": "python",
   "name": "python3"
  },
  "language_info": {
   "codemirror_mode": {
    "name": "ipython",
    "version": 3
   },
   "file_extension": ".py",
   "mimetype": "text/x-python",
   "name": "python",
   "nbconvert_exporter": "python",
   "pygments_lexer": "ipython3",
   "version": "3.11.4"
  }
 },
 "nbformat": 4,
 "nbformat_minor": 5
}
