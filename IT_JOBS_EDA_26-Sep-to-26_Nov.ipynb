{
 "cells": [
  {
   "cell_type": "code",
   "execution_count": 2,
   "id": "81ac062a-82c7-49ee-b287-c219641155b6",
   "metadata": {},
   "outputs": [],
   "source": [
    "import pandas as pd\n",
    "import numpy as np\n",
    "import os\n",
    "from datetime import datetime"
   ]
  },
  {
   "cell_type": "code",
   "execution_count": 3,
   "id": "966fb6a3-3166-444a-8246-b2111900c95a",
   "metadata": {},
   "outputs": [],
   "source": [
    "path='Filltered_Files-concatenated/IT_roles_Linkedin_Job_Details_and_Job_Descriptions_26-sep-to-26-nov_3734-jobs_1856-titles_20-features_Not-duplicated_v5_Feature_Eng_Processed.csv'"
   ]
  },
  {
   "cell_type": "code",
   "execution_count": 4,
   "id": "ea083d0e-c886-4620-a6b3-778654b7f58b",
   "metadata": {},
   "outputs": [],
   "source": [
    "df=pd.read_csv(path)"
   ]
  },
  {
   "cell_type": "code",
   "execution_count": 5,
   "id": "1869871d-7c0a-40b8-abb9-8748537036a1",
   "metadata": {},
   "outputs": [
    {
     "data": {
      "text/html": [
       "<div>\n",
       "<style scoped>\n",
       "    .dataframe tbody tr th:only-of-type {\n",
       "        vertical-align: middle;\n",
       "    }\n",
       "\n",
       "    .dataframe tbody tr th {\n",
       "        vertical-align: top;\n",
       "    }\n",
       "\n",
       "    .dataframe thead th {\n",
       "        text-align: right;\n",
       "    }\n",
       "</style>\n",
       "<table border=\"1\" class=\"dataframe\">\n",
       "  <thead>\n",
       "    <tr style=\"text-align: right;\">\n",
       "      <th></th>\n",
       "      <th>Job Title</th>\n",
       "      <th>Job Info</th>\n",
       "      <th>Job Type</th>\n",
       "      <th>Job Link_x</th>\n",
       "      <th>employees</th>\n",
       "      <th>Job ID</th>\n",
       "      <th>Job Link_y</th>\n",
       "      <th>Job Desception</th>\n",
       "      <th>Company Info</th>\n",
       "      <th>company</th>\n",
       "      <th>location_1</th>\n",
       "      <th>location_2</th>\n",
       "      <th>Remote/Onsite</th>\n",
       "      <th>n_applicant</th>\n",
       "      <th>job posting time</th>\n",
       "      <th>Job Type nElements</th>\n",
       "      <th>Job-Type</th>\n",
       "      <th>Experience Level</th>\n",
       "      <th>Comp_N_Employees</th>\n",
       "      <th>Comp_Industry</th>\n",
       "    </tr>\n",
       "  </thead>\n",
       "  <tbody>\n",
       "    <tr>\n",
       "      <th>0</th>\n",
       "      <td>iOS Intern</td>\n",
       "      <td>AusSource Enterprises (SMC-PRIVATE) LIMITED · ...</td>\n",
       "      <td>Full-time</td>\n",
       "      <td>https://www.linkedin.com/jobs/view/3727017016</td>\n",
       "      <td>11-50 employees</td>\n",
       "      <td>3727017016</td>\n",
       "      <td>https://www.linkedin.com/jobs/view/3727017016</td>\n",
       "      <td>About the job\\n            \\n\\n \\n#hiringalert...</td>\n",
       "      <td>IT Services and IT Consulting\\n            \\n ...</td>\n",
       "      <td>AusSource Enterprises (SMC-PRIVATE) LIMITED</td>\n",
       "      <td>Islamabad</td>\n",
       "      <td>Islamabad, Islāmābād, Pakistan</td>\n",
       "      <td>On-site</td>\n",
       "      <td>NaN</td>\n",
       "      <td>2 weeks ago</td>\n",
       "      <td>1</td>\n",
       "      <td>Full-time</td>\n",
       "      <td>Not specified</td>\n",
       "      <td>11-50 employees</td>\n",
       "      <td>Not specified</td>\n",
       "    </tr>\n",
       "    <tr>\n",
       "      <th>1</th>\n",
       "      <td>Trainee iOS Developer</td>\n",
       "      <td>TechSwivel (Private) Limited · Lahore, Punjab,...</td>\n",
       "      <td>Full-time</td>\n",
       "      <td>https://www.linkedin.com/jobs/view/3726895494/...</td>\n",
       "      <td>11-50 employees</td>\n",
       "      <td>3726895494</td>\n",
       "      <td>https://www.linkedin.com/jobs/view/3726895494</td>\n",
       "      <td>About the job\\n            \\n\\n \\nUnpaid Inter...</td>\n",
       "      <td>Software Development\\n            \\n          ...</td>\n",
       "      <td>TechSwivel (Private) Limited</td>\n",
       "      <td>Lahore</td>\n",
       "      <td>Lahore, Punjab, Pakistan</td>\n",
       "      <td>On-site</td>\n",
       "      <td>NaN</td>\n",
       "      <td>2 weeks ago</td>\n",
       "      <td>1</td>\n",
       "      <td>Full-time</td>\n",
       "      <td>Not specified</td>\n",
       "      <td>11-50 employees</td>\n",
       "      <td>Not specified</td>\n",
       "    </tr>\n",
       "    <tr>\n",
       "      <th>2</th>\n",
       "      <td>Android Developer</td>\n",
       "      <td>MWAN Mobile · Islāmābād, Pakistan (On-site)  \\...</td>\n",
       "      <td>Full-time</td>\n",
       "      <td>https://www.linkedin.com/jobs/view/3727010740/...</td>\n",
       "      <td>11-50 employees</td>\n",
       "      <td>3727010740</td>\n",
       "      <td>https://www.linkedin.com/jobs/view/3727010740</td>\n",
       "      <td>NaN</td>\n",
       "      <td>NaN</td>\n",
       "      <td>MWAN Mobile</td>\n",
       "      <td>Islāmābād</td>\n",
       "      <td>Islāmābād, Pakistan</td>\n",
       "      <td>On-site</td>\n",
       "      <td>NaN</td>\n",
       "      <td>2 weeks ago</td>\n",
       "      <td>1</td>\n",
       "      <td>Full-time</td>\n",
       "      <td>Not specified</td>\n",
       "      <td>11-50 employees</td>\n",
       "      <td>Not specified</td>\n",
       "    </tr>\n",
       "    <tr>\n",
       "      <th>3</th>\n",
       "      <td>MERN and React Native Developer</td>\n",
       "      <td>TecStik · Karāchi, Sindh, Pakistan (On-site)  ...</td>\n",
       "      <td>Full-time</td>\n",
       "      <td>https://www.linkedin.com/jobs/view/3727013349/...</td>\n",
       "      <td>1-10 employees</td>\n",
       "      <td>3727013349</td>\n",
       "      <td>https://www.linkedin.com/jobs/view/3727013349</td>\n",
       "      <td>About the job\\n            \\n\\n \\nThe ideal ca...</td>\n",
       "      <td>Technology, Information and Media\\n           ...</td>\n",
       "      <td>TecStik</td>\n",
       "      <td>Karāchi</td>\n",
       "      <td>Karāchi, Sindh, Pakistan</td>\n",
       "      <td>On-site</td>\n",
       "      <td>51</td>\n",
       "      <td>2 weeks ago</td>\n",
       "      <td>1</td>\n",
       "      <td>Full-time</td>\n",
       "      <td>Not specified</td>\n",
       "      <td>1-10 employees</td>\n",
       "      <td>Not specified</td>\n",
       "    </tr>\n",
       "    <tr>\n",
       "      <th>4</th>\n",
       "      <td>Mobile Application Developer</td>\n",
       "      <td>Analytica · Lahore, Punjab, Pakistan (On-site)...</td>\n",
       "      <td>Full-time</td>\n",
       "      <td>https://www.linkedin.com/jobs/view/3727010108/...</td>\n",
       "      <td>51-200 employees</td>\n",
       "      <td>3727010108</td>\n",
       "      <td>https://www.linkedin.com/jobs/view/3727010108</td>\n",
       "      <td>About the job\\n            \\n\\n \\nWe are looki...</td>\n",
       "      <td>Software Development\\n            \\n          ...</td>\n",
       "      <td>Analytica</td>\n",
       "      <td>Lahore</td>\n",
       "      <td>Lahore, Punjab, Pakistan</td>\n",
       "      <td>On-site</td>\n",
       "      <td>51</td>\n",
       "      <td>2 weeks ago</td>\n",
       "      <td>1</td>\n",
       "      <td>Full-time</td>\n",
       "      <td>Not specified</td>\n",
       "      <td>51-200 employees</td>\n",
       "      <td>Not specified</td>\n",
       "    </tr>\n",
       "    <tr>\n",
       "      <th>...</th>\n",
       "      <td>...</td>\n",
       "      <td>...</td>\n",
       "      <td>...</td>\n",
       "      <td>...</td>\n",
       "      <td>...</td>\n",
       "      <td>...</td>\n",
       "      <td>...</td>\n",
       "      <td>...</td>\n",
       "      <td>...</td>\n",
       "      <td>...</td>\n",
       "      <td>...</td>\n",
       "      <td>...</td>\n",
       "      <td>...</td>\n",
       "      <td>...</td>\n",
       "      <td>...</td>\n",
       "      <td>...</td>\n",
       "      <td>...</td>\n",
       "      <td>...</td>\n",
       "      <td>...</td>\n",
       "      <td>...</td>\n",
       "    </tr>\n",
       "    <tr>\n",
       "      <th>3729</th>\n",
       "      <td>Pre-Sales Software</td>\n",
       "      <td>Grewals Tech Solutions  · Lahore, Punjab, Paki...</td>\n",
       "      <td>On-site\\n\\n \\nFull-time</td>\n",
       "      <td>https://www.linkedin.com/jobs/view/3768502364</td>\n",
       "      <td>11-50 employees</td>\n",
       "      <td>3768502364</td>\n",
       "      <td>https://www.linkedin.com/jobs/view/3768502364</td>\n",
       "      <td>About the job\\n            \\n \\nAs a Pre-Sales...</td>\n",
       "      <td>Technology, Information and Media\\n           ...</td>\n",
       "      <td>Grewals Tech Solutions</td>\n",
       "      <td>Lahore</td>\n",
       "      <td>Lahore, Punjab, Pakistan  \\n1 week ago\\n\\n</td>\n",
       "      <td>On-site</td>\n",
       "      <td>8</td>\n",
       "      <td>1 week ago</td>\n",
       "      <td>2</td>\n",
       "      <td>Full-time</td>\n",
       "      <td>Not specified</td>\n",
       "      <td>11-50 employees</td>\n",
       "      <td>Not specified</td>\n",
       "    </tr>\n",
       "    <tr>\n",
       "      <th>3730</th>\n",
       "      <td>Lead Software Engineer, Trilogy (Remote) - $10...</td>\n",
       "      <td>Crossover  · Lahore, Punjab, Pakistan Reposted...</td>\n",
       "      <td>Remote\\n\\n \\nFull-time\\n\\n \\nMid-Senior level</td>\n",
       "      <td>https://www.linkedin.com/jobs/view/3766612589</td>\n",
       "      <td>5,001-10,000 employees · IT Services and IT Co...</td>\n",
       "      <td>3766612589</td>\n",
       "      <td>https://www.linkedin.com/jobs/view/3766612589</td>\n",
       "      <td>About the job\\n            \\n \\nCrossover is t...</td>\n",
       "      <td>IT Services and IT Consulting\\n            \\n ...</td>\n",
       "      <td>Crossover</td>\n",
       "      <td>Lahore</td>\n",
       "      <td>Lahore, Punjab, Pakistan Reposted  \\n6 days a...</td>\n",
       "      <td>Remote</td>\n",
       "      <td>19</td>\n",
       "      <td>6 days ago</td>\n",
       "      <td>3</td>\n",
       "      <td>Full-time</td>\n",
       "      <td>Mid-Senior level</td>\n",
       "      <td>5,001-10,000 employees</td>\n",
       "      <td>IT Services and IT Consulting</td>\n",
       "    </tr>\n",
       "    <tr>\n",
       "      <th>3731</th>\n",
       "      <td>QA Engineer</td>\n",
       "      <td>NewRich Network · Lahore, Punjab, Pakistan  \\n...</td>\n",
       "      <td>Remote\\n\\n \\nFull-time\\n\\n \\nEntry level</td>\n",
       "      <td>https://www.linkedin.com/jobs/view/3772083919</td>\n",
       "      <td>11-50 employees · Online Audio and Video Media</td>\n",
       "      <td>3772083919</td>\n",
       "      <td>https://www.linkedin.com/jobs/view/3772083919</td>\n",
       "      <td>About the job\\n            \\n \\nWe are a compa...</td>\n",
       "      <td>Online Audio and Video Media\\n            \\n  ...</td>\n",
       "      <td>NewRich Network</td>\n",
       "      <td>Lahore</td>\n",
       "      <td>Lahore, Punjab, Pakistan  \\n1 week ago</td>\n",
       "      <td>Remote</td>\n",
       "      <td>NaN</td>\n",
       "      <td>1 week ago</td>\n",
       "      <td>3</td>\n",
       "      <td>Full-time</td>\n",
       "      <td>Entry level</td>\n",
       "      <td>11-50 employees</td>\n",
       "      <td>Online Audio and Video Media</td>\n",
       "    </tr>\n",
       "    <tr>\n",
       "      <th>3732</th>\n",
       "      <td>Principal Software Engineer, IgniteTech (Remot...</td>\n",
       "      <td>Crossover  · Karāchi, Sindh, Pakistan Reposted...</td>\n",
       "      <td>Remote\\n\\n \\nFull-time\\n\\n \\nMid-Senior level</td>\n",
       "      <td>https://www.linkedin.com/jobs/view/3766351795</td>\n",
       "      <td>5,001-10,000 employees · IT Services and IT Co...</td>\n",
       "      <td>3766351795</td>\n",
       "      <td>https://www.linkedin.com/jobs/view/3766351795</td>\n",
       "      <td>About the job\\n            \\n \\nCrossover is t...</td>\n",
       "      <td>IT Services and IT Consulting\\n            \\n ...</td>\n",
       "      <td>Crossover</td>\n",
       "      <td>Karāchi</td>\n",
       "      <td>Karāchi, Sindh, Pakistan Reposted  \\n6 days a...</td>\n",
       "      <td>Remote</td>\n",
       "      <td>19</td>\n",
       "      <td>6 days ago</td>\n",
       "      <td>3</td>\n",
       "      <td>Full-time</td>\n",
       "      <td>Mid-Senior level</td>\n",
       "      <td>5,001-10,000 employees</td>\n",
       "      <td>IT Services and IT Consulting</td>\n",
       "    </tr>\n",
       "    <tr>\n",
       "      <th>3733</th>\n",
       "      <td>Software Development Support Engineer (L2 &amp; L3)</td>\n",
       "      <td>the ENTERTAINER · Lahore, Punjab, Pakistan  \\n...</td>\n",
       "      <td>On-site\\n\\n \\nFull-time\\n\\n \\nMid-Senior level</td>\n",
       "      <td>https://www.linkedin.com/jobs/view/3763867444</td>\n",
       "      <td>201-500 employees · Software Development</td>\n",
       "      <td>3763867444</td>\n",
       "      <td>https://www.linkedin.com/jobs/view/3763867444</td>\n",
       "      <td>About the job</td>\n",
       "      <td>NaN</td>\n",
       "      <td>the ENTERTAINER</td>\n",
       "      <td>Lahore</td>\n",
       "      <td>Lahore, Punjab, Pakistan  \\n1 week ago\\n\\n</td>\n",
       "      <td>On-site</td>\n",
       "      <td>25</td>\n",
       "      <td>1 week ago</td>\n",
       "      <td>3</td>\n",
       "      <td>Full-time</td>\n",
       "      <td>Mid-Senior level</td>\n",
       "      <td>201-500 employees</td>\n",
       "      <td>Software Development</td>\n",
       "    </tr>\n",
       "  </tbody>\n",
       "</table>\n",
       "<p>3734 rows × 20 columns</p>\n",
       "</div>"
      ],
      "text/plain": [
       "                                              Job Title  \\\n",
       "0                                            iOS Intern   \n",
       "1                                 Trainee iOS Developer   \n",
       "2                                     Android Developer   \n",
       "3                       MERN and React Native Developer   \n",
       "4                          Mobile Application Developer   \n",
       "...                                                 ...   \n",
       "3729                                 Pre-Sales Software   \n",
       "3730  Lead Software Engineer, Trilogy (Remote) - $10...   \n",
       "3731                                        QA Engineer   \n",
       "3732  Principal Software Engineer, IgniteTech (Remot...   \n",
       "3733    Software Development Support Engineer (L2 & L3)   \n",
       "\n",
       "                                               Job Info  \\\n",
       "0     AusSource Enterprises (SMC-PRIVATE) LIMITED · ...   \n",
       "1     TechSwivel (Private) Limited · Lahore, Punjab,...   \n",
       "2     MWAN Mobile · Islāmābād, Pakistan (On-site)  \\...   \n",
       "3     TecStik · Karāchi, Sindh, Pakistan (On-site)  ...   \n",
       "4     Analytica · Lahore, Punjab, Pakistan (On-site)...   \n",
       "...                                                 ...   \n",
       "3729  Grewals Tech Solutions  · Lahore, Punjab, Paki...   \n",
       "3730  Crossover  · Lahore, Punjab, Pakistan Reposted...   \n",
       "3731  NewRich Network · Lahore, Punjab, Pakistan  \\n...   \n",
       "3732  Crossover  · Karāchi, Sindh, Pakistan Reposted...   \n",
       "3733  the ENTERTAINER · Lahore, Punjab, Pakistan  \\n...   \n",
       "\n",
       "                                            Job Type  \\\n",
       "0                                          Full-time   \n",
       "1                                          Full-time   \n",
       "2                                          Full-time   \n",
       "3                                          Full-time   \n",
       "4                                          Full-time   \n",
       "...                                              ...   \n",
       "3729                         On-site\\n\\n \\nFull-time   \n",
       "3730   Remote\\n\\n \\nFull-time\\n\\n \\nMid-Senior level   \n",
       "3731        Remote\\n\\n \\nFull-time\\n\\n \\nEntry level   \n",
       "3732   Remote\\n\\n \\nFull-time\\n\\n \\nMid-Senior level   \n",
       "3733  On-site\\n\\n \\nFull-time\\n\\n \\nMid-Senior level   \n",
       "\n",
       "                                             Job Link_x  \\\n",
       "0         https://www.linkedin.com/jobs/view/3727017016   \n",
       "1     https://www.linkedin.com/jobs/view/3726895494/...   \n",
       "2     https://www.linkedin.com/jobs/view/3727010740/...   \n",
       "3     https://www.linkedin.com/jobs/view/3727013349/...   \n",
       "4     https://www.linkedin.com/jobs/view/3727010108/...   \n",
       "...                                                 ...   \n",
       "3729      https://www.linkedin.com/jobs/view/3768502364   \n",
       "3730      https://www.linkedin.com/jobs/view/3766612589   \n",
       "3731      https://www.linkedin.com/jobs/view/3772083919   \n",
       "3732      https://www.linkedin.com/jobs/view/3766351795   \n",
       "3733      https://www.linkedin.com/jobs/view/3763867444   \n",
       "\n",
       "                                              employees      Job ID  \\\n",
       "0                                       11-50 employees  3727017016   \n",
       "1                                       11-50 employees  3726895494   \n",
       "2                                       11-50 employees  3727010740   \n",
       "3                                        1-10 employees  3727013349   \n",
       "4                                      51-200 employees  3727010108   \n",
       "...                                                 ...         ...   \n",
       "3729                                    11-50 employees  3768502364   \n",
       "3730  5,001-10,000 employees · IT Services and IT Co...  3766612589   \n",
       "3731     11-50 employees · Online Audio and Video Media  3772083919   \n",
       "3732  5,001-10,000 employees · IT Services and IT Co...  3766351795   \n",
       "3733           201-500 employees · Software Development  3763867444   \n",
       "\n",
       "                                         Job Link_y  \\\n",
       "0     https://www.linkedin.com/jobs/view/3727017016   \n",
       "1     https://www.linkedin.com/jobs/view/3726895494   \n",
       "2     https://www.linkedin.com/jobs/view/3727010740   \n",
       "3     https://www.linkedin.com/jobs/view/3727013349   \n",
       "4     https://www.linkedin.com/jobs/view/3727010108   \n",
       "...                                             ...   \n",
       "3729  https://www.linkedin.com/jobs/view/3768502364   \n",
       "3730  https://www.linkedin.com/jobs/view/3766612589   \n",
       "3731  https://www.linkedin.com/jobs/view/3772083919   \n",
       "3732  https://www.linkedin.com/jobs/view/3766351795   \n",
       "3733  https://www.linkedin.com/jobs/view/3763867444   \n",
       "\n",
       "                                         Job Desception  \\\n",
       "0     About the job\\n            \\n\\n \\n#hiringalert...   \n",
       "1     About the job\\n            \\n\\n \\nUnpaid Inter...   \n",
       "2                                                   NaN   \n",
       "3     About the job\\n            \\n\\n \\nThe ideal ca...   \n",
       "4     About the job\\n            \\n\\n \\nWe are looki...   \n",
       "...                                                 ...   \n",
       "3729  About the job\\n            \\n \\nAs a Pre-Sales...   \n",
       "3730  About the job\\n            \\n \\nCrossover is t...   \n",
       "3731  About the job\\n            \\n \\nWe are a compa...   \n",
       "3732  About the job\\n            \\n \\nCrossover is t...   \n",
       "3733                                      About the job   \n",
       "\n",
       "                                           Company Info  \\\n",
       "0     IT Services and IT Consulting\\n            \\n ...   \n",
       "1     Software Development\\n            \\n          ...   \n",
       "2                                                   NaN   \n",
       "3     Technology, Information and Media\\n           ...   \n",
       "4     Software Development\\n            \\n          ...   \n",
       "...                                                 ...   \n",
       "3729  Technology, Information and Media\\n           ...   \n",
       "3730  IT Services and IT Consulting\\n            \\n ...   \n",
       "3731  Online Audio and Video Media\\n            \\n  ...   \n",
       "3732  IT Services and IT Consulting\\n            \\n ...   \n",
       "3733                                                NaN   \n",
       "\n",
       "                                           company location_1  \\\n",
       "0     AusSource Enterprises (SMC-PRIVATE) LIMITED   Islamabad   \n",
       "1                    TechSwivel (Private) Limited      Lahore   \n",
       "2                                     MWAN Mobile   Islāmābād   \n",
       "3                                         TecStik     Karāchi   \n",
       "4                                       Analytica      Lahore   \n",
       "...                                            ...        ...   \n",
       "3729                      Grewals Tech Solutions       Lahore   \n",
       "3730                                   Crossover       Lahore   \n",
       "3731                              NewRich Network      Lahore   \n",
       "3732                                   Crossover      Karāchi   \n",
       "3733                              the ENTERTAINER      Lahore   \n",
       "\n",
       "                                             location_2 Remote/Onsite  \\\n",
       "0                       Islamabad, Islāmābād, Pakistan        On-site   \n",
       "1                             Lahore, Punjab, Pakistan        On-site   \n",
       "2                                  Islāmābād, Pakistan        On-site   \n",
       "3                             Karāchi, Sindh, Pakistan        On-site   \n",
       "4                             Lahore, Punjab, Pakistan        On-site   \n",
       "...                                                 ...           ...   \n",
       "3729        Lahore, Punjab, Pakistan  \\n1 week ago\\n\\n        On-site   \n",
       "3730   Lahore, Punjab, Pakistan Reposted  \\n6 days a...        Remote   \n",
       "3731             Lahore, Punjab, Pakistan  \\n1 week ago        Remote   \n",
       "3732   Karāchi, Sindh, Pakistan Reposted  \\n6 days a...        Remote   \n",
       "3733        Lahore, Punjab, Pakistan  \\n1 week ago\\n\\n        On-site   \n",
       "\n",
       "     n_applicant job posting time  Job Type nElements   Job-Type  \\\n",
       "0            NaN      2 weeks ago                   1  Full-time   \n",
       "1            NaN      2 weeks ago                   1  Full-time   \n",
       "2            NaN      2 weeks ago                   1  Full-time   \n",
       "3             51      2 weeks ago                   1  Full-time   \n",
       "4             51      2 weeks ago                   1  Full-time   \n",
       "...          ...              ...                 ...        ...   \n",
       "3729           8       1 week ago                   2  Full-time   \n",
       "3730          19       6 days ago                   3  Full-time   \n",
       "3731         NaN       1 week ago                   3  Full-time   \n",
       "3732          19       6 days ago                   3  Full-time   \n",
       "3733          25       1 week ago                   3  Full-time   \n",
       "\n",
       "      Experience Level         Comp_N_Employees  \\\n",
       "0        Not specified          11-50 employees   \n",
       "1        Not specified          11-50 employees   \n",
       "2        Not specified          11-50 employees   \n",
       "3        Not specified           1-10 employees   \n",
       "4        Not specified         51-200 employees   \n",
       "...                ...                      ...   \n",
       "3729     Not specified          11-50 employees   \n",
       "3730  Mid-Senior level  5,001-10,000 employees    \n",
       "3731       Entry level         11-50 employees    \n",
       "3732  Mid-Senior level  5,001-10,000 employees    \n",
       "3733  Mid-Senior level       201-500 employees    \n",
       "\n",
       "                       Comp_Industry  \n",
       "0                      Not specified  \n",
       "1                      Not specified  \n",
       "2                      Not specified  \n",
       "3                      Not specified  \n",
       "4                      Not specified  \n",
       "...                              ...  \n",
       "3729                   Not specified  \n",
       "3730   IT Services and IT Consulting  \n",
       "3731    Online Audio and Video Media  \n",
       "3732   IT Services and IT Consulting  \n",
       "3733            Software Development  \n",
       "\n",
       "[3734 rows x 20 columns]"
      ]
     },
     "execution_count": 5,
     "metadata": {},
     "output_type": "execute_result"
    }
   ],
   "source": [
    "df"
   ]
  },
  {
   "cell_type": "code",
   "execution_count": 6,
   "id": "85c02eac-5c3e-4261-955c-edd77875865d",
   "metadata": {},
   "outputs": [
    {
     "data": {
      "text/plain": [
       "(3734, 20)"
      ]
     },
     "execution_count": 6,
     "metadata": {},
     "output_type": "execute_result"
    }
   ],
   "source": [
    "df.shape"
   ]
  },
  {
   "cell_type": "code",
   "execution_count": 7,
   "id": "e30630bb-adc4-4f24-9d5e-b989dfc1c765",
   "metadata": {},
   "outputs": [
    {
     "data": {
      "text/plain": [
       "Job Title                0\n",
       "Job Info                 0\n",
       "Job Type                 0\n",
       "Job Link_x               0\n",
       "employees                0\n",
       "Job ID                   0\n",
       "Job Link_y               0\n",
       "Job Desception          11\n",
       "Company Info           787\n",
       "company                  0\n",
       "location_1               0\n",
       "location_2               0\n",
       "Remote/Onsite            0\n",
       "n_applicant           1489\n",
       "job posting time         0\n",
       "Job Type nElements       0\n",
       "Job-Type                 0\n",
       "Experience Level         0\n",
       "Comp_N_Employees         0\n",
       "Comp_Industry            0\n",
       "dtype: int64"
      ]
     },
     "execution_count": 7,
     "metadata": {},
     "output_type": "execute_result"
    }
   ],
   "source": [
    "df.isnull().sum()"
   ]
  },
  {
   "cell_type": "markdown",
   "id": "979c2c82-9715-434d-9675-d85dea728773",
   "metadata": {},
   "source": [
    "### exploring features ony by one"
   ]
  },
  {
   "cell_type": "code",
   "execution_count": 8,
   "id": "bb661eca-89c7-4f5f-8a8d-8569de19d3c3",
   "metadata": {},
   "outputs": [
    {
     "data": {
      "text/plain": [
       "array(['iOS Intern', 'Trainee iOS Developer', 'Android Developer', ...,\n",
       "       'Senior Software Engineer - SharePoint', 'Pre-Sales Software',\n",
       "       'Software Development Support Engineer (L2 & L3)'], dtype=object)"
      ]
     },
     "execution_count": 8,
     "metadata": {},
     "output_type": "execute_result"
    }
   ],
   "source": [
    "df['Job Title'].unique()\t"
   ]
  },
  {
   "cell_type": "code",
   "execution_count": 9,
   "id": "547c53ea-8c93-40b1-bdc7-02565ac0c928",
   "metadata": {},
   "outputs": [
    {
     "data": {
      "text/plain": [
       "1856"
      ]
     },
     "execution_count": 9,
     "metadata": {},
     "output_type": "execute_result"
    }
   ],
   "source": [
    "len(df['Job Title'].unique())"
   ]
  },
  {
   "cell_type": "code",
   "execution_count": 10,
   "id": "c4b03fcb-6626-483c-9f5b-82814b41c880",
   "metadata": {},
   "outputs": [
    {
     "data": {
      "text/plain": [
       "Job Title\n",
       "Web Back-End Developer                                            57\n",
       "Software Engineer                                                 56\n",
       "Full Stack Engineer                                               47\n",
       "Senior Software Engineer                                          45\n",
       "Wordpress Developer                                               38\n",
       "PHP Developer                                                     36\n",
       "Dotnet Developer                                                  33\n",
       "Back End Developer                                                27\n",
       "Shopify Developer                                                 27\n",
       "Lead Software Engineer, Trilogy (Remote) - $100,000/year USD      26\n",
       "Android Developer                                                 25\n",
       "Senior Software Engineer, Trilogy (Remote) - $100,000/year USD    25\n",
       "DevOps Engineer                                                   25\n",
       "Unity Developer                                                   23\n",
       "Senior Dotnet Developer                                           23\n",
       "Web Backend Developer                                             22\n",
       "Web Developer                                                     21\n",
       "Data Analyst                                                      20\n",
       "Full Stack Developer                                              20\n",
       "Python Developer                                                  19\n",
       "iOS Developer                                                     18\n",
       "Senior AI Engineer, Trilogy (Remote) - $200,000/year USD          18\n",
       "UI/UX Designer                                                    17\n",
       "React Native Developer                                            16\n",
       "Full-Stack Developer                                              16\n",
       "Laravel Developer                                                 16\n",
       "Senior DevOps Engineer                                            16\n",
       "Data Scientist II                                                 16\n",
       "Full Stack Developer, Trilogy (Remote) - $100,000/year USD        15\n",
       "Data Engineer                                                     15\n",
       "Name: count, dtype: int64"
      ]
     },
     "execution_count": 10,
     "metadata": {},
     "output_type": "execute_result"
    }
   ],
   "source": [
    "df['Job Title'].value_counts()[:30]"
   ]
  },
  {
   "cell_type": "code",
   "execution_count": 11,
   "id": "a7c9a9dc-444d-4cd9-8c21-990488d486b3",
   "metadata": {},
   "outputs": [
    {
     "data": {
      "text/plain": [
       "0       AusSource Enterprises (SMC-PRIVATE) LIMITED \n",
       "1                      TechSwivel (Private) Limited \n",
       "2                                       MWAN Mobile \n",
       "3                                           TecStik \n",
       "4                                         Analytica \n",
       "                            ...                     \n",
       "3729                        Grewals Tech Solutions  \n",
       "3730                                     Crossover  \n",
       "3731                                NewRich Network \n",
       "3732                                     Crossover  \n",
       "3733                                the ENTERTAINER \n",
       "Name: company, Length: 3734, dtype: object"
      ]
     },
     "execution_count": 11,
     "metadata": {},
     "output_type": "execute_result"
    }
   ],
   "source": [
    "df['company']"
   ]
  },
  {
   "cell_type": "code",
   "execution_count": 12,
   "id": "ed95383a-cf5b-4142-9d1e-ccaabf259150",
   "metadata": {},
   "outputs": [
    {
     "data": {
      "text/plain": [
       "array(['AusSource Enterprises (SMC-PRIVATE) LIMITED ',\n",
       "       'TechSwivel (Private) Limited ', 'MWAN Mobile ', ...,\n",
       "       'WebTech.dev ', 'Hello World Technologies ',\n",
       "       'Grewals Tech Solutions  '], dtype=object)"
      ]
     },
     "execution_count": 12,
     "metadata": {},
     "output_type": "execute_result"
    }
   ],
   "source": [
    "df['company'].unique()"
   ]
  },
  {
   "cell_type": "code",
   "execution_count": 13,
   "id": "a2988538-0558-429c-9de4-41e6c36d5d7a",
   "metadata": {},
   "outputs": [
    {
     "data": {
      "text/plain": [
       "1420"
      ]
     },
     "execution_count": 13,
     "metadata": {},
     "output_type": "execute_result"
    }
   ],
   "source": [
    "len(df['company'].unique())"
   ]
  },
  {
   "cell_type": "code",
   "execution_count": 14,
   "id": "c70bf5f0-f74f-4bf3-a277-cfc67d60c00a",
   "metadata": {},
   "outputs": [
    {
     "data": {
      "text/plain": [
       "company\n",
       "Crossover                        506\n",
       "Turing                           215\n",
       "Afiniti                           74\n",
       "HR Ways - Hiring Tech Talent      39\n",
       "Dubizzle Labs                     35\n",
       "                                ... \n",
       "Vizz Web Solutions Pvt. Ltd        1\n",
       "Techlogix                          1\n",
       "Khired Networks                    1\n",
       "WorldCall Telecom Limited          1\n",
       "Grewals Tech Solutions             1\n",
       "Name: count, Length: 1420, dtype: int64"
      ]
     },
     "execution_count": 14,
     "metadata": {},
     "output_type": "execute_result"
    }
   ],
   "source": [
    "df['company'].value_counts()"
   ]
  },
  {
   "cell_type": "code",
   "execution_count": 16,
   "id": "31a59858-0bb5-47dc-8970-bb104588507e",
   "metadata": {},
   "outputs": [
    {
     "data": {
      "text/plain": [
       "company\n",
       "Crossover                                   506\n",
       "Turing                                      215\n",
       "Afiniti                                      74\n",
       "HR Ways - Hiring Tech Talent                 39\n",
       "Dubizzle Labs                                35\n",
       "Zones IT Solutions                           31\n",
       "Motive                                       31\n",
       "TCP Software                                 27\n",
       "Gelato                                       27\n",
       "CureMD                                       26\n",
       "Teradata                                     26\n",
       "S&P Global                                   23\n",
       "Contour Software                             23\n",
       "GfK - An NIQ Company                         23\n",
       "IBM                                          22\n",
       "Deriv                                        22\n",
       "Daraz                                        21\n",
       "ibex                                         19\n",
       "360 TECHNOLOGIES                             19\n",
       "Jazz                                         17\n",
       "Talent Pal                                   16\n",
       "All European Careers                         15\n",
       "Careem                                       15\n",
       "Telenor                                      15\n",
       "People (Professional Employers Pvt Ltd)      15\n",
       "Kamayi                                       14\n",
       "yieldWerx Semiconductor                      14\n",
       "IKONIC                                       14\n",
       "Tree Top Staffing LLC                        14\n",
       "CrecenTech Systems Private Limited           12\n",
       "Hitachi Digital Services                     12\n",
       "Gaditek                                      12\n",
       "BAT                                          11\n",
       "Melior ITS                                   11\n",
       "Lucidspire                                   11\n",
       "Zactra Inc                                   10\n",
       "eSpark Consulting Group                      10\n",
       "Arbisoft                                     10\n",
       "Nisum                                        10\n",
       "Orcalo Holdings                               9\n",
       "Name: count, dtype: int64"
      ]
     },
     "execution_count": 16,
     "metadata": {},
     "output_type": "execute_result"
    }
   ],
   "source": [
    "df['company'].value_counts()[:40]"
   ]
  },
  {
   "cell_type": "code",
   "execution_count": null,
   "id": "93a7b3af-da85-4105-982b-d021872f0f3b",
   "metadata": {},
   "outputs": [],
   "source": []
  },
  {
   "cell_type": "code",
   "execution_count": 17,
   "id": "38b28619-e719-4df7-aced-f3e481b2d900",
   "metadata": {},
   "outputs": [
    {
     "data": {
      "text/plain": [
       "0       Islamabad\n",
       "1          Lahore\n",
       "2       Islāmābād\n",
       "3         Karāchi\n",
       "4          Lahore\n",
       "          ...    \n",
       "3729       Lahore\n",
       "3730       Lahore\n",
       "3731       Lahore\n",
       "3732      Karāchi\n",
       "3733       Lahore\n",
       "Name: location_1, Length: 3734, dtype: object"
      ]
     },
     "execution_count": 17,
     "metadata": {},
     "output_type": "execute_result"
    }
   ],
   "source": [
    "df['location_1']"
   ]
  },
  {
   "cell_type": "code",
   "execution_count": 18,
   "id": "e480b31e-d464-45b5-8ee8-4c666d2409ec",
   "metadata": {},
   "outputs": [
    {
     "data": {
      "text/plain": [
       "array(['Islamabad', 'Lahore', 'Islāmābād', 'Karāchi', 'Pakistan',\n",
       "       'Rawalpindi', 'Karachi', 'Multan', 'Faisalabad', 'Bahawalpur',\n",
       "       'Peshawar', 'Punjab', 'Jhelum', 'MENA', 'Sindh', 'APAC',\n",
       "       'Hyderabad', 'South', 'Gujranwala', 'Khyber', 'New', 'Gurugram',\n",
       "       'APJ', 'Jamshoro', 'Quetta', 'Okāra', 'Chaman', 'Kampala',\n",
       "       'Mardan', 'Korangi', 'Sialkot', 'Abbottabad', 'Sāhīwāl', 'India',\n",
       "       'Jhang', 'Rahim', 'Sukkur', 'Kharian', 'Banda', 'Sargodha',\n",
       "       'Johar', 'Rakhni', 'Khuzdar', 'Gilgit-Baltistan', 'Lodhran',\n",
       "       'Gujrāt', 'Malir', 'Muzaffargarh', 'Vehari', 'Turkey', 'Pindi',\n",
       "       'Abbottābād', 'Chakwāl', 'Gulshan', 'Shekhūpura', 'Vienna',\n",
       "       'Haroonabad'], dtype=object)"
      ]
     },
     "execution_count": 18,
     "metadata": {},
     "output_type": "execute_result"
    }
   ],
   "source": [
    "df['location_1'].unique()"
   ]
  },
  {
   "cell_type": "code",
   "execution_count": 19,
   "id": "0e7b19cd-fed3-449e-82b2-c0810964bfdc",
   "metadata": {},
   "outputs": [
    {
     "data": {
      "text/plain": [
       "57"
      ]
     },
     "execution_count": 19,
     "metadata": {},
     "output_type": "execute_result"
    }
   ],
   "source": [
    "len(df['location_1'].unique()) # incorrect"
   ]
  },
  {
   "cell_type": "code",
   "execution_count": 20,
   "id": "9ed8dbca-e59c-4c18-9e00-edc2fd0cb13c",
   "metadata": {},
   "outputs": [
    {
     "data": {
      "text/plain": [
       "location_1\n",
       "Lahore              1198\n",
       "Islamabad            617\n",
       "Karāchi              601\n",
       "Pakistan             486\n",
       "Karachi              235\n",
       "Rawalpindi           187\n",
       "Islāmābād            103\n",
       "Faisalabad            57\n",
       "Peshawar              46\n",
       "Punjab                35\n",
       "Multan                23\n",
       "Hyderabad             21\n",
       "New                   18\n",
       "APJ                   15\n",
       "Bahawalpur             8\n",
       "APAC                   8\n",
       "Gujranwala             7\n",
       "Rakhni                 6\n",
       "South                  6\n",
       "Khyber                 4\n",
       "Sialkot                4\n",
       "Sindh                  4\n",
       "Quetta                 3\n",
       "Jhelum                 3\n",
       "Rahim                  2\n",
       "Jamshoro               2\n",
       "Okāra                  2\n",
       "Sāhīwāl                2\n",
       "India                  2\n",
       "Vehari                 2\n",
       "Gilgit-Baltistan       1\n",
       "Lodhran                1\n",
       "Gujrāt                 1\n",
       "Malir                  1\n",
       "Muzaffargarh           1\n",
       "Pindi                  1\n",
       "Turkey                 1\n",
       "Vienna                 1\n",
       "Abbottābād             1\n",
       "Chakwāl                1\n",
       "Gulshan                1\n",
       "Shekhūpura             1\n",
       "Mardan                 1\n",
       "Khuzdar                1\n",
       "Johar                  1\n",
       "Sargodha               1\n",
       "Banda                  1\n",
       "Kharian                1\n",
       "Sukkur                 1\n",
       "Jhang                  1\n",
       "Abbottabad             1\n",
       "Korangi                1\n",
       "Kampala                1\n",
       "Chaman                 1\n",
       "Gurugram               1\n",
       "MENA                   1\n",
       "Haroonabad             1\n",
       "Name: count, dtype: int64"
      ]
     },
     "execution_count": 20,
     "metadata": {},
     "output_type": "execute_result"
    }
   ],
   "source": [
    "df['location_1'].value_counts()"
   ]
  },
  {
   "cell_type": "code",
   "execution_count": 22,
   "id": "713d11da-c2f8-46e8-91c6-249719c004b4",
   "metadata": {},
   "outputs": [
    {
     "data": {
      "text/plain": [
       "0       On-site\n",
       "1       On-site\n",
       "2       On-site\n",
       "3       On-site\n",
       "4       On-site\n",
       "         ...   \n",
       "3729    On-site\n",
       "3730     Remote\n",
       "3731     Remote\n",
       "3732     Remote\n",
       "3733    On-site\n",
       "Name: Remote/Onsite, Length: 3734, dtype: object"
      ]
     },
     "execution_count": 22,
     "metadata": {},
     "output_type": "execute_result"
    }
   ],
   "source": [
    "df['Remote/Onsite']"
   ]
  },
  {
   "cell_type": "code",
   "execution_count": 23,
   "id": "462aebd7-51ba-461e-b25b-5851009e8cce",
   "metadata": {},
   "outputs": [
    {
     "data": {
      "text/plain": [
       "array(['On-site', 'Remote', 'Hybrid', 'Not specified'], dtype=object)"
      ]
     },
     "execution_count": 23,
     "metadata": {},
     "output_type": "execute_result"
    }
   ],
   "source": [
    "df['Remote/Onsite'].unique()"
   ]
  },
  {
   "cell_type": "code",
   "execution_count": 24,
   "id": "ba4ca58d-1140-41db-b137-91aec34f8179",
   "metadata": {},
   "outputs": [
    {
     "data": {
      "text/plain": [
       "Remote/Onsite\n",
       "On-site          2184\n",
       "Remote           1179\n",
       "Hybrid            273\n",
       "Not specified      98\n",
       "Name: count, dtype: int64"
      ]
     },
     "execution_count": 24,
     "metadata": {},
     "output_type": "execute_result"
    }
   ],
   "source": [
    "df['Remote/Onsite'].value_counts()"
   ]
  },
  {
   "cell_type": "code",
   "execution_count": 25,
   "id": "9039c01d-5561-44a3-9de5-d9ed4ade923a",
   "metadata": {},
   "outputs": [
    {
     "data": {
      "text/plain": [
       "0       Full-time\n",
       "1       Full-time\n",
       "2       Full-time\n",
       "3       Full-time\n",
       "4       Full-time\n",
       "          ...    \n",
       "3729    Full-time\n",
       "3730    Full-time\n",
       "3731    Full-time\n",
       "3732    Full-time\n",
       "3733    Full-time\n",
       "Name: Job-Type, Length: 3734, dtype: object"
      ]
     },
     "execution_count": 25,
     "metadata": {},
     "output_type": "execute_result"
    }
   ],
   "source": [
    "df['Job-Type']"
   ]
  },
  {
   "cell_type": "code",
   "execution_count": 26,
   "id": "0fc75128-ca8b-4046-8de5-81aa03df35f0",
   "metadata": {},
   "outputs": [
    {
     "data": {
      "text/plain": [
       "array(['Full-time', 'Contract', 'Part-time', 'Internship',\n",
       "       'Not specified', 'Temporary'], dtype=object)"
      ]
     },
     "execution_count": 26,
     "metadata": {},
     "output_type": "execute_result"
    }
   ],
   "source": [
    "df['Job-Type'].unique()"
   ]
  },
  {
   "cell_type": "code",
   "execution_count": 27,
   "id": "7ff3e190-836f-455e-91d0-5c76b79ff510",
   "metadata": {},
   "outputs": [
    {
     "data": {
      "text/plain": [
       "6"
      ]
     },
     "execution_count": 27,
     "metadata": {},
     "output_type": "execute_result"
    }
   ],
   "source": [
    "len(df['Job-Type'].unique())"
   ]
  },
  {
   "cell_type": "code",
   "execution_count": 28,
   "id": "94cbdad3-433c-428b-a2ea-5e66c95f714a",
   "metadata": {},
   "outputs": [
    {
     "data": {
      "text/plain": [
       "Job-Type\n",
       "Full-time        3577\n",
       "Contract           88\n",
       "Part-time          35\n",
       "Internship         31\n",
       "Not specified       2\n",
       "Temporary           1\n",
       "Name: count, dtype: int64"
      ]
     },
     "execution_count": 28,
     "metadata": {},
     "output_type": "execute_result"
    }
   ],
   "source": [
    "df['Job-Type'].value_counts()"
   ]
  },
  {
   "cell_type": "code",
   "execution_count": 29,
   "id": "99e93ca3-bb86-4c63-8adc-5e7fc1076ba5",
   "metadata": {},
   "outputs": [
    {
     "data": {
      "text/plain": [
       "0          Not specified\n",
       "1          Not specified\n",
       "2          Not specified\n",
       "3          Not specified\n",
       "4          Not specified\n",
       "              ...       \n",
       "3729       Not specified\n",
       "3730    Mid-Senior level\n",
       "3731         Entry level\n",
       "3732    Mid-Senior level\n",
       "3733    Mid-Senior level\n",
       "Name: Experience Level, Length: 3734, dtype: object"
      ]
     },
     "execution_count": 29,
     "metadata": {},
     "output_type": "execute_result"
    }
   ],
   "source": [
    "df['Experience Level']"
   ]
  },
  {
   "cell_type": "code",
   "execution_count": 30,
   "id": "a279f31c-f97f-42c3-812c-d0d3d39f87e0",
   "metadata": {},
   "outputs": [
    {
     "data": {
      "text/plain": [
       "array(['Not specified', 'Mid-Senior level', 'Entry level', 'Associate',\n",
       "       'Director', 'Executive', 'Internship'], dtype=object)"
      ]
     },
     "execution_count": 30,
     "metadata": {},
     "output_type": "execute_result"
    }
   ],
   "source": [
    "df['Experience Level'].unique()"
   ]
  },
  {
   "cell_type": "code",
   "execution_count": 31,
   "id": "81446622-5b87-4783-9cc0-4177aab194ac",
   "metadata": {},
   "outputs": [
    {
     "data": {
      "text/plain": [
       "7"
      ]
     },
     "execution_count": 31,
     "metadata": {},
     "output_type": "execute_result"
    }
   ],
   "source": [
    "len(df['Experience Level'].unique())"
   ]
  },
  {
   "cell_type": "code",
   "execution_count": 33,
   "id": "9f8e541c-c27c-42a7-98c3-9697ca2cd3c3",
   "metadata": {},
   "outputs": [
    {
     "data": {
      "text/plain": [
       "Experience Level\n",
       "Not specified       1919\n",
       "Mid-Senior level    1089\n",
       "Entry level          443\n",
       "Associate            160\n",
       "Director              61\n",
       "Internship            33\n",
       "Executive             29\n",
       "Name: count, dtype: int64"
      ]
     },
     "execution_count": 33,
     "metadata": {},
     "output_type": "execute_result"
    }
   ],
   "source": [
    "df['Experience Level'].value_counts()"
   ]
  },
  {
   "cell_type": "code",
   "execution_count": 34,
   "id": "555b0a1f-eed1-48a5-9a8f-ae7e527c00de",
   "metadata": {},
   "outputs": [
    {
     "data": {
      "text/plain": [
       "0               11-50 employees\n",
       "1               11-50 employees\n",
       "2               11-50 employees\n",
       "3                1-10 employees\n",
       "4              51-200 employees\n",
       "                 ...           \n",
       "3729            11-50 employees\n",
       "3730    5,001-10,000 employees \n",
       "3731           11-50 employees \n",
       "3732    5,001-10,000 employees \n",
       "3733         201-500 employees \n",
       "Name: Comp_N_Employees, Length: 3734, dtype: object"
      ]
     },
     "execution_count": 34,
     "metadata": {},
     "output_type": "execute_result"
    }
   ],
   "source": [
    "df['Comp_N_Employees']"
   ]
  },
  {
   "cell_type": "code",
   "execution_count": 35,
   "id": "878cac99-77ad-4bdc-a01e-1ac0efbc09d9",
   "metadata": {},
   "outputs": [
    {
     "data": {
      "text/plain": [
       "array(['11-50 employees', '1-10 employees', '51-200 employees',\n",
       "       '201-500 employees', '5,001-10,000 employees ',\n",
       "       '1,001-5,000 employees ', '201-500 employees ',\n",
       "       '51-200 employees ', '1-10 employees ', '11-50 employees ',\n",
       "       '1,001-5,000 employees', '501-1,000 employees ', 'Not specified',\n",
       "       '10,001+ employees ', '501-1,000 employees', '10,001+ employees',\n",
       "       '5,001-10,000 employees'], dtype=object)"
      ]
     },
     "execution_count": 35,
     "metadata": {},
     "output_type": "execute_result"
    }
   ],
   "source": [
    "df['Comp_N_Employees'].unique()"
   ]
  },
  {
   "cell_type": "code",
   "execution_count": 36,
   "id": "d7411102-7883-46d1-a377-4c70f5441227",
   "metadata": {},
   "outputs": [
    {
     "data": {
      "text/plain": [
       "17"
      ]
     },
     "execution_count": 36,
     "metadata": {},
     "output_type": "execute_result"
    }
   ],
   "source": [
    "len(df['Comp_N_Employees'].unique())"
   ]
  },
  {
   "cell_type": "code",
   "execution_count": 37,
   "id": "cd210d93-bf3c-4782-8e0f-40fd3a9b92bb",
   "metadata": {},
   "outputs": [
    {
     "data": {
      "text/plain": [
       "Comp_N_Employees\n",
       "11-50 employees            777\n",
       "5,001-10,000 employees     598\n",
       "1,001-5,000 employees      527\n",
       "51-200 employees           448\n",
       "1-10 employees             212\n",
       "10,001+ employees          208\n",
       "51-200 employees           177\n",
       "201-500 employees          167\n",
       "201-500 employees          148\n",
       "501-1,000 employees        119\n",
       "Not specified              116\n",
       "11-50 employees             98\n",
       "1,001-5,000 employees       47\n",
       "1-10 employees              38\n",
       "501-1,000 employees         35\n",
       "5,001-10,000 employees      10\n",
       "10,001+ employees            9\n",
       "Name: count, dtype: int64"
      ]
     },
     "execution_count": 37,
     "metadata": {},
     "output_type": "execute_result"
    }
   ],
   "source": [
    "df['Comp_N_Employees'].value_counts()"
   ]
  },
  {
   "cell_type": "code",
   "execution_count": 38,
   "id": "63c298dc-6867-46ad-80af-be1128469d06",
   "metadata": {},
   "outputs": [
    {
     "data": {
      "text/plain": [
       "0                        Not specified\n",
       "1                        Not specified\n",
       "2                        Not specified\n",
       "3                        Not specified\n",
       "4                        Not specified\n",
       "                     ...              \n",
       "3729                     Not specified\n",
       "3730     IT Services and IT Consulting\n",
       "3731      Online Audio and Video Media\n",
       "3732     IT Services and IT Consulting\n",
       "3733              Software Development\n",
       "Name: Comp_Industry, Length: 3734, dtype: object"
      ]
     },
     "execution_count": 38,
     "metadata": {},
     "output_type": "execute_result"
    }
   ],
   "source": [
    "df['Comp_Industry']"
   ]
  },
  {
   "cell_type": "code",
   "execution_count": 39,
   "id": "ea0191a7-3553-4386-88a0-6797d38fcbac",
   "metadata": {},
   "outputs": [
    {
     "data": {
      "text/plain": [
       "array(['Not specified', ' IT Services and IT Consulting',\n",
       "       ' Software Development', ' IT System Custom Software Development',\n",
       "       ' Financial Services', ' Human Resources Services',\n",
       "       ' Technology, Information and Internet',\n",
       "       ' Transportation, Logistics, Supply Chain and Storage',\n",
       "       ' Information Technology & Services',\n",
       "       ' Renewable Energy Semiconductor Manufacturing',\n",
       "       ' Telecommunications', ' Leisure, Travel & Tourism',\n",
       "       ' Outsourcing/Offshoring', ' Banking', ' Blockchain Services',\n",
       "       ' Computer and Network Security', ' Biotechnology Research',\n",
       "       ' Utilities', ' Translation and Localization',\n",
       "       ' Automation Machinery Manufacturing',\n",
       "       ' Pharmaceutical Manufacturing', ' International Affairs',\n",
       "       ' Tobacco Manufacturing', ' Strategic Management Services',\n",
       "       ' Media Production', ' Real Estate', ' Hospitals and Health Care',\n",
       "       ' Staffing and Recruiting',\n",
       "       ' Outsourcing and Offshoring Consulting', ' Professional Services',\n",
       "       ' Information Services', ' Wellness and Fitness Services',\n",
       "       ' Retail Apparel and Fashion', ' Higher Education',\n",
       "       ' Book and Periodical Publishing',\n",
       "       ' Internet Marketplace Platforms',\n",
       "       ' Food and Beverage Manufacturing', ' Manufacturing',\n",
       "       ' Advertising Services', ' Public Safety', ' Retail',\n",
       "       ' Engineering Services', ' Oil and Gas', ' Design Services',\n",
       "       ' Consumer Services', ' Accounting', ' Internet Publishing',\n",
       "       ' Technology, Information and Media', ' Investment Advice',\n",
       "       ' Non-profit Organizations', ' Human Resources',\n",
       "       ' Beverage Manufacturing', ' Marketing Services', ' Think Tanks',\n",
       "       ' Semiconductor Manufacturing',\n",
       "       ' Business Consulting and Services',\n",
       "       ' Online Audio and Video Media', ' Food and Beverage Services',\n",
       "       ' International Trade and Development', ' Apparel & Fashion',\n",
       "       ' Entertainment Providers', ' Industrial Machinery Manufacturing'],\n",
       "      dtype=object)"
      ]
     },
     "execution_count": 39,
     "metadata": {},
     "output_type": "execute_result"
    }
   ],
   "source": [
    "df['Comp_Industry'].unique()"
   ]
  },
  {
   "cell_type": "code",
   "execution_count": 40,
   "id": "b031afeb-0017-4b2f-bfff-268de5512a9e",
   "metadata": {},
   "outputs": [
    {
     "data": {
      "text/plain": [
       "62"
      ]
     },
     "execution_count": 40,
     "metadata": {},
     "output_type": "execute_result"
    }
   ],
   "source": [
    "len(df['Comp_Industry'].unique())"
   ]
  },
  {
   "cell_type": "code",
   "execution_count": 41,
   "id": "abf60848-0e85-409a-98e8-148a084766e2",
   "metadata": {},
   "outputs": [
    {
     "data": {
      "text/plain": [
       "Comp_Industry\n",
       "Not specified                                    1802\n",
       " IT Services and IT Consulting                   1072\n",
       " Software Development                             307\n",
       " Financial Services                                69\n",
       " Telecommunications                                58\n",
       "                                                 ... \n",
       " Media Production                                   1\n",
       " International Trade and Development                1\n",
       " Translation and Localization                       1\n",
       " Renewable Energy Semiconductor Manufacturing       1\n",
       " Industrial Machinery Manufacturing                 1\n",
       "Name: count, Length: 62, dtype: int64"
      ]
     },
     "execution_count": 41,
     "metadata": {},
     "output_type": "execute_result"
    }
   ],
   "source": [
    "df['Comp_Industry'].value_counts()"
   ]
  },
  {
   "cell_type": "code",
   "execution_count": 42,
   "id": "d0c79dd7-2344-4d59-ac09-23653f9d654a",
   "metadata": {},
   "outputs": [
    {
     "data": {
      "text/plain": [
       "Index(['Job Title', 'Job Info', 'Job Type', 'Job Link_x', 'employees',\n",
       "       'Job ID', 'Job Link_y', 'Job Desception', 'Company Info', 'company',\n",
       "       'location_1', 'location_2', 'Remote/Onsite', 'n_applicant',\n",
       "       'job posting time', 'Job Type nElements', 'Job-Type',\n",
       "       'Experience Level', 'Comp_N_Employees', 'Comp_Industry'],\n",
       "      dtype='object')"
      ]
     },
     "execution_count": 42,
     "metadata": {},
     "output_type": "execute_result"
    }
   ],
   "source": [
    "df.columns"
   ]
  },
  {
   "cell_type": "code",
   "execution_count": null,
   "id": "7bba056a-6c07-4eb4-afd6-b6a99a3041d4",
   "metadata": {},
   "outputs": [],
   "source": []
  },
  {
   "cell_type": "code",
   "execution_count": null,
   "id": "d04f4496-d4cb-462d-87cd-27f6b52fd5c7",
   "metadata": {},
   "outputs": [],
   "source": []
  },
  {
   "cell_type": "code",
   "execution_count": null,
   "id": "19f93b86-7f34-4aef-8f17-ac2fa0f8b54c",
   "metadata": {},
   "outputs": [],
   "source": []
  },
  {
   "cell_type": "code",
   "execution_count": null,
   "id": "58120e8b-425f-4c7b-819a-26e2d0d73b0e",
   "metadata": {},
   "outputs": [],
   "source": []
  },
  {
   "cell_type": "code",
   "execution_count": null,
   "id": "3fd74c36-2ca3-4872-92df-a7396cc02de5",
   "metadata": {},
   "outputs": [],
   "source": []
  },
  {
   "cell_type": "code",
   "execution_count": null,
   "id": "8fcdb03d-9dbc-4f29-812e-fda8f0e0d956",
   "metadata": {},
   "outputs": [],
   "source": []
  },
  {
   "cell_type": "code",
   "execution_count": null,
   "id": "ed76917d-1eca-4482-a67f-53764d0f03ff",
   "metadata": {},
   "outputs": [],
   "source": []
  },
  {
   "cell_type": "code",
   "execution_count": null,
   "id": "8258a3c1-39bf-4764-9d7b-62bb2ba0a591",
   "metadata": {},
   "outputs": [],
   "source": []
  },
  {
   "cell_type": "code",
   "execution_count": null,
   "id": "dad55154-4020-4f7e-bf37-fb7d7a560ed5",
   "metadata": {},
   "outputs": [],
   "source": []
  },
  {
   "cell_type": "code",
   "execution_count": null,
   "id": "61ce73bb-8531-4867-bc43-cf052c27f9d5",
   "metadata": {},
   "outputs": [],
   "source": []
  },
  {
   "cell_type": "code",
   "execution_count": null,
   "id": "1109e37f-963d-4d37-b91e-6f6bd2dc8511",
   "metadata": {},
   "outputs": [],
   "source": []
  },
  {
   "cell_type": "code",
   "execution_count": null,
   "id": "4e0e6d62-f204-4c2d-9eec-29da7864bbc9",
   "metadata": {},
   "outputs": [],
   "source": []
  },
  {
   "cell_type": "code",
   "execution_count": null,
   "id": "4bac98e1-c2d5-4ad0-873c-db04816894e2",
   "metadata": {},
   "outputs": [],
   "source": []
  },
  {
   "cell_type": "code",
   "execution_count": null,
   "id": "6fbe5b79-e9aa-4efc-8911-51a5a9b94ca9",
   "metadata": {},
   "outputs": [],
   "source": []
  },
  {
   "cell_type": "code",
   "execution_count": null,
   "id": "4b1a59d9-e429-4001-9cd1-c385a5bb7430",
   "metadata": {},
   "outputs": [],
   "source": []
  },
  {
   "cell_type": "code",
   "execution_count": null,
   "id": "0163cfef-8131-460d-aab3-56f9b2d1df89",
   "metadata": {},
   "outputs": [],
   "source": []
  },
  {
   "cell_type": "markdown",
   "id": "9b188a5d-7285-475f-9f02-5f8cbd073cd6",
   "metadata": {},
   "source": [
    "### saving File"
   ]
  },
  {
   "cell_type": "code",
   "execution_count": 105,
   "id": "8714847c-9eee-42bd-af41-d8858ef6954e",
   "metadata": {},
   "outputs": [
    {
     "data": {
      "text/plain": [
       "11737"
      ]
     },
     "execution_count": 105,
     "metadata": {},
     "output_type": "execute_result"
    }
   ],
   "source": [
    "len(df)"
   ]
  },
  {
   "cell_type": "code",
   "execution_count": 106,
   "id": "b037624a-1ce9-49f2-a9f2-13d65bd17784",
   "metadata": {},
   "outputs": [
    {
     "data": {
      "text/plain": [
       "16"
      ]
     },
     "execution_count": 106,
     "metadata": {},
     "output_type": "execute_result"
    }
   ],
   "source": [
    "len(df.columns)"
   ]
  },
  {
   "cell_type": "code",
   "execution_count": 107,
   "id": "e051081c-191e-4355-8f87-b6348e05fece",
   "metadata": {},
   "outputs": [],
   "source": [
    "folder_name='Feature Eng processed Files/'"
   ]
  },
  {
   "cell_type": "code",
   "execution_count": 108,
   "id": "7b48608b-340e-4005-a782-b8448ee3d9a2",
   "metadata": {},
   "outputs": [
    {
     "data": {
      "text/plain": [
       "'Linkedin_Job_Details_26-Sep-2023-to-26-Nov-2023_11737-jobs_16-features_685-pages_Feature-Eng-processed_v4.csv'"
      ]
     },
     "execution_count": 108,
     "metadata": {},
     "output_type": "execute_result"
    }
   ],
   "source": [
    "File_name=path.split('/')[-1].split('2023_')[0]+'2023_'+f'{len(df)}-jobs_{len(df.columns)}-features_685-pages_Feature-Eng-processed_v4.csv'\n",
    "File_name"
   ]
  },
  {
   "cell_type": "code",
   "execution_count": 109,
   "id": "599599f1-0891-4cda-8697-892dc8f75cb7",
   "metadata": {},
   "outputs": [],
   "source": [
    "saving_path=folder_name+File_name"
   ]
  },
  {
   "cell_type": "code",
   "execution_count": 110,
   "id": "3cd62070-42c9-4db8-98bd-df9790ad100c",
   "metadata": {},
   "outputs": [],
   "source": [
    "# df.to_csv(saving_path,index=False)"
   ]
  }
 ],
 "metadata": {
  "kernelspec": {
   "display_name": "Python 3 (ipykernel)",
   "language": "python",
   "name": "python3"
  },
  "language_info": {
   "codemirror_mode": {
    "name": "ipython",
    "version": 3
   },
   "file_extension": ".py",
   "mimetype": "text/x-python",
   "name": "python",
   "nbconvert_exporter": "python",
   "pygments_lexer": "ipython3",
   "version": "3.11.4"
  }
 },
 "nbformat": 4,
 "nbformat_minor": 5
}
