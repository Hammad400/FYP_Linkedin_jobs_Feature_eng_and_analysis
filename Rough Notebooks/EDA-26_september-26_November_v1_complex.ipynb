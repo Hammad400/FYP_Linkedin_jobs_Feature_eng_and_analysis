{
 "cells": [
  {
   "cell_type": "code",
   "execution_count": 1,
   "id": "81ac062a-82c7-49ee-b287-c219641155b6",
   "metadata": {},
   "outputs": [],
   "source": [
    "import pandas as pd\n",
    "import numpy as np\n",
    "import os\n",
    "from datetime import datetime"
   ]
  },
  {
   "cell_type": "code",
   "execution_count": 2,
   "id": "966fb6a3-3166-444a-8246-b2111900c95a",
   "metadata": {},
   "outputs": [],
   "source": [
    "path='Files used in current analysis/Linkedin_Job_Details_26-Sep-2023-to-26-Nov-2023_15875-jobs_685-pages.csv'"
   ]
  },
  {
   "cell_type": "code",
   "execution_count": 3,
   "id": "ea083d0e-c886-4620-a6b3-778654b7f58b",
   "metadata": {},
   "outputs": [],
   "source": [
    "df=pd.read_csv(path)"
   ]
  },
  {
   "cell_type": "code",
   "execution_count": 4,
   "id": "1869871d-7c0a-40b8-abb9-8748537036a1",
   "metadata": {},
   "outputs": [
    {
     "data": {
      "text/html": [
       "<div>\n",
       "<style scoped>\n",
       "    .dataframe tbody tr th:only-of-type {\n",
       "        vertical-align: middle;\n",
       "    }\n",
       "\n",
       "    .dataframe tbody tr th {\n",
       "        vertical-align: top;\n",
       "    }\n",
       "\n",
       "    .dataframe thead th {\n",
       "        text-align: right;\n",
       "    }\n",
       "</style>\n",
       "<table border=\"1\" class=\"dataframe\">\n",
       "  <thead>\n",
       "    <tr style=\"text-align: right;\">\n",
       "      <th></th>\n",
       "      <th>Job Title</th>\n",
       "      <th>Job Info</th>\n",
       "      <th>Job Type</th>\n",
       "      <th>Job Link</th>\n",
       "      <th>employees</th>\n",
       "    </tr>\n",
       "  </thead>\n",
       "  <tbody>\n",
       "    <tr>\n",
       "      <th>0</th>\n",
       "      <td>LinkedIn Data Extractor</td>\n",
       "      <td>EcomFleet · Pakistan (Remote)  \\n1 week ago</td>\n",
       "      <td>Full-time</td>\n",
       "      <td>https://www.linkedin.com/jobs/view/3727054368</td>\n",
       "      <td>11-50 employees</td>\n",
       "    </tr>\n",
       "    <tr>\n",
       "      <th>1</th>\n",
       "      <td>It Management Intern</td>\n",
       "      <td>Digicon Valley · Lahore, Punjab, Pakistan (On-...</td>\n",
       "      <td>Full-time</td>\n",
       "      <td>https://www.linkedin.com/jobs/view/3723395858</td>\n",
       "      <td>11-50 employees</td>\n",
       "    </tr>\n",
       "    <tr>\n",
       "      <th>2</th>\n",
       "      <td>SQL Database Developer</td>\n",
       "      <td>Murkez Technologies · Lahore, Punjab, Pakistan...</td>\n",
       "      <td>Full-time</td>\n",
       "      <td>https://www.linkedin.com/jobs/view/3727034665</td>\n",
       "      <td>51-200 employees</td>\n",
       "    </tr>\n",
       "    <tr>\n",
       "      <th>3</th>\n",
       "      <td>Business Intelligence Developer</td>\n",
       "      <td>DevNatives · Islamabad, Islāmābād, Pakistan (H...</td>\n",
       "      <td>Full-time</td>\n",
       "      <td>https://www.linkedin.com/jobs/view/3727029273</td>\n",
       "      <td>11-50 employees</td>\n",
       "    </tr>\n",
       "    <tr>\n",
       "      <th>4</th>\n",
       "      <td>Web Developer - Internship</td>\n",
       "      <td>ItCreaters · Lahore, Punjab, Pakistan (On-site...</td>\n",
       "      <td>Full-time</td>\n",
       "      <td>https://www.linkedin.com/jobs/view/3727034696</td>\n",
       "      <td>Mobeen Naqvi is hiring for this job</td>\n",
       "    </tr>\n",
       "    <tr>\n",
       "      <th>...</th>\n",
       "      <td>...</td>\n",
       "      <td>...</td>\n",
       "      <td>...</td>\n",
       "      <td>...</td>\n",
       "      <td>...</td>\n",
       "    </tr>\n",
       "    <tr>\n",
       "      <th>15870</th>\n",
       "      <td>Manager – Growth Chat &amp; SMS (Digital Marketing)</td>\n",
       "      <td>Bank Alfalah Limited · Karāchi, Sindh, Pakista...</td>\n",
       "      <td>On-site\\n\\n \\nFull-time\\n\\n \\nMid-Senior level</td>\n",
       "      <td>https://www.linkedin.com/jobs/view/3767355025</td>\n",
       "      <td>5,001-10,000 employees · Banking</td>\n",
       "    </tr>\n",
       "    <tr>\n",
       "      <th>15871</th>\n",
       "      <td>Release Support Engineer</td>\n",
       "      <td>Turing · Pakistan Reposted  \\n1 week ago</td>\n",
       "      <td>Remote\\n\\n \\nFull-time\\n\\n \\nEntry level</td>\n",
       "      <td>https://www.linkedin.com/jobs/view/3766809535</td>\n",
       "      <td>1,001-5,000 employees · IT Services and IT Con...</td>\n",
       "    </tr>\n",
       "    <tr>\n",
       "      <th>15872</th>\n",
       "      <td>Information Security Specialist</td>\n",
       "      <td>DPL · Islamabad, Islāmābād, Pakistan  \\n1 week...</td>\n",
       "      <td>On-site\\n\\n \\nFull-time\\n\\n \\nEntry level</td>\n",
       "      <td>https://www.linkedin.com/jobs/view/3772530977</td>\n",
       "      <td>51-200 employees · IT Services and IT Consulting</td>\n",
       "    </tr>\n",
       "    <tr>\n",
       "      <th>15873</th>\n",
       "      <td>FUNCTIONAL CONSULTANT ORACLE FUSION - HCM</td>\n",
       "      <td>Level 3 BOS · Karachi Division, Sindh, Pakista...</td>\n",
       "      <td>On-site\\n\\n \\nFull-time\\n\\n \\nMid-Senior level</td>\n",
       "      <td>https://www.linkedin.com/jobs/view/3771943212</td>\n",
       "      <td>201-500 employees · Outsourcing and Offshoring...</td>\n",
       "    </tr>\n",
       "    <tr>\n",
       "      <th>15874</th>\n",
       "      <td>Community Associate</td>\n",
       "      <td>The Hive · Karachi Division, Sindh, Pakistan  ...</td>\n",
       "      <td>On-site\\n\\n \\nFull-time</td>\n",
       "      <td>https://www.linkedin.com/jobs/view/3767944844</td>\n",
       "      <td>11-50 employees</td>\n",
       "    </tr>\n",
       "  </tbody>\n",
       "</table>\n",
       "<p>15875 rows × 5 columns</p>\n",
       "</div>"
      ],
      "text/plain": [
       "                                             Job Title  \\\n",
       "0                              LinkedIn Data Extractor   \n",
       "1                                 It Management Intern   \n",
       "2                               SQL Database Developer   \n",
       "3                      Business Intelligence Developer   \n",
       "4                           Web Developer - Internship   \n",
       "...                                                ...   \n",
       "15870  Manager – Growth Chat & SMS (Digital Marketing)   \n",
       "15871                         Release Support Engineer   \n",
       "15872                  Information Security Specialist   \n",
       "15873        FUNCTIONAL CONSULTANT ORACLE FUSION - HCM   \n",
       "15874                              Community Associate   \n",
       "\n",
       "                                                Job Info  \\\n",
       "0            EcomFleet · Pakistan (Remote)  \\n1 week ago   \n",
       "1      Digicon Valley · Lahore, Punjab, Pakistan (On-...   \n",
       "2      Murkez Technologies · Lahore, Punjab, Pakistan...   \n",
       "3      DevNatives · Islamabad, Islāmābād, Pakistan (H...   \n",
       "4      ItCreaters · Lahore, Punjab, Pakistan (On-site...   \n",
       "...                                                  ...   \n",
       "15870  Bank Alfalah Limited · Karāchi, Sindh, Pakista...   \n",
       "15871           Turing · Pakistan Reposted  \\n1 week ago   \n",
       "15872  DPL · Islamabad, Islāmābād, Pakistan  \\n1 week...   \n",
       "15873  Level 3 BOS · Karachi Division, Sindh, Pakista...   \n",
       "15874  The Hive · Karachi Division, Sindh, Pakistan  ...   \n",
       "\n",
       "                                             Job Type  \\\n",
       "0                                           Full-time   \n",
       "1                                           Full-time   \n",
       "2                                           Full-time   \n",
       "3                                           Full-time   \n",
       "4                                           Full-time   \n",
       "...                                               ...   \n",
       "15870  On-site\\n\\n \\nFull-time\\n\\n \\nMid-Senior level   \n",
       "15871        Remote\\n\\n \\nFull-time\\n\\n \\nEntry level   \n",
       "15872       On-site\\n\\n \\nFull-time\\n\\n \\nEntry level   \n",
       "15873  On-site\\n\\n \\nFull-time\\n\\n \\nMid-Senior level   \n",
       "15874                         On-site\\n\\n \\nFull-time   \n",
       "\n",
       "                                            Job Link  \\\n",
       "0      https://www.linkedin.com/jobs/view/3727054368   \n",
       "1      https://www.linkedin.com/jobs/view/3723395858   \n",
       "2      https://www.linkedin.com/jobs/view/3727034665   \n",
       "3      https://www.linkedin.com/jobs/view/3727029273   \n",
       "4      https://www.linkedin.com/jobs/view/3727034696   \n",
       "...                                              ...   \n",
       "15870  https://www.linkedin.com/jobs/view/3767355025   \n",
       "15871  https://www.linkedin.com/jobs/view/3766809535   \n",
       "15872  https://www.linkedin.com/jobs/view/3772530977   \n",
       "15873  https://www.linkedin.com/jobs/view/3771943212   \n",
       "15874  https://www.linkedin.com/jobs/view/3767944844   \n",
       "\n",
       "                                               employees  \n",
       "0                                        11-50 employees  \n",
       "1                                        11-50 employees  \n",
       "2                                       51-200 employees  \n",
       "3                                        11-50 employees  \n",
       "4                    Mobeen Naqvi is hiring for this job  \n",
       "...                                                  ...  \n",
       "15870                   5,001-10,000 employees · Banking  \n",
       "15871  1,001-5,000 employees · IT Services and IT Con...  \n",
       "15872   51-200 employees · IT Services and IT Consulting  \n",
       "15873  201-500 employees · Outsourcing and Offshoring...  \n",
       "15874                                    11-50 employees  \n",
       "\n",
       "[15875 rows x 5 columns]"
      ]
     },
     "execution_count": 4,
     "metadata": {},
     "output_type": "execute_result"
    }
   ],
   "source": [
    "df"
   ]
  },
  {
   "cell_type": "code",
   "execution_count": 5,
   "id": "e9a83b37-9e30-4c8a-9526-da23ec6c816f",
   "metadata": {},
   "outputs": [
    {
     "data": {
      "text/plain": [
       "Job Title    288\n",
       "Job Info     288\n",
       "Job Type     302\n",
       "Job Link       0\n",
       "employees    303\n",
       "dtype: int64"
      ]
     },
     "execution_count": 5,
     "metadata": {},
     "output_type": "execute_result"
    }
   ],
   "source": [
    "df.isnull().sum()"
   ]
  },
  {
   "cell_type": "code",
   "execution_count": 6,
   "id": "5ea3b0bb-b4bf-4466-b0e7-d56cff9f4ec5",
   "metadata": {},
   "outputs": [
    {
     "data": {
      "text/html": [
       "<div>\n",
       "<style scoped>\n",
       "    .dataframe tbody tr th:only-of-type {\n",
       "        vertical-align: middle;\n",
       "    }\n",
       "\n",
       "    .dataframe tbody tr th {\n",
       "        vertical-align: top;\n",
       "    }\n",
       "\n",
       "    .dataframe thead th {\n",
       "        text-align: right;\n",
       "    }\n",
       "</style>\n",
       "<table border=\"1\" class=\"dataframe\">\n",
       "  <thead>\n",
       "    <tr style=\"text-align: right;\">\n",
       "      <th></th>\n",
       "      <th>Job Title</th>\n",
       "      <th>Job Info</th>\n",
       "      <th>Job Type</th>\n",
       "      <th>Job Link</th>\n",
       "      <th>employees</th>\n",
       "    </tr>\n",
       "  </thead>\n",
       "  <tbody>\n",
       "    <tr>\n",
       "      <th>110</th>\n",
       "      <td>NaN</td>\n",
       "      <td>NaN</td>\n",
       "      <td>NaN</td>\n",
       "      <td>https://www.linkedin.com/jobs/view/3716079439</td>\n",
       "      <td>NaN</td>\n",
       "    </tr>\n",
       "    <tr>\n",
       "      <th>125</th>\n",
       "      <td>NaN</td>\n",
       "      <td>NaN</td>\n",
       "      <td>NaN</td>\n",
       "      <td>https://www.linkedin.com/jobs/view/3728144603</td>\n",
       "      <td>NaN</td>\n",
       "    </tr>\n",
       "    <tr>\n",
       "      <th>417</th>\n",
       "      <td>NaN</td>\n",
       "      <td>NaN</td>\n",
       "      <td>NaN</td>\n",
       "      <td>https://www.linkedin.com/jobs/view/3728021212/...</td>\n",
       "      <td>NaN</td>\n",
       "    </tr>\n",
       "    <tr>\n",
       "      <th>420</th>\n",
       "      <td>NaN</td>\n",
       "      <td>NaN</td>\n",
       "      <td>NaN</td>\n",
       "      <td>https://www.linkedin.com/jobs/view/3727051751/...</td>\n",
       "      <td>NaN</td>\n",
       "    </tr>\n",
       "    <tr>\n",
       "      <th>456</th>\n",
       "      <td>NaN</td>\n",
       "      <td>NaN</td>\n",
       "      <td>NaN</td>\n",
       "      <td>https://www.linkedin.com/jobs/view/3726689376/...</td>\n",
       "      <td>NaN</td>\n",
       "    </tr>\n",
       "    <tr>\n",
       "      <th>...</th>\n",
       "      <td>...</td>\n",
       "      <td>...</td>\n",
       "      <td>...</td>\n",
       "      <td>...</td>\n",
       "      <td>...</td>\n",
       "    </tr>\n",
       "    <tr>\n",
       "      <th>15787</th>\n",
       "      <td>NaN</td>\n",
       "      <td>NaN</td>\n",
       "      <td>NaN</td>\n",
       "      <td>https://www.linkedin.com/jobs/view/3772859487</td>\n",
       "      <td>NaN</td>\n",
       "    </tr>\n",
       "    <tr>\n",
       "      <th>15789</th>\n",
       "      <td>NaN</td>\n",
       "      <td>NaN</td>\n",
       "      <td>NaN</td>\n",
       "      <td>https://www.linkedin.com/jobs/view/3766809507</td>\n",
       "      <td>NaN</td>\n",
       "    </tr>\n",
       "    <tr>\n",
       "      <th>15793</th>\n",
       "      <td>NaN</td>\n",
       "      <td>NaN</td>\n",
       "      <td>NaN</td>\n",
       "      <td>https://www.linkedin.com/jobs/view/3766806694</td>\n",
       "      <td>NaN</td>\n",
       "    </tr>\n",
       "    <tr>\n",
       "      <th>15797</th>\n",
       "      <td>NaN</td>\n",
       "      <td>NaN</td>\n",
       "      <td>NaN</td>\n",
       "      <td>https://www.linkedin.com/jobs/view/3770354315</td>\n",
       "      <td>NaN</td>\n",
       "    </tr>\n",
       "    <tr>\n",
       "      <th>15842</th>\n",
       "      <td>NaN</td>\n",
       "      <td>NaN</td>\n",
       "      <td>NaN</td>\n",
       "      <td>https://www.linkedin.com/jobs/view/3767390372</td>\n",
       "      <td>NaN</td>\n",
       "    </tr>\n",
       "  </tbody>\n",
       "</table>\n",
       "<p>288 rows × 5 columns</p>\n",
       "</div>"
      ],
      "text/plain": [
       "      Job Title Job Info Job Type  \\\n",
       "110         NaN      NaN      NaN   \n",
       "125         NaN      NaN      NaN   \n",
       "417         NaN      NaN      NaN   \n",
       "420         NaN      NaN      NaN   \n",
       "456         NaN      NaN      NaN   \n",
       "...         ...      ...      ...   \n",
       "15787       NaN      NaN      NaN   \n",
       "15789       NaN      NaN      NaN   \n",
       "15793       NaN      NaN      NaN   \n",
       "15797       NaN      NaN      NaN   \n",
       "15842       NaN      NaN      NaN   \n",
       "\n",
       "                                                Job Link employees  \n",
       "110        https://www.linkedin.com/jobs/view/3716079439       NaN  \n",
       "125        https://www.linkedin.com/jobs/view/3728144603       NaN  \n",
       "417    https://www.linkedin.com/jobs/view/3728021212/...       NaN  \n",
       "420    https://www.linkedin.com/jobs/view/3727051751/...       NaN  \n",
       "456    https://www.linkedin.com/jobs/view/3726689376/...       NaN  \n",
       "...                                                  ...       ...  \n",
       "15787      https://www.linkedin.com/jobs/view/3772859487       NaN  \n",
       "15789      https://www.linkedin.com/jobs/view/3766809507       NaN  \n",
       "15793      https://www.linkedin.com/jobs/view/3766806694       NaN  \n",
       "15797      https://www.linkedin.com/jobs/view/3770354315       NaN  \n",
       "15842      https://www.linkedin.com/jobs/view/3767390372       NaN  \n",
       "\n",
       "[288 rows x 5 columns]"
      ]
     },
     "execution_count": 6,
     "metadata": {},
     "output_type": "execute_result"
    }
   ],
   "source": [
    "df[df['Job Title'].isnull()]"
   ]
  },
  {
   "cell_type": "code",
   "execution_count": 7,
   "id": "cf3777b1-741b-4394-883c-c06f88b26386",
   "metadata": {},
   "outputs": [
    {
     "data": {
      "text/plain": [
       "'https://www.linkedin.com/jobs/view/3727051751/?eBP=JOB_SEARCH_ORGANIC&refId=n1BxF49FoRzpjWVR5WqmKw%3D%3D&trackingId=hKWx7Lut7Q2%2FUF%2B%2BmKHgGw%3D%3D&trk=flagship3_search_srp_jobs'"
      ]
     },
     "execution_count": 7,
     "metadata": {},
     "output_type": "execute_result"
    }
   ],
   "source": [
    "df.iloc[420]['Job Link']"
   ]
  },
  {
   "cell_type": "code",
   "execution_count": 8,
   "id": "b303bb16-41da-4455-a17e-1f50b1161ea7",
   "metadata": {},
   "outputs": [
    {
     "data": {
      "text/plain": [
       "110          https://www.linkedin.com/jobs/view/3716079439\n",
       "125          https://www.linkedin.com/jobs/view/3728144603\n",
       "417      https://www.linkedin.com/jobs/view/3728021212/...\n",
       "420      https://www.linkedin.com/jobs/view/3727051751/...\n",
       "456      https://www.linkedin.com/jobs/view/3726689376/...\n",
       "                               ...                        \n",
       "15787        https://www.linkedin.com/jobs/view/3772859487\n",
       "15789        https://www.linkedin.com/jobs/view/3766809507\n",
       "15793        https://www.linkedin.com/jobs/view/3766806694\n",
       "15797        https://www.linkedin.com/jobs/view/3770354315\n",
       "15842        https://www.linkedin.com/jobs/view/3767390372\n",
       "Name: Job Link, Length: 288, dtype: object"
      ]
     },
     "execution_count": 8,
     "metadata": {},
     "output_type": "execute_result"
    }
   ],
   "source": [
    "df[df['Job Title'].isnull()]['Job Link']"
   ]
  },
  {
   "cell_type": "markdown",
   "id": "734d344d-ad4e-4f8d-965c-3b9eb36c5e56",
   "metadata": {},
   "source": [
    "### checking duplicates"
   ]
  },
  {
   "cell_type": "code",
   "execution_count": 9,
   "id": "ef2bd986-a157-46a1-83b8-4bef0c56e5d2",
   "metadata": {},
   "outputs": [
    {
     "data": {
      "text/plain": [
       "15875"
      ]
     },
     "execution_count": 9,
     "metadata": {},
     "output_type": "execute_result"
    }
   ],
   "source": [
    "len(df)"
   ]
  },
  {
   "cell_type": "code",
   "execution_count": 10,
   "id": "5c700a51-47f9-4064-8f27-57495dca99b7",
   "metadata": {},
   "outputs": [],
   "source": [
    "df['Job ID']=df['Job Link'].apply(lambda x:int(x.split('/')[5]))"
   ]
  },
  {
   "cell_type": "code",
   "execution_count": 11,
   "id": "f46f8835-2357-40fe-a25f-9ef307238a00",
   "metadata": {},
   "outputs": [
    {
     "data": {
      "text/plain": [
       "12010"
      ]
     },
     "execution_count": 11,
     "metadata": {},
     "output_type": "execute_result"
    }
   ],
   "source": [
    "len(df['Job ID'].unique())"
   ]
  },
  {
   "cell_type": "code",
   "execution_count": 12,
   "id": "16f03f39-ef42-4319-a853-b6aff4dcfc74",
   "metadata": {},
   "outputs": [
    {
     "data": {
      "text/plain": [
       "3865"
      ]
     },
     "execution_count": 12,
     "metadata": {},
     "output_type": "execute_result"
    }
   ],
   "source": [
    "len(df)-len(df['Job ID'].unique())"
   ]
  },
  {
   "cell_type": "code",
   "execution_count": 13,
   "id": "4d8f3b78-ccbd-4c80-b351-f31500d65605",
   "metadata": {},
   "outputs": [
    {
     "data": {
      "text/plain": [
       "Job ID\n",
       "3720211981    13\n",
       "3707088816    11\n",
       "3733022066    11\n",
       "3733019363    11\n",
       "3605634351    10\n",
       "              ..\n",
       "3736603529     1\n",
       "3736386954     1\n",
       "3736348678     1\n",
       "3735669396     1\n",
       "3767944844     1\n",
       "Name: count, Length: 12010, dtype: int64"
      ]
     },
     "execution_count": 13,
     "metadata": {},
     "output_type": "execute_result"
    }
   ],
   "source": [
    "df['Job ID'].value_counts()"
   ]
  },
  {
   "cell_type": "code",
   "execution_count": 14,
   "id": "daac1f95-161c-4c80-8771-ee3e2905fc36",
   "metadata": {},
   "outputs": [
    {
     "data": {
      "text/plain": [
       "array([13, 11, 10,  9,  8,  7,  6,  5,  4,  3,  2,  1], dtype=int64)"
      ]
     },
     "execution_count": 14,
     "metadata": {},
     "output_type": "execute_result"
    }
   ],
   "source": [
    "df['Job ID'].value_counts().unique()"
   ]
  },
  {
   "cell_type": "code",
   "execution_count": 15,
   "id": "12346237-4553-4608-a1a0-090c7402ba68",
   "metadata": {},
   "outputs": [
    {
     "data": {
      "text/plain": [
       "3865"
      ]
     },
     "execution_count": 15,
     "metadata": {},
     "output_type": "execute_result"
    }
   ],
   "source": [
    "duplicates_count=df.duplicated(subset=['Job ID']).sum()\n",
    "duplicates_count"
   ]
  },
  {
   "cell_type": "code",
   "execution_count": 16,
   "id": "88210200-bf59-441b-b4d7-d244ae038dee",
   "metadata": {},
   "outputs": [
    {
     "data": {
      "text/html": [
       "<div>\n",
       "<style scoped>\n",
       "    .dataframe tbody tr th:only-of-type {\n",
       "        vertical-align: middle;\n",
       "    }\n",
       "\n",
       "    .dataframe tbody tr th {\n",
       "        vertical-align: top;\n",
       "    }\n",
       "\n",
       "    .dataframe thead th {\n",
       "        text-align: right;\n",
       "    }\n",
       "</style>\n",
       "<table border=\"1\" class=\"dataframe\">\n",
       "  <thead>\n",
       "    <tr style=\"text-align: right;\">\n",
       "      <th></th>\n",
       "      <th>Job Title</th>\n",
       "      <th>Job Info</th>\n",
       "      <th>Job Type</th>\n",
       "      <th>Job Link</th>\n",
       "      <th>employees</th>\n",
       "      <th>Job ID</th>\n",
       "    </tr>\n",
       "  </thead>\n",
       "  <tbody>\n",
       "    <tr>\n",
       "      <th>603</th>\n",
       "      <td>Odoo Developer</td>\n",
       "      <td>AKSiQ · Karachi Division, Sindh, Pakistan (On-...</td>\n",
       "      <td>Full-time</td>\n",
       "      <td>https://www.linkedin.com/jobs/view/3727054738</td>\n",
       "      <td>11-50 employees</td>\n",
       "      <td>3727054738</td>\n",
       "    </tr>\n",
       "    <tr>\n",
       "      <th>781</th>\n",
       "      <td>Assistant Manager Sales/Sales Executive</td>\n",
       "      <td>Eastern Housing Pakistan · Multan, Punjab, Pak...</td>\n",
       "      <td>Full-time</td>\n",
       "      <td>https://www.linkedin.com/jobs/view/3727057147</td>\n",
       "      <td>201-500 employees</td>\n",
       "      <td>3727057147</td>\n",
       "    </tr>\n",
       "    <tr>\n",
       "      <th>834</th>\n",
       "      <td>Back-End Network Engineer</td>\n",
       "      <td>Turing · Pakistan (Remote) Reposted  \\n2 weeks...</td>\n",
       "      <td>Full-time · Entry level</td>\n",
       "      <td>https://www.linkedin.com/jobs/view/3726337380</td>\n",
       "      <td>1,001-5,000 employees · IT Services and IT Con...</td>\n",
       "      <td>3726337380</td>\n",
       "    </tr>\n",
       "    <tr>\n",
       "      <th>840</th>\n",
       "      <td>Release Management Engineer</td>\n",
       "      <td>AIIT Solutions · Rawalpindi, Punjab, Pakistan ...</td>\n",
       "      <td>Full-time</td>\n",
       "      <td>https://www.linkedin.com/jobs/view/3727054443</td>\n",
       "      <td>11-50 employees</td>\n",
       "      <td>3727054443</td>\n",
       "    </tr>\n",
       "    <tr>\n",
       "      <th>842</th>\n",
       "      <td>NaN</td>\n",
       "      <td>NaN</td>\n",
       "      <td>NaN</td>\n",
       "      <td>https://www.linkedin.com/jobs/view/3727051751</td>\n",
       "      <td>NaN</td>\n",
       "      <td>3727051751</td>\n",
       "    </tr>\n",
       "    <tr>\n",
       "      <th>...</th>\n",
       "      <td>...</td>\n",
       "      <td>...</td>\n",
       "      <td>...</td>\n",
       "      <td>...</td>\n",
       "      <td>...</td>\n",
       "      <td>...</td>\n",
       "    </tr>\n",
       "    <tr>\n",
       "      <th>15856</th>\n",
       "      <td>Assistant Manager Talent Acquisition</td>\n",
       "      <td>Zameen.com · Lahore, Punjab, Pakistan  \\n2 wee...</td>\n",
       "      <td>On-site\\n\\n \\nFull-time\\n\\n \\nMid-Senior level</td>\n",
       "      <td>https://www.linkedin.com/jobs/view/3765449305</td>\n",
       "      <td>5,001-10,000 employees · Real Estate</td>\n",
       "      <td>3765449305</td>\n",
       "    </tr>\n",
       "    <tr>\n",
       "      <th>15857</th>\n",
       "      <td>Software Engineer</td>\n",
       "      <td>Arrivy · Lahore, Punjab, Pakistan  \\n1 week ago</td>\n",
       "      <td>On-site\\n\\n \\nFull-time</td>\n",
       "      <td>https://www.linkedin.com/jobs/view/3765793064</td>\n",
       "      <td>51-200 employees</td>\n",
       "      <td>3765793064</td>\n",
       "    </tr>\n",
       "    <tr>\n",
       "      <th>15858</th>\n",
       "      <td>Web Backend Developer</td>\n",
       "      <td>Turing · Pakistan  \\n2 weeks ago\\n\\n · 11 appl...</td>\n",
       "      <td>Remote\\n\\n \\nFull-time\\n\\n \\nEntry level</td>\n",
       "      <td>https://www.linkedin.com/jobs/view/3765780780</td>\n",
       "      <td>1,001-5,000 employees · IT Services and IT Con...</td>\n",
       "      <td>3765780780</td>\n",
       "    </tr>\n",
       "    <tr>\n",
       "      <th>15860</th>\n",
       "      <td>Investment Advisor</td>\n",
       "      <td>Opal smart · Islamabad, Islāmābād, Pakistan  \\...</td>\n",
       "      <td>On-site\\n\\n \\nFull-time</td>\n",
       "      <td>https://www.linkedin.com/jobs/view/3766397564</td>\n",
       "      <td>Areesha Rashid Qureshi is hiring for this job</td>\n",
       "      <td>3766397564</td>\n",
       "    </tr>\n",
       "    <tr>\n",
       "      <th>15871</th>\n",
       "      <td>Release Support Engineer</td>\n",
       "      <td>Turing · Pakistan Reposted  \\n1 week ago</td>\n",
       "      <td>Remote\\n\\n \\nFull-time\\n\\n \\nEntry level</td>\n",
       "      <td>https://www.linkedin.com/jobs/view/3766809535</td>\n",
       "      <td>1,001-5,000 employees · IT Services and IT Con...</td>\n",
       "      <td>3766809535</td>\n",
       "    </tr>\n",
       "  </tbody>\n",
       "</table>\n",
       "<p>3865 rows × 6 columns</p>\n",
       "</div>"
      ],
      "text/plain": [
       "                                     Job Title  \\\n",
       "603                             Odoo Developer   \n",
       "781    Assistant Manager Sales/Sales Executive   \n",
       "834                  Back-End Network Engineer   \n",
       "840                Release Management Engineer   \n",
       "842                                        NaN   \n",
       "...                                        ...   \n",
       "15856     Assistant Manager Talent Acquisition   \n",
       "15857                        Software Engineer   \n",
       "15858                    Web Backend Developer   \n",
       "15860                       Investment Advisor   \n",
       "15871                 Release Support Engineer   \n",
       "\n",
       "                                                Job Info  \\\n",
       "603    AKSiQ · Karachi Division, Sindh, Pakistan (On-...   \n",
       "781    Eastern Housing Pakistan · Multan, Punjab, Pak...   \n",
       "834    Turing · Pakistan (Remote) Reposted  \\n2 weeks...   \n",
       "840    AIIT Solutions · Rawalpindi, Punjab, Pakistan ...   \n",
       "842                                                  NaN   \n",
       "...                                                  ...   \n",
       "15856  Zameen.com · Lahore, Punjab, Pakistan  \\n2 wee...   \n",
       "15857    Arrivy · Lahore, Punjab, Pakistan  \\n1 week ago   \n",
       "15858  Turing · Pakistan  \\n2 weeks ago\\n\\n · 11 appl...   \n",
       "15860  Opal smart · Islamabad, Islāmābād, Pakistan  \\...   \n",
       "15871           Turing · Pakistan Reposted  \\n1 week ago   \n",
       "\n",
       "                                             Job Type  \\\n",
       "603                                         Full-time   \n",
       "781                                         Full-time   \n",
       "834                           Full-time · Entry level   \n",
       "840                                         Full-time   \n",
       "842                                               NaN   \n",
       "...                                               ...   \n",
       "15856  On-site\\n\\n \\nFull-time\\n\\n \\nMid-Senior level   \n",
       "15857                         On-site\\n\\n \\nFull-time   \n",
       "15858        Remote\\n\\n \\nFull-time\\n\\n \\nEntry level   \n",
       "15860                         On-site\\n\\n \\nFull-time   \n",
       "15871        Remote\\n\\n \\nFull-time\\n\\n \\nEntry level   \n",
       "\n",
       "                                            Job Link  \\\n",
       "603    https://www.linkedin.com/jobs/view/3727054738   \n",
       "781    https://www.linkedin.com/jobs/view/3727057147   \n",
       "834    https://www.linkedin.com/jobs/view/3726337380   \n",
       "840    https://www.linkedin.com/jobs/view/3727054443   \n",
       "842    https://www.linkedin.com/jobs/view/3727051751   \n",
       "...                                              ...   \n",
       "15856  https://www.linkedin.com/jobs/view/3765449305   \n",
       "15857  https://www.linkedin.com/jobs/view/3765793064   \n",
       "15858  https://www.linkedin.com/jobs/view/3765780780   \n",
       "15860  https://www.linkedin.com/jobs/view/3766397564   \n",
       "15871  https://www.linkedin.com/jobs/view/3766809535   \n",
       "\n",
       "                                               employees      Job ID  \n",
       "603                                      11-50 employees  3727054738  \n",
       "781                                    201-500 employees  3727057147  \n",
       "834    1,001-5,000 employees · IT Services and IT Con...  3726337380  \n",
       "840                                      11-50 employees  3727054443  \n",
       "842                                                  NaN  3727051751  \n",
       "...                                                  ...         ...  \n",
       "15856               5,001-10,000 employees · Real Estate  3765449305  \n",
       "15857                                   51-200 employees  3765793064  \n",
       "15858  1,001-5,000 employees · IT Services and IT Con...  3765780780  \n",
       "15860      Areesha Rashid Qureshi is hiring for this job  3766397564  \n",
       "15871  1,001-5,000 employees · IT Services and IT Con...  3766809535  \n",
       "\n",
       "[3865 rows x 6 columns]"
      ]
     },
     "execution_count": 16,
     "metadata": {},
     "output_type": "execute_result"
    }
   ],
   "source": [
    "duplicates = df['Job ID'].duplicated()\n",
    "df[duplicates]"
   ]
  },
  {
   "cell_type": "code",
   "execution_count": 17,
   "id": "8db6fd7e-b7bb-43a2-9144-ce858ad78073",
   "metadata": {},
   "outputs": [],
   "source": [
    "df = df.drop_duplicates(subset=['Job ID'])"
   ]
  },
  {
   "cell_type": "code",
   "execution_count": 18,
   "id": "85c02eac-5c3e-4261-955c-edd77875865d",
   "metadata": {},
   "outputs": [
    {
     "data": {
      "text/plain": [
       "(12010, 6)"
      ]
     },
     "execution_count": 18,
     "metadata": {},
     "output_type": "execute_result"
    }
   ],
   "source": [
    "df.shape"
   ]
  },
  {
   "cell_type": "code",
   "execution_count": 19,
   "id": "1d168907-2fab-4a3d-903e-6d4ac9154570",
   "metadata": {},
   "outputs": [
    {
     "data": {
      "text/plain": [
       "3623"
      ]
     },
     "execution_count": 19,
     "metadata": {},
     "output_type": "execute_result"
    }
   ],
   "source": [
    "4214-591"
   ]
  },
  {
   "cell_type": "markdown",
   "id": "74effc07-abf1-4d03-940b-f65391d76883",
   "metadata": {},
   "source": [
    "### checking null values"
   ]
  },
  {
   "cell_type": "code",
   "execution_count": 20,
   "id": "e30630bb-adc4-4f24-9d5e-b989dfc1c765",
   "metadata": {},
   "outputs": [
    {
     "data": {
      "text/plain": [
       "Job Title    258\n",
       "Job Info     258\n",
       "Job Type     272\n",
       "Job Link       0\n",
       "employees    273\n",
       "Job ID         0\n",
       "dtype: int64"
      ]
     },
     "execution_count": 20,
     "metadata": {},
     "output_type": "execute_result"
    }
   ],
   "source": [
    "df.isnull().sum()"
   ]
  },
  {
   "cell_type": "code",
   "execution_count": 21,
   "id": "bb661eca-89c7-4f5f-8a8d-8569de19d3c3",
   "metadata": {},
   "outputs": [
    {
     "data": {
      "text/plain": [
       "array(['LinkedIn Data Extractor', 'It Management Intern',\n",
       "       'SQL Database Developer', ...,\n",
       "       'Manager – Growth Chat & SMS (Digital Marketing)',\n",
       "       'Information Security Specialist',\n",
       "       'FUNCTIONAL CONSULTANT ORACLE FUSION - HCM'], dtype=object)"
      ]
     },
     "execution_count": 21,
     "metadata": {},
     "output_type": "execute_result"
    }
   ],
   "source": [
    "df['Job Title'].unique()\t"
   ]
  },
  {
   "cell_type": "code",
   "execution_count": 22,
   "id": "547c53ea-8c93-40b1-bdc7-02565ac0c928",
   "metadata": {},
   "outputs": [
    {
     "data": {
      "text/plain": [
       "6445"
      ]
     },
     "execution_count": 22,
     "metadata": {},
     "output_type": "execute_result"
    }
   ],
   "source": [
    "len(df['Job Title'].unique())"
   ]
  },
  {
   "cell_type": "code",
   "execution_count": 23,
   "id": "41ccb0b9-8489-4aa3-b205-9ebc9809c84f",
   "metadata": {},
   "outputs": [
    {
     "data": {
      "text/plain": [
       "array(['Full-time', 'Full-time · Mid-Senior level',\n",
       "       'Internship · Internship', 'Full-time · Associate', 'Internship',\n",
       "       'Full-time · Entry level', 'Part-time', 'Full-time · Internship',\n",
       "       nan, 'Contract · Mid-Senior level', 'Contract',\n",
       "       'Contract · Associate', '$150/month - $300/month · Full-time',\n",
       "       'Full-time · Director', 'Part-time · Associate',\n",
       "       'Mr Ahsan is hiring for this job', 'Part-time · Executive',\n",
       "       'Contract · Executive', 'Part-time · Mid-Senior level',\n",
       "       'Contract · Entry level', 'Temporary · Mid-Senior level',\n",
       "       'Executive', 'Full-time · Executive',\n",
       "       'Sean Sato is hiring for this job', 'Part-time · Internship',\n",
       "       'Internship · Mid-Senior level',\n",
       "       '$12,000/yr - $15,000/yr · Full-time · Mid-Senior level',\n",
       "       '$200,000/yr · Full-time', 'Part-time · Entry level',\n",
       "       'dr.ry. L. is hiring for this job',\n",
       "       '10,001+ employees · Tobacco Manufacturing', 'Volunteer',\n",
       "       'On-site\\n\\n \\nFull-time\\n\\n \\nMid-Senior level',\n",
       "       'Hybrid\\n\\n \\nFull-time\\n\\n \\nMid-Senior level',\n",
       "       'Remote\\n\\n \\nFull-time\\n\\n \\nMid-Senior level',\n",
       "       'On-site\\n\\n \\nFull-time\\n\\n \\nAssociate',\n",
       "       'On-site\\n\\n \\nFull-time',\n",
       "       'Hybrid\\n\\n \\nFull-time\\n\\n \\nEntry level',\n",
       "       'Hybrid\\n\\n \\nFull-time\\n\\n \\nDirector', 'Remote\\n\\n \\nFull-time',\n",
       "       'On-site\\n\\n \\nFull-time\\n\\n \\nEntry level',\n",
       "       'Hybrid\\n\\n \\nFull-time\\n\\n \\nAssociate',\n",
       "       'Full-time\\n\\n \\nMid-Senior level', 'On-site\\n\\n \\nPart-time',\n",
       "       'Hybrid\\n\\n \\nFull-time',\n",
       "       'Remote\\n\\n \\nContract\\n\\n \\nMid-Senior level',\n",
       "       'On-site\\n\\n \\nFull-time\\n\\n \\nDirector',\n",
       "       'On-site\\n\\n \\nFull-time\\n\\n \\nExecutive',\n",
       "       'Remote\\n\\n \\nFull-time\\n\\n \\nEntry level',\n",
       "       'Remote\\n\\n \\nInternship', 'On-site\\n\\n \\nInternship',\n",
       "       'On-site\\n\\n \\nContract\\n\\n \\nMid-Senior level',\n",
       "       'Remote\\n\\n \\nContract', 'Remote\\n\\n \\nFull-time\\n\\n \\nAssociate',\n",
       "       'On-site\\n\\n \\nContract\\n\\n \\nEntry level',\n",
       "       'On-site\\n\\n \\nFull-time\\n\\n \\nInternship',\n",
       "       'Remote\\n\\n \\nPart-time\\n\\n \\nAssociate', 'Remote\\n\\n \\nPart-time',\n",
       "       'Remote\\n\\n \\nContract\\n\\n \\nEntry level',\n",
       "       'On-site\\n\\n \\nContract\\n\\n \\nAssociate',\n",
       "       'Full-time\\n\\n \\nEntry level', 'Hybrid\\n\\n \\nContract',\n",
       "       'Remote\\n\\n \\nFull-time\\n\\n \\nDirector', 'Hybrid\\n\\n \\nPart-time',\n",
       "       'On-site\\n\\n \\nContract',\n",
       "       'PKR600,000/yr - PKR660,000/yr\\n\\n \\nOn-site\\n\\n \\nFull-time\\n\\n \\nEntry level',\n",
       "       'Remote', 'Contract\\n\\n \\nMid-Senior level',\n",
       "       'On-site\\n\\n \\nContract\\n\\n \\nInternship',\n",
       "       'Full-time\\n\\n \\nExecutive',\n",
       "       'Remote\\n\\n \\nInternship\\n\\n \\nMid-Senior level',\n",
       "       'Hybrid\\n\\n \\nContract\\n\\n \\nMid-Senior level',\n",
       "       'Remote\\n\\n \\nPart-time\\n\\n \\nEntry level',\n",
       "       'Hybrid\\n\\n \\nTemporary', 'Remote\\n\\n \\nPart-time\\n\\n \\nExecutive',\n",
       "       'On-site\\n\\n \\nInternship\\n\\n \\nEntry level',\n",
       "       'On-site\\n\\n \\nVolunteer',\n",
       "       'Remote\\n\\n \\nFull-time\\n\\n \\nExecutive',\n",
       "       'On-site\\n\\n \\nInternship\\n\\n \\nInternship',\n",
       "       'Remote\\n\\n \\nVolunteer',\n",
       "       'On-site\\n\\n \\nPart-time\\n\\n \\nEntry level', 'On-site',\n",
       "       'Hybrid\\n\\n \\nInternship',\n",
       "       'Hybrid\\n\\n \\nContract\\n\\n \\nEntry level',\n",
       "       'Full-time\\n\\n \\nInternship',\n",
       "       '$180/month - $250/month\\n\\n \\nRemote\\n\\n \\nFull-time', 'Hybrid',\n",
       "       'Remote\\n\\n \\nContract\\n\\n \\nAssociate',\n",
       "       'Remote\\n\\n \\nTemporary\\n\\n \\nEntry level',\n",
       "       'On-site\\n\\n \\nTemporary', 'Remote\\n\\n \\nTemporary',\n",
       "       'Full-time\\n\\n \\nAssociate',\n",
       "       'PKR1,200,000/yr - PKR1,800,000/yr\\n\\n \\nOn-site\\n\\n \\nFull-time\\n\\n \\nEntry level',\n",
       "       '5,001-10,000 employees · IT Services and IT Consulting',\n",
       "       'PKR1,200,000/yr - PKR2,400,000/yr\\n\\n \\nOn-site\\n\\n \\nFull-time\\n\\n \\nEntry level',\n",
       "       'On-site\\n\\n \\nContract\\n\\n \\nExecutive',\n",
       "       'PKR1,800,000/yr - PKR3,600,000/yr\\n\\n \\nOn-site\\n\\n \\nFull-time\\n\\n \\nMid-Senior level',\n",
       "       'MYR57,000/yr - MYR108,000/yr\\n\\n \\nRemote\\n\\n \\nFull-time\\n\\n \\nEntry level',\n",
       "       '$1,500/month - $1,800/month\\n\\n \\nRemote\\n\\n \\nFull-time',\n",
       "       '11-50 employees',\n",
       "       '10,001+ employees · Food and Beverage Manufacturing',\n",
       "       'PHP360,000/yr - PHP720,000/yr\\n\\n \\nRemote\\n\\n \\nPart-time\\n\\n \\nMid-Senior level',\n",
       "       'Hybrid\\n\\n \\nVolunteer', 'Remote\\n\\n \\nMid-Senior level',\n",
       "       '$500/month - $1,000/month\\n\\n \\nHybrid\\n\\n \\nContract',\n",
       "       'Remote\\n\\n \\nPart-time\\n\\n \\nMid-Senior level',\n",
       "       'PKR960,000/yr - PKR1,200,000/yr\\n\\n \\nOn-site\\n\\n \\nFull-time\\n\\n \\nEntry level',\n",
       "       '$20,000/yr - $25,000/yr\\n\\n \\nRemote\\n\\n \\nContract\\n\\n \\nEntry level',\n",
       "       '$30,000/month - $60,000/month\\n\\n \\nHybrid\\n\\n \\nFull-time',\n",
       "       'Remote\\n\\n \\nPart-time\\n\\n \\nDirector',\n",
       "       'PKR960,000/yr - PKR1,200,000/yr\\n\\n \\nOn-site\\n\\n \\nFull-time\\n\\n \\nMid-Senior level',\n",
       "       'Hybrid\\n\\n \\nContract\\n\\n \\nInternship',\n",
       "       'On-site\\n\\n \\nPart-time\\n\\n \\nMid-Senior level',\n",
       "       'On-site\\n\\n \\nTemporary\\n\\n \\nEntry level',\n",
       "       'Full-time\\n\\n \\nDirector',\n",
       "       'Hybrid\\n\\n \\nInternship\\n\\n \\nInternship',\n",
       "       'Remote\\n\\n \\nInternship\\n\\n \\nInternship',\n",
       "       'On-site\\n\\n \\nExecutive',\n",
       "       '$1,000/month - $2,500/month\\n\\n \\nOn-site\\n\\n \\nFull-time',\n",
       "       '$36,000/yr - $60,000/yr\\n\\n \\nRemote\\n\\n \\nFull-time\\n\\n \\nEntry level',\n",
       "       '$50,000/month - $70,000/month + Commission\\n\\n \\nOn-site\\n\\n \\nFull-time',\n",
       "       'On-site\\n\\n \\nInternship\\n\\n \\nDirector',\n",
       "       'Hybrid\\n\\n \\nFull-time\\n\\n \\nExecutive',\n",
       "       '₹180,000/yr - ₹360,000/yr\\n\\n \\nRemote\\n\\n \\nFull-time\\n\\n \\nEntry level',\n",
       "       'On-site\\n\\n \\nTemporary\\n\\n \\nInternship',\n",
       "       '$12,000/yr - $18,000/yr\\n\\n \\nRemote\\n\\n \\nFull-time\\n\\n \\nMid-Senior level',\n",
       "       'Contract\\n\\n \\nEntry level',\n",
       "       'Hybrid\\n\\n \\nFull-time\\n\\n \\nInternship',\n",
       "       'On-site\\n\\n \\nTemporary\\n\\n \\nMid-Senior level',\n",
       "       'Hybrid\\n\\n \\nInternship\\n\\n \\nMid-Senior level'], dtype=object)"
      ]
     },
     "execution_count": 23,
     "metadata": {},
     "output_type": "execute_result"
    }
   ],
   "source": [
    "df['Job Type'].unique()"
   ]
  },
  {
   "cell_type": "code",
   "execution_count": 24,
   "id": "4354848b-d29f-438f-9fe9-2a8206c7b70c",
   "metadata": {},
   "outputs": [
    {
     "data": {
      "text/plain": [
       "130"
      ]
     },
     "execution_count": 24,
     "metadata": {},
     "output_type": "execute_result"
    }
   ],
   "source": [
    "len(df['Job Type'].unique())"
   ]
  },
  {
   "cell_type": "code",
   "execution_count": 25,
   "id": "aedf3e3e-42d4-4d1c-a8c8-0204153e95d0",
   "metadata": {},
   "outputs": [
    {
     "data": {
      "text/plain": [
       "array(['EcomFleet · Pakistan (Remote)  \\n1 week ago',\n",
       "       'Digicon Valley · Lahore, Punjab, Pakistan (On-site)  \\n2 weeks ago',\n",
       "       'Murkez Technologies · Lahore, Punjab, Pakistan (On-site)  \\n1 week ago',\n",
       "       ...,\n",
       "       'DPL · Islamabad, Islāmābād, Pakistan  \\n1 week ago\\n\\n · 83 applicants',\n",
       "       'Level 3 BOS · Karachi Division, Sindh, Pakistan  \\n1 week ago\\n\\n · 19 applicants',\n",
       "       'The Hive · Karachi Division, Sindh, Pakistan  \\n1 week ago'],\n",
       "      dtype=object)"
      ]
     },
     "execution_count": 25,
     "metadata": {},
     "output_type": "execute_result"
    }
   ],
   "source": [
    "df['Job Info'].unique()"
   ]
  },
  {
   "cell_type": "code",
   "execution_count": 26,
   "id": "fe8930a3-aea0-4364-b951-ebfcf006c004",
   "metadata": {},
   "outputs": [
    {
     "data": {
      "text/plain": [
       "10214"
      ]
     },
     "execution_count": 26,
     "metadata": {},
     "output_type": "execute_result"
    }
   ],
   "source": [
    "len(df['Job Info'].unique())"
   ]
  },
  {
   "cell_type": "code",
   "execution_count": 27,
   "id": "c88ba348-0da9-402f-adec-9673477ded1e",
   "metadata": {},
   "outputs": [
    {
     "data": {
      "text/plain": [
       "array(['11-50 employees', '51-200 employees',\n",
       "       'Mobeen Naqvi is hiring for this job',\n",
       "       '1,001-5,000 employees · Software Development',\n",
       "       '501-1,000 employees · IT Services and IT Consulting',\n",
       "       '501-1,000 employees · Telecommunications',\n",
       "       '1,001-5,000 employees · Banking', '201-500 employees',\n",
       "       '10,001+ employees', '51-200 employees · Human Resources Services',\n",
       "       '501-1,000 employees',\n",
       "       '1,001-5,000 employees · Technology, Information and Internet',\n",
       "       '1,001-5,000 employees',\n",
       "       '1-10 employees · Retail Apparel and Fashion',\n",
       "       'Muhammad akram is hiring for this job',\n",
       "       '10,001+ employees · International Affairs',\n",
       "       '501-1,000 employees · Higher Education', '1-10 employees',\n",
       "       '10,001+ employees · Software Development',\n",
       "       '1,001-5,000 employees · Information Technology & Services',\n",
       "       '5,001-10,000 employees', 'TARIQ KHAN is hiring for this job',\n",
       "       '201-500 employees · Financial Services',\n",
       "       '10,001+ employees · Telecommunications',\n",
       "       '5,001-10,000 employees · Packaging and Containers Manufacturing',\n",
       "       '1,001-5,000 employees · IT Services and IT Consulting',\n",
       "       '1,001-5,000 employees · Executive Offices',\n",
       "       '1,001-5,000 employees · Telecommunications',\n",
       "       '1,001-5,000 employees · Food and Beverage Manufacturing',\n",
       "       '10,001+ employees · Food and Beverage Services', nan,\n",
       "       '10,001+ employees · Tobacco Manufacturing',\n",
       "       '51-200 employees · Software Development',\n",
       "       '5,001-10,000 employees · IT Services and IT Consulting',\n",
       "       'Sufian Mian Akhtar is hiring for this job',\n",
       "       'Danish Khan is hiring for this job',\n",
       "       '51-200 employees · Business Consulting and Services',\n",
       "       '51-200 employees · Entertainment Providers',\n",
       "       '11-50 employees · Human Resources Services',\n",
       "       'Wajahat Ahmed is hiring for this job',\n",
       "       '11-50 employees · IT Services and IT Consulting',\n",
       "       '1,001-5,000 employees · Wholesale Building Materials',\n",
       "       '51-200 employees · IT Services and IT Consulting',\n",
       "       '1,001-5,000 employees · Outsourcing and Offshoring Consulting',\n",
       "       '10,001+ employees · Pharmaceutical Manufacturing',\n",
       "       'See how you compare to 272 applicants. Reactivate Premium',\n",
       "       '501-1,000 employees · Motor Vehicle Manufacturing',\n",
       "       'See how you compare to 118 applicants. Reactivate Premium',\n",
       "       '10,001+ employees · Non-profit Organizations',\n",
       "       'Adnan Dogar is hiring for this job',\n",
       "       'Zuhad khan is hiring for this job',\n",
       "       'Ali Raza is hiring for this job',\n",
       "       '51-200 employees · Research Services',\n",
       "       '51-200 employees · Higher Education',\n",
       "       '5,001-10,000 employees · Advertising Services',\n",
       "       'See how you compare to 36 applicants. Reactivate Premium',\n",
       "       'See how you compare to 9 applicants. Reactivate Premium',\n",
       "       'online earning is hiring for this job',\n",
       "       'Ishook Ram is hiring for this job',\n",
       "       '10,001+ employees · Beverage Manufacturing',\n",
       "       'See how you compare to 19 applicants. Reactivate Premium',\n",
       "       'Immad Langah is hiring for this job',\n",
       "       '11-50 employees · Outsourcing and Offshoring Consulting',\n",
       "       'Rehan Sheikh is hiring for this job',\n",
       "       'See recent hiring trends for Tubitech Srl. Reactivate Premium',\n",
       "       'ASG SYSTEMS PAKISTAN is hiring for this job',\n",
       "       '10,001+ employees · Outsourcing/Offshoring',\n",
       "       '11-50 employees · Financial Services',\n",
       "       'ayesha shz is hiring for this job',\n",
       "       '10,001+ employees · Hospitals and Health Care',\n",
       "       '10,001+ employees · Farming',\n",
       "       'Afraz Begum Sial is hiring for this job',\n",
       "       'See how you compare to 53 applicants. Reactivate Premium',\n",
       "       'See how you compare to 10 applicants. Reactivate Premium',\n",
       "       'Sanaullah Aman is hiring for this job',\n",
       "       'See how you compare to 15 applicants. Reactivate Premium',\n",
       "       'See how you compare to 7 applicants. Reactivate Premium',\n",
       "       '1,001-5,000 employees · Oil and Gas',\n",
       "       '51-200 employees · Information Technology & Services',\n",
       "       'Nam C. is hiring for this job',\n",
       "       '5,001-10,000 employees · Real Estate',\n",
       "       '10,001+ employees · Professional Services',\n",
       "       'Tahir Islam is hiring for this job',\n",
       "       '51-200 employees · Technology, Information and Internet',\n",
       "       'See how you compare to 23 applicants. Reactivate Premium',\n",
       "       'Zulqarnain Khan is hiring for this job',\n",
       "       'AWAIS AHMAD is hiring for this job',\n",
       "       'Hassan Raza Khalid is hiring for this job',\n",
       "       'See how you compare to 51 applicants. Reactivate Premium',\n",
       "       '501-1,000 employees · Software Development',\n",
       "       'SHAKIR NAWAB is hiring for this job',\n",
       "       '51-200 employees · Automation Machinery Manufacturing',\n",
       "       'See how you compare to 34 applicants. Reactivate Premium',\n",
       "       'Jawad Arshad is hiring for this job',\n",
       "       '5,001-10,000 employees · Book and Periodical Publishing',\n",
       "       'Salman Tariq is hiring for this job',\n",
       "       '201-500 employees · Computer and Network Security',\n",
       "       'Umar Siddiqui is hiring for this job',\n",
       "       'See how you compare to 20 applicants. Reactivate Premium',\n",
       "       '10,001+ employees · Information Services',\n",
       "       'See how you compare to 21 applicants. Reactivate Premium',\n",
       "       '1,001-5,000 employees · International Affairs',\n",
       "       'Muhammad Haris is hiring for this job',\n",
       "       'Adnan Qureshi is hiring for this job',\n",
       "       'muhammad sharjeel is hiring for this job',\n",
       "       'Shahid Aziz is hiring for this job',\n",
       "       'Yasir Khubaib is hiring for this job',\n",
       "       '11-50 employees · Technology, Information and Internet',\n",
       "       'Anas Abdul Aziz Fayyaz Ehsan is hiring for this job',\n",
       "       '11-50 employees · Education', 'Manas Khan is hiring for this job',\n",
       "       'muhammad imran is hiring for this job',\n",
       "       '51-200 employees · International Trade and Development',\n",
       "       'Ali Malik, CCXP is hiring for this job',\n",
       "       '51-200 employees · Staffing and Recruiting',\n",
       "       '11-50 employees · Higher Education',\n",
       "       '11-50 employees · Transportation, Logistics, Supply Chain and Storage',\n",
       "       '1-10 employees · Human Resources Services',\n",
       "       '1,001-5,000 employees · Higher Education',\n",
       "       '51-200 employees · Human Resources',\n",
       "       '201-500 employees · Software Development',\n",
       "       '201-500 employees · Medical Practices',\n",
       "       'Huma Khan is hiring for this job',\n",
       "       '1,001-5,000 employees · Manufacturing',\n",
       "       '51-200 employees · Paper and Forest Product Manufacturing',\n",
       "       'Muhammad Asif is hiring for this job',\n",
       "       '10,001+ employees · Technology, Information and Internet',\n",
       "       '5,001-10,000 employees · Non-profit Organization Management',\n",
       "       'Talha Shah is hiring for this job',\n",
       "       'Mirza Sajid Mahmood is hiring for this job',\n",
       "       '5,001-10,000 employees · International Affairs',\n",
       "       '201-500 employees · Internet Marketplace Platforms',\n",
       "       '201-500 employees · IT Services and IT Consulting',\n",
       "       '10,001+ employees · Financial Services',\n",
       "       '10,001+ employees · Automation Machinery Manufacturing',\n",
       "       '5,001-10,000 employees · Internet Marketplace Platforms',\n",
       "       '10,001+ employees · IT Services and IT Consulting',\n",
       "       '10,001+ employees · Personal Care Product Manufacturing',\n",
       "       '10,001+ employees · Banking',\n",
       "       'See how you compare to 256 applicants. Reactivate Premium',\n",
       "       '1,001-5,000 employees · Advertising Services',\n",
       "       '201-500 employees · Technology, Information and Internet',\n",
       "       '10,001+ employees · Food and Beverage Manufacturing',\n",
       "       '10,001+ employees · Retail', 'Awais Javed is hiring for this job',\n",
       "       'Dn Ch Moiz Gujjar is hiring for this job',\n",
       "       '10,001+ employees · International Trade and Development',\n",
       "       '10,001+ employees · Biotechnology Research',\n",
       "       'Mian Khuram Ali is hiring for this job',\n",
       "       'Irtaza B. Raja is hiring for this job',\n",
       "       'See how you compare to 32 applicants. Reactivate Premium',\n",
       "       '51-200 employees · Information Services',\n",
       "       'Abdul Rauf is hiring for this job',\n",
       "       'See how you compare to 6 applicants. Reactivate Premium',\n",
       "       'Dr Farrukh Aslam khan is hiring for this job',\n",
       "       'See how you compare to 62 applicants. Reactivate Premium',\n",
       "       'See how you compare to 13 applicants. Reactivate Premium',\n",
       "       '1-10 employees · Outsourcing and Offshoring Consulting',\n",
       "       'The Motor Crew is hiring for this job',\n",
       "       'See how you compare to 17 applicants. Reactivate Premium',\n",
       "       'See how you compare to 69 applicants. Reactivate Premium',\n",
       "       '501-1,000 employees · Hospitals and Health Care',\n",
       "       '10,001+ employees · Consumer Services',\n",
       "       '5,001-10,000 employees · Consumer Goods',\n",
       "       'fahad khan is hiring for this job',\n",
       "       '10,001+ employees · Manufacturing',\n",
       "       '11-50 employees · Staffing and Recruiting',\n",
       "       'Sharjeel Arif is hiring for this job',\n",
       "       'Shafeeque Ahmed is hiring for this job',\n",
       "       'Uzair Khan is hiring for this job',\n",
       "       'See how you compare to 18 applicants. Reactivate Premium',\n",
       "       'See how you compare to 73 applicants. Reactivate Premium',\n",
       "       '5,001-10,000 employees · Non-profit Organizations',\n",
       "       'Usman Majeed is hiring for this job',\n",
       "       'See how you compare to 86 applicants. Reactivate Premium',\n",
       "       'See how you compare to 12 applicants. Reactivate Premium',\n",
       "       'See how you compare to 11 applicants. Reactivate Premium',\n",
       "       '51-200 employees · Media Production',\n",
       "       'Choudhry Azizuddin is hiring for this job',\n",
       "       'See how you compare to 58 applicants. Reactivate Premium',\n",
       "       '501-1,000 employees · Food and Beverage Services',\n",
       "       '51-200 employees · Accounting',\n",
       "       '11-50 employees · Software Development',\n",
       "       'Faisal Raza is hiring for this job',\n",
       "       'See how you compare to 283 applicants. Reactivate Premium',\n",
       "       '1,001-5,000 employees · Human Resources Services',\n",
       "       'yasir khalid is hiring for this job',\n",
       "       '11-50 employees · Outsourcing/Offshoring',\n",
       "       'Hira Benish, Ph.D. is hiring for this job',\n",
       "       '5,001-10,000 employees · Translation and Localization',\n",
       "       'Raja Mahmood Subhani is hiring for this job',\n",
       "       'See how you compare to 92 applicants. Reactivate Premium',\n",
       "       'Muhammad Ukasha Noman is hiring for this job',\n",
       "       'Job poster joined LinkedIn in 2021',\n",
       "       'See how you compare to 14 applicants. Reactivate Premium',\n",
       "       '1-10 employees · Human Resources',\n",
       "       'Ali Ather is hiring for this job',\n",
       "       'Nauman Khan is hiring for this job',\n",
       "       'Irfan Chughtai is hiring for this job',\n",
       "       '10,001+ employees · Oil and Gas',\n",
       "       '201-500 employees · Real Estate',\n",
       "       'See how you compare to 52 applicants. Reactivate Premium',\n",
       "       '10,001+ employees · Transportation, Logistics, Supply Chain and Storage',\n",
       "       '1,001-5,000 employees · Events Services',\n",
       "       'See how you compare to 119 applicants. Reactivate Premium',\n",
       "       '11-50 employees · Information Technology & Services',\n",
       "       'Haris Arain is hiring for this job',\n",
       "       'Sami ur rehman rehman is hiring for this job',\n",
       "       '51-200 employees · Retail Luxury Goods and Jewelry',\n",
       "       'Muhammad Attique is hiring for this job',\n",
       "       'Awais Ashraf is hiring for this job',\n",
       "       'innocent Angel is hiring for this job',\n",
       "       'iqra batool is hiring for this job',\n",
       "       'Laraib Hussain is hiring for this job',\n",
       "       'Mona Farooq is hiring for this job',\n",
       "       '51-200 employees · Apparel & Fashion',\n",
       "       'jai kumar is hiring for this job',\n",
       "       'Javed Ramzan Ali is hiring for this job',\n",
       "       'Aneel Kumar is hiring for this job',\n",
       "       '10,001+ employees · Packaging and Containers Manufacturing',\n",
       "       'Sherjeel Ali Chaudary is hiring for this job',\n",
       "       'Syed Saboor Pasha is hiring for this job',\n",
       "       '1,001-5,000 employees · Automotive',\n",
       "       'Love Suther is hiring for this job',\n",
       "       '501-1,000 employees · Real Estate',\n",
       "       'Amjad Mehmood is hiring for this job',\n",
       "       '10,001+ employees · Chemical Manufacturing',\n",
       "       '51-200 employees · Think Tanks', '501-1,000 employees · Retail',\n",
       "       '1-10 employees · Staffing and Recruiting',\n",
       "       'Salman Ahmed Hashmi is hiring for this job',\n",
       "       'See how you compare to 37 applicants. Reactivate Premium',\n",
       "       'Zeeshan Yaqoob is hiring for this job',\n",
       "       '11-50 employees · Public Safety',\n",
       "       'Usama Tariq is hiring for this job',\n",
       "       'See how you compare to 153 applicants. Reactivate Premium',\n",
       "       '201-500 employees · Information Technology & Services',\n",
       "       'HAIDER SAEED MUGHAL is hiring for this job',\n",
       "       '5,001-10,000 employees · Human Resources Services',\n",
       "       'Abubaker Kareem is hiring for this job',\n",
       "       'See how you compare to 85 applicants. Reactivate Premium',\n",
       "       'mohammad ashraf memon is hiring for this job',\n",
       "       'Malik Mirza FCA, FCCA (UK), MBA is hiring for this job',\n",
       "       '10,001+ employees · Higher Education',\n",
       "       'See how you compare to 22 applicants. Reactivate Premium',\n",
       "       'Muhammad Shahzaib is hiring for this job',\n",
       "       'See how you compare to 4 applicants. Reactivate Premium',\n",
       "       'Qasim Awan is hiring for this job',\n",
       "       'See how you compare to 3 applicants. Reactivate Premium',\n",
       "       '5,001-10,000 employees · Software Development',\n",
       "       '51-200 employees · International Affairs',\n",
       "       '201-500 employees · IT System Custom Software Development',\n",
       "       '1,001-5,000 employees · Food Production',\n",
       "       '51-200 employees · Advertising Services',\n",
       "       '1,001-5,000 employees · Real Estate',\n",
       "       '51-200 employees · Strategic Management Services',\n",
       "       '1,001-5,000 employees · Financial Services',\n",
       "       'Ume Rubab is hiring for this job',\n",
       "       'See how you compare to 308 applicants. Reactivate Premium',\n",
       "       'Anas Nadeem is hiring for this job',\n",
       "       'PROTRIP CONSULTANCY is hiring for this job',\n",
       "       '51-200 employees · Financial Services',\n",
       "       '201-500 employees · Transportation, Logistics, Supply Chain and Storage',\n",
       "       'Ghulam Asghar is hiring for this job',\n",
       "       'See how you compare to 64 applicants. Reactivate Premium',\n",
       "       'Raaheen Alikhan is hiring for this job',\n",
       "       'Kashif Awan is hiring for this job',\n",
       "       '10,001+ employees · Information Technology & Services',\n",
       "       'See how you compare to 47 applicants. Reactivate Premium',\n",
       "       'See how you compare to 27 applicants. Reactivate Premium',\n",
       "       'Muhammad Asim is hiring for this job',\n",
       "       '201-500 employees · Telecommunications',\n",
       "       '11-50 employees · Advertising Services',\n",
       "       'Akhtar Abid Hussain is hiring for this job',\n",
       "       'Ahmad Saleem is hiring for this job',\n",
       "       'See how you compare to 5 applicants. Reactivate Premium',\n",
       "       'Gamers Hype is hiring for this job',\n",
       "       'Shafaqat Ali is hiring for this job',\n",
       "       '5,001-10,000 employees · Biotechnology Research',\n",
       "       '501-1,000 employees · Outsourcing and Offshoring Consulting',\n",
       "       '10,001+ employees · Airlines and Aviation',\n",
       "       '1,001-5,000 employees · Retail',\n",
       "       '51-200 employees · Telecommunications',\n",
       "       '1-10 employees · IT Services and IT Consulting',\n",
       "       'See recent hiring trends for AA Joyland. Reactivate Premium',\n",
       "       '11-50 employees · Holding Companies',\n",
       "       'See how you compare to 125 applicants. Reactivate Premium',\n",
       "       '10,001+ employees · Facilities Services',\n",
       "       'See how you compare to 24 applicants. Reactivate Premium',\n",
       "       'Ambrose Emmanuel is hiring for this job',\n",
       "       'Saad Malik is hiring for this job',\n",
       "       '201-500 employees · Leisure, Travel & Tourism',\n",
       "       'Hotel Deluxe Lahore is hiring for this job',\n",
       "       'Hamza Raza is hiring for this job',\n",
       "       '51-200 employees · Design Services',\n",
       "       'syed Khalid is hiring for this job',\n",
       "       'Zain Bukhari is hiring for this job',\n",
       "       '5,001-10,000 employees · Education Administration Programs',\n",
       "       '201-500 employees · Automation Machinery Manufacturing',\n",
       "       'Muhammad Usman is hiring for this job',\n",
       "       'Zaheer Ahmad is hiring for this job',\n",
       "       'Muhammad Hamdan is hiring for this job',\n",
       "       'See how you compare to 145 applicants. Reactivate Premium',\n",
       "       'See how you compare to 33 applicants. Reactivate Premium',\n",
       "       'mohammed ishtiaq is hiring for this job',\n",
       "       '6 company alumni work here · 4 school alumni work here',\n",
       "       '1-10 employees · Blockchain Services',\n",
       "       'Saqib Idrees is hiring for this job',\n",
       "       '501-1,000 employees · Technology, Information and Internet',\n",
       "       '7 school alumni work here',\n",
       "       '201-500 employees · Food and Beverage Manufacturing',\n",
       "       '10,001+ employees · Renewable Energy Semiconductor Manufacturing',\n",
       "       '10,001+ employees · Outsourcing and Offshoring Consulting',\n",
       "       'Ahmad awan is hiring for this job',\n",
       "       'Zulfiqar Rana is hiring for this job',\n",
       "       '11-50 employees · Marketing Services',\n",
       "       '501-1,000 employees · Electric Power Generation',\n",
       "       'Bilal S. is hiring for this job',\n",
       "       '1-10 employees · Software Development',\n",
       "       '201-500 employees · Pharmaceutical Manufacturing',\n",
       "       '10,001+ employees · Aviation and Aerospace Component Manufacturing',\n",
       "       '1,001-5,000 employees · Airlines and Aviation',\n",
       "       'Arhum Ahmad is hiring for this job',\n",
       "       'Muhammad Anas Farooqi is hiring for this job',\n",
       "       '5,001-10,000 employees · Manufacturing',\n",
       "       'See how you compare to 83 applicants. Reactivate Premium',\n",
       "       'See how you compare to 16 applicants. Reactivate Premium',\n",
       "       'Iqra Amjad is hiring for this job',\n",
       "       '11-50 employees · Real Estate',\n",
       "       'Safia Naz is hiring for this job',\n",
       "       'Zaman Ashraf is hiring for this job',\n",
       "       'Faizan Kamran is hiring for this job',\n",
       "       'Hassan mehdi is hiring for this job',\n",
       "       'Syed Zulfiqar Ali is hiring for this job',\n",
       "       'Iqbal Shehzada is hiring for this job',\n",
       "       '10,001+ employees · Advertising Services',\n",
       "       'See how you compare to 167 applicants. Reactivate Premium',\n",
       "       'See how you compare to 200 applicants. Reactivate Premium',\n",
       "       'Rafay Z. is hiring for this job',\n",
       "       'See how you compare to 231 applicants. Reactivate Premium',\n",
       "       'See how you compare to 305 applicants. Reactivate Premium',\n",
       "       'See how you compare to 99 applicants. Reactivate Premium',\n",
       "       'See how you compare to 68 applicants. Reactivate Premium',\n",
       "       'See how you compare to 255 applicants. Reactivate Premium',\n",
       "       'See how you compare to 90 applicants. Reactivate Premium',\n",
       "       'S Hidayat Waris, SI (M) is hiring for this job',\n",
       "       '1,001-5,000 employees · Renewable Energy Equipment Manufacturing',\n",
       "       'See how you compare to 163 applicants. Reactivate Premium',\n",
       "       'See how you compare to 435 applicants. Reactivate Premium',\n",
       "       'See how you compare to 276 applicants. Reactivate Premium',\n",
       "       'ZENITH INTERNATIONAL is hiring for this job',\n",
       "       'Umair Shahzad-SAP is hiring for this job',\n",
       "       'See how you compare to 76 applicants. Reactivate Premium',\n",
       "       'See how you compare to 107 applicants. Reactivate Premium',\n",
       "       'Sufian Nazir is hiring for this job',\n",
       "       'See how you compare to 350 applicants. Reactivate Premium',\n",
       "       'AKHMAD KHUSHAL is hiring for this job',\n",
       "       'Waqar Ur Rehman is hiring for this job',\n",
       "       'See how you compare to 54 applicants. Reactivate Premium',\n",
       "       'See how you compare to 41 applicants. Reactivate Premium',\n",
       "       '1 school alum works here',\n",
       "       'Muhammad Yasir Gujjar is hiring for this job',\n",
       "       'See how you compare to 266 applicants. Reactivate Premium',\n",
       "       'See how you compare to 229 applicants. Reactivate Premium',\n",
       "       'amir mughal is hiring for this job',\n",
       "       '51-200 employees · Education Management',\n",
       "       '51-200 employees · Real Estate',\n",
       "       'Razia Faiz is hiring for this job',\n",
       "       'Mahnoor Waseem is hiring for this job',\n",
       "       '1,001-5,000 employees · Wholesale',\n",
       "       '5,001-10,000 employees · Higher Education',\n",
       "       '5,001-10,000 employees · Utilities',\n",
       "       'See how you compare to 70 applicants. Reactivate Premium',\n",
       "       '51-200 employees · Transportation, Logistics, Supply Chain and Storage',\n",
       "       '1,001-5,000 employees · International Trade and Development',\n",
       "       '1,001-5,000 employees · Chemical Manufacturing',\n",
       "       '1,001-5,000 employees · Accounting',\n",
       "       'Faizi Khokhar is hiring for this job',\n",
       "       '10,001+ employees · Retail Apparel and Fashion',\n",
       "       'Ghulam Mustafa is hiring for this job',\n",
       "       'Arooba Aslam is hiring for this job',\n",
       "       'Muhammad Abu Bakar is hiring for this job',\n",
       "       '501-1,000 employees · Staffing and Recruiting',\n",
       "       '1,001-5,000 employees · Biotechnology Research',\n",
       "       '51-200 employees · Wholesale', 'Adnan Ali is hiring for this job',\n",
       "       'Wajid Khan is hiring for this job',\n",
       "       'Mohammad Amjad is hiring for this job',\n",
       "       'Azeem Haider is hiring for this job',\n",
       "       'Rohana Weerarathne is hiring for this job',\n",
       "       'Viqar Hussain is hiring for this job',\n",
       "       'See how you compare to 102 applicants. Reactivate Premium',\n",
       "       '5,001-10,000 employees · Pharmaceutical Manufacturing',\n",
       "       '10,001+ employees · Real Estate',\n",
       "       'Saad Rehman is hiring for this job',\n",
       "       'Ghani Khan is hiring for this job',\n",
       "       '10,001+ employees · Industrial Machinery Manufacturing',\n",
       "       'See how you compare to 26 applicants. Reactivate Premium',\n",
       "       'Muhammad Saeed is hiring for this job',\n",
       "       'Ihsan ul Haq is hiring for this job',\n",
       "       '201-500 employees · Furniture',\n",
       "       'Usama Malick is hiring for this job',\n",
       "       'Muhammad Irfan Rind is hiring for this job',\n",
       "       'MUSADDIQ JABBAR is hiring for this job',\n",
       "       'Syed Yawar Abbas is hiring for this job',\n",
       "       '11-50 employees · Hospitals and Health Care',\n",
       "       'Syed Muhammad Jahanzaib Mushtaq is hiring for this job',\n",
       "       '501-1,000 employees · Engineering Services',\n",
       "       'Omer Jawed Ghani is hiring for this job',\n",
       "       '10,001+ employees · Medical Equipment Manufacturing',\n",
       "       '1,001-5,000 employees · Semiconductor Manufacturing',\n",
       "       '1,001-5,000 employees · Translation and Localization',\n",
       "       'See how you compare to 30 applicants. Reactivate Premium',\n",
       "       'See how you compare to 35 applicants. Reactivate Premium',\n",
       "       'ALR Electronics is hiring for this job',\n",
       "       'Zaiba Mahsud is hiring for this job',\n",
       "       'Ash Riz is hiring for this job',\n",
       "       'Atif Tansir is hiring for this job',\n",
       "       '51-200 employees · Technology, Information and Media',\n",
       "       '11-50 employees · Media Production',\n",
       "       'Namra Akhtar is hiring for this job',\n",
       "       'abrar khan is hiring for this job',\n",
       "       '501-1,000 employees · Information Services',\n",
       "       '10,001+ employees · Packaging & Containers',\n",
       "       '1,001-5,000 employees · Non-profit Organizations',\n",
       "       '5,001-10,000 employees · Outsourcing and Offshoring Consulting',\n",
       "       'See how you compare to 40 applicants. Reactivate Premium',\n",
       "       '11-50 employees · Internet Marketplace Platforms',\n",
       "       '11-50 employees · Education Administration Programs',\n",
       "       'Rizwan Chaudhary is hiring for this job',\n",
       "       'Syed Hassan Abbas is hiring for this job',\n",
       "       'Ahsan Irfan is hiring for this job',\n",
       "       '11-50 employees · Information Services',\n",
       "       'Sheikh Muhammad Taha is hiring for this job',\n",
       "       'Waqar Younis is hiring for this job', '6 school alumni work here',\n",
       "       'Muhammad Aksam Ali is hiring for this job',\n",
       "       'Majid Saif is hiring for this job',\n",
       "       'See how you compare to 235 applicants. Reactivate Premium',\n",
       "       'danyal malik is hiring for this job',\n",
       "       'See how you compare to 159 applicants. Reactivate Premium',\n",
       "       '11-50 employees · Online Audio and Video Media',\n",
       "       'See how you compare to 122 applicants. Reactivate Premium',\n",
       "       'Abdul Rehman Shahid is hiring for this job',\n",
       "       'See how you compare to 50 applicants. Reactivate Premium',\n",
       "       'Shayan Tauqeer is hiring for this job',\n",
       "       'Irfan Awan is hiring for this job',\n",
       "       'MANA SHANA is hiring for this job',\n",
       "       'See recent hiring trends for Ayesha Manzil. Reactivate Premium',\n",
       "       'noor zulfiqar is hiring for this job',\n",
       "       'Shamraiza Khan is hiring for this job',\n",
       "       'Abdullah Imran is hiring for this job',\n",
       "       '51-200 employees · Retail Apparel and Fashion',\n",
       "       'See how you compare to 80 applicants. Reactivate Premium',\n",
       "       'Aamir Shahzad is hiring for this job',\n",
       "       'See how you compare to 430 applicants. Reactivate Premium',\n",
       "       'khurram imtiaz is hiring for this job',\n",
       "       'Umar Ashraf is hiring for this job',\n",
       "       'Syed Jawad Ur Rehman ⭐️ Shopify Dropshipping Expert is hiring for this job',\n",
       "       'Dr Hana Mahmood is hiring for this job',\n",
       "       'See how you compare to 111 applicants. Reactivate Premium',\n",
       "       'Mahmood Ali Shah Bukhari is hiring for this job',\n",
       "       'Zeenat Sabir is hiring for this job',\n",
       "       'Job poster joined LinkedIn in 2018',\n",
       "       'Farhan Ali is hiring for this job',\n",
       "       'Aqsa Bashir is hiring for this job',\n",
       "       'MANSOOR HAIDER is hiring for this job',\n",
       "       'Umar Farooq is hiring for this job',\n",
       "       'ASNAN AZAM is hiring for this job',\n",
       "       '1-10 employees · Technology, Information and Internet',\n",
       "       '1,001-5,000 employees · Staffing and Recruiting',\n",
       "       'ammar hassan is hiring for this job',\n",
       "       'Humair Ishtiaq is hiring for this job',\n",
       "       'zaid shahid is hiring for this job',\n",
       "       'Zahida Tayyeb banuri is hiring for this job',\n",
       "       'Syed Muhammad Rauf B. is hiring for this job',\n",
       "       'Adnan Dawood Khan is hiring for this job',\n",
       "       'Shahid Amin is hiring for this job',\n",
       "       'Sumera Waseem is hiring for this job',\n",
       "       'Dr. Nuzhat Rahmat is hiring for this job',\n",
       "       'Ahmad Sardar is hiring for this job',\n",
       "       'See how you compare to 48 applicants. Reactivate Premium',\n",
       "       'Syed Rafay is hiring for this job',\n",
       "       '1,001-5,000 employees · Renewable Energy Semiconductor Manufacturing',\n",
       "       'Engr Muhammad Usman Mughal is hiring for this job',\n",
       "       'Tayyab Sultan is hiring for this job',\n",
       "       'Saleem Raza is hiring for this job',\n",
       "       'Qudsia Mumtaz is hiring for this job',\n",
       "       'Raheel Muhammad is hiring for this job',\n",
       "       'Muhammad Ameer Hamza is hiring for this job',\n",
       "       'Riphah International College, Attock Campus. is hiring for this job',\n",
       "       'Asif Hasnain is hiring for this job',\n",
       "       'Maryam Rani is hiring for this job',\n",
       "       'Genesis Global is hiring for this job',\n",
       "       'afzal Javed is hiring for this job',\n",
       "       'Abu talib Rizvi is hiring for this job',\n",
       "       'Dr.Fahim Rao is hiring for this job',\n",
       "       'Amna Khan is hiring for this job',\n",
       "       'Mirza Abdul Basit is hiring for this job',\n",
       "       'CAPS College is hiring for this job',\n",
       "       'Saad Abbasi is hiring for this job',\n",
       "       'Sami Yazdani is hiring for this job',\n",
       "       'mudasar nazir is hiring for this job',\n",
       "       'khaqan Ahmed Khan is hiring for this job',\n",
       "       'Sangonomiya Kokomi is hiring for this job',\n",
       "       '51-200 employees · Architecture and Planning',\n",
       "       'Asad Ullah is hiring for this job',\n",
       "       'See how you compare to 516 applicants. Reactivate Premium',\n",
       "       'See how you compare to 222 applicants. Reactivate Premium',\n",
       "       'See how you compare to 236 applicants. Reactivate Premium',\n",
       "       'mohsin mughal is hiring for this job',\n",
       "       'Saboor Khan is hiring for this job',\n",
       "       '501-1,000 employees · Internet Marketplace Platforms',\n",
       "       'Yashfeen Akram is hiring for this job',\n",
       "       'Rizwan Feda is hiring for this job',\n",
       "       'See recent hiring trends for LUDS. Reactivate Premium',\n",
       "       'Adeel Anjum is hiring for this job',\n",
       "       'Sajid Mohsin is hiring for this job',\n",
       "       'hassan saleem khan is hiring for this job',\n",
       "       'Ayesha Sajid is hiring for this job',\n",
       "       'syed Uzair Shah is hiring for this job',\n",
       "       'Noam Fatima is hiring for this job',\n",
       "       '201-500 employees · Civic and Social Organizations',\n",
       "       'Faisal Bashir is hiring for this job',\n",
       "       'Mohsin Raza Bukhari is hiring for this job',\n",
       "       'AMS Global is hiring for this job',\n",
       "       'See how you compare to 84 applicants. Reactivate Premium',\n",
       "       'Amir Masood is hiring for this job',\n",
       "       'Omar Naeem, CFA is hiring for this job',\n",
       "       '1-10 employees · Telecommunications',\n",
       "       'See how you compare to 253 applicants. Reactivate Premium',\n",
       "       '201-500 employees · Staffing and Recruiting',\n",
       "       '201-500 employees · Advertising Services',\n",
       "       '201-500 employees · E-Learning Providers',\n",
       "       'Mian Raza is hiring for this job',\n",
       "       '1-10 employees · Personal Care Product Manufacturing',\n",
       "       'Muhammad Ahsan is hiring for this job',\n",
       "       'Shehroz Hussain is hiring for this job',\n",
       "       'AMIR JAVAID is hiring for this job',\n",
       "       'Anabia Khan is hiring for this job',\n",
       "       'Rooman ijaz is hiring for this job',\n",
       "       'madiha ashraf is hiring for this job',\n",
       "       'Sara Asad is hiring for this job',\n",
       "       'Sumaira W. is hiring for this job',\n",
       "       '10,001+ employees · Engineering Services',\n",
       "       'Hazel Haque is hiring for this job',\n",
       "       'Mohammad Waqar Rana is hiring for this job',\n",
       "       'Abdullah zubair is hiring for this job',\n",
       "       'Masood Raza is hiring for this job',\n",
       "       'Hassan Abbas is hiring for this job',\n",
       "       'zahid mahmood is hiring for this job',\n",
       "       'Syed Hassan Askari is hiring for this job',\n",
       "       'Saim khan is hiring for this job',\n",
       "       'Laiq Ahmed is hiring for this job',\n",
       "       'Javed Hayat is hiring for this job',\n",
       "       'Nabeel Hassan Gilani is hiring for this job',\n",
       "       'Dilshad Khan is hiring for this job',\n",
       "       '51-200 employees · Blockchain Services',\n",
       "       '51-200 employees · Oil and Gas',\n",
       "       '5,001-10,000 employees · Banking',\n",
       "       '501-1,000 employees · International Trade and Development',\n",
       "       'Sahib Zada is hiring for this job',\n",
       "       'Sheraz Bucha is hiring for this job',\n",
       "       'Shahzad Ashraf is hiring for this job',\n",
       "       'Salman J Memon is hiring for this job',\n",
       "       'Mr. Usman is hiring for this job',\n",
       "       'Sharoon Jacob is hiring for this job',\n",
       "       'Muhammad Waqas Ansari is hiring for this job',\n",
       "       '201-500 employees · Research',\n",
       "       'See how you compare to 45 applicants. Reactivate Premium',\n",
       "       'moiz haider is hiring for this job',\n",
       "       'Muhammad Arif Pahore is hiring for this job',\n",
       "       'Tahir Ayoub is hiring for this job',\n",
       "       'usman shafi is hiring for this job',\n",
       "       'Rafaqat Ali is hiring for this job',\n",
       "       'Rizwan Maniya is hiring for this job',\n",
       "       'Zulquida Shykh is hiring for this job',\n",
       "       'See recent hiring trends for Ozark bpo. Reactivate Premium',\n",
       "       'Abdul Hannan is hiring for this job',\n",
       "       'Imran Masih is hiring for this job',\n",
       "       'Abdullah Malik is hiring for this job',\n",
       "       'Shafiq Ur Rehman is hiring for this job',\n",
       "       'Join Mind Wires is hiring for this job',\n",
       "       'Affaq Syed is hiring for this job',\n",
       "       'Ahad Qurexhi is hiring for this job',\n",
       "       '1-10 employees · Professional Training and Coaching',\n",
       "       'Sima Saif is hiring for this job',\n",
       "       'Obaid Afzal is hiring for this job',\n",
       "       'Muhammad Baseer is hiring for this job',\n",
       "       'Hasnain Talib is hiring for this job',\n",
       "       'Hamza Farooq is hiring for this job',\n",
       "       'Nida Rehan is hiring for this job',\n",
       "       'Anas Ahmed khan is hiring for this job',\n",
       "       'Sadaf Qazi 😎 is hiring for this job',\n",
       "       'Mujtaba Faisal is hiring for this job',\n",
       "       'Asim Khan is hiring for this job',\n",
       "       'Arsalan Jamal Khan is hiring for this job',\n",
       "       'Rehan Mughal is hiring for this job',\n",
       "       'shams khan is hiring for this job',\n",
       "       'M Usman Kaleem is hiring for this job',\n",
       "       'Waleed Mahmood is hiring for this job',\n",
       "       'eAviations Islamabad is hiring for this job',\n",
       "       'See recent hiring trends for Virtual technology. Reactivate Premium',\n",
       "       'Ali Tahir is hiring for this job',\n",
       "       'Bilal khan is hiring for this job',\n",
       "       'Muhammad Muteeb is hiring for this job',\n",
       "       'Muhammad Aslam is hiring for this job',\n",
       "       'Khawaja Hamid Hassan is hiring for this job',\n",
       "       'Zain Shah is hiring for this job',\n",
       "       'Mian Usman Mahmood is hiring for this job',\n",
       "       'Bilal Ahmad is hiring for this job',\n",
       "       'Dua Abdullah is hiring for this job',\n",
       "       'Toqeer Abbas is hiring for this job',\n",
       "       'Usman Sajjad is hiring for this job',\n",
       "       'Mashal Eman is hiring for this job',\n",
       "       'Summaiya Asad is hiring for this job',\n",
       "       'Usman Rana is hiring for this job',\n",
       "       'See how you compare to 8 applicants. Reactivate Premium',\n",
       "       'See how you compare to 28 applicants. Reactivate Premium',\n",
       "       'Amir Nazir is hiring for this job',\n",
       "       'Huzaifa Sarfraz is hiring for this job',\n",
       "       'Ghulam Meeran is hiring for this job',\n",
       "       'Naufil R. is hiring for this job',\n",
       "       'Marvelous Uzong is hiring for this job',\n",
       "       'Usama Kamdar is hiring for this job',\n",
       "       'Atiya Arif is hiring for this job',\n",
       "       'Saqib Mughal is hiring for this job',\n",
       "       'ShAiKh mOiZ is hiring for this job',\n",
       "       'Kingsmen Telco is hiring for this job',\n",
       "       'Asif Saeed is hiring for this job',\n",
       "       'See how you compare to 61 applicants. Reactivate Premium',\n",
       "       '1-10 employees · Writing and Editing',\n",
       "       '11-50 employees · Investment Advice',\n",
       "       'Iqra Naqvi is hiring for this job',\n",
       "       '201-500 employees · Food and Beverage Services',\n",
       "       'Muhammad Moeen is hiring for this job',\n",
       "       'Haider Zaman Yousafzai is hiring for this job',\n",
       "       'Muhammad Tasleem Qadri is hiring for this job',\n",
       "       'Ameer Hamza is hiring for this job',\n",
       "       'AIJAZ MEMON is hiring for this job',\n",
       "       '5,001-10,000 employees · Chemical Manufacturing',\n",
       "       'Basit Fayyaz is hiring for this job',\n",
       "       'Mirza Waiz Imtiaz is hiring for this job',\n",
       "       'Mudassar Javed Gondal is hiring for this job',\n",
       "       'Talal Shah is hiring for this job',\n",
       "       'Zillah Alam is hiring for this job',\n",
       "       'Naveed Toshee is hiring for this job',\n",
       "       'Haseeb Tutor is hiring for this job',\n",
       "       'Haroon hayat is hiring for this job',\n",
       "       'Waseem Raza is hiring for this job',\n",
       "       '10,001+ employees · Appliances, Electrical, and Electronics Manufacturing',\n",
       "       'Zafar Iqbal is hiring for this job',\n",
       "       'Hyundai Airport Motors is hiring for this job',\n",
       "       'Saeed ulhaq Qureshi is hiring for this job',\n",
       "       'Babar Ahmed is hiring for this job',\n",
       "       'Hussain Pirani is hiring for this job',\n",
       "       'Zeeshan Javed is hiring for this job',\n",
       "       'Rania Haris is hiring for this job',\n",
       "       'Akash Khan is hiring for this job',\n",
       "       'Rafi Malik is hiring for this job',\n",
       "       'Usama Ali is hiring for this job',\n",
       "       '51-200 employees · Consumer Services',\n",
       "       'Qurat Ul Ain Jawed is hiring for this job',\n",
       "       'See how you compare to 93 applicants. Reactivate Premium',\n",
       "       'Shaikh Abdullah is hiring for this job',\n",
       "       'Sadia Rasool is hiring for this job',\n",
       "       'Hira Matloob is hiring for this job',\n",
       "       'See recent hiring trends for Crossover . Reactivate Premium',\n",
       "       '201-500 employees · Marketing Services',\n",
       "       'Kainat Abid John is hiring for this job',\n",
       "       'IRFAN HASSAN is hiring for this job',\n",
       "       'Afzaal SEO Expert is hiring for this job',\n",
       "       'Saveondeals Limited is hiring for this job',\n",
       "       'Muhammad Umar Saeed Akbar is hiring for this job',\n",
       "       'Kashifa Muneer is hiring for this job',\n",
       "       'Talha Touseef is hiring for this job',\n",
       "       'Sher Afghan is hiring for this job',\n",
       "       'Chaudhary Hussain is hiring for this job',\n",
       "       'Engineer Ahmad is hiring for this job',\n",
       "       'Haroon Khan is hiring for this job',\n",
       "       'Fayyaz Rana is hiring for this job',\n",
       "       'Usman A. is hiring for this job',\n",
       "       'Ch Aqdas Hussain is hiring for this job',\n",
       "       'Ashair Z. is hiring for this job',\n",
       "       'Aashir Majeed is hiring for this job',\n",
       "       'Rehan Ali is hiring for this job',\n",
       "       '201-500 employees · Human Resources Services',\n",
       "       'MUHAMMAD HAMMAD is hiring for this job',\n",
       "       'Shehroze Zafar is hiring for this job',\n",
       "       'Malik Asim Yaqub is hiring for this job',\n",
       "       'Muhammad Zawar Basharat is hiring for this job',\n",
       "       'Basit Gillani is hiring for this job',\n",
       "       'Hamza Shehzad is hiring for this job',\n",
       "       'Haji Mastan is hiring for this job',\n",
       "       'BiBi Hawwa is hiring for this job',\n",
       "       'Arslan Maqsood is hiring for this job',\n",
       "       'Muhammad Umar Mughal is hiring for this job',\n",
       "       'Usama Masood is hiring for this job',\n",
       "       'Sajid Khan is hiring for this job',\n",
       "       'Rayan Fazal is hiring for this job',\n",
       "       'Ahmed Faheem is hiring for this job',\n",
       "       'Sameer Ch is hiring for this job',\n",
       "       'See recent hiring trends for EU Tech Chamber. Reactivate Premium',\n",
       "       'Rubina Kashif is hiring for this job',\n",
       "       'zara mushtaq is hiring for this job',\n",
       "       'Hussain Sadri is hiring for this job',\n",
       "       'Syed Saqlain Raza Gilani is hiring for this job',\n",
       "       'Muhammad Waqas Arshad is hiring for this job',\n",
       "       '1 company alum works here',\n",
       "       'Muhammad Anees Ali is hiring for this job',\n",
       "       'Ayesha Ikram is hiring for this job',\n",
       "       'tanveer abbas is hiring for this job',\n",
       "       'Kamran Malik is hiring for this job',\n",
       "       'Mohammed Saifullah Malik is hiring for this job',\n",
       "       'Saad jamil is hiring for this job',\n",
       "       'M Fassih ud din Abbasi is hiring for this job',\n",
       "       'Syed Noman H. is hiring for this job',\n",
       "       'Rehan Amir is hiring for this job',\n",
       "       'Shakil Amin is hiring for this job',\n",
       "       'Faiq Saleem is hiring for this job',\n",
       "       'Rabia khan (RNK) is hiring for this job',\n",
       "       'M. Noman Haider is hiring for this job',\n",
       "       'Hasham Zahid is hiring for this job',\n",
       "       '11-50 employees · Internet Publishing',\n",
       "       'Job poster joined LinkedIn in 2013',\n",
       "       '1,001-5,000 employees · Pharmaceutical Manufacturing',\n",
       "       '201-500 employees · Manufacturing',\n",
       "       '10,001+ employees · Computer and Network Security',\n",
       "       'Imran Mubashir is hiring for this job',\n",
       "       'See how you compare to 371 applicants. Reactivate Premium',\n",
       "       '10,001+ employees · Staffing and Recruiting',\n",
       "       'See recent hiring trends for Wellness industry . Reactivate Premium',\n",
       "       'See how you compare to 66 applicants. Reactivate Premium',\n",
       "       'See how you compare to 43 applicants. Reactivate Premium',\n",
       "       'DEVNANI PREM CHAND is hiring for this job',\n",
       "       'Ebad ullah is hiring for this job',\n",
       "       'Jahid Ahmad is hiring for this job',\n",
       "       'M,Arshad Siddiqui is hiring for this job',\n",
       "       'Zeba Shafi is hiring for this job',\n",
       "       'Hamza Malik is hiring for this job',\n",
       "       'Barrister M Sajid Majeed Maj (R) . is hiring for this job',\n",
       "       'See recent hiring trends for Abraham Institute of Paramedical Sciences. Reactivate Premium',\n",
       "       'WAHAB ASGHAR is hiring for this job',\n",
       "       'Murtaza Adeeb is hiring for this job',\n",
       "       'See how you compare to 234 applicants. Reactivate Premium',\n",
       "       'See how you compare to 517 applicants. Reactivate Premium',\n",
       "       '5,001-10,000 employees · Financial Services',\n",
       "       '10,001+ employees · Education',\n",
       "       'Job poster joined LinkedIn in 2015',\n",
       "       'Dr Nabia Ijaz Chaudhary is hiring for this job',\n",
       "       '201-500 employees · Primary and Secondary Education',\n",
       "       'Irfan Aleem is hiring for this job',\n",
       "       'Adeel Arman is hiring for this job',\n",
       "       'Sheheryar Maqsood is hiring for this job',\n",
       "       'M Jawaad Hassan is hiring for this job',\n",
       "       'Job poster joined LinkedIn in 2016',\n",
       "       'Hamza Farooqui is hiring for this job',\n",
       "       'Zia Mohyudin is hiring for this job',\n",
       "       'Burhan Ali is hiring for this job',\n",
       "       'See recent hiring trends for A1 Consultancy Services. Reactivate Premium',\n",
       "       'Malik Nadeem is hiring for this job',\n",
       "       'TALHA MURTAZA is hiring for this job',\n",
       "       'Danish Jatt is hiring for this job',\n",
       "       'Huzaifa Ahmed is hiring for this job',\n",
       "       'Nouman Khan is hiring for this job',\n",
       "       'Muhammad Sardar Tnoli is hiring for this job',\n",
       "       'Shazia Siddique is hiring for this job',\n",
       "       'Mir Zain Talpur is hiring for this job',\n",
       "       'Zara Graphyyy is hiring for this job',\n",
       "       'Ateeq Hassan is hiring for this job',\n",
       "       'Jawad Ali is hiring for this job',\n",
       "       'Azan Ayan is hiring for this job',\n",
       "       'Faisal Qainth is hiring for this job',\n",
       "       'Rehan Samoo is hiring for this job',\n",
       "       'AZHAR ABBAS is hiring for this job',\n",
       "       'Ali Waqar is hiring for this job',\n",
       "       'Salman Haider is hiring for this job',\n",
       "       'Syed Muhammad Kasraan is hiring for this job',\n",
       "       'Muhammad Yasir is hiring for this job',\n",
       "       'Zain Safdar is hiring for this job',\n",
       "       'Sameer Syed is hiring for this job',\n",
       "       'Muhammad Zeeshan is hiring for this job',\n",
       "       'Shujaat Ali Khan Jadoon is hiring for this job',\n",
       "       'Awais Khokhar is hiring for this job',\n",
       "       'Kamran Razzaq is hiring for this job',\n",
       "       'Shahrukh Nasir is hiring for this job',\n",
       "       'Abdul Aziz is hiring for this job',\n",
       "       'Muhammad Junaid is hiring for this job',\n",
       "       'MUHAMMAD UMER is hiring for this job',\n",
       "       'See how you compare to over 200 other applicants. Reactivate Premium',\n",
       "       'heaven studio is hiring for this job',\n",
       "       'Shahid Mustafa is hiring for this job',\n",
       "       'faizan khawar is hiring for this job',\n",
       "       'Sahera Bajwa is hiring for this job',\n",
       "       'Sidra Basharat is hiring for this job',\n",
       "       'Dr. Samia is hiring for this job',\n",
       "       'See how you compare to 25 applicants. Reactivate Premium',\n",
       "       'PAK MUSTAKBIL is hiring for this job',\n",
       "       'Muhammad Tanveer is hiring for this job',\n",
       "       'Ahmad Bilal is hiring for this job',\n",
       "       'sumnan iqbal is hiring for this job',\n",
       "       'Muhammad Waqas is hiring for this job',\n",
       "       'Shahid Faridi is hiring for this job',\n",
       "       'muhammad ahmed is hiring for this job',\n",
       "       'luminous leather goods is hiring for this job',\n",
       "       'rizwan ali is hiring for this job',\n",
       "       'Anas Qaiser is hiring for this job',\n",
       "       'Bilal Khan is hiring for this job',\n",
       "       'Mohid Alam is hiring for this job',\n",
       "       'Pakiza Mehar is hiring for this job',\n",
       "       'Kazi Shahbaz is hiring for this job',\n",
       "       '5,001-10,000 employees · Transportation, Logistics, Supply Chain and Storage',\n",
       "       'Usama Suffian is hiring for this job',\n",
       "       'See how you compare to 29 applicants. Reactivate Premium',\n",
       "       '10,001+ employees · Civil Engineering',\n",
       "       '10,001+ employees · Investment Management',\n",
       "       'Awais Ahmad is hiring for this job',\n",
       "       'Muhammad Anas is hiring for this job',\n",
       "       'Ahmed Mahmood is hiring for this job',\n",
       "       'See recent hiring trends for Devtechpro. Reactivate Premium',\n",
       "       'Noreen Khan is hiring for this job',\n",
       "       'Hunain Javed is hiring for this job',\n",
       "       'Aamir chaudharay is hiring for this job',\n",
       "       'Zia Khan is hiring for this job',\n",
       "       'Rahul Sharma is hiring for this job',\n",
       "       'Afira Zahir is hiring for this job',\n",
       "       'malik Malik is hiring for this job',\n",
       "       'Sakandar Zahid is hiring for this job',\n",
       "       'Asher Asif is hiring for this job',\n",
       "       'Sajid Ali Tunio is hiring for this job',\n",
       "       'David Wu is hiring for this job',\n",
       "       'hafiz usman is hiring for this job',\n",
       "       'See how you compare to 49 applicants. Reactivate Premium',\n",
       "       '501-1,000 employees · Non-profit Organizations',\n",
       "       'Usama Jawad is hiring for this job',\n",
       "       'See how you compare to 186 applicants. Reactivate Premium',\n",
       "       '10,001+ employees · Mining',\n",
       "       '51-200 employees · Non-profit Organizations',\n",
       "       '11-50 employees · Wellness and Fitness Services',\n",
       "       'Sheikh Zia Ul Haq is hiring for this job',\n",
       "       '1-10 employees · Retail Office Equipment',\n",
       "       'Mishal Haris is hiring for this job',\n",
       "       'Muhammad Junaid Farid is hiring for this job',\n",
       "       'Umair Zafar is hiring for this job',\n",
       "       'Muhammad Hassan is hiring for this job',\n",
       "       'Tania Malik is hiring for this job',\n",
       "       'Jahanzaib Ibrahim is hiring for this job',\n",
       "       'Imran Latif is hiring for this job',\n",
       "       'Raheel Asim is hiring for this job',\n",
       "       'Asif Balouch is hiring for this job',\n",
       "       'Ch Babar Rashid is hiring for this job',\n",
       "       '11-50 employees · Construction',\n",
       "       'Umair Sharif is hiring for this job',\n",
       "       'Rukhsar Chaudhary is hiring for this job',\n",
       "       'Muhammad Waqar is hiring for this job',\n",
       "       'See how you compare to 39 applicants. Reactivate Premium',\n",
       "       'Asim hussain Shah is hiring for this job',\n",
       "       '51-200 employees · E-Learning Providers',\n",
       "       'Mumtaz Ali is hiring for this job',\n",
       "       'Umair Malik is hiring for this job',\n",
       "       'Muhammad Ammad is hiring for this job',\n",
       "       'See recent hiring trends for Detral Pvt LTD. Reactivate Premium',\n",
       "       'muhammad zeeshan is hiring for this job',\n",
       "       'Asad Rehman is hiring for this job',\n",
       "       'See how you compare to 42 applicants. Reactivate Premium',\n",
       "       'Haroon Arshad is hiring for this job',\n",
       "       'Mr Allama Iqbal is hiring for this job',\n",
       "       '51-200 employees · Outsourcing and Offshoring Consulting',\n",
       "       'Gohar Khan is hiring for this job',\n",
       "       'See how you compare to 72 applicants. Reactivate Premium',\n",
       "       'Muhammad Bashir is hiring for this job',\n",
       "       'Farhan Khalid is hiring for this job',\n",
       "       'Wareesha Fatima is hiring for this job',\n",
       "       'Huzaifa Asif is hiring for this job',\n",
       "       'Inshrah Tariq is hiring for this job',\n",
       "       'Noman Hassan is hiring for this job',\n",
       "       'Shama Khanum is hiring for this job',\n",
       "       'Numan Khan is hiring for this job',\n",
       "       'Ateeb Iqbal is hiring for this job',\n",
       "       'Saqib Nasir Chaudhry Bakhsh is hiring for this job',\n",
       "       'Technegik S. is hiring for this job',\n",
       "       'See how you compare to 132 applicants. Reactivate Premium',\n",
       "       'Osmann ▪A is hiring for this job',\n",
       "       'seller collection is hiring for this job',\n",
       "       'RB Direct Marketing is hiring for this job',\n",
       "       'Techno Talk is hiring for this job',\n",
       "       'Saif Ullah is hiring for this job',\n",
       "       'Mariyam Ali is hiring for this job',\n",
       "       'Neik Mohammad is hiring for this job',\n",
       "       'M Roshan Ali is hiring for this job',\n",
       "       '11-50 employees · International Affairs',\n",
       "       'Israr hassan is hiring for this job',\n",
       "       'Hamza Mufti is hiring for this job',\n",
       "       'Maqbool Ur Rehman Bhatti is hiring for this job',\n",
       "       'Saif U is hiring for this job',\n",
       "       'jehad khan is hiring for this job',\n",
       "       'See how you compare to 133 applicants. Reactivate Premium',\n",
       "       '1,001-5,000 employees · Music',\n",
       "       '201-500 employees · International Trade and Development',\n",
       "       'See how you compare to 123 applicants. Reactivate Premium',\n",
       "       'Sawaira Umar is hiring for this job',\n",
       "       '51-200 employees · Medical Equipment Manufacturing',\n",
       "       'Ali shahroz is hiring for this job',\n",
       "       'Hamd Paracha is hiring for this job',\n",
       "       '10,001+ employees · Electric Power Transmission, Control, and Distribution',\n",
       "       'AbuBakar Amin is hiring for this job',\n",
       "       '501-1,000 employees · Textile Manufacturing',\n",
       "       'Sohail Ahmad Maitla is hiring for this job',\n",
       "       'Abdullah Javed is hiring for this job',\n",
       "       'Aswed Hussain is hiring for this job',\n",
       "       'Mubashir Irfan is hiring for this job',\n",
       "       'Dr. Kamran Bhatti is hiring for this job',\n",
       "       'Aneeb Hasan is hiring for this job',\n",
       "       'AHMAD RIAZ is hiring for this job',\n",
       "       'Faisal Mahmood is hiring for this job',\n",
       "       '51-200 employees · Wholesale Import and Export',\n",
       "       'yasir awan is hiring for this job',\n",
       "       'Sajid Younas is hiring for this job',\n",
       "       'Abbas akbar is hiring for this job',\n",
       "       'Muhammad Khan is hiring for this job',\n",
       "       'Mohsin Sarfaraz is hiring for this job',\n",
       "       'Muhammad Haque is hiring for this job',\n",
       "       'Uzair Soobashah is hiring for this job',\n",
       "       'See recent hiring trends for Trica Tech. Reactivate Premium',\n",
       "       'Qasim Suleman is hiring for this job',\n",
       "       'Ahmed Riaz is hiring for this job',\n",
       "       'Faisal Humayon is hiring for this job',\n",
       "       'Umer Iqbal Butt is hiring for this job',\n",
       "       'Syed Aamir Walayat is hiring for this job',\n",
       "       '51-200 employees · Marketing Services',\n",
       "       'See how you compare to 155 applicants. Reactivate Premium',\n",
       "       'See how you compare to 120 applicants. Reactivate Premium',\n",
       "       '11-50 employees · Environmental Services',\n",
       "       '201-500 employees · Outsourcing and Offshoring Consulting',\n",
       "       'See how you compare to 309 applicants. Reactivate Premium',\n",
       "       'Faiq Ali is hiring for this job',\n",
       "       'Durre Adan is hiring for this job',\n",
       "       'See how you compare to 208 applicants. Reactivate Premium',\n",
       "       'Noman Saleem is hiring for this job',\n",
       "       'Malik Khizar is hiring for this job',\n",
       "       '10,001+ employees · Maritime Transportation',\n",
       "       'Matti Rehman is hiring for this job',\n",
       "       '11-50 employees · Business Consulting and Services',\n",
       "       'Munawar Hayat is hiring for this job',\n",
       "       'See how you compare to 274 applicants. Reactivate Premium',\n",
       "       'Uzair Mansoor Ansari is hiring for this job',\n",
       "       '1-10 employees · Retail Furniture and Home Furnishings',\n",
       "       'Zohaib Razaq is hiring for this job',\n",
       "       'KASHIF SHABBIR is hiring for this job',\n",
       "       'Sadaqat Ali is hiring for this job',\n",
       "       'Muhammad Subhan is hiring for this job',\n",
       "       'Syed Danyal Raza Bukhari is hiring for this job',\n",
       "       'Yousaf Aftab is hiring for this job',\n",
       "       'Munib Hamid is hiring for this job',\n",
       "       'Moazam Ansari is hiring for this job',\n",
       "       '10,001+ employees · Business Consulting and Services',\n",
       "       '1-10 employees · Computer Games',\n",
       "       '11-50 employees · Telecommunications',\n",
       "       'See how you compare to 95 applicants. Reactivate Premium',\n",
       "       'Muhammad Asif Fareed is hiring for this job',\n",
       "       'Industrial Automation', 'Rehan Shahid is hiring for this job',\n",
       "       '11-50 employees · Architecture and Planning',\n",
       "       'See how you compare to 77 applicants. Reactivate Premium',\n",
       "       '1,001-5,000 employees · Outsourcing/Offshoring',\n",
       "       'See how you compare to 31 applicants. Reactivate Premium',\n",
       "       'Areesha Rashid Qureshi is hiring for this job',\n",
       "       '1-10 employees · Entertainment Providers',\n",
       "       'See how you compare to 106 applicants. Reactivate Premium',\n",
       "       'Muhammad Jamal Ud Din Subhani Khan is hiring for this job',\n",
       "       'See how you compare to 94 applicants. Reactivate Premium',\n",
       "       'Saira Khan is hiring for this job',\n",
       "       'Us MaaN is hiring for this job',\n",
       "       'FaisaL Ahmad is hiring for this job',\n",
       "       'See recent hiring trends for Institute of Private Education. Reactivate Premium',\n",
       "       'Muhammad Kaleem Anjum is hiring for this job'], dtype=object)"
      ]
     },
     "execution_count": 27,
     "metadata": {},
     "output_type": "execute_result"
    }
   ],
   "source": [
    "df['employees'].unique()"
   ]
  },
  {
   "cell_type": "code",
   "execution_count": 28,
   "id": "3df68a94-0eed-40ba-ab4c-4734ce7222ad",
   "metadata": {},
   "outputs": [
    {
     "data": {
      "text/plain": [
       "976"
      ]
     },
     "execution_count": 28,
     "metadata": {},
     "output_type": "execute_result"
    }
   ],
   "source": [
    "len(df['employees'].unique())"
   ]
  },
  {
   "cell_type": "code",
   "execution_count": null,
   "id": "b19eed1a-085b-4bae-88ab-e180a474e51e",
   "metadata": {},
   "outputs": [],
   "source": []
  },
  {
   "cell_type": "code",
   "execution_count": null,
   "id": "e75f5117-630b-46c4-90a9-4d5223f3c069",
   "metadata": {},
   "outputs": [],
   "source": []
  },
  {
   "cell_type": "code",
   "execution_count": null,
   "id": "bf977ea1-a3fb-4d56-8438-6f4a477a61c8",
   "metadata": {},
   "outputs": [],
   "source": []
  },
  {
   "cell_type": "code",
   "execution_count": null,
   "id": "5a1178e8-b5bc-4e7d-ab87-419faf99770f",
   "metadata": {},
   "outputs": [],
   "source": []
  },
  {
   "cell_type": "code",
   "execution_count": null,
   "id": "0e483f7b-fda6-4096-8c48-a07266c3017b",
   "metadata": {},
   "outputs": [],
   "source": []
  },
  {
   "cell_type": "markdown",
   "id": "33e53122-05dc-4430-bc14-438e2bd69112",
   "metadata": {},
   "source": [
    "# 18 oct 2023"
   ]
  },
  {
   "cell_type": "code",
   "execution_count": 29,
   "id": "5ca0a7b9-6529-4dbf-8783-5be005e82bf3",
   "metadata": {},
   "outputs": [
    {
     "data": {
      "text/plain": [
       "Index(['Job Title', 'Job Info', 'Job Type', 'Job Link', 'employees', 'Job ID'], dtype='object')"
      ]
     },
     "execution_count": 29,
     "metadata": {},
     "output_type": "execute_result"
    }
   ],
   "source": [
    "df.columns"
   ]
  },
  {
   "cell_type": "code",
   "execution_count": null,
   "id": "8b5a4769-cc54-4950-b0f1-cdaf99774b27",
   "metadata": {},
   "outputs": [],
   "source": []
  },
  {
   "cell_type": "code",
   "execution_count": 30,
   "id": "58b0c562-c103-4890-a58a-83bd0b62f7bd",
   "metadata": {},
   "outputs": [
    {
     "data": {
      "text/plain": [
       "Job Title\n",
       "Sales Executive                          142\n",
       "Business Development Executive           135\n",
       "Sales Specialist                          76\n",
       "Business Development Manager              71\n",
       "Business Development Specialist           63\n",
       "Graphic Designer                          58\n",
       "Web Back-End Developer                    57\n",
       "Software Engineer                         56\n",
       "Customer Service Representative           55\n",
       "Salesperson                               50\n",
       "Full Stack Engineer                       47\n",
       "Senior Software Engineer                  45\n",
       "Sales And Marketing Specialist            40\n",
       "Wordpress Developer                       38\n",
       "Call Center Representative                37\n",
       "PHP Developer                             36\n",
       "Sales Development Representative          35\n",
       "Customer Sales Representative             35\n",
       "Search Engine Optimization Specialist     33\n",
       "Dotnet Developer                          33\n",
       "Business Development Officer              32\n",
       "Educational Counselor                     32\n",
       "Digital Marketing Specialist              32\n",
       "Video Editor                              31\n",
       "International Sales Executive             30\n",
       "Sales Manager                             28\n",
       "Upwork Bidder                             28\n",
       "Shopify Developer                         27\n",
       "Back End Developer                        27\n",
       "Social Media Manager                      27\n",
       "Name: count, dtype: int64"
      ]
     },
     "execution_count": 30,
     "metadata": {},
     "output_type": "execute_result"
    }
   ],
   "source": [
    "df['Job Title'].value_counts()[:30]"
   ]
  },
  {
   "cell_type": "code",
   "execution_count": 31,
   "id": "eed4df24-92ae-4a1f-959b-9545f62e374d",
   "metadata": {},
   "outputs": [
    {
     "data": {
      "text/plain": [
       "'Digicon Valley '"
      ]
     },
     "execution_count": 31,
     "metadata": {},
     "output_type": "execute_result"
    }
   ],
   "source": [
    "df['Job Info'].iloc[1].split('·')[0]"
   ]
  },
  {
   "cell_type": "code",
   "execution_count": 32,
   "id": "63226f65-7add-45eb-a931-28168d241ea0",
   "metadata": {},
   "outputs": [
    {
     "data": {
      "text/plain": [
       "0              EcomFleet · Pakistan (Remote)  \\n1 week ago\n",
       "1        Digicon Valley · Lahore, Punjab, Pakistan (On-...\n",
       "2        Murkez Technologies · Lahore, Punjab, Pakistan...\n",
       "3        DevNatives · Islamabad, Islāmābād, Pakistan (H...\n",
       "4        ItCreaters · Lahore, Punjab, Pakistan (On-site...\n",
       "                               ...                        \n",
       "15869    Codiea.io · Bahawalpur, Punjab, Pakistan  \\n1 ...\n",
       "15870    Bank Alfalah Limited · Karāchi, Sindh, Pakista...\n",
       "15872    DPL · Islamabad, Islāmābād, Pakistan  \\n1 week...\n",
       "15873    Level 3 BOS · Karachi Division, Sindh, Pakista...\n",
       "15874    The Hive · Karachi Division, Sindh, Pakistan  ...\n",
       "Name: Job Info, Length: 12010, dtype: object"
      ]
     },
     "execution_count": 32,
     "metadata": {},
     "output_type": "execute_result"
    }
   ],
   "source": [
    "df['Job Info']"
   ]
  },
  {
   "cell_type": "code",
   "execution_count": 33,
   "id": "fe3f05d0-2d10-4a04-bc54-826bd256340d",
   "metadata": {},
   "outputs": [],
   "source": [
    "# df['company']=df['Job Info'].apply(lambda x:x.split('·')[0])\n",
    "# # AttributeError: 'float' object has no attribute 'split'"
   ]
  },
  {
   "cell_type": "code",
   "execution_count": 34,
   "id": "4d1dd8d4-0d0e-46d8-a543-3d45714ca375",
   "metadata": {},
   "outputs": [],
   "source": [
    "# i=0\n",
    "# for info in df['Job Info']:\n",
    "#     print(info.split('·')[0])\n",
    "#     i=i+1\n",
    "#     # print(info)\n",
    "# # AttributeError: 'float' object has no attribute 'split'"
   ]
  },
  {
   "cell_type": "code",
   "execution_count": 35,
   "id": "466a765f-8d1f-468b-823f-0a6a8fafdce7",
   "metadata": {},
   "outputs": [],
   "source": [
    "# i"
   ]
  },
  {
   "cell_type": "code",
   "execution_count": 36,
   "id": "6b286ad1-edfb-46df-825a-d2cf76f95e67",
   "metadata": {},
   "outputs": [
    {
     "data": {
      "text/plain": [
       "nan"
      ]
     },
     "execution_count": 36,
     "metadata": {},
     "output_type": "execute_result"
    }
   ],
   "source": [
    "df['Job Info'].iloc[110]"
   ]
  },
  {
   "cell_type": "code",
   "execution_count": 37,
   "id": "6020ea35-04fd-4257-ab4d-483b50c21aac",
   "metadata": {},
   "outputs": [
    {
     "data": {
      "text/plain": [
       "'DevNatives · Islamabad, Islāmābād, Pakistan (Hybrid)  \\n1 week ago\\n\\n · 51 applicants'"
      ]
     },
     "execution_count": 37,
     "metadata": {},
     "output_type": "execute_result"
    }
   ],
   "source": [
    "df['Job Info'].iloc[3]"
   ]
  },
  {
   "cell_type": "code",
   "execution_count": 38,
   "id": "c5a6c722-0d82-4135-877b-37f404a8e372",
   "metadata": {},
   "outputs": [
    {
     "data": {
      "text/plain": [
       "['DevNatives ',\n",
       " ' Islamabad, Islāmābād, Pakistan (Hybrid)  \\n1 week ago\\n\\n ',\n",
       " ' 51 applicants']"
      ]
     },
     "execution_count": 38,
     "metadata": {},
     "output_type": "execute_result"
    }
   ],
   "source": [
    "df['Job Info'].iloc[3].split('·')"
   ]
  },
  {
   "cell_type": "code",
   "execution_count": 39,
   "id": "90315da8-08e7-41b3-a5cd-71d88916d33e",
   "metadata": {},
   "outputs": [
    {
     "data": {
      "text/plain": [
       "Job Title    258\n",
       "Job Info     258\n",
       "Job Type     272\n",
       "Job Link       0\n",
       "employees    273\n",
       "Job ID         0\n",
       "dtype: int64"
      ]
     },
     "execution_count": 39,
     "metadata": {},
     "output_type": "execute_result"
    }
   ],
   "source": [
    "df.isnull().sum()"
   ]
  },
  {
   "cell_type": "code",
   "execution_count": 40,
   "id": "3ea8928d-e84d-49c4-bdb6-cc789a858f47",
   "metadata": {},
   "outputs": [
    {
     "data": {
      "text/html": [
       "<div>\n",
       "<style scoped>\n",
       "    .dataframe tbody tr th:only-of-type {\n",
       "        vertical-align: middle;\n",
       "    }\n",
       "\n",
       "    .dataframe tbody tr th {\n",
       "        vertical-align: top;\n",
       "    }\n",
       "\n",
       "    .dataframe thead th {\n",
       "        text-align: right;\n",
       "    }\n",
       "</style>\n",
       "<table border=\"1\" class=\"dataframe\">\n",
       "  <thead>\n",
       "    <tr style=\"text-align: right;\">\n",
       "      <th></th>\n",
       "      <th>Job Title</th>\n",
       "      <th>Job Info</th>\n",
       "      <th>Job Type</th>\n",
       "      <th>Job Link</th>\n",
       "      <th>employees</th>\n",
       "      <th>Job ID</th>\n",
       "    </tr>\n",
       "  </thead>\n",
       "  <tbody>\n",
       "    <tr>\n",
       "      <th>0</th>\n",
       "      <td>LinkedIn Data Extractor</td>\n",
       "      <td>EcomFleet · Pakistan (Remote)  \\n1 week ago</td>\n",
       "      <td>Full-time</td>\n",
       "      <td>https://www.linkedin.com/jobs/view/3727054368</td>\n",
       "      <td>11-50 employees</td>\n",
       "      <td>3727054368</td>\n",
       "    </tr>\n",
       "    <tr>\n",
       "      <th>1</th>\n",
       "      <td>It Management Intern</td>\n",
       "      <td>Digicon Valley · Lahore, Punjab, Pakistan (On-...</td>\n",
       "      <td>Full-time</td>\n",
       "      <td>https://www.linkedin.com/jobs/view/3723395858</td>\n",
       "      <td>11-50 employees</td>\n",
       "      <td>3723395858</td>\n",
       "    </tr>\n",
       "    <tr>\n",
       "      <th>2</th>\n",
       "      <td>SQL Database Developer</td>\n",
       "      <td>Murkez Technologies · Lahore, Punjab, Pakistan...</td>\n",
       "      <td>Full-time</td>\n",
       "      <td>https://www.linkedin.com/jobs/view/3727034665</td>\n",
       "      <td>51-200 employees</td>\n",
       "      <td>3727034665</td>\n",
       "    </tr>\n",
       "    <tr>\n",
       "      <th>3</th>\n",
       "      <td>Business Intelligence Developer</td>\n",
       "      <td>DevNatives · Islamabad, Islāmābād, Pakistan (H...</td>\n",
       "      <td>Full-time</td>\n",
       "      <td>https://www.linkedin.com/jobs/view/3727029273</td>\n",
       "      <td>11-50 employees</td>\n",
       "      <td>3727029273</td>\n",
       "    </tr>\n",
       "    <tr>\n",
       "      <th>4</th>\n",
       "      <td>Web Developer - Internship</td>\n",
       "      <td>ItCreaters · Lahore, Punjab, Pakistan (On-site...</td>\n",
       "      <td>Full-time</td>\n",
       "      <td>https://www.linkedin.com/jobs/view/3727034696</td>\n",
       "      <td>Mobeen Naqvi is hiring for this job</td>\n",
       "      <td>3727034696</td>\n",
       "    </tr>\n",
       "    <tr>\n",
       "      <th>...</th>\n",
       "      <td>...</td>\n",
       "      <td>...</td>\n",
       "      <td>...</td>\n",
       "      <td>...</td>\n",
       "      <td>...</td>\n",
       "      <td>...</td>\n",
       "    </tr>\n",
       "    <tr>\n",
       "      <th>15869</th>\n",
       "      <td>Unity Developer</td>\n",
       "      <td>Codiea.io · Bahawalpur, Punjab, Pakistan  \\n1 ...</td>\n",
       "      <td>On-site\\n\\n \\nFull-time</td>\n",
       "      <td>https://www.linkedin.com/jobs/view/3767951886</td>\n",
       "      <td>1-10 employees</td>\n",
       "      <td>3767951886</td>\n",
       "    </tr>\n",
       "    <tr>\n",
       "      <th>15870</th>\n",
       "      <td>Manager – Growth Chat &amp; SMS (Digital Marketing)</td>\n",
       "      <td>Bank Alfalah Limited · Karāchi, Sindh, Pakista...</td>\n",
       "      <td>On-site\\n\\n \\nFull-time\\n\\n \\nMid-Senior level</td>\n",
       "      <td>https://www.linkedin.com/jobs/view/3767355025</td>\n",
       "      <td>5,001-10,000 employees · Banking</td>\n",
       "      <td>3767355025</td>\n",
       "    </tr>\n",
       "    <tr>\n",
       "      <th>15872</th>\n",
       "      <td>Information Security Specialist</td>\n",
       "      <td>DPL · Islamabad, Islāmābād, Pakistan  \\n1 week...</td>\n",
       "      <td>On-site\\n\\n \\nFull-time\\n\\n \\nEntry level</td>\n",
       "      <td>https://www.linkedin.com/jobs/view/3772530977</td>\n",
       "      <td>51-200 employees · IT Services and IT Consulting</td>\n",
       "      <td>3772530977</td>\n",
       "    </tr>\n",
       "    <tr>\n",
       "      <th>15873</th>\n",
       "      <td>FUNCTIONAL CONSULTANT ORACLE FUSION - HCM</td>\n",
       "      <td>Level 3 BOS · Karachi Division, Sindh, Pakista...</td>\n",
       "      <td>On-site\\n\\n \\nFull-time\\n\\n \\nMid-Senior level</td>\n",
       "      <td>https://www.linkedin.com/jobs/view/3771943212</td>\n",
       "      <td>201-500 employees · Outsourcing and Offshoring...</td>\n",
       "      <td>3771943212</td>\n",
       "    </tr>\n",
       "    <tr>\n",
       "      <th>15874</th>\n",
       "      <td>Community Associate</td>\n",
       "      <td>The Hive · Karachi Division, Sindh, Pakistan  ...</td>\n",
       "      <td>On-site\\n\\n \\nFull-time</td>\n",
       "      <td>https://www.linkedin.com/jobs/view/3767944844</td>\n",
       "      <td>11-50 employees</td>\n",
       "      <td>3767944844</td>\n",
       "    </tr>\n",
       "  </tbody>\n",
       "</table>\n",
       "<p>11737 rows × 6 columns</p>\n",
       "</div>"
      ],
      "text/plain": [
       "                                             Job Title  \\\n",
       "0                              LinkedIn Data Extractor   \n",
       "1                                 It Management Intern   \n",
       "2                               SQL Database Developer   \n",
       "3                      Business Intelligence Developer   \n",
       "4                           Web Developer - Internship   \n",
       "...                                                ...   \n",
       "15869                                  Unity Developer   \n",
       "15870  Manager – Growth Chat & SMS (Digital Marketing)   \n",
       "15872                  Information Security Specialist   \n",
       "15873        FUNCTIONAL CONSULTANT ORACLE FUSION - HCM   \n",
       "15874                              Community Associate   \n",
       "\n",
       "                                                Job Info  \\\n",
       "0            EcomFleet · Pakistan (Remote)  \\n1 week ago   \n",
       "1      Digicon Valley · Lahore, Punjab, Pakistan (On-...   \n",
       "2      Murkez Technologies · Lahore, Punjab, Pakistan...   \n",
       "3      DevNatives · Islamabad, Islāmābād, Pakistan (H...   \n",
       "4      ItCreaters · Lahore, Punjab, Pakistan (On-site...   \n",
       "...                                                  ...   \n",
       "15869  Codiea.io · Bahawalpur, Punjab, Pakistan  \\n1 ...   \n",
       "15870  Bank Alfalah Limited · Karāchi, Sindh, Pakista...   \n",
       "15872  DPL · Islamabad, Islāmābād, Pakistan  \\n1 week...   \n",
       "15873  Level 3 BOS · Karachi Division, Sindh, Pakista...   \n",
       "15874  The Hive · Karachi Division, Sindh, Pakistan  ...   \n",
       "\n",
       "                                             Job Type  \\\n",
       "0                                           Full-time   \n",
       "1                                           Full-time   \n",
       "2                                           Full-time   \n",
       "3                                           Full-time   \n",
       "4                                           Full-time   \n",
       "...                                               ...   \n",
       "15869                         On-site\\n\\n \\nFull-time   \n",
       "15870  On-site\\n\\n \\nFull-time\\n\\n \\nMid-Senior level   \n",
       "15872       On-site\\n\\n \\nFull-time\\n\\n \\nEntry level   \n",
       "15873  On-site\\n\\n \\nFull-time\\n\\n \\nMid-Senior level   \n",
       "15874                         On-site\\n\\n \\nFull-time   \n",
       "\n",
       "                                            Job Link  \\\n",
       "0      https://www.linkedin.com/jobs/view/3727054368   \n",
       "1      https://www.linkedin.com/jobs/view/3723395858   \n",
       "2      https://www.linkedin.com/jobs/view/3727034665   \n",
       "3      https://www.linkedin.com/jobs/view/3727029273   \n",
       "4      https://www.linkedin.com/jobs/view/3727034696   \n",
       "...                                              ...   \n",
       "15869  https://www.linkedin.com/jobs/view/3767951886   \n",
       "15870  https://www.linkedin.com/jobs/view/3767355025   \n",
       "15872  https://www.linkedin.com/jobs/view/3772530977   \n",
       "15873  https://www.linkedin.com/jobs/view/3771943212   \n",
       "15874  https://www.linkedin.com/jobs/view/3767944844   \n",
       "\n",
       "                                               employees      Job ID  \n",
       "0                                        11-50 employees  3727054368  \n",
       "1                                        11-50 employees  3723395858  \n",
       "2                                       51-200 employees  3727034665  \n",
       "3                                        11-50 employees  3727029273  \n",
       "4                    Mobeen Naqvi is hiring for this job  3727034696  \n",
       "...                                                  ...         ...  \n",
       "15869                                     1-10 employees  3767951886  \n",
       "15870                   5,001-10,000 employees · Banking  3767355025  \n",
       "15872   51-200 employees · IT Services and IT Consulting  3772530977  \n",
       "15873  201-500 employees · Outsourcing and Offshoring...  3771943212  \n",
       "15874                                    11-50 employees  3767944844  \n",
       "\n",
       "[11737 rows x 6 columns]"
      ]
     },
     "execution_count": 40,
     "metadata": {},
     "output_type": "execute_result"
    }
   ],
   "source": [
    "df.dropna()"
   ]
  },
  {
   "cell_type": "code",
   "execution_count": 41,
   "id": "f0373cf5-0f10-41c1-bf3f-b4b42f92b116",
   "metadata": {},
   "outputs": [
    {
     "data": {
      "text/plain": [
       "11958"
      ]
     },
     "execution_count": 41,
     "metadata": {},
     "output_type": "execute_result"
    }
   ],
   "source": [
    "len(df)-52"
   ]
  },
  {
   "cell_type": "code",
   "execution_count": 42,
   "id": "b1d0f086-330a-419f-8c31-bafc2c4a8685",
   "metadata": {},
   "outputs": [
    {
     "name": "stderr",
     "output_type": "stream",
     "text": [
      "C:\\Users\\BILAL.COM\\AppData\\Local\\Temp\\ipykernel_6020\\3641532845.py:3: SettingWithCopyWarning: \n",
      "A value is trying to be set on a copy of a slice from a DataFrame\n",
      "\n",
      "See the caveats in the documentation: https://pandas.pydata.org/pandas-docs/stable/user_guide/indexing.html#returning-a-view-versus-a-copy\n",
      "  df.dropna(inplace=True)\n"
     ]
    }
   ],
   "source": [
    "# df.dropna(subset = ['Job Title'], inplace=True)\n",
    "#or\n",
    "df.dropna(inplace=True)"
   ]
  },
  {
   "cell_type": "code",
   "execution_count": 43,
   "id": "cfdb3888-83ef-4836-87bd-8d16fc81cc7a",
   "metadata": {},
   "outputs": [
    {
     "data": {
      "text/html": [
       "<div>\n",
       "<style scoped>\n",
       "    .dataframe tbody tr th:only-of-type {\n",
       "        vertical-align: middle;\n",
       "    }\n",
       "\n",
       "    .dataframe tbody tr th {\n",
       "        vertical-align: top;\n",
       "    }\n",
       "\n",
       "    .dataframe thead th {\n",
       "        text-align: right;\n",
       "    }\n",
       "</style>\n",
       "<table border=\"1\" class=\"dataframe\">\n",
       "  <thead>\n",
       "    <tr style=\"text-align: right;\">\n",
       "      <th></th>\n",
       "      <th>Job Title</th>\n",
       "      <th>Job Info</th>\n",
       "      <th>Job Type</th>\n",
       "      <th>Job Link</th>\n",
       "      <th>employees</th>\n",
       "      <th>Job ID</th>\n",
       "    </tr>\n",
       "  </thead>\n",
       "  <tbody>\n",
       "    <tr>\n",
       "      <th>0</th>\n",
       "      <td>LinkedIn Data Extractor</td>\n",
       "      <td>EcomFleet · Pakistan (Remote)  \\n1 week ago</td>\n",
       "      <td>Full-time</td>\n",
       "      <td>https://www.linkedin.com/jobs/view/3727054368</td>\n",
       "      <td>11-50 employees</td>\n",
       "      <td>3727054368</td>\n",
       "    </tr>\n",
       "    <tr>\n",
       "      <th>1</th>\n",
       "      <td>It Management Intern</td>\n",
       "      <td>Digicon Valley · Lahore, Punjab, Pakistan (On-...</td>\n",
       "      <td>Full-time</td>\n",
       "      <td>https://www.linkedin.com/jobs/view/3723395858</td>\n",
       "      <td>11-50 employees</td>\n",
       "      <td>3723395858</td>\n",
       "    </tr>\n",
       "    <tr>\n",
       "      <th>2</th>\n",
       "      <td>SQL Database Developer</td>\n",
       "      <td>Murkez Technologies · Lahore, Punjab, Pakistan...</td>\n",
       "      <td>Full-time</td>\n",
       "      <td>https://www.linkedin.com/jobs/view/3727034665</td>\n",
       "      <td>51-200 employees</td>\n",
       "      <td>3727034665</td>\n",
       "    </tr>\n",
       "    <tr>\n",
       "      <th>3</th>\n",
       "      <td>Business Intelligence Developer</td>\n",
       "      <td>DevNatives · Islamabad, Islāmābād, Pakistan (H...</td>\n",
       "      <td>Full-time</td>\n",
       "      <td>https://www.linkedin.com/jobs/view/3727029273</td>\n",
       "      <td>11-50 employees</td>\n",
       "      <td>3727029273</td>\n",
       "    </tr>\n",
       "    <tr>\n",
       "      <th>4</th>\n",
       "      <td>Web Developer - Internship</td>\n",
       "      <td>ItCreaters · Lahore, Punjab, Pakistan (On-site...</td>\n",
       "      <td>Full-time</td>\n",
       "      <td>https://www.linkedin.com/jobs/view/3727034696</td>\n",
       "      <td>Mobeen Naqvi is hiring for this job</td>\n",
       "      <td>3727034696</td>\n",
       "    </tr>\n",
       "    <tr>\n",
       "      <th>...</th>\n",
       "      <td>...</td>\n",
       "      <td>...</td>\n",
       "      <td>...</td>\n",
       "      <td>...</td>\n",
       "      <td>...</td>\n",
       "      <td>...</td>\n",
       "    </tr>\n",
       "    <tr>\n",
       "      <th>15869</th>\n",
       "      <td>Unity Developer</td>\n",
       "      <td>Codiea.io · Bahawalpur, Punjab, Pakistan  \\n1 ...</td>\n",
       "      <td>On-site\\n\\n \\nFull-time</td>\n",
       "      <td>https://www.linkedin.com/jobs/view/3767951886</td>\n",
       "      <td>1-10 employees</td>\n",
       "      <td>3767951886</td>\n",
       "    </tr>\n",
       "    <tr>\n",
       "      <th>15870</th>\n",
       "      <td>Manager – Growth Chat &amp; SMS (Digital Marketing)</td>\n",
       "      <td>Bank Alfalah Limited · Karāchi, Sindh, Pakista...</td>\n",
       "      <td>On-site\\n\\n \\nFull-time\\n\\n \\nMid-Senior level</td>\n",
       "      <td>https://www.linkedin.com/jobs/view/3767355025</td>\n",
       "      <td>5,001-10,000 employees · Banking</td>\n",
       "      <td>3767355025</td>\n",
       "    </tr>\n",
       "    <tr>\n",
       "      <th>15872</th>\n",
       "      <td>Information Security Specialist</td>\n",
       "      <td>DPL · Islamabad, Islāmābād, Pakistan  \\n1 week...</td>\n",
       "      <td>On-site\\n\\n \\nFull-time\\n\\n \\nEntry level</td>\n",
       "      <td>https://www.linkedin.com/jobs/view/3772530977</td>\n",
       "      <td>51-200 employees · IT Services and IT Consulting</td>\n",
       "      <td>3772530977</td>\n",
       "    </tr>\n",
       "    <tr>\n",
       "      <th>15873</th>\n",
       "      <td>FUNCTIONAL CONSULTANT ORACLE FUSION - HCM</td>\n",
       "      <td>Level 3 BOS · Karachi Division, Sindh, Pakista...</td>\n",
       "      <td>On-site\\n\\n \\nFull-time\\n\\n \\nMid-Senior level</td>\n",
       "      <td>https://www.linkedin.com/jobs/view/3771943212</td>\n",
       "      <td>201-500 employees · Outsourcing and Offshoring...</td>\n",
       "      <td>3771943212</td>\n",
       "    </tr>\n",
       "    <tr>\n",
       "      <th>15874</th>\n",
       "      <td>Community Associate</td>\n",
       "      <td>The Hive · Karachi Division, Sindh, Pakistan  ...</td>\n",
       "      <td>On-site\\n\\n \\nFull-time</td>\n",
       "      <td>https://www.linkedin.com/jobs/view/3767944844</td>\n",
       "      <td>11-50 employees</td>\n",
       "      <td>3767944844</td>\n",
       "    </tr>\n",
       "  </tbody>\n",
       "</table>\n",
       "<p>11737 rows × 6 columns</p>\n",
       "</div>"
      ],
      "text/plain": [
       "                                             Job Title  \\\n",
       "0                              LinkedIn Data Extractor   \n",
       "1                                 It Management Intern   \n",
       "2                               SQL Database Developer   \n",
       "3                      Business Intelligence Developer   \n",
       "4                           Web Developer - Internship   \n",
       "...                                                ...   \n",
       "15869                                  Unity Developer   \n",
       "15870  Manager – Growth Chat & SMS (Digital Marketing)   \n",
       "15872                  Information Security Specialist   \n",
       "15873        FUNCTIONAL CONSULTANT ORACLE FUSION - HCM   \n",
       "15874                              Community Associate   \n",
       "\n",
       "                                                Job Info  \\\n",
       "0            EcomFleet · Pakistan (Remote)  \\n1 week ago   \n",
       "1      Digicon Valley · Lahore, Punjab, Pakistan (On-...   \n",
       "2      Murkez Technologies · Lahore, Punjab, Pakistan...   \n",
       "3      DevNatives · Islamabad, Islāmābād, Pakistan (H...   \n",
       "4      ItCreaters · Lahore, Punjab, Pakistan (On-site...   \n",
       "...                                                  ...   \n",
       "15869  Codiea.io · Bahawalpur, Punjab, Pakistan  \\n1 ...   \n",
       "15870  Bank Alfalah Limited · Karāchi, Sindh, Pakista...   \n",
       "15872  DPL · Islamabad, Islāmābād, Pakistan  \\n1 week...   \n",
       "15873  Level 3 BOS · Karachi Division, Sindh, Pakista...   \n",
       "15874  The Hive · Karachi Division, Sindh, Pakistan  ...   \n",
       "\n",
       "                                             Job Type  \\\n",
       "0                                           Full-time   \n",
       "1                                           Full-time   \n",
       "2                                           Full-time   \n",
       "3                                           Full-time   \n",
       "4                                           Full-time   \n",
       "...                                               ...   \n",
       "15869                         On-site\\n\\n \\nFull-time   \n",
       "15870  On-site\\n\\n \\nFull-time\\n\\n \\nMid-Senior level   \n",
       "15872       On-site\\n\\n \\nFull-time\\n\\n \\nEntry level   \n",
       "15873  On-site\\n\\n \\nFull-time\\n\\n \\nMid-Senior level   \n",
       "15874                         On-site\\n\\n \\nFull-time   \n",
       "\n",
       "                                            Job Link  \\\n",
       "0      https://www.linkedin.com/jobs/view/3727054368   \n",
       "1      https://www.linkedin.com/jobs/view/3723395858   \n",
       "2      https://www.linkedin.com/jobs/view/3727034665   \n",
       "3      https://www.linkedin.com/jobs/view/3727029273   \n",
       "4      https://www.linkedin.com/jobs/view/3727034696   \n",
       "...                                              ...   \n",
       "15869  https://www.linkedin.com/jobs/view/3767951886   \n",
       "15870  https://www.linkedin.com/jobs/view/3767355025   \n",
       "15872  https://www.linkedin.com/jobs/view/3772530977   \n",
       "15873  https://www.linkedin.com/jobs/view/3771943212   \n",
       "15874  https://www.linkedin.com/jobs/view/3767944844   \n",
       "\n",
       "                                               employees      Job ID  \n",
       "0                                        11-50 employees  3727054368  \n",
       "1                                        11-50 employees  3723395858  \n",
       "2                                       51-200 employees  3727034665  \n",
       "3                                        11-50 employees  3727029273  \n",
       "4                    Mobeen Naqvi is hiring for this job  3727034696  \n",
       "...                                                  ...         ...  \n",
       "15869                                     1-10 employees  3767951886  \n",
       "15870                   5,001-10,000 employees · Banking  3767355025  \n",
       "15872   51-200 employees · IT Services and IT Consulting  3772530977  \n",
       "15873  201-500 employees · Outsourcing and Offshoring...  3771943212  \n",
       "15874                                    11-50 employees  3767944844  \n",
       "\n",
       "[11737 rows x 6 columns]"
      ]
     },
     "execution_count": 43,
     "metadata": {},
     "output_type": "execute_result"
    }
   ],
   "source": [
    "df"
   ]
  },
  {
   "cell_type": "code",
   "execution_count": 44,
   "id": "408a18d1-9de3-444d-97ea-9b522d1b86c6",
   "metadata": {},
   "outputs": [
    {
     "data": {
      "text/plain": [
       "3571"
      ]
     },
     "execution_count": 44,
     "metadata": {},
     "output_type": "execute_result"
    }
   ],
   "source": [
    "3623-52"
   ]
  },
  {
   "cell_type": "code",
   "execution_count": 45,
   "id": "cf196490-b9e0-494b-9e2b-44f37ae873f9",
   "metadata": {},
   "outputs": [
    {
     "data": {
      "text/plain": [
       "Job Title    0\n",
       "Job Info     0\n",
       "Job Type     0\n",
       "Job Link     0\n",
       "employees    0\n",
       "Job ID       0\n",
       "dtype: int64"
      ]
     },
     "execution_count": 45,
     "metadata": {},
     "output_type": "execute_result"
    }
   ],
   "source": [
    "df.isnull().sum()"
   ]
  },
  {
   "cell_type": "code",
   "execution_count": 46,
   "id": "89dfbf3f-980b-4ce8-8b16-f516226ec577",
   "metadata": {},
   "outputs": [
    {
     "name": "stderr",
     "output_type": "stream",
     "text": [
      "C:\\Users\\BILAL.COM\\AppData\\Local\\Temp\\ipykernel_6020\\4282166980.py:1: SettingWithCopyWarning: \n",
      "A value is trying to be set on a copy of a slice from a DataFrame.\n",
      "Try using .loc[row_indexer,col_indexer] = value instead\n",
      "\n",
      "See the caveats in the documentation: https://pandas.pydata.org/pandas-docs/stable/user_guide/indexing.html#returning-a-view-versus-a-copy\n",
      "  df['company']=df['Job Info'].apply(lambda x:x.split('·')[0])\n"
     ]
    }
   ],
   "source": [
    "df['company']=df['Job Info'].apply(lambda x:x.split('·')[0])"
   ]
  },
  {
   "cell_type": "code",
   "execution_count": 47,
   "id": "10ae8ac0-a479-43dd-9471-9a571c357929",
   "metadata": {},
   "outputs": [
    {
     "data": {
      "text/plain": [
       "array(['EcomFleet ', 'Digicon Valley ', 'Murkez Technologies ', ...,\n",
       "       'EComia Global ', 'BUZZMAX.CA ', 'Codiea.io '], dtype=object)"
      ]
     },
     "execution_count": 47,
     "metadata": {},
     "output_type": "execute_result"
    }
   ],
   "source": [
    "df['company'].unique()"
   ]
  },
  {
   "cell_type": "code",
   "execution_count": 48,
   "id": "8f5a511e-f87a-43fc-b4ef-54a39e2e1420",
   "metadata": {},
   "outputs": [
    {
     "data": {
      "text/plain": [
       "4435"
      ]
     },
     "execution_count": 48,
     "metadata": {},
     "output_type": "execute_result"
    }
   ],
   "source": [
    "len(df['company'].unique())"
   ]
  },
  {
   "cell_type": "code",
   "execution_count": 49,
   "id": "3fabbfff-80fe-4cc0-937a-e8bead185857",
   "metadata": {},
   "outputs": [
    {
     "data": {
      "text/plain": [
       "company\n",
       "Crossover                                   848\n",
       "Zameen.com                                  252\n",
       "Turing                                      223\n",
       "People (Professional Employers Pvt Ltd)     143\n",
       "Zones IT Solutions                          116\n",
       "                                           ... \n",
       "Smart IT Solutions                            1\n",
       "Al Falah Chemicals                            1\n",
       "Office Automation Group                       1\n",
       "Jana.Pk - Travel & Tour Services              1\n",
       "Codiea.io                                     1\n",
       "Name: count, Length: 4435, dtype: int64"
      ]
     },
     "execution_count": 49,
     "metadata": {},
     "output_type": "execute_result"
    }
   ],
   "source": [
    "df['company'].value_counts()"
   ]
  },
  {
   "cell_type": "code",
   "execution_count": 50,
   "id": "70ebe4bb-6551-4a1b-97da-83ed25279887",
   "metadata": {},
   "outputs": [
    {
     "data": {
      "text/plain": [
       "company\n",
       "Crossover                                         848\n",
       "Zameen.com                                        252\n",
       "Turing                                            223\n",
       "People (Professional Employers Pvt Ltd)           143\n",
       "Zones IT Solutions                                116\n",
       "Afiniti                                           104\n",
       "Jazz                                              101\n",
       "Times Consultant (Pvt.) Ltd.                       88\n",
       "Daraz                                              79\n",
       "Telenor                                            70\n",
       "HR Ways - Hiring Tech Talent                       67\n",
       "The Indus Hospital                                 66\n",
       "CureMD                                             66\n",
       "Motive                                             65\n",
       "PTCL.Official                                      59\n",
       "Kamayi                                             57\n",
       "BAT                                                56\n",
       "K-Electric                                         49\n",
       "Dubizzle Labs                                      47\n",
       "EY                                                 46\n",
       "GSK                                                44\n",
       "S&P Global                                         43\n",
       "TCP Software                                       42\n",
       "Careem                                             42\n",
       "Contour Software                                   40\n",
       "Talent Pal                                         39\n",
       "Sui Southern Gas Company Limited                   38\n",
       "Teradata                                           37\n",
       "Mashreq                                            37\n",
       "Human Resource Solutions International - HRSI      35\n",
       "Name: count, dtype: int64"
      ]
     },
     "execution_count": 50,
     "metadata": {},
     "output_type": "execute_result"
    }
   ],
   "source": [
    "df['company'].value_counts()[:30]"
   ]
  },
  {
   "cell_type": "code",
   "execution_count": 51,
   "id": "38f3d426-3c2d-409d-bcdf-bc5bc2f68558",
   "metadata": {},
   "outputs": [
    {
     "data": {
      "text/plain": [
       "' Islamabad, Islāmābād, Pakistan (Hybrid)  \\n1 week ago\\n\\n '"
      ]
     },
     "execution_count": 51,
     "metadata": {},
     "output_type": "execute_result"
    }
   ],
   "source": [
    "df['Job Info'].iloc[3].split('·')[1]"
   ]
  },
  {
   "cell_type": "code",
   "execution_count": 52,
   "id": "5f333076-061c-404e-9476-4b50be2be44f",
   "metadata": {},
   "outputs": [
    {
     "data": {
      "text/plain": [
       "'Islamabad,'"
      ]
     },
     "execution_count": 52,
     "metadata": {},
     "output_type": "execute_result"
    }
   ],
   "source": [
    "df['Job Info'].iloc[3].split('·')[1].split()[0]"
   ]
  },
  {
   "cell_type": "code",
   "execution_count": 53,
   "id": "98438ffc-f9d7-4732-82a0-cec4e0d22815",
   "metadata": {},
   "outputs": [
    {
     "data": {
      "text/plain": [
       "'Islamabad'"
      ]
     },
     "execution_count": 53,
     "metadata": {},
     "output_type": "execute_result"
    }
   ],
   "source": [
    "df['Job Info'].iloc[3].split('·')[1].split()[0].strip(',')"
   ]
  },
  {
   "cell_type": "code",
   "execution_count": 54,
   "id": "b5177d93-3401-4ae1-a571-dc6fc752896a",
   "metadata": {},
   "outputs": [
    {
     "name": "stderr",
     "output_type": "stream",
     "text": [
      "C:\\Users\\BILAL.COM\\AppData\\Local\\Temp\\ipykernel_6020\\4167284413.py:1: SettingWithCopyWarning: \n",
      "A value is trying to be set on a copy of a slice from a DataFrame.\n",
      "Try using .loc[row_indexer,col_indexer] = value instead\n",
      "\n",
      "See the caveats in the documentation: https://pandas.pydata.org/pandas-docs/stable/user_guide/indexing.html#returning-a-view-versus-a-copy\n",
      "  df['location']=df['Job Info'].apply(lambda x:x.split('·')[1].split()[0].strip(','))\n"
     ]
    }
   ],
   "source": [
    "df['location']=df['Job Info'].apply(lambda x:x.split('·')[1].split()[0].strip(','))"
   ]
  },
  {
   "cell_type": "code",
   "execution_count": 55,
   "id": "4f31fe70-a6fc-487e-a4b4-5f26745e27f1",
   "metadata": {},
   "outputs": [
    {
     "data": {
      "text/plain": [
       "0          Pakistan\n",
       "1            Lahore\n",
       "2            Lahore\n",
       "3         Islamabad\n",
       "4            Lahore\n",
       "            ...    \n",
       "15869    Bahawalpur\n",
       "15870       Karāchi\n",
       "15872     Islamabad\n",
       "15873       Karachi\n",
       "15874       Karachi\n",
       "Name: location, Length: 11737, dtype: object"
      ]
     },
     "execution_count": 55,
     "metadata": {},
     "output_type": "execute_result"
    }
   ],
   "source": [
    "df['location']"
   ]
  },
  {
   "cell_type": "code",
   "execution_count": 56,
   "id": "01220687-a39a-4b54-bb4c-371838c33919",
   "metadata": {},
   "outputs": [
    {
     "data": {
      "text/plain": [
       "array(['Pakistan', 'Lahore', 'Islamabad', 'Karāchi', 'Peshawar',\n",
       "       'Islāmābād', 'Rawalpindi', 'Multan', 'Karachi', 'Hyderabad',\n",
       "       'Mirpur', 'Kharian', 'Sindh', 'Faisalabad', 'Jhelum', 'Gujrāt',\n",
       "       'Korangi', 'Bahawalpur', 'Gulshan', 'Gujranwala', 'Sukkur',\n",
       "       'Punjab', 'Shekhūpura', 'Sargodha', 'Wazirabad', 'Mānsehra',\n",
       "       'Sialkot', 'Chakwāl', 'Muzaffargarh', 'Nawabshah', 'Mardān',\n",
       "       'Gujrat', 'Dera', 'Sāhīwāl', 'Jhang', 'Sahiwal', 'Quetta',\n",
       "       'Vienna', 'Rahimyar', 'Milan', 'Lodhran', 'South', 'Zhob',\n",
       "       'Jamshoro', 'Khyber', 'New', 'Rakhni', 'Taxila', 'APAC', 'Azad',\n",
       "       'Toba', 'Thatta', 'Jarānwāla', 'Mīrpur', 'Larkana', 'Pasrur',\n",
       "       'Sarai', 'Panjgur', 'Baloch', 'Attock', 'Rahim', 'Ratodero', 'APJ',\n",
       "       'Chakwal', 'İzmir', 'Miān', 'Battagram', 'Harīpur', 'Naushahro',\n",
       "       'Khuzdar', 'Kasur', 'Abbottabad', 'Malir', 'Vehari', 'Kahuta',\n",
       "       'Badin', 'Thal', 'Landhi', 'Shikarpur', 'Bhakkar', 'Bahrain',\n",
       "       'Metro', 'Kohāt', 'Okāra', 'Bahawalnagar', 'Shergarh', 'Chaman',\n",
       "       'Bin', 'Sibi', 'Bagar', 'Kabirwala', 'Kasūr', 'Mehmood', 'Bahadar',\n",
       "       'Fazilpur', 'Qasba', 'Mall', 'Kot', 'Haripur', 'Parkersburg',\n",
       "       'Narowal', 'India', 'Ahmadpur', 'Naya', 'Muzaffarabad', 'Mandi',\n",
       "       'Clifton', 'Okara', 'More', 'Dajal', 'Torwarsak', 'Jacobabad',\n",
       "       'Haroonabad', 'Johar', 'Renala', 'Kampala', 'Mardan', 'Pakpattan',\n",
       "       'Khānewāl', 'Pattoki', 'Khushāb', 'Mianwali', 'Hāsilpur',\n",
       "       'Mingāora', 'Latifabad', 'MENA', 'Swabi', 'Gilgit-Baltistan',\n",
       "       'Turkey', 'Dubai', 'Akora', 'Abbottābād', 'Hangu', 'Umarkot',\n",
       "       'Khudian', 'Pak', 'Gurugram', 'Burewala', 'Banda', 'Skardu',\n",
       "       'Kandhkot', 'Rajanpur', 'Tribal', 'Daharki', 'Talagang', 'Pindi',\n",
       "       'Layyah', 'Sakrand', 'Sheikhupura'], dtype=object)"
      ]
     },
     "execution_count": 56,
     "metadata": {},
     "output_type": "execute_result"
    }
   ],
   "source": [
    "df['location'].unique()"
   ]
  },
  {
   "cell_type": "code",
   "execution_count": 57,
   "id": "4fc04b32-1737-4f10-b831-82ac969d7a7b",
   "metadata": {},
   "outputs": [
    {
     "data": {
      "text/plain": [
       "149"
      ]
     },
     "execution_count": 57,
     "metadata": {},
     "output_type": "execute_result"
    }
   ],
   "source": [
    "len(df['location'].unique())"
   ]
  },
  {
   "cell_type": "code",
   "execution_count": 58,
   "id": "a156504c-cd2f-4fd4-9863-485e57370a11",
   "metadata": {},
   "outputs": [
    {
     "data": {
      "text/html": [
       "<div>\n",
       "<style scoped>\n",
       "    .dataframe tbody tr th:only-of-type {\n",
       "        vertical-align: middle;\n",
       "    }\n",
       "\n",
       "    .dataframe tbody tr th {\n",
       "        vertical-align: top;\n",
       "    }\n",
       "\n",
       "    .dataframe thead th {\n",
       "        text-align: right;\n",
       "    }\n",
       "</style>\n",
       "<table border=\"1\" class=\"dataframe\">\n",
       "  <thead>\n",
       "    <tr style=\"text-align: right;\">\n",
       "      <th></th>\n",
       "      <th>Job Title</th>\n",
       "      <th>Job Info</th>\n",
       "      <th>Job Type</th>\n",
       "      <th>Job Link</th>\n",
       "      <th>employees</th>\n",
       "      <th>Job ID</th>\n",
       "      <th>company</th>\n",
       "      <th>location</th>\n",
       "    </tr>\n",
       "  </thead>\n",
       "  <tbody>\n",
       "    <tr>\n",
       "      <th>278</th>\n",
       "      <td>Sales Officer</td>\n",
       "      <td>Innovative Biscuits (Pvt.) Ltd · Mānsehra, Khy...</td>\n",
       "      <td>Full-time</td>\n",
       "      <td>https://www.linkedin.com/jobs/view/3727033027/...</td>\n",
       "      <td>501-1,000 employees</td>\n",
       "      <td>3727033027</td>\n",
       "      <td>Innovative Biscuits (Pvt.) Ltd</td>\n",
       "      <td>Mānsehra</td>\n",
       "    </tr>\n",
       "    <tr>\n",
       "      <th>7217</th>\n",
       "      <td>Area Sales Manager</td>\n",
       "      <td>Telenor · Mānsehra, Khyber Pakhtunkhwa, Pakist...</td>\n",
       "      <td>On-site\\n\\n \\nFull-time\\n\\n \\nMid-Senior level</td>\n",
       "      <td>https://www.linkedin.com/jobs/view/3743114731</td>\n",
       "      <td>10,001+ employees · Telecommunications</td>\n",
       "      <td>3743114731</td>\n",
       "      <td>Telenor</td>\n",
       "      <td>Mānsehra</td>\n",
       "    </tr>\n",
       "    <tr>\n",
       "      <th>8227</th>\n",
       "      <td>Project Manager</td>\n",
       "      <td>Zhijarat Group of Companies · Mānsehra, Khyber...</td>\n",
       "      <td>On-site\\n\\n \\nFull-time</td>\n",
       "      <td>https://www.linkedin.com/jobs/view/3744232064</td>\n",
       "      <td>Muhammad Baseer is hiring for this job</td>\n",
       "      <td>3744232064</td>\n",
       "      <td>Zhijarat Group of Companies</td>\n",
       "      <td>Mānsehra</td>\n",
       "    </tr>\n",
       "    <tr>\n",
       "      <th>9374</th>\n",
       "      <td>Human Resources Manager</td>\n",
       "      <td>CPEC Project with Chinese Companies. · Mānsehr...</td>\n",
       "      <td>On-site\\n\\n \\nFull-time</td>\n",
       "      <td>https://www.linkedin.com/jobs/view/3746854365</td>\n",
       "      <td>Syed Saqlain Raza Gilani is hiring for this job</td>\n",
       "      <td>3746854365</td>\n",
       "      <td>CPEC Project with Chinese Companies.</td>\n",
       "      <td>Mānsehra</td>\n",
       "    </tr>\n",
       "  </tbody>\n",
       "</table>\n",
       "</div>"
      ],
      "text/plain": [
       "                    Job Title  \\\n",
       "278             Sales Officer   \n",
       "7217       Area Sales Manager   \n",
       "8227          Project Manager   \n",
       "9374  Human Resources Manager   \n",
       "\n",
       "                                               Job Info  \\\n",
       "278   Innovative Biscuits (Pvt.) Ltd · Mānsehra, Khy...   \n",
       "7217  Telenor · Mānsehra, Khyber Pakhtunkhwa, Pakist...   \n",
       "8227  Zhijarat Group of Companies · Mānsehra, Khyber...   \n",
       "9374  CPEC Project with Chinese Companies. · Mānsehr...   \n",
       "\n",
       "                                            Job Type  \\\n",
       "278                                        Full-time   \n",
       "7217  On-site\\n\\n \\nFull-time\\n\\n \\nMid-Senior level   \n",
       "8227                         On-site\\n\\n \\nFull-time   \n",
       "9374                         On-site\\n\\n \\nFull-time   \n",
       "\n",
       "                                               Job Link  \\\n",
       "278   https://www.linkedin.com/jobs/view/3727033027/...   \n",
       "7217      https://www.linkedin.com/jobs/view/3743114731   \n",
       "8227      https://www.linkedin.com/jobs/view/3744232064   \n",
       "9374      https://www.linkedin.com/jobs/view/3746854365   \n",
       "\n",
       "                                            employees      Job ID  \\\n",
       "278                               501-1,000 employees  3727033027   \n",
       "7217           10,001+ employees · Telecommunications  3743114731   \n",
       "8227           Muhammad Baseer is hiring for this job  3744232064   \n",
       "9374  Syed Saqlain Raza Gilani is hiring for this job  3746854365   \n",
       "\n",
       "                                    company  location  \n",
       "278         Innovative Biscuits (Pvt.) Ltd   Mānsehra  \n",
       "7217                               Telenor   Mānsehra  \n",
       "8227           Zhijarat Group of Companies   Mānsehra  \n",
       "9374  CPEC Project with Chinese Companies.   Mānsehra  "
      ]
     },
     "execution_count": 58,
     "metadata": {},
     "output_type": "execute_result"
    }
   ],
   "source": [
    "df[df['location']=='Mānsehra']"
   ]
  },
  {
   "cell_type": "code",
   "execution_count": 59,
   "id": "e9213936-bc16-4e1e-977c-ec94b1baa769",
   "metadata": {},
   "outputs": [
    {
     "data": {
      "text/plain": [
       "location\n",
       "Lahore          3842\n",
       "Karāchi         2274\n",
       "Islamabad       1725\n",
       "Pakistan         900\n",
       "Karachi          790\n",
       "                ... \n",
       "Sibi               1\n",
       "Bin                1\n",
       "Shergarh           1\n",
       "Bahawalnagar       1\n",
       "Sheikhupura        1\n",
       "Name: count, Length: 149, dtype: int64"
      ]
     },
     "execution_count": 59,
     "metadata": {},
     "output_type": "execute_result"
    }
   ],
   "source": [
    "df['location'].value_counts()"
   ]
  },
  {
   "cell_type": "code",
   "execution_count": 60,
   "id": "66160082-adaf-4ef6-b635-9708d5be50e1",
   "metadata": {},
   "outputs": [
    {
     "data": {
      "text/plain": [
       "location\n",
       "Lahore          3842\n",
       "Karāchi         2274\n",
       "Islamabad       1725\n",
       "Pakistan         900\n",
       "Karachi          790\n",
       "Rawalpindi       551\n",
       "Islāmābād        309\n",
       "Faisalabad       202\n",
       "Multan           124\n",
       "Peshawar         105\n",
       "Punjab            84\n",
       "Hyderabad         69\n",
       "Sialkot           60\n",
       "APAC              51\n",
       "Gujranwala        49\n",
       "APJ               38\n",
       "Quetta            37\n",
       "New               34\n",
       "Sindh             32\n",
       "South             30\n",
       "Bahawalpur        29\n",
       "Muzaffargarh      28\n",
       "Jhelum            22\n",
       "Gujrāt            21\n",
       "Sargodha          15\n",
       "Sukkur            14\n",
       "Rahim             13\n",
       "Jamshoro          12\n",
       "Umarkot           11\n",
       "Sahiwal           11\n",
       "Name: count, dtype: int64"
      ]
     },
     "execution_count": 60,
     "metadata": {},
     "output_type": "execute_result"
    }
   ],
   "source": [
    "df['location'].value_counts()[:30]"
   ]
  },
  {
   "cell_type": "code",
   "execution_count": 61,
   "id": "28f95a4f-ca20-40f0-a42b-71d4d881c833",
   "metadata": {},
   "outputs": [
    {
     "data": {
      "text/html": [
       "<div>\n",
       "<style scoped>\n",
       "    .dataframe tbody tr th:only-of-type {\n",
       "        vertical-align: middle;\n",
       "    }\n",
       "\n",
       "    .dataframe tbody tr th {\n",
       "        vertical-align: top;\n",
       "    }\n",
       "\n",
       "    .dataframe thead th {\n",
       "        text-align: right;\n",
       "    }\n",
       "</style>\n",
       "<table border=\"1\" class=\"dataframe\">\n",
       "  <thead>\n",
       "    <tr style=\"text-align: right;\">\n",
       "      <th></th>\n",
       "      <th>Job Title</th>\n",
       "      <th>Job Info</th>\n",
       "      <th>Job Type</th>\n",
       "      <th>Job Link</th>\n",
       "      <th>employees</th>\n",
       "      <th>Job ID</th>\n",
       "      <th>company</th>\n",
       "      <th>location</th>\n",
       "    </tr>\n",
       "  </thead>\n",
       "  <tbody>\n",
       "    <tr>\n",
       "      <th>1372</th>\n",
       "      <td>C++ Developer, Trilogy (Remote) - $200,000/yea...</td>\n",
       "      <td>Crossover  · New Karachi Town, Sindh, Pakistan...</td>\n",
       "      <td>Full-time · Mid-Senior level</td>\n",
       "      <td>https://www.linkedin.com/jobs/view/3715437982</td>\n",
       "      <td>5,001-10,000 employees · IT Services and IT Co...</td>\n",
       "      <td>3715437982</td>\n",
       "      <td>Crossover</td>\n",
       "      <td>New</td>\n",
       "    </tr>\n",
       "    <tr>\n",
       "      <th>1391</th>\n",
       "      <td>Senior Software Engineer, Trilogy (Remote) - $...</td>\n",
       "      <td>Crossover  · New Karachi Town, Sindh, Pakistan...</td>\n",
       "      <td>Full-time · Mid-Senior level</td>\n",
       "      <td>https://www.linkedin.com/jobs/view/3715442480</td>\n",
       "      <td>5,001-10,000 employees · IT Services and IT Co...</td>\n",
       "      <td>3715442480</td>\n",
       "      <td>Crossover</td>\n",
       "      <td>New</td>\n",
       "    </tr>\n",
       "    <tr>\n",
       "      <th>2623</th>\n",
       "      <td>Development Team Lead, Trilogy (Remote) - $100...</td>\n",
       "      <td>Crossover  · New Karachi Town, Sindh, Pakistan...</td>\n",
       "      <td>Full-time · Mid-Senior level</td>\n",
       "      <td>https://www.linkedin.com/jobs/view/3731968673</td>\n",
       "      <td>5,001-10,000 employees · IT Services and IT Co...</td>\n",
       "      <td>3731968673</td>\n",
       "      <td>Crossover</td>\n",
       "      <td>New</td>\n",
       "    </tr>\n",
       "    <tr>\n",
       "      <th>2624</th>\n",
       "      <td>Copywriter, gt.school (Remote) - $100,000/year...</td>\n",
       "      <td>Crossover  · New Karachi Town, Sindh, Pakistan...</td>\n",
       "      <td>Full-time · Associate</td>\n",
       "      <td>https://www.linkedin.com/jobs/view/3731972088</td>\n",
       "      <td>5,001-10,000 employees · IT Services and IT Co...</td>\n",
       "      <td>3731972088</td>\n",
       "      <td>Crossover</td>\n",
       "      <td>New</td>\n",
       "    </tr>\n",
       "    <tr>\n",
       "      <th>2625</th>\n",
       "      <td>Content Writer, gt.school (Remote) - $100,000/...</td>\n",
       "      <td>Crossover  · New Karachi Town, Sindh, Pakistan...</td>\n",
       "      <td>Full-time · Associate</td>\n",
       "      <td>https://www.linkedin.com/jobs/view/3731968656</td>\n",
       "      <td>5,001-10,000 employees · IT Services and IT Co...</td>\n",
       "      <td>3731968656</td>\n",
       "      <td>Crossover</td>\n",
       "      <td>New</td>\n",
       "    </tr>\n",
       "    <tr>\n",
       "      <th>2646</th>\n",
       "      <td>Senior Software Engineer, Trilogy (Remote) - $...</td>\n",
       "      <td>Crossover  · New Karachi Town, Sindh, Pakistan...</td>\n",
       "      <td>Full-time · Mid-Senior level</td>\n",
       "      <td>https://www.linkedin.com/jobs/view/3731975052</td>\n",
       "      <td>5,001-10,000 employees · IT Services and IT Co...</td>\n",
       "      <td>3731975052</td>\n",
       "      <td>Crossover</td>\n",
       "      <td>New</td>\n",
       "    </tr>\n",
       "    <tr>\n",
       "      <th>2647</th>\n",
       "      <td>Senior Principal Software Engineer, Trilogy (R...</td>\n",
       "      <td>Crossover  · New Karachi Town, Sindh, Pakistan...</td>\n",
       "      <td>Full-time · Mid-Senior level</td>\n",
       "      <td>https://www.linkedin.com/jobs/view/3731969505</td>\n",
       "      <td>5,001-10,000 employees · IT Services and IT Co...</td>\n",
       "      <td>3731969505</td>\n",
       "      <td>Crossover</td>\n",
       "      <td>New</td>\n",
       "    </tr>\n",
       "    <tr>\n",
       "      <th>2658</th>\n",
       "      <td>Full Stack Developer, Trilogy (Remote) - $100,...</td>\n",
       "      <td>Crossover  · New Karachi Town, Sindh, Pakistan...</td>\n",
       "      <td>Full-time · Mid-Senior level</td>\n",
       "      <td>https://www.linkedin.com/jobs/view/3731969280</td>\n",
       "      <td>5,001-10,000 employees · IT Services and IT Co...</td>\n",
       "      <td>3731969280</td>\n",
       "      <td>Crossover</td>\n",
       "      <td>New</td>\n",
       "    </tr>\n",
       "    <tr>\n",
       "      <th>3128</th>\n",
       "      <td>Technical Writer</td>\n",
       "      <td>HR World International (Pvt. Ltd) - Global Tec...</td>\n",
       "      <td>Full-time</td>\n",
       "      <td>https://www.linkedin.com/jobs/view/3727571469</td>\n",
       "      <td>51-200 employees</td>\n",
       "      <td>3727571469</td>\n",
       "      <td>HR World International (Pvt. Ltd) - Global Tec...</td>\n",
       "      <td>New</td>\n",
       "    </tr>\n",
       "    <tr>\n",
       "      <th>3700</th>\n",
       "      <td>Chief Executive Officer</td>\n",
       "      <td>IBRAHIM TEXTILE INDUSTRY  · New Karachi Town, ...</td>\n",
       "      <td>Full-time</td>\n",
       "      <td>https://www.linkedin.com/jobs/view/3734016007</td>\n",
       "      <td>Zaman Ashraf is hiring for this job</td>\n",
       "      <td>3734016007</td>\n",
       "      <td>IBRAHIM TEXTILE INDUSTRY</td>\n",
       "      <td>New</td>\n",
       "    </tr>\n",
       "    <tr>\n",
       "      <th>4123</th>\n",
       "      <td>Senior Software Architect, Trilogy (Remote) - ...</td>\n",
       "      <td>Crossover  · New Karachi Town, Sindh, Pakistan...</td>\n",
       "      <td>Remote\\n\\n \\nFull-time\\n\\n \\nMid-Senior level</td>\n",
       "      <td>https://www.linkedin.com/jobs/view/3731971268</td>\n",
       "      <td>5,001-10,000 employees · IT Services and IT Co...</td>\n",
       "      <td>3731971268</td>\n",
       "      <td>Crossover</td>\n",
       "      <td>New</td>\n",
       "    </tr>\n",
       "    <tr>\n",
       "      <th>6816</th>\n",
       "      <td>Head of Marketing, 2 Hour Learning (Remote) - ...</td>\n",
       "      <td>Crossover  · New Karachi Town, Sindh, Pakistan...</td>\n",
       "      <td>Remote\\n\\n \\nFull-time\\n\\n \\nDirector</td>\n",
       "      <td>https://www.linkedin.com/jobs/view/3741834601</td>\n",
       "      <td>5,001-10,000 employees · IT Services and IT Co...</td>\n",
       "      <td>3741834601</td>\n",
       "      <td>Crossover</td>\n",
       "      <td>New</td>\n",
       "    </tr>\n",
       "    <tr>\n",
       "      <th>6836</th>\n",
       "      <td>Senior Software Engineer, Trilogy (Remote) - $...</td>\n",
       "      <td>Crossover  · New Karachi Town, Sindh, Pakistan...</td>\n",
       "      <td>Remote\\n\\n \\nFull-time\\n\\n \\nMid-Senior level</td>\n",
       "      <td>https://www.linkedin.com/jobs/view/3741835367</td>\n",
       "      <td>5,001-10,000 employees · IT Services and IT Co...</td>\n",
       "      <td>3741835367</td>\n",
       "      <td>Crossover</td>\n",
       "      <td>New</td>\n",
       "    </tr>\n",
       "    <tr>\n",
       "      <th>6843</th>\n",
       "      <td>Vice President Product Marketing, 2 Hour Learn...</td>\n",
       "      <td>Crossover  · New Karachi Town, Sindh, Pakistan...</td>\n",
       "      <td>Remote\\n\\n \\nFull-time\\n\\n \\nDirector</td>\n",
       "      <td>https://www.linkedin.com/jobs/view/3741831795</td>\n",
       "      <td>5,001-10,000 employees · IT Services and IT Co...</td>\n",
       "      <td>3741831795</td>\n",
       "      <td>Crossover</td>\n",
       "      <td>New</td>\n",
       "    </tr>\n",
       "    <tr>\n",
       "      <th>6864</th>\n",
       "      <td>Lead Software Engineer, Trilogy (Remote) - $10...</td>\n",
       "      <td>Crossover  · New Karachi Town, Sindh, Pakistan...</td>\n",
       "      <td>Remote\\n\\n \\nFull-time\\n\\n \\nMid-Senior level</td>\n",
       "      <td>https://www.linkedin.com/jobs/view/3741834387</td>\n",
       "      <td>5,001-10,000 employees · IT Services and IT Co...</td>\n",
       "      <td>3741834387</td>\n",
       "      <td>Crossover</td>\n",
       "      <td>New</td>\n",
       "    </tr>\n",
       "    <tr>\n",
       "      <th>6916</th>\n",
       "      <td>Director of Product Marketing, 2 Hour Learning...</td>\n",
       "      <td>Crossover  · New Karachi Town, Sindh, Pakistan...</td>\n",
       "      <td>Remote\\n\\n \\nFull-time\\n\\n \\nDirector</td>\n",
       "      <td>https://www.linkedin.com/jobs/view/3741832504</td>\n",
       "      <td>5,001-10,000 employees · IT Services and IT Co...</td>\n",
       "      <td>3741832504</td>\n",
       "      <td>Crossover</td>\n",
       "      <td>New</td>\n",
       "    </tr>\n",
       "    <tr>\n",
       "      <th>7006</th>\n",
       "      <td>Sales Executive</td>\n",
       "      <td>Weblinx Solution · New Karachi Town, Sindh, Pa...</td>\n",
       "      <td>On-site\\n\\n \\nFull-time</td>\n",
       "      <td>https://www.linkedin.com/jobs/view/3740818571</td>\n",
       "      <td>11-50 employees</td>\n",
       "      <td>3740818571</td>\n",
       "      <td>Weblinx Solution</td>\n",
       "      <td>New</td>\n",
       "    </tr>\n",
       "    <tr>\n",
       "      <th>7039</th>\n",
       "      <td>Senior Developer, Trilogy (Remote) - $100,000/...</td>\n",
       "      <td>Crossover  · New Karachi Town, Sindh, Pakistan...</td>\n",
       "      <td>Remote\\n\\n \\nFull-time\\n\\n \\nMid-Senior level</td>\n",
       "      <td>https://www.linkedin.com/jobs/view/3741836249</td>\n",
       "      <td>5,001-10,000 employees · IT Services and IT Co...</td>\n",
       "      <td>3741836249</td>\n",
       "      <td>Crossover</td>\n",
       "      <td>New</td>\n",
       "    </tr>\n",
       "    <tr>\n",
       "      <th>8027</th>\n",
       "      <td>Front Sales</td>\n",
       "      <td>The Digital Cubicle · New Karachi Town, Sindh,...</td>\n",
       "      <td>On-site\\n\\n \\nFull-time</td>\n",
       "      <td>https://www.linkedin.com/jobs/view/3740443848</td>\n",
       "      <td>1-10 employees</td>\n",
       "      <td>3740443848</td>\n",
       "      <td>The Digital Cubicle</td>\n",
       "      <td>New</td>\n",
       "    </tr>\n",
       "    <tr>\n",
       "      <th>9738</th>\n",
       "      <td>Telesales Representative</td>\n",
       "      <td>The Digital Cubicle · New Karachi Town, Sindh,...</td>\n",
       "      <td>On-site\\n\\n \\nFull-time</td>\n",
       "      <td>https://www.linkedin.com/jobs/view/3747792629</td>\n",
       "      <td>1-10 employees</td>\n",
       "      <td>3747792629</td>\n",
       "      <td>The Digital Cubicle</td>\n",
       "      <td>New</td>\n",
       "    </tr>\n",
       "    <tr>\n",
       "      <th>11363</th>\n",
       "      <td>AI Architect, Trilogy (Remote) - $200,000/year...</td>\n",
       "      <td>Crossover  · New Karachi Town, Sindh, Pakistan...</td>\n",
       "      <td>Remote\\n\\n \\nFull-time\\n\\n \\nMid-Senior level</td>\n",
       "      <td>https://www.linkedin.com/jobs/view/3751416271</td>\n",
       "      <td>5,001-10,000 employees · IT Services and IT Co...</td>\n",
       "      <td>3751416271</td>\n",
       "      <td>Crossover</td>\n",
       "      <td>New</td>\n",
       "    </tr>\n",
       "    <tr>\n",
       "      <th>11373</th>\n",
       "      <td>Senior AI Engineer, Trilogy (Remote) - $200,00...</td>\n",
       "      <td>Crossover  · New Karachi Town, Sindh, Pakistan...</td>\n",
       "      <td>Remote\\n\\n \\nFull-time\\n\\n \\nMid-Senior level</td>\n",
       "      <td>https://www.linkedin.com/jobs/view/3751409950</td>\n",
       "      <td>5,001-10,000 employees · IT Services and IT Co...</td>\n",
       "      <td>3751409950</td>\n",
       "      <td>Crossover</td>\n",
       "      <td>New</td>\n",
       "    </tr>\n",
       "    <tr>\n",
       "      <th>11911</th>\n",
       "      <td>Lead AI Engineer, Trilogy (Remote) - $200,000/...</td>\n",
       "      <td>Crossover  · New Karachi Town, Sindh, Pakistan...</td>\n",
       "      <td>Remote\\n\\n \\nFull-time\\n\\n \\nMid-Senior level</td>\n",
       "      <td>https://www.linkedin.com/jobs/view/3751417178</td>\n",
       "      <td>5,001-10,000 employees · IT Services and IT Co...</td>\n",
       "      <td>3751417178</td>\n",
       "      <td>Crossover</td>\n",
       "      <td>New</td>\n",
       "    </tr>\n",
       "    <tr>\n",
       "      <th>12768</th>\n",
       "      <td>International Sales Executive</td>\n",
       "      <td>Afridi Trading Japan · New Karachi Town, Sindh...</td>\n",
       "      <td>On-site\\n\\n \\nFull-time</td>\n",
       "      <td>https://www.linkedin.com/jobs/view/3731333411</td>\n",
       "      <td>Mariyam Ali is hiring for this job</td>\n",
       "      <td>3731333411</td>\n",
       "      <td>Afridi Trading Japan</td>\n",
       "      <td>New</td>\n",
       "    </tr>\n",
       "    <tr>\n",
       "      <th>13509</th>\n",
       "      <td>AI Architect, Trilogy (Remote) - $200,000/year...</td>\n",
       "      <td>Crossover  · New Karachi Town, Sindh, Pakistan...</td>\n",
       "      <td>Remote\\n\\n \\nFull-time\\n\\n \\nMid-Senior level</td>\n",
       "      <td>https://www.linkedin.com/jobs/view/3758776080</td>\n",
       "      <td>5,001-10,000 employees · IT Services and IT Co...</td>\n",
       "      <td>3758776080</td>\n",
       "      <td>Crossover</td>\n",
       "      <td>New</td>\n",
       "    </tr>\n",
       "    <tr>\n",
       "      <th>14847</th>\n",
       "      <td>Senior Engineering Manager, Trilogy (Remote) -...</td>\n",
       "      <td>Crossover  · New Karachi Town, Sindh, Pakistan...</td>\n",
       "      <td>Remote\\n\\n \\nFull-time\\n\\n \\nMid-Senior level</td>\n",
       "      <td>https://www.linkedin.com/jobs/view/3766609609</td>\n",
       "      <td>5,001-10,000 employees · IT Services and IT Co...</td>\n",
       "      <td>3766609609</td>\n",
       "      <td>Crossover</td>\n",
       "      <td>New</td>\n",
       "    </tr>\n",
       "    <tr>\n",
       "      <th>14884</th>\n",
       "      <td>Staff Software Engineer, Trilogy (Remote) - $2...</td>\n",
       "      <td>Crossover  · New Karachi Town, Sindh, Pakistan...</td>\n",
       "      <td>Remote\\n\\n \\nFull-time\\n\\n \\nMid-Senior level</td>\n",
       "      <td>https://www.linkedin.com/jobs/view/3766358229</td>\n",
       "      <td>5,001-10,000 employees · IT Services and IT Co...</td>\n",
       "      <td>3766358229</td>\n",
       "      <td>Crossover</td>\n",
       "      <td>New</td>\n",
       "    </tr>\n",
       "    <tr>\n",
       "      <th>15022</th>\n",
       "      <td>Director of Financial Planning and Analysis, T...</td>\n",
       "      <td>Crossover  · New Karachi Town, Sindh, Pakistan...</td>\n",
       "      <td>Remote\\n\\n \\nFull-time\\n\\n \\nDirector</td>\n",
       "      <td>https://www.linkedin.com/jobs/view/3766355716</td>\n",
       "      <td>5,001-10,000 employees · IT Services and IT Co...</td>\n",
       "      <td>3766355716</td>\n",
       "      <td>Crossover</td>\n",
       "      <td>New</td>\n",
       "    </tr>\n",
       "    <tr>\n",
       "      <th>15078</th>\n",
       "      <td>Senior Software Architect, Trilogy (Remote) - ...</td>\n",
       "      <td>Crossover  · New Karachi Town, Sindh, Pakistan...</td>\n",
       "      <td>Remote\\n\\n \\nFull-time\\n\\n \\nMid-Senior level</td>\n",
       "      <td>https://www.linkedin.com/jobs/view/3766352920</td>\n",
       "      <td>5,001-10,000 employees · IT Services and IT Co...</td>\n",
       "      <td>3766352920</td>\n",
       "      <td>Crossover</td>\n",
       "      <td>New</td>\n",
       "    </tr>\n",
       "    <tr>\n",
       "      <th>15101</th>\n",
       "      <td>Lead Software Engineer, Trilogy (Remote) - $20...</td>\n",
       "      <td>Crossover  · New Karachi Town, Sindh, Pakistan...</td>\n",
       "      <td>Remote\\n\\n \\nFull-time\\n\\n \\nMid-Senior level</td>\n",
       "      <td>https://www.linkedin.com/jobs/view/3766355707</td>\n",
       "      <td>5,001-10,000 employees · IT Services and IT Co...</td>\n",
       "      <td>3766355707</td>\n",
       "      <td>Crossover</td>\n",
       "      <td>New</td>\n",
       "    </tr>\n",
       "    <tr>\n",
       "      <th>15104</th>\n",
       "      <td>Senior Software Engineering Manager, Trilogy (...</td>\n",
       "      <td>Crossover  · New Karachi Town, Sindh, Pakistan...</td>\n",
       "      <td>Remote\\n\\n \\nFull-time\\n\\n \\nMid-Senior level</td>\n",
       "      <td>https://www.linkedin.com/jobs/view/3766356438</td>\n",
       "      <td>5,001-10,000 employees · IT Services and IT Co...</td>\n",
       "      <td>3766356438</td>\n",
       "      <td>Crossover</td>\n",
       "      <td>New</td>\n",
       "    </tr>\n",
       "    <tr>\n",
       "      <th>15107</th>\n",
       "      <td>Vice President Finance, Trilogy (Remote) - $20...</td>\n",
       "      <td>Crossover  · New Karachi Town, Sindh, Pakistan...</td>\n",
       "      <td>Remote\\n\\n \\nFull-time\\n\\n \\nDirector</td>\n",
       "      <td>https://www.linkedin.com/jobs/view/3766359186</td>\n",
       "      <td>5,001-10,000 employees · IT Services and IT Co...</td>\n",
       "      <td>3766359186</td>\n",
       "      <td>Crossover</td>\n",
       "      <td>New</td>\n",
       "    </tr>\n",
       "    <tr>\n",
       "      <th>15574</th>\n",
       "      <td>Software Engineering Manager, Trilogy (Remote)...</td>\n",
       "      <td>Crossover  · New Karachi Town, Sindh, Pakistan...</td>\n",
       "      <td>Remote\\n\\n \\nFull-time\\n\\n \\nMid-Senior level</td>\n",
       "      <td>https://www.linkedin.com/jobs/view/3766356435</td>\n",
       "      <td>5,001-10,000 employees · IT Services and IT Co...</td>\n",
       "      <td>3766356435</td>\n",
       "      <td>Crossover</td>\n",
       "      <td>New</td>\n",
       "    </tr>\n",
       "    <tr>\n",
       "      <th>15807</th>\n",
       "      <td>Executive Director Finance, Trilogy (Remote) -...</td>\n",
       "      <td>Crossover  · New Karachi Town, Sindh, Pakistan...</td>\n",
       "      <td>Remote\\n\\n \\nFull-time\\n\\n \\nDirector</td>\n",
       "      <td>https://www.linkedin.com/jobs/view/3766353927</td>\n",
       "      <td>5,001-10,000 employees · IT Services and IT Co...</td>\n",
       "      <td>3766353927</td>\n",
       "      <td>Crossover</td>\n",
       "      <td>New</td>\n",
       "    </tr>\n",
       "  </tbody>\n",
       "</table>\n",
       "</div>"
      ],
      "text/plain": [
       "                                               Job Title  \\\n",
       "1372   C++ Developer, Trilogy (Remote) - $200,000/yea...   \n",
       "1391   Senior Software Engineer, Trilogy (Remote) - $...   \n",
       "2623   Development Team Lead, Trilogy (Remote) - $100...   \n",
       "2624   Copywriter, gt.school (Remote) - $100,000/year...   \n",
       "2625   Content Writer, gt.school (Remote) - $100,000/...   \n",
       "2646   Senior Software Engineer, Trilogy (Remote) - $...   \n",
       "2647   Senior Principal Software Engineer, Trilogy (R...   \n",
       "2658   Full Stack Developer, Trilogy (Remote) - $100,...   \n",
       "3128                                    Technical Writer   \n",
       "3700                             Chief Executive Officer   \n",
       "4123   Senior Software Architect, Trilogy (Remote) - ...   \n",
       "6816   Head of Marketing, 2 Hour Learning (Remote) - ...   \n",
       "6836   Senior Software Engineer, Trilogy (Remote) - $...   \n",
       "6843   Vice President Product Marketing, 2 Hour Learn...   \n",
       "6864   Lead Software Engineer, Trilogy (Remote) - $10...   \n",
       "6916   Director of Product Marketing, 2 Hour Learning...   \n",
       "7006                                     Sales Executive   \n",
       "7039   Senior Developer, Trilogy (Remote) - $100,000/...   \n",
       "8027                                         Front Sales   \n",
       "9738                            Telesales Representative   \n",
       "11363  AI Architect, Trilogy (Remote) - $200,000/year...   \n",
       "11373  Senior AI Engineer, Trilogy (Remote) - $200,00...   \n",
       "11911  Lead AI Engineer, Trilogy (Remote) - $200,000/...   \n",
       "12768                      International Sales Executive   \n",
       "13509  AI Architect, Trilogy (Remote) - $200,000/year...   \n",
       "14847  Senior Engineering Manager, Trilogy (Remote) -...   \n",
       "14884  Staff Software Engineer, Trilogy (Remote) - $2...   \n",
       "15022  Director of Financial Planning and Analysis, T...   \n",
       "15078  Senior Software Architect, Trilogy (Remote) - ...   \n",
       "15101  Lead Software Engineer, Trilogy (Remote) - $20...   \n",
       "15104  Senior Software Engineering Manager, Trilogy (...   \n",
       "15107  Vice President Finance, Trilogy (Remote) - $20...   \n",
       "15574  Software Engineering Manager, Trilogy (Remote)...   \n",
       "15807  Executive Director Finance, Trilogy (Remote) -...   \n",
       "\n",
       "                                                Job Info  \\\n",
       "1372   Crossover  · New Karachi Town, Sindh, Pakistan...   \n",
       "1391   Crossover  · New Karachi Town, Sindh, Pakistan...   \n",
       "2623   Crossover  · New Karachi Town, Sindh, Pakistan...   \n",
       "2624   Crossover  · New Karachi Town, Sindh, Pakistan...   \n",
       "2625   Crossover  · New Karachi Town, Sindh, Pakistan...   \n",
       "2646   Crossover  · New Karachi Town, Sindh, Pakistan...   \n",
       "2647   Crossover  · New Karachi Town, Sindh, Pakistan...   \n",
       "2658   Crossover  · New Karachi Town, Sindh, Pakistan...   \n",
       "3128   HR World International (Pvt. Ltd) - Global Tec...   \n",
       "3700   IBRAHIM TEXTILE INDUSTRY  · New Karachi Town, ...   \n",
       "4123   Crossover  · New Karachi Town, Sindh, Pakistan...   \n",
       "6816   Crossover  · New Karachi Town, Sindh, Pakistan...   \n",
       "6836   Crossover  · New Karachi Town, Sindh, Pakistan...   \n",
       "6843   Crossover  · New Karachi Town, Sindh, Pakistan...   \n",
       "6864   Crossover  · New Karachi Town, Sindh, Pakistan...   \n",
       "6916   Crossover  · New Karachi Town, Sindh, Pakistan...   \n",
       "7006   Weblinx Solution · New Karachi Town, Sindh, Pa...   \n",
       "7039   Crossover  · New Karachi Town, Sindh, Pakistan...   \n",
       "8027   The Digital Cubicle · New Karachi Town, Sindh,...   \n",
       "9738   The Digital Cubicle · New Karachi Town, Sindh,...   \n",
       "11363  Crossover  · New Karachi Town, Sindh, Pakistan...   \n",
       "11373  Crossover  · New Karachi Town, Sindh, Pakistan...   \n",
       "11911  Crossover  · New Karachi Town, Sindh, Pakistan...   \n",
       "12768  Afridi Trading Japan · New Karachi Town, Sindh...   \n",
       "13509  Crossover  · New Karachi Town, Sindh, Pakistan...   \n",
       "14847  Crossover  · New Karachi Town, Sindh, Pakistan...   \n",
       "14884  Crossover  · New Karachi Town, Sindh, Pakistan...   \n",
       "15022  Crossover  · New Karachi Town, Sindh, Pakistan...   \n",
       "15078  Crossover  · New Karachi Town, Sindh, Pakistan...   \n",
       "15101  Crossover  · New Karachi Town, Sindh, Pakistan...   \n",
       "15104  Crossover  · New Karachi Town, Sindh, Pakistan...   \n",
       "15107  Crossover  · New Karachi Town, Sindh, Pakistan...   \n",
       "15574  Crossover  · New Karachi Town, Sindh, Pakistan...   \n",
       "15807  Crossover  · New Karachi Town, Sindh, Pakistan...   \n",
       "\n",
       "                                            Job Type  \\\n",
       "1372                    Full-time · Mid-Senior level   \n",
       "1391                    Full-time · Mid-Senior level   \n",
       "2623                    Full-time · Mid-Senior level   \n",
       "2624                           Full-time · Associate   \n",
       "2625                           Full-time · Associate   \n",
       "2646                    Full-time · Mid-Senior level   \n",
       "2647                    Full-time · Mid-Senior level   \n",
       "2658                    Full-time · Mid-Senior level   \n",
       "3128                                       Full-time   \n",
       "3700                                       Full-time   \n",
       "4123   Remote\\n\\n \\nFull-time\\n\\n \\nMid-Senior level   \n",
       "6816           Remote\\n\\n \\nFull-time\\n\\n \\nDirector   \n",
       "6836   Remote\\n\\n \\nFull-time\\n\\n \\nMid-Senior level   \n",
       "6843           Remote\\n\\n \\nFull-time\\n\\n \\nDirector   \n",
       "6864   Remote\\n\\n \\nFull-time\\n\\n \\nMid-Senior level   \n",
       "6916           Remote\\n\\n \\nFull-time\\n\\n \\nDirector   \n",
       "7006                         On-site\\n\\n \\nFull-time   \n",
       "7039   Remote\\n\\n \\nFull-time\\n\\n \\nMid-Senior level   \n",
       "8027                         On-site\\n\\n \\nFull-time   \n",
       "9738                         On-site\\n\\n \\nFull-time   \n",
       "11363  Remote\\n\\n \\nFull-time\\n\\n \\nMid-Senior level   \n",
       "11373  Remote\\n\\n \\nFull-time\\n\\n \\nMid-Senior level   \n",
       "11911  Remote\\n\\n \\nFull-time\\n\\n \\nMid-Senior level   \n",
       "12768                        On-site\\n\\n \\nFull-time   \n",
       "13509  Remote\\n\\n \\nFull-time\\n\\n \\nMid-Senior level   \n",
       "14847  Remote\\n\\n \\nFull-time\\n\\n \\nMid-Senior level   \n",
       "14884  Remote\\n\\n \\nFull-time\\n\\n \\nMid-Senior level   \n",
       "15022          Remote\\n\\n \\nFull-time\\n\\n \\nDirector   \n",
       "15078  Remote\\n\\n \\nFull-time\\n\\n \\nMid-Senior level   \n",
       "15101  Remote\\n\\n \\nFull-time\\n\\n \\nMid-Senior level   \n",
       "15104  Remote\\n\\n \\nFull-time\\n\\n \\nMid-Senior level   \n",
       "15107          Remote\\n\\n \\nFull-time\\n\\n \\nDirector   \n",
       "15574  Remote\\n\\n \\nFull-time\\n\\n \\nMid-Senior level   \n",
       "15807          Remote\\n\\n \\nFull-time\\n\\n \\nDirector   \n",
       "\n",
       "                                            Job Link  \\\n",
       "1372   https://www.linkedin.com/jobs/view/3715437982   \n",
       "1391   https://www.linkedin.com/jobs/view/3715442480   \n",
       "2623   https://www.linkedin.com/jobs/view/3731968673   \n",
       "2624   https://www.linkedin.com/jobs/view/3731972088   \n",
       "2625   https://www.linkedin.com/jobs/view/3731968656   \n",
       "2646   https://www.linkedin.com/jobs/view/3731975052   \n",
       "2647   https://www.linkedin.com/jobs/view/3731969505   \n",
       "2658   https://www.linkedin.com/jobs/view/3731969280   \n",
       "3128   https://www.linkedin.com/jobs/view/3727571469   \n",
       "3700   https://www.linkedin.com/jobs/view/3734016007   \n",
       "4123   https://www.linkedin.com/jobs/view/3731971268   \n",
       "6816   https://www.linkedin.com/jobs/view/3741834601   \n",
       "6836   https://www.linkedin.com/jobs/view/3741835367   \n",
       "6843   https://www.linkedin.com/jobs/view/3741831795   \n",
       "6864   https://www.linkedin.com/jobs/view/3741834387   \n",
       "6916   https://www.linkedin.com/jobs/view/3741832504   \n",
       "7006   https://www.linkedin.com/jobs/view/3740818571   \n",
       "7039   https://www.linkedin.com/jobs/view/3741836249   \n",
       "8027   https://www.linkedin.com/jobs/view/3740443848   \n",
       "9738   https://www.linkedin.com/jobs/view/3747792629   \n",
       "11363  https://www.linkedin.com/jobs/view/3751416271   \n",
       "11373  https://www.linkedin.com/jobs/view/3751409950   \n",
       "11911  https://www.linkedin.com/jobs/view/3751417178   \n",
       "12768  https://www.linkedin.com/jobs/view/3731333411   \n",
       "13509  https://www.linkedin.com/jobs/view/3758776080   \n",
       "14847  https://www.linkedin.com/jobs/view/3766609609   \n",
       "14884  https://www.linkedin.com/jobs/view/3766358229   \n",
       "15022  https://www.linkedin.com/jobs/view/3766355716   \n",
       "15078  https://www.linkedin.com/jobs/view/3766352920   \n",
       "15101  https://www.linkedin.com/jobs/view/3766355707   \n",
       "15104  https://www.linkedin.com/jobs/view/3766356438   \n",
       "15107  https://www.linkedin.com/jobs/view/3766359186   \n",
       "15574  https://www.linkedin.com/jobs/view/3766356435   \n",
       "15807  https://www.linkedin.com/jobs/view/3766353927   \n",
       "\n",
       "                                               employees      Job ID  \\\n",
       "1372   5,001-10,000 employees · IT Services and IT Co...  3715437982   \n",
       "1391   5,001-10,000 employees · IT Services and IT Co...  3715442480   \n",
       "2623   5,001-10,000 employees · IT Services and IT Co...  3731968673   \n",
       "2624   5,001-10,000 employees · IT Services and IT Co...  3731972088   \n",
       "2625   5,001-10,000 employees · IT Services and IT Co...  3731968656   \n",
       "2646   5,001-10,000 employees · IT Services and IT Co...  3731975052   \n",
       "2647   5,001-10,000 employees · IT Services and IT Co...  3731969505   \n",
       "2658   5,001-10,000 employees · IT Services and IT Co...  3731969280   \n",
       "3128                                    51-200 employees  3727571469   \n",
       "3700                 Zaman Ashraf is hiring for this job  3734016007   \n",
       "4123   5,001-10,000 employees · IT Services and IT Co...  3731971268   \n",
       "6816   5,001-10,000 employees · IT Services and IT Co...  3741834601   \n",
       "6836   5,001-10,000 employees · IT Services and IT Co...  3741835367   \n",
       "6843   5,001-10,000 employees · IT Services and IT Co...  3741831795   \n",
       "6864   5,001-10,000 employees · IT Services and IT Co...  3741834387   \n",
       "6916   5,001-10,000 employees · IT Services and IT Co...  3741832504   \n",
       "7006                                     11-50 employees  3740818571   \n",
       "7039   5,001-10,000 employees · IT Services and IT Co...  3741836249   \n",
       "8027                                      1-10 employees  3740443848   \n",
       "9738                                      1-10 employees  3747792629   \n",
       "11363  5,001-10,000 employees · IT Services and IT Co...  3751416271   \n",
       "11373  5,001-10,000 employees · IT Services and IT Co...  3751409950   \n",
       "11911  5,001-10,000 employees · IT Services and IT Co...  3751417178   \n",
       "12768                 Mariyam Ali is hiring for this job  3731333411   \n",
       "13509  5,001-10,000 employees · IT Services and IT Co...  3758776080   \n",
       "14847  5,001-10,000 employees · IT Services and IT Co...  3766609609   \n",
       "14884  5,001-10,000 employees · IT Services and IT Co...  3766358229   \n",
       "15022  5,001-10,000 employees · IT Services and IT Co...  3766355716   \n",
       "15078  5,001-10,000 employees · IT Services and IT Co...  3766352920   \n",
       "15101  5,001-10,000 employees · IT Services and IT Co...  3766355707   \n",
       "15104  5,001-10,000 employees · IT Services and IT Co...  3766356438   \n",
       "15107  5,001-10,000 employees · IT Services and IT Co...  3766359186   \n",
       "15574  5,001-10,000 employees · IT Services and IT Co...  3766356435   \n",
       "15807  5,001-10,000 employees · IT Services and IT Co...  3766353927   \n",
       "\n",
       "                                                 company location  \n",
       "1372                                         Crossover        New  \n",
       "1391                                         Crossover        New  \n",
       "2623                                         Crossover        New  \n",
       "2624                                         Crossover        New  \n",
       "2625                                         Crossover        New  \n",
       "2646                                         Crossover        New  \n",
       "2647                                         Crossover        New  \n",
       "2658                                         Crossover        New  \n",
       "3128   HR World International (Pvt. Ltd) - Global Tec...      New  \n",
       "3700                          IBRAHIM TEXTILE INDUSTRY        New  \n",
       "4123                                         Crossover        New  \n",
       "6816                                         Crossover        New  \n",
       "6836                                         Crossover        New  \n",
       "6843                                         Crossover        New  \n",
       "6864                                         Crossover        New  \n",
       "6916                                         Crossover        New  \n",
       "7006                                   Weblinx Solution       New  \n",
       "7039                                         Crossover        New  \n",
       "8027                                The Digital Cubicle       New  \n",
       "9738                                The Digital Cubicle       New  \n",
       "11363                                        Crossover        New  \n",
       "11373                                        Crossover        New  \n",
       "11911                                        Crossover        New  \n",
       "12768                              Afridi Trading Japan       New  \n",
       "13509                                        Crossover        New  \n",
       "14847                                        Crossover        New  \n",
       "14884                                        Crossover        New  \n",
       "15022                                        Crossover        New  \n",
       "15078                                        Crossover        New  \n",
       "15101                                        Crossover        New  \n",
       "15104                                        Crossover        New  \n",
       "15107                                        Crossover        New  \n",
       "15574                                        Crossover        New  \n",
       "15807                                        Crossover        New  "
      ]
     },
     "execution_count": 61,
     "metadata": {},
     "output_type": "execute_result"
    }
   ],
   "source": [
    "df[df['location']=='New']"
   ]
  },
  {
   "cell_type": "code",
   "execution_count": 62,
   "id": "f7572b53-87c1-4c1b-b2e6-e7c8f8f4abf3",
   "metadata": {},
   "outputs": [
    {
     "data": {
      "text/plain": [
       "0              EcomFleet · Pakistan (Remote)  \\n1 week ago\n",
       "1        Digicon Valley · Lahore, Punjab, Pakistan (On-...\n",
       "2        Murkez Technologies · Lahore, Punjab, Pakistan...\n",
       "3        DevNatives · Islamabad, Islāmābād, Pakistan (H...\n",
       "4        ItCreaters · Lahore, Punjab, Pakistan (On-site...\n",
       "                               ...                        \n",
       "15869    Codiea.io · Bahawalpur, Punjab, Pakistan  \\n1 ...\n",
       "15870    Bank Alfalah Limited · Karāchi, Sindh, Pakista...\n",
       "15872    DPL · Islamabad, Islāmābād, Pakistan  \\n1 week...\n",
       "15873    Level 3 BOS · Karachi Division, Sindh, Pakista...\n",
       "15874    The Hive · Karachi Division, Sindh, Pakistan  ...\n",
       "Name: Job Info, Length: 11737, dtype: object"
      ]
     },
     "execution_count": 62,
     "metadata": {},
     "output_type": "execute_result"
    }
   ],
   "source": [
    "df['Job Info']"
   ]
  },
  {
   "cell_type": "code",
   "execution_count": 63,
   "id": "3f38b2f1-0028-4ece-a6f6-0ee462950a89",
   "metadata": {},
   "outputs": [
    {
     "data": {
      "text/plain": [
       "'DevNatives · Islamabad, Islāmābād, Pakistan (Hybrid)  \\n1 week ago\\n\\n · 51 applicants'"
      ]
     },
     "execution_count": 63,
     "metadata": {},
     "output_type": "execute_result"
    }
   ],
   "source": [
    "df['Job Info'].iloc[3]"
   ]
  },
  {
   "cell_type": "code",
   "execution_count": 64,
   "id": "50ad8ca8-8893-4880-9dd1-7aa01e2b57e8",
   "metadata": {},
   "outputs": [
    {
     "data": {
      "text/plain": [
       "['DevNatives ',\n",
       " ' Islamabad, Islāmābād, Pakistan (Hybrid)  \\n1 week ago\\n\\n ',\n",
       " ' 51 applicants']"
      ]
     },
     "execution_count": 64,
     "metadata": {},
     "output_type": "execute_result"
    }
   ],
   "source": [
    "df['Job Info'].iloc[3].split('·')"
   ]
  },
  {
   "cell_type": "code",
   "execution_count": 65,
   "id": "c4220526-ec89-408a-bd1b-235d05b9d2bf",
   "metadata": {},
   "outputs": [
    {
     "data": {
      "text/plain": [
       "[' Islamabad, Islāmābād, Pakistan ', 'Hybrid)  \\n1 week ago\\n\\n ']"
      ]
     },
     "execution_count": 65,
     "metadata": {},
     "output_type": "execute_result"
    }
   ],
   "source": [
    "df['Job Info'].iloc[3].split('·')[1].split('(')"
   ]
  },
  {
   "cell_type": "code",
   "execution_count": 66,
   "id": "05a85566-bc71-4e80-a53b-1155e646e410",
   "metadata": {},
   "outputs": [
    {
     "data": {
      "text/plain": [
       "' Islamabad, Islāmābād, Pakistan '"
      ]
     },
     "execution_count": 66,
     "metadata": {},
     "output_type": "execute_result"
    }
   ],
   "source": [
    "df['Job Info'].iloc[3].split('·')[1].split('(')[0]"
   ]
  },
  {
   "cell_type": "code",
   "execution_count": 67,
   "id": "5d44fa50-3798-4787-adf5-98c203ab5ade",
   "metadata": {},
   "outputs": [
    {
     "name": "stderr",
     "output_type": "stream",
     "text": [
      "C:\\Users\\BILAL.COM\\AppData\\Local\\Temp\\ipykernel_6020\\1119720299.py:1: SettingWithCopyWarning: \n",
      "A value is trying to be set on a copy of a slice from a DataFrame.\n",
      "Try using .loc[row_indexer,col_indexer] = value instead\n",
      "\n",
      "See the caveats in the documentation: https://pandas.pydata.org/pandas-docs/stable/user_guide/indexing.html#returning-a-view-versus-a-copy\n",
      "  df['location']=df['Job Info'].apply(lambda x:x.split('·')[1].split('(')[0])\n"
     ]
    }
   ],
   "source": [
    "df['location']=df['Job Info'].apply(lambda x:x.split('·')[1].split('(')[0])"
   ]
  },
  {
   "cell_type": "code",
   "execution_count": 68,
   "id": "ca38cb6d-b99d-4db8-91b8-7af4185bb910",
   "metadata": {},
   "outputs": [
    {
     "data": {
      "text/plain": [
       "0                                                Pakistan \n",
       "1                                Lahore, Punjab, Pakistan \n",
       "2                                Lahore, Punjab, Pakistan \n",
       "3                          Islamabad, Islāmābād, Pakistan \n",
       "4                                Lahore, Punjab, Pakistan \n",
       "                               ...                        \n",
       "15869           Bahawalpur, Punjab, Pakistan  \\n1 week ago\n",
       "15870               Karāchi, Sindh, Pakistan  \\n1 week ago\n",
       "15872     Islamabad, Islāmābād, Pakistan  \\n1 week ago\\...\n",
       "15873     Karachi Division, Sindh, Pakistan  \\n1 week a...\n",
       "15874      Karachi Division, Sindh, Pakistan  \\n1 week ago\n",
       "Name: location, Length: 11737, dtype: object"
      ]
     },
     "execution_count": 68,
     "metadata": {},
     "output_type": "execute_result"
    }
   ],
   "source": [
    "df['location']"
   ]
  },
  {
   "cell_type": "code",
   "execution_count": 69,
   "id": "d6d1178d-d9f9-4114-b62e-517094bfcfdd",
   "metadata": {},
   "outputs": [
    {
     "data": {
      "text/plain": [
       "array([' Pakistan ', ' Lahore, Punjab, Pakistan ',\n",
       "       ' Islamabad, Islāmābād, Pakistan ', ...,\n",
       "       ' Sakrand, Sindh, Pakistan  \\n1 week ago\\n\\n ',\n",
       "       ' Sheikhupura District, Punjab, Pakistan  \\n1 week ago\\n\\n ',\n",
       "       ' Islamabad, Punjab, Pakistan  \\n2 weeks ago\\n\\n '], dtype=object)"
      ]
     },
     "execution_count": 69,
     "metadata": {},
     "output_type": "execute_result"
    }
   ],
   "source": [
    "df['location'].unique()"
   ]
  },
  {
   "cell_type": "code",
   "execution_count": 70,
   "id": "fa77a1d0-3b26-414f-9718-ba8066def887",
   "metadata": {},
   "outputs": [
    {
     "data": {
      "text/plain": [
       "1163"
      ]
     },
     "execution_count": 70,
     "metadata": {},
     "output_type": "execute_result"
    }
   ],
   "source": [
    "len(df['location'].unique())"
   ]
  },
  {
   "cell_type": "code",
   "execution_count": 71,
   "id": "14c9cf34-8836-489d-93bf-4b98a15d8845",
   "metadata": {},
   "outputs": [
    {
     "data": {
      "text/plain": [
       "location\n",
       " Lahore, Punjab, Pakistan                                  1052\n",
       " Karāchi, Sindh, Pakistan                                   624\n",
       " Islamabad, Islāmābād, Pakistan                             518\n",
       " Lahore, Punjab, Pakistan  \\n2 weeks ago                    326\n",
       " Karachi Division, Sindh, Pakistan                          242\n",
       "                                                           ... \n",
       " Gulshan Town, Sindh, Pakistan  \\n7 hours ago\\n\\n             1\n",
       " Korangi District, Sindh, Pakistan  \\n10 hours ago\\n\\n        1\n",
       " Jhelum, Punjab, Pakistan  \\n23 hours ago\\n\\n                 1\n",
       " Sāhīwāl, Punjab, Pakistan  \\n9 hours ago\\n\\n                 1\n",
       " Islamabad, Punjab, Pakistan  \\n2 weeks ago\\n\\n               1\n",
       "Name: count, Length: 1163, dtype: int64"
      ]
     },
     "execution_count": 71,
     "metadata": {},
     "output_type": "execute_result"
    }
   ],
   "source": [
    "df['location'].value_counts()"
   ]
  },
  {
   "cell_type": "code",
   "execution_count": 72,
   "id": "961000a9-b723-4459-8860-480fbea49e30",
   "metadata": {},
   "outputs": [
    {
     "data": {
      "text/plain": [
       "location\n",
       " Lahore, Punjab, Pakistan                              1052\n",
       " Karāchi, Sindh, Pakistan                               624\n",
       " Islamabad, Islāmābād, Pakistan                         518\n",
       " Lahore, Punjab, Pakistan  \\n2 weeks ago                326\n",
       " Karachi Division, Sindh, Pakistan                      242\n",
       " Pakistan                                               236\n",
       " Lahore, Punjab, Pakistan  \\n2 weeks ago\\n\\n            199\n",
       " Lahore, Punjab, Pakistan  \\n1 week ago                 194\n",
       " Lahore, Punjab, Pakistan  \\n1 week ago\\n\\n             177\n",
       " Karāchi, Sindh, Pakistan  \\n1 week ago\\n\\n             145\n",
       " Lahore, Punjab, Pakistan  \\n1 month ago                138\n",
       " Karāchi, Sindh, Pakistan  \\n2 weeks ago                138\n",
       " Rawalpindi, Punjab, Pakistan                           127\n",
       " Karāchi, Sindh, Pakistan  \\n2 weeks ago\\n\\n            127\n",
       " Islamabad, Islāmābād, Pakistan  \\n2 weeks ago\\n\\n      126\n",
       " Pakistan  \\n2 weeks ago\\n\\n                            124\n",
       " Islamabad, Islāmābād, Pakistan  \\n2 weeks ago          113\n",
       " Karāchi, Sindh, Pakistan  \\n1 week ago                 112\n",
       " Lahore, Punjab, Pakistan  \\n3 days ago\\n\\n              98\n",
       " Karāchi, Sindh, Pakistan  \\n3 days ago\\n\\n              94\n",
       " Islāmābād, Pakistan                                     90\n",
       " Lahore, Punjab, Pakistan Reposted  \\n1 week ago         90\n",
       " Islamabad, Islāmābād, Pakistan  \\n1 week ago\\n\\n        90\n",
       " Lahore, Punjab, Pakistan  \\n2 days ago\\n\\n              89\n",
       " Lahore, Punjab, Pakistan  \\n5 days ago\\n\\n              85\n",
       " Lahore District, Punjab, Pakistan                       83\n",
       " Karāchi, Sindh, Pakistan  \\n1 month ago                 81\n",
       " Lahore, Punjab, Pakistan  \\n1 day ago\\n\\n               79\n",
       " Islamabad, Islāmābād, Pakistan  \\n1 week ago            76\n",
       " Lahore, Punjab, Pakistan  \\n3 days ago                  73\n",
       "Name: count, dtype: int64"
      ]
     },
     "execution_count": 72,
     "metadata": {},
     "output_type": "execute_result"
    }
   ],
   "source": [
    "df['location'].value_counts()[:30]"
   ]
  },
  {
   "cell_type": "code",
   "execution_count": 73,
   "id": "bf4eff97-cc71-41ac-b882-3541e81b78ae",
   "metadata": {},
   "outputs": [],
   "source": [
    "# df_concat['Lahore, Punjab, Pakistan  \\n1 week ago\\n\\n' in df_concat['Job Info']]"
   ]
  },
  {
   "cell_type": "code",
   "execution_count": 74,
   "id": "b46a3be5-c34e-4bf8-ab2e-f6d6a939c269",
   "metadata": {},
   "outputs": [
    {
     "data": {
      "text/html": [
       "<div>\n",
       "<style scoped>\n",
       "    .dataframe tbody tr th:only-of-type {\n",
       "        vertical-align: middle;\n",
       "    }\n",
       "\n",
       "    .dataframe tbody tr th {\n",
       "        vertical-align: top;\n",
       "    }\n",
       "\n",
       "    .dataframe thead th {\n",
       "        text-align: right;\n",
       "    }\n",
       "</style>\n",
       "<table border=\"1\" class=\"dataframe\">\n",
       "  <thead>\n",
       "    <tr style=\"text-align: right;\">\n",
       "      <th></th>\n",
       "      <th>Job Title</th>\n",
       "      <th>Job Info</th>\n",
       "      <th>Job Type</th>\n",
       "      <th>Job Link</th>\n",
       "      <th>employees</th>\n",
       "      <th>Job ID</th>\n",
       "      <th>company</th>\n",
       "      <th>location</th>\n",
       "    </tr>\n",
       "  </thead>\n",
       "  <tbody>\n",
       "    <tr>\n",
       "      <th>94</th>\n",
       "      <td>Social Media Manager</td>\n",
       "      <td>siyaahat.pk · Lahore District, Punjab, Pakista...</td>\n",
       "      <td>Full-time</td>\n",
       "      <td>https://www.linkedin.com/jobs/view/525119752</td>\n",
       "      <td>1-10 employees</td>\n",
       "      <td>525119752</td>\n",
       "      <td>siyaahat.pk</td>\n",
       "      <td>Lahore District, Punjab, Pakistan  \\n1 week ago</td>\n",
       "    </tr>\n",
       "    <tr>\n",
       "      <th>4284</th>\n",
       "      <td>Business Development Executive</td>\n",
       "      <td>CEO Clubs Worldwide - Pakistan Chapter · Lahor...</td>\n",
       "      <td>On-site\\n\\n \\nFull-time</td>\n",
       "      <td>https://www.linkedin.com/jobs/view/3735035487</td>\n",
       "      <td>51-200 employees</td>\n",
       "      <td>3735035487</td>\n",
       "      <td>CEO Clubs Worldwide - Pakistan Chapter</td>\n",
       "      <td>Lahore District, Punjab, Pakistan  \\n1 week ago</td>\n",
       "    </tr>\n",
       "    <tr>\n",
       "      <th>4427</th>\n",
       "      <td>UI/UX Designer || Team Lead</td>\n",
       "      <td>ZAPTA Technologies (Pvt.) Limited · Lahore Dis...</td>\n",
       "      <td>On-site\\n\\n \\nFull-time</td>\n",
       "      <td>https://www.linkedin.com/jobs/view/3735033203</td>\n",
       "      <td>51-200 employees</td>\n",
       "      <td>3735033203</td>\n",
       "      <td>ZAPTA Technologies (Pvt.) Limited</td>\n",
       "      <td>Lahore District, Punjab, Pakistan  \\n1 week ago</td>\n",
       "    </tr>\n",
       "    <tr>\n",
       "      <th>4804</th>\n",
       "      <td>Corporate Receptionist</td>\n",
       "      <td>READ SOLAR PVT LTD · Lahore District, Punjab, ...</td>\n",
       "      <td>On-site\\n\\n \\nFull-time</td>\n",
       "      <td>https://www.linkedin.com/jobs/view/3726506151</td>\n",
       "      <td>11-50 employees</td>\n",
       "      <td>3726506151</td>\n",
       "      <td>READ SOLAR PVT LTD</td>\n",
       "      <td>Lahore District, Punjab, Pakistan  \\n1 week ago</td>\n",
       "    </tr>\n",
       "    <tr>\n",
       "      <th>5224</th>\n",
       "      <td>Appointment Setter</td>\n",
       "      <td>Progressive Marketing · Lahore District, Punja...</td>\n",
       "      <td>On-site\\n\\n \\nFull-time</td>\n",
       "      <td>https://www.linkedin.com/jobs/view/3732023766</td>\n",
       "      <td>1-10 employees</td>\n",
       "      <td>3732023766</td>\n",
       "      <td>Progressive Marketing</td>\n",
       "      <td>Lahore District, Punjab, Pakistan  \\n1 week ago</td>\n",
       "    </tr>\n",
       "    <tr>\n",
       "      <th>13693</th>\n",
       "      <td>Full Stack Developer</td>\n",
       "      <td>Senew Tech · Lahore District, Punjab, Pakistan...</td>\n",
       "      <td>On-site\\n\\n \\nFull-time</td>\n",
       "      <td>https://www.linkedin.com/jobs/view/3767771812</td>\n",
       "      <td>501-1,000 employees</td>\n",
       "      <td>3767771812</td>\n",
       "      <td>Senew Tech</td>\n",
       "      <td>Lahore District, Punjab, Pakistan  \\n1 week ago</td>\n",
       "    </tr>\n",
       "    <tr>\n",
       "      <th>14129</th>\n",
       "      <td>Full Stack Dev (.NET &amp; React)</td>\n",
       "      <td>TekFirst · Lahore District, Punjab, Pakistan  ...</td>\n",
       "      <td>On-site\\n\\n \\nFull-time</td>\n",
       "      <td>https://www.linkedin.com/jobs/view/3766492908</td>\n",
       "      <td>11-50 employees</td>\n",
       "      <td>3766492908</td>\n",
       "      <td>TekFirst</td>\n",
       "      <td>Lahore District, Punjab, Pakistan  \\n1 week ago</td>\n",
       "    </tr>\n",
       "    <tr>\n",
       "      <th>14306</th>\n",
       "      <td>Emergency Services Counsellor (Part time)</td>\n",
       "      <td>Lahore University of Management Sciences · Lah...</td>\n",
       "      <td>On-site\\n\\n \\nFull-time</td>\n",
       "      <td>https://www.linkedin.com/jobs/view/3764139616</td>\n",
       "      <td>1,001-5,000 employees · Higher Education</td>\n",
       "      <td>3764139616</td>\n",
       "      <td>Lahore University of Management Sciences</td>\n",
       "      <td>Lahore District, Punjab, Pakistan  \\n1 week ago</td>\n",
       "    </tr>\n",
       "    <tr>\n",
       "      <th>15865</th>\n",
       "      <td>YouTube Channel Producer</td>\n",
       "      <td>Senew Tech · Lahore District, Punjab, Pakistan...</td>\n",
       "      <td>On-site\\n\\n \\nFull-time</td>\n",
       "      <td>https://www.linkedin.com/jobs/view/3767643794</td>\n",
       "      <td>501-1,000 employees</td>\n",
       "      <td>3767643794</td>\n",
       "      <td>Senew Tech</td>\n",
       "      <td>Lahore District, Punjab, Pakistan  \\n1 week ago</td>\n",
       "    </tr>\n",
       "  </tbody>\n",
       "</table>\n",
       "</div>"
      ],
      "text/plain": [
       "                                       Job Title  \\\n",
       "94                          Social Media Manager   \n",
       "4284              Business Development Executive   \n",
       "4427                 UI/UX Designer || Team Lead   \n",
       "4804                      Corporate Receptionist   \n",
       "5224                          Appointment Setter   \n",
       "13693                       Full Stack Developer   \n",
       "14129              Full Stack Dev (.NET & React)   \n",
       "14306  Emergency Services Counsellor (Part time)   \n",
       "15865                   YouTube Channel Producer   \n",
       "\n",
       "                                                Job Info  \\\n",
       "94     siyaahat.pk · Lahore District, Punjab, Pakista...   \n",
       "4284   CEO Clubs Worldwide - Pakistan Chapter · Lahor...   \n",
       "4427   ZAPTA Technologies (Pvt.) Limited · Lahore Dis...   \n",
       "4804   READ SOLAR PVT LTD · Lahore District, Punjab, ...   \n",
       "5224   Progressive Marketing · Lahore District, Punja...   \n",
       "13693  Senew Tech · Lahore District, Punjab, Pakistan...   \n",
       "14129  TekFirst · Lahore District, Punjab, Pakistan  ...   \n",
       "14306  Lahore University of Management Sciences · Lah...   \n",
       "15865  Senew Tech · Lahore District, Punjab, Pakistan...   \n",
       "\n",
       "                      Job Type                                       Job Link  \\\n",
       "94                   Full-time   https://www.linkedin.com/jobs/view/525119752   \n",
       "4284   On-site\\n\\n \\nFull-time  https://www.linkedin.com/jobs/view/3735035487   \n",
       "4427   On-site\\n\\n \\nFull-time  https://www.linkedin.com/jobs/view/3735033203   \n",
       "4804   On-site\\n\\n \\nFull-time  https://www.linkedin.com/jobs/view/3726506151   \n",
       "5224   On-site\\n\\n \\nFull-time  https://www.linkedin.com/jobs/view/3732023766   \n",
       "13693  On-site\\n\\n \\nFull-time  https://www.linkedin.com/jobs/view/3767771812   \n",
       "14129  On-site\\n\\n \\nFull-time  https://www.linkedin.com/jobs/view/3766492908   \n",
       "14306  On-site\\n\\n \\nFull-time  https://www.linkedin.com/jobs/view/3764139616   \n",
       "15865  On-site\\n\\n \\nFull-time  https://www.linkedin.com/jobs/view/3767643794   \n",
       "\n",
       "                                      employees      Job ID  \\\n",
       "94                               1-10 employees   525119752   \n",
       "4284                           51-200 employees  3735035487   \n",
       "4427                           51-200 employees  3735033203   \n",
       "4804                            11-50 employees  3726506151   \n",
       "5224                             1-10 employees  3732023766   \n",
       "13693                       501-1,000 employees  3767771812   \n",
       "14129                           11-50 employees  3766492908   \n",
       "14306  1,001-5,000 employees · Higher Education  3764139616   \n",
       "15865                       501-1,000 employees  3767643794   \n",
       "\n",
       "                                         company  \\\n",
       "94                                  siyaahat.pk    \n",
       "4284     CEO Clubs Worldwide - Pakistan Chapter    \n",
       "4427          ZAPTA Technologies (Pvt.) Limited    \n",
       "4804                         READ SOLAR PVT LTD    \n",
       "5224                      Progressive Marketing    \n",
       "13693                                Senew Tech    \n",
       "14129                                  TekFirst    \n",
       "14306  Lahore University of Management Sciences    \n",
       "15865                                Senew Tech    \n",
       "\n",
       "                                               location  \n",
       "94      Lahore District, Punjab, Pakistan  \\n1 week ago  \n",
       "4284    Lahore District, Punjab, Pakistan  \\n1 week ago  \n",
       "4427    Lahore District, Punjab, Pakistan  \\n1 week ago  \n",
       "4804    Lahore District, Punjab, Pakistan  \\n1 week ago  \n",
       "5224    Lahore District, Punjab, Pakistan  \\n1 week ago  \n",
       "13693   Lahore District, Punjab, Pakistan  \\n1 week ago  \n",
       "14129   Lahore District, Punjab, Pakistan  \\n1 week ago  \n",
       "14306   Lahore District, Punjab, Pakistan  \\n1 week ago  \n",
       "15865   Lahore District, Punjab, Pakistan  \\n1 week ago  "
      ]
     },
     "execution_count": 74,
     "metadata": {},
     "output_type": "execute_result"
    }
   ],
   "source": [
    "df[df['location']==' Lahore District, Punjab, Pakistan  \\n1 week ago']"
   ]
  },
  {
   "cell_type": "code",
   "execution_count": 75,
   "id": "fb62667b-c060-4068-b2bd-2126f8d172d3",
   "metadata": {},
   "outputs": [
    {
     "name": "stdout",
     "output_type": "stream",
     "text": [
      "94       siyaahat.pk · Lahore District, Punjab, Pakista...\n",
      "4284     CEO Clubs Worldwide - Pakistan Chapter · Lahor...\n",
      "4427     ZAPTA Technologies (Pvt.) Limited · Lahore Dis...\n",
      "4804     READ SOLAR PVT LTD · Lahore District, Punjab, ...\n",
      "5224     Progressive Marketing · Lahore District, Punja...\n",
      "13693    Senew Tech · Lahore District, Punjab, Pakistan...\n",
      "14129    TekFirst · Lahore District, Punjab, Pakistan  ...\n",
      "14306    Lahore University of Management Sciences · Lah...\n",
      "15865    Senew Tech · Lahore District, Punjab, Pakistan...\n",
      "Name: Job Info, dtype: object\n"
     ]
    }
   ],
   "source": [
    "print(df[df['location']==' Lahore District, Punjab, Pakistan  \\n1 week ago']['Job Info'])"
   ]
  },
  {
   "cell_type": "code",
   "execution_count": 76,
   "id": "e5499341-d067-42df-92a5-87e917b59782",
   "metadata": {},
   "outputs": [
    {
     "data": {
      "text/plain": [
       "'siyaahat.pk · Lahore District, Punjab, Pakistan  \\n1 week ago'"
      ]
     },
     "execution_count": 76,
     "metadata": {},
     "output_type": "execute_result"
    }
   ],
   "source": [
    "df.iloc[94]['Job Info']"
   ]
  },
  {
   "cell_type": "code",
   "execution_count": 77,
   "id": "78c52985-df44-4e50-a054-0ccdd95d4d05",
   "metadata": {},
   "outputs": [
    {
     "data": {
      "text/plain": [
       "'siyaahat.pk · Lahore District, Punjab, Pakistan  \\n1 week ago'"
      ]
     },
     "execution_count": 77,
     "metadata": {},
     "output_type": "execute_result"
    }
   ],
   "source": [
    "df.iloc[94]['Job Info'].strip('\\n')"
   ]
  },
  {
   "cell_type": "code",
   "execution_count": 78,
   "id": "0045482f-682b-43bc-b5a2-c6d2b2ee39d3",
   "metadata": {},
   "outputs": [
    {
     "data": {
      "text/plain": [
       "'siyaahat.pk · Lahore District, Punjab, Pakistan  \\n1 week ago'"
      ]
     },
     "execution_count": 78,
     "metadata": {},
     "output_type": "execute_result"
    }
   ],
   "source": [
    "'siyaahat.pk · Lahore District, Punjab, Pakistan  \\n1 week ago'.strip('\\n')"
   ]
  },
  {
   "cell_type": "code",
   "execution_count": 79,
   "id": "380b448f-45b2-4b44-a885-f3fd66f7ad9d",
   "metadata": {},
   "outputs": [
    {
     "data": {
      "text/plain": [
       "'siyaahat.pk · Lahore District, Punjab, Pakistan'"
      ]
     },
     "execution_count": 79,
     "metadata": {},
     "output_type": "execute_result"
    }
   ],
   "source": [
    "'siyaahat.pk · Lahore District, Punjab, Pakistan  \\n1 week ago'.strip('\\n1 week ago')"
   ]
  },
  {
   "cell_type": "code",
   "execution_count": 80,
   "id": "053574ec-2d17-410e-ba24-fd9367ee1a21",
   "metadata": {},
   "outputs": [
    {
     "data": {
      "text/plain": [
       "'siyaahat.pk · Lahore District, Punjab, Pakistan'"
      ]
     },
     "execution_count": 80,
     "metadata": {},
     "output_type": "execute_result"
    }
   ],
   "source": [
    "'siyaahat.pk · Lahore District, Punjab, Pakistan  \\n1 week ago'.strip('\\n2 week ago\\n1 week ago')"
   ]
  },
  {
   "cell_type": "code",
   "execution_count": 81,
   "id": "ea340c73-913d-41c2-807a-df4e7e156d7e",
   "metadata": {},
   "outputs": [
    {
     "data": {
      "text/plain": [
       "'siyaahat.pk · Lahore District, Punjab, Pakistan  \\n1'"
      ]
     },
     "execution_count": 81,
     "metadata": {},
     "output_type": "execute_result"
    }
   ],
   "source": [
    "'siyaahat.pk · Lahore District, Punjab, Pakistan  \\n1 week ago'.strip('\\n2 week ago')"
   ]
  },
  {
   "cell_type": "code",
   "execution_count": 82,
   "id": "473d134e-d987-439c-ad36-229bc1d75081",
   "metadata": {},
   "outputs": [
    {
     "data": {
      "text/plain": [
       "'Full-time'"
      ]
     },
     "execution_count": 82,
     "metadata": {},
     "output_type": "execute_result"
    }
   ],
   "source": [
    "df.iloc[94]['Job Type']"
   ]
  },
  {
   "cell_type": "code",
   "execution_count": 83,
   "id": "fe700849-4332-45b5-9552-1e08df04d792",
   "metadata": {},
   "outputs": [
    {
     "name": "stderr",
     "output_type": "stream",
     "text": [
      "C:\\Users\\BILAL.COM\\AppData\\Local\\Temp\\ipykernel_6020\\1454157284.py:1: SettingWithCopyWarning: \n",
      "A value is trying to be set on a copy of a slice from a DataFrame.\n",
      "Try using .loc[row_indexer,col_indexer] = value instead\n",
      "\n",
      "See the caveats in the documentation: https://pandas.pydata.org/pandas-docs/stable/user_guide/indexing.html#returning-a-view-versus-a-copy\n",
      "  df['location']=df['Job Info'].apply(lambda x:x.split('·')[1].split('(')[0].strip('\\n2 week ago\\n1 week ago'))\n"
     ]
    }
   ],
   "source": [
    "df['location']=df['Job Info'].apply(lambda x:x.split('·')[1].split('(')[0].strip('\\n2 week ago\\n1 week ago'))\n",
    "#not correctly remove \\n2 weeks"
   ]
  },
  {
   "cell_type": "code",
   "execution_count": 84,
   "id": "1fe5a2de-6c80-4995-8ed9-737c58ffe96e",
   "metadata": {},
   "outputs": [
    {
     "data": {
      "text/plain": [
       "0                                 Pakistan\n",
       "1                 Lahore, Punjab, Pakistan\n",
       "2                 Lahore, Punjab, Pakistan\n",
       "3           Islamabad, Islāmābād, Pakistan\n",
       "4                 Lahore, Punjab, Pakistan\n",
       "                       ...                \n",
       "15869         Bahawalpur, Punjab, Pakistan\n",
       "15870             Karāchi, Sindh, Pakistan\n",
       "15872       Islamabad, Islāmābād, Pakistan\n",
       "15873    Karachi Division, Sindh, Pakistan\n",
       "15874    Karachi Division, Sindh, Pakistan\n",
       "Name: location, Length: 11737, dtype: object"
      ]
     },
     "execution_count": 84,
     "metadata": {},
     "output_type": "execute_result"
    }
   ],
   "source": [
    "df['location']"
   ]
  },
  {
   "cell_type": "code",
   "execution_count": 85,
   "id": "7d832cb6-3d6c-4c3e-a73b-2ae58be977af",
   "metadata": {},
   "outputs": [
    {
     "data": {
      "text/plain": [
       "array(['Pakistan', 'Lahore, Punjab, Pakistan',\n",
       "       'Islamabad, Islāmābād, Pakistan', 'Karāchi, Sindh, Pakistan',\n",
       "       'Peshawar, Khyber Pakhtunkhwa, Pakistan', 'Islāmābād, Pakistan',\n",
       "       'Rawalpindi, Punjab, Pakistan', 'Multan, Punjab, Pakistan',\n",
       "       'Karachi Division, Sindh, Pakistan', 'Hyderabad, Sindh, Pakistan',\n",
       "       'Lahore District, Punjab, Pakistan',\n",
       "       'Mirpur, Azad Kashmir, Pakistan', 'Kharian, Punjab, Pakistan',\n",
       "       'Sindh, Pakistan', 'Lahore, Punjab, Pakistan  \\n2 weeks',\n",
       "       'Faisalabad, Punjab, Pakistan',\n",
       "       'Islamabad, Islāmābād, Pakistan Reposted',\n",
       "       'Jhelum, Punjab, Pakistan  \\n2 weeks', 'Gujrāt, Punjab, Pakistan',\n",
       "       'Korangi District, Sindh, Pakistan',\n",
       "       'Bahawalpur, Punjab, Pakistan', 'Gulshan Town, Sindh, Pakistan',\n",
       "       'Gujranwala, Punjab, Pakistan', 'Sukkur, Sindh, Pakistan',\n",
       "       'Punjab, Pakistan', 'Shekhūpura, Punjab, Pakistan',\n",
       "       'Sargodha, Punjab, Pakistan', 'Jhelum, Punjab, Pakistan',\n",
       "       'Wazirabad, Punjab, Pakistan',\n",
       "       'Mānsehra, Khyber Pakhtunkhwa, Pakistan',\n",
       "       'Sialkot, Punjab, Pakistan', 'Chakwāl, Punjab, Pakistan',\n",
       "       'Muzaffargarh, Punjab, Pakistan', 'Nawabshah, Sindh, Pakistan',\n",
       "       'Muzaffargarh District, Punjab, Pakistan',\n",
       "       'Peshawar, Khyber Pakhtunkhwa, Pakistan Reposted',\n",
       "       'Mardān, Khyber Pakhtunkhwa, Pakistan',\n",
       "       'Gujrat District, Punjab, Pakistan',\n",
       "       'Dera Ghazi Khan, Punjab, Pakistan',\n",
       "       'Jhelum, Punjab, Pakistan Reposted', 'Sāhīwāl, Punjab, Pakistan',\n",
       "       'Rawalpindi District, Punjab, Pakistan', 'Jhang, Punjab, Pakistan',\n",
       "       'Punjab, Pakistan Reposted  \\n6 days',\n",
       "       'Sahiwal District, Punjab, Pakistan',\n",
       "       'Quetta, Baluchistan, Pakistan',\n",
       "       'Karāchi, Sindh, Pakistan  \\n2 weeks', 'Vienna, Austri',\n",
       "       'Lahore, Punjab, Pakistan Reposted',\n",
       "       'Lahore, Punjab, Pakistan Reposted  \\n5 hours',\n",
       "       'Islamabad, Islāmābād, Pakistan Reposted  \\n4 days',\n",
       "       'Karāchi, Sindh, Pakistan Reposted',\n",
       "       'Rahimyar Khan, Punjab, Pakistan', 'Milan, Lombardy, Italy',\n",
       "       'Lodhran Tehsil, Punjab, Pakistan',\n",
       "       'Mirpur Khas District, Sindh, Pakistan', 'South Asi',\n",
       "       'Zhob, Baluchistan, Pakistan', 'Jamshoro, Sindh, Pakistan',\n",
       "       'Lahore, Punjab, Pakistan Reposted  \\n5 days',\n",
       "       'Khyber Pakhtunkhwa, Pakistan',\n",
       "       'New Karachi Town, Sindh, Pakistan',\n",
       "       'Rakhni, Baluchistan, Pakistan', 'Taxila, Punjab, Pakistan',\n",
       "       'APAC', 'Karachi Division, Sindh, Pakistan Reposted',\n",
       "       'Azad Kashmir, Pakistan', 'Faisalabad, Punjab, Pakistan Reposted',\n",
       "       'Islamabad, Islāmābād, Pakistan Reposted  \\n6 days',\n",
       "       'Toba Tek Singh, Punjab, Pakistan', 'Thatta, Sindh, Pakistan',\n",
       "       'Jarānwāla, Punjab, Pakistan Reposted',\n",
       "       'Mīrpur Khās, Sindh, Pakistan',\n",
       "       'Larkana District, Sindh, Pakistan', 'Pasrur, Punjab, Pakistan',\n",
       "       'Sarai Alamgir Tehsil, Punjab, Pakistan',\n",
       "       'Sahiwal Division, Punjab, Pakistan',\n",
       "       'Panjgur, Baluchistan, Pakistan',\n",
       "       'Hyderabad District, Sindh, Pakistan', 'Baloch Colony, Pakistan',\n",
       "       'Attock, Punjab, Pakistan Reposted',\n",
       "       'Rahim Yar Khan District, Punjab, Pakistan',\n",
       "       'Ratodero, Sindh, Pakistan', 'APJ',\n",
       "       'Chakwal District, Punjab, Pakistan',\n",
       "       'Islamabad, Punjab, Pakistan', 'İzmir, İzmir, Turkey',\n",
       "       'Miān Channūn, Punjab, Pakistan',\n",
       "       'Battagram, Khyber Pakhtunkhwa, Pakistan',\n",
       "       'Harīpur, Khyber Pakhtunkhwa, Pakistan',\n",
       "       'Jamshoro, Sindh, Pakistan Reposted  \\n1 hour',\n",
       "       'Lahore, Punjab, Pakistan Reposted  \\n2 hours',\n",
       "       'Gujranwala District, Punjab, Pakistan',\n",
       "       'Lahore Division, Punjab, Pakistan',\n",
       "       'Naushahro Feroze District, Sindh, Pakistan',\n",
       "       'Islamabad, Islāmābād, Pakistan Reposted  \\n5 days',\n",
       "       'Khuzdar, Baluchistan, Pakistan',\n",
       "       'Karāchi, Sindh, Pakistan  \\n6 days',\n",
       "       'Kasur District, Punjab, Pakistan',\n",
       "       'Sukkur District, Sindh, Pakistan',\n",
       "       'Abbottabad District, Khyber Pakhtunkhwa, Pakistan',\n",
       "       'Islamabad, Islāmābād, Pakistan Reposted  \\n5 hours',\n",
       "       'Malir District, Sindh, Pakistan', 'Vehari, Punjab, Pakistan',\n",
       "       'Kahuta, Punjab, Pakistan', 'Badin, Sindh, Pakistan',\n",
       "       'Karāchi, Sindh, Pakistan Reposted  \\n6 days',\n",
       "       'Karāchi, Sindh, Pakistan Reposted  \\n3 days',\n",
       "       'Sahiwal, Punjab, Pakistan',\n",
       "       'Islamabad, Islāmābād, Pakistan  \\n6 days',\n",
       "       'Lahore, Punjab, Pakistan Reposted  \\n6 days',\n",
       "       'Lahore, Punjab, Pakistan  \\n6 days',\n",
       "       'Thal, Khyber Pakhtunkhwa, Pakistan', 'Landhi, Sindh, Pakistan',\n",
       "       'Shikarpur, Sindh, Pakistan',\n",
       "       'Faisalabad District, Punjab, Pakistan',\n",
       "       'Karāchi, Sindh, Pakistan Reposted  \\n4 days',\n",
       "       'Islamabad, Islāmābād, Pakistan Reposted  \\n1 day',\n",
       "       'Bhakkar, Punjab, Pakistan',\n",
       "       'Karāchi, Sindh, Pakistan Reposted  \\n2 days',\n",
       "       'Karāchi, Sindh, Pakistan Reposted  \\n1 day',\n",
       "       'Lahore, Punjab, Pakistan Reposted  \\n2 days',\n",
       "       'Lahore, Punjab, Pakistan Reposted  \\n1 day',\n",
       "       'Karāchi, Sindh, Pakistan  \\n5 days',\n",
       "       'Karāchi, Sindh, Pakistan Reposted  \\n5 days',\n",
       "       'Bahrain, Khyber Pakhtunkhwa, Pakistan', 'Metro Manil',\n",
       "       'Lahore, Punjab, Pakistan Reposted  \\n4 days',\n",
       "       'Jarānwāla, Punjab, Pakistan Reposted  \\n1 day',\n",
       "       'Kohāt, Khyber Pakhtunkhwa, Pakistan',\n",
       "       'Lahore, Punjab, Pakistan Reposted  \\n3 days',\n",
       "       'Karāchi, Sindh, Pakistan  \\n4 days', 'Okāra, Punjab, Pakistan',\n",
       "       'Islamabad, Islāmābād, Pakistan Reposted  \\n3 days',\n",
       "       'Islamabad, Islāmābād, Pakistan  \\n4 days',\n",
       "       'Islāmābād, Pakistan  \\n4 days',\n",
       "       'Karachi Division, Sindh, Pakistan  \\n4 days',\n",
       "       'Pakistan Reposted  \\n4 days',\n",
       "       'Lahore, Punjab, Pakistan  \\n4 days',\n",
       "       'Karachi Division, Sindh, Pakistan Reposted  \\n4 days',\n",
       "       'Islāmābād, Pakistan Reposted  \\n4 days',\n",
       "       'Sindh, Pakistan  \\n4 days', 'Punjab, Pakistan  \\n4 days',\n",
       "       'Sialkot, Punjab, Pakistan  \\n4 days', 'APJ  \\n4 days',\n",
       "       'Pakistan  \\n4 days', 'Nawabshah, Sindh, Pakistan  \\n4 days',\n",
       "       'Gujranwala District, Punjab, Pakistan  \\n4 days',\n",
       "       'Bahawalnagar District, Punjab, Pakistan  \\n4 days',\n",
       "       'Muzaffargarh, Punjab, Pakistan  \\n4 days',\n",
       "       'Lahore, Punjab, Pakistan Reposted  \\n7 hours',\n",
       "       'New Karachi Town, Sindh, Pakistan Reposted  \\n3 days',\n",
       "       'APAC  \\n4 days',\n",
       "       'Rawalpindi, Punjab, Pakistan Reposted  \\n3 days',\n",
       "       'Rawalpindi, Punjab, Pakistan  \\n4 days',\n",
       "       'Multan, Punjab, Pakistan  \\n4 days',\n",
       "       'Rawalpindi, Punjab, Pakistan Reposted  \\n8 hours',\n",
       "       'Quetta, Baluchistan, Pakistan  \\n4 days',\n",
       "       'Badin, Sindh, Pakistan  \\n4 days', 'South Asia  \\n4 days',\n",
       "       'APAC Reposted  \\n3 days', 'Pakistan Reposted', 'APAC Reposted',\n",
       "       'Islamabad, Islāmābād, Pakistan Reposted  \\n14 hours',\n",
       "       'Lahore, Punjab, Pakistan Reposted  \\n14 hours',\n",
       "       'Rawalpindi, Punjab, Pakistan Reposted  \\n14 hours',\n",
       "       'Islamabad, Islāmābād, Pakistan Reposted  \\n2 days',\n",
       "       'Shergarh, Punjab, Pakistan Reposted',\n",
       "       'Hyderabad, Sindh, Pakistan Reposted  \\n2 days',\n",
       "       'Chaman, Baluchistan, Pakistan',\n",
       "       'Karachi Division, Sindh, Pakistan Reposted  \\n2 days',\n",
       "       'Islāmābād, Pakistan Reposted',\n",
       "       'Lahore, Punjab, Pakistan Reposted  \\n4 hours',\n",
       "       'Islamabad, Islāmābād, Pakistan Reposted  \\n22 hours',\n",
       "       'Lahore, Punjab, Pakistan Reposted  \\n12 hours',\n",
       "       'Rawalpindi, Punjab, Pakistan Reposted  \\n22 hours',\n",
       "       'Bin Qasim Town, Sindh, Pakistan',\n",
       "       'Lahore, Punjab, Pakistan Reposted  \\n22 hours',\n",
       "       'Hyderabad, Sindh, Pakistan Reposted  \\n22 hours',\n",
       "       'Karāchi, Sindh, Pakistan Reposted  \\n22 hours',\n",
       "       'Rawalpindi, Punjab, Pakistan Reposted  \\n23 hours',\n",
       "       'Lahore, Punjab, Pakistan Reposted  \\n23 hours',\n",
       "       'Karāchi, Sindh, Pakistan Reposted  \\n23 hours',\n",
       "       'Islamabad, Islāmābād, Pakistan Reposted  \\n23 hours',\n",
       "       'Pakistan Reposted  \\n23 hours',\n",
       "       'Sukkur Division, Sindh, Pakistan',\n",
       "       'Peshawar District, Khyber Pakhtunkhwa, Pakistan',\n",
       "       'Hyderabad, Sindh, Pakistan Reposted  \\n23 hours',\n",
       "       'Pakistan Reposted  \\n6 days',\n",
       "       'Multan, Punjab, Pakistan Reposted  \\n23 hours',\n",
       "       'Multan, Punjab, Pakistan Reposted  \\n1 day', 'Pakistan  \\n6 days',\n",
       "       'Hyderabad, Sindh, Pakistan Reposted',\n",
       "       'Faisalabad, Punjab, Pakistan Reposted  \\n6 days',\n",
       "       'Sibi, Baluchistan, Pakistan',\n",
       "       'Karachi Division, Sindh, Pakistan  \\n6 days',\n",
       "       'Islamabad, Islāmābād, Pakistan Reposted  \\n17 hours',\n",
       "       'Islāmābād, Pakistan  \\n6 days',\n",
       "       'Chaman, Baluchistan, Pakistan  \\n6 days',\n",
       "       'Faisalabad, Punjab, Pakistan Reposted  \\n1 day',\n",
       "       'Rawalpindi, Punjab, Pakistan  \\n6 days',\n",
       "       'Karachi Division, Sindh, Pakistan Reposted  \\n6 days',\n",
       "       'Faisalabad, Punjab, Pakistan  \\n6 days',\n",
       "       'Gujranwala, Punjab, Pakistan  \\n6 days',\n",
       "       'Punjab, Pakistan  \\n6 days',\n",
       "       'Lahore District, Punjab, Pakistan  \\n6 days',\n",
       "       'Peshawar, Khyber Pakhtunkhwa, Pakistan  \\n6 days',\n",
       "       'South Asia Reposted  \\n5 days', 'Bagar, Punjab, Pakistan',\n",
       "       'Quetta, Baluchistan, Pakistan  \\n6 days',\n",
       "       'Hyderabad District, Sindh, Pakistan  \\n6 days',\n",
       "       'Lahore, Punjab, Pakistan  \\n5 days',\n",
       "       'Islāmābād, Pakistan  \\n5 days',\n",
       "       'Multan, Punjab, Pakistan  \\n5 days',\n",
       "       'Quetta, Baluchistan, Pakistan  \\n5 days', 'Pakistan  \\n5 days',\n",
       "       'Islamabad, Islāmābād, Pakistan  \\n5 days',\n",
       "       'Pakistan Reposted  \\n5 days',\n",
       "       'Karachi Division, Sindh, Pakistan  \\n5 days',\n",
       "       'Islamabad, Islāmābād, Pakistan Reposted  \\n11 hours',\n",
       "       'Pakistan Reposted  \\n6 hours',\n",
       "       'Lahore District, Punjab, Pakistan  \\n5 days',\n",
       "       'Rahim Yar Khan District, Punjab, Pakistan Reposted  \\n2 days',\n",
       "       'Islāmābād, Pakistan Reposted  \\n5 days',\n",
       "       'Rawalpindi, Punjab, Pakistan  \\n5 days',\n",
       "       'Punjab, Pakistan  \\n5 days', 'Pakistan Reposted  \\n12 hours',\n",
       "       'Kabirwala, Punjab, Pakistan Reposted  \\n3 days',\n",
       "       'Pakistan Reposted  \\n1 day',\n",
       "       'Hyderabad, Sindh, Pakistan  \\n6 days',\n",
       "       'Faisalabad, Punjab, Pakistan  \\n5 days',\n",
       "       'Multan, Punjab, Pakistan  \\n6 days',\n",
       "       'Karachi Division, Sindh, Pakistan Reposted  \\n5 days',\n",
       "       'Shekhūpura, Punjab, Pakistan  \\n6 days',\n",
       "       'Karāchi, Sindh, Pakistan Reposted  \\n19 hours', 'APJ  \\n5 days',\n",
       "       'APAC  \\n6 days',\n",
       "       'Peshawar, Khyber Pakhtunkhwa, Pakistan  \\n5 days',\n",
       "       'South Asia  \\n5 days',\n",
       "       'Islamabad, Islāmābād, Pakistan Reposted  \\n15 hours',\n",
       "       'Peshawar, Khyber Pakhtunkhwa, Pakistan Reposted  \\n8 hours',\n",
       "       'Pakistan Reposted  \\n13 hours',\n",
       "       'Islamabad, Islāmābād, Pakistan Reposted  \\n8 hours',\n",
       "       'Rawalpindi, Punjab, Pakistan Reposted  \\n1 day',\n",
       "       'Faisalabad, Punjab, Pakistan  \\n4 days',\n",
       "       'Faisalabad, Punjab, Pakistan Reposted  \\n5 days',\n",
       "       'Peshawar, Khyber Pakhtunkhwa, Pakistan Reposted  \\n1 day',\n",
       "       'Kasūr, Punjab, Pakistan  \\n5 days',\n",
       "       'Hyderabad, Sindh, Pakistan Reposted  \\n1 day',\n",
       "       'Mehmood Kot, Punjab, Pakistan  \\n5 days',\n",
       "       'Azad Kashmir, Pakistan  \\n5 days',\n",
       "       'Muzaffargarh, Punjab, Pakistan  \\n5 days',\n",
       "       'Bahadar Kot, Khyber Pakhtunkhwa, Pakistan  \\n5 days',\n",
       "       'Sahiwal, Punjab, Pakistan  \\n5 days', 'APAC Reposted  \\n5 days',\n",
       "       'Fazilpur, Punjab, Pakistan  \\n5 days',\n",
       "       'Qasba Gujrat, Punjab, Pakistan  \\n5 days',\n",
       "       'Shikarpur, Sindh, Pakistan  \\n5 days',\n",
       "       'Sindh, Pakistan  \\n5 days',\n",
       "       'Bahawalpur, Punjab, Pakistan  \\n5 days',\n",
       "       'Karāchi, Sindh, Pakistan  \\n3 days', 'Pakistan  \\n3 days',\n",
       "       'Islamabad, Islāmābād, Pakistan  \\n3 days',\n",
       "       'Lahore, Punjab, Pakistan  \\n3 days',\n",
       "       'Mall Nau, Baluchistan, Pakistan Reposted  \\n3 days',\n",
       "       'Lahore District, Punjab, Pakistan  \\n3 days',\n",
       "       'Faisalabad, Punjab, Pakistan  \\n3 days',\n",
       "       'Islāmābād, Pakistan  \\n3 days',\n",
       "       'Rawalpindi, Punjab, Pakistan  \\n3 days', 'APAC  \\n3 days',\n",
       "       'Lahore Division, Punjab, Pakistan  \\n3 days',\n",
       "       'Islāmābād, Pakistan Reposted  \\n3 days',\n",
       "       'Jamshoro, Sindh, Pakistan Reposted  \\n3 days',\n",
       "       'Punjab, Pakistan  \\n2 days', 'Punjab, Pakistan  \\n3 days',\n",
       "       'Islamabad, Islāmābād, Pakistan  \\n2 days',\n",
       "       'Kot Chutta, Punjab, Pakistan  \\n2 days',\n",
       "       'Pakistan Reposted  \\n10 hours',\n",
       "       'Peshawar, Khyber Pakhtunkhwa, Pakistan  \\n3 days',\n",
       "       'Karachi Division, Sindh, Pakistan  \\n3 days', 'APJ  \\n3 days',\n",
       "       'Gujranwala, Punjab, Pakistan  \\n3 days',\n",
       "       'Jhang, Punjab, Pakistan  \\n3 days',\n",
       "       'Hyderabad, Sindh, Pakistan  \\n3 days',\n",
       "       'Multan District, Punjab, Pakistan  \\n3 days',\n",
       "       'Multan, Punjab, Pakistan  \\n3 days',\n",
       "       'Gujrāt, Punjab, Pakistan  \\n3 days',\n",
       "       'Bahawalpur District, Punjab, Pakistan  \\n3 days',\n",
       "       'Lahore District, Punjab, Pakistan Reposted  \\n3 days',\n",
       "       'Haripur District, Khyber Pakhtunkhwa, Pakistan  \\n3 days',\n",
       "       'Korangi District, Sindh, Pakistan Reposted  \\n3 days',\n",
       "       'Jamshoro, Sindh, Pakistan Reposted  \\n1 day',\n",
       "       'Hyderabad District, Sindh, Pakistan  \\n3 days',\n",
       "       'Sahiwal Division, Punjab, Pakistan  \\n3 days',\n",
       "       'Lahore, Punjab, Pakistan  \\n2 days',\n",
       "       'Karāchi, Sindh, Pakistan  \\n2 days',\n",
       "       'Peshawar, Khyber Pakhtunkhwa, Pakistan  \\n2 days',\n",
       "       'Parkersburg, WV Reposted  \\n2 days',\n",
       "       'Lahore District, Punjab, Pakistan  \\n2 days',\n",
       "       'Lahore, Punjab, Pakistan Reposted  \\n13 hours',\n",
       "       'Islamabad, Islāmābād, Pakistan Reposted  \\n20 hours',\n",
       "       'Islāmābād, Pakistan  \\n2 days',\n",
       "       'Sialkot, Punjab, Pakistan  \\n3 days',\n",
       "       'Islamabad, Islāmābād, Pakistan Reposted  \\n12 hours',\n",
       "       'Rawalpindi, Punjab, Pakistan Reposted  \\n21 hours',\n",
       "       'South Asia  \\n3 days',\n",
       "       'Sahiwal, Punjab, Pakistan Reposted  \\n3 days',\n",
       "       'Pakistan Reposted  \\n2 days',\n",
       "       'Narowal District, Punjab, Pakistan  \\n2 days',\n",
       "       'Karachi Division, Sindh, Pakistan  \\n2 days',\n",
       "       'Pakistan  \\n2 days',\n",
       "       'Islamabad, Islāmābād, Pakistan Reposted  \\n18 hours',\n",
       "       'Lahore, Punjab, Pakistan Reposted  \\n17 hours',\n",
       "       'Multan, Punjab, Pakistan Reposted  \\n20 hours',\n",
       "       'Multan, Punjab, Pakistan Reposted  \\n18 hours',\n",
       "       'Karāchi, Sindh, Pakistan Reposted  \\n17 hours',\n",
       "       'Khyber Pakhtunkhwa, Pakistan  \\n3 days',\n",
       "       'Karāchi, Sindh, Pakistan Reposted  \\n20 hours',\n",
       "       'Lahore, Punjab, Pakistan Reposted  \\n18 hours',\n",
       "       'Karāchi, Sindh, Pakistan Reposted  \\n18 hours',\n",
       "       'Rawalpindi, Punjab, Pakistan Reposted  \\n18 hours',\n",
       "       'Lahore, Punjab, Pakistan Reposted  \\n21 hours',\n",
       "       'New Karachi Town, Sindh, Pakistan Reposted  \\n1 day',\n",
       "       'Lahore District, Punjab, Pakistan  \\n1 day',\n",
       "       'Islamabad, Islāmābād, Pakistan Reposted  \\n21 hours',\n",
       "       'New Karachi Town, Sindh, Pakistan Reposted  \\n21 hours',\n",
       "       'Lahore, Punjab, Pakistan Reposted  \\n20 hours',\n",
       "       'Peshawar, Khyber Pakhtunkhwa, Pakistan Reposted  \\n20 hours',\n",
       "       'Islamabad, Punjab, Pakistan  \\n3 days',\n",
       "       'Faisalabad, Punjab, Pakistan  \\n2 days',\n",
       "       'Jhelum, Punjab, Pakistan  \\n2 days', 'India  \\n2 days',\n",
       "       'Rawalpindi, Punjab, Pakistan Reposted  \\n19 hours',\n",
       "       'Islamabad, Islāmābād, Pakistan Reposted  \\n19 hours',\n",
       "       'Quetta, Baluchistan, Pakistan  \\n2 days',\n",
       "       'New Karachi Town, Sindh, Pakistan Reposted  \\n22 hours',\n",
       "       'Multan, Punjab, Pakistan  \\n2 days',\n",
       "       'Rawalpindi, Punjab, Pakistan  \\n2 days',\n",
       "       'Hyderabad District, Sindh, Pakistan  \\n2 days',\n",
       "       'Pakistan Reposted  \\n21 hours',\n",
       "       'Karachi Division, Sindh, Pakistan Reposted  \\n18 hours',\n",
       "       'New Karachi Town, Sindh, Pakistan  \\n3 days',\n",
       "       'Lodhran District, Punjab, Pakistan  \\n2 days',\n",
       "       'Lahore, Punjab, Pakistan Reposted  \\n19 hours',\n",
       "       'Quetta, Baluchistan, Pakistan  \\n3 days',\n",
       "       'Okāra, Punjab, Pakistan  \\n3 days',\n",
       "       'Rawalpindi, Punjab, Pakistan Reposted  \\n20 hours',\n",
       "       'Kot Abdul Malik, Punjab, Pakistan  \\n3 days',\n",
       "       'APAC Reposted  \\n2 days', 'Kharian, Punjab, Pakistan  \\n2 days',\n",
       "       'Jhelum, Punjab, Pakistan Reposted  \\n2 days',\n",
       "       'Mānsehra, Khyber Pakhtunkhwa, Pakistan  \\n2 days',\n",
       "       'Faisalabad, Punjab, Pakistan Reposted  \\n2 days',\n",
       "       'Islāmābād, Pakistan Reposted  \\n2 days',\n",
       "       'Sindh, Pakistan  \\n2 days',\n",
       "       'Shekhūpura, Punjab, Pakistan  \\n2 days',\n",
       "       'Sialkot, Punjab, Pakistan  \\n2 days',\n",
       "       'Pakistan Reposted  \\n14 hours',\n",
       "       'Hyderabad, Sindh, Pakistan  \\n2 days',\n",
       "       'Peshawar, Khyber Pakhtunkhwa, Pakistan Reposted  \\n23 hours',\n",
       "       'Nawabshah, Sindh, Pakistan  \\n2 days',\n",
       "       'Gujranwala District, Punjab, Pakistan  \\n2 days',\n",
       "       'Ahmadpur East Tehsil, Punjab, Pakistan  \\n2 days',\n",
       "       'Naya Nazimabad, Pakistan  \\n2 days',\n",
       "       'Muzaffarabad, Azad Kashmir, Pakistan  \\n2 days',\n",
       "       'Lahore, Punjab, Pakistan  \\n1 day',\n",
       "       'Karāchi, Sindh, Pakistan  \\n1 day', 'Pakistan  \\n1 day',\n",
       "       'Islāmābād, Pakistan  \\n1 day',\n",
       "       'Islamabad, Islāmābād, Pakistan  \\n1 day',\n",
       "       'Rawalpindi, Punjab, Pakistan  \\n1 day',\n",
       "       'Faisalabad, Punjab, Pakistan  \\n1 day',\n",
       "       'Karachi Division, Sindh, Pakistan  \\n1 day',\n",
       "       'South Asia  \\n2 days',\n",
       "       'Karachi Division, Sindh, Pakistan Reposted  \\n20 hours',\n",
       "       'Pakistan Reposted  \\n18 hours',\n",
       "       'Mandi Bahauddin District, Punjab, Pakistan  \\n1 day',\n",
       "       'Sialkot, Punjab, Pakistan  \\n1 day',\n",
       "       'Quetta, Baluchistan, Pakistan  \\n1 day',\n",
       "       'Punjab, Pakistan  \\n1 day', 'APJ  \\n1 day',\n",
       "       'Khyber Pakhtunkhwa, Pakistan  \\n1 day',\n",
       "       'Kharian, Punjab, Pakistan  \\n1 day',\n",
       "       'Peshawar, Khyber Pakhtunkhwa, Pakistan  \\n1 day',\n",
       "       'Sargodha, Punjab, Pakistan  \\n2 days',\n",
       "       'Clifton, Sindh, Pakistan  \\n1 day', 'APAC  \\n2 days',\n",
       "       'Kohāt, Khyber Pakhtunkhwa, Pakistan  \\n2 days', 'APJ  \\n2 days',\n",
       "       'Islamabad, Islāmābād, Pakistan  \\n23 hours',\n",
       "       'Pakistan  \\n17 hours', 'Karāchi, Sindh, Pakistan  \\n21 hours',\n",
       "       'Pakistan  \\n16 hours', 'Pakistan  \\n21 hours',\n",
       "       'Lahore, Punjab, Pakistan  \\n19 hours',\n",
       "       'Lahore, Punjab, Pakistan  \\n20 hours',\n",
       "       'Lahore, Punjab, Pakistan  \\n17 hours',\n",
       "       'Karāchi, Sindh, Pakistan  \\n16 hours',\n",
       "       'Islamabad, Islāmābād, Pakistan  \\n19 hours',\n",
       "       'Lahore District, Punjab, Pakistan Reposted  \\n1 day',\n",
       "       'Multan, Punjab, Pakistan  \\n1 day',\n",
       "       'Rawalpindi, Punjab, Pakistan  \\n20 hours',\n",
       "       'Lodhran District, Punjab, Pakistan  \\n1 day',\n",
       "       'Islamabad, Islāmābād, Pakistan  \\n21 hours',\n",
       "       'Faisalabad, Punjab, Pakistan  \\n20 hours',\n",
       "       'Lahore, Punjab, Pakistan  \\n22 hours',\n",
       "       'Rawalpindi, Punjab, Pakistan  \\n23 hours',\n",
       "       'Karachi Division, Sindh, Pakistan Reposted  \\n1 day',\n",
       "       'Lahore, Punjab, Pakistan  \\n21 hours',\n",
       "       'Peshawar District, Khyber Pakhtunkhwa, Pakistan  \\n1 day',\n",
       "       'Sindh, Pakistan  \\n1 day',\n",
       "       'Dera Ghazi Khan District, Punjab, Pakistan  \\n1 day',\n",
       "       'Rawalpindi, Punjab, Pakistan  \\n17 hours', 'Pakistan  \\n22 hours',\n",
       "       'Lahore, Punjab, Pakistan  \\n12 hours',\n",
       "       'Islamabad, Islāmābād, Pakistan  \\n17 hours',\n",
       "       'Karāchi, Sindh, Pakistan  \\n23 hours',\n",
       "       'Bahawalpur, Punjab, Pakistan  \\n1 day',\n",
       "       'Hyderabad, Sindh, Pakistan  \\n1 day',\n",
       "       'Multan, Punjab, Pakistan  \\n23 hours',\n",
       "       'Gujranwala, Punjab, Pakistan  \\n1 day',\n",
       "       'Lahore, Punjab, Pakistan  \\n23 hours',\n",
       "       'Sialkot District, Punjab, Pakistan  \\n1 day',\n",
       "       'Pakistan  \\n13 hours', 'APJ  \\n12 hours',\n",
       "       'Lahore, Punjab, Pakistan  \\n11 hours',\n",
       "       'Islamabad, Islāmābād, Pakistan  \\n22 hours',\n",
       "       'Faisalabad, Punjab, Pakistan  \\n23 hours',\n",
       "       'New Karachi Town, Sindh, Pakistan  \\n20 hours',\n",
       "       'Abbottabad Tehsil, Khyber Pakhtunkhwa, Pakistan  \\n23 hours',\n",
       "       'Karachi Division, Sindh, Pakistan  \\n13 hours',\n",
       "       'Karāchi, Sindh, Pakistan  \\n20 hours',\n",
       "       'Muzaffargarh, Punjab, Pakistan  \\n1 day',\n",
       "       'Rawalpindi, Punjab, Pakistan  \\n19 hours',\n",
       "       'Okara District, Punjab, Pakistan  \\n1 day',\n",
       "       'Islamabad, Islāmābād, Pakistan  \\n18 hours',\n",
       "       'Faisalabad, Punjab, Pakistan  \\n19 hours',\n",
       "       'Karāchi, Sindh, Pakistan  \\n6 hours',\n",
       "       'Islamabad, Islāmābād, Pakistan  \\n15 hours',\n",
       "       'Karāchi, Sindh, Pakistan  \\n18 hours', 'Pakistan  \\n20 hours',\n",
       "       'Gujrāt, Punjab, Pakistan  \\n20 hours',\n",
       "       'Karāchi, Sindh, Pakistan  \\n19 hours',\n",
       "       'Karāchi, Sindh, Pakistan  \\n15 hours',\n",
       "       'Karachi Division, Sindh, Pakistan  \\n22 hours',\n",
       "       'Rawalpindi, Punjab, Pakistan  \\n15 hours',\n",
       "       'Karachi Division, Sindh, Pakistan  \\n20 hours', 'APJ  \\n13 hours',\n",
       "       'Karāchi, Sindh, Pakistan  \\n22 hours',\n",
       "       'Faisalabad, Punjab, Pakistan  \\n18 hours',\n",
       "       'Lahore, Punjab, Pakistan  \\n13 hours', 'South Asia  \\n1 day',\n",
       "       'Pakistan  \\n19 hours', 'Rawalpindi, Punjab, Pakistan  \\n22 hours',\n",
       "       'Larkana District, Sindh, Pakistan  \\n1 day',\n",
       "       'More Khunda, Punjab, Pakistan  \\n18 hours',\n",
       "       'Karāchi, Sindh, Pakistan  \\n14 hours',\n",
       "       'Lahore District, Punjab, Pakistan  \\n22 hours',\n",
       "       'Lahore, Punjab, Pakistan  \\n18 hours',\n",
       "       'Karāchi, Sindh, Pakistan  \\n13 hours',\n",
       "       'Islamabad, Islāmābād, Pakistan  \\n20 hours',\n",
       "       'South Asia  \\n14 hours', 'Lahore, Punjab, Pakistan  \\n15 hours',\n",
       "       'Lahore District, Punjab, Pakistan  \\n19 hours',\n",
       "       'Rawalpindi, Punjab, Pakistan  \\n6 hours',\n",
       "       'Islāmābād, Pakistan  \\n21 hours',\n",
       "       'Quetta, Baluchistan, Pakistan  \\n2 hours',\n",
       "       'Lahore, Punjab, Pakistan  \\n8 hours',\n",
       "       'Lahore, Punjab, Pakistan  \\n10 hours',\n",
       "       'Karāchi, Sindh, Pakistan  \\n3 hours',\n",
       "       'Lahore District, Punjab, Pakistan  \\n12 hours',\n",
       "       'Islamabad, Islāmābād, Pakistan  \\n1 hour',\n",
       "       'Karachi Division, Sindh, Pakistan  \\n19 hours',\n",
       "       'Mānsehra, Khyber Pakhtunkhwa, Pakistan  \\n7 hours',\n",
       "       'Okāra, Punjab, Pakistan  \\n7 hours',\n",
       "       'Lahore, Punjab, Pakistan  \\n4 hours',\n",
       "       'Karāchi, Sindh, Pakistan  \\n7 hours',\n",
       "       'Karāchi, Sindh, Pakistan  \\n10 hours',\n",
       "       'Bahawalpur, Punjab, Pakistan  \\n12 hours', 'Pakistan  \\n10 hours',\n",
       "       'Karāchi, Sindh, Pakistan  \\n11 hours',\n",
       "       'Karāchi, Sindh, Pakistan  \\n8 hours',\n",
       "       'Karāchi, Sindh, Pakistan  \\n12 hours',\n",
       "       'Lahore, Punjab, Pakistan  \\n7 hours', 'Pakistan  \\n12 hours',\n",
       "       'Dajal, Punjab, Pakistan  \\n2 hours',\n",
       "       'Bahawalpur, Punjab, Pakistan  \\n19 hours',\n",
       "       'Islāmābād, Pakistan  \\n15 hours',\n",
       "       'Sialkot, Punjab, Pakistan  \\n20 hours',\n",
       "       'Lahore, Punjab, Pakistan  \\n5 hours',\n",
       "       'Gulshan Town, Sindh, Pakistan  \\n7 hours',\n",
       "       'Rawalpindi, Punjab, Pakistan  \\n5 hours',\n",
       "       'Korangi District, Sindh, Pakistan  \\n10 hours',\n",
       "       'Karachi Division, Sindh, Pakistan  \\n10 hours',\n",
       "       'Faisalabad, Punjab, Pakistan  \\n11 hours',\n",
       "       'Lahore, Punjab, Pakistan Reposted  \\n15 hours',\n",
       "       'Islamabad, Islāmābād, Pakistan  \\n16 hours',\n",
       "       'Jhelum, Punjab, Pakistan  \\n23 hours',\n",
       "       'Lahore, Punjab, Pakistan  \\n3 hours',\n",
       "       'Karachi Division, Sindh, Pakistan  \\n16 hours',\n",
       "       'Sāhīwāl, Punjab, Pakistan  \\n9 hours',\n",
       "       'Faisalabad, Punjab, Pakistan  \\n16 hours',\n",
       "       'Gujrāt, Punjab, Pakistan  \\n6 hours',\n",
       "       'Karāchi, Sindh, Pakistan  \\n9 hours',\n",
       "       'Lahore, Punjab, Pakistan  \\n9 hours',\n",
       "       'Sāhīwāl, Punjab, Pakistan  \\n12 hours',\n",
       "       'Vehari, Punjab, Pakistan  \\n3 hours',\n",
       "       'Islamabad, Islāmābād, Pakistan  \\n2 hours',\n",
       "       'Islāmābād, Pakistan  \\n11 hours',\n",
       "       'Islamabad, Islāmābād, Pakistan  \\n11 hours',\n",
       "       'Lahore, Punjab, Pakistan  \\n6 hours',\n",
       "       'Thal, Khyber Pakhtunkhwa, Pakistan  \\n14 hours',\n",
       "       'Lahore, Punjab, Pakistan  \\n14 hours',\n",
       "       'Karāchi, Sindh, Pakistan  \\n4 hours',\n",
       "       'Rahim Yar Khan District, Punjab, Pakistan  \\n8 hours',\n",
       "       'Pakistan  \\n17 minutes', 'Karāchi, Sindh, Pakistan  \\n2 hours',\n",
       "       'Pakistan  \\n15 hours',\n",
       "       'Peshawar, Khyber Pakhtunkhwa, Pakistan  \\n6 hours',\n",
       "       'Islāmābād, Pakistan  \\n6 hours',\n",
       "       'Karachi Division, Sindh, Pakistan  \\n11 hours',\n",
       "       'Lahore, Punjab, Pakistan  \\n1 hour',\n",
       "       'Lahore District, Punjab, Pakistan  \\n21 hours',\n",
       "       'Pakistan Reposted  \\n17 hours', 'APJ  \\n1 hour',\n",
       "       'Karāchi, Sindh, Pakistan  \\n48 minutes',\n",
       "       'Lahore, Punjab, Pakistan  \\n2 hours',\n",
       "       'Karachi Division, Sindh, Pakistan  \\n12 hours',\n",
       "       'Karāchi, Sindh, Pakistan Reposted  \\n12 hours',\n",
       "       'Islāmābād, Pakistan  \\n14 hours',\n",
       "       'Karachi Division, Sindh, Pakistan  \\n8 hours', 'APJ  \\n2 hours',\n",
       "       'Bahawalpur, Punjab, Pakistan  \\n9 hours',\n",
       "       'Karāchi, Sindh, Pakistan  \\n1 hour',\n",
       "       'Islamabad, Islāmābād, Pakistan  \\n23 minutes',\n",
       "       'Rawalpindi, Punjab, Pakistan  \\n2 hours',\n",
       "       'Islamabad, Islāmābād, Pakistan  \\n4 hours', 'APAC  \\n1 hour',\n",
       "       'Pakistan  \\n7 hours', 'Rawalpindi, Punjab, Pakistan  \\n8 hours',\n",
       "       'Islamabad, Islāmābād, Pakistan  \\n7 hours',\n",
       "       'Pakistan  \\n49 minutes',\n",
       "       'Islamabad, Islāmābād, Pakistan  \\n9 hours',\n",
       "       'Karachi Division, Sindh, Pakistan  \\n5 hours',\n",
       "       'Pakistan  \\n37 minutes',\n",
       "       'Lahore District, Punjab, Pakistan  \\n6 hours',\n",
       "       'Lahore District, Punjab, Pakistan  \\n3 hours',\n",
       "       'Punjab, Pakistan  \\n8 hours', 'Pakistan  \\n1 hour',\n",
       "       'Pakistan  \\n42 minutes', 'Karāchi, Sindh, Pakistan  \\n5 hours',\n",
       "       'Islamabad, Islāmābād, Pakistan  \\n14 hours',\n",
       "       'Lahore, Punjab, Pakistan  \\n16 hours',\n",
       "       'Quetta, Baluchistan, Pakistan  \\n10 hours',\n",
       "       'Lahore District, Punjab, Pakistan  \\n8 hours', 'APAC  \\n3 hours',\n",
       "       'Sahiwal Division, Punjab, Pakistan  \\n17 hours',\n",
       "       'Rawalpindi, Punjab, Pakistan  \\n11 hours',\n",
       "       'Lahore, Punjab, Pakistan  \\n36 minutes', 'Pakistan  \\n9 hours',\n",
       "       'Karachi Division, Sindh, Pakistan  \\n44 minutes',\n",
       "       'Pakistan  \\n4 hours',\n",
       "       'Karachi Division, Sindh, Pakistan  \\n55 minutes',\n",
       "       'Rawalpindi, Punjab, Pakistan  \\n7 hours',\n",
       "       'Islamabad, Islāmābād, Pakistan  \\n8 hours',\n",
       "       'Thal, Khyber Pakhtunkhwa, Pakistan  \\n5 hours',\n",
       "       'Pakistan  \\n14 hours', 'Islāmābād, Pakistan  \\n22 hours',\n",
       "       'Islāmābād, Pakistan  \\n20 hours',\n",
       "       'Faisalabad, Punjab, Pakistan  \\n17 hours',\n",
       "       'Karāchi, Sindh, Pakistan  \\n17 hours',\n",
       "       'Karachi Division, Sindh, Pakistan  \\n18 hours',\n",
       "       'Multan, Punjab, Pakistan  \\n11 hours',\n",
       "       'Islāmābād, Pakistan  \\n23 hours',\n",
       "       'Karāchi, Sindh, Pakistan Reposted  \\n7 hours',\n",
       "       'Karāchi, Sindh, Pakistan  \\n32 minutes',\n",
       "       'Islamabad, Islāmābād, Pakistan  \\n6 hours',\n",
       "       'Karachi Division, Sindh, Pakistan  \\n21 hours',\n",
       "       'Pakistan  \\n2 hours',\n",
       "       'Islamabad, Islāmābād, Pakistan  \\n10 hours',\n",
       "       'South Asia  \\n17 hours', 'Sindh, Pakistan  \\n22 hours',\n",
       "       'Karachi Division, Sindh, Pakistan  \\n14 hours',\n",
       "       'Pakistan Reposted  \\n5 hours',\n",
       "       'Karachi Division, Sindh, Pakistan Reposted  \\n14 hours',\n",
       "       'Peshawar, Khyber Pakhtunkhwa, Pakistan  \\n13 hours',\n",
       "       'Pakistan  \\n23 hours',\n",
       "       'Karachi Division, Sindh, Pakistan  \\n23 hours',\n",
       "       'Jarānwāla, Punjab, Pakistan  \\n16 hours',\n",
       "       'Karachi Division, Sindh, Pakistan  \\n6 hours',\n",
       "       'Gujranwala, Punjab, Pakistan  \\n6 hours',\n",
       "       'Faisalabad, Punjab, Pakistan  \\n7 hours',\n",
       "       'Peshawar District, Khyber Pakhtunkhwa, Pakistan  \\n9 hours',\n",
       "       'Pakistan  \\n8 hours', 'Faisalabad, Punjab, Pakistan  \\n12 hours',\n",
       "       'Sukkur District, Sindh, Pakistan  \\n22 hours',\n",
       "       'Jamshoro, Sindh, Pakistan  \\n17 hours',\n",
       "       'Multan, Punjab, Pakistan  \\n13 hours',\n",
       "       'Torwarsak, Khyber Pakhtunkhwa, Pakistan  \\n22 hours',\n",
       "       'Multan, Punjab, Pakistan  \\n7 hours',\n",
       "       'Quetta, Baluchistan, Pakistan  \\n6 hours',\n",
       "       'Rawalpindi, Punjab, Pakistan  \\n3 hours',\n",
       "       'Rawalpindi District, Punjab, Pakistan  \\n8 hours',\n",
       "       'Multan, Punjab, Pakistan  \\n17 hours',\n",
       "       'Lahore District, Punjab, Pakistan  \\n20 hours', 'APAC  \\n1 day',\n",
       "       'Rawalpindi, Punjab, Pakistan  \\n18 hours',\n",
       "       'Lahore District, Punjab, Pakistan  \\n18 hours',\n",
       "       'Karachi Division, Sindh, Pakistan  \\n1 hour',\n",
       "       'Karachi Division, Sindh, Pakistan  \\n2 hours',\n",
       "       'Faisalabad, Punjab, Pakistan  \\n15 hours',\n",
       "       'Rawalpindi, Punjab, Pakistan  \\n12 hours',\n",
       "       'Pakistan  \\n13 minutes', 'Rawalpindi, Punjab, Pakistan  \\n1 hour',\n",
       "       'South Asia  \\n21 hours',\n",
       "       'Faisalabad, Punjab, Pakistan  \\n9 hours',\n",
       "       'Islāmābād, Pakistan  \\n13 hours',\n",
       "       'Peshawar, Khyber Pakhtunkhwa, Pakistan  \\n22 hours',\n",
       "       'Islāmābād, Pakistan  \\n10 hours',\n",
       "       'Karachi Division, Sindh, Pakistan Reposted  \\n12 hours',\n",
       "       'Pakistan  \\n6 hours',\n",
       "       'Lahore Division, Punjab, Pakistan  \\n22 hours',\n",
       "       'Pakistan  \\n18 hours', 'Rawalpindi, Punjab, Pakistan  \\n13 hours',\n",
       "       'Islamabad, Islāmābād, Pakistan  \\n12 hours',\n",
       "       'Islamabad, Islāmābād, Pakistan  \\n13 hours',\n",
       "       'Kharian, Punjab, Pakistan  \\n19 hours',\n",
       "       'Lahore, Punjab, Pakistan Reposted  \\n16 hours',\n",
       "       'Islāmābād, Pakistan  \\n16 hours',\n",
       "       'Karachi Division, Sindh, Pakistan  \\n17 hours',\n",
       "       'Nawabshah, Sindh, Pakistan  \\n17 hours',\n",
       "       'Islamabad, Islāmābād, Pakistan  \\n3 hours',\n",
       "       'Jhelum, Punjab, Pakistan  \\n20 hours',\n",
       "       'Lahore District, Punjab, Pakistan  \\n15 hours',\n",
       "       'Kot Chutta, Punjab, Pakistan  \\n21 hours',\n",
       "       'Karachi Division, Sindh, Pakistan  \\n15 hours',\n",
       "       'Chaman, Baluchistan, Pakistan  \\n19 hours',\n",
       "       'Multan, Punjab, Pakistan  \\n3 hours',\n",
       "       'Hyderabad, Sindh, Pakistan  \\n3 hours',\n",
       "       'Gujrāt, Punjab, Pakistan  \\n22 hours',\n",
       "       'Rahim Yar Khan District, Punjab, Pakistan  \\n23 hours',\n",
       "       'Shekhūpura, Punjab, Pakistan  \\n9 hours',\n",
       "       'Peshawar, Khyber Pakhtunkhwa, Pakistan  \\n3 hours',\n",
       "       'Karachi Division, Sindh, Pakistan Reposted  \\n7 hours',\n",
       "       'Islāmābād, Pakistan  \\n17 hours',\n",
       "       'Islamabad, Punjab, Pakistan  \\n16 hours',\n",
       "       'Rawalpindi, Punjab, Pakistan  \\n9 hours',\n",
       "       'Rahimyar Khan, Punjab, Pakistan  \\n12 hours',\n",
       "       'Sargodha, Punjab, Pakistan  \\n20 hours',\n",
       "       'APJ Reposted  \\n19 hours', 'APAC Reposted  \\n19 hours',\n",
       "       'Rawalpindi, Punjab, Pakistan  \\n10 hours',\n",
       "       'Haripur District, Khyber Pakhtunkhwa, Pakistan  \\n3 hours',\n",
       "       'South Asia Reposted  \\n11 hours',\n",
       "       'Sargodha, Punjab, Pakistan  \\n21 hours',\n",
       "       'Hyderabad, Sindh, Pakistan  \\n11 hours',\n",
       "       'Jhelum, Punjab, Pakistan  \\n14 hours',\n",
       "       'Lahore Division, Punjab, Pakistan  \\n5 hours',\n",
       "       'Rawalpindi, Punjab, Pakistan   2 \\n23 hours',\n",
       "       'Gujranwala, Punjab, Pakistan  \\n21 hours',\n",
       "       'Islāmābād, Pakistan Reposted  \\n18 hours',\n",
       "       'Lahore, Punjab, Pakistan Reposted  \\n10 hours',\n",
       "       'Faisalabad, Punjab, Pakistan  \\n13 hours',\n",
       "       'Islamabad, Islāmābād, Pakistan Reposted  \\n10 hours',\n",
       "       'Lahore District, Punjab, Pakistan  \\n17 hours',\n",
       "       'Pakistan  \\n5 hours', 'Islamabad, Islāmābād, Pakistan  \\n5 hours',\n",
       "       'Pakistan  \\n11 hours',\n",
       "       'Quetta, Baluchistan, Pakistan  \\n18 hours',\n",
       "       'Karachi Division, Sindh, Pakistan  \\n9 hours',\n",
       "       'Jhelum, Punjab, Pakistan Reposted  \\n17 hours',\n",
       "       'Peshawar, Khyber Pakhtunkhwa, Pakistan Reposted  \\n10 hours',\n",
       "       'Islāmābād, Pakistan  \\n19 hours', 'APJ  \\n58 minutes',\n",
       "       'Peshawar, Khyber Pakhtunkhwa, Pakistan  \\n15 hours',\n",
       "       'Lahore District, Punjab, Pakistan  \\n14 hours',\n",
       "       'Karachi Division, Sindh, Pakistan Reposted  \\n10 hours',\n",
       "       'Pakistan  \\n3 hours', 'Gujranwala, Punjab, Pakistan  \\n17 hours',\n",
       "       'Jhelum, Punjab, Pakistan  \\n22 hours',\n",
       "       'Faisalabad, Punjab, Pakistan  \\n6 hours',\n",
       "       'Gujrāt, Punjab, Pakistan  \\n21 hours',\n",
       "       'Karāchi, Sindh, Pakistan  \\n3 minutes',\n",
       "       'Punjab, Pakistan  \\n21 hours',\n",
       "       'Lahore District, Punjab, Pakistan  \\n10 hours',\n",
       "       'Pakistan Reposted  \\n19 hours',\n",
       "       'Karachi Division, Sindh, Pakistan  \\n7 hours',\n",
       "       'Multan, Punjab, Pakistan  \\n15 hours',\n",
       "       'Sindh, Pakistan  \\n12 hours', 'Islāmābād, Pakistan  \\n12 hours',\n",
       "       'Bahawalpur, Punjab, Pakistan  \\n7 hours',\n",
       "       'Gujranwala, Punjab, Pakistan  \\n1 hour',\n",
       "       'Chakwal District, Punjab, Pakistan  \\n15 hours',\n",
       "       'Lahore, Punjab, Pakistan  \\n1 month',\n",
       "       'Islamabad, Islāmābād, Pakistan  \\n1 month',\n",
       "       'Karāchi, Sindh, Pakistan  \\n1 month',\n",
       "       'Islamabad, Punjab, Pakistan  \\n1 month',\n",
       "       'Rawalpindi, Punjab, Pakistan  \\n1 month',\n",
       "       'Islāmābād, Pakistan  \\n1 month', 'Pakistan  \\n1 month',\n",
       "       'Lahore, Punjab, Pakistan Reposted  \\n1 month',\n",
       "       'Karachi Division, Sindh, Pakistan  \\n1 month',\n",
       "       'Faisalabad, Punjab, Pakistan Reposted  \\n1 month',\n",
       "       'Faisalabad, Punjab, Pakistan  \\n1 month',\n",
       "       'Karāchi, Sindh, Pakistan Reposted  \\n1 month',\n",
       "       'Islamabad, Islāmābād, Pakistan Reposted  \\n1 month',\n",
       "       'Quetta, Baluchistan, Pakistan Reposted  \\n1 month',\n",
       "       'Lahore, Punjab, Pakistan Reposted  \\n3 weeks',\n",
       "       'Karāchi, Sindh, Pakistan Reposted  \\n2 weeks',\n",
       "       'Islamabad, Islāmābād, Pakistan Reposted  \\n2 weeks',\n",
       "       'Hyderabad District, Sindh, Pakistan  \\n1 month',\n",
       "       'Hyderabad, Sindh, Pakistan Reposted  \\n2 weeks',\n",
       "       'Lahore, Punjab, Pakistan Reposted  \\n2 weeks',\n",
       "       'Sialkot, Punjab, Pakistan  \\n1 month',\n",
       "       'Karachi Division, Sindh, Pakistan Reposted  \\n1 month',\n",
       "       'Islamabad, Islāmābād, Pakistan Reposted  \\n3 weeks',\n",
       "       'Karachi Division, Sindh, Pakistan Reposted  \\n2 weeks',\n",
       "       'Pakistan Reposted  \\n1 month',\n",
       "       'Lahore Division, Punjab, Pakistan  \\n1 month',\n",
       "       'Sindh, Pakistan  \\n1 month',\n",
       "       'Jacobabad, Sindh, Pakistan Reposted',\n",
       "       'Punjab, Pakistan  \\n1 month',\n",
       "       'Peshawar, Khyber Pakhtunkhwa, Pakistan Reposted  \\n2 weeks',\n",
       "       'Karachi Division, Sindh, Pakistan Reposted  \\n3 weeks',\n",
       "       'Peshawar, Khyber Pakhtunkhwa, Pakistan Reposted  \\n1 month',\n",
       "       'Haroonabad, Punjab, Pakistan  \\n1 month',\n",
       "       'Rahim Yar Khan District, Punjab, Pakistan  \\n1 month',\n",
       "       'Johar Town, Punjab, Pakistan  \\n1 month',\n",
       "       'Hyderabad, Sindh, Pakistan  \\n1 month',\n",
       "       'Sahiwal Division, Punjab, Pakistan  \\n1 month',\n",
       "       'Renala Khurd, Punjab, Pakistan  \\n1 month',\n",
       "       'Lahore District, Punjab, Pakistan  \\n1 month',\n",
       "       'Taxila, Punjab, Pakistan  \\n1 month',\n",
       "       'Multan, Punjab, Pakistan  \\n1 month',\n",
       "       'Sukkur, Sindh, Pakistan  \\n1 month',\n",
       "       'Haripur District, Khyber Pakhtunkhwa, Pakistan  \\n1 month',\n",
       "       'Sāhīwāl, Punjab, Pakistan  \\n1 month',\n",
       "       'Jhelum, Punjab, Pakistan  \\n1 month',\n",
       "       'New Karachi Town, Sindh, Pakistan  \\n1 month',\n",
       "       'Multan District, Punjab, Pakistan  \\n1 month',\n",
       "       'Toba Tek Singh District, Punjab, Pakistan  \\n1 month',\n",
       "       'Lahore District, Punjab, Pakistan Reposted  \\n1 month',\n",
       "       'Lahore, Punjab, Pakistan Reposted  \\n4 weeks',\n",
       "       'Kampala, Central Region, Uganda  \\n1 month',\n",
       "       'Mardan District, Khyber Pakhtunkhwa, Pakistan  \\n1 month',\n",
       "       'Pakpattan District, Punjab, Pakistan  \\n1 month',\n",
       "       'Kharian, Punjab, Pakistan  \\n1 month',\n",
       "       'Rawalpindi, Punjab, Pakistan Reposted  \\n1 month',\n",
       "       'Karāchi, Sindh, Pakistan Reposted  \\n3 weeks',\n",
       "       'Gujrāt, Punjab, Pakistan  \\n1 month',\n",
       "       'Sargodha, Punjab, Pakistan  \\n1 month',\n",
       "       'Khānewāl, Punjab, Pakistan  \\n1 month',\n",
       "       'APAC Reposted  \\n1 month',\n",
       "       'Peshawar, Khyber Pakhtunkhwa, Pakistan  \\n1 month',\n",
       "       'Bahawalpur, Punjab, Pakistan  \\n1 month',\n",
       "       'Pattoki, Punjab, Pakistan  \\n1 month', 'APJ  \\n1 month',\n",
       "       'Lahore District, Punjab, Pakistan Reposted  \\n5 days',\n",
       "       'Sukkur, Sindh, Pakistan  \\n5 days',\n",
       "       'Sāhīwāl, Punjab, Pakistan  \\n5 days',\n",
       "       'Faisalabad, Punjab, Pakistan Reposted  \\n3 days',\n",
       "       'Sialkot, Punjab, Pakistan  \\n5 days',\n",
       "       'Sāhīwāl, Punjab, Pakistan  \\n6 days',\n",
       "       'Lahore Division, Punjab, Pakistan  \\n5 days',\n",
       "       'Sargodha, Punjab, Pakistan  \\n5 days',\n",
       "       'Thatta District, Sindh, Pakistan  \\n5 days',\n",
       "       'Lahore District, Punjab, Pakistan Reposted  \\n4 days',\n",
       "       'Lahore District, Punjab, Pakistan  \\n4 days',\n",
       "       'Pakistan Reposted  \\n3 days',\n",
       "       'Khushāb, Punjab, Pakistan  \\n4 days',\n",
       "       'Sahiwal, Punjab, Pakistan  \\n4 days',\n",
       "       'Peshawar, Khyber Pakhtunkhwa, Pakistan  \\n4 days',\n",
       "       'Okara District, Punjab, Pakistan  \\n4 days',\n",
       "       'Kohāt, Khyber Pakhtunkhwa, Pakistan  \\n4 days',\n",
       "       'Bahawalpur, Punjab, Pakistan  \\n3 days',\n",
       "       'Rawalpindi, Punjab, Pakistan Reposted  \\n2 days',\n",
       "       'Gulshan Town, Sindh, Pakistan  \\n3 days',\n",
       "       'Gujranwala, Punjab, Pakistan  \\n4 days',\n",
       "       'Malir District, Sindh, Pakistan  \\n3 days',\n",
       "       'Bahawalpur, Punjab, Pakistan  \\n4 days',\n",
       "       'Faisalabad, Punjab, Pakistan Reposted  \\n4 days',\n",
       "       'Mirpur, Azad Kashmir, Pakistan  \\n4 days',\n",
       "       'Faisalabad District, Punjab, Pakistan  \\n4 days',\n",
       "       'Sukkur, Sindh, Pakistan  \\n4 days',\n",
       "       'Islamabad, Islāmābād, Pakistan  \\n2 weeks',\n",
       "       'Rawalpindi, Punjab, Pakistan  \\n2 weeks',\n",
       "       'Lahore, Punjab, Pakistan  \\n3 weeks', 'Pakistan  \\n2 weeks',\n",
       "       'Karāchi, Sindh, Pakistan  \\n3 weeks',\n",
       "       'Islāmābād, Pakistan  \\n2 weeks', 'Islāmābād, Pakistan  \\n3 weeks',\n",
       "       'Karachi Division, Sindh, Pakistan  \\n2 weeks',\n",
       "       'Jhelum, Punjab, Pakistan  \\n3 weeks',\n",
       "       'Punjab, Pakistan  \\n2 weeks',\n",
       "       'Islamabad, Islāmābād, Pakistan  \\n3 weeks',\n",
       "       'Karachi Division, Sindh, Pakistan  \\n3 weeks',\n",
       "       'Rawalpindi, Punjab, Pakistan  \\n3 weeks',\n",
       "       'Khānewāl, Punjab, Pakistan Reposted  \\n3 weeks',\n",
       "       'Quetta, Baluchistan, Pakistan Reposted  \\n3 weeks',\n",
       "       'Khyber Pakhtunkhwa, Pakistan  \\n3 weeks',\n",
       "       'Kabirwala, Punjab, Pakistan Reposted  \\n2 weeks',\n",
       "       'Pakistan  \\n3 weeks',\n",
       "       'Mianwali District, Punjab, Pakistan  \\n3 weeks',\n",
       "       'Bahawalpur, Punjab, Pakistan  \\n3 weeks',\n",
       "       'Pakistan Reposted  \\n2 weeks',\n",
       "       'Hāsilpur, Punjab, Pakistan  \\n2 weeks',\n",
       "       'Mingāora, Khyber Pakhtunkhwa, Pakistan  \\n3 weeks',\n",
       "       'Lahore District, Punjab, Pakistan  \\n3 weeks',\n",
       "       'Multan, Punjab, Pakistan  \\n2 weeks',\n",
       "       'Pasrur, Punjab, Pakistan  \\n3 weeks',\n",
       "       'Faisalabad, Punjab, Pakistan  \\n3 weeks',\n",
       "       'Latifabad, Sindh, Pakistan  \\n3 weeks',\n",
       "       'Rawalpindi, Punjab, Pakistan Reposted  \\n2 weeks',\n",
       "       'Punjab, Pakistan  \\n3 weeks', 'Azad Kashmir, Pakistan  \\n2 weeks',\n",
       "       'MENA  \\n3 weeks',\n",
       "       'Swabi, Khyber Pakhtunkhwa, Pakistan  \\n3 weeks',\n",
       "       'Lahore Division, Punjab, Pakistan  \\n2 weeks',\n",
       "       'Chakwal District, Punjab, Pakistan  \\n3 weeks',\n",
       "       'Faisalabad, Punjab, Pakistan  \\n2 weeks', 'APAC  \\n3 weeks',\n",
       "       'Sialkot, Punjab, Pakistan  \\n2 weeks',\n",
       "       'Gujranwala, Punjab, Pakistan  \\n2 weeks',\n",
       "       'Faisalabad, Punjab, Pakistan Reposted  \\n2 weeks',\n",
       "       'Quetta, Baluchistan, Pakistan Reposted',\n",
       "       'Haripur, Punjab, Pakistan Reposted  \\n3 days',\n",
       "       'Punjab, Pakistan Reposted  \\n4 days',\n",
       "       'Karāchi, Sindh, Pakistan Reposted  \\n11 hours',\n",
       "       'Rawalpindi, Punjab, Pakistan Reposted',\n",
       "       'Lahore District, Punjab, Pakistan  \\n2 weeks',\n",
       "       'Lahore District, Punjab, Pakistan Reposted  \\n2 weeks',\n",
       "       'Rakhni, Baluchistan, Pakistan Reposted',\n",
       "       'New Karachi Town, Sindh, Pakistan Reposted',\n",
       "       'Multan, Punjab, Pakistan Reposted',\n",
       "       'Dera Ismāīl Khān, Khyber Pakhtunkhwa, Pakistan  \\n2 weeks',\n",
       "       'Bahawalpur, Punjab, Pakistan  \\n2 weeks',\n",
       "       'Gujrāt, Punjab, Pakistan  \\n2 weeks', 'South Asia  \\n3 weeks',\n",
       "       'Sargodha, Punjab, Pakistan  \\n2 weeks',\n",
       "       'Rahim Yar Khan District, Punjab, Pakistan  \\n2 weeks',\n",
       "       'Muzaffargarh, Punjab, Pakistan  \\n2 weeks',\n",
       "       'Haripur District, Khyber Pakhtunkhwa, Pakistan  \\n2 weeks',\n",
       "       'Abbottabad Tehsil, Khyber Pakhtunkhwa, Pakistan Reposted  \\n6 days',\n",
       "       'Taxila, Punjab, Pakistan  \\n2 weeks',\n",
       "       'South Asia Reposted  \\n2 weeks',\n",
       "       'Okāra, Punjab, Pakistan  \\n2 weeks',\n",
       "       'Faisalabad District, Punjab, Pakistan  \\n2 weeks',\n",
       "       'Peshawar, Khyber Pakhtunkhwa, Pakistan  \\n2 weeks',\n",
       "       'Multan District, Punjab, Pakistan  \\n2 weeks',\n",
       "       'Jarānwāla, Punjab, Pakistan  \\n2 weeks',\n",
       "       'Gilgit-Baltistan, Pakistan  \\n2 weeks',\n",
       "       'Jamshoro, Sindh, Pakistan Reposted',\n",
       "       'Jhelum District, Punjab, Pakistan  \\n2 weeks',\n",
       "       'Multan, Punjab, Pakistan Reposted  \\n2 weeks',\n",
       "       'Sindh, Pakistan Reposted  \\n2 weeks',\n",
       "       'New Karachi Town, Sindh, Pakistan Reposted  \\n2 weeks',\n",
       "       'APJ  \\n2 weeks', 'Larkana District, Sindh, Pakistan  \\n2 weeks',\n",
       "       'Turkey  \\n2 weeks',\n",
       "       'Hyderabad District, Sindh, Pakistan  \\n2 weeks',\n",
       "       'Nawabshah, Sindh, Pakistan  \\n2 weeks',\n",
       "       'APAC Reposted  \\n2 weeks',\n",
       "       'Hyderabad, Sindh, Pakistan Reposted  \\n1 hour',\n",
       "       'Sahiwal, Punjab, Pakistan  \\n2 weeks',\n",
       "       'Dera Ghazi Khan, Punjab, Pakistan  \\n2 weeks',\n",
       "       'Dubai, United Arab Emirates  \\n2 weeks',\n",
       "       'Akora Khattak, Khyber Pakhtunkhwa, Pakistan Reposted  \\n2 weeks',\n",
       "       'Hyderabad, Sindh, Pakistan  \\n2 weeks',\n",
       "       'Peshawar, Khyber Pakhtunkhwa, Pakistan  \\n3 weeks',\n",
       "       'Quetta, Baluchistan, Pakistan  \\n3 weeks',\n",
       "       'Multan, Punjab, Pakistan  \\n3 weeks',\n",
       "       'Sargodha District, Punjab, Pakistan  \\n3 weeks',\n",
       "       'Abbottābād, Khyber Pakhtunkhwa, Pakistan  \\n2 weeks',\n",
       "       'New Karachi Town, Sindh, Pakistan  \\n3 weeks',\n",
       "       'Chaman, Baluchistan, Pakistan  \\n3 weeks',\n",
       "       'Muzaffargarh, Punjab, Pakistan  \\n3 weeks',\n",
       "       'Mirpur, Azad Kashmir, Pakistan  \\n3 weeks',\n",
       "       'Hyderabad District, Sindh, Pakistan  \\n3 weeks',\n",
       "       'Hangu, Khyber Pakhtunkhwa, Pakistan  \\n3 weeks',\n",
       "       'Sindh, Pakistan  \\n2 weeks',\n",
       "       'Pattoki, Punjab, Pakistan  \\n2 weeks',\n",
       "       'Karachi Division, Sindh, Pakistan Reposted  \\n3 days',\n",
       "       'Okara District, Punjab, Pakistan  \\n2 weeks',\n",
       "       'Umarkot, Sindh, Pakistan  \\n2 weeks',\n",
       "       'Khyber Pakhtunkhwa, Pakistan  \\n2 weeks',\n",
       "       'Kabirwala, Punjab, Pakistan  \\n2 weeks',\n",
       "       'Sukkur, Sindh, Pakistan  \\n2 weeks',\n",
       "       'Khudian, Punjab, Pakistan  \\n2 weeks',\n",
       "       'Faisalabad, Punjab, Pakistan Reposted  \\n3 weeks',\n",
       "       'Pak Singhar, Sindh, Pakistan Reposted',\n",
       "       'Pak Singhar, Sindh, Pakistan  \\n2 weeks',\n",
       "       'Islāmābād, Pakistan Reposted  \\n1 day',\n",
       "       'Jamshoro, Sindh, Pakistan  \\n2 weeks',\n",
       "       'Gujrat, Punjab, Pakistan Reposted  \\n1 hour',\n",
       "       'Hyderabad, Telangana, India  \\n2 weeks',\n",
       "       'Gurugram, Haryana, India Reposted',\n",
       "       'Islāmābād, Pakistan Reposted  \\n2 weeks',\n",
       "       'Karāchi, Sindh, Pakistan Reposted  \\n5 hours',\n",
       "       'Sialkot, Punjab, Pakistan  \\n3 weeks',\n",
       "       'Shekhūpura, Punjab, Pakistan  \\n2 weeks',\n",
       "       'Malir District, Sindh, Pakistan  \\n2 weeks',\n",
       "       'Burewala, Punjab, Pakistan  \\n2 weeks',\n",
       "       'Umarkot, Sindh, Pakistan  \\n3 weeks',\n",
       "       'Rawalpindi District, Punjab, Pakistan  \\n3 weeks',\n",
       "       'Karāchi, Sindh, Pakistan Reposted  \\n2 hours',\n",
       "       'Abbottabad Cantonment, Khyber Pakhtunkhwa, Pakistan  \\n2 weeks',\n",
       "       'Mirpur, Azad Kashmir, Pakistan  \\n2 weeks',\n",
       "       'Sāhīwāl, Punjab, Pakistan Reposted',\n",
       "       'Karāchi, Sindh, Pakistan Reposted  \\n16 hours',\n",
       "       'Quetta, Baluchistan, Pakistan  \\n2 weeks',\n",
       "       'Banda Daud Shah, Khyber Pakhtunkhwa, Pakistan',\n",
       "       'Skardu, Pakistan Reposted  \\n6 days',\n",
       "       'Karāchi, Sindh, Pakistan Reposted  \\n21 hours',\n",
       "       'Kandhkot, Sindh, Pakistan',\n",
       "       'Rawalpindi District, Punjab, Pakistan  \\n2 weeks',\n",
       "       'South Asia Reposted',\n",
       "       'Rajanpur District, Punjab, Pakistan  \\n2 weeks',\n",
       "       'Lahore District, Punjab, Pakistan Reposted',\n",
       "       'Hyderabad, Sindh, Pakistan Reposted  \\n17 hours',\n",
       "       'Tribal Territory, Gilgit-Baltistan, Pakistan', 'APAC  \\n2 weeks',\n",
       "       'Hyderabad, Sindh, Pakistan Reposted  \\n4 days',\n",
       "       'Muzaffarabad, Punjab, Pakistan',\n",
       "       'Karāchi, Sindh, Pakistan Reposted  \\n9 hours',\n",
       "       'Sargodha District, Punjab, Pakistan Reposted  \\n5 days',\n",
       "       'Punjab, Pakistan Reposted', 'Daharki, Sindh, Pakistan  \\n2 weeks',\n",
       "       'Talagang Tehsil, Punjab, Pakistan',\n",
       "       'Punjab, Pakistan Reposted  \\n5 days',\n",
       "       'Rawalpindi, Punjab, Pakistan Reposted  \\n6 days',\n",
       "       'New Karachi Town, Sindh, Pakistan Reposted  \\n6 days',\n",
       "       'Peshawar, Khyber Pakhtunkhwa, Pakistan Reposted  \\n6 days',\n",
       "       'Pindi Bhattian, Punjab, Pakistan  \\n2 weeks',\n",
       "       'Larkana District, Sindh, Pakistan Reposted', 'Indi',\n",
       "       'Layyah District, Punjab, Pakistan', 'Sakrand, Sindh, Pakistan',\n",
       "       'Sheikhupura District, Punjab, Pakistan',\n",
       "       'Islamabad, Punjab, Pakistan  \\n2 weeks'], dtype=object)"
      ]
     },
     "execution_count": 85,
     "metadata": {},
     "output_type": "execute_result"
    }
   ],
   "source": [
    "df['location'].unique()"
   ]
  },
  {
   "cell_type": "code",
   "execution_count": 86,
   "id": "e89e7579-b8c0-4466-9e27-f86501eebc44",
   "metadata": {},
   "outputs": [
    {
     "data": {
      "text/plain": [
       "939"
      ]
     },
     "execution_count": 86,
     "metadata": {},
     "output_type": "execute_result"
    }
   ],
   "source": [
    "len(df['location'].unique())"
   ]
  },
  {
   "cell_type": "markdown",
   "id": "3f409b54-733f-42e3-8db9-cd5326d48f9c",
   "metadata": {},
   "source": [
    "# 19 oct 2023"
   ]
  },
  {
   "cell_type": "code",
   "execution_count": 87,
   "id": "c3338e24-6033-4956-ab17-75f559a6f0f4",
   "metadata": {},
   "outputs": [
    {
     "data": {
      "text/plain": [
       "'DevNatives · Islamabad, Islāmābād, Pakistan (Hybrid)  \\n1 week ago\\n\\n · 51 applicants'"
      ]
     },
     "execution_count": 87,
     "metadata": {},
     "output_type": "execute_result"
    }
   ],
   "source": [
    "df['Job Info'].iloc[3]"
   ]
  },
  {
   "cell_type": "code",
   "execution_count": 88,
   "id": "ebee6eb2-5d46-446c-a896-7f0849b72fd6",
   "metadata": {},
   "outputs": [
    {
     "data": {
      "text/plain": [
       "['DevNatives · Islamabad, Islāmābād, Pakistan ',\n",
       " 'Hybrid)  \\n1 week ago\\n\\n · 51 applicants']"
      ]
     },
     "execution_count": 88,
     "metadata": {},
     "output_type": "execute_result"
    }
   ],
   "source": [
    "df['Job Info'].iloc[3].split('(')"
   ]
  },
  {
   "cell_type": "code",
   "execution_count": 89,
   "id": "d6fce5c0-112b-4003-8640-cab48abb5836",
   "metadata": {},
   "outputs": [
    {
     "data": {
      "text/plain": [
       "['Hybrid', '  \\n1 week ago\\n\\n · 51 applicants']"
      ]
     },
     "execution_count": 89,
     "metadata": {},
     "output_type": "execute_result"
    }
   ],
   "source": [
    "df['Job Info'].iloc[3].split('(')[1].split(')')"
   ]
  },
  {
   "cell_type": "code",
   "execution_count": 90,
   "id": "914f39e3-bd24-43e7-b081-fa59c0594bde",
   "metadata": {},
   "outputs": [
    {
     "data": {
      "text/plain": [
       "'Hybrid'"
      ]
     },
     "execution_count": 90,
     "metadata": {},
     "output_type": "execute_result"
    }
   ],
   "source": [
    "df['Job Info'].iloc[3].split('(')[1].split(')')[0]"
   ]
  },
  {
   "cell_type": "code",
   "execution_count": 91,
   "id": "390b0507-4cd8-4335-8d92-862b3c93dd7c",
   "metadata": {},
   "outputs": [],
   "source": [
    "# df['Remote/Onsite']=df['Job Info'].apply(lambda x:x.split('(')[1].split(')')[0])\n",
    "# # IndexError: list index out of range"
   ]
  },
  {
   "cell_type": "code",
   "execution_count": 92,
   "id": "c24b0a3b-9a3a-4e05-a3c6-82952e38ac60",
   "metadata": {},
   "outputs": [],
   "source": [
    "# i=0\n",
    "# for info in df['Job Info']:\n",
    "#     print(info.split('(')[1].split(')')[0])\n",
    "#     i=i+1\n",
    "#     print(info)\n",
    "# # IndexError: list index out of range"
   ]
  },
  {
   "cell_type": "code",
   "execution_count": 93,
   "id": "25809767-5f9b-487d-9986-87b761038cb0",
   "metadata": {},
   "outputs": [],
   "source": [
    "# i"
   ]
  },
  {
   "cell_type": "code",
   "execution_count": 94,
   "id": "56a7e2ac-4998-4977-97b9-778cac46a033",
   "metadata": {},
   "outputs": [
    {
     "data": {
      "text/plain": [
       "'Contour Software · Lahore, Punjab, Pakistan  \\n2 weeks ago\\n\\n · 154 applicants'"
      ]
     },
     "execution_count": 94,
     "metadata": {},
     "output_type": "execute_result"
    }
   ],
   "source": [
    "df.iloc[87]['Job Info']"
   ]
  },
  {
   "cell_type": "code",
   "execution_count": 95,
   "id": "3223e6ef-c4d4-4c0f-b9e8-de8fbd9f4349",
   "metadata": {},
   "outputs": [],
   "source": [
    "# i=0\n",
    "# for info in df['Job Info']:\n",
    "#     try:\n",
    "#         print(info.split('(')[1].split(')')[0])\n",
    "#     except IndexError:\n",
    "#         print('Not specified')\n",
    "#     i=i+1\n",
    "#     print(i)\n",
    "        \n",
    "    "
   ]
  },
  {
   "cell_type": "code",
   "execution_count": 96,
   "id": "14c1bff0-549b-4b8c-85db-9e59a3d22546",
   "metadata": {},
   "outputs": [],
   "source": [
    "# pvt value observed"
   ]
  },
  {
   "cell_type": "code",
   "execution_count": 97,
   "id": "5c85353a-4206-46fe-9bbf-a85b27d76c99",
   "metadata": {},
   "outputs": [],
   "source": [
    "# for couting how many pvt values\n",
    "# i=0\n",
    "# for info in df['Job Info']:\n",
    "#     try:\n",
    "#         a=info.split('(')[1].split(')')[0])\n",
    "#     except IndexError:\n",
    "#         a='Not specified'\n",
    "#     i=i+1\n",
    "#     if a=='Pvt':\n",
    "#         print(i)\n",
    "# # SyntaxError: unmatched ')'"
   ]
  },
  {
   "cell_type": "code",
   "execution_count": 98,
   "id": "65ad3e16-88b7-4e0b-a2d8-e830f62cc782",
   "metadata": {},
   "outputs": [
    {
     "data": {
      "text/plain": [
       "'ArhamSoft (Pvt) Ltd · Lahore, Punjab, Pakistan (On-site)  \\n1 week ago'"
      ]
     },
     "execution_count": 98,
     "metadata": {},
     "output_type": "execute_result"
    }
   ],
   "source": [
    "df.iloc[11]['Job Info']"
   ]
  },
  {
   "cell_type": "code",
   "execution_count": 99,
   "id": "17e0bde7-4fdd-405b-87bb-8c997b043630",
   "metadata": {},
   "outputs": [
    {
     "data": {
      "text/plain": [
       "'On-site'"
      ]
     },
     "execution_count": 99,
     "metadata": {},
     "output_type": "execute_result"
    }
   ],
   "source": [
    "df.iloc[11]['Job Info'].split('·')[1].split('(')[1].split(')')[0]"
   ]
  },
  {
   "cell_type": "code",
   "execution_count": 100,
   "id": "2fd0094d-8d72-4503-b45a-54f2a885171e",
   "metadata": {},
   "outputs": [],
   "source": [
    "remote_onsite_list=[]\n",
    "for info in df['Job Info']:\n",
    "    try:\n",
    "        remote_onsite_list.append(info.split('·')[1].split('(')[1].split(')')[0])\n",
    "    except IndexError:\n",
    "        remote_onsite_list.append('Not specified')\n",
    "    "
   ]
  },
  {
   "cell_type": "code",
   "execution_count": 101,
   "id": "af38dcab-b021-4959-9558-29cf9b3a32d9",
   "metadata": {},
   "outputs": [],
   "source": [
    "# remote_onsite_list"
   ]
  },
  {
   "cell_type": "code",
   "execution_count": 102,
   "id": "829a75f1-c5a5-41a0-abe5-85d014fbcfca",
   "metadata": {},
   "outputs": [
    {
     "data": {
      "text/plain": [
       "11737"
      ]
     },
     "execution_count": 102,
     "metadata": {},
     "output_type": "execute_result"
    }
   ],
   "source": [
    "len(remote_onsite_list)"
   ]
  },
  {
   "cell_type": "code",
   "execution_count": 103,
   "id": "cf851038-e11a-4fcd-8bdb-76b1e4e2d97b",
   "metadata": {},
   "outputs": [
    {
     "name": "stderr",
     "output_type": "stream",
     "text": [
      "C:\\Users\\BILAL.COM\\AppData\\Local\\Temp\\ipykernel_6020\\3071556669.py:1: SettingWithCopyWarning: \n",
      "A value is trying to be set on a copy of a slice from a DataFrame.\n",
      "Try using .loc[row_indexer,col_indexer] = value instead\n",
      "\n",
      "See the caveats in the documentation: https://pandas.pydata.org/pandas-docs/stable/user_guide/indexing.html#returning-a-view-versus-a-copy\n",
      "  df['Remote/Onsite']=remote_onsite_list\n"
     ]
    }
   ],
   "source": [
    "df['Remote/Onsite']=remote_onsite_list\n",
    "# df['Remote/Onsite']=pd.Series(remote_onsite_list)"
   ]
  },
  {
   "cell_type": "code",
   "execution_count": 104,
   "id": "74e385ba-cea5-4e28-98d3-c1b9b5f75d64",
   "metadata": {},
   "outputs": [
    {
     "data": {
      "text/plain": [
       "0               Remote\n",
       "1              On-site\n",
       "2              On-site\n",
       "3               Hybrid\n",
       "4              On-site\n",
       "             ...      \n",
       "15869    Not specified\n",
       "15870    Not specified\n",
       "15872    Not specified\n",
       "15873    Not specified\n",
       "15874    Not specified\n",
       "Name: Remote/Onsite, Length: 11737, dtype: object"
      ]
     },
     "execution_count": 104,
     "metadata": {},
     "output_type": "execute_result"
    }
   ],
   "source": [
    "df['Remote/Onsite']"
   ]
  },
  {
   "cell_type": "code",
   "execution_count": 105,
   "id": "26fecae8-fa72-4053-a2b2-c90ad84d55b9",
   "metadata": {},
   "outputs": [
    {
     "data": {
      "text/plain": [
       "array(['Remote', 'On-site', 'Hybrid', 'Not specified'], dtype=object)"
      ]
     },
     "execution_count": 105,
     "metadata": {},
     "output_type": "execute_result"
    }
   ],
   "source": [
    "df['Remote/Onsite'].unique()"
   ]
  },
  {
   "cell_type": "code",
   "execution_count": 106,
   "id": "940654ad-0fbe-44d0-90fe-7bdd8c7ef7af",
   "metadata": {},
   "outputs": [
    {
     "data": {
      "text/plain": [
       "Remote/Onsite\n",
       "Not specified    8396\n",
       "On-site          2616\n",
       "Remote            525\n",
       "Hybrid            200\n",
       "Name: count, dtype: int64"
      ]
     },
     "execution_count": 106,
     "metadata": {},
     "output_type": "execute_result"
    }
   ],
   "source": [
    "df['Remote/Onsite'].value_counts()"
   ]
  },
  {
   "cell_type": "code",
   "execution_count": 107,
   "id": "bf247c17-375b-4712-bfc3-e43503f1b114",
   "metadata": {},
   "outputs": [
    {
     "data": {
      "text/plain": [
       "'DevNatives · Islamabad, Islāmābād, Pakistan (Hybrid)  \\n1 week ago\\n\\n · 51 applicants'"
      ]
     },
     "execution_count": 107,
     "metadata": {},
     "output_type": "execute_result"
    }
   ],
   "source": [
    "df['Job Info'].iloc[3]"
   ]
  },
  {
   "cell_type": "code",
   "execution_count": 108,
   "id": "1ee22487-8c23-4d43-ae6f-4f4823947a6e",
   "metadata": {},
   "outputs": [
    {
     "data": {
      "text/plain": [
       "' 51 applicants'"
      ]
     },
     "execution_count": 108,
     "metadata": {},
     "output_type": "execute_result"
    }
   ],
   "source": [
    "df['Job Info'].iloc[3].split('·')[2]"
   ]
  },
  {
   "cell_type": "code",
   "execution_count": 109,
   "id": "dbb3a6b0-d5da-49be-a5a2-157efc6014e3",
   "metadata": {},
   "outputs": [],
   "source": [
    "# df['n-applicants']=df['Job Info'].apply(lambda x:x.split('·')[2])\n",
    "# # IndexError: list index out of range"
   ]
  },
  {
   "cell_type": "code",
   "execution_count": 110,
   "id": "c4bbc315-03eb-41af-88d4-f76d614f0f16",
   "metadata": {},
   "outputs": [],
   "source": [
    "# i=0\n",
    "# for info in df['Job Info']:\n",
    "#     print(info.split('·')[2])\n",
    "#     i=i+1\n",
    "#     print(info)\n",
    "# # IndexError: list index out of range"
   ]
  },
  {
   "cell_type": "code",
   "execution_count": 111,
   "id": "94acd182-8d26-45d2-9d5b-782be7fa29c9",
   "metadata": {},
   "outputs": [],
   "source": [
    "# i"
   ]
  },
  {
   "cell_type": "code",
   "execution_count": 112,
   "id": "1f3e0dff-0e30-423a-9ed7-04776427f604",
   "metadata": {},
   "outputs": [
    {
     "data": {
      "text/plain": [
       "'EcomFleet · Pakistan (Remote)  \\n1 week ago'"
      ]
     },
     "execution_count": 112,
     "metadata": {},
     "output_type": "execute_result"
    }
   ],
   "source": [
    "df.iloc[0]['Job Info']"
   ]
  },
  {
   "cell_type": "markdown",
   "id": "d36c4796-d2df-4644-8430-fac572b27d98",
   "metadata": {},
   "source": [
    "#application not given"
   ]
  },
  {
   "cell_type": "code",
   "execution_count": 113,
   "id": "e83df205-6cc2-45ea-a2a3-0b1a7db77554",
   "metadata": {},
   "outputs": [
    {
     "data": {
      "text/plain": [
       "'51'"
      ]
     },
     "execution_count": 113,
     "metadata": {},
     "output_type": "execute_result"
    }
   ],
   "source": [
    "df['Job Info'].iloc[3].split('·')[2].strip(' applicants')"
   ]
  },
  {
   "cell_type": "markdown",
   "id": "b5afed26-be85-4767-b8cd-db2c6081a121",
   "metadata": {},
   "source": [
    "# 20 oct 2023"
   ]
  },
  {
   "cell_type": "code",
   "execution_count": 114,
   "id": "0f70356b-1c41-448b-ba9f-430618f96f4d",
   "metadata": {},
   "outputs": [],
   "source": [
    "# n_applicant_list=[]\n",
    "# for info in df['Job Info']:\n",
    "#     try:\n",
    "#         n_applicant_list.append(int(info.split('·')[2].strip(' applicants')))\n",
    "#     except IndexError:\n",
    "#         n_applicant_list.append(np.nan)\n",
    "# # ValueError: invalid literal for int() with base 10: '2,048'"
   ]
  },
  {
   "cell_type": "code",
   "execution_count": 115,
   "id": "af7349a5-6293-46de-ae9b-94b1ed491874",
   "metadata": {},
   "outputs": [],
   "source": [
    "n_applicant_list=[]\n",
    "for info in df['Job Info']:\n",
    "    try:\n",
    "        n_applicant_list.append(info.split('·')[2].strip(' applicants'))\n",
    "    except IndexError:\n",
    "        n_applicant_list.append(np.nan)"
   ]
  },
  {
   "cell_type": "code",
   "execution_count": 116,
   "id": "f61b6536-fecc-481d-a6b8-f5eb7f6454fb",
   "metadata": {},
   "outputs": [
    {
     "data": {
      "text/plain": [
       "[nan, nan, nan, '51', '51', nan, nan, nan, '312', '2,048']"
      ]
     },
     "execution_count": 116,
     "metadata": {},
     "output_type": "execute_result"
    }
   ],
   "source": [
    "n_applicant_list[:10]"
   ]
  },
  {
   "cell_type": "code",
   "execution_count": 117,
   "id": "0efbcf4e-1851-4f46-8d95-a81911895be4",
   "metadata": {},
   "outputs": [
    {
     "name": "stderr",
     "output_type": "stream",
     "text": [
      "C:\\Users\\BILAL.COM\\AppData\\Local\\Temp\\ipykernel_6020\\1363075266.py:1: SettingWithCopyWarning: \n",
      "A value is trying to be set on a copy of a slice from a DataFrame.\n",
      "Try using .loc[row_indexer,col_indexer] = value instead\n",
      "\n",
      "See the caveats in the documentation: https://pandas.pydata.org/pandas-docs/stable/user_guide/indexing.html#returning-a-view-versus-a-copy\n",
      "  df['n_applicant']=n_applicant_list\n"
     ]
    }
   ],
   "source": [
    "df['n_applicant']=n_applicant_list"
   ]
  },
  {
   "cell_type": "code",
   "execution_count": 118,
   "id": "4ed9458d-f851-4058-b025-1f7b6ad0ef4f",
   "metadata": {},
   "outputs": [
    {
     "data": {
      "text/plain": [
       "dtype('O')"
      ]
     },
     "execution_count": 118,
     "metadata": {},
     "output_type": "execute_result"
    }
   ],
   "source": [
    "df['n_applicant'].dtype"
   ]
  },
  {
   "cell_type": "code",
   "execution_count": 119,
   "id": "83a0d6ae-7520-40f1-be0e-79fa66920428",
   "metadata": {},
   "outputs": [],
   "source": [
    "# df['n_applicant'] = df['n_applicant'].astype(int)\n",
    "# # ValueError: cannot convert float NaN to integer"
   ]
  },
  {
   "cell_type": "code",
   "execution_count": 120,
   "id": "e91621a3-d256-425c-8b50-813661a2c33a",
   "metadata": {},
   "outputs": [
    {
     "data": {
      "text/plain": [
       "array([nan, '51', '312', '2,048', '30', '3,159', '41', '3,008', '120',\n",
       "       '685', '50', '28', '24', '734', '9', '112', '42', '10', '89', '48',\n",
       "       '19', '732', '338', '18', '154', '472', '110', '32', '16', '448',\n",
       "       '239', '933', '255', '15', '177', '33', '323', '207', '22', '21',\n",
       "       '49', '591', '45', '29', '231', '337', '249', '123', '40', '192',\n",
       "       '157', '1,386', '36', '1,186', '17', '76', '61', '38', '20', '12',\n",
       "       '115', '73', '46', '315', '90', '67', '27', '23', '13', '172',\n",
       "       '778', '96', '58', '216', '43', '204', '247', '380', '39', '1,768',\n",
       "       '11', '310', '34', '108', '162', '853', '986', '215', '14', '94',\n",
       "       '92', '168', '911', '53', '420', '31', '72', '44', '59', '132',\n",
       "       '289', '35', '52', '1,379', '158', '260', '54', '250', '332',\n",
       "       '649', '1,385', '153', '37', '83', '370', '287', '57', '339', '47',\n",
       "       '208', '121', '56', '98', '68', '254', '259', '138', '305', '186',\n",
       "       '197', '84', '795', '63', '79', '757', '166', '662', '100', '109',\n",
       "       '285', '60', '127', '364', '74', '199', '198', '212', '328', '122',\n",
       "       '252', '264', '502', '237', '376', '903', '146', '298', '505',\n",
       "       '985', '342', '516', '1,213', '362', '1,344', '256', '189', '143',\n",
       "       '88', '131', '531', '25', '149', '26', '316', '141', '99', '184',\n",
       "       '113', '97', '170', '6', '480', '133', '309', '77', '429', '62',\n",
       "       '4', '55', '202', '521', '925', '135', '304', '164', '1,391',\n",
       "       '862', '229', '628', '200', '151', '176', '468', '71', '66',\n",
       "       '1,650', '394', '1,015', '458', '181', '611', '749', '335', '904',\n",
       "       '377', '3,400', '604', '372', '180', '693', '1,577', '144', '171',\n",
       "       '926', '1,968', '834', '104', '69', '148', '479', '293', '95',\n",
       "       '1,159', '190', '1,034', '75', '86', '898', '130', '270', '852',\n",
       "       '136', '432', '441', '402', '2,420', '346', '827', '438', '134',\n",
       "       '1,319', '495', '396', '560', '114', '81', '283', '804', '185',\n",
       "       '253', '117', '344', '295', '1,296', '557', '175', '242', '811',\n",
       "       '868', '880', '822', '526', '214', '532', '681', '2,142', '87',\n",
       "       '535', '744', '371', '413', '928', '573', '187', '201', '322',\n",
       "       '244', '78', '409', '307', '227', '424', '213', '930', '225',\n",
       "       '2,943', '399', '245', '830', '267', '1,708', '779', '165', '291',\n",
       "       '65', '2,701', '496', '105', '358', '793', '137', '106', '246',\n",
       "       '467', '243', '1,415', '248', '7', '389', '541', '351', '345',\n",
       "       '507', '107', '347', '336', '369', '561', '475', '326', '640',\n",
       "       '174', '536', '860', '139', '821', '682', '545', '85', '465',\n",
       "       '803', '203', '455', '268', '265', '217', '8', '1,574', '542',\n",
       "       '1,704', '513', '1,177', '452', '1,750', '577', '147', '428',\n",
       "       '1,649', '152', '469', '427', '837', '592', '522', '191', '464',\n",
       "       '80', '159', '233', '430', '103', '142', '5,401', '664', '1,167',\n",
       "       '182', '3', '400', '70', '773', '284', '124', '205', '64', '262',\n",
       "       '263', '555', '1,857', '266', '321', '597', '318', '221', '195',\n",
       "       '288', '1,674', '93', '223', '481', '408', '1,132', '363', '477',\n",
       "       '854', '419', '240', '129', '552', '921', '723', '5,203', '145',\n",
       "       '666', '116', '194', '711', '589', '118', '546', '258', '188',\n",
       "       '679', '303', '387', '125', '218', '102', '651', '82', '1,064',\n",
       "       '431', '406', '425', '234', '1,632', '381', '294', '721', '155',\n",
       "       '638', '220', '391', '126', '156', '1,657', '998', '1,195', '478',\n",
       "       '319', '257', '403', '224', '357', '119', '942', '5', '167', '379',\n",
       "       '111', '740', '330', '2,895', '210', '463', '281', '1,023', '301',\n",
       "       '1,381', '1,148', '661', '617', '1,556', '286', '603', '850',\n",
       "       '1,080', '1,356', '196', '992', '1,457', '1,917', '361', '1,514',\n",
       "       '667', '206', '529', '558', '91', '101', '163', '588', '1,450',\n",
       "       '1,588', '140', '609', '500', '1', '193', '1,042', '275', '768',\n",
       "       '128', '395', '1,013', '340', '474', '423', '551', '484', '490',\n",
       "       '367', '272', '290', '278', '366', '671', '791', '375', '2', '235',\n",
       "       '1,882', '1,579', '581', '1,225', '1,066', '895', '669', '1,239',\n",
       "       '219', '678', '674', '1,824', '160', '1,840', '1,516', '179',\n",
       "       '543', '990', '462', '299', '639', '619', '355', '567', '161',\n",
       "       '701', '1,848', '445', '398', '276', '3,098', '282', '308', '426',\n",
       "       '251', '586', '211', '269', '585', '553', '799', '228', '470',\n",
       "       '331', '230', '238', '489', '292', '365', '1,767', '620', '1,179',\n",
       "       '327', '302', '482', '1,897', '405', '422', '183', '962', '514',\n",
       "       '236', '3,052', '353', '418', '493', '1,405', '629', '648',\n",
       "       '2,264', '434', '2,163', '306', '280', '719', '226', '277', '487',\n",
       "       '241', '1,438', '762', '716', '169', '820', '1,269', '388', '646',\n",
       "       '1,108', '359', '354', '150', '1,456', '1,267', '1,566', '410',\n",
       "       '491', '414', '550', '333', '325', '1,138', '350', '554', '348',\n",
       "       '356', '580', '222', '440', '390', '0', '945', '314', '2,046',\n",
       "       '1,365', '360', '705', '2,920', '392', '2,177', '751', '279',\n",
       "       '261', '809', '777', '417', '442', '343', '300', '232', '499',\n",
       "       '892', '802', '407', '623', '595', '178', '845', '1,502', '2,368',\n",
       "       '525', '632', '999', '508', '859', '273', '660', '1,286', '433',\n",
       "       '1,087', '1,820', '1,284', '548', '393', '961', '1,120', '1,075',\n",
       "       '540', 'Over 200', '313', '1,079', '411', '512', '831', '401',\n",
       "       '559', '1,441', '657', '311', '439', '817', '727', '447', '497',\n",
       "       '790', '659', '1,311', '404', '1,477', '584', '568', '334', '569',\n",
       "       '534', '621', '1,497', '590', '645', '635', '320', '801', '1,016',\n",
       "       '520', '368', '556', '786', '2,052', '863', '750', '527', '647',\n",
       "       '605', '706', '1,252', '951', '697', '720', '449', '374', '1,224',\n",
       "       '993', '173', '473', '435', '733', '1,215', '699', '1,426', '454',\n",
       "       '1,050', '753', '690', '713', '1,037', '888', '443', '607',\n",
       "       '1,059', '451', '373', '415', '562', '1,039', '1,886', '450',\n",
       "       '918', '504'], dtype=object)"
      ]
     },
     "execution_count": 120,
     "metadata": {},
     "output_type": "execute_result"
    }
   ],
   "source": [
    "df['n_applicant'].unique()"
   ]
  },
  {
   "cell_type": "code",
   "execution_count": 121,
   "id": "e9223934-84d3-40c8-a821-c086d39243b5",
   "metadata": {},
   "outputs": [
    {
     "data": {
      "text/plain": [
       "756"
      ]
     },
     "execution_count": 121,
     "metadata": {},
     "output_type": "execute_result"
    }
   ],
   "source": [
    "len(df['n_applicant'].unique())"
   ]
  },
  {
   "cell_type": "code",
   "execution_count": 122,
   "id": "6a95bcc6-6473-439b-a9f5-770e3476e32f",
   "metadata": {},
   "outputs": [
    {
     "data": {
      "text/plain": [
       "n_applicant\n",
       "51          287\n",
       "Over 200    271\n",
       "11          194\n",
       "13          140\n",
       "10          135\n",
       "12          132\n",
       "0           129\n",
       "15          122\n",
       "14          121\n",
       "18          108\n",
       "17          107\n",
       "19          103\n",
       "1           101\n",
       "16           98\n",
       "9            94\n",
       "3            93\n",
       "21           90\n",
       "7            89\n",
       "8            89\n",
       "2            85\n",
       "4            83\n",
       "6            82\n",
       "20           79\n",
       "5            78\n",
       "23           68\n",
       "24           67\n",
       "25           67\n",
       "32           66\n",
       "26           61\n",
       "22           59\n",
       "Name: count, dtype: int64"
      ]
     },
     "execution_count": 122,
     "metadata": {},
     "output_type": "execute_result"
    }
   ],
   "source": [
    "df['n_applicant'].value_counts()[:30]"
   ]
  },
  {
   "cell_type": "markdown",
   "id": "3cb8263f-d90e-442e-86dd-5d76bb09efb5",
   "metadata": {},
   "source": [
    "# 21 oct 2023"
   ]
  },
  {
   "cell_type": "code",
   "execution_count": 123,
   "id": "9634ee73-504c-48eb-b312-950aff457536",
   "metadata": {},
   "outputs": [
    {
     "data": {
      "text/plain": [
       "'DevNatives · Islamabad, Islāmābād, Pakistan (Hybrid)  \\n1 week ago\\n\\n · 51 applicants'"
      ]
     },
     "execution_count": 123,
     "metadata": {},
     "output_type": "execute_result"
    }
   ],
   "source": [
    "df['Job Info'].iloc[3]"
   ]
  },
  {
   "cell_type": "code",
   "execution_count": 124,
   "id": "61270372-0c7a-4b8b-9a30-3432b8988d7e",
   "metadata": {},
   "outputs": [
    {
     "data": {
      "text/plain": [
       "'1 week ago'"
      ]
     },
     "execution_count": 124,
     "metadata": {},
     "output_type": "execute_result"
    }
   ],
   "source": [
    "df['Job Info'].iloc[3].split('\\n')[1]"
   ]
  },
  {
   "cell_type": "code",
   "execution_count": 125,
   "id": "664594de-9c52-4eb6-ba28-7988a2342900",
   "metadata": {},
   "outputs": [
    {
     "name": "stderr",
     "output_type": "stream",
     "text": [
      "C:\\Users\\BILAL.COM\\AppData\\Local\\Temp\\ipykernel_6020\\1476465958.py:1: SettingWithCopyWarning: \n",
      "A value is trying to be set on a copy of a slice from a DataFrame.\n",
      "Try using .loc[row_indexer,col_indexer] = value instead\n",
      "\n",
      "See the caveats in the documentation: https://pandas.pydata.org/pandas-docs/stable/user_guide/indexing.html#returning-a-view-versus-a-copy\n",
      "  df['job posting time']=df['Job Info'].apply(lambda x:x.split('\\n')[1])\n"
     ]
    },
    {
     "data": {
      "text/plain": [
       "0         1 week ago\n",
       "1        2 weeks ago\n",
       "2         1 week ago\n",
       "3         1 week ago\n",
       "4         1 week ago\n",
       "            ...     \n",
       "15869     1 week ago\n",
       "15870     1 week ago\n",
       "15872     1 week ago\n",
       "15873     1 week ago\n",
       "15874     1 week ago\n",
       "Name: job posting time, Length: 11737, dtype: object"
      ]
     },
     "execution_count": 125,
     "metadata": {},
     "output_type": "execute_result"
    }
   ],
   "source": [
    "df['job posting time']=df['Job Info'].apply(lambda x:x.split('\\n')[1])\n",
    "df['job posting time']"
   ]
  },
  {
   "cell_type": "code",
   "execution_count": 126,
   "id": "f9561053-722a-4468-9c99-8687fe773b0e",
   "metadata": {},
   "outputs": [
    {
     "data": {
      "text/plain": [
       "array(['1 week ago', '2 weeks ago', '1 day ago', '6 days ago',\n",
       "       '5 days ago', '11 hours ago', '3 days ago', '3 hours ago',\n",
       "       '4 days ago', '13 minutes ago', '14 minutes ago', '5 hours ago',\n",
       "       '10 hours ago', '9 hours ago', '2 days ago', '13 hours ago',\n",
       "       '18 hours ago', '7 hours ago', '4 hours ago', '3 weeks ago',\n",
       "       '2 hours ago', '12 hours ago', '6 hours ago', '14 hours ago',\n",
       "       '1 hour ago', '22 hours ago', '8 hours ago', '23 hours ago',\n",
       "       '15 hours ago', '20 hours ago', '19 hours ago', '16 hours ago',\n",
       "       '17 hours ago', '21 hours ago', '17 minutes ago', '48 minutes ago',\n",
       "       '23 minutes ago', '49 minutes ago', '37 minutes ago',\n",
       "       '42 minutes ago', '36 minutes ago', '44 minutes ago',\n",
       "       '55 minutes ago', '32 minutes ago', '58 minutes ago',\n",
       "       '3 minutes ago', '1 month ago', '4 weeks ago',\n",
       "       'https://anitechnologies.net/ · Islamabad, Islāmābād, Pakistan Reposted  '],\n",
       "      dtype=object)"
      ]
     },
     "execution_count": 126,
     "metadata": {},
     "output_type": "execute_result"
    }
   ],
   "source": [
    "df['job posting time'].unique()"
   ]
  },
  {
   "cell_type": "code",
   "execution_count": 127,
   "id": "cfaf744d-e2e4-4b64-b019-e94fd00c76ff",
   "metadata": {},
   "outputs": [
    {
     "data": {
      "text/plain": [
       "job posting time\n",
       "1 week ago                                                                  3578\n",
       "2 weeks ago                                                                 2243\n",
       "5 days ago                                                                   854\n",
       "6 days ago                                                                   743\n",
       "3 days ago                                                                   664\n",
       "1 day ago                                                                    528\n",
       "1 month ago                                                                  495\n",
       "4 days ago                                                                   491\n",
       "2 days ago                                                                   474\n",
       "3 weeks ago                                                                  319\n",
       "23 hours ago                                                                 128\n",
       "3 hours ago                                                                  115\n",
       "22 hours ago                                                                  82\n",
       "17 hours ago                                                                  77\n",
       "20 hours ago                                                                  72\n",
       "18 hours ago                                                                  69\n",
       "15 hours ago                                                                  64\n",
       "19 hours ago                                                                  63\n",
       "21 hours ago                                                                  63\n",
       "13 hours ago                                                                  57\n",
       "14 hours ago                                                                  55\n",
       "16 hours ago                                                                  54\n",
       "10 hours ago                                                                  54\n",
       "2 hours ago                                                                   51\n",
       "7 hours ago                                                                   47\n",
       "12 hours ago                                                                  46\n",
       "6 hours ago                                                                   46\n",
       "11 hours ago                                                                  40\n",
       "8 hours ago                                                                   39\n",
       "5 hours ago                                                                   31\n",
       "9 hours ago                                                                   30\n",
       "1 hour ago                                                                    27\n",
       "4 hours ago                                                                   18\n",
       "13 minutes ago                                                                 4\n",
       "49 minutes ago                                                                 2\n",
       "44 minutes ago                                                                 1\n",
       "4 weeks ago                                                                    1\n",
       "3 minutes ago                                                                  1\n",
       "58 minutes ago                                                                 1\n",
       "32 minutes ago                                                                 1\n",
       "55 minutes ago                                                                 1\n",
       "36 minutes ago                                                                 1\n",
       "14 minutes ago                                                                 1\n",
       "42 minutes ago                                                                 1\n",
       "37 minutes ago                                                                 1\n",
       "23 minutes ago                                                                 1\n",
       "48 minutes ago                                                                 1\n",
       "17 minutes ago                                                                 1\n",
       "https://anitechnologies.net/ · Islamabad, Islāmābād, Pakistan Reposted         1\n",
       "Name: count, dtype: int64"
      ]
     },
     "execution_count": 127,
     "metadata": {},
     "output_type": "execute_result"
    }
   ],
   "source": [
    "df['job posting time'].value_counts()"
   ]
  },
  {
   "cell_type": "code",
   "execution_count": 128,
   "id": "87f6adf4-3bc5-40b3-9104-d0d02c22bd3f",
   "metadata": {},
   "outputs": [
    {
     "data": {
      "text/plain": [
       "array(['Full-time', 'Full-time · Mid-Senior level',\n",
       "       'Internship · Internship', 'Full-time · Associate', 'Internship',\n",
       "       'Full-time · Entry level', 'Part-time', 'Full-time · Internship',\n",
       "       'Contract · Mid-Senior level', 'Contract', 'Contract · Associate',\n",
       "       '$150/month - $300/month · Full-time', 'Full-time · Director',\n",
       "       'Part-time · Associate', 'Mr Ahsan is hiring for this job',\n",
       "       'Part-time · Executive', 'Contract · Executive',\n",
       "       'Part-time · Mid-Senior level', 'Contract · Entry level',\n",
       "       'Temporary · Mid-Senior level', 'Executive',\n",
       "       'Full-time · Executive', 'Sean Sato is hiring for this job',\n",
       "       'Part-time · Internship', 'Internship · Mid-Senior level',\n",
       "       '$12,000/yr - $15,000/yr · Full-time · Mid-Senior level',\n",
       "       '$200,000/yr · Full-time', 'Part-time · Entry level',\n",
       "       'dr.ry. L. is hiring for this job',\n",
       "       '10,001+ employees · Tobacco Manufacturing', 'Volunteer',\n",
       "       'On-site\\n\\n \\nFull-time\\n\\n \\nMid-Senior level',\n",
       "       'Hybrid\\n\\n \\nFull-time\\n\\n \\nMid-Senior level',\n",
       "       'Remote\\n\\n \\nFull-time\\n\\n \\nMid-Senior level',\n",
       "       'On-site\\n\\n \\nFull-time\\n\\n \\nAssociate',\n",
       "       'On-site\\n\\n \\nFull-time',\n",
       "       'Hybrid\\n\\n \\nFull-time\\n\\n \\nEntry level',\n",
       "       'Hybrid\\n\\n \\nFull-time\\n\\n \\nDirector', 'Remote\\n\\n \\nFull-time',\n",
       "       'On-site\\n\\n \\nFull-time\\n\\n \\nEntry level',\n",
       "       'Hybrid\\n\\n \\nFull-time\\n\\n \\nAssociate',\n",
       "       'Full-time\\n\\n \\nMid-Senior level', 'On-site\\n\\n \\nPart-time',\n",
       "       'Hybrid\\n\\n \\nFull-time',\n",
       "       'Remote\\n\\n \\nContract\\n\\n \\nMid-Senior level',\n",
       "       'On-site\\n\\n \\nFull-time\\n\\n \\nDirector',\n",
       "       'On-site\\n\\n \\nFull-time\\n\\n \\nExecutive',\n",
       "       'Remote\\n\\n \\nFull-time\\n\\n \\nEntry level',\n",
       "       'Remote\\n\\n \\nInternship', 'On-site\\n\\n \\nInternship',\n",
       "       'On-site\\n\\n \\nContract\\n\\n \\nMid-Senior level',\n",
       "       'Remote\\n\\n \\nContract', 'Remote\\n\\n \\nFull-time\\n\\n \\nAssociate',\n",
       "       'On-site\\n\\n \\nContract\\n\\n \\nEntry level',\n",
       "       'On-site\\n\\n \\nFull-time\\n\\n \\nInternship',\n",
       "       'Remote\\n\\n \\nPart-time\\n\\n \\nAssociate', 'Remote\\n\\n \\nPart-time',\n",
       "       'Remote\\n\\n \\nContract\\n\\n \\nEntry level',\n",
       "       'On-site\\n\\n \\nContract\\n\\n \\nAssociate',\n",
       "       'Full-time\\n\\n \\nEntry level', 'Hybrid\\n\\n \\nContract',\n",
       "       'Remote\\n\\n \\nFull-time\\n\\n \\nDirector', 'Hybrid\\n\\n \\nPart-time',\n",
       "       'On-site\\n\\n \\nContract',\n",
       "       'PKR600,000/yr - PKR660,000/yr\\n\\n \\nOn-site\\n\\n \\nFull-time\\n\\n \\nEntry level',\n",
       "       'Remote', 'Contract\\n\\n \\nMid-Senior level',\n",
       "       'On-site\\n\\n \\nContract\\n\\n \\nInternship',\n",
       "       'Full-time\\n\\n \\nExecutive',\n",
       "       'Remote\\n\\n \\nInternship\\n\\n \\nMid-Senior level',\n",
       "       'Hybrid\\n\\n \\nContract\\n\\n \\nMid-Senior level',\n",
       "       'Remote\\n\\n \\nPart-time\\n\\n \\nEntry level',\n",
       "       'Hybrid\\n\\n \\nTemporary', 'Remote\\n\\n \\nPart-time\\n\\n \\nExecutive',\n",
       "       'On-site\\n\\n \\nInternship\\n\\n \\nEntry level',\n",
       "       'On-site\\n\\n \\nVolunteer',\n",
       "       'Remote\\n\\n \\nFull-time\\n\\n \\nExecutive',\n",
       "       'On-site\\n\\n \\nInternship\\n\\n \\nInternship',\n",
       "       'Remote\\n\\n \\nVolunteer',\n",
       "       'On-site\\n\\n \\nPart-time\\n\\n \\nEntry level', 'On-site',\n",
       "       'Hybrid\\n\\n \\nInternship',\n",
       "       'Hybrid\\n\\n \\nContract\\n\\n \\nEntry level',\n",
       "       'Full-time\\n\\n \\nInternship',\n",
       "       '$180/month - $250/month\\n\\n \\nRemote\\n\\n \\nFull-time', 'Hybrid',\n",
       "       'Remote\\n\\n \\nContract\\n\\n \\nAssociate',\n",
       "       'Remote\\n\\n \\nTemporary\\n\\n \\nEntry level',\n",
       "       'On-site\\n\\n \\nTemporary', 'Remote\\n\\n \\nTemporary',\n",
       "       'Full-time\\n\\n \\nAssociate',\n",
       "       'PKR1,200,000/yr - PKR1,800,000/yr\\n\\n \\nOn-site\\n\\n \\nFull-time\\n\\n \\nEntry level',\n",
       "       '5,001-10,000 employees · IT Services and IT Consulting',\n",
       "       'PKR1,200,000/yr - PKR2,400,000/yr\\n\\n \\nOn-site\\n\\n \\nFull-time\\n\\n \\nEntry level',\n",
       "       'On-site\\n\\n \\nContract\\n\\n \\nExecutive',\n",
       "       'PKR1,800,000/yr - PKR3,600,000/yr\\n\\n \\nOn-site\\n\\n \\nFull-time\\n\\n \\nMid-Senior level',\n",
       "       'MYR57,000/yr - MYR108,000/yr\\n\\n \\nRemote\\n\\n \\nFull-time\\n\\n \\nEntry level',\n",
       "       '$1,500/month - $1,800/month\\n\\n \\nRemote\\n\\n \\nFull-time',\n",
       "       '11-50 employees',\n",
       "       '10,001+ employees · Food and Beverage Manufacturing',\n",
       "       'PHP360,000/yr - PHP720,000/yr\\n\\n \\nRemote\\n\\n \\nPart-time\\n\\n \\nMid-Senior level',\n",
       "       'Hybrid\\n\\n \\nVolunteer', 'Remote\\n\\n \\nMid-Senior level',\n",
       "       '$500/month - $1,000/month\\n\\n \\nHybrid\\n\\n \\nContract',\n",
       "       'Remote\\n\\n \\nPart-time\\n\\n \\nMid-Senior level',\n",
       "       'PKR960,000/yr - PKR1,200,000/yr\\n\\n \\nOn-site\\n\\n \\nFull-time\\n\\n \\nEntry level',\n",
       "       '$20,000/yr - $25,000/yr\\n\\n \\nRemote\\n\\n \\nContract\\n\\n \\nEntry level',\n",
       "       '$30,000/month - $60,000/month\\n\\n \\nHybrid\\n\\n \\nFull-time',\n",
       "       'Remote\\n\\n \\nPart-time\\n\\n \\nDirector',\n",
       "       'PKR960,000/yr - PKR1,200,000/yr\\n\\n \\nOn-site\\n\\n \\nFull-time\\n\\n \\nMid-Senior level',\n",
       "       'Hybrid\\n\\n \\nContract\\n\\n \\nInternship',\n",
       "       'On-site\\n\\n \\nPart-time\\n\\n \\nMid-Senior level',\n",
       "       'On-site\\n\\n \\nTemporary\\n\\n \\nEntry level',\n",
       "       'Full-time\\n\\n \\nDirector',\n",
       "       'Hybrid\\n\\n \\nInternship\\n\\n \\nInternship',\n",
       "       'Remote\\n\\n \\nInternship\\n\\n \\nInternship',\n",
       "       'On-site\\n\\n \\nExecutive',\n",
       "       '$1,000/month - $2,500/month\\n\\n \\nOn-site\\n\\n \\nFull-time',\n",
       "       '$36,000/yr - $60,000/yr\\n\\n \\nRemote\\n\\n \\nFull-time\\n\\n \\nEntry level',\n",
       "       '$50,000/month - $70,000/month + Commission\\n\\n \\nOn-site\\n\\n \\nFull-time',\n",
       "       'On-site\\n\\n \\nInternship\\n\\n \\nDirector',\n",
       "       'Hybrid\\n\\n \\nFull-time\\n\\n \\nExecutive',\n",
       "       '₹180,000/yr - ₹360,000/yr\\n\\n \\nRemote\\n\\n \\nFull-time\\n\\n \\nEntry level',\n",
       "       'On-site\\n\\n \\nTemporary\\n\\n \\nInternship',\n",
       "       '$12,000/yr - $18,000/yr\\n\\n \\nRemote\\n\\n \\nFull-time\\n\\n \\nMid-Senior level',\n",
       "       'Contract\\n\\n \\nEntry level',\n",
       "       'Hybrid\\n\\n \\nFull-time\\n\\n \\nInternship',\n",
       "       'On-site\\n\\n \\nTemporary\\n\\n \\nMid-Senior level',\n",
       "       'Hybrid\\n\\n \\nInternship\\n\\n \\nMid-Senior level'], dtype=object)"
      ]
     },
     "execution_count": 128,
     "metadata": {},
     "output_type": "execute_result"
    }
   ],
   "source": [
    "df['Job Type'].unique()"
   ]
  },
  {
   "cell_type": "code",
   "execution_count": 129,
   "id": "9549eda3-83bd-4cbc-af94-f825577823e1",
   "metadata": {},
   "outputs": [
    {
     "data": {
      "text/plain": [
       "129"
      ]
     },
     "execution_count": 129,
     "metadata": {},
     "output_type": "execute_result"
    }
   ],
   "source": [
    "len(df['Job Type'].unique())"
   ]
  },
  {
   "cell_type": "code",
   "execution_count": 130,
   "id": "caba2c97-8d68-4485-8f3d-151579e1a4fe",
   "metadata": {},
   "outputs": [
    {
     "data": {
      "text/html": [
       "<div>\n",
       "<style scoped>\n",
       "    .dataframe tbody tr th:only-of-type {\n",
       "        vertical-align: middle;\n",
       "    }\n",
       "\n",
       "    .dataframe tbody tr th {\n",
       "        vertical-align: top;\n",
       "    }\n",
       "\n",
       "    .dataframe thead th {\n",
       "        text-align: right;\n",
       "    }\n",
       "</style>\n",
       "<table border=\"1\" class=\"dataframe\">\n",
       "  <thead>\n",
       "    <tr style=\"text-align: right;\">\n",
       "      <th></th>\n",
       "      <th>Job Title</th>\n",
       "      <th>Job Info</th>\n",
       "      <th>Job Type</th>\n",
       "      <th>Job Link</th>\n",
       "      <th>employees</th>\n",
       "      <th>Job ID</th>\n",
       "      <th>company</th>\n",
       "      <th>location</th>\n",
       "      <th>Remote/Onsite</th>\n",
       "      <th>n_applicant</th>\n",
       "      <th>job posting time</th>\n",
       "    </tr>\n",
       "  </thead>\n",
       "  <tbody>\n",
       "    <tr>\n",
       "      <th>0</th>\n",
       "      <td>LinkedIn Data Extractor</td>\n",
       "      <td>EcomFleet · Pakistan (Remote)  \\n1 week ago</td>\n",
       "      <td>Full-time</td>\n",
       "      <td>https://www.linkedin.com/jobs/view/3727054368</td>\n",
       "      <td>11-50 employees</td>\n",
       "      <td>3727054368</td>\n",
       "      <td>EcomFleet</td>\n",
       "      <td>Pakistan</td>\n",
       "      <td>Remote</td>\n",
       "      <td>NaN</td>\n",
       "      <td>1 week ago</td>\n",
       "    </tr>\n",
       "    <tr>\n",
       "      <th>1</th>\n",
       "      <td>It Management Intern</td>\n",
       "      <td>Digicon Valley · Lahore, Punjab, Pakistan (On-...</td>\n",
       "      <td>Full-time</td>\n",
       "      <td>https://www.linkedin.com/jobs/view/3723395858</td>\n",
       "      <td>11-50 employees</td>\n",
       "      <td>3723395858</td>\n",
       "      <td>Digicon Valley</td>\n",
       "      <td>Lahore, Punjab, Pakistan</td>\n",
       "      <td>On-site</td>\n",
       "      <td>NaN</td>\n",
       "      <td>2 weeks ago</td>\n",
       "    </tr>\n",
       "    <tr>\n",
       "      <th>2</th>\n",
       "      <td>SQL Database Developer</td>\n",
       "      <td>Murkez Technologies · Lahore, Punjab, Pakistan...</td>\n",
       "      <td>Full-time</td>\n",
       "      <td>https://www.linkedin.com/jobs/view/3727034665</td>\n",
       "      <td>51-200 employees</td>\n",
       "      <td>3727034665</td>\n",
       "      <td>Murkez Technologies</td>\n",
       "      <td>Lahore, Punjab, Pakistan</td>\n",
       "      <td>On-site</td>\n",
       "      <td>NaN</td>\n",
       "      <td>1 week ago</td>\n",
       "    </tr>\n",
       "    <tr>\n",
       "      <th>3</th>\n",
       "      <td>Business Intelligence Developer</td>\n",
       "      <td>DevNatives · Islamabad, Islāmābād, Pakistan (H...</td>\n",
       "      <td>Full-time</td>\n",
       "      <td>https://www.linkedin.com/jobs/view/3727029273</td>\n",
       "      <td>11-50 employees</td>\n",
       "      <td>3727029273</td>\n",
       "      <td>DevNatives</td>\n",
       "      <td>Islamabad, Islāmābād, Pakistan</td>\n",
       "      <td>Hybrid</td>\n",
       "      <td>51</td>\n",
       "      <td>1 week ago</td>\n",
       "    </tr>\n",
       "    <tr>\n",
       "      <th>4</th>\n",
       "      <td>Web Developer - Internship</td>\n",
       "      <td>ItCreaters · Lahore, Punjab, Pakistan (On-site...</td>\n",
       "      <td>Full-time</td>\n",
       "      <td>https://www.linkedin.com/jobs/view/3727034696</td>\n",
       "      <td>Mobeen Naqvi is hiring for this job</td>\n",
       "      <td>3727034696</td>\n",
       "      <td>ItCreaters</td>\n",
       "      <td>Lahore, Punjab, Pakistan</td>\n",
       "      <td>On-site</td>\n",
       "      <td>51</td>\n",
       "      <td>1 week ago</td>\n",
       "    </tr>\n",
       "    <tr>\n",
       "      <th>...</th>\n",
       "      <td>...</td>\n",
       "      <td>...</td>\n",
       "      <td>...</td>\n",
       "      <td>...</td>\n",
       "      <td>...</td>\n",
       "      <td>...</td>\n",
       "      <td>...</td>\n",
       "      <td>...</td>\n",
       "      <td>...</td>\n",
       "      <td>...</td>\n",
       "      <td>...</td>\n",
       "    </tr>\n",
       "    <tr>\n",
       "      <th>12672</th>\n",
       "      <td>Asst. R. O. Operator</td>\n",
       "      <td>Wärtsilä · Lahore, Punjab, Pakistan  \\n3 weeks...</td>\n",
       "      <td>Full-time</td>\n",
       "      <td>https://www.linkedin.com/jobs/view/3755527543</td>\n",
       "      <td>10,001+ employees · Industrial Machinery Manuf...</td>\n",
       "      <td>3755527543</td>\n",
       "      <td>Wärtsilä</td>\n",
       "      <td>Lahore, Punjab, Pakistan  \\n3 weeks</td>\n",
       "      <td>Not specified</td>\n",
       "      <td>NaN</td>\n",
       "      <td>3 weeks ago</td>\n",
       "    </tr>\n",
       "    <tr>\n",
       "      <th>12896</th>\n",
       "      <td>Cloud ISA - MS 365</td>\n",
       "      <td>Zones IT Solutions · Islamabad, Islāmābād, Pak...</td>\n",
       "      <td>Full-time</td>\n",
       "      <td>https://www.linkedin.com/jobs/view/3763078899</td>\n",
       "      <td>501-1,000 employees · IT Services and IT Consu...</td>\n",
       "      <td>3763078899</td>\n",
       "      <td>Zones IT Solutions</td>\n",
       "      <td>Islamabad, Islāmābād, Pakistan  \\n2 weeks</td>\n",
       "      <td>Not specified</td>\n",
       "      <td>32</td>\n",
       "      <td>2 weeks ago</td>\n",
       "    </tr>\n",
       "    <tr>\n",
       "      <th>13176</th>\n",
       "      <td>Software Developer</td>\n",
       "      <td>Ericsson · Islamabad, Islāmābād, Pakistan Repo...</td>\n",
       "      <td>Full-time</td>\n",
       "      <td>https://www.linkedin.com/jobs/view/3756603290</td>\n",
       "      <td>10,001+ employees · IT Services and IT Consulting</td>\n",
       "      <td>3756603290</td>\n",
       "      <td>Ericsson</td>\n",
       "      <td>Islamabad, Islāmābād, Pakistan Reposted</td>\n",
       "      <td>Not specified</td>\n",
       "      <td>NaN</td>\n",
       "      <td>1 week ago</td>\n",
       "    </tr>\n",
       "    <tr>\n",
       "      <th>13941</th>\n",
       "      <td>Aspire for Unilever - AM E&amp;I</td>\n",
       "      <td>Unilever · Lahore, Punjab, Pakistan  \\n1 week ...</td>\n",
       "      <td>Full-time</td>\n",
       "      <td>https://www.linkedin.com/jobs/view/3764164143</td>\n",
       "      <td>10,001+ employees · Manufacturing</td>\n",
       "      <td>3764164143</td>\n",
       "      <td>Unilever</td>\n",
       "      <td>Lahore, Punjab, Pakistan</td>\n",
       "      <td>Not specified</td>\n",
       "      <td>226</td>\n",
       "      <td>1 week ago</td>\n",
       "    </tr>\n",
       "    <tr>\n",
       "      <th>15633</th>\n",
       "      <td>DevOps Architect</td>\n",
       "      <td>Ericsson · Islamabad, Islāmābād, Pakistan  \\n1...</td>\n",
       "      <td>Full-time</td>\n",
       "      <td>https://www.linkedin.com/jobs/view/3765626902</td>\n",
       "      <td>10,001+ employees · Telecommunications</td>\n",
       "      <td>3765626902</td>\n",
       "      <td>Ericsson</td>\n",
       "      <td>Islamabad, Islāmābād, Pakistan</td>\n",
       "      <td>Not specified</td>\n",
       "      <td>35</td>\n",
       "      <td>1 week ago</td>\n",
       "    </tr>\n",
       "  </tbody>\n",
       "</table>\n",
       "<p>2260 rows × 11 columns</p>\n",
       "</div>"
      ],
      "text/plain": [
       "                             Job Title  \\\n",
       "0              LinkedIn Data Extractor   \n",
       "1                 It Management Intern   \n",
       "2               SQL Database Developer   \n",
       "3      Business Intelligence Developer   \n",
       "4           Web Developer - Internship   \n",
       "...                                ...   \n",
       "12672             Asst. R. O. Operator   \n",
       "12896               Cloud ISA - MS 365   \n",
       "13176               Software Developer   \n",
       "13941     Aspire for Unilever - AM E&I   \n",
       "15633                 DevOps Architect   \n",
       "\n",
       "                                                Job Info   Job Type  \\\n",
       "0            EcomFleet · Pakistan (Remote)  \\n1 week ago  Full-time   \n",
       "1      Digicon Valley · Lahore, Punjab, Pakistan (On-...  Full-time   \n",
       "2      Murkez Technologies · Lahore, Punjab, Pakistan...  Full-time   \n",
       "3      DevNatives · Islamabad, Islāmābād, Pakistan (H...  Full-time   \n",
       "4      ItCreaters · Lahore, Punjab, Pakistan (On-site...  Full-time   \n",
       "...                                                  ...        ...   \n",
       "12672  Wärtsilä · Lahore, Punjab, Pakistan  \\n3 weeks...  Full-time   \n",
       "12896  Zones IT Solutions · Islamabad, Islāmābād, Pak...  Full-time   \n",
       "13176  Ericsson · Islamabad, Islāmābād, Pakistan Repo...  Full-time   \n",
       "13941  Unilever · Lahore, Punjab, Pakistan  \\n1 week ...  Full-time   \n",
       "15633  Ericsson · Islamabad, Islāmābād, Pakistan  \\n1...  Full-time   \n",
       "\n",
       "                                            Job Link  \\\n",
       "0      https://www.linkedin.com/jobs/view/3727054368   \n",
       "1      https://www.linkedin.com/jobs/view/3723395858   \n",
       "2      https://www.linkedin.com/jobs/view/3727034665   \n",
       "3      https://www.linkedin.com/jobs/view/3727029273   \n",
       "4      https://www.linkedin.com/jobs/view/3727034696   \n",
       "...                                              ...   \n",
       "12672  https://www.linkedin.com/jobs/view/3755527543   \n",
       "12896  https://www.linkedin.com/jobs/view/3763078899   \n",
       "13176  https://www.linkedin.com/jobs/view/3756603290   \n",
       "13941  https://www.linkedin.com/jobs/view/3764164143   \n",
       "15633  https://www.linkedin.com/jobs/view/3765626902   \n",
       "\n",
       "                                               employees      Job ID  \\\n",
       "0                                        11-50 employees  3727054368   \n",
       "1                                        11-50 employees  3723395858   \n",
       "2                                       51-200 employees  3727034665   \n",
       "3                                        11-50 employees  3727029273   \n",
       "4                    Mobeen Naqvi is hiring for this job  3727034696   \n",
       "...                                                  ...         ...   \n",
       "12672  10,001+ employees · Industrial Machinery Manuf...  3755527543   \n",
       "12896  501-1,000 employees · IT Services and IT Consu...  3763078899   \n",
       "13176  10,001+ employees · IT Services and IT Consulting  3756603290   \n",
       "13941                  10,001+ employees · Manufacturing  3764164143   \n",
       "15633             10,001+ employees · Telecommunications  3765626902   \n",
       "\n",
       "                    company                                   location  \\\n",
       "0                EcomFleet                                    Pakistan   \n",
       "1           Digicon Valley                    Lahore, Punjab, Pakistan   \n",
       "2      Murkez Technologies                    Lahore, Punjab, Pakistan   \n",
       "3               DevNatives              Islamabad, Islāmābād, Pakistan   \n",
       "4               ItCreaters                    Lahore, Punjab, Pakistan   \n",
       "...                     ...                                        ...   \n",
       "12672             Wärtsilä         Lahore, Punjab, Pakistan  \\n3 weeks   \n",
       "12896   Zones IT Solutions   Islamabad, Islāmābād, Pakistan  \\n2 weeks   \n",
       "13176             Ericsson     Islamabad, Islāmābād, Pakistan Reposted   \n",
       "13941             Unilever                    Lahore, Punjab, Pakistan   \n",
       "15633             Ericsson              Islamabad, Islāmābād, Pakistan   \n",
       "\n",
       "       Remote/Onsite n_applicant job posting time  \n",
       "0             Remote         NaN       1 week ago  \n",
       "1            On-site         NaN      2 weeks ago  \n",
       "2            On-site         NaN       1 week ago  \n",
       "3             Hybrid          51       1 week ago  \n",
       "4            On-site          51       1 week ago  \n",
       "...              ...         ...              ...  \n",
       "12672  Not specified         NaN      3 weeks ago  \n",
       "12896  Not specified          32      2 weeks ago  \n",
       "13176  Not specified         NaN       1 week ago  \n",
       "13941  Not specified         226       1 week ago  \n",
       "15633  Not specified          35       1 week ago  \n",
       "\n",
       "[2260 rows x 11 columns]"
      ]
     },
     "execution_count": 130,
     "metadata": {},
     "output_type": "execute_result"
    }
   ],
   "source": [
    "df[df['Job Type']=='Full-time']"
   ]
  },
  {
   "cell_type": "code",
   "execution_count": 131,
   "id": "59cac8ce-24fc-4362-98ce-96057e884332",
   "metadata": {},
   "outputs": [
    {
     "data": {
      "text/plain": [
       "2260"
      ]
     },
     "execution_count": 131,
     "metadata": {},
     "output_type": "execute_result"
    }
   ],
   "source": [
    "len(df[df['Job Type']=='Full-time'])"
   ]
  },
  {
   "cell_type": "code",
   "execution_count": 132,
   "id": "055d672a-1b4c-418d-a681-e6f68928209f",
   "metadata": {},
   "outputs": [
    {
     "data": {
      "text/html": [
       "<div>\n",
       "<style scoped>\n",
       "    .dataframe tbody tr th:only-of-type {\n",
       "        vertical-align: middle;\n",
       "    }\n",
       "\n",
       "    .dataframe tbody tr th {\n",
       "        vertical-align: top;\n",
       "    }\n",
       "\n",
       "    .dataframe thead th {\n",
       "        text-align: right;\n",
       "    }\n",
       "</style>\n",
       "<table border=\"1\" class=\"dataframe\">\n",
       "  <thead>\n",
       "    <tr style=\"text-align: right;\">\n",
       "      <th></th>\n",
       "      <th>Job Title</th>\n",
       "      <th>Job Info</th>\n",
       "      <th>Job Type</th>\n",
       "      <th>Job Link</th>\n",
       "      <th>employees</th>\n",
       "      <th>Job ID</th>\n",
       "      <th>company</th>\n",
       "      <th>location</th>\n",
       "      <th>Remote/Onsite</th>\n",
       "      <th>n_applicant</th>\n",
       "      <th>job posting time</th>\n",
       "    </tr>\n",
       "  </thead>\n",
       "  <tbody>\n",
       "    <tr>\n",
       "      <th>9</th>\n",
       "      <td>Fresh Graduate Engineers</td>\n",
       "      <td>HUAWEI Pakistan · Islāmābād, Pakistan (On-site...</td>\n",
       "      <td>Internship · Internship</td>\n",
       "      <td>https://www.linkedin.com/jobs/view/3723394654</td>\n",
       "      <td>501-1,000 employees · Telecommunications</td>\n",
       "      <td>3723394654</td>\n",
       "      <td>HUAWEI Pakistan</td>\n",
       "      <td>Islāmābād, Pakistan</td>\n",
       "      <td>On-site</td>\n",
       "      <td>2,048</td>\n",
       "      <td>2 weeks ago</td>\n",
       "    </tr>\n",
       "    <tr>\n",
       "      <th>91</th>\n",
       "      <td>Audit Intern</td>\n",
       "      <td>Confiz · Lahore, Punjab, Pakistan (On-site)  \\...</td>\n",
       "      <td>Internship · Internship</td>\n",
       "      <td>https://www.linkedin.com/jobs/view/3727032054</td>\n",
       "      <td>501-1,000 employees · IT Services and IT Consu...</td>\n",
       "      <td>3727032054</td>\n",
       "      <td>Confiz</td>\n",
       "      <td>Lahore, Punjab, Pakistan</td>\n",
       "      <td>On-site</td>\n",
       "      <td>NaN</td>\n",
       "      <td>2 weeks ago</td>\n",
       "    </tr>\n",
       "    <tr>\n",
       "      <th>1276</th>\n",
       "      <td>Virtual Data Analytics Internship - Customer I...</td>\n",
       "      <td>Talent Pal · Karāchi, Sindh, Pakistan (On-site...</td>\n",
       "      <td>Internship · Internship</td>\n",
       "      <td>https://www.linkedin.com/jobs/view/3730068355</td>\n",
       "      <td>11-50 employees · Staffing and Recruiting</td>\n",
       "      <td>3730068355</td>\n",
       "      <td>Talent Pal</td>\n",
       "      <td>Karāchi, Sindh, Pakistan</td>\n",
       "      <td>On-site</td>\n",
       "      <td>377</td>\n",
       "      <td>1 week ago</td>\n",
       "    </tr>\n",
       "    <tr>\n",
       "      <th>1301</th>\n",
       "      <td>Virtual Data Engineering Internship - Performa...</td>\n",
       "      <td>Talent Pal · Islamabad, Islāmābād, Pakistan (O...</td>\n",
       "      <td>Internship · Internship</td>\n",
       "      <td>https://www.linkedin.com/jobs/view/3730064938</td>\n",
       "      <td>11-50 employees · Staffing and Recruiting</td>\n",
       "      <td>3730064938</td>\n",
       "      <td>Talent Pal</td>\n",
       "      <td>Islamabad, Islāmābād, Pakistan</td>\n",
       "      <td>On-site</td>\n",
       "      <td>38</td>\n",
       "      <td>1 week ago</td>\n",
       "    </tr>\n",
       "    <tr>\n",
       "      <th>1308</th>\n",
       "      <td>Virtual Data Analytics Internship - Customer R...</td>\n",
       "      <td>Talent Pal · Karāchi, Sindh, Pakistan (On-site...</td>\n",
       "      <td>Internship · Internship</td>\n",
       "      <td>https://www.linkedin.com/jobs/view/3730069358</td>\n",
       "      <td>11-50 employees · Staffing and Recruiting</td>\n",
       "      <td>3730069358</td>\n",
       "      <td>Talent Pal</td>\n",
       "      <td>Karāchi, Sindh, Pakistan</td>\n",
       "      <td>On-site</td>\n",
       "      <td>51</td>\n",
       "      <td>1 week ago</td>\n",
       "    </tr>\n",
       "    <tr>\n",
       "      <th>1311</th>\n",
       "      <td>Virtual Data Analytics Internship - Customer R...</td>\n",
       "      <td>Talent Pal · Islamabad, Islāmābād, Pakistan (O...</td>\n",
       "      <td>Internship · Internship</td>\n",
       "      <td>https://www.linkedin.com/jobs/view/3730065593</td>\n",
       "      <td>11-50 employees · Staffing and Recruiting</td>\n",
       "      <td>3730065593</td>\n",
       "      <td>Talent Pal</td>\n",
       "      <td>Islamabad, Islāmābād, Pakistan</td>\n",
       "      <td>On-site</td>\n",
       "      <td>38</td>\n",
       "      <td>1 week ago</td>\n",
       "    </tr>\n",
       "    <tr>\n",
       "      <th>1321</th>\n",
       "      <td>Virtual Project Management Internship</td>\n",
       "      <td>Talent Pal · Karāchi, Sindh, Pakistan (On-site...</td>\n",
       "      <td>Internship · Internship</td>\n",
       "      <td>https://www.linkedin.com/jobs/view/3730069362</td>\n",
       "      <td>11-50 employees · Staffing and Recruiting</td>\n",
       "      <td>3730069362</td>\n",
       "      <td>Talent Pal</td>\n",
       "      <td>Karāchi, Sindh, Pakistan</td>\n",
       "      <td>On-site</td>\n",
       "      <td>69</td>\n",
       "      <td>1 week ago</td>\n",
       "    </tr>\n",
       "    <tr>\n",
       "      <th>1326</th>\n",
       "      <td>Virtual Data Engineering Internship - Cloud Ba...</td>\n",
       "      <td>Talent Pal · Islamabad, Islāmābād, Pakistan (O...</td>\n",
       "      <td>Internship · Internship</td>\n",
       "      <td>https://www.linkedin.com/jobs/view/3730067572</td>\n",
       "      <td>11-50 employees · Staffing and Recruiting</td>\n",
       "      <td>3730067572</td>\n",
       "      <td>Talent Pal</td>\n",
       "      <td>Islamabad, Islāmābād, Pakistan</td>\n",
       "      <td>On-site</td>\n",
       "      <td>57</td>\n",
       "      <td>1 week ago</td>\n",
       "    </tr>\n",
       "    <tr>\n",
       "      <th>1330</th>\n",
       "      <td>Virtual Data Engineering Internship - Cloud Ba...</td>\n",
       "      <td>Talent Pal · Karāchi, Sindh, Pakistan (On-site...</td>\n",
       "      <td>Internship · Internship</td>\n",
       "      <td>https://www.linkedin.com/jobs/view/3730071088</td>\n",
       "      <td>11-50 employees · Staffing and Recruiting</td>\n",
       "      <td>3730071088</td>\n",
       "      <td>Talent Pal</td>\n",
       "      <td>Karāchi, Sindh, Pakistan</td>\n",
       "      <td>On-site</td>\n",
       "      <td>57</td>\n",
       "      <td>1 week ago</td>\n",
       "    </tr>\n",
       "    <tr>\n",
       "      <th>1333</th>\n",
       "      <td>Virtual Data Engineering Internship - Payment ...</td>\n",
       "      <td>Talent Pal · Islamabad, Islāmābād, Pakistan (O...</td>\n",
       "      <td>Internship · Internship</td>\n",
       "      <td>https://www.linkedin.com/jobs/view/3730064941</td>\n",
       "      <td>11-50 employees · Staffing and Recruiting</td>\n",
       "      <td>3730064941</td>\n",
       "      <td>Talent Pal</td>\n",
       "      <td>Islamabad, Islāmābād, Pakistan</td>\n",
       "      <td>On-site</td>\n",
       "      <td>20</td>\n",
       "      <td>1 week ago</td>\n",
       "    </tr>\n",
       "    <tr>\n",
       "      <th>1334</th>\n",
       "      <td>Virtual Data Engineering Internship - Payment ...</td>\n",
       "      <td>Talent Pal · Karāchi, Sindh, Pakistan (On-site...</td>\n",
       "      <td>Internship · Internship</td>\n",
       "      <td>https://www.linkedin.com/jobs/view/3730071065</td>\n",
       "      <td>11-50 employees · Staffing and Recruiting</td>\n",
       "      <td>3730071065</td>\n",
       "      <td>Talent Pal</td>\n",
       "      <td>Karāchi, Sindh, Pakistan</td>\n",
       "      <td>On-site</td>\n",
       "      <td>NaN</td>\n",
       "      <td>1 week ago</td>\n",
       "    </tr>\n",
       "    <tr>\n",
       "      <th>1336</th>\n",
       "      <td>Virtual B2B Sales Internship</td>\n",
       "      <td>Talent Pal · Karāchi, Sindh, Pakistan (On-site...</td>\n",
       "      <td>Internship · Internship</td>\n",
       "      <td>https://www.linkedin.com/jobs/view/3730064909</td>\n",
       "      <td>11-50 employees · Staffing and Recruiting</td>\n",
       "      <td>3730064909</td>\n",
       "      <td>Talent Pal</td>\n",
       "      <td>Karāchi, Sindh, Pakistan</td>\n",
       "      <td>On-site</td>\n",
       "      <td>NaN</td>\n",
       "      <td>1 week ago</td>\n",
       "    </tr>\n",
       "    <tr>\n",
       "      <th>1339</th>\n",
       "      <td>Virtual Customer Experience Internship</td>\n",
       "      <td>Talent Pal · Islamabad, Islāmābād, Pakistan (O...</td>\n",
       "      <td>Internship · Internship</td>\n",
       "      <td>https://www.linkedin.com/jobs/view/3730071079</td>\n",
       "      <td>11-50 employees · Staffing and Recruiting</td>\n",
       "      <td>3730071079</td>\n",
       "      <td>Talent Pal</td>\n",
       "      <td>Islamabad, Islāmābād, Pakistan</td>\n",
       "      <td>On-site</td>\n",
       "      <td>38</td>\n",
       "      <td>1 week ago</td>\n",
       "    </tr>\n",
       "    <tr>\n",
       "      <th>1351</th>\n",
       "      <td>Virtual B2B Sales Internship</td>\n",
       "      <td>Talent Pal · Islamabad, Islāmābād, Pakistan (O...</td>\n",
       "      <td>Internship · Internship</td>\n",
       "      <td>https://www.linkedin.com/jobs/view/3730068298</td>\n",
       "      <td>11-50 employees · Staffing and Recruiting</td>\n",
       "      <td>3730068298</td>\n",
       "      <td>Talent Pal</td>\n",
       "      <td>Islamabad, Islāmābād, Pakistan</td>\n",
       "      <td>On-site</td>\n",
       "      <td>21</td>\n",
       "      <td>1 week ago</td>\n",
       "    </tr>\n",
       "    <tr>\n",
       "      <th>1353</th>\n",
       "      <td>Virtual Customer Experience Internship</td>\n",
       "      <td>Talent Pal · Karāchi, Sindh, Pakistan (On-site...</td>\n",
       "      <td>Internship · Internship</td>\n",
       "      <td>https://www.linkedin.com/jobs/view/3730065606</td>\n",
       "      <td>11-50 employees · Staffing and Recruiting</td>\n",
       "      <td>3730065606</td>\n",
       "      <td>Talent Pal</td>\n",
       "      <td>Karāchi, Sindh, Pakistan</td>\n",
       "      <td>On-site</td>\n",
       "      <td>28</td>\n",
       "      <td>1 week ago</td>\n",
       "    </tr>\n",
       "    <tr>\n",
       "      <th>1364</th>\n",
       "      <td>Virtual Operations Management Internship</td>\n",
       "      <td>Talent Pal · Islamabad, Islāmābād, Pakistan (O...</td>\n",
       "      <td>Internship · Internship</td>\n",
       "      <td>https://www.linkedin.com/jobs/view/3730068321</td>\n",
       "      <td>11-50 employees · Staffing and Recruiting</td>\n",
       "      <td>3730068321</td>\n",
       "      <td>Talent Pal</td>\n",
       "      <td>Islamabad, Islāmābād, Pakistan</td>\n",
       "      <td>On-site</td>\n",
       "      <td>38</td>\n",
       "      <td>1 week ago</td>\n",
       "    </tr>\n",
       "    <tr>\n",
       "      <th>1394</th>\n",
       "      <td>Virtual Product Management Internship</td>\n",
       "      <td>Talent Pal · Karāchi, Sindh, Pakistan (On-site...</td>\n",
       "      <td>Internship · Internship</td>\n",
       "      <td>https://www.linkedin.com/jobs/view/3730068331</td>\n",
       "      <td>11-50 employees · Staffing and Recruiting</td>\n",
       "      <td>3730068331</td>\n",
       "      <td>Talent Pal</td>\n",
       "      <td>Karāchi, Sindh, Pakistan</td>\n",
       "      <td>On-site</td>\n",
       "      <td>NaN</td>\n",
       "      <td>1 week ago</td>\n",
       "    </tr>\n",
       "    <tr>\n",
       "      <th>1395</th>\n",
       "      <td>Virtual Product Management Internship</td>\n",
       "      <td>Talent Pal · Islamabad, Islāmābād, Pakistan (O...</td>\n",
       "      <td>Internship · Internship</td>\n",
       "      <td>https://www.linkedin.com/jobs/view/3730064948</td>\n",
       "      <td>11-50 employees · Staffing and Recruiting</td>\n",
       "      <td>3730064948</td>\n",
       "      <td>Talent Pal</td>\n",
       "      <td>Islamabad, Islāmābād, Pakistan</td>\n",
       "      <td>On-site</td>\n",
       "      <td>24</td>\n",
       "      <td>1 week ago</td>\n",
       "    </tr>\n",
       "    <tr>\n",
       "      <th>1773</th>\n",
       "      <td>Live Ops Agent - Intern</td>\n",
       "      <td>Careem · Lahore, Punjab, Pakistan (Remote)  \\n...</td>\n",
       "      <td>Internship · Internship</td>\n",
       "      <td>https://www.linkedin.com/jobs/view/3730366816</td>\n",
       "      <td>1,001-5,000 employees · IT Services and IT Con...</td>\n",
       "      <td>3730366816</td>\n",
       "      <td>Careem</td>\n",
       "      <td>Lahore, Punjab, Pakistan</td>\n",
       "      <td>Remote</td>\n",
       "      <td>307</td>\n",
       "      <td>1 week ago</td>\n",
       "    </tr>\n",
       "    <tr>\n",
       "      <th>3948</th>\n",
       "      <td>Employer Branding &amp; Culture Intern</td>\n",
       "      <td>Jazz · Islamabad, Islāmābād, Pakistan (On-site...</td>\n",
       "      <td>Internship · Internship</td>\n",
       "      <td>https://www.linkedin.com/jobs/view/3734535702</td>\n",
       "      <td>1,001-5,000 employees · Telecommunications</td>\n",
       "      <td>3734535702</td>\n",
       "      <td>Jazz</td>\n",
       "      <td>Islamabad, Islāmābād, Pakistan</td>\n",
       "      <td>On-site</td>\n",
       "      <td>NaN</td>\n",
       "      <td>4 days ago</td>\n",
       "    </tr>\n",
       "  </tbody>\n",
       "</table>\n",
       "</div>"
      ],
      "text/plain": [
       "                                              Job Title  \\\n",
       "9                              Fresh Graduate Engineers   \n",
       "91                                         Audit Intern   \n",
       "1276  Virtual Data Analytics Internship - Customer I...   \n",
       "1301  Virtual Data Engineering Internship - Performa...   \n",
       "1308  Virtual Data Analytics Internship - Customer R...   \n",
       "1311  Virtual Data Analytics Internship - Customer R...   \n",
       "1321              Virtual Project Management Internship   \n",
       "1326  Virtual Data Engineering Internship - Cloud Ba...   \n",
       "1330  Virtual Data Engineering Internship - Cloud Ba...   \n",
       "1333  Virtual Data Engineering Internship - Payment ...   \n",
       "1334  Virtual Data Engineering Internship - Payment ...   \n",
       "1336                       Virtual B2B Sales Internship   \n",
       "1339             Virtual Customer Experience Internship   \n",
       "1351                       Virtual B2B Sales Internship   \n",
       "1353             Virtual Customer Experience Internship   \n",
       "1364           Virtual Operations Management Internship   \n",
       "1394              Virtual Product Management Internship   \n",
       "1395              Virtual Product Management Internship   \n",
       "1773                            Live Ops Agent - Intern   \n",
       "3948                 Employer Branding & Culture Intern   \n",
       "\n",
       "                                               Job Info  \\\n",
       "9     HUAWEI Pakistan · Islāmābād, Pakistan (On-site...   \n",
       "91    Confiz · Lahore, Punjab, Pakistan (On-site)  \\...   \n",
       "1276  Talent Pal · Karāchi, Sindh, Pakistan (On-site...   \n",
       "1301  Talent Pal · Islamabad, Islāmābād, Pakistan (O...   \n",
       "1308  Talent Pal · Karāchi, Sindh, Pakistan (On-site...   \n",
       "1311  Talent Pal · Islamabad, Islāmābād, Pakistan (O...   \n",
       "1321  Talent Pal · Karāchi, Sindh, Pakistan (On-site...   \n",
       "1326  Talent Pal · Islamabad, Islāmābād, Pakistan (O...   \n",
       "1330  Talent Pal · Karāchi, Sindh, Pakistan (On-site...   \n",
       "1333  Talent Pal · Islamabad, Islāmābād, Pakistan (O...   \n",
       "1334  Talent Pal · Karāchi, Sindh, Pakistan (On-site...   \n",
       "1336  Talent Pal · Karāchi, Sindh, Pakistan (On-site...   \n",
       "1339  Talent Pal · Islamabad, Islāmābād, Pakistan (O...   \n",
       "1351  Talent Pal · Islamabad, Islāmābād, Pakistan (O...   \n",
       "1353  Talent Pal · Karāchi, Sindh, Pakistan (On-site...   \n",
       "1364  Talent Pal · Islamabad, Islāmābād, Pakistan (O...   \n",
       "1394  Talent Pal · Karāchi, Sindh, Pakistan (On-site...   \n",
       "1395  Talent Pal · Islamabad, Islāmābād, Pakistan (O...   \n",
       "1773  Careem · Lahore, Punjab, Pakistan (Remote)  \\n...   \n",
       "3948  Jazz · Islamabad, Islāmābād, Pakistan (On-site...   \n",
       "\n",
       "                     Job Type                                       Job Link  \\\n",
       "9     Internship · Internship  https://www.linkedin.com/jobs/view/3723394654   \n",
       "91    Internship · Internship  https://www.linkedin.com/jobs/view/3727032054   \n",
       "1276  Internship · Internship  https://www.linkedin.com/jobs/view/3730068355   \n",
       "1301  Internship · Internship  https://www.linkedin.com/jobs/view/3730064938   \n",
       "1308  Internship · Internship  https://www.linkedin.com/jobs/view/3730069358   \n",
       "1311  Internship · Internship  https://www.linkedin.com/jobs/view/3730065593   \n",
       "1321  Internship · Internship  https://www.linkedin.com/jobs/view/3730069362   \n",
       "1326  Internship · Internship  https://www.linkedin.com/jobs/view/3730067572   \n",
       "1330  Internship · Internship  https://www.linkedin.com/jobs/view/3730071088   \n",
       "1333  Internship · Internship  https://www.linkedin.com/jobs/view/3730064941   \n",
       "1334  Internship · Internship  https://www.linkedin.com/jobs/view/3730071065   \n",
       "1336  Internship · Internship  https://www.linkedin.com/jobs/view/3730064909   \n",
       "1339  Internship · Internship  https://www.linkedin.com/jobs/view/3730071079   \n",
       "1351  Internship · Internship  https://www.linkedin.com/jobs/view/3730068298   \n",
       "1353  Internship · Internship  https://www.linkedin.com/jobs/view/3730065606   \n",
       "1364  Internship · Internship  https://www.linkedin.com/jobs/view/3730068321   \n",
       "1394  Internship · Internship  https://www.linkedin.com/jobs/view/3730068331   \n",
       "1395  Internship · Internship  https://www.linkedin.com/jobs/view/3730064948   \n",
       "1773  Internship · Internship  https://www.linkedin.com/jobs/view/3730366816   \n",
       "3948  Internship · Internship  https://www.linkedin.com/jobs/view/3734535702   \n",
       "\n",
       "                                              employees      Job ID  \\\n",
       "9              501-1,000 employees · Telecommunications  3723394654   \n",
       "91    501-1,000 employees · IT Services and IT Consu...  3727032054   \n",
       "1276          11-50 employees · Staffing and Recruiting  3730068355   \n",
       "1301          11-50 employees · Staffing and Recruiting  3730064938   \n",
       "1308          11-50 employees · Staffing and Recruiting  3730069358   \n",
       "1311          11-50 employees · Staffing and Recruiting  3730065593   \n",
       "1321          11-50 employees · Staffing and Recruiting  3730069362   \n",
       "1326          11-50 employees · Staffing and Recruiting  3730067572   \n",
       "1330          11-50 employees · Staffing and Recruiting  3730071088   \n",
       "1333          11-50 employees · Staffing and Recruiting  3730064941   \n",
       "1334          11-50 employees · Staffing and Recruiting  3730071065   \n",
       "1336          11-50 employees · Staffing and Recruiting  3730064909   \n",
       "1339          11-50 employees · Staffing and Recruiting  3730071079   \n",
       "1351          11-50 employees · Staffing and Recruiting  3730068298   \n",
       "1353          11-50 employees · Staffing and Recruiting  3730065606   \n",
       "1364          11-50 employees · Staffing and Recruiting  3730068321   \n",
       "1394          11-50 employees · Staffing and Recruiting  3730068331   \n",
       "1395          11-50 employees · Staffing and Recruiting  3730064948   \n",
       "1773  1,001-5,000 employees · IT Services and IT Con...  3730366816   \n",
       "3948         1,001-5,000 employees · Telecommunications  3734535702   \n",
       "\n",
       "               company                        location Remote/Onsite  \\\n",
       "9     HUAWEI Pakistan              Islāmābād, Pakistan       On-site   \n",
       "91             Confiz         Lahore, Punjab, Pakistan       On-site   \n",
       "1276       Talent Pal         Karāchi, Sindh, Pakistan       On-site   \n",
       "1301       Talent Pal   Islamabad, Islāmābād, Pakistan       On-site   \n",
       "1308       Talent Pal         Karāchi, Sindh, Pakistan       On-site   \n",
       "1311       Talent Pal   Islamabad, Islāmābād, Pakistan       On-site   \n",
       "1321       Talent Pal         Karāchi, Sindh, Pakistan       On-site   \n",
       "1326       Talent Pal   Islamabad, Islāmābād, Pakistan       On-site   \n",
       "1330       Talent Pal         Karāchi, Sindh, Pakistan       On-site   \n",
       "1333       Talent Pal   Islamabad, Islāmābād, Pakistan       On-site   \n",
       "1334       Talent Pal         Karāchi, Sindh, Pakistan       On-site   \n",
       "1336       Talent Pal         Karāchi, Sindh, Pakistan       On-site   \n",
       "1339       Talent Pal   Islamabad, Islāmābād, Pakistan       On-site   \n",
       "1351       Talent Pal   Islamabad, Islāmābād, Pakistan       On-site   \n",
       "1353       Talent Pal         Karāchi, Sindh, Pakistan       On-site   \n",
       "1364       Talent Pal   Islamabad, Islāmābād, Pakistan       On-site   \n",
       "1394       Talent Pal         Karāchi, Sindh, Pakistan       On-site   \n",
       "1395       Talent Pal   Islamabad, Islāmābād, Pakistan       On-site   \n",
       "1773           Careem         Lahore, Punjab, Pakistan        Remote   \n",
       "3948             Jazz   Islamabad, Islāmābād, Pakistan       On-site   \n",
       "\n",
       "     n_applicant job posting time  \n",
       "9          2,048      2 weeks ago  \n",
       "91           NaN      2 weeks ago  \n",
       "1276         377       1 week ago  \n",
       "1301          38       1 week ago  \n",
       "1308          51       1 week ago  \n",
       "1311          38       1 week ago  \n",
       "1321          69       1 week ago  \n",
       "1326          57       1 week ago  \n",
       "1330          57       1 week ago  \n",
       "1333          20       1 week ago  \n",
       "1334         NaN       1 week ago  \n",
       "1336         NaN       1 week ago  \n",
       "1339          38       1 week ago  \n",
       "1351          21       1 week ago  \n",
       "1353          28       1 week ago  \n",
       "1364          38       1 week ago  \n",
       "1394         NaN       1 week ago  \n",
       "1395          24       1 week ago  \n",
       "1773         307       1 week ago  \n",
       "3948         NaN       4 days ago  "
      ]
     },
     "execution_count": 132,
     "metadata": {},
     "output_type": "execute_result"
    }
   ],
   "source": [
    "df[df['Job Type']=='Internship · Internship']"
   ]
  },
  {
   "cell_type": "code",
   "execution_count": 133,
   "id": "137eec04-3dd8-4bd4-a268-e15670897d2d",
   "metadata": {},
   "outputs": [
    {
     "data": {
      "text/plain": [
       "20"
      ]
     },
     "execution_count": 133,
     "metadata": {},
     "output_type": "execute_result"
    }
   ],
   "source": [
    "len(df[df['Job Type']=='Internship · Internship'])"
   ]
  },
  {
   "cell_type": "code",
   "execution_count": 134,
   "id": "65939e6a-7659-49ec-bf96-7e606b4ebefc",
   "metadata": {},
   "outputs": [
    {
     "data": {
      "text/html": [
       "<div>\n",
       "<style scoped>\n",
       "    .dataframe tbody tr th:only-of-type {\n",
       "        vertical-align: middle;\n",
       "    }\n",
       "\n",
       "    .dataframe tbody tr th {\n",
       "        vertical-align: top;\n",
       "    }\n",
       "\n",
       "    .dataframe thead th {\n",
       "        text-align: right;\n",
       "    }\n",
       "</style>\n",
       "<table border=\"1\" class=\"dataframe\">\n",
       "  <thead>\n",
       "    <tr style=\"text-align: right;\">\n",
       "      <th></th>\n",
       "      <th>Job Title</th>\n",
       "      <th>Job Info</th>\n",
       "      <th>Job Type</th>\n",
       "      <th>Job Link</th>\n",
       "      <th>employees</th>\n",
       "      <th>Job ID</th>\n",
       "      <th>company</th>\n",
       "      <th>location</th>\n",
       "      <th>Remote/Onsite</th>\n",
       "      <th>n_applicant</th>\n",
       "      <th>job posting time</th>\n",
       "    </tr>\n",
       "  </thead>\n",
       "  <tbody>\n",
       "    <tr>\n",
       "      <th>192</th>\n",
       "      <td>Content Writer</td>\n",
       "      <td>Torque360 · Lahore, Punjab, Pakistan (On-site)...</td>\n",
       "      <td>Contract</td>\n",
       "      <td>https://www.linkedin.com/jobs/view/3727018176</td>\n",
       "      <td>11-50 employees</td>\n",
       "      <td>3727018176</td>\n",
       "      <td>Torque360</td>\n",
       "      <td>Lahore, Punjab, Pakistan</td>\n",
       "      <td>On-site</td>\n",
       "      <td>NaN</td>\n",
       "      <td>2 weeks ago</td>\n",
       "    </tr>\n",
       "    <tr>\n",
       "      <th>282</th>\n",
       "      <td>Shopify App Developer</td>\n",
       "      <td>Shopify1 - A Shopify Agency · Pakistan (Remote...</td>\n",
       "      <td>Contract</td>\n",
       "      <td>https://www.linkedin.com/jobs/view/3727041074/...</td>\n",
       "      <td>11-50 employees</td>\n",
       "      <td>3727041074</td>\n",
       "      <td>Shopify1 - A Shopify Agency</td>\n",
       "      <td>Pakistan</td>\n",
       "      <td>Remote</td>\n",
       "      <td>46</td>\n",
       "      <td>1 week ago</td>\n",
       "    </tr>\n",
       "    <tr>\n",
       "      <th>428</th>\n",
       "      <td>Senior Software Development Project Manager</td>\n",
       "      <td>Staffing Wise · Lahore, Punjab, Pakistan (Remo...</td>\n",
       "      <td>Contract</td>\n",
       "      <td>https://www.linkedin.com/jobs/view/3676168478/...</td>\n",
       "      <td>11-50 employees</td>\n",
       "      <td>3676168478</td>\n",
       "      <td>Staffing Wise</td>\n",
       "      <td>Lahore, Punjab, Pakistan</td>\n",
       "      <td>Remote</td>\n",
       "      <td>46</td>\n",
       "      <td>2 weeks ago</td>\n",
       "    </tr>\n",
       "    <tr>\n",
       "      <th>429</th>\n",
       "      <td>Community Counselor</td>\n",
       "      <td>Humraz Male Health Society Nawabshah · Nawabsh...</td>\n",
       "      <td>Contract</td>\n",
       "      <td>https://www.linkedin.com/jobs/view/3727015123/...</td>\n",
       "      <td>See how you compare to 15 applicants. Reactiva...</td>\n",
       "      <td>3727015123</td>\n",
       "      <td>Humraz Male Health Society Nawabshah</td>\n",
       "      <td>Nawabshah, Sindh, Pakistan</td>\n",
       "      <td>On-site</td>\n",
       "      <td>NaN</td>\n",
       "      <td>2 weeks ago</td>\n",
       "    </tr>\n",
       "    <tr>\n",
       "      <th>584</th>\n",
       "      <td>SOFTWARE DEVELOPER</td>\n",
       "      <td>360 TECHNOLOGIES · Islamabad, Islāmābād, Pakis...</td>\n",
       "      <td>Contract</td>\n",
       "      <td>https://www.linkedin.com/jobs/view/3727513946</td>\n",
       "      <td>51-200 employees</td>\n",
       "      <td>3727513946</td>\n",
       "      <td>360 TECHNOLOGIES</td>\n",
       "      <td>Islamabad, Islāmābād, Pakistan</td>\n",
       "      <td>Hybrid</td>\n",
       "      <td>NaN</td>\n",
       "      <td>1 week ago</td>\n",
       "    </tr>\n",
       "    <tr>\n",
       "      <th>590</th>\n",
       "      <td>SOFTWARE DEVELOPER</td>\n",
       "      <td>360 TECHNOLOGIES · Islamabad, Islāmābād, Pakis...</td>\n",
       "      <td>Contract</td>\n",
       "      <td>https://www.linkedin.com/jobs/view/3727510836</td>\n",
       "      <td>51-200 employees</td>\n",
       "      <td>3727510836</td>\n",
       "      <td>360 TECHNOLOGIES</td>\n",
       "      <td>Islamabad, Islāmābād, Pakistan</td>\n",
       "      <td>Hybrid</td>\n",
       "      <td>NaN</td>\n",
       "      <td>1 week ago</td>\n",
       "    </tr>\n",
       "    <tr>\n",
       "      <th>605</th>\n",
       "      <td>Social Media Manager</td>\n",
       "      <td>US Trips n Tours · Punjab, Pakistan (Remote) R...</td>\n",
       "      <td>Contract</td>\n",
       "      <td>https://www.linkedin.com/jobs/view/3714484473</td>\n",
       "      <td>Umar Siddiqui is hiring for this job</td>\n",
       "      <td>3714484473</td>\n",
       "      <td>US Trips n Tours</td>\n",
       "      <td>Punjab, Pakistan</td>\n",
       "      <td>Remote</td>\n",
       "      <td>685</td>\n",
       "      <td>1 week ago</td>\n",
       "    </tr>\n",
       "    <tr>\n",
       "      <th>694</th>\n",
       "      <td>Call Center Representative</td>\n",
       "      <td>Logico info technology  · Lahore, Punjab, Paki...</td>\n",
       "      <td>Contract</td>\n",
       "      <td>https://www.linkedin.com/jobs/view/3728711440</td>\n",
       "      <td>Yasir Khubaib is hiring for this job</td>\n",
       "      <td>3728711440</td>\n",
       "      <td>Logico info technology</td>\n",
       "      <td>Lahore, Punjab, Pakistan</td>\n",
       "      <td>On-site</td>\n",
       "      <td>11</td>\n",
       "      <td>1 week ago</td>\n",
       "    </tr>\n",
       "    <tr>\n",
       "      <th>734</th>\n",
       "      <td>Field Research Interviewer</td>\n",
       "      <td>Static-A (CX-CS Consulting Firm) · Lahore, Pun...</td>\n",
       "      <td>Contract</td>\n",
       "      <td>https://www.linkedin.com/jobs/view/3727085245</td>\n",
       "      <td>Ali Malik, CCXP is hiring for this job</td>\n",
       "      <td>3727085245</td>\n",
       "      <td>Static-A (CX-CS Consulting Firm)</td>\n",
       "      <td>Lahore, Punjab, Pakistan</td>\n",
       "      <td>On-site</td>\n",
       "      <td>10</td>\n",
       "      <td>2 weeks ago</td>\n",
       "    </tr>\n",
       "    <tr>\n",
       "      <th>839</th>\n",
       "      <td>Voice User Interface (VUI) Designer</td>\n",
       "      <td>CRES Technology · Pakistan (Remote)  \\n1 week ago</td>\n",
       "      <td>Contract</td>\n",
       "      <td>https://www.linkedin.com/jobs/view/3727537108</td>\n",
       "      <td>11-50 employees</td>\n",
       "      <td>3727537108</td>\n",
       "      <td>CRES Technology</td>\n",
       "      <td>Pakistan</td>\n",
       "      <td>Remote</td>\n",
       "      <td>NaN</td>\n",
       "      <td>1 week ago</td>\n",
       "    </tr>\n",
       "    <tr>\n",
       "      <th>1082</th>\n",
       "      <td>Business Development Executive</td>\n",
       "      <td>The Royal Advisor · Karachi Division, Sindh, P...</td>\n",
       "      <td>Contract</td>\n",
       "      <td>https://www.linkedin.com/jobs/view/3729118023</td>\n",
       "      <td>51-200 employees</td>\n",
       "      <td>3729118023</td>\n",
       "      <td>The Royal Advisor</td>\n",
       "      <td>Karachi Division, Sindh, Pakistan</td>\n",
       "      <td>On-site</td>\n",
       "      <td>16</td>\n",
       "      <td>1 week ago</td>\n",
       "    </tr>\n",
       "    <tr>\n",
       "      <th>1088</th>\n",
       "      <td>Elementary School Teacher</td>\n",
       "      <td>Sayed Saeedullah Shah Rashadi Model School Tal...</td>\n",
       "      <td>Contract</td>\n",
       "      <td>https://www.linkedin.com/jobs/view/3727929128</td>\n",
       "      <td>11-50 employees</td>\n",
       "      <td>3727929128</td>\n",
       "      <td>Sayed Saeedullah Shah Rashadi Model School Tal...</td>\n",
       "      <td>Mirpur Khas District, Sindh, Pakistan</td>\n",
       "      <td>On-site</td>\n",
       "      <td>14</td>\n",
       "      <td>1 week ago</td>\n",
       "    </tr>\n",
       "    <tr>\n",
       "      <th>1121</th>\n",
       "      <td>Webflow Developer and Graphic Designer</td>\n",
       "      <td>Prodcircle · Pakistan (Remote)  \\n1 week ago</td>\n",
       "      <td>Contract</td>\n",
       "      <td>https://www.linkedin.com/jobs/view/3728229216</td>\n",
       "      <td>1-10 employees</td>\n",
       "      <td>3728229216</td>\n",
       "      <td>Prodcircle</td>\n",
       "      <td>Pakistan</td>\n",
       "      <td>Remote</td>\n",
       "      <td>NaN</td>\n",
       "      <td>1 week ago</td>\n",
       "    </tr>\n",
       "    <tr>\n",
       "      <th>1167</th>\n",
       "      <td>Appointment Setter</td>\n",
       "      <td>HTSolutions · Pakistan (Remote)  \\n1 week ago</td>\n",
       "      <td>Contract</td>\n",
       "      <td>https://www.linkedin.com/jobs/view/3728252010</td>\n",
       "      <td>1-10 employees</td>\n",
       "      <td>3728252010</td>\n",
       "      <td>HTSolutions</td>\n",
       "      <td>Pakistan</td>\n",
       "      <td>Remote</td>\n",
       "      <td>NaN</td>\n",
       "      <td>1 week ago</td>\n",
       "    </tr>\n",
       "    <tr>\n",
       "      <th>1291</th>\n",
       "      <td>Lead Generation Specialist</td>\n",
       "      <td>Humans Meta Tech · Lahore, Punjab, Pakistan (H...</td>\n",
       "      <td>Contract</td>\n",
       "      <td>https://www.linkedin.com/jobs/view/3726567599</td>\n",
       "      <td>11-50 employees</td>\n",
       "      <td>3726567599</td>\n",
       "      <td>Humans Meta Tech</td>\n",
       "      <td>Lahore, Punjab, Pakistan</td>\n",
       "      <td>Hybrid</td>\n",
       "      <td>NaN</td>\n",
       "      <td>1 week ago</td>\n",
       "    </tr>\n",
       "    <tr>\n",
       "      <th>1458</th>\n",
       "      <td>Solar Installation Technician (Project Based)</td>\n",
       "      <td>IPS - Ideal Power Solutions · Karāchi, Sindh, ...</td>\n",
       "      <td>Contract</td>\n",
       "      <td>https://www.linkedin.com/jobs/view/3728515017</td>\n",
       "      <td>51-200 employees</td>\n",
       "      <td>3728515017</td>\n",
       "      <td>IPS - Ideal Power Solutions</td>\n",
       "      <td>Karāchi, Sindh, Pakistan</td>\n",
       "      <td>On-site</td>\n",
       "      <td>NaN</td>\n",
       "      <td>1 week ago</td>\n",
       "    </tr>\n",
       "    <tr>\n",
       "      <th>1533</th>\n",
       "      <td>Social Media Agency</td>\n",
       "      <td>Al Alwaan Food · Karāchi, Sindh, Pakistan (Hyb...</td>\n",
       "      <td>Contract</td>\n",
       "      <td>https://www.linkedin.com/jobs/view/3729941082</td>\n",
       "      <td>11-50 employees</td>\n",
       "      <td>3729941082</td>\n",
       "      <td>Al Alwaan Food</td>\n",
       "      <td>Karāchi, Sindh, Pakistan</td>\n",
       "      <td>Hybrid</td>\n",
       "      <td>51</td>\n",
       "      <td>1 week ago</td>\n",
       "    </tr>\n",
       "    <tr>\n",
       "      <th>1551</th>\n",
       "      <td>Affiliate content writer</td>\n",
       "      <td>Techticks · Bahawalpur, Punjab, Pakistan (On-s...</td>\n",
       "      <td>Contract</td>\n",
       "      <td>https://www.linkedin.com/jobs/view/3729944965</td>\n",
       "      <td>11-50 employees</td>\n",
       "      <td>3729944965</td>\n",
       "      <td>Techticks</td>\n",
       "      <td>Bahawalpur, Punjab, Pakistan</td>\n",
       "      <td>On-site</td>\n",
       "      <td>24</td>\n",
       "      <td>1 week ago</td>\n",
       "    </tr>\n",
       "    <tr>\n",
       "      <th>1685</th>\n",
       "      <td>Educational Consultant</td>\n",
       "      <td>One Path Migration · Islamabad, Islāmābād, Pak...</td>\n",
       "      <td>Contract</td>\n",
       "      <td>https://www.linkedin.com/jobs/view/3730122918</td>\n",
       "      <td>1-10 employees</td>\n",
       "      <td>3730122918</td>\n",
       "      <td>One Path Migration</td>\n",
       "      <td>Islamabad, Islāmābād, Pakistan</td>\n",
       "      <td>On-site</td>\n",
       "      <td>37</td>\n",
       "      <td>1 week ago</td>\n",
       "    </tr>\n",
       "    <tr>\n",
       "      <th>1730</th>\n",
       "      <td>Senior Web Application Developer</td>\n",
       "      <td>Linkamber · Pakistan (Remote)  \\n1 week ago\\n\\...</td>\n",
       "      <td>Contract</td>\n",
       "      <td>https://www.linkedin.com/jobs/view/3730138495</td>\n",
       "      <td>11-50 employees</td>\n",
       "      <td>3730138495</td>\n",
       "      <td>Linkamber</td>\n",
       "      <td>Pakistan</td>\n",
       "      <td>Remote</td>\n",
       "      <td>48</td>\n",
       "      <td>1 week ago</td>\n",
       "    </tr>\n",
       "    <tr>\n",
       "      <th>1756</th>\n",
       "      <td>Digital Marketing Executive</td>\n",
       "      <td>COSMO · Pakistan (Remote)  \\n1 week ago</td>\n",
       "      <td>Contract</td>\n",
       "      <td>https://www.linkedin.com/jobs/view/3730677619</td>\n",
       "      <td>11-50 employees</td>\n",
       "      <td>3730677619</td>\n",
       "      <td>COSMO</td>\n",
       "      <td>Pakistan</td>\n",
       "      <td>Remote</td>\n",
       "      <td>NaN</td>\n",
       "      <td>1 week ago</td>\n",
       "    </tr>\n",
       "    <tr>\n",
       "      <th>1821</th>\n",
       "      <td>Web Developer</td>\n",
       "      <td>Thokmandee.com · Pakistan (Remote)  \\n1 week ago</td>\n",
       "      <td>Contract</td>\n",
       "      <td>https://www.linkedin.com/jobs/view/3730360128</td>\n",
       "      <td>11-50 employees</td>\n",
       "      <td>3730360128</td>\n",
       "      <td>Thokmandee.com</td>\n",
       "      <td>Pakistan</td>\n",
       "      <td>Remote</td>\n",
       "      <td>NaN</td>\n",
       "      <td>1 week ago</td>\n",
       "    </tr>\n",
       "    <tr>\n",
       "      <th>1830</th>\n",
       "      <td>Social Media Marketing Specialist</td>\n",
       "      <td>Cross Sky Consultants · Peshawar, Khyber Pakht...</td>\n",
       "      <td>Contract</td>\n",
       "      <td>https://www.linkedin.com/jobs/view/3730383291</td>\n",
       "      <td>1-10 employees</td>\n",
       "      <td>3730383291</td>\n",
       "      <td>Cross Sky Consultants</td>\n",
       "      <td>Peshawar, Khyber Pakhtunkhwa, Pakistan</td>\n",
       "      <td>Hybrid</td>\n",
       "      <td>NaN</td>\n",
       "      <td>1 week ago</td>\n",
       "    </tr>\n",
       "    <tr>\n",
       "      <th>1935</th>\n",
       "      <td>Sales Representative</td>\n",
       "      <td>Kyrios Dev · Karāchi, Sindh, Pakistan (Remote)...</td>\n",
       "      <td>Contract</td>\n",
       "      <td>https://www.linkedin.com/jobs/view/3730397066</td>\n",
       "      <td>1-10 employees</td>\n",
       "      <td>3730397066</td>\n",
       "      <td>Kyrios Dev</td>\n",
       "      <td>Karāchi, Sindh, Pakistan</td>\n",
       "      <td>Remote</td>\n",
       "      <td>NaN</td>\n",
       "      <td>1 week ago</td>\n",
       "    </tr>\n",
       "    <tr>\n",
       "      <th>1997</th>\n",
       "      <td>Freelance Video Editor</td>\n",
       "      <td>Axial Consulting Pvt Ltd · Lahore, Punjab, Pak...</td>\n",
       "      <td>Contract</td>\n",
       "      <td>https://www.linkedin.com/jobs/view/3730352375</td>\n",
       "      <td>1-10 employees</td>\n",
       "      <td>3730352375</td>\n",
       "      <td>Axial Consulting Pvt Ltd</td>\n",
       "      <td>Lahore, Punjab, Pakistan</td>\n",
       "      <td>Hybrid</td>\n",
       "      <td>162</td>\n",
       "      <td>1 week ago</td>\n",
       "    </tr>\n",
       "    <tr>\n",
       "      <th>2270</th>\n",
       "      <td>Salesperson</td>\n",
       "      <td>Webmicron · Pakistan (Remote)  \\n1 week ago</td>\n",
       "      <td>Contract</td>\n",
       "      <td>https://www.linkedin.com/jobs/view/3731280300</td>\n",
       "      <td>11-50 employees</td>\n",
       "      <td>3731280300</td>\n",
       "      <td>Webmicron</td>\n",
       "      <td>Pakistan</td>\n",
       "      <td>Remote</td>\n",
       "      <td>NaN</td>\n",
       "      <td>1 week ago</td>\n",
       "    </tr>\n",
       "    <tr>\n",
       "      <th>2333</th>\n",
       "      <td>Associate Content Writer</td>\n",
       "      <td>Torque360 · Lahore, Punjab, Pakistan (On-site)...</td>\n",
       "      <td>Contract</td>\n",
       "      <td>https://www.linkedin.com/jobs/view/3731298011</td>\n",
       "      <td>11-50 employees</td>\n",
       "      <td>3731298011</td>\n",
       "      <td>Torque360</td>\n",
       "      <td>Lahore, Punjab, Pakistan</td>\n",
       "      <td>On-site</td>\n",
       "      <td>NaN</td>\n",
       "      <td>1 week ago</td>\n",
       "    </tr>\n",
       "    <tr>\n",
       "      <th>2688</th>\n",
       "      <td>Power Market and Financials Sr Associate</td>\n",
       "      <td>Planetive · Islāmābād, Pakistan (On-site)  \\n1...</td>\n",
       "      <td>Contract</td>\n",
       "      <td>https://www.linkedin.com/jobs/view/3731607788</td>\n",
       "      <td>11-50 employees</td>\n",
       "      <td>3731607788</td>\n",
       "      <td>Planetive</td>\n",
       "      <td>Islāmābād, Pakistan</td>\n",
       "      <td>On-site</td>\n",
       "      <td>NaN</td>\n",
       "      <td>1 week ago</td>\n",
       "    </tr>\n",
       "    <tr>\n",
       "      <th>2705</th>\n",
       "      <td>Microsoft Dynamics 365 CE/CRM functional consu...</td>\n",
       "      <td>Tech Infiniti · Pakistan (Remote)  \\n1 week ag...</td>\n",
       "      <td>Contract</td>\n",
       "      <td>https://www.linkedin.com/jobs/view/3700625619</td>\n",
       "      <td>1-10 employees</td>\n",
       "      <td>3700625619</td>\n",
       "      <td>Tech Infiniti</td>\n",
       "      <td>Pakistan</td>\n",
       "      <td>Remote</td>\n",
       "      <td>34</td>\n",
       "      <td>1 week ago</td>\n",
       "    </tr>\n",
       "    <tr>\n",
       "      <th>2720</th>\n",
       "      <td>Blockchain Expert</td>\n",
       "      <td>Cathect Sdn Bhd · Islamabad, Islāmābād, Pakist...</td>\n",
       "      <td>Contract</td>\n",
       "      <td>https://www.linkedin.com/jobs/view/3731686008</td>\n",
       "      <td>11-50 employees</td>\n",
       "      <td>3731686008</td>\n",
       "      <td>Cathect Sdn Bhd</td>\n",
       "      <td>Islamabad, Islāmābād, Pakistan</td>\n",
       "      <td>Hybrid</td>\n",
       "      <td>12</td>\n",
       "      <td>1 week ago</td>\n",
       "    </tr>\n",
       "    <tr>\n",
       "      <th>2770</th>\n",
       "      <td>Senior Business Development Consultant</td>\n",
       "      <td>VACON.AI · Lahore Division, Punjab, Pakistan (...</td>\n",
       "      <td>Contract</td>\n",
       "      <td>https://www.linkedin.com/jobs/view/3731642783</td>\n",
       "      <td>1-10 employees</td>\n",
       "      <td>3731642783</td>\n",
       "      <td>VACON.AI</td>\n",
       "      <td>Lahore Division, Punjab, Pakistan</td>\n",
       "      <td>Hybrid</td>\n",
       "      <td>NaN</td>\n",
       "      <td>1 week ago</td>\n",
       "    </tr>\n",
       "    <tr>\n",
       "      <th>2833</th>\n",
       "      <td>PHP AND LARAVEL DEVELOPER</td>\n",
       "      <td>SAAMH TECH · Multan, Punjab, Pakistan (On-site...</td>\n",
       "      <td>Contract</td>\n",
       "      <td>https://www.linkedin.com/jobs/view/3732435425</td>\n",
       "      <td>Ahmad Saleem is hiring for this job</td>\n",
       "      <td>3732435425</td>\n",
       "      <td>SAAMH TECH</td>\n",
       "      <td>Multan, Punjab, Pakistan</td>\n",
       "      <td>On-site</td>\n",
       "      <td>15</td>\n",
       "      <td>1 week ago</td>\n",
       "    </tr>\n",
       "    <tr>\n",
       "      <th>2970</th>\n",
       "      <td>Marketing Automation Specialist</td>\n",
       "      <td>Meraki Partners · Pakistan (Remote)  \\n1 week ago</td>\n",
       "      <td>Contract</td>\n",
       "      <td>https://www.linkedin.com/jobs/view/3732689535</td>\n",
       "      <td>1-10 employees</td>\n",
       "      <td>3732689535</td>\n",
       "      <td>Meraki Partners</td>\n",
       "      <td>Pakistan</td>\n",
       "      <td>Remote</td>\n",
       "      <td>NaN</td>\n",
       "      <td>1 week ago</td>\n",
       "    </tr>\n",
       "    <tr>\n",
       "      <th>2984</th>\n",
       "      <td>Gynecologist</td>\n",
       "      <td>Bach Christian Hospital  · Abbottabad District...</td>\n",
       "      <td>Contract</td>\n",
       "      <td>https://www.linkedin.com/jobs/view/3732824663</td>\n",
       "      <td>Ambrose Emmanuel is hiring for this job</td>\n",
       "      <td>3732824663</td>\n",
       "      <td>Bach Christian Hospital</td>\n",
       "      <td>Abbottabad District, Khyber Pakhtunkhwa, Pakistan</td>\n",
       "      <td>On-site</td>\n",
       "      <td>4</td>\n",
       "      <td>6 days ago</td>\n",
       "    </tr>\n",
       "    <tr>\n",
       "      <th>2988</th>\n",
       "      <td>Word Press Developer</td>\n",
       "      <td>EPLsoft PVT LTD. · Pakistan (Remote)  \\n6 days...</td>\n",
       "      <td>Contract</td>\n",
       "      <td>https://www.linkedin.com/jobs/view/3732856079</td>\n",
       "      <td>Saad Malik is hiring for this job</td>\n",
       "      <td>3732856079</td>\n",
       "      <td>EPLsoft PVT LTD.</td>\n",
       "      <td>Pakistan</td>\n",
       "      <td>Remote</td>\n",
       "      <td>27</td>\n",
       "      <td>6 days ago</td>\n",
       "    </tr>\n",
       "    <tr>\n",
       "      <th>3000</th>\n",
       "      <td>Senior Devops Engineer</td>\n",
       "      <td>Pan Asia Resources · Karāchi, Sindh, Pakistan ...</td>\n",
       "      <td>Contract</td>\n",
       "      <td>https://www.linkedin.com/jobs/view/3729036426</td>\n",
       "      <td>201-500 employees</td>\n",
       "      <td>3729036426</td>\n",
       "      <td>Pan Asia Resources</td>\n",
       "      <td>Karāchi, Sindh, Pakistan</td>\n",
       "      <td>On-site</td>\n",
       "      <td>NaN</td>\n",
       "      <td>6 days ago</td>\n",
       "    </tr>\n",
       "    <tr>\n",
       "      <th>3003</th>\n",
       "      <td>QC Shift Analyst</td>\n",
       "      <td>Alpha Container Industries · Karāchi, Sindh, P...</td>\n",
       "      <td>Contract</td>\n",
       "      <td>https://www.linkedin.com/jobs/view/3732690046</td>\n",
       "      <td>501-1,000 employees</td>\n",
       "      <td>3732690046</td>\n",
       "      <td>Alpha Container Industries</td>\n",
       "      <td>Karāchi, Sindh, Pakistan</td>\n",
       "      <td>On-site</td>\n",
       "      <td>26</td>\n",
       "      <td>1 week ago</td>\n",
       "    </tr>\n",
       "    <tr>\n",
       "      <th>3024</th>\n",
       "      <td>AWS Solutions Architect</td>\n",
       "      <td>DOTIVATE · Lahore, Punjab, Pakistan (Hybrid)  ...</td>\n",
       "      <td>Contract</td>\n",
       "      <td>https://www.linkedin.com/jobs/view/3732858036</td>\n",
       "      <td>11-50 employees</td>\n",
       "      <td>3732858036</td>\n",
       "      <td>DOTIVATE</td>\n",
       "      <td>Lahore, Punjab, Pakistan</td>\n",
       "      <td>Hybrid</td>\n",
       "      <td>NaN</td>\n",
       "      <td>6 days ago</td>\n",
       "    </tr>\n",
       "    <tr>\n",
       "      <th>3054</th>\n",
       "      <td>Inside Sales Specialist</td>\n",
       "      <td>BrinySoft Animation Studio Inc · Islāmābād, Pa...</td>\n",
       "      <td>Contract</td>\n",
       "      <td>https://www.linkedin.com/jobs/view/3729047773</td>\n",
       "      <td>11-50 employees</td>\n",
       "      <td>3729047773</td>\n",
       "      <td>BrinySoft Animation Studio Inc</td>\n",
       "      <td>Islāmābād, Pakistan</td>\n",
       "      <td>Remote</td>\n",
       "      <td>NaN</td>\n",
       "      <td>6 days ago</td>\n",
       "    </tr>\n",
       "    <tr>\n",
       "      <th>3080</th>\n",
       "      <td>Mediální nákupčí</td>\n",
       "      <td>FusionAd Digital · Pakistan (Remote)  \\n6 days...</td>\n",
       "      <td>Contract</td>\n",
       "      <td>https://www.linkedin.com/jobs/view/3733673145</td>\n",
       "      <td>1-10 employees</td>\n",
       "      <td>3733673145</td>\n",
       "      <td>FusionAd Digital</td>\n",
       "      <td>Pakistan</td>\n",
       "      <td>Remote</td>\n",
       "      <td>NaN</td>\n",
       "      <td>6 days ago</td>\n",
       "    </tr>\n",
       "    <tr>\n",
       "      <th>3122</th>\n",
       "      <td>Off-Page SEO Strategist</td>\n",
       "      <td>Virtue Xolutions · Karachi Division, Sindh, Pa...</td>\n",
       "      <td>Contract</td>\n",
       "      <td>https://www.linkedin.com/jobs/view/3723929582</td>\n",
       "      <td>201-500 employees</td>\n",
       "      <td>3723929582</td>\n",
       "      <td>Virtue Xolutions</td>\n",
       "      <td>Karachi Division, Sindh, Pakistan</td>\n",
       "      <td>On-site</td>\n",
       "      <td>NaN</td>\n",
       "      <td>1 week ago</td>\n",
       "    </tr>\n",
       "    <tr>\n",
       "      <th>3298</th>\n",
       "      <td>Software Engineer</td>\n",
       "      <td>360 TECHNOLOGIES · Islamabad, Islāmābād, Pakis...</td>\n",
       "      <td>Contract</td>\n",
       "      <td>https://www.linkedin.com/jobs/view/3733338358</td>\n",
       "      <td>51-200 employees</td>\n",
       "      <td>3733338358</td>\n",
       "      <td>360 TECHNOLOGIES</td>\n",
       "      <td>Islamabad, Islāmābād, Pakistan</td>\n",
       "      <td>Hybrid</td>\n",
       "      <td>NaN</td>\n",
       "      <td>5 days ago</td>\n",
       "    </tr>\n",
       "    <tr>\n",
       "      <th>3478</th>\n",
       "      <td>SSRS Developer</td>\n",
       "      <td>Datawiz Corporation · Pakistan (Remote)  \\n6 d...</td>\n",
       "      <td>Contract</td>\n",
       "      <td>https://www.linkedin.com/jobs/view/3688127558</td>\n",
       "      <td>51-200 employees</td>\n",
       "      <td>3688127558</td>\n",
       "      <td>Datawiz Corporation</td>\n",
       "      <td>Pakistan</td>\n",
       "      <td>Remote</td>\n",
       "      <td>NaN</td>\n",
       "      <td>6 days ago</td>\n",
       "    </tr>\n",
       "    <tr>\n",
       "      <th>3774</th>\n",
       "      <td>Business growth strategist</td>\n",
       "      <td>Zulqarnain Writes Copy · Pakistan (Remote)  \\n...</td>\n",
       "      <td>Contract</td>\n",
       "      <td>https://www.linkedin.com/jobs/view/3734240700</td>\n",
       "      <td>1-10 employees</td>\n",
       "      <td>3734240700</td>\n",
       "      <td>Zulqarnain Writes Copy</td>\n",
       "      <td>Pakistan</td>\n",
       "      <td>Remote</td>\n",
       "      <td>51</td>\n",
       "      <td>4 days ago</td>\n",
       "    </tr>\n",
       "    <tr>\n",
       "      <th>3787</th>\n",
       "      <td>Python Developer</td>\n",
       "      <td>Hour Solution · Pakistan (Remote)  \\n5 days ago</td>\n",
       "      <td>Contract</td>\n",
       "      <td>https://www.linkedin.com/jobs/view/3734214535</td>\n",
       "      <td>11-50 employees</td>\n",
       "      <td>3734214535</td>\n",
       "      <td>Hour Solution</td>\n",
       "      <td>Pakistan</td>\n",
       "      <td>Remote</td>\n",
       "      <td>NaN</td>\n",
       "      <td>5 days ago</td>\n",
       "    </tr>\n",
       "    <tr>\n",
       "      <th>3793</th>\n",
       "      <td>Customer Service Representative</td>\n",
       "      <td>HRSG - Innovative Business Solutions · Karāchi...</td>\n",
       "      <td>Contract</td>\n",
       "      <td>https://www.linkedin.com/jobs/view/3734048168</td>\n",
       "      <td>10,001+ employees</td>\n",
       "      <td>3734048168</td>\n",
       "      <td>HRSG - Innovative Business Solutions</td>\n",
       "      <td>Karāchi, Sindh, Pakistan</td>\n",
       "      <td>On-site</td>\n",
       "      <td>41</td>\n",
       "      <td>5 days ago</td>\n",
       "    </tr>\n",
       "    <tr>\n",
       "      <th>3795</th>\n",
       "      <td>UI/UX Designer - Contract Based</td>\n",
       "      <td>Technifirm · Pakistan (Remote)  \\n4 days ago</td>\n",
       "      <td>Contract</td>\n",
       "      <td>https://www.linkedin.com/jobs/view/3734239574</td>\n",
       "      <td>1-10 employees</td>\n",
       "      <td>3734239574</td>\n",
       "      <td>Technifirm</td>\n",
       "      <td>Pakistan</td>\n",
       "      <td>Remote</td>\n",
       "      <td>NaN</td>\n",
       "      <td>4 days ago</td>\n",
       "    </tr>\n",
       "    <tr>\n",
       "      <th>3812</th>\n",
       "      <td>SAP Functional Consultant</td>\n",
       "      <td>Sapience Consulting (Pvt) Ltd · Rawalpindi, Pu...</td>\n",
       "      <td>Contract</td>\n",
       "      <td>https://www.linkedin.com/jobs/view/3734210525</td>\n",
       "      <td>Umair Shahzad-SAP is hiring for this job</td>\n",
       "      <td>3734210525</td>\n",
       "      <td>Sapience Consulting (Pvt) Ltd</td>\n",
       "      <td>Rawalpindi, Punjab, Pakistan</td>\n",
       "      <td>On-site</td>\n",
       "      <td>14</td>\n",
       "      <td>5 days ago</td>\n",
       "    </tr>\n",
       "    <tr>\n",
       "      <th>3816</th>\n",
       "      <td>Foreign Education Consultant</td>\n",
       "      <td>DOTIVATE · Lahore, Punjab, Pakistan (On-site) ...</td>\n",
       "      <td>Contract</td>\n",
       "      <td>https://www.linkedin.com/jobs/view/3734218805</td>\n",
       "      <td>11-50 employees</td>\n",
       "      <td>3734218805</td>\n",
       "      <td>DOTIVATE</td>\n",
       "      <td>Lahore, Punjab, Pakistan</td>\n",
       "      <td>On-site</td>\n",
       "      <td>25</td>\n",
       "      <td>5 days ago</td>\n",
       "    </tr>\n",
       "    <tr>\n",
       "      <th>3830</th>\n",
       "      <td>Power Platform Developer</td>\n",
       "      <td>MicroSysX · Pakistan (Remote)  \\n4 days ago\\n\\...</td>\n",
       "      <td>Contract</td>\n",
       "      <td>https://www.linkedin.com/jobs/view/3734237609</td>\n",
       "      <td>51-200 employees</td>\n",
       "      <td>3734237609</td>\n",
       "      <td>MicroSysX</td>\n",
       "      <td>Pakistan</td>\n",
       "      <td>Remote</td>\n",
       "      <td>71</td>\n",
       "      <td>4 days ago</td>\n",
       "    </tr>\n",
       "    <tr>\n",
       "      <th>3837</th>\n",
       "      <td>Business Feasibility &amp; Projections Expert</td>\n",
       "      <td>BFT - Business Fitter Fintech  · Pakistan (Rem...</td>\n",
       "      <td>Contract</td>\n",
       "      <td>https://www.linkedin.com/jobs/view/3734214292</td>\n",
       "      <td>11-50 employees</td>\n",
       "      <td>3734214292</td>\n",
       "      <td>BFT - Business Fitter Fintech</td>\n",
       "      <td>Pakistan</td>\n",
       "      <td>Remote</td>\n",
       "      <td>NaN</td>\n",
       "      <td>4 days ago</td>\n",
       "    </tr>\n",
       "  </tbody>\n",
       "</table>\n",
       "</div>"
      ],
      "text/plain": [
       "                                              Job Title  \\\n",
       "192                                      Content Writer   \n",
       "282                               Shopify App Developer   \n",
       "428         Senior Software Development Project Manager   \n",
       "429                                 Community Counselor   \n",
       "584                                  SOFTWARE DEVELOPER   \n",
       "590                                  SOFTWARE DEVELOPER   \n",
       "605                                Social Media Manager   \n",
       "694                          Call Center Representative   \n",
       "734                          Field Research Interviewer   \n",
       "839                 Voice User Interface (VUI) Designer   \n",
       "1082                     Business Development Executive   \n",
       "1088                          Elementary School Teacher   \n",
       "1121             Webflow Developer and Graphic Designer   \n",
       "1167                                 Appointment Setter   \n",
       "1291                         Lead Generation Specialist   \n",
       "1458      Solar Installation Technician (Project Based)   \n",
       "1533                                Social Media Agency   \n",
       "1551                           Affiliate content writer   \n",
       "1685                             Educational Consultant   \n",
       "1730                   Senior Web Application Developer   \n",
       "1756                        Digital Marketing Executive   \n",
       "1821                                      Web Developer   \n",
       "1830                  Social Media Marketing Specialist   \n",
       "1935                               Sales Representative   \n",
       "1997                             Freelance Video Editor   \n",
       "2270                                        Salesperson   \n",
       "2333                           Associate Content Writer   \n",
       "2688           Power Market and Financials Sr Associate   \n",
       "2705  Microsoft Dynamics 365 CE/CRM functional consu...   \n",
       "2720                                  Blockchain Expert   \n",
       "2770             Senior Business Development Consultant   \n",
       "2833                          PHP AND LARAVEL DEVELOPER   \n",
       "2970                    Marketing Automation Specialist   \n",
       "2984                                       Gynecologist   \n",
       "2988                               Word Press Developer   \n",
       "3000                             Senior Devops Engineer   \n",
       "3003                                   QC Shift Analyst   \n",
       "3024                            AWS Solutions Architect   \n",
       "3054                            Inside Sales Specialist   \n",
       "3080                                   Mediální nákupčí   \n",
       "3122                            Off-Page SEO Strategist   \n",
       "3298                                  Software Engineer   \n",
       "3478                                     SSRS Developer   \n",
       "3774                         Business growth strategist   \n",
       "3787                                   Python Developer   \n",
       "3793                    Customer Service Representative   \n",
       "3795                    UI/UX Designer - Contract Based   \n",
       "3812                          SAP Functional Consultant   \n",
       "3816                       Foreign Education Consultant   \n",
       "3830                           Power Platform Developer   \n",
       "3837          Business Feasibility & Projections Expert   \n",
       "\n",
       "                                               Job Info  Job Type  \\\n",
       "192   Torque360 · Lahore, Punjab, Pakistan (On-site)...  Contract   \n",
       "282   Shopify1 - A Shopify Agency · Pakistan (Remote...  Contract   \n",
       "428   Staffing Wise · Lahore, Punjab, Pakistan (Remo...  Contract   \n",
       "429   Humraz Male Health Society Nawabshah · Nawabsh...  Contract   \n",
       "584   360 TECHNOLOGIES · Islamabad, Islāmābād, Pakis...  Contract   \n",
       "590   360 TECHNOLOGIES · Islamabad, Islāmābād, Pakis...  Contract   \n",
       "605   US Trips n Tours · Punjab, Pakistan (Remote) R...  Contract   \n",
       "694   Logico info technology  · Lahore, Punjab, Paki...  Contract   \n",
       "734   Static-A (CX-CS Consulting Firm) · Lahore, Pun...  Contract   \n",
       "839   CRES Technology · Pakistan (Remote)  \\n1 week ago  Contract   \n",
       "1082  The Royal Advisor · Karachi Division, Sindh, P...  Contract   \n",
       "1088  Sayed Saeedullah Shah Rashadi Model School Tal...  Contract   \n",
       "1121       Prodcircle · Pakistan (Remote)  \\n1 week ago  Contract   \n",
       "1167      HTSolutions · Pakistan (Remote)  \\n1 week ago  Contract   \n",
       "1291  Humans Meta Tech · Lahore, Punjab, Pakistan (H...  Contract   \n",
       "1458  IPS - Ideal Power Solutions · Karāchi, Sindh, ...  Contract   \n",
       "1533  Al Alwaan Food · Karāchi, Sindh, Pakistan (Hyb...  Contract   \n",
       "1551  Techticks · Bahawalpur, Punjab, Pakistan (On-s...  Contract   \n",
       "1685  One Path Migration · Islamabad, Islāmābād, Pak...  Contract   \n",
       "1730  Linkamber · Pakistan (Remote)  \\n1 week ago\\n\\...  Contract   \n",
       "1756            COSMO · Pakistan (Remote)  \\n1 week ago  Contract   \n",
       "1821   Thokmandee.com · Pakistan (Remote)  \\n1 week ago  Contract   \n",
       "1830  Cross Sky Consultants · Peshawar, Khyber Pakht...  Contract   \n",
       "1935  Kyrios Dev · Karāchi, Sindh, Pakistan (Remote)...  Contract   \n",
       "1997  Axial Consulting Pvt Ltd · Lahore, Punjab, Pak...  Contract   \n",
       "2270        Webmicron · Pakistan (Remote)  \\n1 week ago  Contract   \n",
       "2333  Torque360 · Lahore, Punjab, Pakistan (On-site)...  Contract   \n",
       "2688  Planetive · Islāmābād, Pakistan (On-site)  \\n1...  Contract   \n",
       "2705  Tech Infiniti · Pakistan (Remote)  \\n1 week ag...  Contract   \n",
       "2720  Cathect Sdn Bhd · Islamabad, Islāmābād, Pakist...  Contract   \n",
       "2770  VACON.AI · Lahore Division, Punjab, Pakistan (...  Contract   \n",
       "2833  SAAMH TECH · Multan, Punjab, Pakistan (On-site...  Contract   \n",
       "2970  Meraki Partners · Pakistan (Remote)  \\n1 week ago  Contract   \n",
       "2984  Bach Christian Hospital  · Abbottabad District...  Contract   \n",
       "2988  EPLsoft PVT LTD. · Pakistan (Remote)  \\n6 days...  Contract   \n",
       "3000  Pan Asia Resources · Karāchi, Sindh, Pakistan ...  Contract   \n",
       "3003  Alpha Container Industries · Karāchi, Sindh, P...  Contract   \n",
       "3024  DOTIVATE · Lahore, Punjab, Pakistan (Hybrid)  ...  Contract   \n",
       "3054  BrinySoft Animation Studio Inc · Islāmābād, Pa...  Contract   \n",
       "3080  FusionAd Digital · Pakistan (Remote)  \\n6 days...  Contract   \n",
       "3122  Virtue Xolutions · Karachi Division, Sindh, Pa...  Contract   \n",
       "3298  360 TECHNOLOGIES · Islamabad, Islāmābād, Pakis...  Contract   \n",
       "3478  Datawiz Corporation · Pakistan (Remote)  \\n6 d...  Contract   \n",
       "3774  Zulqarnain Writes Copy · Pakistan (Remote)  \\n...  Contract   \n",
       "3787    Hour Solution · Pakistan (Remote)  \\n5 days ago  Contract   \n",
       "3793  HRSG - Innovative Business Solutions · Karāchi...  Contract   \n",
       "3795       Technifirm · Pakistan (Remote)  \\n4 days ago  Contract   \n",
       "3812  Sapience Consulting (Pvt) Ltd · Rawalpindi, Pu...  Contract   \n",
       "3816  DOTIVATE · Lahore, Punjab, Pakistan (On-site) ...  Contract   \n",
       "3830  MicroSysX · Pakistan (Remote)  \\n4 days ago\\n\\...  Contract   \n",
       "3837  BFT - Business Fitter Fintech  · Pakistan (Rem...  Contract   \n",
       "\n",
       "                                               Job Link  \\\n",
       "192       https://www.linkedin.com/jobs/view/3727018176   \n",
       "282   https://www.linkedin.com/jobs/view/3727041074/...   \n",
       "428   https://www.linkedin.com/jobs/view/3676168478/...   \n",
       "429   https://www.linkedin.com/jobs/view/3727015123/...   \n",
       "584       https://www.linkedin.com/jobs/view/3727513946   \n",
       "590       https://www.linkedin.com/jobs/view/3727510836   \n",
       "605       https://www.linkedin.com/jobs/view/3714484473   \n",
       "694       https://www.linkedin.com/jobs/view/3728711440   \n",
       "734       https://www.linkedin.com/jobs/view/3727085245   \n",
       "839       https://www.linkedin.com/jobs/view/3727537108   \n",
       "1082      https://www.linkedin.com/jobs/view/3729118023   \n",
       "1088      https://www.linkedin.com/jobs/view/3727929128   \n",
       "1121      https://www.linkedin.com/jobs/view/3728229216   \n",
       "1167      https://www.linkedin.com/jobs/view/3728252010   \n",
       "1291      https://www.linkedin.com/jobs/view/3726567599   \n",
       "1458      https://www.linkedin.com/jobs/view/3728515017   \n",
       "1533      https://www.linkedin.com/jobs/view/3729941082   \n",
       "1551      https://www.linkedin.com/jobs/view/3729944965   \n",
       "1685      https://www.linkedin.com/jobs/view/3730122918   \n",
       "1730      https://www.linkedin.com/jobs/view/3730138495   \n",
       "1756      https://www.linkedin.com/jobs/view/3730677619   \n",
       "1821      https://www.linkedin.com/jobs/view/3730360128   \n",
       "1830      https://www.linkedin.com/jobs/view/3730383291   \n",
       "1935      https://www.linkedin.com/jobs/view/3730397066   \n",
       "1997      https://www.linkedin.com/jobs/view/3730352375   \n",
       "2270      https://www.linkedin.com/jobs/view/3731280300   \n",
       "2333      https://www.linkedin.com/jobs/view/3731298011   \n",
       "2688      https://www.linkedin.com/jobs/view/3731607788   \n",
       "2705      https://www.linkedin.com/jobs/view/3700625619   \n",
       "2720      https://www.linkedin.com/jobs/view/3731686008   \n",
       "2770      https://www.linkedin.com/jobs/view/3731642783   \n",
       "2833      https://www.linkedin.com/jobs/view/3732435425   \n",
       "2970      https://www.linkedin.com/jobs/view/3732689535   \n",
       "2984      https://www.linkedin.com/jobs/view/3732824663   \n",
       "2988      https://www.linkedin.com/jobs/view/3732856079   \n",
       "3000      https://www.linkedin.com/jobs/view/3729036426   \n",
       "3003      https://www.linkedin.com/jobs/view/3732690046   \n",
       "3024      https://www.linkedin.com/jobs/view/3732858036   \n",
       "3054      https://www.linkedin.com/jobs/view/3729047773   \n",
       "3080      https://www.linkedin.com/jobs/view/3733673145   \n",
       "3122      https://www.linkedin.com/jobs/view/3723929582   \n",
       "3298      https://www.linkedin.com/jobs/view/3733338358   \n",
       "3478      https://www.linkedin.com/jobs/view/3688127558   \n",
       "3774      https://www.linkedin.com/jobs/view/3734240700   \n",
       "3787      https://www.linkedin.com/jobs/view/3734214535   \n",
       "3793      https://www.linkedin.com/jobs/view/3734048168   \n",
       "3795      https://www.linkedin.com/jobs/view/3734239574   \n",
       "3812      https://www.linkedin.com/jobs/view/3734210525   \n",
       "3816      https://www.linkedin.com/jobs/view/3734218805   \n",
       "3830      https://www.linkedin.com/jobs/view/3734237609   \n",
       "3837      https://www.linkedin.com/jobs/view/3734214292   \n",
       "\n",
       "                                              employees      Job ID  \\\n",
       "192                                     11-50 employees  3727018176   \n",
       "282                                     11-50 employees  3727041074   \n",
       "428                                     11-50 employees  3676168478   \n",
       "429   See how you compare to 15 applicants. Reactiva...  3727015123   \n",
       "584                                    51-200 employees  3727513946   \n",
       "590                                    51-200 employees  3727510836   \n",
       "605                Umar Siddiqui is hiring for this job  3714484473   \n",
       "694                Yasir Khubaib is hiring for this job  3728711440   \n",
       "734              Ali Malik, CCXP is hiring for this job  3727085245   \n",
       "839                                     11-50 employees  3727537108   \n",
       "1082                                   51-200 employees  3729118023   \n",
       "1088                                    11-50 employees  3727929128   \n",
       "1121                                     1-10 employees  3728229216   \n",
       "1167                                     1-10 employees  3728252010   \n",
       "1291                                    11-50 employees  3726567599   \n",
       "1458                                   51-200 employees  3728515017   \n",
       "1533                                    11-50 employees  3729941082   \n",
       "1551                                    11-50 employees  3729944965   \n",
       "1685                                     1-10 employees  3730122918   \n",
       "1730                                    11-50 employees  3730138495   \n",
       "1756                                    11-50 employees  3730677619   \n",
       "1821                                    11-50 employees  3730360128   \n",
       "1830                                     1-10 employees  3730383291   \n",
       "1935                                     1-10 employees  3730397066   \n",
       "1997                                     1-10 employees  3730352375   \n",
       "2270                                    11-50 employees  3731280300   \n",
       "2333                                    11-50 employees  3731298011   \n",
       "2688                                    11-50 employees  3731607788   \n",
       "2705                                     1-10 employees  3700625619   \n",
       "2720                                    11-50 employees  3731686008   \n",
       "2770                                     1-10 employees  3731642783   \n",
       "2833                Ahmad Saleem is hiring for this job  3732435425   \n",
       "2970                                     1-10 employees  3732689535   \n",
       "2984            Ambrose Emmanuel is hiring for this job  3732824663   \n",
       "2988                  Saad Malik is hiring for this job  3732856079   \n",
       "3000                                  201-500 employees  3729036426   \n",
       "3003                                501-1,000 employees  3732690046   \n",
       "3024                                    11-50 employees  3732858036   \n",
       "3054                                    11-50 employees  3729047773   \n",
       "3080                                     1-10 employees  3733673145   \n",
       "3122                                  201-500 employees  3723929582   \n",
       "3298                                   51-200 employees  3733338358   \n",
       "3478                                   51-200 employees  3688127558   \n",
       "3774                                     1-10 employees  3734240700   \n",
       "3787                                    11-50 employees  3734214535   \n",
       "3793                                  10,001+ employees  3734048168   \n",
       "3795                                     1-10 employees  3734239574   \n",
       "3812           Umair Shahzad-SAP is hiring for this job  3734210525   \n",
       "3816                                    11-50 employees  3734218805   \n",
       "3830                                   51-200 employees  3734237609   \n",
       "3837                                    11-50 employees  3734214292   \n",
       "\n",
       "                                                company  \\\n",
       "192                                          Torque360    \n",
       "282                        Shopify1 - A Shopify Agency    \n",
       "428                                      Staffing Wise    \n",
       "429               Humraz Male Health Society Nawabshah    \n",
       "584                                   360 TECHNOLOGIES    \n",
       "590                                   360 TECHNOLOGIES    \n",
       "605                                   US Trips n Tours    \n",
       "694                            Logico info technology     \n",
       "734                   Static-A (CX-CS Consulting Firm)    \n",
       "839                                    CRES Technology    \n",
       "1082                                 The Royal Advisor    \n",
       "1088  Sayed Saeedullah Shah Rashadi Model School Tal...   \n",
       "1121                                        Prodcircle    \n",
       "1167                                       HTSolutions    \n",
       "1291                                  Humans Meta Tech    \n",
       "1458                       IPS - Ideal Power Solutions    \n",
       "1533                                    Al Alwaan Food    \n",
       "1551                                         Techticks    \n",
       "1685                                One Path Migration    \n",
       "1730                                         Linkamber    \n",
       "1756                                             COSMO    \n",
       "1821                                    Thokmandee.com    \n",
       "1830                             Cross Sky Consultants    \n",
       "1935                                        Kyrios Dev    \n",
       "1997                          Axial Consulting Pvt Ltd    \n",
       "2270                                         Webmicron    \n",
       "2333                                         Torque360    \n",
       "2688                                         Planetive    \n",
       "2705                                     Tech Infiniti    \n",
       "2720                                   Cathect Sdn Bhd    \n",
       "2770                                          VACON.AI    \n",
       "2833                                        SAAMH TECH    \n",
       "2970                                   Meraki Partners    \n",
       "2984                          Bach Christian Hospital     \n",
       "2988                                  EPLsoft PVT LTD.    \n",
       "3000                                Pan Asia Resources    \n",
       "3003                        Alpha Container Industries    \n",
       "3024                                          DOTIVATE    \n",
       "3054                    BrinySoft Animation Studio Inc    \n",
       "3080                                  FusionAd Digital    \n",
       "3122                                  Virtue Xolutions    \n",
       "3298                                  360 TECHNOLOGIES    \n",
       "3478                               Datawiz Corporation    \n",
       "3774                            Zulqarnain Writes Copy    \n",
       "3787                                     Hour Solution    \n",
       "3793              HRSG - Innovative Business Solutions    \n",
       "3795                                        Technifirm    \n",
       "3812                     Sapience Consulting (Pvt) Ltd    \n",
       "3816                                          DOTIVATE    \n",
       "3830                                         MicroSysX    \n",
       "3837                    BFT - Business Fitter Fintech     \n",
       "\n",
       "                                               location Remote/Onsite  \\\n",
       "192                            Lahore, Punjab, Pakistan       On-site   \n",
       "282                                            Pakistan        Remote   \n",
       "428                            Lahore, Punjab, Pakistan        Remote   \n",
       "429                          Nawabshah, Sindh, Pakistan       On-site   \n",
       "584                      Islamabad, Islāmābād, Pakistan        Hybrid   \n",
       "590                      Islamabad, Islāmābād, Pakistan        Hybrid   \n",
       "605                                    Punjab, Pakistan        Remote   \n",
       "694                            Lahore, Punjab, Pakistan       On-site   \n",
       "734                            Lahore, Punjab, Pakistan       On-site   \n",
       "839                                            Pakistan        Remote   \n",
       "1082                  Karachi Division, Sindh, Pakistan       On-site   \n",
       "1088              Mirpur Khas District, Sindh, Pakistan       On-site   \n",
       "1121                                           Pakistan        Remote   \n",
       "1167                                           Pakistan        Remote   \n",
       "1291                           Lahore, Punjab, Pakistan        Hybrid   \n",
       "1458                           Karāchi, Sindh, Pakistan       On-site   \n",
       "1533                           Karāchi, Sindh, Pakistan        Hybrid   \n",
       "1551                       Bahawalpur, Punjab, Pakistan       On-site   \n",
       "1685                     Islamabad, Islāmābād, Pakistan       On-site   \n",
       "1730                                           Pakistan        Remote   \n",
       "1756                                           Pakistan        Remote   \n",
       "1821                                           Pakistan        Remote   \n",
       "1830             Peshawar, Khyber Pakhtunkhwa, Pakistan        Hybrid   \n",
       "1935                           Karāchi, Sindh, Pakistan        Remote   \n",
       "1997                           Lahore, Punjab, Pakistan        Hybrid   \n",
       "2270                                           Pakistan        Remote   \n",
       "2333                           Lahore, Punjab, Pakistan       On-site   \n",
       "2688                                Islāmābād, Pakistan       On-site   \n",
       "2705                                           Pakistan        Remote   \n",
       "2720                     Islamabad, Islāmābād, Pakistan        Hybrid   \n",
       "2770                  Lahore Division, Punjab, Pakistan        Hybrid   \n",
       "2833                           Multan, Punjab, Pakistan       On-site   \n",
       "2970                                           Pakistan        Remote   \n",
       "2984  Abbottabad District, Khyber Pakhtunkhwa, Pakistan       On-site   \n",
       "2988                                           Pakistan        Remote   \n",
       "3000                           Karāchi, Sindh, Pakistan       On-site   \n",
       "3003                           Karāchi, Sindh, Pakistan       On-site   \n",
       "3024                           Lahore, Punjab, Pakistan        Hybrid   \n",
       "3054                                Islāmābād, Pakistan        Remote   \n",
       "3080                                           Pakistan        Remote   \n",
       "3122                  Karachi Division, Sindh, Pakistan       On-site   \n",
       "3298                     Islamabad, Islāmābād, Pakistan        Hybrid   \n",
       "3478                                           Pakistan        Remote   \n",
       "3774                                           Pakistan        Remote   \n",
       "3787                                           Pakistan        Remote   \n",
       "3793                           Karāchi, Sindh, Pakistan       On-site   \n",
       "3795                                           Pakistan        Remote   \n",
       "3812                       Rawalpindi, Punjab, Pakistan       On-site   \n",
       "3816                           Lahore, Punjab, Pakistan       On-site   \n",
       "3830                                           Pakistan        Remote   \n",
       "3837                                           Pakistan        Remote   \n",
       "\n",
       "     n_applicant job posting time  \n",
       "192          NaN      2 weeks ago  \n",
       "282           46       1 week ago  \n",
       "428           46      2 weeks ago  \n",
       "429          NaN      2 weeks ago  \n",
       "584          NaN       1 week ago  \n",
       "590          NaN       1 week ago  \n",
       "605          685       1 week ago  \n",
       "694           11       1 week ago  \n",
       "734           10      2 weeks ago  \n",
       "839          NaN       1 week ago  \n",
       "1082          16       1 week ago  \n",
       "1088          14       1 week ago  \n",
       "1121         NaN       1 week ago  \n",
       "1167         NaN       1 week ago  \n",
       "1291         NaN       1 week ago  \n",
       "1458         NaN       1 week ago  \n",
       "1533          51       1 week ago  \n",
       "1551          24       1 week ago  \n",
       "1685          37       1 week ago  \n",
       "1730          48       1 week ago  \n",
       "1756         NaN       1 week ago  \n",
       "1821         NaN       1 week ago  \n",
       "1830         NaN       1 week ago  \n",
       "1935         NaN       1 week ago  \n",
       "1997         162       1 week ago  \n",
       "2270         NaN       1 week ago  \n",
       "2333         NaN       1 week ago  \n",
       "2688         NaN       1 week ago  \n",
       "2705          34       1 week ago  \n",
       "2720          12       1 week ago  \n",
       "2770         NaN       1 week ago  \n",
       "2833          15       1 week ago  \n",
       "2970         NaN       1 week ago  \n",
       "2984           4       6 days ago  \n",
       "2988          27       6 days ago  \n",
       "3000         NaN       6 days ago  \n",
       "3003          26       1 week ago  \n",
       "3024         NaN       6 days ago  \n",
       "3054         NaN       6 days ago  \n",
       "3080         NaN       6 days ago  \n",
       "3122         NaN       1 week ago  \n",
       "3298         NaN       5 days ago  \n",
       "3478         NaN       6 days ago  \n",
       "3774          51       4 days ago  \n",
       "3787         NaN       5 days ago  \n",
       "3793          41       5 days ago  \n",
       "3795         NaN       4 days ago  \n",
       "3812          14       5 days ago  \n",
       "3816          25       5 days ago  \n",
       "3830          71       4 days ago  \n",
       "3837         NaN       4 days ago  "
      ]
     },
     "execution_count": 134,
     "metadata": {},
     "output_type": "execute_result"
    }
   ],
   "source": [
    "df[df['Job Type']=='Contract']"
   ]
  },
  {
   "cell_type": "code",
   "execution_count": 135,
   "id": "c9ba4ef2-34c7-49b4-8b8e-9ef3e97fd4bc",
   "metadata": {},
   "outputs": [
    {
     "data": {
      "text/plain": [
       "51"
      ]
     },
     "execution_count": 135,
     "metadata": {},
     "output_type": "execute_result"
    }
   ],
   "source": [
    "len(df[df['Job Type']=='Contract'])"
   ]
  },
  {
   "cell_type": "code",
   "execution_count": 136,
   "id": "eabc6711-e110-49a5-b392-f170962cebb6",
   "metadata": {},
   "outputs": [
    {
     "data": {
      "text/html": [
       "<div>\n",
       "<style scoped>\n",
       "    .dataframe tbody tr th:only-of-type {\n",
       "        vertical-align: middle;\n",
       "    }\n",
       "\n",
       "    .dataframe tbody tr th {\n",
       "        vertical-align: top;\n",
       "    }\n",
       "\n",
       "    .dataframe thead th {\n",
       "        text-align: right;\n",
       "    }\n",
       "</style>\n",
       "<table border=\"1\" class=\"dataframe\">\n",
       "  <thead>\n",
       "    <tr style=\"text-align: right;\">\n",
       "      <th></th>\n",
       "      <th>Job Title</th>\n",
       "      <th>Job Info</th>\n",
       "      <th>Job Type</th>\n",
       "      <th>Job Link</th>\n",
       "      <th>employees</th>\n",
       "      <th>Job ID</th>\n",
       "      <th>company</th>\n",
       "      <th>location</th>\n",
       "      <th>Remote/Onsite</th>\n",
       "      <th>n_applicant</th>\n",
       "      <th>job posting time</th>\n",
       "    </tr>\n",
       "  </thead>\n",
       "  <tbody>\n",
       "    <tr>\n",
       "      <th>3997</th>\n",
       "      <td>Team Lead Performance Management</td>\n",
       "      <td>Telenor Microfinance Bank Limited · Islamabad,...</td>\n",
       "      <td>On-site\\n\\n \\nFull-time\\n\\n \\nMid-Senior level</td>\n",
       "      <td>https://www.linkedin.com/jobs/view/3734530164</td>\n",
       "      <td>1,001-5,000 employees · Banking</td>\n",
       "      <td>3734530164</td>\n",
       "      <td>Telenor Microfinance Bank Limited</td>\n",
       "      <td>Islamabad, Islāmābād, Pakistan  \\n4 days</td>\n",
       "      <td>Not specified</td>\n",
       "      <td>490</td>\n",
       "      <td>4 days ago</td>\n",
       "    </tr>\n",
       "    <tr>\n",
       "      <th>3998</th>\n",
       "      <td>Solutions Architect</td>\n",
       "      <td>SwipBox · Islāmābād, Pakistan  \\n4 days ago\\n\\...</td>\n",
       "      <td>On-site\\n\\n \\nFull-time\\n\\n \\nMid-Senior level</td>\n",
       "      <td>https://www.linkedin.com/jobs/view/3735939988</td>\n",
       "      <td>51-200 employees · Transportation, Logistics, ...</td>\n",
       "      <td>3735939988</td>\n",
       "      <td>SwipBox</td>\n",
       "      <td>Islāmābād, Pakistan  \\n4 days</td>\n",
       "      <td>Not specified</td>\n",
       "      <td>37</td>\n",
       "      <td>4 days ago</td>\n",
       "    </tr>\n",
       "    <tr>\n",
       "      <th>3999</th>\n",
       "      <td>Customer Support Executive UAE</td>\n",
       "      <td>Abacus Outsourcing · Lahore, Punjab, Pakistan ...</td>\n",
       "      <td>On-site\\n\\n \\nFull-time\\n\\n \\nMid-Senior level</td>\n",
       "      <td>https://www.linkedin.com/jobs/view/3734589987</td>\n",
       "      <td>1,001-5,000 employees · Outsourcing and Offsho...</td>\n",
       "      <td>3734589987</td>\n",
       "      <td>Abacus Outsourcing</td>\n",
       "      <td>Lahore, Punjab, Pakistan Reposted  \\n1 day</td>\n",
       "      <td>Not specified</td>\n",
       "      <td>367</td>\n",
       "      <td>1 day ago</td>\n",
       "    </tr>\n",
       "    <tr>\n",
       "      <th>4000</th>\n",
       "      <td>Cash Management Product Manager (Mashreq Globa...</td>\n",
       "      <td>Mashreq · Karachi Division, Sindh, Pakistan  \\...</td>\n",
       "      <td>On-site\\n\\n \\nFull-time\\n\\n \\nMid-Senior level</td>\n",
       "      <td>https://www.linkedin.com/jobs/view/3734539790</td>\n",
       "      <td>1,001-5,000 employees · Banking</td>\n",
       "      <td>3734539790</td>\n",
       "      <td>Mashreq</td>\n",
       "      <td>Karachi Division, Sindh, Pakistan  \\n4 days</td>\n",
       "      <td>Not specified</td>\n",
       "      <td>237</td>\n",
       "      <td>4 days ago</td>\n",
       "    </tr>\n",
       "    <tr>\n",
       "      <th>4001</th>\n",
       "      <td>Senior Territory Manager</td>\n",
       "      <td>foodpanda · Islamabad, Islāmābād, Pakistan  \\n...</td>\n",
       "      <td>On-site\\n\\n \\nFull-time\\n\\n \\nMid-Senior level</td>\n",
       "      <td>https://www.linkedin.com/jobs/view/3734537706</td>\n",
       "      <td>5,001-10,000 employees · Internet Marketplace ...</td>\n",
       "      <td>3734537706</td>\n",
       "      <td>foodpanda</td>\n",
       "      <td>Islamabad, Islāmābād, Pakistan  \\n4 days</td>\n",
       "      <td>Not specified</td>\n",
       "      <td>272</td>\n",
       "      <td>4 days ago</td>\n",
       "    </tr>\n",
       "    <tr>\n",
       "      <th>...</th>\n",
       "      <td>...</td>\n",
       "      <td>...</td>\n",
       "      <td>...</td>\n",
       "      <td>...</td>\n",
       "      <td>...</td>\n",
       "      <td>...</td>\n",
       "      <td>...</td>\n",
       "      <td>...</td>\n",
       "      <td>...</td>\n",
       "      <td>...</td>\n",
       "      <td>...</td>\n",
       "    </tr>\n",
       "    <tr>\n",
       "      <th>15849</th>\n",
       "      <td>Finance Business Partner</td>\n",
       "      <td>ACCA Careers · Karāchi, Sindh, Pakistan  \\n2 w...</td>\n",
       "      <td>On-site\\n\\n \\nFull-time\\n\\n \\nMid-Senior level</td>\n",
       "      <td>https://www.linkedin.com/jobs/view/3766661554</td>\n",
       "      <td>51-200 employees · Accounting</td>\n",
       "      <td>3766661554</td>\n",
       "      <td>ACCA Careers</td>\n",
       "      <td>Karāchi, Sindh, Pakistan  \\n2 weeks</td>\n",
       "      <td>Not specified</td>\n",
       "      <td>NaN</td>\n",
       "      <td>2 weeks ago</td>\n",
       "    </tr>\n",
       "    <tr>\n",
       "      <th>15854</th>\n",
       "      <td>Commercial Sales Manager - Karachi, Pakistan.</td>\n",
       "      <td>Siemens · Karāchi, Sindh, Pakistan  \\n1 week a...</td>\n",
       "      <td>On-site\\n\\n \\nFull-time\\n\\n \\nMid-Senior level</td>\n",
       "      <td>https://www.linkedin.com/jobs/view/3765134559</td>\n",
       "      <td>10,001+ employees · Automation Machinery Manuf...</td>\n",
       "      <td>3765134559</td>\n",
       "      <td>Siemens</td>\n",
       "      <td>Karāchi, Sindh, Pakistan</td>\n",
       "      <td>Not specified</td>\n",
       "      <td>208</td>\n",
       "      <td>1 week ago</td>\n",
       "    </tr>\n",
       "    <tr>\n",
       "      <th>15862</th>\n",
       "      <td>Software Development Support Engineer (L2 &amp; L3)</td>\n",
       "      <td>the ENTERTAINER · Lahore, Punjab, Pakistan  \\n...</td>\n",
       "      <td>On-site\\n\\n \\nFull-time\\n\\n \\nMid-Senior level</td>\n",
       "      <td>https://www.linkedin.com/jobs/view/3763867444</td>\n",
       "      <td>201-500 employees · Software Development</td>\n",
       "      <td>3763867444</td>\n",
       "      <td>the ENTERTAINER</td>\n",
       "      <td>Lahore, Punjab, Pakistan</td>\n",
       "      <td>Not specified</td>\n",
       "      <td>25</td>\n",
       "      <td>1 week ago</td>\n",
       "    </tr>\n",
       "    <tr>\n",
       "      <th>15870</th>\n",
       "      <td>Manager – Growth Chat &amp; SMS (Digital Marketing)</td>\n",
       "      <td>Bank Alfalah Limited · Karāchi, Sindh, Pakista...</td>\n",
       "      <td>On-site\\n\\n \\nFull-time\\n\\n \\nMid-Senior level</td>\n",
       "      <td>https://www.linkedin.com/jobs/view/3767355025</td>\n",
       "      <td>5,001-10,000 employees · Banking</td>\n",
       "      <td>3767355025</td>\n",
       "      <td>Bank Alfalah Limited</td>\n",
       "      <td>Karāchi, Sindh, Pakistan</td>\n",
       "      <td>Not specified</td>\n",
       "      <td>NaN</td>\n",
       "      <td>1 week ago</td>\n",
       "    </tr>\n",
       "    <tr>\n",
       "      <th>15873</th>\n",
       "      <td>FUNCTIONAL CONSULTANT ORACLE FUSION - HCM</td>\n",
       "      <td>Level 3 BOS · Karachi Division, Sindh, Pakista...</td>\n",
       "      <td>On-site\\n\\n \\nFull-time\\n\\n \\nMid-Senior level</td>\n",
       "      <td>https://www.linkedin.com/jobs/view/3771943212</td>\n",
       "      <td>201-500 employees · Outsourcing and Offshoring...</td>\n",
       "      <td>3771943212</td>\n",
       "      <td>Level 3 BOS</td>\n",
       "      <td>Karachi Division, Sindh, Pakistan</td>\n",
       "      <td>Not specified</td>\n",
       "      <td>19</td>\n",
       "      <td>1 week ago</td>\n",
       "    </tr>\n",
       "  </tbody>\n",
       "</table>\n",
       "<p>1023 rows × 11 columns</p>\n",
       "</div>"
      ],
      "text/plain": [
       "                                               Job Title  \\\n",
       "3997                    Team Lead Performance Management   \n",
       "3998                                 Solutions Architect   \n",
       "3999                      Customer Support Executive UAE   \n",
       "4000   Cash Management Product Manager (Mashreq Globa...   \n",
       "4001                            Senior Territory Manager   \n",
       "...                                                  ...   \n",
       "15849                           Finance Business Partner   \n",
       "15854      Commercial Sales Manager - Karachi, Pakistan.   \n",
       "15862    Software Development Support Engineer (L2 & L3)   \n",
       "15870    Manager – Growth Chat & SMS (Digital Marketing)   \n",
       "15873          FUNCTIONAL CONSULTANT ORACLE FUSION - HCM   \n",
       "\n",
       "                                                Job Info  \\\n",
       "3997   Telenor Microfinance Bank Limited · Islamabad,...   \n",
       "3998   SwipBox · Islāmābād, Pakistan  \\n4 days ago\\n\\...   \n",
       "3999   Abacus Outsourcing · Lahore, Punjab, Pakistan ...   \n",
       "4000   Mashreq · Karachi Division, Sindh, Pakistan  \\...   \n",
       "4001   foodpanda · Islamabad, Islāmābād, Pakistan  \\n...   \n",
       "...                                                  ...   \n",
       "15849  ACCA Careers · Karāchi, Sindh, Pakistan  \\n2 w...   \n",
       "15854  Siemens · Karāchi, Sindh, Pakistan  \\n1 week a...   \n",
       "15862  the ENTERTAINER · Lahore, Punjab, Pakistan  \\n...   \n",
       "15870  Bank Alfalah Limited · Karāchi, Sindh, Pakista...   \n",
       "15873  Level 3 BOS · Karachi Division, Sindh, Pakista...   \n",
       "\n",
       "                                             Job Type  \\\n",
       "3997   On-site\\n\\n \\nFull-time\\n\\n \\nMid-Senior level   \n",
       "3998   On-site\\n\\n \\nFull-time\\n\\n \\nMid-Senior level   \n",
       "3999   On-site\\n\\n \\nFull-time\\n\\n \\nMid-Senior level   \n",
       "4000   On-site\\n\\n \\nFull-time\\n\\n \\nMid-Senior level   \n",
       "4001   On-site\\n\\n \\nFull-time\\n\\n \\nMid-Senior level   \n",
       "...                                               ...   \n",
       "15849  On-site\\n\\n \\nFull-time\\n\\n \\nMid-Senior level   \n",
       "15854  On-site\\n\\n \\nFull-time\\n\\n \\nMid-Senior level   \n",
       "15862  On-site\\n\\n \\nFull-time\\n\\n \\nMid-Senior level   \n",
       "15870  On-site\\n\\n \\nFull-time\\n\\n \\nMid-Senior level   \n",
       "15873  On-site\\n\\n \\nFull-time\\n\\n \\nMid-Senior level   \n",
       "\n",
       "                                            Job Link  \\\n",
       "3997   https://www.linkedin.com/jobs/view/3734530164   \n",
       "3998   https://www.linkedin.com/jobs/view/3735939988   \n",
       "3999   https://www.linkedin.com/jobs/view/3734589987   \n",
       "4000   https://www.linkedin.com/jobs/view/3734539790   \n",
       "4001   https://www.linkedin.com/jobs/view/3734537706   \n",
       "...                                              ...   \n",
       "15849  https://www.linkedin.com/jobs/view/3766661554   \n",
       "15854  https://www.linkedin.com/jobs/view/3765134559   \n",
       "15862  https://www.linkedin.com/jobs/view/3763867444   \n",
       "15870  https://www.linkedin.com/jobs/view/3767355025   \n",
       "15873  https://www.linkedin.com/jobs/view/3771943212   \n",
       "\n",
       "                                               employees      Job ID  \\\n",
       "3997                     1,001-5,000 employees · Banking  3734530164   \n",
       "3998   51-200 employees · Transportation, Logistics, ...  3735939988   \n",
       "3999   1,001-5,000 employees · Outsourcing and Offsho...  3734589987   \n",
       "4000                     1,001-5,000 employees · Banking  3734539790   \n",
       "4001   5,001-10,000 employees · Internet Marketplace ...  3734537706   \n",
       "...                                                  ...         ...   \n",
       "15849                      51-200 employees · Accounting  3766661554   \n",
       "15854  10,001+ employees · Automation Machinery Manuf...  3765134559   \n",
       "15862           201-500 employees · Software Development  3763867444   \n",
       "15870                   5,001-10,000 employees · Banking  3767355025   \n",
       "15873  201-500 employees · Outsourcing and Offshoring...  3771943212   \n",
       "\n",
       "                                  company  \\\n",
       "3997   Telenor Microfinance Bank Limited    \n",
       "3998                             SwipBox    \n",
       "3999                  Abacus Outsourcing    \n",
       "4000                             Mashreq    \n",
       "4001                           foodpanda    \n",
       "...                                   ...   \n",
       "15849                       ACCA Careers    \n",
       "15854                            Siemens    \n",
       "15862                    the ENTERTAINER    \n",
       "15870               Bank Alfalah Limited    \n",
       "15873                        Level 3 BOS    \n",
       "\n",
       "                                          location  Remote/Onsite n_applicant  \\\n",
       "3997      Islamabad, Islāmābād, Pakistan  \\n4 days  Not specified         490   \n",
       "3998                 Islāmābād, Pakistan  \\n4 days  Not specified          37   \n",
       "3999    Lahore, Punjab, Pakistan Reposted  \\n1 day  Not specified         367   \n",
       "4000   Karachi Division, Sindh, Pakistan  \\n4 days  Not specified         237   \n",
       "4001      Islamabad, Islāmābād, Pakistan  \\n4 days  Not specified         272   \n",
       "...                                            ...            ...         ...   \n",
       "15849          Karāchi, Sindh, Pakistan  \\n2 weeks  Not specified         NaN   \n",
       "15854                     Karāchi, Sindh, Pakistan  Not specified         208   \n",
       "15862                     Lahore, Punjab, Pakistan  Not specified          25   \n",
       "15870                     Karāchi, Sindh, Pakistan  Not specified         NaN   \n",
       "15873            Karachi Division, Sindh, Pakistan  Not specified          19   \n",
       "\n",
       "      job posting time  \n",
       "3997        4 days ago  \n",
       "3998        4 days ago  \n",
       "3999         1 day ago  \n",
       "4000        4 days ago  \n",
       "4001        4 days ago  \n",
       "...                ...  \n",
       "15849      2 weeks ago  \n",
       "15854       1 week ago  \n",
       "15862       1 week ago  \n",
       "15870       1 week ago  \n",
       "15873       1 week ago  \n",
       "\n",
       "[1023 rows x 11 columns]"
      ]
     },
     "execution_count": 136,
     "metadata": {},
     "output_type": "execute_result"
    }
   ],
   "source": [
    "df[df['Job Type']=='On-site\\n\\n \\nFull-time\\n\\n \\nMid-Senior level']"
   ]
  },
  {
   "cell_type": "code",
   "execution_count": 137,
   "id": "d47151bf-eeae-4365-ab24-5d2acd5fde59",
   "metadata": {},
   "outputs": [
    {
     "data": {
      "text/plain": [
       "1023"
      ]
     },
     "execution_count": 137,
     "metadata": {},
     "output_type": "execute_result"
    }
   ],
   "source": [
    "len(df[df['Job Type']=='On-site\\n\\n \\nFull-time\\n\\n \\nMid-Senior level'])"
   ]
  },
  {
   "cell_type": "code",
   "execution_count": 138,
   "id": "ca23461b-6e98-47eb-b9d6-2e5fe264e30c",
   "metadata": {},
   "outputs": [
    {
     "data": {
      "text/html": [
       "<div>\n",
       "<style scoped>\n",
       "    .dataframe tbody tr th:only-of-type {\n",
       "        vertical-align: middle;\n",
       "    }\n",
       "\n",
       "    .dataframe tbody tr th {\n",
       "        vertical-align: top;\n",
       "    }\n",
       "\n",
       "    .dataframe thead th {\n",
       "        text-align: right;\n",
       "    }\n",
       "</style>\n",
       "<table border=\"1\" class=\"dataframe\">\n",
       "  <thead>\n",
       "    <tr style=\"text-align: right;\">\n",
       "      <th></th>\n",
       "      <th>Job Title</th>\n",
       "      <th>Job Info</th>\n",
       "      <th>Job Type</th>\n",
       "      <th>Job Link</th>\n",
       "      <th>employees</th>\n",
       "      <th>Job ID</th>\n",
       "      <th>company</th>\n",
       "      <th>location</th>\n",
       "      <th>Remote/Onsite</th>\n",
       "      <th>n_applicant</th>\n",
       "      <th>job posting time</th>\n",
       "    </tr>\n",
       "  </thead>\n",
       "  <tbody>\n",
       "    <tr>\n",
       "      <th>515</th>\n",
       "      <td>Video Editor</td>\n",
       "      <td>Digital A · Lahore, Punjab, Pakistan (Hybrid) ...</td>\n",
       "      <td>Mr Ahsan is hiring for this job</td>\n",
       "      <td>https://www.linkedin.com/jobs/view/3723343449/...</td>\n",
       "      <td>See how you compare to 51 applicants. Reactiva...</td>\n",
       "      <td>3723343449</td>\n",
       "      <td>Digital A</td>\n",
       "      <td>Lahore, Punjab, Pakistan</td>\n",
       "      <td>Hybrid</td>\n",
       "      <td>51</td>\n",
       "      <td>2 weeks ago</td>\n",
       "    </tr>\n",
       "  </tbody>\n",
       "</table>\n",
       "</div>"
      ],
      "text/plain": [
       "        Job Title                                           Job Info  \\\n",
       "515  Video Editor  Digital A · Lahore, Punjab, Pakistan (Hybrid) ...   \n",
       "\n",
       "                            Job Type  \\\n",
       "515  Mr Ahsan is hiring for this job   \n",
       "\n",
       "                                              Job Link  \\\n",
       "515  https://www.linkedin.com/jobs/view/3723343449/...   \n",
       "\n",
       "                                             employees      Job ID  \\\n",
       "515  See how you compare to 51 applicants. Reactiva...  3723343449   \n",
       "\n",
       "        company                  location Remote/Onsite n_applicant  \\\n",
       "515  Digital A   Lahore, Punjab, Pakistan        Hybrid          51   \n",
       "\n",
       "    job posting time  \n",
       "515      2 weeks ago  "
      ]
     },
     "execution_count": 138,
     "metadata": {},
     "output_type": "execute_result"
    }
   ],
   "source": [
    "df[df['Job Type']=='Mr Ahsan is hiring for this job']"
   ]
  },
  {
   "cell_type": "code",
   "execution_count": 139,
   "id": "7893e554-98aa-4e2c-93a1-7fb452712019",
   "metadata": {},
   "outputs": [
    {
     "data": {
      "text/html": [
       "<div>\n",
       "<style scoped>\n",
       "    .dataframe tbody tr th:only-of-type {\n",
       "        vertical-align: middle;\n",
       "    }\n",
       "\n",
       "    .dataframe tbody tr th {\n",
       "        vertical-align: top;\n",
       "    }\n",
       "\n",
       "    .dataframe thead th {\n",
       "        text-align: right;\n",
       "    }\n",
       "</style>\n",
       "<table border=\"1\" class=\"dataframe\">\n",
       "  <thead>\n",
       "    <tr style=\"text-align: right;\">\n",
       "      <th></th>\n",
       "      <th>Job Title</th>\n",
       "      <th>Job Info</th>\n",
       "      <th>Job Type</th>\n",
       "      <th>Job Link</th>\n",
       "      <th>employees</th>\n",
       "      <th>Job ID</th>\n",
       "      <th>company</th>\n",
       "      <th>location</th>\n",
       "      <th>Remote/Onsite</th>\n",
       "      <th>n_applicant</th>\n",
       "      <th>job posting time</th>\n",
       "    </tr>\n",
       "  </thead>\n",
       "  <tbody>\n",
       "    <tr>\n",
       "      <th>1876</th>\n",
       "      <td>Operations &amp; Logistics Project Manager</td>\n",
       "      <td>Ridge · Pakistan (Remote)  \\n1 week ago\\n\\n · ...</td>\n",
       "      <td>$12,000/yr - $15,000/yr · Full-time · Mid-Seni...</td>\n",
       "      <td>https://www.linkedin.com/jobs/view/3730353203</td>\n",
       "      <td>51-200 employees · Retail Luxury Goods and Jew...</td>\n",
       "      <td>3730353203</td>\n",
       "      <td>Ridge</td>\n",
       "      <td>Pakistan</td>\n",
       "      <td>Remote</td>\n",
       "      <td>898</td>\n",
       "      <td>1 week ago</td>\n",
       "    </tr>\n",
       "  </tbody>\n",
       "</table>\n",
       "</div>"
      ],
      "text/plain": [
       "                                   Job Title  \\\n",
       "1876  Operations & Logistics Project Manager   \n",
       "\n",
       "                                               Job Info  \\\n",
       "1876  Ridge · Pakistan (Remote)  \\n1 week ago\\n\\n · ...   \n",
       "\n",
       "                                               Job Type  \\\n",
       "1876  $12,000/yr - $15,000/yr · Full-time · Mid-Seni...   \n",
       "\n",
       "                                           Job Link  \\\n",
       "1876  https://www.linkedin.com/jobs/view/3730353203   \n",
       "\n",
       "                                              employees      Job ID company  \\\n",
       "1876  51-200 employees · Retail Luxury Goods and Jew...  3730353203  Ridge    \n",
       "\n",
       "      location Remote/Onsite n_applicant job posting time  \n",
       "1876  Pakistan        Remote         898       1 week ago  "
      ]
     },
     "execution_count": 139,
     "metadata": {},
     "output_type": "execute_result"
    }
   ],
   "source": [
    "df[df['Job Type']=='$12,000/yr - $15,000/yr · Full-time · Mid-Senior level']"
   ]
  },
  {
   "cell_type": "code",
   "execution_count": null,
   "id": "80f5a0a8-e75e-49b7-a5a2-843722c2a4a4",
   "metadata": {},
   "outputs": [],
   "source": []
  },
  {
   "cell_type": "markdown",
   "id": "82558d4e-3c8b-441f-b848-6ec61610491f",
   "metadata": {},
   "source": [
    "### counting number of elements in job type column"
   ]
  },
  {
   "cell_type": "code",
   "execution_count": 140,
   "id": "da9da0f1-e79b-4bf5-84e3-d19eb3e51c1c",
   "metadata": {},
   "outputs": [
    {
     "data": {
      "text/plain": [
       "['Full-time', '·', 'Entry', 'level']"
      ]
     },
     "execution_count": 140,
     "metadata": {},
     "output_type": "execute_result"
    }
   ],
   "source": [
    "'Full-time · Entry level'.split()"
   ]
  },
  {
   "cell_type": "code",
   "execution_count": 141,
   "id": "e94dcf4a-bacd-4ea2-a132-1f86624196f1",
   "metadata": {},
   "outputs": [
    {
     "data": {
      "text/plain": [
       "['Full-time', 'Entry', 'level']"
      ]
     },
     "execution_count": 141,
     "metadata": {},
     "output_type": "execute_result"
    }
   ],
   "source": [
    "a='Full-time · Entry level'.split()\n",
    "a.remove('·')\n",
    "a"
   ]
  },
  {
   "cell_type": "code",
   "execution_count": 142,
   "id": "47bc0300-a05f-4b9a-872e-ccc38b6da2c1",
   "metadata": {},
   "outputs": [
    {
     "data": {
      "text/plain": [
       "2"
      ]
     },
     "execution_count": 142,
     "metadata": {},
     "output_type": "execute_result"
    }
   ],
   "source": [
    "# a='Full-time · Entry level'.split('·')\n",
    "# len(a)\n",
    "len('Full-time · Entry level'.split('·'))"
   ]
  },
  {
   "cell_type": "code",
   "execution_count": 143,
   "id": "bbc19f57-6cb9-40a8-a9f5-9270be616728",
   "metadata": {},
   "outputs": [
    {
     "data": {
      "text/plain": [
       "['On-site', 'Full-time', 'Associate']"
      ]
     },
     "execution_count": 143,
     "metadata": {},
     "output_type": "execute_result"
    }
   ],
   "source": [
    "'On-site\\n\\n \\nFull-time\\n\\n \\nAssociate'.split()"
   ]
  },
  {
   "cell_type": "code",
   "execution_count": 144,
   "id": "7c60e741-d695-4f98-a5b0-8ecb12f017fc",
   "metadata": {},
   "outputs": [
    {
     "data": {
      "text/plain": [
       "['On-site', 'Full-time', 'Associate']"
      ]
     },
     "execution_count": 144,
     "metadata": {},
     "output_type": "execute_result"
    }
   ],
   "source": [
    "'On-site\\n\\n \\nFull-time\\n\\n \\nAssociate'.split('\\n\\n \\n')"
   ]
  },
  {
   "cell_type": "code",
   "execution_count": 145,
   "id": "3117ea77-72e3-409e-b190-d6bafe5eae6e",
   "metadata": {},
   "outputs": [
    {
     "data": {
      "text/plain": [
       "['Part-time', '·', 'Mid-Senior', 'level']"
      ]
     },
     "execution_count": 145,
     "metadata": {},
     "output_type": "execute_result"
    }
   ],
   "source": [
    "'Part-time · Mid-Senior level'.split()"
   ]
  },
  {
   "cell_type": "code",
   "execution_count": 146,
   "id": "ab0ca92e-dce0-4072-a7ff-982435f2bca2",
   "metadata": {},
   "outputs": [
    {
     "data": {
      "text/plain": [
       "True"
      ]
     },
     "execution_count": 146,
     "metadata": {},
     "output_type": "execute_result"
    }
   ],
   "source": [
    "'·' in 'Part-time · Mid-Senior level'"
   ]
  },
  {
   "cell_type": "code",
   "execution_count": 147,
   "id": "e937419f-4191-4ac3-a5b4-b87717355400",
   "metadata": {},
   "outputs": [
    {
     "data": {
      "text/plain": [
       "True"
      ]
     },
     "execution_count": 147,
     "metadata": {},
     "output_type": "execute_result"
    }
   ],
   "source": [
    "'\\n\\n \\n' in 'On-site\\n\\n \\nFull-time\\n\\n \\nAssociate'"
   ]
  },
  {
   "cell_type": "code",
   "execution_count": 148,
   "id": "d9a89c74-48f8-40d9-9e0a-8042fc8a8eee",
   "metadata": {},
   "outputs": [],
   "source": [
    "Job_Type_nElements=[]\n",
    "for cell in df['Job Type']:\n",
    "    if '·' in cell:\n",
    "        nElements=len(cell.split('·'))\n",
    "        Job_Type_nElements.append(nElements)\n",
    "    elif '\\n\\n \\n' in cell:\n",
    "        nElements=len(cell.split('\\n\\n \\n'))\n",
    "        Job_Type_nElements.append(nElements)\n",
    "    else:\n",
    "        nElements=len(cell.split())\n",
    "        Job_Type_nElements.append(nElements)        "
   ]
  },
  {
   "cell_type": "code",
   "execution_count": 149,
   "id": "2b6705d5-e031-47b3-911b-05f209755f4a",
   "metadata": {},
   "outputs": [
    {
     "data": {
      "text/plain": [
       "[1, 1, 1, 1, 1, 1, 1, 2, 1, 2]"
      ]
     },
     "execution_count": 149,
     "metadata": {},
     "output_type": "execute_result"
    }
   ],
   "source": [
    "Job_Type_nElements[:10]"
   ]
  },
  {
   "cell_type": "code",
   "execution_count": 150,
   "id": "89b9ccdc-4cdb-4ec2-b8c2-d14c44101f5d",
   "metadata": {},
   "outputs": [
    {
     "data": {
      "text/plain": [
       "11737"
      ]
     },
     "execution_count": 150,
     "metadata": {},
     "output_type": "execute_result"
    }
   ],
   "source": [
    "len(df['Job Type'])"
   ]
  },
  {
   "cell_type": "code",
   "execution_count": 151,
   "id": "dd0d17b2-cdb4-44e9-b9ec-b4ac7fb4ac9e",
   "metadata": {},
   "outputs": [
    {
     "data": {
      "text/plain": [
       "11737"
      ]
     },
     "execution_count": 151,
     "metadata": {},
     "output_type": "execute_result"
    }
   ],
   "source": [
    "len(Job_Type_nElements)"
   ]
  },
  {
   "cell_type": "code",
   "execution_count": 152,
   "id": "3bb8f675-ab01-451a-bca0-e8d68885f8b8",
   "metadata": {},
   "outputs": [
    {
     "data": {
      "text/plain": [
       "{1, 2, 3, 4, 7}"
      ]
     },
     "execution_count": 152,
     "metadata": {},
     "output_type": "execute_result"
    }
   ],
   "source": [
    "set(Job_Type_nElements) "
   ]
  },
  {
   "cell_type": "code",
   "execution_count": 153,
   "id": "96523f6b-19bd-41e7-9d41-cd372d31d7b3",
   "metadata": {},
   "outputs": [
    {
     "data": {
      "text/plain": [
       "2395"
      ]
     },
     "execution_count": 153,
     "metadata": {},
     "output_type": "execute_result"
    }
   ],
   "source": [
    "Job_Type_nElements.count(1)"
   ]
  },
  {
   "cell_type": "code",
   "execution_count": 154,
   "id": "d32c98fc-886c-4403-84f3-92592753134e",
   "metadata": {},
   "outputs": [
    {
     "data": {
      "text/plain": [
       "5693"
      ]
     },
     "execution_count": 154,
     "metadata": {},
     "output_type": "execute_result"
    }
   ],
   "source": [
    "Job_Type_nElements.count(2)"
   ]
  },
  {
   "cell_type": "code",
   "execution_count": 155,
   "id": "8298a4d2-0ac2-466f-acf3-e0901dec608f",
   "metadata": {},
   "outputs": [
    {
     "data": {
      "text/plain": [
       "3633"
      ]
     },
     "execution_count": 155,
     "metadata": {},
     "output_type": "execute_result"
    }
   ],
   "source": [
    "Job_Type_nElements.count(3)"
   ]
  },
  {
   "cell_type": "code",
   "execution_count": 156,
   "id": "2b55b7b3-0ce8-4ff2-813d-349867a83c39",
   "metadata": {},
   "outputs": [
    {
     "data": {
      "text/plain": [
       "3"
      ]
     },
     "execution_count": 156,
     "metadata": {},
     "output_type": "execute_result"
    }
   ],
   "source": [
    "Job_Type_nElements.count(7)"
   ]
  },
  {
   "cell_type": "code",
   "execution_count": 157,
   "id": "fd73b617-3cc4-4f73-b5b2-6a5f2961e0cf",
   "metadata": {},
   "outputs": [
    {
     "name": "stderr",
     "output_type": "stream",
     "text": [
      "C:\\Users\\BILAL.COM\\AppData\\Local\\Temp\\ipykernel_6020\\2089687400.py:1: SettingWithCopyWarning: \n",
      "A value is trying to be set on a copy of a slice from a DataFrame.\n",
      "Try using .loc[row_indexer,col_indexer] = value instead\n",
      "\n",
      "See the caveats in the documentation: https://pandas.pydata.org/pandas-docs/stable/user_guide/indexing.html#returning-a-view-versus-a-copy\n",
      "  df['Job Type nElements']=Job_Type_nElements\n"
     ]
    }
   ],
   "source": [
    "df['Job Type nElements']=Job_Type_nElements"
   ]
  },
  {
   "cell_type": "code",
   "execution_count": 158,
   "id": "7761af7f-adf4-43f4-938c-186374e655dd",
   "metadata": {},
   "outputs": [
    {
     "data": {
      "text/plain": [
       "Job Type nElements\n",
       "2    5693\n",
       "3    3633\n",
       "1    2395\n",
       "4      13\n",
       "7       3\n",
       "Name: count, dtype: int64"
      ]
     },
     "execution_count": 158,
     "metadata": {},
     "output_type": "execute_result"
    }
   ],
   "source": [
    "df['Job Type nElements'].value_counts()"
   ]
  },
  {
   "cell_type": "code",
   "execution_count": 159,
   "id": "eed0c372-f5a9-4aeb-9969-3a16e482f1e4",
   "metadata": {},
   "outputs": [
    {
     "data": {
      "text/html": [
       "<div>\n",
       "<style scoped>\n",
       "    .dataframe tbody tr th:only-of-type {\n",
       "        vertical-align: middle;\n",
       "    }\n",
       "\n",
       "    .dataframe tbody tr th {\n",
       "        vertical-align: top;\n",
       "    }\n",
       "\n",
       "    .dataframe thead th {\n",
       "        text-align: right;\n",
       "    }\n",
       "</style>\n",
       "<table border=\"1\" class=\"dataframe\">\n",
       "  <thead>\n",
       "    <tr style=\"text-align: right;\">\n",
       "      <th></th>\n",
       "      <th>Job Title</th>\n",
       "      <th>Job Info</th>\n",
       "      <th>Job Type</th>\n",
       "      <th>Job Link</th>\n",
       "      <th>employees</th>\n",
       "      <th>Job ID</th>\n",
       "      <th>company</th>\n",
       "      <th>location</th>\n",
       "      <th>Remote/Onsite</th>\n",
       "      <th>n_applicant</th>\n",
       "      <th>job posting time</th>\n",
       "      <th>Job Type nElements</th>\n",
       "    </tr>\n",
       "  </thead>\n",
       "  <tbody>\n",
       "    <tr>\n",
       "      <th>515</th>\n",
       "      <td>Video Editor</td>\n",
       "      <td>Digital A · Lahore, Punjab, Pakistan (Hybrid) ...</td>\n",
       "      <td>Mr Ahsan is hiring for this job</td>\n",
       "      <td>https://www.linkedin.com/jobs/view/3723343449/...</td>\n",
       "      <td>See how you compare to 51 applicants. Reactiva...</td>\n",
       "      <td>3723343449</td>\n",
       "      <td>Digital A</td>\n",
       "      <td>Lahore, Punjab, Pakistan</td>\n",
       "      <td>Hybrid</td>\n",
       "      <td>51</td>\n",
       "      <td>2 weeks ago</td>\n",
       "      <td>7</td>\n",
       "    </tr>\n",
       "    <tr>\n",
       "      <th>1335</th>\n",
       "      <td>Sales Specialist(Outsourcing agent)</td>\n",
       "      <td>Shin-Ryu Co.,Ltd. · Karachi Division, Sindh, P...</td>\n",
       "      <td>Sean Sato is hiring for this job</td>\n",
       "      <td>https://www.linkedin.com/jobs/view/3726585044</td>\n",
       "      <td>See how you compare to 18 applicants. Reactiva...</td>\n",
       "      <td>3726585044</td>\n",
       "      <td>Shin-Ryu Co.,Ltd.</td>\n",
       "      <td>Karachi Division, Sindh, Pakistan</td>\n",
       "      <td>Remote</td>\n",
       "      <td>18</td>\n",
       "      <td>1 week ago</td>\n",
       "      <td>7</td>\n",
       "    </tr>\n",
       "    <tr>\n",
       "      <th>2483</th>\n",
       "      <td>Nutritionist, Child specialist</td>\n",
       "      <td>Dentistry Aesthetic clinics · Karāchi, Sindh, ...</td>\n",
       "      <td>dr.ry. L. is hiring for this job</td>\n",
       "      <td>https://www.linkedin.com/jobs/view/3731260106</td>\n",
       "      <td>See how you compare to 18 applicants. Reactiva...</td>\n",
       "      <td>3731260106</td>\n",
       "      <td>Dentistry Aesthetic clinics</td>\n",
       "      <td>Karāchi, Sindh, Pakistan</td>\n",
       "      <td>On-site</td>\n",
       "      <td>18</td>\n",
       "      <td>1 week ago</td>\n",
       "      <td>7</td>\n",
       "    </tr>\n",
       "  </tbody>\n",
       "</table>\n",
       "</div>"
      ],
      "text/plain": [
       "                                Job Title  \\\n",
       "515                          Video Editor   \n",
       "1335  Sales Specialist(Outsourcing agent)   \n",
       "2483       Nutritionist, Child specialist   \n",
       "\n",
       "                                               Job Info  \\\n",
       "515   Digital A · Lahore, Punjab, Pakistan (Hybrid) ...   \n",
       "1335  Shin-Ryu Co.,Ltd. · Karachi Division, Sindh, P...   \n",
       "2483  Dentistry Aesthetic clinics · Karāchi, Sindh, ...   \n",
       "\n",
       "                              Job Type  \\\n",
       "515    Mr Ahsan is hiring for this job   \n",
       "1335  Sean Sato is hiring for this job   \n",
       "2483  dr.ry. L. is hiring for this job   \n",
       "\n",
       "                                               Job Link  \\\n",
       "515   https://www.linkedin.com/jobs/view/3723343449/...   \n",
       "1335      https://www.linkedin.com/jobs/view/3726585044   \n",
       "2483      https://www.linkedin.com/jobs/view/3731260106   \n",
       "\n",
       "                                              employees      Job ID  \\\n",
       "515   See how you compare to 51 applicants. Reactiva...  3723343449   \n",
       "1335  See how you compare to 18 applicants. Reactiva...  3726585044   \n",
       "2483  See how you compare to 18 applicants. Reactiva...  3731260106   \n",
       "\n",
       "                           company                           location  \\\n",
       "515                     Digital A            Lahore, Punjab, Pakistan   \n",
       "1335            Shin-Ryu Co.,Ltd.   Karachi Division, Sindh, Pakistan   \n",
       "2483  Dentistry Aesthetic clinics            Karāchi, Sindh, Pakistan   \n",
       "\n",
       "     Remote/Onsite n_applicant job posting time  Job Type nElements  \n",
       "515         Hybrid          51      2 weeks ago                   7  \n",
       "1335        Remote          18       1 week ago                   7  \n",
       "2483       On-site          18       1 week ago                   7  "
      ]
     },
     "execution_count": 159,
     "metadata": {},
     "output_type": "execute_result"
    }
   ],
   "source": [
    "df[df['Job Type nElements']==7]"
   ]
  },
  {
   "cell_type": "code",
   "execution_count": 160,
   "id": "e62ace52-a0cd-4c70-b0af-d887e2eeb83d",
   "metadata": {},
   "outputs": [
    {
     "data": {
      "text/plain": [
       "array(['Full-time', 'Full-time · Mid-Senior level',\n",
       "       'Internship · Internship', 'Full-time · Associate', 'Internship',\n",
       "       'Full-time · Entry level', 'Part-time', 'Full-time · Internship',\n",
       "       'Contract · Mid-Senior level', 'Contract', 'Contract · Associate',\n",
       "       '$150/month - $300/month · Full-time', 'Full-time · Director',\n",
       "       'Part-time · Associate', 'Mr Ahsan is hiring for this job',\n",
       "       'Part-time · Executive', 'Contract · Executive',\n",
       "       'Part-time · Mid-Senior level', 'Contract · Entry level',\n",
       "       'Temporary · Mid-Senior level', 'Executive',\n",
       "       'Full-time · Executive', 'Sean Sato is hiring for this job',\n",
       "       'Part-time · Internship', 'Internship · Mid-Senior level',\n",
       "       '$12,000/yr - $15,000/yr · Full-time · Mid-Senior level',\n",
       "       '$200,000/yr · Full-time', 'Part-time · Entry level',\n",
       "       'dr.ry. L. is hiring for this job',\n",
       "       '10,001+ employees · Tobacco Manufacturing', 'Volunteer',\n",
       "       'On-site\\n\\n \\nFull-time\\n\\n \\nMid-Senior level',\n",
       "       'Hybrid\\n\\n \\nFull-time\\n\\n \\nMid-Senior level',\n",
       "       'Remote\\n\\n \\nFull-time\\n\\n \\nMid-Senior level',\n",
       "       'On-site\\n\\n \\nFull-time\\n\\n \\nAssociate',\n",
       "       'On-site\\n\\n \\nFull-time',\n",
       "       'Hybrid\\n\\n \\nFull-time\\n\\n \\nEntry level',\n",
       "       'Hybrid\\n\\n \\nFull-time\\n\\n \\nDirector', 'Remote\\n\\n \\nFull-time',\n",
       "       'On-site\\n\\n \\nFull-time\\n\\n \\nEntry level',\n",
       "       'Hybrid\\n\\n \\nFull-time\\n\\n \\nAssociate',\n",
       "       'Full-time\\n\\n \\nMid-Senior level', 'On-site\\n\\n \\nPart-time',\n",
       "       'Hybrid\\n\\n \\nFull-time',\n",
       "       'Remote\\n\\n \\nContract\\n\\n \\nMid-Senior level',\n",
       "       'On-site\\n\\n \\nFull-time\\n\\n \\nDirector',\n",
       "       'On-site\\n\\n \\nFull-time\\n\\n \\nExecutive',\n",
       "       'Remote\\n\\n \\nFull-time\\n\\n \\nEntry level',\n",
       "       'Remote\\n\\n \\nInternship', 'On-site\\n\\n \\nInternship',\n",
       "       'On-site\\n\\n \\nContract\\n\\n \\nMid-Senior level',\n",
       "       'Remote\\n\\n \\nContract', 'Remote\\n\\n \\nFull-time\\n\\n \\nAssociate',\n",
       "       'On-site\\n\\n \\nContract\\n\\n \\nEntry level',\n",
       "       'On-site\\n\\n \\nFull-time\\n\\n \\nInternship',\n",
       "       'Remote\\n\\n \\nPart-time\\n\\n \\nAssociate', 'Remote\\n\\n \\nPart-time',\n",
       "       'Remote\\n\\n \\nContract\\n\\n \\nEntry level',\n",
       "       'On-site\\n\\n \\nContract\\n\\n \\nAssociate',\n",
       "       'Full-time\\n\\n \\nEntry level', 'Hybrid\\n\\n \\nContract',\n",
       "       'Remote\\n\\n \\nFull-time\\n\\n \\nDirector', 'Hybrid\\n\\n \\nPart-time',\n",
       "       'On-site\\n\\n \\nContract',\n",
       "       'PKR600,000/yr - PKR660,000/yr\\n\\n \\nOn-site\\n\\n \\nFull-time\\n\\n \\nEntry level',\n",
       "       'Remote', 'Contract\\n\\n \\nMid-Senior level',\n",
       "       'On-site\\n\\n \\nContract\\n\\n \\nInternship',\n",
       "       'Full-time\\n\\n \\nExecutive',\n",
       "       'Remote\\n\\n \\nInternship\\n\\n \\nMid-Senior level',\n",
       "       'Hybrid\\n\\n \\nContract\\n\\n \\nMid-Senior level',\n",
       "       'Remote\\n\\n \\nPart-time\\n\\n \\nEntry level',\n",
       "       'Hybrid\\n\\n \\nTemporary', 'Remote\\n\\n \\nPart-time\\n\\n \\nExecutive',\n",
       "       'On-site\\n\\n \\nInternship\\n\\n \\nEntry level',\n",
       "       'On-site\\n\\n \\nVolunteer',\n",
       "       'Remote\\n\\n \\nFull-time\\n\\n \\nExecutive',\n",
       "       'On-site\\n\\n \\nInternship\\n\\n \\nInternship',\n",
       "       'Remote\\n\\n \\nVolunteer',\n",
       "       'On-site\\n\\n \\nPart-time\\n\\n \\nEntry level', 'On-site',\n",
       "       'Hybrid\\n\\n \\nInternship',\n",
       "       'Hybrid\\n\\n \\nContract\\n\\n \\nEntry level',\n",
       "       'Full-time\\n\\n \\nInternship',\n",
       "       '$180/month - $250/month\\n\\n \\nRemote\\n\\n \\nFull-time', 'Hybrid',\n",
       "       'Remote\\n\\n \\nContract\\n\\n \\nAssociate',\n",
       "       'Remote\\n\\n \\nTemporary\\n\\n \\nEntry level',\n",
       "       'On-site\\n\\n \\nTemporary', 'Remote\\n\\n \\nTemporary',\n",
       "       'Full-time\\n\\n \\nAssociate',\n",
       "       'PKR1,200,000/yr - PKR1,800,000/yr\\n\\n \\nOn-site\\n\\n \\nFull-time\\n\\n \\nEntry level',\n",
       "       '5,001-10,000 employees · IT Services and IT Consulting',\n",
       "       'PKR1,200,000/yr - PKR2,400,000/yr\\n\\n \\nOn-site\\n\\n \\nFull-time\\n\\n \\nEntry level',\n",
       "       'On-site\\n\\n \\nContract\\n\\n \\nExecutive',\n",
       "       'PKR1,800,000/yr - PKR3,600,000/yr\\n\\n \\nOn-site\\n\\n \\nFull-time\\n\\n \\nMid-Senior level',\n",
       "       'MYR57,000/yr - MYR108,000/yr\\n\\n \\nRemote\\n\\n \\nFull-time\\n\\n \\nEntry level',\n",
       "       '$1,500/month - $1,800/month\\n\\n \\nRemote\\n\\n \\nFull-time',\n",
       "       '11-50 employees',\n",
       "       '10,001+ employees · Food and Beverage Manufacturing',\n",
       "       'PHP360,000/yr - PHP720,000/yr\\n\\n \\nRemote\\n\\n \\nPart-time\\n\\n \\nMid-Senior level',\n",
       "       'Hybrid\\n\\n \\nVolunteer', 'Remote\\n\\n \\nMid-Senior level',\n",
       "       '$500/month - $1,000/month\\n\\n \\nHybrid\\n\\n \\nContract',\n",
       "       'Remote\\n\\n \\nPart-time\\n\\n \\nMid-Senior level',\n",
       "       'PKR960,000/yr - PKR1,200,000/yr\\n\\n \\nOn-site\\n\\n \\nFull-time\\n\\n \\nEntry level',\n",
       "       '$20,000/yr - $25,000/yr\\n\\n \\nRemote\\n\\n \\nContract\\n\\n \\nEntry level',\n",
       "       '$30,000/month - $60,000/month\\n\\n \\nHybrid\\n\\n \\nFull-time',\n",
       "       'Remote\\n\\n \\nPart-time\\n\\n \\nDirector',\n",
       "       'PKR960,000/yr - PKR1,200,000/yr\\n\\n \\nOn-site\\n\\n \\nFull-time\\n\\n \\nMid-Senior level',\n",
       "       'Hybrid\\n\\n \\nContract\\n\\n \\nInternship',\n",
       "       'On-site\\n\\n \\nPart-time\\n\\n \\nMid-Senior level',\n",
       "       'On-site\\n\\n \\nTemporary\\n\\n \\nEntry level',\n",
       "       'Full-time\\n\\n \\nDirector',\n",
       "       'Hybrid\\n\\n \\nInternship\\n\\n \\nInternship',\n",
       "       'Remote\\n\\n \\nInternship\\n\\n \\nInternship',\n",
       "       'On-site\\n\\n \\nExecutive',\n",
       "       '$1,000/month - $2,500/month\\n\\n \\nOn-site\\n\\n \\nFull-time',\n",
       "       '$36,000/yr - $60,000/yr\\n\\n \\nRemote\\n\\n \\nFull-time\\n\\n \\nEntry level',\n",
       "       '$50,000/month - $70,000/month + Commission\\n\\n \\nOn-site\\n\\n \\nFull-time',\n",
       "       'On-site\\n\\n \\nInternship\\n\\n \\nDirector',\n",
       "       'Hybrid\\n\\n \\nFull-time\\n\\n \\nExecutive',\n",
       "       '₹180,000/yr - ₹360,000/yr\\n\\n \\nRemote\\n\\n \\nFull-time\\n\\n \\nEntry level',\n",
       "       'On-site\\n\\n \\nTemporary\\n\\n \\nInternship',\n",
       "       '$12,000/yr - $18,000/yr\\n\\n \\nRemote\\n\\n \\nFull-time\\n\\n \\nMid-Senior level',\n",
       "       'Contract\\n\\n \\nEntry level',\n",
       "       'Hybrid\\n\\n \\nFull-time\\n\\n \\nInternship',\n",
       "       'On-site\\n\\n \\nTemporary\\n\\n \\nMid-Senior level',\n",
       "       'Hybrid\\n\\n \\nInternship\\n\\n \\nMid-Senior level'], dtype=object)"
      ]
     },
     "execution_count": 160,
     "metadata": {},
     "output_type": "execute_result"
    }
   ],
   "source": [
    "df['Job Type'].unique()"
   ]
  },
  {
   "cell_type": "code",
   "execution_count": 161,
   "id": "671f2902-f20a-4c30-9d15-53b11d4385a1",
   "metadata": {},
   "outputs": [
    {
     "data": {
      "text/plain": [
       "'Full-time '"
      ]
     },
     "execution_count": 161,
     "metadata": {},
     "output_type": "execute_result"
    }
   ],
   "source": [
    "'Full-time · Mid-Senior level'.split('·')[0]"
   ]
  },
  {
   "cell_type": "code",
   "execution_count": 162,
   "id": "065607b2-27d5-41dc-bab0-8e77a145d9bc",
   "metadata": {},
   "outputs": [
    {
     "name": "stderr",
     "output_type": "stream",
     "text": [
      "C:\\Users\\BILAL.COM\\AppData\\Local\\Temp\\ipykernel_6020\\2876650013.py:1: SettingWithCopyWarning: \n",
      "A value is trying to be set on a copy of a slice from a DataFrame.\n",
      "Try using .loc[row_indexer,col_indexer] = value instead\n",
      "\n",
      "See the caveats in the documentation: https://pandas.pydata.org/pandas-docs/stable/user_guide/indexing.html#returning-a-view-versus-a-copy\n",
      "  df['Job-Type']=df['Job Type'].apply(lambda x:x.split('·')[0])\n"
     ]
    },
    {
     "data": {
      "text/plain": [
       "0                                             Full-time\n",
       "1                                             Full-time\n",
       "2                                             Full-time\n",
       "3                                             Full-time\n",
       "4                                             Full-time\n",
       "                              ...                      \n",
       "15869                           On-site\\n\\n \\nFull-time\n",
       "15870    On-site\\n\\n \\nFull-time\\n\\n \\nMid-Senior level\n",
       "15872         On-site\\n\\n \\nFull-time\\n\\n \\nEntry level\n",
       "15873    On-site\\n\\n \\nFull-time\\n\\n \\nMid-Senior level\n",
       "15874                           On-site\\n\\n \\nFull-time\n",
       "Name: Job-Type, Length: 11737, dtype: object"
      ]
     },
     "execution_count": 162,
     "metadata": {},
     "output_type": "execute_result"
    }
   ],
   "source": [
    "df['Job-Type']=df['Job Type'].apply(lambda x:x.split('·')[0])\n",
    "df['Job-Type']"
   ]
  },
  {
   "cell_type": "code",
   "execution_count": 163,
   "id": "5cedfc09-2e74-4818-8dc2-50b6c802f465",
   "metadata": {},
   "outputs": [
    {
     "data": {
      "text/plain": [
       "array(['Full-time', 'Full-time ', 'Internship ', 'Internship',\n",
       "       'Part-time', 'Contract ', 'Contract', '$150/month - $300/month ',\n",
       "       'Part-time ', 'Mr Ahsan is hiring for this job', 'Temporary ',\n",
       "       'Executive', 'Sean Sato is hiring for this job',\n",
       "       '$12,000/yr - $15,000/yr ', '$200,000/yr ',\n",
       "       'dr.ry. L. is hiring for this job', '10,001+ employees ',\n",
       "       'Volunteer', 'On-site\\n\\n \\nFull-time\\n\\n \\nMid-Senior level',\n",
       "       'Hybrid\\n\\n \\nFull-time\\n\\n \\nMid-Senior level',\n",
       "       'Remote\\n\\n \\nFull-time\\n\\n \\nMid-Senior level',\n",
       "       'On-site\\n\\n \\nFull-time\\n\\n \\nAssociate',\n",
       "       'On-site\\n\\n \\nFull-time',\n",
       "       'Hybrid\\n\\n \\nFull-time\\n\\n \\nEntry level',\n",
       "       'Hybrid\\n\\n \\nFull-time\\n\\n \\nDirector', 'Remote\\n\\n \\nFull-time',\n",
       "       'On-site\\n\\n \\nFull-time\\n\\n \\nEntry level',\n",
       "       'Hybrid\\n\\n \\nFull-time\\n\\n \\nAssociate',\n",
       "       'Full-time\\n\\n \\nMid-Senior level', 'On-site\\n\\n \\nPart-time',\n",
       "       'Hybrid\\n\\n \\nFull-time',\n",
       "       'Remote\\n\\n \\nContract\\n\\n \\nMid-Senior level',\n",
       "       'On-site\\n\\n \\nFull-time\\n\\n \\nDirector',\n",
       "       'On-site\\n\\n \\nFull-time\\n\\n \\nExecutive',\n",
       "       'Remote\\n\\n \\nFull-time\\n\\n \\nEntry level',\n",
       "       'Remote\\n\\n \\nInternship', 'On-site\\n\\n \\nInternship',\n",
       "       'On-site\\n\\n \\nContract\\n\\n \\nMid-Senior level',\n",
       "       'Remote\\n\\n \\nContract', 'Remote\\n\\n \\nFull-time\\n\\n \\nAssociate',\n",
       "       'On-site\\n\\n \\nContract\\n\\n \\nEntry level',\n",
       "       'On-site\\n\\n \\nFull-time\\n\\n \\nInternship',\n",
       "       'Remote\\n\\n \\nPart-time\\n\\n \\nAssociate', 'Remote\\n\\n \\nPart-time',\n",
       "       'Remote\\n\\n \\nContract\\n\\n \\nEntry level',\n",
       "       'On-site\\n\\n \\nContract\\n\\n \\nAssociate',\n",
       "       'Full-time\\n\\n \\nEntry level', 'Hybrid\\n\\n \\nContract',\n",
       "       'Remote\\n\\n \\nFull-time\\n\\n \\nDirector', 'Hybrid\\n\\n \\nPart-time',\n",
       "       'On-site\\n\\n \\nContract',\n",
       "       'PKR600,000/yr - PKR660,000/yr\\n\\n \\nOn-site\\n\\n \\nFull-time\\n\\n \\nEntry level',\n",
       "       'Remote', 'Contract\\n\\n \\nMid-Senior level',\n",
       "       'On-site\\n\\n \\nContract\\n\\n \\nInternship',\n",
       "       'Full-time\\n\\n \\nExecutive',\n",
       "       'Remote\\n\\n \\nInternship\\n\\n \\nMid-Senior level',\n",
       "       'Hybrid\\n\\n \\nContract\\n\\n \\nMid-Senior level',\n",
       "       'Remote\\n\\n \\nPart-time\\n\\n \\nEntry level',\n",
       "       'Hybrid\\n\\n \\nTemporary', 'Remote\\n\\n \\nPart-time\\n\\n \\nExecutive',\n",
       "       'On-site\\n\\n \\nInternship\\n\\n \\nEntry level',\n",
       "       'On-site\\n\\n \\nVolunteer',\n",
       "       'Remote\\n\\n \\nFull-time\\n\\n \\nExecutive',\n",
       "       'On-site\\n\\n \\nInternship\\n\\n \\nInternship',\n",
       "       'Remote\\n\\n \\nVolunteer',\n",
       "       'On-site\\n\\n \\nPart-time\\n\\n \\nEntry level', 'On-site',\n",
       "       'Hybrid\\n\\n \\nInternship',\n",
       "       'Hybrid\\n\\n \\nContract\\n\\n \\nEntry level',\n",
       "       'Full-time\\n\\n \\nInternship',\n",
       "       '$180/month - $250/month\\n\\n \\nRemote\\n\\n \\nFull-time', 'Hybrid',\n",
       "       'Remote\\n\\n \\nContract\\n\\n \\nAssociate',\n",
       "       'Remote\\n\\n \\nTemporary\\n\\n \\nEntry level',\n",
       "       'On-site\\n\\n \\nTemporary', 'Remote\\n\\n \\nTemporary',\n",
       "       'Full-time\\n\\n \\nAssociate',\n",
       "       'PKR1,200,000/yr - PKR1,800,000/yr\\n\\n \\nOn-site\\n\\n \\nFull-time\\n\\n \\nEntry level',\n",
       "       '5,001-10,000 employees ',\n",
       "       'PKR1,200,000/yr - PKR2,400,000/yr\\n\\n \\nOn-site\\n\\n \\nFull-time\\n\\n \\nEntry level',\n",
       "       'On-site\\n\\n \\nContract\\n\\n \\nExecutive',\n",
       "       'PKR1,800,000/yr - PKR3,600,000/yr\\n\\n \\nOn-site\\n\\n \\nFull-time\\n\\n \\nMid-Senior level',\n",
       "       'MYR57,000/yr - MYR108,000/yr\\n\\n \\nRemote\\n\\n \\nFull-time\\n\\n \\nEntry level',\n",
       "       '$1,500/month - $1,800/month\\n\\n \\nRemote\\n\\n \\nFull-time',\n",
       "       '11-50 employees',\n",
       "       'PHP360,000/yr - PHP720,000/yr\\n\\n \\nRemote\\n\\n \\nPart-time\\n\\n \\nMid-Senior level',\n",
       "       'Hybrid\\n\\n \\nVolunteer', 'Remote\\n\\n \\nMid-Senior level',\n",
       "       '$500/month - $1,000/month\\n\\n \\nHybrid\\n\\n \\nContract',\n",
       "       'Remote\\n\\n \\nPart-time\\n\\n \\nMid-Senior level',\n",
       "       'PKR960,000/yr - PKR1,200,000/yr\\n\\n \\nOn-site\\n\\n \\nFull-time\\n\\n \\nEntry level',\n",
       "       '$20,000/yr - $25,000/yr\\n\\n \\nRemote\\n\\n \\nContract\\n\\n \\nEntry level',\n",
       "       '$30,000/month - $60,000/month\\n\\n \\nHybrid\\n\\n \\nFull-time',\n",
       "       'Remote\\n\\n \\nPart-time\\n\\n \\nDirector',\n",
       "       'PKR960,000/yr - PKR1,200,000/yr\\n\\n \\nOn-site\\n\\n \\nFull-time\\n\\n \\nMid-Senior level',\n",
       "       'Hybrid\\n\\n \\nContract\\n\\n \\nInternship',\n",
       "       'On-site\\n\\n \\nPart-time\\n\\n \\nMid-Senior level',\n",
       "       'On-site\\n\\n \\nTemporary\\n\\n \\nEntry level',\n",
       "       'Full-time\\n\\n \\nDirector',\n",
       "       'Hybrid\\n\\n \\nInternship\\n\\n \\nInternship',\n",
       "       'Remote\\n\\n \\nInternship\\n\\n \\nInternship',\n",
       "       'On-site\\n\\n \\nExecutive',\n",
       "       '$1,000/month - $2,500/month\\n\\n \\nOn-site\\n\\n \\nFull-time',\n",
       "       '$36,000/yr - $60,000/yr\\n\\n \\nRemote\\n\\n \\nFull-time\\n\\n \\nEntry level',\n",
       "       '$50,000/month - $70,000/month + Commission\\n\\n \\nOn-site\\n\\n \\nFull-time',\n",
       "       'On-site\\n\\n \\nInternship\\n\\n \\nDirector',\n",
       "       'Hybrid\\n\\n \\nFull-time\\n\\n \\nExecutive',\n",
       "       '₹180,000/yr - ₹360,000/yr\\n\\n \\nRemote\\n\\n \\nFull-time\\n\\n \\nEntry level',\n",
       "       'On-site\\n\\n \\nTemporary\\n\\n \\nInternship',\n",
       "       '$12,000/yr - $18,000/yr\\n\\n \\nRemote\\n\\n \\nFull-time\\n\\n \\nMid-Senior level',\n",
       "       'Contract\\n\\n \\nEntry level',\n",
       "       'Hybrid\\n\\n \\nFull-time\\n\\n \\nInternship',\n",
       "       'On-site\\n\\n \\nTemporary\\n\\n \\nMid-Senior level',\n",
       "       'Hybrid\\n\\n \\nInternship\\n\\n \\nMid-Senior level'], dtype=object)"
      ]
     },
     "execution_count": 163,
     "metadata": {},
     "output_type": "execute_result"
    }
   ],
   "source": [
    "df['Job-Type'].unique()"
   ]
  },
  {
   "cell_type": "code",
   "execution_count": 164,
   "id": "88f840c5-036c-4415-964f-2f8c9ecaffbc",
   "metadata": {},
   "outputs": [
    {
     "data": {
      "text/plain": [
       "115"
      ]
     },
     "execution_count": 164,
     "metadata": {},
     "output_type": "execute_result"
    }
   ],
   "source": [
    "len(df['Job-Type'].unique())"
   ]
  },
  {
   "cell_type": "markdown",
   "id": "8b27af67-8542-45ea-80d5-282fa2971549",
   "metadata": {},
   "source": [
    "##### len(df['Job-Type'].unique()) should be 7 instead of 35"
   ]
  },
  {
   "cell_type": "code",
   "execution_count": 165,
   "id": "189332b7-09ed-4518-975e-b1f514a528d4",
   "metadata": {},
   "outputs": [
    {
     "data": {
      "text/plain": [
       "129"
      ]
     },
     "execution_count": 165,
     "metadata": {},
     "output_type": "execute_result"
    }
   ],
   "source": [
    "len(df['Job Type'].unique())"
   ]
  },
  {
   "cell_type": "code",
   "execution_count": 166,
   "id": "035c00fc-a0df-4eb2-adfc-d77b35f84d84",
   "metadata": {},
   "outputs": [
    {
     "name": "stdout",
     "output_type": "stream",
     "text": [
      "There is difference of:14\n"
     ]
    }
   ],
   "source": [
    "print(f\"There is difference of:{len(df['Job Type'].unique())-len(df['Job-Type'].unique())}\")"
   ]
  },
  {
   "cell_type": "code",
   "execution_count": null,
   "id": "25e1a5cc-b141-4207-8659-5ef3f0094598",
   "metadata": {},
   "outputs": [],
   "source": []
  },
  {
   "cell_type": "code",
   "execution_count": null,
   "id": "a747e8ed-4e00-44f2-b20f-e0307f9bbdea",
   "metadata": {},
   "outputs": [],
   "source": []
  },
  {
   "cell_type": "code",
   "execution_count": 167,
   "id": "fc5dbbef-13f8-4d92-a4ba-db632a0d8016",
   "metadata": {},
   "outputs": [
    {
     "data": {
      "text/html": [
       "<div>\n",
       "<style scoped>\n",
       "    .dataframe tbody tr th:only-of-type {\n",
       "        vertical-align: middle;\n",
       "    }\n",
       "\n",
       "    .dataframe tbody tr th {\n",
       "        vertical-align: top;\n",
       "    }\n",
       "\n",
       "    .dataframe thead th {\n",
       "        text-align: right;\n",
       "    }\n",
       "</style>\n",
       "<table border=\"1\" class=\"dataframe\">\n",
       "  <thead>\n",
       "    <tr style=\"text-align: right;\">\n",
       "      <th></th>\n",
       "      <th>Job Title</th>\n",
       "      <th>Job Info</th>\n",
       "      <th>Job Type</th>\n",
       "      <th>Job Link</th>\n",
       "      <th>employees</th>\n",
       "      <th>Job ID</th>\n",
       "      <th>company</th>\n",
       "      <th>location</th>\n",
       "      <th>Remote/Onsite</th>\n",
       "      <th>n_applicant</th>\n",
       "      <th>job posting time</th>\n",
       "      <th>Job Type nElements</th>\n",
       "      <th>Job-Type</th>\n",
       "    </tr>\n",
       "  </thead>\n",
       "  <tbody>\n",
       "    <tr>\n",
       "      <th>0</th>\n",
       "      <td>LinkedIn Data Extractor</td>\n",
       "      <td>EcomFleet · Pakistan (Remote)  \\n1 week ago</td>\n",
       "      <td>Full-time</td>\n",
       "      <td>https://www.linkedin.com/jobs/view/3727054368</td>\n",
       "      <td>11-50 employees</td>\n",
       "      <td>3727054368</td>\n",
       "      <td>EcomFleet</td>\n",
       "      <td>Pakistan</td>\n",
       "      <td>Remote</td>\n",
       "      <td>NaN</td>\n",
       "      <td>1 week ago</td>\n",
       "      <td>1</td>\n",
       "      <td>Full-time</td>\n",
       "    </tr>\n",
       "    <tr>\n",
       "      <th>1</th>\n",
       "      <td>It Management Intern</td>\n",
       "      <td>Digicon Valley · Lahore, Punjab, Pakistan (On-...</td>\n",
       "      <td>Full-time</td>\n",
       "      <td>https://www.linkedin.com/jobs/view/3723395858</td>\n",
       "      <td>11-50 employees</td>\n",
       "      <td>3723395858</td>\n",
       "      <td>Digicon Valley</td>\n",
       "      <td>Lahore, Punjab, Pakistan</td>\n",
       "      <td>On-site</td>\n",
       "      <td>NaN</td>\n",
       "      <td>2 weeks ago</td>\n",
       "      <td>1</td>\n",
       "      <td>Full-time</td>\n",
       "    </tr>\n",
       "    <tr>\n",
       "      <th>2</th>\n",
       "      <td>SQL Database Developer</td>\n",
       "      <td>Murkez Technologies · Lahore, Punjab, Pakistan...</td>\n",
       "      <td>Full-time</td>\n",
       "      <td>https://www.linkedin.com/jobs/view/3727034665</td>\n",
       "      <td>51-200 employees</td>\n",
       "      <td>3727034665</td>\n",
       "      <td>Murkez Technologies</td>\n",
       "      <td>Lahore, Punjab, Pakistan</td>\n",
       "      <td>On-site</td>\n",
       "      <td>NaN</td>\n",
       "      <td>1 week ago</td>\n",
       "      <td>1</td>\n",
       "      <td>Full-time</td>\n",
       "    </tr>\n",
       "    <tr>\n",
       "      <th>3</th>\n",
       "      <td>Business Intelligence Developer</td>\n",
       "      <td>DevNatives · Islamabad, Islāmābād, Pakistan (H...</td>\n",
       "      <td>Full-time</td>\n",
       "      <td>https://www.linkedin.com/jobs/view/3727029273</td>\n",
       "      <td>11-50 employees</td>\n",
       "      <td>3727029273</td>\n",
       "      <td>DevNatives</td>\n",
       "      <td>Islamabad, Islāmābād, Pakistan</td>\n",
       "      <td>Hybrid</td>\n",
       "      <td>51</td>\n",
       "      <td>1 week ago</td>\n",
       "      <td>1</td>\n",
       "      <td>Full-time</td>\n",
       "    </tr>\n",
       "    <tr>\n",
       "      <th>4</th>\n",
       "      <td>Web Developer - Internship</td>\n",
       "      <td>ItCreaters · Lahore, Punjab, Pakistan (On-site...</td>\n",
       "      <td>Full-time</td>\n",
       "      <td>https://www.linkedin.com/jobs/view/3727034696</td>\n",
       "      <td>Mobeen Naqvi is hiring for this job</td>\n",
       "      <td>3727034696</td>\n",
       "      <td>ItCreaters</td>\n",
       "      <td>Lahore, Punjab, Pakistan</td>\n",
       "      <td>On-site</td>\n",
       "      <td>51</td>\n",
       "      <td>1 week ago</td>\n",
       "      <td>1</td>\n",
       "      <td>Full-time</td>\n",
       "    </tr>\n",
       "    <tr>\n",
       "      <th>...</th>\n",
       "      <td>...</td>\n",
       "      <td>...</td>\n",
       "      <td>...</td>\n",
       "      <td>...</td>\n",
       "      <td>...</td>\n",
       "      <td>...</td>\n",
       "      <td>...</td>\n",
       "      <td>...</td>\n",
       "      <td>...</td>\n",
       "      <td>...</td>\n",
       "      <td>...</td>\n",
       "      <td>...</td>\n",
       "      <td>...</td>\n",
       "    </tr>\n",
       "    <tr>\n",
       "      <th>13176</th>\n",
       "      <td>Software Developer</td>\n",
       "      <td>Ericsson · Islamabad, Islāmābād, Pakistan Repo...</td>\n",
       "      <td>Full-time</td>\n",
       "      <td>https://www.linkedin.com/jobs/view/3756603290</td>\n",
       "      <td>10,001+ employees · IT Services and IT Consulting</td>\n",
       "      <td>3756603290</td>\n",
       "      <td>Ericsson</td>\n",
       "      <td>Islamabad, Islāmābād, Pakistan Reposted</td>\n",
       "      <td>Not specified</td>\n",
       "      <td>NaN</td>\n",
       "      <td>1 week ago</td>\n",
       "      <td>1</td>\n",
       "      <td>Full-time</td>\n",
       "    </tr>\n",
       "    <tr>\n",
       "      <th>13480</th>\n",
       "      <td>Soccer Player</td>\n",
       "      <td>Vibrant FC  · Islamabad, Islāmābād, Pakistan  ...</td>\n",
       "      <td>On-site</td>\n",
       "      <td>https://www.linkedin.com/jobs/view/3756090665</td>\n",
       "      <td>See how you compare to 11 applicants. Reactiva...</td>\n",
       "      <td>3756090665</td>\n",
       "      <td>Vibrant FC</td>\n",
       "      <td>Islamabad, Islāmābād, Pakistan  \\n2 weeks</td>\n",
       "      <td>Not specified</td>\n",
       "      <td>11</td>\n",
       "      <td>2 weeks ago</td>\n",
       "      <td>1</td>\n",
       "      <td>On-site</td>\n",
       "    </tr>\n",
       "    <tr>\n",
       "      <th>13941</th>\n",
       "      <td>Aspire for Unilever - AM E&amp;I</td>\n",
       "      <td>Unilever · Lahore, Punjab, Pakistan  \\n1 week ...</td>\n",
       "      <td>Full-time</td>\n",
       "      <td>https://www.linkedin.com/jobs/view/3764164143</td>\n",
       "      <td>10,001+ employees · Manufacturing</td>\n",
       "      <td>3764164143</td>\n",
       "      <td>Unilever</td>\n",
       "      <td>Lahore, Punjab, Pakistan</td>\n",
       "      <td>Not specified</td>\n",
       "      <td>226</td>\n",
       "      <td>1 week ago</td>\n",
       "      <td>1</td>\n",
       "      <td>Full-time</td>\n",
       "    </tr>\n",
       "    <tr>\n",
       "      <th>14195</th>\n",
       "      <td>Clients Finder for MERN Stack Webites</td>\n",
       "      <td>Ahmad Raza Khokhar · Pakistan  \\n1 week ago</td>\n",
       "      <td>Remote</td>\n",
       "      <td>https://www.linkedin.com/jobs/view/3762632565</td>\n",
       "      <td>See how you compare to 9 applicants. Reactivat...</td>\n",
       "      <td>3762632565</td>\n",
       "      <td>Ahmad Raza Khokhar</td>\n",
       "      <td>Pakistan</td>\n",
       "      <td>Not specified</td>\n",
       "      <td>NaN</td>\n",
       "      <td>1 week ago</td>\n",
       "      <td>1</td>\n",
       "      <td>Remote</td>\n",
       "    </tr>\n",
       "    <tr>\n",
       "      <th>15633</th>\n",
       "      <td>DevOps Architect</td>\n",
       "      <td>Ericsson · Islamabad, Islāmābād, Pakistan  \\n1...</td>\n",
       "      <td>Full-time</td>\n",
       "      <td>https://www.linkedin.com/jobs/view/3765626902</td>\n",
       "      <td>10,001+ employees · Telecommunications</td>\n",
       "      <td>3765626902</td>\n",
       "      <td>Ericsson</td>\n",
       "      <td>Islamabad, Islāmābād, Pakistan</td>\n",
       "      <td>Not specified</td>\n",
       "      <td>35</td>\n",
       "      <td>1 week ago</td>\n",
       "      <td>1</td>\n",
       "      <td>Full-time</td>\n",
       "    </tr>\n",
       "  </tbody>\n",
       "</table>\n",
       "<p>2395 rows × 13 columns</p>\n",
       "</div>"
      ],
      "text/plain": [
       "                                   Job Title  \\\n",
       "0                    LinkedIn Data Extractor   \n",
       "1                       It Management Intern   \n",
       "2                     SQL Database Developer   \n",
       "3            Business Intelligence Developer   \n",
       "4                 Web Developer - Internship   \n",
       "...                                      ...   \n",
       "13176                     Software Developer   \n",
       "13480                          Soccer Player   \n",
       "13941           Aspire for Unilever - AM E&I   \n",
       "14195  Clients Finder for MERN Stack Webites   \n",
       "15633                       DevOps Architect   \n",
       "\n",
       "                                                Job Info   Job Type  \\\n",
       "0            EcomFleet · Pakistan (Remote)  \\n1 week ago  Full-time   \n",
       "1      Digicon Valley · Lahore, Punjab, Pakistan (On-...  Full-time   \n",
       "2      Murkez Technologies · Lahore, Punjab, Pakistan...  Full-time   \n",
       "3      DevNatives · Islamabad, Islāmābād, Pakistan (H...  Full-time   \n",
       "4      ItCreaters · Lahore, Punjab, Pakistan (On-site...  Full-time   \n",
       "...                                                  ...        ...   \n",
       "13176  Ericsson · Islamabad, Islāmābād, Pakistan Repo...  Full-time   \n",
       "13480  Vibrant FC  · Islamabad, Islāmābād, Pakistan  ...    On-site   \n",
       "13941  Unilever · Lahore, Punjab, Pakistan  \\n1 week ...  Full-time   \n",
       "14195        Ahmad Raza Khokhar · Pakistan  \\n1 week ago     Remote   \n",
       "15633  Ericsson · Islamabad, Islāmābād, Pakistan  \\n1...  Full-time   \n",
       "\n",
       "                                            Job Link  \\\n",
       "0      https://www.linkedin.com/jobs/view/3727054368   \n",
       "1      https://www.linkedin.com/jobs/view/3723395858   \n",
       "2      https://www.linkedin.com/jobs/view/3727034665   \n",
       "3      https://www.linkedin.com/jobs/view/3727029273   \n",
       "4      https://www.linkedin.com/jobs/view/3727034696   \n",
       "...                                              ...   \n",
       "13176  https://www.linkedin.com/jobs/view/3756603290   \n",
       "13480  https://www.linkedin.com/jobs/view/3756090665   \n",
       "13941  https://www.linkedin.com/jobs/view/3764164143   \n",
       "14195  https://www.linkedin.com/jobs/view/3762632565   \n",
       "15633  https://www.linkedin.com/jobs/view/3765626902   \n",
       "\n",
       "                                               employees      Job ID  \\\n",
       "0                                        11-50 employees  3727054368   \n",
       "1                                        11-50 employees  3723395858   \n",
       "2                                       51-200 employees  3727034665   \n",
       "3                                        11-50 employees  3727029273   \n",
       "4                    Mobeen Naqvi is hiring for this job  3727034696   \n",
       "...                                                  ...         ...   \n",
       "13176  10,001+ employees · IT Services and IT Consulting  3756603290   \n",
       "13480  See how you compare to 11 applicants. Reactiva...  3756090665   \n",
       "13941                  10,001+ employees · Manufacturing  3764164143   \n",
       "14195  See how you compare to 9 applicants. Reactivat...  3762632565   \n",
       "15633             10,001+ employees · Telecommunications  3765626902   \n",
       "\n",
       "                    company                                   location  \\\n",
       "0                EcomFleet                                    Pakistan   \n",
       "1           Digicon Valley                    Lahore, Punjab, Pakistan   \n",
       "2      Murkez Technologies                    Lahore, Punjab, Pakistan   \n",
       "3               DevNatives              Islamabad, Islāmābād, Pakistan   \n",
       "4               ItCreaters                    Lahore, Punjab, Pakistan   \n",
       "...                     ...                                        ...   \n",
       "13176             Ericsson     Islamabad, Islāmābād, Pakistan Reposted   \n",
       "13480          Vibrant FC    Islamabad, Islāmābād, Pakistan  \\n2 weeks   \n",
       "13941             Unilever                    Lahore, Punjab, Pakistan   \n",
       "14195   Ahmad Raza Khokhar                                    Pakistan   \n",
       "15633             Ericsson              Islamabad, Islāmābād, Pakistan   \n",
       "\n",
       "       Remote/Onsite n_applicant job posting time  Job Type nElements  \\\n",
       "0             Remote         NaN       1 week ago                   1   \n",
       "1            On-site         NaN      2 weeks ago                   1   \n",
       "2            On-site         NaN       1 week ago                   1   \n",
       "3             Hybrid          51       1 week ago                   1   \n",
       "4            On-site          51       1 week ago                   1   \n",
       "...              ...         ...              ...                 ...   \n",
       "13176  Not specified         NaN       1 week ago                   1   \n",
       "13480  Not specified          11      2 weeks ago                   1   \n",
       "13941  Not specified         226       1 week ago                   1   \n",
       "14195  Not specified         NaN       1 week ago                   1   \n",
       "15633  Not specified          35       1 week ago                   1   \n",
       "\n",
       "        Job-Type  \n",
       "0      Full-time  \n",
       "1      Full-time  \n",
       "2      Full-time  \n",
       "3      Full-time  \n",
       "4      Full-time  \n",
       "...          ...  \n",
       "13176  Full-time  \n",
       "13480    On-site  \n",
       "13941  Full-time  \n",
       "14195     Remote  \n",
       "15633  Full-time  \n",
       "\n",
       "[2395 rows x 13 columns]"
      ]
     },
     "execution_count": 167,
     "metadata": {},
     "output_type": "execute_result"
    }
   ],
   "source": [
    "df[df['Job Type nElements']==1]"
   ]
  },
  {
   "cell_type": "code",
   "execution_count": 168,
   "id": "422bfe8d-592f-4876-801b-5aadb43d599e",
   "metadata": {},
   "outputs": [
    {
     "data": {
      "text/plain": [
       "array(['Full-time', 'Internship', 'Part-time', 'Contract', 'Executive',\n",
       "       'Volunteer', 'Remote', 'On-site', 'Hybrid'], dtype=object)"
      ]
     },
     "execution_count": 168,
     "metadata": {},
     "output_type": "execute_result"
    }
   ],
   "source": [
    "df[df['Job Type nElements']==1]['Job Type'].unique()"
   ]
  },
  {
   "cell_type": "code",
   "execution_count": 169,
   "id": "00dac48b-ed6d-4a62-a061-b0b9c01b76b7",
   "metadata": {},
   "outputs": [],
   "source": [
    "# Job_type_options"
   ]
  },
  {
   "cell_type": "code",
   "execution_count": 170,
   "id": "b7ca25cd-e6e0-426a-a1a4-5d072ff05af9",
   "metadata": {},
   "outputs": [
    {
     "data": {
      "text/plain": [
       "['Executive']"
      ]
     },
     "execution_count": 170,
     "metadata": {},
     "output_type": "execute_result"
    }
   ],
   "source": [
    "inconsistant_Job_Type_Elements_1=['Executive']\n",
    "inconsistant_Job_Type_Elements_1"
   ]
  },
  {
   "cell_type": "code",
   "execution_count": 171,
   "id": "ebf2ae39-6b21-41e1-bfb8-7808ed9a08a6",
   "metadata": {},
   "outputs": [
    {
     "data": {
      "text/plain": [
       "9"
      ]
     },
     "execution_count": 171,
     "metadata": {},
     "output_type": "execute_result"
    }
   ],
   "source": [
    "len(df[df['Job Type nElements']==1]['Job Type'].unique())"
   ]
  },
  {
   "cell_type": "code",
   "execution_count": 172,
   "id": "b9c75796-94d7-449d-b2e5-831318f7afab",
   "metadata": {},
   "outputs": [
    {
     "data": {
      "text/html": [
       "<div>\n",
       "<style scoped>\n",
       "    .dataframe tbody tr th:only-of-type {\n",
       "        vertical-align: middle;\n",
       "    }\n",
       "\n",
       "    .dataframe tbody tr th {\n",
       "        vertical-align: top;\n",
       "    }\n",
       "\n",
       "    .dataframe thead th {\n",
       "        text-align: right;\n",
       "    }\n",
       "</style>\n",
       "<table border=\"1\" class=\"dataframe\">\n",
       "  <thead>\n",
       "    <tr style=\"text-align: right;\">\n",
       "      <th></th>\n",
       "      <th>Job Title</th>\n",
       "      <th>Job Info</th>\n",
       "      <th>Job Type</th>\n",
       "      <th>Job Link</th>\n",
       "      <th>employees</th>\n",
       "      <th>Job ID</th>\n",
       "      <th>company</th>\n",
       "      <th>location</th>\n",
       "      <th>Remote/Onsite</th>\n",
       "      <th>n_applicant</th>\n",
       "      <th>job posting time</th>\n",
       "      <th>Job Type nElements</th>\n",
       "      <th>Job-Type</th>\n",
       "    </tr>\n",
       "  </thead>\n",
       "  <tbody>\n",
       "    <tr>\n",
       "      <th>1184</th>\n",
       "      <td>AWS specialist for a Cloud migration from Huwa...</td>\n",
       "      <td>CloudPSO · Islamabad, Islāmābād, Pakistan (Rem...</td>\n",
       "      <td>Executive</td>\n",
       "      <td>https://www.linkedin.com/jobs/view/3729427412</td>\n",
       "      <td>51-200 employees · IT Services and IT Consulting</td>\n",
       "      <td>3729427412</td>\n",
       "      <td>CloudPSO</td>\n",
       "      <td>Islamabad, Islāmābād, Pakistan</td>\n",
       "      <td>Remote</td>\n",
       "      <td>20</td>\n",
       "      <td>1 week ago</td>\n",
       "      <td>1</td>\n",
       "      <td>Executive</td>\n",
       "    </tr>\n",
       "  </tbody>\n",
       "</table>\n",
       "</div>"
      ],
      "text/plain": [
       "                                              Job Title  \\\n",
       "1184  AWS specialist for a Cloud migration from Huwa...   \n",
       "\n",
       "                                               Job Info   Job Type  \\\n",
       "1184  CloudPSO · Islamabad, Islāmābād, Pakistan (Rem...  Executive   \n",
       "\n",
       "                                           Job Link  \\\n",
       "1184  https://www.linkedin.com/jobs/view/3729427412   \n",
       "\n",
       "                                             employees      Job ID    company  \\\n",
       "1184  51-200 employees · IT Services and IT Consulting  3729427412  CloudPSO    \n",
       "\n",
       "                            location Remote/Onsite n_applicant  \\\n",
       "1184  Islamabad, Islāmābād, Pakistan        Remote          20   \n",
       "\n",
       "     job posting time  Job Type nElements   Job-Type  \n",
       "1184       1 week ago                   1  Executive  "
      ]
     },
     "execution_count": 172,
     "metadata": {},
     "output_type": "execute_result"
    }
   ],
   "source": [
    "df[df['Job Type']=='Executive']"
   ]
  },
  {
   "cell_type": "code",
   "execution_count": 173,
   "id": "e02bb1b9-64cd-4f67-a5d9-37a8e5bdf482",
   "metadata": {},
   "outputs": [
    {
     "data": {
      "text/plain": [
       "array(['Full-time · Mid-Senior level', 'Internship · Internship',\n",
       "       'Full-time · Associate', 'Full-time · Entry level',\n",
       "       'Full-time · Internship', 'Contract · Mid-Senior level',\n",
       "       'Contract · Associate', '$150/month - $300/month · Full-time',\n",
       "       'Full-time · Director', 'Part-time · Associate',\n",
       "       'Part-time · Executive', 'Contract · Executive',\n",
       "       'Part-time · Mid-Senior level', 'Contract · Entry level',\n",
       "       'Temporary · Mid-Senior level', 'Full-time · Executive',\n",
       "       'Part-time · Internship', 'Internship · Mid-Senior level',\n",
       "       '$200,000/yr · Full-time', 'Part-time · Entry level',\n",
       "       '10,001+ employees · Tobacco Manufacturing',\n",
       "       'On-site\\n\\n \\nFull-time', 'Remote\\n\\n \\nFull-time',\n",
       "       'Full-time\\n\\n \\nMid-Senior level', 'On-site\\n\\n \\nPart-time',\n",
       "       'Hybrid\\n\\n \\nFull-time', 'Remote\\n\\n \\nInternship',\n",
       "       'On-site\\n\\n \\nInternship', 'Remote\\n\\n \\nContract',\n",
       "       'Remote\\n\\n \\nPart-time', 'Full-time\\n\\n \\nEntry level',\n",
       "       'Hybrid\\n\\n \\nContract', 'Hybrid\\n\\n \\nPart-time',\n",
       "       'On-site\\n\\n \\nContract', 'Contract\\n\\n \\nMid-Senior level',\n",
       "       'Full-time\\n\\n \\nExecutive', 'Hybrid\\n\\n \\nTemporary',\n",
       "       'On-site\\n\\n \\nVolunteer', 'Remote\\n\\n \\nVolunteer',\n",
       "       'Hybrid\\n\\n \\nInternship', 'Full-time\\n\\n \\nInternship',\n",
       "       'On-site\\n\\n \\nTemporary', 'Remote\\n\\n \\nTemporary',\n",
       "       'Full-time\\n\\n \\nAssociate',\n",
       "       '5,001-10,000 employees · IT Services and IT Consulting',\n",
       "       '11-50 employees',\n",
       "       '10,001+ employees · Food and Beverage Manufacturing',\n",
       "       'Hybrid\\n\\n \\nVolunteer', 'Remote\\n\\n \\nMid-Senior level',\n",
       "       'Full-time\\n\\n \\nDirector', 'On-site\\n\\n \\nExecutive',\n",
       "       'Contract\\n\\n \\nEntry level'], dtype=object)"
      ]
     },
     "execution_count": 173,
     "metadata": {},
     "output_type": "execute_result"
    }
   ],
   "source": [
    "df[df['Job Type nElements']==2]['Job Type'].unique()"
   ]
  },
  {
   "cell_type": "code",
   "execution_count": 174,
   "id": "b9b85562-303c-43b0-ae21-ea74b8b609a3",
   "metadata": {},
   "outputs": [
    {
     "data": {
      "text/plain": [
       "['$150/month - $300/month · Full-time',\n",
       " '$200,000/yr · Full-time',\n",
       " '10,001+ employees · Tobacco Manufacturing',\n",
       " 'Full-time\\n\\n \\nMid-Senior level']"
      ]
     },
     "execution_count": 174,
     "metadata": {},
     "output_type": "execute_result"
    }
   ],
   "source": [
    "inconsistant_Job_Type_Elements_2=['$150/month - $300/month · Full-time','$200,000/yr · Full-time','10,001+ employees · Tobacco Manufacturing','Full-time\\n\\n \\nMid-Senior level']\n",
    "inconsistant_Job_Type_Elements_2"
   ]
  },
  {
   "cell_type": "code",
   "execution_count": 175,
   "id": "a66a5044-bd20-431a-ae1a-c1a77ffd662e",
   "metadata": {},
   "outputs": [
    {
     "data": {
      "text/plain": [
       "52"
      ]
     },
     "execution_count": 175,
     "metadata": {},
     "output_type": "execute_result"
    }
   ],
   "source": [
    "len(df[df['Job Type nElements']==2]['Job Type'].unique())"
   ]
  },
  {
   "cell_type": "code",
   "execution_count": 176,
   "id": "f1b71e5b-8e9b-445f-8f7d-ea341633f4cd",
   "metadata": {},
   "outputs": [
    {
     "data": {
      "text/html": [
       "<div>\n",
       "<style scoped>\n",
       "    .dataframe tbody tr th:only-of-type {\n",
       "        vertical-align: middle;\n",
       "    }\n",
       "\n",
       "    .dataframe tbody tr th {\n",
       "        vertical-align: top;\n",
       "    }\n",
       "\n",
       "    .dataframe thead th {\n",
       "        text-align: right;\n",
       "    }\n",
       "</style>\n",
       "<table border=\"1\" class=\"dataframe\">\n",
       "  <thead>\n",
       "    <tr style=\"text-align: right;\">\n",
       "      <th></th>\n",
       "      <th>Job Title</th>\n",
       "      <th>Job Info</th>\n",
       "      <th>Job Type</th>\n",
       "      <th>Job Link</th>\n",
       "      <th>employees</th>\n",
       "      <th>Job ID</th>\n",
       "      <th>company</th>\n",
       "      <th>location</th>\n",
       "      <th>Remote/Onsite</th>\n",
       "      <th>n_applicant</th>\n",
       "      <th>job posting time</th>\n",
       "      <th>Job Type nElements</th>\n",
       "      <th>Job-Type</th>\n",
       "    </tr>\n",
       "  </thead>\n",
       "  <tbody>\n",
       "    <tr>\n",
       "      <th>4035</th>\n",
       "      <td>Senior Medical Coder</td>\n",
       "      <td>CureMD · Lahore, Punjab, Pakistan Reposted  \\n...</td>\n",
       "      <td>Full-time\\n\\n \\nMid-Senior level</td>\n",
       "      <td>https://www.linkedin.com/jobs/view/3734776775</td>\n",
       "      <td>1,001-5,000 employees · Software Development</td>\n",
       "      <td>3734776775</td>\n",
       "      <td>CureMD</td>\n",
       "      <td>Lahore, Punjab, Pakistan Reposted  \\n4 days</td>\n",
       "      <td>Not specified</td>\n",
       "      <td>57</td>\n",
       "      <td>4 days ago</td>\n",
       "      <td>2</td>\n",
       "      <td>Full-time\\n\\n \\nMid-Senior level</td>\n",
       "    </tr>\n",
       "    <tr>\n",
       "      <th>4229</th>\n",
       "      <td>Assistant HR Services Manager</td>\n",
       "      <td>BAT · Islamabad, Islāmābād, Pakistan Reposted ...</td>\n",
       "      <td>Full-time\\n\\n \\nMid-Senior level</td>\n",
       "      <td>https://www.linkedin.com/jobs/view/3720206722</td>\n",
       "      <td>10,001+ employees · Tobacco Manufacturing</td>\n",
       "      <td>3720206722</td>\n",
       "      <td>BAT</td>\n",
       "      <td>Islamabad, Islāmābād, Pakistan Reposted</td>\n",
       "      <td>Not specified</td>\n",
       "      <td>1,579</td>\n",
       "      <td>1 week ago</td>\n",
       "      <td>2</td>\n",
       "      <td>Full-time\\n\\n \\nMid-Senior level</td>\n",
       "    </tr>\n",
       "    <tr>\n",
       "      <th>4413</th>\n",
       "      <td>CC&amp;B Functional Administrator</td>\n",
       "      <td>Sui Southern Gas Company Limited · Karachi Div...</td>\n",
       "      <td>Full-time\\n\\n \\nMid-Senior level</td>\n",
       "      <td>https://www.linkedin.com/jobs/view/3735937627</td>\n",
       "      <td>5,001-10,000 employees · Utilities</td>\n",
       "      <td>3735937627</td>\n",
       "      <td>Sui Southern Gas Company Limited</td>\n",
       "      <td>Karachi Division, Sindh, Pakistan</td>\n",
       "      <td>Not specified</td>\n",
       "      <td>14</td>\n",
       "      <td>1 week ago</td>\n",
       "      <td>2</td>\n",
       "      <td>Full-time\\n\\n \\nMid-Senior level</td>\n",
       "    </tr>\n",
       "    <tr>\n",
       "      <th>4669</th>\n",
       "      <td>Jr. Production Engineer</td>\n",
       "      <td>Ingredion Incorporated · Jarānwāla, Punjab, Pa...</td>\n",
       "      <td>Full-time\\n\\n \\nMid-Senior level</td>\n",
       "      <td>https://www.linkedin.com/jobs/view/3706694491</td>\n",
       "      <td>10,001+ employees · Food and Beverage Services</td>\n",
       "      <td>3706694491</td>\n",
       "      <td>Ingredion Incorporated</td>\n",
       "      <td>Jarānwāla, Punjab, Pakistan Reposted</td>\n",
       "      <td>Not specified</td>\n",
       "      <td>555</td>\n",
       "      <td>1 week ago</td>\n",
       "      <td>2</td>\n",
       "      <td>Full-time\\n\\n \\nMid-Senior level</td>\n",
       "    </tr>\n",
       "    <tr>\n",
       "      <th>4677</th>\n",
       "      <td>Purchasing Executive</td>\n",
       "      <td>BAT · Lahore, Punjab, Pakistan  \\n1 week ago\\n...</td>\n",
       "      <td>Full-time\\n\\n \\nMid-Senior level</td>\n",
       "      <td>https://www.linkedin.com/jobs/view/3736996248</td>\n",
       "      <td>10,001+ employees · Tobacco Manufacturing</td>\n",
       "      <td>3736996248</td>\n",
       "      <td>BAT</td>\n",
       "      <td>Lahore, Punjab, Pakistan</td>\n",
       "      <td>Not specified</td>\n",
       "      <td>340</td>\n",
       "      <td>1 week ago</td>\n",
       "      <td>2</td>\n",
       "      <td>Full-time\\n\\n \\nMid-Senior level</td>\n",
       "    </tr>\n",
       "    <tr>\n",
       "      <th>...</th>\n",
       "      <td>...</td>\n",
       "      <td>...</td>\n",
       "      <td>...</td>\n",
       "      <td>...</td>\n",
       "      <td>...</td>\n",
       "      <td>...</td>\n",
       "      <td>...</td>\n",
       "      <td>...</td>\n",
       "      <td>...</td>\n",
       "      <td>...</td>\n",
       "      <td>...</td>\n",
       "      <td>...</td>\n",
       "      <td>...</td>\n",
       "    </tr>\n",
       "    <tr>\n",
       "      <th>15698</th>\n",
       "      <td>IDT Application Management Analyst</td>\n",
       "      <td>BAT · Lahore, Punjab, Pakistan  \\n1 week ago\\n...</td>\n",
       "      <td>Full-time\\n\\n \\nMid-Senior level</td>\n",
       "      <td>https://www.linkedin.com/jobs/view/3772801246</td>\n",
       "      <td>10,001+ employees · Tobacco Manufacturing</td>\n",
       "      <td>3772801246</td>\n",
       "      <td>BAT</td>\n",
       "      <td>Lahore, Punjab, Pakistan</td>\n",
       "      <td>Not specified</td>\n",
       "      <td>6</td>\n",
       "      <td>1 week ago</td>\n",
       "      <td>2</td>\n",
       "      <td>Full-time\\n\\n \\nMid-Senior level</td>\n",
       "    </tr>\n",
       "    <tr>\n",
       "      <th>15791</th>\n",
       "      <td>Trade Marketing Executive</td>\n",
       "      <td>BAT · Lahore, Punjab, Pakistan  \\n1 week ago\\n...</td>\n",
       "      <td>Full-time\\n\\n \\nMid-Senior level</td>\n",
       "      <td>https://www.linkedin.com/jobs/view/3771394569</td>\n",
       "      <td>10,001+ employees · Tobacco Manufacturing</td>\n",
       "      <td>3771394569</td>\n",
       "      <td>BAT</td>\n",
       "      <td>Lahore, Punjab, Pakistan</td>\n",
       "      <td>Not specified</td>\n",
       "      <td>99</td>\n",
       "      <td>1 week ago</td>\n",
       "      <td>2</td>\n",
       "      <td>Full-time\\n\\n \\nMid-Senior level</td>\n",
       "    </tr>\n",
       "    <tr>\n",
       "      <th>15831</th>\n",
       "      <td>Performance Marketing Manager</td>\n",
       "      <td>Careem · Karāchi, Sindh, Pakistan  \\n1 week ag...</td>\n",
       "      <td>Full-time\\n\\n \\nMid-Senior level</td>\n",
       "      <td>https://www.linkedin.com/jobs/view/3767391406</td>\n",
       "      <td>1,001-5,000 employees · Software Development</td>\n",
       "      <td>3767391406</td>\n",
       "      <td>Careem</td>\n",
       "      <td>Karāchi, Sindh, Pakistan</td>\n",
       "      <td>Not specified</td>\n",
       "      <td>223</td>\n",
       "      <td>1 week ago</td>\n",
       "      <td>2</td>\n",
       "      <td>Full-time\\n\\n \\nMid-Senior level</td>\n",
       "    </tr>\n",
       "    <tr>\n",
       "      <th>15847</th>\n",
       "      <td>Brand Development Manager</td>\n",
       "      <td>BAT · Lahore, Punjab, Pakistan  \\n2 weeks ago\\...</td>\n",
       "      <td>Full-time\\n\\n \\nMid-Senior level</td>\n",
       "      <td>https://www.linkedin.com/jobs/view/3771397112</td>\n",
       "      <td>10,001+ employees · Tobacco Manufacturing</td>\n",
       "      <td>3771397112</td>\n",
       "      <td>BAT</td>\n",
       "      <td>Lahore, Punjab, Pakistan  \\n2 weeks</td>\n",
       "      <td>Not specified</td>\n",
       "      <td>62</td>\n",
       "      <td>2 weeks ago</td>\n",
       "      <td>2</td>\n",
       "      <td>Full-time\\n\\n \\nMid-Senior level</td>\n",
       "    </tr>\n",
       "    <tr>\n",
       "      <th>15859</th>\n",
       "      <td>EY Ford Rhodes | Senior Consultant, Business C...</td>\n",
       "      <td>EY in Pakistan  · Karachi Division, Sindh, Pak...</td>\n",
       "      <td>Full-time\\n\\n \\nMid-Senior level</td>\n",
       "      <td>https://www.linkedin.com/jobs/view/3767943789</td>\n",
       "      <td>1,001-5,000 employees · Accounting</td>\n",
       "      <td>3767943789</td>\n",
       "      <td>EY in Pakistan</td>\n",
       "      <td>Karachi Division, Sindh, Pakistan</td>\n",
       "      <td>Not specified</td>\n",
       "      <td>1</td>\n",
       "      <td>1 week ago</td>\n",
       "      <td>2</td>\n",
       "      <td>Full-time\\n\\n \\nMid-Senior level</td>\n",
       "    </tr>\n",
       "  </tbody>\n",
       "</table>\n",
       "<p>181 rows × 13 columns</p>\n",
       "</div>"
      ],
      "text/plain": [
       "                                               Job Title  \\\n",
       "4035                                Senior Medical Coder   \n",
       "4229                       Assistant HR Services Manager   \n",
       "4413                       CC&B Functional Administrator   \n",
       "4669                             Jr. Production Engineer   \n",
       "4677                                Purchasing Executive   \n",
       "...                                                  ...   \n",
       "15698                 IDT Application Management Analyst   \n",
       "15791                          Trade Marketing Executive   \n",
       "15831                      Performance Marketing Manager   \n",
       "15847                          Brand Development Manager   \n",
       "15859  EY Ford Rhodes | Senior Consultant, Business C...   \n",
       "\n",
       "                                                Job Info  \\\n",
       "4035   CureMD · Lahore, Punjab, Pakistan Reposted  \\n...   \n",
       "4229   BAT · Islamabad, Islāmābād, Pakistan Reposted ...   \n",
       "4413   Sui Southern Gas Company Limited · Karachi Div...   \n",
       "4669   Ingredion Incorporated · Jarānwāla, Punjab, Pa...   \n",
       "4677   BAT · Lahore, Punjab, Pakistan  \\n1 week ago\\n...   \n",
       "...                                                  ...   \n",
       "15698  BAT · Lahore, Punjab, Pakistan  \\n1 week ago\\n...   \n",
       "15791  BAT · Lahore, Punjab, Pakistan  \\n1 week ago\\n...   \n",
       "15831  Careem · Karāchi, Sindh, Pakistan  \\n1 week ag...   \n",
       "15847  BAT · Lahore, Punjab, Pakistan  \\n2 weeks ago\\...   \n",
       "15859  EY in Pakistan  · Karachi Division, Sindh, Pak...   \n",
       "\n",
       "                               Job Type  \\\n",
       "4035   Full-time\\n\\n \\nMid-Senior level   \n",
       "4229   Full-time\\n\\n \\nMid-Senior level   \n",
       "4413   Full-time\\n\\n \\nMid-Senior level   \n",
       "4669   Full-time\\n\\n \\nMid-Senior level   \n",
       "4677   Full-time\\n\\n \\nMid-Senior level   \n",
       "...                                 ...   \n",
       "15698  Full-time\\n\\n \\nMid-Senior level   \n",
       "15791  Full-time\\n\\n \\nMid-Senior level   \n",
       "15831  Full-time\\n\\n \\nMid-Senior level   \n",
       "15847  Full-time\\n\\n \\nMid-Senior level   \n",
       "15859  Full-time\\n\\n \\nMid-Senior level   \n",
       "\n",
       "                                            Job Link  \\\n",
       "4035   https://www.linkedin.com/jobs/view/3734776775   \n",
       "4229   https://www.linkedin.com/jobs/view/3720206722   \n",
       "4413   https://www.linkedin.com/jobs/view/3735937627   \n",
       "4669   https://www.linkedin.com/jobs/view/3706694491   \n",
       "4677   https://www.linkedin.com/jobs/view/3736996248   \n",
       "...                                              ...   \n",
       "15698  https://www.linkedin.com/jobs/view/3772801246   \n",
       "15791  https://www.linkedin.com/jobs/view/3771394569   \n",
       "15831  https://www.linkedin.com/jobs/view/3767391406   \n",
       "15847  https://www.linkedin.com/jobs/view/3771397112   \n",
       "15859  https://www.linkedin.com/jobs/view/3767943789   \n",
       "\n",
       "                                            employees      Job ID  \\\n",
       "4035     1,001-5,000 employees · Software Development  3734776775   \n",
       "4229        10,001+ employees · Tobacco Manufacturing  3720206722   \n",
       "4413               5,001-10,000 employees · Utilities  3735937627   \n",
       "4669   10,001+ employees · Food and Beverage Services  3706694491   \n",
       "4677        10,001+ employees · Tobacco Manufacturing  3736996248   \n",
       "...                                               ...         ...   \n",
       "15698       10,001+ employees · Tobacco Manufacturing  3772801246   \n",
       "15791       10,001+ employees · Tobacco Manufacturing  3771394569   \n",
       "15831    1,001-5,000 employees · Software Development  3767391406   \n",
       "15847       10,001+ employees · Tobacco Manufacturing  3771397112   \n",
       "15859              1,001-5,000 employees · Accounting  3767943789   \n",
       "\n",
       "                                 company  \\\n",
       "4035                             CureMD    \n",
       "4229                                BAT    \n",
       "4413   Sui Southern Gas Company Limited    \n",
       "4669             Ingredion Incorporated    \n",
       "4677                                BAT    \n",
       "...                                  ...   \n",
       "15698                               BAT    \n",
       "15791                               BAT    \n",
       "15831                            Careem    \n",
       "15847                               BAT    \n",
       "15859                   EY in Pakistan     \n",
       "\n",
       "                                          location  Remote/Onsite n_applicant  \\\n",
       "4035   Lahore, Punjab, Pakistan Reposted  \\n4 days  Not specified          57   \n",
       "4229       Islamabad, Islāmābād, Pakistan Reposted  Not specified       1,579   \n",
       "4413             Karachi Division, Sindh, Pakistan  Not specified          14   \n",
       "4669          Jarānwāla, Punjab, Pakistan Reposted  Not specified         555   \n",
       "4677                      Lahore, Punjab, Pakistan  Not specified         340   \n",
       "...                                            ...            ...         ...   \n",
       "15698                     Lahore, Punjab, Pakistan  Not specified           6   \n",
       "15791                     Lahore, Punjab, Pakistan  Not specified          99   \n",
       "15831                     Karāchi, Sindh, Pakistan  Not specified         223   \n",
       "15847          Lahore, Punjab, Pakistan  \\n2 weeks  Not specified          62   \n",
       "15859            Karachi Division, Sindh, Pakistan  Not specified           1   \n",
       "\n",
       "      job posting time  Job Type nElements                          Job-Type  \n",
       "4035        4 days ago                   2  Full-time\\n\\n \\nMid-Senior level  \n",
       "4229        1 week ago                   2  Full-time\\n\\n \\nMid-Senior level  \n",
       "4413        1 week ago                   2  Full-time\\n\\n \\nMid-Senior level  \n",
       "4669        1 week ago                   2  Full-time\\n\\n \\nMid-Senior level  \n",
       "4677        1 week ago                   2  Full-time\\n\\n \\nMid-Senior level  \n",
       "...                ...                 ...                               ...  \n",
       "15698       1 week ago                   2  Full-time\\n\\n \\nMid-Senior level  \n",
       "15791       1 week ago                   2  Full-time\\n\\n \\nMid-Senior level  \n",
       "15831       1 week ago                   2  Full-time\\n\\n \\nMid-Senior level  \n",
       "15847      2 weeks ago                   2  Full-time\\n\\n \\nMid-Senior level  \n",
       "15859       1 week ago                   2  Full-time\\n\\n \\nMid-Senior level  \n",
       "\n",
       "[181 rows x 13 columns]"
      ]
     },
     "execution_count": 176,
     "metadata": {},
     "output_type": "execute_result"
    }
   ],
   "source": [
    "df[df['Job Type']=='Full-time\\n\\n \\nMid-Senior level']"
   ]
  },
  {
   "cell_type": "code",
   "execution_count": 177,
   "id": "3f78db3e-9934-41be-8823-5349be5fbe60",
   "metadata": {},
   "outputs": [
    {
     "data": {
      "text/html": [
       "<div>\n",
       "<style scoped>\n",
       "    .dataframe tbody tr th:only-of-type {\n",
       "        vertical-align: middle;\n",
       "    }\n",
       "\n",
       "    .dataframe tbody tr th {\n",
       "        vertical-align: top;\n",
       "    }\n",
       "\n",
       "    .dataframe thead th {\n",
       "        text-align: right;\n",
       "    }\n",
       "</style>\n",
       "<table border=\"1\" class=\"dataframe\">\n",
       "  <thead>\n",
       "    <tr style=\"text-align: right;\">\n",
       "      <th></th>\n",
       "      <th>Job Title</th>\n",
       "      <th>Job Info</th>\n",
       "      <th>Job Type</th>\n",
       "      <th>Job Link</th>\n",
       "      <th>employees</th>\n",
       "      <th>Job ID</th>\n",
       "      <th>company</th>\n",
       "      <th>location</th>\n",
       "      <th>Remote/Onsite</th>\n",
       "      <th>n_applicant</th>\n",
       "      <th>job posting time</th>\n",
       "      <th>Job Type nElements</th>\n",
       "      <th>Job-Type</th>\n",
       "    </tr>\n",
       "  </thead>\n",
       "  <tbody>\n",
       "    <tr>\n",
       "      <th>3212</th>\n",
       "      <td>Line Lead</td>\n",
       "      <td>Philip Morris International · Sahiwal, Punjab,...</td>\n",
       "      <td>10,001+ employees · Tobacco Manufacturing</td>\n",
       "      <td>https://www.linkedin.com/jobs/view/3734692138</td>\n",
       "      <td>7 school alumni work here</td>\n",
       "      <td>3734692138</td>\n",
       "      <td>Philip Morris International</td>\n",
       "      <td>Sahiwal, Punjab, Pakistan</td>\n",
       "      <td>On-site</td>\n",
       "      <td>198</td>\n",
       "      <td>5 days ago</td>\n",
       "      <td>2</td>\n",
       "      <td>10,001+ employees</td>\n",
       "    </tr>\n",
       "  </tbody>\n",
       "</table>\n",
       "</div>"
      ],
      "text/plain": [
       "      Job Title                                           Job Info  \\\n",
       "3212  Line Lead  Philip Morris International · Sahiwal, Punjab,...   \n",
       "\n",
       "                                       Job Type  \\\n",
       "3212  10,001+ employees · Tobacco Manufacturing   \n",
       "\n",
       "                                           Job Link  \\\n",
       "3212  https://www.linkedin.com/jobs/view/3734692138   \n",
       "\n",
       "                      employees      Job ID                       company  \\\n",
       "3212  7 school alumni work here  3734692138  Philip Morris International    \n",
       "\n",
       "                       location Remote/Onsite n_applicant job posting time  \\\n",
       "3212  Sahiwal, Punjab, Pakistan       On-site         198       5 days ago   \n",
       "\n",
       "      Job Type nElements            Job-Type  \n",
       "3212                   2  10,001+ employees   "
      ]
     },
     "execution_count": 177,
     "metadata": {},
     "output_type": "execute_result"
    }
   ],
   "source": [
    "df[df['Job Type']=='10,001+ employees · Tobacco Manufacturing']"
   ]
  },
  {
   "cell_type": "code",
   "execution_count": 178,
   "id": "1eaa3a24-5c56-47a0-9610-f05e73b890e9",
   "metadata": {},
   "outputs": [
    {
     "data": {
      "text/html": [
       "<div>\n",
       "<style scoped>\n",
       "    .dataframe tbody tr th:only-of-type {\n",
       "        vertical-align: middle;\n",
       "    }\n",
       "\n",
       "    .dataframe tbody tr th {\n",
       "        vertical-align: top;\n",
       "    }\n",
       "\n",
       "    .dataframe thead th {\n",
       "        text-align: right;\n",
       "    }\n",
       "</style>\n",
       "<table border=\"1\" class=\"dataframe\">\n",
       "  <thead>\n",
       "    <tr style=\"text-align: right;\">\n",
       "      <th></th>\n",
       "      <th>Job Title</th>\n",
       "      <th>Job Info</th>\n",
       "      <th>Job Type</th>\n",
       "      <th>Job Link</th>\n",
       "      <th>employees</th>\n",
       "      <th>Job ID</th>\n",
       "      <th>company</th>\n",
       "      <th>location</th>\n",
       "      <th>Remote/Onsite</th>\n",
       "      <th>n_applicant</th>\n",
       "      <th>job posting time</th>\n",
       "      <th>Job Type nElements</th>\n",
       "      <th>Job-Type</th>\n",
       "    </tr>\n",
       "  </thead>\n",
       "  <tbody>\n",
       "    <tr>\n",
       "      <th>250</th>\n",
       "      <td>Wordpress Developer</td>\n",
       "      <td>NeuroCare.AI · Pakistan (Remote)  \\n2 weeks ago</td>\n",
       "      <td>$150/month - $300/month · Full-time</td>\n",
       "      <td>https://www.linkedin.com/jobs/view/3724308929/...</td>\n",
       "      <td>11-50 employees</td>\n",
       "      <td>3724308929</td>\n",
       "      <td>NeuroCare.AI</td>\n",
       "      <td>Pakistan</td>\n",
       "      <td>Remote</td>\n",
       "      <td>NaN</td>\n",
       "      <td>2 weeks ago</td>\n",
       "      <td>2</td>\n",
       "      <td>$150/month - $300/month</td>\n",
       "    </tr>\n",
       "    <tr>\n",
       "      <th>1894</th>\n",
       "      <td>Client Success Specialist</td>\n",
       "      <td>Cedar Financial · Lahore, Punjab, Pakistan (On...</td>\n",
       "      <td>$200,000/yr · Full-time</td>\n",
       "      <td>https://www.linkedin.com/jobs/view/3730671133</td>\n",
       "      <td>51-200 employees</td>\n",
       "      <td>3730671133</td>\n",
       "      <td>Cedar Financial</td>\n",
       "      <td>Lahore, Punjab, Pakistan</td>\n",
       "      <td>On-site</td>\n",
       "      <td>NaN</td>\n",
       "      <td>1 week ago</td>\n",
       "      <td>2</td>\n",
       "      <td>$200,000/yr</td>\n",
       "    </tr>\n",
       "    <tr>\n",
       "      <th>3212</th>\n",
       "      <td>Line Lead</td>\n",
       "      <td>Philip Morris International · Sahiwal, Punjab,...</td>\n",
       "      <td>10,001+ employees · Tobacco Manufacturing</td>\n",
       "      <td>https://www.linkedin.com/jobs/view/3734692138</td>\n",
       "      <td>7 school alumni work here</td>\n",
       "      <td>3734692138</td>\n",
       "      <td>Philip Morris International</td>\n",
       "      <td>Sahiwal, Punjab, Pakistan</td>\n",
       "      <td>On-site</td>\n",
       "      <td>198</td>\n",
       "      <td>5 days ago</td>\n",
       "      <td>2</td>\n",
       "      <td>10,001+ employees</td>\n",
       "    </tr>\n",
       "    <tr>\n",
       "      <th>4035</th>\n",
       "      <td>Senior Medical Coder</td>\n",
       "      <td>CureMD · Lahore, Punjab, Pakistan Reposted  \\n...</td>\n",
       "      <td>Full-time\\n\\n \\nMid-Senior level</td>\n",
       "      <td>https://www.linkedin.com/jobs/view/3734776775</td>\n",
       "      <td>1,001-5,000 employees · Software Development</td>\n",
       "      <td>3734776775</td>\n",
       "      <td>CureMD</td>\n",
       "      <td>Lahore, Punjab, Pakistan Reposted  \\n4 days</td>\n",
       "      <td>Not specified</td>\n",
       "      <td>57</td>\n",
       "      <td>4 days ago</td>\n",
       "      <td>2</td>\n",
       "      <td>Full-time\\n\\n \\nMid-Senior level</td>\n",
       "    </tr>\n",
       "    <tr>\n",
       "      <th>4229</th>\n",
       "      <td>Assistant HR Services Manager</td>\n",
       "      <td>BAT · Islamabad, Islāmābād, Pakistan Reposted ...</td>\n",
       "      <td>Full-time\\n\\n \\nMid-Senior level</td>\n",
       "      <td>https://www.linkedin.com/jobs/view/3720206722</td>\n",
       "      <td>10,001+ employees · Tobacco Manufacturing</td>\n",
       "      <td>3720206722</td>\n",
       "      <td>BAT</td>\n",
       "      <td>Islamabad, Islāmābād, Pakistan Reposted</td>\n",
       "      <td>Not specified</td>\n",
       "      <td>1,579</td>\n",
       "      <td>1 week ago</td>\n",
       "      <td>2</td>\n",
       "      <td>Full-time\\n\\n \\nMid-Senior level</td>\n",
       "    </tr>\n",
       "    <tr>\n",
       "      <th>...</th>\n",
       "      <td>...</td>\n",
       "      <td>...</td>\n",
       "      <td>...</td>\n",
       "      <td>...</td>\n",
       "      <td>...</td>\n",
       "      <td>...</td>\n",
       "      <td>...</td>\n",
       "      <td>...</td>\n",
       "      <td>...</td>\n",
       "      <td>...</td>\n",
       "      <td>...</td>\n",
       "      <td>...</td>\n",
       "      <td>...</td>\n",
       "    </tr>\n",
       "    <tr>\n",
       "      <th>15698</th>\n",
       "      <td>IDT Application Management Analyst</td>\n",
       "      <td>BAT · Lahore, Punjab, Pakistan  \\n1 week ago\\n...</td>\n",
       "      <td>Full-time\\n\\n \\nMid-Senior level</td>\n",
       "      <td>https://www.linkedin.com/jobs/view/3772801246</td>\n",
       "      <td>10,001+ employees · Tobacco Manufacturing</td>\n",
       "      <td>3772801246</td>\n",
       "      <td>BAT</td>\n",
       "      <td>Lahore, Punjab, Pakistan</td>\n",
       "      <td>Not specified</td>\n",
       "      <td>6</td>\n",
       "      <td>1 week ago</td>\n",
       "      <td>2</td>\n",
       "      <td>Full-time\\n\\n \\nMid-Senior level</td>\n",
       "    </tr>\n",
       "    <tr>\n",
       "      <th>15791</th>\n",
       "      <td>Trade Marketing Executive</td>\n",
       "      <td>BAT · Lahore, Punjab, Pakistan  \\n1 week ago\\n...</td>\n",
       "      <td>Full-time\\n\\n \\nMid-Senior level</td>\n",
       "      <td>https://www.linkedin.com/jobs/view/3771394569</td>\n",
       "      <td>10,001+ employees · Tobacco Manufacturing</td>\n",
       "      <td>3771394569</td>\n",
       "      <td>BAT</td>\n",
       "      <td>Lahore, Punjab, Pakistan</td>\n",
       "      <td>Not specified</td>\n",
       "      <td>99</td>\n",
       "      <td>1 week ago</td>\n",
       "      <td>2</td>\n",
       "      <td>Full-time\\n\\n \\nMid-Senior level</td>\n",
       "    </tr>\n",
       "    <tr>\n",
       "      <th>15831</th>\n",
       "      <td>Performance Marketing Manager</td>\n",
       "      <td>Careem · Karāchi, Sindh, Pakistan  \\n1 week ag...</td>\n",
       "      <td>Full-time\\n\\n \\nMid-Senior level</td>\n",
       "      <td>https://www.linkedin.com/jobs/view/3767391406</td>\n",
       "      <td>1,001-5,000 employees · Software Development</td>\n",
       "      <td>3767391406</td>\n",
       "      <td>Careem</td>\n",
       "      <td>Karāchi, Sindh, Pakistan</td>\n",
       "      <td>Not specified</td>\n",
       "      <td>223</td>\n",
       "      <td>1 week ago</td>\n",
       "      <td>2</td>\n",
       "      <td>Full-time\\n\\n \\nMid-Senior level</td>\n",
       "    </tr>\n",
       "    <tr>\n",
       "      <th>15847</th>\n",
       "      <td>Brand Development Manager</td>\n",
       "      <td>BAT · Lahore, Punjab, Pakistan  \\n2 weeks ago\\...</td>\n",
       "      <td>Full-time\\n\\n \\nMid-Senior level</td>\n",
       "      <td>https://www.linkedin.com/jobs/view/3771397112</td>\n",
       "      <td>10,001+ employees · Tobacco Manufacturing</td>\n",
       "      <td>3771397112</td>\n",
       "      <td>BAT</td>\n",
       "      <td>Lahore, Punjab, Pakistan  \\n2 weeks</td>\n",
       "      <td>Not specified</td>\n",
       "      <td>62</td>\n",
       "      <td>2 weeks ago</td>\n",
       "      <td>2</td>\n",
       "      <td>Full-time\\n\\n \\nMid-Senior level</td>\n",
       "    </tr>\n",
       "    <tr>\n",
       "      <th>15859</th>\n",
       "      <td>EY Ford Rhodes | Senior Consultant, Business C...</td>\n",
       "      <td>EY in Pakistan  · Karachi Division, Sindh, Pak...</td>\n",
       "      <td>Full-time\\n\\n \\nMid-Senior level</td>\n",
       "      <td>https://www.linkedin.com/jobs/view/3767943789</td>\n",
       "      <td>1,001-5,000 employees · Accounting</td>\n",
       "      <td>3767943789</td>\n",
       "      <td>EY in Pakistan</td>\n",
       "      <td>Karachi Division, Sindh, Pakistan</td>\n",
       "      <td>Not specified</td>\n",
       "      <td>1</td>\n",
       "      <td>1 week ago</td>\n",
       "      <td>2</td>\n",
       "      <td>Full-time\\n\\n \\nMid-Senior level</td>\n",
       "    </tr>\n",
       "  </tbody>\n",
       "</table>\n",
       "<p>184 rows × 13 columns</p>\n",
       "</div>"
      ],
      "text/plain": [
       "                                               Job Title  \\\n",
       "250                                  Wordpress Developer   \n",
       "1894                           Client Success Specialist   \n",
       "3212                                           Line Lead   \n",
       "4035                                Senior Medical Coder   \n",
       "4229                       Assistant HR Services Manager   \n",
       "...                                                  ...   \n",
       "15698                 IDT Application Management Analyst   \n",
       "15791                          Trade Marketing Executive   \n",
       "15831                      Performance Marketing Manager   \n",
       "15847                          Brand Development Manager   \n",
       "15859  EY Ford Rhodes | Senior Consultant, Business C...   \n",
       "\n",
       "                                                Job Info  \\\n",
       "250      NeuroCare.AI · Pakistan (Remote)  \\n2 weeks ago   \n",
       "1894   Cedar Financial · Lahore, Punjab, Pakistan (On...   \n",
       "3212   Philip Morris International · Sahiwal, Punjab,...   \n",
       "4035   CureMD · Lahore, Punjab, Pakistan Reposted  \\n...   \n",
       "4229   BAT · Islamabad, Islāmābād, Pakistan Reposted ...   \n",
       "...                                                  ...   \n",
       "15698  BAT · Lahore, Punjab, Pakistan  \\n1 week ago\\n...   \n",
       "15791  BAT · Lahore, Punjab, Pakistan  \\n1 week ago\\n...   \n",
       "15831  Careem · Karāchi, Sindh, Pakistan  \\n1 week ag...   \n",
       "15847  BAT · Lahore, Punjab, Pakistan  \\n2 weeks ago\\...   \n",
       "15859  EY in Pakistan  · Karachi Division, Sindh, Pak...   \n",
       "\n",
       "                                        Job Type  \\\n",
       "250          $150/month - $300/month · Full-time   \n",
       "1894                     $200,000/yr · Full-time   \n",
       "3212   10,001+ employees · Tobacco Manufacturing   \n",
       "4035            Full-time\\n\\n \\nMid-Senior level   \n",
       "4229            Full-time\\n\\n \\nMid-Senior level   \n",
       "...                                          ...   \n",
       "15698           Full-time\\n\\n \\nMid-Senior level   \n",
       "15791           Full-time\\n\\n \\nMid-Senior level   \n",
       "15831           Full-time\\n\\n \\nMid-Senior level   \n",
       "15847           Full-time\\n\\n \\nMid-Senior level   \n",
       "15859           Full-time\\n\\n \\nMid-Senior level   \n",
       "\n",
       "                                                Job Link  \\\n",
       "250    https://www.linkedin.com/jobs/view/3724308929/...   \n",
       "1894       https://www.linkedin.com/jobs/view/3730671133   \n",
       "3212       https://www.linkedin.com/jobs/view/3734692138   \n",
       "4035       https://www.linkedin.com/jobs/view/3734776775   \n",
       "4229       https://www.linkedin.com/jobs/view/3720206722   \n",
       "...                                                  ...   \n",
       "15698      https://www.linkedin.com/jobs/view/3772801246   \n",
       "15791      https://www.linkedin.com/jobs/view/3771394569   \n",
       "15831      https://www.linkedin.com/jobs/view/3767391406   \n",
       "15847      https://www.linkedin.com/jobs/view/3771397112   \n",
       "15859      https://www.linkedin.com/jobs/view/3767943789   \n",
       "\n",
       "                                          employees      Job ID  \\\n",
       "250                                 11-50 employees  3724308929   \n",
       "1894                               51-200 employees  3730671133   \n",
       "3212                      7 school alumni work here  3734692138   \n",
       "4035   1,001-5,000 employees · Software Development  3734776775   \n",
       "4229      10,001+ employees · Tobacco Manufacturing  3720206722   \n",
       "...                                             ...         ...   \n",
       "15698     10,001+ employees · Tobacco Manufacturing  3772801246   \n",
       "15791     10,001+ employees · Tobacco Manufacturing  3771394569   \n",
       "15831  1,001-5,000 employees · Software Development  3767391406   \n",
       "15847     10,001+ employees · Tobacco Manufacturing  3771397112   \n",
       "15859            1,001-5,000 employees · Accounting  3767943789   \n",
       "\n",
       "                            company  \\\n",
       "250                   NeuroCare.AI    \n",
       "1894               Cedar Financial    \n",
       "3212   Philip Morris International    \n",
       "4035                        CureMD    \n",
       "4229                           BAT    \n",
       "...                             ...   \n",
       "15698                          BAT    \n",
       "15791                          BAT    \n",
       "15831                       Careem    \n",
       "15847                          BAT    \n",
       "15859              EY in Pakistan     \n",
       "\n",
       "                                          location  Remote/Onsite n_applicant  \\\n",
       "250                                       Pakistan         Remote         NaN   \n",
       "1894                      Lahore, Punjab, Pakistan        On-site         NaN   \n",
       "3212                     Sahiwal, Punjab, Pakistan        On-site         198   \n",
       "4035   Lahore, Punjab, Pakistan Reposted  \\n4 days  Not specified          57   \n",
       "4229       Islamabad, Islāmābād, Pakistan Reposted  Not specified       1,579   \n",
       "...                                            ...            ...         ...   \n",
       "15698                     Lahore, Punjab, Pakistan  Not specified           6   \n",
       "15791                     Lahore, Punjab, Pakistan  Not specified          99   \n",
       "15831                     Karāchi, Sindh, Pakistan  Not specified         223   \n",
       "15847          Lahore, Punjab, Pakistan  \\n2 weeks  Not specified          62   \n",
       "15859            Karachi Division, Sindh, Pakistan  Not specified           1   \n",
       "\n",
       "      job posting time  Job Type nElements                          Job-Type  \n",
       "250        2 weeks ago                   2          $150/month - $300/month   \n",
       "1894        1 week ago                   2                      $200,000/yr   \n",
       "3212        5 days ago                   2                10,001+ employees   \n",
       "4035        4 days ago                   2  Full-time\\n\\n \\nMid-Senior level  \n",
       "4229        1 week ago                   2  Full-time\\n\\n \\nMid-Senior level  \n",
       "...                ...                 ...                               ...  \n",
       "15698       1 week ago                   2  Full-time\\n\\n \\nMid-Senior level  \n",
       "15791       1 week ago                   2  Full-time\\n\\n \\nMid-Senior level  \n",
       "15831       1 week ago                   2  Full-time\\n\\n \\nMid-Senior level  \n",
       "15847      2 weeks ago                   2  Full-time\\n\\n \\nMid-Senior level  \n",
       "15859       1 week ago                   2  Full-time\\n\\n \\nMid-Senior level  \n",
       "\n",
       "[184 rows x 13 columns]"
      ]
     },
     "execution_count": 178,
     "metadata": {},
     "output_type": "execute_result"
    }
   ],
   "source": [
    "df[df['Job Type'].isin(inconsistant_Job_Type_Elements_2)]"
   ]
  },
  {
   "cell_type": "code",
   "execution_count": 179,
   "id": "aca6f12b-c74a-44fa-937c-60696ba79e7e",
   "metadata": {},
   "outputs": [
    {
     "data": {
      "text/plain": [
       "184"
      ]
     },
     "execution_count": 179,
     "metadata": {},
     "output_type": "execute_result"
    }
   ],
   "source": [
    "len(df[df['Job Type'].isin(inconsistant_Job_Type_Elements_2)])"
   ]
  },
  {
   "cell_type": "code",
   "execution_count": 180,
   "id": "e0102f57-e225-47f5-9ed0-318cb65bb840",
   "metadata": {},
   "outputs": [
    {
     "data": {
      "text/plain": [
       "array(['$12,000/yr - $15,000/yr · Full-time · Mid-Senior level',\n",
       "       'On-site\\n\\n \\nFull-time\\n\\n \\nMid-Senior level',\n",
       "       'Hybrid\\n\\n \\nFull-time\\n\\n \\nMid-Senior level',\n",
       "       'Remote\\n\\n \\nFull-time\\n\\n \\nMid-Senior level',\n",
       "       'On-site\\n\\n \\nFull-time\\n\\n \\nAssociate',\n",
       "       'Hybrid\\n\\n \\nFull-time\\n\\n \\nEntry level',\n",
       "       'Hybrid\\n\\n \\nFull-time\\n\\n \\nDirector',\n",
       "       'On-site\\n\\n \\nFull-time\\n\\n \\nEntry level',\n",
       "       'Hybrid\\n\\n \\nFull-time\\n\\n \\nAssociate',\n",
       "       'Remote\\n\\n \\nContract\\n\\n \\nMid-Senior level',\n",
       "       'On-site\\n\\n \\nFull-time\\n\\n \\nDirector',\n",
       "       'On-site\\n\\n \\nFull-time\\n\\n \\nExecutive',\n",
       "       'Remote\\n\\n \\nFull-time\\n\\n \\nEntry level',\n",
       "       'On-site\\n\\n \\nContract\\n\\n \\nMid-Senior level',\n",
       "       'Remote\\n\\n \\nFull-time\\n\\n \\nAssociate',\n",
       "       'On-site\\n\\n \\nContract\\n\\n \\nEntry level',\n",
       "       'On-site\\n\\n \\nFull-time\\n\\n \\nInternship',\n",
       "       'Remote\\n\\n \\nPart-time\\n\\n \\nAssociate',\n",
       "       'Remote\\n\\n \\nContract\\n\\n \\nEntry level',\n",
       "       'On-site\\n\\n \\nContract\\n\\n \\nAssociate',\n",
       "       'Remote\\n\\n \\nFull-time\\n\\n \\nDirector',\n",
       "       'On-site\\n\\n \\nContract\\n\\n \\nInternship',\n",
       "       'Remote\\n\\n \\nInternship\\n\\n \\nMid-Senior level',\n",
       "       'Hybrid\\n\\n \\nContract\\n\\n \\nMid-Senior level',\n",
       "       'Remote\\n\\n \\nPart-time\\n\\n \\nEntry level',\n",
       "       'Remote\\n\\n \\nPart-time\\n\\n \\nExecutive',\n",
       "       'On-site\\n\\n \\nInternship\\n\\n \\nEntry level',\n",
       "       'Remote\\n\\n \\nFull-time\\n\\n \\nExecutive',\n",
       "       'On-site\\n\\n \\nInternship\\n\\n \\nInternship',\n",
       "       'On-site\\n\\n \\nPart-time\\n\\n \\nEntry level',\n",
       "       'Hybrid\\n\\n \\nContract\\n\\n \\nEntry level',\n",
       "       '$180/month - $250/month\\n\\n \\nRemote\\n\\n \\nFull-time',\n",
       "       'Remote\\n\\n \\nContract\\n\\n \\nAssociate',\n",
       "       'Remote\\n\\n \\nTemporary\\n\\n \\nEntry level',\n",
       "       'On-site\\n\\n \\nContract\\n\\n \\nExecutive',\n",
       "       '$1,500/month - $1,800/month\\n\\n \\nRemote\\n\\n \\nFull-time',\n",
       "       '$500/month - $1,000/month\\n\\n \\nHybrid\\n\\n \\nContract',\n",
       "       'Remote\\n\\n \\nPart-time\\n\\n \\nMid-Senior level',\n",
       "       '$30,000/month - $60,000/month\\n\\n \\nHybrid\\n\\n \\nFull-time',\n",
       "       'Remote\\n\\n \\nPart-time\\n\\n \\nDirector',\n",
       "       'Hybrid\\n\\n \\nContract\\n\\n \\nInternship',\n",
       "       'On-site\\n\\n \\nPart-time\\n\\n \\nMid-Senior level',\n",
       "       'On-site\\n\\n \\nTemporary\\n\\n \\nEntry level',\n",
       "       'Hybrid\\n\\n \\nInternship\\n\\n \\nInternship',\n",
       "       'Remote\\n\\n \\nInternship\\n\\n \\nInternship',\n",
       "       '$1,000/month - $2,500/month\\n\\n \\nOn-site\\n\\n \\nFull-time',\n",
       "       '$50,000/month - $70,000/month + Commission\\n\\n \\nOn-site\\n\\n \\nFull-time',\n",
       "       'On-site\\n\\n \\nInternship\\n\\n \\nDirector',\n",
       "       'Hybrid\\n\\n \\nFull-time\\n\\n \\nExecutive',\n",
       "       'On-site\\n\\n \\nTemporary\\n\\n \\nInternship',\n",
       "       'Hybrid\\n\\n \\nFull-time\\n\\n \\nInternship',\n",
       "       'On-site\\n\\n \\nTemporary\\n\\n \\nMid-Senior level',\n",
       "       'Hybrid\\n\\n \\nInternship\\n\\n \\nMid-Senior level'], dtype=object)"
      ]
     },
     "execution_count": 180,
     "metadata": {},
     "output_type": "execute_result"
    }
   ],
   "source": [
    "df[df['Job Type nElements']==3]['Job Type'].unique()"
   ]
  },
  {
   "cell_type": "code",
   "execution_count": 181,
   "id": "96a5463b-175c-4090-bb1f-e131a9120998",
   "metadata": {},
   "outputs": [
    {
     "data": {
      "text/plain": [
       "53"
      ]
     },
     "execution_count": 181,
     "metadata": {},
     "output_type": "execute_result"
    }
   ],
   "source": [
    "len(df[df['Job Type nElements']==3]['Job Type'].unique())"
   ]
  },
  {
   "cell_type": "code",
   "execution_count": 182,
   "id": "ff81ed81-bb97-403d-b7d5-b57ab58b3922",
   "metadata": {},
   "outputs": [
    {
     "data": {
      "text/plain": [
       "['$12,000/yr - $15,000/yr · Full-time · Mid-Senior level']"
      ]
     },
     "execution_count": 182,
     "metadata": {},
     "output_type": "execute_result"
    }
   ],
   "source": [
    "inconsistant_Job_Type_Elements_3=['$12,000/yr - $15,000/yr · Full-time · Mid-Senior level']\n",
    "inconsistant_Job_Type_Elements_3"
   ]
  },
  {
   "cell_type": "code",
   "execution_count": 183,
   "id": "fe016a3f-53bf-408f-a8e1-721d543a6f9b",
   "metadata": {},
   "outputs": [
    {
     "data": {
      "text/html": [
       "<div>\n",
       "<style scoped>\n",
       "    .dataframe tbody tr th:only-of-type {\n",
       "        vertical-align: middle;\n",
       "    }\n",
       "\n",
       "    .dataframe tbody tr th {\n",
       "        vertical-align: top;\n",
       "    }\n",
       "\n",
       "    .dataframe thead th {\n",
       "        text-align: right;\n",
       "    }\n",
       "</style>\n",
       "<table border=\"1\" class=\"dataframe\">\n",
       "  <thead>\n",
       "    <tr style=\"text-align: right;\">\n",
       "      <th></th>\n",
       "      <th>Job Title</th>\n",
       "      <th>Job Info</th>\n",
       "      <th>Job Type</th>\n",
       "      <th>Job Link</th>\n",
       "      <th>employees</th>\n",
       "      <th>Job ID</th>\n",
       "      <th>company</th>\n",
       "      <th>location</th>\n",
       "      <th>Remote/Onsite</th>\n",
       "      <th>n_applicant</th>\n",
       "      <th>job posting time</th>\n",
       "      <th>Job Type nElements</th>\n",
       "      <th>Job-Type</th>\n",
       "    </tr>\n",
       "  </thead>\n",
       "  <tbody>\n",
       "    <tr>\n",
       "      <th>1876</th>\n",
       "      <td>Operations &amp; Logistics Project Manager</td>\n",
       "      <td>Ridge · Pakistan (Remote)  \\n1 week ago\\n\\n · ...</td>\n",
       "      <td>$12,000/yr - $15,000/yr · Full-time · Mid-Seni...</td>\n",
       "      <td>https://www.linkedin.com/jobs/view/3730353203</td>\n",
       "      <td>51-200 employees · Retail Luxury Goods and Jew...</td>\n",
       "      <td>3730353203</td>\n",
       "      <td>Ridge</td>\n",
       "      <td>Pakistan</td>\n",
       "      <td>Remote</td>\n",
       "      <td>898</td>\n",
       "      <td>1 week ago</td>\n",
       "      <td>3</td>\n",
       "      <td>$12,000/yr - $15,000/yr</td>\n",
       "    </tr>\n",
       "  </tbody>\n",
       "</table>\n",
       "</div>"
      ],
      "text/plain": [
       "                                   Job Title  \\\n",
       "1876  Operations & Logistics Project Manager   \n",
       "\n",
       "                                               Job Info  \\\n",
       "1876  Ridge · Pakistan (Remote)  \\n1 week ago\\n\\n · ...   \n",
       "\n",
       "                                               Job Type  \\\n",
       "1876  $12,000/yr - $15,000/yr · Full-time · Mid-Seni...   \n",
       "\n",
       "                                           Job Link  \\\n",
       "1876  https://www.linkedin.com/jobs/view/3730353203   \n",
       "\n",
       "                                              employees      Job ID company  \\\n",
       "1876  51-200 employees · Retail Luxury Goods and Jew...  3730353203  Ridge    \n",
       "\n",
       "      location Remote/Onsite n_applicant job posting time  Job Type nElements  \\\n",
       "1876  Pakistan        Remote         898       1 week ago                   3   \n",
       "\n",
       "                      Job-Type  \n",
       "1876  $12,000/yr - $15,000/yr   "
      ]
     },
     "execution_count": 183,
     "metadata": {},
     "output_type": "execute_result"
    }
   ],
   "source": [
    "df[df['Job Type'].isin(inconsistant_Job_Type_Elements_3)]"
   ]
  },
  {
   "cell_type": "code",
   "execution_count": 184,
   "id": "79b9cd8d-9673-4b1d-ae30-db87324347b0",
   "metadata": {},
   "outputs": [
    {
     "data": {
      "text/plain": [
       "1"
      ]
     },
     "execution_count": 184,
     "metadata": {},
     "output_type": "execute_result"
    }
   ],
   "source": [
    "len(df[df['Job Type'].isin(inconsistant_Job_Type_Elements_3)])"
   ]
  },
  {
   "cell_type": "code",
   "execution_count": 185,
   "id": "f61346b0-f4ab-4040-b492-8749ffe27909",
   "metadata": {},
   "outputs": [
    {
     "data": {
      "text/plain": [
       "array(['Mr Ahsan is hiring for this job',\n",
       "       'Sean Sato is hiring for this job',\n",
       "       'dr.ry. L. is hiring for this job'], dtype=object)"
      ]
     },
     "execution_count": 185,
     "metadata": {},
     "output_type": "execute_result"
    }
   ],
   "source": [
    "df[df['Job Type nElements']==7]['Job Type'].unique()"
   ]
  },
  {
   "cell_type": "code",
   "execution_count": 186,
   "id": "86199597-ac03-4227-99c0-c00f8ea776ec",
   "metadata": {},
   "outputs": [
    {
     "data": {
      "text/plain": [
       "3"
      ]
     },
     "execution_count": 186,
     "metadata": {},
     "output_type": "execute_result"
    }
   ],
   "source": [
    "len(df[df['Job Type nElements']==7]['Job Type'].unique())"
   ]
  },
  {
   "cell_type": "code",
   "execution_count": 187,
   "id": "fdee3812-8687-46f5-8ff0-05450b0e21e9",
   "metadata": {},
   "outputs": [
    {
     "data": {
      "text/plain": [
       "False"
      ]
     },
     "execution_count": 187,
     "metadata": {},
     "output_type": "execute_result"
    }
   ],
   "source": [
    "'Executive' not in inconsistant_Job_Type_Elements_1"
   ]
  },
  {
   "cell_type": "code",
   "execution_count": 188,
   "id": "0d4623d2-c39c-4b02-9b58-a7f5732cb257",
   "metadata": {},
   "outputs": [
    {
     "data": {
      "text/plain": [
       "True"
      ]
     },
     "execution_count": 188,
     "metadata": {},
     "output_type": "execute_result"
    }
   ],
   "source": [
    "'·' in 'Full-time · Mid-Senior level'"
   ]
  },
  {
   "cell_type": "code",
   "execution_count": 189,
   "id": "e1309257-94e0-4119-9779-56b98995b163",
   "metadata": {},
   "outputs": [
    {
     "data": {
      "text/plain": [
       "'Full-time '"
      ]
     },
     "execution_count": 189,
     "metadata": {},
     "output_type": "execute_result"
    }
   ],
   "source": [
    "'Full-time · Mid-Senior level'.split('·')[0]"
   ]
  },
  {
   "cell_type": "code",
   "execution_count": 190,
   "id": "1c03af5e-fade-4f7a-98e0-6f60a4a617ce",
   "metadata": {},
   "outputs": [
    {
     "data": {
      "text/plain": [
       "'Full-time'"
      ]
     },
     "execution_count": 190,
     "metadata": {},
     "output_type": "execute_result"
    }
   ],
   "source": [
    "\"On-site\\n\\n \\nFull-time\".split('\\n\\n \\n')[1]"
   ]
  },
  {
   "cell_type": "code",
   "execution_count": 191,
   "id": "d5dc20e0-34fb-4599-a64e-cea55fd26130",
   "metadata": {},
   "outputs": [
    {
     "data": {
      "text/plain": [
       "3"
      ]
     },
     "execution_count": 191,
     "metadata": {},
     "output_type": "execute_result"
    }
   ],
   "source": [
    "i=0\n",
    "for inconsistant_Job in inconsistant_Job_Type_Elements_2:\n",
    "    if 'Full-time' in inconsistant_Job:\n",
    "        i=i+1\n",
    "i"
   ]
  },
  {
   "cell_type": "code",
   "execution_count": 192,
   "id": "33c63c51-9174-4bb6-b437-279e240c6095",
   "metadata": {},
   "outputs": [
    {
     "data": {
      "text/plain": [
       "'Full-time'"
      ]
     },
     "execution_count": 192,
     "metadata": {},
     "output_type": "execute_result"
    }
   ],
   "source": [
    "'On-site\\n\\n \\nFull-time\\n\\n \\nMid-Senior level'.split('\\n\\n \\n')[1]"
   ]
  },
  {
   "cell_type": "code",
   "execution_count": 193,
   "id": "ff0b5da8-26df-4ae3-8c1d-d5fda95a39df",
   "metadata": {},
   "outputs": [
    {
     "data": {
      "text/plain": [
       "1"
      ]
     },
     "execution_count": 193,
     "metadata": {},
     "output_type": "execute_result"
    }
   ],
   "source": [
    "i=0\n",
    "for inconsistant_Job in inconsistant_Job_Type_Elements_3:\n",
    "    if 'Full-time' in inconsistant_Job:\n",
    "        i=i+1\n",
    "i"
   ]
  },
  {
   "cell_type": "code",
   "execution_count": 194,
   "id": "a672cdd4-13f0-493b-af9e-00943c7f67a4",
   "metadata": {},
   "outputs": [
    {
     "data": {
      "text/plain": [
       "['On-site', 'Full-time', 'Mid-Senior level']"
      ]
     },
     "execution_count": 194,
     "metadata": {},
     "output_type": "execute_result"
    }
   ],
   "source": [
    "'On-site\\n\\n \\nFull-time\\n\\n \\nMid-Senior level'.split('\\n\\n \\n')"
   ]
  },
  {
   "cell_type": "code",
   "execution_count": 195,
   "id": "80f5feea-b07d-44ff-b5a5-804342013ce8",
   "metadata": {},
   "outputs": [],
   "source": [
    "# Job_Type_list=[]\n",
    "# for elmnt in df['Job Type']:\n",
    "#     if len(elmnt.split())==1:\n",
    "#         if elmnt not in inconsistant_Job_Type_Elements_1:\n",
    "#             Job_Type_list.append(elmnt)\n",
    "#         else:\n",
    "#             Job_Type_list.append('Not specified')\n",
    "#     if len(elmnt.split())==2:\n",
    "#         if elmnt not in inconsistant_Job_Type_Elements_2:\n",
    "#             if '·' in elmnt:\n",
    "#                 Job_Type_list.append(elmnt.split('·')[0])\n",
    "#             elif '\\n\\n \\n' in elmnt:\n",
    "#                 Job_Type_list.append(elmnt.split('\\n\\n \\n')[1])\n",
    "#             else:\n",
    "#                 Job_Type_list.append('Not specified')\n",
    "#         else:\n",
    "#             for inconsistant_Job in inconsistant_Job_Type_Elements_2:\n",
    "#                 if 'Full-time' in inconsistant_Job:\n",
    "#                     Job_Type_list.append('Full-time')\n",
    "#                 else:\n",
    "#                     Job_Type_list.append('Not specified')\n",
    "#     if len(elmnt.split())==3:\n",
    "#         if elmnt not in inconsistant_Job_Type_Elements_3:\n",
    "#             Job_Type_list.append(elmnt.split('\\n\\n \\n')[1])\n",
    "#         else:\n",
    "#             for inconsistant_Job in inconsistant_Job_Type_Elements_3:\n",
    "#                 if 'Full-time' in inconsistant_Job:\n",
    "#                     Job_Type_list.append('Full-time')\n",
    "#                 else:\n",
    "#                     Job_Type_list.append('Not specified')\n",
    "#     if len(elmnt.split())==7:\n",
    "#         Job_Type_list.append('Not specified')\n",
    "# # IndexError: list index out of range"
   ]
  },
  {
   "cell_type": "code",
   "execution_count": 196,
   "id": "ec3be2e5-0cf7-4611-adc5-08c351e0c018",
   "metadata": {},
   "outputs": [],
   "source": [
    "# Job_Type_list=[]\n",
    "# i=0\n",
    "# for elmnt in df['Job Type']:\n",
    "#     if len(elmnt.split())==3:\n",
    "#         if elmnt not in inconsistant_Job_Type_Elements_3:\n",
    "#             # print(elmnt.split('\\n\\n \\n')[1])\n",
    "#             print(elmnt)\n",
    "#     print(i)        \n",
    "#     i=i+1\n",
    "# i"
   ]
  },
  {
   "cell_type": "code",
   "execution_count": 197,
   "id": "a3421e78-3cb0-49c8-9e1a-fa92f8a8e5ee",
   "metadata": {},
   "outputs": [],
   "source": [
    "# Job_Type_list=[]\n",
    "# i=0\n",
    "# for elmnt in df['Job Type']:\n",
    "#     if len(elmnt.split())==2:\n",
    "#         if elmnt not in inconsistant_Job_Type_Elements_2:\n",
    "#             # print(elmnt.split('\\n\\n \\n')[1])\n",
    "#             print(elmnt)\n",
    "#     i=i+1\n",
    "# i"
   ]
  },
  {
   "cell_type": "code",
   "execution_count": 198,
   "id": "f6d32eb0-d487-4148-8a0a-4a6f7270d249",
   "metadata": {},
   "outputs": [
    {
     "data": {
      "text/plain": [
       "['Full-time', '·', 'Mid-Senior', 'level']"
      ]
     },
     "execution_count": 198,
     "metadata": {},
     "output_type": "execute_result"
    }
   ],
   "source": [
    "'Full-time · Mid-Senior level'.split()"
   ]
  },
  {
   "cell_type": "code",
   "execution_count": 199,
   "id": "8b24e7a7-9a0f-427f-ae43-451b17814b52",
   "metadata": {},
   "outputs": [
    {
     "data": {
      "text/plain": [
       "4"
      ]
     },
     "execution_count": 199,
     "metadata": {},
     "output_type": "execute_result"
    }
   ],
   "source": [
    "len('Full-time · Mid-Senior level'.split())"
   ]
  },
  {
   "cell_type": "code",
   "execution_count": 200,
   "id": "64eb4d71-a83c-439b-ac5c-5e6775ffa311",
   "metadata": {},
   "outputs": [],
   "source": [
    "Job_Type_list=[]\n",
    "for elmnt in df['Job Type']:\n",
    "    if len(elmnt.split())==1:\n",
    "        if elmnt not in inconsistant_Job_Type_Elements_1:\n",
    "            Job_Type_list.append(elmnt)\n",
    "        else:\n",
    "            Job_Type_list.append('Not specified')\n",
    "    if len(elmnt.split('·'))==2 or len(elmnt.split('\\n\\n \\n'))==2:\n",
    "        if elmnt not in inconsistant_Job_Type_Elements_2:\n",
    "            if '·' in elmnt:\n",
    "                Job_Type_list.append(elmnt.split('·')[0])\n",
    "            elif '\\n\\n \\n' in elmnt:\n",
    "                Job_Type_list.append(elmnt.split('\\n\\n \\n')[1])\n",
    "            else:\n",
    "                Job_Type_list.append('Not specified')\n",
    "        else:\n",
    "            for inconsistant_Job in inconsistant_Job_Type_Elements_2:\n",
    "                if 'Full-time' in inconsistant_Job:\n",
    "                    Job_Type_list.append('Full-time')\n",
    "                else:\n",
    "                    Job_Type_list.append('Not specified')\n",
    "    if len(elmnt.split('·'))==3 or len(elmnt.split('\\n\\n \\n'))==3:\n",
    "        if elmnt not in inconsistant_Job_Type_Elements_3:\n",
    "            Job_Type_list.append(elmnt.split('\\n\\n \\n')[1])\n",
    "        else:\n",
    "            for inconsistant_Job in inconsistant_Job_Type_Elements_3:\n",
    "                if 'Full-time' in inconsistant_Job:\n",
    "                    Job_Type_list.append('Full-time')\n",
    "                else:\n",
    "                    Job_Type_list.append('Not specified')\n",
    "    if len(elmnt.split())==7:\n",
    "        Job_Type_list.append('Not specified')"
   ]
  },
  {
   "cell_type": "markdown",
   "id": "f6d70806-d205-43e4-9931-f4b08a64ebb5",
   "metadata": {},
   "source": [
    "include all Job_type_options instaed 'Full-time'"
   ]
  },
  {
   "cell_type": "code",
   "execution_count": 201,
   "id": "8551ea9a-3af2-46d6-a965-9e2dd8ec207c",
   "metadata": {},
   "outputs": [
    {
     "data": {
      "text/plain": [
       "['Full-time',\n",
       " 'Full-time',\n",
       " 'Full-time',\n",
       " 'Full-time',\n",
       " 'Full-time',\n",
       " 'Full-time',\n",
       " 'Full-time',\n",
       " 'Full-time ',\n",
       " 'Full-time',\n",
       " 'Internship ']"
      ]
     },
     "execution_count": 201,
     "metadata": {},
     "output_type": "execute_result"
    }
   ],
   "source": [
    "Job_Type_list[:10]"
   ]
  },
  {
   "cell_type": "code",
   "execution_count": 202,
   "id": "e2870392-3ac5-4e92-b4ff-e74688de892a",
   "metadata": {},
   "outputs": [
    {
     "data": {
      "text/plain": [
       "12290"
      ]
     },
     "execution_count": 202,
     "metadata": {},
     "output_type": "execute_result"
    }
   ],
   "source": [
    "len(Job_Type_list)"
   ]
  },
  {
   "cell_type": "code",
   "execution_count": 203,
   "id": "177aaa1e-e63d-45ae-92fd-ded7df428e02",
   "metadata": {},
   "outputs": [
    {
     "data": {
      "text/plain": [
       "11737"
      ]
     },
     "execution_count": 203,
     "metadata": {},
     "output_type": "execute_result"
    }
   ],
   "source": [
    "len(df)"
   ]
  },
  {
   "cell_type": "code",
   "execution_count": 204,
   "id": "f7cc3cf6-fa72-44bc-a943-a5a7bba7b8ac",
   "metadata": {},
   "outputs": [
    {
     "data": {
      "text/plain": [
       "553"
      ]
     },
     "execution_count": 204,
     "metadata": {},
     "output_type": "execute_result"
    }
   ],
   "source": [
    "len(Job_Type_list)-len(df)"
   ]
  },
  {
   "cell_type": "code",
   "execution_count": 205,
   "id": "8e1f53a1-4b18-4436-b33b-00d77da16f96",
   "metadata": {},
   "outputs": [],
   "source": [
    "Job_Type_list=[]\n",
    "for elmnt in df['Job Type']:\n",
    "    if len(elmnt.split())==1:\n",
    "        if elmnt not in inconsistant_Job_Type_Elements_1:\n",
    "            Job_Type_list.append(elmnt)\n",
    "        else:\n",
    "            Job_Type_list.append('Not specified')"
   ]
  },
  {
   "cell_type": "code",
   "execution_count": 206,
   "id": "5ce88d42-4fa4-482c-883e-dec92884f9eb",
   "metadata": {},
   "outputs": [
    {
     "data": {
      "text/plain": [
       "2395"
      ]
     },
     "execution_count": 206,
     "metadata": {},
     "output_type": "execute_result"
    }
   ],
   "source": [
    "len(Job_Type_list)"
   ]
  },
  {
   "cell_type": "code",
   "execution_count": 207,
   "id": "3f605bb8-642e-492c-ac3b-a5c19384d54d",
   "metadata": {},
   "outputs": [
    {
     "data": {
      "text/plain": [
       "2395"
      ]
     },
     "execution_count": 207,
     "metadata": {},
     "output_type": "execute_result"
    }
   ],
   "source": [
    "len(df[df['Job Type nElements']==1])"
   ]
  },
  {
   "cell_type": "code",
   "execution_count": 208,
   "id": "c5fa293e-9569-4717-81f9-1dbecfb5d015",
   "metadata": {},
   "outputs": [
    {
     "data": {
      "text/plain": [
       "11737"
      ]
     },
     "execution_count": 208,
     "metadata": {},
     "output_type": "execute_result"
    }
   ],
   "source": [
    "Job_Type_list=[]\n",
    "i=0\n",
    "i_list=[]\n",
    "for elmnt in df['Job Type']:\n",
    "    if len(elmnt.split('·'))==2 or len(elmnt.split('\\n\\n \\n'))==2:\n",
    "        if elmnt not in inconsistant_Job_Type_Elements_2:\n",
    "            if '·' in elmnt:\n",
    "                Job_Type_list.append(elmnt.split('·')[0])\n",
    "                i_list.append(i)\n",
    "            elif '\\n\\n \\n' in elmnt:\n",
    "                Job_Type_list.append(elmnt.split('\\n\\n \\n')[1])\n",
    "                i_list.append(i)\n",
    "            else:\n",
    "                Job_Type_list.append('Not specified')\n",
    "                i_list.append(i)\n",
    "        else:\n",
    "            for inconsistant_Job in inconsistant_Job_Type_Elements_2:\n",
    "                if 'Full-time' in inconsistant_Job:\n",
    "                    Job_Type_list.append('Full-time')\n",
    "                    i_list.append(i)\n",
    "                else:\n",
    "                    Job_Type_list.append('Not specified')\n",
    "                    i_list.append(i)\n",
    "    i=i+1\n",
    "i    "
   ]
  },
  {
   "cell_type": "code",
   "execution_count": 209,
   "id": "724ef39a-1ff8-42d0-a106-11715a6571e1",
   "metadata": {},
   "outputs": [
    {
     "data": {
      "text/plain": [
       "6244"
      ]
     },
     "execution_count": 209,
     "metadata": {},
     "output_type": "execute_result"
    }
   ],
   "source": [
    "len(i_list)"
   ]
  },
  {
   "cell_type": "code",
   "execution_count": 210,
   "id": "23b1bcd3-1702-4a54-85e2-6d98955857dd",
   "metadata": {},
   "outputs": [],
   "source": [
    "i_list=pd.Series(i_list)"
   ]
  },
  {
   "cell_type": "code",
   "execution_count": 211,
   "id": "1b24110c-f69c-46f1-b1b2-3d3f4d40685c",
   "metadata": {},
   "outputs": [
    {
     "data": {
      "text/plain": [
       "8409     4\n",
       "11105    4\n",
       "11175    4\n",
       "11163    4\n",
       "4921     4\n",
       "11155    4\n",
       "4929     4\n",
       "9852     4\n",
       "9857     4\n",
       "10626    4\n",
       "Name: count, dtype: int64"
      ]
     },
     "execution_count": 211,
     "metadata": {},
     "output_type": "execute_result"
    }
   ],
   "source": [
    "i_list.value_counts()[:10]"
   ]
  },
  {
   "cell_type": "code",
   "execution_count": 212,
   "id": "4f6ee05d-f9d5-4122-8c07-de8d1c8ed94e",
   "metadata": {},
   "outputs": [
    {
     "data": {
      "text/plain": [
       "'Full-time\\n\\n \\nMid-Senior level'"
      ]
     },
     "execution_count": 212,
     "metadata": {},
     "output_type": "execute_result"
    }
   ],
   "source": [
    "df['Job Type'].iloc[3470]"
   ]
  },
  {
   "cell_type": "code",
   "execution_count": 213,
   "id": "b6b75fea-8c30-4ce7-9b08-558ce3f8f4f7",
   "metadata": {},
   "outputs": [
    {
     "data": {
      "text/plain": [
       "['Full-time', 'Mid-Senior level']"
      ]
     },
     "execution_count": 213,
     "metadata": {},
     "output_type": "execute_result"
    }
   ],
   "source": [
    "df['Job Type'].iloc[3470].split('\\n\\n \\n')"
   ]
  },
  {
   "cell_type": "code",
   "execution_count": 214,
   "id": "e4f06b20-c739-47c2-b47f-8370e419672d",
   "metadata": {},
   "outputs": [
    {
     "data": {
      "text/plain": [
       "'$200,000/yr · Full-time'"
      ]
     },
     "execution_count": 214,
     "metadata": {},
     "output_type": "execute_result"
    }
   ],
   "source": [
    "df['Job Type'].iloc[1725]"
   ]
  },
  {
   "cell_type": "code",
   "execution_count": 215,
   "id": "d0ab2c06-1e6e-4da5-bb47-da5a7720c66c",
   "metadata": {},
   "outputs": [
    {
     "data": {
      "text/plain": [
       "'10,001+ employees · Tobacco Manufacturing'"
      ]
     },
     "execution_count": 215,
     "metadata": {},
     "output_type": "execute_result"
    }
   ],
   "source": [
    "df['Job Type'].iloc[2810]"
   ]
  },
  {
   "cell_type": "code",
   "execution_count": 216,
   "id": "406955ab-dc1c-4135-b335-9aaba3f0acd4",
   "metadata": {},
   "outputs": [
    {
     "data": {
      "text/plain": [
       "['$150/month - $300/month · Full-time',\n",
       " '$200,000/yr · Full-time',\n",
       " '10,001+ employees · Tobacco Manufacturing',\n",
       " 'Full-time\\n\\n \\nMid-Senior level']"
      ]
     },
     "execution_count": 216,
     "metadata": {},
     "output_type": "execute_result"
    }
   ],
   "source": [
    "inconsistant_Job_Type_Elements_2"
   ]
  },
  {
   "cell_type": "code",
   "execution_count": 217,
   "id": "68f1c2fd-8d2f-4849-828e-f5d3c327dd62",
   "metadata": {},
   "outputs": [
    {
     "data": {
      "text/plain": [
       "array(['Full-time · Mid-Senior level', 'Internship · Internship',\n",
       "       'Full-time · Associate', 'Full-time · Entry level',\n",
       "       'Full-time · Internship', 'Contract · Mid-Senior level',\n",
       "       'Contract · Associate', '$150/month - $300/month · Full-time',\n",
       "       'Full-time · Director', 'Part-time · Associate',\n",
       "       'Part-time · Executive', 'Contract · Executive',\n",
       "       'Part-time · Mid-Senior level', 'Contract · Entry level',\n",
       "       'Temporary · Mid-Senior level', 'Full-time · Executive',\n",
       "       'Part-time · Internship', 'Internship · Mid-Senior level',\n",
       "       '$200,000/yr · Full-time', 'Part-time · Entry level',\n",
       "       '10,001+ employees · Tobacco Manufacturing',\n",
       "       'On-site\\n\\n \\nFull-time', 'Remote\\n\\n \\nFull-time',\n",
       "       'Full-time\\n\\n \\nMid-Senior level', 'On-site\\n\\n \\nPart-time',\n",
       "       'Hybrid\\n\\n \\nFull-time', 'Remote\\n\\n \\nInternship',\n",
       "       'On-site\\n\\n \\nInternship', 'Remote\\n\\n \\nContract',\n",
       "       'Remote\\n\\n \\nPart-time', 'Full-time\\n\\n \\nEntry level',\n",
       "       'Hybrid\\n\\n \\nContract', 'Hybrid\\n\\n \\nPart-time',\n",
       "       'On-site\\n\\n \\nContract', 'Contract\\n\\n \\nMid-Senior level',\n",
       "       'Full-time\\n\\n \\nExecutive', 'Hybrid\\n\\n \\nTemporary',\n",
       "       'On-site\\n\\n \\nVolunteer', 'Remote\\n\\n \\nVolunteer',\n",
       "       'Hybrid\\n\\n \\nInternship', 'Full-time\\n\\n \\nInternship',\n",
       "       'On-site\\n\\n \\nTemporary', 'Remote\\n\\n \\nTemporary',\n",
       "       'Full-time\\n\\n \\nAssociate',\n",
       "       '5,001-10,000 employees · IT Services and IT Consulting',\n",
       "       '11-50 employees',\n",
       "       '10,001+ employees · Food and Beverage Manufacturing',\n",
       "       'Hybrid\\n\\n \\nVolunteer', 'Remote\\n\\n \\nMid-Senior level',\n",
       "       'Full-time\\n\\n \\nDirector', 'On-site\\n\\n \\nExecutive',\n",
       "       'Contract\\n\\n \\nEntry level'], dtype=object)"
      ]
     },
     "execution_count": 217,
     "metadata": {},
     "output_type": "execute_result"
    }
   ],
   "source": [
    "df[df['Job Type nElements']==2]['Job Type'].unique()"
   ]
  },
  {
   "cell_type": "code",
   "execution_count": 218,
   "id": "a7a15abf-4fb7-4ad7-bde1-c0f224c9f1e0",
   "metadata": {},
   "outputs": [
    {
     "data": {
      "text/plain": [
       "6244"
      ]
     },
     "execution_count": 218,
     "metadata": {},
     "output_type": "execute_result"
    }
   ],
   "source": [
    "len(Job_Type_list)"
   ]
  },
  {
   "cell_type": "code",
   "execution_count": 219,
   "id": "6100d4ed-f1b6-475a-a697-0e4947960a14",
   "metadata": {},
   "outputs": [
    {
     "data": {
      "text/plain": [
       "5693"
      ]
     },
     "execution_count": 219,
     "metadata": {},
     "output_type": "execute_result"
    }
   ],
   "source": [
    "len(df[df['Job Type nElements']==2])"
   ]
  },
  {
   "cell_type": "code",
   "execution_count": 220,
   "id": "98349165-0264-48c2-80da-4fb4e17923ab",
   "metadata": {},
   "outputs": [],
   "source": [
    "Job_Type_list=[]\n",
    "for elmnt in df['Job Type']:\n",
    "    if len(elmnt.split('·'))==3 or len(elmnt.split('\\n\\n \\n'))==3:\n",
    "        if elmnt not in inconsistant_Job_Type_Elements_3:\n",
    "            Job_Type_list.append(elmnt.split('\\n\\n \\n')[1])\n",
    "        else:\n",
    "            for inconsistant_Job in inconsistant_Job_Type_Elements_3:\n",
    "                if 'Full-time' in inconsistant_Job:\n",
    "                    Job_Type_list.append('Full-time')\n",
    "                else:\n",
    "                    Job_Type_list.append('Not specified')"
   ]
  },
  {
   "cell_type": "code",
   "execution_count": 221,
   "id": "ad7282da-0b54-44a3-a65a-a0ff05d01cd8",
   "metadata": {},
   "outputs": [
    {
     "data": {
      "text/plain": [
       "3633"
      ]
     },
     "execution_count": 221,
     "metadata": {},
     "output_type": "execute_result"
    }
   ],
   "source": [
    "len(Job_Type_list)"
   ]
  },
  {
   "cell_type": "code",
   "execution_count": 222,
   "id": "57095fd8-7f63-4074-85ed-172f2cef910f",
   "metadata": {},
   "outputs": [
    {
     "data": {
      "text/plain": [
       "3633"
      ]
     },
     "execution_count": 222,
     "metadata": {},
     "output_type": "execute_result"
    }
   ],
   "source": [
    "len(df[df['Job Type nElements']==3])"
   ]
  },
  {
   "cell_type": "code",
   "execution_count": 223,
   "id": "57472bb7-eca0-4e74-8ebf-1e6208e1a2cd",
   "metadata": {},
   "outputs": [],
   "source": [
    "Job_Type_list=[]\n",
    "for elmnt in df['Job Type']:\n",
    "    if len(elmnt.split())==7:\n",
    "        Job_Type_list.append('Not specified')"
   ]
  },
  {
   "cell_type": "code",
   "execution_count": 224,
   "id": "2be93f33-283b-4ab3-a52c-c0683ea90a04",
   "metadata": {},
   "outputs": [
    {
     "data": {
      "text/plain": [
       "18"
      ]
     },
     "execution_count": 224,
     "metadata": {},
     "output_type": "execute_result"
    }
   ],
   "source": [
    "len(Job_Type_list)"
   ]
  },
  {
   "cell_type": "code",
   "execution_count": 225,
   "id": "2dce0a48-110a-4b52-926e-559cf6f1d374",
   "metadata": {},
   "outputs": [
    {
     "data": {
      "text/plain": [
       "3"
      ]
     },
     "execution_count": 225,
     "metadata": {},
     "output_type": "execute_result"
    }
   ],
   "source": [
    "len(df[df['Job Type nElements']==7])"
   ]
  },
  {
   "cell_type": "code",
   "execution_count": 226,
   "id": "5b4aa936-1165-4445-bf5e-18403058a72e",
   "metadata": {},
   "outputs": [
    {
     "data": {
      "text/plain": [
       "Job Type nElements\n",
       "2    5693\n",
       "3    3633\n",
       "1    2395\n",
       "4      13\n",
       "7       3\n",
       "Name: count, dtype: int64"
      ]
     },
     "execution_count": 226,
     "metadata": {},
     "output_type": "execute_result"
    }
   ],
   "source": [
    "df['Job Type nElements'].value_counts()"
   ]
  },
  {
   "cell_type": "code",
   "execution_count": 227,
   "id": "c8aa0a36-4515-4f5b-a598-5cb715bec681",
   "metadata": {},
   "outputs": [],
   "source": [
    "Job_Type_list=[]\n",
    "for elmnt in df['Job Type']:\n",
    "    if len(elmnt.split())==1:\n",
    "        if elmnt not in inconsistant_Job_Type_Elements_1:\n",
    "            Job_Type_list.append(elmnt)\n",
    "        else:\n",
    "            Job_Type_list.append('Not specified')\n",
    "    elif len(elmnt.split('·'))==2 or len(elmnt.split('\\n\\n \\n'))==2:\n",
    "        if elmnt not in inconsistant_Job_Type_Elements_2:\n",
    "            if '\\n\\n \\n' in elmnt:\n",
    "                Job_Type_list.append(elmnt.split('\\n\\n \\n')[1])\n",
    "            elif '·' in elmnt:\n",
    "                Job_Type_list.append(elmnt.split('·')[0])\n",
    "            else:\n",
    "                Job_Type_list.append('Not specified')\n",
    "        else:\n",
    "            for inconsistant_Job in inconsistant_Job_Type_Elements_2:\n",
    "                if 'Full-time' in inconsistant_Job:\n",
    "                    Job_Type_list.append('Full-time')\n",
    "                else:\n",
    "                    Job_Type_list.append('Not specified')\n",
    "    elif len(elmnt.split('·'))==3 or len(elmnt.split('\\n\\n \\n'))==3:\n",
    "        if elmnt not in inconsistant_Job_Type_Elements_3:\n",
    "            Job_Type_list.append(elmnt.split('\\n\\n \\n')[1])\n",
    "        else:\n",
    "            for inconsistant_Job in inconsistant_Job_Type_Elements_3:\n",
    "                if 'Full-time' in inconsistant_Job:\n",
    "                    Job_Type_list.append('Full-time')\n",
    "                else:\n",
    "                    Job_Type_list.append('Not specified')\n",
    "    elif len(elmnt.split())==7:\n",
    "        Job_Type_list.append('Not specified')"
   ]
  },
  {
   "cell_type": "code",
   "execution_count": 228,
   "id": "44267aeb-526e-40e7-950a-c2426844fc60",
   "metadata": {},
   "outputs": [
    {
     "data": {
      "text/plain": [
       "12288"
      ]
     },
     "execution_count": 228,
     "metadata": {},
     "output_type": "execute_result"
    }
   ],
   "source": [
    "len(Job_Type_list)"
   ]
  },
  {
   "cell_type": "code",
   "execution_count": 229,
   "id": "a7afd463-a6de-4d09-a32d-6762ed64db8e",
   "metadata": {},
   "outputs": [],
   "source": [
    "Job_Type_list=[]\n",
    "for elmnt in df['Job Type']:\n",
    "    if len(elmnt.split())==1:\n",
    "        if elmnt not in inconsistant_Job_Type_Elements_1:\n",
    "            Job_Type_list.append(elmnt)\n",
    "        else:\n",
    "            Job_Type_list.append('Not specified')\n",
    "    if len(elmnt.split('·'))==2 or len(elmnt.split('\\n\\n \\n'))==2:\n",
    "        if elmnt not in inconsistant_Job_Type_Elements_2:\n",
    "            if '·' in elmnt:\n",
    "                Job_Type_list.append(elmnt.split('·')[0])\n",
    "            elif '\\n\\n \\n' in elmnt:\n",
    "                Job_Type_list.append(elmnt.split('\\n\\n \\n')[1])\n",
    "            else:\n",
    "                Job_Type_list.append('Not specified')\n",
    "        else:\n",
    "            if 'Full-time' in elmnt:\n",
    "                Job_Type_list.append('Full-time')\n",
    "            else:\n",
    "                Job_Type_list.append('Not specified')\n",
    "    if len(elmnt.split('·'))==3 or len(elmnt.split('\\n\\n \\n'))==3:\n",
    "        if elmnt not in inconsistant_Job_Type_Elements_3:\n",
    "            Job_Type_list.append(elmnt.split('\\n\\n \\n')[1])\n",
    "        else:\n",
    "            if 'Full-time' in elmnt:\n",
    "                Job_Type_list.append('Full-time')\n",
    "            else:\n",
    "                Job_Type_list.append('Not specified')\n",
    "    if len(elmnt.split())==7:\n",
    "        Job_Type_list.append('Not specified')"
   ]
  },
  {
   "cell_type": "code",
   "execution_count": 230,
   "id": "6d2ad1f1-75d0-4b94-aae5-89d909524c8c",
   "metadata": {},
   "outputs": [
    {
     "data": {
      "text/plain": [
       "11738"
      ]
     },
     "execution_count": 230,
     "metadata": {},
     "output_type": "execute_result"
    }
   ],
   "source": [
    "len(Job_Type_list)"
   ]
  },
  {
   "cell_type": "code",
   "execution_count": 231,
   "id": "0eb33aff-b5aa-49c6-8dc5-aa577efbe0a4",
   "metadata": {},
   "outputs": [
    {
     "data": {
      "text/plain": [
       "{'10,001+ employees ',\n",
       " '5,001-10,000 employees ',\n",
       " 'Associate',\n",
       " 'Contract',\n",
       " 'Contract ',\n",
       " 'Director',\n",
       " 'Entry level',\n",
       " 'Executive',\n",
       " 'Full-time',\n",
       " 'Full-time ',\n",
       " 'Hybrid',\n",
       " 'Internship',\n",
       " 'Internship ',\n",
       " 'Mid-Senior level',\n",
       " 'Not specified',\n",
       " 'On-site',\n",
       " 'Part-time',\n",
       " 'Part-time ',\n",
       " 'Remote',\n",
       " 'Temporary',\n",
       " 'Temporary ',\n",
       " 'Volunteer'}"
      ]
     },
     "execution_count": 231,
     "metadata": {},
     "output_type": "execute_result"
    }
   ],
   "source": [
    "set(Job_Type_list)"
   ]
  },
  {
   "cell_type": "code",
   "execution_count": 232,
   "id": "0edbdc79-48bf-4c70-b9b3-9a79623e6401",
   "metadata": {},
   "outputs": [
    {
     "ename": "ValueError",
     "evalue": "Length of values (11738) does not match length of index (11737)",
     "output_type": "error",
     "traceback": [
      "\u001b[1;31m---------------------------------------------------------------------------\u001b[0m",
      "\u001b[1;31mValueError\u001b[0m                                Traceback (most recent call last)",
      "Cell \u001b[1;32mIn[232], line 1\u001b[0m\n\u001b[1;32m----> 1\u001b[0m \u001b[43mdf\u001b[49m\u001b[43m[\u001b[49m\u001b[38;5;124;43m'\u001b[39;49m\u001b[38;5;124;43mJob-Type\u001b[39;49m\u001b[38;5;124;43m'\u001b[39;49m\u001b[43m]\u001b[49m\u001b[38;5;241m=\u001b[39mJob_Type_list\n",
      "File \u001b[1;32m~\\AppData\\Local\\Programs\\Python\\Python311\\Lib\\site-packages\\pandas\\core\\frame.py:4094\u001b[0m, in \u001b[0;36mDataFrame.__setitem__\u001b[1;34m(self, key, value)\u001b[0m\n\u001b[0;32m   4091\u001b[0m     \u001b[38;5;28mself\u001b[39m\u001b[38;5;241m.\u001b[39m_setitem_array([key], value)\n\u001b[0;32m   4092\u001b[0m \u001b[38;5;28;01melse\u001b[39;00m:\n\u001b[0;32m   4093\u001b[0m     \u001b[38;5;66;03m# set column\u001b[39;00m\n\u001b[1;32m-> 4094\u001b[0m     \u001b[38;5;28;43mself\u001b[39;49m\u001b[38;5;241;43m.\u001b[39;49m\u001b[43m_set_item\u001b[49m\u001b[43m(\u001b[49m\u001b[43mkey\u001b[49m\u001b[43m,\u001b[49m\u001b[43m \u001b[49m\u001b[43mvalue\u001b[49m\u001b[43m)\u001b[49m\n",
      "File \u001b[1;32m~\\AppData\\Local\\Programs\\Python\\Python311\\Lib\\site-packages\\pandas\\core\\frame.py:4303\u001b[0m, in \u001b[0;36mDataFrame._set_item\u001b[1;34m(self, key, value)\u001b[0m\n\u001b[0;32m   4293\u001b[0m \u001b[38;5;28;01mdef\u001b[39;00m \u001b[38;5;21m_set_item\u001b[39m(\u001b[38;5;28mself\u001b[39m, key, value) \u001b[38;5;241m-\u001b[39m\u001b[38;5;241m>\u001b[39m \u001b[38;5;28;01mNone\u001b[39;00m:\n\u001b[0;32m   4294\u001b[0m \u001b[38;5;250m    \u001b[39m\u001b[38;5;124;03m\"\"\"\u001b[39;00m\n\u001b[0;32m   4295\u001b[0m \u001b[38;5;124;03m    Add series to DataFrame in specified column.\u001b[39;00m\n\u001b[0;32m   4296\u001b[0m \n\u001b[1;32m   (...)\u001b[0m\n\u001b[0;32m   4301\u001b[0m \u001b[38;5;124;03m    ensure homogeneity.\u001b[39;00m\n\u001b[0;32m   4302\u001b[0m \u001b[38;5;124;03m    \"\"\"\u001b[39;00m\n\u001b[1;32m-> 4303\u001b[0m     value, refs \u001b[38;5;241m=\u001b[39m \u001b[38;5;28;43mself\u001b[39;49m\u001b[38;5;241;43m.\u001b[39;49m\u001b[43m_sanitize_column\u001b[49m\u001b[43m(\u001b[49m\u001b[43mvalue\u001b[49m\u001b[43m)\u001b[49m\n\u001b[0;32m   4305\u001b[0m     \u001b[38;5;28;01mif\u001b[39;00m (\n\u001b[0;32m   4306\u001b[0m         key \u001b[38;5;129;01min\u001b[39;00m \u001b[38;5;28mself\u001b[39m\u001b[38;5;241m.\u001b[39mcolumns\n\u001b[0;32m   4307\u001b[0m         \u001b[38;5;129;01mand\u001b[39;00m value\u001b[38;5;241m.\u001b[39mndim \u001b[38;5;241m==\u001b[39m \u001b[38;5;241m1\u001b[39m\n\u001b[0;32m   4308\u001b[0m         \u001b[38;5;129;01mand\u001b[39;00m \u001b[38;5;129;01mnot\u001b[39;00m \u001b[38;5;28misinstance\u001b[39m(value\u001b[38;5;241m.\u001b[39mdtype, ExtensionDtype)\n\u001b[0;32m   4309\u001b[0m     ):\n\u001b[0;32m   4310\u001b[0m         \u001b[38;5;66;03m# broadcast across multiple columns if necessary\u001b[39;00m\n\u001b[0;32m   4311\u001b[0m         \u001b[38;5;28;01mif\u001b[39;00m \u001b[38;5;129;01mnot\u001b[39;00m \u001b[38;5;28mself\u001b[39m\u001b[38;5;241m.\u001b[39mcolumns\u001b[38;5;241m.\u001b[39mis_unique \u001b[38;5;129;01mor\u001b[39;00m \u001b[38;5;28misinstance\u001b[39m(\u001b[38;5;28mself\u001b[39m\u001b[38;5;241m.\u001b[39mcolumns, MultiIndex):\n",
      "File \u001b[1;32m~\\AppData\\Local\\Programs\\Python\\Python311\\Lib\\site-packages\\pandas\\core\\frame.py:5042\u001b[0m, in \u001b[0;36mDataFrame._sanitize_column\u001b[1;34m(self, value)\u001b[0m\n\u001b[0;32m   5039\u001b[0m     \u001b[38;5;28;01mreturn\u001b[39;00m _reindex_for_setitem(value, \u001b[38;5;28mself\u001b[39m\u001b[38;5;241m.\u001b[39mindex)\n\u001b[0;32m   5041\u001b[0m \u001b[38;5;28;01mif\u001b[39;00m is_list_like(value):\n\u001b[1;32m-> 5042\u001b[0m     \u001b[43mcom\u001b[49m\u001b[38;5;241;43m.\u001b[39;49m\u001b[43mrequire_length_match\u001b[49m\u001b[43m(\u001b[49m\u001b[43mvalue\u001b[49m\u001b[43m,\u001b[49m\u001b[43m \u001b[49m\u001b[38;5;28;43mself\u001b[39;49m\u001b[38;5;241;43m.\u001b[39;49m\u001b[43mindex\u001b[49m\u001b[43m)\u001b[49m\n\u001b[0;32m   5043\u001b[0m \u001b[38;5;28;01mreturn\u001b[39;00m sanitize_array(value, \u001b[38;5;28mself\u001b[39m\u001b[38;5;241m.\u001b[39mindex, copy\u001b[38;5;241m=\u001b[39m\u001b[38;5;28;01mTrue\u001b[39;00m, allow_2d\u001b[38;5;241m=\u001b[39m\u001b[38;5;28;01mTrue\u001b[39;00m), \u001b[38;5;28;01mNone\u001b[39;00m\n",
      "File \u001b[1;32m~\\AppData\\Local\\Programs\\Python\\Python311\\Lib\\site-packages\\pandas\\core\\common.py:561\u001b[0m, in \u001b[0;36mrequire_length_match\u001b[1;34m(data, index)\u001b[0m\n\u001b[0;32m    557\u001b[0m \u001b[38;5;250m\u001b[39m\u001b[38;5;124;03m\"\"\"\u001b[39;00m\n\u001b[0;32m    558\u001b[0m \u001b[38;5;124;03mCheck the length of data matches the length of the index.\u001b[39;00m\n\u001b[0;32m    559\u001b[0m \u001b[38;5;124;03m\"\"\"\u001b[39;00m\n\u001b[0;32m    560\u001b[0m \u001b[38;5;28;01mif\u001b[39;00m \u001b[38;5;28mlen\u001b[39m(data) \u001b[38;5;241m!=\u001b[39m \u001b[38;5;28mlen\u001b[39m(index):\n\u001b[1;32m--> 561\u001b[0m     \u001b[38;5;28;01mraise\u001b[39;00m \u001b[38;5;167;01mValueError\u001b[39;00m(\n\u001b[0;32m    562\u001b[0m         \u001b[38;5;124m\"\u001b[39m\u001b[38;5;124mLength of values \u001b[39m\u001b[38;5;124m\"\u001b[39m\n\u001b[0;32m    563\u001b[0m         \u001b[38;5;124mf\u001b[39m\u001b[38;5;124m\"\u001b[39m\u001b[38;5;124m(\u001b[39m\u001b[38;5;132;01m{\u001b[39;00m\u001b[38;5;28mlen\u001b[39m(data)\u001b[38;5;132;01m}\u001b[39;00m\u001b[38;5;124m) \u001b[39m\u001b[38;5;124m\"\u001b[39m\n\u001b[0;32m    564\u001b[0m         \u001b[38;5;124m\"\u001b[39m\u001b[38;5;124mdoes not match length of index \u001b[39m\u001b[38;5;124m\"\u001b[39m\n\u001b[0;32m    565\u001b[0m         \u001b[38;5;124mf\u001b[39m\u001b[38;5;124m\"\u001b[39m\u001b[38;5;124m(\u001b[39m\u001b[38;5;132;01m{\u001b[39;00m\u001b[38;5;28mlen\u001b[39m(index)\u001b[38;5;132;01m}\u001b[39;00m\u001b[38;5;124m)\u001b[39m\u001b[38;5;124m\"\u001b[39m\n\u001b[0;32m    566\u001b[0m     )\n",
      "\u001b[1;31mValueError\u001b[0m: Length of values (11738) does not match length of index (11737)"
     ]
    }
   ],
   "source": [
    "df['Job-Type']=Job_Type_list"
   ]
  },
  {
   "cell_type": "code",
   "execution_count": null,
   "id": "59c6b1b3-7b7d-4ceb-96ac-625728fc3d79",
   "metadata": {},
   "outputs": [],
   "source": [
    "df['Job-Type'].unique()"
   ]
  },
  {
   "cell_type": "code",
   "execution_count": null,
   "id": "36e72917-302f-4977-9b75-65f8e8384c04",
   "metadata": {},
   "outputs": [],
   "source": [
    "# df[df['Job-Type']=='Full-time ']"
   ]
  },
  {
   "cell_type": "code",
   "execution_count": null,
   "id": "1ec40ab8-fda1-4b43-8705-ede8b2326a53",
   "metadata": {},
   "outputs": [],
   "source": [
    "df['Job-Type'].value_counts()"
   ]
  },
  {
   "cell_type": "code",
   "execution_count": null,
   "id": "0fc62d37-bf83-43fb-84ff-39e7fd2a16b9",
   "metadata": {},
   "outputs": [],
   "source": [
    "df.columns"
   ]
  },
  {
   "cell_type": "code",
   "execution_count": null,
   "id": "0710e68e-69ae-43a0-94a3-4233863e6537",
   "metadata": {},
   "outputs": [],
   "source": [
    "df['Job-Type'].value_counts()['Full-time']+df['Job-Type'].value_counts()['Full-time ']"
   ]
  },
  {
   "cell_type": "code",
   "execution_count": null,
   "id": "bef15ace-19d3-476d-a564-7cc35726c33b",
   "metadata": {},
   "outputs": [],
   "source": [
    "df['Job-Type'].value_counts()['Internship']+df['Job-Type'].value_counts()['Internship ']"
   ]
  },
  {
   "cell_type": "code",
   "execution_count": null,
   "id": "8a7bb5e1-c881-4443-af77-03baf70dc398",
   "metadata": {},
   "outputs": [],
   "source": [
    "df['Job-Type'].value_counts()['Part-time ']+df['Job-Type'].value_counts()['Part-time']"
   ]
  },
  {
   "cell_type": "code",
   "execution_count": null,
   "id": "7551d6e9-95f2-4fbb-9d18-7c6c85a556d3",
   "metadata": {},
   "outputs": [],
   "source": [
    "df['Job-Type'].value_counts()['Contract ']+df['Job-Type'].value_counts()['Contract']"
   ]
  },
  {
   "cell_type": "code",
   "execution_count": null,
   "id": "9289e0ff-cfb3-465a-809a-fea197b76675",
   "metadata": {},
   "outputs": [],
   "source": [
    "df['Job-Type'] = df['Job-Type'].replace(['Full-time ','Internship ','Part-time ','Contract '],['Full-time','Internship','Part-time','Contract'])"
   ]
  },
  {
   "cell_type": "code",
   "execution_count": null,
   "id": "a5bb3a69-7e35-4a99-9448-a27ee396899e",
   "metadata": {},
   "outputs": [],
   "source": [
    "df['Job-Type'].unique()"
   ]
  },
  {
   "cell_type": "code",
   "execution_count": null,
   "id": "08b6c347-b012-4184-8e70-38ad12ecce9b",
   "metadata": {},
   "outputs": [],
   "source": [
    "df['Job-Type'].value_counts()"
   ]
  },
  {
   "cell_type": "markdown",
   "id": "757eb5be-f863-4858-8176-2675d5aa9c5d",
   "metadata": {},
   "source": [
    "### 01 december 2023"
   ]
  },
  {
   "cell_type": "markdown",
   "id": "5905af77-12ad-4b8d-bdae-351eb387682e",
   "metadata": {},
   "source": [
    "## extarcting Experience level from df['Job Type']"
   ]
  },
  {
   "cell_type": "code",
   "execution_count": null,
   "id": "91db8287-bd22-48e4-a1f7-1d53ac422bca",
   "metadata": {},
   "outputs": [],
   "source": [
    "df['Job Type']"
   ]
  },
  {
   "cell_type": "code",
   "execution_count": null,
   "id": "e2aaf927-c05e-4512-a026-ff4cdddf1e66",
   "metadata": {},
   "outputs": [],
   "source": [
    "## it is observed that Experience level is at 2nd split ,3rd split nad 2nd split \n",
    "uniques=['Full-time · Mid-Senior level','On-site\\n\\n \\nFull-time\\n\\n \\nMid-Senior level','Full-time\\n\\n \\nMid-Senior level']\n",
    "uniques"
   ]
  },
  {
   "cell_type": "code",
   "execution_count": null,
   "id": "5863676e-823d-4466-8539-f288dfcc0df6",
   "metadata": {},
   "outputs": [],
   "source": [
    "df[df['Job Type nElements']==1]['Job Type'].unique()"
   ]
  },
  {
   "cell_type": "code",
   "execution_count": null,
   "id": "101068ba-07f6-4872-a99d-cd8708534dea",
   "metadata": {},
   "outputs": [],
   "source": [
    "df[df['Job Type nElements']==1]['Job Type'].value_counts()"
   ]
  },
  {
   "cell_type": "code",
   "execution_count": null,
   "id": "df807c0d-db8b-45ca-828e-ca49261c9639",
   "metadata": {},
   "outputs": [],
   "source": [
    "# inconsistant_Job_Type_Elements_1=['Executive']\n",
    "inconsistant_Job_Type_Elements_1"
   ]
  },
  {
   "cell_type": "code",
   "execution_count": null,
   "id": "a708ec7f-1cf7-4752-b3d6-5e7744266a03",
   "metadata": {},
   "outputs": [],
   "source": [
    "# inconsistant_Job_Type_Elements_2=['$150/month - $300/month · Full-time','$200,000/yr · Full-time','10,001+ employees · Tobacco Manufacturing','Full-time\\n\\n \\nMid-Senior level']\n",
    "inconsistant_Job_Type_Elements_2"
   ]
  },
  {
   "cell_type": "code",
   "execution_count": null,
   "id": "2a6fda2a-27b5-4543-9685-3dd434baee66",
   "metadata": {},
   "outputs": [],
   "source": [
    "inconsistant_Job_Type_Elements_3"
   ]
  },
  {
   "cell_type": "markdown",
   "id": "ca4bd8b8-ca0d-4073-86c2-5a67b3a381d1",
   "metadata": {},
   "source": [
    "### 07 december 2023"
   ]
  },
  {
   "cell_type": "code",
   "execution_count": null,
   "id": "eaf51dab-ca35-42be-aee7-6d142e1f672f",
   "metadata": {},
   "outputs": [],
   "source": [
    "Job_Type_list=[]\n",
    "for elmnt in df['Job Type']:\n",
    "    if len(elmnt.split())==1:\n",
    "        if elmnt in inconsistant_Job_Type_Elements_1:\n",
    "            if elmnt=='Executive':\n",
    "                Job_Type_list.append(elmnt)\n",
    "        else:\n",
    "            Job_Type_list.append('Not specified')\n",
    "    # if len(elmnt.split('·'))==2 or len(elmnt.split('\\n\\n \\n'))==2:\n",
    "    #     if elmnt not in inconsistant_Job_Type_Elements_2:\n",
    "    #         if '·' in elmnt:\n",
    "    #             Job_Type_list.append(elmnt.split('·')[0])\n",
    "    #         elif '\\n\\n \\n' in elmnt:\n",
    "    #             Job_Type_list.append(elmnt.split('\\n\\n \\n')[1])\n",
    "    #         else:\n",
    "    #             Job_Type_list.append('Not specified')\n",
    "    #     else:\n",
    "    #         if 'Full-time' in elmnt:\n",
    "    #             Job_Type_list.append('Full-time')\n",
    "    #         else:\n",
    "    #             Job_Type_list.append('Not specified')\n",
    "    # if len(elmnt.split('·'))==3 or len(elmnt.split('\\n\\n \\n'))==3:\n",
    "    #     if elmnt not in inconsistant_Job_Type_Elements_3:\n",
    "    #         Job_Type_list.append(elmnt.split('\\n\\n \\n')[1])\n",
    "    #     else:\n",
    "    #         if 'Full-time' in inconsistant_Job:\n",
    "    #             Job_Type_list.append('Full-time')\n",
    "    #         else:\n",
    "    #             Job_Type_list.append('Not specified')\n",
    "    # if len(elmnt.split())==7:\n",
    "    #     Job_Type_list.append('Not specified')"
   ]
  },
  {
   "cell_type": "code",
   "execution_count": null,
   "id": "26861629-36e7-47f4-8515-47188fb9be8c",
   "metadata": {},
   "outputs": [],
   "source": [
    "set(Job_Type_list)"
   ]
  },
  {
   "cell_type": "code",
   "execution_count": null,
   "id": "d7b6af2a-2cd9-4375-bdb1-5f9873dd03b1",
   "metadata": {},
   "outputs": [],
   "source": [
    "len(Job_Type_list)"
   ]
  },
  {
   "cell_type": "code",
   "execution_count": null,
   "id": "ddda22f1-d3bd-4795-8b43-e9b7bbd5274d",
   "metadata": {},
   "outputs": [],
   "source": [
    "inconsistant_Job_Type_Elements_2"
   ]
  },
  {
   "cell_type": "code",
   "execution_count": null,
   "id": "140b5720-7169-4636-8d6f-dd330b298521",
   "metadata": {},
   "outputs": [],
   "source": [
    "df[df['Job Type nElements']==2]['Job Type'].unique()"
   ]
  },
  {
   "cell_type": "code",
   "execution_count": null,
   "id": "07e9a31a-0a15-4449-a2ac-639aee2b7063",
   "metadata": {},
   "outputs": [],
   "source": [
    "df['Job Type nElements'].value_counts()"
   ]
  },
  {
   "cell_type": "code",
   "execution_count": null,
   "id": "be079712-3e01-4815-b2e4-a7ea0e8e197f",
   "metadata": {},
   "outputs": [],
   "source": [
    "Job_Type_list=[]\n",
    "for elmnt in df['Job Type']:\n",
    "    if len(elmnt.split('·'))==2 or len(elmnt.split('\\n\\n \\n'))==2:\n",
    "        if elmnt not in inconsistant_Job_Type_Elements_2:\n",
    "            if '·' in elmnt:\n",
    "                Job_Type_list.append(elmnt.split('·')[1])\n",
    "            # elif '\\n\\n \\n' in elmnt:\n",
    "            #     Job_Type_list.append(elmnt.split('\\n\\n \\n')[2])\n",
    "            else:\n",
    "                Job_Type_list.append('Not specified')\n",
    "        else:\n",
    "            if 'Mid-Senior level' in elmnt:\n",
    "                Job_Type_list.append('Mid-Senior level')\n",
    "            else:\n",
    "                Job_Type_list.append('Not specified')"
   ]
  },
  {
   "cell_type": "code",
   "execution_count": null,
   "id": "d749bcc3-2f75-4ae8-8939-4e60218863e3",
   "metadata": {},
   "outputs": [],
   "source": [
    "len(Job_Type_list)"
   ]
  },
  {
   "cell_type": "code",
   "execution_count": null,
   "id": "45621f11-fc35-4eda-ac75-2583f121b013",
   "metadata": {},
   "outputs": [],
   "source": [
    "set(Job_Type_list)"
   ]
  },
  {
   "cell_type": "code",
   "execution_count": null,
   "id": "b18972e8-98fb-4c52-97fe-35012425320a",
   "metadata": {},
   "outputs": [],
   "source": [
    "inconsistant_Job_Type_Elements_3"
   ]
  },
  {
   "cell_type": "code",
   "execution_count": null,
   "id": "3d020860-ab53-41f3-be99-38fd28b05a16",
   "metadata": {},
   "outputs": [],
   "source": [
    "df[df['Job Type nElements']==3]['Job Type'].unique()"
   ]
  },
  {
   "cell_type": "code",
   "execution_count": null,
   "id": "26b8df34-c7d6-4570-a276-92667173b773",
   "metadata": {},
   "outputs": [],
   "source": [
    "Job_Type_list=[]\n",
    "for elmnt in df['Job Type']:\n",
    "    if len(elmnt.split('·'))==3 or len(elmnt.split('\\n\\n \\n'))==3:\n",
    "        if elmnt not in inconsistant_Job_Type_Elements_3:\n",
    "            Job_Type_list.append(elmnt.split('\\n\\n \\n')[2])\n",
    "        else:\n",
    "            # if 'Mid-Senior level' in inconsistant_Job: due to this problem not sepecified is in list \n",
    "            if 'Mid-Senior level' in elmnt:  \n",
    "                Job_Type_list.append('Mid-Senior level')\n",
    "            else:\n",
    "                Job_Type_list.append('Not specified')"
   ]
  },
  {
   "cell_type": "code",
   "execution_count": null,
   "id": "ae8205f7-090b-4129-ac30-0f642fe6c77e",
   "metadata": {},
   "outputs": [],
   "source": [
    "# ' Mid-Senior level' in '$12,000/yr - $15,000/yr · Full-time · Mid-Senior level'"
   ]
  },
  {
   "cell_type": "code",
   "execution_count": null,
   "id": "4a4f8410-b88f-4e62-994d-1a6ee9c677ec",
   "metadata": {},
   "outputs": [],
   "source": [
    " # ' Mid-Senior level' in inconsistant_Job"
   ]
  },
  {
   "cell_type": "code",
   "execution_count": null,
   "id": "839fe998-37b6-4dc5-ba64-acfb3e9fda14",
   "metadata": {},
   "outputs": [],
   "source": [
    "len(Job_Type_list)"
   ]
  },
  {
   "cell_type": "code",
   "execution_count": null,
   "id": "14eddaba-468b-4454-8aac-19e0a9efabb4",
   "metadata": {},
   "outputs": [],
   "source": [
    "set(Job_Type_list)"
   ]
  },
  {
   "cell_type": "code",
   "execution_count": null,
   "id": "bccc3c36-c7a6-4f11-b043-568f3a962df3",
   "metadata": {},
   "outputs": [],
   "source": [
    "df[df['Job Type nElements']==7]['Job Type'].unique()"
   ]
  },
  {
   "cell_type": "code",
   "execution_count": null,
   "id": "0cd1d792-4f73-4a73-8424-04809d590684",
   "metadata": {},
   "outputs": [],
   "source": [
    "Job_Type_list=[]\n",
    "for elmnt in df['Job Type']:\n",
    "    if len(elmnt.split())==1:\n",
    "        if elmnt in inconsistant_Job_Type_Elements_1:\n",
    "            if elmnt=='Executive':\n",
    "                Job_Type_list.append(elmnt)\n",
    "        else:\n",
    "            Job_Type_list.append('Not specified')\n",
    "    if len(elmnt.split('·'))==2 or len(elmnt.split('\\n\\n \\n'))==2:\n",
    "        if elmnt not in inconsistant_Job_Type_Elements_2:\n",
    "            if '·' in elmnt:\n",
    "                Job_Type_list.append(elmnt.split('·')[1])\n",
    "            # elif '\\n\\n \\n' in elmnt:\n",
    "            #     Job_Type_list.append(elmnt.split('\\n\\n \\n')[2])\n",
    "            else:\n",
    "                Job_Type_list.append('Not specified')\n",
    "        else:\n",
    "            if 'Mid-Senior level' in elmnt:\n",
    "                Job_Type_list.append('Mid-Senior level')\n",
    "            else:\n",
    "                Job_Type_list.append('Not specified')\n",
    "                \n",
    "    if len(elmnt.split('·'))==3 or len(elmnt.split('\\n\\n \\n'))==3:\n",
    "        if elmnt not in inconsistant_Job_Type_Elements_3:\n",
    "            Job_Type_list.append(elmnt.split('\\n\\n \\n')[2])\n",
    "        else:\n",
    "            # if 'Mid-Senior level' in inconsistant_Job: due to this problem not sepecified is in list \n",
    "            if 'Mid-Senior level' in elmnt:  \n",
    "                Job_Type_list.append('Mid-Senior level')\n",
    "            else:\n",
    "                Job_Type_list.append('Not specified')\n",
    "    if len(elmnt.split())==7:\n",
    "        Job_Type_list.append('Not specified')"
   ]
  },
  {
   "cell_type": "code",
   "execution_count": null,
   "id": "ac3cca35-107a-4645-901b-35ed8fedd3cc",
   "metadata": {},
   "outputs": [],
   "source": [
    "len(Job_Type_list)"
   ]
  },
  {
   "cell_type": "code",
   "execution_count": null,
   "id": "f6666727-e38b-429c-aba2-f16a5913ee73",
   "metadata": {},
   "outputs": [],
   "source": [
    "set(Job_Type_list)"
   ]
  },
  {
   "cell_type": "code",
   "execution_count": null,
   "id": "f43829c0-a1f2-47b5-ab15-57597e8d6b66",
   "metadata": {},
   "outputs": [],
   "source": [
    "df['Experience Level']=Job_Type_list"
   ]
  },
  {
   "cell_type": "code",
   "execution_count": null,
   "id": "15b19b54-c460-4d5b-beea-f14461cb8023",
   "metadata": {},
   "outputs": [],
   "source": [
    "df['Experience Level'].unique()"
   ]
  },
  {
   "cell_type": "code",
   "execution_count": null,
   "id": "5b82edbe-33f8-4a74-85c7-bfe62bb8d05b",
   "metadata": {},
   "outputs": [],
   "source": [
    "df['Experience Level'].value_counts()"
   ]
  },
  {
   "cell_type": "code",
   "execution_count": null,
   "id": "539d8013-8f0d-40cc-97c9-69669823035e",
   "metadata": {},
   "outputs": [],
   "source": [
    "df['Experience Level'] = df['Experience Level'].replace([' Mid-Senior level',' Associate',' Entry level',' Director',' Executive',' Internship'],['Mid-Senior level','Associate','Entry level','Director','Executive','Internship'])"
   ]
  },
  {
   "cell_type": "code",
   "execution_count": null,
   "id": "2d6c7e0f-8d8f-44c3-a3f1-c853f42ce0bc",
   "metadata": {},
   "outputs": [],
   "source": [
    "df['Experience Level'].unique()"
   ]
  },
  {
   "cell_type": "code",
   "execution_count": null,
   "id": "8d96eb04-85d3-4428-acd5-a8f9abb29199",
   "metadata": {},
   "outputs": [],
   "source": [
    "len(df['Experience Level'].unique())"
   ]
  },
  {
   "cell_type": "code",
   "execution_count": null,
   "id": "cad68e0a-07f1-44bd-bad2-c54931ace723",
   "metadata": {},
   "outputs": [],
   "source": [
    "# len(Experience_level_options)"
   ]
  },
  {
   "cell_type": "code",
   "execution_count": null,
   "id": "2929c2f9-756d-4ac2-8f96-7d25369eb41f",
   "metadata": {},
   "outputs": [],
   "source": [
    "df['Experience Level'].value_counts()"
   ]
  },
  {
   "cell_type": "markdown",
   "id": "e4d086e5-0642-46fc-ad6e-a6ae7a0e139b",
   "metadata": {},
   "source": [
    "### extracting On-site/remote from Job Type feature"
   ]
  },
  {
   "cell_type": "markdown",
   "id": "83319c9d-f485-4ad1-bfe4-713ac2dc1d3e",
   "metadata": {},
   "source": [
    "##### as in nelement==1 not have remote/onsite"
   ]
  },
  {
   "cell_type": "code",
   "execution_count": null,
   "id": "4bbdb21d-6287-428b-af3f-481d37791b1a",
   "metadata": {},
   "outputs": [],
   "source": [
    "df[df['Job Type nElements']==2]['Job Type'].unique()"
   ]
  },
  {
   "cell_type": "code",
   "execution_count": null,
   "id": "74739fba-b5ae-4d04-9e8d-724a59d8676b",
   "metadata": {},
   "outputs": [],
   "source": [
    "inconsistant_Job_Type_Elements_2"
   ]
  },
  {
   "cell_type": "code",
   "execution_count": null,
   "id": "c2e28d13-4ab2-44e2-b879-93626a628eec",
   "metadata": {},
   "outputs": [],
   "source": [
    "inconsistant_Job_Type_Elements_3"
   ]
  },
  {
   "cell_type": "code",
   "execution_count": null,
   "id": "217203ac-7eda-46b6-acb6-b00c2b42e616",
   "metadata": {},
   "outputs": [],
   "source": [
    "jobconditionnElements2=['On-site\\n\\n \\nFull-time', 'Remote\\n\\n \\nFull-time','On-site\\n\\n \\nPart-time','Hybrid\\n\\n \\nFull-time']\n",
    "jobconditionnElements2"
   ]
  },
  {
   "cell_type": "code",
   "execution_count": null,
   "id": "8cc8f1da-38dc-4fc3-b2a5-dcd19da647c9",
   "metadata": {},
   "outputs": [],
   "source": [
    "jobconditionnElements3=['On-site\\n\\n \\nFull-time\\n\\n \\nMid-Senior level',\n",
    "       'Hybrid\\n\\n \\nFull-time\\n\\n \\nMid-Senior level',\n",
    "       'Remote\\n\\n \\nFull-time\\n\\n \\nMid-Senior level',\n",
    "       'On-site\\n\\n \\nFull-time\\n\\n \\nAssociate',\n",
    "       'Hybrid\\n\\n \\nFull-time\\n\\n \\nEntry level',\n",
    "       'Hybrid\\n\\n \\nFull-time\\n\\n \\nDirector',\n",
    "       'On-site\\n\\n \\nFull-time\\n\\n \\nEntry level',\n",
    "       'Hybrid\\n\\n \\nFull-time\\n\\n \\nAssociate',\n",
    "       'Remote\\n\\n \\nContract\\n\\n \\nMid-Senior level',\n",
    "       'On-site\\n\\n \\nFull-time\\n\\n \\nDirector',\n",
    "       'On-site\\n\\n \\nFull-time\\n\\n \\nExecutive',\n",
    "       'Remote\\n\\n \\nFull-time\\n\\n \\nEntry level']\n",
    "jobconditionnElements3"
   ]
  },
  {
   "cell_type": "code",
   "execution_count": null,
   "id": "c1445793-7f23-4f9f-8ed0-4c27ab1b86ad",
   "metadata": {},
   "outputs": [],
   "source": [
    "Job_Type_list=[]\n",
    "for elmnt in df['Job Type']:\n",
    "    if len(elmnt.split())==1:\n",
    "        if elmnt not in inconsistant_Job_Type_Elements_1:\n",
    "            Job_Type_list.append('Not specified')\n",
    "        else:\n",
    "            Job_Type_list.append('Not specified')\n",
    "    if len(elmnt.split('·'))==2 or len(elmnt.split('\\n\\n \\n'))==2:\n",
    "        if elmnt not in inconsistant_Job_Type_Elements_2:\n",
    "            if '·' in elmnt:\n",
    "                Job_Type_list.append('Not specified')\n",
    "            elif '\\n\\n \\n' in elmnt:\n",
    "                Job_Type_list.append(elmnt.split('\\n\\n \\n')[0])\n",
    "            else:\n",
    "                Job_Type_list.append('Not specified')\n",
    "        else:\n",
    "            Job_Type_list.append('Not specified')\n",
    "    if len(elmnt.split('·'))==3 or len(elmnt.split('\\n\\n \\n'))==3:\n",
    "        if elmnt not in inconsistant_Job_Type_Elements_3:\n",
    "            Job_Type_list.append(elmnt.split('\\n\\n \\n')[0])\n",
    "        else:\n",
    "            Job_Type_list.append('Not specified')\n",
    "    if len(elmnt.split())==7:\n",
    "        Job_Type_list.append('Not specified')"
   ]
  },
  {
   "cell_type": "code",
   "execution_count": null,
   "id": "9c55f459-a696-439f-83de-4445958f294c",
   "metadata": {},
   "outputs": [],
   "source": [
    "len(Job_Type_list)"
   ]
  },
  {
   "cell_type": "code",
   "execution_count": null,
   "id": "e5f6f7f2-d7f5-4322-9c45-fdafec2b694a",
   "metadata": {},
   "outputs": [],
   "source": [
    "set(Job_Type_list)"
   ]
  },
  {
   "cell_type": "code",
   "execution_count": null,
   "id": "fafad721-a173-4890-a8df-5c9e0cc1aa23",
   "metadata": {},
   "outputs": [],
   "source": [
    "df['Remote/Onsite-2']=Job_Type_list"
   ]
  },
  {
   "cell_type": "code",
   "execution_count": null,
   "id": "bdc0d1db-1544-4c38-b2ea-089db3ceec5d",
   "metadata": {},
   "outputs": [],
   "source": [
    "df['Remote/Onsite-2'].unique()"
   ]
  },
  {
   "cell_type": "code",
   "execution_count": null,
   "id": "aee29319-8949-4400-9181-363a78224eb6",
   "metadata": {},
   "outputs": [],
   "source": [
    "df['Remote/Onsite-2'].value_counts()"
   ]
  },
  {
   "cell_type": "markdown",
   "id": "1f7d7d5b-9561-4e9a-9fb1-72238fc1322b",
   "metadata": {},
   "source": [
    "#### how many are specified"
   ]
  },
  {
   "cell_type": "code",
   "execution_count": null,
   "id": "17ea95a9-b355-4dd6-9972-cc72e4de0917",
   "metadata": {},
   "outputs": [],
   "source": [
    "df['Remote/Onsite-2'].value_counts()[1:].sum()"
   ]
  },
  {
   "cell_type": "code",
   "execution_count": null,
   "id": "78584f92-dbb5-4ed8-95ff-78e1fcc61ee4",
   "metadata": {},
   "outputs": [],
   "source": [
    "df['Remote/Onsite'].value_counts()"
   ]
  },
  {
   "cell_type": "code",
   "execution_count": null,
   "id": "30740f64-e013-4e65-b31e-99038f75cc96",
   "metadata": {},
   "outputs": [],
   "source": [
    "# actual Not specified values\n",
    "230-132"
   ]
  },
  {
   "cell_type": "raw",
   "id": "d4010e34-45bd-426b-a715-0b51220d8765",
   "metadata": {},
   "source": [
    "but here not specified are 230 instead of 132 this means onsite remote may be null"
   ]
  },
  {
   "cell_type": "raw",
   "id": "e8d90445-ed73-4023-a6c6-5e438579af2b",
   "metadata": {},
   "source": [
    "now i have to mix two columns in such a way it fill Not specified values of Remote/Onsite with specified values of Remote/Onsite-2\n",
    "I can also investigate a date from where onsite remote is in job type columns as now it is mostly in job feature not in job info"
   ]
  },
  {
   "cell_type": "markdown",
   "id": "19be6525-3fd9-4a08-82e1-8fdb9b9b8505",
   "metadata": {},
   "source": [
    "### locating index of change happend"
   ]
  },
  {
   "cell_type": "code",
   "execution_count": null,
   "id": "8bc20424-739b-4809-b62b-f7c0a5fb7aa8",
   "metadata": {},
   "outputs": [],
   "source": [
    "# investigating by according to 9th oct file as change happened at 119th row 119-2=117\n",
    "335-117"
   ]
  },
  {
   "cell_type": "code",
   "execution_count": null,
   "id": "46119593-cbb7-4d07-94f8-2ac67209a802",
   "metadata": {},
   "outputs": [],
   "source": [
    "3571-218"
   ]
  },
  {
   "cell_type": "code",
   "execution_count": null,
   "id": "5c94968e-23ed-484c-8c7d-221080095b83",
   "metadata": {},
   "outputs": [],
   "source": [
    "df['Remote/Onsite'].iloc[:]"
   ]
  },
  {
   "cell_type": "code",
   "execution_count": null,
   "id": "1fe0a5b6-927a-41fd-805c-4c5e424ed6e0",
   "metadata": {},
   "outputs": [],
   "source": [
    "df['Remote/Onsite'].iloc[3353:]"
   ]
  },
  {
   "cell_type": "code",
   "execution_count": null,
   "id": "e63a4de2-8ecf-4cc5-9799-16b18aab0e3a",
   "metadata": {},
   "outputs": [],
   "source": [
    "df['Remote/Onsite'].iloc[3400:]"
   ]
  },
  {
   "cell_type": "raw",
   "id": "c168dd30-8c1d-446a-afd2-d9c9241c4b3b",
   "metadata": {},
   "source": [
    "but this index not working to locate change "
   ]
  },
  {
   "cell_type": "code",
   "execution_count": null,
   "id": "a9e34e1c-c0d1-4c73-9526-addc809e8228",
   "metadata": {},
   "outputs": [],
   "source": [
    "# 132 are specified values in 'Remote/Onsite-2'\n",
    "3571-132"
   ]
  },
  {
   "cell_type": "code",
   "execution_count": null,
   "id": "1140905c-ae85-4484-8407-6f051eb66323",
   "metadata": {},
   "outputs": [],
   "source": [
    "df['Remote/Onsite'].iloc[3439:]"
   ]
  },
  {
   "cell_type": "code",
   "execution_count": null,
   "id": "2158621f-8a9b-49ac-a277-52e9382eb8ba",
   "metadata": {},
   "outputs": [],
   "source": [
    "# moving 1 index backword\n",
    "df['Remote/Onsite'].iloc[3438:]"
   ]
  },
  {
   "cell_type": "raw",
   "id": "732f6f9d-627e-4eff-9e4a-cb1e632ba077",
   "metadata": {},
   "source": [
    "it is investigated that change happend at 3438 loc == 3997 index of df "
   ]
  },
  {
   "cell_type": "code",
   "execution_count": null,
   "id": "9560f829-3fb5-4f37-9bac-1f27146d07c2",
   "metadata": {},
   "outputs": [],
   "source": [
    "df['Remote/Onsite'].iloc[3438:].unique()"
   ]
  },
  {
   "cell_type": "code",
   "execution_count": null,
   "id": "a8175548-4034-4bb2-b5ae-19370312f2fe",
   "metadata": {},
   "outputs": [],
   "source": [
    "df['Remote/Onsite'].iloc[:3438].unique()"
   ]
  },
  {
   "cell_type": "code",
   "execution_count": null,
   "id": "dd42cf8e-74b2-467f-bb52-c114bae64a12",
   "metadata": {},
   "outputs": [],
   "source": [
    "df['Remote/Onsite-2'].iloc[3438:]"
   ]
  },
  {
   "cell_type": "code",
   "execution_count": null,
   "id": "385d9066-84ae-401e-85f2-77b825e0911c",
   "metadata": {},
   "outputs": [],
   "source": [
    "df['Remote/Onsite-2'].iloc[3438:].unique()"
   ]
  },
  {
   "cell_type": "code",
   "execution_count": null,
   "id": "e92c021f-3781-41f5-ba43-82c3148d21e4",
   "metadata": {},
   "outputs": [],
   "source": [
    "df['Remote/Onsite-2'].iloc[:3438].unique()"
   ]
  },
  {
   "cell_type": "raw",
   "id": "2f08203c-cfc2-4021-ba94-bb09e8ae8f9e",
   "metadata": {},
   "source": [
    "so it clarified that 3438th loc=3997th index of dataframe is index of change happend"
   ]
  },
  {
   "cell_type": "raw",
   "id": "810961f3-be21-4269-9663-849e93135b35",
   "metadata": {},
   "source": [
    "i have to 'Not specified' in df['Remote/Onsite-2'].iloc[3438:].unique()"
   ]
  },
  {
   "cell_type": "raw",
   "id": "b545b533-23bb-425a-8377-d052ec460ee0",
   "metadata": {},
   "source": [
    "ended 12:21 am 8 december\n",
    "started 7:15 am 8 december"
   ]
  },
  {
   "cell_type": "markdown",
   "id": "62eb1aa8-9162-4173-a1a5-02bbb9e27011",
   "metadata": {},
   "source": [
    "# 8 Dec 2023"
   ]
  },
  {
   "cell_type": "markdown",
   "id": "dc3c0ad3-e76e-46f3-be48-dd3b8f24596f",
   "metadata": {},
   "source": [
    "#### working on employees feature , Extracting no of employees and industry feature from employees feature"
   ]
  },
  {
   "cell_type": "code",
   "execution_count": null,
   "id": "1b90ffe3-3fc0-4be0-a4bd-9202043821c2",
   "metadata": {},
   "outputs": [],
   "source": [
    "df['employees'].unique()"
   ]
  },
  {
   "cell_type": "code",
   "execution_count": null,
   "id": "cf837602-0d33-41f6-b938-e5ca74ece638",
   "metadata": {},
   "outputs": [],
   "source": [
    "len(df['employees'].unique())"
   ]
  },
  {
   "cell_type": "code",
   "execution_count": null,
   "id": "3660715f-f24b-4357-b4f9-ea3e47bc5660",
   "metadata": {},
   "outputs": [],
   "source": [
    "df['employees'].value_counts()"
   ]
  },
  {
   "cell_type": "raw",
   "id": "5d474b25-2e0f-4bd6-954c-562719982f2f",
   "metadata": {},
   "source": [
    "It is noted that there are also single element :employees also two elements :employees and industry which is seperated by .\n",
    "It is always employees is first element and industry is 2nd element"
   ]
  },
  {
   "cell_type": "markdown",
   "id": "3b6dac45-5b6d-4099-89c2-959852fe1565",
   "metadata": {},
   "source": [
    "there are so many inconsistant values commen words are:\n",
    "is hiring for this job\n",
    "See how you compare\n",
    "Job poster joined LinkedIn"
   ]
  },
  {
   "cell_type": "code",
   "execution_count": null,
   "id": "8676e4e4-fb51-4270-8c46-d1cabf44bbe7",
   "metadata": {},
   "outputs": [],
   "source": [
    "in_consistant_values_in_employees_feature=['is hiring for this job','See how you compare','Job poster joined LinkedIn']\n",
    "in_consistant_values_in_employees_feature"
   ]
  },
  {
   "cell_type": "code",
   "execution_count": null,
   "id": "918cc711-eee5-4b44-9a2d-eb73969e202e",
   "metadata": {},
   "outputs": [],
   "source": [
    "'is hiring for this job' in 'Arooba Aslam is hiring for this job'"
   ]
  },
  {
   "cell_type": "code",
   "execution_count": null,
   "id": "50dc8c53-b51c-4cb0-80fa-7ad8f98ed5a4",
   "metadata": {},
   "outputs": [],
   "source": [
    "feature_element = 'Arooba Aslam is hiring for this job'\n",
    "inconsistent_values_in_employees_feature = ['is hiring for this job', 'See how you compare', 'Job poster joined LinkedIn']\n",
    "\n",
    "for value in inconsistent_values_in_employees_feature:\n",
    "    if value in feature_element:\n",
    "        print(f\"The string '{value}' is present in the feature element.\")\n",
    "    else:\n",
    "        print(f\"The string '{value}' is not present in the feature element.\")\n"
   ]
  },
  {
   "cell_type": "code",
   "execution_count": null,
   "id": "f0032f15-77c3-4f86-ab5e-2c68b70549f4",
   "metadata": {},
   "outputs": [],
   "source": [
    "'11-50 employees'.split('.')"
   ]
  },
  {
   "cell_type": "code",
   "execution_count": null,
   "id": "697d19ff-8607-40d5-8297-74ed0e34de13",
   "metadata": {},
   "outputs": [],
   "source": [
    "len('11-50 employees'.split('.'))"
   ]
  },
  {
   "cell_type": "code",
   "execution_count": null,
   "id": "3c84d55f-d866-41e9-8242-a12d04d62bc5",
   "metadata": {},
   "outputs": [],
   "source": [
    "'1,001-5,000 employees · International Trade and Development'.split('·')"
   ]
  },
  {
   "cell_type": "code",
   "execution_count": null,
   "id": "700e8a39-1d73-4d1d-b057-a9c3c9375dcf",
   "metadata": {},
   "outputs": [],
   "source": [
    "'1,001-5,000 employees · International Trade and Development'.split('·')[0]"
   ]
  },
  {
   "cell_type": "code",
   "execution_count": null,
   "id": "ad22cf52-4e43-49bf-a0b5-d87844e07096",
   "metadata": {},
   "outputs": [],
   "source": [
    "'1,001-5,000 employees · International Trade and Development'.split('·')[1]"
   ]
  },
  {
   "cell_type": "code",
   "execution_count": null,
   "id": "c3771eb0-cc8e-4e14-b095-b9714f26ff60",
   "metadata": {},
   "outputs": [],
   "source": [
    "len('1,001-5,000 employees · International Trade and Development'.split('·'))"
   ]
  },
  {
   "cell_type": "code",
   "execution_count": null,
   "id": "cb1b38e9-675b-4aa1-9ecc-b4250898146d",
   "metadata": {},
   "outputs": [],
   "source": [
    "L1=[] #for employees \n",
    "L2=[] #for industry\n",
    "for feature_element in df['employees'].iloc[:10]:\n",
    "    flag=0\n",
    "    for value in inconsistent_values_in_employees_feature:\n",
    "        if value in feature_element:\n",
    "            flag=1\n",
    "            \n",
    "    if flag==1:\n",
    "        L1.append('Not specified')\n",
    "        L2.append('Not specified')\n",
    "    else:\n",
    "        if len(feature_element.split('·'))==1:\n",
    "            L1.append(feature_element)\n",
    "            L2.append('Not specified')\n",
    "        elif len(feature_element.split('·'))==2:\n",
    "            L1.append(feature_element.split('·')[0])\n",
    "            L2.append(feature_element.split('·')[1])\n",
    "        else:\n",
    "            L1.append('Other')\n",
    "            L2.append('Other')            "
   ]
  },
  {
   "cell_type": "code",
   "execution_count": null,
   "id": "59263c4c-c7bd-49d0-aa1f-0ef0c28c2dbd",
   "metadata": {},
   "outputs": [],
   "source": [
    "L1"
   ]
  },
  {
   "cell_type": "code",
   "execution_count": null,
   "id": "232f1292-7789-4000-baf3-d7e6402c076a",
   "metadata": {},
   "outputs": [],
   "source": [
    "L2"
   ]
  },
  {
   "cell_type": "code",
   "execution_count": null,
   "id": "6b790c6c-ca0c-487c-b094-541d2887e69c",
   "metadata": {},
   "outputs": [],
   "source": [
    "df['employees'].iloc[:10]"
   ]
  },
  {
   "cell_type": "code",
   "execution_count": null,
   "id": "b1b3f429-5887-4117-8a72-a87d41799851",
   "metadata": {},
   "outputs": [],
   "source": [
    "L1=[] #for employees \n",
    "L2=[] #for industry\n",
    "for feature_element in df['employees'].iloc[:]:\n",
    "    flag=0\n",
    "    for value in inconsistent_values_in_employees_feature:\n",
    "        if value in feature_element:\n",
    "            flag=1\n",
    "            \n",
    "    if flag==1:\n",
    "        L1.append('Not specified')\n",
    "        L2.append('Not specified')\n",
    "    else:\n",
    "        if len(feature_element.split('·'))==1:\n",
    "            L1.append(feature_element)\n",
    "            L2.append('Not specified')\n",
    "        elif len(feature_element.split('·'))==2:\n",
    "            L1.append(feature_element.split('·')[0])\n",
    "            L2.append(feature_element.split('·')[1])\n",
    "        else:\n",
    "            L1.append('Other')\n",
    "            L2.append('Other')"
   ]
  },
  {
   "cell_type": "code",
   "execution_count": null,
   "id": "79a35aee-ba89-4b56-a02d-5a7c29228977",
   "metadata": {},
   "outputs": [],
   "source": [
    "len(L1)"
   ]
  },
  {
   "cell_type": "code",
   "execution_count": null,
   "id": "6528f2b3-e5df-45dc-8758-369b9974494e",
   "metadata": {},
   "outputs": [],
   "source": [
    "set(L1)"
   ]
  },
  {
   "cell_type": "raw",
   "id": "d1f9c88a-929b-44bf-a30e-0dc0f0831436",
   "metadata": {},
   "source": [
    "'school alum works here' ,'alumni work here' and 'See recent hiring trends' are still inconsistant values"
   ]
  },
  {
   "cell_type": "code",
   "execution_count": null,
   "id": "a6e54507-c4a9-4824-9a4a-b82fe5311ccd",
   "metadata": {},
   "outputs": [],
   "source": [
    "inconsistent_values_in_employees_feature"
   ]
  },
  {
   "cell_type": "code",
   "execution_count": null,
   "id": "62b1fd5c-3992-4da2-b4e5-aed79a157651",
   "metadata": {},
   "outputs": [],
   "source": [
    "len(L2)"
   ]
  },
  {
   "cell_type": "code",
   "execution_count": null,
   "id": "15a32804-b80b-4c34-893d-a4f342d2cd52",
   "metadata": {},
   "outputs": [],
   "source": [
    "set(L2)"
   ]
  },
  {
   "cell_type": "raw",
   "id": "5eeae660-c67b-4be1-8f33-07935d34680b",
   "metadata": {},
   "source": [
    "here in L2 there is only one inconsistant value which is 4 school alumni work here as this is 2nd element so i have to investigate it "
   ]
  },
  {
   "cell_type": "code",
   "execution_count": null,
   "id": "f1d0d243-dafa-444e-b669-1a940c5d796b",
   "metadata": {},
   "outputs": [],
   "source": [
    "for feature_element in df['employees'].iloc[:]:\n",
    "    if '4 school alumni work here' in feature_element:\n",
    "        print(feature_element)"
   ]
  },
  {
   "cell_type": "raw",
   "id": "4c7f5619-b136-4b01-8649-47dd0f631360",
   "metadata": {},
   "source": [
    "'6 company alumni work here · 4 school alumni work here' full element is inconsistant"
   ]
  },
  {
   "cell_type": "code",
   "execution_count": null,
   "id": "32d3b526-b511-46fe-bd31-0d8f6e92a449",
   "metadata": {},
   "outputs": [],
   "source": [
    "inconsistent_values_in_employees_feature = ['is hiring for this job', \n",
    "                                            'See how you compare', \n",
    "                                            'Job poster joined LinkedIn',\n",
    "                                           'school alum works here',\n",
    "                                            'alumni work here',\n",
    "                                            'See recent hiring trends'\n",
    "                                           ]"
   ]
  },
  {
   "cell_type": "code",
   "execution_count": null,
   "id": "36f3699e-ee2b-4e34-bb01-fcf42b9d4f20",
   "metadata": {},
   "outputs": [],
   "source": [
    "L1=[] #for employees \n",
    "L2=[] #for industry\n",
    "for feature_element in df['employees'].iloc[:]:\n",
    "    flag=0\n",
    "    for value in inconsistent_values_in_employees_feature:\n",
    "        if value in feature_element:\n",
    "            flag=1\n",
    "            \n",
    "    if flag==1:\n",
    "        L1.append('Not specified')\n",
    "        L2.append('Not specified')\n",
    "    else:\n",
    "        if len(feature_element.split('·'))==1:\n",
    "            L1.append(feature_element)\n",
    "            L2.append('Not specified')\n",
    "        elif len(feature_element.split('·'))==2:\n",
    "            L1.append(feature_element.split('·')[0])\n",
    "            L2.append(feature_element.split('·')[1])\n",
    "        else:\n",
    "            L1.append('Other')\n",
    "            L2.append('Other')"
   ]
  },
  {
   "cell_type": "code",
   "execution_count": null,
   "id": "6441f767-0d56-4b2f-8176-affaec82962a",
   "metadata": {},
   "outputs": [],
   "source": [
    "len(L1)"
   ]
  },
  {
   "cell_type": "code",
   "execution_count": null,
   "id": "c297dae8-64ee-41a9-b105-7341fdd31486",
   "metadata": {},
   "outputs": [],
   "source": [
    "len(L2)"
   ]
  },
  {
   "cell_type": "code",
   "execution_count": null,
   "id": "87ea5c01-4de1-449e-b211-d306db08f128",
   "metadata": {},
   "outputs": [],
   "source": [
    "set(L1)"
   ]
  },
  {
   "cell_type": "code",
   "execution_count": null,
   "id": "60bc9a48-ca98-4662-9a7a-b3100b08a9dd",
   "metadata": {},
   "outputs": [],
   "source": [
    "set(L2)"
   ]
  },
  {
   "cell_type": "code",
   "execution_count": null,
   "id": "1b6ae4aa-d237-4ac9-96a8-a615c71ca3b8",
   "metadata": {},
   "outputs": [],
   "source": [
    "df['Comp_N_Employees']=L1"
   ]
  },
  {
   "cell_type": "code",
   "execution_count": null,
   "id": "68499b51-3006-44b5-9801-2f9487c65d87",
   "metadata": {},
   "outputs": [],
   "source": [
    "df['Comp_Industry']=L2"
   ]
  },
  {
   "cell_type": "code",
   "execution_count": null,
   "id": "4eb3cbab-b065-4771-bc86-8f1c7b2f25e1",
   "metadata": {},
   "outputs": [],
   "source": [
    "df['Comp_N_Employees'].unique()"
   ]
  },
  {
   "cell_type": "code",
   "execution_count": null,
   "id": "a325ba8a-0c0e-402b-ab0c-50c3ebd216f9",
   "metadata": {},
   "outputs": [],
   "source": [
    "len(df['Comp_N_Employees'].unique())"
   ]
  },
  {
   "cell_type": "code",
   "execution_count": null,
   "id": "cd91f95d-0843-4468-b5fa-060085444193",
   "metadata": {},
   "outputs": [],
   "source": [
    "df['Comp_N_Employees'].value_counts()"
   ]
  },
  {
   "cell_type": "code",
   "execution_count": null,
   "id": "a4366811-e5bc-4e0e-a3b1-438c60e74b01",
   "metadata": {},
   "outputs": [],
   "source": [
    "df['Comp_Industry'].unique()"
   ]
  },
  {
   "cell_type": "code",
   "execution_count": null,
   "id": "9cb0e76a-4c5b-4e0d-a0ea-ed8b9785b06d",
   "metadata": {},
   "outputs": [],
   "source": [
    "len(df['Comp_Industry'].unique())"
   ]
  },
  {
   "cell_type": "code",
   "execution_count": null,
   "id": "9d00ddcf-5263-4953-916c-b9599dbae795",
   "metadata": {},
   "outputs": [],
   "source": [
    "df['Comp_Industry'].value_counts()"
   ]
  },
  {
   "cell_type": "markdown",
   "id": "17453290-5827-40c2-b97b-32d0b01a1366",
   "metadata": {},
   "source": [
    "### These are job Job type options on linkedin:\n",
    "Full-time,\n",
    "Part-time,\n",
    "Contract,\n",
    "Temporary,\n",
    "Volunteer,\n",
    "Internship,\n",
    "Other\n",
    "### These are Experience level options on linkedin:\n",
    "Internship,\n",
    "Entry level,\n",
    "Associate,\n",
    "Mid-Senior level,\n",
    "Director,\n",
    "Executive\n",
    "### These are On-site/remote options on linkedin:\n",
    "On-site,\n",
    "Remote,\n",
    "Hybrid"
   ]
  },
  {
   "cell_type": "code",
   "execution_count": null,
   "id": "e217905f-b620-44d9-a205-e90dd86dfb73",
   "metadata": {},
   "outputs": [],
   "source": [
    "Job_type_options=['Full-time','Part-time','Contract','Temporary','Volunteer','Internship','Other']\n",
    "Job_type_options"
   ]
  },
  {
   "cell_type": "code",
   "execution_count": null,
   "id": "df4af0d8-5167-4d0d-9d28-829453b7557c",
   "metadata": {},
   "outputs": [],
   "source": [
    "Experience_level_options=['Internship','Entry level','Associate','Mid-Senior level','Director','Executive']\n",
    "Experience_level_options"
   ]
  },
  {
   "cell_type": "code",
   "execution_count": null,
   "id": "7ac0919b-72ad-44c9-a547-02248a010102",
   "metadata": {},
   "outputs": [],
   "source": [
    "On_site_remote_options=['On-site','Remote','Hybrid']\n",
    "On_site_remote_options"
   ]
  },
  {
   "cell_type": "code",
   "execution_count": null,
   "id": "90ede6c9-cf31-4e4c-aad8-c5021326d579",
   "metadata": {},
   "outputs": [],
   "source": [
    "len(Job_type_options)"
   ]
  },
  {
   "cell_type": "code",
   "execution_count": null,
   "id": "1ad6129c-9617-48c9-8971-ac4caca45d95",
   "metadata": {},
   "outputs": [],
   "source": [
    "len(Experience_level_options)"
   ]
  },
  {
   "cell_type": "code",
   "execution_count": null,
   "id": "d0c79dd7-2344-4d59-ac09-23653f9d654a",
   "metadata": {},
   "outputs": [],
   "source": [
    "df.columns"
   ]
  },
  {
   "cell_type": "code",
   "execution_count": null,
   "id": "b037624a-1ce9-49f2-a9f2-13d65bd17784",
   "metadata": {},
   "outputs": [],
   "source": [
    "len(df.columns)"
   ]
  },
  {
   "cell_type": "code",
   "execution_count": null,
   "id": "62dda0b2-6c00-41bd-a574-7309ff14ea7e",
   "metadata": {},
   "outputs": [],
   "source": []
  }
 ],
 "metadata": {
  "kernelspec": {
   "display_name": "Python 3 (ipykernel)",
   "language": "python",
   "name": "python3"
  },
  "language_info": {
   "codemirror_mode": {
    "name": "ipython",
    "version": 3
   },
   "file_extension": ".py",
   "mimetype": "text/x-python",
   "name": "python",
   "nbconvert_exporter": "python",
   "pygments_lexer": "ipython3",
   "version": "3.11.4"
  }
 },
 "nbformat": 4,
 "nbformat_minor": 5
}
