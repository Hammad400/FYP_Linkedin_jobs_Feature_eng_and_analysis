{
 "cells": [
  {
   "cell_type": "code",
   "execution_count": 2,
   "id": "81ac062a-82c7-49ee-b287-c219641155b6",
   "metadata": {},
   "outputs": [],
   "source": [
    "import pandas as pd\n",
    "import numpy as np\n",
    "import os\n",
    "from datetime import datetime"
   ]
  },
  {
   "cell_type": "code",
   "execution_count": 3,
   "id": "966fb6a3-3166-444a-8246-b2111900c95a",
   "metadata": {},
   "outputs": [],
   "source": [
    "path='Weekly Files Concatenated/Linkedin_Job_Details_26-Sep-2023-to-09-Oct-2023_4214-jobs_181-pages.csv'"
   ]
  },
  {
   "cell_type": "code",
   "execution_count": 4,
   "id": "ea083d0e-c886-4620-a6b3-778654b7f58b",
   "metadata": {},
   "outputs": [],
   "source": [
    "df=pd.read_csv(path)"
   ]
  },
  {
   "cell_type": "code",
   "execution_count": 5,
   "id": "1869871d-7c0a-40b8-abb9-8748537036a1",
   "metadata": {},
   "outputs": [
    {
     "data": {
      "text/html": [
       "<div>\n",
       "<style scoped>\n",
       "    .dataframe tbody tr th:only-of-type {\n",
       "        vertical-align: middle;\n",
       "    }\n",
       "\n",
       "    .dataframe tbody tr th {\n",
       "        vertical-align: top;\n",
       "    }\n",
       "\n",
       "    .dataframe thead th {\n",
       "        text-align: right;\n",
       "    }\n",
       "</style>\n",
       "<table border=\"1\" class=\"dataframe\">\n",
       "  <thead>\n",
       "    <tr style=\"text-align: right;\">\n",
       "      <th></th>\n",
       "      <th>Job Title</th>\n",
       "      <th>Job Info</th>\n",
       "      <th>Job Type</th>\n",
       "      <th>Job Link</th>\n",
       "      <th>employees</th>\n",
       "    </tr>\n",
       "  </thead>\n",
       "  <tbody>\n",
       "    <tr>\n",
       "      <th>0</th>\n",
       "      <td>LinkedIn Data Extractor</td>\n",
       "      <td>EcomFleet · Pakistan (Remote)  \\n1 week ago</td>\n",
       "      <td>Full-time</td>\n",
       "      <td>https://www.linkedin.com/jobs/view/3727054368</td>\n",
       "      <td>11-50 employees</td>\n",
       "    </tr>\n",
       "    <tr>\n",
       "      <th>1</th>\n",
       "      <td>It Management Intern</td>\n",
       "      <td>Digicon Valley · Lahore, Punjab, Pakistan (On-...</td>\n",
       "      <td>Full-time</td>\n",
       "      <td>https://www.linkedin.com/jobs/view/3723395858</td>\n",
       "      <td>11-50 employees</td>\n",
       "    </tr>\n",
       "    <tr>\n",
       "      <th>2</th>\n",
       "      <td>SQL Database Developer</td>\n",
       "      <td>Murkez Technologies · Lahore, Punjab, Pakistan...</td>\n",
       "      <td>Full-time</td>\n",
       "      <td>https://www.linkedin.com/jobs/view/3727034665</td>\n",
       "      <td>51-200 employees</td>\n",
       "    </tr>\n",
       "    <tr>\n",
       "      <th>3</th>\n",
       "      <td>Business Intelligence Developer</td>\n",
       "      <td>DevNatives · Islamabad, Islāmābād, Pakistan (H...</td>\n",
       "      <td>Full-time</td>\n",
       "      <td>https://www.linkedin.com/jobs/view/3727029273</td>\n",
       "      <td>11-50 employees</td>\n",
       "    </tr>\n",
       "    <tr>\n",
       "      <th>4</th>\n",
       "      <td>Web Developer - Internship</td>\n",
       "      <td>ItCreaters · Lahore, Punjab, Pakistan (On-site...</td>\n",
       "      <td>Full-time</td>\n",
       "      <td>https://www.linkedin.com/jobs/view/3727034696</td>\n",
       "      <td>Mobeen Naqvi is hiring for this job</td>\n",
       "    </tr>\n",
       "    <tr>\n",
       "      <th>...</th>\n",
       "      <td>...</td>\n",
       "      <td>...</td>\n",
       "      <td>...</td>\n",
       "      <td>...</td>\n",
       "      <td>...</td>\n",
       "    </tr>\n",
       "    <tr>\n",
       "      <th>4209</th>\n",
       "      <td>Oracle Apps DBA - R12 (Full Customization)</td>\n",
       "      <td>Rozee.pk · Lahore, Punjab, Pakistan  \\n4 days ago</td>\n",
       "      <td>On-site\\n\\n \\nFull-time</td>\n",
       "      <td>https://www.linkedin.com/jobs/view/3734517227</td>\n",
       "      <td>501-1,000 employees</td>\n",
       "    </tr>\n",
       "    <tr>\n",
       "      <th>4210</th>\n",
       "      <td>Engineer, Service-to-Service Fabric</td>\n",
       "      <td>Atlassian · APAC Reposted  \\n3 days ago\\n\\n · ...</td>\n",
       "      <td>Remote\\n\\n \\nFull-time\\n\\n \\nMid-Senior level</td>\n",
       "      <td>https://www.linkedin.com/jobs/view/3730554639</td>\n",
       "      <td>5,001-10,000 employees · Software Development</td>\n",
       "    </tr>\n",
       "    <tr>\n",
       "      <th>4211</th>\n",
       "      <td>Technical Product Manager (OTE $80,000/year US...</td>\n",
       "      <td>Sparkrock · South Asia  \\n4 days ago\\n\\n · 144...</td>\n",
       "      <td>Remote\\n\\n \\nFull-time\\n\\n \\nEntry level</td>\n",
       "      <td>https://www.linkedin.com/jobs/view/3731001750</td>\n",
       "      <td>51-200 employees · IT Services and IT Consulting</td>\n",
       "    </tr>\n",
       "    <tr>\n",
       "      <th>4212</th>\n",
       "      <td>Senior IOS Developer</td>\n",
       "      <td>ekar · Pakistan  \\n4 days ago\\n\\n · 223 applic...</td>\n",
       "      <td>Remote\\n\\n \\nFull-time\\n\\n \\nMid-Senior level</td>\n",
       "      <td>https://www.linkedin.com/jobs/view/3736179533</td>\n",
       "      <td>51-200 employees · Transportation, Logistics, ...</td>\n",
       "    </tr>\n",
       "    <tr>\n",
       "      <th>4213</th>\n",
       "      <td>Technical Product Manager (OTE $80,000/year US...</td>\n",
       "      <td>Sparkrock · South Asia  \\n4 days ago\\n\\n · 137...</td>\n",
       "      <td>Remote\\n\\n \\nFull-time\\n\\n \\nEntry level</td>\n",
       "      <td>https://www.linkedin.com/jobs/view/3731006178</td>\n",
       "      <td>51-200 employees · IT Services and IT Consulting</td>\n",
       "    </tr>\n",
       "  </tbody>\n",
       "</table>\n",
       "<p>4214 rows × 5 columns</p>\n",
       "</div>"
      ],
      "text/plain": [
       "                                              Job Title  \\\n",
       "0                               LinkedIn Data Extractor   \n",
       "1                                  It Management Intern   \n",
       "2                                SQL Database Developer   \n",
       "3                       Business Intelligence Developer   \n",
       "4                            Web Developer - Internship   \n",
       "...                                                 ...   \n",
       "4209         Oracle Apps DBA - R12 (Full Customization)   \n",
       "4210                Engineer, Service-to-Service Fabric   \n",
       "4211  Technical Product Manager (OTE $80,000/year US...   \n",
       "4212                               Senior IOS Developer   \n",
       "4213  Technical Product Manager (OTE $80,000/year US...   \n",
       "\n",
       "                                               Job Info  \\\n",
       "0           EcomFleet · Pakistan (Remote)  \\n1 week ago   \n",
       "1     Digicon Valley · Lahore, Punjab, Pakistan (On-...   \n",
       "2     Murkez Technologies · Lahore, Punjab, Pakistan...   \n",
       "3     DevNatives · Islamabad, Islāmābād, Pakistan (H...   \n",
       "4     ItCreaters · Lahore, Punjab, Pakistan (On-site...   \n",
       "...                                                 ...   \n",
       "4209  Rozee.pk · Lahore, Punjab, Pakistan  \\n4 days ago   \n",
       "4210  Atlassian · APAC Reposted  \\n3 days ago\\n\\n · ...   \n",
       "4211  Sparkrock · South Asia  \\n4 days ago\\n\\n · 144...   \n",
       "4212  ekar · Pakistan  \\n4 days ago\\n\\n · 223 applic...   \n",
       "4213  Sparkrock · South Asia  \\n4 days ago\\n\\n · 137...   \n",
       "\n",
       "                                           Job Type  \\\n",
       "0                                         Full-time   \n",
       "1                                         Full-time   \n",
       "2                                         Full-time   \n",
       "3                                         Full-time   \n",
       "4                                         Full-time   \n",
       "...                                             ...   \n",
       "4209                        On-site\\n\\n \\nFull-time   \n",
       "4210  Remote\\n\\n \\nFull-time\\n\\n \\nMid-Senior level   \n",
       "4211       Remote\\n\\n \\nFull-time\\n\\n \\nEntry level   \n",
       "4212  Remote\\n\\n \\nFull-time\\n\\n \\nMid-Senior level   \n",
       "4213       Remote\\n\\n \\nFull-time\\n\\n \\nEntry level   \n",
       "\n",
       "                                           Job Link  \\\n",
       "0     https://www.linkedin.com/jobs/view/3727054368   \n",
       "1     https://www.linkedin.com/jobs/view/3723395858   \n",
       "2     https://www.linkedin.com/jobs/view/3727034665   \n",
       "3     https://www.linkedin.com/jobs/view/3727029273   \n",
       "4     https://www.linkedin.com/jobs/view/3727034696   \n",
       "...                                             ...   \n",
       "4209  https://www.linkedin.com/jobs/view/3734517227   \n",
       "4210  https://www.linkedin.com/jobs/view/3730554639   \n",
       "4211  https://www.linkedin.com/jobs/view/3731001750   \n",
       "4212  https://www.linkedin.com/jobs/view/3736179533   \n",
       "4213  https://www.linkedin.com/jobs/view/3731006178   \n",
       "\n",
       "                                              employees  \n",
       "0                                       11-50 employees  \n",
       "1                                       11-50 employees  \n",
       "2                                      51-200 employees  \n",
       "3                                       11-50 employees  \n",
       "4                   Mobeen Naqvi is hiring for this job  \n",
       "...                                                 ...  \n",
       "4209                                501-1,000 employees  \n",
       "4210      5,001-10,000 employees · Software Development  \n",
       "4211   51-200 employees · IT Services and IT Consulting  \n",
       "4212  51-200 employees · Transportation, Logistics, ...  \n",
       "4213   51-200 employees · IT Services and IT Consulting  \n",
       "\n",
       "[4214 rows x 5 columns]"
      ]
     },
     "execution_count": 5,
     "metadata": {},
     "output_type": "execute_result"
    }
   ],
   "source": [
    "df"
   ]
  },
  {
   "cell_type": "markdown",
   "id": "734d344d-ad4e-4f8d-965c-3b9eb36c5e56",
   "metadata": {},
   "source": [
    "### checking duplicates"
   ]
  },
  {
   "cell_type": "code",
   "execution_count": 6,
   "id": "ef2bd986-a157-46a1-83b8-4bef0c56e5d2",
   "metadata": {},
   "outputs": [
    {
     "data": {
      "text/plain": [
       "4214"
      ]
     },
     "execution_count": 6,
     "metadata": {},
     "output_type": "execute_result"
    }
   ],
   "source": [
    "len(df)"
   ]
  },
  {
   "cell_type": "code",
   "execution_count": 7,
   "id": "5c700a51-47f9-4064-8f27-57495dca99b7",
   "metadata": {},
   "outputs": [],
   "source": [
    "df['Job ID']=df['Job Link'].apply(lambda x:int(x.split('/')[5]))"
   ]
  },
  {
   "cell_type": "code",
   "execution_count": 8,
   "id": "f46f8835-2357-40fe-a25f-9ef307238a00",
   "metadata": {},
   "outputs": [
    {
     "data": {
      "text/plain": [
       "3623"
      ]
     },
     "execution_count": 8,
     "metadata": {},
     "output_type": "execute_result"
    }
   ],
   "source": [
    "len(df['Job ID'].unique())"
   ]
  },
  {
   "cell_type": "code",
   "execution_count": 9,
   "id": "16f03f39-ef42-4319-a853-b6aff4dcfc74",
   "metadata": {},
   "outputs": [
    {
     "data": {
      "text/plain": [
       "591"
      ]
     },
     "execution_count": 9,
     "metadata": {},
     "output_type": "execute_result"
    }
   ],
   "source": [
    "len(df)-len(df['Job ID'].unique())"
   ]
  },
  {
   "cell_type": "code",
   "execution_count": 10,
   "id": "4d8f3b78-ccbd-4c80-b351-f31500d65605",
   "metadata": {},
   "outputs": [
    {
     "data": {
      "text/plain": [
       "Job ID\n",
       "3720211981    9\n",
       "3723015510    7\n",
       "3723013969    6\n",
       "3723015541    6\n",
       "3723016496    6\n",
       "             ..\n",
       "3727586074    1\n",
       "3725569364    1\n",
       "3727905143    1\n",
       "3708061712    1\n",
       "3731006178    1\n",
       "Name: count, Length: 3623, dtype: int64"
      ]
     },
     "execution_count": 10,
     "metadata": {},
     "output_type": "execute_result"
    }
   ],
   "source": [
    "df['Job ID'].value_counts()"
   ]
  },
  {
   "cell_type": "code",
   "execution_count": 11,
   "id": "daac1f95-161c-4c80-8771-ee3e2905fc36",
   "metadata": {},
   "outputs": [
    {
     "data": {
      "text/plain": [
       "array([9, 7, 6, 5, 4, 3, 2, 1], dtype=int64)"
      ]
     },
     "execution_count": 11,
     "metadata": {},
     "output_type": "execute_result"
    }
   ],
   "source": [
    "df['Job ID'].value_counts().unique()"
   ]
  },
  {
   "cell_type": "code",
   "execution_count": 12,
   "id": "12346237-4553-4608-a1a0-090c7402ba68",
   "metadata": {},
   "outputs": [
    {
     "data": {
      "text/plain": [
       "591"
      ]
     },
     "execution_count": 12,
     "metadata": {},
     "output_type": "execute_result"
    }
   ],
   "source": [
    "duplicates_count=df.duplicated(subset=['Job ID']).sum()\n",
    "duplicates_count"
   ]
  },
  {
   "cell_type": "code",
   "execution_count": 13,
   "id": "88210200-bf59-441b-b4d7-d244ae038dee",
   "metadata": {},
   "outputs": [
    {
     "data": {
      "text/html": [
       "<div>\n",
       "<style scoped>\n",
       "    .dataframe tbody tr th:only-of-type {\n",
       "        vertical-align: middle;\n",
       "    }\n",
       "\n",
       "    .dataframe tbody tr th {\n",
       "        vertical-align: top;\n",
       "    }\n",
       "\n",
       "    .dataframe thead th {\n",
       "        text-align: right;\n",
       "    }\n",
       "</style>\n",
       "<table border=\"1\" class=\"dataframe\">\n",
       "  <thead>\n",
       "    <tr style=\"text-align: right;\">\n",
       "      <th></th>\n",
       "      <th>Job Title</th>\n",
       "      <th>Job Info</th>\n",
       "      <th>Job Type</th>\n",
       "      <th>Job Link</th>\n",
       "      <th>employees</th>\n",
       "      <th>Job ID</th>\n",
       "    </tr>\n",
       "  </thead>\n",
       "  <tbody>\n",
       "    <tr>\n",
       "      <th>603</th>\n",
       "      <td>Odoo Developer</td>\n",
       "      <td>AKSiQ · Karachi Division, Sindh, Pakistan (On-...</td>\n",
       "      <td>Full-time</td>\n",
       "      <td>https://www.linkedin.com/jobs/view/3727054738</td>\n",
       "      <td>11-50 employees</td>\n",
       "      <td>3727054738</td>\n",
       "    </tr>\n",
       "    <tr>\n",
       "      <th>781</th>\n",
       "      <td>Assistant Manager Sales/Sales Executive</td>\n",
       "      <td>Eastern Housing Pakistan · Multan, Punjab, Pak...</td>\n",
       "      <td>Full-time</td>\n",
       "      <td>https://www.linkedin.com/jobs/view/3727057147</td>\n",
       "      <td>201-500 employees</td>\n",
       "      <td>3727057147</td>\n",
       "    </tr>\n",
       "    <tr>\n",
       "      <th>834</th>\n",
       "      <td>Back-End Network Engineer</td>\n",
       "      <td>Turing · Pakistan (Remote) Reposted  \\n2 weeks...</td>\n",
       "      <td>Full-time · Entry level</td>\n",
       "      <td>https://www.linkedin.com/jobs/view/3726337380</td>\n",
       "      <td>1,001-5,000 employees · IT Services and IT Con...</td>\n",
       "      <td>3726337380</td>\n",
       "    </tr>\n",
       "    <tr>\n",
       "      <th>840</th>\n",
       "      <td>Release Management Engineer</td>\n",
       "      <td>AIIT Solutions · Rawalpindi, Punjab, Pakistan ...</td>\n",
       "      <td>Full-time</td>\n",
       "      <td>https://www.linkedin.com/jobs/view/3727054443</td>\n",
       "      <td>11-50 employees</td>\n",
       "      <td>3727054443</td>\n",
       "    </tr>\n",
       "    <tr>\n",
       "      <th>842</th>\n",
       "      <td>NaN</td>\n",
       "      <td>NaN</td>\n",
       "      <td>NaN</td>\n",
       "      <td>https://www.linkedin.com/jobs/view/3727051751</td>\n",
       "      <td>NaN</td>\n",
       "      <td>3727051751</td>\n",
       "    </tr>\n",
       "    <tr>\n",
       "      <th>...</th>\n",
       "      <td>...</td>\n",
       "      <td>...</td>\n",
       "      <td>...</td>\n",
       "      <td>...</td>\n",
       "      <td>...</td>\n",
       "      <td>...</td>\n",
       "    </tr>\n",
       "    <tr>\n",
       "      <th>4170</th>\n",
       "      <td>Software Engineer with AI Tooling Expertise, S...</td>\n",
       "      <td>Crossover  · Islamabad, Islāmābād, Pakistan Re...</td>\n",
       "      <td>Remote\\n\\n \\nFull-time\\n\\n \\nDirector</td>\n",
       "      <td>https://www.linkedin.com/jobs/view/3727370490</td>\n",
       "      <td>5,001-10,000 employees · IT Services and IT Co...</td>\n",
       "      <td>3727370490</td>\n",
       "    </tr>\n",
       "    <tr>\n",
       "      <th>4180</th>\n",
       "      <td>Software Engineer with AI Tooling Expertise, S...</td>\n",
       "      <td>Crossover  · Karāchi, Sindh, Pakistan Reposted...</td>\n",
       "      <td>Remote\\n\\n \\nFull-time\\n\\n \\nDirector</td>\n",
       "      <td>https://www.linkedin.com/jobs/view/3727370416</td>\n",
       "      <td>5,001-10,000 employees · IT Services and IT Co...</td>\n",
       "      <td>3727370416</td>\n",
       "    </tr>\n",
       "    <tr>\n",
       "      <th>4181</th>\n",
       "      <td>Technical Team Lead, Trilogy (Remote) - $100,0...</td>\n",
       "      <td>Crossover  · Rawalpindi, Punjab, Pakistan Repo...</td>\n",
       "      <td>Remote\\n\\n \\nFull-time\\n\\n \\nMid-Senior level</td>\n",
       "      <td>https://www.linkedin.com/jobs/view/3727367888</td>\n",
       "      <td>5,001-10,000 employees · IT Services and IT Co...</td>\n",
       "      <td>3727367888</td>\n",
       "    </tr>\n",
       "    <tr>\n",
       "      <th>4204</th>\n",
       "      <td>Principal Software Engineer, GFI Software (Rem...</td>\n",
       "      <td>Crossover  · Rawalpindi, Punjab, Pakistan Repo...</td>\n",
       "      <td>Remote\\n\\n \\nFull-time\\n\\n \\nMid-Senior level</td>\n",
       "      <td>https://www.linkedin.com/jobs/view/3723017385</td>\n",
       "      <td>5,001-10,000 employees · IT Services and IT Co...</td>\n",
       "      <td>3723017385</td>\n",
       "    </tr>\n",
       "    <tr>\n",
       "      <th>4205</th>\n",
       "      <td>Senior Software Architect, Trilogy (Remote) - ...</td>\n",
       "      <td>Crossover  · Rakhni, Baluchistan, Pakistan Rep...</td>\n",
       "      <td>Remote\\n\\n \\nFull-time\\n\\n \\nMid-Senior level</td>\n",
       "      <td>https://www.linkedin.com/jobs/view/3723021010</td>\n",
       "      <td>5,001-10,000 employees · IT Services and IT Co...</td>\n",
       "      <td>3723021010</td>\n",
       "    </tr>\n",
       "  </tbody>\n",
       "</table>\n",
       "<p>591 rows × 6 columns</p>\n",
       "</div>"
      ],
      "text/plain": [
       "                                              Job Title  \\\n",
       "603                                      Odoo Developer   \n",
       "781             Assistant Manager Sales/Sales Executive   \n",
       "834                           Back-End Network Engineer   \n",
       "840                         Release Management Engineer   \n",
       "842                                                 NaN   \n",
       "...                                                 ...   \n",
       "4170  Software Engineer with AI Tooling Expertise, S...   \n",
       "4180  Software Engineer with AI Tooling Expertise, S...   \n",
       "4181  Technical Team Lead, Trilogy (Remote) - $100,0...   \n",
       "4204  Principal Software Engineer, GFI Software (Rem...   \n",
       "4205  Senior Software Architect, Trilogy (Remote) - ...   \n",
       "\n",
       "                                               Job Info  \\\n",
       "603   AKSiQ · Karachi Division, Sindh, Pakistan (On-...   \n",
       "781   Eastern Housing Pakistan · Multan, Punjab, Pak...   \n",
       "834   Turing · Pakistan (Remote) Reposted  \\n2 weeks...   \n",
       "840   AIIT Solutions · Rawalpindi, Punjab, Pakistan ...   \n",
       "842                                                 NaN   \n",
       "...                                                 ...   \n",
       "4170  Crossover  · Islamabad, Islāmābād, Pakistan Re...   \n",
       "4180  Crossover  · Karāchi, Sindh, Pakistan Reposted...   \n",
       "4181  Crossover  · Rawalpindi, Punjab, Pakistan Repo...   \n",
       "4204  Crossover  · Rawalpindi, Punjab, Pakistan Repo...   \n",
       "4205  Crossover  · Rakhni, Baluchistan, Pakistan Rep...   \n",
       "\n",
       "                                           Job Type  \\\n",
       "603                                       Full-time   \n",
       "781                                       Full-time   \n",
       "834                         Full-time · Entry level   \n",
       "840                                       Full-time   \n",
       "842                                             NaN   \n",
       "...                                             ...   \n",
       "4170          Remote\\n\\n \\nFull-time\\n\\n \\nDirector   \n",
       "4180          Remote\\n\\n \\nFull-time\\n\\n \\nDirector   \n",
       "4181  Remote\\n\\n \\nFull-time\\n\\n \\nMid-Senior level   \n",
       "4204  Remote\\n\\n \\nFull-time\\n\\n \\nMid-Senior level   \n",
       "4205  Remote\\n\\n \\nFull-time\\n\\n \\nMid-Senior level   \n",
       "\n",
       "                                           Job Link  \\\n",
       "603   https://www.linkedin.com/jobs/view/3727054738   \n",
       "781   https://www.linkedin.com/jobs/view/3727057147   \n",
       "834   https://www.linkedin.com/jobs/view/3726337380   \n",
       "840   https://www.linkedin.com/jobs/view/3727054443   \n",
       "842   https://www.linkedin.com/jobs/view/3727051751   \n",
       "...                                             ...   \n",
       "4170  https://www.linkedin.com/jobs/view/3727370490   \n",
       "4180  https://www.linkedin.com/jobs/view/3727370416   \n",
       "4181  https://www.linkedin.com/jobs/view/3727367888   \n",
       "4204  https://www.linkedin.com/jobs/view/3723017385   \n",
       "4205  https://www.linkedin.com/jobs/view/3723021010   \n",
       "\n",
       "                                              employees      Job ID  \n",
       "603                                     11-50 employees  3727054738  \n",
       "781                                   201-500 employees  3727057147  \n",
       "834   1,001-5,000 employees · IT Services and IT Con...  3726337380  \n",
       "840                                     11-50 employees  3727054443  \n",
       "842                                                 NaN  3727051751  \n",
       "...                                                 ...         ...  \n",
       "4170  5,001-10,000 employees · IT Services and IT Co...  3727370490  \n",
       "4180  5,001-10,000 employees · IT Services and IT Co...  3727370416  \n",
       "4181  5,001-10,000 employees · IT Services and IT Co...  3727367888  \n",
       "4204  5,001-10,000 employees · IT Services and IT Co...  3723017385  \n",
       "4205  5,001-10,000 employees · IT Services and IT Co...  3723021010  \n",
       "\n",
       "[591 rows x 6 columns]"
      ]
     },
     "execution_count": 13,
     "metadata": {},
     "output_type": "execute_result"
    }
   ],
   "source": [
    "duplicates = df['Job ID'].duplicated()\n",
    "df[duplicates]"
   ]
  },
  {
   "cell_type": "markdown",
   "id": "841cad11-ad4f-43df-ab95-ee403a84900d",
   "metadata": {},
   "source": [
    "### drop duplicates"
   ]
  },
  {
   "cell_type": "code",
   "execution_count": 14,
   "id": "8db6fd7e-b7bb-43a2-9144-ce858ad78073",
   "metadata": {},
   "outputs": [],
   "source": [
    "df = df.drop_duplicates(subset=['Job ID'])"
   ]
  },
  {
   "cell_type": "code",
   "execution_count": 15,
   "id": "85c02eac-5c3e-4261-955c-edd77875865d",
   "metadata": {},
   "outputs": [
    {
     "data": {
      "text/plain": [
       "(3623, 6)"
      ]
     },
     "execution_count": 15,
     "metadata": {},
     "output_type": "execute_result"
    }
   ],
   "source": [
    "df.shape"
   ]
  },
  {
   "cell_type": "code",
   "execution_count": 16,
   "id": "1d168907-2fab-4a3d-903e-6d4ac9154570",
   "metadata": {},
   "outputs": [
    {
     "data": {
      "text/plain": [
       "3623"
      ]
     },
     "execution_count": 16,
     "metadata": {},
     "output_type": "execute_result"
    }
   ],
   "source": [
    "4214-591"
   ]
  },
  {
   "cell_type": "markdown",
   "id": "74effc07-abf1-4d03-940b-f65391d76883",
   "metadata": {},
   "source": [
    "### checking null values"
   ]
  },
  {
   "cell_type": "code",
   "execution_count": 17,
   "id": "e30630bb-adc4-4f24-9d5e-b989dfc1c765",
   "metadata": {},
   "outputs": [
    {
     "data": {
      "text/plain": [
       "Job Title    52\n",
       "Job Info     52\n",
       "Job Type     52\n",
       "Job Link      0\n",
       "employees    52\n",
       "Job ID        0\n",
       "dtype: int64"
      ]
     },
     "execution_count": 17,
     "metadata": {},
     "output_type": "execute_result"
    }
   ],
   "source": [
    "df.isnull().sum()"
   ]
  },
  {
   "cell_type": "code",
   "execution_count": 18,
   "id": "172930a7-904c-4efe-ab8d-b8049360381c",
   "metadata": {},
   "outputs": [
    {
     "data": {
      "text/html": [
       "<div>\n",
       "<style scoped>\n",
       "    .dataframe tbody tr th:only-of-type {\n",
       "        vertical-align: middle;\n",
       "    }\n",
       "\n",
       "    .dataframe tbody tr th {\n",
       "        vertical-align: top;\n",
       "    }\n",
       "\n",
       "    .dataframe thead th {\n",
       "        text-align: right;\n",
       "    }\n",
       "</style>\n",
       "<table border=\"1\" class=\"dataframe\">\n",
       "  <thead>\n",
       "    <tr style=\"text-align: right;\">\n",
       "      <th></th>\n",
       "      <th>Job Title</th>\n",
       "      <th>Job Info</th>\n",
       "      <th>Job Type</th>\n",
       "      <th>Job Link</th>\n",
       "      <th>employees</th>\n",
       "      <th>Job ID</th>\n",
       "    </tr>\n",
       "  </thead>\n",
       "  <tbody>\n",
       "    <tr>\n",
       "      <th>110</th>\n",
       "      <td>NaN</td>\n",
       "      <td>NaN</td>\n",
       "      <td>NaN</td>\n",
       "      <td>https://www.linkedin.com/jobs/view/3716079439</td>\n",
       "      <td>NaN</td>\n",
       "      <td>3716079439</td>\n",
       "    </tr>\n",
       "    <tr>\n",
       "      <th>125</th>\n",
       "      <td>NaN</td>\n",
       "      <td>NaN</td>\n",
       "      <td>NaN</td>\n",
       "      <td>https://www.linkedin.com/jobs/view/3728144603</td>\n",
       "      <td>NaN</td>\n",
       "      <td>3728144603</td>\n",
       "    </tr>\n",
       "    <tr>\n",
       "      <th>417</th>\n",
       "      <td>NaN</td>\n",
       "      <td>NaN</td>\n",
       "      <td>NaN</td>\n",
       "      <td>https://www.linkedin.com/jobs/view/3728021212/...</td>\n",
       "      <td>NaN</td>\n",
       "      <td>3728021212</td>\n",
       "    </tr>\n",
       "    <tr>\n",
       "      <th>420</th>\n",
       "      <td>NaN</td>\n",
       "      <td>NaN</td>\n",
       "      <td>NaN</td>\n",
       "      <td>https://www.linkedin.com/jobs/view/3727051751/...</td>\n",
       "      <td>NaN</td>\n",
       "      <td>3727051751</td>\n",
       "    </tr>\n",
       "    <tr>\n",
       "      <th>456</th>\n",
       "      <td>NaN</td>\n",
       "      <td>NaN</td>\n",
       "      <td>NaN</td>\n",
       "      <td>https://www.linkedin.com/jobs/view/3726689376/...</td>\n",
       "      <td>NaN</td>\n",
       "      <td>3726689376</td>\n",
       "    </tr>\n",
       "    <tr>\n",
       "      <th>874</th>\n",
       "      <td>NaN</td>\n",
       "      <td>NaN</td>\n",
       "      <td>NaN</td>\n",
       "      <td>https://www.linkedin.com/jobs/view/3727538965</td>\n",
       "      <td>NaN</td>\n",
       "      <td>3727538965</td>\n",
       "    </tr>\n",
       "    <tr>\n",
       "      <th>981</th>\n",
       "      <td>NaN</td>\n",
       "      <td>NaN</td>\n",
       "      <td>NaN</td>\n",
       "      <td>https://www.linkedin.com/jobs/view/3728223830</td>\n",
       "      <td>NaN</td>\n",
       "      <td>3728223830</td>\n",
       "    </tr>\n",
       "    <tr>\n",
       "      <th>1140</th>\n",
       "      <td>NaN</td>\n",
       "      <td>NaN</td>\n",
       "      <td>NaN</td>\n",
       "      <td>https://www.linkedin.com/jobs/view/3728228637</td>\n",
       "      <td>NaN</td>\n",
       "      <td>3728228637</td>\n",
       "    </tr>\n",
       "    <tr>\n",
       "      <th>1187</th>\n",
       "      <td>NaN</td>\n",
       "      <td>NaN</td>\n",
       "      <td>NaN</td>\n",
       "      <td>https://www.linkedin.com/jobs/view/3728222119</td>\n",
       "      <td>NaN</td>\n",
       "      <td>3728222119</td>\n",
       "    </tr>\n",
       "    <tr>\n",
       "      <th>1251</th>\n",
       "      <td>NaN</td>\n",
       "      <td>NaN</td>\n",
       "      <td>NaN</td>\n",
       "      <td>https://www.linkedin.com/jobs/view/3728820515</td>\n",
       "      <td>NaN</td>\n",
       "      <td>3728820515</td>\n",
       "    </tr>\n",
       "    <tr>\n",
       "      <th>1257</th>\n",
       "      <td>NaN</td>\n",
       "      <td>NaN</td>\n",
       "      <td>NaN</td>\n",
       "      <td>https://www.linkedin.com/jobs/view/3728821371</td>\n",
       "      <td>NaN</td>\n",
       "      <td>3728821371</td>\n",
       "    </tr>\n",
       "    <tr>\n",
       "      <th>1290</th>\n",
       "      <td>NaN</td>\n",
       "      <td>NaN</td>\n",
       "      <td>NaN</td>\n",
       "      <td>https://www.linkedin.com/jobs/view/3728816833</td>\n",
       "      <td>NaN</td>\n",
       "      <td>3728816833</td>\n",
       "    </tr>\n",
       "    <tr>\n",
       "      <th>1401</th>\n",
       "      <td>NaN</td>\n",
       "      <td>NaN</td>\n",
       "      <td>NaN</td>\n",
       "      <td>https://www.linkedin.com/jobs/view/3728018841</td>\n",
       "      <td>NaN</td>\n",
       "      <td>3728018841</td>\n",
       "    </tr>\n",
       "    <tr>\n",
       "      <th>1545</th>\n",
       "      <td>NaN</td>\n",
       "      <td>NaN</td>\n",
       "      <td>NaN</td>\n",
       "      <td>https://www.linkedin.com/jobs/view/3723011891</td>\n",
       "      <td>NaN</td>\n",
       "      <td>3723011891</td>\n",
       "    </tr>\n",
       "    <tr>\n",
       "      <th>1672</th>\n",
       "      <td>NaN</td>\n",
       "      <td>NaN</td>\n",
       "      <td>NaN</td>\n",
       "      <td>https://www.linkedin.com/jobs/view/3731105173</td>\n",
       "      <td>NaN</td>\n",
       "      <td>3731105173</td>\n",
       "    </tr>\n",
       "    <tr>\n",
       "      <th>1678</th>\n",
       "      <td>NaN</td>\n",
       "      <td>NaN</td>\n",
       "      <td>NaN</td>\n",
       "      <td>https://www.linkedin.com/jobs/view/3724947099</td>\n",
       "      <td>NaN</td>\n",
       "      <td>3724947099</td>\n",
       "    </tr>\n",
       "    <tr>\n",
       "      <th>1696</th>\n",
       "      <td>NaN</td>\n",
       "      <td>NaN</td>\n",
       "      <td>NaN</td>\n",
       "      <td>https://www.linkedin.com/jobs/view/3731102765</td>\n",
       "      <td>NaN</td>\n",
       "      <td>3731102765</td>\n",
       "    </tr>\n",
       "    <tr>\n",
       "      <th>1697</th>\n",
       "      <td>NaN</td>\n",
       "      <td>NaN</td>\n",
       "      <td>NaN</td>\n",
       "      <td>https://www.linkedin.com/jobs/view/3730132625</td>\n",
       "      <td>NaN</td>\n",
       "      <td>3730132625</td>\n",
       "    </tr>\n",
       "    <tr>\n",
       "      <th>1703</th>\n",
       "      <td>NaN</td>\n",
       "      <td>NaN</td>\n",
       "      <td>NaN</td>\n",
       "      <td>https://www.linkedin.com/jobs/view/3731101706</td>\n",
       "      <td>NaN</td>\n",
       "      <td>3731101706</td>\n",
       "    </tr>\n",
       "    <tr>\n",
       "      <th>1721</th>\n",
       "      <td>NaN</td>\n",
       "      <td>NaN</td>\n",
       "      <td>NaN</td>\n",
       "      <td>https://www.linkedin.com/jobs/view/3731104986</td>\n",
       "      <td>NaN</td>\n",
       "      <td>3731104986</td>\n",
       "    </tr>\n",
       "    <tr>\n",
       "      <th>1793</th>\n",
       "      <td>NaN</td>\n",
       "      <td>NaN</td>\n",
       "      <td>NaN</td>\n",
       "      <td>https://www.linkedin.com/jobs/view/3730337976</td>\n",
       "      <td>NaN</td>\n",
       "      <td>3730337976</td>\n",
       "    </tr>\n",
       "    <tr>\n",
       "      <th>1798</th>\n",
       "      <td>NaN</td>\n",
       "      <td>NaN</td>\n",
       "      <td>NaN</td>\n",
       "      <td>https://www.linkedin.com/jobs/view/3730339864</td>\n",
       "      <td>NaN</td>\n",
       "      <td>3730339864</td>\n",
       "    </tr>\n",
       "    <tr>\n",
       "      <th>1809</th>\n",
       "      <td>NaN</td>\n",
       "      <td>NaN</td>\n",
       "      <td>NaN</td>\n",
       "      <td>https://www.linkedin.com/jobs/view/3726984475</td>\n",
       "      <td>NaN</td>\n",
       "      <td>3726984475</td>\n",
       "    </tr>\n",
       "    <tr>\n",
       "      <th>1942</th>\n",
       "      <td>NaN</td>\n",
       "      <td>NaN</td>\n",
       "      <td>NaN</td>\n",
       "      <td>https://www.linkedin.com/jobs/view/3726945051</td>\n",
       "      <td>NaN</td>\n",
       "      <td>3726945051</td>\n",
       "    </tr>\n",
       "    <tr>\n",
       "      <th>2426</th>\n",
       "      <td>NaN</td>\n",
       "      <td>NaN</td>\n",
       "      <td>NaN</td>\n",
       "      <td>https://www.linkedin.com/jobs/view/3683628387</td>\n",
       "      <td>NaN</td>\n",
       "      <td>3683628387</td>\n",
       "    </tr>\n",
       "    <tr>\n",
       "      <th>2492</th>\n",
       "      <td>NaN</td>\n",
       "      <td>NaN</td>\n",
       "      <td>NaN</td>\n",
       "      <td>https://www.linkedin.com/jobs/view/3731974280</td>\n",
       "      <td>NaN</td>\n",
       "      <td>3731974280</td>\n",
       "    </tr>\n",
       "    <tr>\n",
       "      <th>2520</th>\n",
       "      <td>NaN</td>\n",
       "      <td>NaN</td>\n",
       "      <td>NaN</td>\n",
       "      <td>https://www.linkedin.com/jobs/view/3731987286</td>\n",
       "      <td>NaN</td>\n",
       "      <td>3731987286</td>\n",
       "    </tr>\n",
       "    <tr>\n",
       "      <th>2651</th>\n",
       "      <td>NaN</td>\n",
       "      <td>NaN</td>\n",
       "      <td>NaN</td>\n",
       "      <td>https://www.linkedin.com/jobs/view/2871701449</td>\n",
       "      <td>NaN</td>\n",
       "      <td>2871701449</td>\n",
       "    </tr>\n",
       "    <tr>\n",
       "      <th>2785</th>\n",
       "      <td>NaN</td>\n",
       "      <td>NaN</td>\n",
       "      <td>NaN</td>\n",
       "      <td>https://www.linkedin.com/jobs/view/3732201419</td>\n",
       "      <td>NaN</td>\n",
       "      <td>3732201419</td>\n",
       "    </tr>\n",
       "    <tr>\n",
       "      <th>2847</th>\n",
       "      <td>NaN</td>\n",
       "      <td>NaN</td>\n",
       "      <td>NaN</td>\n",
       "      <td>https://www.linkedin.com/jobs/view/3732828395</td>\n",
       "      <td>NaN</td>\n",
       "      <td>3732828395</td>\n",
       "    </tr>\n",
       "    <tr>\n",
       "      <th>3198</th>\n",
       "      <td>NaN</td>\n",
       "      <td>NaN</td>\n",
       "      <td>NaN</td>\n",
       "      <td>https://www.linkedin.com/jobs/view/3729313927</td>\n",
       "      <td>NaN</td>\n",
       "      <td>3729313927</td>\n",
       "    </tr>\n",
       "    <tr>\n",
       "      <th>3204</th>\n",
       "      <td>NaN</td>\n",
       "      <td>NaN</td>\n",
       "      <td>NaN</td>\n",
       "      <td>https://www.linkedin.com/jobs/view/3729313975</td>\n",
       "      <td>NaN</td>\n",
       "      <td>3729313975</td>\n",
       "    </tr>\n",
       "    <tr>\n",
       "      <th>3279</th>\n",
       "      <td>NaN</td>\n",
       "      <td>NaN</td>\n",
       "      <td>NaN</td>\n",
       "      <td>https://www.linkedin.com/jobs/view/3729314954</td>\n",
       "      <td>NaN</td>\n",
       "      <td>3729314954</td>\n",
       "    </tr>\n",
       "    <tr>\n",
       "      <th>3367</th>\n",
       "      <td>NaN</td>\n",
       "      <td>NaN</td>\n",
       "      <td>NaN</td>\n",
       "      <td>https://www.linkedin.com/jobs/view/3729365255</td>\n",
       "      <td>NaN</td>\n",
       "      <td>3729365255</td>\n",
       "    </tr>\n",
       "    <tr>\n",
       "      <th>3514</th>\n",
       "      <td>NaN</td>\n",
       "      <td>NaN</td>\n",
       "      <td>NaN</td>\n",
       "      <td>https://www.linkedin.com/jobs/view/3734009882</td>\n",
       "      <td>NaN</td>\n",
       "      <td>3734009882</td>\n",
       "    </tr>\n",
       "    <tr>\n",
       "      <th>3543</th>\n",
       "      <td>NaN</td>\n",
       "      <td>NaN</td>\n",
       "      <td>NaN</td>\n",
       "      <td>https://www.linkedin.com/jobs/view/3734000582</td>\n",
       "      <td>NaN</td>\n",
       "      <td>3734000582</td>\n",
       "    </tr>\n",
       "    <tr>\n",
       "      <th>3635</th>\n",
       "      <td>NaN</td>\n",
       "      <td>NaN</td>\n",
       "      <td>NaN</td>\n",
       "      <td>https://www.linkedin.com/jobs/view/3729346118</td>\n",
       "      <td>NaN</td>\n",
       "      <td>3729346118</td>\n",
       "    </tr>\n",
       "    <tr>\n",
       "      <th>3638</th>\n",
       "      <td>NaN</td>\n",
       "      <td>NaN</td>\n",
       "      <td>NaN</td>\n",
       "      <td>https://www.linkedin.com/jobs/view/3734015220</td>\n",
       "      <td>NaN</td>\n",
       "      <td>3734015220</td>\n",
       "    </tr>\n",
       "    <tr>\n",
       "      <th>3661</th>\n",
       "      <td>NaN</td>\n",
       "      <td>NaN</td>\n",
       "      <td>NaN</td>\n",
       "      <td>https://www.linkedin.com/jobs/view/3734828531</td>\n",
       "      <td>NaN</td>\n",
       "      <td>3734828531</td>\n",
       "    </tr>\n",
       "    <tr>\n",
       "      <th>3762</th>\n",
       "      <td>NaN</td>\n",
       "      <td>NaN</td>\n",
       "      <td>NaN</td>\n",
       "      <td>https://www.linkedin.com/jobs/view/3733823415</td>\n",
       "      <td>NaN</td>\n",
       "      <td>3733823415</td>\n",
       "    </tr>\n",
       "    <tr>\n",
       "      <th>3771</th>\n",
       "      <td>NaN</td>\n",
       "      <td>NaN</td>\n",
       "      <td>NaN</td>\n",
       "      <td>https://www.linkedin.com/jobs/view/3734237826</td>\n",
       "      <td>NaN</td>\n",
       "      <td>3734237826</td>\n",
       "    </tr>\n",
       "    <tr>\n",
       "      <th>3821</th>\n",
       "      <td>NaN</td>\n",
       "      <td>NaN</td>\n",
       "      <td>NaN</td>\n",
       "      <td>https://www.linkedin.com/jobs/view/3730520661</td>\n",
       "      <td>NaN</td>\n",
       "      <td>3730520661</td>\n",
       "    </tr>\n",
       "    <tr>\n",
       "      <th>3844</th>\n",
       "      <td>NaN</td>\n",
       "      <td>NaN</td>\n",
       "      <td>NaN</td>\n",
       "      <td>https://www.linkedin.com/jobs/view/3735709645</td>\n",
       "      <td>NaN</td>\n",
       "      <td>3735709645</td>\n",
       "    </tr>\n",
       "    <tr>\n",
       "      <th>3896</th>\n",
       "      <td>NaN</td>\n",
       "      <td>NaN</td>\n",
       "      <td>NaN</td>\n",
       "      <td>https://www.linkedin.com/jobs/view/3734527500</td>\n",
       "      <td>NaN</td>\n",
       "      <td>3734527500</td>\n",
       "    </tr>\n",
       "    <tr>\n",
       "      <th>3899</th>\n",
       "      <td>NaN</td>\n",
       "      <td>NaN</td>\n",
       "      <td>NaN</td>\n",
       "      <td>https://www.linkedin.com/jobs/view/3734510079</td>\n",
       "      <td>NaN</td>\n",
       "      <td>3734510079</td>\n",
       "    </tr>\n",
       "    <tr>\n",
       "      <th>3909</th>\n",
       "      <td>NaN</td>\n",
       "      <td>NaN</td>\n",
       "      <td>NaN</td>\n",
       "      <td>https://www.linkedin.com/jobs/view/3734523909</td>\n",
       "      <td>NaN</td>\n",
       "      <td>3734523909</td>\n",
       "    </tr>\n",
       "    <tr>\n",
       "      <th>3921</th>\n",
       "      <td>NaN</td>\n",
       "      <td>NaN</td>\n",
       "      <td>NaN</td>\n",
       "      <td>https://www.linkedin.com/jobs/view/3734528250</td>\n",
       "      <td>NaN</td>\n",
       "      <td>3734528250</td>\n",
       "    </tr>\n",
       "    <tr>\n",
       "      <th>4015</th>\n",
       "      <td>NaN</td>\n",
       "      <td>NaN</td>\n",
       "      <td>NaN</td>\n",
       "      <td>https://www.linkedin.com/jobs/view/3735940215</td>\n",
       "      <td>NaN</td>\n",
       "      <td>3735940215</td>\n",
       "    </tr>\n",
       "    <tr>\n",
       "      <th>4179</th>\n",
       "      <td>NaN</td>\n",
       "      <td>NaN</td>\n",
       "      <td>NaN</td>\n",
       "      <td>https://www.linkedin.com/jobs/view/3735938582</td>\n",
       "      <td>NaN</td>\n",
       "      <td>3735938582</td>\n",
       "    </tr>\n",
       "    <tr>\n",
       "      <th>4188</th>\n",
       "      <td>NaN</td>\n",
       "      <td>NaN</td>\n",
       "      <td>NaN</td>\n",
       "      <td>https://www.linkedin.com/jobs/view/3735942025</td>\n",
       "      <td>NaN</td>\n",
       "      <td>3735942025</td>\n",
       "    </tr>\n",
       "    <tr>\n",
       "      <th>4190</th>\n",
       "      <td>NaN</td>\n",
       "      <td>NaN</td>\n",
       "      <td>NaN</td>\n",
       "      <td>https://www.linkedin.com/jobs/view/3735939231</td>\n",
       "      <td>NaN</td>\n",
       "      <td>3735939231</td>\n",
       "    </tr>\n",
       "    <tr>\n",
       "      <th>4196</th>\n",
       "      <td>NaN</td>\n",
       "      <td>NaN</td>\n",
       "      <td>NaN</td>\n",
       "      <td>https://www.linkedin.com/jobs/view/3735939239</td>\n",
       "      <td>NaN</td>\n",
       "      <td>3735939239</td>\n",
       "    </tr>\n",
       "  </tbody>\n",
       "</table>\n",
       "</div>"
      ],
      "text/plain": [
       "     Job Title Job Info Job Type  \\\n",
       "110        NaN      NaN      NaN   \n",
       "125        NaN      NaN      NaN   \n",
       "417        NaN      NaN      NaN   \n",
       "420        NaN      NaN      NaN   \n",
       "456        NaN      NaN      NaN   \n",
       "874        NaN      NaN      NaN   \n",
       "981        NaN      NaN      NaN   \n",
       "1140       NaN      NaN      NaN   \n",
       "1187       NaN      NaN      NaN   \n",
       "1251       NaN      NaN      NaN   \n",
       "1257       NaN      NaN      NaN   \n",
       "1290       NaN      NaN      NaN   \n",
       "1401       NaN      NaN      NaN   \n",
       "1545       NaN      NaN      NaN   \n",
       "1672       NaN      NaN      NaN   \n",
       "1678       NaN      NaN      NaN   \n",
       "1696       NaN      NaN      NaN   \n",
       "1697       NaN      NaN      NaN   \n",
       "1703       NaN      NaN      NaN   \n",
       "1721       NaN      NaN      NaN   \n",
       "1793       NaN      NaN      NaN   \n",
       "1798       NaN      NaN      NaN   \n",
       "1809       NaN      NaN      NaN   \n",
       "1942       NaN      NaN      NaN   \n",
       "2426       NaN      NaN      NaN   \n",
       "2492       NaN      NaN      NaN   \n",
       "2520       NaN      NaN      NaN   \n",
       "2651       NaN      NaN      NaN   \n",
       "2785       NaN      NaN      NaN   \n",
       "2847       NaN      NaN      NaN   \n",
       "3198       NaN      NaN      NaN   \n",
       "3204       NaN      NaN      NaN   \n",
       "3279       NaN      NaN      NaN   \n",
       "3367       NaN      NaN      NaN   \n",
       "3514       NaN      NaN      NaN   \n",
       "3543       NaN      NaN      NaN   \n",
       "3635       NaN      NaN      NaN   \n",
       "3638       NaN      NaN      NaN   \n",
       "3661       NaN      NaN      NaN   \n",
       "3762       NaN      NaN      NaN   \n",
       "3771       NaN      NaN      NaN   \n",
       "3821       NaN      NaN      NaN   \n",
       "3844       NaN      NaN      NaN   \n",
       "3896       NaN      NaN      NaN   \n",
       "3899       NaN      NaN      NaN   \n",
       "3909       NaN      NaN      NaN   \n",
       "3921       NaN      NaN      NaN   \n",
       "4015       NaN      NaN      NaN   \n",
       "4179       NaN      NaN      NaN   \n",
       "4188       NaN      NaN      NaN   \n",
       "4190       NaN      NaN      NaN   \n",
       "4196       NaN      NaN      NaN   \n",
       "\n",
       "                                               Job Link employees      Job ID  \n",
       "110       https://www.linkedin.com/jobs/view/3716079439       NaN  3716079439  \n",
       "125       https://www.linkedin.com/jobs/view/3728144603       NaN  3728144603  \n",
       "417   https://www.linkedin.com/jobs/view/3728021212/...       NaN  3728021212  \n",
       "420   https://www.linkedin.com/jobs/view/3727051751/...       NaN  3727051751  \n",
       "456   https://www.linkedin.com/jobs/view/3726689376/...       NaN  3726689376  \n",
       "874       https://www.linkedin.com/jobs/view/3727538965       NaN  3727538965  \n",
       "981       https://www.linkedin.com/jobs/view/3728223830       NaN  3728223830  \n",
       "1140      https://www.linkedin.com/jobs/view/3728228637       NaN  3728228637  \n",
       "1187      https://www.linkedin.com/jobs/view/3728222119       NaN  3728222119  \n",
       "1251      https://www.linkedin.com/jobs/view/3728820515       NaN  3728820515  \n",
       "1257      https://www.linkedin.com/jobs/view/3728821371       NaN  3728821371  \n",
       "1290      https://www.linkedin.com/jobs/view/3728816833       NaN  3728816833  \n",
       "1401      https://www.linkedin.com/jobs/view/3728018841       NaN  3728018841  \n",
       "1545      https://www.linkedin.com/jobs/view/3723011891       NaN  3723011891  \n",
       "1672      https://www.linkedin.com/jobs/view/3731105173       NaN  3731105173  \n",
       "1678      https://www.linkedin.com/jobs/view/3724947099       NaN  3724947099  \n",
       "1696      https://www.linkedin.com/jobs/view/3731102765       NaN  3731102765  \n",
       "1697      https://www.linkedin.com/jobs/view/3730132625       NaN  3730132625  \n",
       "1703      https://www.linkedin.com/jobs/view/3731101706       NaN  3731101706  \n",
       "1721      https://www.linkedin.com/jobs/view/3731104986       NaN  3731104986  \n",
       "1793      https://www.linkedin.com/jobs/view/3730337976       NaN  3730337976  \n",
       "1798      https://www.linkedin.com/jobs/view/3730339864       NaN  3730339864  \n",
       "1809      https://www.linkedin.com/jobs/view/3726984475       NaN  3726984475  \n",
       "1942      https://www.linkedin.com/jobs/view/3726945051       NaN  3726945051  \n",
       "2426      https://www.linkedin.com/jobs/view/3683628387       NaN  3683628387  \n",
       "2492      https://www.linkedin.com/jobs/view/3731974280       NaN  3731974280  \n",
       "2520      https://www.linkedin.com/jobs/view/3731987286       NaN  3731987286  \n",
       "2651      https://www.linkedin.com/jobs/view/2871701449       NaN  2871701449  \n",
       "2785      https://www.linkedin.com/jobs/view/3732201419       NaN  3732201419  \n",
       "2847      https://www.linkedin.com/jobs/view/3732828395       NaN  3732828395  \n",
       "3198      https://www.linkedin.com/jobs/view/3729313927       NaN  3729313927  \n",
       "3204      https://www.linkedin.com/jobs/view/3729313975       NaN  3729313975  \n",
       "3279      https://www.linkedin.com/jobs/view/3729314954       NaN  3729314954  \n",
       "3367      https://www.linkedin.com/jobs/view/3729365255       NaN  3729365255  \n",
       "3514      https://www.linkedin.com/jobs/view/3734009882       NaN  3734009882  \n",
       "3543      https://www.linkedin.com/jobs/view/3734000582       NaN  3734000582  \n",
       "3635      https://www.linkedin.com/jobs/view/3729346118       NaN  3729346118  \n",
       "3638      https://www.linkedin.com/jobs/view/3734015220       NaN  3734015220  \n",
       "3661      https://www.linkedin.com/jobs/view/3734828531       NaN  3734828531  \n",
       "3762      https://www.linkedin.com/jobs/view/3733823415       NaN  3733823415  \n",
       "3771      https://www.linkedin.com/jobs/view/3734237826       NaN  3734237826  \n",
       "3821      https://www.linkedin.com/jobs/view/3730520661       NaN  3730520661  \n",
       "3844      https://www.linkedin.com/jobs/view/3735709645       NaN  3735709645  \n",
       "3896      https://www.linkedin.com/jobs/view/3734527500       NaN  3734527500  \n",
       "3899      https://www.linkedin.com/jobs/view/3734510079       NaN  3734510079  \n",
       "3909      https://www.linkedin.com/jobs/view/3734523909       NaN  3734523909  \n",
       "3921      https://www.linkedin.com/jobs/view/3734528250       NaN  3734528250  \n",
       "4015      https://www.linkedin.com/jobs/view/3735940215       NaN  3735940215  \n",
       "4179      https://www.linkedin.com/jobs/view/3735938582       NaN  3735938582  \n",
       "4188      https://www.linkedin.com/jobs/view/3735942025       NaN  3735942025  \n",
       "4190      https://www.linkedin.com/jobs/view/3735939231       NaN  3735939231  \n",
       "4196      https://www.linkedin.com/jobs/view/3735939239       NaN  3735939239  "
      ]
     },
     "execution_count": 18,
     "metadata": {},
     "output_type": "execute_result"
    }
   ],
   "source": [
    "null_rows = df[df.isnull().any(axis=1)]\n",
    "null_rows"
   ]
  },
  {
   "cell_type": "code",
   "execution_count": 19,
   "id": "fe7895fe-ab7a-4063-bd60-cfdad73bb37e",
   "metadata": {},
   "outputs": [
    {
     "data": {
      "text/plain": [
       "52"
      ]
     },
     "execution_count": 19,
     "metadata": {},
     "output_type": "execute_result"
    }
   ],
   "source": [
    "len(null_rows)"
   ]
  },
  {
   "cell_type": "markdown",
   "id": "9e16b38b-9637-4367-b517-81277fef758b",
   "metadata": {},
   "source": [
    "### dealing Null values"
   ]
  },
  {
   "cell_type": "code",
   "execution_count": 20,
   "id": "7bcb895e-4286-4f56-acd3-7a5658a88695",
   "metadata": {},
   "outputs": [],
   "source": [
    "# df.dropna(inplace=True)\n",
    "# df.loc[:].dropna(inplace=True)\n",
    "# df.loc[:,:].dropna(inplace=True)\n",
    "# df.loc[:,].dropna(inplace=True)\n",
    "# df.loc[:, :] = df.dropna()\n",
    "# df"
   ]
  },
  {
   "cell_type": "markdown",
   "id": "6de52729-3781-4487-91e0-ecab818a287a",
   "metadata": {},
   "source": [
    "***non rows not dropped***"
   ]
  },
  {
   "cell_type": "code",
   "execution_count": 21,
   "id": "5f19616d-7644-4cfc-95b6-ddf8e79e1904",
   "metadata": {},
   "outputs": [
    {
     "data": {
      "text/html": [
       "<div>\n",
       "<style scoped>\n",
       "    .dataframe tbody tr th:only-of-type {\n",
       "        vertical-align: middle;\n",
       "    }\n",
       "\n",
       "    .dataframe tbody tr th {\n",
       "        vertical-align: top;\n",
       "    }\n",
       "\n",
       "    .dataframe thead th {\n",
       "        text-align: right;\n",
       "    }\n",
       "</style>\n",
       "<table border=\"1\" class=\"dataframe\">\n",
       "  <thead>\n",
       "    <tr style=\"text-align: right;\">\n",
       "      <th></th>\n",
       "      <th>Job Title</th>\n",
       "      <th>Job Info</th>\n",
       "      <th>Job Type</th>\n",
       "      <th>Job Link</th>\n",
       "      <th>employees</th>\n",
       "      <th>Job ID</th>\n",
       "    </tr>\n",
       "  </thead>\n",
       "  <tbody>\n",
       "    <tr>\n",
       "      <th>0</th>\n",
       "      <td>LinkedIn Data Extractor</td>\n",
       "      <td>EcomFleet · Pakistan (Remote)  \\n1 week ago</td>\n",
       "      <td>Full-time</td>\n",
       "      <td>https://www.linkedin.com/jobs/view/3727054368</td>\n",
       "      <td>11-50 employees</td>\n",
       "      <td>3727054368</td>\n",
       "    </tr>\n",
       "    <tr>\n",
       "      <th>1</th>\n",
       "      <td>It Management Intern</td>\n",
       "      <td>Digicon Valley · Lahore, Punjab, Pakistan (On-...</td>\n",
       "      <td>Full-time</td>\n",
       "      <td>https://www.linkedin.com/jobs/view/3723395858</td>\n",
       "      <td>11-50 employees</td>\n",
       "      <td>3723395858</td>\n",
       "    </tr>\n",
       "    <tr>\n",
       "      <th>2</th>\n",
       "      <td>SQL Database Developer</td>\n",
       "      <td>Murkez Technologies · Lahore, Punjab, Pakistan...</td>\n",
       "      <td>Full-time</td>\n",
       "      <td>https://www.linkedin.com/jobs/view/3727034665</td>\n",
       "      <td>51-200 employees</td>\n",
       "      <td>3727034665</td>\n",
       "    </tr>\n",
       "    <tr>\n",
       "      <th>3</th>\n",
       "      <td>Business Intelligence Developer</td>\n",
       "      <td>DevNatives · Islamabad, Islāmābād, Pakistan (H...</td>\n",
       "      <td>Full-time</td>\n",
       "      <td>https://www.linkedin.com/jobs/view/3727029273</td>\n",
       "      <td>11-50 employees</td>\n",
       "      <td>3727029273</td>\n",
       "    </tr>\n",
       "    <tr>\n",
       "      <th>4</th>\n",
       "      <td>Web Developer - Internship</td>\n",
       "      <td>ItCreaters · Lahore, Punjab, Pakistan (On-site...</td>\n",
       "      <td>Full-time</td>\n",
       "      <td>https://www.linkedin.com/jobs/view/3727034696</td>\n",
       "      <td>Mobeen Naqvi is hiring for this job</td>\n",
       "      <td>3727034696</td>\n",
       "    </tr>\n",
       "    <tr>\n",
       "      <th>...</th>\n",
       "      <td>...</td>\n",
       "      <td>...</td>\n",
       "      <td>...</td>\n",
       "      <td>...</td>\n",
       "      <td>...</td>\n",
       "      <td>...</td>\n",
       "    </tr>\n",
       "    <tr>\n",
       "      <th>4209</th>\n",
       "      <td>Oracle Apps DBA - R12 (Full Customization)</td>\n",
       "      <td>Rozee.pk · Lahore, Punjab, Pakistan  \\n4 days ago</td>\n",
       "      <td>On-site\\n\\n \\nFull-time</td>\n",
       "      <td>https://www.linkedin.com/jobs/view/3734517227</td>\n",
       "      <td>501-1,000 employees</td>\n",
       "      <td>3734517227</td>\n",
       "    </tr>\n",
       "    <tr>\n",
       "      <th>4210</th>\n",
       "      <td>Engineer, Service-to-Service Fabric</td>\n",
       "      <td>Atlassian · APAC Reposted  \\n3 days ago\\n\\n · ...</td>\n",
       "      <td>Remote\\n\\n \\nFull-time\\n\\n \\nMid-Senior level</td>\n",
       "      <td>https://www.linkedin.com/jobs/view/3730554639</td>\n",
       "      <td>5,001-10,000 employees · Software Development</td>\n",
       "      <td>3730554639</td>\n",
       "    </tr>\n",
       "    <tr>\n",
       "      <th>4211</th>\n",
       "      <td>Technical Product Manager (OTE $80,000/year US...</td>\n",
       "      <td>Sparkrock · South Asia  \\n4 days ago\\n\\n · 144...</td>\n",
       "      <td>Remote\\n\\n \\nFull-time\\n\\n \\nEntry level</td>\n",
       "      <td>https://www.linkedin.com/jobs/view/3731001750</td>\n",
       "      <td>51-200 employees · IT Services and IT Consulting</td>\n",
       "      <td>3731001750</td>\n",
       "    </tr>\n",
       "    <tr>\n",
       "      <th>4212</th>\n",
       "      <td>Senior IOS Developer</td>\n",
       "      <td>ekar · Pakistan  \\n4 days ago\\n\\n · 223 applic...</td>\n",
       "      <td>Remote\\n\\n \\nFull-time\\n\\n \\nMid-Senior level</td>\n",
       "      <td>https://www.linkedin.com/jobs/view/3736179533</td>\n",
       "      <td>51-200 employees · Transportation, Logistics, ...</td>\n",
       "      <td>3736179533</td>\n",
       "    </tr>\n",
       "    <tr>\n",
       "      <th>4213</th>\n",
       "      <td>Technical Product Manager (OTE $80,000/year US...</td>\n",
       "      <td>Sparkrock · South Asia  \\n4 days ago\\n\\n · 137...</td>\n",
       "      <td>Remote\\n\\n \\nFull-time\\n\\n \\nEntry level</td>\n",
       "      <td>https://www.linkedin.com/jobs/view/3731006178</td>\n",
       "      <td>51-200 employees · IT Services and IT Consulting</td>\n",
       "      <td>3731006178</td>\n",
       "    </tr>\n",
       "  </tbody>\n",
       "</table>\n",
       "<p>3571 rows × 6 columns</p>\n",
       "</div>"
      ],
      "text/plain": [
       "                                              Job Title  \\\n",
       "0                               LinkedIn Data Extractor   \n",
       "1                                  It Management Intern   \n",
       "2                                SQL Database Developer   \n",
       "3                       Business Intelligence Developer   \n",
       "4                            Web Developer - Internship   \n",
       "...                                                 ...   \n",
       "4209         Oracle Apps DBA - R12 (Full Customization)   \n",
       "4210                Engineer, Service-to-Service Fabric   \n",
       "4211  Technical Product Manager (OTE $80,000/year US...   \n",
       "4212                               Senior IOS Developer   \n",
       "4213  Technical Product Manager (OTE $80,000/year US...   \n",
       "\n",
       "                                               Job Info  \\\n",
       "0           EcomFleet · Pakistan (Remote)  \\n1 week ago   \n",
       "1     Digicon Valley · Lahore, Punjab, Pakistan (On-...   \n",
       "2     Murkez Technologies · Lahore, Punjab, Pakistan...   \n",
       "3     DevNatives · Islamabad, Islāmābād, Pakistan (H...   \n",
       "4     ItCreaters · Lahore, Punjab, Pakistan (On-site...   \n",
       "...                                                 ...   \n",
       "4209  Rozee.pk · Lahore, Punjab, Pakistan  \\n4 days ago   \n",
       "4210  Atlassian · APAC Reposted  \\n3 days ago\\n\\n · ...   \n",
       "4211  Sparkrock · South Asia  \\n4 days ago\\n\\n · 144...   \n",
       "4212  ekar · Pakistan  \\n4 days ago\\n\\n · 223 applic...   \n",
       "4213  Sparkrock · South Asia  \\n4 days ago\\n\\n · 137...   \n",
       "\n",
       "                                           Job Type  \\\n",
       "0                                         Full-time   \n",
       "1                                         Full-time   \n",
       "2                                         Full-time   \n",
       "3                                         Full-time   \n",
       "4                                         Full-time   \n",
       "...                                             ...   \n",
       "4209                        On-site\\n\\n \\nFull-time   \n",
       "4210  Remote\\n\\n \\nFull-time\\n\\n \\nMid-Senior level   \n",
       "4211       Remote\\n\\n \\nFull-time\\n\\n \\nEntry level   \n",
       "4212  Remote\\n\\n \\nFull-time\\n\\n \\nMid-Senior level   \n",
       "4213       Remote\\n\\n \\nFull-time\\n\\n \\nEntry level   \n",
       "\n",
       "                                           Job Link  \\\n",
       "0     https://www.linkedin.com/jobs/view/3727054368   \n",
       "1     https://www.linkedin.com/jobs/view/3723395858   \n",
       "2     https://www.linkedin.com/jobs/view/3727034665   \n",
       "3     https://www.linkedin.com/jobs/view/3727029273   \n",
       "4     https://www.linkedin.com/jobs/view/3727034696   \n",
       "...                                             ...   \n",
       "4209  https://www.linkedin.com/jobs/view/3734517227   \n",
       "4210  https://www.linkedin.com/jobs/view/3730554639   \n",
       "4211  https://www.linkedin.com/jobs/view/3731001750   \n",
       "4212  https://www.linkedin.com/jobs/view/3736179533   \n",
       "4213  https://www.linkedin.com/jobs/view/3731006178   \n",
       "\n",
       "                                              employees      Job ID  \n",
       "0                                       11-50 employees  3727054368  \n",
       "1                                       11-50 employees  3723395858  \n",
       "2                                      51-200 employees  3727034665  \n",
       "3                                       11-50 employees  3727029273  \n",
       "4                   Mobeen Naqvi is hiring for this job  3727034696  \n",
       "...                                                 ...         ...  \n",
       "4209                                501-1,000 employees  3734517227  \n",
       "4210      5,001-10,000 employees · Software Development  3730554639  \n",
       "4211   51-200 employees · IT Services and IT Consulting  3731001750  \n",
       "4212  51-200 employees · Transportation, Logistics, ...  3736179533  \n",
       "4213   51-200 employees · IT Services and IT Consulting  3731006178  \n",
       "\n",
       "[3571 rows x 6 columns]"
      ]
     },
     "execution_count": 21,
     "metadata": {},
     "output_type": "execute_result"
    }
   ],
   "source": [
    "df= df.dropna()\n",
    "df"
   ]
  },
  {
   "cell_type": "code",
   "execution_count": 22,
   "id": "f097098d-a13d-4b5c-bacb-8f9c66831844",
   "metadata": {},
   "outputs": [
    {
     "data": {
      "text/plain": [
       "3571"
      ]
     },
     "execution_count": 22,
     "metadata": {},
     "output_type": "execute_result"
    }
   ],
   "source": [
    "3623-52"
   ]
  },
  {
   "cell_type": "markdown",
   "id": "979c2c82-9715-434d-9675-d85dea728773",
   "metadata": {},
   "source": [
    "### exploring values in features"
   ]
  },
  {
   "cell_type": "code",
   "execution_count": 23,
   "id": "bb661eca-89c7-4f5f-8a8d-8569de19d3c3",
   "metadata": {},
   "outputs": [
    {
     "data": {
      "text/plain": [
       "array(['LinkedIn Data Extractor', 'It Management Intern',\n",
       "       'SQL Database Developer', ...,\n",
       "       'Engineer, Service-to-Service Fabric',\n",
       "       'Technical Product Manager (OTE $80,000/year USD), Sparkrock',\n",
       "       'Senior IOS Developer'], dtype=object)"
      ]
     },
     "execution_count": 23,
     "metadata": {},
     "output_type": "execute_result"
    }
   ],
   "source": [
    "df['Job Title'].unique()\t"
   ]
  },
  {
   "cell_type": "code",
   "execution_count": 24,
   "id": "547c53ea-8c93-40b1-bdc7-02565ac0c928",
   "metadata": {},
   "outputs": [
    {
     "data": {
      "text/plain": [
       "2341"
      ]
     },
     "execution_count": 24,
     "metadata": {},
     "output_type": "execute_result"
    }
   ],
   "source": [
    "len(df['Job Title'].unique())"
   ]
  },
  {
   "cell_type": "code",
   "execution_count": 25,
   "id": "c4b03fcb-6626-483c-9f5b-82814b41c880",
   "metadata": {},
   "outputs": [
    {
     "data": {
      "text/plain": [
       "Job Title\n",
       "Business Development Executive     47\n",
       "Sales Executive                    46\n",
       "Software Engineer                  28\n",
       "Educational Counselor              28\n",
       "Business Development Manager       23\n",
       "Sales Specialist                   21\n",
       "Senior Software Engineer           20\n",
       "Business Development Specialist    16\n",
       "Graphic Designer                   16\n",
       "International Sales Executive      14\n",
       "Business Development Officer       14\n",
       "Dotnet Developer                   14\n",
       "Salesperson                        13\n",
       "Full Stack Engineer                13\n",
       "Wordpress Developer                13\n",
       "DevOps Engineer                    13\n",
       "Digital Marketing Specialist       12\n",
       "Admissions Officer                 12\n",
       "Back End Developer                 12\n",
       "Customer Service Representative    12\n",
       "PHP Developer                      12\n",
       "Social Media Manager               12\n",
       "Sales And Marketing Specialist     12\n",
       "Angular Developer                  11\n",
       "Android Developer                  10\n",
       "Content Writer                     10\n",
       "Upwork Bidder                       9\n",
       "Unity Developer                     9\n",
       "Animator                            9\n",
       "Senior Graphic Designer             9\n",
       "Name: count, dtype: int64"
      ]
     },
     "execution_count": 25,
     "metadata": {},
     "output_type": "execute_result"
    }
   ],
   "source": [
    "df['Job Title'].value_counts()[:30]"
   ]
  },
  {
   "cell_type": "code",
   "execution_count": 26,
   "id": "aedf3e3e-42d4-4d1c-a8c8-0204153e95d0",
   "metadata": {},
   "outputs": [
    {
     "data": {
      "text/plain": [
       "array(['EcomFleet · Pakistan (Remote)  \\n1 week ago',\n",
       "       'Digicon Valley · Lahore, Punjab, Pakistan (On-site)  \\n2 weeks ago',\n",
       "       'Murkez Technologies · Lahore, Punjab, Pakistan (On-site)  \\n1 week ago',\n",
       "       ..., 'Sparkrock · South Asia  \\n4 days ago\\n\\n · 144 applicants',\n",
       "       'ekar · Pakistan  \\n4 days ago\\n\\n · 223 applicants',\n",
       "       'Sparkrock · South Asia  \\n4 days ago\\n\\n · 137 applicants'],\n",
       "      dtype=object)"
      ]
     },
     "execution_count": 26,
     "metadata": {},
     "output_type": "execute_result"
    }
   ],
   "source": [
    "df['Job Info'].unique()"
   ]
  },
  {
   "cell_type": "code",
   "execution_count": 27,
   "id": "fe8930a3-aea0-4364-b951-ebfcf006c004",
   "metadata": {},
   "outputs": [
    {
     "data": {
      "text/plain": [
       "3173"
      ]
     },
     "execution_count": 27,
     "metadata": {},
     "output_type": "execute_result"
    }
   ],
   "source": [
    "len(df['Job Info'].unique())"
   ]
  },
  {
   "cell_type": "code",
   "execution_count": 28,
   "id": "41ccb0b9-8489-4aa3-b205-9ebc9809c84f",
   "metadata": {},
   "outputs": [
    {
     "data": {
      "text/plain": [
       "array(['Full-time', 'Full-time · Mid-Senior level',\n",
       "       'Internship · Internship', 'Full-time · Associate', 'Internship',\n",
       "       'Full-time · Entry level', 'Part-time', 'Full-time · Internship',\n",
       "       'Contract · Mid-Senior level', 'Contract', 'Contract · Associate',\n",
       "       '$150/month - $300/month · Full-time', 'Full-time · Director',\n",
       "       'Part-time · Associate', 'Mr Ahsan is hiring for this job',\n",
       "       'Part-time · Executive', 'Contract · Executive',\n",
       "       'Part-time · Mid-Senior level', 'Contract · Entry level',\n",
       "       'Temporary · Mid-Senior level', 'Executive',\n",
       "       'Full-time · Executive', 'Sean Sato is hiring for this job',\n",
       "       'Part-time · Internship', 'Internship · Mid-Senior level',\n",
       "       '$12,000/yr - $15,000/yr · Full-time · Mid-Senior level',\n",
       "       '$200,000/yr · Full-time', 'Part-time · Entry level',\n",
       "       'dr.ry. L. is hiring for this job',\n",
       "       '10,001+ employees · Tobacco Manufacturing', 'Volunteer',\n",
       "       'On-site\\n\\n \\nFull-time\\n\\n \\nMid-Senior level',\n",
       "       'Hybrid\\n\\n \\nFull-time\\n\\n \\nMid-Senior level',\n",
       "       'Remote\\n\\n \\nFull-time\\n\\n \\nMid-Senior level',\n",
       "       'On-site\\n\\n \\nFull-time\\n\\n \\nAssociate',\n",
       "       'On-site\\n\\n \\nFull-time',\n",
       "       'Hybrid\\n\\n \\nFull-time\\n\\n \\nEntry level',\n",
       "       'Hybrid\\n\\n \\nFull-time\\n\\n \\nDirector', 'Remote\\n\\n \\nFull-time',\n",
       "       'On-site\\n\\n \\nFull-time\\n\\n \\nEntry level',\n",
       "       'Hybrid\\n\\n \\nFull-time\\n\\n \\nAssociate',\n",
       "       'Full-time\\n\\n \\nMid-Senior level', 'On-site\\n\\n \\nPart-time',\n",
       "       'Hybrid\\n\\n \\nFull-time',\n",
       "       'Remote\\n\\n \\nContract\\n\\n \\nMid-Senior level',\n",
       "       'On-site\\n\\n \\nFull-time\\n\\n \\nDirector',\n",
       "       'On-site\\n\\n \\nFull-time\\n\\n \\nExecutive',\n",
       "       'Remote\\n\\n \\nFull-time\\n\\n \\nEntry level'], dtype=object)"
      ]
     },
     "execution_count": 28,
     "metadata": {},
     "output_type": "execute_result"
    }
   ],
   "source": [
    "df['Job Type'].unique()"
   ]
  },
  {
   "cell_type": "code",
   "execution_count": 29,
   "id": "4354848b-d29f-438f-9fe9-2a8206c7b70c",
   "metadata": {},
   "outputs": [
    {
     "data": {
      "text/plain": [
       "48"
      ]
     },
     "execution_count": 29,
     "metadata": {},
     "output_type": "execute_result"
    }
   ],
   "source": [
    "len(df['Job Type'].unique())"
   ]
  },
  {
   "cell_type": "code",
   "execution_count": 30,
   "id": "e515a1fd-449e-4b09-ae1a-e5d12e5af743",
   "metadata": {},
   "outputs": [
    {
     "data": {
      "text/plain": [
       "0                                         11-50 employees\n",
       "1                                         11-50 employees\n",
       "2                                        51-200 employees\n",
       "3                                         11-50 employees\n",
       "4                     Mobeen Naqvi is hiring for this job\n",
       "                              ...                        \n",
       "4209                                  501-1,000 employees\n",
       "4210        5,001-10,000 employees · Software Development\n",
       "4211     51-200 employees · IT Services and IT Consulting\n",
       "4212    51-200 employees · Transportation, Logistics, ...\n",
       "4213     51-200 employees · IT Services and IT Consulting\n",
       "Name: employees, Length: 3571, dtype: object"
      ]
     },
     "execution_count": 30,
     "metadata": {},
     "output_type": "execute_result"
    }
   ],
   "source": [
    "df['employees']"
   ]
  },
  {
   "cell_type": "code",
   "execution_count": 31,
   "id": "c88ba348-0da9-402f-adec-9673477ded1e",
   "metadata": {},
   "outputs": [
    {
     "data": {
      "text/plain": [
       "array(['11-50 employees', '51-200 employees',\n",
       "       'Mobeen Naqvi is hiring for this job',\n",
       "       '1,001-5,000 employees · Software Development',\n",
       "       '501-1,000 employees · IT Services and IT Consulting',\n",
       "       '501-1,000 employees · Telecommunications',\n",
       "       '1,001-5,000 employees · Banking', '201-500 employees',\n",
       "       '10,001+ employees', '51-200 employees · Human Resources Services'],\n",
       "      dtype=object)"
      ]
     },
     "execution_count": 31,
     "metadata": {},
     "output_type": "execute_result"
    }
   ],
   "source": [
    "df['employees'].unique()[:10]"
   ]
  },
  {
   "cell_type": "code",
   "execution_count": 32,
   "id": "3df68a94-0eed-40ba-ab4c-4734ce7222ad",
   "metadata": {},
   "outputs": [
    {
     "data": {
      "text/plain": [
       "382"
      ]
     },
     "execution_count": 32,
     "metadata": {},
     "output_type": "execute_result"
    }
   ],
   "source": [
    "len(df['employees'].unique())"
   ]
  },
  {
   "cell_type": "markdown",
   "id": "f5e49f3c-8b43-4c01-9065-f9ec88a02dcb",
   "metadata": {},
   "source": [
    "### extracting company feature"
   ]
  },
  {
   "cell_type": "code",
   "execution_count": 33,
   "id": "89dfbf3f-980b-4ce8-8b16-f516226ec577",
   "metadata": {},
   "outputs": [],
   "source": [
    "# df'[company']=df['Job Info'].apply(lambda x:x.split('·')[0])\n",
    "df.loc[:,'company']=df['Job Info'].apply(lambda x:x.split('·')[0])"
   ]
  },
  {
   "cell_type": "code",
   "execution_count": 34,
   "id": "10ae8ac0-a479-43dd-9471-9a571c357929",
   "metadata": {},
   "outputs": [
    {
     "data": {
      "text/plain": [
       "array(['EcomFleet ', 'Digicon Valley ', 'Murkez Technologies ', ...,\n",
       "       'Sparkrock ', 'AdMaxim Inc. ', 'ekar '], dtype=object)"
      ]
     },
     "execution_count": 34,
     "metadata": {},
     "output_type": "execute_result"
    }
   ],
   "source": [
    "df['company'].unique()"
   ]
  },
  {
   "cell_type": "code",
   "execution_count": 35,
   "id": "8f5a511e-f87a-43fc-b4ef-54a39e2e1420",
   "metadata": {},
   "outputs": [
    {
     "data": {
      "text/plain": [
       "1866"
      ]
     },
     "execution_count": 35,
     "metadata": {},
     "output_type": "execute_result"
    }
   ],
   "source": [
    "len(df['company'].unique())"
   ]
  },
  {
   "cell_type": "code",
   "execution_count": 36,
   "id": "3fabbfff-80fe-4cc0-937a-e8bead185857",
   "metadata": {},
   "outputs": [
    {
     "data": {
      "text/plain": [
       "company\n",
       "Crossover                        149\n",
       "Turing                            55\n",
       "Zameen.com                        50\n",
       "Zones IT Solutions                48\n",
       "Times Consultant (Pvt.) Ltd.      44\n",
       "                                ... \n",
       "Beanbend                           1\n",
       "SOFIT Consultancy                  1\n",
       "4D Magic Software Pvt. Ltd         1\n",
       "Techanah                           1\n",
       "ekar                               1\n",
       "Name: count, Length: 1866, dtype: int64"
      ]
     },
     "execution_count": 36,
     "metadata": {},
     "output_type": "execute_result"
    }
   ],
   "source": [
    "df['company'].value_counts()"
   ]
  },
  {
   "cell_type": "code",
   "execution_count": 37,
   "id": "70ebe4bb-6551-4a1b-97da-83ed25279887",
   "metadata": {},
   "outputs": [
    {
     "data": {
      "text/plain": [
       "company\n",
       "Crossover                                   149\n",
       "Turing                                       55\n",
       "Zameen.com                                   50\n",
       "Zones IT Solutions                           48\n",
       "Times Consultant (Pvt.) Ltd.                 44\n",
       "HR Ways - Hiring Tech Talent                 34\n",
       "Jazz                                         28\n",
       "Afiniti                                      27\n",
       "Sui Southern Gas Company Limited             26\n",
       "BAT                                          24\n",
       "CrecenTech Systems Private Limited           24\n",
       "Motive                                       23\n",
       "Kamayi                                       23\n",
       "Telenor                                      21\n",
       "Dubizzle Labs                                21\n",
       "CureMD                                       20\n",
       "S&P Global                                   19\n",
       "TCP Software                                 19\n",
       "Four Elements Landscaping                    19\n",
       "The Indus Hospital                           16\n",
       "Talent Pal                                   16\n",
       "People (Professional Employers Pvt Ltd)      15\n",
       "foodpanda                                    14\n",
       "Fulcrum Pvt. Limited                         14\n",
       "Daraz                                        13\n",
       "Tree Top Staffing LLC                        13\n",
       "Siemens                                      13\n",
       "DMK Consultancy                              12\n",
       "Zong CMPak Ltd                               12\n",
       "GfK - An NIQ Company                         11\n",
       "Name: count, dtype: int64"
      ]
     },
     "execution_count": 37,
     "metadata": {},
     "output_type": "execute_result"
    }
   ],
   "source": [
    "df['company'].value_counts()[:30]"
   ]
  },
  {
   "cell_type": "markdown",
   "id": "19908cd7-521f-46cb-8d8f-ac0231ed9d8f",
   "metadata": {},
   "source": [
    "### extracting location"
   ]
  },
  {
   "cell_type": "code",
   "execution_count": 38,
   "id": "b5177d93-3401-4ae1-a571-dc6fc752896a",
   "metadata": {},
   "outputs": [],
   "source": [
    "df.loc[:,'location']=df['Job Info'].apply(lambda x:x.split('·')[1].split()[0].strip(','))"
   ]
  },
  {
   "cell_type": "code",
   "execution_count": 39,
   "id": "4f31fe70-a6fc-487e-a4b4-5f26745e27f1",
   "metadata": {},
   "outputs": [
    {
     "data": {
      "text/plain": [
       "0        Pakistan\n",
       "1          Lahore\n",
       "2          Lahore\n",
       "3       Islamabad\n",
       "4          Lahore\n",
       "          ...    \n",
       "4209       Lahore\n",
       "4210         APAC\n",
       "4211        South\n",
       "4212     Pakistan\n",
       "4213        South\n",
       "Name: location, Length: 3571, dtype: object"
      ]
     },
     "execution_count": 39,
     "metadata": {},
     "output_type": "execute_result"
    }
   ],
   "source": [
    "df['location']"
   ]
  },
  {
   "cell_type": "code",
   "execution_count": 40,
   "id": "01220687-a39a-4b54-bb4c-371838c33919",
   "metadata": {},
   "outputs": [
    {
     "data": {
      "text/plain": [
       "array(['Pakistan', 'Lahore', 'Islamabad', 'Karāchi', 'Peshawar',\n",
       "       'Islāmābād', 'Rawalpindi', 'Multan', 'Karachi', 'Hyderabad',\n",
       "       'Mirpur', 'Kharian', 'Sindh', 'Faisalabad', 'Jhelum', 'Gujrāt',\n",
       "       'Korangi', 'Bahawalpur', 'Gulshan', 'Gujranwala', 'Sukkur',\n",
       "       'Punjab', 'Shekhūpura', 'Sargodha', 'Wazirabad', 'Mānsehra',\n",
       "       'Sialkot', 'Chakwāl', 'Muzaffargarh', 'Nawabshah', 'Mardān',\n",
       "       'Gujrat', 'Dera', 'Sāhīwāl', 'Jhang', 'Sahiwal', 'Quetta',\n",
       "       'Vienna', 'Rahimyar', 'Milan', 'Lodhran', 'South', 'Zhob',\n",
       "       'Jamshoro', 'Khyber', 'New', 'Rakhni', 'Taxila', 'APAC', 'Azad',\n",
       "       'Toba', 'Thatta', 'Jarānwāla', 'Mīrpur', 'Larkana', 'Pasrur',\n",
       "       'Sarai', 'Panjgur', 'Baloch', 'Attock', 'Rahim', 'Ratodero', 'APJ',\n",
       "       'Chakwal', 'İzmir', 'Miān', 'Battagram', 'Harīpur', 'Naushahro',\n",
       "       'Khuzdar', 'Kasur', 'Abbottabad', 'Malir', 'Vehari', 'Kahuta',\n",
       "       'Badin', 'Thal', 'Landhi', 'Shikarpur', 'Bhakkar', 'Bahrain',\n",
       "       'Metro', 'Kohāt', 'Okāra', 'Bahawalnagar'], dtype=object)"
      ]
     },
     "execution_count": 40,
     "metadata": {},
     "output_type": "execute_result"
    }
   ],
   "source": [
    "df['location'].unique()"
   ]
  },
  {
   "cell_type": "code",
   "execution_count": 41,
   "id": "4fc04b32-1737-4f10-b831-82ac969d7a7b",
   "metadata": {},
   "outputs": [
    {
     "data": {
      "text/plain": [
       "85"
      ]
     },
     "execution_count": 41,
     "metadata": {},
     "output_type": "execute_result"
    }
   ],
   "source": [
    "len(df['location'].unique())"
   ]
  },
  {
   "cell_type": "code",
   "execution_count": 42,
   "id": "e9213936-bc16-4e1e-977c-ec94b1baa769",
   "metadata": {},
   "outputs": [
    {
     "data": {
      "text/plain": [
       "location\n",
       "Lahore          1222\n",
       "Karāchi          665\n",
       "Islamabad        540\n",
       "Karachi          272\n",
       "Pakistan         247\n",
       "                ... \n",
       "Larkana            1\n",
       "Sarai              1\n",
       "Panjgur            1\n",
       "Baloch             1\n",
       "Bahawalnagar       1\n",
       "Name: count, Length: 85, dtype: int64"
      ]
     },
     "execution_count": 42,
     "metadata": {},
     "output_type": "execute_result"
    }
   ],
   "source": [
    "df['location'].value_counts()"
   ]
  },
  {
   "cell_type": "code",
   "execution_count": 43,
   "id": "66160082-adaf-4ef6-b635-9708d5be50e1",
   "metadata": {},
   "outputs": [
    {
     "data": {
      "text/plain": [
       "location\n",
       "Lahore          1222\n",
       "Karāchi          665\n",
       "Islamabad        540\n",
       "Karachi          272\n",
       "Pakistan         247\n",
       "Rawalpindi       135\n",
       "Islāmābād         94\n",
       "Faisalabad        57\n",
       "Multan            37\n",
       "Peshawar          29\n",
       "Punjab            24\n",
       "Sialkot           22\n",
       "APAC              18\n",
       "Gujranwala        16\n",
       "Hyderabad         16\n",
       "APJ               14\n",
       "South             13\n",
       "Muzaffargarh      11\n",
       "New               11\n",
       "Sindh              8\n",
       "Jhelum             7\n",
       "Bahawalpur         6\n",
       "Sargodha           5\n",
       "Korangi            5\n",
       "Mirpur             5\n",
       "Quetta             5\n",
       "Sukkur             4\n",
       "Jamshoro           4\n",
       "Gujrāt             4\n",
       "Sahiwal            4\n",
       "Name: count, dtype: int64"
      ]
     },
     "execution_count": 43,
     "metadata": {},
     "output_type": "execute_result"
    }
   ],
   "source": [
    "df['location'].value_counts()[:30]"
   ]
  },
  {
   "cell_type": "code",
   "execution_count": 44,
   "id": "5d44fa50-3798-4787-adf5-98c203ab5ade",
   "metadata": {},
   "outputs": [],
   "source": [
    "df.loc[:,'location']=df['Job Info'].apply(lambda x:x.split('·')[1].split('(')[0])"
   ]
  },
  {
   "cell_type": "code",
   "execution_count": 45,
   "id": "ca38cb6d-b99d-4db8-91b8-7af4185bb910",
   "metadata": {},
   "outputs": [
    {
     "data": {
      "text/plain": [
       "0                                     Pakistan \n",
       "1                     Lahore, Punjab, Pakistan \n",
       "2                     Lahore, Punjab, Pakistan \n",
       "3               Islamabad, Islāmābād, Pakistan \n",
       "4                     Lahore, Punjab, Pakistan \n",
       "                         ...                   \n",
       "4209     Lahore, Punjab, Pakistan  \\n4 days ago\n",
       "4210           APAC Reposted  \\n3 days ago\\n\\n \n",
       "4211              South Asia  \\n4 days ago\\n\\n \n",
       "4212                Pakistan  \\n4 days ago\\n\\n \n",
       "4213              South Asia  \\n4 days ago\\n\\n \n",
       "Name: location, Length: 3571, dtype: object"
      ]
     },
     "execution_count": 45,
     "metadata": {},
     "output_type": "execute_result"
    }
   ],
   "source": [
    "df['location']"
   ]
  },
  {
   "cell_type": "code",
   "execution_count": 46,
   "id": "d6d1178d-d9f9-4114-b62e-517094bfcfdd",
   "metadata": {},
   "outputs": [
    {
     "data": {
      "text/plain": [
       "array([' Pakistan ', ' Lahore, Punjab, Pakistan ',\n",
       "       ' Islamabad, Islāmābād, Pakistan ', ' Karāchi, Sindh, Pakistan ',\n",
       "       ' Peshawar, Khyber Pakhtunkhwa, Pakistan ',\n",
       "       ' Islāmābād, Pakistan ', ' Rawalpindi, Punjab, Pakistan ',\n",
       "       ' Multan, Punjab, Pakistan ',\n",
       "       ' Karachi Division, Sindh, Pakistan ',\n",
       "       ' Hyderabad, Sindh, Pakistan ',\n",
       "       ' Lahore District, Punjab, Pakistan ',\n",
       "       ' Mirpur, Azad Kashmir, Pakistan ', ' Kharian, Punjab, Pakistan ',\n",
       "       ' Sindh, Pakistan ',\n",
       "       ' Lahore, Punjab, Pakistan  \\n2 weeks ago\\n\\n ',\n",
       "       ' Faisalabad, Punjab, Pakistan ',\n",
       "       ' Lahore District, Punjab, Pakistan  \\n1 week ago',\n",
       "       ' Islamabad, Islāmābād, Pakistan Reposted  \\n1 week ago',\n",
       "       ' Jhelum, Punjab, Pakistan  \\n2 weeks ago\\n\\n ',\n",
       "       ' Gujrāt, Punjab, Pakistan ',\n",
       "       ' Korangi District, Sindh, Pakistan ',\n",
       "       ' Bahawalpur, Punjab, Pakistan ',\n",
       "       ' Gulshan Town, Sindh, Pakistan ',\n",
       "       ' Gujranwala, Punjab, Pakistan ', ' Sukkur, Sindh, Pakistan ',\n",
       "       ' Faisalabad, Punjab, Pakistan  \\n1 week ago\\n\\n ',\n",
       "       ' Punjab, Pakistan ',\n",
       "       ' Lahore, Punjab, Pakistan  \\n1 week ago\\n\\n ',\n",
       "       ' Shekhūpura, Punjab, Pakistan ', ' Sargodha, Punjab, Pakistan ',\n",
       "       ' Jhelum, Punjab, Pakistan ', ' Wazirabad, Punjab, Pakistan ',\n",
       "       ' Mānsehra, Khyber Pakhtunkhwa, Pakistan ',\n",
       "       ' Sialkot, Punjab, Pakistan ', ' Chakwāl, Punjab, Pakistan ',\n",
       "       ' Muzaffargarh, Punjab, Pakistan ', ' Nawabshah, Sindh, Pakistan ',\n",
       "       ' Muzaffargarh District, Punjab, Pakistan ',\n",
       "       ' Peshawar, Khyber Pakhtunkhwa, Pakistan Reposted  \\n1 week ago',\n",
       "       ' Mardān, Khyber Pakhtunkhwa, Pakistan ',\n",
       "       ' Gujrat District, Punjab, Pakistan ',\n",
       "       ' Dera Ghazi Khan, Punjab, Pakistan ',\n",
       "       ' Jhelum, Punjab, Pakistan Reposted  \\n1 week ago\\n\\n ',\n",
       "       ' Sāhīwāl, Punjab, Pakistan ',\n",
       "       ' Rawalpindi District, Punjab, Pakistan ',\n",
       "       ' Jhang, Punjab, Pakistan ',\n",
       "       ' Punjab, Pakistan Reposted  \\n6 days ago\\n\\n ',\n",
       "       ' Sahiwal District, Punjab, Pakistan ',\n",
       "       ' Quetta, Baluchistan, Pakistan ',\n",
       "       ' Karāchi, Sindh, Pakistan  \\n2 weeks ago\\n\\n ',\n",
       "       ' Vienna, Austria ',\n",
       "       ' Lahore, Punjab, Pakistan Reposted  \\n1 week ago\\n\\n ',\n",
       "       ' Lahore, Punjab, Pakistan Reposted  \\n5 hours ago\\n\\n ',\n",
       "       ' Islamabad, Islāmābād, Pakistan Reposted  \\n4 days ago\\n\\n ',\n",
       "       ' Karāchi, Sindh, Pakistan Reposted  \\n1 week ago',\n",
       "       ' Rahimyar Khan, Punjab, Pakistan ', ' Milan, Lombardy, Italy ',\n",
       "       ' Lodhran Tehsil, Punjab, Pakistan ',\n",
       "       ' Mirpur Khas District, Sindh, Pakistan ',\n",
       "       ' Pakistan  \\n1 week ago\\n\\n ',\n",
       "       ' Karāchi, Sindh, Pakistan  \\n1 week ago\\n\\n ', ' South Asia ',\n",
       "       ' Zhob, Baluchistan, Pakistan ', ' Jamshoro, Sindh, Pakistan ',\n",
       "       ' Lahore, Punjab, Pakistan Reposted  \\n5 days ago\\n\\n ',\n",
       "       ' Khyber Pakhtunkhwa, Pakistan ',\n",
       "       ' New Karachi Town, Sindh, Pakistan ',\n",
       "       ' Rakhni, Baluchistan, Pakistan ',\n",
       "       ' Karāchi, Sindh, Pakistan Reposted  \\n1 week ago\\n\\n ',\n",
       "       ' Taxila, Punjab, Pakistan ', ' APAC ',\n",
       "       ' Islamabad, Islāmābād, Pakistan Reposted  \\n1 week ago\\n\\n ',\n",
       "       ' Karachi Division, Sindh, Pakistan Reposted  \\n1 week ago\\n\\n ',\n",
       "       ' Azad Kashmir, Pakistan ',\n",
       "       ' Faisalabad, Punjab, Pakistan Reposted  \\n1 week ago\\n\\n ',\n",
       "       ' Islamabad, Islāmābād, Pakistan Reposted  \\n6 days ago',\n",
       "       ' Toba Tek Singh, Punjab, Pakistan ', ' Thatta, Sindh, Pakistan ',\n",
       "       ' Jarānwāla, Punjab, Pakistan Reposted  \\n1 week ago\\n\\n ',\n",
       "       ' Mīrpur Khās, Sindh, Pakistan ',\n",
       "       ' Larkana District, Sindh, Pakistan ',\n",
       "       ' Pasrur, Punjab, Pakistan ',\n",
       "       ' Sarai Alamgir Tehsil, Punjab, Pakistan ',\n",
       "       ' Sahiwal Division, Punjab, Pakistan ',\n",
       "       ' Panjgur, Baluchistan, Pakistan ',\n",
       "       ' Hyderabad District, Sindh, Pakistan ',\n",
       "       ' Baloch Colony, Pakistan ',\n",
       "       ' Attock, Punjab, Pakistan Reposted  \\n1 week ago\\n\\n ',\n",
       "       ' Rahim Yar Khan District, Punjab, Pakistan  \\n1 week ago\\n\\n ',\n",
       "       ' Ratodero, Sindh, Pakistan ', ' APJ ',\n",
       "       ' Chakwal District, Punjab, Pakistan ',\n",
       "       ' Islamabad, Punjab, Pakistan ',\n",
       "       ' İzmir, İzmir, Turkey  \\n1 week ago\\n\\n ',\n",
       "       ' Miān Channūn, Punjab, Pakistan ',\n",
       "       ' Battagram, Khyber Pakhtunkhwa, Pakistan ',\n",
       "       ' Harīpur, Khyber Pakhtunkhwa, Pakistan ',\n",
       "       ' Jamshoro, Sindh, Pakistan Reposted  \\n1 hour ago\\n\\n ',\n",
       "       ' Lahore, Punjab, Pakistan Reposted  \\n2 hours ago\\n\\n ',\n",
       "       ' Gujranwala District, Punjab, Pakistan ',\n",
       "       ' Lahore Division, Punjab, Pakistan ',\n",
       "       ' Naushahro Feroze District, Sindh, Pakistan ',\n",
       "       ' Islamabad, Islāmābād, Pakistan Reposted  \\n5 days ago\\n\\n ',\n",
       "       ' Islamabad, Islāmābād, Pakistan  \\n1 week ago\\n\\n ',\n",
       "       ' Khuzdar, Baluchistan, Pakistan ',\n",
       "       ' Karāchi, Sindh, Pakistan  \\n6 days ago\\n\\n ',\n",
       "       ' Kasur District, Punjab, Pakistan ',\n",
       "       ' Sukkur District, Sindh, Pakistan ',\n",
       "       ' Abbottabad District, Khyber Pakhtunkhwa, Pakistan ',\n",
       "       ' Islamabad, Islāmābād, Pakistan Reposted  \\n5 hours ago\\n\\n ',\n",
       "       ' Malir District, Sindh, Pakistan ', ' Vehari, Punjab, Pakistan ',\n",
       "       ' Kahuta, Punjab, Pakistan ', ' Badin, Sindh, Pakistan ',\n",
       "       ' Karāchi, Sindh, Pakistan Reposted  \\n6 days ago\\n\\n ',\n",
       "       ' Karāchi, Sindh, Pakistan Reposted  \\n3 days ago\\n\\n ',\n",
       "       ' Sahiwal, Punjab, Pakistan ',\n",
       "       ' Islamabad, Islāmābād, Pakistan  \\n6 days ago\\n\\n ',\n",
       "       ' Lahore, Punjab, Pakistan Reposted  \\n6 days ago\\n\\n ',\n",
       "       ' Lahore, Punjab, Pakistan  \\n6 days ago\\n\\n ',\n",
       "       ' Thal, Khyber Pakhtunkhwa, Pakistan ',\n",
       "       ' Landhi, Sindh, Pakistan ', ' Shikarpur, Sindh, Pakistan ',\n",
       "       ' Faisalabad District, Punjab, Pakistan ',\n",
       "       ' Karāchi, Sindh, Pakistan Reposted  \\n4 days ago\\n\\n ',\n",
       "       ' Islamabad, Islāmābād, Pakistan Reposted  \\n1 day ago\\n\\n ',\n",
       "       ' Bhakkar, Punjab, Pakistan ',\n",
       "       ' Karāchi, Sindh, Pakistan Reposted  \\n2 days ago\\n\\n ',\n",
       "       ' Karāchi, Sindh, Pakistan Reposted  \\n1 day ago\\n\\n ',\n",
       "       ' Lahore, Punjab, Pakistan Reposted  \\n2 days ago\\n\\n ',\n",
       "       ' Lahore, Punjab, Pakistan Reposted  \\n1 day ago\\n\\n ',\n",
       "       ' Karāchi, Sindh, Pakistan  \\n5 days ago\\n\\n ',\n",
       "       ' Karāchi, Sindh, Pakistan Reposted  \\n5 days ago\\n\\n ',\n",
       "       ' Rahim Yar Khan District, Punjab, Pakistan ',\n",
       "       ' Bahrain, Khyber Pakhtunkhwa, Pakistan ', ' Metro Manila ',\n",
       "       ' Lahore, Punjab, Pakistan Reposted  \\n4 days ago\\n\\n ',\n",
       "       ' Jarānwāla, Punjab, Pakistan Reposted  \\n1 day ago\\n\\n ',\n",
       "       ' Kohāt, Khyber Pakhtunkhwa, Pakistan ',\n",
       "       ' Lahore, Punjab, Pakistan Reposted  \\n3 days ago\\n\\n ',\n",
       "       ' Karāchi, Sindh, Pakistan  \\n4 days ago\\n\\n ',\n",
       "       ' Okāra, Punjab, Pakistan ',\n",
       "       ' Islamabad, Islāmābād, Pakistan Reposted  \\n3 days ago\\n\\n ',\n",
       "       ' Islamabad, Islāmābād, Pakistan  \\n4 days ago\\n\\n ',\n",
       "       ' Islāmābād, Pakistan  \\n4 days ago\\n\\n ',\n",
       "       ' Karachi Division, Sindh, Pakistan  \\n4 days ago\\n\\n ',\n",
       "       ' Pakistan Reposted  \\n4 days ago\\n\\n ',\n",
       "       ' Lahore, Punjab, Pakistan  \\n4 days ago\\n\\n ',\n",
       "       ' Karachi Division, Sindh, Pakistan Reposted  \\n4 days ago',\n",
       "       ' Karachi Division, Sindh, Pakistan Reposted  \\n4 days ago\\n\\n ',\n",
       "       ' Islāmābād, Pakistan Reposted  \\n4 days ago\\n\\n ',\n",
       "       ' Lahore, Punjab, Pakistan  \\n4 days ago',\n",
       "       ' Islāmābād, Pakistan  \\n4 days ago',\n",
       "       ' Karachi Division, Sindh, Pakistan  \\n4 days ago',\n",
       "       ' Sindh, Pakistan  \\n4 days ago\\n\\n ',\n",
       "       ' Punjab, Pakistan  \\n4 days ago',\n",
       "       ' Sindh, Pakistan  \\n4 days ago',\n",
       "       ' Sialkot, Punjab, Pakistan  \\n4 days ago\\n\\n ',\n",
       "       ' APJ  \\n4 days ago', ' Pakistan  \\n4 days ago',\n",
       "       ' Pakistan  \\n4 days ago\\n\\n ',\n",
       "       ' Karāchi, Sindh, Pakistan  \\n4 days ago',\n",
       "       ' Nawabshah, Sindh, Pakistan  \\n4 days ago\\n\\n ',\n",
       "       ' Gujranwala District, Punjab, Pakistan  \\n4 days ago',\n",
       "       ' Bahawalnagar District, Punjab, Pakistan  \\n4 days ago\\n\\n ',\n",
       "       ' Muzaffargarh, Punjab, Pakistan  \\n4 days ago\\n\\n ',\n",
       "       ' Lahore, Punjab, Pakistan Reposted  \\n7 hours ago\\n\\n ',\n",
       "       ' New Karachi Town, Sindh, Pakistan Reposted  \\n3 days ago\\n\\n ',\n",
       "       ' Lahore, Punjab, Pakistan Reposted  \\n4 days ago',\n",
       "       ' APAC  \\n4 days ago',\n",
       "       ' Rawalpindi, Punjab, Pakistan Reposted  \\n3 days ago\\n\\n ',\n",
       "       ' Rawalpindi, Punjab, Pakistan  \\n4 days ago',\n",
       "       ' Multan, Punjab, Pakistan  \\n4 days ago\\n\\n ',\n",
       "       ' Rawalpindi, Punjab, Pakistan Reposted  \\n8 hours ago\\n\\n ',\n",
       "       ' Quetta, Baluchistan, Pakistan  \\n4 days ago\\n\\n ',\n",
       "       ' APAC  \\n4 days ago\\n\\n ',\n",
       "       ' Badin, Sindh, Pakistan  \\n4 days ago\\n\\n ',\n",
       "       ' South Asia  \\n4 days ago\\n\\n ',\n",
       "       ' APAC Reposted  \\n3 days ago\\n\\n '], dtype=object)"
      ]
     },
     "execution_count": 46,
     "metadata": {},
     "output_type": "execute_result"
    }
   ],
   "source": [
    "df['location'].unique()"
   ]
  },
  {
   "cell_type": "code",
   "execution_count": 47,
   "id": "fa77a1d0-3b26-414f-9718-ba8066def887",
   "metadata": {},
   "outputs": [
    {
     "data": {
      "text/plain": [
       "179"
      ]
     },
     "execution_count": 47,
     "metadata": {},
     "output_type": "execute_result"
    }
   ],
   "source": [
    "len(df['location'].unique())"
   ]
  },
  {
   "cell_type": "code",
   "execution_count": 48,
   "id": "14c9cf34-8836-489d-93bf-4b98a15d8845",
   "metadata": {},
   "outputs": [
    {
     "data": {
      "text/plain": [
       "location\n",
       " Lahore, Punjab, Pakistan                   1052\n",
       " Karāchi, Sindh, Pakistan                    624\n",
       " Islamabad, Islāmābād, Pakistan              518\n",
       " Karachi Division, Sindh, Pakistan           242\n",
       " Pakistan                                    236\n",
       "                                            ... \n",
       " Panjgur, Baluchistan, Pakistan                1\n",
       " Sahiwal Division, Punjab, Pakistan            1\n",
       " Sarai Alamgir Tehsil, Punjab, Pakistan        1\n",
       " Larkana District, Sindh, Pakistan             1\n",
       " APAC Reposted  \\n3 days ago\\n\\n               1\n",
       "Name: count, Length: 179, dtype: int64"
      ]
     },
     "execution_count": 48,
     "metadata": {},
     "output_type": "execute_result"
    }
   ],
   "source": [
    "df['location'].value_counts()"
   ]
  },
  {
   "cell_type": "code",
   "execution_count": 49,
   "id": "961000a9-b723-4459-8860-480fbea49e30",
   "metadata": {},
   "outputs": [
    {
     "data": {
      "text/plain": [
       "location\n",
       " Lahore, Punjab, Pakistan                                1052\n",
       " Karāchi, Sindh, Pakistan                                 624\n",
       " Islamabad, Islāmābād, Pakistan                           518\n",
       " Karachi Division, Sindh, Pakistan                        242\n",
       " Pakistan                                                 236\n",
       " Rawalpindi, Punjab, Pakistan                             127\n",
       " Islāmābād, Pakistan                                       90\n",
       " Lahore District, Punjab, Pakistan                         83\n",
       " Faisalabad, Punjab, Pakistan                              52\n",
       " Multan, Punjab, Pakistan                                  36\n",
       " Peshawar, Khyber Pakhtunkhwa, Pakistan                    28\n",
       " Lahore, Punjab, Pakistan Reposted  \\n1 week ago\\n\\n       23\n",
       " Punjab, Pakistan                                          22\n",
       " Karachi Division, Sindh, Pakistan  \\n4 days ago\\n\\n       20\n",
       " Sialkot, Punjab, Pakistan                                 19\n",
       " APAC                                                      15\n",
       " Lahore, Punjab, Pakistan  \\n4 days ago                    15\n",
       " Lahore, Punjab, Pakistan  \\n4 days ago\\n\\n                15\n",
       " Gujranwala, Punjab, Pakistan                              14\n",
       " Karāchi, Sindh, Pakistan  \\n4 days ago\\n\\n                14\n",
       " APJ                                                       12\n",
       " Hyderabad, Sindh, Pakistan                                11\n",
       " New Karachi Town, Sindh, Pakistan                         10\n",
       " South Asia                                                10\n",
       " Islamabad, Islāmābād, Pakistan  \\n4 days ago\\n\\n           9\n",
       " Muzaffargarh, Punjab, Pakistan                             8\n",
       " Lahore, Punjab, Pakistan Reposted  \\n5 days ago\\n\\n        7\n",
       " Karachi Division, Sindh, Pakistan  \\n4 days ago            7\n",
       " Sindh, Pakistan                                            6\n",
       " Bahawalpur, Punjab, Pakistan                               6\n",
       "Name: count, dtype: int64"
      ]
     },
     "execution_count": 49,
     "metadata": {},
     "output_type": "execute_result"
    }
   ],
   "source": [
    "df['location'].value_counts()[:30]"
   ]
  },
  {
   "cell_type": "markdown",
   "id": "b5ae7806-d467-46f5-8917-3cbfa87005ab",
   "metadata": {},
   "source": [
    "### extracting remote/onsite"
   ]
  },
  {
   "cell_type": "code",
   "execution_count": 50,
   "id": "2fd0094d-8d72-4503-b45a-54f2a885171e",
   "metadata": {},
   "outputs": [],
   "source": [
    "remote_onsite_list=[]\n",
    "for info in df['Job Info']:\n",
    "    try:\n",
    "        remote_onsite_list.append(info.split('·')[1].split('(')[1].split(')')[0])\n",
    "    except IndexError:\n",
    "        remote_onsite_list.append('Not specified')\n",
    "    "
   ]
  },
  {
   "cell_type": "code",
   "execution_count": 51,
   "id": "af38dcab-b021-4959-9558-29cf9b3a32d9",
   "metadata": {},
   "outputs": [],
   "source": [
    "# remote_onsite_list"
   ]
  },
  {
   "cell_type": "code",
   "execution_count": 52,
   "id": "829a75f1-c5a5-41a0-abe5-85d014fbcfca",
   "metadata": {},
   "outputs": [
    {
     "data": {
      "text/plain": [
       "3571"
      ]
     },
     "execution_count": 52,
     "metadata": {},
     "output_type": "execute_result"
    }
   ],
   "source": [
    "len(remote_onsite_list)"
   ]
  },
  {
   "cell_type": "code",
   "execution_count": 53,
   "id": "cf851038-e11a-4fcd-8bdb-76b1e4e2d97b",
   "metadata": {},
   "outputs": [],
   "source": [
    "df.loc[:,'Remote/Onsite']=remote_onsite_list"
   ]
  },
  {
   "cell_type": "code",
   "execution_count": 54,
   "id": "74e385ba-cea5-4e28-98d3-c1b9b5f75d64",
   "metadata": {},
   "outputs": [
    {
     "data": {
      "text/plain": [
       "0              Remote\n",
       "1             On-site\n",
       "2             On-site\n",
       "3              Hybrid\n",
       "4             On-site\n",
       "            ...      \n",
       "4209    Not specified\n",
       "4210    Not specified\n",
       "4211    Not specified\n",
       "4212    Not specified\n",
       "4213    Not specified\n",
       "Name: Remote/Onsite, Length: 3571, dtype: object"
      ]
     },
     "execution_count": 54,
     "metadata": {},
     "output_type": "execute_result"
    }
   ],
   "source": [
    "df['Remote/Onsite']"
   ]
  },
  {
   "cell_type": "code",
   "execution_count": 55,
   "id": "26fecae8-fa72-4053-a2b2-c90ad84d55b9",
   "metadata": {},
   "outputs": [
    {
     "data": {
      "text/plain": [
       "array(['Remote', 'On-site', 'Hybrid', 'Not specified'], dtype=object)"
      ]
     },
     "execution_count": 55,
     "metadata": {},
     "output_type": "execute_result"
    }
   ],
   "source": [
    "df['Remote/Onsite'].unique()"
   ]
  },
  {
   "cell_type": "code",
   "execution_count": 56,
   "id": "940654ad-0fbe-44d0-90fe-7bdd8c7ef7af",
   "metadata": {},
   "outputs": [
    {
     "data": {
      "text/plain": [
       "Remote/Onsite\n",
       "On-site          2616\n",
       "Remote            525\n",
       "Not specified     230\n",
       "Hybrid            200\n",
       "Name: count, dtype: int64"
      ]
     },
     "execution_count": 56,
     "metadata": {},
     "output_type": "execute_result"
    }
   ],
   "source": [
    "df['Remote/Onsite'].value_counts()"
   ]
  },
  {
   "cell_type": "markdown",
   "id": "d5f958a1-7b3b-4c1a-bff3-6bd4a0ae34f8",
   "metadata": {},
   "source": [
    "### extarctig number of applicants feature"
   ]
  },
  {
   "cell_type": "code",
   "execution_count": 57,
   "id": "af7349a5-6293-46de-ae9b-94b1ed491874",
   "metadata": {},
   "outputs": [],
   "source": [
    "n_applicant_list=[]\n",
    "for info in df['Job Info']:\n",
    "    try:\n",
    "        n_applicant_list.append(info.split('·')[2].strip(' applicants'))\n",
    "    except IndexError:\n",
    "        n_applicant_list.append(np.nan)"
   ]
  },
  {
   "cell_type": "code",
   "execution_count": 58,
   "id": "f61b6536-fecc-481d-a6b8-f5eb7f6454fb",
   "metadata": {},
   "outputs": [
    {
     "data": {
      "text/plain": [
       "[nan, nan, nan, '51', '51', nan, nan, nan, '312', '2,048']"
      ]
     },
     "execution_count": 58,
     "metadata": {},
     "output_type": "execute_result"
    }
   ],
   "source": [
    "n_applicant_list[:10]"
   ]
  },
  {
   "cell_type": "code",
   "execution_count": 59,
   "id": "0efbcf4e-1851-4f46-8d95-a81911895be4",
   "metadata": {},
   "outputs": [],
   "source": [
    "df.loc[:,'n_applicant']=n_applicant_list"
   ]
  },
  {
   "cell_type": "code",
   "execution_count": 60,
   "id": "e91621a3-d256-425c-8b50-813661a2c33a",
   "metadata": {},
   "outputs": [
    {
     "data": {
      "text/plain": [
       "array([nan, '51', '312', '2,048', '30', '3,159', '41', '3,008', '120',\n",
       "       '685', '50', '28', '24', '734', '9', '112', '42', '10', '89', '48',\n",
       "       '19', '732', '338', '18', '154', '472', '110', '32', '16', '448',\n",
       "       '239', '933', '255', '15', '177', '33', '323', '207', '22', '21',\n",
       "       '49', '591', '45', '29', '231', '337', '249', '123', '40', '192',\n",
       "       '157', '1,386', '36', '1,186', '17', '76', '61', '38', '20', '12',\n",
       "       '115', '73', '46', '315', '90', '67', '27', '23', '13', '172',\n",
       "       '778', '96', '58', '216', '43', '204', '247', '380', '39', '1,768',\n",
       "       '11', '310', '34', '108', '162', '853', '986', '215', '14', '94',\n",
       "       '92', '168', '911', '53', '420', '31', '72', '44', '59', '132',\n",
       "       '289', '35', '52', '1,379', '158', '260', '54', '250', '332',\n",
       "       '649', '1,385', '153', '37', '83', '370', '287', '57', '339', '47',\n",
       "       '208', '121', '56', '98', '68', '254', '259', '138', '305', '186',\n",
       "       '197', '84', '795', '63', '79', '757', '166', '662', '100', '109',\n",
       "       '285', '60', '127', '364', '74', '199', '198', '212', '328', '122',\n",
       "       '252', '264', '502', '237', '376', '903', '146', '298', '505',\n",
       "       '985', '342', '516', '1,213', '362', '1,344', '256', '189', '143',\n",
       "       '88', '131', '531', '25', '149', '26', '316', '141', '99', '184',\n",
       "       '113', '97', '170', '6', '480', '133', '309', '77', '429', '62',\n",
       "       '4', '55', '202', '521', '925', '135', '304', '164', '1,391',\n",
       "       '862', '229', '628', '200', '151', '176', '468', '71', '66',\n",
       "       '1,650', '394', '1,015', '458', '181', '611', '749', '335', '904',\n",
       "       '377', '3,400', '604', '372', '180', '693', '1,577', '144', '171',\n",
       "       '926', '1,968', '834', '104', '69', '148', '479', '293', '95',\n",
       "       '1,159', '190', '1,034', '75', '86', '898', '130', '270', '852',\n",
       "       '136', '432', '441', '402', '2,420', '346', '827', '438', '134',\n",
       "       '1,319', '495', '396', '560', '114', '81', '283', '804', '185',\n",
       "       '253', '117', '344', '295', '1,296', '557', '175', '242', '811',\n",
       "       '868', '880', '822', '526', '214', '532', '681', '2,142', '87',\n",
       "       '535', '744', '371', '413', '928', '573', '187', '201', '322',\n",
       "       '244', '78', '409', '307', '227', '424', '213', '930', '225',\n",
       "       '2,943', '399', '245', '830', '267', '1,708', '779', '165', '291',\n",
       "       '65', '2,701', '496', '105', '358', '793', '137', '106', '246',\n",
       "       '467', '243', '1,415', '248', '7', '389', '541', '351', '345',\n",
       "       '507', '107', '347', '336', '369', '561', '475', '326', '640',\n",
       "       '174', '536', '860', '139', '821', '682', '545', '85', '465',\n",
       "       '803', '203', '455', '268', '265', '217', '8', '1,574', '542',\n",
       "       '1,704', '513', '1,177', '452', '1,750', '577', '147', '428',\n",
       "       '1,649', '152', '469', '427', '837', '592', '522', '191', '464',\n",
       "       '80', '159', '233', '430', '103', '142', '5,401', '664', '1,167',\n",
       "       '182', '3', '400', '70', '773', '284', '124', '205', '64', '262',\n",
       "       '263', '555', '1,857', '266', '321', '597', '318', '221', '195',\n",
       "       '288', '1,674', '93', '223', '481', '408', '1,132', '363', '477',\n",
       "       '854', '419', '240', '129', '552', '921', '723', '5,203', '145',\n",
       "       '666', '116', '194', '711', '589', '118', '546', '258', '188',\n",
       "       '679', '303', '387', '125', '218', '102', '651', '82', '1,064',\n",
       "       '431', '406', '425', '234', '1,632', '381', '294', '721', '155',\n",
       "       '638', '220', '391', '126', '156', '1,657', '998', '1,195', '478',\n",
       "       '319', '257', '403', '224', '357', '119', '942', '5', '167', '379',\n",
       "       '111', '740', '330', '2,895', '210', '463', '281', '1,023', '301',\n",
       "       '1,381', '1,148', '661', '617', '1,556', '286', '603', '850',\n",
       "       '1,080', '1,356', '196', '992', '1,457', '1,917', '361', '1,514',\n",
       "       '667', '206', '529', '558', '91', '101', '163', '588', '1,450',\n",
       "       '1,588', '140', '609', '500', '1', '193', '1,042', '275', '768',\n",
       "       '128', '395', '1,013', '340', '474', '423', '551', '484', '490',\n",
       "       '367', '272', '290', '278', '366', '671', '791', '375', '2', '235',\n",
       "       '1,882'], dtype=object)"
      ]
     },
     "execution_count": 60,
     "metadata": {},
     "output_type": "execute_result"
    }
   ],
   "source": [
    "df['n_applicant'].unique()"
   ]
  },
  {
   "cell_type": "code",
   "execution_count": 61,
   "id": "e9223934-84d3-40c8-a821-c086d39243b5",
   "metadata": {},
   "outputs": [
    {
     "data": {
      "text/plain": [
       "521"
      ]
     },
     "execution_count": 61,
     "metadata": {},
     "output_type": "execute_result"
    }
   ],
   "source": [
    "len(df['n_applicant'].unique())"
   ]
  },
  {
   "cell_type": "code",
   "execution_count": 62,
   "id": "6a95bcc6-6473-439b-a9f5-770e3476e32f",
   "metadata": {},
   "outputs": [
    {
     "data": {
      "text/plain": [
       "n_applicant\n",
       "51    152\n",
       "11     56\n",
       "18     40\n",
       "13     34\n",
       "16     34\n",
       "21     33\n",
       "14     32\n",
       "17     31\n",
       "19     30\n",
       "12     30\n",
       "22     29\n",
       "15     29\n",
       "10     29\n",
       "24     26\n",
       "20     25\n",
       "23     24\n",
       "32     22\n",
       "26     21\n",
       "28     18\n",
       "30     18\n",
       "33     18\n",
       "38     17\n",
       "50     16\n",
       "34     16\n",
       "27     15\n",
       "36     15\n",
       "31     15\n",
       "43     15\n",
       "35     14\n",
       "29     14\n",
       "Name: count, dtype: int64"
      ]
     },
     "execution_count": 62,
     "metadata": {},
     "output_type": "execute_result"
    }
   ],
   "source": [
    "df['n_applicant'].value_counts()[:30]"
   ]
  },
  {
   "cell_type": "markdown",
   "id": "5b492f6f-c60f-454f-821f-2f0077c25e2b",
   "metadata": {},
   "source": [
    "### Extracting job posting time feature"
   ]
  },
  {
   "cell_type": "code",
   "execution_count": 63,
   "id": "664594de-9c52-4eb6-ba28-7988a2342900",
   "metadata": {},
   "outputs": [
    {
     "data": {
      "text/plain": [
       "0        1 week ago\n",
       "1       2 weeks ago\n",
       "2        1 week ago\n",
       "3        1 week ago\n",
       "4        1 week ago\n",
       "           ...     \n",
       "4209     4 days ago\n",
       "4210     3 days ago\n",
       "4211     4 days ago\n",
       "4212     4 days ago\n",
       "4213     4 days ago\n",
       "Name: job posting time, Length: 3571, dtype: object"
      ]
     },
     "execution_count": 63,
     "metadata": {},
     "output_type": "execute_result"
    }
   ],
   "source": [
    "df.loc[:,'job posting time']=df['Job Info'].apply(lambda x:x.split('\\n')[1])\n",
    "df['job posting time']"
   ]
  },
  {
   "cell_type": "code",
   "execution_count": 64,
   "id": "f9561053-722a-4468-9c99-8687fe773b0e",
   "metadata": {},
   "outputs": [
    {
     "data": {
      "text/plain": [
       "array(['1 week ago', '2 weeks ago', '1 day ago', '6 days ago',\n",
       "       '5 days ago', '11 hours ago', '3 days ago', '3 hours ago',\n",
       "       '4 days ago', '13 minutes ago', '14 minutes ago', '5 hours ago',\n",
       "       '10 hours ago', '9 hours ago', '2 days ago', '13 hours ago',\n",
       "       '18 hours ago', '7 hours ago', '4 hours ago', '3 weeks ago',\n",
       "       '2 hours ago', '12 hours ago', '6 hours ago', '14 hours ago',\n",
       "       '1 hour ago', '22 hours ago', '8 hours ago', '23 hours ago',\n",
       "       '15 hours ago', '20 hours ago', '19 hours ago', '16 hours ago'],\n",
       "      dtype=object)"
      ]
     },
     "execution_count": 64,
     "metadata": {},
     "output_type": "execute_result"
    }
   ],
   "source": [
    "df['job posting time'].unique()"
   ]
  },
  {
   "cell_type": "code",
   "execution_count": 65,
   "id": "cfaf744d-e2e4-4b64-b019-e94fd00c76ff",
   "metadata": {},
   "outputs": [
    {
     "data": {
      "text/plain": [
       "job posting time\n",
       "1 week ago      1948\n",
       "2 weeks ago      452\n",
       "6 days ago       353\n",
       "5 days ago       335\n",
       "4 days ago       239\n",
       "1 day ago         77\n",
       "3 days ago        62\n",
       "23 hours ago      25\n",
       "2 days ago        25\n",
       "2 hours ago       14\n",
       "Name: count, dtype: int64"
      ]
     },
     "execution_count": 65,
     "metadata": {},
     "output_type": "execute_result"
    }
   ],
   "source": [
    "df['job posting time'].value_counts()[:10]"
   ]
  },
  {
   "cell_type": "markdown",
   "id": "403e8607-1554-4fcd-9f1e-2f1f44ca0f38",
   "metadata": {},
   "source": [
    "### Feature Eng on Job Type feature"
   ]
  },
  {
   "cell_type": "code",
   "execution_count": 66,
   "id": "87f6adf4-3bc5-40b3-9104-d0d02c22bd3f",
   "metadata": {},
   "outputs": [
    {
     "data": {
      "text/plain": [
       "array(['Full-time', 'Full-time · Mid-Senior level',\n",
       "       'Internship · Internship', 'Full-time · Associate', 'Internship',\n",
       "       'Full-time · Entry level', 'Part-time', 'Full-time · Internship',\n",
       "       'Contract · Mid-Senior level', 'Contract', 'Contract · Associate',\n",
       "       '$150/month - $300/month · Full-time', 'Full-time · Director',\n",
       "       'Part-time · Associate', 'Mr Ahsan is hiring for this job',\n",
       "       'Part-time · Executive', 'Contract · Executive',\n",
       "       'Part-time · Mid-Senior level', 'Contract · Entry level',\n",
       "       'Temporary · Mid-Senior level', 'Executive',\n",
       "       'Full-time · Executive', 'Sean Sato is hiring for this job',\n",
       "       'Part-time · Internship', 'Internship · Mid-Senior level',\n",
       "       '$12,000/yr - $15,000/yr · Full-time · Mid-Senior level',\n",
       "       '$200,000/yr · Full-time', 'Part-time · Entry level',\n",
       "       'dr.ry. L. is hiring for this job',\n",
       "       '10,001+ employees · Tobacco Manufacturing', 'Volunteer',\n",
       "       'On-site\\n\\n \\nFull-time\\n\\n \\nMid-Senior level',\n",
       "       'Hybrid\\n\\n \\nFull-time\\n\\n \\nMid-Senior level',\n",
       "       'Remote\\n\\n \\nFull-time\\n\\n \\nMid-Senior level',\n",
       "       'On-site\\n\\n \\nFull-time\\n\\n \\nAssociate',\n",
       "       'On-site\\n\\n \\nFull-time',\n",
       "       'Hybrid\\n\\n \\nFull-time\\n\\n \\nEntry level',\n",
       "       'Hybrid\\n\\n \\nFull-time\\n\\n \\nDirector', 'Remote\\n\\n \\nFull-time',\n",
       "       'On-site\\n\\n \\nFull-time\\n\\n \\nEntry level',\n",
       "       'Hybrid\\n\\n \\nFull-time\\n\\n \\nAssociate',\n",
       "       'Full-time\\n\\n \\nMid-Senior level', 'On-site\\n\\n \\nPart-time',\n",
       "       'Hybrid\\n\\n \\nFull-time',\n",
       "       'Remote\\n\\n \\nContract\\n\\n \\nMid-Senior level',\n",
       "       'On-site\\n\\n \\nFull-time\\n\\n \\nDirector',\n",
       "       'On-site\\n\\n \\nFull-time\\n\\n \\nExecutive',\n",
       "       'Remote\\n\\n \\nFull-time\\n\\n \\nEntry level'], dtype=object)"
      ]
     },
     "execution_count": 66,
     "metadata": {},
     "output_type": "execute_result"
    }
   ],
   "source": [
    "df['Job Type'].unique()"
   ]
  },
  {
   "cell_type": "code",
   "execution_count": 67,
   "id": "9549eda3-83bd-4cbc-af94-f825577823e1",
   "metadata": {},
   "outputs": [
    {
     "data": {
      "text/plain": [
       "48"
      ]
     },
     "execution_count": 67,
     "metadata": {},
     "output_type": "execute_result"
    }
   ],
   "source": [
    "len(df['Job Type'].unique())"
   ]
  },
  {
   "cell_type": "markdown",
   "id": "492a3bb0-178b-4036-adcb-5d442f4a2d3c",
   "metadata": {},
   "source": [
    "## understanding options according to linkedin\n",
    "****"
   ]
  },
  {
   "cell_type": "markdown",
   "id": "add7abbf-f31c-4630-a770-fbc0f0e66278",
   "metadata": {},
   "source": [
    "### These are job Job type options on linkedin:\n",
    "Full-time,\n",
    "Part-time,\n",
    "Contract,\n",
    "Temporary,\n",
    "Volunteer,\n",
    "Internship,\n",
    "Other\n",
    "### These are Experience level options on linkedin:\n",
    "Internship,\n",
    "Entry level,\n",
    "Associate,\n",
    "Mid-Senior level,\n",
    "Director,\n",
    "Executive\n",
    "### These are On-site/remote options on linkedin:\n",
    "On-site,\n",
    "Remote,\n",
    "Hybrid"
   ]
  },
  {
   "cell_type": "markdown",
   "id": "ea4e5f28-e1e9-4c82-9737-a4cd0160abc2",
   "metadata": {},
   "source": [
    "***"
   ]
  },
  {
   "cell_type": "markdown",
   "id": "82558d4e-3c8b-441f-b848-6ec61610491f",
   "metadata": {},
   "source": [
    "### counting number of elements in job type column"
   ]
  },
  {
   "cell_type": "code",
   "execution_count": 68,
   "id": "d9a89c74-48f8-40d9-9e0a-8042fc8a8eee",
   "metadata": {},
   "outputs": [],
   "source": [
    "Job_Type_nElements=[]\n",
    "for cell in df['Job Type']:\n",
    "    if '·' in cell:\n",
    "        nElements=len(cell.split('·'))\n",
    "        Job_Type_nElements.append(nElements)\n",
    "    elif '\\n\\n \\n' in cell:\n",
    "        nElements=len(cell.split('\\n\\n \\n'))\n",
    "        Job_Type_nElements.append(nElements)\n",
    "    else:\n",
    "        nElements=len(cell.split())\n",
    "        Job_Type_nElements.append(nElements)        "
   ]
  },
  {
   "cell_type": "code",
   "execution_count": 69,
   "id": "fd73b617-3cc4-4f73-b5b2-6a5f2961e0cf",
   "metadata": {},
   "outputs": [],
   "source": [
    "df.loc[:,'Job Type nElements']=Job_Type_nElements"
   ]
  },
  {
   "cell_type": "code",
   "execution_count": 111,
   "id": "6ada0690-1f1f-4476-a582-f33d2334d26c",
   "metadata": {},
   "outputs": [
    {
     "data": {
      "text/plain": [
       "array([1, 2, 7, 3], dtype=int64)"
      ]
     },
     "execution_count": 111,
     "metadata": {},
     "output_type": "execute_result"
    }
   ],
   "source": [
    "df['Job Type nElements'].unique()"
   ]
  },
  {
   "cell_type": "code",
   "execution_count": 71,
   "id": "7761af7f-adf4-43f4-938c-186374e655dd",
   "metadata": {},
   "outputs": [
    {
     "data": {
      "text/plain": [
       "Job Type nElements\n",
       "1    2355\n",
       "2    1125\n",
       "3      88\n",
       "7       3\n",
       "Name: count, dtype: int64"
      ]
     },
     "execution_count": 71,
     "metadata": {},
     "output_type": "execute_result"
    }
   ],
   "source": [
    "df['Job Type nElements'].value_counts()"
   ]
  },
  {
   "cell_type": "markdown",
   "id": "8984eeb5-428a-4d7d-9884-75ad998b86c8",
   "metadata": {},
   "source": [
    "### extarcting Job type"
   ]
  },
  {
   "cell_type": "code",
   "execution_count": 72,
   "id": "e3b86e0a-93d2-4646-b78b-036fa8478c54",
   "metadata": {},
   "outputs": [
    {
     "data": {
      "text/plain": [
       "['Executive']"
      ]
     },
     "execution_count": 72,
     "metadata": {},
     "output_type": "execute_result"
    }
   ],
   "source": [
    "inconsistant_Job_Type_Elements_1=['Executive']\n",
    "inconsistant_Job_Type_Elements_1"
   ]
  },
  {
   "cell_type": "code",
   "execution_count": 73,
   "id": "b9b85562-303c-43b0-ae21-ea74b8b609a3",
   "metadata": {},
   "outputs": [
    {
     "data": {
      "text/plain": [
       "['$150/month - $300/month · Full-time',\n",
       " '$200,000/yr · Full-time',\n",
       " '10,001+ employees · Tobacco Manufacturing',\n",
       " 'Full-time\\n\\n \\nMid-Senior level']"
      ]
     },
     "execution_count": 73,
     "metadata": {},
     "output_type": "execute_result"
    }
   ],
   "source": [
    "inconsistant_Job_Type_Elements_2=['$150/month - $300/month · Full-time','$200,000/yr · Full-time','10,001+ employees · Tobacco Manufacturing','Full-time\\n\\n \\nMid-Senior level']\n",
    "inconsistant_Job_Type_Elements_2"
   ]
  },
  {
   "cell_type": "code",
   "execution_count": 74,
   "id": "c11b769e-4a34-4de3-9365-e02bfb749461",
   "metadata": {},
   "outputs": [
    {
     "data": {
      "text/plain": [
       "['$12,000/yr - $15,000/yr · Full-time · Mid-Senior level']"
      ]
     },
     "execution_count": 74,
     "metadata": {},
     "output_type": "execute_result"
    }
   ],
   "source": [
    "inconsistant_Job_Type_Elements_3=['$12,000/yr - $15,000/yr · Full-time · Mid-Senior level']\n",
    "inconsistant_Job_Type_Elements_3"
   ]
  },
  {
   "cell_type": "code",
   "execution_count": 75,
   "id": "a7afd463-a6de-4d09-a32d-6762ed64db8e",
   "metadata": {},
   "outputs": [],
   "source": [
    "Job_Type_list=[]\n",
    "for elmnt in df['Job Type']:\n",
    "    if len(elmnt.split())==1:\n",
    "        if elmnt not in inconsistant_Job_Type_Elements_1:\n",
    "            Job_Type_list.append(elmnt)\n",
    "        else:\n",
    "            Job_Type_list.append('Not specified')\n",
    "    if len(elmnt.split('·'))==2 or len(elmnt.split('\\n\\n \\n'))==2:\n",
    "        if elmnt not in inconsistant_Job_Type_Elements_2:\n",
    "            if '·' in elmnt:\n",
    "                Job_Type_list.append(elmnt.split('·')[0])\n",
    "            elif '\\n\\n \\n' in elmnt:\n",
    "                Job_Type_list.append(elmnt.split('\\n\\n \\n')[1])\n",
    "            else:\n",
    "                Job_Type_list.append('Not specified')\n",
    "        else:\n",
    "            if 'Full-time' in elmnt:\n",
    "                Job_Type_list.append('Full-time')\n",
    "            else:\n",
    "                Job_Type_list.append('Not specified')\n",
    "    if len(elmnt.split('·'))==3 or len(elmnt.split('\\n\\n \\n'))==3:\n",
    "        if elmnt not in inconsistant_Job_Type_Elements_3:\n",
    "            Job_Type_list.append(elmnt.split('\\n\\n \\n')[1])\n",
    "        else:\n",
    "            if 'Full-time' in elmnt:\n",
    "                Job_Type_list.append('Full-time')\n",
    "            else:\n",
    "                Job_Type_list.append('Not specified')\n",
    "    if len(elmnt.split())==7:\n",
    "        Job_Type_list.append('Not specified')"
   ]
  },
  {
   "cell_type": "code",
   "execution_count": 76,
   "id": "6d2ad1f1-75d0-4b94-aae5-89d909524c8c",
   "metadata": {},
   "outputs": [
    {
     "data": {
      "text/plain": [
       "3571"
      ]
     },
     "execution_count": 76,
     "metadata": {},
     "output_type": "execute_result"
    }
   ],
   "source": [
    "len(Job_Type_list)"
   ]
  },
  {
   "cell_type": "code",
   "execution_count": 77,
   "id": "0edbdc79-48bf-4c70-b9b3-9a79623e6401",
   "metadata": {},
   "outputs": [],
   "source": [
    "df.loc[:,'Job-Type']=Job_Type_list"
   ]
  },
  {
   "cell_type": "code",
   "execution_count": 78,
   "id": "59c6b1b3-7b7d-4ceb-96ac-625728fc3d79",
   "metadata": {},
   "outputs": [
    {
     "data": {
      "text/plain": [
       "array(['Full-time', 'Full-time ', 'Internship ', 'Internship',\n",
       "       'Part-time', 'Contract ', 'Contract', 'Part-time ',\n",
       "       'Not specified', 'Temporary ', 'Volunteer'], dtype=object)"
      ]
     },
     "execution_count": 78,
     "metadata": {},
     "output_type": "execute_result"
    }
   ],
   "source": [
    "df['Job-Type'].unique()"
   ]
  },
  {
   "cell_type": "code",
   "execution_count": 79,
   "id": "9289e0ff-cfb3-465a-809a-fea197b76675",
   "metadata": {},
   "outputs": [],
   "source": [
    "df.loc[:,'Job-Type'] = df['Job-Type'].replace(['Full-time ','Internship ','Part-time ','Contract '],['Full-time','Internship','Part-time','Contract'])"
   ]
  },
  {
   "cell_type": "code",
   "execution_count": 80,
   "id": "a5bb3a69-7e35-4a99-9448-a27ee396899e",
   "metadata": {},
   "outputs": [
    {
     "data": {
      "text/plain": [
       "array(['Full-time', 'Internship', 'Part-time', 'Contract',\n",
       "       'Not specified', 'Temporary ', 'Volunteer'], dtype=object)"
      ]
     },
     "execution_count": 80,
     "metadata": {},
     "output_type": "execute_result"
    }
   ],
   "source": [
    "df['Job-Type'].unique()\n",
    "# len(df['Job-Type'].unique())"
   ]
  },
  {
   "cell_type": "code",
   "execution_count": 81,
   "id": "d68368da-6561-49e4-9bf1-63c74b071555",
   "metadata": {},
   "outputs": [
    {
     "data": {
      "text/plain": [
       "['Full-time',\n",
       " 'Part-time',\n",
       " 'Contract',\n",
       " 'Temporary',\n",
       " 'Volunteer',\n",
       " 'Internship',\n",
       " 'Other']"
      ]
     },
     "execution_count": 81,
     "metadata": {},
     "output_type": "execute_result"
    }
   ],
   "source": [
    "Job_type_options=['Full-time','Part-time','Contract','Temporary','Volunteer','Internship','Other']\n",
    "Job_type_options\n",
    "# len(Job_type_options)"
   ]
  },
  {
   "cell_type": "code",
   "execution_count": 82,
   "id": "08b6c347-b012-4184-8e70-38ad12ecce9b",
   "metadata": {},
   "outputs": [
    {
     "data": {
      "text/plain": [
       "Job-Type\n",
       "Full-time        3366\n",
       "Contract           96\n",
       "Part-time          62\n",
       "Internship         40\n",
       "Not specified       5\n",
       "Temporary           1\n",
       "Volunteer           1\n",
       "Name: count, dtype: int64"
      ]
     },
     "execution_count": 82,
     "metadata": {},
     "output_type": "execute_result"
    }
   ],
   "source": [
    "df['Job-Type'].value_counts()"
   ]
  },
  {
   "cell_type": "markdown",
   "id": "5905af77-12ad-4b8d-bdae-351eb387682e",
   "metadata": {},
   "source": [
    "### extarcting Experience level from df['Job Type']"
   ]
  },
  {
   "cell_type": "code",
   "execution_count": 83,
   "id": "0cd1d792-4f73-4a73-8424-04809d590684",
   "metadata": {},
   "outputs": [],
   "source": [
    "Job_Type_list=[]\n",
    "for elmnt in df['Job Type']:\n",
    "    if len(elmnt.split())==1:\n",
    "        if elmnt in inconsistant_Job_Type_Elements_1:\n",
    "            if elmnt=='Executive':\n",
    "                Job_Type_list.append(elmnt)\n",
    "        else:\n",
    "            Job_Type_list.append('Not specified')\n",
    "    if len(elmnt.split('·'))==2 or len(elmnt.split('\\n\\n \\n'))==2:\n",
    "        if elmnt not in inconsistant_Job_Type_Elements_2:\n",
    "            if '·' in elmnt:\n",
    "                Job_Type_list.append(elmnt.split('·')[1])\n",
    "            # elif '\\n\\n \\n' in elmnt:\n",
    "            #     Job_Type_list.append(elmnt.split('\\n\\n \\n')[2])\n",
    "            else:\n",
    "                Job_Type_list.append('Not specified')\n",
    "        else:\n",
    "            if 'Mid-Senior level' in elmnt:\n",
    "                Job_Type_list.append('Mid-Senior level')\n",
    "            else:\n",
    "                Job_Type_list.append('Not specified')\n",
    "                \n",
    "    if len(elmnt.split('·'))==3 or len(elmnt.split('\\n\\n \\n'))==3:\n",
    "        if elmnt not in inconsistant_Job_Type_Elements_3:\n",
    "            Job_Type_list.append(elmnt.split('\\n\\n \\n')[2])\n",
    "        else:\n",
    "            # if 'Mid-Senior level' in inconsistant_Job: due to this problem not sepecified is in list \n",
    "            if 'Mid-Senior level' in elmnt:  \n",
    "                Job_Type_list.append('Mid-Senior level')\n",
    "            else:\n",
    "                Job_Type_list.append('Not specified')\n",
    "    if len(elmnt.split())==7:\n",
    "        Job_Type_list.append('Not specified')"
   ]
  },
  {
   "cell_type": "code",
   "execution_count": 84,
   "id": "ac3cca35-107a-4645-901b-35ed8fedd3cc",
   "metadata": {},
   "outputs": [
    {
     "data": {
      "text/plain": [
       "3571"
      ]
     },
     "execution_count": 84,
     "metadata": {},
     "output_type": "execute_result"
    }
   ],
   "source": [
    "len(Job_Type_list)"
   ]
  },
  {
   "cell_type": "code",
   "execution_count": 85,
   "id": "f6666727-e38b-429c-aba2-f16a5913ee73",
   "metadata": {},
   "outputs": [
    {
     "data": {
      "text/plain": [
       "{' Associate',\n",
       " ' Director',\n",
       " ' Entry level',\n",
       " ' Executive',\n",
       " ' Internship',\n",
       " ' Mid-Senior level',\n",
       " 'Associate',\n",
       " 'Director',\n",
       " 'Entry level',\n",
       " 'Executive',\n",
       " 'Mid-Senior level',\n",
       " 'Not specified'}"
      ]
     },
     "execution_count": 85,
     "metadata": {},
     "output_type": "execute_result"
    }
   ],
   "source": [
    "set(Job_Type_list)"
   ]
  },
  {
   "cell_type": "code",
   "execution_count": 86,
   "id": "f43829c0-a1f2-47b5-ab15-57597e8d6b66",
   "metadata": {},
   "outputs": [],
   "source": [
    "df.loc[:,'Experience Level']=Job_Type_list"
   ]
  },
  {
   "cell_type": "code",
   "execution_count": 87,
   "id": "539d8013-8f0d-40cc-97c9-69669823035e",
   "metadata": {},
   "outputs": [],
   "source": [
    "df.loc[:,'Experience Level'] = df['Experience Level'].replace([' Mid-Senior level',' Associate',' Entry level',' Director',' Executive',' Internship'],['Mid-Senior level','Associate','Entry level','Director','Executive','Internship'])"
   ]
  },
  {
   "cell_type": "code",
   "execution_count": 88,
   "id": "2d6c7e0f-8d8f-44c3-a3f1-c853f42ce0bc",
   "metadata": {},
   "outputs": [
    {
     "data": {
      "text/plain": [
       "array(['Not specified', 'Mid-Senior level', 'Internship', 'Associate',\n",
       "       'Entry level', 'Director', 'Executive'], dtype=object)"
      ]
     },
     "execution_count": 88,
     "metadata": {},
     "output_type": "execute_result"
    }
   ],
   "source": [
    "df['Experience Level'].unique()\n",
    "# len(df['Experience Level'].unique())"
   ]
  },
  {
   "cell_type": "code",
   "execution_count": 89,
   "id": "7acd2d7b-1c5b-45e2-a64b-3ee8962381d1",
   "metadata": {},
   "outputs": [
    {
     "data": {
      "text/plain": [
       "['Internship',\n",
       " 'Entry level',\n",
       " 'Associate',\n",
       " 'Mid-Senior level',\n",
       " 'Director',\n",
       " 'Executive']"
      ]
     },
     "execution_count": 89,
     "metadata": {},
     "output_type": "execute_result"
    }
   ],
   "source": [
    "Experience_level_options=['Internship','Entry level','Associate','Mid-Senior level','Director','Executive']\n",
    "Experience_level_options\n",
    "# len(Experience_level_options)"
   ]
  },
  {
   "cell_type": "code",
   "execution_count": 90,
   "id": "2929c2f9-756d-4ac2-8f96-7d25369eb41f",
   "metadata": {},
   "outputs": [
    {
     "data": {
      "text/plain": [
       "Experience Level\n",
       "Not specified       2405\n",
       "Mid-Senior level     681\n",
       "Entry level          248\n",
       "Associate            144\n",
       "Director              51\n",
       "Internship            23\n",
       "Executive             19\n",
       "Name: count, dtype: int64"
      ]
     },
     "execution_count": 90,
     "metadata": {},
     "output_type": "execute_result"
    }
   ],
   "source": [
    "df['Experience Level'].value_counts()"
   ]
  },
  {
   "cell_type": "markdown",
   "id": "e4d086e5-0642-46fc-ad6e-a6ae7a0e139b",
   "metadata": {},
   "source": [
    "### extracting On-site/remote from Job Type feature"
   ]
  },
  {
   "cell_type": "code",
   "execution_count": 91,
   "id": "c1445793-7f23-4f9f-8ed0-4c27ab1b86ad",
   "metadata": {},
   "outputs": [],
   "source": [
    "Job_Type_list=[]\n",
    "for elmnt in df['Job Type']:\n",
    "    if len(elmnt.split())==1:\n",
    "        if elmnt not in inconsistant_Job_Type_Elements_1:\n",
    "            Job_Type_list.append('Not specified')\n",
    "        else:\n",
    "            Job_Type_list.append('Not specified')\n",
    "    if len(elmnt.split('·'))==2 or len(elmnt.split('\\n\\n \\n'))==2:\n",
    "        if elmnt not in inconsistant_Job_Type_Elements_2:\n",
    "            if '·' in elmnt:\n",
    "                Job_Type_list.append('Not specified')\n",
    "            elif '\\n\\n \\n' in elmnt:\n",
    "                Job_Type_list.append(elmnt.split('\\n\\n \\n')[0])\n",
    "            else:\n",
    "                Job_Type_list.append('Not specified')\n",
    "        else:\n",
    "            Job_Type_list.append('Not specified')\n",
    "    if len(elmnt.split('·'))==3 or len(elmnt.split('\\n\\n \\n'))==3:\n",
    "        if elmnt not in inconsistant_Job_Type_Elements_3:\n",
    "            Job_Type_list.append(elmnt.split('\\n\\n \\n')[0])\n",
    "        else:\n",
    "            Job_Type_list.append('Not specified')\n",
    "    if len(elmnt.split())==7:\n",
    "        Job_Type_list.append('Not specified')"
   ]
  },
  {
   "cell_type": "code",
   "execution_count": 92,
   "id": "9c55f459-a696-439f-83de-4445958f294c",
   "metadata": {},
   "outputs": [
    {
     "data": {
      "text/plain": [
       "3571"
      ]
     },
     "execution_count": 92,
     "metadata": {},
     "output_type": "execute_result"
    }
   ],
   "source": [
    "len(Job_Type_list)"
   ]
  },
  {
   "cell_type": "code",
   "execution_count": 93,
   "id": "fafad721-a173-4890-a8df-5c9e0cc1aa23",
   "metadata": {},
   "outputs": [],
   "source": [
    "df.loc[:,'Remote/Onsite-2']=Job_Type_list"
   ]
  },
  {
   "cell_type": "code",
   "execution_count": 94,
   "id": "bdc0d1db-1544-4c38-b2ea-089db3ceec5d",
   "metadata": {},
   "outputs": [
    {
     "data": {
      "text/plain": [
       "array(['Not specified', 'On-site', 'Hybrid', 'Remote'], dtype=object)"
      ]
     },
     "execution_count": 94,
     "metadata": {},
     "output_type": "execute_result"
    }
   ],
   "source": [
    "df['Remote/Onsite-2'].unique()\n",
    "# len(df['Remote/Onsite-2'].unique())"
   ]
  },
  {
   "cell_type": "code",
   "execution_count": 95,
   "id": "54d47348-1741-423b-b0cc-fb879c11ec54",
   "metadata": {},
   "outputs": [
    {
     "data": {
      "text/plain": [
       "['On-site', 'Remote', 'Hybrid']"
      ]
     },
     "execution_count": 95,
     "metadata": {},
     "output_type": "execute_result"
    }
   ],
   "source": [
    "On_site_remote_options=['On-site','Remote','Hybrid']\n",
    "On_site_remote_options\n",
    "# len(On_site_remote_options)"
   ]
  },
  {
   "cell_type": "code",
   "execution_count": 96,
   "id": "aee29319-8949-4400-9181-363a78224eb6",
   "metadata": {},
   "outputs": [
    {
     "data": {
      "text/plain": [
       "Remote/Onsite-2\n",
       "Not specified    3439\n",
       "On-site            86\n",
       "Remote             29\n",
       "Hybrid             17\n",
       "Name: count, dtype: int64"
      ]
     },
     "execution_count": 96,
     "metadata": {},
     "output_type": "execute_result"
    }
   ],
   "source": [
    "df['Remote/Onsite-2'].value_counts()"
   ]
  },
  {
   "cell_type": "markdown",
   "id": "1f7d7d5b-9561-4e9a-9fb1-72238fc1322b",
   "metadata": {},
   "source": [
    "#### how many are specified"
   ]
  },
  {
   "cell_type": "code",
   "execution_count": 97,
   "id": "17ea95a9-b355-4dd6-9972-cc72e4de0917",
   "metadata": {},
   "outputs": [
    {
     "data": {
      "text/plain": [
       "132"
      ]
     },
     "execution_count": 97,
     "metadata": {},
     "output_type": "execute_result"
    }
   ],
   "source": [
    "df['Remote/Onsite-2'].value_counts()[1:].sum()"
   ]
  },
  {
   "cell_type": "markdown",
   "id": "dc3c0ad3-e76e-46f3-be48-dd3b8f24596f",
   "metadata": {},
   "source": [
    "#### working on employees feature , Extracting no of employees and industry feature from employees feature"
   ]
  },
  {
   "cell_type": "code",
   "execution_count": 98,
   "id": "1b90ffe3-3fc0-4be0-a4bd-9202043821c2",
   "metadata": {},
   "outputs": [
    {
     "data": {
      "text/plain": [
       "array(['11-50 employees', '51-200 employees',\n",
       "       'Mobeen Naqvi is hiring for this job',\n",
       "       '1,001-5,000 employees · Software Development',\n",
       "       '501-1,000 employees · IT Services and IT Consulting',\n",
       "       '501-1,000 employees · Telecommunications',\n",
       "       '1,001-5,000 employees · Banking', '201-500 employees',\n",
       "       '10,001+ employees', '51-200 employees · Human Resources Services'],\n",
       "      dtype=object)"
      ]
     },
     "execution_count": 98,
     "metadata": {},
     "output_type": "execute_result"
    }
   ],
   "source": [
    "df['employees'].unique()[:10]"
   ]
  },
  {
   "cell_type": "code",
   "execution_count": 99,
   "id": "32d3b526-b511-46fe-bd31-0d8f6e92a449",
   "metadata": {},
   "outputs": [],
   "source": [
    "inconsistent_values_in_employees_feature = ['is hiring for this job', \n",
    "                                            'See how you compare', \n",
    "                                            'Job poster joined LinkedIn',\n",
    "                                           'school alum works here',\n",
    "                                            'alumni work here',\n",
    "                                            'See recent hiring trends'\n",
    "                                           ]"
   ]
  },
  {
   "cell_type": "code",
   "execution_count": 100,
   "id": "36f3699e-ee2b-4e34-bb01-fcf42b9d4f20",
   "metadata": {},
   "outputs": [],
   "source": [
    "L1=[] #for employees \n",
    "L2=[] #for industry\n",
    "for feature_element in df['employees'].iloc[:]:\n",
    "    flag=0\n",
    "    for value in inconsistent_values_in_employees_feature:\n",
    "        if value in feature_element:\n",
    "            flag=1\n",
    "            \n",
    "    if flag==1:\n",
    "        L1.append('Not specified')\n",
    "        L2.append('Not specified')\n",
    "    else:\n",
    "        if len(feature_element.split('·'))==1:\n",
    "            L1.append(feature_element)\n",
    "            L2.append('Not specified')\n",
    "        elif len(feature_element.split('·'))==2:\n",
    "            L1.append(feature_element.split('·')[0])\n",
    "            L2.append(feature_element.split('·')[1])\n",
    "        else:\n",
    "            L1.append('Other')\n",
    "            L2.append('Other')"
   ]
  },
  {
   "cell_type": "code",
   "execution_count": 101,
   "id": "1b6ae4aa-d237-4ac9-96a8-a615c71ca3b8",
   "metadata": {},
   "outputs": [],
   "source": [
    "df.loc[:,'Comp_N_Employees']=L1"
   ]
  },
  {
   "cell_type": "code",
   "execution_count": 102,
   "id": "68499b51-3006-44b5-9801-2f9487c65d87",
   "metadata": {},
   "outputs": [],
   "source": [
    "df.loc[:,'Comp_Industry']=L2"
   ]
  },
  {
   "cell_type": "code",
   "execution_count": 103,
   "id": "4eb3cbab-b065-4771-bc86-8f1c7b2f25e1",
   "metadata": {},
   "outputs": [
    {
     "data": {
      "text/plain": [
       "array(['11-50 employees', '51-200 employees', 'Not specified',\n",
       "       '1,001-5,000 employees ', '501-1,000 employees ',\n",
       "       '201-500 employees', '10,001+ employees', '51-200 employees ',\n",
       "       '501-1,000 employees', '1,001-5,000 employees', '1-10 employees ',\n",
       "       '10,001+ employees ', '1-10 employees', '5,001-10,000 employees',\n",
       "       '201-500 employees ', '5,001-10,000 employees ',\n",
       "       '11-50 employees '], dtype=object)"
      ]
     },
     "execution_count": 103,
     "metadata": {},
     "output_type": "execute_result"
    }
   ],
   "source": [
    "df['Comp_N_Employees'].unique()"
   ]
  },
  {
   "cell_type": "code",
   "execution_count": 104,
   "id": "a325ba8a-0c0e-402b-ab0c-50c3ebd216f9",
   "metadata": {},
   "outputs": [
    {
     "data": {
      "text/plain": [
       "17"
      ]
     },
     "execution_count": 104,
     "metadata": {},
     "output_type": "execute_result"
    }
   ],
   "source": [
    "len(df['Comp_N_Employees'].unique())"
   ]
  },
  {
   "cell_type": "code",
   "execution_count": 105,
   "id": "cd91f95d-0843-4468-b5fa-060085444193",
   "metadata": {},
   "outputs": [
    {
     "data": {
      "text/plain": [
       "Comp_N_Employees\n",
       "11-50 employees            830\n",
       "51-200 employees           533\n",
       "1,001-5,000 employees      297\n",
       "5,001-10,000 employees     290\n",
       "10,001+ employees          274\n",
       "201-500 employees          262\n",
       "Not specified              245\n",
       "1-10 employees             224\n",
       "501-1,000 employees        123\n",
       "51-200 employees           119\n",
       "501-1,000 employees         79\n",
       "201-500 employees           72\n",
       "11-50 employees             70\n",
       "1,001-5,000 employees       69\n",
       "1-10 employees              38\n",
       "5,001-10,000 employees      26\n",
       "10,001+ employees           20\n",
       "Name: count, dtype: int64"
      ]
     },
     "execution_count": 105,
     "metadata": {},
     "output_type": "execute_result"
    }
   ],
   "source": [
    "df['Comp_N_Employees'].value_counts()"
   ]
  },
  {
   "cell_type": "code",
   "execution_count": 106,
   "id": "a4366811-e5bc-4e0e-a3b1-438c60e74b01",
   "metadata": {},
   "outputs": [
    {
     "data": {
      "text/plain": [
       "array(['Not specified', ' Software Development',\n",
       "       ' IT Services and IT Consulting', ' Telecommunications',\n",
       "       ' Banking', ' Human Resources Services',\n",
       "       ' Technology, Information and Internet',\n",
       "       ' Retail Apparel and Fashion', ' International Affairs',\n",
       "       ' Higher Education', ' Information Technology & Services',\n",
       "       ' Financial Services', ' Packaging and Containers Manufacturing',\n",
       "       ' Executive Offices', ' Food and Beverage Manufacturing',\n",
       "       ' Food and Beverage Services', ' Tobacco Manufacturing',\n",
       "       ' Business Consulting and Services', ' Entertainment Providers',\n",
       "       ' Wholesale Building Materials',\n",
       "       ' Outsourcing and Offshoring Consulting',\n",
       "       ' Pharmaceutical Manufacturing', ' Motor Vehicle Manufacturing',\n",
       "       ' Non-profit Organizations', ' Research Services',\n",
       "       ' Advertising Services', ' Beverage Manufacturing',\n",
       "       ' Outsourcing/Offshoring', ' Hospitals and Health Care',\n",
       "       ' Farming', ' Oil and Gas', ' Real Estate',\n",
       "       ' Professional Services', ' Automation Machinery Manufacturing',\n",
       "       ' Book and Periodical Publishing',\n",
       "       ' Computer and Network Security', ' Information Services',\n",
       "       ' Education', ' International Trade and Development',\n",
       "       ' Staffing and Recruiting',\n",
       "       ' Transportation, Logistics, Supply Chain and Storage',\n",
       "       ' Human Resources', ' Medical Practices', ' Manufacturing',\n",
       "       ' Paper and Forest Product Manufacturing',\n",
       "       ' Non-profit Organization Management',\n",
       "       ' Internet Marketplace Platforms',\n",
       "       ' Personal Care Product Manufacturing', ' Retail',\n",
       "       ' Biotechnology Research', ' Consumer Services', ' Consumer Goods',\n",
       "       ' Media Production', ' Accounting',\n",
       "       ' Translation and Localization', ' Events Services',\n",
       "       ' Retail Luxury Goods and Jewelry', ' Apparel & Fashion',\n",
       "       ' Automotive', ' Chemical Manufacturing', ' Think Tanks',\n",
       "       ' Public Safety', ' IT System Custom Software Development',\n",
       "       ' Food Production', ' Strategic Management Services',\n",
       "       ' Airlines and Aviation', ' Holding Companies',\n",
       "       ' Facilities Services', ' Leisure, Travel & Tourism',\n",
       "       ' Design Services', ' Education Administration Programs',\n",
       "       ' Blockchain Services',\n",
       "       ' Renewable Energy Semiconductor Manufacturing',\n",
       "       ' Marketing Services', ' Electric Power Generation',\n",
       "       ' Aviation and Aerospace Component Manufacturing',\n",
       "       ' Renewable Energy Equipment Manufacturing',\n",
       "       ' Education Management', ' Wholesale', ' Utilities'], dtype=object)"
      ]
     },
     "execution_count": 106,
     "metadata": {},
     "output_type": "execute_result"
    }
   ],
   "source": [
    "df['Comp_Industry'].unique()"
   ]
  },
  {
   "cell_type": "code",
   "execution_count": 107,
   "id": "9cb0e76a-4c5b-4e0d-a0ea-ed8b9785b06d",
   "metadata": {},
   "outputs": [
    {
     "data": {
      "text/plain": [
       "80"
      ]
     },
     "execution_count": 107,
     "metadata": {},
     "output_type": "execute_result"
    }
   ],
   "source": [
    "len(df['Comp_Industry'].unique())"
   ]
  },
  {
   "cell_type": "code",
   "execution_count": 108,
   "id": "9d00ddcf-5263-4953-916c-b9599dbae795",
   "metadata": {},
   "outputs": [
    {
     "data": {
      "text/plain": [
       "Comp_Industry\n",
       "Not specified                              2288\n",
       " IT Services and IT Consulting              391\n",
       " Software Development                       160\n",
       " Telecommunications                          81\n",
       " Real Estate                                 58\n",
       "                                           ... \n",
       " Paper and Forest Product Manufacturing       1\n",
       " Medical Practices                            1\n",
       " Education                                    1\n",
       " Motor Vehicle Manufacturing                  1\n",
       " Non-profit Organization Management           1\n",
       "Name: count, Length: 80, dtype: int64"
      ]
     },
     "execution_count": 108,
     "metadata": {},
     "output_type": "execute_result"
    }
   ],
   "source": [
    "df['Comp_Industry'].value_counts()"
   ]
  },
  {
   "cell_type": "code",
   "execution_count": null,
   "id": "b246f237-8c43-4c8d-9c57-d7b1956a0a22",
   "metadata": {},
   "outputs": [],
   "source": []
  },
  {
   "cell_type": "code",
   "execution_count": null,
   "id": "b9786b4b-6567-4321-83f0-78b2eaeb2be0",
   "metadata": {},
   "outputs": [],
   "source": []
  },
  {
   "cell_type": "code",
   "execution_count": 109,
   "id": "d0c79dd7-2344-4d59-ac09-23653f9d654a",
   "metadata": {},
   "outputs": [
    {
     "data": {
      "text/plain": [
       "Index(['Job Title', 'Job Info', 'Job Type', 'Job Link', 'employees', 'Job ID',\n",
       "       'company', 'location', 'Remote/Onsite', 'n_applicant',\n",
       "       'job posting time', 'Job Type nElements', 'Job-Type',\n",
       "       'Experience Level', 'Remote/Onsite-2', 'Comp_N_Employees',\n",
       "       'Comp_Industry'],\n",
       "      dtype='object')"
      ]
     },
     "execution_count": 109,
     "metadata": {},
     "output_type": "execute_result"
    }
   ],
   "source": [
    "df.columns"
   ]
  },
  {
   "cell_type": "code",
   "execution_count": 110,
   "id": "b037624a-1ce9-49f2-a9f2-13d65bd17784",
   "metadata": {},
   "outputs": [
    {
     "data": {
      "text/plain": [
       "17"
      ]
     },
     "execution_count": 110,
     "metadata": {},
     "output_type": "execute_result"
    }
   ],
   "source": [
    "len(df.columns)"
   ]
  },
  {
   "cell_type": "code",
   "execution_count": null,
   "id": "62dda0b2-6c00-41bd-a574-7309ff14ea7e",
   "metadata": {},
   "outputs": [],
   "source": []
  }
 ],
 "metadata": {
  "kernelspec": {
   "display_name": "Python 3 (ipykernel)",
   "language": "python",
   "name": "python3"
  },
  "language_info": {
   "codemirror_mode": {
    "name": "ipython",
    "version": 3
   },
   "file_extension": ".py",
   "mimetype": "text/x-python",
   "name": "python",
   "nbconvert_exporter": "python",
   "pygments_lexer": "ipython3",
   "version": "3.11.4"
  }
 },
 "nbformat": 4,
 "nbformat_minor": 5
}
