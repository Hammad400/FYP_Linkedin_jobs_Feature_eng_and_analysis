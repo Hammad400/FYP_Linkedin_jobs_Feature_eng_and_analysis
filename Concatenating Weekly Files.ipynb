{
 "cells": [
  {
   "cell_type": "code",
   "execution_count": 1,
   "id": "f9c44706-1bdb-4d5b-b70d-78e27bb9b552",
   "metadata": {},
   "outputs": [],
   "source": [
    "import os\n",
    "import pandas as pd\n",
    "from datetime import datetime"
   ]
  },
  {
   "cell_type": "code",
   "execution_count": 2,
   "id": "868caaa8-4508-42b0-a5d8-98f4675ec616",
   "metadata": {},
   "outputs": [],
   "source": [
    "path=\"Linkedin Job Details Weekly Files\""
   ]
  },
  {
   "cell_type": "code",
   "execution_count": 3,
   "id": "edd2f6b4-005a-41b8-abbe-8ba4f399692a",
   "metadata": {},
   "outputs": [
    {
     "data": {
      "text/plain": [
       "['Linkedin_Job_Details_03-Oct-2023-to-09-Oct-2023_2098-jobs_89-pages.csv',\n",
       " 'Linkedin_Job_Details_07-Nov-2023-to-13-Nov-2023_754-jobs_32-pages.csv',\n",
       " 'Linkedin_Job_Details_10-Oct-2023-to-16-0ct-2023_2138-jobs_93-pages.csv',\n",
       " 'Linkedin_Job_Details_14-Nov-2023-to-20-Nov-2023_1693-jobs_70-pages.csv',\n",
       " 'Linkedin_Job_Details_17-Oct-2023-to-23-0ct-2023_2083-jobs_97-pages.csv',\n",
       " 'Linkedin_Job_Details_21-Nov-2023-to-27-Nov-2023_1348-jobs_57-pages.csv',\n",
       " 'Linkedin_Job_Details_24-Oct-2023-to-30-0ct-2023_1945-jobs_83-pages.csv',\n",
       " 'Linkedin_Job_Details_26-Sep-2023-to-02-Oct-2023_2116-jobs_92-pages.csv',\n",
       " 'Linkedin_Job_Details_31-Oct-2023-to-06-Nov-2023_1700-jobs_72-pages.csv']"
      ]
     },
     "execution_count": 3,
     "metadata": {},
     "output_type": "execute_result"
    }
   ],
   "source": [
    "dir_list = os.listdir(path)\n",
    "dir_list"
   ]
  },
  {
   "cell_type": "code",
   "execution_count": 4,
   "id": "13f77b33-95be-425d-93a9-3e8e8f5331f7",
   "metadata": {},
   "outputs": [
    {
     "data": {
      "text/plain": [
       "9"
      ]
     },
     "execution_count": 4,
     "metadata": {},
     "output_type": "execute_result"
    }
   ],
   "source": [
    "len(dir_list)"
   ]
  },
  {
   "cell_type": "code",
   "execution_count": 5,
   "id": "64eea290-0602-4eb1-abc0-50baa18c3608",
   "metadata": {},
   "outputs": [
    {
     "data": {
      "text/plain": [
       "['Linkedin_Job_Details_26-Sep-2023-to-02-Oct-2023_2116-jobs_92-pages.csv',\n",
       " 'Linkedin_Job_Details_03-Oct-2023-to-09-Oct-2023_2098-jobs_89-pages.csv',\n",
       " 'Linkedin_Job_Details_10-Oct-2023-to-16-0ct-2023_2138-jobs_93-pages.csv',\n",
       " 'Linkedin_Job_Details_17-Oct-2023-to-23-0ct-2023_2083-jobs_97-pages.csv',\n",
       " 'Linkedin_Job_Details_24-Oct-2023-to-30-0ct-2023_1945-jobs_83-pages.csv',\n",
       " 'Linkedin_Job_Details_31-Oct-2023-to-06-Nov-2023_1700-jobs_72-pages.csv',\n",
       " 'Linkedin_Job_Details_07-Nov-2023-to-13-Nov-2023_754-jobs_32-pages.csv',\n",
       " 'Linkedin_Job_Details_14-Nov-2023-to-20-Nov-2023_1693-jobs_70-pages.csv',\n",
       " 'Linkedin_Job_Details_21-Nov-2023-to-27-Nov-2023_1348-jobs_57-pages.csv']"
      ]
     },
     "execution_count": 5,
     "metadata": {},
     "output_type": "execute_result"
    }
   ],
   "source": [
    "dates=[file.split('_')[3].split('-to-')[0] for file in dir_list]\n",
    "dates.sort(key=lambda date: datetime.strptime(date, \"%d-%b-%Y\"))\n",
    "file_names=[]\n",
    "for date in dates:\n",
    "    for file in dir_list:\n",
    "        if file.split('_')[3].split('-to-')[0]==date:\n",
    "            file_names.append(file)\n",
    "file_names    "
   ]
  },
  {
   "cell_type": "markdown",
   "id": "31eba5ae-e62e-4faf-8518-8fb38b58e3c6",
   "metadata": {},
   "source": [
    "#### investigation of description mixing problem"
   ]
  },
  {
   "cell_type": "code",
   "execution_count": 6,
   "id": "559783f1-be85-41f9-a522-3439166346be",
   "metadata": {},
   "outputs": [],
   "source": [
    "# df_concat=None\n",
    "# for file in file_names[:4]:\n",
    "#     df=pd.read_csv(path+'/'+file)\n",
    "#     df_concat=pd.concat([df_concat,df],ignore_index=True)\n",
    "# df_concat"
   ]
  },
  {
   "cell_type": "code",
   "execution_count": 7,
   "id": "50aa56e2-dfce-48d6-8a5f-798d69349a2a",
   "metadata": {},
   "outputs": [],
   "source": [
    "# df_concat=None\n",
    "# for file in file_names[:5]:\n",
    "#     df=pd.read_csv(path+'/'+file)\n",
    "#     df_concat=pd.concat([df_concat,df],ignore_index=True)\n",
    "# df_concat"
   ]
  },
  {
   "cell_type": "code",
   "execution_count": 8,
   "id": "65c3d8bc-673f-4957-a1e9-1edfba029387",
   "metadata": {},
   "outputs": [],
   "source": [
    "# df_concat=None\n",
    "# for file in file_names[5:]:\n",
    "#     df=pd.read_csv(path+'/'+file)\n",
    "#     df_concat=pd.concat([df_concat,df],ignore_index=True)\n",
    "# df_concat"
   ]
  },
  {
   "cell_type": "code",
   "execution_count": 9,
   "id": "411c22d8-475c-4a11-ab16-3522ceb3e251",
   "metadata": {},
   "outputs": [],
   "source": [
    "# df_concat=None\n",
    "# for file in file_names[4:]:\n",
    "#     df=pd.read_csv(path+'/'+file)\n",
    "#     df_concat=pd.concat([df_concat,df],ignore_index=True)\n",
    "# df_concat"
   ]
  },
  {
   "cell_type": "code",
   "execution_count": 10,
   "id": "566c2d9e-8902-457a-b795-5afe95edc165",
   "metadata": {},
   "outputs": [],
   "source": [
    "# file_names[4]"
   ]
  },
  {
   "cell_type": "markdown",
   "id": "0de262c4-3b98-487b-bee6-520dd7c248d1",
   "metadata": {},
   "source": [
    "##### Conclusion:so it is found that 5th have problems"
   ]
  },
  {
   "cell_type": "code",
   "execution_count": null,
   "id": "55cca74a-fbcc-436e-b00c-1c18de952e21",
   "metadata": {},
   "outputs": [],
   "source": []
  },
  {
   "cell_type": "code",
   "execution_count": 11,
   "id": "68769be6-78cd-4e62-a70b-a4b70a8bc5c5",
   "metadata": {},
   "outputs": [],
   "source": [
    "df_concat=None\n",
    "for file in file_names:\n",
    "    df=pd.read_csv(path+'/'+file)\n",
    "    df_concat=pd.concat([df_concat,df],ignore_index=True)    "
   ]
  },
  {
   "cell_type": "code",
   "execution_count": 12,
   "id": "68e7c70d-4b04-4985-ac76-7c1b370a2972",
   "metadata": {},
   "outputs": [
    {
     "data": {
      "text/html": [
       "<div>\n",
       "<style scoped>\n",
       "    .dataframe tbody tr th:only-of-type {\n",
       "        vertical-align: middle;\n",
       "    }\n",
       "\n",
       "    .dataframe tbody tr th {\n",
       "        vertical-align: top;\n",
       "    }\n",
       "\n",
       "    .dataframe thead th {\n",
       "        text-align: right;\n",
       "    }\n",
       "</style>\n",
       "<table border=\"1\" class=\"dataframe\">\n",
       "  <thead>\n",
       "    <tr style=\"text-align: right;\">\n",
       "      <th></th>\n",
       "      <th>Job Title</th>\n",
       "      <th>Job Info</th>\n",
       "      <th>Job Type</th>\n",
       "      <th>Job Link</th>\n",
       "      <th>employees</th>\n",
       "    </tr>\n",
       "  </thead>\n",
       "  <tbody>\n",
       "    <tr>\n",
       "      <th>0</th>\n",
       "      <td>LinkedIn Data Extractor</td>\n",
       "      <td>EcomFleet · Pakistan (Remote)  \\n1 week ago</td>\n",
       "      <td>Full-time</td>\n",
       "      <td>https://www.linkedin.com/jobs/view/3727054368</td>\n",
       "      <td>11-50 employees</td>\n",
       "    </tr>\n",
       "    <tr>\n",
       "      <th>1</th>\n",
       "      <td>It Management Intern</td>\n",
       "      <td>Digicon Valley · Lahore, Punjab, Pakistan (On-...</td>\n",
       "      <td>Full-time</td>\n",
       "      <td>https://www.linkedin.com/jobs/view/3723395858</td>\n",
       "      <td>11-50 employees</td>\n",
       "    </tr>\n",
       "    <tr>\n",
       "      <th>2</th>\n",
       "      <td>SQL Database Developer</td>\n",
       "      <td>Murkez Technologies · Lahore, Punjab, Pakistan...</td>\n",
       "      <td>Full-time</td>\n",
       "      <td>https://www.linkedin.com/jobs/view/3727034665</td>\n",
       "      <td>51-200 employees</td>\n",
       "    </tr>\n",
       "    <tr>\n",
       "      <th>3</th>\n",
       "      <td>Business Intelligence Developer</td>\n",
       "      <td>DevNatives · Islamabad, Islāmābād, Pakistan (H...</td>\n",
       "      <td>Full-time</td>\n",
       "      <td>https://www.linkedin.com/jobs/view/3727029273</td>\n",
       "      <td>11-50 employees</td>\n",
       "    </tr>\n",
       "    <tr>\n",
       "      <th>4</th>\n",
       "      <td>Web Developer - Internship</td>\n",
       "      <td>ItCreaters · Lahore, Punjab, Pakistan (On-site...</td>\n",
       "      <td>Full-time</td>\n",
       "      <td>https://www.linkedin.com/jobs/view/3727034696</td>\n",
       "      <td>Mobeen Naqvi is hiring for this job</td>\n",
       "    </tr>\n",
       "    <tr>\n",
       "      <th>...</th>\n",
       "      <td>...</td>\n",
       "      <td>...</td>\n",
       "      <td>...</td>\n",
       "      <td>...</td>\n",
       "      <td>...</td>\n",
       "    </tr>\n",
       "    <tr>\n",
       "      <th>15870</th>\n",
       "      <td>Manager – Growth Chat &amp; SMS (Digital Marketing)</td>\n",
       "      <td>Bank Alfalah Limited · Karāchi, Sindh, Pakista...</td>\n",
       "      <td>On-site\\n\\n \\nFull-time\\n\\n \\nMid-Senior level</td>\n",
       "      <td>https://www.linkedin.com/jobs/view/3767355025</td>\n",
       "      <td>5,001-10,000 employees · Banking</td>\n",
       "    </tr>\n",
       "    <tr>\n",
       "      <th>15871</th>\n",
       "      <td>Release Support Engineer</td>\n",
       "      <td>Turing · Pakistan Reposted  \\n1 week ago</td>\n",
       "      <td>Remote\\n\\n \\nFull-time\\n\\n \\nEntry level</td>\n",
       "      <td>https://www.linkedin.com/jobs/view/3766809535</td>\n",
       "      <td>1,001-5,000 employees · IT Services and IT Con...</td>\n",
       "    </tr>\n",
       "    <tr>\n",
       "      <th>15872</th>\n",
       "      <td>Information Security Specialist</td>\n",
       "      <td>DPL · Islamabad, Islāmābād, Pakistan  \\n1 week...</td>\n",
       "      <td>On-site\\n\\n \\nFull-time\\n\\n \\nEntry level</td>\n",
       "      <td>https://www.linkedin.com/jobs/view/3772530977</td>\n",
       "      <td>51-200 employees · IT Services and IT Consulting</td>\n",
       "    </tr>\n",
       "    <tr>\n",
       "      <th>15873</th>\n",
       "      <td>FUNCTIONAL CONSULTANT ORACLE FUSION - HCM</td>\n",
       "      <td>Level 3 BOS · Karachi Division, Sindh, Pakista...</td>\n",
       "      <td>On-site\\n\\n \\nFull-time\\n\\n \\nMid-Senior level</td>\n",
       "      <td>https://www.linkedin.com/jobs/view/3771943212</td>\n",
       "      <td>201-500 employees · Outsourcing and Offshoring...</td>\n",
       "    </tr>\n",
       "    <tr>\n",
       "      <th>15874</th>\n",
       "      <td>Community Associate</td>\n",
       "      <td>The Hive · Karachi Division, Sindh, Pakistan  ...</td>\n",
       "      <td>On-site\\n\\n \\nFull-time</td>\n",
       "      <td>https://www.linkedin.com/jobs/view/3767944844</td>\n",
       "      <td>11-50 employees</td>\n",
       "    </tr>\n",
       "  </tbody>\n",
       "</table>\n",
       "<p>15875 rows × 5 columns</p>\n",
       "</div>"
      ],
      "text/plain": [
       "                                             Job Title  \\\n",
       "0                              LinkedIn Data Extractor   \n",
       "1                                 It Management Intern   \n",
       "2                               SQL Database Developer   \n",
       "3                      Business Intelligence Developer   \n",
       "4                           Web Developer - Internship   \n",
       "...                                                ...   \n",
       "15870  Manager – Growth Chat & SMS (Digital Marketing)   \n",
       "15871                         Release Support Engineer   \n",
       "15872                  Information Security Specialist   \n",
       "15873        FUNCTIONAL CONSULTANT ORACLE FUSION - HCM   \n",
       "15874                              Community Associate   \n",
       "\n",
       "                                                Job Info  \\\n",
       "0            EcomFleet · Pakistan (Remote)  \\n1 week ago   \n",
       "1      Digicon Valley · Lahore, Punjab, Pakistan (On-...   \n",
       "2      Murkez Technologies · Lahore, Punjab, Pakistan...   \n",
       "3      DevNatives · Islamabad, Islāmābād, Pakistan (H...   \n",
       "4      ItCreaters · Lahore, Punjab, Pakistan (On-site...   \n",
       "...                                                  ...   \n",
       "15870  Bank Alfalah Limited · Karāchi, Sindh, Pakista...   \n",
       "15871           Turing · Pakistan Reposted  \\n1 week ago   \n",
       "15872  DPL · Islamabad, Islāmābād, Pakistan  \\n1 week...   \n",
       "15873  Level 3 BOS · Karachi Division, Sindh, Pakista...   \n",
       "15874  The Hive · Karachi Division, Sindh, Pakistan  ...   \n",
       "\n",
       "                                             Job Type  \\\n",
       "0                                           Full-time   \n",
       "1                                           Full-time   \n",
       "2                                           Full-time   \n",
       "3                                           Full-time   \n",
       "4                                           Full-time   \n",
       "...                                               ...   \n",
       "15870  On-site\\n\\n \\nFull-time\\n\\n \\nMid-Senior level   \n",
       "15871        Remote\\n\\n \\nFull-time\\n\\n \\nEntry level   \n",
       "15872       On-site\\n\\n \\nFull-time\\n\\n \\nEntry level   \n",
       "15873  On-site\\n\\n \\nFull-time\\n\\n \\nMid-Senior level   \n",
       "15874                         On-site\\n\\n \\nFull-time   \n",
       "\n",
       "                                            Job Link  \\\n",
       "0      https://www.linkedin.com/jobs/view/3727054368   \n",
       "1      https://www.linkedin.com/jobs/view/3723395858   \n",
       "2      https://www.linkedin.com/jobs/view/3727034665   \n",
       "3      https://www.linkedin.com/jobs/view/3727029273   \n",
       "4      https://www.linkedin.com/jobs/view/3727034696   \n",
       "...                                              ...   \n",
       "15870  https://www.linkedin.com/jobs/view/3767355025   \n",
       "15871  https://www.linkedin.com/jobs/view/3766809535   \n",
       "15872  https://www.linkedin.com/jobs/view/3772530977   \n",
       "15873  https://www.linkedin.com/jobs/view/3771943212   \n",
       "15874  https://www.linkedin.com/jobs/view/3767944844   \n",
       "\n",
       "                                               employees  \n",
       "0                                        11-50 employees  \n",
       "1                                        11-50 employees  \n",
       "2                                       51-200 employees  \n",
       "3                                        11-50 employees  \n",
       "4                    Mobeen Naqvi is hiring for this job  \n",
       "...                                                  ...  \n",
       "15870                   5,001-10,000 employees · Banking  \n",
       "15871  1,001-5,000 employees · IT Services and IT Con...  \n",
       "15872   51-200 employees · IT Services and IT Consulting  \n",
       "15873  201-500 employees · Outsourcing and Offshoring...  \n",
       "15874                                    11-50 employees  \n",
       "\n",
       "[15875 rows x 5 columns]"
      ]
     },
     "execution_count": 12,
     "metadata": {},
     "output_type": "execute_result"
    }
   ],
   "source": [
    "df_concat"
   ]
  },
  {
   "cell_type": "code",
   "execution_count": 13,
   "id": "c440ff55-8320-491d-94a2-1da1ebcb9cef",
   "metadata": {},
   "outputs": [
    {
     "data": {
      "text/plain": [
       "685"
      ]
     },
     "execution_count": 13,
     "metadata": {},
     "output_type": "execute_result"
    }
   ],
   "source": [
    "total_pages=0\n",
    "for file in file_names:\n",
    "    total_pages=total_pages+int(file.split('_')[5].strip('-pages.csv'))\n",
    "total_pages"
   ]
  },
  {
   "cell_type": "code",
   "execution_count": 14,
   "id": "9abed29f-641a-4e06-955a-653d66bf797d",
   "metadata": {},
   "outputs": [
    {
     "data": {
      "text/plain": [
       "15875"
      ]
     },
     "execution_count": 14,
     "metadata": {},
     "output_type": "execute_result"
    }
   ],
   "source": [
    "total_records=0\n",
    "for file in file_names:\n",
    "    total_records=total_records+int(file.split('_')[4].strip('-jobs'))\n",
    "total_records"
   ]
  },
  {
   "cell_type": "code",
   "execution_count": 15,
   "id": "981d25ae-2bae-46d7-8f83-437835bb35c4",
   "metadata": {},
   "outputs": [
    {
     "data": {
      "text/plain": [
       "15875"
      ]
     },
     "execution_count": 15,
     "metadata": {},
     "output_type": "execute_result"
    }
   ],
   "source": [
    "len(df_concat)"
   ]
  },
  {
   "cell_type": "code",
   "execution_count": 16,
   "id": "4dfdc697-f2b0-4df9-ac6a-42cbcae86993",
   "metadata": {},
   "outputs": [
    {
     "data": {
      "text/plain": [
       "'Weekly Files Concatenated/'"
      ]
     },
     "execution_count": 16,
     "metadata": {},
     "output_type": "execute_result"
    }
   ],
   "source": [
    "folder_path='Weekly Files Concatenated/'\n",
    "folder_path"
   ]
  },
  {
   "cell_type": "code",
   "execution_count": 17,
   "id": "77e1d21f-7d34-427a-8f4e-9d438b84fd48",
   "metadata": {},
   "outputs": [],
   "source": [
    "week='26-Sep-2023-to-26-Nov-2023'"
   ]
  },
  {
   "cell_type": "code",
   "execution_count": 18,
   "id": "fc2f7c34-f6f2-477b-8a09-f2f77e32759b",
   "metadata": {},
   "outputs": [],
   "source": [
    "df_concat.to_csv(folder_path+f'Linkedin_Job_Details_{week}_{len(df_concat)}-jobs_{total_pages}-pages.csv',index=False)"
   ]
  },
  {
   "cell_type": "code",
   "execution_count": null,
   "id": "0112242c-5907-4e26-8915-40d9b1014303",
   "metadata": {},
   "outputs": [],
   "source": []
  }
 ],
 "metadata": {
  "kernelspec": {
   "display_name": "Python 3 (ipykernel)",
   "language": "python",
   "name": "python3"
  },
  "language_info": {
   "codemirror_mode": {
    "name": "ipython",
    "version": 3
   },
   "file_extension": ".py",
   "mimetype": "text/x-python",
   "name": "python",
   "nbconvert_exporter": "python",
   "pygments_lexer": "ipython3",
   "version": "3.11.4"
  }
 },
 "nbformat": 4,
 "nbformat_minor": 5
}
