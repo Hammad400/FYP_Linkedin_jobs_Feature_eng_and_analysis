{
 "cells": [
  {
   "cell_type": "code",
   "execution_count": 211,
   "id": "14843560-6946-4dca-95ed-bb1fd1e8ae7e",
   "metadata": {},
   "outputs": [],
   "source": [
    "import pandas as pd\n",
    "import numpy as np\n",
    "import os\n",
    "from datetime import datetime"
   ]
  },
  {
   "cell_type": "code",
   "execution_count": 212,
   "id": "3bfea80b-d786-4347-80cb-55f2b1b65140",
   "metadata": {},
   "outputs": [
    {
     "data": {
      "text/html": [
       "<div>\n",
       "<style scoped>\n",
       "    .dataframe tbody tr th:only-of-type {\n",
       "        vertical-align: middle;\n",
       "    }\n",
       "\n",
       "    .dataframe tbody tr th {\n",
       "        vertical-align: top;\n",
       "    }\n",
       "\n",
       "    .dataframe thead th {\n",
       "        text-align: right;\n",
       "    }\n",
       "</style>\n",
       "<table border=\"1\" class=\"dataframe\">\n",
       "  <thead>\n",
       "    <tr style=\"text-align: right;\">\n",
       "      <th></th>\n",
       "      <th>Job Title</th>\n",
       "      <th>Job Info</th>\n",
       "      <th>Job Type</th>\n",
       "      <th>Job Link_x</th>\n",
       "      <th>employees</th>\n",
       "      <th>Job ID</th>\n",
       "      <th>Job Link_y</th>\n",
       "      <th>Job Desception</th>\n",
       "      <th>Company Info</th>\n",
       "      <th>company</th>\n",
       "      <th>location_1</th>\n",
       "      <th>location_2</th>\n",
       "      <th>Remote/Onsite</th>\n",
       "      <th>n_applicant</th>\n",
       "      <th>job posting time</th>\n",
       "      <th>Job Type nElements</th>\n",
       "      <th>Job-Type</th>\n",
       "      <th>Experience Level</th>\n",
       "      <th>Comp_N_Employees</th>\n",
       "      <th>Comp_Industry</th>\n",
       "    </tr>\n",
       "  </thead>\n",
       "  <tbody>\n",
       "    <tr>\n",
       "      <th>0</th>\n",
       "      <td>iOS Intern</td>\n",
       "      <td>AusSource Enterprises (SMC-PRIVATE) LIMITED · ...</td>\n",
       "      <td>Full-time</td>\n",
       "      <td>https://www.linkedin.com/jobs/view/3727017016</td>\n",
       "      <td>11-50 employees</td>\n",
       "      <td>3727017016</td>\n",
       "      <td>https://www.linkedin.com/jobs/view/3727017016</td>\n",
       "      <td>About the job\\n            \\n\\n \\n#hiringalert...</td>\n",
       "      <td>IT Services and IT Consulting\\n            \\n ...</td>\n",
       "      <td>AusSource Enterprises (SMC-PRIVATE) LIMITED</td>\n",
       "      <td>Islamabad</td>\n",
       "      <td>Islamabad, Islāmābād, Pakistan</td>\n",
       "      <td>On-site</td>\n",
       "      <td>NaN</td>\n",
       "      <td>2 weeks ago</td>\n",
       "      <td>1</td>\n",
       "      <td>Full-time</td>\n",
       "      <td>Not specified</td>\n",
       "      <td>11-50 employees</td>\n",
       "      <td>Not specified</td>\n",
       "    </tr>\n",
       "    <tr>\n",
       "      <th>1</th>\n",
       "      <td>Trainee iOS Developer</td>\n",
       "      <td>TechSwivel (Private) Limited · Lahore, Punjab,...</td>\n",
       "      <td>Full-time</td>\n",
       "      <td>https://www.linkedin.com/jobs/view/3726895494/...</td>\n",
       "      <td>11-50 employees</td>\n",
       "      <td>3726895494</td>\n",
       "      <td>https://www.linkedin.com/jobs/view/3726895494</td>\n",
       "      <td>About the job\\n            \\n\\n \\nUnpaid Inter...</td>\n",
       "      <td>Software Development\\n            \\n          ...</td>\n",
       "      <td>TechSwivel (Private) Limited</td>\n",
       "      <td>Lahore</td>\n",
       "      <td>Lahore, Punjab, Pakistan</td>\n",
       "      <td>On-site</td>\n",
       "      <td>NaN</td>\n",
       "      <td>2 weeks ago</td>\n",
       "      <td>1</td>\n",
       "      <td>Full-time</td>\n",
       "      <td>Not specified</td>\n",
       "      <td>11-50 employees</td>\n",
       "      <td>Not specified</td>\n",
       "    </tr>\n",
       "    <tr>\n",
       "      <th>2</th>\n",
       "      <td>Android Developer</td>\n",
       "      <td>MWAN Mobile · Islāmābād, Pakistan (On-site)  \\...</td>\n",
       "      <td>Full-time</td>\n",
       "      <td>https://www.linkedin.com/jobs/view/3727010740/...</td>\n",
       "      <td>11-50 employees</td>\n",
       "      <td>3727010740</td>\n",
       "      <td>https://www.linkedin.com/jobs/view/3727010740</td>\n",
       "      <td>NaN</td>\n",
       "      <td>NaN</td>\n",
       "      <td>MWAN Mobile</td>\n",
       "      <td>Islāmābād</td>\n",
       "      <td>Islāmābād, Pakistan</td>\n",
       "      <td>On-site</td>\n",
       "      <td>NaN</td>\n",
       "      <td>2 weeks ago</td>\n",
       "      <td>1</td>\n",
       "      <td>Full-time</td>\n",
       "      <td>Not specified</td>\n",
       "      <td>11-50 employees</td>\n",
       "      <td>Not specified</td>\n",
       "    </tr>\n",
       "    <tr>\n",
       "      <th>3</th>\n",
       "      <td>MERN and React Native Developer</td>\n",
       "      <td>TecStik · Karāchi, Sindh, Pakistan (On-site)  ...</td>\n",
       "      <td>Full-time</td>\n",
       "      <td>https://www.linkedin.com/jobs/view/3727013349/...</td>\n",
       "      <td>1-10 employees</td>\n",
       "      <td>3727013349</td>\n",
       "      <td>https://www.linkedin.com/jobs/view/3727013349</td>\n",
       "      <td>About the job\\n            \\n\\n \\nThe ideal ca...</td>\n",
       "      <td>Technology, Information and Media\\n           ...</td>\n",
       "      <td>TecStik</td>\n",
       "      <td>Karāchi</td>\n",
       "      <td>Karāchi, Sindh, Pakistan</td>\n",
       "      <td>On-site</td>\n",
       "      <td>51</td>\n",
       "      <td>2 weeks ago</td>\n",
       "      <td>1</td>\n",
       "      <td>Full-time</td>\n",
       "      <td>Not specified</td>\n",
       "      <td>1-10 employees</td>\n",
       "      <td>Not specified</td>\n",
       "    </tr>\n",
       "    <tr>\n",
       "      <th>4</th>\n",
       "      <td>Mobile Application Developer</td>\n",
       "      <td>Analytica · Lahore, Punjab, Pakistan (On-site)...</td>\n",
       "      <td>Full-time</td>\n",
       "      <td>https://www.linkedin.com/jobs/view/3727010108/...</td>\n",
       "      <td>51-200 employees</td>\n",
       "      <td>3727010108</td>\n",
       "      <td>https://www.linkedin.com/jobs/view/3727010108</td>\n",
       "      <td>About the job\\n            \\n\\n \\nWe are looki...</td>\n",
       "      <td>Software Development\\n            \\n          ...</td>\n",
       "      <td>Analytica</td>\n",
       "      <td>Lahore</td>\n",
       "      <td>Lahore, Punjab, Pakistan</td>\n",
       "      <td>On-site</td>\n",
       "      <td>51</td>\n",
       "      <td>2 weeks ago</td>\n",
       "      <td>1</td>\n",
       "      <td>Full-time</td>\n",
       "      <td>Not specified</td>\n",
       "      <td>51-200 employees</td>\n",
       "      <td>Not specified</td>\n",
       "    </tr>\n",
       "    <tr>\n",
       "      <th>...</th>\n",
       "      <td>...</td>\n",
       "      <td>...</td>\n",
       "      <td>...</td>\n",
       "      <td>...</td>\n",
       "      <td>...</td>\n",
       "      <td>...</td>\n",
       "      <td>...</td>\n",
       "      <td>...</td>\n",
       "      <td>...</td>\n",
       "      <td>...</td>\n",
       "      <td>...</td>\n",
       "      <td>...</td>\n",
       "      <td>...</td>\n",
       "      <td>...</td>\n",
       "      <td>...</td>\n",
       "      <td>...</td>\n",
       "      <td>...</td>\n",
       "      <td>...</td>\n",
       "      <td>...</td>\n",
       "      <td>...</td>\n",
       "    </tr>\n",
       "    <tr>\n",
       "      <th>3729</th>\n",
       "      <td>Pre-Sales Software</td>\n",
       "      <td>Grewals Tech Solutions  · Lahore, Punjab, Paki...</td>\n",
       "      <td>On-site\\n\\n \\nFull-time</td>\n",
       "      <td>https://www.linkedin.com/jobs/view/3768502364</td>\n",
       "      <td>11-50 employees</td>\n",
       "      <td>3768502364</td>\n",
       "      <td>https://www.linkedin.com/jobs/view/3768502364</td>\n",
       "      <td>About the job\\n            \\n \\nAs a Pre-Sales...</td>\n",
       "      <td>Technology, Information and Media\\n           ...</td>\n",
       "      <td>Grewals Tech Solutions</td>\n",
       "      <td>Lahore</td>\n",
       "      <td>Lahore, Punjab, Pakistan  \\n1 week ago\\n\\n</td>\n",
       "      <td>On-site</td>\n",
       "      <td>8</td>\n",
       "      <td>1 week ago</td>\n",
       "      <td>2</td>\n",
       "      <td>Full-time</td>\n",
       "      <td>Not specified</td>\n",
       "      <td>11-50 employees</td>\n",
       "      <td>Not specified</td>\n",
       "    </tr>\n",
       "    <tr>\n",
       "      <th>3730</th>\n",
       "      <td>Lead Software Engineer, Trilogy (Remote) - $10...</td>\n",
       "      <td>Crossover  · Lahore, Punjab, Pakistan Reposted...</td>\n",
       "      <td>Remote\\n\\n \\nFull-time\\n\\n \\nMid-Senior level</td>\n",
       "      <td>https://www.linkedin.com/jobs/view/3766612589</td>\n",
       "      <td>5,001-10,000 employees · IT Services and IT Co...</td>\n",
       "      <td>3766612589</td>\n",
       "      <td>https://www.linkedin.com/jobs/view/3766612589</td>\n",
       "      <td>About the job\\n            \\n \\nCrossover is t...</td>\n",
       "      <td>IT Services and IT Consulting\\n            \\n ...</td>\n",
       "      <td>Crossover</td>\n",
       "      <td>Lahore</td>\n",
       "      <td>Lahore, Punjab, Pakistan Reposted  \\n6 days a...</td>\n",
       "      <td>Remote</td>\n",
       "      <td>19</td>\n",
       "      <td>6 days ago</td>\n",
       "      <td>3</td>\n",
       "      <td>Full-time</td>\n",
       "      <td>Mid-Senior level</td>\n",
       "      <td>5,001-10,000 employees</td>\n",
       "      <td>IT Services and IT Consulting</td>\n",
       "    </tr>\n",
       "    <tr>\n",
       "      <th>3731</th>\n",
       "      <td>QA Engineer</td>\n",
       "      <td>NewRich Network · Lahore, Punjab, Pakistan  \\n...</td>\n",
       "      <td>Remote\\n\\n \\nFull-time\\n\\n \\nEntry level</td>\n",
       "      <td>https://www.linkedin.com/jobs/view/3772083919</td>\n",
       "      <td>11-50 employees · Online Audio and Video Media</td>\n",
       "      <td>3772083919</td>\n",
       "      <td>https://www.linkedin.com/jobs/view/3772083919</td>\n",
       "      <td>About the job\\n            \\n \\nWe are a compa...</td>\n",
       "      <td>Online Audio and Video Media\\n            \\n  ...</td>\n",
       "      <td>NewRich Network</td>\n",
       "      <td>Lahore</td>\n",
       "      <td>Lahore, Punjab, Pakistan  \\n1 week ago</td>\n",
       "      <td>Remote</td>\n",
       "      <td>NaN</td>\n",
       "      <td>1 week ago</td>\n",
       "      <td>3</td>\n",
       "      <td>Full-time</td>\n",
       "      <td>Entry level</td>\n",
       "      <td>11-50 employees</td>\n",
       "      <td>Online Audio and Video Media</td>\n",
       "    </tr>\n",
       "    <tr>\n",
       "      <th>3732</th>\n",
       "      <td>Principal Software Engineer, IgniteTech (Remot...</td>\n",
       "      <td>Crossover  · Karāchi, Sindh, Pakistan Reposted...</td>\n",
       "      <td>Remote\\n\\n \\nFull-time\\n\\n \\nMid-Senior level</td>\n",
       "      <td>https://www.linkedin.com/jobs/view/3766351795</td>\n",
       "      <td>5,001-10,000 employees · IT Services and IT Co...</td>\n",
       "      <td>3766351795</td>\n",
       "      <td>https://www.linkedin.com/jobs/view/3766351795</td>\n",
       "      <td>About the job\\n            \\n \\nCrossover is t...</td>\n",
       "      <td>IT Services and IT Consulting\\n            \\n ...</td>\n",
       "      <td>Crossover</td>\n",
       "      <td>Karāchi</td>\n",
       "      <td>Karāchi, Sindh, Pakistan Reposted  \\n6 days a...</td>\n",
       "      <td>Remote</td>\n",
       "      <td>19</td>\n",
       "      <td>6 days ago</td>\n",
       "      <td>3</td>\n",
       "      <td>Full-time</td>\n",
       "      <td>Mid-Senior level</td>\n",
       "      <td>5,001-10,000 employees</td>\n",
       "      <td>IT Services and IT Consulting</td>\n",
       "    </tr>\n",
       "    <tr>\n",
       "      <th>3733</th>\n",
       "      <td>Software Development Support Engineer (L2 &amp; L3)</td>\n",
       "      <td>the ENTERTAINER · Lahore, Punjab, Pakistan  \\n...</td>\n",
       "      <td>On-site\\n\\n \\nFull-time\\n\\n \\nMid-Senior level</td>\n",
       "      <td>https://www.linkedin.com/jobs/view/3763867444</td>\n",
       "      <td>201-500 employees · Software Development</td>\n",
       "      <td>3763867444</td>\n",
       "      <td>https://www.linkedin.com/jobs/view/3763867444</td>\n",
       "      <td>About the job</td>\n",
       "      <td>NaN</td>\n",
       "      <td>the ENTERTAINER</td>\n",
       "      <td>Lahore</td>\n",
       "      <td>Lahore, Punjab, Pakistan  \\n1 week ago\\n\\n</td>\n",
       "      <td>On-site</td>\n",
       "      <td>25</td>\n",
       "      <td>1 week ago</td>\n",
       "      <td>3</td>\n",
       "      <td>Full-time</td>\n",
       "      <td>Mid-Senior level</td>\n",
       "      <td>201-500 employees</td>\n",
       "      <td>Software Development</td>\n",
       "    </tr>\n",
       "  </tbody>\n",
       "</table>\n",
       "<p>3734 rows × 20 columns</p>\n",
       "</div>"
      ],
      "text/plain": [
       "                                              Job Title  \\\n",
       "0                                            iOS Intern   \n",
       "1                                 Trainee iOS Developer   \n",
       "2                                     Android Developer   \n",
       "3                       MERN and React Native Developer   \n",
       "4                          Mobile Application Developer   \n",
       "...                                                 ...   \n",
       "3729                                 Pre-Sales Software   \n",
       "3730  Lead Software Engineer, Trilogy (Remote) - $10...   \n",
       "3731                                        QA Engineer   \n",
       "3732  Principal Software Engineer, IgniteTech (Remot...   \n",
       "3733    Software Development Support Engineer (L2 & L3)   \n",
       "\n",
       "                                               Job Info  \\\n",
       "0     AusSource Enterprises (SMC-PRIVATE) LIMITED · ...   \n",
       "1     TechSwivel (Private) Limited · Lahore, Punjab,...   \n",
       "2     MWAN Mobile · Islāmābād, Pakistan (On-site)  \\...   \n",
       "3     TecStik · Karāchi, Sindh, Pakistan (On-site)  ...   \n",
       "4     Analytica · Lahore, Punjab, Pakistan (On-site)...   \n",
       "...                                                 ...   \n",
       "3729  Grewals Tech Solutions  · Lahore, Punjab, Paki...   \n",
       "3730  Crossover  · Lahore, Punjab, Pakistan Reposted...   \n",
       "3731  NewRich Network · Lahore, Punjab, Pakistan  \\n...   \n",
       "3732  Crossover  · Karāchi, Sindh, Pakistan Reposted...   \n",
       "3733  the ENTERTAINER · Lahore, Punjab, Pakistan  \\n...   \n",
       "\n",
       "                                            Job Type  \\\n",
       "0                                          Full-time   \n",
       "1                                          Full-time   \n",
       "2                                          Full-time   \n",
       "3                                          Full-time   \n",
       "4                                          Full-time   \n",
       "...                                              ...   \n",
       "3729                         On-site\\n\\n \\nFull-time   \n",
       "3730   Remote\\n\\n \\nFull-time\\n\\n \\nMid-Senior level   \n",
       "3731        Remote\\n\\n \\nFull-time\\n\\n \\nEntry level   \n",
       "3732   Remote\\n\\n \\nFull-time\\n\\n \\nMid-Senior level   \n",
       "3733  On-site\\n\\n \\nFull-time\\n\\n \\nMid-Senior level   \n",
       "\n",
       "                                             Job Link_x  \\\n",
       "0         https://www.linkedin.com/jobs/view/3727017016   \n",
       "1     https://www.linkedin.com/jobs/view/3726895494/...   \n",
       "2     https://www.linkedin.com/jobs/view/3727010740/...   \n",
       "3     https://www.linkedin.com/jobs/view/3727013349/...   \n",
       "4     https://www.linkedin.com/jobs/view/3727010108/...   \n",
       "...                                                 ...   \n",
       "3729      https://www.linkedin.com/jobs/view/3768502364   \n",
       "3730      https://www.linkedin.com/jobs/view/3766612589   \n",
       "3731      https://www.linkedin.com/jobs/view/3772083919   \n",
       "3732      https://www.linkedin.com/jobs/view/3766351795   \n",
       "3733      https://www.linkedin.com/jobs/view/3763867444   \n",
       "\n",
       "                                              employees      Job ID  \\\n",
       "0                                       11-50 employees  3727017016   \n",
       "1                                       11-50 employees  3726895494   \n",
       "2                                       11-50 employees  3727010740   \n",
       "3                                        1-10 employees  3727013349   \n",
       "4                                      51-200 employees  3727010108   \n",
       "...                                                 ...         ...   \n",
       "3729                                    11-50 employees  3768502364   \n",
       "3730  5,001-10,000 employees · IT Services and IT Co...  3766612589   \n",
       "3731     11-50 employees · Online Audio and Video Media  3772083919   \n",
       "3732  5,001-10,000 employees · IT Services and IT Co...  3766351795   \n",
       "3733           201-500 employees · Software Development  3763867444   \n",
       "\n",
       "                                         Job Link_y  \\\n",
       "0     https://www.linkedin.com/jobs/view/3727017016   \n",
       "1     https://www.linkedin.com/jobs/view/3726895494   \n",
       "2     https://www.linkedin.com/jobs/view/3727010740   \n",
       "3     https://www.linkedin.com/jobs/view/3727013349   \n",
       "4     https://www.linkedin.com/jobs/view/3727010108   \n",
       "...                                             ...   \n",
       "3729  https://www.linkedin.com/jobs/view/3768502364   \n",
       "3730  https://www.linkedin.com/jobs/view/3766612589   \n",
       "3731  https://www.linkedin.com/jobs/view/3772083919   \n",
       "3732  https://www.linkedin.com/jobs/view/3766351795   \n",
       "3733  https://www.linkedin.com/jobs/view/3763867444   \n",
       "\n",
       "                                         Job Desception  \\\n",
       "0     About the job\\n            \\n\\n \\n#hiringalert...   \n",
       "1     About the job\\n            \\n\\n \\nUnpaid Inter...   \n",
       "2                                                   NaN   \n",
       "3     About the job\\n            \\n\\n \\nThe ideal ca...   \n",
       "4     About the job\\n            \\n\\n \\nWe are looki...   \n",
       "...                                                 ...   \n",
       "3729  About the job\\n            \\n \\nAs a Pre-Sales...   \n",
       "3730  About the job\\n            \\n \\nCrossover is t...   \n",
       "3731  About the job\\n            \\n \\nWe are a compa...   \n",
       "3732  About the job\\n            \\n \\nCrossover is t...   \n",
       "3733                                      About the job   \n",
       "\n",
       "                                           Company Info  \\\n",
       "0     IT Services and IT Consulting\\n            \\n ...   \n",
       "1     Software Development\\n            \\n          ...   \n",
       "2                                                   NaN   \n",
       "3     Technology, Information and Media\\n           ...   \n",
       "4     Software Development\\n            \\n          ...   \n",
       "...                                                 ...   \n",
       "3729  Technology, Information and Media\\n           ...   \n",
       "3730  IT Services and IT Consulting\\n            \\n ...   \n",
       "3731  Online Audio and Video Media\\n            \\n  ...   \n",
       "3732  IT Services and IT Consulting\\n            \\n ...   \n",
       "3733                                                NaN   \n",
       "\n",
       "                                           company location_1  \\\n",
       "0     AusSource Enterprises (SMC-PRIVATE) LIMITED   Islamabad   \n",
       "1                    TechSwivel (Private) Limited      Lahore   \n",
       "2                                     MWAN Mobile   Islāmābād   \n",
       "3                                         TecStik     Karāchi   \n",
       "4                                       Analytica      Lahore   \n",
       "...                                            ...        ...   \n",
       "3729                      Grewals Tech Solutions       Lahore   \n",
       "3730                                   Crossover       Lahore   \n",
       "3731                              NewRich Network      Lahore   \n",
       "3732                                   Crossover      Karāchi   \n",
       "3733                              the ENTERTAINER      Lahore   \n",
       "\n",
       "                                             location_2 Remote/Onsite  \\\n",
       "0                       Islamabad, Islāmābād, Pakistan        On-site   \n",
       "1                             Lahore, Punjab, Pakistan        On-site   \n",
       "2                                  Islāmābād, Pakistan        On-site   \n",
       "3                             Karāchi, Sindh, Pakistan        On-site   \n",
       "4                             Lahore, Punjab, Pakistan        On-site   \n",
       "...                                                 ...           ...   \n",
       "3729        Lahore, Punjab, Pakistan  \\n1 week ago\\n\\n        On-site   \n",
       "3730   Lahore, Punjab, Pakistan Reposted  \\n6 days a...        Remote   \n",
       "3731             Lahore, Punjab, Pakistan  \\n1 week ago        Remote   \n",
       "3732   Karāchi, Sindh, Pakistan Reposted  \\n6 days a...        Remote   \n",
       "3733        Lahore, Punjab, Pakistan  \\n1 week ago\\n\\n        On-site   \n",
       "\n",
       "     n_applicant job posting time  Job Type nElements   Job-Type  \\\n",
       "0            NaN      2 weeks ago                   1  Full-time   \n",
       "1            NaN      2 weeks ago                   1  Full-time   \n",
       "2            NaN      2 weeks ago                   1  Full-time   \n",
       "3             51      2 weeks ago                   1  Full-time   \n",
       "4             51      2 weeks ago                   1  Full-time   \n",
       "...          ...              ...                 ...        ...   \n",
       "3729           8       1 week ago                   2  Full-time   \n",
       "3730          19       6 days ago                   3  Full-time   \n",
       "3731         NaN       1 week ago                   3  Full-time   \n",
       "3732          19       6 days ago                   3  Full-time   \n",
       "3733          25       1 week ago                   3  Full-time   \n",
       "\n",
       "      Experience Level         Comp_N_Employees  \\\n",
       "0        Not specified          11-50 employees   \n",
       "1        Not specified          11-50 employees   \n",
       "2        Not specified          11-50 employees   \n",
       "3        Not specified           1-10 employees   \n",
       "4        Not specified         51-200 employees   \n",
       "...                ...                      ...   \n",
       "3729     Not specified          11-50 employees   \n",
       "3730  Mid-Senior level  5,001-10,000 employees    \n",
       "3731       Entry level         11-50 employees    \n",
       "3732  Mid-Senior level  5,001-10,000 employees    \n",
       "3733  Mid-Senior level       201-500 employees    \n",
       "\n",
       "                       Comp_Industry  \n",
       "0                      Not specified  \n",
       "1                      Not specified  \n",
       "2                      Not specified  \n",
       "3                      Not specified  \n",
       "4                      Not specified  \n",
       "...                              ...  \n",
       "3729                   Not specified  \n",
       "3730   IT Services and IT Consulting  \n",
       "3731    Online Audio and Video Media  \n",
       "3732   IT Services and IT Consulting  \n",
       "3733            Software Development  \n",
       "\n",
       "[3734 rows x 20 columns]"
      ]
     },
     "execution_count": 212,
     "metadata": {},
     "output_type": "execute_result"
    }
   ],
   "source": [
    "df=pd.read_csv('Filltered_Files-concatenated/IT_roles_Linkedin_Job_Details_and_Job_Descriptions_26-sep-to-26-nov_3734-jobs_1856-titles_20-features_Not-duplicated_v5_Feature_Eng_Processed.csv')\n",
    "df"
   ]
  },
  {
   "cell_type": "code",
   "execution_count": 213,
   "id": "421316ed-c70e-4060-af50-d86be57378f6",
   "metadata": {},
   "outputs": [
    {
     "name": "stderr",
     "output_type": "stream",
     "text": [
      "C:\\Users\\BILAL.COM\\AppData\\Local\\Temp\\ipykernel_6228\\3334376297.py:5: FutureWarning: Setting an item of incompatible dtype is deprecated and will raise in a future error of pandas. Value 'IT Expert' has dtype incompatible with float64, please explicitly cast to a compatible dtype first.\n",
      "  df.loc[conndition, 'Job Title_2'] = 'IT Expert'\n"
     ]
    },
    {
     "data": {
      "text/plain": [
       "728     IT Expert\n",
       "985     IT Expert\n",
       "1001    IT Expert\n",
       "1077    IT Expert\n",
       "1101    IT Expert\n",
       "          ...    \n",
       "2243    IT Expert\n",
       "2244    IT Expert\n",
       "2245    IT Expert\n",
       "2246    IT Expert\n",
       "2247    IT Expert\n",
       "Name: Job Title_2, Length: 87, dtype: object"
      ]
     },
     "execution_count": 213,
     "metadata": {},
     "output_type": "execute_result"
    }
   ],
   "source": [
    "it_tech_pattern = 'IT'\n",
    "filtered_df = df[df['Job Title'].str.contains(it_tech_pattern, case=True)]\n",
    "filtered_df\n",
    "conndition=df['Job Title'].str.contains(it_tech_pattern, case=True)\n",
    "df.loc[conndition, 'Job Title_2'] = 'IT Expert'\n",
    "df[df['Job Title_2']=='IT Expert']['Job Title_2']"
   ]
  },
  {
   "cell_type": "code",
   "execution_count": 214,
   "id": "bbf5d3c6-3425-4882-b0fa-4068ab318f73",
   "metadata": {},
   "outputs": [
    {
     "data": {
      "text/plain": [
       "24      Software Engineer\n",
       "27      Software Engineer\n",
       "33      Software Engineer\n",
       "39      Software Engineer\n",
       "46      Software Engineer\n",
       "              ...        \n",
       "3728    Software Engineer\n",
       "3729    Software Engineer\n",
       "3730    Software Engineer\n",
       "3732    Software Engineer\n",
       "3733    Software Engineer\n",
       "Name: Job Title_2, Length: 700, dtype: object"
      ]
     },
     "execution_count": 214,
     "metadata": {},
     "output_type": "execute_result"
    }
   ],
   "source": [
    "it_tech_pattern = 'Software'\n",
    "filtered_df = df[df['Job Title'].str.contains(it_tech_pattern, case=False)]\n",
    "filtered_df\n",
    "conndition=df['Job Title'].str.contains(it_tech_pattern, case=False)\n",
    "df.loc[conndition, 'Job Title_2'] = 'Software Engineer'\n",
    "df[df['Job Title_2']=='Software Engineer']['Job Title_2']"
   ]
  },
  {
   "cell_type": "code",
   "execution_count": 215,
   "id": "94ab15cc-a7eb-46ff-9d51-f53e68e8303d",
   "metadata": {},
   "outputs": [
    {
     "data": {
      "text/plain": [
       "268     Desktop Engineer\n",
       "680     Desktop Engineer\n",
       "1664    Desktop Engineer\n",
       "1665    Desktop Engineer\n",
       "1666    Desktop Engineer\n",
       "1667    Desktop Engineer\n",
       "1668    Desktop Engineer\n",
       "1669    Desktop Engineer\n",
       "1670    Desktop Engineer\n",
       "1671    Desktop Engineer\n",
       "Name: Job Title_2, dtype: object"
      ]
     },
     "execution_count": 215,
     "metadata": {},
     "output_type": "execute_result"
    }
   ],
   "source": [
    "it_tech_pattern = 'Desktop'\n",
    "filtered_df = df[df['Job Title'].str.contains(it_tech_pattern, case=False)]\n",
    "filtered_df\n",
    "conndition=df['Job Title'].str.contains(it_tech_pattern, case=False)\n",
    "df.loc[conndition, 'Job Title_2'] = 'Desktop Engineer'\n",
    "df[df['Job Title_2']=='Desktop Engineer']['Job Title_2']"
   ]
  },
  {
   "cell_type": "code",
   "execution_count": 216,
   "id": "5a4586de-a3fe-4e36-bf63-7f421978ef53",
   "metadata": {},
   "outputs": [
    {
     "data": {
      "text/plain": [
       "51      UI/UX Developer\n",
       "134     UI/UX Developer\n",
       "202     UI/UX Developer\n",
       "1209    UI/UX Developer\n",
       "1721    UI/UX Developer\n",
       "             ...       \n",
       "3131    UI/UX Developer\n",
       "3132    UI/UX Developer\n",
       "3133    UI/UX Developer\n",
       "3134    UI/UX Developer\n",
       "3135    UI/UX Developer\n",
       "Name: Job Title_2, Length: 82, dtype: object"
      ]
     },
     "execution_count": 216,
     "metadata": {},
     "output_type": "execute_result"
    }
   ],
   "source": [
    "it_tech_pattern = 'UI|UX'\n",
    "filtered_df = df[df['Job Title'].str.contains(it_tech_pattern, case=True)]\n",
    "filtered_df\n",
    "conndition=df['Job Title'].str.contains(it_tech_pattern, case=True)\n",
    "df.loc[conndition, 'Job Title_2'] = 'UI/UX Developer'\n",
    "df[df['Job Title_2']=='UI/UX Developer']['Job Title_2']"
   ]
  },
  {
   "cell_type": "code",
   "execution_count": 217,
   "id": "fed08f55-33c8-4734-80f6-57acbf8a4951",
   "metadata": {},
   "outputs": [
    {
     "data": {
      "text/plain": [
       "340     PHP Developer\n",
       "355     PHP Developer\n",
       "368     PHP Developer\n",
       "369     PHP Developer\n",
       "393     PHP Developer\n",
       "            ...      \n",
       "2813    PHP Developer\n",
       "2814    PHP Developer\n",
       "2815    PHP Developer\n",
       "2816    PHP Developer\n",
       "2817    PHP Developer\n",
       "Name: Job Title_2, Length: 207, dtype: object"
      ]
     },
     "execution_count": 217,
     "metadata": {},
     "output_type": "execute_result"
    }
   ],
   "source": [
    "it_tech_pattern = 'php|laravel'\n",
    "filtered_df = df[df['Job Title'].str.contains(it_tech_pattern, case=False)]\n",
    "filtered_df\n",
    "conndition=df['Job Title'].str.contains(it_tech_pattern, case=False)\n",
    "df.loc[conndition, 'Job Title_2'] = 'PHP Developer'\n",
    "df[df['Job Title_2']=='PHP Developer']['Job Title_2']"
   ]
  },
  {
   "cell_type": "code",
   "execution_count": 218,
   "id": "968be7a7-bcc9-47a8-9b32-db79017154ff",
   "metadata": {},
   "outputs": [
    {
     "data": {
      "text/plain": [
       "3       MERN/MEAN Developer\n",
       "447     MERN/MEAN Developer\n",
       "456     MERN/MEAN Developer\n",
       "728     MERN/MEAN Developer\n",
       "883     MERN/MEAN Developer\n",
       "               ...         \n",
       "2482    MERN/MEAN Developer\n",
       "2483    MERN/MEAN Developer\n",
       "2484    MERN/MEAN Developer\n",
       "2485    MERN/MEAN Developer\n",
       "2486    MERN/MEAN Developer\n",
       "Name: Job Title_2, Length: 70, dtype: object"
      ]
     },
     "execution_count": 218,
     "metadata": {},
     "output_type": "execute_result"
    }
   ],
   "source": [
    "it_tech_pattern = 'MERN|MEAN'\n",
    "filtered_df = df[df['Job Title'].str.contains(it_tech_pattern, case=False)]\n",
    "filtered_df\n",
    "conndition=df['Job Title'].str.contains(it_tech_pattern, case=False)\n",
    "df.loc[conndition, 'Job Title_2'] = 'MERN/MEAN Developer'\n",
    "df[df['Job Title_2']=='MERN/MEAN Developer']['Job Title_2']"
   ]
  },
  {
   "cell_type": "code",
   "execution_count": 219,
   "id": "cd5b90ae-82ee-4edf-a623-082b3014648d",
   "metadata": {},
   "outputs": [
    {
     "data": {
      "text/plain": [
       "3       JavaScript Developer\n",
       "11      JavaScript Developer\n",
       "12      JavaScript Developer\n",
       "13      JavaScript Developer\n",
       "17      JavaScript Developer\n",
       "                ...         \n",
       "2425    JavaScript Developer\n",
       "2426    JavaScript Developer\n",
       "2427    JavaScript Developer\n",
       "2428    JavaScript Developer\n",
       "2429    JavaScript Developer\n",
       "Name: Job Title_2, Length: 295, dtype: object"
      ]
     },
     "execution_count": 219,
     "metadata": {},
     "output_type": "execute_result"
    }
   ],
   "source": [
    "it_tech_pattern='JavaScript|js|Node|React|Angular|Vue|Express|Java|jQuery|HTML|CSS'\n",
    "filtered_df = df[df['Job Title'].str.contains(it_tech_pattern, case=False)]\n",
    "filtered_df\n",
    "conndition=df['Job Title'].str.contains(it_tech_pattern, case=False)\n",
    "df.loc[conndition, 'Job Title_2'] = 'JavaScript Developer'\n",
    "df[df['Job Title_2']=='JavaScript Developer']['Job Title_2']"
   ]
  },
  {
   "cell_type": "code",
   "execution_count": 220,
   "id": "288a84ab-9362-40ed-a6e1-281319b97138",
   "metadata": {},
   "outputs": [
    {
     "data": {
      "text/plain": [
       "336     Python Developer\n",
       "343     Python Developer\n",
       "348     Python Developer\n",
       "382     Python Developer\n",
       "385     Python Developer\n",
       "              ...       \n",
       "2861    Python Developer\n",
       "2862    Python Developer\n",
       "2863    Python Developer\n",
       "2864    Python Developer\n",
       "2865    Python Developer\n",
       "Name: Job Title_2, Length: 77, dtype: object"
      ]
     },
     "execution_count": 220,
     "metadata": {},
     "output_type": "execute_result"
    }
   ],
   "source": [
    "it_tech_pattern = 'Python|Django'\n",
    "filtered_df = df[df['Job Title'].str.contains(it_tech_pattern, case=False)]\n",
    "filtered_df\n",
    "conndition=df['Job Title'].str.contains(it_tech_pattern, case=False)\n",
    "df.loc[conndition, 'Job Title_2'] = 'Python Developer'\n",
    "df[df['Job Title_2']=='Python Developer']['Job Title_2']"
   ]
  },
  {
   "cell_type": "code",
   "execution_count": 221,
   "id": "d771be7a-1e87-4c44-abc1-99b9c03a498f",
   "metadata": {},
   "outputs": [
    {
     "data": {
      "text/plain": [
       "928     Data Mining Engineer\n",
       "970     Data Mining Engineer\n",
       "1207    Data Mining Engineer\n",
       "1455    Data Mining Engineer\n",
       "1632    Data Mining Engineer\n",
       "2847    Data Mining Engineer\n",
       "2866    Data Mining Engineer\n",
       "2867    Data Mining Engineer\n",
       "2868    Data Mining Engineer\n",
       "Name: Job Title_2, dtype: object"
      ]
     },
     "execution_count": 221,
     "metadata": {},
     "output_type": "execute_result"
    }
   ],
   "source": [
    "it_tech_pattern = 'Scrap|Extract|Data Mining'\n",
    "filtered_df = df[df['Job Title'].str.contains(it_tech_pattern, case=False)]\n",
    "filtered_df\n",
    "conndition=df['Job Title'].str.contains(it_tech_pattern, case=False)\n",
    "df.loc[conndition, 'Job Title_2'] = 'Data Mining Engineer'\n",
    "df[df['Job Title_2']=='Data Mining Engineer']['Job Title_2']"
   ]
  },
  {
   "cell_type": "code",
   "execution_count": 222,
   "id": "927fd3f3-f72e-44d0-9be1-b4d89238e445",
   "metadata": {},
   "outputs": [
    {
     "data": {
      "text/plain": [
       "125     Web Developer\n",
       "237     Web Developer\n",
       "241     Web Developer\n",
       "246     Web Developer\n",
       "252     Web Developer\n",
       "            ...      \n",
       "3220    Web Developer\n",
       "3221    Web Developer\n",
       "3222    Web Developer\n",
       "3223    Web Developer\n",
       "3533    Web Developer\n",
       "Name: Job Title_2, Length: 239, dtype: object"
      ]
     },
     "execution_count": 222,
     "metadata": {},
     "output_type": "execute_result"
    }
   ],
   "source": [
    "it_tech_pattern = 'Web'\n",
    "filtered_df = df[df['Job Title'].str.contains(it_tech_pattern, case=False)]\n",
    "filtered_df\n",
    "conndition=df['Job Title'].str.contains(it_tech_pattern, case=False)\n",
    "df.loc[conndition, 'Job Title_2'] = 'Web Developer'\n",
    "df[df['Job Title_2']=='Web Developer']['Job Title_2']"
   ]
  },
  {
   "cell_type": "code",
   "execution_count": 223,
   "id": "31af1dea-a46e-4676-b931-908470d8c11b",
   "metadata": {},
   "outputs": [
    {
     "data": {
      "text/plain": [
       "264     Full-Stack Developer\n",
       "352     Full-Stack Developer\n",
       "403     Full-Stack Developer\n",
       "432     Full-Stack Developer\n",
       "447     Full-Stack Developer\n",
       "                ...         \n",
       "2071    Full-Stack Developer\n",
       "2072    Full-Stack Developer\n",
       "2073    Full-Stack Developer\n",
       "2074    Full-Stack Developer\n",
       "2075    Full-Stack Developer\n",
       "Name: Job Title_2, Length: 257, dtype: object"
      ]
     },
     "execution_count": 223,
     "metadata": {},
     "output_type": "execute_result"
    }
   ],
   "source": [
    "it_tech_pattern='Full Stack|Full-Stack|Fullstack|Full_Stack'\n",
    "filtered_df = df[df['Job Title'].str.contains(it_tech_pattern, case=False)]\n",
    "filtered_df\n",
    "conndition=df['Job Title'].str.contains(it_tech_pattern, case=False)\n",
    "df.loc[conndition, 'Job Title_2'] = 'Full-Stack Developer'\n",
    "df[df['Job Title_2']=='Full-Stack Developer']['Job Title_2']"
   ]
  },
  {
   "cell_type": "code",
   "execution_count": 224,
   "id": "88450232-3119-46da-ad64-cfc7a14e0834",
   "metadata": {},
   "outputs": [
    {
     "data": {
      "text/plain": [
       "243     Front-End Developer\n",
       "282     Front-End Developer\n",
       "301     Front-End Developer\n",
       "434     Front-End Developer\n",
       "811     Front-End Developer\n",
       "               ...         \n",
       "1844    Front-End Developer\n",
       "1845    Front-End Developer\n",
       "1846    Front-End Developer\n",
       "1847    Front-End Developer\n",
       "1848    Front-End Developer\n",
       "Name: Job Title_2, Length: 116, dtype: object"
      ]
     },
     "execution_count": 224,
     "metadata": {},
     "output_type": "execute_result"
    }
   ],
   "source": [
    "it_tech_pattern='Front'\n",
    "filtered_df = df[df['Job Title'].str.contains(it_tech_pattern, case=False)]\n",
    "filtered_df\n",
    "conndition=df['Job Title'].str.contains(it_tech_pattern, case=False)\n",
    "df.loc[conndition, 'Job Title_2'] = 'Front-End Developer'\n",
    "df[df['Job Title_2']=='Front-End Developer']['Job Title_2']"
   ]
  },
  {
   "cell_type": "code",
   "execution_count": 225,
   "id": "cda4fe24-b8ae-4c5b-bbf7-a3a10bc2dc37",
   "metadata": {},
   "outputs": [
    {
     "data": {
      "text/plain": [
       "332     Back-End Developer\n",
       "333     Back-End Developer\n",
       "334     Back-End Developer\n",
       "335     Back-End Developer\n",
       "336     Back-End Developer\n",
       "               ...        \n",
       "559     Back-End Developer\n",
       "560     Back-End Developer\n",
       "561     Back-End Developer\n",
       "1407    Back-End Developer\n",
       "2217    Back-End Developer\n",
       "Name: Job Title_2, Length: 232, dtype: object"
      ]
     },
     "execution_count": 225,
     "metadata": {},
     "output_type": "execute_result"
    }
   ],
   "source": [
    "it_tech_pattern='Back'\n",
    "filtered_df = df[df['Job Title'].str.contains(it_tech_pattern, case=False)]\n",
    "filtered_df\n",
    "conndition=df['Job Title'].str.contains(it_tech_pattern, case=False)\n",
    "df.loc[conndition, 'Job Title_2'] = 'Back-End Developer'\n",
    "df[df['Job Title_2']=='Back-End Developer']['Job Title_2']"
   ]
  },
  {
   "cell_type": "code",
   "execution_count": 226,
   "id": "cd79e2f0-c015-47f3-a36e-e683626ef7b2",
   "metadata": {},
   "outputs": [
    {
     "data": {
      "text/plain": [
       "235     Shopify Developer\n",
       "337     Shopify Developer\n",
       "386     Shopify Developer\n",
       "400     Shopify Developer\n",
       "451     Shopify Developer\n",
       "              ...        \n",
       "2933    Shopify Developer\n",
       "2934    Shopify Developer\n",
       "2935    Shopify Developer\n",
       "2936    Shopify Developer\n",
       "2937    Shopify Developer\n",
       "Name: Job Title_2, Length: 64, dtype: object"
      ]
     },
     "execution_count": 226,
     "metadata": {},
     "output_type": "execute_result"
    }
   ],
   "source": [
    "it_tech_pattern = 'Shopify'\n",
    "filtered_df = df[df['Job Title'].str.contains(it_tech_pattern, case=False)]\n",
    "filtered_df\n",
    "conndition=df['Job Title'].str.contains(it_tech_pattern, case=False)\n",
    "df.loc[conndition, 'Job Title_2'] = 'Shopify Developer'\n",
    "df[df['Job Title_2']=='Shopify Developer']['Job Title_2']"
   ]
  },
  {
   "cell_type": "code",
   "execution_count": 227,
   "id": "2e59afc6-2968-4336-824b-2c23fdde3161",
   "metadata": {},
   "outputs": [
    {
     "data": {
      "text/plain": [
       "259     WordPress Developer\n",
       "335     WordPress Developer\n",
       "355     WordPress Developer\n",
       "379     WordPress Developer\n",
       "407     WordPress Developer\n",
       "               ...         \n",
       "3281    WordPress Developer\n",
       "3282    WordPress Developer\n",
       "3283    WordPress Developer\n",
       "3284    WordPress Developer\n",
       "3285    WordPress Developer\n",
       "Name: Job Title_2, Length: 102, dtype: object"
      ]
     },
     "execution_count": 227,
     "metadata": {},
     "output_type": "execute_result"
    }
   ],
   "source": [
    "it_tech_pattern = 'Word Press|Word-Press|WordPress|Word_Press'\n",
    "filtered_df = df[df['Job Title'].str.contains(it_tech_pattern, case=False)]\n",
    "filtered_df\n",
    "conndition=df['Job Title'].str.contains(it_tech_pattern, case=False)\n",
    "df.loc[conndition, 'Job Title_2'] = 'WordPress Developer'\n",
    "df[df['Job Title_2']=='WordPress Developer']['Job Title_2']"
   ]
  },
  {
   "cell_type": "code",
   "execution_count": 228,
   "id": "ccbeda8a-12fc-4853-b10b-5ebf30b1e3e5",
   "metadata": {},
   "outputs": [
    {
     "data": {
      "text/plain": [
       "0       App Developer\n",
       "1       App Developer\n",
       "2       App Developer\n",
       "3       App Developer\n",
       "4       App Developer\n",
       "            ...      \n",
       "328     App Developer\n",
       "329     App Developer\n",
       "330     App Developer\n",
       "331     App Developer\n",
       "1815    App Developer\n",
       "Name: Job Title_2, Length: 333, dtype: object"
      ]
     },
     "execution_count": 228,
     "metadata": {},
     "output_type": "execute_result"
    }
   ],
   "source": [
    "it_tech_pattern = 'App|Android|ios|Mobile|Flutter|Xamarin|React Native|Swift|Kotlin|Ionic'\n",
    "filtered_df = df[df['Job Title'].str.contains(it_tech_pattern, case=False)]\n",
    "filtered_df\n",
    "conndition=df['Job Title'].str.contains(it_tech_pattern, case=False)\n",
    "df.loc[conndition, 'Job Title_2'] = 'App Developer'\n",
    "df[df['Job Title_2']=='App Developer']['Job Title_2']"
   ]
  },
  {
   "cell_type": "code",
   "execution_count": 229,
   "id": "b5fd3699-ee0a-45d0-85fd-b988cd0b484d",
   "metadata": {},
   "outputs": [
    {
     "data": {
      "text/plain": [
       "249     Cloud Developer\n",
       "250     Cloud Developer\n",
       "260     Cloud Developer\n",
       "292     Cloud Developer\n",
       "313     Cloud Developer\n",
       "             ...       \n",
       "926     Cloud Developer\n",
       "927     Cloud Developer\n",
       "1059    Cloud Developer\n",
       "1149    Cloud Developer\n",
       "2622    Cloud Developer\n",
       "Name: Job Title_2, Length: 198, dtype: object"
      ]
     },
     "execution_count": 229,
     "metadata": {},
     "output_type": "execute_result"
    }
   ],
   "source": [
    "it_tech_pattern = 'Cloud|AWS|Azure|GCP|IBM|Salesforce|Oracle'\n",
    "filtered_df = df[df['Job Title'].str.contains(it_tech_pattern, case=False)]\n",
    "filtered_df\n",
    "conndition=df['Job Title'].str.contains(it_tech_pattern, case=False)\n",
    "df.loc[conndition, 'Job Title_2'] = 'Cloud Developer'\n",
    "df[df['Job Title_2']=='Cloud Developer']['Job Title_2']"
   ]
  },
  {
   "cell_type": "code",
   "execution_count": 230,
   "id": "5ab57d7f-0e06-4201-b0b0-191d8b353fb6",
   "metadata": {},
   "outputs": [
    {
     "data": {
      "text/plain": [
       "232     AI/Data Science/Machine Learning Engineer\n",
       "244     AI/Data Science/Machine Learning Engineer\n",
       "258     AI/Data Science/Machine Learning Engineer\n",
       "265     AI/Data Science/Machine Learning Engineer\n",
       "276     AI/Data Science/Machine Learning Engineer\n",
       "                          ...                    \n",
       "1659    AI/Data Science/Machine Learning Engineer\n",
       "1660    AI/Data Science/Machine Learning Engineer\n",
       "1661    AI/Data Science/Machine Learning Engineer\n",
       "1662    AI/Data Science/Machine Learning Engineer\n",
       "1663    AI/Data Science/Machine Learning Engineer\n",
       "Name: Job Title_2, Length: 771, dtype: object"
      ]
     },
     "execution_count": 230,
     "metadata": {},
     "output_type": "execute_result"
    }
   ],
   "source": [
    "it_tech_pattern = 'data|analyst|Analytics|Analysis|Artificial intelligence|business intelligence|Machine Learning|Deep Learning|Computer vision|Natural Language processing|NLP|SQL|ETL|powerBI|Power BI|Tableau'\n",
    "filtered_df = df[df['Job Title'].str.contains(it_tech_pattern, case=False)]\n",
    "filtered_df\n",
    "conndition=df['Job Title'].str.contains(it_tech_pattern, case=False)\n",
    "df.loc[conndition, 'Job Title_2'] = 'AI/Data Science/Machine Learning Engineer'\n",
    "df[df['Job Title_2']=='AI/Data Science/Machine Learning Engineer']['Job Title_2']"
   ]
  },
  {
   "cell_type": "code",
   "execution_count": 231,
   "id": "99910436-bc47-4f4f-9a00-8d2beb290565",
   "metadata": {},
   "outputs": [
    {
     "data": {
      "text/plain": [
       "751     Devops Engineer\n",
       "773     Devops Engineer\n",
       "781     Devops Engineer\n",
       "793     Devops Engineer\n",
       "798     Devops Engineer\n",
       "             ...       \n",
       "1733    Devops Engineer\n",
       "1734    Devops Engineer\n",
       "1735    Devops Engineer\n",
       "1736    Devops Engineer\n",
       "1737    Devops Engineer\n",
       "Name: Job Title_2, Length: 80, dtype: object"
      ]
     },
     "execution_count": 231,
     "metadata": {},
     "output_type": "execute_result"
    }
   ],
   "source": [
    "it_tech_pattern = 'Devops'\n",
    "filtered_df = df[df['Job Title'].str.contains(it_tech_pattern, case=False)]\n",
    "filtered_df\n",
    "conndition=df['Job Title'].str.contains(it_tech_pattern, case=False)\n",
    "df.loc[conndition, 'Job Title_2'] = 'Devops Engineer'\n",
    "df[df['Job Title_2']=='Devops Engineer']['Job Title_2']"
   ]
  },
  {
   "cell_type": "code",
   "execution_count": 232,
   "id": "a379e2a8-5edd-4af5-8608-07ff2517bbc3",
   "metadata": {},
   "outputs": [
    {
     "data": {
      "text/plain": [
       "7       Game Developer\n",
       "75      Game Developer\n",
       "461     Game Developer\n",
       "728     Game Developer\n",
       "1576    Game Developer\n",
       "             ...      \n",
       "2174    Game Developer\n",
       "2175    Game Developer\n",
       "2176    Game Developer\n",
       "3249    Game Developer\n",
       "3253    Game Developer\n",
       "Name: Job Title_2, Length: 111, dtype: object"
      ]
     },
     "execution_count": 232,
     "metadata": {},
     "output_type": "execute_result"
    }
   ],
   "source": [
    "it_tech_pattern = 'game|Unreal|Unity'\n",
    "filtered_df = df[df['Job Title'].str.contains(it_tech_pattern, case=False)]\n",
    "filtered_df\n",
    "conndition=df['Job Title'].str.contains(it_tech_pattern, case=False)\n",
    "df.loc[conndition, 'Job Title_2'] = 'Game Developer'\n",
    "df[df['Job Title_2']=='Game Developer']['Job Title_2']"
   ]
  },
  {
   "cell_type": "code",
   "execution_count": 233,
   "id": "cf72688e-d300-40db-b45e-39197d851772",
   "metadata": {},
   "outputs": [
    {
     "data": {
      "text/plain": [
       "312     Network Engineer\n",
       "314     Network Engineer\n",
       "333     Network Engineer\n",
       "339     Network Engineer\n",
       "755     Network Engineer\n",
       "              ...       \n",
       "2661    Network Engineer\n",
       "2662    Network Engineer\n",
       "2663    Network Engineer\n",
       "2664    Network Engineer\n",
       "2665    Network Engineer\n",
       "Name: Job Title_2, Length: 62, dtype: object"
      ]
     },
     "execution_count": 233,
     "metadata": {},
     "output_type": "execute_result"
    }
   ],
   "source": [
    "it_tech_pattern = 'Network|Cisco|Internet'\n",
    "filtered_df = df[df['Job Title'].str.contains(it_tech_pattern, case=False)]\n",
    "filtered_df\n",
    "conndition=df['Job Title'].str.contains(it_tech_pattern, case=False)\n",
    "df.loc[conndition, 'Job Title_2'] = 'Network Engineer'\n",
    "df[df['Job Title_2']=='Network Engineer']['Job Title_2']"
   ]
  },
  {
   "cell_type": "code",
   "execution_count": 234,
   "id": "4a5b7bee-ef8c-49c4-8f3c-cfbeb21e29d4",
   "metadata": {},
   "outputs": [
    {
     "data": {
      "text/plain": [
       "51      dotnet Engineer\n",
       "64      dotnet Engineer\n",
       "88      dotnet Engineer\n",
       "134     dotnet Engineer\n",
       "160     dotnet Engineer\n",
       "             ...       \n",
       "2658    dotnet Engineer\n",
       "2660    dotnet Engineer\n",
       "2661    dotnet Engineer\n",
       "2662    dotnet Engineer\n",
       "2665    dotnet Engineer\n",
       "Name: Job Title_2, Length: 206, dtype: object"
      ]
     },
     "execution_count": 234,
     "metadata": {},
     "output_type": "execute_result"
    }
   ],
   "source": [
    "it_tech_pattern = 'dotnet|.net'\n",
    "filtered_df = df[df['Job Title'].str.contains(it_tech_pattern, case=False)]\n",
    "filtered_df\n",
    "conndition=df['Job Title'].str.contains(it_tech_pattern, case=False)\n",
    "df.loc[conndition, 'Job Title_2'] = 'dotnet Engineer'\n",
    "df[df['Job Title_2']=='dotnet Engineer']['Job Title_2']"
   ]
  },
  {
   "cell_type": "code",
   "execution_count": 235,
   "id": "2909f724-b60b-42a3-8b9a-1f00473b4448",
   "metadata": {},
   "outputs": [
    {
     "data": {
      "text/plain": [
       "577    Software Engineer\n",
       "584                  NaN\n",
       "585    Software Engineer\n",
       "589    Software Engineer\n",
       "590    Software Engineer\n",
       "594                  NaN\n",
       "595    Software Engineer\n",
       "597                  NaN\n",
       "598    Software Engineer\n",
       "601                  NaN\n",
       "650    Software Engineer\n",
       "651    Software Engineer\n",
       "659    Software Engineer\n",
       "682    Software Engineer\n",
       "683    Software Engineer\n",
       "684    Software Engineer\n",
       "693                  NaN\n",
       "704    Software Engineer\n",
       "705    Software Engineer\n",
       "706    Software Engineer\n",
       "707    Software Engineer\n",
       "717    Software Engineer\n",
       "718    Software Engineer\n",
       "719    Software Engineer\n",
       "735    Software Engineer\n",
       "736    Software Engineer\n",
       "737    Software Engineer\n",
       "738    Software Engineer\n",
       "739    Software Engineer\n",
       "740    Software Engineer\n",
       "742    Software Engineer\n",
       "Name: Job Title_2, dtype: object"
      ]
     },
     "execution_count": 235,
     "metadata": {},
     "output_type": "execute_result"
    }
   ],
   "source": [
    "it_tech_keywords=['C++']\n",
    "filtered=df[df['Job Title'].apply(lambda title: any(keyword in title for keyword in it_tech_keywords))]\n",
    "filtered\n",
    "df[df['Job ID'].isin(filtered['Job ID'])]['Job Title_2']\n",
    "# df.loc[df['Job ID'].isin(filtered['Job ID']), 'Job Title_2'] = 'C++ Engineer'\n",
    "# df[df['Job Title_2']=='C++ Engineer']['Job Title_2']\n",
    "# condition=df['Job Title'].apply(lambda title: any(keyword in title for keyword in it_tech_keywords))\n",
    "# condition\n",
    "# condition.value_counts()\n",
    "# df.loc[conndition, 'Job Title_2'] = 'C++ Engineer'\n",
    "# df[df['Job Title_2']=='C++ Engineer']['Job Title_2']"
   ]
  },
  {
   "cell_type": "code",
   "execution_count": 236,
   "id": "ed3766af-44f2-4572-9018-0d5f5d8d5d89",
   "metadata": {},
   "outputs": [],
   "source": [
    "filtered_job_ids = filtered['Job ID'].tolist()\n",
    "\n",
    "def update_job_title(job_id, current_title):\n",
    "    if job_id in filtered_job_ids:\n",
    "        return 'C++ Engineer'\n",
    "    else:\n",
    "        return current_title\n",
    "\n",
    "df['Job Title_2'] = df.apply(lambda row: update_job_title(row['Job ID'], row['Job Title_2']), axis=1)"
   ]
  },
  {
   "cell_type": "code",
   "execution_count": 237,
   "id": "b66c6d47-1e7a-46c7-afcd-f7fc87a8607b",
   "metadata": {},
   "outputs": [
    {
     "data": {
      "text/plain": [
       "Job Title_2\n",
       "AI/Data Science/Machine Learning Engineer    757\n",
       "Software Engineer                            515\n",
       "App Developer                                303\n",
       "Full-Stack Developer                         219\n",
       "Back-End Developer                           209\n",
       "dotnet Engineer                              206\n",
       "JavaScript Developer                         176\n",
       "Cloud Developer                              157\n",
       "PHP Developer                                135\n",
       "Game Developer                               110\n",
       "Front-End Developer                          108\n",
       "WordPress Developer                           99\n",
       "Web Developer                                 92\n",
       "Devops Engineer                               80\n",
       "IT Expert                                     65\n",
       "UI/UX Developer                               64\n",
       "Shopify Developer                             60\n",
       "MERN/MEAN Developer                           57\n",
       "Python Developer                              48\n",
       "C++ Engineer                                  31\n",
       "Network Engineer                              16\n",
       "Desktop Engineer                               8\n",
       "Name: count, dtype: int64"
      ]
     },
     "execution_count": 237,
     "metadata": {},
     "output_type": "execute_result"
    }
   ],
   "source": [
    "df['Job Title_2'].value_counts()"
   ]
  },
  {
   "cell_type": "code",
   "execution_count": 238,
   "id": "1adbe1bc-ecec-4a45-9a9b-30d4f35a384b",
   "metadata": {},
   "outputs": [],
   "source": [
    "# it_tech_pattern = 'C++'\n",
    "# filtered_df = df[df['Job Title'].str.contains(it_tech_pattern, case=True)]\n",
    "# filtered_df\n",
    "# conndition=df['Job Title'].str.contains(it_tech_pattern, case=True)\n",
    "# df.loc[conndition, 'Job Title_2'] = 'C++ Engineer'\n",
    "# df[df['Job Title_2']=='C++ Engineer']['Job Title_2']"
   ]
  },
  {
   "cell_type": "code",
   "execution_count": 239,
   "id": "4bb9af08-8380-4d60-9e95-ef7a29cafc02",
   "metadata": {},
   "outputs": [
    {
     "data": {
      "text/plain": [
       "296     Cyber security Engineer\n",
       "324     Cyber security Engineer\n",
       "327     Cyber security Engineer\n",
       "328     Cyber security Engineer\n",
       "747     Cyber security Engineer\n",
       "757     Cyber security Engineer\n",
       "803     Cyber security Engineer\n",
       "924     Cyber security Engineer\n",
       "1013    Cyber security Engineer\n",
       "1073    Cyber security Engineer\n",
       "1097    Cyber security Engineer\n",
       "1256    Cyber security Engineer\n",
       "1420    Cyber security Engineer\n",
       "1479    Cyber security Engineer\n",
       "1508    Cyber security Engineer\n",
       "1571    Cyber security Engineer\n",
       "1579    Cyber security Engineer\n",
       "1646    Cyber security Engineer\n",
       "1663    Cyber security Engineer\n",
       "2198    Cyber security Engineer\n",
       "2199    Cyber security Engineer\n",
       "2226    Cyber security Engineer\n",
       "2228    Cyber security Engineer\n",
       "2234    Cyber security Engineer\n",
       "2665    Cyber security Engineer\n",
       "2869    Cyber security Engineer\n",
       "2870    Cyber security Engineer\n",
       "2871    Cyber security Engineer\n",
       "2872    Cyber security Engineer\n",
       "2873    Cyber security Engineer\n",
       "2874    Cyber security Engineer\n",
       "2875    Cyber security Engineer\n",
       "2876    Cyber security Engineer\n",
       "2877    Cyber security Engineer\n",
       "2878    Cyber security Engineer\n",
       "2879    Cyber security Engineer\n",
       "3139    Cyber security Engineer\n",
       "Name: Job Title_2, dtype: object"
      ]
     },
     "execution_count": 239,
     "metadata": {},
     "output_type": "execute_result"
    }
   ],
   "source": [
    "it_tech_pattern = 'security|Cyber|Threat|Surveillance|infosec'\n",
    "filtered_df = df[df['Job Title'].str.contains(it_tech_pattern, case=False)]\n",
    "filtered_df\n",
    "conndition=df['Job Title'].str.contains(it_tech_pattern, case=False)\n",
    "df.loc[conndition, 'Job Title_2'] = 'Cyber security Engineer'\n",
    "df[df['Job Title_2']=='Cyber security Engineer']['Job Title_2']"
   ]
  },
  {
   "cell_type": "code",
   "execution_count": 240,
   "id": "0b5547ae-799e-4148-a4b3-764d57b4e7f2",
   "metadata": {},
   "outputs": [
    {
     "data": {
      "text/plain": [
       "29      Testing and SQA Engineer\n",
       "62      Testing and SQA Engineer\n",
       "105     Testing and SQA Engineer\n",
       "249     Testing and SQA Engineer\n",
       "274     Testing and SQA Engineer\n",
       "                  ...           \n",
       "3599    Testing and SQA Engineer\n",
       "3665    Testing and SQA Engineer\n",
       "3675    Testing and SQA Engineer\n",
       "3679    Testing and SQA Engineer\n",
       "3731    Testing and SQA Engineer\n",
       "Name: Job Title_2, Length: 174, dtype: object"
      ]
     },
     "execution_count": 240,
     "metadata": {},
     "output_type": "execute_result"
    }
   ],
   "source": [
    "it_tech_pattern = 'SQA|testing|Automation|Quality Assurance|Scrum|SDET|QA'\n",
    "filtered_df = df[df['Job Title'].str.contains(it_tech_pattern, case=False)]\n",
    "filtered_df\n",
    "conndition=df['Job Title'].str.contains(it_tech_pattern, case=False)\n",
    "df.loc[conndition, 'Job Title_2'] = 'Testing and SQA Engineer'\n",
    "df[df['Job Title_2']=='Testing and SQA Engineer']['Job Title_2']"
   ]
  },
  {
   "cell_type": "code",
   "execution_count": 241,
   "id": "4d1a20a8-67fb-4046-8310-3c2f664b4aab",
   "metadata": {},
   "outputs": [
    {
     "data": {
      "text/plain": [
       "1316    Web3 Engineer\n",
       "1321    Web3 Engineer\n",
       "1887    Web3 Engineer\n",
       "2404    Web3 Engineer\n",
       "3024    Web3 Engineer\n",
       "3136    Web3 Engineer\n",
       "3137    Web3 Engineer\n",
       "3138    Web3 Engineer\n",
       "3139    Web3 Engineer\n",
       "3140    Web3 Engineer\n",
       "3141    Web3 Engineer\n",
       "3142    Web3 Engineer\n",
       "3143    Web3 Engineer\n",
       "3144    Web3 Engineer\n",
       "3145    Web3 Engineer\n",
       "3146    Web3 Engineer\n",
       "3147    Web3 Engineer\n",
       "3533    Web3 Engineer\n",
       "Name: Job Title_2, dtype: object"
      ]
     },
     "execution_count": 241,
     "metadata": {},
     "output_type": "execute_result"
    }
   ],
   "source": [
    "it_tech_pattern = 'Web3|Blockchain|crypto'\n",
    "filtered_df = df[df['Job Title'].str.contains(it_tech_pattern, case=False)]\n",
    "filtered_df\n",
    "conndition=df['Job Title'].str.contains(it_tech_pattern, case=False)\n",
    "df.loc[conndition, 'Job Title_2'] = 'Web3 Engineer'\n",
    "df[df['Job Title_2']=='Web3 Engineer']['Job Title_2']"
   ]
  },
  {
   "cell_type": "code",
   "execution_count": 242,
   "id": "09df4793-76c9-4584-bf3a-83e556cf1709",
   "metadata": {},
   "outputs": [
    {
     "data": {
      "text/plain": [
       "1       AI Engineer\n",
       "4       AI Engineer\n",
       "7       AI Engineer\n",
       "19      AI Engineer\n",
       "20      AI Engineer\n",
       "           ...     \n",
       "3183    AI Engineer\n",
       "3361    AI Engineer\n",
       "3377    AI Engineer\n",
       "3460    AI Engineer\n",
       "3594    AI Engineer\n",
       "Name: Job Title_2, Length: 338, dtype: object"
      ]
     },
     "execution_count": 242,
     "metadata": {},
     "output_type": "execute_result"
    }
   ],
   "source": [
    "it_tech_pattern = 'ML|DL|BI|AI'\n",
    "filtered_df = df[df['Job Title'].str.contains(it_tech_pattern, case=False)]\n",
    "filtered_df\n",
    "conndition=df['Job Title'].str.contains(it_tech_pattern, case=False)\n",
    "df.loc[conndition, 'Job Title_2'] = 'AI Engineer'\n",
    "df[df['Job Title_2']=='AI Engineer']['Job Title_2']"
   ]
  },
  {
   "cell_type": "code",
   "execution_count": 245,
   "id": "d41c45a4-c5ea-4d92-9aa7-62b4d991209b",
   "metadata": {},
   "outputs": [
    {
     "data": {
      "text/plain": [
       "0"
      ]
     },
     "execution_count": 245,
     "metadata": {},
     "output_type": "execute_result"
    }
   ],
   "source": [
    "df['Job Title_2'].isnull().sum()"
   ]
  },
  {
   "cell_type": "code",
   "execution_count": 208,
   "id": "2956145c-f5fb-4442-a649-d6b380846356",
   "metadata": {},
   "outputs": [
    {
     "data": {
      "text/html": [
       "<div>\n",
       "<style scoped>\n",
       "    .dataframe tbody tr th:only-of-type {\n",
       "        vertical-align: middle;\n",
       "    }\n",
       "\n",
       "    .dataframe tbody tr th {\n",
       "        vertical-align: top;\n",
       "    }\n",
       "\n",
       "    .dataframe thead th {\n",
       "        text-align: right;\n",
       "    }\n",
       "</style>\n",
       "<table border=\"1\" class=\"dataframe\">\n",
       "  <thead>\n",
       "    <tr style=\"text-align: right;\">\n",
       "      <th></th>\n",
       "      <th>Job Title</th>\n",
       "      <th>Job Info</th>\n",
       "      <th>Job Type</th>\n",
       "      <th>Job Link_x</th>\n",
       "      <th>employees</th>\n",
       "      <th>Job ID</th>\n",
       "      <th>Job Link_y</th>\n",
       "      <th>Job Desception</th>\n",
       "      <th>Company Info</th>\n",
       "      <th>company</th>\n",
       "      <th>...</th>\n",
       "      <th>location_2</th>\n",
       "      <th>Remote/Onsite</th>\n",
       "      <th>n_applicant</th>\n",
       "      <th>job posting time</th>\n",
       "      <th>Job Type nElements</th>\n",
       "      <th>Job-Type</th>\n",
       "      <th>Experience Level</th>\n",
       "      <th>Comp_N_Employees</th>\n",
       "      <th>Comp_Industry</th>\n",
       "      <th>Job Title_2</th>\n",
       "    </tr>\n",
       "  </thead>\n",
       "  <tbody>\n",
       "    <tr>\n",
       "      <th>708</th>\n",
       "      <td>C# Programmer</td>\n",
       "      <td>Markalytics · Islamabad, Islāmābād, Pakistan  ...</td>\n",
       "      <td>On-site\\n\\n \\nFull-time</td>\n",
       "      <td>https://www.linkedin.com/jobs/view/3752414660</td>\n",
       "      <td>11-50 employees</td>\n",
       "      <td>3752414660</td>\n",
       "      <td>https://www.linkedin.com/jobs/view/3752414660</td>\n",
       "      <td>About the job\\n            \\n\\n \\nCompany Desc...</td>\n",
       "      <td>Advertising Services\\n            \\n          ...</td>\n",
       "      <td>Markalytics</td>\n",
       "      <td>...</td>\n",
       "      <td>Islamabad, Islāmābād, Pakistan  \\n2 weeks ago</td>\n",
       "      <td>On-site</td>\n",
       "      <td>NaN</td>\n",
       "      <td>2 weeks ago</td>\n",
       "      <td>2</td>\n",
       "      <td>Full-time</td>\n",
       "      <td>Not specified</td>\n",
       "      <td>11-50 employees</td>\n",
       "      <td>Not specified</td>\n",
       "      <td>NaN</td>\n",
       "    </tr>\n",
       "  </tbody>\n",
       "</table>\n",
       "<p>1 rows × 21 columns</p>\n",
       "</div>"
      ],
      "text/plain": [
       "         Job Title                                           Job Info  \\\n",
       "708  C# Programmer  Markalytics · Islamabad, Islāmābād, Pakistan  ...   \n",
       "\n",
       "                    Job Type                                     Job Link_x  \\\n",
       "708  On-site\\n\\n \\nFull-time  https://www.linkedin.com/jobs/view/3752414660   \n",
       "\n",
       "           employees      Job ID  \\\n",
       "708  11-50 employees  3752414660   \n",
       "\n",
       "                                        Job Link_y  \\\n",
       "708  https://www.linkedin.com/jobs/view/3752414660   \n",
       "\n",
       "                                        Job Desception  \\\n",
       "708  About the job\\n            \\n\\n \\nCompany Desc...   \n",
       "\n",
       "                                          Company Info       company  ...  \\\n",
       "708  Advertising Services\\n            \\n          ...  Markalytics   ...   \n",
       "\n",
       "                                         location_2 Remote/Onsite n_applicant  \\\n",
       "708   Islamabad, Islāmābād, Pakistan  \\n2 weeks ago       On-site         NaN   \n",
       "\n",
       "    job posting time Job Type nElements   Job-Type Experience Level  \\\n",
       "708      2 weeks ago                  2  Full-time    Not specified   \n",
       "\n",
       "    Comp_N_Employees  Comp_Industry Job Title_2  \n",
       "708  11-50 employees  Not specified         NaN  \n",
       "\n",
       "[1 rows x 21 columns]"
      ]
     },
     "execution_count": 208,
     "metadata": {},
     "output_type": "execute_result"
    }
   ],
   "source": [
    "df[df['Job Title_2'].isnull()]"
   ]
  },
  {
   "cell_type": "code",
   "execution_count": 244,
   "id": "f92cffdd-880d-4405-b298-6b62cf3cef10",
   "metadata": {},
   "outputs": [],
   "source": [
    "df['Job Title_2'].fillna('C# Engineer', inplace=True)"
   ]
  },
  {
   "cell_type": "code",
   "execution_count": 246,
   "id": "84c81d87-2d73-4e91-a7d6-be5e6fff83bd",
   "metadata": {},
   "outputs": [
    {
     "data": {
      "text/plain": [
       "Job Title_2\n",
       "AI/Data Science/Machine Learning Engineer    669\n",
       "Software Engineer                            431\n",
       "AI Engineer                                  338\n",
       "App Developer                                215\n",
       "Full-Stack Developer                         213\n",
       "Back-End Developer                           207\n",
       "dotnet Engineer                              201\n",
       "JavaScript Developer                         173\n",
       "Testing and SQA Engineer                     164\n",
       "Cloud Developer                              142\n",
       "PHP Developer                                130\n",
       "Front-End Developer                          105\n",
       "Game Developer                               102\n",
       "WordPress Developer                           98\n",
       "Web Developer                                 85\n",
       "Devops Engineer                               79\n",
       "UI/UX Developer                               64\n",
       "Shopify Developer                             60\n",
       "IT Expert                                     59\n",
       "MERN/MEAN Developer                           56\n",
       "Python Developer                              47\n",
       "Cyber security Engineer                       35\n",
       "C++ Engineer                                  31\n",
       "Network Engineer                              16\n",
       "Desktop Engineer                               8\n",
       "Web3 Engineer                                  5\n",
       "C# Engineer                                    1\n",
       "Name: count, dtype: int64"
      ]
     },
     "execution_count": 246,
     "metadata": {},
     "output_type": "execute_result"
    }
   ],
   "source": [
    "df['Job Title_2'].value_counts()"
   ]
  },
  {
   "cell_type": "code",
   "execution_count": null,
   "id": "4c4f5fb8-7cc6-4cc3-8db5-d9b50b4a2591",
   "metadata": {},
   "outputs": [],
   "source": []
  }
 ],
 "metadata": {
  "kernelspec": {
   "display_name": "Python 3 (ipykernel)",
   "language": "python",
   "name": "python3"
  },
  "language_info": {
   "codemirror_mode": {
    "name": "ipython",
    "version": 3
   },
   "file_extension": ".py",
   "mimetype": "text/x-python",
   "name": "python",
   "nbconvert_exporter": "python",
   "pygments_lexer": "ipython3",
   "version": "3.11.4"
  }
 },
 "nbformat": 4,
 "nbformat_minor": 5
}
