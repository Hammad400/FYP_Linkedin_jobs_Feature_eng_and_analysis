{
 "cells": [
  {
   "cell_type": "code",
   "execution_count": 10,
   "id": "f9c44706-1bdb-4d5b-b70d-78e27bb9b552",
   "metadata": {},
   "outputs": [],
   "source": [
    "import os\n",
    "import pandas as pd\n",
    "from datetime import datetime"
   ]
  },
  {
   "cell_type": "code",
   "execution_count": 11,
   "id": "868caaa8-4508-42b0-a5d8-98f4675ec616",
   "metadata": {},
   "outputs": [],
   "source": [
    "path=\"Weekly Files Concatenated/Linkedin_Job-Descriptions-company_details_26-Sep-2023-to-23-Oct-2023_8507-jobs_371-pages.csv\""
   ]
  },
  {
   "cell_type": "code",
   "execution_count": 12,
   "id": "e1aa9fb2-5d98-43b9-91ff-b97e7e1711ee",
   "metadata": {},
   "outputs": [],
   "source": [
    "df=pd.read_csv(path)"
   ]
  },
  {
   "cell_type": "code",
   "execution_count": 13,
   "id": "e58588aa-d9f2-41f1-a618-054318a3ef7e",
   "metadata": {},
   "outputs": [
    {
     "data": {
      "text/plain": [
       "Index(['Job Link', 'Job Desception', 'Company Info'], dtype='object')"
      ]
     },
     "execution_count": 13,
     "metadata": {},
     "output_type": "execute_result"
    }
   ],
   "source": [
    "df.columns"
   ]
  },
  {
   "cell_type": "code",
   "execution_count": 16,
   "id": "bb8bc3c6-070e-4e7d-aa7d-933e554f5fb6",
   "metadata": {},
   "outputs": [
    {
     "data": {
      "text/plain": [
       "'About the job\\n            \\n\\n \\nStellenbeschriebUnser Auftraggeber, ist eine junge und ambitionierte Firma im Kanton St. Gallen. Sie bieten ein tolles Arbeitsklima mit abwechslungsreicher Tätigkeit und attraktiven Rahmenbedingungen.Zur Verstärkung des Teams suchen wir einen:SanitätinstallateurIhr Aufgabengebiet: Sanitärinstallationen in Neu- und Umbauten sowie Servicearbeiten Allgemeine Arbeiten im Sanitärwesen Selbständiges Arbeiten als Sanitärmonteur Aufgaben sind abhängig von Ihrer Qualifikation, Berufserfahrung und dem Einsatzbereich\\nAnforderungsprofilFolgendes bringen Sie mit: abgeschlossene Lehre als Sanitärinstallateur/in EFZ oder mehrjährige Berufserfahrung Haustechnikpraktiker EBA oder gleichwertige Ausbildung (bspw. Geselle) Zuverlässigkeit und Teamfähigkeit Gute Deutschkenntnisse \\nHaben wir Ihr Interesse geweckt?Dann bewerben Sie sich mit Ihren vollständigen Bewerbungsunterlagen per E-Mail an david.santiago@job4you.chSprachen: Deutsch (sehr gut)Geschlecht: Mann oder FrauIdeales Alter: offenFührerausweis: AutoWeitere InformationenArt der Anstellung: Try&Hire, FestanstellungBeschäftigungsgrad: 100 %Stellenantritt: Nach AbspracheBeschäftigungsdauer: langfristigArbeitszeiten: Normalarbeitszeit'"
      ]
     },
     "execution_count": 16,
     "metadata": {},
     "output_type": "execute_result"
    }
   ],
   "source": [
    "df['Job Desception'].iloc[8506]"
   ]
  },
  {
   "cell_type": "code",
   "execution_count": 14,
   "id": "0a2a15d9-9b91-4559-bf88-97eda840e419",
   "metadata": {},
   "outputs": [],
   "source": [
    "import pandas as pd\n",
    "\n",
    "# Assuming df is your DataFrame and 'Job Description' is the column you want to convert\n",
    "job_description_column = df['Job Desception']\n",
    "\n",
    "# Specify the path where you want to save the text file\n",
    "output_file_path = 'job_description.txt'\n",
    "\n",
    "# Use to_csv to write the column to a text file\n",
    "job_description_column.to_csv(output_file_path, header=False, index=False, sep='\\t', mode='a')\n"
   ]
  },
  {
   "cell_type": "code",
   "execution_count": null,
   "id": "0112242c-5907-4e26-8915-40d9b1014303",
   "metadata": {},
   "outputs": [],
   "source": []
  }
 ],
 "metadata": {
  "kernelspec": {
   "display_name": "Python 3 (ipykernel)",
   "language": "python",
   "name": "python3"
  },
  "language_info": {
   "codemirror_mode": {
    "name": "ipython",
    "version": 3
   },
   "file_extension": ".py",
   "mimetype": "text/x-python",
   "name": "python",
   "nbconvert_exporter": "python",
   "pygments_lexer": "ipython3",
   "version": "3.11.4"
  }
 },
 "nbformat": 4,
 "nbformat_minor": 5
}
