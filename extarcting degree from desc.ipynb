{
 "cells": [
  {
   "cell_type": "code",
   "execution_count": 119,
   "id": "bd7ca47f-17b4-4e15-8af7-158dc83e82c2",
   "metadata": {},
   "outputs": [
    {
     "name": "stderr",
     "output_type": "stream",
     "text": [
      "[nltk_data] Downloading package punkt to\n",
      "[nltk_data]     C:\\Users\\BILAL.COM\\AppData\\Roaming\\nltk_data...\n",
      "[nltk_data]   Package punkt is already up-to-date!\n"
     ]
    },
    {
     "data": {
      "text/plain": [
       "True"
      ]
     },
     "execution_count": 119,
     "metadata": {},
     "output_type": "execute_result"
    }
   ],
   "source": [
    "import nltk\n",
    "from nltk.tokenize import sent_tokenize, word_tokenize\n",
    "import re\n",
    "nltk.download('punkt') "
   ]
  },
  {
   "cell_type": "code",
   "execution_count": 120,
   "id": "3e50da2b-b359-410f-9e1a-76dd5c9cdf05",
   "metadata": {},
   "outputs": [
    {
     "data": {
      "text/plain": [
       "\"About the job\\n            \\n \\nCompany DescriptionPureLogics is a full-service technology company based in Lahore. With over 16 years of experience, we develop world-class web and mobile applications for customers worldwide. Our Global Delivery Network allows us to deliver reliable technology and outsourcing services to Fortune 1000 customers with over 800 successful projects. We pride ourselves in the diversity of the expertise that we offer and our impeccable record with satisfied clients so far.Role DescriptionThis is a full-time Pre-Sales Software Engineer role, located at Lahore. The candidate will collaborate with the Sales and Engineering teams to design and develop technical solutions that address customer needs. As a Pre-Sales Software Engineer, you will have a meaningful impact on the sales process, from technical demonstrations to driving product strategy, and educate customers on how our solutions add value to their business.Qualifications A bachelor's degree or higher in Computer Engineering, Computer Science, or a related field.3+ years of experience in technical or solution consulting, enterprise architecture, or software development.Deep understanding of software architecture principles and distributed computing systems.Experience working with Cloud platforms (AWS, Azure, GCP) and APIs is preferred.Excellent verbal and written communication skills, including presentations to large audiences.Experience with Agile methodologies and Scrum teams is highly desired.The ability to understand customer organizations and identify specific pain points and needs in order to build effective solutions is essential.Coding is MUST\""
      ]
     },
     "execution_count": 120,
     "metadata": {},
     "output_type": "execute_result"
    }
   ],
   "source": [
    "job_description = \"About the job\\n            \\n \\nCompany DescriptionPureLogics is a full-service technology company based in Lahore. With over 16 years of experience, we develop world-class web and mobile applications for customers worldwide. Our Global Delivery Network allows us to deliver reliable technology and outsourcing services to Fortune 1000 customers with over 800 successful projects. We pride ourselves in the diversity of the expertise that we offer and our impeccable record with satisfied clients so far.Role DescriptionThis is a full-time Pre-Sales Software Engineer role, located at Lahore. The candidate will collaborate with the Sales and Engineering teams to design and develop technical solutions that address customer needs. As a Pre-Sales Software Engineer, you will have a meaningful impact on the sales process, from technical demonstrations to driving product strategy, and educate customers on how our solutions add value to their business.Qualifications A bachelor's degree or higher in Computer Engineering, Computer Science, or a related field.3+ years of experience in technical or solution consulting, enterprise architecture, or software development.Deep understanding of software architecture principles and distributed computing systems.Experience working with Cloud platforms (AWS, Azure, GCP) and APIs is preferred.Excellent verbal and written communication skills, including presentations to large audiences.Experience with Agile methodologies and Scrum teams is highly desired.The ability to understand customer organizations and identify specific pain points and needs in order to build effective solutions is essential.Coding is MUST\"\n",
    "job_description\n"
   ]
  },
  {
   "cell_type": "code",
   "execution_count": 121,
   "id": "84be4b70-f512-40c3-9d8f-d724092deefc",
   "metadata": {},
   "outputs": [
    {
     "data": {
      "text/plain": [
       "True"
      ]
     },
     "execution_count": 121,
     "metadata": {},
     "output_type": "execute_result"
    }
   ],
   "source": [
    "'degree' in job_description"
   ]
  },
  {
   "cell_type": "code",
   "execution_count": 122,
   "id": "5c8e4319-c151-4a37-8f0a-ee0b4ee6f358",
   "metadata": {},
   "outputs": [
    {
     "data": {
      "text/plain": [
       "True"
      ]
     },
     "execution_count": 122,
     "metadata": {},
     "output_type": "execute_result"
    }
   ],
   "source": [
    "'bachelor' in job_description"
   ]
  },
  {
   "cell_type": "code",
   "execution_count": 123,
   "id": "37ef27e9-778b-461f-94e0-6c471877d5ed",
   "metadata": {},
   "outputs": [
    {
     "data": {
      "text/plain": [
       "['qualification',\n",
       " 'education',\n",
       " 'educational background',\n",
       " 'academic background',\n",
       " 'academic qualification',\n",
       " 'educational qualification',\n",
       " 'academic credentials',\n",
       " 'degree']"
      ]
     },
     "execution_count": 123,
     "metadata": {},
     "output_type": "execute_result"
    }
   ],
   "source": [
    "qualification_keywords = ['qualification', 'education', 'educational background', 'academic background', 'academic qualification', 'educational qualification', 'academic credentials','degree']\n",
    "qualification_keywords"
   ]
  },
  {
   "cell_type": "code",
   "execution_count": 124,
   "id": "a2af99a4-ea57-41c2-be7e-8f0e890d6e3d",
   "metadata": {},
   "outputs": [
    {
     "name": "stdout",
     "output_type": "stream",
     "text": [
      "qualification found in the job description.\n",
      "degree found in the job description.\n"
     ]
    }
   ],
   "source": [
    "flag=0\n",
    "for keyword in qualification_keywords:\n",
    "    if keyword in job_description.lower():\n",
    "        print(f\"{keyword} found in the job description.\")\n",
    "        flag=1\n",
    "if flag==0:\n",
    "    print('Not found any given keywords')\n"
   ]
  },
  {
   "cell_type": "code",
   "execution_count": 125,
   "id": "6a197bda-4c65-4899-a3ee-08264401e827",
   "metadata": {},
   "outputs": [
    {
     "data": {
      "text/plain": [
       "['degree',\n",
       " 'bachelor',\n",
       " 'bs',\n",
       " 'master',\n",
       " 'phd',\n",
       " 'b.sc',\n",
       " 'bsc',\n",
       " 'b.tech',\n",
       " 'b.e',\n",
       " 'b.com',\n",
       " 'm.sc',\n",
       " 'msc',\n",
       " 'm.tech',\n",
       " 'm.com',\n",
       " 'ph.d',\n",
       " 'doctorate']"
      ]
     },
     "execution_count": 125,
     "metadata": {},
     "output_type": "execute_result"
    }
   ],
   "source": [
    "degree_keywords = ['degree', 'bachelor','bs' ,'master', 'phd', 'b.sc', 'bsc', 'b.tech', 'b.e', 'b.com', 'm.sc', 'msc', 'm.tech','m.com', 'ph.d', 'doctorate']\n",
    "degree_keywords"
   ]
  },
  {
   "cell_type": "code",
   "execution_count": 126,
   "id": "a065942d-a7d2-4146-a10f-d5fbbb5d4cd2",
   "metadata": {},
   "outputs": [
    {
     "name": "stdout",
     "output_type": "stream",
     "text": [
      "degree found in the job description.\n",
      "bachelor found in the job description.\n"
     ]
    }
   ],
   "source": [
    "flag=0\n",
    "for keyword in degree_keywords:\n",
    "    if keyword in job_description.lower():\n",
    "        print(f\"{keyword} found in the job description.\")\n",
    "        flag=1\n",
    "if flag==0:\n",
    "    print('Not found any given keywords')\n"
   ]
  },
  {
   "cell_type": "markdown",
   "id": "579aa8fb-57d7-4b7e-964d-20f71f70652d",
   "metadata": {},
   "source": [
    "### About computing degrees"
   ]
  },
  {
   "cell_type": "markdown",
   "id": "5d78cc1b-8dbb-4b4e-a92e-c9a2235b0df4",
   "metadata": {},
   "source": [
    "There are numerous computing-related degrees offered worldwide at the bachelor's level. The specific names of degrees may vary between universities and countries. However, here are some common computing and IT-related bachelor's degree names:\r\n",
    "\r\n",
    "1. **Computer Science (BSc or BS)**\r\n",
    "2. **Computer Engineering (BEng or BSc)**\r\n",
    "3. **Information Technology (BSc or BTech)**\r\n",
    "4. **Software Engineering (BEng or BSc)**\r\n",
    "5. **Computer Information Systems (BSc)**\r\n",
    "6. **Information Systems (BSc or BIS)**\r\n",
    "7. **Computer Applications (BCA)**\r\n",
    "8. **Computer Programming (BSc)**\r\n",
    "9. **Computer Networks and Security (BSc)**\r\n",
    "10. **Data Science (BSc)**\r\n",
    "11. **Artificial Intelligence (BSc)**\r\n",
    "12. **Bioinformatics (BSc)**\r\n",
    "13. **Business Information Systems (BIS)**\r\n",
    "14. **Computer Games Development (BSc)**\r\n",
    "15. **Human-Computer Interaction (BSc or BA)**\r\n",
    "16. **Computational Mathematics (BSc)**\r\n",
    "17. **Multimedia Computing (BSc)**\r\n",
    "18. **Mobile Computing (BSc)**\r\n",
    "19. **Web Development (BSc)**\r\n",
    "20. **Cloud Computing (BSc)**\r\n",
    "\r\n",
    "Keep in mind that this list is not exhaustive, and there may be additional or specialized computing degrees offered by different institutions. Always check the specific programs and curriculum details of the universities you are interested in. Additionally, the degree names may vary slightly, and abbreviations like BSc (Bachelor of Science) or BEng (Bachelor of Engineering) might be used interchangeably."
   ]
  },
  {
   "cell_type": "code",
   "execution_count": 127,
   "id": "383fe31b-2c7d-4f48-8dc5-a6affe537f6a",
   "metadata": {},
   "outputs": [
    {
     "data": {
      "text/plain": [
       "['Computer Science',\n",
       " 'Computer Engineering',\n",
       " 'Information Technology',\n",
       " 'Software Engineering',\n",
       " 'Computer Information Systems',\n",
       " 'Information Systems',\n",
       " 'Computer Applications',\n",
       " 'Computer Programming',\n",
       " 'Computer Networks and Security',\n",
       " 'Data Science',\n",
       " 'Artificial Intelligence',\n",
       " 'Bioinformatics',\n",
       " 'Business Information Systems',\n",
       " 'Computer Games Development',\n",
       " 'Human-Computer Interaction',\n",
       " 'Computational Mathematics',\n",
       " 'Multimedia Computing',\n",
       " 'Mobile Computing',\n",
       " 'Web Development',\n",
       " 'Cloud Computing']"
      ]
     },
     "execution_count": 127,
     "metadata": {},
     "output_type": "execute_result"
    }
   ],
   "source": [
    "computing_degrees = [\n",
    "    'Computer Science',\n",
    "    'Computer Engineering',\n",
    "    'Information Technology',\n",
    "    'Software Engineering',\n",
    "    'Computer Information Systems',\n",
    "    'Information Systems',\n",
    "    'Computer Applications',\n",
    "    'Computer Programming',\n",
    "    'Computer Networks and Security',\n",
    "    'Data Science',\n",
    "    'Artificial Intelligence',\n",
    "    'Bioinformatics',\n",
    "    'Business Information Systems',\n",
    "    'Computer Games Development',\n",
    "    'Human-Computer Interaction',\n",
    "    'Computational Mathematics',\n",
    "    'Multimedia Computing',\n",
    "    'Mobile Computing',\n",
    "    'Web Development',\n",
    "    'Cloud Computing'\n",
    "]\n",
    "computing_degrees"
   ]
  },
  {
   "cell_type": "code",
   "execution_count": 128,
   "id": "0f9b24ef-dd6d-4a06-9398-566dc78375b2",
   "metadata": {},
   "outputs": [
    {
     "name": "stdout",
     "output_type": "stream",
     "text": [
      "Computer Science found in the job description.\n",
      "Computer Engineering found in the job description.\n"
     ]
    }
   ],
   "source": [
    "flag=0\n",
    "for keyword in computing_degrees:\n",
    "    if keyword.lower() in job_description.lower():\n",
    "        print(f\"{keyword} found in the job description.\")\n",
    "        flag=1\n",
    "if flag==0:\n",
    "    print('Not found any given keywords')"
   ]
  },
  {
   "cell_type": "markdown",
   "id": "23e9737b-07dc-4c08-988e-51981d742b9c",
   "metadata": {},
   "source": [
    "### Applying NLP"
   ]
  },
  {
   "cell_type": "code",
   "execution_count": 129,
   "id": "8e22a82c-39e2-4263-90df-570a05778e2e",
   "metadata": {},
   "outputs": [
    {
     "data": {
      "text/plain": [
       "['About the job\\n            \\n \\nCompany DescriptionPureLogics is a full-service technology company based in Lahore.',\n",
       " 'With over 16 years of experience, we develop world-class web and mobile applications for customers worldwide.',\n",
       " 'Our Global Delivery Network allows us to deliver reliable technology and outsourcing services to Fortune 1000 customers with over 800 successful projects.',\n",
       " 'We pride ourselves in the diversity of the expertise that we offer and our impeccable record with satisfied clients so far.Role DescriptionThis is a full-time Pre-Sales Software Engineer role, located at Lahore.',\n",
       " 'The candidate will collaborate with the Sales and Engineering teams to design and develop technical solutions that address customer needs.',\n",
       " \"As a Pre-Sales Software Engineer, you will have a meaningful impact on the sales process, from technical demonstrations to driving product strategy, and educate customers on how our solutions add value to their business.Qualifications A bachelor's degree or higher in Computer Engineering, Computer Science, or a related field.3+ years of experience in technical or solution consulting, enterprise architecture, or software development.Deep understanding of software architecture principles and distributed computing systems.Experience working with Cloud platforms (AWS, Azure, GCP) and APIs is preferred.Excellent verbal and written communication skills, including presentations to large audiences.Experience with Agile methodologies and Scrum teams is highly desired.The ability to understand customer organizations and identify specific pain points and needs in order to build effective solutions is essential.Coding is MUST\"]"
      ]
     },
     "execution_count": 129,
     "metadata": {},
     "output_type": "execute_result"
    }
   ],
   "source": [
    "# Tokenize sentences\n",
    "sentences = sent_tokenize(job_description)\n",
    "sentences"
   ]
  },
  {
   "cell_type": "code",
   "execution_count": 130,
   "id": "c825c072-ac3d-423e-81a8-85f218d73f70",
   "metadata": {},
   "outputs": [
    {
     "data": {
      "text/plain": [
       "re.compile(r\"\\b(?:bachelor|b\\.s\\.c\\.|b\\.sc\\.|bsc|b\\.tech\\.|b\\.e\\.|be|b\\.a\\.|ba|b\\.com\\.|b\\.com|bachelor\\'s degree)\\b.*?\\b(?:in|of)?\\s*([a-zA-Z\\s]+)\\b\",\n",
       "           re.IGNORECASE|re.UNICODE)"
      ]
     },
     "execution_count": 130,
     "metadata": {},
     "output_type": "execute_result"
    }
   ],
   "source": [
    "# Regular expression to match degree qualifications\n",
    "degree_regex = re.compile(r'\\b(?:bachelor|b\\.s\\.c\\.|b\\.sc\\.|bsc|b\\.tech\\.|b\\.e\\.|be|b\\.a\\.|ba|b\\.com\\.|b\\.com|bachelor\\'s degree)\\b.*?\\b(?:in|of)?\\s*([a-zA-Z\\s]+)\\b', re.IGNORECASE)\n",
    "degree_regex"
   ]
  },
  {
   "cell_type": "code",
   "execution_count": 131,
   "id": "b2c8e20f-5f9b-454d-99ee-990d7f79996f",
   "metadata": {},
   "outputs": [
    {
     "name": "stdout",
     "output_type": "stream",
     "text": [
      "Degree Requirements: ['s degree or higher in Computer Engineering']\n"
     ]
    }
   ],
   "source": [
    "# Extract degree requirements\n",
    "degree_requirements = []\n",
    "for sentence in sentences:\n",
    "    match = degree_regex.search(sentence)\n",
    "    if match:\n",
    "        degree_requirements.append(match.group(1).strip())\n",
    "\n",
    "# Print the extracted degree requirements\n",
    "print(\"Degree Requirements:\", degree_requirements)"
   ]
  },
  {
   "cell_type": "markdown",
   "id": "acd7a495-8c0f-421f-ad94-f0c261ac965e",
   "metadata": {},
   "source": [
    "***not all***"
   ]
  },
  {
   "cell_type": "markdown",
   "id": "c1fcf39c-3469-4744-ba16-0af8352740b4",
   "metadata": {},
   "source": [
    "### way:2"
   ]
  },
  {
   "cell_type": "code",
   "execution_count": 132,
   "id": "d14012df-2908-4611-94a1-de349bc869a8",
   "metadata": {},
   "outputs": [
    {
     "name": "stdout",
     "output_type": "stream",
     "text": [
      "Degree Requirements: ['s degree or higher in Computer Engineering']\n"
     ]
    }
   ],
   "source": [
    "\n",
    "degree_regex = re.compile(r'\\b(?:bachelor|b\\.s\\.c\\.|b\\.sc\\.|bsc|b\\.tech\\.|b\\.e\\.|be|b\\.a\\.|ba|b\\.com\\.|b\\.com|bachelor\\'s degree)\\b.*?\\b(?:in|of)?\\s*([a-zA-Z\\s]+)\\b', re.IGNORECASE)\n",
    "\n",
    "# Extract degree requirements\n",
    "degree_requirements = []\n",
    "\n",
    "for sentence in sentences:\n",
    "    matches = degree_regex.findall(sentence)\n",
    "    degree_requirements.extend([match.strip() for match in matches])\n",
    "\n",
    "# Print the extracted degree requirements\n",
    "print(\"Degree Requirements:\", degree_requirements)\n"
   ]
  },
  {
   "cell_type": "markdown",
   "id": "ed5d3eb7-b4a6-47e1-b5fd-ff69e93f1105",
   "metadata": {},
   "source": [
    "### way:3"
   ]
  },
  {
   "cell_type": "code",
   "execution_count": 133,
   "id": "c063dbeb-0c5e-4162-bca3-ef8d6bd8451b",
   "metadata": {},
   "outputs": [
    {
     "name": "stdout",
     "output_type": "stream",
     "text": [
      "Degree Requirements: ['s degree or higher in Computer Engineering']\n"
     ]
    }
   ],
   "source": [
    "# Regular expression to match degree qualifications\n",
    "degree_regex = re.compile(r'\\b(?:bachelor|b\\.s\\.c\\.|b\\.sc\\.|bsc|b\\.tech\\.|b\\.e\\.|be|b\\.a\\.|ba|b\\.com\\.|b\\.com|bachelor\\'s degree)\\b.*?\\b(?:in|of)?\\s*([a-zA-Z\\s]+)\\b', re.IGNORECASE)\n",
    "\n",
    "# Extract degree requirements\n",
    "degree_requirements = []\n",
    "\n",
    "for sentence in sentences:\n",
    "    match = degree_regex.search(sentence)\n",
    "    if match:\n",
    "        degree_requirements.append(match.group(1).strip())\n",
    "\n",
    "# Print the extracted degree requirements\n",
    "print(\"Degree Requirements:\", degree_requirements)"
   ]
  },
  {
   "cell_type": "markdown",
   "id": "a4230510-38f6-4eae-be6c-36a87e77979a",
   "metadata": {},
   "source": [
    "### way:4"
   ]
  },
  {
   "cell_type": "code",
   "execution_count": 134,
   "id": "7a3ada97-6bdf-4178-ba4c-77008c60b14f",
   "metadata": {},
   "outputs": [
    {
     "name": "stdout",
     "output_type": "stream",
     "text": [
      "Degree Requirements: ['or higher in Computer Engineering, Computer Science, or a related field']\n"
     ]
    }
   ],
   "source": [
    "# Regular expression to match degree qualifications\n",
    "degree_regex = re.compile(r'\\b(?:bachelor\\'s degree|bachelor|b\\.s\\.c\\.|b\\.sc\\.|bsc|b\\.tech\\.|b\\.e\\.|be|b\\.a\\.|ba|b\\.com\\.|b\\.com)\\b.*?(?:\\bin|\\bof)?\\s*([a-zA-Z\\s,]+)\\b', re.IGNORECASE)\n",
    "\n",
    "# Extract degree requirements\n",
    "degree_requirements = []\n",
    "\n",
    "for sentence in sentences:\n",
    "    matches = degree_regex.findall(sentence)\n",
    "    degree_requirements.extend([match.strip() for match in matches])\n",
    "\n",
    "# Print the extracted degree requirements\n",
    "print(\"Degree Requirements:\", degree_requirements)"
   ]
  },
  {
   "cell_type": "markdown",
   "id": "6594d70b-717e-4753-9516-273672be27bf",
   "metadata": {},
   "source": [
    "### way:5"
   ]
  },
  {
   "cell_type": "code",
   "execution_count": 135,
   "id": "5c630669-5127-40a2-8231-c34d875a820c",
   "metadata": {},
   "outputs": [
    {
     "name": "stdout",
     "output_type": "stream",
     "text": [
      "Degree Requirements: ['or higher in Computer Engineering, Computer Science, or a related field']\n"
     ]
    }
   ],
   "source": [
    "# Regular expression to match degree qualifications\n",
    "degree_regex = re.compile(r'\\b(?:bachelor\\'s degree|bachelor|b\\.s\\.c\\.|b\\.sc\\.|bsc|b\\.tech\\.|b\\.e\\.|be|b\\.a\\.|ba|b\\.com\\.|b\\.com)\\b.*?(?:\\bin|\\bof)?\\s*([a-zA-Z\\s,]+(?:,\\s*[a-zA-Z\\s,]+)*)\\b', re.IGNORECASE)\n",
    "\n",
    "# Extract degree requirements\n",
    "degree_requirements = []\n",
    "\n",
    "for sentence in sentences:\n",
    "    matches = degree_regex.findall(sentence)\n",
    "    degree_requirements.extend([match.strip() for match in matches])\n",
    "\n",
    "# Print the extracted degree requirements\n",
    "print(\"Degree Requirements:\", degree_requirements)"
   ]
  },
  {
   "cell_type": "code",
   "execution_count": 136,
   "id": "7bf6e54d-07cd-4db2-ade2-5cbb78fcf31c",
   "metadata": {},
   "outputs": [
    {
     "data": {
      "text/plain": [
       "list"
      ]
     },
     "execution_count": 136,
     "metadata": {},
     "output_type": "execute_result"
    }
   ],
   "source": [
    "type(degree_requirements)"
   ]
  },
  {
   "cell_type": "markdown",
   "id": "4ff061b1-6e0f-45ce-a9d9-d5d9c0805072",
   "metadata": {},
   "source": [
    "### way:6"
   ]
  },
  {
   "cell_type": "code",
   "execution_count": 137,
   "id": "cb2e1457-6df8-4345-a6b0-5e0702b9b771",
   "metadata": {},
   "outputs": [
    {
     "name": "stdout",
     "output_type": "stream",
     "text": [
      "Degree Requirements: ['computer engineering', 'computer science', 'related field']\n"
     ]
    }
   ],
   "source": [
    "# Regular expression to match degree qualifications\n",
    "degree_regex = re.compile(\n",
    "    r'\\b(?:bachelor\\'s degree|bachelor|b\\.s\\.c\\.|b\\.sc\\.|bsc|b\\.tech\\.|b\\.e\\.|be|b\\.a\\.|ba|b\\.com\\.|b\\.com)\\b'\n",
    "    r'.*?(?:\\bin|\\bof)?\\s*([a-zA-Z\\s,]+(?:,\\s*[a-zA-Z\\s,]+)*)\\b',\n",
    "    re.IGNORECASE\n",
    ")\n",
    "\n",
    "# Extract degree requirements\n",
    "degree_requirements = []\n",
    "\n",
    "for sentence in sentences:\n",
    "    matches = degree_regex.findall(sentence)\n",
    "    for match in matches:\n",
    "        # Remove unwanted words and create a list\n",
    "        cleaned_degrees = [word.strip().lower() for word in re.sub(r'\\b(?:higher|in|or|a)\\b', '', match, flags=re.IGNORECASE).split(',')]\n",
    "        degree_requirements.extend(cleaned_degrees)\n",
    "\n",
    "# Remove empty strings from the list\n",
    "degree_requirements = list(filter(None, degree_requirements))\n",
    "\n",
    "# Print the extracted degree requirements\n",
    "print(\"Degree Requirements:\", degree_requirements)"
   ]
  },
  {
   "cell_type": "markdown",
   "id": "44b4708f-afea-4905-b871-409eb0504c7e",
   "metadata": {},
   "source": [
    "### appling on 2nd job:"
   ]
  },
  {
   "cell_type": "code",
   "execution_count": 138,
   "id": "0306e4b6-60eb-4c52-a54a-1454f4fb232a",
   "metadata": {},
   "outputs": [
    {
     "data": {
      "text/plain": [
       "\"About the job\\n            \\n \\nCrossover is the world's #1 source of full-time remote jobs. Our clients offer top-tier pay for top-tier talent. We're recruiting this role for our client, GFI Software. Have you got what it takes?Are you a channel sales manager in the enterprise software industry seeking a transformative opportunity? If fostering relationships and directly contributing to the growth of your channel partners excite you, then GFI Software has an exceptional proposition for you.At GFI, we're charting a new course in enterprise software sales, emphasizing collaboration and partnership over traditional direct selling. We understand the challenges of conventional sales roles - the stressful juggling of direct and indirect sales targets, the unpredictable compensation cycles, and the exhausting travel demands. We have reshaped these factors into a more appealing, effective, and rewarding structure.In this role, you will use your account management prowess to drive channel sales across a broad portfolio of security, collaboration, and network management applications targeting small and medium enterprises. You'll create detailed sales forecasts, devise robust partner strategy plans, and influence strategic deals while co-selling with partners.Another exciting factor here is the diversity of our partners; spanning from telecommunications to digital asset management. Each of these industries requires a unique software solution, adding a stimulating level of complexity to your role. You'll be a critical component in ensuring the relationship and customer base continues to expand within these varied landscapes.If you're a quick learner and a highly organized individual possessing exemplary communication skills, apply now and step into a collaborative, fast-paced environment where every win is celebrated as a team!What You Will Be Doing Driving business growth by empowering and collaborating with a diverse network of channel partnersGaining a deep understanding of our products to inform and educate channel partnersRegularly reviewing performance and strategy with your partners to help them reach their revenue targets\\nWhat You Won’t Be Doing Directly selling to end-user customersPrioritizing the quantity of interactions over the quality of your engagements with partnersWorrying about unpredictable earnings and relentless travel demands\\nChannel Development Manager Key Responsibilities Being a key contributor in developing and expanding channel sales in a large region and making sure GFI is the go-to solution for small and medium enterprises\\nBasic Requirements 3+ years of indirect/channel sales experience for enterprise software products (if your only sales experience is direct sales, then you will be rejected for this role later in the application process)Experience leading a territory/region in channel salesAvailability to work a schedule that has at least 90% overlap with standard working hours in North America (between GMT-5:00 and GMT-8:00)A grasp of AI, Large Language Models (LLMs), and prompt engineering, including Chain-of-Thought (CoT) prompting and Self-Consistency in CoT\\nAbout GFI SoftwareGFI Software develops essential applications for small and medium businesses. Over 80,000 customers choose GFI solutions for network management and performance, security, and collaboration applications. GFI Software available through thousands of channel partners dedicated to serving specific countries and regions worldwide.GFI has a fully remote, global workforce. GFI has partnered with Crossover to administer its hiring and global workforce management.There is so much to cover for this exciting role, and space here is limited. Hit the Apply button if you found this interesting and want to learn more. We look forward to meeting you!Working with CrossoverThis is a full-time (40 hours per week), long-term position. The position is immediately available and requires entering into an independent contractor agreement with Crossover. The compensation level for this role is $50 USD/hour, which equates to $100,000 USD/year assuming 40 hours per week and 50 weeks per year. The payment period is weekly. Consult www.crossover.com/help-and-faqs for more details on this topic.What to expect next: You will receive an email with a link to start your self-paced, online job application.Our hiring platform will guide you through a series of online “screening” assessments to check for basic job fit, job-related skills, and finally a few real-world job-specific assignments.\\nImportant! If you do not receive an email from us: First, emails may take up to 15 minutes to send, refresh and check again.Second, check your spam and junk folders for an email from Crossover.com, mark as “Not Spam” since you will receive other emails as well.Third, we will send to whatever email account you indicated on the Apply form - by default, that is the email address you use as your LinkedIn username and it might be different than the one you have already checked.If all else fails, just reset your password by visiting https://www.crossover.com/auth/password-recovery if you already applied using LinkedIn EasyApply.\\nCrossover Job Code: LJ-4800-PK-Karāchi-ChannelDevelop\""
      ]
     },
     "execution_count": 138,
     "metadata": {},
     "output_type": "execute_result"
    }
   ],
   "source": [
    "job_description= \"About the job\\n            \\n \\nCrossover is the world's #1 source of full-time remote jobs. Our clients offer top-tier pay for top-tier talent. We're recruiting this role for our client, GFI Software. Have you got what it takes?Are you a channel sales manager in the enterprise software industry seeking a transformative opportunity? If fostering relationships and directly contributing to the growth of your channel partners excite you, then GFI Software has an exceptional proposition for you.At GFI, we're charting a new course in enterprise software sales, emphasizing collaboration and partnership over traditional direct selling. We understand the challenges of conventional sales roles - the stressful juggling of direct and indirect sales targets, the unpredictable compensation cycles, and the exhausting travel demands. We have reshaped these factors into a more appealing, effective, and rewarding structure.In this role, you will use your account management prowess to drive channel sales across a broad portfolio of security, collaboration, and network management applications targeting small and medium enterprises. You'll create detailed sales forecasts, devise robust partner strategy plans, and influence strategic deals while co-selling with partners.Another exciting factor here is the diversity of our partners; spanning from telecommunications to digital asset management. Each of these industries requires a unique software solution, adding a stimulating level of complexity to your role. You'll be a critical component in ensuring the relationship and customer base continues to expand within these varied landscapes.If you're a quick learner and a highly organized individual possessing exemplary communication skills, apply now and step into a collaborative, fast-paced environment where every win is celebrated as a team!What You Will Be Doing Driving business growth by empowering and collaborating with a diverse network of channel partnersGaining a deep understanding of our products to inform and educate channel partnersRegularly reviewing performance and strategy with your partners to help them reach their revenue targets\\nWhat You Won’t Be Doing Directly selling to end-user customersPrioritizing the quantity of interactions over the quality of your engagements with partnersWorrying about unpredictable earnings and relentless travel demands\\nChannel Development Manager Key Responsibilities Being a key contributor in developing and expanding channel sales in a large region and making sure GFI is the go-to solution for small and medium enterprises\\nBasic Requirements 3+ years of indirect/channel sales experience for enterprise software products (if your only sales experience is direct sales, then you will be rejected for this role later in the application process)Experience leading a territory/region in channel salesAvailability to work a schedule that has at least 90% overlap with standard working hours in North America (between GMT-5:00 and GMT-8:00)A grasp of AI, Large Language Models (LLMs), and prompt engineering, including Chain-of-Thought (CoT) prompting and Self-Consistency in CoT\\nAbout GFI SoftwareGFI Software develops essential applications for small and medium businesses. Over 80,000 customers choose GFI solutions for network management and performance, security, and collaboration applications. GFI Software available through thousands of channel partners dedicated to serving specific countries and regions worldwide.GFI has a fully remote, global workforce. GFI has partnered with Crossover to administer its hiring and global workforce management.There is so much to cover for this exciting role, and space here is limited. Hit the Apply button if you found this interesting and want to learn more. We look forward to meeting you!Working with CrossoverThis is a full-time (40 hours per week), long-term position. The position is immediately available and requires entering into an independent contractor agreement with Crossover. The compensation level for this role is $50 USD/hour, which equates to $100,000 USD/year assuming 40 hours per week and 50 weeks per year. The payment period is weekly. Consult www.crossover.com/help-and-faqs for more details on this topic.What to expect next: You will receive an email with a link to start your self-paced, online job application.Our hiring platform will guide you through a series of online “screening” assessments to check for basic job fit, job-related skills, and finally a few real-world job-specific assignments.\\nImportant! If you do not receive an email from us: First, emails may take up to 15 minutes to send, refresh and check again.Second, check your spam and junk folders for an email from Crossover.com, mark as “Not Spam” since you will receive other emails as well.Third, we will send to whatever email account you indicated on the Apply form - by default, that is the email address you use as your LinkedIn username and it might be different than the one you have already checked.If all else fails, just reset your password by visiting https://www.crossover.com/auth/password-recovery if you already applied using LinkedIn EasyApply.\\nCrossover Job Code: LJ-4800-PK-Karāchi-ChannelDevelop\"\n",
    "job_description"
   ]
  },
  {
   "cell_type": "markdown",
   "id": "52ac1bf3-be95-4267-8fdb-8ec3eb4d8bda",
   "metadata": {},
   "source": [
    "### checking degree"
   ]
  },
  {
   "cell_type": "code",
   "execution_count": 139,
   "id": "1033af60-9ada-4f93-9323-4a7155c494f4",
   "metadata": {},
   "outputs": [
    {
     "name": "stdout",
     "output_type": "stream",
     "text": [
      "Not found any given keywords\n"
     ]
    }
   ],
   "source": [
    "flag=0\n",
    "for keyword in qualification_keywords:\n",
    "    if keyword in job_description.lower():\n",
    "        print(f\"{keyword} found in the job description.\")\n",
    "        flag=1\n",
    "if flag==0:\n",
    "    print('Not found any given keywords')"
   ]
  },
  {
   "cell_type": "code",
   "execution_count": 140,
   "id": "b07c71eb-4c68-40ce-95d0-9ef3c5b03893",
   "metadata": {},
   "outputs": [
    {
     "name": "stdout",
     "output_type": "stream",
     "text": [
      "bs found in the job description.\n"
     ]
    }
   ],
   "source": [
    "flag=0\n",
    "for keyword in degree_keywords:\n",
    "    if keyword in job_description.lower():\n",
    "        print(f\"{keyword} found in the job description.\")\n",
    "        flag=1\n",
    "if flag==0:\n",
    "    print('Not found any given keywords')"
   ]
  },
  {
   "cell_type": "markdown",
   "id": "8877d710-5a0c-492f-a9e0-9c677da97133",
   "metadata": {},
   "source": [
    "### searching word and sentence containing 'bs'"
   ]
  },
  {
   "cell_type": "code",
   "execution_count": 141,
   "id": "96365dcd-ff69-4972-a186-0e2f16666001",
   "metadata": {},
   "outputs": [
    {
     "name": "stdout",
     "output_type": "stream",
     "text": [
      "Words containing 'bs':\n",
      "['jobs']\n",
      "Sentences containing 'bs':\n",
      "[\"About the job\\n            \\n \\nCrossover is the world's #1 source of full-time remote jobs.\"]\n"
     ]
    }
   ],
   "source": [
    "sentences = sent_tokenize(job_description)\n",
    "words = word_tokenize(job_description.lower())  # Convert to lowercase for case-insensitive search\n",
    "\n",
    "# Term to search\n",
    "term_to_search = 'bs'\n",
    "\n",
    "# Print words containing the term\n",
    "print(f\"Words containing '{term_to_search}':\")\n",
    "matching_words = [word for word in words if term_to_search in word]\n",
    "print(matching_words)\n",
    "\n",
    "# Print sentences containing the term\n",
    "print(f\"Sentences containing '{term_to_search}':\")\n",
    "matching_sentences = [sentence for sentence in sentences if term_to_search in sentence.lower()]\n",
    "print(matching_sentences)"
   ]
  },
  {
   "cell_type": "code",
   "execution_count": 142,
   "id": "23fba2a2-a5f0-40c9-8569-38dac4fdce43",
   "metadata": {},
   "outputs": [
    {
     "data": {
      "text/plain": [
       "['degree',\n",
       " 'bachelor',\n",
       " 'BS',\n",
       " 'master',\n",
       " 'phd',\n",
       " 'b.sc',\n",
       " 'bsc',\n",
       " 'b.tech',\n",
       " 'b.e',\n",
       " 'b.com',\n",
       " 'm.sc',\n",
       " 'msc',\n",
       " 'm.tech',\n",
       " 'm.com',\n",
       " 'ph.d',\n",
       " 'doctorate']"
      ]
     },
     "execution_count": 142,
     "metadata": {},
     "output_type": "execute_result"
    }
   ],
   "source": [
    "degree_keywords2 = ['degree', 'bachelor','BS' ,'master', 'phd', 'b.sc', 'bsc', 'b.tech', 'b.e', 'b.com', 'm.sc', 'msc', 'm.tech','m.com', 'ph.d', 'doctorate']\n",
    "degree_keywords2"
   ]
  },
  {
   "cell_type": "code",
   "execution_count": 143,
   "id": "ad95c8e1-9816-4fdd-a6a3-05c4c095bf3e",
   "metadata": {},
   "outputs": [
    {
     "data": {
      "text/plain": [
       "2"
      ]
     },
     "execution_count": 143,
     "metadata": {},
     "output_type": "execute_result"
    }
   ],
   "source": [
    "len('BS')"
   ]
  },
  {
   "cell_type": "code",
   "execution_count": 144,
   "id": "f9e1099c-cf31-4277-9388-5b1b570029df",
   "metadata": {},
   "outputs": [
    {
     "name": "stdout",
     "output_type": "stream",
     "text": [
      "The string 'Bs' is not lowercase.\n"
     ]
    }
   ],
   "source": [
    "degree = 'Bs'\n",
    "\n",
    "# Check if the string is in lowercase\n",
    "is_lower = degree.lower() == degree\n",
    "# Print the result\n",
    "print(f\"The string '{degree}' is {'lowercase' if is_lower else 'not lowercase'}.\")"
   ]
  },
  {
   "cell_type": "code",
   "execution_count": 145,
   "id": "30be4628-f62d-4a16-8147-993391ccc943",
   "metadata": {},
   "outputs": [
    {
     "name": "stdout",
     "output_type": "stream",
     "text": [
      "The keyword 'BS' is not in lowercase.\n"
     ]
    }
   ],
   "source": [
    "# Example keyword\n",
    "keyword = 'BS'\n",
    "\n",
    "# Check if the keyword is in lowercase\n",
    "if keyword.islower():\n",
    "    print(f\"The keyword '{keyword}' is in lowercase.\")\n",
    "else:\n",
    "    print(f\"The keyword '{keyword}' is not in lowercase.\")\n"
   ]
  },
  {
   "cell_type": "code",
   "execution_count": 146,
   "id": "a6d47657-b5a4-4bd9-8340-c2b76131f14e",
   "metadata": {},
   "outputs": [
    {
     "data": {
      "text/plain": [
       "3"
      ]
     },
     "execution_count": 146,
     "metadata": {},
     "output_type": "execute_result"
    }
   ],
   "source": [
    "len('b.e')"
   ]
  },
  {
   "cell_type": "markdown",
   "id": "fc23ae19-b17c-4218-9b11-dfa064c411e8",
   "metadata": {},
   "source": [
    "****"
   ]
  },
  {
   "cell_type": "code",
   "execution_count": 147,
   "id": "233c75d4-e4ad-46f1-8d7e-aae755e3757d",
   "metadata": {},
   "outputs": [
    {
     "name": "stdout",
     "output_type": "stream",
     "text": [
      "Not found any given keywords\n"
     ]
    }
   ],
   "source": [
    "flag=0\n",
    "for keyword in degree_keywords2:\n",
    "    if len(keyword)!=2: # can use keyword.islower()\n",
    "        if keyword in job_description.lower():\n",
    "            print(f\"{keyword} found in the job description.\")\n",
    "            flag=1\n",
    "    else:\n",
    "        if keyword in job_description:\n",
    "            print(f\"{keyword} found in the job description.\")\n",
    "            flag=1\n",
    "        \n",
    "if flag==0:\n",
    "    print('Not found any given keywords')"
   ]
  },
  {
   "cell_type": "code",
   "execution_count": 148,
   "id": "d3bf8cfa-691b-4d00-81ee-caf44219efa9",
   "metadata": {},
   "outputs": [
    {
     "name": "stdout",
     "output_type": "stream",
     "text": [
      "Not found any given keywords\n"
     ]
    }
   ],
   "source": [
    "flag=0\n",
    "for keyword in computing_degrees:\n",
    "    if keyword.lower() in job_description.lower():\n",
    "        print(f\"{keyword} found in the job description.\")\n",
    "        flag=1\n",
    "if flag==0:\n",
    "    print('Not found any given keywords')"
   ]
  },
  {
   "cell_type": "markdown",
   "id": "7e6c1a6d-de7f-48cf-8e6d-fd1a971fb8d6",
   "metadata": {},
   "source": [
    "### tokenizing"
   ]
  },
  {
   "cell_type": "code",
   "execution_count": 149,
   "id": "39e9a1c8-b194-4e86-ac36-7763e7424166",
   "metadata": {},
   "outputs": [
    {
     "data": {
      "text/plain": [
       "[\"About the job\\n            \\n \\nCrossover is the world's #1 source of full-time remote jobs.\",\n",
       " 'Our clients offer top-tier pay for top-tier talent.',\n",
       " \"We're recruiting this role for our client, GFI Software.\",\n",
       " 'Have you got what it takes?Are you a channel sales manager in the enterprise software industry seeking a transformative opportunity?',\n",
       " \"If fostering relationships and directly contributing to the growth of your channel partners excite you, then GFI Software has an exceptional proposition for you.At GFI, we're charting a new course in enterprise software sales, emphasizing collaboration and partnership over traditional direct selling.\",\n",
       " 'We understand the challenges of conventional sales roles - the stressful juggling of direct and indirect sales targets, the unpredictable compensation cycles, and the exhausting travel demands.',\n",
       " 'We have reshaped these factors into a more appealing, effective, and rewarding structure.In this role, you will use your account management prowess to drive channel sales across a broad portfolio of security, collaboration, and network management applications targeting small and medium enterprises.',\n",
       " \"You'll create detailed sales forecasts, devise robust partner strategy plans, and influence strategic deals while co-selling with partners.Another exciting factor here is the diversity of our partners; spanning from telecommunications to digital asset management.\",\n",
       " 'Each of these industries requires a unique software solution, adding a stimulating level of complexity to your role.',\n",
       " \"You'll be a critical component in ensuring the relationship and customer base continues to expand within these varied landscapes.If you're a quick learner and a highly organized individual possessing exemplary communication skills, apply now and step into a collaborative, fast-paced environment where every win is celebrated as a team!What You Will Be Doing Driving business growth by empowering and collaborating with a diverse network of channel partnersGaining a deep understanding of our products to inform and educate channel partnersRegularly reviewing performance and strategy with your partners to help them reach their revenue targets\\nWhat You Won’t Be Doing Directly selling to end-user customersPrioritizing the quantity of interactions over the quality of your engagements with partnersWorrying about unpredictable earnings and relentless travel demands\\nChannel Development Manager Key Responsibilities Being a key contributor in developing and expanding channel sales in a large region and making sure GFI is the go-to solution for small and medium enterprises\\nBasic Requirements 3+ years of indirect/channel sales experience for enterprise software products (if your only sales experience is direct sales, then you will be rejected for this role later in the application process)Experience leading a territory/region in channel salesAvailability to work a schedule that has at least 90% overlap with standard working hours in North America (between GMT-5:00 and GMT-8:00)A grasp of AI, Large Language Models (LLMs), and prompt engineering, including Chain-of-Thought (CoT) prompting and Self-Consistency in CoT\\nAbout GFI SoftwareGFI Software develops essential applications for small and medium businesses.\",\n",
       " 'Over 80,000 customers choose GFI solutions for network management and performance, security, and collaboration applications.',\n",
       " 'GFI Software available through thousands of channel partners dedicated to serving specific countries and regions worldwide.GFI has a fully remote, global workforce.',\n",
       " 'GFI has partnered with Crossover to administer its hiring and global workforce management.There is so much to cover for this exciting role, and space here is limited.',\n",
       " 'Hit the Apply button if you found this interesting and want to learn more.',\n",
       " 'We look forward to meeting you!Working with CrossoverThis is a full-time (40 hours per week), long-term position.',\n",
       " 'The position is immediately available and requires entering into an independent contractor agreement with Crossover.',\n",
       " 'The compensation level for this role is $50 USD/hour, which equates to $100,000 USD/year assuming 40 hours per week and 50 weeks per year.',\n",
       " 'The payment period is weekly.',\n",
       " 'Consult www.crossover.com/help-and-faqs for more details on this topic.What to expect next: You will receive an email with a link to start your self-paced, online job application.Our hiring platform will guide you through a series of online “screening” assessments to check for basic job fit, job-related skills, and finally a few real-world job-specific assignments.',\n",
       " 'Important!',\n",
       " 'If you do not receive an email from us: First, emails may take up to 15 minutes to send, refresh and check again.Second, check your spam and junk folders for an email from Crossover.com, mark as “Not Spam” since you will receive other emails as well.Third, we will send to whatever email account you indicated on the Apply form - by default, that is the email address you use as your LinkedIn username and it might be different than the one you have already checked.If all else fails, just reset your password by visiting https://www.crossover.com/auth/password-recovery if you already applied using LinkedIn EasyApply.',\n",
       " 'Crossover Job Code: LJ-4800-PK-Karāchi-ChannelDevelop']"
      ]
     },
     "execution_count": 149,
     "metadata": {},
     "output_type": "execute_result"
    }
   ],
   "source": [
    "sentences = sent_tokenize(job_description)\n",
    "sentences"
   ]
  },
  {
   "cell_type": "code",
   "execution_count": 150,
   "id": "cca43621-d23a-4402-85d5-9bf9ca048735",
   "metadata": {},
   "outputs": [
    {
     "name": "stdout",
     "output_type": "stream",
     "text": [
      "Degree Requirements: ['critical component  ensuring the relationship and customer base continues to expand within these varied landscapes', 'doing driving business growth by empowering and collaborating with  diverse network of channel partnersgaining  deep understanding of our products to inform and educate channel partnersregularly reviewing performance and strategy with your partners to help them reach their revenue targets\\nwhat you won', 'doing directly selling to end', 'rejected for this role later  the application process', 'different than the one you have already checked']\n"
     ]
    }
   ],
   "source": [
    "# Regular expression to match degree qualifications\n",
    "degree_regex = re.compile(\n",
    "    r'\\b(?:bachelor\\'s degree|bachelor|b\\.s\\.c\\.|b\\.sc\\.|bsc|b\\.tech\\.|b\\.e\\.|be|b\\.a\\.|ba|b\\.com\\.|b\\.com)\\b'\n",
    "    r'.*?(?:\\bin|\\bof)?\\s*([a-zA-Z\\s,]+(?:,\\s*[a-zA-Z\\s,]+)*)\\b',\n",
    "    re.IGNORECASE\n",
    ")\n",
    "\n",
    "# Extract degree requirements\n",
    "degree_requirements = []\n",
    "\n",
    "for sentence in sentences:\n",
    "    matches = degree_regex.findall(sentence)\n",
    "    for match in matches:\n",
    "        # Remove unwanted words and create a list\n",
    "        cleaned_degrees = [word.strip().lower() for word in re.sub(r'\\b(?:higher|in|or|a)\\b', '', match, flags=re.IGNORECASE).split(',')]\n",
    "        degree_requirements.extend(cleaned_degrees)\n",
    "\n",
    "# Remove empty strings from the list\n",
    "degree_requirements = list(filter(None, degree_requirements))\n",
    "\n",
    "# Print the extracted degree requirements\n",
    "print(\"Degree Requirements:\", degree_requirements)"
   ]
  },
  {
   "cell_type": "markdown",
   "id": "48a4c1a1-8655-48d0-af8b-910eae61e4c2",
   "metadata": {},
   "source": [
    "### applying 3rd job"
   ]
  },
  {
   "cell_type": "code",
   "execution_count": 170,
   "id": "13ceb80b-1a67-4957-9a17-cc28e20bcc82",
   "metadata": {},
   "outputs": [
    {
     "data": {
      "text/plain": [
       "'About the job\\n            \\n \\nAdministrative AssistantQadam Ba Qadam Project – Islamabad based.Pathfinder OverviewPathfinder International is a global leader in sexual and reproductive health. We place reproductive health care at the center of all that we do—believing that it is not only a fundamental human right, but is critical for expanding life opportunities for women, families, communities, and nations, and paving the way for transformations in environmental stewardship, decreases in population pressures, and innovations in poverty reduction. Pathfinder provides women, men, and adolescents with a range of quality health services—from contraception and maternal care to HIV prevention and AIDS care and treatment. Pathfinder strives to strengthen access to family planning, ensure the availability of safe abortion services and post-abortion care, advocate for sound reproductive health policies, and, through all of our work, improve the rights and lives of the people we serve.Project OverviewPathfinder Pakistan with support from the Bill & Melinda Gates Foundation (BMGF) is providing technical assistance (TA) to the federal and provincial governments of Pakistan including Sindh, Punjab, Khyber Pakhtunkhwa, and Baluchistan, and providing support to key health system strengthening partners such as World Bank, Population Council and Acasus in scaling up of Postpartum Family Planning (PPFP) and Postabortion Family Planning (PAFP) within the investment case (IC) execution and National Health Support Project (NHSP) design and implementation.Through this initiative and based on the successes and learnings from Pathfinder’s Naya Qadam project, Pathfinder will support the integration and institutionalization of PPFP and PAFP in the overall provincial health systems, strengthening health system through building technical capacity of federal and provincial governments to implement results-based management framework, gender response social and behavior change communication (SBCC) strategies, enabling policy environment, and strengthen health information system strengthening to improve and better use of PPFP and PAFP data for decision making.Under this project, a total of four high-level outcomes and thirteen outputs will be achieved. The federal government and provincial Health Department and Population Welfare Department would be key partners, while Pathfinder will also collaborate and coordinate with World Bank, Population Council, and Acasus.Job PurposePathfinder is seeking a detail-oriented and highly organized Administrative Assistant to join our team in Islamabad. The successful candidate will play a crucial role in supporting daily office operations and ensuring smooth administrative processes.Key Performance AreaOffice Management Assist the Admin Officer in managing day-to-day office operations, including maintaining office supplies, equipment, and facilities.Assist in coordinating and scheduling meetings, appointments, and events.Handle incoming calls, emails, and inquiries, and redirect them as appropriate.\\nReporting & Documentation Aiding the other staff membersManage and maintain records of different project activities.Provide secretarial and administrative support to all relevant staff.Serve as primary contact for all Patti cash transfer matters within the office.Keep up with important documents and maintain files.Making arrangements for any event, meeting, or activity, finding transportation, and making accommodations.Create and maintain organized filing systems for both digital and physical documents.Assist in the preparation and formatting of reports, presentations, and other documents.Accurately enter and update data in spreadsheets and databases.Maintain confidential records and files.\\nLiaison, Communication & Interaction Liaise closely with all project staff on issues relating to all activities, course administration, and other relevant areas associated with the activity of the project.Communicate with the Logistic department and other members of the administrative team and external professionals when scheduling appointments and setting up meetings.Draft and edit correspondence, emails, and other communications.Ensure effective communication within the office and with external stakeholders.\\nAdministrative and Financial Tasks Overall, all administrative tasks assigned by the Head office Administration Manager/ Admin Officer-Islamabad / Karachi.Making travel arrangements, such as booking flights, cars, and making hotel and restaurant reservations.\\nEducation & Work Experience Bachelor’s degree in social sciences and public administration3 years experience working in the development sector or in any organization that implements national, and international health and development projects.\\nPreferred Education & Work Experience Master’s degree in management, business, project management, social science, or a related discipline3-5 years of relevant programmatic experience, particularly in the areas of climate justice and gender equityAbility to demonstrate tools and techniques to organize moving pieces in a project.Experience in office management, reporting and documentation, and Liaising with different departments within the organization.\\nMinimally Required Job-Specific Competencies: Program Operations: Ability to plan and manage cross-functional activities internally and externally and ensure timely follow-up and updates. Organizational and planning skills, project planning, and management skills. Proven ability to set priorities, meet deadlines, and multi-task with minimal supervision.Passion for Sexual and Reproductive Health Services: Commitment to family planning, reproductive health services, gender, maternal, and child health services, and eradication of harmful traditional practicesPresentation Skills: Advanced oral and written communication and editing skills. Proven diplomacy skills. Proven ability to build and maintain professional relationships with stakeholders.Community Relations: Intermediate skills in facilitating working relationships between project teams, donors, partners, government officials, and communities.Analysis and Sound Judgement: Advanced analytical and troubleshooting skills. Ability to make sound judgments. Ability to improve processes, promote excellence and demonstrate accuracy and thoroughness.\\nMinimally Required Organizational Competencies: Software Applications: Advanced knowledge of MS Excel, PowerPoint, Word, and OutlookLanguages: Proven ability to write and speak using the local language and English languageCommunication and Influencing Skills: Diplomacy and advanced oral and written communication skills using different forms of media. Ability to translate complex concepts to individuals at all levels. Ability to speak across a range of technical issues that may be outside the individual’s area of expertise.Self-Management and Teamwork: Ability to work independently or as a member of a team, ability to thrive in a matrix organization, ability to be detail-oriented, and ability to manage stress effectively in a fast-paced environment.Confidentiality: Ability to maintain confidentiality on work-related matters.Matrix Management: Ability to thrive in a matrixed organization.\\nOther information: Travel required (30% or less)Uses cellular and office phones, laptops, or desktop computers.This job description format focuses on the main duties of the position and is not intended to list every potential task or assignment.Duties can and will change to meet the changing priorities of the department and organization.\\nEqual Employment Opportunity Employer StatementPathfinder International provides equal employment opportunities to all employees and applicants for employment and prohibits discrimination and harassment of any type without regard to race, color, religion, age, sex, national origin, disability status, genetics, protected veteran status, sexual orientation, gender identity or expression, or any other characteristic protected by federal, state or local laws.This policy applies to all terms and conditions of employment, including recruiting, hiring, placement, promotion, termination, layoff, recall, transfer, leaves of absence, compensation, and training.Safeguarding and Protection StatementPathfinder is committed to the safeguarding and protection of the people we serve and our staff. We have zero tolerance for any type of behavior that inflicts harm on children, young people, adults, our staff, and partners including sexual abuse, harassment, bullying, and exploitation. We do everything possible to ensure that we recruit only those who are suitable to work with us. We expect that everyone we hire will abide by our safeguarding and related policies and will report any suspected or known violations. This job is subject to a range of vetting checks as legally permitted in the country where they are being hired. By applying, the job applicant acknowledges they understand our intent to verify suitability to work with us.'"
      ]
     },
     "execution_count": 170,
     "metadata": {},
     "output_type": "execute_result"
    }
   ],
   "source": [
    "# job_description=\"About the job\\n            \\n \\nCrossover is the world's #1 source of full-time remote jobs. Our clients offer top-tier pay for top-tier talent. We're recruiting this role for our client, Trilogy. Have you got what it takes?Trilogy is seeking highly skilled software engineers with a keen interest in integrating generative AI technologies such as GPT, Copilot, Cursor, and Code Interpreter into engineering workflows. Join us to work on our exciting product portfolio: TeachTap: Bringing historical figures to life using AI, offering an engaging, TikTok-like learning experience that accelerates learning speed.Educational Content Generation: Utilizing the latest generative AI combined with comprehensive learning materials to create captivating content.TeachTower: A game-based motivation system inspired by popular games like Roblox and Minecraft, designed to make learning irresistibly fun.Coachbot: A learning copilot that integrates with existing apps, guiding learning paths, recommending next steps, and rewarding daily progress.Data-driven Sales: An initiative that streamlines the sales process across a portfolio of over 100 software products.Crossover: An AI-powered hiring platform that sifts through millions of applicants annually to find the top 1% of global talent.\\nYour role will focus on integrating AI into engineering practices, using AI tools to increase efficiency and solve engineering tasks like coding and testing. Based on the obtained results, you will derive recipes and playbooks to be adopted by the broader engineering team. Maintaining high-quality standards in our codebases and ensuring excellence from AI tools and engineering teams during this process will be a key part of your work.We seek candidates with a strong background in software engineering and a capacity for adapting to new technologies. Moreover, an interest in the latest generative AI developments and a drive for innovation are crucial. While our primary tech stack is AWS Serverless with TypeScript, we're looking for versatile engineers who can excel in a variety of technical environments and challenges.Are you a seasoned software engineer with a passion for pushing the boundaries of technology? Trilogy is on the lookout for exceptional engineers to lead the charge in integrating generative AI tools into our products.What You Will Be Doing Developing fully functional features, using AI tools to expedite delivery and enhance quality.Performing experiments with AI to enhance engineering processes, including decomposition, solution design, code generation, and troubleshooting.Documenting best practices and techniques in guides that enable others to harness the power of generative AI effectively.\\nWhat You Won’t Be Doing Building new AI models from scratch; instead, your focus will be on leveraging and fine-tuning existing models to maximize efficiency.Being confined to outdated technologies; we encourage an environment that thrives on dynamic tech stacks, fostering continuous innovation.\\nFellow Of GenAI Software Excellence Key Responsibilities Drive transformative change by establishing a framework that seamlessly integrates generative AI, significantly amplifying engineering productivity.Leading a team of AI-first engineers, evaluating experiments, documenting findings, selecting the best methodologies, implementing them team-wide, establishing processes, and staffing the team.\\nBasic Requirements Minimum 5 years of experience in professional software development.Minimum 3 years either as a lead engineer reviewing the work of other engineers or as an architect making important technical decisions.Excited to use and explore new generative AI tools for software engineering tasks on a day-to-day basis.\\nAbout TrilogyHundreds of software businesses run on the Trilogy Business Platform. For three decades, Trilogy has been known for 3 things: Relentlessly seeking top talent, Innovating new technology, and incubating new businesses. Our technological innovation is spearheaded by a passion for simple customer-facing designs. Our incubation of new businesses ranges from entirely new moon-shot ideas to rearchitecting existing projects for today's modern cloud-based stack. Trilogy is a place where you can be surrounded with great people, be proud of doing great work, and grow your career by leaps and bounds.There is so much to cover for this exciting role, and space here is limited. Hit the Apply button if you found this interesting and want to learn more. We look forward to meeting you!Working with CrossoverThis is a full-time (40 hours per week), long-term position. The position is immediately available and requires entering into an independent contractor agreement with Crossover. The compensation level for this role is $200 USD/hour, which equates to $400,000 USD/year assuming 40 hours per week and 50 weeks per year. The payment period is weekly. Consult www.crossover.com/help-and-faqs for more details on this topic.What to expect next: You will receive an email with a link to start your self-paced, online job application.Our hiring platform will guide you through a series of online “screening” assessments to check for basic job fit, job-related skills, and finally a few real-world job-specific assignments.\\nImportant! If you do not receive an email from us: First, emails may take up to 15 minutes to send, refresh and check again.Second, check your spam and junk folders for an email from Crossover.com, mark as “Not Spam” since you will receive other emails as well.Third, we will send to whatever email account you indicated on the Apply form - by default, that is the email address you use as your LinkedIn username and it might be different than the one you have already checked.If all else fails, just reset your password by visiting https://www.crossover.com/auth/password-recovery if you already applied using LinkedIn EasyApply.\\nCrossover Job Code: LJ-5107-PK-Lahore-FellowofGenAIS\"\n",
    "job_description='About the job\\n            \\n \\nAdministrative AssistantQadam Ba Qadam Project – Islamabad based.Pathfinder OverviewPathfinder International is a global leader in sexual and reproductive health. We place reproductive health care at the center of all that we do—believing that it is not only a fundamental human right, but is critical for expanding life opportunities for women, families, communities, and nations, and paving the way for transformations in environmental stewardship, decreases in population pressures, and innovations in poverty reduction. Pathfinder provides women, men, and adolescents with a range of quality health services—from contraception and maternal care to HIV prevention and AIDS care and treatment. Pathfinder strives to strengthen access to family planning, ensure the availability of safe abortion services and post-abortion care, advocate for sound reproductive health policies, and, through all of our work, improve the rights and lives of the people we serve.Project OverviewPathfinder Pakistan with support from the Bill & Melinda Gates Foundation (BMGF) is providing technical assistance (TA) to the federal and provincial governments of Pakistan including Sindh, Punjab, Khyber Pakhtunkhwa, and Baluchistan, and providing support to key health system strengthening partners such as World Bank, Population Council and Acasus in scaling up of Postpartum Family Planning (PPFP) and Postabortion Family Planning (PAFP) within the investment case (IC) execution and National Health Support Project (NHSP) design and implementation.Through this initiative and based on the successes and learnings from Pathfinder’s Naya Qadam project, Pathfinder will support the integration and institutionalization of PPFP and PAFP in the overall provincial health systems, strengthening health system through building technical capacity of federal and provincial governments to implement results-based management framework, gender response social and behavior change communication (SBCC) strategies, enabling policy environment, and strengthen health information system strengthening to improve and better use of PPFP and PAFP data for decision making.Under this project, a total of four high-level outcomes and thirteen outputs will be achieved. The federal government and provincial Health Department and Population Welfare Department would be key partners, while Pathfinder will also collaborate and coordinate with World Bank, Population Council, and Acasus.Job PurposePathfinder is seeking a detail-oriented and highly organized Administrative Assistant to join our team in Islamabad. The successful candidate will play a crucial role in supporting daily office operations and ensuring smooth administrative processes.Key Performance AreaOffice Management Assist the Admin Officer in managing day-to-day office operations, including maintaining office supplies, equipment, and facilities.Assist in coordinating and scheduling meetings, appointments, and events.Handle incoming calls, emails, and inquiries, and redirect them as appropriate.\\nReporting & Documentation Aiding the other staff membersManage and maintain records of different project activities.Provide secretarial and administrative support to all relevant staff.Serve as primary contact for all Patti cash transfer matters within the office.Keep up with important documents and maintain files.Making arrangements for any event, meeting, or activity, finding transportation, and making accommodations.Create and maintain organized filing systems for both digital and physical documents.Assist in the preparation and formatting of reports, presentations, and other documents.Accurately enter and update data in spreadsheets and databases.Maintain confidential records and files.\\nLiaison, Communication & Interaction Liaise closely with all project staff on issues relating to all activities, course administration, and other relevant areas associated with the activity of the project.Communicate with the Logistic department and other members of the administrative team and external professionals when scheduling appointments and setting up meetings.Draft and edit correspondence, emails, and other communications.Ensure effective communication within the office and with external stakeholders.\\nAdministrative and Financial Tasks Overall, all administrative tasks assigned by the Head office Administration Manager/ Admin Officer-Islamabad / Karachi.Making travel arrangements, such as booking flights, cars, and making hotel and restaurant reservations.\\nEducation & Work Experience Bachelor’s degree in social sciences and public administration3 years experience working in the development sector or in any organization that implements national, and international health and development projects.\\nPreferred Education & Work Experience Master’s degree in management, business, project management, social science, or a related discipline3-5 years of relevant programmatic experience, particularly in the areas of climate justice and gender equityAbility to demonstrate tools and techniques to organize moving pieces in a project.Experience in office management, reporting and documentation, and Liaising with different departments within the organization.\\nMinimally Required Job-Specific Competencies: Program Operations: Ability to plan and manage cross-functional activities internally and externally and ensure timely follow-up and updates. Organizational and planning skills, project planning, and management skills. Proven ability to set priorities, meet deadlines, and multi-task with minimal supervision.Passion for Sexual and Reproductive Health Services: Commitment to family planning, reproductive health services, gender, maternal, and child health services, and eradication of harmful traditional practicesPresentation Skills: Advanced oral and written communication and editing skills. Proven diplomacy skills. Proven ability to build and maintain professional relationships with stakeholders.Community Relations: Intermediate skills in facilitating working relationships between project teams, donors, partners, government officials, and communities.Analysis and Sound Judgement: Advanced analytical and troubleshooting skills. Ability to make sound judgments. Ability to improve processes, promote excellence and demonstrate accuracy and thoroughness.\\nMinimally Required Organizational Competencies: Software Applications: Advanced knowledge of MS Excel, PowerPoint, Word, and OutlookLanguages: Proven ability to write and speak using the local language and English languageCommunication and Influencing Skills: Diplomacy and advanced oral and written communication skills using different forms of media. Ability to translate complex concepts to individuals at all levels. Ability to speak across a range of technical issues that may be outside the individual’s area of expertise.Self-Management and Teamwork: Ability to work independently or as a member of a team, ability to thrive in a matrix organization, ability to be detail-oriented, and ability to manage stress effectively in a fast-paced environment.Confidentiality: Ability to maintain confidentiality on work-related matters.Matrix Management: Ability to thrive in a matrixed organization.\\nOther information: Travel required (30% or less)Uses cellular and office phones, laptops, or desktop computers.This job description format focuses on the main duties of the position and is not intended to list every potential task or assignment.Duties can and will change to meet the changing priorities of the department and organization.\\nEqual Employment Opportunity Employer StatementPathfinder International provides equal employment opportunities to all employees and applicants for employment and prohibits discrimination and harassment of any type without regard to race, color, religion, age, sex, national origin, disability status, genetics, protected veteran status, sexual orientation, gender identity or expression, or any other characteristic protected by federal, state or local laws.This policy applies to all terms and conditions of employment, including recruiting, hiring, placement, promotion, termination, layoff, recall, transfer, leaves of absence, compensation, and training.Safeguarding and Protection StatementPathfinder is committed to the safeguarding and protection of the people we serve and our staff. We have zero tolerance for any type of behavior that inflicts harm on children, young people, adults, our staff, and partners including sexual abuse, harassment, bullying, and exploitation. We do everything possible to ensure that we recruit only those who are suitable to work with us. We expect that everyone we hire will abide by our safeguarding and related policies and will report any suspected or known violations. This job is subject to a range of vetting checks as legally permitted in the country where they are being hired. By applying, the job applicant acknowledges they understand our intent to verify suitability to work with us.'\n",
    "job_description"
   ]
  },
  {
   "cell_type": "code",
   "execution_count": 171,
   "id": "a78d0973-2d90-456e-b1d8-df8a06816b69",
   "metadata": {},
   "outputs": [
    {
     "name": "stdout",
     "output_type": "stream",
     "text": [
      "education found in the job description.\n",
      "degree found in the job description.\n"
     ]
    }
   ],
   "source": [
    "flag=0\n",
    "for keyword in qualification_keywords:\n",
    "    if keyword in job_description.lower():\n",
    "        print(f\"{keyword} found in the job description.\")\n",
    "        flag=1\n",
    "if flag==0:\n",
    "    print('Not found any given keywords')"
   ]
  },
  {
   "cell_type": "code",
   "execution_count": 172,
   "id": "fa667b1e-541a-4c05-b806-75a7fcd056dc",
   "metadata": {},
   "outputs": [
    {
     "name": "stdout",
     "output_type": "stream",
     "text": [
      "degree found in the job description.\n",
      "bachelor found in the job description.\n",
      "master found in the job description.\n"
     ]
    }
   ],
   "source": [
    "flag=0\n",
    "for keyword in degree_keywords2:\n",
    "    if len(keyword)!=2: # can use keyword.islower()\n",
    "        if keyword in job_description.lower():\n",
    "            print(f\"{keyword} found in the job description.\")\n",
    "            flag=1\n",
    "    else:\n",
    "        if keyword in job_description:\n",
    "            print(f\"{keyword} found in the job description.\")\n",
    "            flag=1\n",
    "        \n",
    "if flag==0:\n",
    "    print('Not found any given keywords')"
   ]
  },
  {
   "cell_type": "code",
   "execution_count": 173,
   "id": "bd50826b-7811-4ec8-845a-7760389c4298",
   "metadata": {},
   "outputs": [
    {
     "name": "stdout",
     "output_type": "stream",
     "text": [
      "Not found any given keywords\n"
     ]
    }
   ],
   "source": [
    "flag=0\n",
    "for keyword in computing_degrees:\n",
    "    if keyword.lower() in job_description.lower():\n",
    "        print(f\"{keyword} found in the job description.\")\n",
    "        flag=1\n",
    "if flag==0:\n",
    "    print('Not found any given keywords')"
   ]
  },
  {
   "cell_type": "code",
   "execution_count": 174,
   "id": "b19f7a71-1178-465e-a9d5-816fce2e2040",
   "metadata": {},
   "outputs": [
    {
     "name": "stdout",
     "output_type": "stream",
     "text": [
      "Words containing 'degree':\n",
      "['degree', 'degree']\n",
      "Sentences containing 'degree':\n",
      "['Education & Work Experience Bachelor’s degree in social sciences and public administration3 years experience working in the development sector or in any organization that implements national, and international health and development projects.', 'Preferred Education & Work Experience Master’s degree in management, business, project management, social science, or a related discipline3-5 years of relevant programmatic experience, particularly in the areas of climate justice and gender equityAbility to demonstrate tools and techniques to organize moving pieces in a project.Experience in office management, reporting and documentation, and Liaising with different departments within the organization.']\n"
     ]
    }
   ],
   "source": [
    "sentences = sent_tokenize(job_description)\n",
    "words = word_tokenize(job_description.lower())  # Convert to lowercase for case-insensitive search\n",
    "\n",
    "# Term to search\n",
    "term_to_search = 'degree'\n",
    "\n",
    "# Print words containing the term\n",
    "print(f\"Words containing '{term_to_search}':\")\n",
    "matching_words = [word for word in words if term_to_search in word]\n",
    "print(matching_words)\n",
    "\n",
    "# Print sentences containing the term\n",
    "print(f\"Sentences containing '{term_to_search}':\")\n",
    "matching_sentences = [sentence for sentence in sentences if term_to_search in sentence.lower()]\n",
    "print(matching_sentences)"
   ]
  },
  {
   "cell_type": "code",
   "execution_count": 175,
   "id": "f2244bba-345e-455e-8f83-cd9f314b6b8f",
   "metadata": {},
   "outputs": [
    {
     "name": "stdout",
     "output_type": "stream",
     "text": [
      "Degree Requirements: ['qadam project', 'achieved', 'key partners', 'while pathfinder will also collaborate and coordinate with world bank', 'population council', 'and acasus', 's degree  social sciences and public', 'outside the individual', 'detail']\n"
     ]
    }
   ],
   "source": [
    "sentences = sent_tokenize(job_description)\n",
    "sentences\n",
    "# Regular expression to match degree qualifications\n",
    "degree_regex = re.compile(\n",
    "    r'\\b(?:bachelor\\'s degree|bachelor|b\\.s\\.c\\.|b\\.sc\\.|bsc|b\\.tech\\.|b\\.e\\.|be|b\\.a\\.|ba|b\\.com\\.|b\\.com)\\b'\n",
    "    r'.*?(?:\\bin|\\bof)?\\s*([a-zA-Z\\s,]+(?:,\\s*[a-zA-Z\\s,]+)*)\\b',\n",
    "    re.IGNORECASE\n",
    ")\n",
    "\n",
    "# Extract degree requirements\n",
    "degree_requirements = []\n",
    "\n",
    "for sentence in sentences:\n",
    "    matches = degree_regex.findall(sentence)\n",
    "    for match in matches:\n",
    "        # Remove unwanted words and create a list\n",
    "        cleaned_degrees = [word.strip().lower() for word in re.sub(r'\\b(?:higher|in|or|a)\\b', '', match, flags=re.IGNORECASE).split(',')]\n",
    "        degree_requirements.extend(cleaned_degrees)\n",
    "\n",
    "# Remove empty strings from the list\n",
    "degree_requirements = list(filter(None, degree_requirements))\n",
    "\n",
    "# Print the extracted degree requirements\n",
    "print(\"Degree Requirements:\", degree_requirements)"
   ]
  },
  {
   "cell_type": "markdown",
   "id": "4e668dec-71db-427c-b374-cee1e1e532df",
   "metadata": {},
   "source": [
    "***not giving expected results***"
   ]
  },
  {
   "cell_type": "code",
   "execution_count": null,
   "id": "f19c0d2e-dc57-46f1-a0e1-1f070233a6fc",
   "metadata": {},
   "outputs": [],
   "source": []
  }
 ],
 "metadata": {
  "kernelspec": {
   "display_name": "Python 3 (ipykernel)",
   "language": "python",
   "name": "python3"
  },
  "language_info": {
   "codemirror_mode": {
    "name": "ipython",
    "version": 3
   },
   "file_extension": ".py",
   "mimetype": "text/x-python",
   "name": "python",
   "nbconvert_exporter": "python",
   "pygments_lexer": "ipython3",
   "version": "3.11.4"
  }
 },
 "nbformat": 4,
 "nbformat_minor": 5
}
