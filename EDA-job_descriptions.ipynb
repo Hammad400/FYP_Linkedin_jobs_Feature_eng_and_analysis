{
 "cells": [
  {
   "cell_type": "code",
   "execution_count": 1,
   "id": "81ac062a-82c7-49ee-b287-c219641155b6",
   "metadata": {},
   "outputs": [],
   "source": [
    "import pandas as pd\n",
    "import numpy as np\n",
    "import os\n",
    "from datetime import datetime"
   ]
  },
  {
   "cell_type": "code",
   "execution_count": 2,
   "id": "33d8abb1-a617-4557-b98f-5951966001a2",
   "metadata": {},
   "outputs": [],
   "source": [
    "path='Files used in current analysis/Linkedin_Job-Descriptions-company_details_26-Sep-2023-to-26-Nov-2023_15947-jobs_685-pages.csv'"
   ]
  },
  {
   "cell_type": "code",
   "execution_count": 3,
   "id": "ea083d0e-c886-4620-a6b3-778654b7f58b",
   "metadata": {},
   "outputs": [
    {
     "data": {
      "text/html": [
       "<div>\n",
       "<style scoped>\n",
       "    .dataframe tbody tr th:only-of-type {\n",
       "        vertical-align: middle;\n",
       "    }\n",
       "\n",
       "    .dataframe tbody tr th {\n",
       "        vertical-align: top;\n",
       "    }\n",
       "\n",
       "    .dataframe thead th {\n",
       "        text-align: right;\n",
       "    }\n",
       "</style>\n",
       "<table border=\"1\" class=\"dataframe\">\n",
       "  <thead>\n",
       "    <tr style=\"text-align: right;\">\n",
       "      <th></th>\n",
       "      <th>Job Link</th>\n",
       "      <th>Job Desception</th>\n",
       "      <th>Company Info</th>\n",
       "    </tr>\n",
       "  </thead>\n",
       "  <tbody>\n",
       "    <tr>\n",
       "      <th>0</th>\n",
       "      <td>https://www.linkedin.com/jobs/view/3727054368</td>\n",
       "      <td>About the job\\n            \\n\\n \\nAbout Us:We ...</td>\n",
       "      <td>Advertising Services\\n            \\n          ...</td>\n",
       "    </tr>\n",
       "    <tr>\n",
       "      <th>1</th>\n",
       "      <td>https://www.linkedin.com/jobs/view/3723395858</td>\n",
       "      <td>About the job\\n            \\n\\n \\nWe are looki...</td>\n",
       "      <td>IT Services and IT Consulting\\n            \\n ...</td>\n",
       "    </tr>\n",
       "    <tr>\n",
       "      <th>2</th>\n",
       "      <td>https://www.linkedin.com/jobs/view/3727034665</td>\n",
       "      <td>About the job\\n            \\n\\n \\nCompany Over...</td>\n",
       "      <td>IT Services and IT Consulting\\n            \\n ...</td>\n",
       "    </tr>\n",
       "    <tr>\n",
       "      <th>3</th>\n",
       "      <td>https://www.linkedin.com/jobs/view/3727029273</td>\n",
       "      <td>About the job\\n            \\n\\n \\nBI Developer...</td>\n",
       "      <td>IT Services and IT Consulting\\n            \\n ...</td>\n",
       "    </tr>\n",
       "    <tr>\n",
       "      <th>4</th>\n",
       "      <td>https://www.linkedin.com/jobs/view/3727034696</td>\n",
       "      <td>About the job\\n            \\n\\n \\nIt is a prog...</td>\n",
       "      <td>NaN</td>\n",
       "    </tr>\n",
       "    <tr>\n",
       "      <th>...</th>\n",
       "      <td>...</td>\n",
       "      <td>...</td>\n",
       "      <td>...</td>\n",
       "    </tr>\n",
       "    <tr>\n",
       "      <th>15942</th>\n",
       "      <td>https://www.linkedin.com/jobs/view/3767355025</td>\n",
       "      <td>About the job\\n            \\n \\nThis role is p...</td>\n",
       "      <td>NaN</td>\n",
       "    </tr>\n",
       "    <tr>\n",
       "      <th>15943</th>\n",
       "      <td>https://www.linkedin.com/jobs/view/3766809535</td>\n",
       "      <td>About the job\\n            \\n \\nA U.S.-based c...</td>\n",
       "      <td>IT Services and IT Consulting\\n            \\n ...</td>\n",
       "    </tr>\n",
       "    <tr>\n",
       "      <th>15944</th>\n",
       "      <td>https://www.linkedin.com/jobs/view/3772530977</td>\n",
       "      <td>About the job</td>\n",
       "      <td>NaN</td>\n",
       "    </tr>\n",
       "    <tr>\n",
       "      <th>15945</th>\n",
       "      <td>https://www.linkedin.com/jobs/view/3771943212</td>\n",
       "      <td>About the job</td>\n",
       "      <td>NaN</td>\n",
       "    </tr>\n",
       "    <tr>\n",
       "      <th>15946</th>\n",
       "      <td>https://www.linkedin.com/jobs/view/3767944844</td>\n",
       "      <td>About the job</td>\n",
       "      <td>NaN</td>\n",
       "    </tr>\n",
       "  </tbody>\n",
       "</table>\n",
       "<p>15947 rows × 3 columns</p>\n",
       "</div>"
      ],
      "text/plain": [
       "                                            Job Link  \\\n",
       "0      https://www.linkedin.com/jobs/view/3727054368   \n",
       "1      https://www.linkedin.com/jobs/view/3723395858   \n",
       "2      https://www.linkedin.com/jobs/view/3727034665   \n",
       "3      https://www.linkedin.com/jobs/view/3727029273   \n",
       "4      https://www.linkedin.com/jobs/view/3727034696   \n",
       "...                                              ...   \n",
       "15942  https://www.linkedin.com/jobs/view/3767355025   \n",
       "15943  https://www.linkedin.com/jobs/view/3766809535   \n",
       "15944  https://www.linkedin.com/jobs/view/3772530977   \n",
       "15945  https://www.linkedin.com/jobs/view/3771943212   \n",
       "15946  https://www.linkedin.com/jobs/view/3767944844   \n",
       "\n",
       "                                          Job Desception  \\\n",
       "0      About the job\\n            \\n\\n \\nAbout Us:We ...   \n",
       "1      About the job\\n            \\n\\n \\nWe are looki...   \n",
       "2      About the job\\n            \\n\\n \\nCompany Over...   \n",
       "3      About the job\\n            \\n\\n \\nBI Developer...   \n",
       "4      About the job\\n            \\n\\n \\nIt is a prog...   \n",
       "...                                                  ...   \n",
       "15942  About the job\\n            \\n \\nThis role is p...   \n",
       "15943  About the job\\n            \\n \\nA U.S.-based c...   \n",
       "15944                                      About the job   \n",
       "15945                                      About the job   \n",
       "15946                                      About the job   \n",
       "\n",
       "                                            Company Info  \n",
       "0      Advertising Services\\n            \\n          ...  \n",
       "1      IT Services and IT Consulting\\n            \\n ...  \n",
       "2      IT Services and IT Consulting\\n            \\n ...  \n",
       "3      IT Services and IT Consulting\\n            \\n ...  \n",
       "4                                                    NaN  \n",
       "...                                                  ...  \n",
       "15942                                                NaN  \n",
       "15943  IT Services and IT Consulting\\n            \\n ...  \n",
       "15944                                                NaN  \n",
       "15945                                                NaN  \n",
       "15946                                                NaN  \n",
       "\n",
       "[15947 rows x 3 columns]"
      ]
     },
     "execution_count": 3,
     "metadata": {},
     "output_type": "execute_result"
    }
   ],
   "source": [
    "df=pd.read_csv(path)\n",
    "df"
   ]
  },
  {
   "cell_type": "markdown",
   "id": "734d344d-ad4e-4f8d-965c-3b9eb36c5e56",
   "metadata": {},
   "source": [
    "### checking duplicates"
   ]
  },
  {
   "cell_type": "code",
   "execution_count": 4,
   "id": "ef2bd986-a157-46a1-83b8-4bef0c56e5d2",
   "metadata": {},
   "outputs": [
    {
     "data": {
      "text/plain": [
       "15947"
      ]
     },
     "execution_count": 4,
     "metadata": {},
     "output_type": "execute_result"
    }
   ],
   "source": [
    "len(df)"
   ]
  },
  {
   "cell_type": "code",
   "execution_count": 5,
   "id": "5c700a51-47f9-4064-8f27-57495dca99b7",
   "metadata": {},
   "outputs": [],
   "source": [
    "df['Job ID']=df['Job Link'].apply(lambda x:int(x.split('/')[5]))"
   ]
  },
  {
   "cell_type": "code",
   "execution_count": 6,
   "id": "f46f8835-2357-40fe-a25f-9ef307238a00",
   "metadata": {},
   "outputs": [
    {
     "data": {
      "text/plain": [
       "12321"
      ]
     },
     "execution_count": 6,
     "metadata": {},
     "output_type": "execute_result"
    }
   ],
   "source": [
    "len(df['Job ID'].unique())"
   ]
  },
  {
   "cell_type": "code",
   "execution_count": 7,
   "id": "16f03f39-ef42-4319-a853-b6aff4dcfc74",
   "metadata": {},
   "outputs": [
    {
     "data": {
      "text/plain": [
       "3626"
      ]
     },
     "execution_count": 7,
     "metadata": {},
     "output_type": "execute_result"
    }
   ],
   "source": [
    "len(df)-len(df['Job ID'].unique())"
   ]
  },
  {
   "cell_type": "code",
   "execution_count": 8,
   "id": "4d8f3b78-ccbd-4c80-b351-f31500d65605",
   "metadata": {},
   "outputs": [
    {
     "data": {
      "text/plain": [
       "Job ID\n",
       "3720211981    13\n",
       "3733022066    11\n",
       "3707088816    11\n",
       "3733019363    11\n",
       "3605634351    10\n",
       "              ..\n",
       "3737178761     1\n",
       "3737300518     1\n",
       "3733021967     1\n",
       "3738367069     1\n",
       "3767944844     1\n",
       "Name: count, Length: 12321, dtype: int64"
      ]
     },
     "execution_count": 8,
     "metadata": {},
     "output_type": "execute_result"
    }
   ],
   "source": [
    "df['Job ID'].value_counts()"
   ]
  },
  {
   "cell_type": "code",
   "execution_count": 9,
   "id": "daac1f95-161c-4c80-8771-ee3e2905fc36",
   "metadata": {},
   "outputs": [
    {
     "data": {
      "text/plain": [
       "array([13, 11, 10,  9,  8,  7,  6,  5,  4,  3,  2,  1], dtype=int64)"
      ]
     },
     "execution_count": 9,
     "metadata": {},
     "output_type": "execute_result"
    }
   ],
   "source": [
    "df['Job ID'].value_counts().unique()"
   ]
  },
  {
   "cell_type": "code",
   "execution_count": 10,
   "id": "12346237-4553-4608-a1a0-090c7402ba68",
   "metadata": {},
   "outputs": [
    {
     "data": {
      "text/plain": [
       "3626"
      ]
     },
     "execution_count": 10,
     "metadata": {},
     "output_type": "execute_result"
    }
   ],
   "source": [
    "duplicates_count=df.duplicated(subset=['Job ID']).sum()\n",
    "duplicates_count"
   ]
  },
  {
   "cell_type": "code",
   "execution_count": 11,
   "id": "88210200-bf59-441b-b4d7-d244ae038dee",
   "metadata": {},
   "outputs": [
    {
     "data": {
      "text/html": [
       "<div>\n",
       "<style scoped>\n",
       "    .dataframe tbody tr th:only-of-type {\n",
       "        vertical-align: middle;\n",
       "    }\n",
       "\n",
       "    .dataframe tbody tr th {\n",
       "        vertical-align: top;\n",
       "    }\n",
       "\n",
       "    .dataframe thead th {\n",
       "        text-align: right;\n",
       "    }\n",
       "</style>\n",
       "<table border=\"1\" class=\"dataframe\">\n",
       "  <thead>\n",
       "    <tr style=\"text-align: right;\">\n",
       "      <th></th>\n",
       "      <th>Job Link</th>\n",
       "      <th>Job Desception</th>\n",
       "      <th>Company Info</th>\n",
       "      <th>Job ID</th>\n",
       "    </tr>\n",
       "  </thead>\n",
       "  <tbody>\n",
       "    <tr>\n",
       "      <th>603</th>\n",
       "      <td>https://www.linkedin.com/jobs/view/3727054738</td>\n",
       "      <td>About the job\\n            \\n\\n \\nWe are in se...</td>\n",
       "      <td>NaN</td>\n",
       "      <td>3727054738</td>\n",
       "    </tr>\n",
       "    <tr>\n",
       "      <th>781</th>\n",
       "      <td>https://www.linkedin.com/jobs/view/3727057147</td>\n",
       "      <td>About the job\\n            \\n\\n \\nRequired Exp...</td>\n",
       "      <td>Real Estate\\n            \\n              201-5...</td>\n",
       "      <td>3727057147</td>\n",
       "    </tr>\n",
       "    <tr>\n",
       "      <th>834</th>\n",
       "      <td>https://www.linkedin.com/jobs/view/3726337380</td>\n",
       "      <td>About the job\\n            \\n\\n \\nA rapidly-gr...</td>\n",
       "      <td>IT Services and IT Consulting\\n            \\n ...</td>\n",
       "      <td>3726337380</td>\n",
       "    </tr>\n",
       "    <tr>\n",
       "      <th>840</th>\n",
       "      <td>https://www.linkedin.com/jobs/view/3727054443</td>\n",
       "      <td>About the job\\n            \\n\\n \\nWe are looki...</td>\n",
       "      <td>Information Technology &amp; Services\\n           ...</td>\n",
       "      <td>3727054443</td>\n",
       "    </tr>\n",
       "    <tr>\n",
       "      <th>842</th>\n",
       "      <td>https://www.linkedin.com/jobs/view/3727051751</td>\n",
       "      <td>NaN</td>\n",
       "      <td>NaN</td>\n",
       "      <td>3727051751</td>\n",
       "    </tr>\n",
       "    <tr>\n",
       "      <th>...</th>\n",
       "      <td>...</td>\n",
       "      <td>...</td>\n",
       "      <td>...</td>\n",
       "      <td>...</td>\n",
       "    </tr>\n",
       "    <tr>\n",
       "      <th>15928</th>\n",
       "      <td>https://www.linkedin.com/jobs/view/3765449305</td>\n",
       "      <td>About the job\\n            \\n \\nJob Brief:As a...</td>\n",
       "      <td>Real Estate\\n            \\n              5,001...</td>\n",
       "      <td>3765449305</td>\n",
       "    </tr>\n",
       "    <tr>\n",
       "      <th>15929</th>\n",
       "      <td>https://www.linkedin.com/jobs/view/3765793064</td>\n",
       "      <td>About the job\\n            \\n \\nAbout Arrivy A...</td>\n",
       "      <td>Software Development\\n            \\n          ...</td>\n",
       "      <td>3765793064</td>\n",
       "    </tr>\n",
       "    <tr>\n",
       "      <th>15930</th>\n",
       "      <td>https://www.linkedin.com/jobs/view/3765780780</td>\n",
       "      <td>About the job</td>\n",
       "      <td>NaN</td>\n",
       "      <td>3765780780</td>\n",
       "    </tr>\n",
       "    <tr>\n",
       "      <th>15932</th>\n",
       "      <td>https://www.linkedin.com/jobs/view/3766397564</td>\n",
       "      <td>About the job\\n            \\n \\nA developing f...</td>\n",
       "      <td>NaN</td>\n",
       "      <td>3766397564</td>\n",
       "    </tr>\n",
       "    <tr>\n",
       "      <th>15943</th>\n",
       "      <td>https://www.linkedin.com/jobs/view/3766809535</td>\n",
       "      <td>About the job\\n            \\n \\nA U.S.-based c...</td>\n",
       "      <td>IT Services and IT Consulting\\n            \\n ...</td>\n",
       "      <td>3766809535</td>\n",
       "    </tr>\n",
       "  </tbody>\n",
       "</table>\n",
       "<p>3626 rows × 4 columns</p>\n",
       "</div>"
      ],
      "text/plain": [
       "                                            Job Link  \\\n",
       "603    https://www.linkedin.com/jobs/view/3727054738   \n",
       "781    https://www.linkedin.com/jobs/view/3727057147   \n",
       "834    https://www.linkedin.com/jobs/view/3726337380   \n",
       "840    https://www.linkedin.com/jobs/view/3727054443   \n",
       "842    https://www.linkedin.com/jobs/view/3727051751   \n",
       "...                                              ...   \n",
       "15928  https://www.linkedin.com/jobs/view/3765449305   \n",
       "15929  https://www.linkedin.com/jobs/view/3765793064   \n",
       "15930  https://www.linkedin.com/jobs/view/3765780780   \n",
       "15932  https://www.linkedin.com/jobs/view/3766397564   \n",
       "15943  https://www.linkedin.com/jobs/view/3766809535   \n",
       "\n",
       "                                          Job Desception  \\\n",
       "603    About the job\\n            \\n\\n \\nWe are in se...   \n",
       "781    About the job\\n            \\n\\n \\nRequired Exp...   \n",
       "834    About the job\\n            \\n\\n \\nA rapidly-gr...   \n",
       "840    About the job\\n            \\n\\n \\nWe are looki...   \n",
       "842                                                  NaN   \n",
       "...                                                  ...   \n",
       "15928  About the job\\n            \\n \\nJob Brief:As a...   \n",
       "15929  About the job\\n            \\n \\nAbout Arrivy A...   \n",
       "15930                                      About the job   \n",
       "15932  About the job\\n            \\n \\nA developing f...   \n",
       "15943  About the job\\n            \\n \\nA U.S.-based c...   \n",
       "\n",
       "                                            Company Info      Job ID  \n",
       "603                                                  NaN  3727054738  \n",
       "781    Real Estate\\n            \\n              201-5...  3727057147  \n",
       "834    IT Services and IT Consulting\\n            \\n ...  3726337380  \n",
       "840    Information Technology & Services\\n           ...  3727054443  \n",
       "842                                                  NaN  3727051751  \n",
       "...                                                  ...         ...  \n",
       "15928  Real Estate\\n            \\n              5,001...  3765449305  \n",
       "15929  Software Development\\n            \\n          ...  3765793064  \n",
       "15930                                                NaN  3765780780  \n",
       "15932                                                NaN  3766397564  \n",
       "15943  IT Services and IT Consulting\\n            \\n ...  3766809535  \n",
       "\n",
       "[3626 rows x 4 columns]"
      ]
     },
     "execution_count": 11,
     "metadata": {},
     "output_type": "execute_result"
    }
   ],
   "source": [
    "duplicates = df['Job ID'].duplicated()\n",
    "df[duplicates]"
   ]
  },
  {
   "cell_type": "code",
   "execution_count": 12,
   "id": "e30630bb-adc4-4f24-9d5e-b989dfc1c765",
   "metadata": {},
   "outputs": [
    {
     "data": {
      "text/plain": [
       "Job Link             0\n",
       "Job Desception     315\n",
       "Company Info      4084\n",
       "Job ID               0\n",
       "dtype: int64"
      ]
     },
     "execution_count": 12,
     "metadata": {},
     "output_type": "execute_result"
    }
   ],
   "source": [
    "df.isnull().sum()"
   ]
  },
  {
   "cell_type": "code",
   "execution_count": 24,
   "id": "d060f76e-ba27-4fe4-98bb-5539aef2de81",
   "metadata": {},
   "outputs": [],
   "source": [
    "count_of_abnormal_desc=0\n",
    "for i in range(0,len(df)):\n",
    "    try:\n",
    "        if(len(df.iloc[i]['Job Desception'])<20):\n",
    "            # print(df.iloc[i])\n",
    "            count_of_abnormal_desc=count_of_abnormal_desc+1\n",
    "    except TypeError:\n",
    "        pass\n",
    "        # print('non value')\n",
    "if count_of_abnormal_desc==0:\n",
    "    print(\"Not Found any uncomplete job descreption\")"
   ]
  },
  {
   "cell_type": "code",
   "execution_count": 25,
   "id": "1b914b2b-02ec-4515-9f61-cedad4ec2ef3",
   "metadata": {},
   "outputs": [
    {
     "data": {
      "text/plain": [
       "1586"
      ]
     },
     "execution_count": 25,
     "metadata": {},
     "output_type": "execute_result"
    }
   ],
   "source": [
    "count_of_abnormal_desc"
   ]
  },
  {
   "cell_type": "code",
   "execution_count": 28,
   "id": "a8009e71-dab1-44b8-b41c-c8f6368926a7",
   "metadata": {},
   "outputs": [
    {
     "data": {
      "text/plain": [
       "1901"
      ]
     },
     "execution_count": 28,
     "metadata": {},
     "output_type": "execute_result"
    }
   ],
   "source": [
    "count_of_abnormal_desc+df.isnull().sum()['Job Desception']"
   ]
  },
  {
   "cell_type": "code",
   "execution_count": null,
   "id": "3f23f3c4-b411-4a7a-bcc2-f0ec66b51a76",
   "metadata": {},
   "outputs": [],
   "source": []
  },
  {
   "cell_type": "code",
   "execution_count": null,
   "id": "53abd577-9407-44cc-aaaa-3a65aefaaec8",
   "metadata": {},
   "outputs": [],
   "source": []
  },
  {
   "cell_type": "code",
   "execution_count": 21,
   "id": "37280791-f708-4e7f-a137-9645d9981d8f",
   "metadata": {},
   "outputs": [
    {
     "data": {
      "text/plain": [
       "\"About the job\\n            \\n\\n \\nAbout Us:We are an E-Commerce Agency, specializing in Amazon. The primary focus of our company is to build brands for our clients and make their brands expandable in the respective target markets.Key Responsibilities: Utilize various tools and techniques to extract data from LinkedIn profiles, including but not limited to names, job titles, companies, contact information, and other relevant data points.Ensure the accuracy and integrity of the extracted data through thorough validation and verification processes.Enhance existing datasets by adding missing or relevant information obtained from LinkedIn profiles.Adhere to LinkedIn's terms of service and privacy policies while extracting and handling data, ensuring ethical and legal data collection practices.Regularly update and maintain databases to reflect the most current information.Keep detailed records of extraction processes, sources, and data quality assessments.Generate reports summarizing extracted data and insights for use by various departments within the organization.\\n Qualifications: Proven experience in data extraction, particularly from LinkedIn or similar platforms.Familiarity with data extraction tools (Octoparse, Import.io, scrapy etc) Strong attention to detail and data accuracy.Understanding of data privacy and compliance regulations, especially pertaining to LinkedIn.Proficiency in data management and database tools.Excellent communication and documentation skills.Ability to work independently and meet deadlines.\""
      ]
     },
     "execution_count": 21,
     "metadata": {},
     "output_type": "execute_result"
    }
   ],
   "source": [
    "df['Job Desception'].unique()[0]"
   ]
  },
  {
   "cell_type": "code",
   "execution_count": 17,
   "id": "aedf3e3e-42d4-4d1c-a8c8-0204153e95d0",
   "metadata": {},
   "outputs": [
    {
     "data": {
      "text/plain": [
       "array(['Advertising Services\\n            \\n              11-50 employees\\n            \\n\\n              10 on LinkedIn',\n",
       "       'IT Services and IT Consulting\\n            \\n              11-50 employees\\n            \\n\\n              59 on LinkedIn',\n",
       "       'IT Services and IT Consulting\\n            \\n              51-200 employees\\n            \\n\\n              70 on LinkedIn',\n",
       "       'IT Services and IT Consulting\\n            \\n              11-50 employees\\n            \\n\\n              38 on LinkedIn',\n",
       "       nan], dtype=object)"
      ]
     },
     "execution_count": 17,
     "metadata": {},
     "output_type": "execute_result"
    }
   ],
   "source": [
    "df['Company Info'].unique()[:5]"
   ]
  },
  {
   "cell_type": "code",
   "execution_count": 14,
   "id": "fe8930a3-aea0-4364-b951-ebfcf006c004",
   "metadata": {},
   "outputs": [
    {
     "data": {
      "text/plain": [
       "3449"
      ]
     },
     "execution_count": 14,
     "metadata": {},
     "output_type": "execute_result"
    }
   ],
   "source": [
    "len(df['Company Info'].unique())"
   ]
  },
  {
   "cell_type": "code",
   "execution_count": null,
   "id": "5ca0a7b9-6529-4dbf-8783-5be005e82bf3",
   "metadata": {},
   "outputs": [],
   "source": []
  }
 ],
 "metadata": {
  "kernelspec": {
   "display_name": "Python 3 (ipykernel)",
   "language": "python",
   "name": "python3"
  },
  "language_info": {
   "codemirror_mode": {
    "name": "ipython",
    "version": 3
   },
   "file_extension": ".py",
   "mimetype": "text/x-python",
   "name": "python",
   "nbconvert_exporter": "python",
   "pygments_lexer": "ipython3",
   "version": "3.11.4"
  }
 },
 "nbformat": 4,
 "nbformat_minor": 5
}
