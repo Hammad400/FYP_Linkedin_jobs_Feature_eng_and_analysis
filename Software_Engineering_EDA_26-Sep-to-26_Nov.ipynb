{
 "cells": [
  {
   "cell_type": "code",
   "execution_count": 2,
   "id": "81ac062a-82c7-49ee-b287-c219641155b6",
   "metadata": {},
   "outputs": [],
   "source": [
    "import pandas as pd\n",
    "import numpy as np\n",
    "import os\n",
    "from datetime import datetime"
   ]
  },
  {
   "cell_type": "code",
   "execution_count": 3,
   "id": "966fb6a3-3166-444a-8246-b2111900c95a",
   "metadata": {},
   "outputs": [],
   "source": [
    "path='Filltered_Files/software_engineer_26_sep_to_26_nov_735_jobs_304_titles_v5_Feature_Eng_Processed.csv'"
   ]
  },
  {
   "cell_type": "code",
   "execution_count": 4,
   "id": "ea083d0e-c886-4620-a6b3-778654b7f58b",
   "metadata": {},
   "outputs": [],
   "source": [
    "df=pd.read_csv(path)"
   ]
  },
  {
   "cell_type": "code",
   "execution_count": 5,
   "id": "1869871d-7c0a-40b8-abb9-8748537036a1",
   "metadata": {},
   "outputs": [
    {
     "data": {
      "text/html": [
       "<div>\n",
       "<style scoped>\n",
       "    .dataframe tbody tr th:only-of-type {\n",
       "        vertical-align: middle;\n",
       "    }\n",
       "\n",
       "    .dataframe tbody tr th {\n",
       "        vertical-align: top;\n",
       "    }\n",
       "\n",
       "    .dataframe thead th {\n",
       "        text-align: right;\n",
       "    }\n",
       "</style>\n",
       "<table border=\"1\" class=\"dataframe\">\n",
       "  <thead>\n",
       "    <tr style=\"text-align: right;\">\n",
       "      <th></th>\n",
       "      <th>Job Title</th>\n",
       "      <th>Job Info</th>\n",
       "      <th>Job Type</th>\n",
       "      <th>Job Link_x</th>\n",
       "      <th>employees</th>\n",
       "      <th>Job ID</th>\n",
       "      <th>Job Link_y</th>\n",
       "      <th>Job Desception</th>\n",
       "      <th>Company Info</th>\n",
       "      <th>company</th>\n",
       "      <th>location_1</th>\n",
       "      <th>location_2</th>\n",
       "      <th>Remote/Onsite</th>\n",
       "      <th>n_applicant</th>\n",
       "      <th>job posting time</th>\n",
       "      <th>Job Type nElements</th>\n",
       "      <th>Job-Type</th>\n",
       "      <th>Experience Level</th>\n",
       "      <th>Comp_N_Employees</th>\n",
       "      <th>Comp_Industry</th>\n",
       "    </tr>\n",
       "  </thead>\n",
       "  <tbody>\n",
       "    <tr>\n",
       "      <th>0</th>\n",
       "      <td>Software Engineer</td>\n",
       "      <td>Jin Technologies Private Limited · Islamabad, ...</td>\n",
       "      <td>Full-time</td>\n",
       "      <td>https://www.linkedin.com/jobs/view/3727035963</td>\n",
       "      <td>51-200 employees</td>\n",
       "      <td>3727035963</td>\n",
       "      <td>https://www.linkedin.com/jobs/view/3727035963</td>\n",
       "      <td>About the job\\n            \\n\\n \\nFor our offi...</td>\n",
       "      <td>IT Services and IT Consulting\\n            \\n ...</td>\n",
       "      <td>Jin Technologies Private Limited</td>\n",
       "      <td>Islamabad</td>\n",
       "      <td>Islamabad, Islāmābād, Pakistan</td>\n",
       "      <td>Hybrid</td>\n",
       "      <td>51</td>\n",
       "      <td>1 week ago</td>\n",
       "      <td>1</td>\n",
       "      <td>Full-time</td>\n",
       "      <td>Not specified</td>\n",
       "      <td>51-200 employees</td>\n",
       "      <td>Not specified</td>\n",
       "    </tr>\n",
       "    <tr>\n",
       "      <th>1</th>\n",
       "      <td>Software Engineer - Product Operation</td>\n",
       "      <td>i2c Inc. · Lahore, Punjab, Pakistan (On-site) ...</td>\n",
       "      <td>Full-time</td>\n",
       "      <td>https://www.linkedin.com/jobs/view/3727020559</td>\n",
       "      <td>1,001-5,000 employees</td>\n",
       "      <td>3727020559</td>\n",
       "      <td>https://www.linkedin.com/jobs/view/3727020559</td>\n",
       "      <td>About the job\\n            \\n\\n \\ni2c is looki...</td>\n",
       "      <td>Financial Services\\n            \\n            ...</td>\n",
       "      <td>i2c Inc.</td>\n",
       "      <td>Lahore</td>\n",
       "      <td>Lahore, Punjab, Pakistan</td>\n",
       "      <td>On-site</td>\n",
       "      <td>NaN</td>\n",
       "      <td>2 weeks ago</td>\n",
       "      <td>1</td>\n",
       "      <td>Full-time</td>\n",
       "      <td>Not specified</td>\n",
       "      <td>1,001-5,000 employees</td>\n",
       "      <td>Not specified</td>\n",
       "    </tr>\n",
       "    <tr>\n",
       "      <th>2</th>\n",
       "      <td>SOFTWARE DEVELOPER</td>\n",
       "      <td>360 TECHNOLOGIES · Islamabad, Islāmābād, Pakis...</td>\n",
       "      <td>Full-time</td>\n",
       "      <td>https://www.linkedin.com/jobs/view/3727057491</td>\n",
       "      <td>51-200 employees</td>\n",
       "      <td>3727057491</td>\n",
       "      <td>https://www.linkedin.com/jobs/view/3727057491</td>\n",
       "      <td>About the job\\n            \\n\\n \\nCompany Desc...</td>\n",
       "      <td>Information Technology &amp; Services\\n           ...</td>\n",
       "      <td>360 TECHNOLOGIES</td>\n",
       "      <td>Islamabad</td>\n",
       "      <td>Islamabad, Islāmābād, Pakistan</td>\n",
       "      <td>On-site</td>\n",
       "      <td>NaN</td>\n",
       "      <td>1 week ago</td>\n",
       "      <td>1</td>\n",
       "      <td>Full-time</td>\n",
       "      <td>Not specified</td>\n",
       "      <td>51-200 employees</td>\n",
       "      <td>Not specified</td>\n",
       "    </tr>\n",
       "    <tr>\n",
       "      <th>3</th>\n",
       "      <td>Software Engineer</td>\n",
       "      <td>Telenor · Islamabad, Islāmābād, Pakistan (On-s...</td>\n",
       "      <td>Full-time · Entry level</td>\n",
       "      <td>https://www.linkedin.com/jobs/view/3723693959</td>\n",
       "      <td>10,001+ employees · Telecommunications</td>\n",
       "      <td>3723693959</td>\n",
       "      <td>https://www.linkedin.com/jobs/view/3723693959</td>\n",
       "      <td>About the job\\n            \\n\\n \\nLast day to ...</td>\n",
       "      <td>Telecommunications\\n            \\n            ...</td>\n",
       "      <td>Telenor</td>\n",
       "      <td>Islamabad</td>\n",
       "      <td>Islamabad, Islāmābād, Pakistan</td>\n",
       "      <td>On-site</td>\n",
       "      <td>NaN</td>\n",
       "      <td>2 weeks ago</td>\n",
       "      <td>2</td>\n",
       "      <td>Full-time</td>\n",
       "      <td>Entry level</td>\n",
       "      <td>10,001+ employees</td>\n",
       "      <td>Telecommunications</td>\n",
       "    </tr>\n",
       "    <tr>\n",
       "      <th>4</th>\n",
       "      <td>Software Quality Assurance Engineer</td>\n",
       "      <td>Brickclay · Faisalabad, Punjab, Pakistan (On-s...</td>\n",
       "      <td>Full-time</td>\n",
       "      <td>https://www.linkedin.com/jobs/view/3727007394</td>\n",
       "      <td>51-200 employees</td>\n",
       "      <td>3727007394</td>\n",
       "      <td>https://www.linkedin.com/jobs/view/3727007394</td>\n",
       "      <td>About the job\\n            \\n\\n \\nRoles and Re...</td>\n",
       "      <td>Information Technology &amp; Services\\n           ...</td>\n",
       "      <td>Brickclay</td>\n",
       "      <td>Faisalabad</td>\n",
       "      <td>Faisalabad, Punjab, Pakistan</td>\n",
       "      <td>On-site</td>\n",
       "      <td>NaN</td>\n",
       "      <td>2 weeks ago</td>\n",
       "      <td>1</td>\n",
       "      <td>Full-time</td>\n",
       "      <td>Not specified</td>\n",
       "      <td>51-200 employees</td>\n",
       "      <td>Not specified</td>\n",
       "    </tr>\n",
       "    <tr>\n",
       "      <th>...</th>\n",
       "      <td>...</td>\n",
       "      <td>...</td>\n",
       "      <td>...</td>\n",
       "      <td>...</td>\n",
       "      <td>...</td>\n",
       "      <td>...</td>\n",
       "      <td>...</td>\n",
       "      <td>...</td>\n",
       "      <td>...</td>\n",
       "      <td>...</td>\n",
       "      <td>...</td>\n",
       "      <td>...</td>\n",
       "      <td>...</td>\n",
       "      <td>...</td>\n",
       "      <td>...</td>\n",
       "      <td>...</td>\n",
       "      <td>...</td>\n",
       "      <td>...</td>\n",
       "      <td>...</td>\n",
       "      <td>...</td>\n",
       "    </tr>\n",
       "    <tr>\n",
       "      <th>728</th>\n",
       "      <td>Lead Software Engineer, Trilogy (Remote) - $10...</td>\n",
       "      <td>Crossover  · Lahore, Punjab, Pakistan Reposted...</td>\n",
       "      <td>Remote\\n\\n \\nFull-time\\n\\n \\nMid-Senior level</td>\n",
       "      <td>https://www.linkedin.com/jobs/view/3766612589</td>\n",
       "      <td>5,001-10,000 employees · IT Services and IT Co...</td>\n",
       "      <td>3766612589</td>\n",
       "      <td>https://www.linkedin.com/jobs/view/3766612589</td>\n",
       "      <td>About the job\\n            \\n \\nCrossover is t...</td>\n",
       "      <td>IT Services and IT Consulting\\n            \\n ...</td>\n",
       "      <td>Crossover</td>\n",
       "      <td>Lahore</td>\n",
       "      <td>Lahore, Punjab, Pakistan Reposted  \\n6 days a...</td>\n",
       "      <td>Remote</td>\n",
       "      <td>19</td>\n",
       "      <td>6 days ago</td>\n",
       "      <td>3</td>\n",
       "      <td>Full-time</td>\n",
       "      <td>Mid-Senior level</td>\n",
       "      <td>5,001-10,000 employees</td>\n",
       "      <td>IT Services and IT Consulting</td>\n",
       "    </tr>\n",
       "    <tr>\n",
       "      <th>729</th>\n",
       "      <td>Senior C++ Software Engineer, GFI Software (Re...</td>\n",
       "      <td>Crossover  · Lahore, Punjab, Pakistan Reposted...</td>\n",
       "      <td>Remote\\n\\n \\nFull-time\\n\\n \\nMid-Senior level</td>\n",
       "      <td>https://www.linkedin.com/jobs/view/3766356253</td>\n",
       "      <td>5,001-10,000 employees · IT Services and IT Co...</td>\n",
       "      <td>3766356253</td>\n",
       "      <td>https://www.linkedin.com/jobs/view/3766356253</td>\n",
       "      <td>About the job</td>\n",
       "      <td>NaN</td>\n",
       "      <td>Crossover</td>\n",
       "      <td>Lahore</td>\n",
       "      <td>Lahore, Punjab, Pakistan Reposted  \\n6 days a...</td>\n",
       "      <td>Remote</td>\n",
       "      <td>11</td>\n",
       "      <td>6 days ago</td>\n",
       "      <td>3</td>\n",
       "      <td>Full-time</td>\n",
       "      <td>Mid-Senior level</td>\n",
       "      <td>5,001-10,000 employees</td>\n",
       "      <td>IT Services and IT Consulting</td>\n",
       "    </tr>\n",
       "    <tr>\n",
       "      <th>730</th>\n",
       "      <td>QA Engineer</td>\n",
       "      <td>NewRich Network · Lahore, Punjab, Pakistan  \\n...</td>\n",
       "      <td>Remote\\n\\n \\nFull-time\\n\\n \\nEntry level</td>\n",
       "      <td>https://www.linkedin.com/jobs/view/3772083919</td>\n",
       "      <td>11-50 employees · Online Audio and Video Media</td>\n",
       "      <td>3772083919</td>\n",
       "      <td>https://www.linkedin.com/jobs/view/3772083919</td>\n",
       "      <td>About the job\\n            \\n \\nWe are a compa...</td>\n",
       "      <td>Online Audio and Video Media\\n            \\n  ...</td>\n",
       "      <td>NewRich Network</td>\n",
       "      <td>Lahore</td>\n",
       "      <td>Lahore, Punjab, Pakistan  \\n1 week ago</td>\n",
       "      <td>Remote</td>\n",
       "      <td>NaN</td>\n",
       "      <td>1 week ago</td>\n",
       "      <td>3</td>\n",
       "      <td>Full-time</td>\n",
       "      <td>Entry level</td>\n",
       "      <td>11-50 employees</td>\n",
       "      <td>Online Audio and Video Media</td>\n",
       "    </tr>\n",
       "    <tr>\n",
       "      <th>731</th>\n",
       "      <td>Principal Software Engineer, IgniteTech (Remot...</td>\n",
       "      <td>Crossover  · Karāchi, Sindh, Pakistan Reposted...</td>\n",
       "      <td>Remote\\n\\n \\nFull-time\\n\\n \\nMid-Senior level</td>\n",
       "      <td>https://www.linkedin.com/jobs/view/3766351795</td>\n",
       "      <td>5,001-10,000 employees · IT Services and IT Co...</td>\n",
       "      <td>3766351795</td>\n",
       "      <td>https://www.linkedin.com/jobs/view/3766351795</td>\n",
       "      <td>About the job\\n            \\n \\nCrossover is t...</td>\n",
       "      <td>IT Services and IT Consulting\\n            \\n ...</td>\n",
       "      <td>Crossover</td>\n",
       "      <td>Karāchi</td>\n",
       "      <td>Karāchi, Sindh, Pakistan Reposted  \\n6 days a...</td>\n",
       "      <td>Remote</td>\n",
       "      <td>19</td>\n",
       "      <td>6 days ago</td>\n",
       "      <td>3</td>\n",
       "      <td>Full-time</td>\n",
       "      <td>Mid-Senior level</td>\n",
       "      <td>5,001-10,000 employees</td>\n",
       "      <td>IT Services and IT Consulting</td>\n",
       "    </tr>\n",
       "    <tr>\n",
       "      <th>732</th>\n",
       "      <td>Software Development Support Engineer (L2 &amp; L3)</td>\n",
       "      <td>the ENTERTAINER · Lahore, Punjab, Pakistan  \\n...</td>\n",
       "      <td>On-site\\n\\n \\nFull-time\\n\\n \\nMid-Senior level</td>\n",
       "      <td>https://www.linkedin.com/jobs/view/3763867444</td>\n",
       "      <td>201-500 employees · Software Development</td>\n",
       "      <td>3763867444</td>\n",
       "      <td>https://www.linkedin.com/jobs/view/3763867444</td>\n",
       "      <td>About the job</td>\n",
       "      <td>NaN</td>\n",
       "      <td>the ENTERTAINER</td>\n",
       "      <td>Lahore</td>\n",
       "      <td>Lahore, Punjab, Pakistan  \\n1 week ago\\n\\n</td>\n",
       "      <td>On-site</td>\n",
       "      <td>25</td>\n",
       "      <td>1 week ago</td>\n",
       "      <td>3</td>\n",
       "      <td>Full-time</td>\n",
       "      <td>Mid-Senior level</td>\n",
       "      <td>201-500 employees</td>\n",
       "      <td>Software Development</td>\n",
       "    </tr>\n",
       "  </tbody>\n",
       "</table>\n",
       "<p>733 rows × 20 columns</p>\n",
       "</div>"
      ],
      "text/plain": [
       "                                             Job Title  \\\n",
       "0                                    Software Engineer   \n",
       "1                Software Engineer - Product Operation   \n",
       "2                                   SOFTWARE DEVELOPER   \n",
       "3                                    Software Engineer   \n",
       "4                  Software Quality Assurance Engineer   \n",
       "..                                                 ...   \n",
       "728  Lead Software Engineer, Trilogy (Remote) - $10...   \n",
       "729  Senior C++ Software Engineer, GFI Software (Re...   \n",
       "730                                        QA Engineer   \n",
       "731  Principal Software Engineer, IgniteTech (Remot...   \n",
       "732    Software Development Support Engineer (L2 & L3)   \n",
       "\n",
       "                                              Job Info  \\\n",
       "0    Jin Technologies Private Limited · Islamabad, ...   \n",
       "1    i2c Inc. · Lahore, Punjab, Pakistan (On-site) ...   \n",
       "2    360 TECHNOLOGIES · Islamabad, Islāmābād, Pakis...   \n",
       "3    Telenor · Islamabad, Islāmābād, Pakistan (On-s...   \n",
       "4    Brickclay · Faisalabad, Punjab, Pakistan (On-s...   \n",
       "..                                                 ...   \n",
       "728  Crossover  · Lahore, Punjab, Pakistan Reposted...   \n",
       "729  Crossover  · Lahore, Punjab, Pakistan Reposted...   \n",
       "730  NewRich Network · Lahore, Punjab, Pakistan  \\n...   \n",
       "731  Crossover  · Karāchi, Sindh, Pakistan Reposted...   \n",
       "732  the ENTERTAINER · Lahore, Punjab, Pakistan  \\n...   \n",
       "\n",
       "                                           Job Type  \\\n",
       "0                                         Full-time   \n",
       "1                                         Full-time   \n",
       "2                                         Full-time   \n",
       "3                           Full-time · Entry level   \n",
       "4                                         Full-time   \n",
       "..                                              ...   \n",
       "728   Remote\\n\\n \\nFull-time\\n\\n \\nMid-Senior level   \n",
       "729   Remote\\n\\n \\nFull-time\\n\\n \\nMid-Senior level   \n",
       "730        Remote\\n\\n \\nFull-time\\n\\n \\nEntry level   \n",
       "731   Remote\\n\\n \\nFull-time\\n\\n \\nMid-Senior level   \n",
       "732  On-site\\n\\n \\nFull-time\\n\\n \\nMid-Senior level   \n",
       "\n",
       "                                        Job Link_x  \\\n",
       "0    https://www.linkedin.com/jobs/view/3727035963   \n",
       "1    https://www.linkedin.com/jobs/view/3727020559   \n",
       "2    https://www.linkedin.com/jobs/view/3727057491   \n",
       "3    https://www.linkedin.com/jobs/view/3723693959   \n",
       "4    https://www.linkedin.com/jobs/view/3727007394   \n",
       "..                                             ...   \n",
       "728  https://www.linkedin.com/jobs/view/3766612589   \n",
       "729  https://www.linkedin.com/jobs/view/3766356253   \n",
       "730  https://www.linkedin.com/jobs/view/3772083919   \n",
       "731  https://www.linkedin.com/jobs/view/3766351795   \n",
       "732  https://www.linkedin.com/jobs/view/3763867444   \n",
       "\n",
       "                                             employees      Job ID  \\\n",
       "0                                     51-200 employees  3727035963   \n",
       "1                                1,001-5,000 employees  3727020559   \n",
       "2                                     51-200 employees  3727057491   \n",
       "3               10,001+ employees · Telecommunications  3723693959   \n",
       "4                                     51-200 employees  3727007394   \n",
       "..                                                 ...         ...   \n",
       "728  5,001-10,000 employees · IT Services and IT Co...  3766612589   \n",
       "729  5,001-10,000 employees · IT Services and IT Co...  3766356253   \n",
       "730     11-50 employees · Online Audio and Video Media  3772083919   \n",
       "731  5,001-10,000 employees · IT Services and IT Co...  3766351795   \n",
       "732           201-500 employees · Software Development  3763867444   \n",
       "\n",
       "                                        Job Link_y  \\\n",
       "0    https://www.linkedin.com/jobs/view/3727035963   \n",
       "1    https://www.linkedin.com/jobs/view/3727020559   \n",
       "2    https://www.linkedin.com/jobs/view/3727057491   \n",
       "3    https://www.linkedin.com/jobs/view/3723693959   \n",
       "4    https://www.linkedin.com/jobs/view/3727007394   \n",
       "..                                             ...   \n",
       "728  https://www.linkedin.com/jobs/view/3766612589   \n",
       "729  https://www.linkedin.com/jobs/view/3766356253   \n",
       "730  https://www.linkedin.com/jobs/view/3772083919   \n",
       "731  https://www.linkedin.com/jobs/view/3766351795   \n",
       "732  https://www.linkedin.com/jobs/view/3763867444   \n",
       "\n",
       "                                        Job Desception  \\\n",
       "0    About the job\\n            \\n\\n \\nFor our offi...   \n",
       "1    About the job\\n            \\n\\n \\ni2c is looki...   \n",
       "2    About the job\\n            \\n\\n \\nCompany Desc...   \n",
       "3    About the job\\n            \\n\\n \\nLast day to ...   \n",
       "4    About the job\\n            \\n\\n \\nRoles and Re...   \n",
       "..                                                 ...   \n",
       "728  About the job\\n            \\n \\nCrossover is t...   \n",
       "729                                      About the job   \n",
       "730  About the job\\n            \\n \\nWe are a compa...   \n",
       "731  About the job\\n            \\n \\nCrossover is t...   \n",
       "732                                      About the job   \n",
       "\n",
       "                                          Company Info  \\\n",
       "0    IT Services and IT Consulting\\n            \\n ...   \n",
       "1    Financial Services\\n            \\n            ...   \n",
       "2    Information Technology & Services\\n           ...   \n",
       "3    Telecommunications\\n            \\n            ...   \n",
       "4    Information Technology & Services\\n           ...   \n",
       "..                                                 ...   \n",
       "728  IT Services and IT Consulting\\n            \\n ...   \n",
       "729                                                NaN   \n",
       "730  Online Audio and Video Media\\n            \\n  ...   \n",
       "731  IT Services and IT Consulting\\n            \\n ...   \n",
       "732                                                NaN   \n",
       "\n",
       "                               company  location_1  \\\n",
       "0    Jin Technologies Private Limited    Islamabad   \n",
       "1                            i2c Inc.       Lahore   \n",
       "2                    360 TECHNOLOGIES    Islamabad   \n",
       "3                             Telenor    Islamabad   \n",
       "4                           Brickclay   Faisalabad   \n",
       "..                                 ...         ...   \n",
       "728                        Crossover        Lahore   \n",
       "729                        Crossover        Lahore   \n",
       "730                   NewRich Network       Lahore   \n",
       "731                        Crossover       Karāchi   \n",
       "732                   the ENTERTAINER       Lahore   \n",
       "\n",
       "                                            location_2 Remote/Onsite  \\\n",
       "0                      Islamabad, Islāmābād, Pakistan         Hybrid   \n",
       "1                            Lahore, Punjab, Pakistan        On-site   \n",
       "2                      Islamabad, Islāmābād, Pakistan        On-site   \n",
       "3                      Islamabad, Islāmābād, Pakistan        On-site   \n",
       "4                        Faisalabad, Punjab, Pakistan        On-site   \n",
       "..                                                 ...           ...   \n",
       "728   Lahore, Punjab, Pakistan Reposted  \\n6 days a...        Remote   \n",
       "729   Lahore, Punjab, Pakistan Reposted  \\n6 days a...        Remote   \n",
       "730             Lahore, Punjab, Pakistan  \\n1 week ago        Remote   \n",
       "731   Karāchi, Sindh, Pakistan Reposted  \\n6 days a...        Remote   \n",
       "732        Lahore, Punjab, Pakistan  \\n1 week ago\\n\\n        On-site   \n",
       "\n",
       "    n_applicant job posting time  Job Type nElements   Job-Type  \\\n",
       "0            51       1 week ago                   1  Full-time   \n",
       "1           NaN      2 weeks ago                   1  Full-time   \n",
       "2           NaN       1 week ago                   1  Full-time   \n",
       "3           NaN      2 weeks ago                   2  Full-time   \n",
       "4           NaN      2 weeks ago                   1  Full-time   \n",
       "..          ...              ...                 ...        ...   \n",
       "728          19       6 days ago                   3  Full-time   \n",
       "729          11       6 days ago                   3  Full-time   \n",
       "730         NaN       1 week ago                   3  Full-time   \n",
       "731          19       6 days ago                   3  Full-time   \n",
       "732          25       1 week ago                   3  Full-time   \n",
       "\n",
       "     Experience Level         Comp_N_Employees                   Comp_Industry  \n",
       "0       Not specified         51-200 employees                   Not specified  \n",
       "1       Not specified    1,001-5,000 employees                   Not specified  \n",
       "2       Not specified         51-200 employees                   Not specified  \n",
       "3         Entry level       10,001+ employees               Telecommunications  \n",
       "4       Not specified         51-200 employees                   Not specified  \n",
       "..                ...                      ...                             ...  \n",
       "728  Mid-Senior level  5,001-10,000 employees    IT Services and IT Consulting  \n",
       "729  Mid-Senior level  5,001-10,000 employees    IT Services and IT Consulting  \n",
       "730       Entry level         11-50 employees     Online Audio and Video Media  \n",
       "731  Mid-Senior level  5,001-10,000 employees    IT Services and IT Consulting  \n",
       "732  Mid-Senior level       201-500 employees             Software Development  \n",
       "\n",
       "[733 rows x 20 columns]"
      ]
     },
     "execution_count": 5,
     "metadata": {},
     "output_type": "execute_result"
    }
   ],
   "source": [
    "df"
   ]
  },
  {
   "cell_type": "code",
   "execution_count": 6,
   "id": "85c02eac-5c3e-4261-955c-edd77875865d",
   "metadata": {},
   "outputs": [
    {
     "data": {
      "text/plain": [
       "(733, 20)"
      ]
     },
     "execution_count": 6,
     "metadata": {},
     "output_type": "execute_result"
    }
   ],
   "source": [
    "df.shape"
   ]
  },
  {
   "cell_type": "code",
   "execution_count": 7,
   "id": "e30630bb-adc4-4f24-9d5e-b989dfc1c765",
   "metadata": {},
   "outputs": [
    {
     "data": {
      "text/plain": [
       "Job Title               0\n",
       "Job Info                0\n",
       "Job Type                0\n",
       "Job Link_x              0\n",
       "employees               0\n",
       "Job ID                  0\n",
       "Job Link_y              0\n",
       "Job Desception          2\n",
       "Company Info          151\n",
       "company                 0\n",
       "location_1              0\n",
       "location_2              0\n",
       "Remote/Onsite           0\n",
       "n_applicant           274\n",
       "job posting time        0\n",
       "Job Type nElements      0\n",
       "Job-Type                0\n",
       "Experience Level        0\n",
       "Comp_N_Employees        0\n",
       "Comp_Industry           0\n",
       "dtype: int64"
      ]
     },
     "execution_count": 7,
     "metadata": {},
     "output_type": "execute_result"
    }
   ],
   "source": [
    "df.isnull().sum()"
   ]
  },
  {
   "cell_type": "markdown",
   "id": "979c2c82-9715-434d-9675-d85dea728773",
   "metadata": {},
   "source": [
    "### exploring features ony by one"
   ]
  },
  {
   "cell_type": "code",
   "execution_count": 8,
   "id": "bb661eca-89c7-4f5f-8a8d-8569de19d3c3",
   "metadata": {},
   "outputs": [
    {
     "data": {
      "text/plain": [
       "array(['Software Engineer', 'Software Engineer - Product Operation',\n",
       "       'SOFTWARE DEVELOPER', 'Software Quality Assurance Engineer',\n",
       "       'Senior Software Engineer', 'Software Engineer-Integration',\n",
       "       'AI-Augmented Software Developer, Trilogy (Remote) - $200,000/year USD',\n",
       "       'Senior Software Quality Assurance Engineer',\n",
       "       'Software Development Engineer in Test (SDET)',\n",
       "       'Software Developer', 'Software Engineer - Marketing Platform',\n",
       "       'Senior QA Engineer',\n",
       "       'Senior Software Development Project Manager',\n",
       "       'Software Quality Assurance Analyst',\n",
       "       'Software Architect Lead Developer',\n",
       "       'Software Engineer (.Net/MVC)', 'Principal Software Engineer',\n",
       "       'Senior Software Engineer (.NET/ React Js)',\n",
       "       'Principal Software Engineer Full Stack PHP',\n",
       "       'Senior Java Software Engineer',\n",
       "       'Team Lead IT Software Development (m/f/d)',\n",
       "       'AI-Augmented Software Developer, Skyvera (Remote) - $200,000/year USD',\n",
       "       'Embedded Software Engineer',\n",
       "       'Principal Software Engineer (khi/lhr/Isl)',\n",
       "       'Software Engineer, Skyvera (Remote) - $200,000/year USD',\n",
       "       'Software/Application Developer', 'Software Engineer (React js)',\n",
       "       'Software Development Engineer, Trilogy (Remote) - $100,000/year USD',\n",
       "       'Hybrid QA for financial software',\n",
       "       'Software Engineer with AI Tooling Expertise, Skyvera (Remote) - $200,000/year USD',\n",
       "       'Senior Software Engineering Manager',\n",
       "       'Senior Software Engineer - Node',\n",
       "       'Senior C++ Software Engineer, Trilogy (Remote) - $200,000/year USD',\n",
       "       'Lead Software Engineer', 'Java Software Engineer',\n",
       "       'Software Engineer II- Android',\n",
       "       'Sr. Software Engineer - OpenSIPS', 'C++ Software Engineer II',\n",
       "       'Senior Software Developer', 'Software Engineer - Angular',\n",
       "       'SQA Engineer', 'Senior C++ Software Engineer',\n",
       "       'Software Development Engineer',\n",
       "       '🚀 Seeking a Talented Angular Software Developer to Join Our Startup Team!',\n",
       "       'Software Development Team Leader', 'ODOO Software Developer',\n",
       "       'Software Engineer - iOS', 'Senior SQA Engineer - Automation',\n",
       "       'Principal Software Quality Assurance Engineer',\n",
       "       'SQA Engineer - Mobile', 'Front-End Software Engineer',\n",
       "       'Senior Principal Software Engineer, Trilogy (Remote) - $100,000/year USD',\n",
       "       'Software Engineer (AI-Powered Development), Trilogy (Remote) - $200,000/year USD',\n",
       "       'Senior Software Architect, Trilogy (Remote) - $100,000/year USD',\n",
       "       'Chief Software Architect, gt.school (Remote) - $200,000/year USD',\n",
       "       'Lead Software Engineer, Trilogy (Remote) - $100,000/year USD',\n",
       "       'Senior Software Engineer, Trilogy (Remote) - $200,000/year USD',\n",
       "       'Principal Software Engineer, Trilogy (Remote) - $100,000/year USD',\n",
       "       'Principal Software Architect, gt.school (Remote) - $200,000/year USD',\n",
       "       'Principal Software Engineer, GFI Software (Remote) - $100,000/year USD',\n",
       "       'Principal Software Engineer, gt.school (Remote) - $100,000/year USD',\n",
       "       'Senior Software Engineer, Trilogy (Remote) - $100,000/year USD',\n",
       "       'Lead Software Engineer, gt.school (Remote) - $200,000/year USD',\n",
       "       'Senior Software Engineer IV',\n",
       "       'Senior Software Engineer - Flutter', 'Senior SQA Engineer',\n",
       "       'Senior Software Engineer (Backend)', 'SQA',\n",
       "       'Senior C++ Software Engineer, GFI Software (Remote) - $100,000/year USD',\n",
       "       'Security Software Engineer - Blockchain / Web3',\n",
       "       'Software Engineer- Mobile (Android)', 'Software Engineer, QA',\n",
       "       'Software Engineer Frontend', 'Lead Software Engineer - React JS',\n",
       "       'Senior Software Engineer - Ruby on Rails',\n",
       "       'Associate Software Architect', 'Associate SQA Engineer',\n",
       "       'Junior Software Quality Assurance Engineer',\n",
       "       'Software Project Manager', 'Sr.SQA Engineer',\n",
       "       'Software Architect', 'Hybrid QA for financial software 2',\n",
       "       'SQA Engineer (Team Lead)', 'C# .NET Software Engineer',\n",
       "       'Principal Software Engineer, gt.school (Remote) - $200,000/year USD',\n",
       "       'Head of Software Engineering (Python)',\n",
       "       'Software Engineer - Blockchain / Web3 - APAC',\n",
       "       'Senior Software Engineer (.Net)',\n",
       "       'Java / Angular Software Developer - +3 years - Contractor in USD',\n",
       "       'Software Delivery Engineer', 'QA Engineer',\n",
       "       'Software Engineering Manager',\n",
       "       'Senior Back-End Software Engineer',\n",
       "       'Senior Android Software Engineer', 'QA Engineer - Manual',\n",
       "       'Software Engineer - React Native',\n",
       "       'Principal Software Engineer - Ruby on Rails',\n",
       "       'Principle Software Engineer (Frontend)',\n",
       "       'Software Engineer III-Django', 'QA Engineer - Mobile',\n",
       "       'Software Architect - Python',\n",
       "       'Software Quality Assurance Manager',\n",
       "       'Sr. Software Engineer (.NET)', 'System Software Engineer',\n",
       "       'Software Engineering Manager, Trilogy (Remote) - $100,000/year USD',\n",
       "       'Software Architect, gt.school (Remote) - $100,000/year USD',\n",
       "       'Sr. SQAE Automation', 'Senior Software Engineer (Fullstack)',\n",
       "       'Full Stack Lead Software Engineer', 'SQA Analyst',\n",
       "       'Software Quality Assurance (Manual) - Pakistan',\n",
       "       'Senior Software Engineer - Java Spring Boot (4-7 years)',\n",
       "       'Software Engineer - .NET & C#',\n",
       "       'Cybersecurity Software Developer',\n",
       "       'Senior Software Engineer/Fullstack',\n",
       "       'Senior Software Development Engineer in Test - Data Analytics',\n",
       "       'Software Developer in Test', 'Quality Assurance (QA) Specialist',\n",
       "       'Principal Software Engineer (Backend)',\n",
       "       'Software Development  Manager',\n",
       "       'Senior Software Engineer Team Lead', 'Software Test Engineer',\n",
       "       'Remote Software Job | Software Development And Design',\n",
       "       'Senior Software Engineer (AI/Infra)',\n",
       "       'Software Architect (JAVA MVC Springboot)',\n",
       "       'Senior Software Engineer (Vue.js)', 'PS Software Engineer',\n",
       "       'Sr. SQA Automation Engineer', 'Software Engineer (Full Stack)',\n",
       "       'Senior Software Engineering Manager, Trilogy (Remote) - $100,000/year USD',\n",
       "       'Mobile Apps (Xamarin) - Software Developer',\n",
       "       'Software Engineer .Net & iOS',\n",
       "       'Senior Software Engineer - .NET (6-months contract)',\n",
       "       'Senior Software Engineer (GoLang)',\n",
       "       'Senior Software Engineer - Backend Developer',\n",
       "       'Staff Software Engineer', 'Senior Software Engineer - UI',\n",
       "       'Senior Software Engineer - Angular', 'Fintech Software Developer',\n",
       "       'Software Support Manager',\n",
       "       'Software Architect, Trilogy (Remote) - $100,000/year USD',\n",
       "       'Software Engineer [iOS]', 'Software Engineer- MEAN',\n",
       "       'Senior Software Developer-  Angular', 'Software Engineer II',\n",
       "       'Senior Software Development Engineer Test',\n",
       "       'Software Engineer - ROR', 'Software Engineer (m/f/d)',\n",
       "       'Trainee Software Developer', 'Software Engineer (.Net/React)',\n",
       "       'Software Engineer (Front End)', 'SQA Manager/ Team Lead SQA',\n",
       "       'Full Stack Software Engineer',\n",
       "       'Intermediate Software Developer(winForms/WPF)',\n",
       "       'Senior Software Engineer/CRM',\n",
       "       'Senior Software Engineer - Angular (H-216)',\n",
       "       'Junior Software Engineer', 'Junior SQA Analyst',\n",
       "       'Senior Software Engineer - iOS', 'QA Automation Engineer II',\n",
       "       'Senior Software Engineer (PHP)', 'Software Engineer - Front End',\n",
       "       'Specialist Software Engineer',\n",
       "       'Software Engineer - Node (H-218-01)',\n",
       "       'Employee Service Executive - Port Qasim (H-164)',\n",
       "       'Senior Software Engineer - Back-End',\n",
       "       'Principal Software Engineer - Front End',\n",
       "       'Senior Software Engineer - React',\n",
       "       'Senior Software Engineer - .NET',\n",
       "       'WordPress/PHP (Back-end) Software Engineer',\n",
       "       'Software Engineer (.Net/React Js)',\n",
       "       'Senior Software Quality Assurance (Test Automation) - Pakistan',\n",
       "       'Software Development Manager',\n",
       "       'AI Software Quality Assurance Engineer', 'QA Automation Engineer',\n",
       "       'Software Engineer - JAVA', 'Associate Software Engineer',\n",
       "       'Phone Messaging Apps Urdu (Pakistan) Language QA Reviewer',\n",
       "       'Sr Software Engineer (EHR Integration Specialist)',\n",
       "       'Product Specialist - Software Solutions (Microsoft, Symantec, ESET)',\n",
       "       'Software Quality Assurance Engineer(Automation + Manual)',\n",
       "       'Software Services Lead',\n",
       "       'Principal/ Staff Software Engineer - NodeJS+NestJS+AWS (Afternoon Shift)',\n",
       "       'Sr. Software Quality Assurance Engineer',\n",
       "       'Software Project Coordinator', 'Software Engineer - WordPress',\n",
       "       'Senior Software Quality Assurance Specialist',\n",
       "       'Back End Software Engineer',\n",
       "       'Javascript (React/Node) Software Developer (Pakistan)',\n",
       "       'SQA Automation Engineer', 'SQA Automation Analyst',\n",
       "       'Software Development Manager JAVA',\n",
       "       'Software Development Project Manager and Recruitment Officer',\n",
       "       'Senior Software Engineer - Laravel', 'Software Document Writer',\n",
       "       'Software Engineer (.net stack)', 'Head of Software Engineering',\n",
       "       'SDDC Consultant (Software-Defined Data Center)',\n",
       "       'Senior Software Tester - QA - Onsite role - NIGHT SHIFT',\n",
       "       'Software Engineering Team Lead (with web3 experience)',\n",
       "       'Senior Software Engineer .Net Core', 'Lead Software Architect',\n",
       "       'Software Solutions Architect',\n",
       "       'Junior Software Engineer, Trilogy (Remote) - $60,000/year USD',\n",
       "       'Principal Software Engineer .Net+Angular',\n",
       "       'Software Development Engineer, Trilogy (Remote) - $60,000/year USD',\n",
       "       'Specialist ERP & Software Development',\n",
       "       'Software Engineer .NET - .NET to CRM',\n",
       "       'Software Developer, Skyvera (Remote) - $30,000/year USD',\n",
       "       'Full Stack Developer (Software Engineer, MEAN/MERN)',\n",
       "       'Hardware/Software Tester',\n",
       "       'Software Architect, IgniteTech (Remote) - $100,000/year USD',\n",
       "       'Lead Software Engineer, IgniteTech (Remote) - $100,000/year USD',\n",
       "       'Senior Principal Software Engineer, IgniteTech (Remote) - $100,000/year USD',\n",
       "       'Senior Software Engineer - WordPress & PHP Project',\n",
       "       'Senior Software Engineer C++',\n",
       "       'Software Engineering Manager, IgniteTech (Remote) - $100,000/year USD',\n",
       "       'Principal Software Engineer, IgniteTech (Remote) - $100,000/year USD',\n",
       "       'Hybrid QA for financial software 3', 'Software Engineer-iOS',\n",
       "       'Senior Software Engineer - Big Data',\n",
       "       'Lead Software Quality Assurance Engineer', 'Junior QA Analyst',\n",
       "       'Senior Software Engineer - Team Lead',\n",
       "       'Sr. Software Engineer-Team Lead', 'Software Engineer Team Lead',\n",
       "       'Crypto QA Automation Engineer Intern (Pakistan-Remote)',\n",
       "       'Senior Software Engineer PHP',\n",
       "       'Software Development Specialist, Skyvera (Remote) - $30,000/year USD',\n",
       "       'Mid Level Software Developer',\n",
       "       'QA Engineer – Insights and Analytics',\n",
       "       'Software Quality Assurance (SQA) Engineer',\n",
       "       'QA Engineer (Salesforce - CRM)',\n",
       "       'Principal Software Engineer - iOS', 'Software Trainee Engineer',\n",
       "       'Project Manager Software Development',\n",
       "       'Junior Software Engineer, Skyvera (Remote) - $30,000/year USD',\n",
       "       'Software Engineer II - Backend', 'Data Tester / BI QA',\n",
       "       'Hybrid QA for financial software 4',\n",
       "       'Senior Software Engineer (Back-End)', 'Software Engineer (.Net)',\n",
       "       'Senior Software Engineer - React Native',\n",
       "       'Expert Software Engineer',\n",
       "       'Senior Software Engineer (GoLang, PHP)',\n",
       "       'Senior Software Engineer (.NET)',\n",
       "       'Sr. Software Engineer Mobile(React Native)',\n",
       "       'Head of AI-driven Software Development, Trilogy (Remote) - $400,000/year USD',\n",
       "       '.NET / Azure Cloud Expert Software Engineer - Full Remote - Contractor in USD',\n",
       "       'Deputy Manager Software Development',\n",
       "       'Head of Software Development (AI-Enhanced Processes), Trilogy (Remote) - $400,000/year USD',\n",
       "       'Software Engineer, Trilogy (Remote) - $60,000/year USD',\n",
       "       'Senior SQA Automation Engineer', 'ORACLE SOFTWARE DEVELOPER',\n",
       "       'Principal Software Engineer - Android',\n",
       "       'Senior Software Engineer, GFI Software (Remote) - $100,000/year USD',\n",
       "       'Software Engineer - Node.js',\n",
       "       'Software Developer (Laravel/PHP/JS)',\n",
       "       'Senior Software Engineer - .Net Core',\n",
       "       'Pre-Sales Software Engineer', 'Sr Software Engineer (MERN+AWS)',\n",
       "       'Senior Software Engineer (PHP, GoLang)',\n",
       "       'Senior Software Development Engineer in Quality Engineering',\n",
       "       'Sr. Software Engineer - UI', 'Software Engineer Intern',\n",
       "       'Software Support Engineer - L2', 'Software Developer - Java',\n",
       "       'Software Engineer (PHP)', 'Software Quality Assurance Specialist',\n",
       "       'Software Engineer - Laravel',\n",
       "       'Senior QA Analyst - Web Development - Contractor in USD',\n",
       "       'Senior Lead Software Engineer, Trilogy (Remote) - $100,000/year USD',\n",
       "       'Director of AI - Enhanced Software Development, Trilogy (Remote) - $400,000/year USD',\n",
       "       'Team Lead IT Software Development (m/f/d) - 100% remote',\n",
       "       'Sr SQA Engineer (On-Site)', 'Software Engineer, DevOps',\n",
       "       'Software Architect (.NET) - Onsite (Lahore)',\n",
       "       'Software Support Engineer, IgniteTech (Remote) - $60,000/year USD',\n",
       "       'QA Software Automation Engineer',\n",
       "       'Principal Software Engineer - Frontend', 'Senior Manager QA',\n",
       "       'QA Test Automation Engineer',\n",
       "       'Senior Software Engineer - Android',\n",
       "       'Senior Software Engineer - IOS',\n",
       "       'Senior Engineering Manager, GFI Software (Remote) - $100,000/year USD',\n",
       "       'Program Officer - SBCC - Qadam Ba Qadam Project',\n",
       "       'Regional SQA Analyst',\n",
       "       'Principal Software Engineer – Microsoft Dynamics CRM',\n",
       "       'Senior Software Engineer – Microsoft Dynamics CRM',\n",
       "       'Staff Software Engineer, Trilogy (Remote) - $200,000/year USD',\n",
       "       'Software Engineering Manager, GFI Software (Remote) - $100,000/year USD',\n",
       "       'Senior Software Engineer (Laravel & 3rd party Integrations)',\n",
       "       'Senior Software Engineer - .NET+Angular',\n",
       "       'Senior Software Architect, Trilogy (Remote) - $200,000/year USD',\n",
       "       'Senior Software Engineer - React JS',\n",
       "       'Lead Software Engineer, Trilogy (Remote) - $200,000/year USD',\n",
       "       'Fellow of GenAI Software Excellence, Trilogy (Remote) - $400,000/year USD',\n",
       "       'Jr. Software Quality Assurance Engineer',\n",
       "       'Frontend Software Developer', 'Software Engineer SQA',\n",
       "       'Senior Software Engineer - SharePoint',\n",
       "       'Software Engineer_Node JS', 'Pre-Sales Software',\n",
       "       'Software Development Support Engineer (L2 & L3)'], dtype=object)"
      ]
     },
     "execution_count": 8,
     "metadata": {},
     "output_type": "execute_result"
    }
   ],
   "source": [
    "df['Job Title'].unique()\t"
   ]
  },
  {
   "cell_type": "code",
   "execution_count": 33,
   "id": "547c53ea-8c93-40b1-bdc7-02565ac0c928",
   "metadata": {},
   "outputs": [
    {
     "data": {
      "text/plain": [
       "304"
      ]
     },
     "execution_count": 33,
     "metadata": {},
     "output_type": "execute_result"
    }
   ],
   "source": [
    "len(df['Job Title'].unique())"
   ]
  },
  {
   "cell_type": "code",
   "execution_count": 34,
   "id": "c4b03fcb-6626-483c-9f5b-82814b41c880",
   "metadata": {},
   "outputs": [
    {
     "data": {
      "text/plain": [
       "Job Title\n",
       "Software Engineer                                                                             56\n",
       "Senior Software Engineer                                                                      45\n",
       "Lead Software Engineer, Trilogy (Remote) - $100,000/year USD                                  26\n",
       "Senior Software Engineer, Trilogy (Remote) - $100,000/year USD                                25\n",
       "Software Engineering Manager, Trilogy (Remote) - $100,000/year USD                            15\n",
       "Software Development Engineer, Trilogy (Remote) - $100,000/year USD                           11\n",
       "Senior Software Architect, Trilogy (Remote) - $100,000/year USD                               11\n",
       "Software Developer                                                                            11\n",
       "Senior Software Engineering Manager, Trilogy (Remote) - $100,000/year USD                     10\n",
       "Software Engineer (AI-Powered Development), Trilogy (Remote) - $200,000/year USD              10\n",
       "Software Quality Assurance Engineer                                                           10\n",
       "Software Engineering Manager                                                                   9\n",
       "Senior C++ Software Engineer, GFI Software (Remote) - $100,000/year USD                        9\n",
       "Principal Software Engineer, IgniteTech (Remote) - $100,000/year USD                           8\n",
       "Senior Software Engineer (PHP)                                                                 8\n",
       "Senior Principal Software Engineer, Trilogy (Remote) - $100,000/year USD                       8\n",
       "AI-Augmented Software Developer, Trilogy (Remote) - $200,000/year USD                          8\n",
       "Software Development Engineer, Trilogy (Remote) - $60,000/year USD                             7\n",
       "Principal Software Engineer, Trilogy (Remote) - $100,000/year USD                              7\n",
       "Embedded Software Engineer                                                                     7\n",
       "Lead Software Engineer, Trilogy (Remote) - $200,000/year USD                                   7\n",
       "Java Software Engineer                                                                         7\n",
       "Principal Software Engineer                                                                    6\n",
       "Senior Software Engineer (GoLang)                                                              6\n",
       "Software Architect, Trilogy (Remote) - $100,000/year USD                                       5\n",
       "Senior Java Software Engineer                                                                  5\n",
       "Head of Software Development (AI-Enhanced Processes), Trilogy (Remote) - $400,000/year USD     5\n",
       "Senior Software Engineer - Backend Developer                                                   5\n",
       "Senior Software Engineer (PHP, GoLang)                                                         5\n",
       "Senior Lead Software Engineer, Trilogy (Remote) - $100,000/year USD                            5\n",
       "Name: count, dtype: int64"
      ]
     },
     "execution_count": 34,
     "metadata": {},
     "output_type": "execute_result"
    }
   ],
   "source": [
    "df['Job Title'].value_counts()[:30]"
   ]
  },
  {
   "cell_type": "code",
   "execution_count": 35,
   "id": "a7c9a9dc-444d-4cd9-8c21-990488d486b3",
   "metadata": {},
   "outputs": [
    {
     "data": {
      "text/plain": [
       "0      Jin Technologies Private Limited \n",
       "1                              i2c Inc. \n",
       "2                      360 TECHNOLOGIES \n",
       "3                               Telenor \n",
       "4                             Brickclay \n",
       "                     ...                \n",
       "728                          Crossover  \n",
       "729                          Crossover  \n",
       "730                     NewRich Network \n",
       "731                          Crossover  \n",
       "732                     the ENTERTAINER \n",
       "Name: company, Length: 733, dtype: object"
      ]
     },
     "execution_count": 35,
     "metadata": {},
     "output_type": "execute_result"
    }
   ],
   "source": [
    "df['company']"
   ]
  },
  {
   "cell_type": "code",
   "execution_count": 36,
   "id": "ed95383a-cf5b-4142-9d1e-ccaabf259150",
   "metadata": {},
   "outputs": [
    {
     "data": {
      "text/plain": [
       "array(['Jin Technologies Private Limited ', 'i2c Inc. ',\n",
       "       '360 TECHNOLOGIES ', 'Telenor ', 'Brickclay ', 'Afiniti ',\n",
       "       'DRC Healthcare Pakistan ',\n",
       "       'People (Professional Employers Pvt Ltd) ', 'STARZPLAY ',\n",
       "       'Powersoft19 ', 'Melior ITS ', 'RLTSquare ',\n",
       "       'HR Ways - Hiring Tech Talent ', 'Crossover  ', 'Datics AI ',\n",
       "       'Zones IT Solutions ', 'Bitnine Global Inc. ',\n",
       "       'TELEVISION MEDIA NETWORK ', 'Talentum ', 'Alex Solutions ',\n",
       "       'Staffing Wise ', 'Stewart Pakistan Private Limited ', 'ibex ',\n",
       "       'EZ Wage ', 'DyCoders ', 'TimeXperts Pvt. Ltd. ',\n",
       "       'EU Tech Chamber ', 'Createex ', 'RWR Private Limited ',\n",
       "       'Telenor Microfinance Bank Limited ', 'NKU Technologies ',\n",
       "       'i3RL Private Limited ', 'Turing ', 'Kistpay (Private) Limited ',\n",
       "       'WallSoft Technologies  ', 'Dastgyr ', 'Gelato ',\n",
       "       'RP International ', 'Naseem ', 'Careem ', 'vFairs ',\n",
       "       'S&P Global ', 'Cinergie Digital ', 'Novatore Solutions ',\n",
       "       'Ingenetic Lab ', '4D Magic Software Pvt. Ltd ', 'CRYPTTECH ',\n",
       "       'Weaverbird Group ', 'GfK - An NIQ Company ', 'Dubizzle Labs ',\n",
       "       'DOT LABS ', 'TCP Software ', 'Oak Street Technologies ',\n",
       "       'SSA Soft ', 'Shardeum ', 'Motive ', 'CureMD ', 'Nakisa ',\n",
       "       'Workbox Technologies ', 'iPlexSoft ', 'Codistan Ventures ',\n",
       "       'Qbatch ', 'Kennis Zone Pvt Ltd ', 'Autosphere ', 'Progatix ',\n",
       "       'SynetecHQ ', 'Netshine ', 'Haball ', 'Alethea AI ', 'Mentoga ',\n",
       "       'All European Careers ', 'CadreSpace ', 'Auriga Solutions ',\n",
       "       'Techruiters ', 'Avrioc Technologies ', 'Flipdish ', 'Oraan ',\n",
       "       'Educative, Inc. ', 'NymCard ', 'Enxsys ', 'Zortik Technologies ',\n",
       "       'Kualitatem Inc. ', 'Touchstone Communications ',\n",
       "       'Service Sales Corporation (Pvt.) Limited ', 'GBM ',\n",
       "       'onecontact TECH ', 'Contour Software ', 'Xpert Direct ',\n",
       "       'Bayut.com ', 'Shark Innovation Labs ', 'TEKenable Ltd ',\n",
       "       'Big Futur Tech ', 'Calrom ', 'GRT ', 'CodeNinja Inc. ',\n",
       "       'giant group ', 'Bellatrix Technologies ', '7CTECH ',\n",
       "       'Tree Top Staffing LLC ', 'LN Technologies ',\n",
       "       'FutureNow Technologies ', 'ESketchers ', 'Careerinfo360 ',\n",
       "       'Code Builderz ', 'Lemon Tree Consulting Pakistan ',\n",
       "       'NorthBay - Pakistan ', 'SolutionInn ', 'NCR Corporation ',\n",
       "       'SwipBox ', 'Kodifly ', 'TekRevol ', 'BreakThru ', 'Tkxel ',\n",
       "       'Creative Chaos ', 'AdMaxim Inc. ', 'FORMULATRIX ',\n",
       "       'AMFCO International ', 'Atompoint ', 'Snow Dream Studios ',\n",
       "       'PixelEdge ', 'Viqar Hussain ', 'VeriPark ',\n",
       "       'MAK GLOBAL PAYMENT SOLUTIONS ', 'eSpark Consulting Group ',\n",
       "       'LedgerMax ', 'Office Field ', 'Hul Hub Pakistan ',\n",
       "       'Ubiquify Digital ', 'Devsinc ', 'Elixir Technologies ',\n",
       "       'Content Arcade ', 'Vyro ', 'FetchSky ', '3reetech ',\n",
       "       'Pakistan MNP Database (Guarantee) Limited ',\n",
       "       'Unikrew Solutions (Private) Limited ', 'Code Hub Systems ',\n",
       "       'Abiya Tech ', 'Muttii Group ', 'Jazz ', 'AmentoTech PVT LTD ',\n",
       "       'AlphaBOLD ', 'NexaQuanta ', 'Zedfour Technologies ',\n",
       "       'Manafa Technologies ', 'Innovadel Technologies Limited ',\n",
       "       'Focusteck ', 'Paysys Labs ', 'Consolices ', 'Welocalize ',\n",
       "       'Radius XR ', 'Silicon Technologies ', 'Murkez Technologies ',\n",
       "       'Cedrus Group (Pvt) Ltd.  ', '10Pearls ', 'A1Strategez ',\n",
       "       'SeeBiz PVT LTD ', 'Global Rescue ', 'ExpertsCloud ', 'Paismo HR ',\n",
       "       'TenX  ', 'WebFX ', 'Avanza Solutions ', 'PrideLogic ', 'Shobbak ',\n",
       "       'Pixako Technologies (Pvt.) Ltd ',\n",
       "       'Ilaaj Technologies (Pvt) Limited ', 'MicroSysX ', 'CricksLab ',\n",
       "       'Goally Lahore (Pvt) Ltd. ', 'Get Licensed ',\n",
       "       'Khazana Enterprise ', 'The Kalculators ', 'Pop Social ',\n",
       "       'iTack Solutions ', 'Finclude ', 'Consforc ', 'Nayatel ',\n",
       "       'Dawlance ', 'Sofy ', 'Phaedra Solutions ', 'PLC Group ',\n",
       "       'APRA Global ', 'YetiTech Limited ', 'Sensey ', 'VentureDive ',\n",
       "       'eZhire ', 'Pacsquare Technologies ', 'Stackaxiom ', 'DIGITAGS ',\n",
       "       'WADIC ', 'CoderzHunt ', 'Aceners ', 'Better Recruitment ',\n",
       "       'Invision Marketing Services ', 'Token Metrics ',\n",
       "       'RightSolution.net ', 'QTECX Solutions ', 'Talent Zenith ',\n",
       "       'Lingopal ', 'EcoEdge AI ', 'Vintage hub Wholesale ',\n",
       "       'Ehsaan Technologies ', 'Works ', 'Takaful Bazaar Global Limited ',\n",
       "       'Patronecs ', 'IT22  B.V. ', 'PosterMyWall ',\n",
       "       'SocialPie Technologies ', 'Nearpeer.org ', 'iENGINEERING ',\n",
       "       'GTR Tyre ', 'LAAM ', 'Gaditek ', 'Nimra Textile (Pvt) Ltd. ',\n",
       "       'MWAN Mobile ', 'SAT Japan ', 'Tech Nebula ',\n",
       "       'ArhamSoft (Pvt) Ltd ', 'Omfort (Pvt) Ltd. ', 'servicePath ',\n",
       "       'PureLogics ', 'Pixelpk Technologies ', 'SOFTOO ',\n",
       "       'Logicians Desk ', 'Getz Pharma ', 'Integriti ',\n",
       "       'Funsol Technologies (Pvt). Ltd ', 'Ericsson ', 'Daraz ',\n",
       "       'Supercoder ', 'Self-employed ', 'Huawei ', 'Symmetry Group ',\n",
       "       'Arrivy ', 'EU Tech Chamber (EUTECH) ', 'Loop ',\n",
       "       'InnoSTARK Technologies Pvt. Ltd. ', 'Orbit Cosmos ',\n",
       "       'ZIN Technologies ', 'Conrad Labs ', 'Securiti ',\n",
       "       'Quantum Computing Services ', 'Absolutely Digital ', 'Abbott ',\n",
       "       'Hitachi Digital Services ', 'Intellicode ',\n",
       "       'Pathfinder International ', 'Mob Inspire ', 'WebTech.dev ',\n",
       "       'Hello World Technologies ', 'CareCloud ', 'Nehal & Sons ',\n",
       "       'Riphah International University ', 'Abacus ',\n",
       "       'Job N Job (UK) (US) (CA) (PK) ', 'Grewals Tech Solutions  ',\n",
       "       'NewRich Network ', 'the ENTERTAINER '], dtype=object)"
      ]
     },
     "execution_count": 36,
     "metadata": {},
     "output_type": "execute_result"
    }
   ],
   "source": [
    "df['company'].unique()"
   ]
  },
  {
   "cell_type": "code",
   "execution_count": 37,
   "id": "a2988538-0558-429c-9de4-41e6c36d5d7a",
   "metadata": {},
   "outputs": [
    {
     "data": {
      "text/plain": [
       "259"
      ]
     },
     "execution_count": 37,
     "metadata": {},
     "output_type": "execute_result"
    }
   ],
   "source": [
    "len(df['company'].unique())"
   ]
  },
  {
   "cell_type": "code",
   "execution_count": 38,
   "id": "c70bf5f0-f74f-4bf3-a277-cfc67d60c00a",
   "metadata": {},
   "outputs": [
    {
     "data": {
      "text/plain": [
       "company\n",
       "Crossover                249\n",
       "Gelato                    25\n",
       "Dubizzle Labs             20\n",
       "GfK - An NIQ Company      18\n",
       "Turing                    12\n",
       "                        ... \n",
       "Content Arcade             1\n",
       "Vyro                       1\n",
       "FetchSky                   1\n",
       "3reetech                   1\n",
       "the ENTERTAINER            1\n",
       "Name: count, Length: 259, dtype: int64"
      ]
     },
     "execution_count": 38,
     "metadata": {},
     "output_type": "execute_result"
    }
   ],
   "source": [
    "df['company'].value_counts()"
   ]
  },
  {
   "cell_type": "code",
   "execution_count": 39,
   "id": "31a59858-0bb5-47dc-8970-bb104588507e",
   "metadata": {},
   "outputs": [
    {
     "data": {
      "text/plain": [
       "company\n",
       "Crossover                                   249\n",
       "Gelato                                       25\n",
       "Dubizzle Labs                                20\n",
       "GfK - An NIQ Company                         18\n",
       "Turing                                       12\n",
       "Afiniti                                      11\n",
       "Contour Software                             10\n",
       "HR Ways - Hiring Tech Talent                  8\n",
       "Motive                                        7\n",
       "Zones IT Solutions                            7\n",
       "Careem                                        7\n",
       "ibex                                          7\n",
       "People (Professional Employers Pvt Ltd)       7\n",
       "TCP Software                                  6\n",
       "Nakisa                                        6\n",
       "CureMD                                        6\n",
       "VeriPark                                      6\n",
       "Bayut.com                                     5\n",
       "WallSoft Technologies                         5\n",
       "Creative Chaos                                5\n",
       "FORMULATRIX                                   5\n",
       "360 TECHNOLOGIES                              5\n",
       "i2c Inc.                                      4\n",
       "vFairs                                        4\n",
       "Melior ITS                                    4\n",
       "All European Careers                          4\n",
       "Avrioc Technologies                           3\n",
       "Bitnine Global Inc.                           3\n",
       "Xpert Direct                                  3\n",
       "WADIC                                         3\n",
       "FutureNow Technologies                        3\n",
       "S&P Global                                    3\n",
       "TEKenable Ltd                                 3\n",
       "Arrivy                                        2\n",
       "Kualitatem Inc.                               2\n",
       "Daraz                                         2\n",
       "InnoSTARK Technologies Pvt. Ltd.              2\n",
       "Pathfinder International                      2\n",
       "Lingopal                                      2\n",
       "Mentoga                                       2\n",
       "Name: count, dtype: int64"
      ]
     },
     "execution_count": 39,
     "metadata": {},
     "output_type": "execute_result"
    }
   ],
   "source": [
    "df['company'].value_counts()[:40]"
   ]
  },
  {
   "cell_type": "code",
   "execution_count": null,
   "id": "93a7b3af-da85-4105-982b-d021872f0f3b",
   "metadata": {},
   "outputs": [],
   "source": []
  },
  {
   "cell_type": "code",
   "execution_count": 40,
   "id": "38b28619-e719-4df7-aced-f3e481b2d900",
   "metadata": {},
   "outputs": [
    {
     "data": {
      "text/plain": [
       "0       Islamabad\n",
       "1          Lahore\n",
       "2       Islamabad\n",
       "3       Islamabad\n",
       "4      Faisalabad\n",
       "          ...    \n",
       "728        Lahore\n",
       "729        Lahore\n",
       "730        Lahore\n",
       "731       Karāchi\n",
       "732        Lahore\n",
       "Name: location_1, Length: 733, dtype: object"
      ]
     },
     "execution_count": 40,
     "metadata": {},
     "output_type": "execute_result"
    }
   ],
   "source": [
    "df['location_1']"
   ]
  },
  {
   "cell_type": "code",
   "execution_count": 41,
   "id": "e480b31e-d464-45b5-8ee8-4c666d2409ec",
   "metadata": {},
   "outputs": [
    {
     "data": {
      "text/plain": [
       "array(['Islamabad', 'Lahore', 'Faisalabad', 'Pakistan', 'Karāchi',\n",
       "       'Peshawar', 'Karachi', 'Rawalpindi', 'Vienna', 'Rakhni', 'New',\n",
       "       'Khyber', 'Hyderabad', 'APAC', 'Islāmābād', 'Punjab', 'South',\n",
       "       'APJ', 'Haroonabad', 'Sialkot', 'Multan', 'Pindi', 'Vehari',\n",
       "       'Rahim', 'India'], dtype=object)"
      ]
     },
     "execution_count": 41,
     "metadata": {},
     "output_type": "execute_result"
    }
   ],
   "source": [
    "df['location_1'].unique()"
   ]
  },
  {
   "cell_type": "code",
   "execution_count": 43,
   "id": "0e7b19cd-fed3-449e-82b2-c0810964bfdc",
   "metadata": {},
   "outputs": [
    {
     "data": {
      "text/plain": [
       "25"
      ]
     },
     "execution_count": 43,
     "metadata": {},
     "output_type": "execute_result"
    }
   ],
   "source": [
    "len(df['location_1'].unique()) # incorrect"
   ]
  },
  {
   "cell_type": "code",
   "execution_count": 45,
   "id": "9ed8dbca-e59c-4c18-9e00-edc2fd0cb13c",
   "metadata": {},
   "outputs": [
    {
     "data": {
      "text/plain": [
       "location_1\n",
       "Lahore        274\n",
       "Karāchi       134\n",
       "Islamabad     105\n",
       "Rawalpindi     51\n",
       "Pakistan       47\n",
       "Karachi        47\n",
       "Peshawar       17\n",
       "Islāmābād      14\n",
       "New            11\n",
       "Punjab          5\n",
       "Hyderabad       5\n",
       "Faisalabad      5\n",
       "APAC            3\n",
       "South           3\n",
       "Rakhni          2\n",
       "Khyber          1\n",
       "Vienna          1\n",
       "APJ             1\n",
       "Haroonabad      1\n",
       "Sialkot         1\n",
       "Multan          1\n",
       "Pindi           1\n",
       "Vehari          1\n",
       "Rahim           1\n",
       "India           1\n",
       "Name: count, dtype: int64"
      ]
     },
     "execution_count": 45,
     "metadata": {},
     "output_type": "execute_result"
    }
   ],
   "source": [
    "df['location_1'].value_counts()"
   ]
  },
  {
   "cell_type": "code",
   "execution_count": 47,
   "id": "713d11da-c2f8-46e8-91c6-249719c004b4",
   "metadata": {},
   "outputs": [
    {
     "data": {
      "text/plain": [
       "0       Hybrid\n",
       "1      On-site\n",
       "2      On-site\n",
       "3      On-site\n",
       "4      On-site\n",
       "        ...   \n",
       "728     Remote\n",
       "729     Remote\n",
       "730     Remote\n",
       "731     Remote\n",
       "732    On-site\n",
       "Name: Remote/Onsite, Length: 733, dtype: object"
      ]
     },
     "execution_count": 47,
     "metadata": {},
     "output_type": "execute_result"
    }
   ],
   "source": [
    "df['Remote/Onsite']"
   ]
  },
  {
   "cell_type": "code",
   "execution_count": 48,
   "id": "462aebd7-51ba-461e-b25b-5851009e8cce",
   "metadata": {},
   "outputs": [
    {
     "data": {
      "text/plain": [
       "array(['Hybrid', 'On-site', 'Not specified', 'Remote'], dtype=object)"
      ]
     },
     "execution_count": 48,
     "metadata": {},
     "output_type": "execute_result"
    }
   ],
   "source": [
    "df['Remote/Onsite'].unique()"
   ]
  },
  {
   "cell_type": "code",
   "execution_count": 49,
   "id": "ba4ca58d-1140-41db-b137-91aec34f8179",
   "metadata": {},
   "outputs": [
    {
     "data": {
      "text/plain": [
       "Remote/Onsite\n",
       "Remote           329\n",
       "On-site          310\n",
       "Hybrid            68\n",
       "Not specified     26\n",
       "Name: count, dtype: int64"
      ]
     },
     "execution_count": 49,
     "metadata": {},
     "output_type": "execute_result"
    }
   ],
   "source": [
    "df['Remote/Onsite'].value_counts()"
   ]
  },
  {
   "cell_type": "code",
   "execution_count": 50,
   "id": "9039c01d-5561-44a3-9de5-d9ed4ade923a",
   "metadata": {},
   "outputs": [
    {
     "data": {
      "text/plain": [
       "0      Full-time\n",
       "1      Full-time\n",
       "2      Full-time\n",
       "3      Full-time\n",
       "4      Full-time\n",
       "         ...    \n",
       "728    Full-time\n",
       "729    Full-time\n",
       "730    Full-time\n",
       "731    Full-time\n",
       "732    Full-time\n",
       "Name: Job-Type, Length: 733, dtype: object"
      ]
     },
     "execution_count": 50,
     "metadata": {},
     "output_type": "execute_result"
    }
   ],
   "source": [
    "df['Job-Type']"
   ]
  },
  {
   "cell_type": "code",
   "execution_count": 51,
   "id": "0fc75128-ca8b-4046-8de5-81aa03df35f0",
   "metadata": {},
   "outputs": [
    {
     "data": {
      "text/plain": [
       "array(['Full-time', 'Contract', 'Internship'], dtype=object)"
      ]
     },
     "execution_count": 51,
     "metadata": {},
     "output_type": "execute_result"
    }
   ],
   "source": [
    "df['Job-Type'].unique()"
   ]
  },
  {
   "cell_type": "code",
   "execution_count": 52,
   "id": "7ff3e190-836f-455e-91d0-5c76b79ff510",
   "metadata": {},
   "outputs": [
    {
     "data": {
      "text/plain": [
       "3"
      ]
     },
     "execution_count": 52,
     "metadata": {},
     "output_type": "execute_result"
    }
   ],
   "source": [
    "len(df['Job-Type'].unique())"
   ]
  },
  {
   "cell_type": "code",
   "execution_count": 55,
   "id": "94cbdad3-433c-428b-a2ea-5e66c95f714a",
   "metadata": {},
   "outputs": [
    {
     "data": {
      "text/plain": [
       "Job-Type\n",
       "Full-time     719\n",
       "Contract       12\n",
       "Internship      2\n",
       "Name: count, dtype: int64"
      ]
     },
     "execution_count": 55,
     "metadata": {},
     "output_type": "execute_result"
    }
   ],
   "source": [
    "df['Job-Type'].value_counts()"
   ]
  },
  {
   "cell_type": "markdown",
   "id": "e0ab2d60-2971-46c3-8784-5767a10ad7ff",
   "metadata": {},
   "source": [
    "***instead of 7 here are three***"
   ]
  },
  {
   "cell_type": "code",
   "execution_count": 56,
   "id": "99e93ca3-bb86-4c63-8adc-5e7fc1076ba5",
   "metadata": {},
   "outputs": [
    {
     "data": {
      "text/plain": [
       "0         Not specified\n",
       "1         Not specified\n",
       "2         Not specified\n",
       "3           Entry level\n",
       "4         Not specified\n",
       "             ...       \n",
       "728    Mid-Senior level\n",
       "729    Mid-Senior level\n",
       "730         Entry level\n",
       "731    Mid-Senior level\n",
       "732    Mid-Senior level\n",
       "Name: Experience Level, Length: 733, dtype: object"
      ]
     },
     "execution_count": 56,
     "metadata": {},
     "output_type": "execute_result"
    }
   ],
   "source": [
    "df['Experience Level']"
   ]
  },
  {
   "cell_type": "code",
   "execution_count": 57,
   "id": "a279f31c-f97f-42c3-812c-d0d3d39f87e0",
   "metadata": {},
   "outputs": [
    {
     "data": {
      "text/plain": [
       "array(['Not specified', 'Entry level', 'Mid-Senior level', 'Associate',\n",
       "       'Director', 'Executive', 'Internship'], dtype=object)"
      ]
     },
     "execution_count": 57,
     "metadata": {},
     "output_type": "execute_result"
    }
   ],
   "source": [
    "df['Experience Level'].unique()"
   ]
  },
  {
   "cell_type": "code",
   "execution_count": 58,
   "id": "81446622-5b87-4783-9cc0-4177aab194ac",
   "metadata": {},
   "outputs": [
    {
     "data": {
      "text/plain": [
       "7"
      ]
     },
     "execution_count": 58,
     "metadata": {},
     "output_type": "execute_result"
    }
   ],
   "source": [
    "len(df['Experience Level'].unique())"
   ]
  },
  {
   "cell_type": "code",
   "execution_count": 61,
   "id": "9f8e541c-c27c-42a7-98c3-9697ca2cd3c3",
   "metadata": {},
   "outputs": [
    {
     "data": {
      "text/plain": [
       "Experience Level\n",
       "Mid-Senior level    340\n",
       "Not specified       245\n",
       "Entry level          70\n",
       "Associate            43\n",
       "Director             18\n",
       "Executive            14\n",
       "Internship            3\n",
       "Name: count, dtype: int64"
      ]
     },
     "execution_count": 61,
     "metadata": {},
     "output_type": "execute_result"
    }
   ],
   "source": [
    "df['Experience Level'].value_counts()"
   ]
  },
  {
   "cell_type": "code",
   "execution_count": 62,
   "id": "555b0a1f-eed1-48a5-9a8f-ae7e527c00de",
   "metadata": {},
   "outputs": [
    {
     "data": {
      "text/plain": [
       "0             51-200 employees\n",
       "1        1,001-5,000 employees\n",
       "2             51-200 employees\n",
       "3           10,001+ employees \n",
       "4             51-200 employees\n",
       "                ...           \n",
       "728    5,001-10,000 employees \n",
       "729    5,001-10,000 employees \n",
       "730           11-50 employees \n",
       "731    5,001-10,000 employees \n",
       "732         201-500 employees \n",
       "Name: Comp_N_Employees, Length: 733, dtype: object"
      ]
     },
     "execution_count": 62,
     "metadata": {},
     "output_type": "execute_result"
    }
   ],
   "source": [
    "df['Comp_N_Employees']"
   ]
  },
  {
   "cell_type": "code",
   "execution_count": 63,
   "id": "878cac99-77ad-4bdc-a01e-1ac0efbc09d9",
   "metadata": {},
   "outputs": [
    {
     "data": {
      "text/plain": [
       "array(['51-200 employees', '1,001-5,000 employees', '10,001+ employees ',\n",
       "       '1,001-5,000 employees ', '201-500 employees',\n",
       "       '5,001-10,000 employees', '51-200 employees ', '11-50 employees',\n",
       "       '5,001-10,000 employees ', '501-1,000 employees ',\n",
       "       '1-10 employees', '501-1,000 employees', 'Not specified',\n",
       "       '201-500 employees ', '11-50 employees ', '1-10 employees '],\n",
       "      dtype=object)"
      ]
     },
     "execution_count": 63,
     "metadata": {},
     "output_type": "execute_result"
    }
   ],
   "source": [
    "df['Comp_N_Employees'].unique()"
   ]
  },
  {
   "cell_type": "code",
   "execution_count": 65,
   "id": "d7411102-7883-46d1-a377-4c70f5441227",
   "metadata": {},
   "outputs": [
    {
     "data": {
      "text/plain": [
       "16"
      ]
     },
     "execution_count": 65,
     "metadata": {},
     "output_type": "execute_result"
    }
   ],
   "source": [
    "len(df['Comp_N_Employees'].unique())"
   ]
  },
  {
   "cell_type": "code",
   "execution_count": 64,
   "id": "cd210d93-bf3c-4782-8e0f-40fd3a9b92bb",
   "metadata": {},
   "outputs": [
    {
     "data": {
      "text/plain": [
       "Comp_N_Employees\n",
       "5,001-10,000 employees     271\n",
       "11-50 employees             88\n",
       "201-500 employees           82\n",
       "1,001-5,000 employees       72\n",
       "51-200 employees            68\n",
       "51-200 employees            23\n",
       "501-1,000 employees         23\n",
       "1-10 employees              22\n",
       "201-500 employees           17\n",
       "11-50 employees             16\n",
       "10,001+ employees           15\n",
       "1,001-5,000 employees       11\n",
       "Not specified               11\n",
       "501-1,000 employees          7\n",
       "5,001-10,000 employees       6\n",
       "1-10 employees               1\n",
       "Name: count, dtype: int64"
      ]
     },
     "execution_count": 64,
     "metadata": {},
     "output_type": "execute_result"
    }
   ],
   "source": [
    "df['Comp_N_Employees'].value_counts()"
   ]
  },
  {
   "cell_type": "code",
   "execution_count": 66,
   "id": "63c298dc-6867-46ad-80af-be1128469d06",
   "metadata": {},
   "outputs": [
    {
     "data": {
      "text/plain": [
       "0                       Not specified\n",
       "1                       Not specified\n",
       "2                       Not specified\n",
       "3                  Telecommunications\n",
       "4                       Not specified\n",
       "                    ...              \n",
       "728     IT Services and IT Consulting\n",
       "729     IT Services and IT Consulting\n",
       "730      Online Audio and Video Media\n",
       "731     IT Services and IT Consulting\n",
       "732              Software Development\n",
       "Name: Comp_Industry, Length: 733, dtype: object"
      ]
     },
     "execution_count": 66,
     "metadata": {},
     "output_type": "execute_result"
    }
   ],
   "source": [
    "df['Comp_Industry']"
   ]
  },
  {
   "cell_type": "code",
   "execution_count": 67,
   "id": "ea0191a7-3553-4386-88a0-6797d38fcbac",
   "metadata": {},
   "outputs": [
    {
     "data": {
      "text/plain": [
       "array(['Not specified', ' Telecommunications', ' Software Development',\n",
       "       ' Entertainment Providers', ' IT Services and IT Consulting',\n",
       "       ' Outsourcing/Offshoring', ' Internet Marketplace Platforms',\n",
       "       ' Staffing and Recruiting',\n",
       "       ' Technology, Information and Internet', ' Financial Services',\n",
       "       ' Information Technology & Services', ' Human Resources Services',\n",
       "       ' IT System Custom Software Development',\n",
       "       ' Outsourcing and Offshoring Consulting', ' Retail',\n",
       "       ' Real Estate',\n",
       "       ' Transportation, Logistics, Supply Chain and Storage',\n",
       "       ' Biotechnology Research', ' Translation and Localization',\n",
       "       ' Hospitals and Health Care', ' Leisure, Travel & Tourism',\n",
       "       ' Advertising Services', ' Manufacturing', ' Internet Publishing',\n",
       "       ' Pharmaceutical Manufacturing', ' Non-profit Organizations',\n",
       "       ' Online Audio and Video Media'], dtype=object)"
      ]
     },
     "execution_count": 67,
     "metadata": {},
     "output_type": "execute_result"
    }
   ],
   "source": [
    "df['Comp_Industry'].unique()"
   ]
  },
  {
   "cell_type": "code",
   "execution_count": 68,
   "id": "b031afeb-0017-4b2f-bfff-268de5512a9e",
   "metadata": {},
   "outputs": [
    {
     "data": {
      "text/plain": [
       "27"
      ]
     },
     "execution_count": 68,
     "metadata": {},
     "output_type": "execute_result"
    }
   ],
   "source": [
    "len(df['Comp_Industry'].unique())"
   ]
  },
  {
   "cell_type": "code",
   "execution_count": 69,
   "id": "abf60848-0e85-409a-98e8-148a084766e2",
   "metadata": {},
   "outputs": [
    {
     "data": {
      "text/plain": [
       "Comp_Industry\n",
       " IT Services and IT Consulting                          349\n",
       "Not specified                                           230\n",
       " Software Development                                    60\n",
       " Internet Marketplace Platforms                          25\n",
       " Technology, Information and Internet                     8\n",
       " Outsourcing/Offshoring                                   7\n",
       " Financial Services                                       7\n",
       " Staffing and Recruiting                                  6\n",
       " Biotechnology Research                                   5\n",
       " Real Estate                                              5\n",
       " Telecommunications                                       4\n",
       " Information Technology & Services                        4\n",
       " IT System Custom Software Development                    3\n",
       " Human Resources Services                                 3\n",
       " Transportation, Logistics, Supply Chain and Storage      2\n",
       " Non-profit Organizations                                 2\n",
       " Hospitals and Health Care                                2\n",
       " Leisure, Travel & Tourism                                2\n",
       " Pharmaceutical Manufacturing                             1\n",
       " Manufacturing                                            1\n",
       " Internet Publishing                                      1\n",
       " Outsourcing and Offshoring Consulting                    1\n",
       " Advertising Services                                     1\n",
       " Translation and Localization                             1\n",
       " Retail                                                   1\n",
       " Entertainment Providers                                  1\n",
       " Online Audio and Video Media                             1\n",
       "Name: count, dtype: int64"
      ]
     },
     "execution_count": 69,
     "metadata": {},
     "output_type": "execute_result"
    }
   ],
   "source": [
    "df['Comp_Industry'].value_counts()"
   ]
  },
  {
   "cell_type": "code",
   "execution_count": 104,
   "id": "d0c79dd7-2344-4d59-ac09-23653f9d654a",
   "metadata": {},
   "outputs": [
    {
     "data": {
      "text/plain": [
       "Index(['Job Title', 'Job Info', 'Job Type', 'Job Link', 'employees', 'Job ID',\n",
       "       'company', 'location', 'Remote/Onsite', 'n_applicant',\n",
       "       'job posting time', 'Job Type nElements', 'Job-Type',\n",
       "       'Experience Level', 'Comp_N_Employees', 'Comp_Industry'],\n",
       "      dtype='object')"
      ]
     },
     "execution_count": 104,
     "metadata": {},
     "output_type": "execute_result"
    }
   ],
   "source": [
    "df.columns"
   ]
  },
  {
   "cell_type": "code",
   "execution_count": null,
   "id": "7bba056a-6c07-4eb4-afd6-b6a99a3041d4",
   "metadata": {},
   "outputs": [],
   "source": []
  },
  {
   "cell_type": "code",
   "execution_count": null,
   "id": "d04f4496-d4cb-462d-87cd-27f6b52fd5c7",
   "metadata": {},
   "outputs": [],
   "source": []
  },
  {
   "cell_type": "code",
   "execution_count": null,
   "id": "19f93b86-7f34-4aef-8f17-ac2fa0f8b54c",
   "metadata": {},
   "outputs": [],
   "source": []
  },
  {
   "cell_type": "code",
   "execution_count": null,
   "id": "58120e8b-425f-4c7b-819a-26e2d0d73b0e",
   "metadata": {},
   "outputs": [],
   "source": []
  },
  {
   "cell_type": "code",
   "execution_count": null,
   "id": "3fd74c36-2ca3-4872-92df-a7396cc02de5",
   "metadata": {},
   "outputs": [],
   "source": []
  },
  {
   "cell_type": "code",
   "execution_count": null,
   "id": "8fcdb03d-9dbc-4f29-812e-fda8f0e0d956",
   "metadata": {},
   "outputs": [],
   "source": []
  },
  {
   "cell_type": "code",
   "execution_count": null,
   "id": "ed76917d-1eca-4482-a67f-53764d0f03ff",
   "metadata": {},
   "outputs": [],
   "source": []
  },
  {
   "cell_type": "code",
   "execution_count": null,
   "id": "8258a3c1-39bf-4764-9d7b-62bb2ba0a591",
   "metadata": {},
   "outputs": [],
   "source": []
  },
  {
   "cell_type": "code",
   "execution_count": null,
   "id": "dad55154-4020-4f7e-bf37-fb7d7a560ed5",
   "metadata": {},
   "outputs": [],
   "source": []
  },
  {
   "cell_type": "code",
   "execution_count": null,
   "id": "61ce73bb-8531-4867-bc43-cf052c27f9d5",
   "metadata": {},
   "outputs": [],
   "source": []
  },
  {
   "cell_type": "code",
   "execution_count": null,
   "id": "1109e37f-963d-4d37-b91e-6f6bd2dc8511",
   "metadata": {},
   "outputs": [],
   "source": []
  },
  {
   "cell_type": "code",
   "execution_count": null,
   "id": "4e0e6d62-f204-4c2d-9eec-29da7864bbc9",
   "metadata": {},
   "outputs": [],
   "source": []
  },
  {
   "cell_type": "code",
   "execution_count": null,
   "id": "4bac98e1-c2d5-4ad0-873c-db04816894e2",
   "metadata": {},
   "outputs": [],
   "source": []
  },
  {
   "cell_type": "code",
   "execution_count": null,
   "id": "6fbe5b79-e9aa-4efc-8911-51a5a9b94ca9",
   "metadata": {},
   "outputs": [],
   "source": []
  },
  {
   "cell_type": "code",
   "execution_count": null,
   "id": "4b1a59d9-e429-4001-9cd1-c385a5bb7430",
   "metadata": {},
   "outputs": [],
   "source": []
  },
  {
   "cell_type": "code",
   "execution_count": null,
   "id": "0163cfef-8131-460d-aab3-56f9b2d1df89",
   "metadata": {},
   "outputs": [],
   "source": []
  },
  {
   "cell_type": "markdown",
   "id": "9b188a5d-7285-475f-9f02-5f8cbd073cd6",
   "metadata": {},
   "source": [
    "### saving File"
   ]
  },
  {
   "cell_type": "code",
   "execution_count": 105,
   "id": "8714847c-9eee-42bd-af41-d8858ef6954e",
   "metadata": {},
   "outputs": [
    {
     "data": {
      "text/plain": [
       "11737"
      ]
     },
     "execution_count": 105,
     "metadata": {},
     "output_type": "execute_result"
    }
   ],
   "source": [
    "len(df)"
   ]
  },
  {
   "cell_type": "code",
   "execution_count": 106,
   "id": "b037624a-1ce9-49f2-a9f2-13d65bd17784",
   "metadata": {},
   "outputs": [
    {
     "data": {
      "text/plain": [
       "16"
      ]
     },
     "execution_count": 106,
     "metadata": {},
     "output_type": "execute_result"
    }
   ],
   "source": [
    "len(df.columns)"
   ]
  },
  {
   "cell_type": "code",
   "execution_count": 107,
   "id": "e051081c-191e-4355-8f87-b6348e05fece",
   "metadata": {},
   "outputs": [],
   "source": [
    "folder_name='Feature Eng processed Files/'"
   ]
  },
  {
   "cell_type": "code",
   "execution_count": 108,
   "id": "7b48608b-340e-4005-a782-b8448ee3d9a2",
   "metadata": {},
   "outputs": [
    {
     "data": {
      "text/plain": [
       "'Linkedin_Job_Details_26-Sep-2023-to-26-Nov-2023_11737-jobs_16-features_685-pages_Feature-Eng-processed_v4.csv'"
      ]
     },
     "execution_count": 108,
     "metadata": {},
     "output_type": "execute_result"
    }
   ],
   "source": [
    "File_name=path.split('/')[-1].split('2023_')[0]+'2023_'+f'{len(df)}-jobs_{len(df.columns)}-features_685-pages_Feature-Eng-processed_v4.csv'\n",
    "File_name"
   ]
  },
  {
   "cell_type": "code",
   "execution_count": 109,
   "id": "599599f1-0891-4cda-8697-892dc8f75cb7",
   "metadata": {},
   "outputs": [],
   "source": [
    "saving_path=folder_name+File_name"
   ]
  },
  {
   "cell_type": "code",
   "execution_count": 110,
   "id": "3cd62070-42c9-4db8-98bd-df9790ad100c",
   "metadata": {},
   "outputs": [],
   "source": [
    "# df.to_csv(saving_path,index=False)"
   ]
  }
 ],
 "metadata": {
  "kernelspec": {
   "display_name": "Python 3 (ipykernel)",
   "language": "python",
   "name": "python3"
  },
  "language_info": {
   "codemirror_mode": {
    "name": "ipython",
    "version": 3
   },
   "file_extension": ".py",
   "mimetype": "text/x-python",
   "name": "python",
   "nbconvert_exporter": "python",
   "pygments_lexer": "ipython3",
   "version": "3.11.4"
  }
 },
 "nbformat": 4,
 "nbformat_minor": 5
}
